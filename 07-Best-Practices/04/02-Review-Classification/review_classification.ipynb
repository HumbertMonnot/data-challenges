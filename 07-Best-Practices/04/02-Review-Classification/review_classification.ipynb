{
 "cells": [
  {
   "cell_type": "markdown",
   "metadata": {},
   "source": [
    "# Review Classification"
   ]
  },
  {
   "cell_type": "code",
   "execution_count": 1,
   "metadata": {},
   "outputs": [],
   "source": [
    "#librairies\n",
    "\n",
    "import pandas as pd\n",
    "import numpy as np\n",
    "import seaborn as sns"
   ]
  },
  {
   "cell_type": "code",
   "execution_count": 2,
   "metadata": {},
   "outputs": [],
   "source": [
    "#load data \n",
    "\n",
    "from olist.data import Olist\n",
    "from olist.order import Order\n",
    "from olist.utils import *\n",
    "data = Olist().get_data()\n",
    "orders = Order().get_training_data()"
   ]
  },
  {
   "cell_type": "markdown",
   "metadata": {},
   "source": [
    "## Baseline"
   ]
  },
  {
   "cell_type": "markdown",
   "metadata": {},
   "source": [
    "- Define a new column `dim_is_low_review` (defined as reviews with 1 or 2 stars) in the order training dataset\n",
    "- What's the probability of getting a low order review?\n",
    "- Plot side by side distribution plot for each variable contained in `orders` object. What do you observe?"
   ]
  },
  {
   "cell_type": "markdown",
   "metadata": {},
   "source": [
    "## First Model"
   ]
  },
  {
   "cell_type": "markdown",
   "metadata": {},
   "source": [
    "We now want to build a classification model to predict whether an order is low review or not.\n",
    "\n",
    "- Load `orders` training data and split it with a 30% test size in `X_train`, `X_test`, `y_train`, `y_test` and `random_state = 42` so we can compare our results\n",
    "\n",
    "- Train a classification model with the algorithm of your choice. Evaluate the performance of your model with the following metrics:\n",
    "\n",
    "  - `confusion_matrix`\n",
    "  - `accuracy_score`\n",
    "  - `recall_score`\n",
    "  \n",
    "- Make sure you remove all features that would cause data leaks (review_score, wait_time, etc...)"
   ]
  },
  {
   "cell_type": "markdown",
   "metadata": {},
   "source": [
    "## More features"
   ]
  },
  {
   "cell_type": "markdown",
   "metadata": {},
   "source": [
    "**Open file `olist/reviews.py`, add the method `get_training_data`**\n",
    "\n",
    "It should return the following features available from `olist_order_reviews_dataset`.\n",
    "\n",
    "    - `review_id` (_str_) _the id of the review_\n",
    "    - `order_id` (_str_) _the id of the order_\n",
    "    - `review_comment_length` (_int_) _string length of review comment_\n",
    "    - `product_category` (_str_) _name of the main category for that review. Main category is defined as the most expensive category in the order_."
   ]
  },
  {
   "cell_type": "code",
   "execution_count": null,
   "metadata": {},
   "outputs": [],
   "source": []
  },
  {
   "cell_type": "markdown",
   "metadata": {},
   "source": [
    "**Back to your notebook `04_02_review_classification.ipynb`**\n",
    "\n",
    "Let's add more features to our model.\n",
    "\n",
    "- Plot a distribution of `review_comment_length` per `review_score`. What do you observe?\n",
    "\n",
    "- Fit `model_2`, the same model you used previously, but trained on a training set with those additional features. How much `accuracy` and `recall` do you gain?"
   ]
  },
  {
   "cell_type": "code",
   "execution_count": null,
   "metadata": {},
   "outputs": [],
   "source": [
    "# import your newly coded review training_set\n",
    "from olist.review import Review\n",
    "reviews = Review().get_training_data()"
   ]
  },
  {
   "cell_type": "markdown",
   "metadata": {},
   "source": [
    "## Auto ML"
   ]
  },
  {
   "cell_type": "markdown",
   "metadata": {},
   "source": [
    "Using the library [Tpot](http://epistasislab.github.io/tpot/), find the best model to optimize `wait_time`. What is the best `mean_square_error` you can achieve?\n",
    "\n",
    "Make sure you are able to recreate and manipulate the model Tpot suggests you to use. After few minutes of training with Tpot, you should always get a higher score than your linear regression above."
   ]
  },
  {
   "cell_type": "code",
   "execution_count": null,
   "metadata": {},
   "outputs": [],
   "source": []
  }
 ],
 "metadata": {
  "kernelspec": {
   "display_name": "Python 3",
   "language": "python",
   "name": "python3"
  },
  "language_info": {
   "codemirror_mode": {
    "name": "ipython",
    "version": 3
   },
   "file_extension": ".py",
   "mimetype": "text/x-python",
   "name": "python",
   "nbconvert_exporter": "python",
   "pygments_lexer": "ipython3",
   "version": "3.7.0"
  },
  "toc": {
   "base_numbering": 1,
   "nav_menu": {},
   "number_sections": false,
   "sideBar": true,
   "skip_h1_title": false,
   "title_cell": "Table of Contents",
   "title_sidebar": "Contents",
   "toc_cell": false,
   "toc_position": {},
   "toc_section_display": true,
   "toc_window_display": true
  }
 },
 "nbformat": 4,
 "nbformat_minor": 2
}
