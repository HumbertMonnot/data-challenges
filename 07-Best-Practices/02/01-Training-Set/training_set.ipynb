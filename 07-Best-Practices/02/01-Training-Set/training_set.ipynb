{
 "cells": [
  {
   "cell_type": "markdown",
   "metadata": {},
   "source": [
    "## Training Set"
   ]
  },
  {
   "cell_type": "code",
   "execution_count": 117,
   "metadata": {},
   "outputs": [],
   "source": [
    "#import modules\n",
    "import pandas as pd\n",
    "import numpy as np\n",
    "import seaborn as sns"
   ]
  },
  {
   "cell_type": "code",
   "execution_count": 12,
   "metadata": {},
   "outputs": [],
   "source": [
    "#import data \n",
    "from olist.data import Olist\n",
    "olist=Olist()\n",
    "data=olist.get_data()\n",
    "matching_table=olist.get_matching_table()"
   ]
  },
  {
   "cell_type": "markdown",
   "metadata": {},
   "source": [
    "### Distance between seller and customer "
   ]
  },
  {
   "cell_type": "code",
   "execution_count": 125,
   "metadata": {},
   "outputs": [],
   "source": [
    "# Since one zipcode can map to multiple [lat, lng], we take the first one\n",
    "geo = data['olist_geolocation_dataset']\n",
    "geo = geo.groupby('geolocation_zip_code_prefix', as_index=False).first()"
   ]
  },
  {
   "cell_type": "code",
   "execution_count": 127,
   "metadata": {},
   "outputs": [],
   "source": [
    "#filter sellers and customers \n",
    "sellers = data['olist_sellers_dataset']\n",
    "customers = data['olist_customers_dataset']"
   ]
  },
  {
   "cell_type": "code",
   "execution_count": 137,
   "metadata": {},
   "outputs": [],
   "source": [
    "#merge geo_location for sellers\n",
    "sellers_mask_columns = ['seller_id', 'seller_zip_code_prefix', 'seller_city', \n",
    "                        'seller_state', 'geolocation_lat', 'geolocation_lng']\n",
    "sellers_geo = sellers.merge(geo,\n",
    "                            how='left',\n",
    "                            left_on='seller_zip_code_prefix',\n",
    "                            right_on='geolocation_zip_code_prefix')[sellers_mask_columns]"
   ]
  },
  {
   "cell_type": "code",
   "execution_count": 138,
   "metadata": {},
   "outputs": [],
   "source": [
    "#merge geo_location for customers\n",
    "customers_mask_columns = ['customer_id', 'customer_zip_code_prefix', 'customer_city', \n",
    "                          'customer_state', 'geolocation_lat', 'geolocation_lng']\n",
    "customers_geo = customers.merge(geo,\n",
    "                            how='left',\n",
    "                            left_on='customer_zip_code_prefix',\n",
    "                            right_on='geolocation_zip_code_prefix')[customers_mask_columns]"
   ]
  },
  {
   "cell_type": "code",
   "execution_count": 145,
   "metadata": {},
   "outputs": [],
   "source": [
    "#use the matching table and merge customers \n",
    "matching_geo = matching_table.merge(sellers_geo, \n",
    "                                    on='seller_id').merge(customers_geo, \n",
    "                                                          on='customer_id',\n",
    "                                                          suffixes=('_seller', '_customer'))"
   ]
  },
  {
   "cell_type": "code",
   "execution_count": 141,
   "metadata": {},
   "outputs": [
    {
     "data": {
      "text/plain": [
       "(112650, 15)"
      ]
     },
     "execution_count": 141,
     "metadata": {},
     "output_type": "execute_result"
    }
   ],
   "source": [
    "#check that shape is correct\n",
    "matching_geo.shape"
   ]
  },
  {
   "cell_type": "code",
   "execution_count": 160,
   "metadata": {},
   "outputs": [
    {
     "name": "stdout",
     "output_type": "stream",
     "text": [
      "<class 'pandas.core.frame.DataFrame'>\n",
      "Int64Index: 112650 entries, 0 to 112649\n",
      "Data columns (total 15 columns):\n",
      "customer_id                 112650 non-null object\n",
      "customer_unique_id          112650 non-null object\n",
      "order_id                    112650 non-null object\n",
      "product_id                  112650 non-null object\n",
      "seller_id                   112650 non-null object\n",
      "seller_zip_code_prefix      112650 non-null int64\n",
      "seller_city                 112650 non-null object\n",
      "seller_state                112650 non-null object\n",
      "geolocation_lat_seller      112397 non-null float64\n",
      "geolocation_lng_seller      112397 non-null float64\n",
      "customer_zip_code_prefix    112650 non-null int64\n",
      "customer_city               112650 non-null object\n",
      "customer_state              112650 non-null object\n",
      "geolocation_lat_customer    112348 non-null float64\n",
      "geolocation_lng_customer    112348 non-null float64\n",
      "dtypes: float64(4), int64(2), object(9)\n",
      "memory usage: 13.8+ MB\n"
     ]
    }
   ],
   "source": [
    "#any na? \n",
    "matching_geo.info()"
   ]
  },
  {
   "cell_type": "markdown",
   "metadata": {},
   "source": [
    "We find that some rows for geo_seller and geo_customer are nulls. Let's remove them with dropna()"
   ]
  },
  {
   "cell_type": "code",
   "execution_count": 163,
   "metadata": {},
   "outputs": [],
   "source": [
    "#remove na()\n",
    "matching_geo = matching_geo.dropna()"
   ]
  },
  {
   "cell_type": "code",
   "execution_count": 113,
   "metadata": {},
   "outputs": [],
   "source": [
    "# Compute distance between seller and customer (https://en.wikipedia.org/wiki/Haversine_formula)\n",
    "from math import radians, sin, cos, asin, sqrt\n",
    "\n",
    "def haversine(lon1, lat1, lon2, lat2):\n",
    "    lon1, lat1, lon2, lat2 = map(radians, [lon1, lat1, lon2, lat2])\n",
    "    dlon = lon2 - lon1\n",
    "    dlat = lat2 - lat1\n",
    "    a = sin(dlat / 2) ** 2 + cos(lat1) * cos(lat2) * sin(dlon / 2) ** 2\n",
    "    return 2 * 6371 * asin(sqrt(a))"
   ]
  },
  {
   "cell_type": "code",
   "execution_count": null,
   "metadata": {},
   "outputs": [],
   "source": [
    "matching_geo['distance_seller_customer'] = matching_geo.apply(lambda x: haversine(x['geolocation_lng_seller'], x['geolocation_lat_seller'],\n",
    "                                                                                  x['geolocation_lng_customer'], x['geolocation_lat_customer']), axis=1)"
   ]
  },
  {
   "cell_type": "code",
   "execution_count": 171,
   "metadata": {},
   "outputs": [
    {
     "data": {
      "text/html": [
       "<div>\n",
       "<style scoped>\n",
       "    .dataframe tbody tr th:only-of-type {\n",
       "        vertical-align: middle;\n",
       "    }\n",
       "\n",
       "    .dataframe tbody tr th {\n",
       "        vertical-align: top;\n",
       "    }\n",
       "\n",
       "    .dataframe thead th {\n",
       "        text-align: right;\n",
       "    }\n",
       "</style>\n",
       "<table border=\"1\" class=\"dataframe\">\n",
       "  <thead>\n",
       "    <tr style=\"text-align: right;\">\n",
       "      <th></th>\n",
       "      <th>seller_city</th>\n",
       "      <th>customer_city</th>\n",
       "      <th>distance_seller_customer</th>\n",
       "    </tr>\n",
       "  </thead>\n",
       "  <tbody>\n",
       "    <tr>\n",
       "      <th>72049</th>\n",
       "      <td>sao paulo</td>\n",
       "      <td>indaiatuba</td>\n",
       "      <td>77.409063</td>\n",
       "    </tr>\n",
       "    <tr>\n",
       "      <th>12658</th>\n",
       "      <td>ibitinga</td>\n",
       "      <td>guarapuava</td>\n",
       "      <td>487.551740</td>\n",
       "    </tr>\n",
       "    <tr>\n",
       "      <th>64171</th>\n",
       "      <td>cotia</td>\n",
       "      <td>franca</td>\n",
       "      <td>343.625155</td>\n",
       "    </tr>\n",
       "  </tbody>\n",
       "</table>\n",
       "</div>"
      ],
      "text/plain": [
       "      seller_city customer_city  distance_seller_customer\n",
       "72049   sao paulo    indaiatuba                 77.409063\n",
       "12658    ibitinga    guarapuava                487.551740\n",
       "64171       cotia        franca                343.625155"
      ]
     },
     "execution_count": 171,
     "metadata": {},
     "output_type": "execute_result"
    }
   ],
   "source": [
    "#Check that distance is roughly accurate in sampling 3 cases\n",
    "matching_geo.sample(3)[['seller_city', \n",
    "                        'customer_city', \n",
    "                        'distance_seller_customer']]"
   ]
  },
  {
   "cell_type": "code",
   "execution_count": 176,
   "metadata": {},
   "outputs": [
    {
     "data": {
      "text/plain": [
       "<matplotlib.axes._subplots.AxesSubplot at 0x13dba87b8>"
      ]
     },
     "execution_count": 176,
     "metadata": {},
     "output_type": "execute_result"
    },
    {
     "data": {
      "image/png": "[encoded data removed]",
      "text/plain": [
       "<Figure size 432x288 with 1 Axes>"
      ]
     },
     "metadata": {
      "needs_background": "light"
     },
     "output_type": "display_data"
    }
   ],
   "source": [
    "#A quick distribution plot for the road!\n",
    "sns.distplot(matching_geo['distance_seller_customer'])"
   ]
  },
  {
   "cell_type": "code",
   "execution_count": 177,
   "metadata": {
    "scrolled": true
   },
   "outputs": [
    {
     "data": {
      "text/plain": [
       "count    112096.000000\n",
       "mean        597.187869\n",
       "std         591.697498\n",
       "min           0.000000\n",
       "25%         183.303848\n",
       "50%         431.753988\n",
       "75%         792.109213\n",
       "max        8736.947618\n",
       "Name: distance_seller_customer, dtype: float64"
      ]
     },
     "execution_count": 177,
     "metadata": {},
     "output_type": "execute_result"
    }
   ],
   "source": [
    "# Compute median distance\n",
    "matching_geo['distance_seller_customer'].describe()"
   ]
  },
  {
   "cell_type": "code",
   "execution_count": 180,
   "metadata": {},
   "outputs": [
    {
     "data": {
      "text/html": [
       "<div>\n",
       "<style scoped>\n",
       "    .dataframe tbody tr th:only-of-type {\n",
       "        vertical-align: middle;\n",
       "    }\n",
       "\n",
       "    .dataframe tbody tr th {\n",
       "        vertical-align: top;\n",
       "    }\n",
       "\n",
       "    .dataframe thead th {\n",
       "        text-align: right;\n",
       "    }\n",
       "</style>\n",
       "<table border=\"1\" class=\"dataframe\">\n",
       "  <thead>\n",
       "    <tr style=\"text-align: right;\">\n",
       "      <th></th>\n",
       "      <th>order_id</th>\n",
       "      <th>distance_seller_customer</th>\n",
       "    </tr>\n",
       "  </thead>\n",
       "  <tbody>\n",
       "    <tr>\n",
       "      <th>0</th>\n",
       "      <td>00010242fe8c5a6d1ba2dd792cb16214</td>\n",
       "      <td>301.005664</td>\n",
       "    </tr>\n",
       "    <tr>\n",
       "      <th>1</th>\n",
       "      <td>00018f77f2f0320c557190d7a144bdd3</td>\n",
       "      <td>589.274140</td>\n",
       "    </tr>\n",
       "    <tr>\n",
       "      <th>2</th>\n",
       "      <td>000229ec398224ef6ca0657da4fc703e</td>\n",
       "      <td>312.495046</td>\n",
       "    </tr>\n",
       "    <tr>\n",
       "      <th>3</th>\n",
       "      <td>00024acbcdf0a6daa1e931b038114c75</td>\n",
       "      <td>301.951753</td>\n",
       "    </tr>\n",
       "    <tr>\n",
       "      <th>4</th>\n",
       "      <td>00042b26cf59d7ce69dfabb4e55b4fd9</td>\n",
       "      <td>646.221788</td>\n",
       "    </tr>\n",
       "    <tr>\n",
       "      <th>...</th>\n",
       "      <td>...</td>\n",
       "      <td>...</td>\n",
       "    </tr>\n",
       "    <tr>\n",
       "      <th>98172</th>\n",
       "      <td>fffc94f6ce00a00581880bf54a75a037</td>\n",
       "      <td>2755.314485</td>\n",
       "    </tr>\n",
       "    <tr>\n",
       "      <th>98173</th>\n",
       "      <td>fffcd46ef2263f404302a634eb57f7eb</td>\n",
       "      <td>354.848852</td>\n",
       "    </tr>\n",
       "    <tr>\n",
       "      <th>98174</th>\n",
       "      <td>fffce4705a9662cd70adb13d4a31832d</td>\n",
       "      <td>338.827218</td>\n",
       "    </tr>\n",
       "    <tr>\n",
       "      <th>98175</th>\n",
       "      <td>fffe18544ffabc95dfada21779c9644f</td>\n",
       "      <td>72.870476</td>\n",
       "    </tr>\n",
       "    <tr>\n",
       "      <th>98176</th>\n",
       "      <td>fffe41c64501cc87c801fd61db3f6244</td>\n",
       "      <td>133.230980</td>\n",
       "    </tr>\n",
       "  </tbody>\n",
       "</table>\n",
       "<p>98177 rows × 2 columns</p>\n",
       "</div>"
      ],
      "text/plain": [
       "                               order_id  distance_seller_customer\n",
       "0      00010242fe8c5a6d1ba2dd792cb16214                301.005664\n",
       "1      00018f77f2f0320c557190d7a144bdd3                589.274140\n",
       "2      000229ec398224ef6ca0657da4fc703e                312.495046\n",
       "3      00024acbcdf0a6daa1e931b038114c75                301.951753\n",
       "4      00042b26cf59d7ce69dfabb4e55b4fd9                646.221788\n",
       "...                                 ...                       ...\n",
       "98172  fffc94f6ce00a00581880bf54a75a037               2755.314485\n",
       "98173  fffcd46ef2263f404302a634eb57f7eb                354.848852\n",
       "98174  fffce4705a9662cd70adb13d4a31832d                338.827218\n",
       "98175  fffe18544ffabc95dfada21779c9644f                 72.870476\n",
       "98176  fffe41c64501cc87c801fd61db3f6244                133.230980\n",
       "\n",
       "[98177 rows x 2 columns]"
      ]
     },
     "execution_count": 180,
     "metadata": {},
     "output_type": "execute_result"
    }
   ],
   "source": [
    "#Since an order can have multiple sellers, return the average of the distance per order\n",
    "matching_geo.groupby('order_id', \n",
    "                     as_index=False).agg({'distance_seller_customer': 'mean'})"
   ]
  },
  {
   "cell_type": "code",
   "execution_count": null,
   "metadata": {},
   "outputs": [],
   "source": []
  }
 ],
 "metadata": {
  "kernelspec": {
   "display_name": "Python 3",
   "language": "python",
   "name": "python3"
  },
  "language_info": {
   "codemirror_mode": {
    "name": "ipython",
    "version": 3
   },
   "file_extension": ".py",
   "mimetype": "text/x-python",
   "name": "python",
   "nbconvert_exporter": "python",
   "pygments_lexer": "ipython3",
   "version": "3.7.3"
  }
 },
 "nbformat": 4,
 "nbformat_minor": 2
}
