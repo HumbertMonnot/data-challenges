{
 "cells": [
  {
   "cell_type": "markdown",
   "metadata": {},
   "source": [
    "# Training Set"
   ]
  },
  {
   "cell_type": "markdown",
   "metadata": {},
   "source": [
    "**Exercice**\n",
    "\n",
    "In this challenge, we will implement a method to return a training set at the order level. We will implement this training set in the `olist/order.py` file. This will come handy for our next modeling phase. \n",
    "\n",
    "Our goal is to create the following DataFrame: \n",
    "\n",
    "  - `order_id` (_str_) _the id of the order_\n",
    "  - `wait_time` (_float_) _the number of days between order_date and delivered_date_\n",
    "  - `wait_vs_expected` (_float_) _if the actual delivery date is later than the estimated delivery date, returns the absolute number of days between the two dates, otherwise return 0_\n",
    "  - `dim_is_five_star` (_int_) _1 if the order received a five_star, 0 otherwise_\n",
    "  - `dim_is_one_star` (_int_) _1 if the order received a one_star, 0 otherwise_\n",
    "  - `number_of_product` (_int_) _number of products that the order contains_\n",
    "  - `number_of_sellers` (_int_) _number of sellers involved in the order_\n",
    "  - `freight_value` (_float_) _value of the freight paid by customer_\n",
    "  - (Optional) `distance_customer_seller` (_float_) _the distance in km between customer and seller_\n",
    "\n",
    "\n",
    "TODO: \n",
    "- Implement each feature as a separate method within the `Order` class available at `olist/order.py` \n",
    "\n",
    "- Create a method `get_training_data()` that returns the complete DataFrame."
   ]
  },
  {
   "cell_type": "code",
   "execution_count": 117,
   "metadata": {},
   "outputs": [],
   "source": [
    "#import modules\n",
    "import pandas as pd\n",
    "import numpy as np\n",
    "import seaborn as sns"
   ]
  },
  {
   "cell_type": "code",
   "execution_count": 12,
   "metadata": {},
   "outputs": [],
   "source": [
    "#import data \n",
    "from olist.data import Olist\n",
    "olist=Olist()\n",
    "data=olist.get_data()\n",
    "matching_table=olist.get_matching_table()"
   ]
  }
 ],
 "metadata": {
  "kernelspec": {
   "display_name": "Python 3",
   "language": "python",
   "name": "python3"
  },
  "language_info": {
   "codemirror_mode": {
    "name": "ipython",
    "version": 3
   },
   "file_extension": ".py",
   "mimetype": "text/x-python",
   "name": "python",
   "nbconvert_exporter": "python",
   "pygments_lexer": "ipython3",
   "version": "3.7.0"
  },
  "toc": {
   "base_numbering": 1,
   "nav_menu": {},
   "number_sections": false,
   "sideBar": true,
   "skip_h1_title": false,
   "title_cell": "Table of Contents",
   "title_sidebar": "Contents",
   "toc_cell": false,
   "toc_position": {},
   "toc_section_display": true,
   "toc_window_display": true
  }
 },
 "nbformat": 4,
 "nbformat_minor": 2
}
