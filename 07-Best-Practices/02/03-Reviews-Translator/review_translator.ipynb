{
 "cells": [
  {
   "cell_type": "markdown",
   "metadata": {},
   "source": [
    "### Review Translator"
   ]
  },
  {
   "cell_type": "code",
   "execution_count": 1,
   "metadata": {},
   "outputs": [],
   "source": [
    "# Load data \n",
    "from googletrans import Translator\n",
    "from olist.data import Olist\n",
    "data = Olist().get_data()"
   ]
  },
  {
   "cell_type": "code",
   "execution_count": 16,
   "metadata": {},
   "outputs": [],
   "source": [
    "# Pull sample of 20 low review. Transform to list\n",
    "low_reviews_sample =\\\n",
    "    data['olist_order_reviews_dataset'].dropna().query(\"review_score==1\").sample(20)\n",
    "\n",
    "low_reviews_sample_list=\\\n",
    "    low_reviews_sample['review_comment_message'].tolist()"
   ]
  },
  {
   "cell_type": "code",
   "execution_count": 17,
   "metadata": {},
   "outputs": [
    {
     "name": "stdout",
     "output_type": "stream",
     "text": [
      "It was canceled the order the same day of purchase received an email confirming the cancellation more the product was delivered anyway. I did not accept the product more is still cashing in my bill\n",
      "I'm trying to get in touch with you guys, but the site is not working. The candle came broken, with coal coming out. I request the return of the same. The product arrived before the deadline. Thanks\n",
      "The product was not shipped within\n",
      "No satisfaction for late delivery\n",
      "I received a divergent product, the effect of exchange?\n",
      "so I got a desktop and on the invoice came the 2'm afraid not deliver me\n",
      "I ordered the cancellation of the product before releasing the invoice, you have continued the procedure and delivered the product that unfortunately my caretaker received, even though it was oriented\n",
      "Cover dusted bottle, not close properly\n",
      "second time I bought the same product and not received site ridiculous not deliver what sells those who want to buy buy knowing that are misleading\n",
      "for now I have not received my order despite being mentioned in the screening that has already been delivered.\n",
      "Always bought and have no problem, but this is rather my products has not come so far\n",
      "Last purchase made with you. I bought the site and the address that was sent the product was an old well. Day 10/08 complained the site and asked to deliver at another address. So far nothing Ridiculous\n",
      "I did not receive the product in stark site not updated and has passed the deadline\n",
      "different product delivery requested\r\n",
      "I look forward guidance for the exchange\n",
      "I asked a perfume hugo boss energize. So far so good. But the perfume has no aroma or fixation. The lid has come loose.\n",
      "Gave the old address, someone who was not me, received my product, had had to cancel, not canceled, I could not speak at the central, delivered my product p else without aconfirmaçao\n",
      "I did not receive my collagen product\n",
      "Unfortunately n was happy passed the deadline has not yet received the goods\n",
      "Other products, the store offered but did not comply with the delivery.\n",
      "I bought the product that came with breakdowns, I'm trying to return the goods and the store is rejecting my request. I am very dissatisfied with the store and the lannister.\n"
     ]
    }
   ],
   "source": [
    "# Implement translator\n",
    "translator = Translator()\n",
    "\n",
    "translations = translator.translate(low_reviews_sample_list, dest='en')\n",
    "for translation in translations:\n",
    "    print(translation.text)"
   ]
  },
  {
   "cell_type": "code",
   "execution_count": null,
   "metadata": {},
   "outputs": [],
   "source": []
  }
 ],
 "metadata": {
  "kernelspec": {
   "display_name": "Python 3",
   "language": "python",
   "name": "python3"
  },
  "language_info": {
   "codemirror_mode": {
    "name": "ipython",
    "version": 3
   },
   "file_extension": ".py",
   "mimetype": "text/x-python",
   "name": "python",
   "nbconvert_exporter": "python",
   "pygments_lexer": "ipython3",
   "version": "3.7.3"
  }
 },
 "nbformat": 4,
 "nbformat_minor": 2
}
