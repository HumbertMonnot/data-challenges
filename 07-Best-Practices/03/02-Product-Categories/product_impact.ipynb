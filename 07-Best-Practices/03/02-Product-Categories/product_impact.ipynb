{
 "cells": [
  {
   "cell_type": "markdown",
   "metadata": {},
   "source": [
    "## Product Category"
   ]
  },
  {
   "cell_type": "markdown",
   "metadata": {},
   "source": [
    "In this section we are looking in product impact on wait_time and review score. "
   ]
  },
  {
   "cell_type": "code",
   "execution_count": 1,
   "metadata": {},
   "outputs": [],
   "source": [
    "# import libraries\n",
    "import pandas as pd\n",
    "import seaborn as sns\n",
    "import statsmodels.api as sm\n",
    "import statsmodels.formula.api as smf\n",
    "import matplotlib.pyplot as plt"
   ]
  },
  {
   "cell_type": "code",
   "execution_count": 40,
   "metadata": {},
   "outputs": [],
   "source": [
    "# import utils function \n",
    "from olist.utils import *"
   ]
  },
  {
   "cell_type": "code",
   "execution_count": 41,
   "metadata": {},
   "outputs": [],
   "source": [
    "# import data\n",
    "from olist.product import Product\n",
    "data = Product().get_training_data()"
   ]
  },
  {
   "cell_type": "markdown",
   "metadata": {},
   "source": [
    "## 1 - Visualization"
   ]
  },
  {
   "cell_type": "markdown",
   "metadata": {},
   "source": [
    "Let's start by looking at the performance of product categories:\n",
    "\n",
    "- Create a DataFrame aggregating, for each product category, the following variables:\n",
    "\n",
    "  - `n_orders` (sum)\n",
    "  - `wait_time` (median)\n",
    "  - `review_score` (median)\n",
    "  - `share_of_one_stars` (median)\n",
    "  - `share_of_five_stars` (median)\n",
    "\n",
    " - Plot a text scatterplot of each category by `n_orders` and `wait_time`.\n",
    "\n",
    "👉 Hint: You can use the function `text_scatterplot` defined in `olist/utils.py`\n",
    "\n",
    "- Hard to read, right? What about restricting to only categories that had 300 orders at least?\n",
    "\n",
    "- Let's now look at the correlation between variables. Return a DataFrame with correlations coefficients between each variables within the category DataFrame. What do you remark?\n",
    "\n",
    "- Plot few distribution plots on product characteristics (weight, height etc.) for high and low average wait time categories."
   ]
  },
  {
   "cell_type": "markdown",
   "metadata": {},
   "source": [
    "## 2 - Regression on wait time"
   ]
  },
  {
   "cell_type": "markdown",
   "metadata": {},
   "source": [
    "In this part, we will use a multivariate regression to isolate which product categories correlate with wait time.\n",
    "\n",
    "- Run an OLS model and print out variables with significant coefficients. Which product categories correlate with higher wait_time?\n",
    "\n",
    "👉 Hint: you can use the function `return_significative_coef` defined in `olist/utils.py`\n"
   ]
  },
  {
   "cell_type": "markdown",
   "metadata": {},
   "source": [
    "## 3 - Regression on average_review_score"
   ]
  },
  {
   "cell_type": "markdown",
   "metadata": {},
   "source": [
    "We have seen before that some products correlate with higher wait time. One hypothesis being that some products being bigger or heavier, customer delivery take more time.\n",
    "\n",
    "What about their correlation with review score?\n",
    "\n",
    "- Create your target variable as the `average_review_score` and run an OLS model on `product_categories`. Which product categories correlate with higher `review_score`? Which tend to have lower `review_score`?"
   ]
  },
  {
   "cell_type": "markdown",
   "metadata": {},
   "source": [
    "## 4 - Regression on average_review score, holding wait_time constant"
   ]
  },
  {
   "cell_type": "markdown",
   "metadata": {},
   "source": [
    "But can we isolate the true contribution of product category on customer satisfaction?\n",
    "\n",
    "In this section, we will use `wait_time` as a dependent variable and measure how each product category correlate with `review_score`, holding `wait_time` constant.\n",
    "\n",
    "- Run an OLS model `model_review_fixing_wait_time` where `product_categories` and `wait_time` are the regressors, and `review_score` is the target variable. Which product categories correlate with higher `review_score` holding `wait_time` constant?"
   ]
  },
  {
   "cell_type": "markdown",
   "metadata": {},
   "source": [
    "## 5 - (Optional) Reviews for low review score Products"
   ]
  },
  {
   "cell_type": "markdown",
   "metadata": {},
   "source": [
    "- Using our translation script, translate a sample of reviews for some of the low review categories. Do you see topics that stand out?"
   ]
  },
  {
   "cell_type": "code",
   "execution_count": null,
   "metadata": {},
   "outputs": [],
   "source": []
  }
 ],
 "metadata": {
  "kernelspec": {
   "display_name": "Python 3",
   "language": "python",
   "name": "python3"
  },
  "language_info": {
   "codemirror_mode": {
    "name": "ipython",
    "version": 3
   },
   "file_extension": ".py",
   "mimetype": "text/x-python",
   "name": "python",
   "nbconvert_exporter": "python",
   "pygments_lexer": "ipython3",
   "version": "3.7.0"
  },
  "toc": {
   "base_numbering": 1,
   "nav_menu": {},
   "number_sections": false,
   "sideBar": true,
   "skip_h1_title": false,
   "title_cell": "Table of Contents",
   "title_sidebar": "Contents",
   "toc_cell": false,
   "toc_position": {},
   "toc_section_display": true,
   "toc_window_display": true
  }
 },
 "nbformat": 4,
 "nbformat_minor": 2
}
