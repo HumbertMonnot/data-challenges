{
 "cells": [
  {
   "cell_type": "markdown",
   "metadata": {},
   "source": [
    "# Logit Orders"
   ]
  },
  {
   "cell_type": "markdown",
   "metadata": {},
   "source": [
    "**One Star**\n",
    "- Run a logistic regression to predict `dim_is_one_star` on variables `wait_time`, `expected_wait_time`, `number_of_products`, `number_of_sellers`, `price` and `distance_seller_customer`.\n",
    "- How do you interpret results? Which variables have higher impact on dim_is_one_star reviews?\n",
    "\n",
    "**Five Star**\n",
    "\n",
    "- Run a logistic regression to predict `dim_is_five_star` on variables `wait_time`, `expected_wait_time`, `number_of_products`, `number_of_sellers`, `price` and `distance_seller_customer`.\n",
    "- How do you interpret results? Which variables have higher impact on dim_is_five_star reviews?"
   ]
  },
  {
   "cell_type": "code",
   "execution_count": null,
   "metadata": {},
   "outputs": [],
   "source": []
  }
 ],
 "metadata": {
  "kernelspec": {
   "display_name": "lewagon",
   "language": "python",
   "name": "lewagon"
  },
  "language_info": {
   "codemirror_mode": {
    "name": "ipython",
    "version": 3
   },
   "file_extension": ".py",
   "mimetype": "text/x-python",
   "name": "python",
   "nbconvert_exporter": "python",
   "pygments_lexer": "ipython3",
   "version": "3.7.6"
  },
  "toc": {
   "base_numbering": 1,
   "nav_menu": {},
   "number_sections": false,
   "sideBar": true,
   "skip_h1_title": false,
   "title_cell": "Table of Contents",
   "title_sidebar": "Contents",
   "toc_cell": false,
   "toc_position": {},
   "toc_section_display": true,
   "toc_window_display": true
  }
 },
 "nbformat": 4,
 "nbformat_minor": 4
}
