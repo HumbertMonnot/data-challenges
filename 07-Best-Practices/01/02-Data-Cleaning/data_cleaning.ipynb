{
 "cells": [
  {
   "cell_type": "markdown",
   "metadata": {},
   "source": [
    "## Exploratory Analysis"
   ]
  },
  {
   "cell_type": "markdown",
   "metadata": {},
   "source": [
    "### Introduction"
   ]
  },
  {
   "cell_type": "markdown",
   "metadata": {},
   "source": [
    "In this exercice we are going to run an exploratory analysis of Olist datasets. First download all datasets from Kaggle here - https://www.kaggle.com/olistbr/brazilian-ecommerce/download (120Mb). \n",
    "\n",
    "Your directory should look like the following: \n",
    "\n",
    "\n",
    "```\n",
    "|.\n",
    "├── _07-Best-Practices\n",
    "|   ├── _data\n",
    "|       ├── _product_category_name_translation.csv\n",
    "|       ├── _olist_sellers_dataset.csv\n",
    "|       ├── _olist_products_dataset.csv\n",
    "|       ├── _olist_orders_dataset.csv\n",
    "|       ├── _olist_order_reviews_dataset.csv\n",
    "|       ├── _olist_order_payments_dataset.csv\n",
    "|       ├── _olist_order_items_dataset.csv\n",
    "|       ├── _olist_geolocation_dataset.csv\n",
    "|       ├── _olist_customers_dataset.csv \n",
    "```"
   ]
  },
  {
   "cell_type": "markdown",
   "metadata": {},
   "source": [
    "### Exercices"
   ]
  },
  {
   "cell_type": "markdown",
   "metadata": {},
   "source": [
    "- Load all dataset in a dictionary named data where each key is the name of the csv file.\n",
    "- Run an exploratory analysis for the list of datasets below. Use [pandas-profiling](https://github.com/pandas-profiling/pandas-profiling) to output one HTML output per dataset under a `report` folder: \n",
    "\n",
    "```python\n",
    "['olist_orders_dataset', 'olist_products_dataset', 'olist_customers_dataset', 'olist_order_reviews_dataset', 'olist_order_items_dataset']\n",
    "```\n",
    "- Which columns have missing data? Which columns should be converted as datetime? \n",
    "- Perform a merge to obtain a matching table between `customer_id`, `customer_unique_id`, `order_id`, `product_id`, `seller_id` and export the obtained DataFrame to the `data` folder as `matching_table.csv`"
   ]
  },
  {
   "cell_type": "markdown",
   "metadata": {},
   "source": [
    "### 1 - Import files"
   ]
  },
  {
   "cell_type": "code",
   "execution_count": null,
   "metadata": {},
   "outputs": [],
   "source": [
    "# import libraries "
   ]
  },
  {
   "cell_type": "code",
   "execution_count": null,
   "metadata": {},
   "outputs": [],
   "source": [
    "# Access all files in data directory\n",
    "# Hint: use the os library to navigate files "
   ]
  },
  {
   "cell_type": "code",
   "execution_count": null,
   "metadata": {},
   "outputs": [],
   "source": [
    "# We import each file in a data dict"
   ]
  },
  {
   "cell_type": "markdown",
   "metadata": {},
   "source": [
    "### 2 - Run an exploratory analysis "
   ]
  },
  {
   "cell_type": "code",
   "execution_count": null,
   "metadata": {},
   "outputs": [],
   "source": [
    "# We iterate through the list and create one html file per dataset"
   ]
  },
  {
   "cell_type": "markdown",
   "metadata": {},
   "source": [
    "### 3 - Analyze reports"
   ]
  },
  {
   "cell_type": "markdown",
   "metadata": {},
   "source": [
    "### 4 - Matching table"
   ]
  },
  {
   "cell_type": "code",
   "execution_count": null,
   "metadata": {},
   "outputs": [],
   "source": [
    "# Select only the columns of interest"
   ]
  },
  {
   "cell_type": "code",
   "execution_count": null,
   "metadata": {},
   "outputs": [],
   "source": [
    "# Inspect the cardinality of each DataFrame"
   ]
  },
  {
   "cell_type": "code",
   "execution_count": null,
   "metadata": {},
   "outputs": [],
   "source": [
    "# Carefully merge DataFrame"
   ]
  },
  {
   "cell_type": "code",
   "execution_count": null,
   "metadata": {},
   "outputs": [],
   "source": [
    "# Inspect the cardinality of the final DataFrame. It should match the highest one. "
   ]
  }
 ],
 "metadata": {
  "kernelspec": {
   "display_name": "Python 3",
   "language": "python",
   "name": "python3"
  },
  "language_info": {
   "codemirror_mode": {
    "name": "ipython",
    "version": 3
   },
   "file_extension": ".py",
   "mimetype": "text/x-python",
   "name": "python",
   "nbconvert_exporter": "python",
   "pygments_lexer": "ipython3",
   "version": "3.7.3"
  }
 },
 "nbformat": 4,
 "nbformat_minor": 2
}
