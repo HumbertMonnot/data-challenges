{
 "cells": [
  {
   "cell_type": "markdown",
   "metadata": {},
   "source": [
    "# Exploratory Analysis"
   ]
  },
  {
   "cell_type": "code",
   "execution_count": 1,
   "metadata": {},
   "outputs": [],
   "source": [
    "%load_ext autoreload\n",
    "%autoreload 2"
   ]
  },
  {
   "cell_type": "code",
   "execution_count": 2,
   "metadata": {},
   "outputs": [],
   "source": [
    "from olist.data import Olist\n",
    "data = Olist().get_data()"
   ]
  },
  {
   "cell_type": "markdown",
   "metadata": {},
   "source": [
    "Each transaction on the Olist ecommerce platform is characterized by:\n",
    "- a `customer_id`, that would buy...\n",
    "- various`product_id`...\n",
    "- to a `seller_id`...\n",
    "- and leaves a `rewiew_id`...\n",
    "- all this belonging to an `order_id`"
   ]
  },
  {
   "cell_type": "markdown",
   "metadata": {
    "tags": []
   },
   "source": [
    "## 1 - Run an automated exploratory analysis with [pandas profiling](https://github.com/pandas-profiling/pandas-profiling)"
   ]
  },
  {
   "cell_type": "code",
   "execution_count": 14,
   "metadata": {},
   "outputs": [
    {
     "name": "stdout",
     "output_type": "stream",
     "text": [
      "Collecting ipywidgets\n",
      "  Downloading ipywidgets-7.6.5-py2.py3-none-any.whl (121 kB)\n",
      "     |████████████████████████████████| 121 kB 2.4 MB/s            \n",
      "\u001b[?25hRequirement already satisfied: traitlets>=4.3.1 in /Users/humbert/.pyenv/versions/3.8.12/envs/lewagon/lib/python3.8/site-packages (from ipywidgets) (5.1.1)\n",
      "Collecting jupyterlab-widgets>=1.0.0\n",
      "  Downloading jupyterlab_widgets-1.0.2-py3-none-any.whl (243 kB)\n",
      "     |████████████████████████████████| 243 kB 16.1 MB/s            \n",
      "\u001b[?25hRequirement already satisfied: ipykernel>=4.5.1 in /Users/humbert/.pyenv/versions/3.8.12/envs/lewagon/lib/python3.8/site-packages (from ipywidgets) (6.6.0)\n",
      "Requirement already satisfied: ipython>=4.0.0 in /Users/humbert/.pyenv/versions/3.8.12/envs/lewagon/lib/python3.8/site-packages (from ipywidgets) (7.30.1)\n",
      "Collecting widgetsnbextension~=3.5.0\n",
      "  Downloading widgetsnbextension-3.5.2-py2.py3-none-any.whl (1.6 MB)\n",
      "     |████████████████████████████████| 1.6 MB 31.4 MB/s            \n",
      "\u001b[?25hRequirement already satisfied: ipython-genutils~=0.2.0 in /Users/humbert/.pyenv/versions/3.8.12/envs/lewagon/lib/python3.8/site-packages (from ipywidgets) (0.2.0)\n",
      "Requirement already satisfied: nbformat>=4.2.0 in /Users/humbert/.pyenv/versions/3.8.12/envs/lewagon/lib/python3.8/site-packages (from ipywidgets) (5.1.3)\n",
      "Requirement already satisfied: debugpy<2.0,>=1.0.0 in /Users/humbert/.pyenv/versions/3.8.12/envs/lewagon/lib/python3.8/site-packages (from ipykernel>=4.5.1->ipywidgets) (1.5.1)\n",
      "Requirement already satisfied: jupyter-client<8.0 in /Users/humbert/.pyenv/versions/3.8.12/envs/lewagon/lib/python3.8/site-packages (from ipykernel>=4.5.1->ipywidgets) (7.1.0)\n",
      "Requirement already satisfied: appnope in /Users/humbert/.pyenv/versions/3.8.12/envs/lewagon/lib/python3.8/site-packages (from ipykernel>=4.5.1->ipywidgets) (0.1.2)\n",
      "Requirement already satisfied: tornado<7.0,>=4.2 in /Users/humbert/.pyenv/versions/3.8.12/envs/lewagon/lib/python3.8/site-packages (from ipykernel>=4.5.1->ipywidgets) (6.1)\n",
      "Requirement already satisfied: matplotlib-inline<0.2.0,>=0.1.0 in /Users/humbert/.pyenv/versions/3.8.12/envs/lewagon/lib/python3.8/site-packages (from ipykernel>=4.5.1->ipywidgets) (0.1.3)\n",
      "Requirement already satisfied: pygments in /Users/humbert/.pyenv/versions/3.8.12/envs/lewagon/lib/python3.8/site-packages (from ipython>=4.0.0->ipywidgets) (2.11.0)\n",
      "Requirement already satisfied: pexpect>4.3 in /Users/humbert/.pyenv/versions/3.8.12/envs/lewagon/lib/python3.8/site-packages (from ipython>=4.0.0->ipywidgets) (4.8.0)\n",
      "Requirement already satisfied: decorator in /Users/humbert/.pyenv/versions/3.8.12/envs/lewagon/lib/python3.8/site-packages (from ipython>=4.0.0->ipywidgets) (5.1.0)\n",
      "Requirement already satisfied: pickleshare in /Users/humbert/.pyenv/versions/3.8.12/envs/lewagon/lib/python3.8/site-packages (from ipython>=4.0.0->ipywidgets) (0.7.5)\n",
      "Requirement already satisfied: setuptools>=18.5 in /Users/humbert/.pyenv/versions/3.8.12/envs/lewagon/lib/python3.8/site-packages (from ipython>=4.0.0->ipywidgets) (56.0.0)\n",
      "Requirement already satisfied: backcall in /Users/humbert/.pyenv/versions/3.8.12/envs/lewagon/lib/python3.8/site-packages (from ipython>=4.0.0->ipywidgets) (0.2.0)\n",
      "Requirement already satisfied: jedi>=0.16 in /Users/humbert/.pyenv/versions/3.8.12/envs/lewagon/lib/python3.8/site-packages (from ipython>=4.0.0->ipywidgets) (0.18.1)\n",
      "Requirement already satisfied: prompt-toolkit!=3.0.0,!=3.0.1,<3.1.0,>=2.0.0 in /Users/humbert/.pyenv/versions/3.8.12/envs/lewagon/lib/python3.8/site-packages (from ipython>=4.0.0->ipywidgets) (3.0.24)\n",
      "Requirement already satisfied: jsonschema!=2.5.0,>=2.4 in /Users/humbert/.pyenv/versions/3.8.12/envs/lewagon/lib/python3.8/site-packages (from nbformat>=4.2.0->ipywidgets) (4.3.2)\n",
      "Requirement already satisfied: jupyter-core in /Users/humbert/.pyenv/versions/3.8.12/envs/lewagon/lib/python3.8/site-packages (from nbformat>=4.2.0->ipywidgets) (4.9.1)\n",
      "Requirement already satisfied: notebook>=4.4.1 in /Users/humbert/.pyenv/versions/3.8.12/envs/lewagon/lib/python3.8/site-packages (from widgetsnbextension~=3.5.0->ipywidgets) (6.4.6)\n",
      "Requirement already satisfied: parso<0.9.0,>=0.8.0 in /Users/humbert/.pyenv/versions/3.8.12/envs/lewagon/lib/python3.8/site-packages (from jedi>=0.16->ipython>=4.0.0->ipywidgets) (0.8.3)\n",
      "Requirement already satisfied: attrs>=17.4.0 in /Users/humbert/.pyenv/versions/3.8.12/envs/lewagon/lib/python3.8/site-packages (from jsonschema!=2.5.0,>=2.4->nbformat>=4.2.0->ipywidgets) (21.4.0)\n",
      "Requirement already satisfied: pyrsistent!=0.17.0,!=0.17.1,!=0.17.2,>=0.14.0 in /Users/humbert/.pyenv/versions/3.8.12/envs/lewagon/lib/python3.8/site-packages (from jsonschema!=2.5.0,>=2.4->nbformat>=4.2.0->ipywidgets) (0.18.0)\n",
      "Requirement already satisfied: importlib-resources>=1.4.0 in /Users/humbert/.pyenv/versions/3.8.12/envs/lewagon/lib/python3.8/site-packages (from jsonschema!=2.5.0,>=2.4->nbformat>=4.2.0->ipywidgets) (5.4.0)\n",
      "Requirement already satisfied: pyzmq>=13 in /Users/humbert/.pyenv/versions/3.8.12/envs/lewagon/lib/python3.8/site-packages (from jupyter-client<8.0->ipykernel>=4.5.1->ipywidgets) (22.3.0)\n",
      "Requirement already satisfied: python-dateutil>=2.1 in /Users/humbert/.pyenv/versions/3.8.12/envs/lewagon/lib/python3.8/site-packages (from jupyter-client<8.0->ipykernel>=4.5.1->ipywidgets) (2.8.2)\n",
      "Requirement already satisfied: entrypoints in /Users/humbert/.pyenv/versions/3.8.12/envs/lewagon/lib/python3.8/site-packages (from jupyter-client<8.0->ipykernel>=4.5.1->ipywidgets) (0.3)\n",
      "Requirement already satisfied: nest-asyncio>=1.5 in /Users/humbert/.pyenv/versions/3.8.12/envs/lewagon/lib/python3.8/site-packages (from jupyter-client<8.0->ipykernel>=4.5.1->ipywidgets) (1.5.4)\n",
      "Requirement already satisfied: jinja2 in /Users/humbert/.pyenv/versions/3.8.12/envs/lewagon/lib/python3.8/site-packages (from notebook>=4.4.1->widgetsnbextension~=3.5.0->ipywidgets) (3.0.3)\n",
      "Requirement already satisfied: Send2Trash>=1.8.0 in /Users/humbert/.pyenv/versions/3.8.12/envs/lewagon/lib/python3.8/site-packages (from notebook>=4.4.1->widgetsnbextension~=3.5.0->ipywidgets) (1.8.0)\n",
      "Requirement already satisfied: terminado>=0.8.3 in /Users/humbert/.pyenv/versions/3.8.12/envs/lewagon/lib/python3.8/site-packages (from notebook>=4.4.1->widgetsnbextension~=3.5.0->ipywidgets) (0.12.1)\n",
      "Requirement already satisfied: nbconvert in /Users/humbert/.pyenv/versions/3.8.12/envs/lewagon/lib/python3.8/site-packages (from notebook>=4.4.1->widgetsnbextension~=3.5.0->ipywidgets) (6.3.0)\n",
      "Requirement already satisfied: argon2-cffi in /Users/humbert/.pyenv/versions/3.8.12/envs/lewagon/lib/python3.8/site-packages (from notebook>=4.4.1->widgetsnbextension~=3.5.0->ipywidgets) (21.3.0)\n",
      "Requirement already satisfied: prometheus-client in /Users/humbert/.pyenv/versions/3.8.12/envs/lewagon/lib/python3.8/site-packages (from notebook>=4.4.1->widgetsnbextension~=3.5.0->ipywidgets) (0.12.0)\n",
      "Requirement already satisfied: ptyprocess>=0.5 in /Users/humbert/.pyenv/versions/3.8.12/envs/lewagon/lib/python3.8/site-packages (from pexpect>4.3->ipython>=4.0.0->ipywidgets) (0.7.0)\n",
      "Requirement already satisfied: wcwidth in /Users/humbert/.pyenv/versions/3.8.12/envs/lewagon/lib/python3.8/site-packages (from prompt-toolkit!=3.0.0,!=3.0.1,<3.1.0,>=2.0.0->ipython>=4.0.0->ipywidgets) (0.2.5)\n",
      "Requirement already satisfied: zipp>=3.1.0 in /Users/humbert/.pyenv/versions/3.8.12/envs/lewagon/lib/python3.8/site-packages (from importlib-resources>=1.4.0->jsonschema!=2.5.0,>=2.4->nbformat>=4.2.0->ipywidgets) (3.6.0)\n",
      "Requirement already satisfied: six>=1.5 in /Users/humbert/.pyenv/versions/3.8.12/envs/lewagon/lib/python3.8/site-packages (from python-dateutil>=2.1->jupyter-client<8.0->ipykernel>=4.5.1->ipywidgets) (1.15.0)\n",
      "Requirement already satisfied: argon2-cffi-bindings in /Users/humbert/.pyenv/versions/3.8.12/envs/lewagon/lib/python3.8/site-packages (from argon2-cffi->notebook>=4.4.1->widgetsnbextension~=3.5.0->ipywidgets) (21.2.0)\n",
      "Requirement already satisfied: MarkupSafe>=2.0 in /Users/humbert/.pyenv/versions/3.8.12/envs/lewagon/lib/python3.8/site-packages (from jinja2->notebook>=4.4.1->widgetsnbextension~=3.5.0->ipywidgets) (2.0.1)\n",
      "Requirement already satisfied: testpath in /Users/humbert/.pyenv/versions/3.8.12/envs/lewagon/lib/python3.8/site-packages (from nbconvert->notebook>=4.4.1->widgetsnbextension~=3.5.0->ipywidgets) (0.5.0)\n",
      "Requirement already satisfied: mistune<2,>=0.8.1 in /Users/humbert/.pyenv/versions/3.8.12/envs/lewagon/lib/python3.8/site-packages (from nbconvert->notebook>=4.4.1->widgetsnbextension~=3.5.0->ipywidgets) (0.8.4)\n"
     ]
    },
    {
     "name": "stdout",
     "output_type": "stream",
     "text": [
      "Requirement already satisfied: pandocfilters>=1.4.1 in /Users/humbert/.pyenv/versions/3.8.12/envs/lewagon/lib/python3.8/site-packages (from nbconvert->notebook>=4.4.1->widgetsnbextension~=3.5.0->ipywidgets) (1.5.0)\n",
      "Requirement already satisfied: defusedxml in /Users/humbert/.pyenv/versions/3.8.12/envs/lewagon/lib/python3.8/site-packages (from nbconvert->notebook>=4.4.1->widgetsnbextension~=3.5.0->ipywidgets) (0.7.1)\n",
      "Requirement already satisfied: jupyterlab-pygments in /Users/humbert/.pyenv/versions/3.8.12/envs/lewagon/lib/python3.8/site-packages (from nbconvert->notebook>=4.4.1->widgetsnbextension~=3.5.0->ipywidgets) (0.1.2)\n",
      "Requirement already satisfied: bleach in /Users/humbert/.pyenv/versions/3.8.12/envs/lewagon/lib/python3.8/site-packages (from nbconvert->notebook>=4.4.1->widgetsnbextension~=3.5.0->ipywidgets) (4.1.0)\n",
      "Requirement already satisfied: nbclient<0.6.0,>=0.5.0 in /Users/humbert/.pyenv/versions/3.8.12/envs/lewagon/lib/python3.8/site-packages (from nbconvert->notebook>=4.4.1->widgetsnbextension~=3.5.0->ipywidgets) (0.5.9)\n",
      "Requirement already satisfied: cffi>=1.0.1 in /Users/humbert/.pyenv/versions/3.8.12/envs/lewagon/lib/python3.8/site-packages (from argon2-cffi-bindings->argon2-cffi->notebook>=4.4.1->widgetsnbextension~=3.5.0->ipywidgets) (1.15.0)\n",
      "Requirement already satisfied: webencodings in /Users/humbert/.pyenv/versions/3.8.12/envs/lewagon/lib/python3.8/site-packages (from bleach->nbconvert->notebook>=4.4.1->widgetsnbextension~=3.5.0->ipywidgets) (0.5.1)\n",
      "Requirement already satisfied: packaging in /Users/humbert/.pyenv/versions/3.8.12/envs/lewagon/lib/python3.8/site-packages (from bleach->nbconvert->notebook>=4.4.1->widgetsnbextension~=3.5.0->ipywidgets) (21.0)\n",
      "Requirement already satisfied: pycparser in /Users/humbert/.pyenv/versions/3.8.12/envs/lewagon/lib/python3.8/site-packages (from cffi>=1.0.1->argon2-cffi-bindings->argon2-cffi->notebook>=4.4.1->widgetsnbextension~=3.5.0->ipywidgets) (2.21)\n",
      "Requirement already satisfied: pyparsing>=2.0.2 in /Users/humbert/.pyenv/versions/3.8.12/envs/lewagon/lib/python3.8/site-packages (from packaging->bleach->nbconvert->notebook>=4.4.1->widgetsnbextension~=3.5.0->ipywidgets) (3.0.6)\n",
      "Installing collected packages: widgetsnbextension, jupyterlab-widgets, ipywidgets\n",
      "Successfully installed ipywidgets-7.6.5 jupyterlab-widgets-1.0.2 widgetsnbextension-3.5.2\n"
     ]
    }
   ],
   "source": [
    "! pip install ipywidgets"
   ]
  },
  {
   "cell_type": "code",
   "execution_count": 3,
   "metadata": {
    "scrolled": true
   },
   "outputs": [
    {
     "name": "stdout",
     "output_type": "stream",
     "text": [
      "Requirement already satisfied: pandas-profiling in /Users/humbert/.pyenv/versions/3.8.12/envs/lewagon/lib/python3.8/site-packages (3.1.0)\n",
      "Requirement already satisfied: multimethod>=1.4 in /Users/humbert/.pyenv/versions/3.8.12/envs/lewagon/lib/python3.8/site-packages (from pandas-profiling) (1.6)\n",
      "Requirement already satisfied: joblib~=1.0.1 in /Users/humbert/.pyenv/versions/3.8.12/envs/lewagon/lib/python3.8/site-packages (from pandas-profiling) (1.0.1)\n",
      "Requirement already satisfied: seaborn>=0.10.1 in /Users/humbert/.pyenv/versions/3.8.12/envs/lewagon/lib/python3.8/site-packages (from pandas-profiling) (0.11.2)\n",
      "Requirement already satisfied: jinja2>=2.11.1 in /Users/humbert/.pyenv/versions/3.8.12/envs/lewagon/lib/python3.8/site-packages (from pandas-profiling) (3.0.3)\n",
      "Requirement already satisfied: tqdm>=4.48.2 in /Users/humbert/.pyenv/versions/3.8.12/envs/lewagon/lib/python3.8/site-packages (from pandas-profiling) (4.62.3)\n",
      "Requirement already satisfied: tangled-up-in-unicode==0.1.0 in /Users/humbert/.pyenv/versions/3.8.12/envs/lewagon/lib/python3.8/site-packages (from pandas-profiling) (0.1.0)\n",
      "Requirement already satisfied: requests>=2.24.0 in /Users/humbert/.pyenv/versions/3.8.12/envs/lewagon/lib/python3.8/site-packages (from pandas-profiling) (2.27.1)\n",
      "Requirement already satisfied: phik>=0.11.1 in /Users/humbert/.pyenv/versions/3.8.12/envs/lewagon/lib/python3.8/site-packages (from pandas-profiling) (0.12.0)\n",
      "Requirement already satisfied: scipy>=1.4.1 in /Users/humbert/.pyenv/versions/3.8.12/envs/lewagon/lib/python3.8/site-packages (from pandas-profiling) (1.7.3)\n",
      "Requirement already satisfied: matplotlib>=3.2.0 in /Users/humbert/.pyenv/versions/3.8.12/envs/lewagon/lib/python3.8/site-packages (from pandas-profiling) (3.5.1)\n",
      "Requirement already satisfied: PyYAML>=5.0.0 in /Users/humbert/.pyenv/versions/3.8.12/envs/lewagon/lib/python3.8/site-packages (from pandas-profiling) (6.0)\n",
      "Requirement already satisfied: pandas!=1.0.0,!=1.0.1,!=1.0.2,!=1.1.0,>=0.25.3 in /Users/humbert/.pyenv/versions/3.8.12/envs/lewagon/lib/python3.8/site-packages (from pandas-profiling) (1.3.5)\n",
      "Requirement already satisfied: markupsafe~=2.0.1 in /Users/humbert/.pyenv/versions/3.8.12/envs/lewagon/lib/python3.8/site-packages (from pandas-profiling) (2.0.1)\n",
      "Requirement already satisfied: htmlmin>=0.1.12 in /Users/humbert/.pyenv/versions/3.8.12/envs/lewagon/lib/python3.8/site-packages (from pandas-profiling) (0.1.12)\n",
      "Requirement already satisfied: pydantic>=1.8.1 in /Users/humbert/.pyenv/versions/3.8.12/envs/lewagon/lib/python3.8/site-packages (from pandas-profiling) (1.8.2)\n",
      "Requirement already satisfied: missingno>=0.4.2 in /Users/humbert/.pyenv/versions/3.8.12/envs/lewagon/lib/python3.8/site-packages (from pandas-profiling) (0.4.2)\n",
      "Requirement already satisfied: visions[type_image_path]==0.7.4 in /Users/humbert/.pyenv/versions/3.8.12/envs/lewagon/lib/python3.8/site-packages (from pandas-profiling) (0.7.4)\n",
      "Requirement already satisfied: numpy>=1.16.0 in /Users/humbert/.pyenv/versions/3.8.12/envs/lewagon/lib/python3.8/site-packages (from pandas-profiling) (1.19.5)\n",
      "Requirement already satisfied: attrs>=19.3.0 in /Users/humbert/.pyenv/versions/3.8.12/envs/lewagon/lib/python3.8/site-packages (from visions[type_image_path]==0.7.4->pandas-profiling) (21.4.0)\n",
      "Requirement already satisfied: networkx>=2.4 in /Users/humbert/.pyenv/versions/3.8.12/envs/lewagon/lib/python3.8/site-packages (from visions[type_image_path]==0.7.4->pandas-profiling) (2.6.3)\n",
      "Requirement already satisfied: imagehash in /Users/humbert/.pyenv/versions/3.8.12/envs/lewagon/lib/python3.8/site-packages (from visions[type_image_path]==0.7.4->pandas-profiling) (4.2.1)\n",
      "Requirement already satisfied: Pillow in /Users/humbert/.pyenv/versions/3.8.12/envs/lewagon/lib/python3.8/site-packages (from visions[type_image_path]==0.7.4->pandas-profiling) (8.4.0)\n",
      "Requirement already satisfied: python-dateutil>=2.7 in /Users/humbert/.pyenv/versions/3.8.12/envs/lewagon/lib/python3.8/site-packages (from matplotlib>=3.2.0->pandas-profiling) (2.8.2)\n",
      "Requirement already satisfied: fonttools>=4.22.0 in /Users/humbert/.pyenv/versions/3.8.12/envs/lewagon/lib/python3.8/site-packages (from matplotlib>=3.2.0->pandas-profiling) (4.28.5)\n",
      "Requirement already satisfied: cycler>=0.10 in /Users/humbert/.pyenv/versions/3.8.12/envs/lewagon/lib/python3.8/site-packages (from matplotlib>=3.2.0->pandas-profiling) (0.11.0)\n",
      "Requirement already satisfied: kiwisolver>=1.0.1 in /Users/humbert/.pyenv/versions/3.8.12/envs/lewagon/lib/python3.8/site-packages (from matplotlib>=3.2.0->pandas-profiling) (1.3.2)\n",
      "Requirement already satisfied: packaging>=20.0 in /Users/humbert/.pyenv/versions/3.8.12/envs/lewagon/lib/python3.8/site-packages (from matplotlib>=3.2.0->pandas-profiling) (21.0)\n",
      "Requirement already satisfied: pyparsing>=2.2.1 in /Users/humbert/.pyenv/versions/3.8.12/envs/lewagon/lib/python3.8/site-packages (from matplotlib>=3.2.0->pandas-profiling) (3.0.6)\n",
      "Requirement already satisfied: pytz>=2017.3 in /Users/humbert/.pyenv/versions/3.8.12/envs/lewagon/lib/python3.8/site-packages (from pandas!=1.0.0,!=1.0.1,!=1.0.2,!=1.1.0,>=0.25.3->pandas-profiling) (2021.3)\n",
      "Requirement already satisfied: typing-extensions>=3.7.4.3 in /Users/humbert/.pyenv/versions/3.8.12/envs/lewagon/lib/python3.8/site-packages (from pydantic>=1.8.1->pandas-profiling) (3.7.4.3)\n",
      "Requirement already satisfied: certifi>=2017.4.17 in /Users/humbert/.pyenv/versions/3.8.12/envs/lewagon/lib/python3.8/site-packages (from requests>=2.24.0->pandas-profiling) (2021.10.8)\n",
      "Requirement already satisfied: idna<4,>=2.5 in /Users/humbert/.pyenv/versions/3.8.12/envs/lewagon/lib/python3.8/site-packages (from requests>=2.24.0->pandas-profiling) (3.3)\n",
      "Requirement already satisfied: charset-normalizer~=2.0.0 in /Users/humbert/.pyenv/versions/3.8.12/envs/lewagon/lib/python3.8/site-packages (from requests>=2.24.0->pandas-profiling) (2.0.9)\n",
      "Requirement already satisfied: urllib3<1.27,>=1.21.1 in /Users/humbert/.pyenv/versions/3.8.12/envs/lewagon/lib/python3.8/site-packages (from requests>=2.24.0->pandas-profiling) (1.26.7)\n",
      "Requirement already satisfied: six>=1.5 in /Users/humbert/.pyenv/versions/3.8.12/envs/lewagon/lib/python3.8/site-packages (from python-dateutil>=2.7->matplotlib>=3.2.0->pandas-profiling) (1.15.0)\n",
      "Requirement already satisfied: PyWavelets in /Users/humbert/.pyenv/versions/3.8.12/envs/lewagon/lib/python3.8/site-packages (from imagehash->visions[type_image_path]==0.7.4->pandas-profiling) (1.2.0)\n"
     ]
    }
   ],
   "source": [
    "# First, let's install the pandas-profiling package\n",
    "! pip install pandas-profiling"
   ]
  },
  {
   "cell_type": "code",
   "execution_count": 4,
   "metadata": {},
   "outputs": [],
   "source": [
    "# And create a new \"04-Decision-Science/reports\" folder \n",
    "!mkdir -p ../../data/reports"
   ]
  },
  {
   "cell_type": "code",
   "execution_count": 3,
   "metadata": {},
   "outputs": [],
   "source": [
    "from pandas_profiling import ProfileReport\n",
    "datasets_to_profile = ['orders', 'products', 'sellers',\n",
    "                  'customers', 'order_reviews',\n",
    "                  'order_items']"
   ]
  },
  {
   "cell_type": "markdown",
   "metadata": {},
   "source": [
    "👉 Create and save one `html report` per dataset to profile \n",
    "\n",
    "⏳ (It usually takes a few minutes)"
   ]
  },
  {
   "cell_type": "code",
   "execution_count": 7,
   "metadata": {
    "scrolled": true,
    "tags": [
     "challengify"
    ]
   },
   "outputs": [
    {
     "data": {
      "application/vnd.jupyter.widget-view+json": {
       "model_id": "0d9bcdfcf82041c898e49a88fa3557da",
       "version_major": 2,
       "version_minor": 0
      },
      "text/plain": [
       "Summarize dataset:   0%|          | 0/5 [00:00<?, ?it/s]"
      ]
     },
     "metadata": {},
     "output_type": "display_data"
    },
    {
     "data": {
      "application/vnd.jupyter.widget-view+json": {
       "model_id": "2196584f662242bfac0ade9d5ae0ef10",
       "version_major": 2,
       "version_minor": 0
      },
      "text/plain": [
       "Generate report structure:   0%|          | 0/1 [00:00<?, ?it/s]"
      ]
     },
     "metadata": {},
     "output_type": "display_data"
    },
    {
     "data": {
      "application/vnd.jupyter.widget-view+json": {
       "model_id": "3b63e1524d704285a97e083b573bd60f",
       "version_major": 2,
       "version_minor": 0
      },
      "text/plain": [
       "Render HTML:   0%|          | 0/1 [00:00<?, ?it/s]"
      ]
     },
     "metadata": {},
     "output_type": "display_data"
    },
    {
     "data": {
      "application/vnd.jupyter.widget-view+json": {
       "model_id": "f6a44f561e3549ccab7e3af31ad3ba87",
       "version_major": 2,
       "version_minor": 0
      },
      "text/plain": [
       "Export report to file:   0%|          | 0/1 [00:00<?, ?it/s]"
      ]
     },
     "metadata": {},
     "output_type": "display_data"
    },
    {
     "data": {
      "application/vnd.jupyter.widget-view+json": {
       "model_id": "85148088300249e3b0025c7918f483a6",
       "version_major": 2,
       "version_minor": 0
      },
      "text/plain": [
       "Summarize dataset:   0%|          | 0/5 [00:00<?, ?it/s]"
      ]
     },
     "metadata": {},
     "output_type": "display_data"
    },
    {
     "data": {
      "application/vnd.jupyter.widget-view+json": {
       "model_id": "ae8dfe7058ab451a84ff7095773e8928",
       "version_major": 2,
       "version_minor": 0
      },
      "text/plain": [
       "Generate report structure:   0%|          | 0/1 [00:00<?, ?it/s]"
      ]
     },
     "metadata": {},
     "output_type": "display_data"
    },
    {
     "data": {
      "application/vnd.jupyter.widget-view+json": {
       "model_id": "8febcc640b6d45b5ae7fad42b83d93bb",
       "version_major": 2,
       "version_minor": 0
      },
      "text/plain": [
       "Render HTML:   0%|          | 0/1 [00:00<?, ?it/s]"
      ]
     },
     "metadata": {},
     "output_type": "display_data"
    },
    {
     "data": {
      "application/vnd.jupyter.widget-view+json": {
       "model_id": "45120fb9413a4812bb290b879ac3b3ab",
       "version_major": 2,
       "version_minor": 0
      },
      "text/plain": [
       "Export report to file:   0%|          | 0/1 [00:00<?, ?it/s]"
      ]
     },
     "metadata": {},
     "output_type": "display_data"
    },
    {
     "data": {
      "application/vnd.jupyter.widget-view+json": {
       "model_id": "21618ef2ba734f0ea112e62977c48bc1",
       "version_major": 2,
       "version_minor": 0
      },
      "text/plain": [
       "Summarize dataset:   0%|          | 0/5 [00:00<?, ?it/s]"
      ]
     },
     "metadata": {},
     "output_type": "display_data"
    },
    {
     "data": {
      "application/vnd.jupyter.widget-view+json": {
       "model_id": "6b919bbdeffa48049a128c4bb985a557",
       "version_major": 2,
       "version_minor": 0
      },
      "text/plain": [
       "Generate report structure:   0%|          | 0/1 [00:00<?, ?it/s]"
      ]
     },
     "metadata": {},
     "output_type": "display_data"
    },
    {
     "data": {
      "application/vnd.jupyter.widget-view+json": {
       "model_id": "7ca46ca4a75346fb84cd5a87a9a3635f",
       "version_major": 2,
       "version_minor": 0
      },
      "text/plain": [
       "Render HTML:   0%|          | 0/1 [00:00<?, ?it/s]"
      ]
     },
     "metadata": {},
     "output_type": "display_data"
    },
    {
     "data": {
      "application/vnd.jupyter.widget-view+json": {
       "model_id": "ec53c2af19454f8795a1e52533ce730c",
       "version_major": 2,
       "version_minor": 0
      },
      "text/plain": [
       "Export report to file:   0%|          | 0/1 [00:00<?, ?it/s]"
      ]
     },
     "metadata": {},
     "output_type": "display_data"
    },
    {
     "data": {
      "application/vnd.jupyter.widget-view+json": {
       "model_id": "dd4b92c13e054aa28e1f848684b132fd",
       "version_major": 2,
       "version_minor": 0
      },
      "text/plain": [
       "Summarize dataset:   0%|          | 0/5 [00:00<?, ?it/s]"
      ]
     },
     "metadata": {},
     "output_type": "display_data"
    },
    {
     "data": {
      "application/vnd.jupyter.widget-view+json": {
       "model_id": "6d29bf0bee214641a4661d714c61482a",
       "version_major": 2,
       "version_minor": 0
      },
      "text/plain": [
       "Generate report structure:   0%|          | 0/1 [00:00<?, ?it/s]"
      ]
     },
     "metadata": {},
     "output_type": "display_data"
    },
    {
     "data": {
      "application/vnd.jupyter.widget-view+json": {
       "model_id": "be69d4e26fa6476a9da5ab2657aa90ab",
       "version_major": 2,
       "version_minor": 0
      },
      "text/plain": [
       "Render HTML:   0%|          | 0/1 [00:00<?, ?it/s]"
      ]
     },
     "metadata": {},
     "output_type": "display_data"
    },
    {
     "data": {
      "application/vnd.jupyter.widget-view+json": {
       "model_id": "f1d0b8d73d8d44afa0835dbb082adeb6",
       "version_major": 2,
       "version_minor": 0
      },
      "text/plain": [
       "Export report to file:   0%|          | 0/1 [00:00<?, ?it/s]"
      ]
     },
     "metadata": {},
     "output_type": "display_data"
    },
    {
     "data": {
      "application/vnd.jupyter.widget-view+json": {
       "model_id": "cb7d9c2f86074223bc389c91dd0d9a5f",
       "version_major": 2,
       "version_minor": 0
      },
      "text/plain": [
       "Summarize dataset:   0%|          | 0/5 [00:00<?, ?it/s]"
      ]
     },
     "metadata": {},
     "output_type": "display_data"
    },
    {
     "data": {
      "application/vnd.jupyter.widget-view+json": {
       "model_id": "301a481a7b2746b19b49b50f8963cf17",
       "version_major": 2,
       "version_minor": 0
      },
      "text/plain": [
       "Generate report structure:   0%|          | 0/1 [00:00<?, ?it/s]"
      ]
     },
     "metadata": {},
     "output_type": "display_data"
    },
    {
     "data": {
      "application/vnd.jupyter.widget-view+json": {
       "model_id": "07c2c1e7571d4c7a9e794c5d0e4254b0",
       "version_major": 2,
       "version_minor": 0
      },
      "text/plain": [
       "Render HTML:   0%|          | 0/1 [00:00<?, ?it/s]"
      ]
     },
     "metadata": {},
     "output_type": "display_data"
    },
    {
     "data": {
      "application/vnd.jupyter.widget-view+json": {
       "model_id": "e9ba2ebffec6484dbae9ac82a396bf79",
       "version_major": 2,
       "version_minor": 0
      },
      "text/plain": [
       "Export report to file:   0%|          | 0/1 [00:00<?, ?it/s]"
      ]
     },
     "metadata": {},
     "output_type": "display_data"
    },
    {
     "data": {
      "application/vnd.jupyter.widget-view+json": {
       "model_id": "b3fa61817a9b46109e8429a17af086b1",
       "version_major": 2,
       "version_minor": 0
      },
      "text/plain": [
       "Summarize dataset:   0%|          | 0/5 [00:00<?, ?it/s]"
      ]
     },
     "metadata": {},
     "output_type": "display_data"
    },
    {
     "data": {
      "application/vnd.jupyter.widget-view+json": {
       "model_id": "a6eec76883fa47b1bbd4cbef4f19f15a",
       "version_major": 2,
       "version_minor": 0
      },
      "text/plain": [
       "Generate report structure:   0%|          | 0/1 [00:00<?, ?it/s]"
      ]
     },
     "metadata": {},
     "output_type": "display_data"
    },
    {
     "data": {
      "application/vnd.jupyter.widget-view+json": {
       "model_id": "9067618eedfc439c8780483b76176602",
       "version_major": 2,
       "version_minor": 0
      },
      "text/plain": [
       "Render HTML:   0%|          | 0/1 [00:00<?, ?it/s]"
      ]
     },
     "metadata": {},
     "output_type": "display_data"
    },
    {
     "data": {
      "application/vnd.jupyter.widget-view+json": {
       "model_id": "c76c79e5438e422d80ae907961cca1bc",
       "version_major": 2,
       "version_minor": 0
      },
      "text/plain": [
       "Export report to file:   0%|          | 0/1 [00:00<?, ?it/s]"
      ]
     },
     "metadata": {},
     "output_type": "display_data"
    }
   ],
   "source": [
    "# YOUR CODE HERE\n",
    "for dataset in datasets_to_profile:\n",
    "    ProfileReport(, title=dataset).to_file(f\"{dataset}.html\")"
   ]
  },
  {
   "cell_type": "markdown",
   "metadata": {},
   "source": [
    "## 2 - Investigate the cardinalities of your various DataFrames"
   ]
  },
  {
   "cell_type": "markdown",
   "metadata": {},
   "source": [
    "❓ **How many unique `orders`, `reviews`, `sellers`, `products` and `customer` is there ?**  \n",
    "(You can use pandas profiling or pandas methods on your notebook if you prefer)"
   ]
  },
  {
   "cell_type": "code",
   "execution_count": 30,
   "metadata": {
    "tags": [
     "challengify"
    ]
   },
   "outputs": [
    {
     "ename": "KeyError",
     "evalue": "'review_score'",
     "output_type": "error",
     "traceback": [
      "\u001b[0;31m---------------------------------------------------------------------------\u001b[0m",
      "\u001b[0;31mKeyError\u001b[0m                                  Traceback (most recent call last)",
      "\u001b[0;32m/var/folders/yf/53d25rm10gq_l7wdtlp_205w0000gn/T/ipykernel_80901/2281148580.py\u001b[0m in \u001b[0;36m<module>\u001b[0;34m\u001b[0m\n\u001b[1;32m      1\u001b[0m \u001b[0;31m# YOUR CODE HERE\u001b[0m\u001b[0;34m\u001b[0m\u001b[0;34m\u001b[0m\u001b[0;34m\u001b[0m\u001b[0m\n\u001b[0;32m----> 2\u001b[0;31m \u001b[0mdata\u001b[0m\u001b[0;34m[\u001b[0m\u001b[0;34m'review_score'\u001b[0m\u001b[0;34m]\u001b[0m\u001b[0;34m.\u001b[0m\u001b[0mdescribe\u001b[0m\u001b[0;34m(\u001b[0m\u001b[0;34m)\u001b[0m\u001b[0;34m\u001b[0m\u001b[0;34m\u001b[0m\u001b[0m\n\u001b[0m",
      "\u001b[0;31mKeyError\u001b[0m: 'review_score'"
     ]
    }
   ],
   "source": [
    "# YOUR CODE HERE\n",
    "data['review_score'].describe()"
   ]
  },
  {
   "cell_type": "markdown",
   "metadata": {},
   "source": [
    "❓ **How many reviews is there per order? Do we have reviews for all orders ?**\n",
    "<details>\n",
    "    <summary markdown='span'>Hints</summary>\n",
    "\n",
    "This info is not directly accessible in your individual csv. You'll need to proceed to merge\n",
    "</details>"
   ]
  },
  {
   "cell_type": "code",
   "execution_count": 33,
   "metadata": {
    "tags": [
     "challengify"
    ]
   },
   "outputs": [
    {
     "data": {
      "text/html": [
       "<div>\n",
       "<style scoped>\n",
       "    .dataframe tbody tr th:only-of-type {\n",
       "        vertical-align: middle;\n",
       "    }\n",
       "\n",
       "    .dataframe tbody tr th {\n",
       "        vertical-align: top;\n",
       "    }\n",
       "\n",
       "    .dataframe thead th {\n",
       "        text-align: right;\n",
       "    }\n",
       "</style>\n",
       "<table border=\"1\" class=\"dataframe\">\n",
       "  <thead>\n",
       "    <tr style=\"text-align: right;\">\n",
       "      <th></th>\n",
       "      <th>review_id</th>\n",
       "      <th>order_id</th>\n",
       "      <th>review_score</th>\n",
       "      <th>review_comment_title</th>\n",
       "      <th>review_comment_message</th>\n",
       "      <th>review_creation_date</th>\n",
       "      <th>review_answer_timestamp</th>\n",
       "      <th>customer_id</th>\n",
       "      <th>order_status</th>\n",
       "      <th>order_purchase_timestamp</th>\n",
       "      <th>order_approved_at</th>\n",
       "      <th>order_delivered_carrier_date</th>\n",
       "      <th>order_delivered_customer_date</th>\n",
       "      <th>order_estimated_delivery_date</th>\n",
       "    </tr>\n",
       "  </thead>\n",
       "  <tbody>\n",
       "    <tr>\n",
       "      <th>99224</th>\n",
       "      <td>NaN</td>\n",
       "      <td>403b97836b0c04a622354cf531062e5f</td>\n",
       "      <td>NaN</td>\n",
       "      <td>NaN</td>\n",
       "      <td>NaN</td>\n",
       "      <td>NaN</td>\n",
       "      <td>NaN</td>\n",
       "      <td>738b086814c6fcc74b8cc583f8516ee3</td>\n",
       "      <td>delivered</td>\n",
       "      <td>2018-01-02 19:00:43</td>\n",
       "      <td>2018-01-02 19:09:04</td>\n",
       "      <td>2018-01-03 18:19:09</td>\n",
       "      <td>2018-01-20 01:38:59</td>\n",
       "      <td>2018-02-06 00:00:00</td>\n",
       "    </tr>\n",
       "    <tr>\n",
       "      <th>99225</th>\n",
       "      <td>NaN</td>\n",
       "      <td>6942b8da583c2f9957e990d028607019</td>\n",
       "      <td>NaN</td>\n",
       "      <td>NaN</td>\n",
       "      <td>NaN</td>\n",
       "      <td>NaN</td>\n",
       "      <td>NaN</td>\n",
       "      <td>52006a9383bf149a4fb24226b173106f</td>\n",
       "      <td>shipped</td>\n",
       "      <td>2018-01-10 11:33:07</td>\n",
       "      <td>2018-01-11 02:32:30</td>\n",
       "      <td>2018-01-11 19:39:23</td>\n",
       "      <td>NaN</td>\n",
       "      <td>2018-02-07 00:00:00</td>\n",
       "    </tr>\n",
       "    <tr>\n",
       "      <th>99226</th>\n",
       "      <td>NaN</td>\n",
       "      <td>4906eeadde5f70b308c20c4a8f20be02</td>\n",
       "      <td>NaN</td>\n",
       "      <td>NaN</td>\n",
       "      <td>NaN</td>\n",
       "      <td>NaN</td>\n",
       "      <td>NaN</td>\n",
       "      <td>4e7656e34357b93f14b40c6400ca3f6e</td>\n",
       "      <td>delivered</td>\n",
       "      <td>2017-12-08 04:45:26</td>\n",
       "      <td>2017-12-12 03:50:30</td>\n",
       "      <td>2017-12-12 17:43:21</td>\n",
       "      <td>2018-01-09 18:04:58</td>\n",
       "      <td>2018-01-03 00:00:00</td>\n",
       "    </tr>\n",
       "    <tr>\n",
       "      <th>99227</th>\n",
       "      <td>NaN</td>\n",
       "      <td>b7a4a9ecb1cd3ef6a3e36a48e200e3be</td>\n",
       "      <td>NaN</td>\n",
       "      <td>NaN</td>\n",
       "      <td>NaN</td>\n",
       "      <td>NaN</td>\n",
       "      <td>NaN</td>\n",
       "      <td>c3d8fc500d86b1c961ee144395c13a57</td>\n",
       "      <td>delivered</td>\n",
       "      <td>2017-05-19 18:13:54</td>\n",
       "      <td>2017-05-20 11:35:41</td>\n",
       "      <td>2017-05-30 12:43:50</td>\n",
       "      <td>2017-06-08 07:53:42</td>\n",
       "      <td>2017-06-16 00:00:00</td>\n",
       "    </tr>\n",
       "    <tr>\n",
       "      <th>99228</th>\n",
       "      <td>NaN</td>\n",
       "      <td>59b32faedc12322c672e95ec3716d614</td>\n",
       "      <td>NaN</td>\n",
       "      <td>NaN</td>\n",
       "      <td>NaN</td>\n",
       "      <td>NaN</td>\n",
       "      <td>NaN</td>\n",
       "      <td>5baa82a2c45fa3220cb57d9881db3211</td>\n",
       "      <td>delivered</td>\n",
       "      <td>2018-06-27 11:10:11</td>\n",
       "      <td>2018-06-28 02:15:51</td>\n",
       "      <td>2018-06-28 14:57:00</td>\n",
       "      <td>2018-07-06 16:37:36</td>\n",
       "      <td>2018-07-26 00:00:00</td>\n",
       "    </tr>\n",
       "    <tr>\n",
       "      <th>...</th>\n",
       "      <td>...</td>\n",
       "      <td>...</td>\n",
       "      <td>...</td>\n",
       "      <td>...</td>\n",
       "      <td>...</td>\n",
       "      <td>...</td>\n",
       "      <td>...</td>\n",
       "      <td>...</td>\n",
       "      <td>...</td>\n",
       "      <td>...</td>\n",
       "      <td>...</td>\n",
       "      <td>...</td>\n",
       "      <td>...</td>\n",
       "      <td>...</td>\n",
       "    </tr>\n",
       "    <tr>\n",
       "      <th>99987</th>\n",
       "      <td>NaN</td>\n",
       "      <td>0c384d67524b5b92aa2fa6c8baa9a983</td>\n",
       "      <td>NaN</td>\n",
       "      <td>NaN</td>\n",
       "      <td>NaN</td>\n",
       "      <td>NaN</td>\n",
       "      <td>NaN</td>\n",
       "      <td>53421895d40d7df28d68c22ffa043355</td>\n",
       "      <td>delivered</td>\n",
       "      <td>2017-06-05 19:20:11</td>\n",
       "      <td>2017-06-05 19:30:18</td>\n",
       "      <td>2017-06-07 11:23:06</td>\n",
       "      <td>2017-06-13 14:09:21</td>\n",
       "      <td>2017-06-27 00:00:00</td>\n",
       "    </tr>\n",
       "    <tr>\n",
       "      <th>99988</th>\n",
       "      <td>NaN</td>\n",
       "      <td>906a6b0a96d89ee226e4977e99b80b9e</td>\n",
       "      <td>NaN</td>\n",
       "      <td>NaN</td>\n",
       "      <td>NaN</td>\n",
       "      <td>NaN</td>\n",
       "      <td>NaN</td>\n",
       "      <td>274a720e69d300bc7696c8570f8978fe</td>\n",
       "      <td>delivered</td>\n",
       "      <td>2017-08-28 15:14:21</td>\n",
       "      <td>2017-08-28 15:25:29</td>\n",
       "      <td>2017-08-31 15:25:01</td>\n",
       "      <td>2017-09-05 19:47:44</td>\n",
       "      <td>2017-09-18 00:00:00</td>\n",
       "    </tr>\n",
       "    <tr>\n",
       "      <th>99989</th>\n",
       "      <td>NaN</td>\n",
       "      <td>5333db16fe357175d39c82840dd3269d</td>\n",
       "      <td>NaN</td>\n",
       "      <td>NaN</td>\n",
       "      <td>NaN</td>\n",
       "      <td>NaN</td>\n",
       "      <td>NaN</td>\n",
       "      <td>7e008e5ec21e044fe30c34ec4e9d0747</td>\n",
       "      <td>delivered</td>\n",
       "      <td>2018-03-10 18:18:20</td>\n",
       "      <td>2018-03-13 04:08:22</td>\n",
       "      <td>2018-03-13 17:58:52</td>\n",
       "      <td>2018-04-03 15:32:52</td>\n",
       "      <td>2018-03-29 00:00:00</td>\n",
       "    </tr>\n",
       "    <tr>\n",
       "      <th>99990</th>\n",
       "      <td>NaN</td>\n",
       "      <td>2f2df159f26ddb73d55ee72372200d3e</td>\n",
       "      <td>NaN</td>\n",
       "      <td>NaN</td>\n",
       "      <td>NaN</td>\n",
       "      <td>NaN</td>\n",
       "      <td>NaN</td>\n",
       "      <td>86a7245fffe6a418ca1658a13ecc4531</td>\n",
       "      <td>delivered</td>\n",
       "      <td>2017-07-17 01:19:50</td>\n",
       "      <td>2017-07-17 01:30:09</td>\n",
       "      <td>2017-07-17 22:14:50</td>\n",
       "      <td>2017-07-26 09:44:00</td>\n",
       "      <td>2017-08-09 00:00:00</td>\n",
       "    </tr>\n",
       "    <tr>\n",
       "      <th>99991</th>\n",
       "      <td>NaN</td>\n",
       "      <td>dff2b9b8d7cfc595836945e1443789c3</td>\n",
       "      <td>NaN</td>\n",
       "      <td>NaN</td>\n",
       "      <td>NaN</td>\n",
       "      <td>NaN</td>\n",
       "      <td>NaN</td>\n",
       "      <td>2436fb2666a65fbacae82532e797cabf</td>\n",
       "      <td>delivered</td>\n",
       "      <td>2018-07-16 12:59:02</td>\n",
       "      <td>2018-07-17 04:21:00</td>\n",
       "      <td>2018-07-17 15:08:00</td>\n",
       "      <td>2018-07-20 20:41:32</td>\n",
       "      <td>2018-08-07 00:00:00</td>\n",
       "    </tr>\n",
       "  </tbody>\n",
       "</table>\n",
       "<p>768 rows × 14 columns</p>\n",
       "</div>"
      ],
      "text/plain": [
       "      review_id                          order_id  review_score  \\\n",
       "99224       NaN  403b97836b0c04a622354cf531062e5f           NaN   \n",
       "99225       NaN  6942b8da583c2f9957e990d028607019           NaN   \n",
       "99226       NaN  4906eeadde5f70b308c20c4a8f20be02           NaN   \n",
       "99227       NaN  b7a4a9ecb1cd3ef6a3e36a48e200e3be           NaN   \n",
       "99228       NaN  59b32faedc12322c672e95ec3716d614           NaN   \n",
       "...         ...                               ...           ...   \n",
       "99987       NaN  0c384d67524b5b92aa2fa6c8baa9a983           NaN   \n",
       "99988       NaN  906a6b0a96d89ee226e4977e99b80b9e           NaN   \n",
       "99989       NaN  5333db16fe357175d39c82840dd3269d           NaN   \n",
       "99990       NaN  2f2df159f26ddb73d55ee72372200d3e           NaN   \n",
       "99991       NaN  dff2b9b8d7cfc595836945e1443789c3           NaN   \n",
       "\n",
       "      review_comment_title review_comment_message review_creation_date  \\\n",
       "99224                  NaN                    NaN                  NaN   \n",
       "99225                  NaN                    NaN                  NaN   \n",
       "99226                  NaN                    NaN                  NaN   \n",
       "99227                  NaN                    NaN                  NaN   \n",
       "99228                  NaN                    NaN                  NaN   \n",
       "...                    ...                    ...                  ...   \n",
       "99987                  NaN                    NaN                  NaN   \n",
       "99988                  NaN                    NaN                  NaN   \n",
       "99989                  NaN                    NaN                  NaN   \n",
       "99990                  NaN                    NaN                  NaN   \n",
       "99991                  NaN                    NaN                  NaN   \n",
       "\n",
       "      review_answer_timestamp                       customer_id order_status  \\\n",
       "99224                     NaN  738b086814c6fcc74b8cc583f8516ee3    delivered   \n",
       "99225                     NaN  52006a9383bf149a4fb24226b173106f      shipped   \n",
       "99226                     NaN  4e7656e34357b93f14b40c6400ca3f6e    delivered   \n",
       "99227                     NaN  c3d8fc500d86b1c961ee144395c13a57    delivered   \n",
       "99228                     NaN  5baa82a2c45fa3220cb57d9881db3211    delivered   \n",
       "...                       ...                               ...          ...   \n",
       "99987                     NaN  53421895d40d7df28d68c22ffa043355    delivered   \n",
       "99988                     NaN  274a720e69d300bc7696c8570f8978fe    delivered   \n",
       "99989                     NaN  7e008e5ec21e044fe30c34ec4e9d0747    delivered   \n",
       "99990                     NaN  86a7245fffe6a418ca1658a13ecc4531    delivered   \n",
       "99991                     NaN  2436fb2666a65fbacae82532e797cabf    delivered   \n",
       "\n",
       "      order_purchase_timestamp    order_approved_at  \\\n",
       "99224      2018-01-02 19:00:43  2018-01-02 19:09:04   \n",
       "99225      2018-01-10 11:33:07  2018-01-11 02:32:30   \n",
       "99226      2017-12-08 04:45:26  2017-12-12 03:50:30   \n",
       "99227      2017-05-19 18:13:54  2017-05-20 11:35:41   \n",
       "99228      2018-06-27 11:10:11  2018-06-28 02:15:51   \n",
       "...                        ...                  ...   \n",
       "99987      2017-06-05 19:20:11  2017-06-05 19:30:18   \n",
       "99988      2017-08-28 15:14:21  2017-08-28 15:25:29   \n",
       "99989      2018-03-10 18:18:20  2018-03-13 04:08:22   \n",
       "99990      2017-07-17 01:19:50  2017-07-17 01:30:09   \n",
       "99991      2018-07-16 12:59:02  2018-07-17 04:21:00   \n",
       "\n",
       "      order_delivered_carrier_date order_delivered_customer_date  \\\n",
       "99224          2018-01-03 18:19:09           2018-01-20 01:38:59   \n",
       "99225          2018-01-11 19:39:23                           NaN   \n",
       "99226          2017-12-12 17:43:21           2018-01-09 18:04:58   \n",
       "99227          2017-05-30 12:43:50           2017-06-08 07:53:42   \n",
       "99228          2018-06-28 14:57:00           2018-07-06 16:37:36   \n",
       "...                            ...                           ...   \n",
       "99987          2017-06-07 11:23:06           2017-06-13 14:09:21   \n",
       "99988          2017-08-31 15:25:01           2017-09-05 19:47:44   \n",
       "99989          2018-03-13 17:58:52           2018-04-03 15:32:52   \n",
       "99990          2017-07-17 22:14:50           2017-07-26 09:44:00   \n",
       "99991          2018-07-17 15:08:00           2018-07-20 20:41:32   \n",
       "\n",
       "      order_estimated_delivery_date  \n",
       "99224           2018-02-06 00:00:00  \n",
       "99225           2018-02-07 00:00:00  \n",
       "99226           2018-01-03 00:00:00  \n",
       "99227           2017-06-16 00:00:00  \n",
       "99228           2018-07-26 00:00:00  \n",
       "...                             ...  \n",
       "99987           2017-06-27 00:00:00  \n",
       "99988           2017-09-18 00:00:00  \n",
       "99989           2018-03-29 00:00:00  \n",
       "99990           2017-08-09 00:00:00  \n",
       "99991           2018-08-07 00:00:00  \n",
       "\n",
       "[768 rows x 14 columns]"
      ]
     },
     "execution_count": 33,
     "metadata": {},
     "output_type": "execute_result"
    }
   ],
   "source": [
    "# YOUR CODE HERE\n",
    "df = data['order_reviews'].merge(data['orders'], how='outer')\n",
    "df[df['review_score'].isnull()]"
   ]
  },
  {
   "cell_type": "markdown",
   "metadata": {},
   "source": [
    "🧪 **Test your code below**"
   ]
  },
  {
   "cell_type": "markdown",
   "metadata": {},
   "source": [
    "Store the number of orders with missing reviews as `int` in a variable named `n_missing_reviews`"
   ]
  },
  {
   "cell_type": "code",
   "execution_count": 0,
   "metadata": {
    "tags": [
     "challengify"
    ]
   },
   "outputs": [],
   "source": [
    "# YOUR CODE HERE"
   ]
  },
  {
   "cell_type": "code",
   "execution_count": 0,
   "metadata": {},
   "outputs": [],
   "source": [
    "from nbresult import ChallengeResult\n",
    "\n",
    "result = ChallengeResult('exploratory',\n",
    "    n=n_missing_reviews\n",
    ")\n",
    "result.write()\n",
    "print(result.check())"
   ]
  },
  {
   "cell_type": "code",
   "execution_count": 0,
   "metadata": {},
   "outputs": [],
   "source": []
  }
 ],
 "metadata": {
  "kernelspec": {
   "display_name": "Python 3 (ipykernel)",
   "language": "python",
   "name": "python3"
  },
  "language_info": {
   "codemirror_mode": {
    "name": "ipython",
    "version": 3
   },
   "file_extension": ".py",
   "mimetype": "text/x-python",
   "name": "python",
   "nbconvert_exporter": "python",
   "pygments_lexer": "ipython3",
   "version": "3.8.12"
  },
  "toc": {
   "base_numbering": 1,
   "nav_menu": {},
   "number_sections": true,
   "sideBar": true,
   "skip_h1_title": false,
   "title_cell": "Table of Contents",
   "title_sidebar": "Contents",
   "toc_cell": false,
   "toc_position": {},
   "toc_section_display": true,
   "toc_window_display": false
  }
 },
 "nbformat": 4,
 "nbformat_minor": 4
}
