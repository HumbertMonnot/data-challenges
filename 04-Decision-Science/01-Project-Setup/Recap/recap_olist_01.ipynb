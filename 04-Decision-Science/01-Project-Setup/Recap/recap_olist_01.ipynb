{
 "cells": [
  {
   "cell_type": "markdown",
   "metadata": {},
   "source": [
    "# Transfer `get_data` logic into `olist.py`"
   ]
  },
  {
   "cell_type": "code",
   "execution_count": 28,
   "metadata": {},
   "outputs": [],
   "source": [
    "%load_ext autoreload\n",
    "%autoreload 2\n",
    "import os\n",
    "import pandas as pd\n",
    "import matplotlib.pyplot as plt"
   ]
  },
  {
   "cell_type": "markdown",
   "metadata": {},
   "source": [
    "## Create draft code on notebook"
   ]
  },
  {
   "cell_type": "code",
   "execution_count": 2,
   "metadata": {},
   "outputs": [],
   "source": [
    "import os\n",
    "import pandas as pd\n",
    "\n",
    "# Build relative path to cdv folder\n",
    "csv_path = '../../data/csv'\n",
    "csv_path = os.path.join('..','..','data','csv') # more robust to Linux/OS/Windows discrepency\n",
    "file_names = [f for f in os.listdir(csv_path) if f.endswith('.csv')]"
   ]
  },
  {
   "cell_type": "code",
   "execution_count": null,
   "metadata": {},
   "outputs": [],
   "source": [
    "def key_from_file_name(f):\n",
    "    if f == 'product_category_name_translation.csv':\n",
    "        return 'product_category_name_translation'\n",
    "    else:\n",
    "        return f[6:-12]\n",
    "\n",
    "data = {}\n",
    "for f in file_names:\n",
    "    data[key_from_file_name(f)] = pd.read_csv(os.path.join(csv_path, f))\n",
    "data.keys()"
   ]
  },
  {
   "cell_type": "markdown",
   "metadata": {},
   "source": [
    "## Transfer to `olist.py`\n",
    "```python\n",
    "from olist.data import Olist\n",
    "Olist().get_data()\n",
    "```\n",
    "- Before rushing, take time to understand step by step what happens calling `Olist().get_data()`\n",
    "- Make extensive use of `import ipdb; ipdb.set_trace()` to investigate what happens step by step - this is a great exercice to learn to debug!\n",
    "- Your method `get_data()` needs to be callable from anywhere (the Command Terminal, this notebook, another one at a different place, etc...)\n",
    "- Using relative path will not work this time, as the current working directory `os.getcwd()` from wich relative path are computed depends on where you run the code in the first place\n",
    "- You will have to code the absolute path for the csv folder\n",
    " \n",
    "<details>\n",
    "    <summary>Hints</summary>\n",
    "\n",
    "\n",
    "Have a look at `__file__` built-in python object\n",
    "</details>"
   ]
  },
  {
   "cell_type": "code",
   "execution_count": null,
   "metadata": {
    "scrolled": true
   },
   "outputs": [],
   "source": [
    "# Test your code\n",
    "from olist.data import Olist\n",
    "Olist().get_data()"
   ]
  },
  {
   "cell_type": "markdown",
   "metadata": {},
   "source": [
    "# Let's build a new business metric : Weekly Sales\n",
    "\n",
    "Plot weekly sum of `payment_value` for delivered order in to get a proxy of Olist's weekly revenues"
   ]
  },
  {
   "cell_type": "code",
   "execution_count": 30,
   "metadata": {},
   "outputs": [],
   "source": [
    "#❓ Pseudo code your process in english below before actually coding"
   ]
  },
  {
   "cell_type": "code",
   "execution_count": 30,
   "metadata": {},
   "outputs": [],
   "source": [
    "#❓ Let's code"
   ]
  }
 ],
 "metadata": {
  "kernelspec": {
   "display_name": "Python 3",
   "language": "python",
   "name": "python3"
  },
  "language_info": {
   "codemirror_mode": {
    "name": "ipython",
    "version": 3
   },
   "file_extension": ".py",
   "mimetype": "text/x-python",
   "name": "python",
   "nbconvert_exporter": "python",
   "pygments_lexer": "ipython3",
   "version": "3.7.7"
  },
  "toc": {
   "base_numbering": 1,
   "nav_menu": {},
   "number_sections": true,
   "sideBar": true,
   "skip_h1_title": false,
   "title_cell": "Table of Contents",
   "title_sidebar": "Contents",
   "toc_cell": false,
   "toc_position": {
    "height": "calc(100% - 180px)",
    "left": "10px",
    "top": "150px",
    "width": "374px"
   },
   "toc_section_display": true,
   "toc_window_display": true
  },
  "varInspector": {
   "cols": {
    "lenName": 16,
    "lenType": 16,
    "lenVar": 40
   },
   "kernels_config": {
    "python": {
     "delete_cmd_postfix": "",
     "delete_cmd_prefix": "del ",
     "library": "var_list.py",
     "varRefreshCmd": "print(var_dic_list())"
    },
    "r": {
     "delete_cmd_postfix": ") ",
     "delete_cmd_prefix": "rm(",
     "library": "var_list.r",
     "varRefreshCmd": "cat(var_dic_list()) "
    }
   },
   "types_to_exclude": [
    "module",
    "function",
    "builtin_function_or_method",
    "instance",
    "_Feature"
   ],
   "window_display": false
  }
 },
 "nbformat": 4,
 "nbformat_minor": 4
}
