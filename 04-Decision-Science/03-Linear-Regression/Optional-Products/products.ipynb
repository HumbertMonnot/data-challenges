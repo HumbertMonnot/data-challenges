{
 "cells": [
  {
   "cell_type": "markdown",
   "metadata": {},
   "source": [
    "# Products"
   ]
  },
  {
   "cell_type": "markdown",
   "metadata": {},
   "source": [
    "The following analysis of Products is relatively similar than that of Sellers.\n",
    "Our goal is to find products that repetively underperform others, and understand why.\n",
    "This will help us shape our recommendations on how to improve Olist's profit margin"
   ]
  },
  {
   "cell_type": "markdown",
   "metadata": {},
   "source": [
    "## 0 - Code `get_training_data` in olist/product.py"
   ]
  },
  {
   "cell_type": "markdown",
   "metadata": {},
   "source": [
    "Create the `get_training_data` method in `olist/product.py` that will return the following DataFrame:\n",
    "\n",
    "  - `product_id` (_str_) _the id of the product_\n",
    "  - `category` (_str_) _the category name (in english)_\n",
    "  - `height` (_float_) _height of the product (in cm)_\n",
    "  - `width` (_float_) _width of the product (in cm)_\n",
    "  - `length` (_float_) _length of the product (in cm)_\n",
    "  - `weight` (_float_) _weight of the product (in g)_\n",
    "  - `price` (_float_) _average price at which the product is sold_\n",
    "  - `freight_value` (_float_) _average value of freight_\n",
    "  - `product_name_length` (_float_) _character length of product name_\n",
    "  - `product_description_length` (_float_) _character length of product description_\n",
    "  - `n_orders` (_int_) _the number of orders in which the product appeared_\n",
    "  - `quantity` (_int_) _the total number of product sold_\n",
    "  - `wait_time` (_float_) _the average wait time in days for orders in which the product was sold._\n",
    "  - `share_of_five_stars` (_float_) _The share of five stars orders for orders in which the product was sold_\n",
    "  - `share_of_one_stars` (_float_) _The share of one stars orders for orders in which the product was sold_\n",
    "  - `review_score` (_float_) _The average review score of the order in which each product is sold_\n",
    "  \n",
    "Feel free to code all the intermediary methods below if you prefer to breakdown the problem step by step.\n",
    "\n",
    "✅ Once your logic is encoded, commit and push your new file `order.py`"
   ]
  },
  {
   "cell_type": "code",
   "execution_count": null,
   "metadata": {
    "scrolled": true
   },
   "outputs": [],
   "source": [
    "%load_ext autoreload\n",
    "%autoreload 2\n",
    "\n",
    "import numpy as np\n",
    "import pandas as pd\n",
    "import seaborn as sns\n",
    "import matplotlib.pyplot as plt\n",
    "import statsmodels.formula.api as smf"
   ]
  },
  {
   "cell_type": "markdown",
   "metadata": {},
   "source": [
    "### get_product_features(self):\n",
    "        \"\"\"\n",
    "        Returns a DataFrame with:\n",
    "       'product_id', 'product_category_name', 'product_name_lenght',\n",
    "       'product_description_lenght', 'product_photos_qty', 'product_weight_g',\n",
    "       'product_length_cm', 'product_height_cm', 'product_width_cm'\n",
    "        \"\"\""
   ]
  },
  {
   "cell_type": "code",
   "execution_count": null,
   "metadata": {},
   "outputs": [],
   "source": []
  },
  {
   "cell_type": "markdown",
   "metadata": {},
   "source": [
    "### get_price(self):\n",
    "        \"\"\"\n",
    "        Return a DataFrame with:\n",
    "        'product_id', 'price'\n",
    "        \"\"\""
   ]
  },
  {
   "cell_type": "code",
   "execution_count": null,
   "metadata": {},
   "outputs": [],
   "source": []
  },
  {
   "cell_type": "markdown",
   "metadata": {},
   "source": [
    "### def get_wait_time(self):\n",
    "        \"\"\"\n",
    "        Returns a DataFrame with:\n",
    "        'product_id', 'wait_time'\n",
    "        \"\"\""
   ]
  },
  {
   "cell_type": "code",
   "execution_count": null,
   "metadata": {},
   "outputs": [],
   "source": []
  },
  {
   "cell_type": "markdown",
   "metadata": {},
   "source": [
    "### get_review_score(self):\n",
    "        \"\"\"\n",
    "        Returns a DataFrame with:\n",
    "        'product_id', 'share_of_five_stars', 'share_of_one_stars',\n",
    "        'avg_review_score'\n",
    "        \"\"\""
   ]
  },
  {
   "cell_type": "code",
   "execution_count": null,
   "metadata": {},
   "outputs": [],
   "source": []
  },
  {
   "cell_type": "markdown",
   "metadata": {},
   "source": [
    "### get_quantity\n",
    "        \"\"\"\n",
    "        Returns a DataFrame with:\n",
    "        'product_id', 'n_orders', 'quantity'\n",
    "        \"\"\""
   ]
  },
  {
   "cell_type": "code",
   "execution_count": null,
   "metadata": {},
   "outputs": [],
   "source": []
  },
  {
   "cell_type": "markdown",
   "metadata": {},
   "source": [
    "## 1 -Product category analysis"
   ]
  },
  {
   "cell_type": "markdown",
   "metadata": {},
   "source": [
    "Let's start by looking at the performance of product categories:\n",
    "\n",
    "Create a DataFrame aggregating, for each product category, all the products properties.  \n",
    "Use sum for `quantity` and the aggregation function of your choice for all other properties.  For instance:\n",
    "\n",
    "  - `quantity` (sum)\n",
    "  - `wait_time` (median)\n",
    "  - `review_score` (median)\n",
    "  - `price` (median)\n",
    "  - ....\n",
    "\n",
    "Store it in the method `get_product_cat(self, agg=\"median\")` in product.py for later use."
   ]
  },
  {
   "cell_type": "code",
   "execution_count": 34,
   "metadata": {},
   "outputs": [],
   "source": [
    "# Your code below"
   ]
  },
  {
   "cell_type": "markdown",
   "metadata": {},
   "source": [
    "----\n",
    "❓ Plot one histogram per features, in one figure, and look for features with outliers"
   ]
  },
  {
   "cell_type": "code",
   "execution_count": null,
   "metadata": {},
   "outputs": [],
   "source": []
  },
  {
   "cell_type": "markdown",
   "metadata": {},
   "source": [
    "❓ Using plotly, create a scatterplot of `review_score` against `n_orders`, varying bubble size by total `sales` for that category\n",
    "\n",
    "- Do you notice underperforming product categories?\n",
    "- Experiment with other x-axis features (`wait_time` for instance) and with `share_of_one_stars` instead of `review_score` as y-axis\n",
    "- Remember that Olist gets a revenue proportional to the sale prices, and get a cost penality at for each low review.\n",
    "- Can you think of a strategy to improve Olist's profit margin as per CEO request? (keep it in mind for later!)"
   ]
  },
  {
   "cell_type": "code",
   "execution_count": null,
   "metadata": {},
   "outputs": [],
   "source": []
  },
  {
   "cell_type": "markdown",
   "metadata": {},
   "source": [
    "## 2 - Regress review_score on product categories\n"
   ]
  },
  {
   "cell_type": "markdown",
   "metadata": {},
   "source": [
    "We have seen that some products like Furnitures correlate both with higher `wait_time` and lower `review_score`. \n",
    "\n",
    "Can we isolate the true contribution of each product category on customer satisfaction, by holding `wait_time` constant? \n",
    "\n",
    "Using statsmodel.formula.api, run an OLS to model `review_score`\n",
    "\n",
    "- Which dataset should you use for this regression? `product_cat` or the entire `products` training dataset?\n",
    "\n",
    "- Which regressors / independent variables / features should you use? \n",
    "\n",
    "Investigate the results: Which product categories correlate with higher review_score holding wait_time constant?\n",
    "\n",
    "Feel free to use `return_significative_coef(model)` coded for you in `olist/utils.py`"
   ]
  },
  {
   "cell_type": "markdown",
   "metadata": {},
   "source": [
    "✅ Congratulation with this challenge! Commit and push your notebook before moving to the next one!"
   ]
  },
  {
   "cell_type": "code",
   "execution_count": null,
   "metadata": {},
   "outputs": [],
   "source": []
  }
 ],
 "metadata": {
  "kernelspec": {
   "display_name": "Python 3",
   "language": "python",
   "name": "python3"
  },
  "language_info": {
   "codemirror_mode": {
    "name": "ipython",
    "version": 3
   },
   "file_extension": ".py",
   "mimetype": "text/x-python",
   "name": "python",
   "nbconvert_exporter": "python",
   "pygments_lexer": "ipython3",
   "version": "3.7.6"
  },
  "toc": {
   "base_numbering": 1,
   "nav_menu": {},
   "number_sections": false,
   "sideBar": true,
   "skip_h1_title": false,
   "title_cell": "Table of Contents",
   "title_sidebar": "Contents",
   "toc_cell": false,
   "toc_position": {},
   "toc_section_display": true,
   "toc_window_display": true
  }
 },
 "nbformat": 4,
 "nbformat_minor": 2
}
