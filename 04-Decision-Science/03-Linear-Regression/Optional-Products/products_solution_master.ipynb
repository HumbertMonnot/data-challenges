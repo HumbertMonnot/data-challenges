{
 "cells": [
  {
   "cell_type": "markdown",
   "metadata": {},
   "source": [
    "# Products"
   ]
  },
  {
   "cell_type": "markdown",
   "metadata": {},
   "source": [
    "Our goal is to find product **categories** that repeatdely underperform vs others, and understand why"
   ]
  },
  {
   "cell_type": "markdown",
   "metadata": {},
   "source": [
    "## 0 - `product.py` "
   ]
  },
  {
   "cell_type": "markdown",
   "metadata": {},
   "source": [
    "We have given you the solution to `product.py` in your challenge folder\n",
    "👉 Copy-paste it to your local olist/product.py folder"
   ]
  },
  {
   "cell_type": "markdown",
   "metadata": {},
   "source": [
    "It provides aggregates at a `product_id` level of the various orders that have taken place with Olist"
   ]
  },
  {
   "cell_type": "markdown",
   "metadata": {},
   "source": [
    "`get_training_data` method in `olist/product.py` returns the following DataFrame:\n",
    "\n",
    "  - `product_id` (_str_) _the id of the product_ **UNIQUE**\n",
    "  - `category` (_str_) _the category name (in English)_\n",
    "  - `product_name_length` (_float_) _character length of product name_\n",
    "  - `product_description_length` (_float_) _character length of product description_\n",
    "  - `product_photos_qty` (_int_) _the number of photos for the product_\n",
    "  - `product_weight_g` (_float_) _weight of the product (in g)_\n",
    "  - `product_length_cm` (_float_) _length of the product (in cm)_\n",
    "  - `product_height_cm` (_float_) _height of the product (in cm)_\n",
    "  - `product_width_cm` (_float_) _width of the product (in cm)_\n",
    "  - `price` (_float_) _average price at which the product is sold_\n",
    "  - `wait_time` (_float_) _the average wait time in days for orders in which the product was sold._\n",
    "  - `share_of_five_stars` (_float_) _the share of five star orders for orders in which the product was sold_\n",
    "  - `share_of_one_stars` (_float_) _the share of one star orders for orders in which the product was sold_\n",
    "  - `review_score` (_float_) _the average review score of the order in which each product is sold_\n",
    "  - `n_orders` (_int_) _the number of orders in which the product appeared_\n",
    "  - `quantity` (_int_) _the total number of products sold_\n",
    "  - `sales` (_float_) _the total value of sales in $BRL for the product_"
   ]
  },
  {
   "cell_type": "markdown",
   "metadata": {},
   "source": [
    "## 1 - Analysis per product_id"
   ]
  },
  {
   "cell_type": "code",
   "execution_count": 1,
   "metadata": {
    "scrolled": true
   },
   "outputs": [],
   "source": [
    "%load_ext autoreload\n",
    "%autoreload 2\n",
    "\n",
    "import numpy as np\n",
    "import pandas as pd\n",
    "import seaborn as sns\n",
    "import matplotlib.pyplot as plt\n",
    "import statsmodels.formula.api as smf"
   ]
  },
  {
   "cell_type": "markdown",
   "metadata": {},
   "source": [
    "❓ Inspect the new `Product().get_training_data()` dataframe, for instance by plotting histograms of each variable using `plt.hist()`. "
   ]
  },
  {
   "cell_type": "code",
   "execution_count": 4,
   "metadata": {
    "ExecuteTime": {
     "end_time": "2021-01-27T10:00:47.684469Z",
     "start_time": "2021-01-27T10:00:41.712771Z"
    }
   },
   "outputs": [],
   "source": [
    "from olist.product import Product\n",
    "products = Product().get_training_data()"
   ]
  },
  {
   "cell_type": "code",
   "execution_count": 3,
   "metadata": {
    "scrolled": true
   },
   "outputs": [],
   "source": [
    "products.head()"
   ]
  },
  {
   "cell_type": "code",
   "execution_count": 4,
   "metadata": {},
   "outputs": [],
   "source": [
    "products.describe()"
   ]
  },
  {
   "cell_type": "code",
   "execution_count": 5,
   "metadata": {},
   "outputs": [],
   "source": [
    "products.hist()\n",
    "fig = plt.gcf()\n",
    "fig.set_size_inches(15,10)"
   ]
  },
  {
   "cell_type": "code",
   "execution_count": 9,
   "metadata": {
    "scrolled": true
   },
   "outputs": [],
   "source": [
    "plt.figure(figsize=(20,20))\n",
    "for (i, col) in enumerate(products.set_index('product_id').drop(columns='category').columns):\n",
    "    plt.subplot(5,5,i+1)\n",
    "    sns.histplot(products[col])"
   ]
  },
  {
   "cell_type": "markdown",
   "metadata": {},
   "source": [
    "❓ Model review_score by an OLS with the continuous feature of your choice, and discover the R-squared and important features"
   ]
  },
  {
   "cell_type": "markdown",
   "metadata": {},
   "source": [
    "## 2 - Aggregation per product categories"
   ]
  },
  {
   "cell_type": "markdown",
   "metadata": {},
   "source": [
    "### 2.1 - Build aggregated dataframe"
   ]
  },
  {
   "cell_type": "markdown",
   "metadata": {},
   "source": [
    "❓ Create a function `get_product_cat` which accepts an aggregating method as an argument and returns a DataFrame with each `product_category`'s `quantity` summed and all other non `str` type properties aggregated with the passed method.  \n",
    "For instance `get_product_cat('median')` returns:\n",
    "\n",
    "  - `quantity` (sum)\n",
    "  - `wait_time` (median)\n",
    "  - `review_score` (median)\n",
    "  - `price` (median)\n",
    "  - ...."
   ]
  },
  {
   "cell_type": "code",
   "execution_count": 7,
   "metadata": {},
   "outputs": [],
   "source": [
    "products.category.nunique()"
   ]
  },
  {
   "cell_type": "code",
   "execution_count": 10,
   "metadata": {},
   "outputs": [],
   "source": [
    "products.groupby(\"category\")['product_id'].count()"
   ]
  },
  {
   "cell_type": "code",
   "execution_count": 11,
   "metadata": {},
   "outputs": [],
   "source": [
    "sns.displot(products.groupby(\"category\")['product_id'].count())\n",
    "plt.title('number of unique product_id per category')"
   ]
  },
  {
   "cell_type": "code",
   "execution_count": 5,
   "metadata": {
    "ExecuteTime": {
     "end_time": "2021-01-27T10:00:56.518120Z",
     "start_time": "2021-01-27T10:00:56.514170Z"
    }
   },
   "outputs": [],
   "source": [
    "def get_product_cat(agg=\"mean\"):\n",
    "    columns = list(products.select_dtypes(exclude=['object']).columns)\n",
    "    agg_params = dict(zip(columns, [agg] * len(columns)))\n",
    "    agg_params['quantity'] = 'sum'\n",
    "\n",
    "    return products.groupby(\"category\").agg(agg_params)\n"
   ]
  },
  {
   "cell_type": "markdown",
   "metadata": {},
   "source": [
    "### Test code"
   ]
  },
  {
   "cell_type": "code",
   "execution_count": 7,
   "metadata": {
    "ExecuteTime": {
     "end_time": "2021-01-27T10:01:53.744088Z",
     "start_time": "2021-01-27T10:01:53.417507Z"
    }
   },
   "outputs": [],
   "source": [
    "from nbresult import ChallengeResult\n",
    "product_cat = get_product_cat('mean')\n",
    "result = ChallengeResult('products',\n",
    "    shape=product_cat.shape,\n",
    "    avg_review_score=int(product_cat['review_score'].mean()),\n",
    "    avg_price=int(product_cat['price'].mean()),\n",
    "    avg_quantity=int(product_cat['quantity'].mean())\n",
    ")\n",
    "result.write()\n",
    "print(result.check())"
   ]
  },
  {
   "cell_type": "markdown",
   "metadata": {},
   "source": [
    "### 2.2 - Exploration"
   ]
  },
  {
   "cell_type": "markdown",
   "metadata": {},
   "source": [
    "❓ What are the best performing product categories?"
   ]
  },
  {
   "cell_type": "code",
   "execution_count": 128,
   "metadata": {},
   "outputs": [],
   "source": [
    "product_cat[['review_score']].sort_values(by='review_score')"
   ]
  },
  {
   "cell_type": "markdown",
   "metadata": {},
   "source": []
  },
  {
   "cell_type": "markdown",
   "metadata": {},
   "source": [
    "❓ Let's try to understand _why_ some categories are performing better than others. \n",
    "\n",
    "Using plotly, create different scatterplots, varying `x`, `y`, `color` and `size`, to finds clues about factors impacting the \"review_score\". \n",
    "\n",
    "- Do you notice underperforming product categories?\n",
    "- Can you think of a strategy to improve Olist's profit margin as per the CEO request?\n",
    "\n",
    "<details>\n",
    "    <summary>Hints</summary>\n",
    "\n",
    "Try plotting `product_length_cm` against `wait_time`, with color as `review_score`, and bubble size as \"sales\" for instance\n",
    "</details>"
   ]
  },
  {
   "cell_type": "code",
   "execution_count": 112,
   "metadata": {},
   "outputs": [],
   "source": [
    "# YOUR CODE BELOW\n",
    "import plotly.express as px"
   ]
  },
  {
   "cell_type": "code",
   "execution_count": 69,
   "metadata": {},
   "outputs": [],
   "source": [
    "product_cat['sales'] = product_cat['price'] * product_cat['quantity']"
   ]
  },
  {
   "cell_type": "code",
   "execution_count": 113,
   "metadata": {},
   "outputs": [],
   "source": [
    "fig = px.scatter(\n",
    "    product_cat[product_cat['quantity'] > 200].reset_index(),\n",
    "    x=\"wait_time\",\n",
    "    y=\"product_length_cm\",\n",
    "    size=\"sales\",\n",
    "    hover_name=\"category\",\n",
    "    color=\"review_score\",\n",
    "    size_max=40,\n",
    ")\n",
    "fig.show()"
   ]
  },
  {
   "cell_type": "markdown",
   "metadata": {},
   "source": [
    "### 2.3 - Causal inference"
   ]
  },
  {
   "cell_type": "markdown",
   "metadata": {},
   "source": [
    "☝️ It seems that large products like furniture, which happen to take longer to deliver, are performing worse than other products. Are consumers disappointed about the product itself, or by the slow delivery time?"
   ]
  },
  {
   "cell_type": "markdown",
   "metadata": {},
   "source": [
    "❓ Run an OLS to model `review_score` so as to isolate the true contribution of each product category on customer satisfaction, by holding `wait_time` constant? \n",
    "\n",
    "- Which dataset should you use for this regression? `product_cat` or the entire `products` training dataset?\n",
    "\n",
    "- Which regressors / independent variables / features should you use? \n",
    "\n",
    "Investigate the results: which product categories correlate with higher review_score holding wait_time constant?\n",
    "\n",
    "Feel free to use `return_significative_coef(model)` coded for you in `olist/utils.py`"
   ]
  },
  {
   "cell_type": "code",
   "execution_count": 122,
   "metadata": {},
   "outputs": [],
   "source": [
    "model = smf.ols(formula='review_score ~ C(category) + wait_time', data=data).fit()"
   ]
  },
  {
   "cell_type": "code",
   "execution_count": 123,
   "metadata": {},
   "outputs": [],
   "source": [
    "print(model.rsquared)"
   ]
  },
  {
   "cell_type": "code",
   "execution_count": 124,
   "metadata": {
    "collapsed": true,
    "jupyter": {
     "outputs_hidden": true
    }
   },
   "outputs": [],
   "source": [
    "model.summary()"
   ]
  },
  {
   "cell_type": "code",
   "execution_count": 130,
   "metadata": {},
   "outputs": [],
   "source": [
    "# top 5 coef with p-value < 0.05\n",
    "from olist.utils import return_significative_coef\n",
    "return_significative_coef(model)"
   ]
  },
  {
   "cell_type": "markdown",
   "metadata": {},
   "source": [
    "☝️ Furniture is no longer in the list of signigicant coefficients. The problem may have come from delivery rather than the product itself! On the contrary, books are regularly driving higher reviews, even after accounting for generally quicker delivery time. "
   ]
  },
  {
   "cell_type": "markdown",
   "metadata": {},
   "source": [
    "🏁 **Congratulations with this final challenge! Don't forget to commit and push your analysis**"
   ]
  },
  {
   "cell_type": "code",
   "execution_count": null,
   "metadata": {},
   "outputs": [],
   "source": []
  }
 ],
 "metadata": {
  "kernelspec": {
   "display_name": "Python 3",
   "language": "python",
   "name": "python3"
  },
  "language_info": {
   "codemirror_mode": {
    "name": "ipython",
    "version": 3
   },
   "file_extension": ".py",
   "mimetype": "text/x-python",
   "name": "python",
   "nbconvert_exporter": "python",
   "pygments_lexer": "ipython3",
   "version": "3.7.7"
  },
  "toc": {
   "base_numbering": 1,
   "nav_menu": {},
   "number_sections": false,
   "sideBar": true,
   "skip_h1_title": false,
   "title_cell": "Table of Contents",
   "title_sidebar": "Contents",
   "toc_cell": false,
   "toc_position": {},
   "toc_section_display": true,
   "toc_window_display": true
  },
  "varInspector": {
   "cols": {
    "lenName": 16,
    "lenType": 16,
    "lenVar": 40
   },
   "kernels_config": {
    "python": {
     "delete_cmd_postfix": "",
     "delete_cmd_prefix": "del ",
     "library": "var_list.py",
     "varRefreshCmd": "print(var_dic_list())"
    },
    "r": {
     "delete_cmd_postfix": ") ",
     "delete_cmd_prefix": "rm(",
     "library": "var_list.r",
     "varRefreshCmd": "cat(var_dic_list()) "
    }
   },
   "types_to_exclude": [
    "module",
    "function",
    "builtin_function_or_method",
    "instance",
    "_Feature"
   ],
   "window_display": false
  }
 },
 "nbformat": 4,
 "nbformat_minor": 4
}
