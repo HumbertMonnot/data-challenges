{
 "cells": [
  {
   "cell_type": "markdown",
   "metadata": {
    "heading_collapsed": true
   },
   "source": [
    "# Mea Culpa on Partial Regression Plot"
   ]
  },
  {
   "cell_type": "code",
   "execution_count": 5,
   "metadata": {
    "hidden": true
   },
   "outputs": [],
   "source": [
    "import seaborn as sns\n",
    "import pandas as pd\n",
    "import numpy as np\n",
    "import matplotlib.pyplot as plt\n",
    "import statsmodels.formula.api as smf\n",
    "import statsmodels.api as sm"
   ]
  },
  {
   "cell_type": "code",
   "execution_count": 7,
   "metadata": {
    "hidden": true
   },
   "outputs": [
    {
     "data": {
      "text/html": [
       "<div>\n",
       "<style scoped>\n",
       "    .dataframe tbody tr th:only-of-type {\n",
       "        vertical-align: middle;\n",
       "    }\n",
       "\n",
       "    .dataframe tbody tr th {\n",
       "        vertical-align: top;\n",
       "    }\n",
       "\n",
       "    .dataframe thead th {\n",
       "        text-align: right;\n",
       "    }\n",
       "</style>\n",
       "<table border=\"1\" class=\"dataframe\">\n",
       "  <thead>\n",
       "    <tr style=\"text-align: right;\">\n",
       "      <th></th>\n",
       "      <th>mpg</th>\n",
       "      <th>cylinders</th>\n",
       "      <th>displacement</th>\n",
       "      <th>horsepower</th>\n",
       "      <th>weight</th>\n",
       "      <th>acceleration</th>\n",
       "      <th>model_year</th>\n",
       "      <th>origin</th>\n",
       "      <th>name</th>\n",
       "    </tr>\n",
       "  </thead>\n",
       "  <tbody>\n",
       "    <tr>\n",
       "      <th>0</th>\n",
       "      <td>18.0</td>\n",
       "      <td>8</td>\n",
       "      <td>307.0</td>\n",
       "      <td>130.0</td>\n",
       "      <td>3504</td>\n",
       "      <td>12.0</td>\n",
       "      <td>70</td>\n",
       "      <td>usa</td>\n",
       "      <td>chevrolet chevelle malibu</td>\n",
       "    </tr>\n",
       "    <tr>\n",
       "      <th>1</th>\n",
       "      <td>15.0</td>\n",
       "      <td>8</td>\n",
       "      <td>350.0</td>\n",
       "      <td>165.0</td>\n",
       "      <td>3693</td>\n",
       "      <td>11.5</td>\n",
       "      <td>70</td>\n",
       "      <td>usa</td>\n",
       "      <td>buick skylark 320</td>\n",
       "    </tr>\n",
       "    <tr>\n",
       "      <th>2</th>\n",
       "      <td>18.0</td>\n",
       "      <td>8</td>\n",
       "      <td>318.0</td>\n",
       "      <td>150.0</td>\n",
       "      <td>3436</td>\n",
       "      <td>11.0</td>\n",
       "      <td>70</td>\n",
       "      <td>usa</td>\n",
       "      <td>plymouth satellite</td>\n",
       "    </tr>\n",
       "    <tr>\n",
       "      <th>3</th>\n",
       "      <td>16.0</td>\n",
       "      <td>8</td>\n",
       "      <td>304.0</td>\n",
       "      <td>150.0</td>\n",
       "      <td>3433</td>\n",
       "      <td>12.0</td>\n",
       "      <td>70</td>\n",
       "      <td>usa</td>\n",
       "      <td>amc rebel sst</td>\n",
       "    </tr>\n",
       "    <tr>\n",
       "      <th>4</th>\n",
       "      <td>17.0</td>\n",
       "      <td>8</td>\n",
       "      <td>302.0</td>\n",
       "      <td>140.0</td>\n",
       "      <td>3449</td>\n",
       "      <td>10.5</td>\n",
       "      <td>70</td>\n",
       "      <td>usa</td>\n",
       "      <td>ford torino</td>\n",
       "    </tr>\n",
       "  </tbody>\n",
       "</table>\n",
       "</div>"
      ],
      "text/plain": [
       "    mpg  cylinders  displacement  horsepower  weight  acceleration  \\\n",
       "0  18.0          8         307.0       130.0    3504          12.0   \n",
       "1  15.0          8         350.0       165.0    3693          11.5   \n",
       "2  18.0          8         318.0       150.0    3436          11.0   \n",
       "3  16.0          8         304.0       150.0    3433          12.0   \n",
       "4  17.0          8         302.0       140.0    3449          10.5   \n",
       "\n",
       "   model_year origin                       name  \n",
       "0          70    usa  chevrolet chevelle malibu  \n",
       "1          70    usa          buick skylark 320  \n",
       "2          70    usa         plymouth satellite  \n",
       "3          70    usa              amc rebel sst  \n",
       "4          70    usa                ford torino  "
      ]
     },
     "execution_count": 7,
     "metadata": {},
     "output_type": "execute_result"
    }
   ],
   "source": [
    "mpg.head()"
   ]
  },
  {
   "cell_type": "code",
   "execution_count": 13,
   "metadata": {
    "hidden": true
   },
   "outputs": [],
   "source": [
    "mpg = sns.load_dataset('mpg')\n",
    "formula = 'weight ~ horsepower + cylinders + model_year'\n",
    "model = smf.ols(formula=formula, data=mpg).fit()"
   ]
  },
  {
   "cell_type": "code",
   "execution_count": 14,
   "metadata": {
    "hidden": true
   },
   "outputs": [
    {
     "name": "stdout",
     "output_type": "stream",
     "text": [
      "                            OLS Regression Results                            \n",
      "==============================================================================\n",
      "Dep. Variable:                 weight   R-squared:                       0.849\n",
      "Model:                            OLS   Adj. R-squared:                  0.847\n",
      "Method:                 Least Squares   F-statistic:                     724.8\n",
      "Date:                Wed, 22 Jul 2020   Prob (F-statistic):          1.32e-158\n",
      "Time:                        15:52:28   Log-Likelihood:                -2829.6\n",
      "No. Observations:                 392   AIC:                             5667.\n",
      "Df Residuals:                     388   BIC:                             5683.\n",
      "Df Model:                           3                                         \n",
      "Covariance Type:            nonrobust                                         \n",
      "==============================================================================\n",
      "                 coef    std err          t      P>|t|      [0.025      0.975]\n",
      "------------------------------------------------------------------------------\n",
      "Intercept   -537.3542    405.181     -1.326      0.186   -1333.979     259.271\n",
      "horsepower     8.7814      0.836     10.498      0.000       7.137      10.426\n",
      "cylinders    289.8260     18.288     15.848      0.000     253.870     325.782\n",
      "model_year    13.3146      5.010      2.657      0.008       3.463      23.166\n",
      "==============================================================================\n",
      "Omnibus:                       12.667   Durbin-Watson:                   1.213\n",
      "Prob(Omnibus):                  0.002   Jarque-Bera (JB):               25.102\n",
      "Skew:                           0.092   Prob(JB):                     3.54e-06\n",
      "Kurtosis:                       4.226   Cond. No.                     3.21e+03\n",
      "==============================================================================\n",
      "\n",
      "Warnings:\n",
      "[1] Standard Errors assume that the covariance matrix of the errors is correctly specified.\n",
      "[2] The condition number is large, 3.21e+03. This might indicate that there are\n",
      "strong multicollinearity or other numerical problems.\n"
     ]
    }
   ],
   "source": [
    "print(model.summary())"
   ]
  },
  {
   "cell_type": "code",
   "execution_count": 16,
   "metadata": {
    "hidden": true
   },
   "outputs": [
    {
     "data": {
      "image/png": "[encoded data removed]",
      "text/plain": [
       "<Figure size 720x504 with 4 Axes>"
      ]
     },
     "metadata": {
      "needs_background": "light"
     },
     "output_type": "display_data"
    }
   ],
   "source": [
    "fig = plt.figure(figsize=(10,7))\n",
    "fig = sm.graphics.plot_partregress_grid(model, fig=fig)"
   ]
  },
  {
   "cell_type": "markdown",
   "metadata": {
    "hidden": true
   },
   "source": [
    "**How to read these graphs (top right, partial reg for `horsepower` for instance)**\n",
    "\n",
    "- Each point is a car in our dataset\n",
    "\n",
    "\n",
    "- Y value is the residual of the `predicted_weight`, by using all features except `horsepower` (i.e. using `cylinder`+`model_year`)\n",
    "\n",
    "    - These residuals contain the remaining information about `weight` that couldn't be explained without `horespower`\n",
    "\n",
    "\n",
    "- X value is the residual of the `predicted_horesepower`, by using all other features (i.e. using `cylinder`+`model_year`)\n",
    "    - These residuals contain the new information that `horsepower` brings to the table, which is not already explained by the other features in the model.\n",
    "\n"
   ]
  },
  {
   "cell_type": "markdown",
   "metadata": {},
   "source": [
    "# Improving Olist's Estimated Delivery Time (ETA)"
   ]
  },
  {
   "cell_type": "markdown",
   "metadata": {},
   "source": [
    "Estimated Time Arrival (ETA) is a key component of modern e-commerce services. It allows to manage customer expectations by displaying a predicted date for customer delivery.\n",
    "\n",
    "In this section we build a predictive model to improve Olist ETA prediction of orders `wait_time`, and compare it with Olist's `expected_wait_time`"
   ]
  },
  {
   "cell_type": "markdown",
   "metadata": {},
   "source": [
    "## Load and check `orders` dataset"
   ]
  },
  {
   "cell_type": "code",
   "execution_count": 5,
   "metadata": {},
   "outputs": [],
   "source": [
    "# Load all orders from our training_data"
   ]
  },
  {
   "cell_type": "code",
   "execution_count": 71,
   "metadata": {},
   "outputs": [],
   "source": [
    "import pandas as pd\n",
    "import numpy as np\n",
    "import seaborn as sns\n",
    "import matplotlib.pyplot as plt"
   ]
  },
  {
   "cell_type": "code",
   "execution_count": 72,
   "metadata": {},
   "outputs": [],
   "source": [
    "#import data\n",
    "from olist.order import Order"
   ]
  },
  {
   "cell_type": "code",
   "execution_count": 73,
   "metadata": {},
   "outputs": [],
   "source": [
    "orders = Order().get_training_data(with_distance_seller_customer=True)"
   ]
  },
  {
   "cell_type": "code",
   "execution_count": 74,
   "metadata": {},
   "outputs": [
    {
     "data": {
      "text/html": [
       "<div>\n",
       "<style scoped>\n",
       "    .dataframe tbody tr th:only-of-type {\n",
       "        vertical-align: middle;\n",
       "    }\n",
       "\n",
       "    .dataframe tbody tr th {\n",
       "        vertical-align: top;\n",
       "    }\n",
       "\n",
       "    .dataframe thead th {\n",
       "        text-align: right;\n",
       "    }\n",
       "</style>\n",
       "<table border=\"1\" class=\"dataframe\">\n",
       "  <thead>\n",
       "    <tr style=\"text-align: right;\">\n",
       "      <th></th>\n",
       "      <th>order_id</th>\n",
       "      <th>wait_time</th>\n",
       "      <th>expected_wait_time</th>\n",
       "      <th>delay_vs_expected</th>\n",
       "      <th>order_status</th>\n",
       "      <th>dim_is_five_star</th>\n",
       "      <th>dim_is_one_star</th>\n",
       "      <th>review_score</th>\n",
       "      <th>number_of_products</th>\n",
       "      <th>number_of_sellers</th>\n",
       "      <th>price</th>\n",
       "      <th>freight_value</th>\n",
       "      <th>distance_seller_customer</th>\n",
       "    </tr>\n",
       "  </thead>\n",
       "  <tbody>\n",
       "    <tr>\n",
       "      <th>0</th>\n",
       "      <td>e481f51cbdc54678b7cc49136f2d6af7</td>\n",
       "      <td>8.436574</td>\n",
       "      <td>15.544063</td>\n",
       "      <td>0.0</td>\n",
       "      <td>delivered</td>\n",
       "      <td>0</td>\n",
       "      <td>0</td>\n",
       "      <td>4</td>\n",
       "      <td>1</td>\n",
       "      <td>1</td>\n",
       "      <td>29.99</td>\n",
       "      <td>8.72</td>\n",
       "      <td>18.063837</td>\n",
       "    </tr>\n",
       "    <tr>\n",
       "      <th>1</th>\n",
       "      <td>53cdb2fc8bc7dce0b6741e2150273451</td>\n",
       "      <td>13.782037</td>\n",
       "      <td>19.137766</td>\n",
       "      <td>0.0</td>\n",
       "      <td>delivered</td>\n",
       "      <td>0</td>\n",
       "      <td>0</td>\n",
       "      <td>4</td>\n",
       "      <td>1</td>\n",
       "      <td>1</td>\n",
       "      <td>118.70</td>\n",
       "      <td>22.76</td>\n",
       "      <td>856.292580</td>\n",
       "    </tr>\n",
       "  </tbody>\n",
       "</table>\n",
       "</div>"
      ],
      "text/plain": [
       "                           order_id  wait_time  expected_wait_time  \\\n",
       "0  e481f51cbdc54678b7cc49136f2d6af7   8.436574           15.544063   \n",
       "1  53cdb2fc8bc7dce0b6741e2150273451  13.782037           19.137766   \n",
       "\n",
       "   delay_vs_expected order_status  dim_is_five_star  dim_is_one_star  \\\n",
       "0                0.0    delivered                 0                0   \n",
       "1                0.0    delivered                 0                0   \n",
       "\n",
       "   review_score  number_of_products  number_of_sellers   price  freight_value  \\\n",
       "0             4                   1                  1   29.99           8.72   \n",
       "1             4                   1                  1  118.70          22.76   \n",
       "\n",
       "   distance_seller_customer  \n",
       "0                 18.063837  \n",
       "1                856.292580  "
      ]
     },
     "execution_count": 74,
     "metadata": {},
     "output_type": "execute_result"
    }
   ],
   "source": [
    "orders.head(2)"
   ]
  },
  {
   "cell_type": "code",
   "execution_count": 75,
   "metadata": {},
   "outputs": [
    {
     "name": "stdout",
     "output_type": "stream",
     "text": [
      "<class 'pandas.core.frame.DataFrame'>\n",
      "Int64Index: 96525 entries, 0 to 96532\n",
      "Data columns (total 13 columns):\n",
      " #   Column                    Non-Null Count  Dtype  \n",
      "---  ------                    --------------  -----  \n",
      " 0   order_id                  96525 non-null  object \n",
      " 1   wait_time                 96525 non-null  float64\n",
      " 2   expected_wait_time        96525 non-null  float64\n",
      " 3   delay_vs_expected         96525 non-null  float64\n",
      " 4   order_status              96525 non-null  object \n",
      " 5   dim_is_five_star          96525 non-null  int64  \n",
      " 6   dim_is_one_star           96525 non-null  int64  \n",
      " 7   review_score              96525 non-null  int64  \n",
      " 8   number_of_products        96525 non-null  int64  \n",
      " 9   number_of_sellers         96525 non-null  int64  \n",
      " 10  price                     96525 non-null  float64\n",
      " 11  freight_value             96525 non-null  float64\n",
      " 12  distance_seller_customer  96525 non-null  float64\n",
      "dtypes: float64(6), int64(5), object(2)\n",
      "memory usage: 10.3+ MB\n"
     ]
    }
   ],
   "source": [
    "orders.info()"
   ]
  },
  {
   "cell_type": "markdown",
   "metadata": {},
   "source": [
    "## Baseline Model - Olist’s current ETA model"
   ]
  },
  {
   "cell_type": "markdown",
   "metadata": {},
   "source": [
    "❓ What's the baseline we want to optimize?\n",
    "\n",
    "The delta between Olist' `expected_wait_time` and the real `wait_time`\n",
    "\n",
    "Plot their respective histogram, median difference and RMSE"
   ]
  },
  {
   "cell_type": "code",
   "execution_count": 76,
   "metadata": {},
   "outputs": [
    {
     "data": {
      "text/plain": [
       "<matplotlib.legend.Legend at 0x125395410>"
      ]
     },
     "execution_count": 76,
     "metadata": {},
     "output_type": "execute_result"
    },
    {
     "data": {
      "image/png": "[encoded data removed]",
      "text/plain": [
       "<Figure size 432x288 with 1 Axes>"
      ]
     },
     "metadata": {
      "needs_background": "light"
     },
     "output_type": "display_data"
    }
   ],
   "source": [
    "# Plot distribution\n",
    "sns.distplot(orders.wait_time, label='wait_time')\n",
    "sns.distplot(orders.expected_wait_time, label='expected')\n",
    "plt.legend()"
   ]
  },
  {
   "cell_type": "code",
   "execution_count": 77,
   "metadata": {},
   "outputs": [
    {
     "data": {
      "text/plain": [
       "15.13096685744435"
      ]
     },
     "execution_count": 77,
     "metadata": {},
     "output_type": "execute_result"
    }
   ],
   "source": [
    "# Compute baseline RMSE (i.e 𝛔(error))\n",
    "error = orders.expected_wait_time - orders.wait_time\n",
    "RMSE_olist = ((error**2).mean())**0.5\n",
    "RMSE_olist"
   ]
  },
  {
   "cell_type": "markdown",
   "metadata": {},
   "source": [
    "## OLS multivariate model"
   ]
  },
  {
   "cell_type": "markdown",
   "metadata": {},
   "source": [
    "Create an OLS model using the `statsmodel.api.OLS` method (not the `statsmodel.formula.api.ols`) this time"
   ]
  },
  {
   "cell_type": "code",
   "execution_count": 78,
   "metadata": {},
   "outputs": [],
   "source": [
    "import statsmodels.api as sm\n",
    "import statsmodels.formula.api as smf"
   ]
  },
  {
   "cell_type": "markdown",
   "metadata": {},
   "source": [
    "### prepare dataset of features X"
   ]
  },
  {
   "cell_type": "code",
   "execution_count": 79,
   "metadata": {},
   "outputs": [
    {
     "data": {
      "text/plain": [
       "(96525,)"
      ]
     },
     "execution_count": 79,
     "metadata": {},
     "output_type": "execute_result"
    }
   ],
   "source": [
    "# Create target variable y (Serie) and feature X (DataFrame) without data leaks!\n",
    "y = orders.wait_time\n",
    "y.shape"
   ]
  },
  {
   "cell_type": "code",
   "execution_count": 80,
   "metadata": {},
   "outputs": [
    {
     "data": {
      "text/plain": [
       "Index(['order_id', 'wait_time', 'expected_wait_time', 'delay_vs_expected',\n",
       "       'order_status', 'dim_is_five_star', 'dim_is_one_star', 'review_score',\n",
       "       'number_of_products', 'number_of_sellers', 'price', 'freight_value',\n",
       "       'distance_seller_customer'],\n",
       "      dtype='object')"
      ]
     },
     "execution_count": 80,
     "metadata": {},
     "output_type": "execute_result"
    }
   ],
   "source": [
    "orders.columns"
   ]
  },
  {
   "cell_type": "code",
   "execution_count": 81,
   "metadata": {},
   "outputs": [
    {
     "data": {
      "text/html": [
       "<div>\n",
       "<style scoped>\n",
       "    .dataframe tbody tr th:only-of-type {\n",
       "        vertical-align: middle;\n",
       "    }\n",
       "\n",
       "    .dataframe tbody tr th {\n",
       "        vertical-align: top;\n",
       "    }\n",
       "\n",
       "    .dataframe thead th {\n",
       "        text-align: right;\n",
       "    }\n",
       "</style>\n",
       "<table border=\"1\" class=\"dataframe\">\n",
       "  <thead>\n",
       "    <tr style=\"text-align: right;\">\n",
       "      <th></th>\n",
       "      <th>price</th>\n",
       "      <th>freight_value</th>\n",
       "      <th>number_of_products</th>\n",
       "      <th>number_of_sellers</th>\n",
       "      <th>distance_seller_customer</th>\n",
       "    </tr>\n",
       "  </thead>\n",
       "  <tbody>\n",
       "    <tr>\n",
       "      <th>0</th>\n",
       "      <td>29.99</td>\n",
       "      <td>8.72</td>\n",
       "      <td>1</td>\n",
       "      <td>1</td>\n",
       "      <td>18.063837</td>\n",
       "    </tr>\n",
       "    <tr>\n",
       "      <th>1</th>\n",
       "      <td>118.70</td>\n",
       "      <td>22.76</td>\n",
       "      <td>1</td>\n",
       "      <td>1</td>\n",
       "      <td>856.292580</td>\n",
       "    </tr>\n",
       "    <tr>\n",
       "      <th>2</th>\n",
       "      <td>159.90</td>\n",
       "      <td>19.22</td>\n",
       "      <td>1</td>\n",
       "      <td>1</td>\n",
       "      <td>514.130333</td>\n",
       "    </tr>\n",
       "    <tr>\n",
       "      <th>3</th>\n",
       "      <td>45.00</td>\n",
       "      <td>27.20</td>\n",
       "      <td>1</td>\n",
       "      <td>1</td>\n",
       "      <td>1822.800366</td>\n",
       "    </tr>\n",
       "    <tr>\n",
       "      <th>4</th>\n",
       "      <td>19.90</td>\n",
       "      <td>8.72</td>\n",
       "      <td>1</td>\n",
       "      <td>1</td>\n",
       "      <td>30.174037</td>\n",
       "    </tr>\n",
       "    <tr>\n",
       "      <th>...</th>\n",
       "      <td>...</td>\n",
       "      <td>...</td>\n",
       "      <td>...</td>\n",
       "      <td>...</td>\n",
       "      <td>...</td>\n",
       "    </tr>\n",
       "    <tr>\n",
       "      <th>96528</th>\n",
       "      <td>72.00</td>\n",
       "      <td>13.08</td>\n",
       "      <td>1</td>\n",
       "      <td>1</td>\n",
       "      <td>69.481037</td>\n",
       "    </tr>\n",
       "    <tr>\n",
       "      <th>96529</th>\n",
       "      <td>174.90</td>\n",
       "      <td>20.10</td>\n",
       "      <td>1</td>\n",
       "      <td>1</td>\n",
       "      <td>474.098245</td>\n",
       "    </tr>\n",
       "    <tr>\n",
       "      <th>96530</th>\n",
       "      <td>205.99</td>\n",
       "      <td>65.02</td>\n",
       "      <td>1</td>\n",
       "      <td>1</td>\n",
       "      <td>968.051192</td>\n",
       "    </tr>\n",
       "    <tr>\n",
       "      <th>96531</th>\n",
       "      <td>359.98</td>\n",
       "      <td>81.18</td>\n",
       "      <td>2</td>\n",
       "      <td>1</td>\n",
       "      <td>370.146853</td>\n",
       "    </tr>\n",
       "    <tr>\n",
       "      <th>96532</th>\n",
       "      <td>68.50</td>\n",
       "      <td>18.36</td>\n",
       "      <td>1</td>\n",
       "      <td>1</td>\n",
       "      <td>631.817784</td>\n",
       "    </tr>\n",
       "  </tbody>\n",
       "</table>\n",
       "<p>96525 rows × 5 columns</p>\n",
       "</div>"
      ],
      "text/plain": [
       "        price  freight_value  number_of_products  number_of_sellers  \\\n",
       "0       29.99           8.72                   1                  1   \n",
       "1      118.70          22.76                   1                  1   \n",
       "2      159.90          19.22                   1                  1   \n",
       "3       45.00          27.20                   1                  1   \n",
       "4       19.90           8.72                   1                  1   \n",
       "...       ...            ...                 ...                ...   \n",
       "96528   72.00          13.08                   1                  1   \n",
       "96529  174.90          20.10                   1                  1   \n",
       "96530  205.99          65.02                   1                  1   \n",
       "96531  359.98          81.18                   2                  1   \n",
       "96532   68.50          18.36                   1                  1   \n",
       "\n",
       "       distance_seller_customer  \n",
       "0                     18.063837  \n",
       "1                    856.292580  \n",
       "2                    514.130333  \n",
       "3                   1822.800366  \n",
       "4                     30.174037  \n",
       "...                         ...  \n",
       "96528                 69.481037  \n",
       "96529                474.098245  \n",
       "96530                968.051192  \n",
       "96531                370.146853  \n",
       "96532                631.817784  \n",
       "\n",
       "[96525 rows x 5 columns]"
      ]
     },
     "execution_count": 81,
     "metadata": {},
     "output_type": "execute_result"
    }
   ],
   "source": [
    "#X.shape = (95525, 4)\n",
    "X = orders[['price', 'freight_value', 'number_of_products', 'number_of_sellers', 'distance_seller_customer']].copy()\n",
    "X"
   ]
  },
  {
   "cell_type": "code",
   "execution_count": 82,
   "metadata": {
    "scrolled": true
   },
   "outputs": [],
   "source": [
    "# standardize (z-normalize --> (Xi - mu)/std()) each features of X to compare coefficients\n",
    "for f in X.columns:\n",
    "    mu = X[f].mean()\n",
    "    sigma = X[f].std()\n",
    "    X[f] = (X[f] - mu)/sigma"
   ]
  },
  {
   "cell_type": "code",
   "execution_count": 83,
   "metadata": {},
   "outputs": [
    {
     "data": {
      "text/html": [
       "<div>\n",
       "<style scoped>\n",
       "    .dataframe tbody tr th:only-of-type {\n",
       "        vertical-align: middle;\n",
       "    }\n",
       "\n",
       "    .dataframe tbody tr th {\n",
       "        vertical-align: top;\n",
       "    }\n",
       "\n",
       "    .dataframe thead th {\n",
       "        text-align: right;\n",
       "    }\n",
       "</style>\n",
       "<table border=\"1\" class=\"dataframe\">\n",
       "  <thead>\n",
       "    <tr style=\"text-align: right;\">\n",
       "      <th></th>\n",
       "      <th>price</th>\n",
       "      <th>freight_value</th>\n",
       "      <th>number_of_products</th>\n",
       "      <th>number_of_sellers</th>\n",
       "      <th>distance_seller_customer</th>\n",
       "    </tr>\n",
       "  </thead>\n",
       "  <tbody>\n",
       "    <tr>\n",
       "      <th>0</th>\n",
       "      <td>-0.511860</td>\n",
       "      <td>-0.651997</td>\n",
       "      <td>-0.264004</td>\n",
       "      <td>-0.112813</td>\n",
       "      <td>-0.979467</td>\n",
       "    </tr>\n",
       "    <tr>\n",
       "      <th>1</th>\n",
       "      <td>-0.087278</td>\n",
       "      <td>-0.000604</td>\n",
       "      <td>-0.264004</td>\n",
       "      <td>-0.112813</td>\n",
       "      <td>0.428808</td>\n",
       "    </tr>\n",
       "    <tr>\n",
       "      <th>2</th>\n",
       "      <td>0.109912</td>\n",
       "      <td>-0.164844</td>\n",
       "      <td>-0.264004</td>\n",
       "      <td>-0.112813</td>\n",
       "      <td>-0.146045</td>\n",
       "    </tr>\n",
       "    <tr>\n",
       "      <th>3</th>\n",
       "      <td>-0.440019</td>\n",
       "      <td>0.205392</td>\n",
       "      <td>-0.264004</td>\n",
       "      <td>-0.112813</td>\n",
       "      <td>2.052600</td>\n",
       "    </tr>\n",
       "    <tr>\n",
       "      <th>4</th>\n",
       "      <td>-0.560153</td>\n",
       "      <td>-0.651997</td>\n",
       "      <td>-0.264004</td>\n",
       "      <td>-0.112813</td>\n",
       "      <td>-0.959121</td>\n",
       "    </tr>\n",
       "    <tr>\n",
       "      <th>...</th>\n",
       "      <td>...</td>\n",
       "      <td>...</td>\n",
       "      <td>...</td>\n",
       "      <td>...</td>\n",
       "      <td>...</td>\n",
       "    </tr>\n",
       "    <tr>\n",
       "      <th>96528</th>\n",
       "      <td>-0.310793</td>\n",
       "      <td>-0.449712</td>\n",
       "      <td>-0.264004</td>\n",
       "      <td>-0.112813</td>\n",
       "      <td>-0.893083</td>\n",
       "    </tr>\n",
       "    <tr>\n",
       "      <th>96529</th>\n",
       "      <td>0.181705</td>\n",
       "      <td>-0.124016</td>\n",
       "      <td>-0.264004</td>\n",
       "      <td>-0.112813</td>\n",
       "      <td>-0.213301</td>\n",
       "    </tr>\n",
       "    <tr>\n",
       "      <th>96530</th>\n",
       "      <td>0.330507</td>\n",
       "      <td>1.960071</td>\n",
       "      <td>-0.264004</td>\n",
       "      <td>-0.112813</td>\n",
       "      <td>0.616570</td>\n",
       "    </tr>\n",
       "    <tr>\n",
       "      <th>96531</th>\n",
       "      <td>1.067531</td>\n",
       "      <td>2.709822</td>\n",
       "      <td>1.586072</td>\n",
       "      <td>-0.112813</td>\n",
       "      <td>-0.387946</td>\n",
       "    </tr>\n",
       "    <tr>\n",
       "      <th>96532</th>\n",
       "      <td>-0.327544</td>\n",
       "      <td>-0.204744</td>\n",
       "      <td>-0.264004</td>\n",
       "      <td>-0.112813</td>\n",
       "      <td>0.051677</td>\n",
       "    </tr>\n",
       "  </tbody>\n",
       "</table>\n",
       "<p>96525 rows × 5 columns</p>\n",
       "</div>"
      ],
      "text/plain": [
       "          price  freight_value  number_of_products  number_of_sellers  \\\n",
       "0     -0.511860      -0.651997           -0.264004          -0.112813   \n",
       "1     -0.087278      -0.000604           -0.264004          -0.112813   \n",
       "2      0.109912      -0.164844           -0.264004          -0.112813   \n",
       "3     -0.440019       0.205392           -0.264004          -0.112813   \n",
       "4     -0.560153      -0.651997           -0.264004          -0.112813   \n",
       "...         ...            ...                 ...                ...   \n",
       "96528 -0.310793      -0.449712           -0.264004          -0.112813   \n",
       "96529  0.181705      -0.124016           -0.264004          -0.112813   \n",
       "96530  0.330507       1.960071           -0.264004          -0.112813   \n",
       "96531  1.067531       2.709822            1.586072          -0.112813   \n",
       "96532 -0.327544      -0.204744           -0.264004          -0.112813   \n",
       "\n",
       "       distance_seller_customer  \n",
       "0                     -0.979467  \n",
       "1                      0.428808  \n",
       "2                     -0.146045  \n",
       "3                      2.052600  \n",
       "4                     -0.959121  \n",
       "...                         ...  \n",
       "96528                 -0.893083  \n",
       "96529                 -0.213301  \n",
       "96530                  0.616570  \n",
       "96531                 -0.387946  \n",
       "96532                  0.051677  \n",
       "\n",
       "[96525 rows x 5 columns]"
      ]
     },
     "execution_count": 83,
     "metadata": {},
     "output_type": "execute_result"
    }
   ],
   "source": [
    "X"
   ]
  },
  {
   "cell_type": "code",
   "execution_count": 88,
   "metadata": {
    "collapsed": true
   },
   "outputs": [
    {
     "data": {
      "text/plain": [
       "DesignMatrix with shape (96525, 3)\n",
       "  Intercept    price  freight_value\n",
       "          1    29.99           8.72\n",
       "          1   118.70          22.76\n",
       "          1   159.90          19.22\n",
       "          1    45.00          27.20\n",
       "          1    19.90           8.72\n",
       "          1   147.90          27.36\n",
       "          1    59.99          15.17\n",
       "          1    19.90          16.05\n",
       "          1   149.99          19.77\n",
       "          1   198.00          61.06\n",
       "          1    98.00          16.13\n",
       "          1    31.90          18.23\n",
       "          1    19.90          12.80\n",
       "          1    38.25          16.11\n",
       "          1   132.40          14.05\n",
       "          1  1299.00          77.45\n",
       "          1    27.99          15.10\n",
       "          1    17.90          11.85\n",
       "          1    76.00          16.97\n",
       "          1   109.90           8.96\n",
       "          1    79.99           8.91\n",
       "          1     9.50           7.78\n",
       "          1   129.99          57.58\n",
       "          1    89.90          14.21\n",
       "          1   109.90          15.53\n",
       "          1   130.40          97.28\n",
       "          1    47.90          12.79\n",
       "          1   178.99          13.69\n",
       "          1    30.10          33.24\n",
       "          1   279.00          34.19\n",
       "  [96495 rows omitted]\n",
       "  Terms:\n",
       "    'Intercept' (column 0)\n",
       "    'price' (column 1)\n",
       "    'freight_value' (column 2)\n",
       "  (to view full data, use np.asarray(this_obj))"
      ]
     },
     "execution_count": 88,
     "metadata": {},
     "output_type": "execute_result"
    }
   ],
   "source": [
    "# Let's check how different is it from the \"formula\" from statsmodel\n",
    "# Use patsy.dmatrix(formula, DataFrame)\n",
    "\n",
    "#smf.ols(formula = 'wait_time ~ price + freight_value')\n",
    "import patsy\n",
    "patsy.dmatrix('price + freight_value', orders)"
   ]
  },
  {
   "cell_type": "code",
   "execution_count": 89,
   "metadata": {},
   "outputs": [
    {
     "data": {
      "text/html": [
       "<div>\n",
       "<style scoped>\n",
       "    .dataframe tbody tr th:only-of-type {\n",
       "        vertical-align: middle;\n",
       "    }\n",
       "\n",
       "    .dataframe tbody tr th {\n",
       "        vertical-align: top;\n",
       "    }\n",
       "\n",
       "    .dataframe thead th {\n",
       "        text-align: right;\n",
       "    }\n",
       "</style>\n",
       "<table border=\"1\" class=\"dataframe\">\n",
       "  <thead>\n",
       "    <tr style=\"text-align: right;\">\n",
       "      <th></th>\n",
       "      <th>price</th>\n",
       "      <th>freight_value</th>\n",
       "      <th>number_of_products</th>\n",
       "      <th>number_of_sellers</th>\n",
       "      <th>distance_seller_customer</th>\n",
       "      <th>intercept</th>\n",
       "    </tr>\n",
       "  </thead>\n",
       "  <tbody>\n",
       "    <tr>\n",
       "      <th>0</th>\n",
       "      <td>-0.511860</td>\n",
       "      <td>-0.651997</td>\n",
       "      <td>-0.264004</td>\n",
       "      <td>-0.112813</td>\n",
       "      <td>-0.979467</td>\n",
       "      <td>1</td>\n",
       "    </tr>\n",
       "    <tr>\n",
       "      <th>1</th>\n",
       "      <td>-0.087278</td>\n",
       "      <td>-0.000604</td>\n",
       "      <td>-0.264004</td>\n",
       "      <td>-0.112813</td>\n",
       "      <td>0.428808</td>\n",
       "      <td>1</td>\n",
       "    </tr>\n",
       "    <tr>\n",
       "      <th>2</th>\n",
       "      <td>0.109912</td>\n",
       "      <td>-0.164844</td>\n",
       "      <td>-0.264004</td>\n",
       "      <td>-0.112813</td>\n",
       "      <td>-0.146045</td>\n",
       "      <td>1</td>\n",
       "    </tr>\n",
       "    <tr>\n",
       "      <th>3</th>\n",
       "      <td>-0.440019</td>\n",
       "      <td>0.205392</td>\n",
       "      <td>-0.264004</td>\n",
       "      <td>-0.112813</td>\n",
       "      <td>2.052600</td>\n",
       "      <td>1</td>\n",
       "    </tr>\n",
       "    <tr>\n",
       "      <th>4</th>\n",
       "      <td>-0.560153</td>\n",
       "      <td>-0.651997</td>\n",
       "      <td>-0.264004</td>\n",
       "      <td>-0.112813</td>\n",
       "      <td>-0.959121</td>\n",
       "      <td>1</td>\n",
       "    </tr>\n",
       "    <tr>\n",
       "      <th>...</th>\n",
       "      <td>...</td>\n",
       "      <td>...</td>\n",
       "      <td>...</td>\n",
       "      <td>...</td>\n",
       "      <td>...</td>\n",
       "      <td>...</td>\n",
       "    </tr>\n",
       "    <tr>\n",
       "      <th>96528</th>\n",
       "      <td>-0.310793</td>\n",
       "      <td>-0.449712</td>\n",
       "      <td>-0.264004</td>\n",
       "      <td>-0.112813</td>\n",
       "      <td>-0.893083</td>\n",
       "      <td>1</td>\n",
       "    </tr>\n",
       "    <tr>\n",
       "      <th>96529</th>\n",
       "      <td>0.181705</td>\n",
       "      <td>-0.124016</td>\n",
       "      <td>-0.264004</td>\n",
       "      <td>-0.112813</td>\n",
       "      <td>-0.213301</td>\n",
       "      <td>1</td>\n",
       "    </tr>\n",
       "    <tr>\n",
       "      <th>96530</th>\n",
       "      <td>0.330507</td>\n",
       "      <td>1.960071</td>\n",
       "      <td>-0.264004</td>\n",
       "      <td>-0.112813</td>\n",
       "      <td>0.616570</td>\n",
       "      <td>1</td>\n",
       "    </tr>\n",
       "    <tr>\n",
       "      <th>96531</th>\n",
       "      <td>1.067531</td>\n",
       "      <td>2.709822</td>\n",
       "      <td>1.586072</td>\n",
       "      <td>-0.112813</td>\n",
       "      <td>-0.387946</td>\n",
       "      <td>1</td>\n",
       "    </tr>\n",
       "    <tr>\n",
       "      <th>96532</th>\n",
       "      <td>-0.327544</td>\n",
       "      <td>-0.204744</td>\n",
       "      <td>-0.264004</td>\n",
       "      <td>-0.112813</td>\n",
       "      <td>0.051677</td>\n",
       "      <td>1</td>\n",
       "    </tr>\n",
       "  </tbody>\n",
       "</table>\n",
       "<p>96525 rows × 6 columns</p>\n",
       "</div>"
      ],
      "text/plain": [
       "          price  freight_value  number_of_products  number_of_sellers  \\\n",
       "0     -0.511860      -0.651997           -0.264004          -0.112813   \n",
       "1     -0.087278      -0.000604           -0.264004          -0.112813   \n",
       "2      0.109912      -0.164844           -0.264004          -0.112813   \n",
       "3     -0.440019       0.205392           -0.264004          -0.112813   \n",
       "4     -0.560153      -0.651997           -0.264004          -0.112813   \n",
       "...         ...            ...                 ...                ...   \n",
       "96528 -0.310793      -0.449712           -0.264004          -0.112813   \n",
       "96529  0.181705      -0.124016           -0.264004          -0.112813   \n",
       "96530  0.330507       1.960071           -0.264004          -0.112813   \n",
       "96531  1.067531       2.709822            1.586072          -0.112813   \n",
       "96532 -0.327544      -0.204744           -0.264004          -0.112813   \n",
       "\n",
       "       distance_seller_customer  intercept  \n",
       "0                     -0.979467          1  \n",
       "1                      0.428808          1  \n",
       "2                     -0.146045          1  \n",
       "3                      2.052600          1  \n",
       "4                     -0.959121          1  \n",
       "...                         ...        ...  \n",
       "96528                 -0.893083          1  \n",
       "96529                 -0.213301          1  \n",
       "96530                  0.616570          1  \n",
       "96531                 -0.387946          1  \n",
       "96532                  0.051677          1  \n",
       "\n",
       "[96525 rows x 6 columns]"
      ]
     },
     "execution_count": 89,
     "metadata": {},
     "output_type": "execute_result"
    }
   ],
   "source": [
    "# Conclude? --> Add an intercept to X\n",
    "X['intercept'] = 1\n",
    "X"
   ]
  },
  {
   "cell_type": "markdown",
   "metadata": {},
   "source": [
    "### Run OLS with statsmodels"
   ]
  },
  {
   "cell_type": "code",
   "execution_count": 92,
   "metadata": {},
   "outputs": [
    {
     "data": {
      "text/html": [
       "<table class=\"simpletable\">\n",
       "<caption>OLS Regression Results</caption>\n",
       "<tr>\n",
       "  <th>Dep. Variable:</th>        <td>wait_time</td>    <th>  R-squared:         </th>  <td>   0.160</td>  \n",
       "</tr>\n",
       "<tr>\n",
       "  <th>Model:</th>                   <td>OLS</td>       <th>  Adj. R-squared:    </th>  <td>   0.160</td>  \n",
       "</tr>\n",
       "<tr>\n",
       "  <th>Method:</th>             <td>Least Squares</td>  <th>  F-statistic:       </th>  <td>   3666.</td>  \n",
       "</tr>\n",
       "<tr>\n",
       "  <th>Date:</th>             <td>Wed, 22 Jul 2020</td> <th>  Prob (F-statistic):</th>   <td>  0.00</td>   \n",
       "</tr>\n",
       "<tr>\n",
       "  <th>Time:</th>                 <td>17:44:48</td>     <th>  Log-Likelihood:    </th> <td>-3.4629e+05</td>\n",
       "</tr>\n",
       "<tr>\n",
       "  <th>No. Observations:</th>      <td> 96525</td>      <th>  AIC:               </th>  <td>6.926e+05</td> \n",
       "</tr>\n",
       "<tr>\n",
       "  <th>Df Residuals:</th>          <td> 96519</td>      <th>  BIC:               </th>  <td>6.926e+05</td> \n",
       "</tr>\n",
       "<tr>\n",
       "  <th>Df Model:</th>              <td>     5</td>      <th>                     </th>      <td> </td>     \n",
       "</tr>\n",
       "<tr>\n",
       "  <th>Covariance Type:</th>      <td>nonrobust</td>    <th>                     </th>      <td> </td>     \n",
       "</tr>\n",
       "</table>\n",
       "<table class=\"simpletable\">\n",
       "<tr>\n",
       "              <td></td>                <th>coef</th>     <th>std err</th>      <th>t</th>      <th>P>|t|</th>  <th>[0.025</th>    <th>0.975]</th>  \n",
       "</tr>\n",
       "<tr>\n",
       "  <th>price</th>                    <td>    0.0474</td> <td>    0.031</td> <td>    1.531</td> <td> 0.126</td> <td>   -0.013</td> <td>    0.108</td>\n",
       "</tr>\n",
       "<tr>\n",
       "  <th>freight_value</th>            <td>    0.6506</td> <td>    0.036</td> <td>   17.892</td> <td> 0.000</td> <td>    0.579</td> <td>    0.722</td>\n",
       "</tr>\n",
       "<tr>\n",
       "  <th>number_of_products</th>       <td>   -0.3148</td> <td>    0.033</td> <td>   -9.552</td> <td> 0.000</td> <td>   -0.379</td> <td>   -0.250</td>\n",
       "</tr>\n",
       "<tr>\n",
       "  <th>number_of_sellers</th>        <td>   -0.3607</td> <td>    0.029</td> <td>  -12.275</td> <td> 0.000</td> <td>   -0.418</td> <td>   -0.303</td>\n",
       "</tr>\n",
       "<tr>\n",
       "  <th>distance_seller_customer</th> <td>    3.5358</td> <td>    0.030</td> <td>  117.020</td> <td> 0.000</td> <td>    3.477</td> <td>    3.595</td>\n",
       "</tr>\n",
       "<tr>\n",
       "  <th>intercept</th>                <td>   12.5553</td> <td>    0.028</td> <td>  445.983</td> <td> 0.000</td> <td>   12.500</td> <td>   12.610</td>\n",
       "</tr>\n",
       "</table>\n",
       "<table class=\"simpletable\">\n",
       "<tr>\n",
       "  <th>Omnibus:</th>       <td>93067.183</td> <th>  Durbin-Watson:     </th>   <td>   1.989</td>  \n",
       "</tr>\n",
       "<tr>\n",
       "  <th>Prob(Omnibus):</th>  <td> 0.000</td>   <th>  Jarque-Bera (JB):  </th> <td>10695196.220</td>\n",
       "</tr>\n",
       "<tr>\n",
       "  <th>Skew:</th>           <td> 4.395</td>   <th>  Prob(JB):          </th>   <td>    0.00</td>  \n",
       "</tr>\n",
       "<tr>\n",
       "  <th>Kurtosis:</th>       <td>53.813</td>   <th>  Cond. No.          </th>   <td>    2.18</td>  \n",
       "</tr>\n",
       "</table><br/><br/>Warnings:<br/>[1] Standard Errors assume that the covariance matrix of the errors is correctly specified."
      ],
      "text/plain": [
       "<class 'statsmodels.iolib.summary.Summary'>\n",
       "\"\"\"\n",
       "                            OLS Regression Results                            \n",
       "==============================================================================\n",
       "Dep. Variable:              wait_time   R-squared:                       0.160\n",
       "Model:                            OLS   Adj. R-squared:                  0.160\n",
       "Method:                 Least Squares   F-statistic:                     3666.\n",
       "Date:                Wed, 22 Jul 2020   Prob (F-statistic):               0.00\n",
       "Time:                        17:44:48   Log-Likelihood:            -3.4629e+05\n",
       "No. Observations:               96525   AIC:                         6.926e+05\n",
       "Df Residuals:                   96519   BIC:                         6.926e+05\n",
       "Df Model:                           5                                         \n",
       "Covariance Type:            nonrobust                                         \n",
       "============================================================================================\n",
       "                               coef    std err          t      P>|t|      [0.025      0.975]\n",
       "--------------------------------------------------------------------------------------------\n",
       "price                        0.0474      0.031      1.531      0.126      -0.013       0.108\n",
       "freight_value                0.6506      0.036     17.892      0.000       0.579       0.722\n",
       "number_of_products          -0.3148      0.033     -9.552      0.000      -0.379      -0.250\n",
       "number_of_sellers           -0.3607      0.029    -12.275      0.000      -0.418      -0.303\n",
       "distance_seller_customer     3.5358      0.030    117.020      0.000       3.477       3.595\n",
       "intercept                   12.5553      0.028    445.983      0.000      12.500      12.610\n",
       "==============================================================================\n",
       "Omnibus:                    93067.183   Durbin-Watson:                   1.989\n",
       "Prob(Omnibus):                  0.000   Jarque-Bera (JB):         10695196.220\n",
       "Skew:                           4.395   Prob(JB):                         0.00\n",
       "Kurtosis:                      53.813   Cond. No.                         2.18\n",
       "==============================================================================\n",
       "\n",
       "Warnings:\n",
       "[1] Standard Errors assume that the covariance matrix of the errors is correctly specified.\n",
       "\"\"\""
      ]
     },
     "execution_count": 92,
     "metadata": {},
     "output_type": "execute_result"
    }
   ],
   "source": [
    "model = sm.OLS(y, X).fit()\n",
    "model.summary()"
   ]
  },
  {
   "cell_type": "markdown",
   "metadata": {},
   "source": [
    "## Check model performance"
   ]
  },
  {
   "cell_type": "markdown",
   "metadata": {},
   "source": [
    "### Goodness of fit"
   ]
  },
  {
   "cell_type": "code",
   "execution_count": 98,
   "metadata": {},
   "outputs": [
    {
     "data": {
      "text/plain": [
       "<matplotlib.legend.Legend at 0x146701190>"
      ]
     },
     "execution_count": 98,
     "metadata": {},
     "output_type": "execute_result"
    },
    {
     "data": {
      "image/png": "[encoded data removed]",
      "text/plain": [
       "<Figure size 432x288 with 1 Axes>"
      ]
     },
     "metadata": {
      "needs_background": "light"
     },
     "output_type": "display_data"
    }
   ],
   "source": [
    "# Check prediction distributions\n",
    "y_pred = model.predict(X)\n",
    "y_true = orders.wait_time\n",
    "y_olist = orders.expected_wait_time\n",
    "y_pred.shape\n",
    "\n",
    "sns.distplot(y_pred, label='prediction')\n",
    "sns.distplot(y_true, label='true')\n",
    "sns.distplot(y_olist, label='olist_prediction')\n",
    "plt.xlim(xmax=100)\n",
    "plt.legend()"
   ]
  },
  {
   "cell_type": "code",
   "execution_count": 101,
   "metadata": {},
   "outputs": [
    {
     "data": {
      "text/plain": [
       "8.746087535851002"
      ]
     },
     "execution_count": 101,
     "metadata": {},
     "output_type": "execute_result"
    }
   ],
   "source": [
    "# Compute RMSE (i.e 𝛔(residuals))\n",
    "error = y_pred - y_true\n",
    "((error**2).mean())**0.5"
   ]
  },
  {
   "cell_type": "markdown",
   "metadata": {},
   "source": [
    "### Inferential conditions"
   ]
  },
  {
   "cell_type": "markdown",
   "metadata": {},
   "source": [
    "❓ Check you ressiduals. Are they normally distributed?"
   ]
  },
  {
   "cell_type": "code",
   "execution_count": 102,
   "metadata": {},
   "outputs": [
    {
     "data": {
      "text/plain": [
       "<matplotlib.axes._subplots.AxesSubplot at 0x1269726d0>"
      ]
     },
     "execution_count": 102,
     "metadata": {},
     "output_type": "execute_result"
    },
    {
     "data": {
      "image/png": "[encoded data removed]",
      "text/plain": [
       "<Figure size 432x288 with 1 Axes>"
      ]
     },
     "metadata": {
      "needs_background": "light"
     },
     "output_type": "display_data"
    }
   ],
   "source": [
    "sns.distplot(error)"
   ]
  },
  {
   "cell_type": "markdown",
   "metadata": {},
   "source": [
    "❓A more precise way to visualize normality is the [QQplot] (https://www.statsmodels.org/stable/generated/statsmodels.graphics.gofplots.qqplot.html). \n",
    "Plot the qqplot of your residual below, and make sure to understand the link with the histogram above.\n",
    "\n",
    "Interpreting QQplots ([source](https://stats.stackexchange.com/questions/101274/how-to-interpret-a-qq-plot))\n",
    "- dots are arranged on `y-axis` in ascending order of values (y-axis = residual values)\n",
    "- dots are spaced on `x-axis` proportionally to a \"normal distribution\""
   ]
  },
  {
   "cell_type": "code",
   "execution_count": 106,
   "metadata": {},
   "outputs": [
    {
     "data": {
      "image/png": "[encoded data removed]",
      "text/plain": [
       "<Figure size 432x288 with 1 Axes>"
      ]
     },
     "metadata": {
      "needs_background": "light"
     },
     "output_type": "display_data"
    }
   ],
   "source": [
    "sm.qqplot(error, line='s');"
   ]
  },
  {
   "cell_type": "markdown",
   "metadata": {},
   "source": [
    "#### QQ plot examples"
   ]
  },
  {
   "cell_type": "code",
   "execution_count": 120,
   "metadata": {},
   "outputs": [
    {
     "data": {
      "text/plain": [
       "-1.4209070854113073"
      ]
     },
     "execution_count": 120,
     "metadata": {},
     "output_type": "execute_result"
    }
   ],
   "source": [
    "# lets check QQ plots with our own distributions\n",
    "from scipy import stats\n",
    "stats.norm.rvs(0,1)"
   ]
  },
  {
   "cell_type": "code",
   "execution_count": 123,
   "metadata": {
    "slideshow": {
     "slide_type": "skip"
    }
   },
   "outputs": [
    {
     "data": {
      "text/plain": [
       "<matplotlib.axes._subplots.AxesSubplot at 0x126c0b0d0>"
      ]
     },
     "execution_count": 123,
     "metadata": {},
     "output_type": "execute_result"
    },
    {
     "data": {
      "image/png": "[encoded data removed]",
      "text/plain": [
       "<Figure size 432x288 with 1 Axes>"
      ]
     },
     "metadata": {
      "needs_background": "light"
     },
     "output_type": "display_data"
    }
   ],
   "source": [
    "# Create & plot normal distributions\n",
    "norm_list = [stats.norm.rvs(0,1) for x in range(1000)]\n",
    "sns.distplot(norm_list)"
   ]
  },
  {
   "cell_type": "code",
   "execution_count": 125,
   "metadata": {},
   "outputs": [
    {
     "data": {
      "image/png": "[encoded data removed]",
      "text/plain": [
       "<Figure size 432x288 with 1 Axes>"
      ]
     },
     "metadata": {
      "needs_background": "light"
     },
     "output_type": "display_data"
    }
   ],
   "source": [
    "# Create and pliot bimodal distribution\n",
    "sm.qqplot(np.array(norm_list), line='s');"
   ]
  },
  {
   "cell_type": "markdown",
   "metadata": {},
   "source": [
    "#### Check residuals vs. fitted to see if we can detect any non-random pattern"
   ]
  },
  {
   "cell_type": "code",
   "execution_count": null,
   "metadata": {},
   "outputs": [],
   "source": []
  },
  {
   "cell_type": "markdown",
   "metadata": {
    "heading_collapsed": true
   },
   "source": [
    "## Can we add more Features? (Optional)"
   ]
  },
  {
   "cell_type": "markdown",
   "metadata": {
    "hidden": true
   },
   "source": [
    "We add here additional features from the product details (size, category etc..)"
   ]
  },
  {
   "cell_type": "markdown",
   "metadata": {
    "heading_collapsed": true,
    "hidden": true
   },
   "source": [
    "### Add products details associated with each order (sum of product sizes, sum of weights etc...)"
   ]
  },
  {
   "cell_type": "code",
   "execution_count": 18,
   "metadata": {
    "hidden": true
   },
   "outputs": [],
   "source": [
    "from olist.data import Olist\n",
    "data = Olist().get_data()\n",
    "products = data['products']\n",
    "order_items = data['order_items']"
   ]
  },
  {
   "cell_type": "code",
   "execution_count": 19,
   "metadata": {
    "hidden": true,
    "scrolled": true
   },
   "outputs": [
    {
     "data": {
      "text/html": [
       "<div>\n",
       "<style scoped>\n",
       "    .dataframe tbody tr th:only-of-type {\n",
       "        vertical-align: middle;\n",
       "    }\n",
       "\n",
       "    .dataframe tbody tr th {\n",
       "        vertical-align: top;\n",
       "    }\n",
       "\n",
       "    .dataframe thead th {\n",
       "        text-align: right;\n",
       "    }\n",
       "</style>\n",
       "<table border=\"1\" class=\"dataframe\">\n",
       "  <thead>\n",
       "    <tr style=\"text-align: right;\">\n",
       "      <th></th>\n",
       "      <th>order_id</th>\n",
       "      <th>product_id</th>\n",
       "      <th>order_item_count</th>\n",
       "      <th>product_name_length</th>\n",
       "      <th>product_description_length</th>\n",
       "      <th>product_photos_qty</th>\n",
       "      <th>product_weight_g</th>\n",
       "      <th>product_length_cm</th>\n",
       "      <th>product_height_cm</th>\n",
       "      <th>product_width_cm</th>\n",
       "    </tr>\n",
       "  </thead>\n",
       "  <tbody>\n",
       "    <tr>\n",
       "      <th>0</th>\n",
       "      <td>00010242fe8c5a6d1ba2dd792cb16214</td>\n",
       "      <td>4244733e06e7ecb4970a6e2683c13e61</td>\n",
       "      <td>1</td>\n",
       "      <td>58.0</td>\n",
       "      <td>598.0</td>\n",
       "      <td>4.0</td>\n",
       "      <td>650.0</td>\n",
       "      <td>28.0</td>\n",
       "      <td>9.0</td>\n",
       "      <td>14.0</td>\n",
       "    </tr>\n",
       "    <tr>\n",
       "      <th>1</th>\n",
       "      <td>130898c0987d1801452a8ed92a670612</td>\n",
       "      <td>4244733e06e7ecb4970a6e2683c13e61</td>\n",
       "      <td>1</td>\n",
       "      <td>58.0</td>\n",
       "      <td>598.0</td>\n",
       "      <td>4.0</td>\n",
       "      <td>650.0</td>\n",
       "      <td>28.0</td>\n",
       "      <td>9.0</td>\n",
       "      <td>14.0</td>\n",
       "    </tr>\n",
       "    <tr>\n",
       "      <th>2</th>\n",
       "      <td>532ed5e14e24ae1f0d735b91524b98b9</td>\n",
       "      <td>4244733e06e7ecb4970a6e2683c13e61</td>\n",
       "      <td>1</td>\n",
       "      <td>58.0</td>\n",
       "      <td>598.0</td>\n",
       "      <td>4.0</td>\n",
       "      <td>650.0</td>\n",
       "      <td>28.0</td>\n",
       "      <td>9.0</td>\n",
       "      <td>14.0</td>\n",
       "    </tr>\n",
       "    <tr>\n",
       "      <th>3</th>\n",
       "      <td>6f8c31653edb8c83e1a739408b5ff750</td>\n",
       "      <td>4244733e06e7ecb4970a6e2683c13e61</td>\n",
       "      <td>1</td>\n",
       "      <td>58.0</td>\n",
       "      <td>598.0</td>\n",
       "      <td>4.0</td>\n",
       "      <td>650.0</td>\n",
       "      <td>28.0</td>\n",
       "      <td>9.0</td>\n",
       "      <td>14.0</td>\n",
       "    </tr>\n",
       "    <tr>\n",
       "      <th>4</th>\n",
       "      <td>7d19f4ef4d04461989632411b7e588b9</td>\n",
       "      <td>4244733e06e7ecb4970a6e2683c13e61</td>\n",
       "      <td>1</td>\n",
       "      <td>58.0</td>\n",
       "      <td>598.0</td>\n",
       "      <td>4.0</td>\n",
       "      <td>650.0</td>\n",
       "      <td>28.0</td>\n",
       "      <td>9.0</td>\n",
       "      <td>14.0</td>\n",
       "    </tr>\n",
       "    <tr>\n",
       "      <th>...</th>\n",
       "      <td>...</td>\n",
       "      <td>...</td>\n",
       "      <td>...</td>\n",
       "      <td>...</td>\n",
       "      <td>...</td>\n",
       "      <td>...</td>\n",
       "      <td>...</td>\n",
       "      <td>...</td>\n",
       "      <td>...</td>\n",
       "      <td>...</td>\n",
       "    </tr>\n",
       "    <tr>\n",
       "      <th>102420</th>\n",
       "      <td>ffebd80e3291e811c308365936897efd</td>\n",
       "      <td>4cc4d02efc8f249c13355147fb44e34d</td>\n",
       "      <td>1</td>\n",
       "      <td>37.0</td>\n",
       "      <td>653.0</td>\n",
       "      <td>1.0</td>\n",
       "      <td>6700.0</td>\n",
       "      <td>35.0</td>\n",
       "      <td>12.0</td>\n",
       "      <td>22.0</td>\n",
       "    </tr>\n",
       "    <tr>\n",
       "      <th>102421</th>\n",
       "      <td>ffee31fb4b5e35c9123608015637c495</td>\n",
       "      <td>b10ecf8e33aaaea419a9fa860ea80fb5</td>\n",
       "      <td>1</td>\n",
       "      <td>30.0</td>\n",
       "      <td>308.0</td>\n",
       "      <td>1.0</td>\n",
       "      <td>2300.0</td>\n",
       "      <td>37.0</td>\n",
       "      <td>30.0</td>\n",
       "      <td>20.0</td>\n",
       "    </tr>\n",
       "    <tr>\n",
       "      <th>102422</th>\n",
       "      <td>fff7c4452f050315db1b3f24d9df5fcd</td>\n",
       "      <td>dd469c03ad67e201bc2179ef077dcd48</td>\n",
       "      <td>1</td>\n",
       "      <td>33.0</td>\n",
       "      <td>658.0</td>\n",
       "      <td>3.0</td>\n",
       "      <td>400.0</td>\n",
       "      <td>19.0</td>\n",
       "      <td>9.0</td>\n",
       "      <td>15.0</td>\n",
       "    </tr>\n",
       "    <tr>\n",
       "      <th>102423</th>\n",
       "      <td>fffa82886406ccf10c7b4e35c4ff2788</td>\n",
       "      <td>bbe7651fef80287a816ead73f065fc4b</td>\n",
       "      <td>1</td>\n",
       "      <td>32.0</td>\n",
       "      <td>280.0</td>\n",
       "      <td>2.0</td>\n",
       "      <td>2700.0</td>\n",
       "      <td>60.0</td>\n",
       "      <td>15.0</td>\n",
       "      <td>15.0</td>\n",
       "    </tr>\n",
       "    <tr>\n",
       "      <th>102424</th>\n",
       "      <td>fffe41c64501cc87c801fd61db3f6244</td>\n",
       "      <td>350688d9dc1e75ff97be326363655e01</td>\n",
       "      <td>1</td>\n",
       "      <td>47.0</td>\n",
       "      <td>511.0</td>\n",
       "      <td>1.0</td>\n",
       "      <td>600.0</td>\n",
       "      <td>30.0</td>\n",
       "      <td>3.0</td>\n",
       "      <td>19.0</td>\n",
       "    </tr>\n",
       "  </tbody>\n",
       "</table>\n",
       "<p>102425 rows × 10 columns</p>\n",
       "</div>"
      ],
      "text/plain": [
       "                                order_id                        product_id  \\\n",
       "0       00010242fe8c5a6d1ba2dd792cb16214  4244733e06e7ecb4970a6e2683c13e61   \n",
       "1       130898c0987d1801452a8ed92a670612  4244733e06e7ecb4970a6e2683c13e61   \n",
       "2       532ed5e14e24ae1f0d735b91524b98b9  4244733e06e7ecb4970a6e2683c13e61   \n",
       "3       6f8c31653edb8c83e1a739408b5ff750  4244733e06e7ecb4970a6e2683c13e61   \n",
       "4       7d19f4ef4d04461989632411b7e588b9  4244733e06e7ecb4970a6e2683c13e61   \n",
       "...                                  ...                               ...   \n",
       "102420  ffebd80e3291e811c308365936897efd  4cc4d02efc8f249c13355147fb44e34d   \n",
       "102421  ffee31fb4b5e35c9123608015637c495  b10ecf8e33aaaea419a9fa860ea80fb5   \n",
       "102422  fff7c4452f050315db1b3f24d9df5fcd  dd469c03ad67e201bc2179ef077dcd48   \n",
       "102423  fffa82886406ccf10c7b4e35c4ff2788  bbe7651fef80287a816ead73f065fc4b   \n",
       "102424  fffe41c64501cc87c801fd61db3f6244  350688d9dc1e75ff97be326363655e01   \n",
       "\n",
       "        order_item_count  product_name_length  product_description_length  \\\n",
       "0                      1                 58.0                       598.0   \n",
       "1                      1                 58.0                       598.0   \n",
       "2                      1                 58.0                       598.0   \n",
       "3                      1                 58.0                       598.0   \n",
       "4                      1                 58.0                       598.0   \n",
       "...                  ...                  ...                         ...   \n",
       "102420                 1                 37.0                       653.0   \n",
       "102421                 1                 30.0                       308.0   \n",
       "102422                 1                 33.0                       658.0   \n",
       "102423                 1                 32.0                       280.0   \n",
       "102424                 1                 47.0                       511.0   \n",
       "\n",
       "        product_photos_qty  product_weight_g  product_length_cm  \\\n",
       "0                      4.0             650.0               28.0   \n",
       "1                      4.0             650.0               28.0   \n",
       "2                      4.0             650.0               28.0   \n",
       "3                      4.0             650.0               28.0   \n",
       "4                      4.0             650.0               28.0   \n",
       "...                    ...               ...                ...   \n",
       "102420                 1.0            6700.0               35.0   \n",
       "102421                 1.0            2300.0               37.0   \n",
       "102422                 3.0             400.0               19.0   \n",
       "102423                 2.0            2700.0               60.0   \n",
       "102424                 1.0             600.0               30.0   \n",
       "\n",
       "        product_height_cm  product_width_cm  \n",
       "0                     9.0              14.0  \n",
       "1                     9.0              14.0  \n",
       "2                     9.0              14.0  \n",
       "3                     9.0              14.0  \n",
       "4                     9.0              14.0  \n",
       "...                   ...               ...  \n",
       "102420               12.0              22.0  \n",
       "102421               30.0              20.0  \n",
       "102422                9.0              15.0  \n",
       "102423               15.0              15.0  \n",
       "102424                3.0              19.0  \n",
       "\n",
       "[102425 rows x 10 columns]"
      ]
     },
     "execution_count": 19,
     "metadata": {},
     "output_type": "execute_result"
    }
   ],
   "source": [
    "order_items_products = (\n",
    "    order_items.groupby([\"order_id\", \"product_id\"], as_index=False)\n",
    "    .agg({\"order_item_id\": \"count\"})\n",
    "    .rename(columns={\"order_item_id\": \"order_item_count\"})\n",
    "    .merge(products.drop([\"product_category_name\"], axis=1), on=\"product_id\")\n",
    ")\n",
    "order_items_products"
   ]
  },
  {
   "cell_type": "code",
   "execution_count": 20,
   "metadata": {
    "hidden": true,
    "scrolled": false
   },
   "outputs": [
    {
     "data": {
      "text/plain": [
       "order_id                      98666\n",
       "product_id                    32951\n",
       "order_item_count                 16\n",
       "product_name_length              66\n",
       "product_description_length     2960\n",
       "product_photos_qty               19\n",
       "product_weight_g               2204\n",
       "product_length_cm                99\n",
       "product_height_cm               102\n",
       "product_width_cm                 95\n",
       "dtype: int64"
      ]
     },
     "execution_count": 20,
     "metadata": {},
     "output_type": "execute_result"
    }
   ],
   "source": [
    "order_items_products.nunique()"
   ]
  },
  {
   "cell_type": "code",
   "execution_count": 21,
   "metadata": {
    "hidden": true
   },
   "outputs": [
    {
     "data": {
      "text/html": [
       "<div>\n",
       "<style scoped>\n",
       "    .dataframe tbody tr th:only-of-type {\n",
       "        vertical-align: middle;\n",
       "    }\n",
       "\n",
       "    .dataframe tbody tr th {\n",
       "        vertical-align: top;\n",
       "    }\n",
       "\n",
       "    .dataframe thead th {\n",
       "        text-align: right;\n",
       "    }\n",
       "</style>\n",
       "<table border=\"1\" class=\"dataframe\">\n",
       "  <thead>\n",
       "    <tr style=\"text-align: right;\">\n",
       "      <th></th>\n",
       "      <th>order_id</th>\n",
       "      <th>product_weight_g_sum</th>\n",
       "      <th>product_length_cm_max</th>\n",
       "      <th>product_height_cm_max</th>\n",
       "      <th>product_width_cm_max</th>\n",
       "    </tr>\n",
       "  </thead>\n",
       "  <tbody>\n",
       "    <tr>\n",
       "      <th>0</th>\n",
       "      <td>00010242fe8c5a6d1ba2dd792cb16214</td>\n",
       "      <td>650.0</td>\n",
       "      <td>28.0</td>\n",
       "      <td>9.0</td>\n",
       "      <td>14.0</td>\n",
       "    </tr>\n",
       "    <tr>\n",
       "      <th>1</th>\n",
       "      <td>00018f77f2f0320c557190d7a144bdd3</td>\n",
       "      <td>30000.0</td>\n",
       "      <td>50.0</td>\n",
       "      <td>30.0</td>\n",
       "      <td>40.0</td>\n",
       "    </tr>\n",
       "    <tr>\n",
       "      <th>2</th>\n",
       "      <td>000229ec398224ef6ca0657da4fc703e</td>\n",
       "      <td>3050.0</td>\n",
       "      <td>33.0</td>\n",
       "      <td>13.0</td>\n",
       "      <td>33.0</td>\n",
       "    </tr>\n",
       "    <tr>\n",
       "      <th>3</th>\n",
       "      <td>00024acbcdf0a6daa1e931b038114c75</td>\n",
       "      <td>200.0</td>\n",
       "      <td>16.0</td>\n",
       "      <td>10.0</td>\n",
       "      <td>15.0</td>\n",
       "    </tr>\n",
       "    <tr>\n",
       "      <th>4</th>\n",
       "      <td>00042b26cf59d7ce69dfabb4e55b4fd9</td>\n",
       "      <td>3750.0</td>\n",
       "      <td>35.0</td>\n",
       "      <td>40.0</td>\n",
       "      <td>30.0</td>\n",
       "    </tr>\n",
       "    <tr>\n",
       "      <th>...</th>\n",
       "      <td>...</td>\n",
       "      <td>...</td>\n",
       "      <td>...</td>\n",
       "      <td>...</td>\n",
       "      <td>...</td>\n",
       "    </tr>\n",
       "    <tr>\n",
       "      <th>98661</th>\n",
       "      <td>fffc94f6ce00a00581880bf54a75a037</td>\n",
       "      <td>10150.0</td>\n",
       "      <td>89.0</td>\n",
       "      <td>15.0</td>\n",
       "      <td>40.0</td>\n",
       "    </tr>\n",
       "    <tr>\n",
       "      <th>98662</th>\n",
       "      <td>fffcd46ef2263f404302a634eb57f7eb</td>\n",
       "      <td>8950.0</td>\n",
       "      <td>45.0</td>\n",
       "      <td>26.0</td>\n",
       "      <td>38.0</td>\n",
       "    </tr>\n",
       "    <tr>\n",
       "      <th>98663</th>\n",
       "      <td>fffce4705a9662cd70adb13d4a31832d</td>\n",
       "      <td>967.0</td>\n",
       "      <td>21.0</td>\n",
       "      <td>24.0</td>\n",
       "      <td>19.0</td>\n",
       "    </tr>\n",
       "    <tr>\n",
       "      <th>98664</th>\n",
       "      <td>fffe18544ffabc95dfada21779c9644f</td>\n",
       "      <td>100.0</td>\n",
       "      <td>20.0</td>\n",
       "      <td>20.0</td>\n",
       "      <td>20.0</td>\n",
       "    </tr>\n",
       "    <tr>\n",
       "      <th>98665</th>\n",
       "      <td>fffe41c64501cc87c801fd61db3f6244</td>\n",
       "      <td>600.0</td>\n",
       "      <td>30.0</td>\n",
       "      <td>3.0</td>\n",
       "      <td>19.0</td>\n",
       "    </tr>\n",
       "  </tbody>\n",
       "</table>\n",
       "<p>98666 rows × 5 columns</p>\n",
       "</div>"
      ],
      "text/plain": [
       "                               order_id  product_weight_g_sum  \\\n",
       "0      00010242fe8c5a6d1ba2dd792cb16214                 650.0   \n",
       "1      00018f77f2f0320c557190d7a144bdd3               30000.0   \n",
       "2      000229ec398224ef6ca0657da4fc703e                3050.0   \n",
       "3      00024acbcdf0a6daa1e931b038114c75                 200.0   \n",
       "4      00042b26cf59d7ce69dfabb4e55b4fd9                3750.0   \n",
       "...                                 ...                   ...   \n",
       "98661  fffc94f6ce00a00581880bf54a75a037               10150.0   \n",
       "98662  fffcd46ef2263f404302a634eb57f7eb                8950.0   \n",
       "98663  fffce4705a9662cd70adb13d4a31832d                 967.0   \n",
       "98664  fffe18544ffabc95dfada21779c9644f                 100.0   \n",
       "98665  fffe41c64501cc87c801fd61db3f6244                 600.0   \n",
       "\n",
       "       product_length_cm_max  product_height_cm_max  product_width_cm_max  \n",
       "0                       28.0                    9.0                  14.0  \n",
       "1                       50.0                   30.0                  40.0  \n",
       "2                       33.0                   13.0                  33.0  \n",
       "3                       16.0                   10.0                  15.0  \n",
       "4                       35.0                   40.0                  30.0  \n",
       "...                      ...                    ...                   ...  \n",
       "98661                   89.0                   15.0                  40.0  \n",
       "98662                   45.0                   26.0                  38.0  \n",
       "98663                   21.0                   24.0                  19.0  \n",
       "98664                   20.0                   20.0                  20.0  \n",
       "98665                   30.0                    3.0                  19.0  \n",
       "\n",
       "[98666 rows x 5 columns]"
      ]
     },
     "execution_count": 21,
     "metadata": {},
     "output_type": "execute_result"
    }
   ],
   "source": [
    "order_items_features = order_items_products.groupby(\"order_id\", as_index=False).agg(\n",
    "    {\n",
    "        \"product_weight_g\": \"sum\",\n",
    "        \"product_length_cm\": \"max\",\n",
    "        \"product_height_cm\": \"max\",\n",
    "        \"product_width_cm\": \"max\",\n",
    "    }).rename(columns={\n",
    "        \"product_weight_g\": \"product_weight_g_sum\",\n",
    "        \"product_length_cm\": \"product_length_cm_max\",\n",
    "        \"product_height_cm\": \"product_height_cm_max\",\n",
    "        \"product_width_cm\": \"product_width_cm_max\",\n",
    "    })\n",
    "order_items_features"
   ]
  },
  {
   "cell_type": "code",
   "execution_count": 22,
   "metadata": {
    "hidden": true
   },
   "outputs": [],
   "source": [
    "orders2 = orders.merge(order_items_features, on=\"order_id\", how=\"left\").dropna()"
   ]
  },
  {
   "cell_type": "markdown",
   "metadata": {
    "hidden": true
   },
   "source": [
    "### Run new OLS"
   ]
  },
  {
   "cell_type": "code",
   "execution_count": 28,
   "metadata": {
    "hidden": true
   },
   "outputs": [],
   "source": [
    "X2 = orders2[[\n",
    "        \"number_of_products\",\n",
    "        \"number_of_sellers\",\n",
    "        \"price\",\n",
    "        \"freight_value\",\n",
    "        \"distance_seller_customer\",\n",
    "        \"product_weight_g_sum\",\n",
    "        \"product_length_cm_max\",\n",
    "        \"product_height_cm_max\",\n",
    "        \"product_width_cm_max\"]].copy()\n",
    "y2 = orders2[\"wait_time\"].copy()"
   ]
  },
  {
   "cell_type": "code",
   "execution_count": 29,
   "metadata": {
    "hidden": true
   },
   "outputs": [],
   "source": [
    "# standardize (z-normalize) each features of X to compare coefficients\n",
    "\n",
    "for f in X2.columns:\n",
    "    mu = X2[f].mean()\n",
    "    sigma = X2[f].std()\n",
    "    X2[f] = X2[f].map(lambda x: (x - mu) / sigma)"
   ]
  },
  {
   "cell_type": "code",
   "execution_count": 30,
   "metadata": {
    "hidden": true
   },
   "outputs": [],
   "source": [
    "X2['constant'] = 1"
   ]
  },
  {
   "cell_type": "code",
   "execution_count": 34,
   "metadata": {
    "hidden": true,
    "scrolled": true
   },
   "outputs": [],
   "source": [
    "model2 = sm.OLS(y2, X2).fit()"
   ]
  },
  {
   "cell_type": "code",
   "execution_count": 35,
   "metadata": {
    "hidden": true
   },
   "outputs": [
    {
     "data": {
      "text/html": [
       "<table class=\"simpletable\">\n",
       "<caption>OLS Regression Results</caption>\n",
       "<tr>\n",
       "  <th>Dep. Variable:</th>        <td>wait_time</td>    <th>  R-squared:         </th>  <td>   0.164</td>  \n",
       "</tr>\n",
       "<tr>\n",
       "  <th>Model:</th>                   <td>OLS</td>       <th>  Adj. R-squared:    </th>  <td>   0.164</td>  \n",
       "</tr>\n",
       "<tr>\n",
       "  <th>Method:</th>             <td>Least Squares</td>  <th>  F-statistic:       </th>  <td>   2106.</td>  \n",
       "</tr>\n",
       "<tr>\n",
       "  <th>Date:</th>             <td>Wed, 22 Jul 2020</td> <th>  Prob (F-statistic):</th>   <td>  0.00</td>   \n",
       "</tr>\n",
       "<tr>\n",
       "  <th>Time:</th>                 <td>17:07:38</td>     <th>  Log-Likelihood:    </th> <td>-3.4597e+05</td>\n",
       "</tr>\n",
       "<tr>\n",
       "  <th>No. Observations:</th>      <td> 96509</td>      <th>  AIC:               </th>  <td>6.920e+05</td> \n",
       "</tr>\n",
       "<tr>\n",
       "  <th>Df Residuals:</th>          <td> 96499</td>      <th>  BIC:               </th>  <td>6.920e+05</td> \n",
       "</tr>\n",
       "<tr>\n",
       "  <th>Df Model:</th>              <td>     9</td>      <th>                     </th>      <td> </td>     \n",
       "</tr>\n",
       "<tr>\n",
       "  <th>Covariance Type:</th>      <td>nonrobust</td>    <th>                     </th>      <td> </td>     \n",
       "</tr>\n",
       "</table>\n",
       "<table class=\"simpletable\">\n",
       "<tr>\n",
       "              <td></td>                <th>coef</th>     <th>std err</th>      <th>t</th>      <th>P>|t|</th>  <th>[0.025</th>    <th>0.975]</th>  \n",
       "</tr>\n",
       "<tr>\n",
       "  <th>number_of_products</th>       <td>   -0.1032</td> <td>    0.034</td> <td>   -2.991</td> <td> 0.003</td> <td>   -0.171</td> <td>   -0.036</td>\n",
       "</tr>\n",
       "<tr>\n",
       "  <th>number_of_sellers</th>        <td>   -0.4006</td> <td>    0.029</td> <td>  -13.639</td> <td> 0.000</td> <td>   -0.458</td> <td>   -0.343</td>\n",
       "</tr>\n",
       "<tr>\n",
       "  <th>price</th>                    <td>   -0.0328</td> <td>    0.031</td> <td>   -1.053</td> <td> 0.293</td> <td>   -0.094</td> <td>    0.028</td>\n",
       "</tr>\n",
       "<tr>\n",
       "  <th>freight_value</th>            <td>    0.1399</td> <td>    0.044</td> <td>    3.177</td> <td> 0.001</td> <td>    0.054</td> <td>    0.226</td>\n",
       "</tr>\n",
       "<tr>\n",
       "  <th>distance_seller_customer</th> <td>    3.7097</td> <td>    0.031</td> <td>  118.330</td> <td> 0.000</td> <td>    3.648</td> <td>    3.771</td>\n",
       "</tr>\n",
       "<tr>\n",
       "  <th>product_weight_g_sum</th>     <td>    0.4481</td> <td>    0.045</td> <td>    9.973</td> <td> 0.000</td> <td>    0.360</td> <td>    0.536</td>\n",
       "</tr>\n",
       "<tr>\n",
       "  <th>product_length_cm_max</th>    <td>    0.3946</td> <td>    0.035</td> <td>   11.283</td> <td> 0.000</td> <td>    0.326</td> <td>    0.463</td>\n",
       "</tr>\n",
       "<tr>\n",
       "  <th>product_height_cm_max</th>    <td>    0.2085</td> <td>    0.035</td> <td>    6.019</td> <td> 0.000</td> <td>    0.141</td> <td>    0.276</td>\n",
       "</tr>\n",
       "<tr>\n",
       "  <th>product_width_cm_max</th>     <td>   -0.0650</td> <td>    0.036</td> <td>   -1.810</td> <td> 0.070</td> <td>   -0.135</td> <td>    0.005</td>\n",
       "</tr>\n",
       "<tr>\n",
       "  <th>constant</th>                 <td>   12.5553</td> <td>    0.028</td> <td>  447.155</td> <td> 0.000</td> <td>   12.500</td> <td>   12.610</td>\n",
       "</tr>\n",
       "</table>\n",
       "<table class=\"simpletable\">\n",
       "<tr>\n",
       "  <th>Omnibus:</th>       <td>93162.863</td> <th>  Durbin-Watson:     </th>   <td>   1.990</td>  \n",
       "</tr>\n",
       "<tr>\n",
       "  <th>Prob(Omnibus):</th>  <td> 0.000</td>   <th>  Jarque-Bera (JB):  </th> <td>10764031.420</td>\n",
       "</tr>\n",
       "<tr>\n",
       "  <th>Skew:</th>           <td> 4.403</td>   <th>  Prob(JB):          </th>   <td>    0.00</td>  \n",
       "</tr>\n",
       "<tr>\n",
       "  <th>Kurtosis:</th>       <td>53.983</td>   <th>  Cond. No.          </th>   <td>    3.56</td>  \n",
       "</tr>\n",
       "</table><br/><br/>Warnings:<br/>[1] Standard Errors assume that the covariance matrix of the errors is correctly specified."
      ],
      "text/plain": [
       "<class 'statsmodels.iolib.summary.Summary'>\n",
       "\"\"\"\n",
       "                            OLS Regression Results                            \n",
       "==============================================================================\n",
       "Dep. Variable:              wait_time   R-squared:                       0.164\n",
       "Model:                            OLS   Adj. R-squared:                  0.164\n",
       "Method:                 Least Squares   F-statistic:                     2106.\n",
       "Date:                Wed, 22 Jul 2020   Prob (F-statistic):               0.00\n",
       "Time:                        17:07:38   Log-Likelihood:            -3.4597e+05\n",
       "No. Observations:               96509   AIC:                         6.920e+05\n",
       "Df Residuals:                   96499   BIC:                         6.920e+05\n",
       "Df Model:                           9                                         \n",
       "Covariance Type:            nonrobust                                         \n",
       "============================================================================================\n",
       "                               coef    std err          t      P>|t|      [0.025      0.975]\n",
       "--------------------------------------------------------------------------------------------\n",
       "number_of_products          -0.1032      0.034     -2.991      0.003      -0.171      -0.036\n",
       "number_of_sellers           -0.4006      0.029    -13.639      0.000      -0.458      -0.343\n",
       "price                       -0.0328      0.031     -1.053      0.293      -0.094       0.028\n",
       "freight_value                0.1399      0.044      3.177      0.001       0.054       0.226\n",
       "distance_seller_customer     3.7097      0.031    118.330      0.000       3.648       3.771\n",
       "product_weight_g_sum         0.4481      0.045      9.973      0.000       0.360       0.536\n",
       "product_length_cm_max        0.3946      0.035     11.283      0.000       0.326       0.463\n",
       "product_height_cm_max        0.2085      0.035      6.019      0.000       0.141       0.276\n",
       "product_width_cm_max        -0.0650      0.036     -1.810      0.070      -0.135       0.005\n",
       "constant                    12.5553      0.028    447.155      0.000      12.500      12.610\n",
       "==============================================================================\n",
       "Omnibus:                    93162.863   Durbin-Watson:                   1.990\n",
       "Prob(Omnibus):                  0.000   Jarque-Bera (JB):         10764031.420\n",
       "Skew:                           4.403   Prob(JB):                         0.00\n",
       "Kurtosis:                      53.983   Cond. No.                         3.56\n",
       "==============================================================================\n",
       "\n",
       "Warnings:\n",
       "[1] Standard Errors assume that the covariance matrix of the errors is correctly specified.\n",
       "\"\"\""
      ]
     },
     "execution_count": 35,
     "metadata": {},
     "output_type": "execute_result"
    }
   ],
   "source": [
    "model2.summary()"
   ]
  },
  {
   "cell_type": "code",
   "execution_count": null,
   "metadata": {
    "hidden": true
   },
   "outputs": [],
   "source": []
  },
  {
   "cell_type": "code",
   "execution_count": null,
   "metadata": {
    "hidden": true
   },
   "outputs": [],
   "source": []
  }
 ],
 "metadata": {
  "kernelspec": {
   "display_name": "Python 3",
   "language": "python",
   "name": "python3"
  },
  "language_info": {
   "codemirror_mode": {
    "name": "ipython",
    "version": 3
   },
   "file_extension": ".py",
   "mimetype": "text/x-python",
   "name": "python",
   "nbconvert_exporter": "python",
   "pygments_lexer": "ipython3",
   "version": "3.7.7"
  },
  "toc": {
   "base_numbering": 1,
   "nav_menu": {},
   "number_sections": true,
   "sideBar": true,
   "skip_h1_title": true,
   "title_cell": "Table of Contents",
   "title_sidebar": "Contents",
   "toc_cell": false,
   "toc_position": {},
   "toc_section_display": true,
   "toc_window_display": true
  },
  "varInspector": {
   "cols": {
    "lenName": 16,
    "lenType": 16,
    "lenVar": 40
   },
   "kernels_config": {
    "python": {
     "delete_cmd_postfix": "",
     "delete_cmd_prefix": "del ",
     "library": "var_list.py",
     "varRefreshCmd": "print(var_dic_list())"
    },
    "r": {
     "delete_cmd_postfix": ") ",
     "delete_cmd_prefix": "rm(",
     "library": "var_list.r",
     "varRefreshCmd": "cat(var_dic_list()) "
    }
   },
   "types_to_exclude": [
    "module",
    "function",
    "builtin_function_or_method",
    "instance",
    "_Feature"
   ],
   "window_display": false
  }
 },
 "nbformat": 4,
 "nbformat_minor": 2
}
