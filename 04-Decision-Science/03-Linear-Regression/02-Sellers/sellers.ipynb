{
 "cells": [
  {
   "cell_type": "markdown",
   "metadata": {},
   "source": [
    "# Sellers"
   ]
  },
  {
   "cell_type": "markdown",
   "metadata": {},
   "source": [
    "The following analysis of Sellers is relatively similar than that of Products.\n",
    "Our goal is to find Sellers that repetively underperform others, and understand why.\n",
    "This will help us shape our recommendations on how to improve Olist's profit margin"
   ]
  },
  {
   "cell_type": "markdown",
   "metadata": {},
   "source": [
    "## 0 -  Code `get_training_data` in olist/seller.py"
   ]
  },
  {
   "cell_type": "markdown",
   "metadata": {},
   "source": [
    "- Create the method `get_training_data` in `olist/seller.py` that will return the following DataFrame:\n",
    "\n",
    "  - `seller_id` (_str_) _the id of the product_\n",
    "  - `seller_state` (_str_) _the state where seller is located_\n",
    "  - `seller_city` (_str_) _the city where seller is located_\n",
    "  - `delay_to_carrier` (_float_) _if the order is delivered after the shipping limit date, return the number of days between two dates, otherwise 0_\n",
    "  - `wait_time` (_float_) _Average number of days customers waited_\n",
    "  - `share_of_five_stars` (_float_) _The share of five stars orders for orders in which the seller was involved_\n",
    "  - `share_of_one_stars` (_float_) _The share of one stars orders for orders in which the seller was involved_\n",
    "  - `review_score` (_float_) _The average review score for orders in which the seller was involved_\n",
    "  - `n_orders` (_int_) _The number of unique orders the seller was involved with._\n",
    "  - `quantity` (_int_) _The total number of items sold by this seller_\n",
    "  - `sales` (_float_) _The total sales associated with this seller (excluding freight value)_\n",
    "  - `date_first_sale` (_datetime_) _Date of first sales on Olist_\n",
    "  - `date_last_sale` (_datetime_) _Date of last sales on Olist_\n",
    "  \n",
    "Feel free to code all intermediary methods below if you prefer to breakdown the problem step by step.  \n",
    "\n",
    "✅ Once your logic is encoded, commit and push your new file `order.py`"
   ]
  },
  {
   "cell_type": "code",
   "execution_count": null,
   "metadata": {
    "scrolled": true
   },
   "outputs": [],
   "source": [
    "%load_ext autoreload\n",
    "%autoreload 2\n",
    "\n",
    "import pandas as pd\n",
    "import numpy as np \n",
    "import matplotlib.pyplot as plt\n",
    "import seaborn as sns\n",
    "import statsmodels.formula.api as smf"
   ]
  },
  {
   "cell_type": "markdown",
   "metadata": {},
   "source": [
    "### `get_seller_features`\n",
    "Returns a DataFrame with: 'seller_id', 'seller_city', 'seller_state'"
   ]
  },
  {
   "cell_type": "code",
   "execution_count": null,
   "metadata": {},
   "outputs": [],
   "source": []
  },
  {
   "cell_type": "markdown",
   "metadata": {},
   "source": [
    "### `get_seller_delay_wait_time`\n",
    "Returns a DataFrame with: 'seller_id', 'delay_to_carrier', 'seller_wait_time'"
   ]
  },
  {
   "cell_type": "code",
   "execution_count": null,
   "metadata": {},
   "outputs": [],
   "source": []
  },
  {
   "cell_type": "markdown",
   "metadata": {},
   "source": [
    "### `get_active_dates`\n",
    "Returns a DataFrame with 'seller_id', 'date_first_sale', 'date_last_sale'"
   ]
  },
  {
   "cell_type": "code",
   "execution_count": null,
   "metadata": {},
   "outputs": [],
   "source": []
  },
  {
   "cell_type": "markdown",
   "metadata": {},
   "source": [
    "### `get_review_score`\n",
    "['seller_id', 'share_of_five_stars', 'share_of_one_stars', 'review_score']"
   ]
  },
  {
   "cell_type": "code",
   "execution_count": null,
   "metadata": {},
   "outputs": [],
   "source": []
  },
  {
   "cell_type": "markdown",
   "metadata": {},
   "source": [
    "### `get_quantity`\n",
    "['seller_id', 'n_orders', 'quantity']"
   ]
  },
  {
   "cell_type": "code",
   "execution_count": null,
   "metadata": {},
   "outputs": [],
   "source": []
  },
  {
   "cell_type": "markdown",
   "metadata": {},
   "source": [
    "### `get_sales`\n",
    "['seller_id', 'sales']"
   ]
  },
  {
   "cell_type": "code",
   "execution_count": null,
   "metadata": {},
   "outputs": [],
   "source": []
  },
  {
   "cell_type": "markdown",
   "metadata": {},
   "source": [
    "## 1 - Exploration"
   ]
  },
  {
   "cell_type": "markdown",
   "metadata": {},
   "source": [
    "❓ Let's start by some initial exploratory analysis on sellers distribution:\n",
    "\n",
    "- Plot the distribution of each numerical variables of the dataset in one large figure\n",
    "- Do you notice any outliers?\n",
    "- \n",
    "- What's the median number of orders per seller? How is the distribution on that variable looking?"
   ]
  },
  {
   "cell_type": "code",
   "execution_count": null,
   "metadata": {},
   "outputs": [],
   "source": []
  },
  {
   "cell_type": "markdown",
   "metadata": {},
   "source": [
    "----\n",
    "💡There seems to be a group of sellers which stands out by having very low review scores! Let's investigate a bit more:\n",
    "\n",
    "❓ Using plotly, create a scatterplot of `review_score` against `n_orders`, varying bubble size by total `sales` for that seller, and coloring by `seller_states`.  \n",
    "\n",
    "- Do you notice the underperforming sellers categories?\n",
    "- Experiment with other x-axis features, color categories, and also with `share_of_one_stars` instead of `review_score` on the y-axis\n",
    "- Remember that Olist gets a revenue proportional to the sale prices, and get a cost penality at for each low review!\n",
    "- Can you think of a strategy to improve Olist's profit margin as per CEO request? (keep it in mind for later!)"
   ]
  },
  {
   "cell_type": "code",
   "execution_count": null,
   "metadata": {},
   "outputs": [],
   "source": []
  },
  {
   "cell_type": "markdown",
   "metadata": {},
   "source": [
    "## 2 - Delay to Carrier"
   ]
  },
  {
   "cell_type": "markdown",
   "metadata": {},
   "source": [
    "The variable `delay_to_carrier` measures the number of days between the shipping date limit imposed by Olist and the actual delivery date to the customer.\n",
    "\n",
    "- What's the share of sellers that have an average `delay_to_carrier` above 0?\n",
    "- Model out the impact of variable `delay_to_carrier` to `review_score`. Start with a simple correlation matrix, then move to a multivariate OLS in statsmodel: Try to isolate the specific impact of this delay, holding out other correlated variable constant. What do you conclude?"
   ]
  },
  {
   "cell_type": "code",
   "execution_count": null,
   "metadata": {},
   "outputs": [],
   "source": []
  },
  {
   "cell_type": "markdown",
   "metadata": {},
   "source": [
    "----\n",
    "\n",
    "<details>\n",
    "    <summary>💡 Insight!</summary>\n",
    "Contrary to our analysis at the individual order level, the specific impact of `delay_to_carrier` is even more impactful than `wait_time` in driving lower reviews!\n",
    "</details>"
   ]
  },
  {
   "cell_type": "markdown",
   "metadata": {},
   "source": [
    "## 3 - Seller location"
   ]
  },
  {
   "cell_type": "markdown",
   "metadata": {},
   "source": [
    "Let's investigate the seller states performance\n",
    "- Create an aggretation table `seller_state` aggregating the feature of your choice at state level\n",
    "- What's the share of orders per seller state? Is it concentrated or distributed across Brazil?\n"
   ]
  },
  {
   "cell_type": "code",
   "execution_count": null,
   "metadata": {},
   "outputs": [],
   "source": []
  },
  {
   "cell_type": "markdown",
   "metadata": {},
   "source": [
    "❓We now want to explore the impact of `seller_state` to `review_score` or `wait_time`:\n",
    "\n",
    "- Plot a plotly scatterplot for states that had more than 100 orders, with `n_orders` on the x axis and `wait_time` on the y axis. Color by review_score\n",
    "\n",
    "- Model out the impact of each `seller_state` to variable `wait_time`. Which locations impact more `wait_time`?\n"
   ]
  },
  {
   "cell_type": "markdown",
   "metadata": {},
   "source": [
    "One question we now want to explore is the impact of location to the variable `wait_time`. Our hypothesis being that some states being more remote, those can have longer delivery time to customer "
   ]
  },
  {
   "cell_type": "code",
   "execution_count": null,
   "metadata": {},
   "outputs": [],
   "source": []
  },
  {
   "cell_type": "markdown",
   "metadata": {},
   "source": [
    "❓All together now! Let's model out the impact of each variable to our target variable `review_score`:\n",
    "\n",
    "Run an OLS model with all previous numerical features, plus the categorical one `seller_state`\n",
    "\n",
    "Feel free to use `return_significative_coef(model)` coded for you in `olist/utils.py` to explore all significative coefs at once"
   ]
  },
  {
   "cell_type": "markdown",
   "metadata": {},
   "source": [
    "Let's now model out the impact of each variable `avg_review_score`: "
   ]
  },
  {
   "cell_type": "code",
   "execution_count": null,
   "metadata": {},
   "outputs": [],
   "source": []
  },
  {
   "cell_type": "markdown",
   "metadata": {},
   "source": [
    "✅ Congratulation with this challenge! Commit and push your notebook before moving to the next one!"
   ]
  },
  {
   "cell_type": "code",
   "execution_count": null,
   "metadata": {},
   "outputs": [],
   "source": []
  }
 ],
 "metadata": {
  "kernelspec": {
   "display_name": "Python 3",
   "language": "python",
   "name": "python3"
  },
  "language_info": {
   "codemirror_mode": {
    "name": "ipython",
    "version": 3
   },
   "file_extension": ".py",
   "mimetype": "text/x-python",
   "name": "python",
   "nbconvert_exporter": "python",
   "pygments_lexer": "ipython3",
   "version": "3.7.7"
  },
  "toc": {
   "base_numbering": 1,
   "nav_menu": {},
   "number_sections": false,
   "sideBar": true,
   "skip_h1_title": false,
   "title_cell": "Table of Contents",
   "title_sidebar": "Contents",
   "toc_cell": false,
   "toc_position": {
    "height": "calc(100% - 180px)",
    "left": "10px",
    "top": "150px",
    "width": "295px"
   },
   "toc_section_display": true,
   "toc_window_display": true
  },
  "varInspector": {
   "cols": {
    "lenName": 16,
    "lenType": 16,
    "lenVar": 40
   },
   "kernels_config": {
    "python": {
     "delete_cmd_postfix": "",
     "delete_cmd_prefix": "del ",
     "library": "var_list.py",
     "varRefreshCmd": "print(var_dic_list())"
    },
    "r": {
     "delete_cmd_postfix": ") ",
     "delete_cmd_prefix": "rm(",
     "library": "var_list.r",
     "varRefreshCmd": "cat(var_dic_list()) "
    }
   },
   "types_to_exclude": [
    "module",
    "function",
    "builtin_function_or_method",
    "instance",
    "_Feature"
   ],
   "window_display": false
  }
 },
 "nbformat": 4,
 "nbformat_minor": 2
}
