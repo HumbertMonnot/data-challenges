{
 "cells": [
  {
   "cell_type": "code",
   "execution_count": 1,
   "metadata": {},
   "outputs": [],
   "source": [
    "%load_ext autoreload\n",
    "%autoreload 2"
   ]
  },
  {
   "cell_type": "markdown",
   "metadata": {},
   "source": [
    "# `Logit` on Orders - A warm-up challenge (~1h)"
   ]
  },
  {
   "cell_type": "markdown",
   "metadata": {},
   "source": [
    "## Select features"
   ]
  },
  {
   "cell_type": "markdown",
   "metadata": {},
   "source": [
    "🎯 Let's figure out the impact of `wait_time` and `delay_vs_expected` on very `good/bad reviews`\n",
    "\n",
    "👉 Using our `orders` training_set, we will run two `multivariate logistic regressions`:\n",
    "- `logit_one` to predict `dim_is_one_star` \n",
    "- `logit_five` to predict `dim_is_five_star`.\n",
    "\n",
    " "
   ]
  },
  {
   "cell_type": "code",
   "execution_count": 26,
   "metadata": {},
   "outputs": [],
   "source": [
    "import pandas as pd\n",
    "import seaborn as sns\n",
    "import statsmodels.api as sm\n",
    "import statsmodels.formula.api as smf\n",
    "import matplotlib.pyplot as plt\n",
    "import math"
   ]
  },
  {
   "cell_type": "markdown",
   "metadata": {},
   "source": [
    "👉 Import your dataset:"
   ]
  },
  {
   "cell_type": "code",
   "execution_count": 3,
   "metadata": {},
   "outputs": [],
   "source": [
    "from olist.order import Order\n",
    "orders = Order().get_training_data(with_distance_seller_customer=True)"
   ]
  },
  {
   "cell_type": "markdown",
   "metadata": {},
   "source": [
    "👉 Select in a list which features you want to use:\n",
    "\n",
    "⚠️ Make sure you are not creating data leakage (i.e. selecting features that are derived from the target)"
   ]
  },
  {
   "cell_type": "code",
   "execution_count": 5,
   "metadata": {},
   "outputs": [
    {
     "data": {
      "text/plain": [
       "Index(['order_id', 'wait_time', 'expected_wait_time', 'delay_vs_expected',\n",
       "       'order_status', 'dim_is_five_star', 'dim_is_one_star', 'review_score',\n",
       "       'number_of_products', 'number_of_sellers', 'price', 'freight_value',\n",
       "       'distance_seller_customer'],\n",
       "      dtype='object')"
      ]
     },
     "execution_count": 5,
     "metadata": {},
     "output_type": "execute_result"
    }
   ],
   "source": [
    "orders.columns"
   ]
  },
  {
   "cell_type": "code",
   "execution_count": 6,
   "metadata": {
    "tags": [
     "challengify"
    ]
   },
   "outputs": [],
   "source": [
    "# YOUR CODE HERE\n",
    "features = [\"wait_time\",\"delay_vs_expected\", \"number_of_products\"]"
   ]
  },
  {
   "cell_type": "markdown",
   "metadata": {},
   "source": [
    "🕵🏻 Check the `multi-colinearity` of your features, using the `VIF index`.\n",
    "\n",
    "* It shouldn't be too high (< 10 preferably) to ensure that we can trust the partial regression coefficents and their associated `p-values` \n",
    "* Do not forget to standardize your data ! \n",
    "    * A `VIF Analysis` is made by regressing a feature vs. the other features...\n",
    "    * So you want to `remove the effect of scale` so that your features have an equal importance before running any linear regression!\n",
    "    \n",
    "    \n",
    "📚 <a href=\"https://www.statisticshowto.com/variance-inflation-factor/\">Statistics How To - Variance Inflation Factor</a>\n",
    "\n",
    "📚  <a href=\"https://online.stat.psu.edu/stat462/node/180/\">PennState - Detecting Multicollinearity Using Variance Inflation Factors</a>"
   ]
  },
  {
   "cell_type": "markdown",
   "metadata": {},
   "source": [
    "⚖️ Standardizing:"
   ]
  },
  {
   "cell_type": "code",
   "execution_count": 12,
   "metadata": {
    "tags": [
     "challengify"
    ]
   },
   "outputs": [],
   "source": [
    "# YOUR CODE HERE\n",
    "\n",
    "def standardize(L, dfi):\n",
    "    df = dfi.copy()\n",
    "    for col in L:\n",
    "        mu = df[col].mean()\n",
    "        sigma = df[col].std()\n",
    "        df[col] = (df[col]-mu)/sigma\n",
    "    return df\n",
    "    \n"
   ]
  },
  {
   "cell_type": "code",
   "execution_count": 15,
   "metadata": {},
   "outputs": [],
   "source": [
    "features = [\"wait_time\",\"delay_vs_expected\", \"number_of_products\"]\n",
    "df_feat = standardize(features, orders)"
   ]
  },
  {
   "cell_type": "code",
   "execution_count": 14,
   "metadata": {
    "collapsed": true
   },
   "outputs": [
    {
     "data": {
      "text/html": [
       "<div>\n",
       "<style scoped>\n",
       "    .dataframe tbody tr th:only-of-type {\n",
       "        vertical-align: middle;\n",
       "    }\n",
       "\n",
       "    .dataframe tbody tr th {\n",
       "        vertical-align: top;\n",
       "    }\n",
       "\n",
       "    .dataframe thead th {\n",
       "        text-align: right;\n",
       "    }\n",
       "</style>\n",
       "<table border=\"1\" class=\"dataframe\">\n",
       "  <thead>\n",
       "    <tr style=\"text-align: right;\">\n",
       "      <th></th>\n",
       "      <th>order_id</th>\n",
       "      <th>wait_time</th>\n",
       "      <th>expected_wait_time</th>\n",
       "      <th>delay_vs_expected</th>\n",
       "      <th>order_status</th>\n",
       "      <th>dim_is_five_star</th>\n",
       "      <th>dim_is_one_star</th>\n",
       "      <th>review_score</th>\n",
       "      <th>number_of_products</th>\n",
       "      <th>number_of_sellers</th>\n",
       "      <th>price</th>\n",
       "      <th>freight_value</th>\n",
       "      <th>distance_seller_customer</th>\n",
       "    </tr>\n",
       "  </thead>\n",
       "  <tbody>\n",
       "    <tr>\n",
       "      <th>0</th>\n",
       "      <td>e481f51cbdc54678b7cc49136f2d6af7</td>\n",
       "      <td>8.436574</td>\n",
       "      <td>15.544063</td>\n",
       "      <td>0.0</td>\n",
       "      <td>delivered</td>\n",
       "      <td>0</td>\n",
       "      <td>0</td>\n",
       "      <td>4</td>\n",
       "      <td>1</td>\n",
       "      <td>1</td>\n",
       "      <td>29.99</td>\n",
       "      <td>8.72</td>\n",
       "      <td>18.063837</td>\n",
       "    </tr>\n",
       "    <tr>\n",
       "      <th>1</th>\n",
       "      <td>53cdb2fc8bc7dce0b6741e2150273451</td>\n",
       "      <td>13.782037</td>\n",
       "      <td>19.137766</td>\n",
       "      <td>0.0</td>\n",
       "      <td>delivered</td>\n",
       "      <td>0</td>\n",
       "      <td>0</td>\n",
       "      <td>4</td>\n",
       "      <td>1</td>\n",
       "      <td>1</td>\n",
       "      <td>118.70</td>\n",
       "      <td>22.76</td>\n",
       "      <td>856.292580</td>\n",
       "    </tr>\n",
       "    <tr>\n",
       "      <th>2</th>\n",
       "      <td>47770eb9100c2d0c44946d9cf07ec65d</td>\n",
       "      <td>9.394213</td>\n",
       "      <td>26.639711</td>\n",
       "      <td>0.0</td>\n",
       "      <td>delivered</td>\n",
       "      <td>1</td>\n",
       "      <td>0</td>\n",
       "      <td>5</td>\n",
       "      <td>1</td>\n",
       "      <td>1</td>\n",
       "      <td>159.90</td>\n",
       "      <td>19.22</td>\n",
       "      <td>514.130333</td>\n",
       "    </tr>\n",
       "    <tr>\n",
       "      <th>3</th>\n",
       "      <td>949d5b44dbf5de918fe9c16f97b45f8a</td>\n",
       "      <td>13.208750</td>\n",
       "      <td>26.188819</td>\n",
       "      <td>0.0</td>\n",
       "      <td>delivered</td>\n",
       "      <td>1</td>\n",
       "      <td>0</td>\n",
       "      <td>5</td>\n",
       "      <td>1</td>\n",
       "      <td>1</td>\n",
       "      <td>45.00</td>\n",
       "      <td>27.20</td>\n",
       "      <td>1822.800366</td>\n",
       "    </tr>\n",
       "    <tr>\n",
       "      <th>4</th>\n",
       "      <td>ad21c59c0840e6cb83a9ceb5573f8159</td>\n",
       "      <td>2.873877</td>\n",
       "      <td>12.112049</td>\n",
       "      <td>0.0</td>\n",
       "      <td>delivered</td>\n",
       "      <td>1</td>\n",
       "      <td>0</td>\n",
       "      <td>5</td>\n",
       "      <td>1</td>\n",
       "      <td>1</td>\n",
       "      <td>19.90</td>\n",
       "      <td>8.72</td>\n",
       "      <td>30.174037</td>\n",
       "    </tr>\n",
       "    <tr>\n",
       "      <th>...</th>\n",
       "      <td>...</td>\n",
       "      <td>...</td>\n",
       "      <td>...</td>\n",
       "      <td>...</td>\n",
       "      <td>...</td>\n",
       "      <td>...</td>\n",
       "      <td>...</td>\n",
       "      <td>...</td>\n",
       "      <td>...</td>\n",
       "      <td>...</td>\n",
       "      <td>...</td>\n",
       "      <td>...</td>\n",
       "      <td>...</td>\n",
       "    </tr>\n",
       "    <tr>\n",
       "      <th>95875</th>\n",
       "      <td>9c5dedf39a927c1b2549525ed64a053c</td>\n",
       "      <td>8.218009</td>\n",
       "      <td>18.587442</td>\n",
       "      <td>0.0</td>\n",
       "      <td>delivered</td>\n",
       "      <td>1</td>\n",
       "      <td>0</td>\n",
       "      <td>5</td>\n",
       "      <td>1</td>\n",
       "      <td>1</td>\n",
       "      <td>72.00</td>\n",
       "      <td>13.08</td>\n",
       "      <td>69.481037</td>\n",
       "    </tr>\n",
       "    <tr>\n",
       "      <th>95876</th>\n",
       "      <td>63943bddc261676b46f01ca7ac2f7bd8</td>\n",
       "      <td>22.193727</td>\n",
       "      <td>23.459051</td>\n",
       "      <td>0.0</td>\n",
       "      <td>delivered</td>\n",
       "      <td>0</td>\n",
       "      <td>0</td>\n",
       "      <td>4</td>\n",
       "      <td>1</td>\n",
       "      <td>1</td>\n",
       "      <td>174.90</td>\n",
       "      <td>20.10</td>\n",
       "      <td>474.098245</td>\n",
       "    </tr>\n",
       "    <tr>\n",
       "      <th>95877</th>\n",
       "      <td>83c1379a015df1e13d02aae0204711ab</td>\n",
       "      <td>24.859421</td>\n",
       "      <td>30.384225</td>\n",
       "      <td>0.0</td>\n",
       "      <td>delivered</td>\n",
       "      <td>1</td>\n",
       "      <td>0</td>\n",
       "      <td>5</td>\n",
       "      <td>1</td>\n",
       "      <td>1</td>\n",
       "      <td>205.99</td>\n",
       "      <td>65.02</td>\n",
       "      <td>968.051192</td>\n",
       "    </tr>\n",
       "    <tr>\n",
       "      <th>95878</th>\n",
       "      <td>11c177c8e97725db2631073c19f07b62</td>\n",
       "      <td>17.086424</td>\n",
       "      <td>37.105243</td>\n",
       "      <td>0.0</td>\n",
       "      <td>delivered</td>\n",
       "      <td>0</td>\n",
       "      <td>0</td>\n",
       "      <td>2</td>\n",
       "      <td>2</td>\n",
       "      <td>1</td>\n",
       "      <td>359.98</td>\n",
       "      <td>81.18</td>\n",
       "      <td>370.146853</td>\n",
       "    </tr>\n",
       "    <tr>\n",
       "      <th>95879</th>\n",
       "      <td>66dea50a8b16d9b4dee7af250b4be1a5</td>\n",
       "      <td>7.674306</td>\n",
       "      <td>25.126736</td>\n",
       "      <td>0.0</td>\n",
       "      <td>delivered</td>\n",
       "      <td>1</td>\n",
       "      <td>0</td>\n",
       "      <td>5</td>\n",
       "      <td>1</td>\n",
       "      <td>1</td>\n",
       "      <td>68.50</td>\n",
       "      <td>18.36</td>\n",
       "      <td>631.817784</td>\n",
       "    </tr>\n",
       "  </tbody>\n",
       "</table>\n",
       "<p>95872 rows × 13 columns</p>\n",
       "</div>"
      ],
      "text/plain": [
       "                               order_id  wait_time  expected_wait_time  \\\n",
       "0      e481f51cbdc54678b7cc49136f2d6af7   8.436574           15.544063   \n",
       "1      53cdb2fc8bc7dce0b6741e2150273451  13.782037           19.137766   \n",
       "2      47770eb9100c2d0c44946d9cf07ec65d   9.394213           26.639711   \n",
       "3      949d5b44dbf5de918fe9c16f97b45f8a  13.208750           26.188819   \n",
       "4      ad21c59c0840e6cb83a9ceb5573f8159   2.873877           12.112049   \n",
       "...                                 ...        ...                 ...   \n",
       "95875  9c5dedf39a927c1b2549525ed64a053c   8.218009           18.587442   \n",
       "95876  63943bddc261676b46f01ca7ac2f7bd8  22.193727           23.459051   \n",
       "95877  83c1379a015df1e13d02aae0204711ab  24.859421           30.384225   \n",
       "95878  11c177c8e97725db2631073c19f07b62  17.086424           37.105243   \n",
       "95879  66dea50a8b16d9b4dee7af250b4be1a5   7.674306           25.126736   \n",
       "\n",
       "       delay_vs_expected order_status  dim_is_five_star  dim_is_one_star  \\\n",
       "0                    0.0    delivered                 0                0   \n",
       "1                    0.0    delivered                 0                0   \n",
       "2                    0.0    delivered                 1                0   \n",
       "3                    0.0    delivered                 1                0   \n",
       "4                    0.0    delivered                 1                0   \n",
       "...                  ...          ...               ...              ...   \n",
       "95875                0.0    delivered                 1                0   \n",
       "95876                0.0    delivered                 0                0   \n",
       "95877                0.0    delivered                 1                0   \n",
       "95878                0.0    delivered                 0                0   \n",
       "95879                0.0    delivered                 1                0   \n",
       "\n",
       "       review_score  number_of_products  number_of_sellers   price  \\\n",
       "0                 4                   1                  1   29.99   \n",
       "1                 4                   1                  1  118.70   \n",
       "2                 5                   1                  1  159.90   \n",
       "3                 5                   1                  1   45.00   \n",
       "4                 5                   1                  1   19.90   \n",
       "...             ...                 ...                ...     ...   \n",
       "95875             5                   1                  1   72.00   \n",
       "95876             4                   1                  1  174.90   \n",
       "95877             5                   1                  1  205.99   \n",
       "95878             2                   2                  1  359.98   \n",
       "95879             5                   1                  1   68.50   \n",
       "\n",
       "       freight_value  distance_seller_customer  \n",
       "0               8.72                 18.063837  \n",
       "1              22.76                856.292580  \n",
       "2              19.22                514.130333  \n",
       "3              27.20               1822.800366  \n",
       "4               8.72                 30.174037  \n",
       "...              ...                       ...  \n",
       "95875          13.08                 69.481037  \n",
       "95876          20.10                474.098245  \n",
       "95877          65.02                968.051192  \n",
       "95878          81.18                370.146853  \n",
       "95879          18.36                631.817784  \n",
       "\n",
       "[95872 rows x 13 columns]"
      ]
     },
     "execution_count": 14,
     "metadata": {},
     "output_type": "execute_result"
    }
   ],
   "source": [
    "orders"
   ]
  },
  {
   "cell_type": "markdown",
   "metadata": {},
   "source": [
    "👉 Run your VIF Analysis to analyze the potential multicolinearities:"
   ]
  },
  {
   "cell_type": "code",
   "execution_count": 18,
   "metadata": {
    "tags": [
     "challengify"
    ]
   },
   "outputs": [
    {
     "data": {
      "text/html": [
       "<div>\n",
       "<style scoped>\n",
       "    .dataframe tbody tr th:only-of-type {\n",
       "        vertical-align: middle;\n",
       "    }\n",
       "\n",
       "    .dataframe tbody tr th {\n",
       "        vertical-align: top;\n",
       "    }\n",
       "\n",
       "    .dataframe thead th {\n",
       "        text-align: right;\n",
       "    }\n",
       "</style>\n",
       "<table border=\"1\" class=\"dataframe\">\n",
       "  <thead>\n",
       "    <tr style=\"text-align: right;\">\n",
       "      <th></th>\n",
       "      <th>features</th>\n",
       "      <th>vif_index</th>\n",
       "    </tr>\n",
       "  </thead>\n",
       "  <tbody>\n",
       "    <tr>\n",
       "      <th>0</th>\n",
       "      <td>wait_time</td>\n",
       "      <td>1.98</td>\n",
       "    </tr>\n",
       "    <tr>\n",
       "      <th>1</th>\n",
       "      <td>delay_vs_expected</td>\n",
       "      <td>1.97</td>\n",
       "    </tr>\n",
       "    <tr>\n",
       "      <th>2</th>\n",
       "      <td>number_of_products</td>\n",
       "      <td>1.00</td>\n",
       "    </tr>\n",
       "  </tbody>\n",
       "</table>\n",
       "</div>"
      ],
      "text/plain": [
       "             features  vif_index\n",
       "0           wait_time       1.98\n",
       "1   delay_vs_expected       1.97\n",
       "2  number_of_products       1.00"
      ]
     },
     "execution_count": 18,
     "metadata": {},
     "output_type": "execute_result"
    }
   ],
   "source": [
    "# YOUR CODE HERE\n",
    "from statsmodels.stats.outliers_influence import variance_inflation_factor as vif\n",
    "df = pd.DataFrame()\n",
    "df[\"features\"] = df_feat[features].columns\n",
    "df[\"vif_index\"] = [vif(df_feat[features].values, i) for i in range(df_feat[features].shape[1])]\n",
    "round(df.sort_values(by=\"vif_index\", ascending = False),2)\n"
   ]
  },
  {
   "cell_type": "markdown",
   "metadata": {},
   "source": [
    "## Logistic Regressions"
   ]
  },
  {
   "cell_type": "markdown",
   "metadata": {},
   "source": [
    "👉 Fit two `Logistic Regression` models:\n",
    "- `logit_one` to predict `dim_is_one_star` \n",
    "- `logit_five` to predict `dim_is_five_star`."
   ]
  },
  {
   "cell_type": "markdown",
   "metadata": {},
   "source": [
    "`Logit 1️⃣`"
   ]
  },
  {
   "cell_type": "code",
   "execution_count": 22,
   "metadata": {
    "tags": [
     "challengify"
    ]
   },
   "outputs": [
    {
     "name": "stdout",
     "output_type": "stream",
     "text": [
      "Optimization terminated successfully.\n",
      "         Current function value: 0.277057\n",
      "         Iterations 7\n"
     ]
    },
    {
     "data": {
      "text/html": [
       "<table class=\"simpletable\">\n",
       "<caption>Logit Regression Results</caption>\n",
       "<tr>\n",
       "  <th>Dep. Variable:</th>    <td>dim_is_one_star</td> <th>  No. Observations:  </th>  <td> 95872</td> \n",
       "</tr>\n",
       "<tr>\n",
       "  <th>Model:</th>                 <td>Logit</td>      <th>  Df Residuals:      </th>  <td> 95868</td> \n",
       "</tr>\n",
       "<tr>\n",
       "  <th>Method:</th>                 <td>MLE</td>       <th>  Df Model:          </th>  <td>     3</td> \n",
       "</tr>\n",
       "<tr>\n",
       "  <th>Date:</th>            <td>Thu, 27 Jan 2022</td> <th>  Pseudo R-squ.:     </th>  <td>0.1339</td> \n",
       "</tr>\n",
       "<tr>\n",
       "  <th>Time:</th>                <td>11:29:32</td>     <th>  Log-Likelihood:    </th> <td> -26562.</td>\n",
       "</tr>\n",
       "<tr>\n",
       "  <th>converged:</th>             <td>True</td>       <th>  LL-Null:           </th> <td> -30669.</td>\n",
       "</tr>\n",
       "<tr>\n",
       "  <th>Covariance Type:</th>     <td>nonrobust</td>    <th>  LLR p-value:       </th>  <td> 0.000</td> \n",
       "</tr>\n",
       "</table>\n",
       "<table class=\"simpletable\">\n",
       "<tr>\n",
       "           <td></td>             <th>coef</th>     <th>std err</th>      <th>z</th>      <th>P>|z|</th>  <th>[0.025</th>    <th>0.975]</th>  \n",
       "</tr>\n",
       "<tr>\n",
       "  <th>Intercept</th>          <td>   -2.4402</td> <td>    0.013</td> <td> -192.083</td> <td> 0.000</td> <td>   -2.465</td> <td>   -2.415</td>\n",
       "</tr>\n",
       "<tr>\n",
       "  <th>wait_time</th>          <td>    0.5783</td> <td>    0.015</td> <td>   39.338</td> <td> 0.000</td> <td>    0.549</td> <td>    0.607</td>\n",
       "</tr>\n",
       "<tr>\n",
       "  <th>delay_vs_expected</th>  <td>    0.3416</td> <td>    0.018</td> <td>   19.175</td> <td> 0.000</td> <td>    0.307</td> <td>    0.377</td>\n",
       "</tr>\n",
       "<tr>\n",
       "  <th>number_of_products</th> <td>    0.3008</td> <td>    0.008</td> <td>   35.440</td> <td> 0.000</td> <td>    0.284</td> <td>    0.317</td>\n",
       "</tr>\n",
       "</table>"
      ],
      "text/plain": [
       "<class 'statsmodels.iolib.summary.Summary'>\n",
       "\"\"\"\n",
       "                           Logit Regression Results                           \n",
       "==============================================================================\n",
       "Dep. Variable:        dim_is_one_star   No. Observations:                95872\n",
       "Model:                          Logit   Df Residuals:                    95868\n",
       "Method:                           MLE   Df Model:                            3\n",
       "Date:                Thu, 27 Jan 2022   Pseudo R-squ.:                  0.1339\n",
       "Time:                        11:29:32   Log-Likelihood:                -26562.\n",
       "converged:                       True   LL-Null:                       -30669.\n",
       "Covariance Type:            nonrobust   LLR p-value:                     0.000\n",
       "======================================================================================\n",
       "                         coef    std err          z      P>|z|      [0.025      0.975]\n",
       "--------------------------------------------------------------------------------------\n",
       "Intercept             -2.4402      0.013   -192.083      0.000      -2.465      -2.415\n",
       "wait_time              0.5783      0.015     39.338      0.000       0.549       0.607\n",
       "delay_vs_expected      0.3416      0.018     19.175      0.000       0.307       0.377\n",
       "number_of_products     0.3008      0.008     35.440      0.000       0.284       0.317\n",
       "======================================================================================\n",
       "\"\"\""
      ]
     },
     "execution_count": 22,
     "metadata": {},
     "output_type": "execute_result"
    }
   ],
   "source": [
    "# YOUR CODE HERE\n",
    "logit_one = smf.logit(formula = 'dim_is_one_star ~ wait_time + delay_vs_expected + number_of_products', \\\n",
    "                      data = df_feat).fit()\n",
    "logit_one.summary()"
   ]
  },
  {
   "cell_type": "markdown",
   "metadata": {},
   "source": [
    "`Logit 5️⃣`"
   ]
  },
  {
   "cell_type": "code",
   "execution_count": 23,
   "metadata": {
    "tags": [
     "challengify"
    ]
   },
   "outputs": [
    {
     "name": "stdout",
     "output_type": "stream",
     "text": [
      "Optimization terminated successfully.\n",
      "         Current function value: 0.639466\n",
      "         Iterations 7\n"
     ]
    },
    {
     "data": {
      "text/html": [
       "<table class=\"simpletable\">\n",
       "<caption>Logit Regression Results</caption>\n",
       "<tr>\n",
       "  <th>Dep. Variable:</th>   <td>dim_is_five_star</td> <th>  No. Observations:  </th>  <td> 95872</td> \n",
       "</tr>\n",
       "<tr>\n",
       "  <th>Model:</th>                 <td>Logit</td>      <th>  Df Residuals:      </th>  <td> 95868</td> \n",
       "</tr>\n",
       "<tr>\n",
       "  <th>Method:</th>                 <td>MLE</td>       <th>  Df Model:          </th>  <td>     3</td> \n",
       "</tr>\n",
       "<tr>\n",
       "  <th>Date:</th>            <td>Thu, 27 Jan 2022</td> <th>  Pseudo R-squ.:     </th>  <td>0.05416</td>\n",
       "</tr>\n",
       "<tr>\n",
       "  <th>Time:</th>                <td>11:30:31</td>     <th>  Log-Likelihood:    </th> <td> -61307.</td>\n",
       "</tr>\n",
       "<tr>\n",
       "  <th>converged:</th>             <td>True</td>       <th>  LL-Null:           </th> <td> -64817.</td>\n",
       "</tr>\n",
       "<tr>\n",
       "  <th>Covariance Type:</th>     <td>nonrobust</td>    <th>  LLR p-value:       </th>  <td> 0.000</td> \n",
       "</tr>\n",
       "</table>\n",
       "<table class=\"simpletable\">\n",
       "<tr>\n",
       "           <td></td>             <th>coef</th>     <th>std err</th>      <th>z</th>      <th>P>|z|</th>  <th>[0.025</th>    <th>0.975]</th>  \n",
       "</tr>\n",
       "<tr>\n",
       "  <th>Intercept</th>          <td>    0.3371</td> <td>    0.007</td> <td>   47.166</td> <td> 0.000</td> <td>    0.323</td> <td>    0.351</td>\n",
       "</tr>\n",
       "<tr>\n",
       "  <th>wait_time</th>          <td>   -0.4470</td> <td>    0.010</td> <td>  -44.530</td> <td> 0.000</td> <td>   -0.467</td> <td>   -0.427</td>\n",
       "</tr>\n",
       "<tr>\n",
       "  <th>delay_vs_expected</th>  <td>   -0.4952</td> <td>    0.023</td> <td>  -21.378</td> <td> 0.000</td> <td>   -0.541</td> <td>   -0.450</td>\n",
       "</tr>\n",
       "<tr>\n",
       "  <th>number_of_products</th> <td>   -0.1740</td> <td>    0.007</td> <td>  -23.717</td> <td> 0.000</td> <td>   -0.188</td> <td>   -0.160</td>\n",
       "</tr>\n",
       "</table>"
      ],
      "text/plain": [
       "<class 'statsmodels.iolib.summary.Summary'>\n",
       "\"\"\"\n",
       "                           Logit Regression Results                           \n",
       "==============================================================================\n",
       "Dep. Variable:       dim_is_five_star   No. Observations:                95872\n",
       "Model:                          Logit   Df Residuals:                    95868\n",
       "Method:                           MLE   Df Model:                            3\n",
       "Date:                Thu, 27 Jan 2022   Pseudo R-squ.:                 0.05416\n",
       "Time:                        11:30:31   Log-Likelihood:                -61307.\n",
       "converged:                       True   LL-Null:                       -64817.\n",
       "Covariance Type:            nonrobust   LLR p-value:                     0.000\n",
       "======================================================================================\n",
       "                         coef    std err          z      P>|z|      [0.025      0.975]\n",
       "--------------------------------------------------------------------------------------\n",
       "Intercept              0.3371      0.007     47.166      0.000       0.323       0.351\n",
       "wait_time             -0.4470      0.010    -44.530      0.000      -0.467      -0.427\n",
       "delay_vs_expected     -0.4952      0.023    -21.378      0.000      -0.541      -0.450\n",
       "number_of_products    -0.1740      0.007    -23.717      0.000      -0.188      -0.160\n",
       "======================================================================================\n",
       "\"\"\""
      ]
     },
     "execution_count": 23,
     "metadata": {},
     "output_type": "execute_result"
    }
   ],
   "source": [
    "# YOUR CODE HERE\n",
    "logit_five = smf.logit(formula = 'dim_is_five_star ~ wait_time + delay_vs_expected + number_of_products', \\\n",
    "                      data = df_feat).fit()\n",
    "logit_five.summary()"
   ]
  },
  {
   "cell_type": "markdown",
   "metadata": {},
   "source": [
    "💡 It's time to analyse the results of these two logistic regressions:\n",
    "\n",
    "- Interpret the partial coefficients in your own words.\n",
    "- Check their statistical significances with `p-values`\n",
    "- Do you notice any differences between `logit_one` and `logit_five` in terms of coefficient importances?"
   ]
  },
  {
   "cell_type": "code",
   "execution_count": 39,
   "metadata": {},
   "outputs": [
    {
     "data": {
      "text/plain": [
       "0.38271604938271603"
      ]
     },
     "execution_count": 39,
     "metadata": {},
     "output_type": "execute_result"
    }
   ],
   "source": [
    "def odd_to_p(odd):\n",
    "    return odd/(1+odd)\n",
    "\n",
    "odd_to_p(0.62)"
   ]
  },
  {
   "cell_type": "code",
   "execution_count": 40,
   "metadata": {},
   "outputs": [
    {
     "data": {
      "text/plain": [
       "(0.5845897139382945, 0.37866838782538803)"
      ]
     },
     "execution_count": 40,
     "metadata": {},
     "output_type": "execute_result"
    }
   ],
   "source": [
    "(odd_to_p(math.exp(logit_one.params.delay_vs_expected)), odd_to_p(math.exp(logit_five.params.delay_vs_expected)))"
   ]
  },
  {
   "cell_type": "code",
   "execution_count": 41,
   "metadata": {},
   "outputs": [
    {
     "data": {
      "text/plain": [
       "(0.6406746434584986, 0.3900855506778553)"
      ]
     },
     "execution_count": 41,
     "metadata": {},
     "output_type": "execute_result"
    }
   ],
   "source": [
    "(odd_to_p(math.exp(logit_one.params.wait_time)), odd_to_p(math.exp(logit_five.params.wait_time)))"
   ]
  },
  {
   "cell_type": "code",
   "execution_count": 42,
   "metadata": {},
   "outputs": [],
   "source": [
    "# Among the following sentences, store the ones that are true in the list below\n",
    "\n",
    "a = \"delay_vs_expected influences five_star ratings even more than one_star ratings\"\n",
    "b = \"wait_time influences five_star ratings even more more than one_star\"\n",
    "\n",
    "your_answer = [a]"
   ]
  },
  {
   "cell_type": "markdown",
   "metadata": {},
   "source": [
    "🧪 __Test your code__"
   ]
  },
  {
   "cell_type": "code",
   "execution_count": 43,
   "metadata": {},
   "outputs": [
    {
     "name": "stdout",
     "output_type": "stream",
     "text": [
      "\u001b[1m============================= test session starts ==============================\u001b[0m\n",
      "platform darwin -- Python 3.8.12, pytest-6.2.5, py-1.11.0, pluggy-1.0.0 -- /Users/humbert/.pyenv/versions/lewagon/bin/python3\n",
      "cachedir: .pytest_cache\n",
      "rootdir: /Users/humbert/code/HumbertMonnot/data-challenges/04-Decision-Science/04-Logistic-Regression/01-Logit\n",
      "plugins: anyio-3.4.0, dash-2.0.0\n",
      "\u001b[1mcollecting ... \u001b[0mcollected 1 item\n",
      "\n",
      "tests/test_logit.py::TestLogit::test_question \u001b[32mPASSED\u001b[0m\u001b[32m                     [100%]\u001b[0m\n",
      "\n",
      "\u001b[32m============================== \u001b[32m\u001b[1m1 passed\u001b[0m\u001b[32m in 0.01s\u001b[0m\u001b[32m ===============================\u001b[0m\n",
      "\n",
      "\n",
      "💯 You can commit your code:\n",
      "\n",
      "\u001b[1;32mgit\u001b[39m add tests/logit.pickle\n",
      "\n",
      "\u001b[32mgit\u001b[39m commit -m \u001b[33m'Completed logit step'\u001b[39m\n",
      "\n",
      "\u001b[32mgit\u001b[39m push origin master\n"
     ]
    }
   ],
   "source": [
    "from nbresult import ChallengeResult\n",
    "\n",
    "result = ChallengeResult('logit',\n",
    "    answers = your_answer\n",
    ")\n",
    "result.write()\n",
    "print(result.check())"
   ]
  },
  {
   "cell_type": "markdown",
   "metadata": {},
   "source": [
    "<details>\n",
    "    <summary>- <i>Explanations and advanced concepts </i> -</summary>\n",
    "\n",
    "\n",
    "> _All other thing being equal, the `delay factor` tends to increase the chances of getting stripped of the 5-star even more so than it affect the chances of 1-star reviews. Probably because 1-stars are really targeting bad products themselves, not bad deliveries_\n",
    "    \n",
    "❗️ However, to be totally rigorous, we have to be **more careful when comparing coefficients from two different models**, because **they might not be based on similar populations**!\n",
    "    We have 2 sub-populations here: (people who gave 1-stars; and people who gave 5-stars) and they may exhibit intrinsically different behavior patterns. It may well be that \"happy-people\" (who tends to give 5-stars easily) are less sensitive as \"grumpy-people\" (who shoot 1-stars like Lucky-Luke), when it comes to \"delay\", or \"price\"...\n",
    "\n",
    "</details>\n"
   ]
  },
  {
   "cell_type": "markdown",
   "metadata": {},
   "source": [
    "## Logistic vs. Linear ?"
   ]
  },
  {
   "cell_type": "markdown",
   "metadata": {},
   "source": [
    "👉 Compare:\n",
    "- the regression coefficients obtained from the `Logistic Regression `\n",
    "- with the regression coefficients obtained through a `Linear Regression` \n",
    "- on `review_score`, using the same features. \n",
    "\n",
    "⚠️ Check that both sets of coefficients  tell  \"the same story\"."
   ]
  },
  {
   "cell_type": "markdown",
   "metadata": {
    "tags": [
     "challengify"
    ]
   },
   "source": [
    "> YOUR ANSWER HERE"
   ]
  },
  {
   "cell_type": "code",
   "execution_count": 44,
   "metadata": {
    "tags": [
     "challengify"
    ]
   },
   "outputs": [
    {
     "data": {
      "text/html": [
       "<table class=\"simpletable\">\n",
       "<caption>OLS Regression Results</caption>\n",
       "<tr>\n",
       "  <th>Dep. Variable:</th>     <td>dim_is_one_star</td> <th>  R-squared:         </th> <td>   0.119</td> \n",
       "</tr>\n",
       "<tr>\n",
       "  <th>Model:</th>                   <td>OLS</td>       <th>  Adj. R-squared:    </th> <td>   0.119</td> \n",
       "</tr>\n",
       "<tr>\n",
       "  <th>Method:</th>             <td>Least Squares</td>  <th>  F-statistic:       </th> <td>   4312.</td> \n",
       "</tr>\n",
       "<tr>\n",
       "  <th>Date:</th>             <td>Thu, 27 Jan 2022</td> <th>  Prob (F-statistic):</th>  <td>  0.00</td>  \n",
       "</tr>\n",
       "<tr>\n",
       "  <th>Time:</th>                 <td>11:48:30</td>     <th>  Log-Likelihood:    </th> <td> -13527.</td> \n",
       "</tr>\n",
       "<tr>\n",
       "  <th>No. Observations:</th>      <td> 95872</td>      <th>  AIC:               </th> <td>2.706e+04</td>\n",
       "</tr>\n",
       "<tr>\n",
       "  <th>Df Residuals:</th>          <td> 95868</td>      <th>  BIC:               </th> <td>2.710e+04</td>\n",
       "</tr>\n",
       "<tr>\n",
       "  <th>Df Model:</th>              <td>     3</td>      <th>                     </th>     <td> </td>    \n",
       "</tr>\n",
       "<tr>\n",
       "  <th>Covariance Type:</th>      <td>nonrobust</td>    <th>                     </th>     <td> </td>    \n",
       "</tr>\n",
       "</table>\n",
       "<table class=\"simpletable\">\n",
       "<tr>\n",
       "           <td></td>             <th>coef</th>     <th>std err</th>      <th>t</th>      <th>P>|t|</th>  <th>[0.025</th>    <th>0.975]</th>  \n",
       "</tr>\n",
       "<tr>\n",
       "  <th>Intercept</th>          <td>    0.0977</td> <td>    0.001</td> <td>  108.512</td> <td> 0.000</td> <td>    0.096</td> <td>    0.099</td>\n",
       "</tr>\n",
       "<tr>\n",
       "  <th>wait_time</th>          <td>    0.0626</td> <td>    0.001</td> <td>   49.513</td> <td> 0.000</td> <td>    0.060</td> <td>    0.065</td>\n",
       "</tr>\n",
       "<tr>\n",
       "  <th>delay_vs_expected</th>  <td>    0.0410</td> <td>    0.001</td> <td>   32.439</td> <td> 0.000</td> <td>    0.039</td> <td>    0.044</td>\n",
       "</tr>\n",
       "<tr>\n",
       "  <th>number_of_products</th> <td>    0.0374</td> <td>    0.001</td> <td>   41.522</td> <td> 0.000</td> <td>    0.036</td> <td>    0.039</td>\n",
       "</tr>\n",
       "</table>\n",
       "<table class=\"simpletable\">\n",
       "<tr>\n",
       "  <th>Omnibus:</th>       <td>45225.968</td> <th>  Durbin-Watson:     </th>  <td>   2.004</td> \n",
       "</tr>\n",
       "<tr>\n",
       "  <th>Prob(Omnibus):</th>  <td> 0.000</td>   <th>  Jarque-Bera (JB):  </th> <td>264784.610</td>\n",
       "</tr>\n",
       "<tr>\n",
       "  <th>Skew:</th>           <td> 2.246</td>   <th>  Prob(JB):          </th>  <td>    0.00</td> \n",
       "</tr>\n",
       "<tr>\n",
       "  <th>Kurtosis:</th>       <td> 9.790</td>   <th>  Cond. No.          </th>  <td>    2.39</td> \n",
       "</tr>\n",
       "</table><br/><br/>Notes:<br/>[1] Standard Errors assume that the covariance matrix of the errors is correctly specified."
      ],
      "text/plain": [
       "<class 'statsmodels.iolib.summary.Summary'>\n",
       "\"\"\"\n",
       "                            OLS Regression Results                            \n",
       "==============================================================================\n",
       "Dep. Variable:        dim_is_one_star   R-squared:                       0.119\n",
       "Model:                            OLS   Adj. R-squared:                  0.119\n",
       "Method:                 Least Squares   F-statistic:                     4312.\n",
       "Date:                Thu, 27 Jan 2022   Prob (F-statistic):               0.00\n",
       "Time:                        11:48:30   Log-Likelihood:                -13527.\n",
       "No. Observations:               95872   AIC:                         2.706e+04\n",
       "Df Residuals:                   95868   BIC:                         2.710e+04\n",
       "Df Model:                           3                                         \n",
       "Covariance Type:            nonrobust                                         \n",
       "======================================================================================\n",
       "                         coef    std err          t      P>|t|      [0.025      0.975]\n",
       "--------------------------------------------------------------------------------------\n",
       "Intercept              0.0977      0.001    108.512      0.000       0.096       0.099\n",
       "wait_time              0.0626      0.001     49.513      0.000       0.060       0.065\n",
       "delay_vs_expected      0.0410      0.001     32.439      0.000       0.039       0.044\n",
       "number_of_products     0.0374      0.001     41.522      0.000       0.036       0.039\n",
       "==============================================================================\n",
       "Omnibus:                    45225.968   Durbin-Watson:                   2.004\n",
       "Prob(Omnibus):                  0.000   Jarque-Bera (JB):           264784.610\n",
       "Skew:                           2.246   Prob(JB):                         0.00\n",
       "Kurtosis:                       9.790   Cond. No.                         2.39\n",
       "==============================================================================\n",
       "\n",
       "Notes:\n",
       "[1] Standard Errors assume that the covariance matrix of the errors is correctly specified.\n",
       "\"\"\""
      ]
     },
     "execution_count": 44,
     "metadata": {},
     "output_type": "execute_result"
    }
   ],
   "source": [
    "# YOUR CODE HERE\n",
    "lin_1 = smf.ols(formula = 'dim_is_one_star ~ wait_time + delay_vs_expected + number_of_products', \\\n",
    "                      data = df_feat).fit()\n",
    "lin_1.summary()"
   ]
  },
  {
   "cell_type": "code",
   "execution_count": 45,
   "metadata": {},
   "outputs": [
    {
     "data": {
      "text/html": [
       "<table class=\"simpletable\">\n",
       "<caption>OLS Regression Results</caption>\n",
       "<tr>\n",
       "  <th>Dep. Variable:</th>    <td>dim_is_five_star</td> <th>  R-squared:         </th> <td>   0.061</td> \n",
       "</tr>\n",
       "<tr>\n",
       "  <th>Model:</th>                   <td>OLS</td>       <th>  Adj. R-squared:    </th> <td>   0.061</td> \n",
       "</tr>\n",
       "<tr>\n",
       "  <th>Method:</th>             <td>Least Squares</td>  <th>  F-statistic:       </th> <td>   2070.</td> \n",
       "</tr>\n",
       "<tr>\n",
       "  <th>Date:</th>             <td>Thu, 27 Jan 2022</td> <th>  Prob (F-statistic):</th>  <td>  0.00</td>  \n",
       "</tr>\n",
       "<tr>\n",
       "  <th>Time:</th>                 <td>11:49:10</td>     <th>  Log-Likelihood:    </th> <td> -64919.</td> \n",
       "</tr>\n",
       "<tr>\n",
       "  <th>No. Observations:</th>      <td> 95872</td>      <th>  AIC:               </th> <td>1.298e+05</td>\n",
       "</tr>\n",
       "<tr>\n",
       "  <th>Df Residuals:</th>          <td> 95868</td>      <th>  BIC:               </th> <td>1.299e+05</td>\n",
       "</tr>\n",
       "<tr>\n",
       "  <th>Df Model:</th>              <td>     3</td>      <th>                     </th>     <td> </td>    \n",
       "</tr>\n",
       "<tr>\n",
       "  <th>Covariance Type:</th>      <td>nonrobust</td>    <th>                     </th>     <td> </td>    \n",
       "</tr>\n",
       "</table>\n",
       "<table class=\"simpletable\">\n",
       "<tr>\n",
       "           <td></td>             <th>coef</th>     <th>std err</th>      <th>t</th>      <th>P>|t|</th>  <th>[0.025</th>    <th>0.975]</th>  \n",
       "</tr>\n",
       "<tr>\n",
       "  <th>Intercept</th>          <td>    0.5921</td> <td>    0.002</td> <td>  384.945</td> <td> 0.000</td> <td>    0.589</td> <td>    0.595</td>\n",
       "</tr>\n",
       "<tr>\n",
       "  <th>wait_time</th>          <td>   -0.1211</td> <td>    0.002</td> <td>  -56.011</td> <td> 0.000</td> <td>   -0.125</td> <td>   -0.117</td>\n",
       "</tr>\n",
       "<tr>\n",
       "  <th>delay_vs_expected</th>  <td>    0.0075</td> <td>    0.002</td> <td>    3.485</td> <td> 0.000</td> <td>    0.003</td> <td>    0.012</td>\n",
       "</tr>\n",
       "<tr>\n",
       "  <th>number_of_products</th> <td>   -0.0378</td> <td>    0.002</td> <td>  -24.574</td> <td> 0.000</td> <td>   -0.041</td> <td>   -0.035</td>\n",
       "</tr>\n",
       "</table>\n",
       "<table class=\"simpletable\">\n",
       "<tr>\n",
       "  <th>Omnibus:</th>       <td>472463.795</td> <th>  Durbin-Watson:     </th> <td>   1.997</td> \n",
       "</tr>\n",
       "<tr>\n",
       "  <th>Prob(Omnibus):</th>   <td> 0.000</td>   <th>  Jarque-Bera (JB):  </th> <td>12559.925</td>\n",
       "</tr>\n",
       "<tr>\n",
       "  <th>Skew:</th>            <td>-0.382</td>   <th>  Prob(JB):          </th> <td>    0.00</td> \n",
       "</tr>\n",
       "<tr>\n",
       "  <th>Kurtosis:</th>        <td> 1.400</td>   <th>  Cond. No.          </th> <td>    2.39</td> \n",
       "</tr>\n",
       "</table><br/><br/>Notes:<br/>[1] Standard Errors assume that the covariance matrix of the errors is correctly specified."
      ],
      "text/plain": [
       "<class 'statsmodels.iolib.summary.Summary'>\n",
       "\"\"\"\n",
       "                            OLS Regression Results                            \n",
       "==============================================================================\n",
       "Dep. Variable:       dim_is_five_star   R-squared:                       0.061\n",
       "Model:                            OLS   Adj. R-squared:                  0.061\n",
       "Method:                 Least Squares   F-statistic:                     2070.\n",
       "Date:                Thu, 27 Jan 2022   Prob (F-statistic):               0.00\n",
       "Time:                        11:49:10   Log-Likelihood:                -64919.\n",
       "No. Observations:               95872   AIC:                         1.298e+05\n",
       "Df Residuals:                   95868   BIC:                         1.299e+05\n",
       "Df Model:                           3                                         \n",
       "Covariance Type:            nonrobust                                         \n",
       "======================================================================================\n",
       "                         coef    std err          t      P>|t|      [0.025      0.975]\n",
       "--------------------------------------------------------------------------------------\n",
       "Intercept              0.5921      0.002    384.945      0.000       0.589       0.595\n",
       "wait_time             -0.1211      0.002    -56.011      0.000      -0.125      -0.117\n",
       "delay_vs_expected      0.0075      0.002      3.485      0.000       0.003       0.012\n",
       "number_of_products    -0.0378      0.002    -24.574      0.000      -0.041      -0.035\n",
       "==============================================================================\n",
       "Omnibus:                   472463.795   Durbin-Watson:                   1.997\n",
       "Prob(Omnibus):                  0.000   Jarque-Bera (JB):            12559.925\n",
       "Skew:                          -0.382   Prob(JB):                         0.00\n",
       "Kurtosis:                       1.400   Cond. No.                         2.39\n",
       "==============================================================================\n",
       "\n",
       "Notes:\n",
       "[1] Standard Errors assume that the covariance matrix of the errors is correctly specified.\n",
       "\"\"\""
      ]
     },
     "execution_count": 45,
     "metadata": {},
     "output_type": "execute_result"
    }
   ],
   "source": [
    "lin_5 = smf.ols(formula = 'dim_is_five_star ~ wait_time + delay_vs_expected + number_of_products', \\\n",
    "                      data = df_feat).fit()\n",
    "lin_5.summary()"
   ]
  },
  {
   "cell_type": "markdown",
   "metadata": {},
   "source": [
    "🏁 Congratulations! \n",
    "\n",
    "💾 Don't forget to commit and push your `logit.ipynb` notebook !"
   ]
  },
  {
   "cell_type": "code",
   "execution_count": 0,
   "metadata": {},
   "outputs": [],
   "source": []
  }
 ],
 "metadata": {
  "kernelspec": {
   "display_name": "Python 3 (ipykernel)",
   "language": "python",
   "name": "python3"
  },
  "language_info": {
   "codemirror_mode": {
    "name": "ipython",
    "version": 3
   },
   "file_extension": ".py",
   "mimetype": "text/x-python",
   "name": "python",
   "nbconvert_exporter": "python",
   "pygments_lexer": "ipython3",
   "version": "3.8.12"
  },
  "toc": {
   "base_numbering": 1,
   "nav_menu": {},
   "number_sections": true,
   "sideBar": true,
   "skip_h1_title": false,
   "title_cell": "Table of Contents",
   "title_sidebar": "Contents",
   "toc_cell": false,
   "toc_position": {},
   "toc_section_display": true,
   "toc_window_display": false
  }
 },
 "nbformat": 4,
 "nbformat_minor": 4
}
