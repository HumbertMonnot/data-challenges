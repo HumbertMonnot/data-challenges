{
 "cells": [
  {
   "cell_type": "code",
   "execution_count": null,
   "metadata": {
    "scrolled": true
   },
   "outputs": [],
   "source": [
    "import numpy as np\n",
    "import pandas as pd\n",
    "import matplotlib.pyplot as plt\n",
    "import seaborn as sns\n",
    "\n",
    "%load_ext autoreload\n",
    "%autoreload 2"
   ]
  },
  {
   "cell_type": "markdown",
   "metadata": {},
   "source": [
    "# CEO-REQUEST CHALLENGE"
   ]
  },
  {
   "cell_type": "markdown",
   "metadata": {},
   "source": [
    "## Problem statement"
   ]
  },
  {
   "cell_type": "markdown",
   "metadata": {},
   "source": [
    "We would like to analyse the impact of removing the most-underperforming sellers from Olist marketplace.\n",
    "\n",
    "For that:\n",
    "\n",
    "1) You may want to compute, for each `seller_id`, and cumulated over the course of the past 16 months of data we have:\n",
    "- The revenues it brings (10% of each sales + 80 BRL per month)\n",
    "- The costs associated with all its bad reviews (1-star = 100 BRL, 2-star = 50, 3-star=40)\n",
    "- The resulting profits (revenues - costs)\n",
    "- You also want to keep track of the number of orders that this seller has been responsible for (it will impact overall IT costs) ultimately\n",
    "\n",
    "\n",
    "2) Then, we may want to sort sellers by increasing profit for Olist, and compute the financial impact it would have made if we had removed some sellers from the platform. We may find an optimal number of seller to remove that maximizes total_profits or margins"
   ]
  },
  {
   "cell_type": "markdown",
   "metadata": {},
   "source": [
    "---\n",
    "❓ Second, take time to \n",
    "\n",
    "**Write down the DataFrame you would need to build to answer the question?**\n",
    "write down in plain english a step-by-step approach** to your goal. \n",
    "\n",
    "Try not to start from scratch, but think instead about what logic you have already coded in your `olist` package, and how can they be used **or modified** to give you the desired outcome. Your codebase is not set in stone - feel free to add new methods as needed!"
   ]
  },
  {
   "cell_type": "markdown",
   "metadata": {},
   "source": [
    "<details>\n",
    "    <summary>Hints</summary>\n",
    "\n",
    "\n",
    "Starting from your current `seller().get_training_data()` DataFrame:\n",
    "- Can you easily transform it to compute Olist's positive `revenue_per_seller`? \n",
    "- Can you easily transform it to compute Olist's `cost_of_bad_reviews`?\n",
    "\n",
    "❓Instead of starting again from scratch, investigate in your source code in `seller.py` how was computed the mean `review_score` per seller. Can you imagine a way to ammend your code so as to compute `cost_of_reviews` in the same process ? \n",
    "</details>\n"
   ]
  },
  {
   "cell_type": "code",
   "execution_count": 2,
   "metadata": {},
   "outputs": [],
   "source": [
    "# Write down a detailed strategy (steps by step) to get to this final DataFrame"
   ]
  },
  {
   "cell_type": "markdown",
   "metadata": {},
   "source": [
    "- Update `seller.py` to compute a missing `cost_of_reviews` column\n",
    "- Compute `months_on_olist` and `revenues` using existing seller_training_data columns\n",
    "- Compute `profits` per seller\n",
    "- Sort DataFrame per `profits`\n",
    "- Remove worse performing seller one by one, and for each scenario:\n",
    "    - compute `n_orders` and therefore `olist_it_costs` (prop to square root of n_orders)\n",
    "    - compute Olist's total `net_profits` and `margin`\n",
    "- Find the optimal number of seller to remove from platform so as to maximize `profit` or `margin`"
   ]
  },
  {
   "cell_type": "markdown",
   "metadata": {},
   "source": [
    "## Update `seller.py`"
   ]
  },
  {
   "cell_type": "code",
   "execution_count": 1,
   "metadata": {
    "scrolled": true
   },
   "outputs": [],
   "source": [
    "from olist.seller_updated import Seller\n",
    "seller = Seller()"
   ]
  },
  {
   "cell_type": "markdown",
   "metadata": {},
   "source": [
    "## Economic analysis"
   ]
  },
  {
   "cell_type": "code",
   "execution_count": 2,
   "metadata": {},
   "outputs": [],
   "source": [
    "olist_it_costs_all_orders = 500000"
   ]
  },
  {
   "cell_type": "code",
   "execution_count": 3,
   "metadata": {},
   "outputs": [],
   "source": [
    "sellers = seller.get_training_data()"
   ]
  },
  {
   "cell_type": "code",
   "execution_count": 4,
   "metadata": {},
   "outputs": [
    {
     "data": {
      "text/plain": [
       "1116965.223999999"
      ]
     },
     "execution_count": 4,
     "metadata": {},
     "output_type": "execute_result"
    }
   ],
   "source": [
    "olist_revenues = sellers.revenues.sum()\n",
    "olist_gross_profits = sellers.profits.sum()\n",
    "olist_gross_profits"
   ]
  },
  {
   "cell_type": "code",
   "execution_count": 7,
   "metadata": {},
   "outputs": [
    {
     "data": {
      "text/plain": [
       "<matplotlib.axes._subplots.AxesSubplot at 0x13b1a2dd0>"
      ]
     },
     "execution_count": 7,
     "metadata": {},
     "output_type": "execute_result"
    },
    {
     "data": {
      "image/png": "[encoded data removed]",
      "text/plain": [
       "<Figure size 432x288 with 1 Axes>"
      ]
     },
     "metadata": {
      "needs_background": "light"
     },
     "output_type": "display_data"
    }
   ],
   "source": [
    "sns.distplot(sellers.profits, kde=False)"
   ]
  },
  {
   "cell_type": "code",
   "execution_count": 8,
   "metadata": {
    "scrolled": false
   },
   "outputs": [
    {
     "data": {
      "text/html": [
       "<div>\n",
       "<style scoped>\n",
       "    .dataframe tbody tr th:only-of-type {\n",
       "        vertical-align: middle;\n",
       "    }\n",
       "\n",
       "    .dataframe tbody tr th {\n",
       "        vertical-align: top;\n",
       "    }\n",
       "\n",
       "    .dataframe thead th {\n",
       "        text-align: right;\n",
       "    }\n",
       "</style>\n",
       "<table border=\"1\" class=\"dataframe\">\n",
       "  <thead>\n",
       "    <tr style=\"text-align: right;\">\n",
       "      <th></th>\n",
       "      <th>index</th>\n",
       "      <th>profits</th>\n",
       "      <th>n_orders</th>\n",
       "      <th>revenues</th>\n",
       "    </tr>\n",
       "  </thead>\n",
       "  <tbody>\n",
       "    <tr>\n",
       "      <th>0</th>\n",
       "      <td>769</td>\n",
       "      <td>-22499.517</td>\n",
       "      <td>1854</td>\n",
       "      <td>13770.483</td>\n",
       "    </tr>\n",
       "    <tr>\n",
       "      <th>1</th>\n",
       "      <td>2360</td>\n",
       "      <td>-19242.708</td>\n",
       "      <td>1806</td>\n",
       "      <td>21647.292</td>\n",
       "    </tr>\n",
       "    <tr>\n",
       "      <th>2</th>\n",
       "      <td>1358</td>\n",
       "      <td>-18051.158</td>\n",
       "      <td>1706</td>\n",
       "      <td>11948.842</td>\n",
       "    </tr>\n",
       "    <tr>\n",
       "      <th>3</th>\n",
       "      <td>946</td>\n",
       "      <td>-16032.248</td>\n",
       "      <td>1146</td>\n",
       "      <td>4677.752</td>\n",
       "    </tr>\n",
       "    <tr>\n",
       "      <th>4</th>\n",
       "      <td>315</td>\n",
       "      <td>-13066.431</td>\n",
       "      <td>943</td>\n",
       "      <td>2553.569</td>\n",
       "    </tr>\n",
       "  </tbody>\n",
       "</table>\n",
       "</div>"
      ],
      "text/plain": [
       "   index    profits  n_orders   revenues\n",
       "0    769 -22499.517      1854  13770.483\n",
       "1   2360 -19242.708      1806  21647.292\n",
       "2   1358 -18051.158      1706  11948.842\n",
       "3    946 -16032.248      1146   4677.752\n",
       "4    315 -13066.431       943   2553.569"
      ]
     },
     "execution_count": 8,
     "metadata": {},
     "output_type": "execute_result"
    }
   ],
   "source": [
    "sorted_sellers = sellers.sort_values(by='profits')[['profits', 'n_orders', 'revenues']].reset_index()\n",
    "sorted_sellers.head()"
   ]
  },
  {
   "cell_type": "code",
   "execution_count": 9,
   "metadata": {
    "scrolled": false
   },
   "outputs": [
    {
     "data": {
      "text/plain": [
       "<matplotlib.axes._subplots.AxesSubplot at 0x13d3cee10>"
      ]
     },
     "execution_count": 9,
     "metadata": {},
     "output_type": "execute_result"
    },
    {
     "data": {
      "image/png": "[encoded data removed]",
      "text/plain": [
       "<Figure size 432x288 with 1 Axes>"
      ]
     },
     "metadata": {
      "needs_background": "light"
     },
     "output_type": "display_data"
    }
   ],
   "source": [
    "sorted_sellers.profits.plot()"
   ]
  },
  {
   "cell_type": "markdown",
   "metadata": {},
   "source": [
    "### Compute Olist's net_profits for various seller cut-offs"
   ]
  },
  {
   "cell_type": "code",
   "execution_count": 10,
   "metadata": {},
   "outputs": [],
   "source": [
    "# Let's create arrays \"xxx_per_seller_removed\" which list,\n",
    "# for each number of seller removed (from 1 to len(seller)), \n",
    "# the value xxx computed in this hypothetic scenario"
   ]
  },
  {
   "cell_type": "code",
   "execution_count": 11,
   "metadata": {},
   "outputs": [
    {
     "data": {
      "text/plain": [
       "0      -22499.517\n",
       "1      -19242.708\n",
       "2      -18051.158\n",
       "3      -16032.248\n",
       "4      -13066.431\n",
       "          ...    \n",
       "2965     6700.462\n",
       "2966     7288.455\n",
       "2967    14254.203\n",
       "2968    14523.187\n",
       "2969    17967.605\n",
       "Name: profits, Length: 2970, dtype: float64"
      ]
     },
     "execution_count": 11,
     "metadata": {},
     "output_type": "execute_result"
    }
   ],
   "source": [
    "sorted_sellers.profits"
   ]
  },
  {
   "cell_type": "code",
   "execution_count": 12,
   "metadata": {},
   "outputs": [
    {
     "data": {
      "text/plain": [
       "Text(0.5, 0, 'number of seller to remove')"
      ]
     },
     "execution_count": 12,
     "metadata": {},
     "output_type": "execute_result"
    },
    {
     "data": {
      "image/png": "[encoded data removed]",
      "text/plain": [
       "<Figure size 432x288 with 1 Axes>"
      ]
     },
     "metadata": {
      "needs_background": "light"
     },
     "output_type": "display_data"
    }
   ],
   "source": [
    "# Analysis before IT costs\n",
    "revenues_per_seller_removed = olist_revenues - np.cumsum(sorted_sellers.revenues)\n",
    "gross_profits_per_seller_removed = olist_gross_profits - np.cumsum(sorted_sellers.profits)\n",
    "\n",
    "gross_profits_per_seller_removed.plot()\n",
    "plt.title('Olist gross profit before IT costs')\n",
    "plt.xlabel('number of seller to remove')"
   ]
  },
  {
   "cell_type": "code",
   "execution_count": 10,
   "metadata": {},
   "outputs": [
    {
     "data": {
      "text/plain": [
       "1582.3735631973473"
      ]
     },
     "execution_count": 10,
     "metadata": {},
     "output_type": "execute_result"
    }
   ],
   "source": [
    "# Add the IT costs of Olist's platform, which scales as A * (n_orders)**0.5\n",
    "# First, compute A\n",
    "A = olist_it_costs_all_orders / (sellers['n_orders'].sum()**0.5)\n",
    "A"
   ]
  },
  {
   "cell_type": "code",
   "execution_count": 22,
   "metadata": {},
   "outputs": [
    {
     "data": {
      "text/plain": [
       "Text(0.5, 0, 'number of seller to remove')"
      ]
     },
     "execution_count": 22,
     "metadata": {},
     "output_type": "execute_result"
    },
    {
     "data": {
      "image/png": "[encoded data removed]",
      "text/plain": [
       "<Figure size 432x288 with 1 Axes>"
      ]
     },
     "metadata": {
      "needs_background": "light"
     },
     "output_type": "display_data"
    }
   ],
   "source": [
    "# Then, compute n_order per scenario\n",
    "n_orders_per_seller_removed = sorted_sellers.n_orders.sum() - np.cumsum(sorted_sellers.n_orders)\n",
    "plt.plot(n_orders_per_seller_removed)\n",
    "plt.title('Total number of orders')\n",
    "plt.xlabel('number of seller to remove')"
   ]
  },
  {
   "cell_type": "code",
   "execution_count": 23,
   "metadata": {},
   "outputs": [
    {
     "data": {
      "text/plain": [
       "Text(0.5, 0, 'number of seller to remove')"
      ]
     },
     "execution_count": 23,
     "metadata": {},
     "output_type": "execute_result"
    },
    {
     "data": {
      "image/png": "[encoded data removed]",
      "text/plain": [
       "<Figure size 432x288 with 1 Axes>"
      ]
     },
     "metadata": {
      "needs_background": "light"
     },
     "output_type": "display_data"
    }
   ],
   "source": [
    "# Create array of it_costs per scenario\n",
    "it_costs_per_seller_removed = A * n_orders_per_seller_removed**0.5\n",
    "plt.plot(it_costs_per_seller_removed)\n",
    "plt.title('IT costs')\n",
    "plt.xlabel('number of seller to remove')"
   ]
  },
  {
   "cell_type": "code",
   "execution_count": 24,
   "metadata": {},
   "outputs": [],
   "source": [
    "# Compute final metrics (profits and margin, for each 2970 scenarios!)\n",
    "profits_per_seller_removed = gross_profits_per_seller_removed - it_costs_per_seller_removed\n",
    "margin_per_seller_removed = profits_per_seller_removed / revenues_per_seller_removed"
   ]
  },
  {
   "cell_type": "code",
   "execution_count": 30,
   "metadata": {},
   "outputs": [
    {
     "data": {
      "text/plain": [
       "array([   0,    1,    2, ..., 2966, 2967, 2968])"
      ]
     },
     "execution_count": 30,
     "metadata": {},
     "output_type": "execute_result"
    }
   ],
   "source": []
  },
  {
   "cell_type": "code",
   "execution_count": 37,
   "metadata": {},
   "outputs": [
    {
     "data": {
      "image/png": "[encoded data removed]",
      "text/plain": [
       "<Figure size 720x360 with 2 Axes>"
      ]
     },
     "metadata": {
      "needs_background": "light"
     },
     "output_type": "display_data"
    }
   ],
   "source": [
    "fig, ax1 = plt.subplots(figsize=(10,5))\n",
    "x = np.arange(0, len(sellers), 1)\n",
    "\n",
    "plt.suptitle(\"Estimated impact of having excluding selected sellers from Olist, over the past 16 months\")\n",
    "\n",
    "ax1.set_xlabel('number of seller to remove from olist - from worse to most profitable')\n",
    "ax1.set_ylabel('BRL')\n",
    "ax1.plot(x, profits_per_seller_removed, color='black', label='Olist net profits')\n",
    "ax1.plot(x, revenues_per_seller_removed, color='grey', label='Olist total revenues')\n",
    "ax1.legend()\n",
    "ax1.tick_params(axis='y')\n",
    "ax1.legend()\n",
    "ax1.set(ylim=[0,3000000])\n",
    "\n",
    "\n",
    "ax3 = ax1.twinx()  # instantiate a second axes that shares the same x-axis\n",
    "\n",
    "color = 'tab:red'\n",
    "ax3.set_ylabel('%', color=color)  # we already handled the x-label with ax1\n",
    "ax3.plot(x, margin_per_seller_removed, color='red', label='Olist profit margin')\n",
    "ax3.tick_params(axis='y', labelcolor=color)\n",
    "ax3.legend(loc='right')\n",
    "ax3.set(ylim=[0,1])\n",
    "\n",
    "fig.tight_layout()  # otherwise the right y-label is slightly clipped\n",
    "plt.show()"
   ]
  },
  {
   "cell_type": "markdown",
   "metadata": {},
   "source": [
    "☝️We can clearly see a trade-off with a maximim net_profit, at around 500 sellers to remove, and a maximum margin at about 2000 sellers removed. Beyond, margin collapses due to IT costs."
   ]
  },
  {
   "cell_type": "markdown",
   "metadata": {},
   "source": [
    "# CEO-REQUEST CHALLENGE"
   ]
  },
  {
   "cell_type": "markdown",
   "metadata": {},
   "source": [
    "## Problem statement"
   ]
  },
  {
   "cell_type": "markdown",
   "metadata": {},
   "source": [
    "We would like to analyse the impact of removing the most-underperforming sellers from Olist marketplace.\n",
    "\n",
    "❓ **Formulate the problem mathematically**"
   ]
  },
  {
   "cell_type": "markdown",
   "metadata": {},
   "source": [
    "<details>\n",
    "    <summary>Hints</summary>\n",
    "\n",
    "1) You may want to compute, for each `seller_id`:\n",
    "- The revenue it brings (10% of each sales + 80 BRL per month)\n",
    "- The cost associated with all its bad reviews (1-star = 100 BRL, 2-star = 50, 3-star=40)\n",
    "- and the resulting profit per seller\n",
    "- cumulated over the course of the past 16 months of data we have\n",
    "    \n",
    "2) We may then sort sellers by increasing profit for Olist and compute, the financial impact it would have made if we had removed some sellers from the platform.\n",
    "\n",
    "</details>"
   ]
  },
  {
   "cell_type": "code",
   "execution_count": 1,
   "metadata": {},
   "outputs": [],
   "source": [
    "# What is the final DataFrame you need to build to answer the question?\n",
    "\n",
    "# [seller_id, months_on_olist, sales, cost_of_reviews]"
   ]
  },
  {
   "cell_type": "markdown",
   "metadata": {},
   "source": [
    "---\n",
    "❓ Second, take time to **write down in plain english a step-by-step approach** to your goal. \n",
    "\n",
    "Try not to start from scratch, but think instead about what logic you have already coded in your `olist` package, and how can they be used **or modified** to give you the desired outcome. Your codebase is not set in stone - feel free to add new methods as needed!"
   ]
  },
  {
   "cell_type": "markdown",
   "metadata": {},
   "source": [
    "<details>\n",
    "    <summary>Hints for seller-removal analysis</summary>\n",
    "\n",
    "\n",
    "Starting from your current `seller().get_training_data()` DataFrame:\n",
    "- Can you easily transform it to compute Olist's positive `revenue_per_seller`? \n",
    "- Can you easily transform it to compute Olist's `cost_of_bad_reviews`? Not directly from the mean `review_score`\n",
    "\n",
    "❓Instead of starting again from scratch, investigate in your source code in `seller.py` how was computed the mean `review_score` per seller. Can you imagine a way to ammend your code so as to compute `cost_of_reviews` in the same process ? \n",
    "</details>\n"
   ]
  },
  {
   "cell_type": "code",
   "execution_count": 2,
   "metadata": {},
   "outputs": [],
   "source": [
    "# Write down a detailed strategy (steps by step) to get to this final DataFrame"
   ]
  },
  {
   "cell_type": "markdown",
   "metadata": {},
   "source": [
    "- Update `seller.py` to compute a missing `cost_of_reviews` column\n",
    "- Compute `months_on_olist` and `revenues` using existing seller_training_data columns\n",
    "- Compute `profits` per seller\n",
    "- Sort DataFrame per `profits`\n",
    "- Remove worse performing seller one by one, and for each scenario:\n",
    "    - compute `n_orders` and therefore `olist_it_costs` (prop to square root of n_orders)\n",
    "    - compute Olist's total `net_profits` and `margin`\n",
    "- Find the optimal number of seller to remove from platform so as to maximize `profit` or `margin`"
   ]
  },
  {
   "cell_type": "markdown",
   "metadata": {},
   "source": [
    "## Update `seller.py`"
   ]
  },
  {
   "cell_type": "code",
   "execution_count": 1,
   "metadata": {
    "scrolled": true
   },
   "outputs": [],
   "source": [
    "from olist.seller_updated import Seller\n",
    "seller = Seller()"
   ]
  },
  {
   "cell_type": "markdown",
   "metadata": {},
   "source": [
    "## Economic analysis"
   ]
  },
  {
   "cell_type": "code",
   "execution_count": 2,
   "metadata": {},
   "outputs": [],
   "source": [
    "olist_it_costs_all_orders = 500000"
   ]
  },
  {
   "cell_type": "code",
   "execution_count": 3,
   "metadata": {},
   "outputs": [],
   "source": [
    "sellers = seller.get_training_data()"
   ]
  },
  {
   "cell_type": "code",
   "execution_count": 4,
   "metadata": {},
   "outputs": [
    {
     "data": {
      "text/plain": [
       "1116965.223999999"
      ]
     },
     "execution_count": 4,
     "metadata": {},
     "output_type": "execute_result"
    }
   ],
   "source": [
    "olist_revenues = sellers.revenues.sum()\n",
    "olist_gross_profits = sellers.profits.sum()\n",
    "olist_gross_profits"
   ]
  },
  {
   "cell_type": "code",
   "execution_count": 7,
   "metadata": {},
   "outputs": [
    {
     "data": {
      "text/plain": [
       "<matplotlib.axes._subplots.AxesSubplot at 0x13b1a2dd0>"
      ]
     },
     "execution_count": 7,
     "metadata": {},
     "output_type": "execute_result"
    },
    {
     "data": {
      "image/png": "[encoded data removed]",
      "text/plain": [
       "<Figure size 432x288 with 1 Axes>"
      ]
     },
     "metadata": {
      "needs_background": "light"
     },
     "output_type": "display_data"
    }
   ],
   "source": [
    "sns.distplot(sellers.profits, kde=False)"
   ]
  },
  {
   "cell_type": "code",
   "execution_count": 8,
   "metadata": {
    "scrolled": false
   },
   "outputs": [
    {
     "data": {
      "text/html": [
       "<div>\n",
       "<style scoped>\n",
       "    .dataframe tbody tr th:only-of-type {\n",
       "        vertical-align: middle;\n",
       "    }\n",
       "\n",
       "    .dataframe tbody tr th {\n",
       "        vertical-align: top;\n",
       "    }\n",
       "\n",
       "    .dataframe thead th {\n",
       "        text-align: right;\n",
       "    }\n",
       "</style>\n",
       "<table border=\"1\" class=\"dataframe\">\n",
       "  <thead>\n",
       "    <tr style=\"text-align: right;\">\n",
       "      <th></th>\n",
       "      <th>index</th>\n",
       "      <th>profits</th>\n",
       "      <th>n_orders</th>\n",
       "      <th>revenues</th>\n",
       "    </tr>\n",
       "  </thead>\n",
       "  <tbody>\n",
       "    <tr>\n",
       "      <th>0</th>\n",
       "      <td>769</td>\n",
       "      <td>-22499.517</td>\n",
       "      <td>1854</td>\n",
       "      <td>13770.483</td>\n",
       "    </tr>\n",
       "    <tr>\n",
       "      <th>1</th>\n",
       "      <td>2360</td>\n",
       "      <td>-19242.708</td>\n",
       "      <td>1806</td>\n",
       "      <td>21647.292</td>\n",
       "    </tr>\n",
       "    <tr>\n",
       "      <th>2</th>\n",
       "      <td>1358</td>\n",
       "      <td>-18051.158</td>\n",
       "      <td>1706</td>\n",
       "      <td>11948.842</td>\n",
       "    </tr>\n",
       "    <tr>\n",
       "      <th>3</th>\n",
       "      <td>946</td>\n",
       "      <td>-16032.248</td>\n",
       "      <td>1146</td>\n",
       "      <td>4677.752</td>\n",
       "    </tr>\n",
       "    <tr>\n",
       "      <th>4</th>\n",
       "      <td>315</td>\n",
       "      <td>-13066.431</td>\n",
       "      <td>943</td>\n",
       "      <td>2553.569</td>\n",
       "    </tr>\n",
       "  </tbody>\n",
       "</table>\n",
       "</div>"
      ],
      "text/plain": [
       "   index    profits  n_orders   revenues\n",
       "0    769 -22499.517      1854  13770.483\n",
       "1   2360 -19242.708      1806  21647.292\n",
       "2   1358 -18051.158      1706  11948.842\n",
       "3    946 -16032.248      1146   4677.752\n",
       "4    315 -13066.431       943   2553.569"
      ]
     },
     "execution_count": 8,
     "metadata": {},
     "output_type": "execute_result"
    }
   ],
   "source": [
    "sorted_sellers = sellers.sort_values(by='profits')[['profits', 'n_orders', 'revenues']].reset_index()\n",
    "sorted_sellers.head()"
   ]
  },
  {
   "cell_type": "code",
   "execution_count": 9,
   "metadata": {
    "scrolled": false
   },
   "outputs": [
    {
     "data": {
      "text/plain": [
       "<matplotlib.axes._subplots.AxesSubplot at 0x13d3cee10>"
      ]
     },
     "execution_count": 9,
     "metadata": {},
     "output_type": "execute_result"
    },
    {
     "data": {
      "image/png": "[encoded data removed]",
      "text/plain": [
       "<Figure size 432x288 with 1 Axes>"
      ]
     },
     "metadata": {
      "needs_background": "light"
     },
     "output_type": "display_data"
    }
   ],
   "source": [
    "sorted_sellers.profits.plot()"
   ]
  },
  {
   "cell_type": "markdown",
   "metadata": {},
   "source": [
    "### Compute Olist's net_profits for various seller cut-offs"
   ]
  },
  {
   "cell_type": "code",
   "execution_count": 10,
   "metadata": {},
   "outputs": [],
   "source": [
    "# Let's create arrays \"xxx_per_seller_removed\" which list,\n",
    "# for each number of seller removed (from 1 to len(seller)), \n",
    "# the value xxx computed in this hypothetic scenario"
   ]
  },
  {
   "cell_type": "code",
   "execution_count": 11,
   "metadata": {},
   "outputs": [
    {
     "data": {
      "text/plain": [
       "0      -22499.517\n",
       "1      -19242.708\n",
       "2      -18051.158\n",
       "3      -16032.248\n",
       "4      -13066.431\n",
       "          ...    \n",
       "2965     6700.462\n",
       "2966     7288.455\n",
       "2967    14254.203\n",
       "2968    14523.187\n",
       "2969    17967.605\n",
       "Name: profits, Length: 2970, dtype: float64"
      ]
     },
     "execution_count": 11,
     "metadata": {},
     "output_type": "execute_result"
    }
   ],
   "source": [
    "sorted_sellers.profits"
   ]
  },
  {
   "cell_type": "code",
   "execution_count": 12,
   "metadata": {},
   "outputs": [
    {
     "data": {
      "text/plain": [
       "Text(0.5, 0, 'number of seller to remove')"
      ]
     },
     "execution_count": 12,
     "metadata": {},
     "output_type": "execute_result"
    },
    {
     "data": {
      "image/png": "[encoded data removed]",
      "text/plain": [
       "<Figure size 432x288 with 1 Axes>"
      ]
     },
     "metadata": {
      "needs_background": "light"
     },
     "output_type": "display_data"
    }
   ],
   "source": [
    "# Analysis before IT costs\n",
    "revenues_per_seller_removed = olist_revenues - np.cumsum(sorted_sellers.revenues)\n",
    "gross_profits_per_seller_removed = olist_gross_profits - np.cumsum(sorted_sellers.profits)\n",
    "\n",
    "gross_profits_per_seller_removed.plot()\n",
    "plt.title('Olist gross profit before IT costs')\n",
    "plt.xlabel('number of seller to remove')"
   ]
  },
  {
   "cell_type": "code",
   "execution_count": 10,
   "metadata": {},
   "outputs": [
    {
     "data": {
      "text/plain": [
       "1582.3735631973473"
      ]
     },
     "execution_count": 10,
     "metadata": {},
     "output_type": "execute_result"
    }
   ],
   "source": [
    "# Add the IT costs of Olist's platform, which scales as A * (n_orders)**0.5\n",
    "# First, compute A\n",
    "A = olist_it_costs_all_orders / (sellers['n_orders'].sum()**0.5)\n",
    "A"
   ]
  },
  {
   "cell_type": "code",
   "execution_count": 22,
   "metadata": {},
   "outputs": [
    {
     "data": {
      "text/plain": [
       "Text(0.5, 0, 'number of seller to remove')"
      ]
     },
     "execution_count": 22,
     "metadata": {},
     "output_type": "execute_result"
    },
    {
     "data": {
      "image/png": "[encoded data removed]",
      "text/plain": [
       "<Figure size 432x288 with 1 Axes>"
      ]
     },
     "metadata": {
      "needs_background": "light"
     },
     "output_type": "display_data"
    }
   ],
   "source": [
    "# Then, compute n_order per scenario\n",
    "n_orders_per_seller_removed = sorted_sellers.n_orders.sum() - np.cumsum(sorted_sellers.n_orders)\n",
    "plt.plot(n_orders_per_seller_removed)\n",
    "plt.title('Total number of orders')\n",
    "plt.xlabel('number of seller to remove')"
   ]
  },
  {
   "cell_type": "code",
   "execution_count": 23,
   "metadata": {},
   "outputs": [
    {
     "data": {
      "text/plain": [
       "Text(0.5, 0, 'number of seller to remove')"
      ]
     },
     "execution_count": 23,
     "metadata": {},
     "output_type": "execute_result"
    },
    {
     "data": {
      "image/png": "[encoded data removed]",
      "text/plain": [
       "<Figure size 432x288 with 1 Axes>"
      ]
     },
     "metadata": {
      "needs_background": "light"
     },
     "output_type": "display_data"
    }
   ],
   "source": [
    "# Create array of it_costs per scenario\n",
    "it_costs_per_seller_removed = A * n_orders_per_seller_removed**0.5\n",
    "plt.plot(it_costs_per_seller_removed)\n",
    "plt.title('IT costs')\n",
    "plt.xlabel('number of seller to remove')"
   ]
  },
  {
   "cell_type": "code",
   "execution_count": 24,
   "metadata": {},
   "outputs": [],
   "source": [
    "# Compute final metrics (profits and margin, for each 2970 scenarios!)\n",
    "profits_per_seller_removed = gross_profits_per_seller_removed - it_costs_per_seller_removed\n",
    "margin_per_seller_removed = profits_per_seller_removed / revenues_per_seller_removed"
   ]
  },
  {
   "cell_type": "code",
   "execution_count": 30,
   "metadata": {},
   "outputs": [
    {
     "data": {
      "text/plain": [
       "array([   0,    1,    2, ..., 2966, 2967, 2968])"
      ]
     },
     "execution_count": 30,
     "metadata": {},
     "output_type": "execute_result"
    }
   ],
   "source": []
  },
  {
   "cell_type": "code",
   "execution_count": 37,
   "metadata": {},
   "outputs": [
    {
     "data": {
      "image/png": "[encoded data removed]",
      "text/plain": [
       "<Figure size 720x360 with 2 Axes>"
      ]
     },
     "metadata": {
      "needs_background": "light"
     },
     "output_type": "display_data"
    }
   ],
   "source": [
    "fig, ax1 = plt.subplots(figsize=(10,5))\n",
    "x = np.arange(0, len(sellers), 1)\n",
    "\n",
    "plt.suptitle(\"Estimated impact of having excluding selected sellers from Olist, over the past 16 months\")\n",
    "\n",
    "ax1.set_xlabel('number of seller to remove from olist - from worse to most profitable')\n",
    "ax1.set_ylabel('BRL')\n",
    "ax1.plot(x, profits_per_seller_removed, color='black', label='Olist net profits')\n",
    "ax1.plot(x, revenues_per_seller_removed, color='grey', label='Olist total revenues')\n",
    "ax1.legend()\n",
    "ax1.tick_params(axis='y')\n",
    "ax1.legend()\n",
    "ax1.set(ylim=[0,3000000])\n",
    "\n",
    "\n",
    "ax3 = ax1.twinx()  # instantiate a second axes that shares the same x-axis\n",
    "\n",
    "color = 'tab:red'\n",
    "ax3.set_ylabel('%', color=color)  # we already handled the x-label with ax1\n",
    "ax3.plot(x, margin_per_seller_removed, color='red', label='Olist profit margin')\n",
    "ax3.tick_params(axis='y', labelcolor=color)\n",
    "ax3.legend(loc='right')\n",
    "ax3.set(ylim=[0,1])\n",
    "\n",
    "fig.tight_layout()  # otherwise the right y-label is slightly clipped\n",
    "plt.show()"
   ]
  },
  {
   "cell_type": "markdown",
   "metadata": {},
   "source": [
    "☝️We can clearly see a trade-off with a maximim net_profit, at around 500 sellers to remove, and a maximum margin at about 2000 sellers removed. Beyond, margin collapses due to IT costs."
   ]
  },
  {
   "cell_type": "markdown",
   "metadata": {},
   "source": [
    "# CEO-REQUEST CHALLENGE"
   ]
  },
  {
   "cell_type": "markdown",
   "metadata": {},
   "source": [
    "## Problem statement"
   ]
  },
  {
   "cell_type": "markdown",
   "metadata": {},
   "source": [
    "We would like to analyse the impact of removing the most-underperforming sellers from Olist marketplace.\n",
    "\n",
    "❓ **Formulate the problem mathematically**"
   ]
  },
  {
   "cell_type": "markdown",
   "metadata": {},
   "source": [
    "<details>\n",
    "    <summary>Hints</summary>\n",
    "\n",
    "1) You may want to compute, for each `seller_id`:\n",
    "- The revenue it brings (10% of each sales + 80 BRL per month)\n",
    "- The cost associated with all its bad reviews (1-star = 100 BRL, 2-star = 50, 3-star=40)\n",
    "- and the resulting profit per seller\n",
    "- cumulated over the course of the past 16 months of data we have\n",
    "    \n",
    "2) We may then sort sellers by increasing profit for Olist and compute, the financial impact it would have made if we had removed some sellers from the platform.\n",
    "\n",
    "</details>"
   ]
  },
  {
   "cell_type": "code",
   "execution_count": 1,
   "metadata": {},
   "outputs": [],
   "source": [
    "# What is the final DataFrame you need to build to answer the question?\n",
    "\n",
    "# [seller_id, months_on_olist, sales, cost_of_reviews]"
   ]
  },
  {
   "cell_type": "markdown",
   "metadata": {},
   "source": [
    "---\n",
    "❓ Second, take time to **write down in plain english a step-by-step approach** to your goal. \n",
    "\n",
    "Try not to start from scratch, but think instead about what logic you have already coded in your `olist` package, and how can they be used **or modified** to give you the desired outcome. Your codebase is not set in stone - feel free to add new methods as needed!"
   ]
  },
  {
   "cell_type": "markdown",
   "metadata": {},
   "source": [
    "<details>\n",
    "    <summary>Hints for seller-removal analysis</summary>\n",
    "\n",
    "\n",
    "Starting from your current `seller().get_training_data()` DataFrame:\n",
    "- Can you easily transform it to compute Olist's positive `revenue_per_seller`? \n",
    "- Can you easily transform it to compute Olist's `cost_of_bad_reviews`? Not directly from the mean `review_score`\n",
    "\n",
    "❓Instead of starting again from scratch, investigate in your source code in `seller.py` how was computed the mean `review_score` per seller. Can you imagine a way to ammend your code so as to compute `cost_of_reviews` in the same process ? \n",
    "</details>\n"
   ]
  },
  {
   "cell_type": "code",
   "execution_count": 2,
   "metadata": {},
   "outputs": [],
   "source": [
    "# Write down a detailed strategy (steps by step) to get to this final DataFrame"
   ]
  },
  {
   "cell_type": "markdown",
   "metadata": {},
   "source": [
    "- Update `seller.py` to compute a missing `cost_of_reviews` column\n",
    "- Compute `months_on_olist` and `revenues` using existing seller_training_data columns\n",
    "- Compute `profits` per seller\n",
    "- Sort DataFrame per `profits`\n",
    "- Remove worse performing seller one by one, and for each scenario:\n",
    "    - compute `n_orders` and therefore `olist_it_costs` (prop to square root of n_orders)\n",
    "    - compute Olist's total `net_profits` and `margin`\n",
    "- Find the optimal number of seller to remove from platform so as to maximize `profit` or `margin`"
   ]
  },
  {
   "cell_type": "markdown",
   "metadata": {},
   "source": [
    "## Update `seller.py`"
   ]
  },
  {
   "cell_type": "code",
   "execution_count": 1,
   "metadata": {
    "scrolled": true
   },
   "outputs": [],
   "source": [
    "from olist.seller_updated import Seller\n",
    "seller = Seller()"
   ]
  },
  {
   "cell_type": "markdown",
   "metadata": {},
   "source": [
    "## Economic analysis"
   ]
  },
  {
   "cell_type": "code",
   "execution_count": 2,
   "metadata": {},
   "outputs": [],
   "source": [
    "olist_it_costs_all_orders = 500000"
   ]
  },
  {
   "cell_type": "code",
   "execution_count": 3,
   "metadata": {},
   "outputs": [],
   "source": [
    "sellers = seller.get_training_data()"
   ]
  },
  {
   "cell_type": "code",
   "execution_count": 4,
   "metadata": {},
   "outputs": [
    {
     "data": {
      "text/plain": [
       "1116965.223999999"
      ]
     },
     "execution_count": 4,
     "metadata": {},
     "output_type": "execute_result"
    }
   ],
   "source": [
    "olist_revenues = sellers.revenues.sum()\n",
    "olist_gross_profits = sellers.profits.sum()\n",
    "olist_gross_profits"
   ]
  },
  {
   "cell_type": "code",
   "execution_count": 7,
   "metadata": {},
   "outputs": [
    {
     "data": {
      "text/plain": [
       "<matplotlib.axes._subplots.AxesSubplot at 0x13b1a2dd0>"
      ]
     },
     "execution_count": 7,
     "metadata": {},
     "output_type": "execute_result"
    },
    {
     "data": {
      "image/png": "[encoded data removed]",
      "text/plain": [
       "<Figure size 432x288 with 1 Axes>"
      ]
     },
     "metadata": {
      "needs_background": "light"
     },
     "output_type": "display_data"
    }
   ],
   "source": [
    "sns.distplot(sellers.profits, kde=False)"
   ]
  },
  {
   "cell_type": "code",
   "execution_count": 8,
   "metadata": {
    "scrolled": false
   },
   "outputs": [
    {
     "data": {
      "text/html": [
       "<div>\n",
       "<style scoped>\n",
       "    .dataframe tbody tr th:only-of-type {\n",
       "        vertical-align: middle;\n",
       "    }\n",
       "\n",
       "    .dataframe tbody tr th {\n",
       "        vertical-align: top;\n",
       "    }\n",
       "\n",
       "    .dataframe thead th {\n",
       "        text-align: right;\n",
       "    }\n",
       "</style>\n",
       "<table border=\"1\" class=\"dataframe\">\n",
       "  <thead>\n",
       "    <tr style=\"text-align: right;\">\n",
       "      <th></th>\n",
       "      <th>index</th>\n",
       "      <th>profits</th>\n",
       "      <th>n_orders</th>\n",
       "      <th>revenues</th>\n",
       "    </tr>\n",
       "  </thead>\n",
       "  <tbody>\n",
       "    <tr>\n",
       "      <th>0</th>\n",
       "      <td>769</td>\n",
       "      <td>-22499.517</td>\n",
       "      <td>1854</td>\n",
       "      <td>13770.483</td>\n",
       "    </tr>\n",
       "    <tr>\n",
       "      <th>1</th>\n",
       "      <td>2360</td>\n",
       "      <td>-19242.708</td>\n",
       "      <td>1806</td>\n",
       "      <td>21647.292</td>\n",
       "    </tr>\n",
       "    <tr>\n",
       "      <th>2</th>\n",
       "      <td>1358</td>\n",
       "      <td>-18051.158</td>\n",
       "      <td>1706</td>\n",
       "      <td>11948.842</td>\n",
       "    </tr>\n",
       "    <tr>\n",
       "      <th>3</th>\n",
       "      <td>946</td>\n",
       "      <td>-16032.248</td>\n",
       "      <td>1146</td>\n",
       "      <td>4677.752</td>\n",
       "    </tr>\n",
       "    <tr>\n",
       "      <th>4</th>\n",
       "      <td>315</td>\n",
       "      <td>-13066.431</td>\n",
       "      <td>943</td>\n",
       "      <td>2553.569</td>\n",
       "    </tr>\n",
       "  </tbody>\n",
       "</table>\n",
       "</div>"
      ],
      "text/plain": [
       "   index    profits  n_orders   revenues\n",
       "0    769 -22499.517      1854  13770.483\n",
       "1   2360 -19242.708      1806  21647.292\n",
       "2   1358 -18051.158      1706  11948.842\n",
       "3    946 -16032.248      1146   4677.752\n",
       "4    315 -13066.431       943   2553.569"
      ]
     },
     "execution_count": 8,
     "metadata": {},
     "output_type": "execute_result"
    }
   ],
   "source": [
    "sorted_sellers = sellers.sort_values(by='profits')[['profits', 'n_orders', 'revenues']].reset_index()\n",
    "sorted_sellers.head()"
   ]
  },
  {
   "cell_type": "code",
   "execution_count": 9,
   "metadata": {
    "scrolled": false
   },
   "outputs": [
    {
     "data": {
      "text/plain": [
       "<matplotlib.axes._subplots.AxesSubplot at 0x13d3cee10>"
      ]
     },
     "execution_count": 9,
     "metadata": {},
     "output_type": "execute_result"
    },
    {
     "data": {
      "image/png": "[encoded data removed]",
      "text/plain": [
       "<Figure size 432x288 with 1 Axes>"
      ]
     },
     "metadata": {
      "needs_background": "light"
     },
     "output_type": "display_data"
    }
   ],
   "source": [
    "sorted_sellers.profits.plot()"
   ]
  },
  {
   "cell_type": "markdown",
   "metadata": {},
   "source": [
    "### Compute Olist's net_profits for various seller cut-offs"
   ]
  },
  {
   "cell_type": "code",
   "execution_count": 10,
   "metadata": {},
   "outputs": [],
   "source": [
    "# Let's create arrays \"xxx_per_seller_removed\" which list,\n",
    "# for each number of seller removed (from 1 to len(seller)), \n",
    "# the value xxx computed in this hypothetic scenario"
   ]
  },
  {
   "cell_type": "code",
   "execution_count": 11,
   "metadata": {},
   "outputs": [
    {
     "data": {
      "text/plain": [
       "0      -22499.517\n",
       "1      -19242.708\n",
       "2      -18051.158\n",
       "3      -16032.248\n",
       "4      -13066.431\n",
       "          ...    \n",
       "2965     6700.462\n",
       "2966     7288.455\n",
       "2967    14254.203\n",
       "2968    14523.187\n",
       "2969    17967.605\n",
       "Name: profits, Length: 2970, dtype: float64"
      ]
     },
     "execution_count": 11,
     "metadata": {},
     "output_type": "execute_result"
    }
   ],
   "source": [
    "sorted_sellers.profits"
   ]
  },
  {
   "cell_type": "code",
   "execution_count": 12,
   "metadata": {},
   "outputs": [
    {
     "data": {
      "text/plain": [
       "Text(0.5, 0, 'number of seller to remove')"
      ]
     },
     "execution_count": 12,
     "metadata": {},
     "output_type": "execute_result"
    },
    {
     "data": {
      "image/png": "[encoded data removed]",
      "text/plain": [
       "<Figure size 432x288 with 1 Axes>"
      ]
     },
     "metadata": {
      "needs_background": "light"
     },
     "output_type": "display_data"
    }
   ],
   "source": [
    "# Analysis before IT costs\n",
    "revenues_per_seller_removed = olist_revenues - np.cumsum(sorted_sellers.revenues)\n",
    "gross_profits_per_seller_removed = olist_gross_profits - np.cumsum(sorted_sellers.profits)\n",
    "\n",
    "gross_profits_per_seller_removed.plot()\n",
    "plt.title('Olist gross profit before IT costs')\n",
    "plt.xlabel('number of seller to remove')"
   ]
  },
  {
   "cell_type": "code",
   "execution_count": 10,
   "metadata": {},
   "outputs": [
    {
     "data": {
      "text/plain": [
       "1582.3735631973473"
      ]
     },
     "execution_count": 10,
     "metadata": {},
     "output_type": "execute_result"
    }
   ],
   "source": [
    "# Add the IT costs of Olist's platform, which scales as A * (n_orders)**0.5\n",
    "# First, compute A\n",
    "A = olist_it_costs_all_orders / (sellers['n_orders'].sum()**0.5)\n",
    "A"
   ]
  },
  {
   "cell_type": "code",
   "execution_count": 22,
   "metadata": {},
   "outputs": [
    {
     "data": {
      "text/plain": [
       "Text(0.5, 0, 'number of seller to remove')"
      ]
     },
     "execution_count": 22,
     "metadata": {},
     "output_type": "execute_result"
    },
    {
     "data": {
      "image/png": "[encoded data removed]",
      "text/plain": [
       "<Figure size 432x288 with 1 Axes>"
      ]
     },
     "metadata": {
      "needs_background": "light"
     },
     "output_type": "display_data"
    }
   ],
   "source": [
    "# Then, compute n_order per scenario\n",
    "n_orders_per_seller_removed = sorted_sellers.n_orders.sum() - np.cumsum(sorted_sellers.n_orders)\n",
    "plt.plot(n_orders_per_seller_removed)\n",
    "plt.title('Total number of orders')\n",
    "plt.xlabel('number of seller to remove')"
   ]
  },
  {
   "cell_type": "code",
   "execution_count": 23,
   "metadata": {},
   "outputs": [
    {
     "data": {
      "text/plain": [
       "Text(0.5, 0, 'number of seller to remove')"
      ]
     },
     "execution_count": 23,
     "metadata": {},
     "output_type": "execute_result"
    },
    {
     "data": {
      "image/png": "[encoded data removed]",
      "text/plain": [
       "<Figure size 432x288 with 1 Axes>"
      ]
     },
     "metadata": {
      "needs_background": "light"
     },
     "output_type": "display_data"
    }
   ],
   "source": [
    "# Create array of it_costs per scenario\n",
    "it_costs_per_seller_removed = A * n_orders_per_seller_removed**0.5\n",
    "plt.plot(it_costs_per_seller_removed)\n",
    "plt.title('IT costs')\n",
    "plt.xlabel('number of seller to remove')"
   ]
  },
  {
   "cell_type": "code",
   "execution_count": 24,
   "metadata": {},
   "outputs": [],
   "source": [
    "# Compute final metrics (profits and margin, for each 2970 scenarios!)\n",
    "profits_per_seller_removed = gross_profits_per_seller_removed - it_costs_per_seller_removed\n",
    "margin_per_seller_removed = profits_per_seller_removed / revenues_per_seller_removed"
   ]
  },
  {
   "cell_type": "code",
   "execution_count": 30,
   "metadata": {},
   "outputs": [
    {
     "data": {
      "text/plain": [
       "array([   0,    1,    2, ..., 2966, 2967, 2968])"
      ]
     },
     "execution_count": 30,
     "metadata": {},
     "output_type": "execute_result"
    }
   ],
   "source": []
  },
  {
   "cell_type": "code",
   "execution_count": 37,
   "metadata": {},
   "outputs": [
    {
     "data": {
      "image/png": "[encoded data removed]",
      "text/plain": [
       "<Figure size 720x360 with 2 Axes>"
      ]
     },
     "metadata": {
      "needs_background": "light"
     },
     "output_type": "display_data"
    }
   ],
   "source": [
    "fig, ax1 = plt.subplots(figsize=(10,5))\n",
    "x = np.arange(0, len(sellers), 1)\n",
    "\n",
    "plt.suptitle(\"Estimated impact of having excluding selected sellers from Olist, over the past 16 months\")\n",
    "\n",
    "ax1.set_xlabel('number of seller to remove from olist - from worse to most profitable')\n",
    "ax1.set_ylabel('BRL')\n",
    "ax1.plot(x, profits_per_seller_removed, color='black', label='Olist net profits')\n",
    "ax1.plot(x, revenues_per_seller_removed, color='grey', label='Olist total revenues')\n",
    "ax1.legend()\n",
    "ax1.tick_params(axis='y')\n",
    "ax1.legend()\n",
    "ax1.set(ylim=[0,3000000])\n",
    "\n",
    "\n",
    "ax3 = ax1.twinx()  # instantiate a second axes that shares the same x-axis\n",
    "\n",
    "color = 'tab:red'\n",
    "ax3.set_ylabel('%', color=color)  # we already handled the x-label with ax1\n",
    "ax3.plot(x, margin_per_seller_removed, color='red', label='Olist profit margin')\n",
    "ax3.tick_params(axis='y', labelcolor=color)\n",
    "ax3.legend(loc='right')\n",
    "ax3.set(ylim=[0,1])\n",
    "\n",
    "fig.tight_layout()  # otherwise the right y-label is slightly clipped\n",
    "plt.show()"
   ]
  },
  {
   "cell_type": "markdown",
   "metadata": {},
   "source": [
    "☝️We can clearly see a trade-off with a maximim net_profit, at around 500 sellers to remove, and a maximum margin at about 2000 sellers removed. Beyond, margin collapses due to IT costs."
   ]
  },
  {
   "cell_type": "code",
   "execution_count": null,
   "metadata": {},
   "outputs": [],
   "source": [
    "# CEO-REQUEST CHALLENGE\n",
    "\n",
    "## Problem statement\n",
    "\n",
    "We would like to analyse the impact of removing the most-underperforming sellers from Olist marketplace.\n",
    "\n",
    "❓ **Formulate the problem mathematically**\n",
    "\n",
    "<details>\n",
    "    <summary>Hints</summary>\n",
    "\n",
    "1) You may want to compute, for each `seller_id`:\n",
    "- The revenue it brings (10% of each sales + 80 BRL per month)\n",
    "- The cost associated with all its bad reviews (1-star = 100 BRL, 2-star = 50, 3-star=40)\n",
    "- and the resulting profit per seller\n",
    "- cumulated over the course of the past 16 months of data we have\n",
    "    \n",
    "2) We may then sort sellers by increasing profit for Olist and compute, the financial impact it would have made if we had removed some sellers from the platform.\n",
    "\n",
    "</details>\n",
    "\n",
    "# What is the final DataFrame you need to build to answer the question?\n",
    "\n",
    "# [seller_id, months_on_olist, sales, cost_of_reviews]\n",
    "\n",
    "---\n",
    "❓ Second, take time to **write down in plain english a step-by-step approach** to your goal. \n",
    "\n",
    "Try not to start from scratch, but think instead about what logic you have already coded in your `olist` package, and how can they be used **or modified** to give you the desired outcome. Your codebase is not set in stone - feel free to add new methods as needed!\n",
    "\n",
    "<details>\n",
    "    <summary>Hints for seller-removal analysis</summary>\n",
    "\n",
    "\n",
    "Starting from your current `seller().get_training_data()` DataFrame:\n",
    "- Can you easily transform it to compute Olist's positive `revenue_per_seller`? \n",
    "- Can you easily transform it to compute Olist's `cost_of_bad_reviews`? Not directly from the mean `review_score`\n",
    "\n",
    "❓Instead of starting again from scratch, investigate in your source code in `seller.py` how was computed the mean `review_score` per seller. Can you imagine a way to ammend your code so as to compute `cost_of_reviews` in the same process ? \n",
    "</details>\n",
    "\n",
    "\n",
    "# Write down a detailed strategy (steps by step) to get to this final DataFrame\n",
    "\n",
    "- Update `seller.py` to compute a missing `cost_of_reviews` column\n",
    "- Compute `months_on_olist` and `revenues` using existing seller_training_data columns\n",
    "- Compute `profits` per seller\n",
    "- Sort DataFrame per `profits`\n",
    "- Remove worse performing seller one by one, and for each scenario:\n",
    "    - compute `n_orders` and therefore `olist_it_costs` (prop to square root of n_orders)\n",
    "    - compute Olist's total `net_profits` and `margin`\n",
    "- Find the optimal number of seller to remove from platform so as to maximize `profit` or `margin`\n",
    "\n",
    "## Update `seller.py`\n",
    "\n",
    "from olist.seller_updated import Seller\n",
    "seller = Seller()\n",
    "\n",
    "## Economic analysis\n",
    "\n",
    "olist_it_costs_all_orders = 500000\n",
    "\n",
    "sellers = seller.get_training_data()\n",
    "\n",
    "olist_revenues = sellers.revenues.sum()\n",
    "olist_gross_profits = sellers.profits.sum()\n",
    "olist_gross_profits\n",
    "\n",
    "sns.distplot(sellers.profits, kde=False)\n",
    "\n",
    "sorted_sellers = sellers.sort_values(by='profits')[['profits', 'n_orders', 'revenues']].reset_index()\n",
    "sorted_sellers.head()\n",
    "\n",
    "sorted_sellers.profits.plot()\n",
    "\n",
    "### Compute Olist's net_profits for various seller cut-offs\n",
    "\n",
    "# Let's create arrays \"xxx_per_seller_removed\" which list,\n",
    "# for each number of seller removed (from 1 to len(seller)), \n",
    "# the value xxx computed in this hypothetic scenario\n",
    "\n",
    "sorted_sellers.profits\n",
    "\n",
    "# Analysis before IT costs\n",
    "revenues_per_seller_removed = olist_revenues - np.cumsum(sorted_sellers.revenues)\n",
    "gross_profits_per_seller_removed = olist_gross_profits - np.cumsum(sorted_sellers.profits)\n",
    "\n",
    "gross_profits_per_seller_removed.plot()\n",
    "plt.title('Olist gross profit before IT costs')\n",
    "plt.xlabel('number of seller to remove')\n",
    "\n",
    "# Add the IT costs of Olist's platform, which scales as A * (n_orders)**0.5\n",
    "# First, compute A\n",
    "A = olist_it_costs_all_orders / (sellers['n_orders'].sum()**0.5)\n",
    "A\n",
    "\n",
    "# Then, compute n_order per scenario\n",
    "n_orders_per_seller_removed = sorted_sellers.n_orders.sum() - np.cumsum(sorted_sellers.n_orders)\n",
    "plt.plot(n_orders_per_seller_removed)\n",
    "plt.title('Total number of orders')\n",
    "plt.xlabel('number of seller to remove')\n",
    "\n",
    "# Create array of it_costs per scenario\n",
    "it_costs_per_seller_removed = A * n_orders_per_seller_removed**0.5\n",
    "plt.plot(it_costs_per_seller_removed)\n",
    "plt.title('IT costs')\n",
    "plt.xlabel('number of seller to remove')\n",
    "\n",
    "# Compute final metrics (profits and margin, for each 2970 scenarios!)\n",
    "profits_per_seller_removed = gross_profits_per_seller_removed - it_costs_per_seller_removed\n",
    "margin_per_seller_removed = profits_per_seller_removed / revenues_per_seller_removed\n",
    "\n",
    "\n",
    "\n",
    "fig, ax1 = plt.subplots(figsize=(10,5))\n",
    "x = np.arange(0, len(sellers), 1)\n",
    "\n",
    "plt.suptitle(\"Estimated impact of having excluding selected sellers from Olist, over the past 16 months\")\n",
    "\n",
    "ax1.set_xlabel('number of seller to remove from olist - from worse to most profitable')\n",
    "ax1.set_ylabel('BRL')\n",
    "ax1.plot(x, profits_per_seller_removed, color='black', label='Olist net profits')\n",
    "ax1.plot(x, revenues_per_seller_removed, color='grey', label='Olist total revenues')\n",
    "ax1.legend()\n",
    "ax1.tick_params(axis='y')\n",
    "ax1.legend()\n",
    "ax1.set(ylim=[0,3000000])\n",
    "\n",
    "\n",
    "ax3 = ax1.twinx()  # instantiate a second axes that shares the same x-axis\n",
    "\n",
    "color = 'tab:red'\n",
    "ax3.set_ylabel('%', color=color)  # we already handled the x-label with ax1\n",
    "ax3.plot(x, margin_per_seller_removed, color='red', label='Olist profit margin')\n",
    "ax3.tick_params(axis='y', labelcolor=color)\n",
    "ax3.legend(loc='right')\n",
    "ax3.set(ylim=[0,1])\n",
    "\n",
    "fig.tight_layout()  # otherwise the right y-label is slightly clipped\n",
    "plt.show()\n",
    "\n",
    "☝️We can clearly see a trade-off with a maximim net_profit, at around 500 sellers to remove, and a maximum margin at about 2000 sellers removed. Beyond, margin collapses due to IT costs."
   ]
  },
  {
   "cell_type": "markdown",
   "metadata": {},
   "source": [
    "# CEO-REQUEST CHALLENGE"
   ]
  },
  {
   "cell_type": "markdown",
   "metadata": {},
   "source": [
    "## Problem statement"
   ]
  },
  {
   "cell_type": "markdown",
   "metadata": {},
   "source": [
    "We would like to analyse the impact of removing the most-underperforming sellers from Olist marketplace.\n",
    "\n",
    "❓ **Formulate the problem mathematically**"
   ]
  },
  {
   "cell_type": "markdown",
   "metadata": {},
   "source": [
    "<details>\n",
    "    <summary>Hints</summary>\n",
    "\n",
    "1) You may want to compute, for each `seller_id`:\n",
    "- The revenue it brings (10% of each sales + 80 BRL per month)\n",
    "- The cost associated with all its bad reviews (1-star = 100 BRL, 2-star = 50, 3-star=40)\n",
    "- and the resulting profit per seller\n",
    "- cumulated over the course of the past 16 months of data we have\n",
    "    \n",
    "2) We may then sort sellers by increasing profit for Olist and compute, the financial impact it would have made if we had removed some sellers from the platform.\n",
    "\n",
    "</details>"
   ]
  },
  {
   "cell_type": "code",
   "execution_count": 1,
   "metadata": {},
   "outputs": [],
   "source": [
    "# What is the final DataFrame you need to build to answer the question?\n",
    "\n",
    "# [seller_id, months_on_olist, sales, cost_of_reviews]"
   ]
  },
  {
   "cell_type": "markdown",
   "metadata": {},
   "source": [
    "---\n",
    "❓ Second, take time to **write down in plain english a step-by-step approach** to your goal. \n",
    "\n",
    "Try not to start from scratch, but think instead about what logic you have already coded in your `olist` package, and how can they be used **or modified** to give you the desired outcome. Your codebase is not set in stone - feel free to add new methods as needed!"
   ]
  },
  {
   "cell_type": "markdown",
   "metadata": {},
   "source": [
    "<details>\n",
    "    <summary>Hints for seller-removal analysis</summary>\n",
    "\n",
    "\n",
    "Starting from your current `seller().get_training_data()` DataFrame:\n",
    "- Can you easily transform it to compute Olist's positive `revenue_per_seller`? \n",
    "- Can you easily transform it to compute Olist's `cost_of_bad_reviews`? Not directly from the mean `review_score`\n",
    "\n",
    "❓Instead of starting again from scratch, investigate in your source code in `seller.py` how was computed the mean `review_score` per seller. Can you imagine a way to ammend your code so as to compute `cost_of_reviews` in the same process ? \n",
    "</details>\n"
   ]
  },
  {
   "cell_type": "code",
   "execution_count": 2,
   "metadata": {},
   "outputs": [],
   "source": [
    "# Write down a detailed strategy (steps by step) to get to this final DataFrame"
   ]
  },
  {
   "cell_type": "markdown",
   "metadata": {},
   "source": [
    "- Update `seller.py` to compute a missing `cost_of_reviews` column\n",
    "- Compute `months_on_olist` and `revenues` using existing seller_training_data columns\n",
    "- Compute `profits` per seller\n",
    "- Sort DataFrame per `profits`\n",
    "- Remove worse performing seller one by one, and for each scenario:\n",
    "    - compute `n_orders` and therefore `olist_it_costs` (prop to square root of n_orders)\n",
    "    - compute Olist's total `net_profits` and `margin`\n",
    "- Find the optimal number of seller to remove from platform so as to maximize `profit` or `margin`"
   ]
  },
  {
   "cell_type": "markdown",
   "metadata": {},
   "source": [
    "## Update `seller.py`"
   ]
  },
  {
   "cell_type": "code",
   "execution_count": 1,
   "metadata": {
    "scrolled": true
   },
   "outputs": [],
   "source": [
    "from olist.seller_updated import Seller\n",
    "seller = Seller()"
   ]
  },
  {
   "cell_type": "markdown",
   "metadata": {},
   "source": [
    "## Economic analysis"
   ]
  },
  {
   "cell_type": "code",
   "execution_count": 2,
   "metadata": {},
   "outputs": [],
   "source": [
    "olist_it_costs_all_orders = 500000"
   ]
  },
  {
   "cell_type": "code",
   "execution_count": 3,
   "metadata": {},
   "outputs": [],
   "source": [
    "sellers = seller.get_training_data()"
   ]
  },
  {
   "cell_type": "code",
   "execution_count": 4,
   "metadata": {},
   "outputs": [
    {
     "data": {
      "text/plain": [
       "1116965.223999999"
      ]
     },
     "execution_count": 4,
     "metadata": {},
     "output_type": "execute_result"
    }
   ],
   "source": [
    "olist_revenues = sellers.revenues.sum()\n",
    "olist_gross_profits = sellers.profits.sum()\n",
    "olist_gross_profits"
   ]
  },
  {
   "cell_type": "code",
   "execution_count": 7,
   "metadata": {},
   "outputs": [
    {
     "data": {
      "text/plain": [
       "<matplotlib.axes._subplots.AxesSubplot at 0x13b1a2dd0>"
      ]
     },
     "execution_count": 7,
     "metadata": {},
     "output_type": "execute_result"
    },
    {
     "data": {
      "image/png": "[encoded data removed]",
      "text/plain": [
       "<Figure size 432x288 with 1 Axes>"
      ]
     },
     "metadata": {
      "needs_background": "light"
     },
     "output_type": "display_data"
    }
   ],
   "source": [
    "sns.distplot(sellers.profits, kde=False)"
   ]
  },
  {
   "cell_type": "code",
   "execution_count": 8,
   "metadata": {
    "scrolled": false
   },
   "outputs": [
    {
     "data": {
      "text/html": [
       "<div>\n",
       "<style scoped>\n",
       "    .dataframe tbody tr th:only-of-type {\n",
       "        vertical-align: middle;\n",
       "    }\n",
       "\n",
       "    .dataframe tbody tr th {\n",
       "        vertical-align: top;\n",
       "    }\n",
       "\n",
       "    .dataframe thead th {\n",
       "        text-align: right;\n",
       "    }\n",
       "</style>\n",
       "<table border=\"1\" class=\"dataframe\">\n",
       "  <thead>\n",
       "    <tr style=\"text-align: right;\">\n",
       "      <th></th>\n",
       "      <th>index</th>\n",
       "      <th>profits</th>\n",
       "      <th>n_orders</th>\n",
       "      <th>revenues</th>\n",
       "    </tr>\n",
       "  </thead>\n",
       "  <tbody>\n",
       "    <tr>\n",
       "      <th>0</th>\n",
       "      <td>769</td>\n",
       "      <td>-22499.517</td>\n",
       "      <td>1854</td>\n",
       "      <td>13770.483</td>\n",
       "    </tr>\n",
       "    <tr>\n",
       "      <th>1</th>\n",
       "      <td>2360</td>\n",
       "      <td>-19242.708</td>\n",
       "      <td>1806</td>\n",
       "      <td>21647.292</td>\n",
       "    </tr>\n",
       "    <tr>\n",
       "      <th>2</th>\n",
       "      <td>1358</td>\n",
       "      <td>-18051.158</td>\n",
       "      <td>1706</td>\n",
       "      <td>11948.842</td>\n",
       "    </tr>\n",
       "    <tr>\n",
       "      <th>3</th>\n",
       "      <td>946</td>\n",
       "      <td>-16032.248</td>\n",
       "      <td>1146</td>\n",
       "      <td>4677.752</td>\n",
       "    </tr>\n",
       "    <tr>\n",
       "      <th>4</th>\n",
       "      <td>315</td>\n",
       "      <td>-13066.431</td>\n",
       "      <td>943</td>\n",
       "      <td>2553.569</td>\n",
       "    </tr>\n",
       "  </tbody>\n",
       "</table>\n",
       "</div>"
      ],
      "text/plain": [
       "   index    profits  n_orders   revenues\n",
       "0    769 -22499.517      1854  13770.483\n",
       "1   2360 -19242.708      1806  21647.292\n",
       "2   1358 -18051.158      1706  11948.842\n",
       "3    946 -16032.248      1146   4677.752\n",
       "4    315 -13066.431       943   2553.569"
      ]
     },
     "execution_count": 8,
     "metadata": {},
     "output_type": "execute_result"
    }
   ],
   "source": [
    "sorted_sellers = sellers.sort_values(by='profits')[['profits', 'n_orders', 'revenues']].reset_index()\n",
    "sorted_sellers.head()"
   ]
  },
  {
   "cell_type": "code",
   "execution_count": 9,
   "metadata": {
    "scrolled": false
   },
   "outputs": [
    {
     "data": {
      "text/plain": [
       "<matplotlib.axes._subplots.AxesSubplot at 0x13d3cee10>"
      ]
     },
     "execution_count": 9,
     "metadata": {},
     "output_type": "execute_result"
    },
    {
     "data": {
      "image/png": "[encoded data removed]",
      "text/plain": [
       "<Figure size 432x288 with 1 Axes>"
      ]
     },
     "metadata": {
      "needs_background": "light"
     },
     "output_type": "display_data"
    }
   ],
   "source": [
    "sorted_sellers.profits.plot()"
   ]
  },
  {
   "cell_type": "markdown",
   "metadata": {},
   "source": [
    "### Compute Olist's net_profits for various seller cut-offs"
   ]
  },
  {
   "cell_type": "code",
   "execution_count": 10,
   "metadata": {},
   "outputs": [],
   "source": [
    "# Let's create arrays \"xxx_per_seller_removed\" which list,\n",
    "# for each number of seller removed (from 1 to len(seller)), \n",
    "# the value xxx computed in this hypothetic scenario"
   ]
  },
  {
   "cell_type": "code",
   "execution_count": 11,
   "metadata": {},
   "outputs": [
    {
     "data": {
      "text/plain": [
       "0      -22499.517\n",
       "1      -19242.708\n",
       "2      -18051.158\n",
       "3      -16032.248\n",
       "4      -13066.431\n",
       "          ...    \n",
       "2965     6700.462\n",
       "2966     7288.455\n",
       "2967    14254.203\n",
       "2968    14523.187\n",
       "2969    17967.605\n",
       "Name: profits, Length: 2970, dtype: float64"
      ]
     },
     "execution_count": 11,
     "metadata": {},
     "output_type": "execute_result"
    }
   ],
   "source": [
    "sorted_sellers.profits"
   ]
  },
  {
   "cell_type": "code",
   "execution_count": 12,
   "metadata": {},
   "outputs": [
    {
     "data": {
      "text/plain": [
       "Text(0.5, 0, 'number of seller to remove')"
      ]
     },
     "execution_count": 12,
     "metadata": {},
     "output_type": "execute_result"
    },
    {
     "data": {
      "image/png": "[encoded data removed]",
      "text/plain": [
       "<Figure size 432x288 with 1 Axes>"
      ]
     },
     "metadata": {
      "needs_background": "light"
     },
     "output_type": "display_data"
    }
   ],
   "source": [
    "# Analysis before IT costs\n",
    "revenues_per_seller_removed = olist_revenues - np.cumsum(sorted_sellers.revenues)\n",
    "gross_profits_per_seller_removed = olist_gross_profits - np.cumsum(sorted_sellers.profits)\n",
    "\n",
    "gross_profits_per_seller_removed.plot()\n",
    "plt.title('Olist gross profit before IT costs')\n",
    "plt.xlabel('number of seller to remove')"
   ]
  },
  {
   "cell_type": "code",
   "execution_count": 10,
   "metadata": {},
   "outputs": [
    {
     "data": {
      "text/plain": [
       "1582.3735631973473"
      ]
     },
     "execution_count": 10,
     "metadata": {},
     "output_type": "execute_result"
    }
   ],
   "source": [
    "# Add the IT costs of Olist's platform, which scales as A * (n_orders)**0.5\n",
    "# First, compute A\n",
    "A = olist_it_costs_all_orders / (sellers['n_orders'].sum()**0.5)\n",
    "A"
   ]
  },
  {
   "cell_type": "code",
   "execution_count": 22,
   "metadata": {},
   "outputs": [
    {
     "data": {
      "text/plain": [
       "Text(0.5, 0, 'number of seller to remove')"
      ]
     },
     "execution_count": 22,
     "metadata": {},
     "output_type": "execute_result"
    },
    {
     "data": {
      "image/png": "[encoded data removed]",
      "text/plain": [
       "<Figure size 432x288 with 1 Axes>"
      ]
     },
     "metadata": {
      "needs_background": "light"
     },
     "output_type": "display_data"
    }
   ],
   "source": [
    "# Then, compute n_order per scenario\n",
    "n_orders_per_seller_removed = sorted_sellers.n_orders.sum() - np.cumsum(sorted_sellers.n_orders)\n",
    "plt.plot(n_orders_per_seller_removed)\n",
    "plt.title('Total number of orders')\n",
    "plt.xlabel('number of seller to remove')"
   ]
  },
  {
   "cell_type": "code",
   "execution_count": 23,
   "metadata": {},
   "outputs": [
    {
     "data": {
      "text/plain": [
       "Text(0.5, 0, 'number of seller to remove')"
      ]
     },
     "execution_count": 23,
     "metadata": {},
     "output_type": "execute_result"
    },
    {
     "data": {
      "image/png": "[encoded data removed]",
      "text/plain": [
       "<Figure size 432x288 with 1 Axes>"
      ]
     },
     "metadata": {
      "needs_background": "light"
     },
     "output_type": "display_data"
    }
   ],
   "source": [
    "# Create array of it_costs per scenario\n",
    "it_costs_per_seller_removed = A * n_orders_per_seller_removed**0.5\n",
    "plt.plot(it_costs_per_seller_removed)\n",
    "plt.title('IT costs')\n",
    "plt.xlabel('number of seller to remove')"
   ]
  },
  {
   "cell_type": "code",
   "execution_count": 24,
   "metadata": {},
   "outputs": [],
   "source": [
    "# Compute final metrics (profits and margin, for each 2970 scenarios!)\n",
    "profits_per_seller_removed = gross_profits_per_seller_removed - it_costs_per_seller_removed\n",
    "margin_per_seller_removed = profits_per_seller_removed / revenues_per_seller_removed"
   ]
  },
  {
   "cell_type": "code",
   "execution_count": 30,
   "metadata": {},
   "outputs": [
    {
     "data": {
      "text/plain": [
       "array([   0,    1,    2, ..., 2966, 2967, 2968])"
      ]
     },
     "execution_count": 30,
     "metadata": {},
     "output_type": "execute_result"
    }
   ],
   "source": []
  },
  {
   "cell_type": "code",
   "execution_count": 37,
   "metadata": {},
   "outputs": [
    {
     "data": {
      "image/png": "[encoded data removed]",
      "text/plain": [
       "<Figure size 720x360 with 2 Axes>"
      ]
     },
     "metadata": {
      "needs_background": "light"
     },
     "output_type": "display_data"
    }
   ],
   "source": [
    "fig, ax1 = plt.subplots(figsize=(10,5))\n",
    "x = np.arange(0, len(sellers), 1)\n",
    "\n",
    "plt.suptitle(\"Estimated impact of having excluding selected sellers from Olist, over the past 16 months\")\n",
    "\n",
    "ax1.set_xlabel('number of seller to remove from olist - from worse to most profitable')\n",
    "ax1.set_ylabel('BRL')\n",
    "ax1.plot(x, profits_per_seller_removed, color='black', label='Olist net profits')\n",
    "ax1.plot(x, revenues_per_seller_removed, color='grey', label='Olist total revenues')\n",
    "ax1.legend()\n",
    "ax1.tick_params(axis='y')\n",
    "ax1.legend()\n",
    "ax1.set(ylim=[0,3000000])\n",
    "\n",
    "\n",
    "ax3 = ax1.twinx()  # instantiate a second axes that shares the same x-axis\n",
    "\n",
    "color = 'tab:red'\n",
    "ax3.set_ylabel('%', color=color)  # we already handled the x-label with ax1\n",
    "ax3.plot(x, margin_per_seller_removed, color='red', label='Olist profit margin')\n",
    "ax3.tick_params(axis='y', labelcolor=color)\n",
    "ax3.legend(loc='right')\n",
    "ax3.set(ylim=[0,1])\n",
    "\n",
    "fig.tight_layout()  # otherwise the right y-label is slightly clipped\n",
    "plt.show()"
   ]
  },
  {
   "cell_type": "markdown",
   "metadata": {},
   "source": [
    "☝️We can clearly see a trade-off with a maximim net_profit, at around 500 sellers to remove, and a maximum margin at about 2000 sellers removed. Beyond, margin collapses due to IT costs."
   ]
  },
  {
   "cell_type": "code",
   "execution_count": null,
   "metadata": {},
   "outputs": [],
   "source": [
    "# CEO-REQUEST CHALLENGE\n",
    "\n",
    "## Problem statement\n",
    "\n",
    "We would like to analyse the impact of removing the most-underperforming sellers from Olist marketplace.\n",
    "\n",
    "❓ **Formulate the problem mathematically**\n",
    "\n",
    "<details>\n",
    "    <summary>Hints</summary>\n",
    "\n",
    "1) You may want to compute, for each `seller_id`:\n",
    "- The revenue it brings (10% of each sales + 80 BRL per month)\n",
    "- The cost associated with all its bad reviews (1-star = 100 BRL, 2-star = 50, 3-star=40)\n",
    "- and the resulting profit per seller\n",
    "- cumulated over the course of the past 16 months of data we have\n",
    "    \n",
    "2) We may then sort sellers by increasing profit for Olist and compute, the financial impact it would have made if we had removed some sellers from the platform.\n",
    "\n",
    "</details>\n",
    "\n",
    "# What is the final DataFrame you need to build to answer the question?\n",
    "\n",
    "# [seller_id, months_on_olist, sales, cost_of_reviews]\n",
    "\n",
    "---\n",
    "❓ Second, take time to **write down in plain english a step-by-step approach** to your goal. \n",
    "\n",
    "Try not to start from scratch, but think instead about what logic you have already coded in your `olist` package, and how can they be used **or modified** to give you the desired outcome. Your codebase is not set in stone - feel free to add new methods as needed!\n",
    "\n",
    "<details>\n",
    "    <summary>Hints for seller-removal analysis</summary>\n",
    "\n",
    "\n",
    "Starting from your current `seller().get_training_data()` DataFrame:\n",
    "- Can you easily transform it to compute Olist's positive `revenue_per_seller`? \n",
    "- Can you easily transform it to compute Olist's `cost_of_bad_reviews`? Not directly from the mean `review_score`\n",
    "\n",
    "❓Instead of starting again from scratch, investigate in your source code in `seller.py` how was computed the mean `review_score` per seller. Can you imagine a way to ammend your code so as to compute `cost_of_reviews` in the same process ? \n",
    "</details>\n",
    "\n",
    "\n",
    "# Write down a detailed strategy (steps by step) to get to this final DataFrame\n",
    "\n",
    "- Update `seller.py` to compute a missing `cost_of_reviews` column\n",
    "- Compute `months_on_olist` and `revenues` using existing seller_training_data columns\n",
    "- Compute `profits` per seller\n",
    "- Sort DataFrame per `profits`\n",
    "- Remove worse performing seller one by one, and for each scenario:\n",
    "    - compute `n_orders` and therefore `olist_it_costs` (prop to square root of n_orders)\n",
    "    - compute Olist's total `net_profits` and `margin`\n",
    "- Find the optimal number of seller to remove from platform so as to maximize `profit` or `margin`\n",
    "\n",
    "## Update `seller.py`\n",
    "\n",
    "from olist.seller_updated import Seller\n",
    "seller = Seller()\n",
    "\n",
    "## Economic analysis\n",
    "\n",
    "olist_it_costs_all_orders = 500000\n",
    "\n",
    "sellers = seller.get_training_data()\n",
    "\n",
    "olist_revenues = sellers.revenues.sum()\n",
    "olist_gross_profits = sellers.profits.sum()\n",
    "olist_gross_profits\n",
    "\n",
    "sns.distplot(sellers.profits, kde=False)\n",
    "\n",
    "sorted_sellers = sellers.sort_values(by='profits')[['profits', 'n_orders', 'revenues']].reset_index()\n",
    "sorted_sellers.head()\n",
    "\n",
    "sorted_sellers.profits.plot()\n",
    "\n",
    "### Compute Olist's net_profits for various seller cut-offs\n",
    "\n",
    "# Let's create arrays \"xxx_per_seller_removed\" which list,\n",
    "# for each number of seller removed (from 1 to len(seller)), \n",
    "# the value xxx computed in this hypothetic scenario\n",
    "\n",
    "sorted_sellers.profits\n",
    "\n",
    "# Analysis before IT costs\n",
    "revenues_per_seller_removed = olist_revenues - np.cumsum(sorted_sellers.revenues)\n",
    "gross_profits_per_seller_removed = olist_gross_profits - np.cumsum(sorted_sellers.profits)\n",
    "\n",
    "gross_profits_per_seller_removed.plot()\n",
    "plt.title('Olist gross profit before IT costs')\n",
    "plt.xlabel('number of seller to remove')\n",
    "\n",
    "# Add the IT costs of Olist's platform, which scales as A * (n_orders)**0.5\n",
    "# First, compute A\n",
    "A = olist_it_costs_all_orders / (sellers['n_orders'].sum()**0.5)\n",
    "A\n",
    "\n",
    "# Then, compute n_order per scenario\n",
    "n_orders_per_seller_removed = sorted_sellers.n_orders.sum() - np.cumsum(sorted_sellers.n_orders)\n",
    "plt.plot(n_orders_per_seller_removed)\n",
    "plt.title('Total number of orders')\n",
    "plt.xlabel('number of seller to remove')\n",
    "\n",
    "# Create array of it_costs per scenario\n",
    "it_costs_per_seller_removed = A * n_orders_per_seller_removed**0.5\n",
    "plt.plot(it_costs_per_seller_removed)\n",
    "plt.title('IT costs')\n",
    "plt.xlabel('number of seller to remove')\n",
    "\n",
    "# Compute final metrics (profits and margin, for each 2970 scenarios!)\n",
    "profits_per_seller_removed = gross_profits_per_seller_removed - it_costs_per_seller_removed\n",
    "margin_per_seller_removed = profits_per_seller_removed / revenues_per_seller_removed\n",
    "\n",
    "\n",
    "\n",
    "fig, ax1 = plt.subplots(figsize=(10,5))\n",
    "x = np.arange(0, len(sellers), 1)\n",
    "\n",
    "plt.suptitle(\"Estimated impact of having excluding selected sellers from Olist, over the past 16 months\")\n",
    "\n",
    "ax1.set_xlabel('number of seller to remove from olist - from worse to most profitable')\n",
    "ax1.set_ylabel('BRL')\n",
    "ax1.plot(x, profits_per_seller_removed, color='black', label='Olist net profits')\n",
    "ax1.plot(x, revenues_per_seller_removed, color='grey', label='Olist total revenues')\n",
    "ax1.legend()\n",
    "ax1.tick_params(axis='y')\n",
    "ax1.legend()\n",
    "ax1.set(ylim=[0,3000000])\n",
    "\n",
    "\n",
    "ax3 = ax1.twinx()  # instantiate a second axes that shares the same x-axis\n",
    "\n",
    "color = 'tab:red'\n",
    "ax3.set_ylabel('%', color=color)  # we already handled the x-label with ax1\n",
    "ax3.plot(x, margin_per_seller_removed, color='red', label='Olist profit margin')\n",
    "ax3.tick_params(axis='y', labelcolor=color)\n",
    "ax3.legend(loc='right')\n",
    "ax3.set(ylim=[0,1])\n",
    "\n",
    "fig.tight_layout()  # otherwise the right y-label is slightly clipped\n",
    "plt.show()\n",
    "\n",
    "☝️We can clearly see a trade-off with a maximim net_profit, at around 500 sellers to remove, and a maximum margin at about 2000 sellers removed. Beyond, margin collapses due to IT costs."
   ]
  }
 ],
 "metadata": {
  "kernelspec": {
   "display_name": "Python 3",
   "language": "python",
   "name": "python3"
  },
  "language_info": {
   "codemirror_mode": {
    "name": "ipython",
    "version": 3
   },
   "file_extension": ".py",
   "mimetype": "text/x-python",
   "name": "python",
   "nbconvert_exporter": "python",
   "pygments_lexer": "ipython3",
   "version": "3.7.7"
  },
  "toc": {
   "base_numbering": 1,
   "nav_menu": {},
   "number_sections": true,
   "sideBar": true,
   "skip_h1_title": true,
   "title_cell": "Table of Contents",
   "title_sidebar": "Contents",
   "toc_cell": false,
   "toc_position": {},
   "toc_section_display": true,
   "toc_window_display": true
  },
  "varInspector": {
   "cols": {
    "lenName": 16,
    "lenType": 16,
    "lenVar": 40
   },
   "kernels_config": {
    "python": {
     "delete_cmd_postfix": "",
     "delete_cmd_prefix": "del ",
     "library": "var_list.py",
     "varRefreshCmd": "print(var_dic_list())"
    },
    "r": {
     "delete_cmd_postfix": ") ",
     "delete_cmd_prefix": "rm(",
     "library": "var_list.r",
     "varRefreshCmd": "cat(var_dic_list()) "
    }
   },
   "types_to_exclude": [
    "module",
    "function",
    "builtin_function_or_method",
    "instance",
    "_Feature"
   ],
   "window_display": false
  }
 },
 "nbformat": 4,
 "nbformat_minor": 4
}
