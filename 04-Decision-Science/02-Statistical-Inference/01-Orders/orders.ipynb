{
 "cells": [
  {
   "cell_type": "markdown",
   "metadata": {},
   "source": [
    "# Orders"
   ]
  },
  {
   "cell_type": "markdown",
   "metadata": {},
   "source": [
    "**Exercice**\n",
    "\n",
    "Today, we will investigate the **orders**, and their associated review score.\n",
    "\n",
    "For that purpose, we will create one single data table containing **all orders as index and all properties of these orders as columns.**\n",
    "\n",
    "Our goal is to create the following DataFrame, which will come very handing later on for our modelling phase\n",
    "\n",
    "  - `order_id` (_str_) _the id of the order_\n",
    "  - `wait_time` (_float_) _the number of days between order_date and delivered_date_\n",
    "  - `wait_vs_expected` (_float_) _if the actual delivery date is later than the estimated delivery date, returns the absolute number of days between the two dates, otherwise return 0_\n",
    "  - `dim_is_five_star` (_int_) _1 if the order received a five_star, 0 otherwise_\n",
    "  - `dim_is_one_star` (_int_) _1 if the order received a one_star, 0 otherwise_\n",
    "  - `review_score`(_int_) from 1 to 5\n",
    "  - `number_of_product` (_int_) _number of products that the order contains_\n",
    "  - `number_of_sellers` (_int_) _number of sellers involved in the order_\n",
    "  - `freight_value` (_float_) _value of the freight paid by customer_\n",
    "  - (Optional) `distance_customer_seller` (_float_) _the distance in km between customer and seller_\n",
    "  \n",
    "We also want to filtering out \"non-delivered\" orders, unless explicitely specified\n",
    "\n",
    "❓ Your challenge: \n",
    "\n",
    "- Implement each feature as a separate method within the `Order` class available at `olist/order.py`\n",
    "\n",
    "- Then, create a method `get_training_data()` that returns the complete DataFrame.\n",
    "\n",
    "- Feel free to use the notebook below to test your code step by step, before copying the code into `order.py` once you are certain of your code logic\n",
    "\n",
    "- Focus on the data manipulation logic now, we will analyse the dataset visually in the next challenges"
   ]
  },
  {
   "cell_type": "code",
   "execution_count": 1,
   "metadata": {
    "scrolled": true
   },
   "outputs": [],
   "source": [
    "# Auto reload imported module everytime a jupyter cell is executed (handy for olist.order.py updates)\n",
    "%load_ext autoreload\n",
    "%autoreload 2"
   ]
  },
  {
   "cell_type": "code",
   "execution_count": 2,
   "metadata": {},
   "outputs": [],
   "source": [
    "# Import usual modules\n",
    "import pandas as pd\n",
    "import numpy as np\n",
    "import seaborn as sns\n",
    "import matplotlib.pyplot as plt"
   ]
  },
  {
   "cell_type": "code",
   "execution_count": 3,
   "metadata": {},
   "outputs": [],
   "source": [
    "# Handy tips to display by default max only 8 rows of DataFrame at a time (default is 10)\n",
    "pd.set_option('display.max_rows', 8)"
   ]
  },
  {
   "cell_type": "code",
   "execution_count": 4,
   "metadata": {},
   "outputs": [],
   "source": [
    "# Import olist data\n",
    "from olist.data import Olist\n",
    "olist=Olist()\n",
    "data=olist.get_data()\n",
    "matching_table = olist.get_matching_table()"
   ]
  },
  {
   "cell_type": "code",
   "execution_count": 5,
   "metadata": {},
   "outputs": [],
   "source": [
    "orders = data['olist_orders_dataset'].copy() # good practice to be sure not to modify your raw data"
   ]
  },
  {
   "cell_type": "markdown",
   "metadata": {},
   "source": [
    "## get_wait_time\n",
    "Return a dataframe with [order_id, wait_time, expected_wait_time ,delay_vs_expected]\n",
    "\n",
    "Hints:\n",
    "- Don't forget to convert dates from \"string\" type to \"pandas.datetime' using [`pandas.to_datetime()`](https://pandas.pydata.org/pandas-docs/stable/reference/api/pandas.to_datetime.html)\n",
    "- Take time to understand what python [`datetime`](https://docs.python.org/3/library/datetime.html) objects are"
   ]
  },
  {
   "cell_type": "code",
   "execution_count": 6,
   "metadata": {},
   "outputs": [],
   "source": [
    "# Inspect orders dataframe"
   ]
  },
  {
   "cell_type": "code",
   "execution_count": 8,
   "metadata": {
    "scrolled": true
   },
   "outputs": [],
   "source": [
    "# handle datetime"
   ]
  },
  {
   "cell_type": "code",
   "execution_count": 10,
   "metadata": {
    "scrolled": false
   },
   "outputs": [],
   "source": [
    "# compute wait time"
   ]
  },
  {
   "cell_type": "code",
   "execution_count": 11,
   "metadata": {
    "scrolled": false
   },
   "outputs": [],
   "source": [
    "# compute delay vs expected"
   ]
  },
  {
   "cell_type": "code",
   "execution_count": 1,
   "metadata": {},
   "outputs": [],
   "source": [
    "# check new dataframe and copy code to `olist/oder.py`"
   ]
  },
  {
   "cell_type": "markdown",
   "metadata": {},
   "source": [
    "## get_review_score\n",
    "        [order_id, dim_is_five_star, dim_is_one_star]"
   ]
  },
  {
   "cell_type": "code",
   "execution_count": null,
   "metadata": {
    "scrolled": false
   },
   "outputs": [],
   "source": [
    "# Load reviews dataset\n",
    "reviews = data['olist_order_reviews_dataset']\n",
    "reviews"
   ]
  },
  {
   "cell_type": "code",
   "execution_count": null,
   "metadata": {},
   "outputs": [],
   "source": [
    "# Fill the function below, that we will apply element-wise in the next cell,in order to create our new columns\n",
    "def dim_five_star(x):\n",
    "    pass\n",
    "\n",
    "def dim_one_star(x):\n",
    "    pass"
   ]
  },
  {
   "cell_type": "code",
   "execution_count": 119,
   "metadata": {},
   "outputs": [],
   "source": [
    "reviews[\"dim_is_five_star\"] = reviews[\"review_score\"].map(dim_five_star)\n",
    "\n",
    "reviews[\"dim_is_one_star\"] = reviews[\"review_score\"].map(dim_one_star)"
   ]
  },
  {
   "cell_type": "code",
   "execution_count": null,
   "metadata": {},
   "outputs": [],
   "source": [
    "# Check your new dataframe and commit your code to olist/order.py"
   ]
  },
  {
   "cell_type": "markdown",
   "metadata": {},
   "source": [
    "## get_number_products(self):\n",
    "        \"\"\"\n",
    "        02-01 > Returns a DataFrame with:\n",
    "        order_id, number_of_products"
   ]
  },
  {
   "cell_type": "code",
   "execution_count": 2,
   "metadata": {},
   "outputs": [],
   "source": [
    "# YOUR CODE HERE"
   ]
  },
  {
   "cell_type": "markdown",
   "metadata": {},
   "source": [
    "## get_number_sellers(self):\n",
    "        \"\"\"\n",
    "        02-01 > Returns a DataFrame with:\n",
    "        order_id, number_of_products\n",
    "        \"\"\""
   ]
  },
  {
   "cell_type": "code",
   "execution_count": 3,
   "metadata": {},
   "outputs": [],
   "source": [
    "# YOUR CODE HERE"
   ]
  },
  {
   "cell_type": "markdown",
   "metadata": {},
   "source": [
    "## get_price_and_freight\n",
    "order_id, number_of_products"
   ]
  },
  {
   "cell_type": "markdown",
   "metadata": {},
   "source": [
    "## get_distance_seller_customer (OPTIONAL - Start next challenge by 3 pm)\n",
    "[order_id, distance_seller_customer] (the distance in km between customer and seller)\n",
    "\n",
    "💡Have a look at the `haversine_distance` formula we coded for you in the `olist.utils` module"
   ]
  },
  {
   "cell_type": "markdown",
   "metadata": {},
   "source": [
    "## Test your newly coded module"
   ]
  },
  {
   "cell_type": "code",
   "execution_count": null,
   "metadata": {
    "scrolled": true
   },
   "outputs": [],
   "source": [
    "%%time\n",
    "from olist.order import Order\n",
    "result = Order().get_training_data()\n",
    "result"
   ]
  }
 ],
 "metadata": {
  "kernelspec": {
   "display_name": "lewagon",
   "language": "python",
   "name": "lewagon"
  },
  "language_info": {
   "codemirror_mode": {
    "name": "ipython",
    "version": 3
   },
   "file_extension": ".py",
   "mimetype": "text/x-python",
   "name": "python",
   "nbconvert_exporter": "python",
   "pygments_lexer": "ipython3",
   "version": "3.7.6"
  },
  "toc": {
   "base_numbering": 1,
   "nav_menu": {},
   "number_sections": false,
   "sideBar": true,
   "skip_h1_title": false,
   "title_cell": "Table of Contents",
   "title_sidebar": "Contents",
   "toc_cell": false,
   "toc_position": {},
   "toc_section_display": true,
   "toc_window_display": true
  }
 },
 "nbformat": 4,
 "nbformat_minor": 2
}
