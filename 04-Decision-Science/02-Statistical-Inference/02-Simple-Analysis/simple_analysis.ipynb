{
 "cells": [
  {
   "cell_type": "markdown",
   "metadata": {},
   "source": [
    "# Simple orders analysis"
   ]
  },
  {
   "cell_type": "markdown",
   "metadata": {},
   "source": [
    "🚀 We are finally ready to start analysing our `orders` dataset!\n",
    "\n",
    "Our objective is to get an initial understanding of:\n",
    "- `orders` properties\n",
    "- their associated `review_scores`"
   ]
  },
  {
   "cell_type": "code",
   "execution_count": 67,
   "metadata": {},
   "outputs": [],
   "source": [
    "# Import Modules \n",
    "\n",
    "import pandas as pd\n",
    "import numpy as np \n",
    "import seaborn as sns\n",
    "import matplotlib.pyplot as plt"
   ]
  },
  {
   "cell_type": "code",
   "execution_count": 68,
   "metadata": {},
   "outputs": [
    {
     "name": "stdout",
     "output_type": "stream",
     "text": [
      "The autoreload extension is already loaded. To reload it, use:\n",
      "  %reload_ext autoreload\n"
     ]
    }
   ],
   "source": [
    "%load_ext autoreload\n",
    "%autoreload 2"
   ]
  },
  {
   "cell_type": "code",
   "execution_count": 69,
   "metadata": {},
   "outputs": [
    {
     "name": "stderr",
     "output_type": "stream",
     "text": [
      "/Users/humbert/code/HumbertMonnot/data-challenges/04-Decision-Science/olist/order.py:25: SettingWithCopyWarning: \n",
      "A value is trying to be set on a copy of a slice from a DataFrame.\n",
      "Try using .loc[row_indexer,col_indexer] = value instead\n",
      "\n",
      "See the caveats in the documentation: https://pandas.pydata.org/pandas-docs/stable/user_guide/indexing.html#returning-a-view-versus-a-copy\n",
      "  delivered_orders['order_purchase_timestamp'] = pd.to_datetime(delivered_orders['order_purchase_timestamp'])\n",
      "/Users/humbert/code/HumbertMonnot/data-challenges/04-Decision-Science/olist/order.py:26: SettingWithCopyWarning: \n",
      "A value is trying to be set on a copy of a slice from a DataFrame.\n",
      "Try using .loc[row_indexer,col_indexer] = value instead\n",
      "\n",
      "See the caveats in the documentation: https://pandas.pydata.org/pandas-docs/stable/user_guide/indexing.html#returning-a-view-versus-a-copy\n",
      "  delivered_orders['order_delivered_customer_date'] = pd.to_datetime(delivered_orders['order_delivered_customer_date'])\n",
      "/Users/humbert/code/HumbertMonnot/data-challenges/04-Decision-Science/olist/order.py:27: SettingWithCopyWarning: \n",
      "A value is trying to be set on a copy of a slice from a DataFrame.\n",
      "Try using .loc[row_indexer,col_indexer] = value instead\n",
      "\n",
      "See the caveats in the documentation: https://pandas.pydata.org/pandas-docs/stable/user_guide/indexing.html#returning-a-view-versus-a-copy\n",
      "  delivered_orders['order_estimated_delivery_date'] = pd.to_datetime(delivered_orders['order_estimated_delivery_date'])\n",
      "/Users/humbert/code/HumbertMonnot/data-challenges/04-Decision-Science/olist/order.py:28: SettingWithCopyWarning: \n",
      "A value is trying to be set on a copy of a slice from a DataFrame.\n",
      "Try using .loc[row_indexer,col_indexer] = value instead\n",
      "\n",
      "See the caveats in the documentation: https://pandas.pydata.org/pandas-docs/stable/user_guide/indexing.html#returning-a-view-versus-a-copy\n",
      "  delivered_orders['wait_time']=delivered_orders['order_delivered_customer_date'] - \\\n",
      "/Users/humbert/code/HumbertMonnot/data-challenges/04-Decision-Science/olist/order.py:30: SettingWithCopyWarning: \n",
      "A value is trying to be set on a copy of a slice from a DataFrame.\n",
      "Try using .loc[row_indexer,col_indexer] = value instead\n",
      "\n",
      "See the caveats in the documentation: https://pandas.pydata.org/pandas-docs/stable/user_guide/indexing.html#returning-a-view-versus-a-copy\n",
      "  delivered_orders['expected_wait_time']=delivered_orders['order_estimated_delivery_date'] - \\\n",
      "/Users/humbert/code/HumbertMonnot/data-challenges/04-Decision-Science/olist/order.py:33: SettingWithCopyWarning: \n",
      "A value is trying to be set on a copy of a slice from a DataFrame.\n",
      "Try using .loc[row_indexer,col_indexer] = value instead\n",
      "\n",
      "See the caveats in the documentation: https://pandas.pydata.org/pandas-docs/stable/user_guide/indexing.html#returning-a-view-versus-a-copy\n",
      "  delivered_orders['delay_vs_expected'] = [delivered_orders.wait_time[i] - delivered_orders.expected_wait_time[i]\\\n"
     ]
    }
   ],
   "source": [
    "# Import your newly coded _order_ training set\n",
    "from olist.order import Order\n",
    "\n",
    "# Change `with_distance_seller_customer` to False..\n",
    "# ..if you have not completed the optional part of challenge 1 yet\n",
    "orders = Order().get_training_data(with_distance_seller_customer=True)"
   ]
  },
  {
   "cell_type": "code",
   "execution_count": 70,
   "metadata": {},
   "outputs": [
    {
     "data": {
      "text/plain": [
       "(96353, 12)"
      ]
     },
     "execution_count": 70,
     "metadata": {},
     "output_type": "execute_result"
    }
   ],
   "source": [
    "#assert(orders.shape ==(95872, 13))\n",
    "orders.shape"
   ]
  },
  {
   "cell_type": "markdown",
   "metadata": {
    "slideshow": {
     "slide_type": "slide"
    }
   },
   "source": [
    "## 1 - Inspect features"
   ]
  },
  {
   "cell_type": "markdown",
   "metadata": {},
   "source": [
    "👉 Print summary statistics of each column of the order dataset (then focus in particular on `wait_time`)"
   ]
  },
  {
   "cell_type": "code",
   "execution_count": 71,
   "metadata": {
    "tags": [
     "challengify"
    ]
   },
   "outputs": [
    {
     "data": {
      "text/plain": [
       "count    96353.000000\n",
       "mean        12.522869\n",
       "std          9.457183\n",
       "min          0.533414\n",
       "25%          6.763530\n",
       "50%         10.211944\n",
       "75%         15.685278\n",
       "max        208.351759\n",
       "Name: wait_time, dtype: float64"
      ]
     },
     "execution_count": 71,
     "metadata": {},
     "output_type": "execute_result"
    }
   ],
   "source": [
    "# YOUR CODE HERE\n",
    "orders['wait_time'].describe()"
   ]
  },
  {
   "cell_type": "markdown",
   "metadata": {},
   "source": [
    "📈 Plot histograms to get a sense of the distribution of each numerical feature."
   ]
  },
  {
   "cell_type": "code",
   "execution_count": 78,
   "metadata": {
    "tags": [
     "challengify"
    ]
   },
   "outputs": [
    {
     "data": {
      "image/png": "[encoded data removed]",
      "text/plain": [
       "<Figure size 432x288 with 1 Axes>"
      ]
     },
     "metadata": {
      "needs_background": "light"
     },
     "output_type": "display_data"
    }
   ],
   "source": [
    "# YOUR CODE HERE\n",
    "sns.histplot(orders['wait_time'])\n",
    "plt.xlim([0,50]);"
   ]
  },
  {
   "cell_type": "markdown",
   "metadata": {},
   "source": [
    "👀 In particular, create a `sns.FacetGrid()` of histograms for each `review_score` vs. `wait_time`"
   ]
  },
  {
   "cell_type": "code",
   "execution_count": 84,
   "metadata": {
    "tags": [
     "challengify"
    ]
   },
   "outputs": [
    {
     "data": {
      "text/plain": [
       "<seaborn.axisgrid.FacetGrid at 0x1451bd2b0>"
      ]
     },
     "execution_count": 84,
     "metadata": {},
     "output_type": "execute_result"
    },
    {
     "data": {
      "image/png": "[encoded data removed]",
      "text/plain": [
       "<Figure size 1080x216 with 5 Axes>"
      ]
     },
     "metadata": {
      "needs_background": "light"
     },
     "output_type": "display_data"
    }
   ],
   "source": [
    "# YOUR CODE HERE\n",
    "g = sns.FacetGrid(orders, col ='review_score')\n",
    "g.map(plt.hist, 'wait_time')\n",
    "#sns.FacetGrid(orders['review_score'])"
   ]
  },
  {
   "cell_type": "code",
   "execution_count": 64,
   "metadata": {},
   "outputs": [
    {
     "data": {
      "text/html": [
       "<div>\n",
       "<style scoped>\n",
       "    .dataframe tbody tr th:only-of-type {\n",
       "        vertical-align: middle;\n",
       "    }\n",
       "\n",
       "    .dataframe tbody tr th {\n",
       "        vertical-align: top;\n",
       "    }\n",
       "\n",
       "    .dataframe thead th {\n",
       "        text-align: right;\n",
       "    }\n",
       "</style>\n",
       "<table border=\"1\" class=\"dataframe\">\n",
       "  <thead>\n",
       "    <tr style=\"text-align: right;\">\n",
       "      <th></th>\n",
       "      <th>order_id</th>\n",
       "      <th>order_status</th>\n",
       "      <th>wait_time</th>\n",
       "      <th>expected_wait_time</th>\n",
       "      <th>delay_vs_expected</th>\n",
       "      <th>dim_is_five_star</th>\n",
       "      <th>dim_is_one_star</th>\n",
       "      <th>review_score</th>\n",
       "      <th>number_of_products</th>\n",
       "      <th>number_of_sellers</th>\n",
       "      <th>price</th>\n",
       "      <th>freight_value</th>\n",
       "    </tr>\n",
       "    <tr>\n",
       "      <th>wait_time</th>\n",
       "      <th></th>\n",
       "      <th></th>\n",
       "      <th></th>\n",
       "      <th></th>\n",
       "      <th></th>\n",
       "      <th></th>\n",
       "      <th></th>\n",
       "      <th></th>\n",
       "      <th></th>\n",
       "      <th></th>\n",
       "      <th></th>\n",
       "      <th></th>\n",
       "    </tr>\n",
       "  </thead>\n",
       "  <tbody>\n",
       "    <tr>\n",
       "      <th>0</th>\n",
       "      <td>13</td>\n",
       "      <td>13</td>\n",
       "      <td>13</td>\n",
       "      <td>13</td>\n",
       "      <td>13</td>\n",
       "      <td>13</td>\n",
       "      <td>13</td>\n",
       "      <td>13</td>\n",
       "      <td>13</td>\n",
       "      <td>13</td>\n",
       "      <td>13</td>\n",
       "      <td>13</td>\n",
       "    </tr>\n",
       "    <tr>\n",
       "      <th>1</th>\n",
       "      <td>1572</td>\n",
       "      <td>1572</td>\n",
       "      <td>1572</td>\n",
       "      <td>1572</td>\n",
       "      <td>1572</td>\n",
       "      <td>1572</td>\n",
       "      <td>1572</td>\n",
       "      <td>1572</td>\n",
       "      <td>1572</td>\n",
       "      <td>1572</td>\n",
       "      <td>1572</td>\n",
       "      <td>1572</td>\n",
       "    </tr>\n",
       "    <tr>\n",
       "      <th>2</th>\n",
       "      <td>3161</td>\n",
       "      <td>3161</td>\n",
       "      <td>3161</td>\n",
       "      <td>3161</td>\n",
       "      <td>3161</td>\n",
       "      <td>3161</td>\n",
       "      <td>3161</td>\n",
       "      <td>3161</td>\n",
       "      <td>3161</td>\n",
       "      <td>3161</td>\n",
       "      <td>3161</td>\n",
       "      <td>3161</td>\n",
       "    </tr>\n",
       "    <tr>\n",
       "      <th>3</th>\n",
       "      <td>3850</td>\n",
       "      <td>3850</td>\n",
       "      <td>3850</td>\n",
       "      <td>3850</td>\n",
       "      <td>3850</td>\n",
       "      <td>3850</td>\n",
       "      <td>3850</td>\n",
       "      <td>3850</td>\n",
       "      <td>3850</td>\n",
       "      <td>3850</td>\n",
       "      <td>3850</td>\n",
       "      <td>3850</td>\n",
       "    </tr>\n",
       "    <tr>\n",
       "      <th>4</th>\n",
       "      <td>4831</td>\n",
       "      <td>4831</td>\n",
       "      <td>4831</td>\n",
       "      <td>4831</td>\n",
       "      <td>4831</td>\n",
       "      <td>4831</td>\n",
       "      <td>4831</td>\n",
       "      <td>4831</td>\n",
       "      <td>4831</td>\n",
       "      <td>4831</td>\n",
       "      <td>4831</td>\n",
       "      <td>4831</td>\n",
       "    </tr>\n",
       "    <tr>\n",
       "      <th>...</th>\n",
       "      <td>...</td>\n",
       "      <td>...</td>\n",
       "      <td>...</td>\n",
       "      <td>...</td>\n",
       "      <td>...</td>\n",
       "      <td>...</td>\n",
       "      <td>...</td>\n",
       "      <td>...</td>\n",
       "      <td>...</td>\n",
       "      <td>...</td>\n",
       "      <td>...</td>\n",
       "      <td>...</td>\n",
       "    </tr>\n",
       "    <tr>\n",
       "      <th>189</th>\n",
       "      <td>1</td>\n",
       "      <td>1</td>\n",
       "      <td>1</td>\n",
       "      <td>1</td>\n",
       "      <td>1</td>\n",
       "      <td>1</td>\n",
       "      <td>1</td>\n",
       "      <td>1</td>\n",
       "      <td>1</td>\n",
       "      <td>1</td>\n",
       "      <td>1</td>\n",
       "      <td>1</td>\n",
       "    </tr>\n",
       "    <tr>\n",
       "      <th>191</th>\n",
       "      <td>1</td>\n",
       "      <td>1</td>\n",
       "      <td>1</td>\n",
       "      <td>1</td>\n",
       "      <td>1</td>\n",
       "      <td>1</td>\n",
       "      <td>1</td>\n",
       "      <td>1</td>\n",
       "      <td>1</td>\n",
       "      <td>1</td>\n",
       "      <td>1</td>\n",
       "      <td>1</td>\n",
       "    </tr>\n",
       "    <tr>\n",
       "      <th>194</th>\n",
       "      <td>3</td>\n",
       "      <td>3</td>\n",
       "      <td>3</td>\n",
       "      <td>3</td>\n",
       "      <td>3</td>\n",
       "      <td>3</td>\n",
       "      <td>3</td>\n",
       "      <td>3</td>\n",
       "      <td>3</td>\n",
       "      <td>3</td>\n",
       "      <td>3</td>\n",
       "      <td>3</td>\n",
       "    </tr>\n",
       "    <tr>\n",
       "      <th>195</th>\n",
       "      <td>1</td>\n",
       "      <td>1</td>\n",
       "      <td>1</td>\n",
       "      <td>1</td>\n",
       "      <td>1</td>\n",
       "      <td>1</td>\n",
       "      <td>1</td>\n",
       "      <td>1</td>\n",
       "      <td>1</td>\n",
       "      <td>1</td>\n",
       "      <td>1</td>\n",
       "      <td>1</td>\n",
       "    </tr>\n",
       "    <tr>\n",
       "      <th>208</th>\n",
       "      <td>1</td>\n",
       "      <td>1</td>\n",
       "      <td>1</td>\n",
       "      <td>1</td>\n",
       "      <td>1</td>\n",
       "      <td>1</td>\n",
       "      <td>1</td>\n",
       "      <td>1</td>\n",
       "      <td>1</td>\n",
       "      <td>1</td>\n",
       "      <td>1</td>\n",
       "      <td>1</td>\n",
       "    </tr>\n",
       "  </tbody>\n",
       "</table>\n",
       "<p>143 rows × 12 columns</p>\n",
       "</div>"
      ],
      "text/plain": [
       "           order_id  order_status  wait_time  expected_wait_time  \\\n",
       "wait_time                                                          \n",
       "0                13            13         13                  13   \n",
       "1              1572          1572       1572                1572   \n",
       "2              3161          3161       3161                3161   \n",
       "3              3850          3850       3850                3850   \n",
       "4              4831          4831       4831                4831   \n",
       "...             ...           ...        ...                 ...   \n",
       "189               1             1          1                   1   \n",
       "191               1             1          1                   1   \n",
       "194               3             3          3                   3   \n",
       "195               1             1          1                   1   \n",
       "208               1             1          1                   1   \n",
       "\n",
       "           delay_vs_expected  dim_is_five_star  dim_is_one_star  review_score  \\\n",
       "wait_time                                                                       \n",
       "0                         13                13               13            13   \n",
       "1                       1572              1572             1572          1572   \n",
       "2                       3161              3161             3161          3161   \n",
       "3                       3850              3850             3850          3850   \n",
       "4                       4831              4831             4831          4831   \n",
       "...                      ...               ...              ...           ...   \n",
       "189                        1                 1                1             1   \n",
       "191                        1                 1                1             1   \n",
       "194                        3                 3                3             3   \n",
       "195                        1                 1                1             1   \n",
       "208                        1                 1                1             1   \n",
       "\n",
       "           number_of_products  number_of_sellers  price  freight_value  \n",
       "wait_time                                                               \n",
       "0                          13                 13     13             13  \n",
       "1                        1572               1572   1572           1572  \n",
       "2                        3161               3161   3161           3161  \n",
       "3                        3850               3850   3850           3850  \n",
       "4                        4831               4831   4831           4831  \n",
       "...                       ...                ...    ...            ...  \n",
       "189                         1                  1      1              1  \n",
       "191                         1                  1      1              1  \n",
       "194                         3                  3      3              3  \n",
       "195                         1                  1      1              1  \n",
       "208                         1                  1      1              1  \n",
       "\n",
       "[143 rows x 12 columns]"
      ]
     },
     "execution_count": 64,
     "metadata": {},
     "output_type": "execute_result"
    }
   ],
   "source": [
    "orders.groupby(orders['wait_time'].dt.days).count()"
   ]
  },
  {
   "cell_type": "markdown",
   "metadata": {},
   "source": [
    "❓ What do you notice for the variables `price` and `freight_value` ? \n",
    "\n",
    "❓ Have a look at the  `distance_seller_customer` feature if you have created it in `order.py`"
   ]
  },
  {
   "cell_type": "code",
   "execution_count": 0,
   "metadata": {
    "tags": [
     "challengify"
    ]
   },
   "outputs": [],
   "source": [
    "# YOUR CODE HERE"
   ]
  },
  {
   "cell_type": "markdown",
   "metadata": {},
   "source": [
    "❓Inspect the various correlations between features: which feature seems to the most correlated with `review_score`?\n",
    "\n",
    "<details>\n",
    "    <summary>▸ Hint</summary>\n",
    "\n",
    "* Use `DataFrame.corr()` combined with `sns.heatmap()` and `cmap='coolwarm'`\n",
    "* Have a look at the absolute values of the correlation coefficients of `review_score` vs. each feature,\n",
    "    * the higher the coefficient, the more one given feature is correlated (positively or negatively) with the `review_score`\n",
    "\n",
    "</details>"
   ]
  },
  {
   "cell_type": "code",
   "execution_count": 0,
   "metadata": {
    "tags": [
     "challengify"
    ]
   },
   "outputs": [],
   "source": [
    "# YOUR CODE HERE"
   ]
  },
  {
   "cell_type": "markdown",
   "metadata": {},
   "source": [
    "* 😏 _Captain Obvious :_\n",
    "    * `review_score` is 100% correlated to itself \n",
    "    * and strongly correlated to `dim_is_one_star` and `dim_is_five_star`...\n",
    "* ⚠️ The two next highest correlation coefficients with respect to the `review_score` are :\n",
    "    * `wait_time` : - 34 %\n",
    "    * `delay_vs_expected` : 27 %"
   ]
  },
  {
   "cell_type": "markdown",
   "metadata": {},
   "source": [
    "## 2 - Simple regression of `review_score` against delivery duration"
   ]
  },
  {
   "cell_type": "markdown",
   "metadata": {},
   "source": [
    "👉 So, it seems that `review_score` is mostly correlated with `wait_time` (= - 34%) and `delay_vs_expected` (27%).\n",
    "\n",
    "🎨 Let's investigate these correlations  with `seaborn`"
   ]
  },
  {
   "cell_type": "markdown",
   "metadata": {},
   "source": [
    "### 2.1 Plots\n",
    "❓ In one figure, create 2 subplots, that regress `review_score` on `wait_time` and `delay_vs_expected` respectively.\n",
    "\n",
    "<u>Tips</u>:\n",
    "\n",
    "- Reduce your dataframe to a random sub-`sample of 10,000 rows` for speed purposes (a good practice in data exploration)\n",
    "- Use `DataFrame.sample()` with a fixed `random_state` to avoid changing the sample at each execution if needed\n",
    "- Use `sns.regplot()` to plot the `regression lines`\n",
    "- Add some `y_jitter` parameters to better visualize the scatterplot density\n",
    "- Limit `xlim` and `ylim` to hide outliers"
   ]
  },
  {
   "cell_type": "code",
   "execution_count": 0,
   "metadata": {
    "tags": [
     "challengify"
    ]
   },
   "outputs": [],
   "source": [
    "# YOUR CODE HERE"
   ]
  },
  {
   "cell_type": "code",
   "execution_count": 0,
   "metadata": {
    "tags": [
     "challengify"
    ]
   },
   "outputs": [],
   "source": [
    "# YOUR CODE HERE"
   ]
  },
  {
   "cell_type": "markdown",
   "metadata": {},
   "source": [
    "ℹ️ What did `regplot` do ? \n",
    "\n",
    "👉 It tried to perform a `Linear Regression` of the `review_score` vs. `wait_time` and `delay_vs_exp` <br/> *(Cf. Day 03 - Linear Regression tomorrow)*\n",
    "\n",
    "🧐 It doesn't look so interpretable, does it ?\n",
    "\n",
    "👉 You are right: we have only 5  different review scores which can be interpreted as a categorical variable with five different possible values (for example: \"very bad\", \"bad\", \"average\", \"good\" and \"very good\") that we are trying to regress against two continuous values that are `review_scores` and `wait_time`.\n",
    "\n",
    "👀 However, based on the regression lines, we can see a very intuitive pattern: the longer the waiting time and/or the delay, the lower the review score - Well, not surprising. But how fast does the review score decrease ?\n"
   ]
  },
  {
   "cell_type": "markdown",
   "metadata": {},
   "source": [
    "### 2.2 Interpretation"
   ]
  },
  {
   "cell_type": "markdown",
   "metadata": {},
   "source": [
    "❓Try to visually \"compute\" the `slope` of each curve. \n",
    "\n",
    "✍️ Write down, in plain English, how you would interpret these coefficients if you were to explain it to a non-data-educated audience."
   ]
  },
  {
   "cell_type": "markdown",
   "metadata": {
    "tags": [
     "challengify"
    ]
   },
   "source": [
    "> YOUR ANSWER HERE"
   ]
  },
  {
   "cell_type": "markdown",
   "metadata": {},
   "source": [
    "<details>\n",
    "    <summary>▸ Answer</summary>\n",
    "\n",
    "\n",
    "- `Slope wait_time ≈ -0.05` : \"For each additional day waiting for an order to be delivered, the review score on average is reduced by 0.05\"\n",
    "- `Slope delay ≈ -0.1` : \"For each additional day waiting for an order to be delivered _after the ETA_, the review score on average is reduced by 0.1\"\n",
    "\n",
    "❓ Are you surprised that the delay seems more impactful than the waiting time ? \n",
    "    \n",
    "👉If yes, think about it twice: you may be impatient to receive your order and would like a small wait time, but you would be even more disappointed to receive your package after the expected delivery date !\n",
    "        \n",
    "</details>"
   ]
  },
  {
   "cell_type": "markdown",
   "metadata": {},
   "source": [
    "### 2.3 Inferential analysis\n",
    "\n",
    "Even if we had used all 100,000 orders for these regplots, these orders represent 16 months of data after all...\n",
    "\n",
    "⚠️⚠️⚠️ **How certain** are we that these coefficients are **statistically significant**? ⚠️⚠️⚠️\n",
    "\n",
    "⚡️ <u> Questions about the statistical significance of these coefficients: </u>\n",
    "\n",
    "* Are these coefficients able to generalize well to future orders (all else being equal) ? (*Ideal answer: Yes*) \n",
    "* Are we sure that these coefficients do not simply capture random fluctuations due to the limited observation period ? (*Ideal answer: No*) \n",
    "\n",
    "🧐 We need to estimate the **`confidence interval`** around the mean value for these two slopes  :\n",
    "$$slope_{wait} = -0.05 ± \\ ?? \\ \\text{[95% interval]} $$\n",
    "$$slope_{delay} = -0.1 ± \\ ?? \\ \\text{[95% interval]} $$\n",
    "\n",
    "⭐️ Fortunately, `Seaborn` already computes this 95% confidence interval for us with a shaded blue cone around the regression line!\n",
    "\n",
    "❓Use `Seaborn` `regplot` to visualize the two confidence intervals:\n",
    "- Change the `size of your sample dataset`: \n",
    "    - Notice how the slope may change as the sample size becomes smaller. \n",
    "    - What about the confidence interval?\n",
    "- Change the `size of the confidence interval` by playing with the regplot parameter called `ci` (95% by default)"
   ]
  },
  {
   "cell_type": "code",
   "execution_count": 0,
   "metadata": {
    "tags": [
     "challengify"
    ]
   },
   "outputs": [],
   "source": [
    "# YOUR CODE HERE"
   ]
  },
  {
   "cell_type": "markdown",
   "metadata": {},
   "source": [
    "🔎 Interpretation:\n",
    "\n",
    "* **Null Hypothesis** $H_0$ : \"this variable does not influence the review score\", a.k.a its coefficient is equal to zero\n",
    "\n",
    "When plotting all our datapoints:\n",
    "- The 95% confidence interval for the slope does not contain the value 0.\n",
    "    - 👉 We are `95% confident that slower deliveries are associated with weaker reviews`.\n",
    "- The **`p-value`** associated with the null hypothesis \"the delivery time is almost zero\" is lower than 5%\n",
    "    - 👉 We can safely reject this null hypothesis and consider the **`alternative hypothesis`** = `\"the delivery time has an impact on the review score\"` \n",
    "\n",
    "🔥 Our findings are said to be **statistically significant**. \n",
    "\n",
    "⚠️ However, **correlation does NOT imply causality**. \n",
    "\n",
    "- It can be inherently slower to deliver certain products (e.g.heavy products)\n",
    "    - These categories of products will often have a low review_score, not matter how long their delivery time is. \n",
    "\n",
    "👉 Identifying **confounding factor** is crucial and cannot be done with a simple univariate regression. \n",
    "\n",
    "🗓 Cf. `Lecture 3 - Linear Regression` : we will talk about **`multivariate linear regression`**. \n",
    "</details>\n",
    "\n"
   ]
  },
  {
   "cell_type": "markdown",
   "metadata": {},
   "source": [
    "---\n",
    "🏁 Congratulations! \n",
    "\n",
    "🙏 Don't forget to `commit` and `push` your notebook"
   ]
  },
  {
   "cell_type": "code",
   "execution_count": 0,
   "metadata": {},
   "outputs": [],
   "source": []
  }
 ],
 "metadata": {
  "kernelspec": {
   "display_name": "Python 3 (ipykernel)",
   "language": "python",
   "name": "python3"
  },
  "language_info": {
   "codemirror_mode": {
    "name": "ipython",
    "version": 3
   },
   "file_extension": ".py",
   "mimetype": "text/x-python",
   "name": "python",
   "nbconvert_exporter": "python",
   "pygments_lexer": "ipython3",
   "version": "3.8.12"
  },
  "toc": {
   "base_numbering": 1,
   "nav_menu": {},
   "number_sections": true,
   "sideBar": true,
   "skip_h1_title": false,
   "title_cell": "Table of Contents",
   "title_sidebar": "Contents",
   "toc_cell": false,
   "toc_position": {},
   "toc_section_display": true,
   "toc_window_display": false
  }
 },
 "nbformat": 4,
 "nbformat_minor": 4
}
