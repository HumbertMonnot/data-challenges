{
 "cells": [
  {
   "cell_type": "markdown",
   "metadata": {},
   "source": [
    "# Simple orders analysis"
   ]
  },
  {
   "cell_type": "markdown",
   "metadata": {},
   "source": [
    "We are finally ready to start analysing our order dataset!\n",
    "\n",
    "Our objectif is to get an initial understanding of\n",
    "- Orders properties\n",
    "- Their associated `review_scores`"
   ]
  },
  {
   "cell_type": "code",
   "execution_count": 1,
   "metadata": {},
   "outputs": [],
   "source": [
    "#import modules \n",
    "import pandas as pd\n",
    "import numpy as np \n",
    "import seaborn as sns\n",
    "import matplotlib.pyplot as plt"
   ]
  },
  {
   "cell_type": "code",
   "execution_count": 2,
   "metadata": {},
   "outputs": [],
   "source": [
    "%load_ext autoreload\n",
    "%autoreload 2"
   ]
  },
  {
   "cell_type": "code",
   "execution_count": null,
   "metadata": {
    "scrolled": true
   },
   "outputs": [],
   "source": [
    "# import your newly coded order training set\n",
    "from olist.order import Order\n",
    "data = Order().get_training_data()"
   ]
  },
  {
   "cell_type": "markdown",
   "metadata": {
    "slideshow": {
     "slide_type": "slide"
    }
   },
   "source": [
    "## 1 - Inspect features"
   ]
  },
  {
   "cell_type": "markdown",
   "metadata": {},
   "source": [
    "❓ Print summary statistics of each columns of the order dataset, and in particular `wait_time`\n",
    "\n",
    "<details>\n",
    "    <summary>Hint</summary>\n",
    "DataFrame.describe()\n",
    "</details>\n",
    "\n",
    "Plot various histograms to get a sens of each variable distribution.\n",
    "Try also to distinguish histograms distributions by `review_score`\n",
    "<details>\n",
    "    <summary>Hint</summary>\n",
    "You may use sns.FacetGrid() to create easily a grid of subplots histograms for each review score\n",
    "</details>\n",
    "\n",
    "What do you notice for variables `distance_seller_customer`, `price` and `freight_value` ?"
   ]
  },
  {
   "cell_type": "code",
   "execution_count": 36,
   "metadata": {},
   "outputs": [],
   "source": [
    "# Your plots here"
   ]
  },
  {
   "cell_type": "markdown",
   "metadata": {},
   "source": [
    "----\n",
    "❓Inspect the various correlation between features as much as possible. Which features seems most correlated with `review_score`?\n",
    "\n",
    "<details>\n",
    "    <summary>Hint</summary>\n",
    "You may try\n",
    "\n",
    "- `DataFrame.corr()` combined with `sns.heatmap()\n",
    "- Various plots, with variating hue etc...\n",
    "    - scatterplot\n",
    "    - `sns.pairplot()` for the whole dataframe (takes time!)\n",
    "</details>"
   ]
  },
  {
   "cell_type": "code",
   "execution_count": 44,
   "metadata": {},
   "outputs": [],
   "source": [
    "# Your plots here"
   ]
  },
  {
   "cell_type": "markdown",
   "metadata": {},
   "source": [
    "## 2 - Simple regression of `review_score` against delivery duration"
   ]
  },
  {
   "cell_type": "markdown",
   "metadata": {},
   "source": [
    "It seems that `review_score` is mostly correlated with `wait_time` (r = 33%) and `delay_vs_expected` (r=27%).\n",
    "Let's investigate these relationship more closely with seaborn"
   ]
  },
  {
   "cell_type": "markdown",
   "metadata": {},
   "source": [
    "### 2.1 Plots\n",
    "❓ In one figure, create 2 subplots, that regress `review_score` on `wait_time` and `delay_vs_expected` respectively\n",
    "\n",
    "Hints:\n",
    "- Use `sns.regplot()` to plot the regression line\n",
    "- Reduce your dataframe to a random subsample of 10,000 row out of 100,000 for speed purpose (a good practice in data exploration phase)\n",
    "    - use `DataFrame.sample()` with a fixed `random_state` to avoid changing sample at each execution if needed\n",
    "- Don't hesitate to zoom on plausible values by limit `xlim` and `ylim` to hide outliers\n",
    "- Add some `y_jitter` parameters to better visualize scatterplot density"
   ]
  },
  {
   "cell_type": "code",
   "execution_count": 1,
   "metadata": {},
   "outputs": [],
   "source": [
    "# SUB-SAMPLE YOUR DATASET"
   ]
  },
  {
   "cell_type": "code",
   "execution_count": null,
   "metadata": {
    "scrolled": true
   },
   "outputs": [],
   "source": [
    "# YOUR PLOT HERE"
   ]
  },
  {
   "cell_type": "markdown",
   "metadata": {},
   "source": [
    "### 2.2 Interpretation"
   ]
  },
  {
   "cell_type": "markdown",
   "metadata": {},
   "source": [
    "❓Try to compute visually the `slope` of each curves. \n",
    "\n",
    "Write down, in plain english, how would you interpret these coefficient, if you were to explain it to someone not fluent in math."
   ]
  },
  {
   "cell_type": "markdown",
   "metadata": {},
   "source": [
    "✏️ Your answer below:\n"
   ]
  },
  {
   "cell_type": "markdown",
   "metadata": {},
   "source": [
    "- Slope wait_time = ??? : #your interpretation here\n",
    "- Slope delay = ??? : #your interpretation here\n"
   ]
  },
  {
   "cell_type": "markdown",
   "metadata": {},
   "source": [
    "---- \n",
    "**Let's step back**\n",
    "\n",
    "These slope coefficient have been computed only for a limited sample of order transaction. 100,000 for the whole dataset, or much less if you randomly sub-sampled it. \n",
    "\n",
    "How certain can we be that these slope coefficients are statistically significant? i.e that they are not statistical artefacts of the sample dataset?\n",
    "\n",
    "After all, our kaggle dataset is only for 2017, and may well have been sampled from a bigger list of orders?\n",
    "Can we be confident these coefficient may hold true as new orders are placed?\n",
    "\n",
    "We need to estimate **confidence interval** around the mean value for these slope  \n",
    "$$slope_{wait} = -0.05 ± \\ ?? \\ \\text{[95% interval]} $$\n",
    "$$slope_{delay} = -0.1 ± \\ ?? \\ \\text{[95% interval]} $$\n",
    "\n",
    "Fortunately, seaborn already computes this 95% confidence interval for us the **shaded blue cone** around regression line!\n",
    "\n",
    "----\n",
    "❓Your time to plot:\n",
    "- First, convince yourself that the slope coefficient depends on the size of the sample by sub-sampling your dataset into very small size. Notice how the slope coefficient may even sometime become positive for very small sub-samples, wrongly suggesting the opposite relation.\n",
    "- Second, make use the full dataset to visualize the 95% confidence interval with seaborn\n",
    "- Third, change the size of the confidence interval by playing with regplot `ci` parameter"
   ]
  },
  {
   "cell_type": "code",
   "execution_count": null,
   "metadata": {
    "scrolled": true
   },
   "outputs": [],
   "source": [
    "# YOUR PLOT HERE"
   ]
  },
  {
   "cell_type": "markdown",
   "metadata": {},
   "source": [
    "----\n",
    "**Conclusion**\n",
    "\n",
    "- The 95% confidence interval for the slope does not contains the value 0.\n",
    "- We are 95% confident that slower deliveries are associated with weaker reviews.\n",
    "- The `p-value` associated with the null-hypothesis \"review_score are not related with delivery duration\" would be quite low, and we could safely reject it. \n",
    "\n",
    "$\\implies$ Our results are said to be **statistically significant**. \n",
    "\n",
    "However, **correlation does not implies causality**. It may well be that some products, which happen to be inherently slow to deliver on average (heavy ones maybe?), also happen to have consistent low review_score, whatever time it takes to be delivered. Identifying these **counfounding factor** is crucial and cannot be done with simple univariate regression. We will see tomorrow the power of multivariate linear regression for that matter. "
   ]
  }
 ],
 "metadata": {
  "kernelspec": {
   "display_name": "Python 3",
   "language": "python",
   "name": "python3"
  },
  "language_info": {
   "codemirror_mode": {
    "name": "ipython",
    "version": 3
   },
   "file_extension": ".py",
   "mimetype": "text/x-python",
   "name": "python",
   "nbconvert_exporter": "python",
   "pygments_lexer": "ipython3",
   "version": "3.7.7"
  },
  "toc": {
   "base_numbering": 1,
   "nav_menu": {},
   "number_sections": false,
   "sideBar": true,
   "skip_h1_title": false,
   "title_cell": "Table of Contents",
   "title_sidebar": "Contents",
   "toc_cell": false,
   "toc_position": {
    "height": "calc(100% - 180px)",
    "left": "10px",
    "top": "150px",
    "width": "273.194px"
   },
   "toc_section_display": true,
   "toc_window_display": true
  },
  "varInspector": {
   "cols": {
    "lenName": 16,
    "lenType": 16,
    "lenVar": 40
   },
   "kernels_config": {
    "python": {
     "delete_cmd_postfix": "",
     "delete_cmd_prefix": "del ",
     "library": "var_list.py",
     "varRefreshCmd": "print(var_dic_list())"
    },
    "r": {
     "delete_cmd_postfix": ") ",
     "delete_cmd_prefix": "rm(",
     "library": "var_list.r",
     "varRefreshCmd": "cat(var_dic_list()) "
    }
   },
   "types_to_exclude": [
    "module",
    "function",
    "builtin_function_or_method",
    "instance",
    "_Feature"
   ],
   "window_display": false
  }
 },
 "nbformat": 4,
 "nbformat_minor": 2
}
