{
 "cells": [
  {
   "cell_type": "markdown",
   "metadata": {},
   "source": [
    "# Part 1: Working with Regex"
   ]
  },
  {
   "cell_type": "code",
   "execution_count": 1,
   "metadata": {
    "tags": [
     "challengify"
    ]
   },
   "outputs": [],
   "source": [
    "import numpy as np\n",
    "import pandas as pd\n",
    "%matplotlib inline\n",
    "import matplotlib\n",
    "import re"
   ]
  },
  {
   "cell_type": "code",
   "execution_count": 2,
   "metadata": {},
   "outputs": [
    {
     "data": {
      "text/plain": [
       "['0664533519']"
      ]
     },
     "execution_count": 2,
     "metadata": {},
     "output_type": "execute_result"
    }
   ],
   "source": [
    "pattern = r\"\\d{10}\"\n",
    "text_to_search = \"Hello my name is sebastien, you can call me on 0664533519. See you!\"\n",
    "re.findall(pattern, text_to_search)"
   ]
  },
  {
   "cell_type": "code",
   "execution_count": 3,
   "metadata": {},
   "outputs": [
    {
     "data": {
      "text/plain": [
       "[]"
      ]
     },
     "execution_count": 3,
     "metadata": {},
     "output_type": "execute_result"
    }
   ],
   "source": [
    "zip_code_pattern = r\"\\d{5}\"\n",
    "text = \"I moved to Paris 75011, it's closer to my workplace.\"\n",
    "re.findall(pattern, text)"
   ]
  },
  {
   "cell_type": "code",
   "execution_count": 4,
   "metadata": {},
   "outputs": [
    {
     "data": {
      "text/plain": [
       "['date of', 'date of']"
      ]
     },
     "execution_count": 4,
     "metadata": {},
     "output_type": "execute_result"
    }
   ],
   "source": [
    "pattern = r\"date of\"\n",
    "text_to_search = \"The date of creation is 2019/03/12 and date of expiration is 2021/03/01\"\n",
    "re.findall(pattern, text_to_search)"
   ]
  },
  {
   "cell_type": "code",
   "execution_count": 5,
   "metadata": {},
   "outputs": [
    {
     "data": {
      "text/plain": [
       "['date of', 'date of']"
      ]
     },
     "execution_count": 5,
     "metadata": {},
     "output_type": "execute_result"
    }
   ],
   "source": [
    "date_pattern = r\"\\d{4}/\\d{2}/\\d{2}\"\n",
    "text_to_search = \"The date of creation is 2019/03/12 and date of expiration is 2021/03/01\"\n",
    "re.findall(pattern, text_to_search)"
   ]
  },
  {
   "cell_type": "code",
   "execution_count": 6,
   "metadata": {},
   "outputs": [
    {
     "data": {
      "text/plain": [
       "[]"
      ]
     },
     "execution_count": 6,
     "metadata": {},
     "output_type": "execute_result"
    }
   ],
   "source": [
    "date_pattern = r\"\\d{2}-\\d{2}-\\d{4}\"\n",
    "text = \"Receipt Number 103402 ||| 15-02-2017\"\n",
    "re.findall(pattern, text)"
   ]
  },
  {
   "cell_type": "code",
   "execution_count": 7,
   "metadata": {},
   "outputs": [
    {
     "data": {
      "text/plain": [
       "['103402']"
      ]
     },
     "execution_count": 7,
     "metadata": {},
     "output_type": "execute_result"
    }
   ],
   "source": [
    "pattern = r\"Receipt Number (\\d+)\"\n",
    "text_to_search = \"Receipt Number 103402 ||| 15-02-2017\"\n",
    "re.findall(pattern, text_to_search)"
   ]
  },
  {
   "cell_type": "code",
   "execution_count": 8,
   "metadata": {},
   "outputs": [],
   "source": [
    "quantity_pattern = r\"Quantity +\\d+\""
   ]
  },
  {
   "cell_type": "code",
   "execution_count": 9,
   "metadata": {},
   "outputs": [],
   "source": [
    "amount_pattern = r\"Total Amount +\\d+\\.\\d{2} €\""
   ]
  },
  {
   "cell_type": "code",
   "execution_count": 10,
   "metadata": {},
   "outputs": [
    {
     "data": {
      "text/plain": [
       "['32']"
      ]
     },
     "execution_count": 10,
     "metadata": {},
     "output_type": "execute_result"
    }
   ],
   "source": [
    "quantity_group_pattern = r\"Quantity +(\\d+)\"\n",
    "text = \"Quantity              32\"\n",
    "re.findall(quantity_group_pattern, text)"
   ]
  },
  {
   "cell_type": "code",
   "execution_count": 11,
   "metadata": {},
   "outputs": [
    {
     "data": {
      "text/plain": [
       "['3097.00']"
      ]
     },
     "execution_count": 11,
     "metadata": {},
     "output_type": "execute_result"
    }
   ],
   "source": [
    "amount_group_pattern = r\"Total Amount +(\\d+.\\d{2}) €\"\n",
    "text = \"Total Amount               3097.00 €\"\n",
    "re.findall(amount_group_pattern, text)"
   ]
  },
  {
   "cell_type": "code",
   "execution_count": 12,
   "metadata": {},
   "outputs": [
    {
     "name": "stdout",
     "output_type": "stream",
     "text": [
      "\u001b[1m============================= test session starts ==============================\u001b[0m\n",
      "platform darwin -- Python 3.8.12, pytest-6.2.5, py-1.11.0, pluggy-1.0.0 -- /Users/humbert/.pyenv/versions/lewagon/bin/python3\n",
      "cachedir: .pytest_cache\n",
      "rootdir: /Users/humbert/code/HumbertMonnot/data-challenges/02-Data-Toolkit/02-Data-Sourcing/03-Text-Extraction-with-Regex\n",
      "plugins: anyio-3.4.0, dash-2.0.0\n",
      "\u001b[1mcollecting ... \u001b[0mcollected 6 items\n",
      "\n",
      "tests/test_patterns.py::TestPatterns::test_amount_group_pattern \u001b[32mPASSED\u001b[0m\u001b[32m   [ 16%]\u001b[0m\n",
      "tests/test_patterns.py::TestPatterns::test_amount_pattern \u001b[32mPASSED\u001b[0m\u001b[32m         [ 33%]\u001b[0m\n",
      "tests/test_patterns.py::TestPatterns::test_date_pattern \u001b[32mPASSED\u001b[0m\u001b[32m           [ 50%]\u001b[0m\n",
      "tests/test_patterns.py::TestPatterns::test_quantity_group_pattern \u001b[32mPASSED\u001b[0m\u001b[32m [ 66%]\u001b[0m\n",
      "tests/test_patterns.py::TestPatterns::test_quantity_pattern \u001b[32mPASSED\u001b[0m\u001b[32m       [ 83%]\u001b[0m\n",
      "tests/test_patterns.py::TestPatterns::test_zip_code_pattern \u001b[32mPASSED\u001b[0m\u001b[32m       [100%]\u001b[0m\n",
      "\n",
      "\u001b[32m============================== \u001b[32m\u001b[1m6 passed\u001b[0m\u001b[32m in 0.02s\u001b[0m\u001b[32m ===============================\u001b[0m\n",
      "\n",
      "\n",
      "💯 You can commit your code:\n",
      "\n",
      "\u001b[1;32mgit\u001b[39m add tests/patterns.pickle\n",
      "\n",
      "\u001b[32mgit\u001b[39m commit -m \u001b[33m'Completed patterns step'\u001b[39m\n",
      "\n",
      "\u001b[32mgit\u001b[39m push origin master\n"
     ]
    }
   ],
   "source": [
    "from nbresult import ChallengeResult\n",
    "\n",
    "result = ChallengeResult('patterns',\n",
    "    zipcode_re=zip_code_pattern,\n",
    "    date_re=date_pattern,\n",
    "    quantity_re=quantity_pattern,\n",
    "                         \n",
    "    amount_re=amount_pattern,\n",
    "    quantity_grp_re=quantity_group_pattern,\n",
    "    amount_grp_re=amount_group_pattern\n",
    ")\n",
    "result.write()\n",
    "print(result.check())"
   ]
  },
  {
   "cell_type": "markdown",
   "metadata": {},
   "source": [
    "# Part 2: From a text file to a DataFrame"
   ]
  },
  {
   "cell_type": "code",
   "execution_count": 13,
   "metadata": {
    "tags": [
     "challengify"
    ]
   },
   "outputs": [],
   "source": [
    "filepath = \"data/receipts.txt\"\n",
    "with open(filepath, encoding=\"utf-8\") as f:\n",
    "    receipts_str = f.read()"
   ]
  },
  {
   "cell_type": "code",
   "execution_count": 14,
   "metadata": {},
   "outputs": [
    {
     "name": "stdout",
     "output_type": "stream",
     "text": [
      "\n",
      "\n",
      "\n",
      "Receipt Number 102790 ||| 02-01-2017 \n",
      "------------------------------------\n",
      "\n",
      "Quantity                         163\n",
      "Total Amount               3097.00 €\n",
      "\n",
      "====================================\n",
      "************************************\n",
      "\n",
      "\n",
      "Receipt Number 102862 ||| 05-01-2017 \n",
      "------------------------------------\n",
      "\n",
      "Quantity                         110\n",
      "Total Amount                935.00 €\n",
      "\n",
      "====================================\n",
      "************************************\n",
      "\n",
      "\n",
      "Receipt Number 103086 ||| 23-01-2017 \n",
      "-----\n"
     ]
    }
   ],
   "source": [
    "print(receipts_str[:500])"
   ]
  },
  {
   "cell_type": "code",
   "execution_count": 15,
   "metadata": {},
   "outputs": [],
   "source": [
    "receipts_list = receipts_str.split(\"====================================\\n************************************\")"
   ]
  },
  {
   "cell_type": "code",
   "execution_count": 16,
   "metadata": {},
   "outputs": [
    {
     "data": {
      "text/plain": [
       "100"
      ]
     },
     "execution_count": 16,
     "metadata": {},
     "output_type": "execute_result"
    }
   ],
   "source": [
    "len(receipts_list)"
   ]
  },
  {
   "cell_type": "code",
   "execution_count": 17,
   "metadata": {},
   "outputs": [],
   "source": [
    "receipts_dict = {\n",
    "    \"date\": [],\n",
    "    \"quantity\": [],\n",
    "    \"amount\": []\n",
    "}\n",
    "for receipt in receipts_list:\n",
    "    receipts_dict[\"date\"].append(re.findall(date_pattern, receipt)[0])\n",
    "    receipts_dict[\"quantity\"].append(re.findall(quantity_group_pattern, receipt)[0])\n",
    "    receipts_dict[\"amount\"].append(re.findall(amount_group_pattern, receipt)[0])"
   ]
  },
  {
   "cell_type": "code",
   "execution_count": 18,
   "metadata": {},
   "outputs": [
    {
     "name": "stdout",
     "output_type": "stream",
     "text": [
      "{'amount': ['3097.00',\n",
      "            '935.00',\n",
      "            '2808.00',\n",
      "            '4368.00',\n",
      "            '1988.50',\n",
      "            '3586.00',\n",
      "            '5017.50',\n",
      "            '2756.00',\n",
      "            '3060.00',\n",
      "            '2686.00',\n",
      "            '2584.00',\n",
      "            '2835.00',\n",
      "            '2613.00',\n",
      "            '3344.00',\n",
      "            '2847.00',\n",
      "            '4475.00',\n",
      "            '1660.00',\n",
      "            '2164.50',\n",
      "            '2115.00',\n",
      "            '3375.00',\n",
      "            '1595.00',\n",
      "            '4600.00',\n",
      "            '4753.00',\n",
      "            '1390.50',\n",
      "            '4611.00',\n",
      "            '3021.00',\n",
      "            '3577.50',\n",
      "            '1342.00',\n",
      "            '6016.50',\n",
      "            '1269.00',\n",
      "            '3085.50',\n",
      "            '1891.50',\n",
      "            '3569.00',\n",
      "            '3850.00',\n",
      "            '3312.00',\n",
      "            '4735.50',\n",
      "            '2945.00',\n",
      "            '4116.00',\n",
      "            '2310.00',\n",
      "            '1998.00',\n",
      "            '4379.00',\n",
      "            '3373.50',\n",
      "            '4444.00',\n",
      "            '4584.50',\n",
      "            '4036.50',\n",
      "            '3052.50',\n",
      "            '2142.00',\n",
      "            '3161.00',\n",
      "            '2384.00',\n",
      "            '3053.50',\n",
      "            '1483.50',\n",
      "            '1274.00',\n",
      "            '3892.00',\n",
      "            '3496.00',\n",
      "            '2380.00',\n",
      "            '1596.00',\n",
      "            '990.00',\n",
      "            '2788.00',\n",
      "            '4429.00',\n",
      "            '4071.00',\n",
      "            '2059.00',\n",
      "            '2163.00',\n",
      "            '2574.00',\n",
      "            '2070.00',\n",
      "            '2478.00',\n",
      "            '4275.00',\n",
      "            '2359.50',\n",
      "            '4875.50',\n",
      "            '2369.00',\n",
      "            '2398.00',\n",
      "            '4849.50',\n",
      "            '5112.00',\n",
      "            '2646.00',\n",
      "            '1855.00',\n",
      "            '4873.50',\n",
      "            '1426.00',\n",
      "            '3410.00',\n",
      "            '3944.50',\n",
      "            '2854.50',\n",
      "            '3888.00',\n",
      "            '3744.00',\n",
      "            '6678.00',\n",
      "            '2924.00',\n",
      "            '3741.00',\n",
      "            '2816.00',\n",
      "            '2135.00',\n",
      "            '3725.00',\n",
      "            '2805.50',\n",
      "            '2244.00',\n",
      "            '4819.50',\n",
      "            '4152.50',\n",
      "            '3096.00',\n",
      "            '4214.00',\n",
      "            '2015.00',\n",
      "            '2316.50',\n",
      "            '1936.00',\n",
      "            '4743.50',\n",
      "            '2484.00',\n",
      "            '2605.50',\n",
      "            '1850.00'],\n",
      " 'date': ['02-01-2017',\n",
      "          '05-01-2017',\n",
      "          '23-01-2017',\n",
      "          '31-01-2017',\n",
      "          '06-02-2017',\n",
      "          '15-02-2017',\n",
      "          '16-02-2017',\n",
      "          '17-02-2017',\n",
      "          '21-02-2017',\n",
      "          '27-02-2017',\n",
      "          '28-02-2017',\n",
      "          '01-03-2017',\n",
      "          '08-03-2017',\n",
      "          '09-03-2017',\n",
      "          '17-03-2017',\n",
      "          '21-03-2017',\n",
      "          '21-03-2017',\n",
      "          '22-03-2017',\n",
      "          '22-03-2017',\n",
      "          '27-03-2017',\n",
      "          '31-03-2017',\n",
      "          '07-04-2017',\n",
      "          '11-04-2017',\n",
      "          '14-04-2017',\n",
      "          '17-04-2017',\n",
      "          '18-04-2017',\n",
      "          '19-04-2017',\n",
      "          '20-04-2017',\n",
      "          '24-04-2017',\n",
      "          '02-05-2017',\n",
      "          '05-05-2017',\n",
      "          '12-05-2017',\n",
      "          '15-05-2017',\n",
      "          '15-05-2017',\n",
      "          '17-05-2017',\n",
      "          '18-05-2017',\n",
      "          '19-05-2017',\n",
      "          '22-05-2017',\n",
      "          '24-05-2017',\n",
      "          '30-05-2017',\n",
      "          '02-06-2017',\n",
      "          '12-06-2017',\n",
      "          '14-06-2017',\n",
      "          '15-06-2017',\n",
      "          '16-06-2017',\n",
      "          '19-06-2017',\n",
      "          '19-06-2017',\n",
      "          '30-06-2017',\n",
      "          '03-07-2017',\n",
      "          '04-07-2017',\n",
      "          '05-07-2017',\n",
      "          '05-07-2017',\n",
      "          '07-07-2017',\n",
      "          '11-07-2017',\n",
      "          '11-07-2017',\n",
      "          '13-07-2017',\n",
      "          '13-07-2017',\n",
      "          '19-07-2017',\n",
      "          '20-07-2017',\n",
      "          '21-07-2017',\n",
      "          '24-07-2017',\n",
      "          '25-07-2017',\n",
      "          '25-07-2017',\n",
      "          '25-07-2017',\n",
      "          '25-07-2017',\n",
      "          '27-07-2017',\n",
      "          '31-07-2017',\n",
      "          '01-08-2017',\n",
      "          '04-08-2017',\n",
      "          '07-08-2017',\n",
      "          '08-08-2017',\n",
      "          '09-08-2017',\n",
      "          '14-08-2017',\n",
      "          '15-08-2017',\n",
      "          '16-08-2017',\n",
      "          '24-08-2017',\n",
      "          '28-08-2017',\n",
      "          '30-08-2017',\n",
      "          '31-08-2017',\n",
      "          '04-09-2017',\n",
      "          '05-09-2017',\n",
      "          '06-09-2017',\n",
      "          '07-09-2017',\n",
      "          '13-09-2017',\n",
      "          '18-09-2017',\n",
      "          '18-09-2017',\n",
      "          '19-09-2017',\n",
      "          '19-09-2017',\n",
      "          '20-09-2017',\n",
      "          '21-09-2017',\n",
      "          '21-09-2017',\n",
      "          '27-09-2017',\n",
      "          '28-09-2017',\n",
      "          '29-09-2017',\n",
      "          '04-10-2017',\n",
      "          '09-10-2017',\n",
      "          '12-10-2017',\n",
      "          '26-10-2017',\n",
      "          '12-12-2017',\n",
      "          '15-12-2017'],\n",
      " 'quantity': ['163',\n",
      "              '110',\n",
      "              '156',\n",
      "              '182',\n",
      "              '97',\n",
      "              '163',\n",
      "              '223',\n",
      "              '104',\n",
      "              '153',\n",
      "              '158',\n",
      "              '152',\n",
      "              '105',\n",
      "              '134',\n",
      "              '176',\n",
      "              '219',\n",
      "              '179',\n",
      "              '166',\n",
      "              '117',\n",
      "              '94',\n",
      "              '150',\n",
      "              '145',\n",
      "              '230',\n",
      "              '194',\n",
      "              '103',\n",
      "              '174',\n",
      "              '159',\n",
      "              '159',\n",
      "              '61',\n",
      "              '191',\n",
      "              '47',\n",
      "              '121',\n",
      "              '97',\n",
      "              '166',\n",
      "              '154',\n",
      "              '184',\n",
      "              '231',\n",
      "              '155',\n",
      "              '196',\n",
      "              '165',\n",
      "              '111',\n",
      "              '151',\n",
      "              '173',\n",
      "              '202',\n",
      "              '173',\n",
      "              '207',\n",
      "              '165',\n",
      "              '119',\n",
      "              '109',\n",
      "              '149',\n",
      "              '197',\n",
      "              '129',\n",
      "              '98',\n",
      "              '139',\n",
      "              '184',\n",
      "              '119',\n",
      "              '84',\n",
      "              '55',\n",
      "              '164',\n",
      "              '206',\n",
      "              '177',\n",
      "              '142',\n",
      "              '103',\n",
      "              '132',\n",
      "              '90',\n",
      "              '118',\n",
      "              '225',\n",
      "              '121',\n",
      "              '199',\n",
      "              '206',\n",
      "              '109',\n",
      "              '183',\n",
      "              '213',\n",
      "              '147',\n",
      "              '70',\n",
      "              '171',\n",
      "              '124',\n",
      "              '155',\n",
      "              '161',\n",
      "              '173',\n",
      "              '162',\n",
      "              '192',\n",
      "              '212',\n",
      "              '136',\n",
      "              '174',\n",
      "              '128',\n",
      "              '122',\n",
      "              '149',\n",
      "              '181',\n",
      "              '136',\n",
      "              '189',\n",
      "              '151',\n",
      "              '172',\n",
      "              '172',\n",
      "              '155',\n",
      "              '113',\n",
      "              '121',\n",
      "              '179',\n",
      "              '108',\n",
      "              '193',\n",
      "              '148']}\n"
     ]
    }
   ],
   "source": [
    "from pprint import pprint\n",
    "pprint(receipts_dict)"
   ]
  },
  {
   "cell_type": "code",
   "execution_count": 19,
   "metadata": {},
   "outputs": [
    {
     "data": {
      "text/html": [
       "<div>\n",
       "<style scoped>\n",
       "    .dataframe tbody tr th:only-of-type {\n",
       "        vertical-align: middle;\n",
       "    }\n",
       "\n",
       "    .dataframe tbody tr th {\n",
       "        vertical-align: top;\n",
       "    }\n",
       "\n",
       "    .dataframe thead th {\n",
       "        text-align: right;\n",
       "    }\n",
       "</style>\n",
       "<table border=\"1\" class=\"dataframe\">\n",
       "  <thead>\n",
       "    <tr style=\"text-align: right;\">\n",
       "      <th></th>\n",
       "      <th>date</th>\n",
       "      <th>quantity</th>\n",
       "      <th>amount</th>\n",
       "    </tr>\n",
       "  </thead>\n",
       "  <tbody>\n",
       "    <tr>\n",
       "      <th>0</th>\n",
       "      <td>02-01-2017</td>\n",
       "      <td>163</td>\n",
       "      <td>3097.00</td>\n",
       "    </tr>\n",
       "    <tr>\n",
       "      <th>1</th>\n",
       "      <td>05-01-2017</td>\n",
       "      <td>110</td>\n",
       "      <td>935.00</td>\n",
       "    </tr>\n",
       "    <tr>\n",
       "      <th>2</th>\n",
       "      <td>23-01-2017</td>\n",
       "      <td>156</td>\n",
       "      <td>2808.00</td>\n",
       "    </tr>\n",
       "    <tr>\n",
       "      <th>3</th>\n",
       "      <td>31-01-2017</td>\n",
       "      <td>182</td>\n",
       "      <td>4368.00</td>\n",
       "    </tr>\n",
       "    <tr>\n",
       "      <th>4</th>\n",
       "      <td>06-02-2017</td>\n",
       "      <td>97</td>\n",
       "      <td>1988.50</td>\n",
       "    </tr>\n",
       "    <tr>\n",
       "      <th>...</th>\n",
       "      <td>...</td>\n",
       "      <td>...</td>\n",
       "      <td>...</td>\n",
       "    </tr>\n",
       "    <tr>\n",
       "      <th>95</th>\n",
       "      <td>09-10-2017</td>\n",
       "      <td>121</td>\n",
       "      <td>1936.00</td>\n",
       "    </tr>\n",
       "    <tr>\n",
       "      <th>96</th>\n",
       "      <td>12-10-2017</td>\n",
       "      <td>179</td>\n",
       "      <td>4743.50</td>\n",
       "    </tr>\n",
       "    <tr>\n",
       "      <th>97</th>\n",
       "      <td>26-10-2017</td>\n",
       "      <td>108</td>\n",
       "      <td>2484.00</td>\n",
       "    </tr>\n",
       "    <tr>\n",
       "      <th>98</th>\n",
       "      <td>12-12-2017</td>\n",
       "      <td>193</td>\n",
       "      <td>2605.50</td>\n",
       "    </tr>\n",
       "    <tr>\n",
       "      <th>99</th>\n",
       "      <td>15-12-2017</td>\n",
       "      <td>148</td>\n",
       "      <td>1850.00</td>\n",
       "    </tr>\n",
       "  </tbody>\n",
       "</table>\n",
       "<p>100 rows × 3 columns</p>\n",
       "</div>"
      ],
      "text/plain": [
       "          date quantity   amount\n",
       "0   02-01-2017      163  3097.00\n",
       "1   05-01-2017      110   935.00\n",
       "2   23-01-2017      156  2808.00\n",
       "3   31-01-2017      182  4368.00\n",
       "4   06-02-2017       97  1988.50\n",
       "..         ...      ...      ...\n",
       "95  09-10-2017      121  1936.00\n",
       "96  12-10-2017      179  4743.50\n",
       "97  26-10-2017      108  2484.00\n",
       "98  12-12-2017      193  2605.50\n",
       "99  15-12-2017      148  1850.00\n",
       "\n",
       "[100 rows x 3 columns]"
      ]
     },
     "execution_count": 19,
     "metadata": {},
     "output_type": "execute_result"
    }
   ],
   "source": [
    "receipts_df = pd.DataFrame(receipts_dict)\n",
    "receipts_df"
   ]
  },
  {
   "cell_type": "code",
   "execution_count": 20,
   "metadata": {},
   "outputs": [
    {
     "name": "stdout",
     "output_type": "stream",
     "text": [
      "\u001b[1m============================= test session starts ==============================\u001b[0m\n",
      "platform darwin -- Python 3.8.12, pytest-6.2.5, py-1.11.0, pluggy-1.0.0 -- /Users/humbert/.pyenv/versions/lewagon/bin/python3\n",
      "cachedir: .pytest_cache\n",
      "rootdir: /Users/humbert/code/HumbertMonnot/data-challenges/02-Data-Toolkit/02-Data-Sourcing/03-Text-Extraction-with-Regex\n",
      "plugins: anyio-3.4.0, dash-2.0.0\n",
      "\u001b[1mcollecting ... \u001b[0mcollected 4 items\n",
      "\n",
      "tests/test_receipts.py::TestReceipts::test_receipt \u001b[32mPASSED\u001b[0m\u001b[32m                [ 25%]\u001b[0m\n",
      "tests/test_receipts.py::TestReceipts::test_receipts_df_size \u001b[32mPASSED\u001b[0m\u001b[32m       [ 50%]\u001b[0m\n",
      "tests/test_receipts.py::TestReceipts::test_receipts_dict \u001b[32mPASSED\u001b[0m\u001b[32m          [ 75%]\u001b[0m\n",
      "tests/test_receipts.py::TestReceipts::test_receipts_list \u001b[32mPASSED\u001b[0m\u001b[32m          [100%]\u001b[0m\n",
      "\n",
      "\u001b[32m============================== \u001b[32m\u001b[1m4 passed\u001b[0m\u001b[32m in 0.38s\u001b[0m\u001b[32m ===============================\u001b[0m\n",
      "\n",
      "\n",
      "💯 You can commit your code:\n",
      "\n",
      "\u001b[1;32mgit\u001b[39m add tests/receipts.pickle\n",
      "\n",
      "\u001b[32mgit\u001b[39m commit -m \u001b[33m'Completed receipts step'\u001b[39m\n",
      "\n",
      "\u001b[32mgit\u001b[39m push origin master\n"
     ]
    }
   ],
   "source": [
    "from nbresult import ChallengeResult\n",
    "\n",
    "result = ChallengeResult('receipts',\n",
    "    raw=receipts_list,\n",
    "    receipts=receipts_dict,\n",
    "    df_size=receipts_df.shape,\n",
    "    receipt=receipts_df.iloc[-1, :]\n",
    ")\n",
    "result.write()\n",
    "print(result.check())"
   ]
  },
  {
   "cell_type": "markdown",
   "metadata": {},
   "source": [
    "# Part 3: Data Visualization"
   ]
  },
  {
   "cell_type": "code",
   "execution_count": 21,
   "metadata": {
    "tags": [
     "challengify"
    ]
   },
   "outputs": [],
   "source": [
    "receipts_df['date']=pd.to_datetime(receipts_df['date'], format = '%d-%m-%Y')"
   ]
  },
  {
   "cell_type": "code",
   "execution_count": 22,
   "metadata": {},
   "outputs": [
    {
     "data": {
      "text/html": [
       "<div>\n",
       "<style scoped>\n",
       "    .dataframe tbody tr th:only-of-type {\n",
       "        vertical-align: middle;\n",
       "    }\n",
       "\n",
       "    .dataframe tbody tr th {\n",
       "        vertical-align: top;\n",
       "    }\n",
       "\n",
       "    .dataframe thead th {\n",
       "        text-align: right;\n",
       "    }\n",
       "</style>\n",
       "<table border=\"1\" class=\"dataframe\">\n",
       "  <thead>\n",
       "    <tr style=\"text-align: right;\">\n",
       "      <th></th>\n",
       "      <th>date</th>\n",
       "      <th>quantity</th>\n",
       "      <th>amount</th>\n",
       "    </tr>\n",
       "  </thead>\n",
       "  <tbody>\n",
       "    <tr>\n",
       "      <th>0</th>\n",
       "      <td>2017-01-02</td>\n",
       "      <td>163</td>\n",
       "      <td>3097.00</td>\n",
       "    </tr>\n",
       "    <tr>\n",
       "      <th>1</th>\n",
       "      <td>2017-01-05</td>\n",
       "      <td>110</td>\n",
       "      <td>935.00</td>\n",
       "    </tr>\n",
       "    <tr>\n",
       "      <th>2</th>\n",
       "      <td>2017-01-23</td>\n",
       "      <td>156</td>\n",
       "      <td>2808.00</td>\n",
       "    </tr>\n",
       "    <tr>\n",
       "      <th>3</th>\n",
       "      <td>2017-01-31</td>\n",
       "      <td>182</td>\n",
       "      <td>4368.00</td>\n",
       "    </tr>\n",
       "    <tr>\n",
       "      <th>4</th>\n",
       "      <td>2017-02-06</td>\n",
       "      <td>97</td>\n",
       "      <td>1988.50</td>\n",
       "    </tr>\n",
       "    <tr>\n",
       "      <th>...</th>\n",
       "      <td>...</td>\n",
       "      <td>...</td>\n",
       "      <td>...</td>\n",
       "    </tr>\n",
       "    <tr>\n",
       "      <th>95</th>\n",
       "      <td>2017-10-09</td>\n",
       "      <td>121</td>\n",
       "      <td>1936.00</td>\n",
       "    </tr>\n",
       "    <tr>\n",
       "      <th>96</th>\n",
       "      <td>2017-10-12</td>\n",
       "      <td>179</td>\n",
       "      <td>4743.50</td>\n",
       "    </tr>\n",
       "    <tr>\n",
       "      <th>97</th>\n",
       "      <td>2017-10-26</td>\n",
       "      <td>108</td>\n",
       "      <td>2484.00</td>\n",
       "    </tr>\n",
       "    <tr>\n",
       "      <th>98</th>\n",
       "      <td>2017-12-12</td>\n",
       "      <td>193</td>\n",
       "      <td>2605.50</td>\n",
       "    </tr>\n",
       "    <tr>\n",
       "      <th>99</th>\n",
       "      <td>2017-12-15</td>\n",
       "      <td>148</td>\n",
       "      <td>1850.00</td>\n",
       "    </tr>\n",
       "  </tbody>\n",
       "</table>\n",
       "<p>100 rows × 3 columns</p>\n",
       "</div>"
      ],
      "text/plain": [
       "         date quantity   amount\n",
       "0  2017-01-02      163  3097.00\n",
       "1  2017-01-05      110   935.00\n",
       "2  2017-01-23      156  2808.00\n",
       "3  2017-01-31      182  4368.00\n",
       "4  2017-02-06       97  1988.50\n",
       "..        ...      ...      ...\n",
       "95 2017-10-09      121  1936.00\n",
       "96 2017-10-12      179  4743.50\n",
       "97 2017-10-26      108  2484.00\n",
       "98 2017-12-12      193  2605.50\n",
       "99 2017-12-15      148  1850.00\n",
       "\n",
       "[100 rows x 3 columns]"
      ]
     },
     "execution_count": 22,
     "metadata": {},
     "output_type": "execute_result"
    }
   ],
   "source": [
    "receipts_df.sort_values(by='date', inplace = True)\n",
    "receipts_df"
   ]
  },
  {
   "cell_type": "code",
   "execution_count": 23,
   "metadata": {},
   "outputs": [],
   "source": [
    "receipts_df.set_index('date', inplace = True)"
   ]
  },
  {
   "cell_type": "code",
   "execution_count": 36,
   "metadata": {},
   "outputs": [],
   "source": [
    "receipts_df['quantity'] = pd.to_numeric(receipts_df['quantity'], downcast ='integer')\n",
    "receipts_df['amount'] = pd.to_numeric(receipts_df['amount'], downcast ='float')"
   ]
  },
  {
   "cell_type": "code",
   "execution_count": 37,
   "metadata": {},
   "outputs": [
    {
     "name": "stdout",
     "output_type": "stream",
     "text": [
      "<class 'pandas.core.frame.DataFrame'>\n",
      "DatetimeIndex: 100 entries, 2017-01-02 to 2017-12-15\n",
      "Data columns (total 2 columns):\n",
      " #   Column    Non-Null Count  Dtype  \n",
      "---  ------    --------------  -----  \n",
      " 0   quantity  100 non-null    int16  \n",
      " 1   amount    100 non-null    float32\n",
      "dtypes: float32(1), int16(1)\n",
      "memory usage: 1.4 KB\n"
     ]
    }
   ],
   "source": [
    "receipts_df.info()"
   ]
  },
  {
   "cell_type": "code",
   "execution_count": 39,
   "metadata": {},
   "outputs": [
    {
     "data": {
      "text/plain": [
       "<AxesSubplot:xlabel='date'>"
      ]
     },
     "execution_count": 39,
     "metadata": {},
     "output_type": "execute_result"
    },
    {
     "data": {
      "image/png": "[encoded data removed]",
      "text/plain": [
       "<Figure size 1008x360 with 1 Axes>"
      ]
     },
     "metadata": {
      "needs_background": "light"
     },
     "output_type": "display_data"
    }
   ],
   "source": [
    "receipts_df['amount'].plot(figsize=(14,5))"
   ]
  },
  {
   "cell_type": "code",
   "execution_count": 41,
   "metadata": {},
   "outputs": [],
   "source": [
    "for index, row in receipts_df.iterrows():\n",
    "    receipts_df.loc[index, ['amount_per_quantity']] = row['amount']/row['quantity']"
   ]
  },
  {
   "cell_type": "code",
   "execution_count": 43,
   "metadata": {},
   "outputs": [
    {
     "data": {
      "text/plain": [
       "<AxesSubplot:xlabel='date'>"
      ]
     },
     "execution_count": 43,
     "metadata": {},
     "output_type": "execute_result"
    },
    {
     "data": {
      "image/png": "[encoded data removed]",
      "text/plain": [
       "<Figure size 432x288 with 1 Axes>"
      ]
     },
     "metadata": {
      "needs_background": "light"
     },
     "output_type": "display_data"
    }
   ],
   "source": [
    "receipts_df['amount_per_quantity'].plot()"
   ]
  }
 ],
 "metadata": {
  "kernelspec": {
   "display_name": "Python 3 (ipykernel)",
   "language": "python",
   "name": "python3"
  },
  "language_info": {
   "codemirror_mode": {
    "name": "ipython",
    "version": 3
   },
   "file_extension": ".py",
   "mimetype": "text/x-python",
   "name": "python",
   "nbconvert_exporter": "python",
   "pygments_lexer": "ipython3",
   "version": "3.8.12"
  },
  "toc": {
   "base_numbering": 1,
   "nav_menu": {},
   "number_sections": true,
   "sideBar": true,
   "skip_h1_title": false,
   "title_cell": "Table of Contents",
   "title_sidebar": "Contents",
   "toc_cell": false,
   "toc_position": {},
   "toc_section_display": true,
   "toc_window_display": false
  }
 },
 "nbformat": 4,
 "nbformat_minor": 2
}
