{
 "cells": [
  {
   "cell_type": "markdown",
   "metadata": {},
   "source": [
    "# Bubble Map Vizualisation\n",
    "\n",
    "## Setup\n",
    "\n",
    "- **The Dataset**: let's analyze from a graphic point of view this [Kaggle Dataset](https://www.kaggle.com/datafiniti/fast-food-restaurants) about Fasfood Restaurants. Donwload it and copy/paste it to your folder exercise.\n",
    "\n",
    "- **A new libray**: during this exercise, we will learn how to manipulate: `Plotly`, a very powerful graphics librarry! Let's install it :  https://pypi.org/project/plotly-express/\n",
    "\n",
    "Once it's done, let's import the libraries we need: `numpy`, `pandas`, and `plotly`:\n"
   ]
  },
  {
   "cell_type": "code",
   "execution_count": 33,
   "metadata": {},
   "outputs": [],
   "source": [
    "import numpy as np\n",
    "import pandas as pd\n",
    "import plotly.express as px"
   ]
  },
  {
   "cell_type": "markdown",
   "metadata": {},
   "source": [
    "## Bubble Map 101\n",
    "\n",
    "The goal of this exercise is to plot our data from the `FastFoodRestaurants.csv` on a bubble map.\n",
    "Your exercise is to manage to get this bubble map:\n",
    "<br>\n",
    "<img src=\"https://res.cloudinary.com/wagon/image/upload/v1571164805/Screenshot_2019-10-15_at_20.39.38_evseoe.png\" height=\"100%\" width=\"100%\">\n",
    "Beautiful, isn't it? 🙂\n",
    "\n",
    "### Expectations:\n",
    "- Ploting by `City`. \n",
    "- Zoom on the US map,\n",
    "- The bubble should take into account the number of fasfoods in the city,\n",
    "- A relevant title,\n",
    "\n",
    "*Here is the documentation of bubble maps 👉 https://plot.ly/python/bubble-maps/ enjoy!*\n",
    "\n",
    "⚠️The dataset gives the latitude & longitude of each restaurant, but we need the latitude & longitude of the each city to plot our bubble map. To cope with this lack of data, let's compute the latitude & longitude of each city by ourselves, assuming the latitude & longitude of a city can be computed by doing the mean of the latitude & longitude of all fastfoods restaurants recorded in the city. \n",
    "\n",
    "\n",
    "------------------------------------------------------"
   ]
  },
  {
   "cell_type": "code",
   "execution_count": 2,
   "metadata": {},
   "outputs": [],
   "source": [
    "## Let's code here\n",
    "\n",
    "\n",
    "\n",
    "\n",
    "\n",
    "\n",
    "\n",
    "\n"
   ]
  },
  {
   "cell_type": "markdown",
   "metadata": {},
   "source": [
    "------------------------------------------------------\n",
    "<br>\n",
    "Hint 💡\n",
    "It's all about getting & plotting this data_frame:  \n",
    "<img src=\"https://res.cloudinary.com/wagon/image/upload/v1571161536/Screenshot_2019-10-15_at_19.45.10_tzqhnr.png\" height=\"50%\" width=\"50%\">\n"
   ]
  },
  {
   "cell_type": "markdown",
   "metadata": {},
   "source": [
    "## Bubble Map with animation\n",
    "\n",
    "How about plotting the evolution the fastfoods in the US?\n",
    "\n",
    "The dataset `Datafiniti_Fast_Food_Restaurants.csv` have a `dateAdded`, alright let's assume this is Dateset is from UberEats database, and we want to see the evolution of fastfood restaurants available on UberEats app!\n",
    "We want to have this: \n",
    "<br>\n",
    "<img src=\"https://res.cloudinary.com/wagon/image/upload/v1571165183/Screenshot_2019-10-15_at_20.30.27_sesrdl.png\" height=\"100%\" width=\"100%\">\n",
    "👉The slider should give the realtime evolution 🙂"
   ]
  }
 ],
 "metadata": {
  "kernelspec": {
   "display_name": "Python 3",
   "language": "python",
   "name": "python3"
  },
  "language_info": {
   "codemirror_mode": {
    "name": "ipython",
    "version": 3
   },
   "file_extension": ".py",
   "mimetype": "text/x-python",
   "name": "python",
   "nbconvert_exporter": "python",
   "pygments_lexer": "ipython3",
   "version": "3.7.1"
  }
 },
 "nbformat": 4,
 "nbformat_minor": 2
}
