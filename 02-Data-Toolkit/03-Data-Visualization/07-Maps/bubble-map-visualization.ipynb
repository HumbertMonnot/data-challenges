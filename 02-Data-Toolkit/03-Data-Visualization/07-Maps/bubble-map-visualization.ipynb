{
 "cells": [
  {
   "cell_type": "markdown",
   "metadata": {},
   "source": [
    "# Bubble Map Visualization\n",
    "\n",
    "## Setup\n",
    "\n",
    "- **The dataset**: let's analyze from a graphic point of view a [Dataset](https://www.kaggle.com/datafiniti/fast-food-restaurants) of Fastfood Restaurants.\n",
    "\n",
    "- **A new library**:  For this exercise we will use `Plotly Express` \n",
    "\n",
    "Let's import the libraries we will need in this exercise: `numpy`, `pandas`, and `plotly express`\n"
   ]
  },
  {
   "cell_type": "code",
   "execution_count": 26,
   "metadata": {},
   "outputs": [],
   "source": [
    "import numpy as np\n",
    "import pandas as pd\n",
    "import plotly.express as px"
   ]
  },
  {
   "cell_type": "markdown",
   "metadata": {},
   "source": [
    "## Bubble Map 101\n",
    "\n",
    "The goal of this exercise is to plot a bubble map of the `FastFoodRestaurants.csv`. \n",
    "Your challenge is to manage to get:\n",
    "<br>\n",
    "<img src=\"https://res.cloudinary.com/wagon/image/upload/v1571182044/Screenshot_2019-10-16_at_01.27.01_ptfplw.png\" height=\"100%\" width=\"100%\">\n",
    "Beautiful, isn't it? 🙂\n",
    "\n",
    "### Specs:\n",
    "\n",
    "- A bubble should represent a `city`,\n",
    "- A bubble should take into account the number of fastfood restaurants in the city,\n",
    "- Should be zoom on the U.S. map,\n",
    "- When hoovering on a bubble, you should get the name of city,\n",
    "- Set a relevant title to the graph.\n",
    "\n",
    "*Here is the documentation of bubble maps 👉 https://plot.ly/python/bubble-maps/ enjoy!*\n",
    "\n",
    "⚠️The dataset has the latitude & longitude of each restaurant, but we need the latitude & longitude of each city to plot our bubble map. To cope with this missing data, let's compute the latitude & longitude of each city by our own: assuming that the latitude & longitude of a city can be computed by averaging the latitude & longitude of all fastfood restaurants recorded in the city. \n",
    "\n",
    "\n",
    "------------------------------------------------------"
   ]
  },
  {
   "cell_type": "code",
   "execution_count": 27,
   "metadata": {},
   "outputs": [],
   "source": [
    "# Let's code!"
   ]
  },
  {
   "cell_type": "markdown",
   "metadata": {},
   "source": [
    "------------------------------------------------------\n",
    "<br>\n",
    "Hint 💡:\n",
    "<br>\n",
    "It's all about getting & plotting this dataframe:  \n",
    "<img src=\"https://res.cloudinary.com/wagon/image/upload/v1571182161/Screenshot_2019-10-16_at_01.29.11_yjzvtv.png\" height=\"50%\" width=\"50%\">\n"
   ]
  },
  {
   "cell_type": "markdown",
   "metadata": {},
   "source": [
    "## Bubble Map with animation\n",
    "\n",
    "Let's now plot the evolution of the fastfoods in the U.S over time. \n",
    "\n",
    "In the dataset `Datafiniti_Fast_Food_Restaurants.csv` there is a columun: `dateAdded` which refers to the date when the restaurant has been recorded into the dataset. \n",
    "\n",
    "So let's assume that `Datafiniti_Fast_Food_Restaurants.csv` comes from UberEats database, and that we want to see the evolution of fastfood restaurants available on UberEats app overtime! `dateAdded` corresponding to the date when the fastfood restaurant has been onboarded to UberEats.\n",
    "\n",
    "We want to have this: \n",
    "<br>\n",
    "<img src=\"https://res.cloudinary.com/wagon/image/upload/v1571181969/bubble-maps-slider_m1kpac.png\" height=\"100%\" width=\"100%\">\n",
    "👉The slider should give the evolution overtime 🙂- each bubble refering to a `restaurant`.\n",
    "\n",
    "\n",
    "Let's plot this! 💪"
   ]
  },
  {
   "cell_type": "code",
   "execution_count": null,
   "metadata": {},
   "outputs": [],
   "source": [
    "# Let's code!"
   ]
  }
 ],
 "metadata": {
  "kernelspec": {
   "display_name": "Python 3",
   "language": "python",
   "name": "python3"
  },
  "language_info": {
   "codemirror_mode": {
    "name": "ipython",
    "version": 3
   },
   "file_extension": ".py",
   "mimetype": "text/x-python",
   "name": "python",
   "nbconvert_exporter": "python",
   "pygments_lexer": "ipython3",
   "version": "3.7.3"
  }
 },
 "nbformat": 4,
 "nbformat_minor": 2
}
