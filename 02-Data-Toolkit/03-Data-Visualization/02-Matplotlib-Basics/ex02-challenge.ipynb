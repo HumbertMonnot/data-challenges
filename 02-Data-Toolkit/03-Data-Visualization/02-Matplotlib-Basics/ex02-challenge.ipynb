{
 "cells": [
  {
   "cell_type": "markdown",
   "metadata": {},
   "source": [
    "# Matplotlib\n",
    "\n",
    "### Documentation\n",
    "\n",
    "[Pyplot - plt](https://matplotlib.org/3.1.1/api/_as_gen/matplotlib.pyplot.html#module-matplotlib.pyplot)"
   ]
  },
  {
   "cell_type": "code",
   "execution_count": 2,
   "metadata": {},
   "outputs": [],
   "source": [
    "import matplotlib.pyplot as plt\n",
    "import numpy as np"
   ]
  },
  {
   "cell_type": "markdown",
   "metadata": {},
   "source": [
    "### Preparing data for matplotlib\n",
    "\n",
    "You are given the following ordered list of points. In that form, they cannot be visualized with pyplot.\n",
    "\n",
    "The goal is to **convert** the data in order for it to be usable by pyplot.\n",
    "\n",
    "You simply have to convert the list of dict to a list of list. Then plot the points.\n",
    "\n",
    "Use `pyplot.plot()` to create a line plot."
   ]
  },
  {
   "cell_type": "code",
   "execution_count": 36,
   "metadata": {},
   "outputs": [],
   "source": [
    "points = [\n",
    "    {\"x\": 1, \"y\": 1},\n",
    "    {\"x\": 2, \"y\": 2},\n",
    "    {\"x\": 4, \"y\": 2},\n",
    "    {\"x\": 3, \"y\": 1},\n",
    "    {\"x\": 1, \"y\": 1},\n",
    "    {\"x\": 1, \"y\": 3},\n",
    "    {\"x\": 3, \"y\": 3},\n",
    "    {\"x\": 3, \"y\": 1},\n",
    "    {\"x\": 3, \"y\": 3},\n",
    "    {\"x\": 4, \"y\": 4},\n",
    "    {\"x\": 4, \"y\": 2},\n",
    "    {\"x\": 4, \"y\": 4},\n",
    "    {\"x\": 2, \"y\": 4},\n",
    "    {\"x\": 2, \"y\": 2},\n",
    "    {\"x\": 2, \"y\": 4},\n",
    "    {\"x\": 1, \"y\": 3},\n",
    "]\n",
    "\n",
    "# YOUR CODE HERE"
   ]
  },
  {
   "cell_type": "markdown",
   "metadata": {},
   "source": [
    "This time you are given a list of **shape(100,2)**.\n",
    "Transform this list in order to plot it with pyplot.\n",
    "\n",
    "Use `pyplot.scatter()` for this one.\n",
    "\n",
    "<details>\n",
    "  <summary>Hint</summary>\n",
    "  <p>You can use <a href=\"https://docs.scipy.org/doc/numpy/reference/generated/numpy.transpose.html\">numpy.transpose()</a> to change the shape of the list</p>\n",
    "</details>"
   ]
  },
  {
   "cell_type": "code",
   "execution_count": 39,
   "metadata": {},
   "outputs": [
    {
     "name": "stdout",
     "output_type": "stream",
     "text": [
      "[[0.85442241 0.14363691]\n",
      " [0.90186257 0.92859491]\n",
      " [0.53705739 0.0151941 ]]\n"
     ]
    }
   ],
   "source": [
    "dots = np.random.rand(100,2)\n",
    "print(dots[:3])\n",
    "\n",
    "# YOUR CODE HERE"
   ]
  },
  {
   "cell_type": "markdown",
   "metadata": {},
   "source": [
    "### Plotting a function\n",
    "\n",
    "Generate data points in range `[-10,10]` and at even intervals: they are your `x` points. Use them to plot the following function. \n",
    "\n",
    "``` python\n",
    "y = 4*x + 2 \n",
    "```\n",
    "\n",
    "Use [plt.ylim](https://matplotlib.org/3.1.1/api/_as_gen/matplotlib.pyplot.ylim.html#matplotlib.pyplot.ylim) to keep the **y axis** between **-10 and 10**\n",
    "\n",
    "<details>\n",
    "  <summary>Hint</summary>\n",
    "      <p>You can use <a href=\"https://docs.scipy.org/doc/numpy/reference/generated/numpy.arange.html\">numpy.arange()</a> to generate list of N number in a range</p>\n",
    "</details>"
   ]
  },
  {
   "cell_type": "code",
   "execution_count": 27,
   "metadata": {},
   "outputs": [],
   "source": [
    "# YOUR CODE HERE"
   ]
  },
  {
   "cell_type": "markdown",
   "metadata": {},
   "source": [
    "Plot these 4 functions on the same graph.\n",
    "Use the set of `x's` generated above.\n",
    "``` python\n",
    "y1 = x*x\n",
    "y2 = log(x)\n",
    "y3 = exp(x)\n",
    "y4 = exp(x)/exp(x)+1\n",
    "```\n",
    "\n",
    "Use [plt.ylim](https://matplotlib.org/3.1.1/api/_as_gen/matplotlib.pyplot.ylim.html#matplotlib.pyplot.ylim) to keep the **y axis** between **-2 and 6**.\n",
    "And use `plt.xlim` to keep the **x axis** between **-4 and 4**.<br><br>"
   ]
  },
  {
   "cell_type": "code",
   "execution_count": 32,
   "metadata": {},
   "outputs": [],
   "source": [
    "# YOUR CODE HERE"
   ]
  },
  {
   "cell_type": "markdown",
   "metadata": {},
   "source": [
    "### Formating basics\n",
    "\n",
    "We have the following **scatter plot**, we want to draw a **straight red dotted line** that follow the dots distribution as closely as possible.\n",
    "\n",
    "Visual example *without dotted line*:\n",
    "<img src=\"https://miro.medium.com/max/1280/1*LEmBCYAttxS6uI6rEyPLMQ.png\" alt=\"regression_line\" width=300>"
   ]
  },
  {
   "cell_type": "code",
   "execution_count": 42,
   "metadata": {},
   "outputs": [
    {
     "data": {
      "text/plain": [
       "<matplotlib.collections.PathCollection at 0x1a19bb6518>"
      ]
     },
     "execution_count": 42,
     "metadata": {},
     "output_type": "execute_result"
    },
    {
     "data": {
      "image/png": "[encoded data removed]",
      "text/plain": [
       "<Figure size 432x288 with 1 Axes>"
      ]
     },
     "metadata": {
      "needs_background": "light"
     },
     "output_type": "display_data"
    }
   ],
   "source": [
    "from sklearn import datasets\n",
    "\n",
    "x, y, _ = datasets.make_regression(n_samples=100, n_features=1, noise=10, coef=True, random_state=0)\n",
    "\n",
    "plt.scatter(x,y)"
   ]
  },
  {
   "cell_type": "markdown",
   "metadata": {},
   "source": [
    "Plot a line over the scatter plot. Use x and y from the previous cell."
   ]
  },
  {
   "cell_type": "code",
   "execution_count": 48,
   "metadata": {},
   "outputs": [],
   "source": [
    "# YOUR CODE HERE"
   ]
  },
  {
   "cell_type": "markdown",
   "metadata": {},
   "source": [
    "Now let's add some context to our graph by adding:\n",
    "1. A title with: \"Linear Regression\"\n",
    "1. A legend describing the data points and the line\n",
    "1. An arrow pointing to the red line at the end of which is annotated \"Regression line\" \n",
    "1. A label for the x (\"input value\") and y (\"output value\") axis"
   ]
  },
  {
   "cell_type": "code",
   "execution_count": 50,
   "metadata": {},
   "outputs": [],
   "source": [
    "# YOUR CODE HERE"
   ]
  },
  {
   "cell_type": "markdown",
   "metadata": {},
   "source": [
    "Let's continue to work on our plot design.\n",
    "\n",
    "Make the plot **15 inches wide** and **6 inch tall**. \n",
    "\n",
    "What you have to do is:\n",
    "1. Access the current figure object of the plot\n",
    "1. Set the size of the figure\n",
    "\n",
    "\n",
    "These documentation pages should be useful:\n",
    "\n",
    "1. [plt.plotting( )](https://matplotlib.org/3.1.1/api/pyplot_summary.html)\n",
    "1. [plt.gcf( )](https://matplotlib.org/3.1.1/api/_as_gen/matplotlib.pyplot.gcf.html#matplotlib.pyplot.gcf)\n",
    "1. [fig.set_figheight( )](https://matplotlib.org/3.1.1/api/_as_gen/matplotlib.figure.Figure.html#matplotlib.figure.Figure.set_figheight)\n",
    "\n"
   ]
  },
  {
   "cell_type": "code",
   "execution_count": 53,
   "metadata": {},
   "outputs": [],
   "source": [
    "# YOUR CODE HERE"
   ]
  }
 ],
 "metadata": {
  "kernelspec": {
   "display_name": "Python 3",
   "language": "python",
   "name": "python3"
  },
  "language_info": {
   "codemirror_mode": {
    "name": "ipython",
    "version": 3
   },
   "file_extension": ".py",
   "mimetype": "text/x-python",
   "name": "python",
   "nbconvert_exporter": "python",
   "pygments_lexer": "ipython3",
   "version": "3.7.3"
  }
 },
 "nbformat": 4,
 "nbformat_minor": 4
}
