{
 "cells": [
  {
   "cell_type": "markdown",
   "metadata": {},
   "source": [
    "# Matplotlib introduction\n",
    "\n",
    "1. Plot a point\n",
    "1. Plot multiple points\n",
    "1. Plot a line\n",
    "1. Plot a curve"
   ]
  },
  {
   "cell_type": "code",
   "execution_count": 11,
   "metadata": {},
   "outputs": [],
   "source": [
    "#Import pyplot before you start the exercise"
   ]
  },
  {
   "cell_type": "markdown",
   "metadata": {},
   "source": [
    "## Plot a point\n",
    "\n",
    "Plot a dot at **x=5** and **y=10**\n",
    "\n",
    "Remember that you have the `pyplot.scatter()` [documentation](https://matplotlib.org/3.1.1/api/_as_gen/matplotlib.pyplot.scatter.html#matplotlib.pyplot.scatter.)"
   ]
  },
  {
   "cell_type": "code",
   "execution_count": 8,
   "metadata": {},
   "outputs": [],
   "source": [
    "dot_coordinates = [5, 10]\n",
    "\n",
    "#YOUR CODE HERE"
   ]
  },
  {
   "cell_type": "markdown",
   "metadata": {},
   "source": [
    "## Multiple dots\n",
    "\n",
    "Plot a list of dots stored in a list of **shape(2, 13)**"
   ]
  },
  {
   "cell_type": "code",
   "execution_count": 9,
   "metadata": {},
   "outputs": [],
   "source": [
    "dots = [\n",
    "    [1, 1, 2, 2, 2, 3, 1, 3, 3, 3, 3, 0, 0],\n",
    "    [2, 3, 2, 4, 1, 3, 4, 2, 0, 5, 7, 2, 3]\n",
    "]\n",
    "\n",
    "#YOUR CODE HERE"
   ]
  },
  {
   "cell_type": "markdown",
   "metadata": {},
   "source": [
    "## Plotting a line\n",
    "\n",
    "Plot a line starting at **x=4, y=0** and ending at **x=20, y=4**. The function you should use is [pyplot.plot()](https://matplotlib.org/3.1.1/api/_as_gen/matplotlib.pyplot.plot.html#matplotlib.pyplot.plot)"
   ]
  },
  {
   "cell_type": "code",
   "execution_count": 10,
   "metadata": {},
   "outputs": [],
   "source": [
    "start = {\"x\": 4, \"y\": 0}\n",
    "end = {\"x\": 20, \"y\":4}\n",
    "\n",
    "#YOUR CODE HERE"
   ]
  },
  {
   "cell_type": "markdown",
   "metadata": {},
   "source": [
    "### Plotting a curve\n",
    "\n",
    "Plot the 3 different curves on the same graph."
   ]
  },
  {
   "cell_type": "code",
   "execution_count": 5,
   "metadata": {},
   "outputs": [],
   "source": [
    "x1 = [-10,0,10]\n",
    "y1 = [5,1,5]\n",
    "\n",
    "x2 = [-10,-5,0,5,10]\n",
    "y2 = [5,2,1,2,5]\n",
    "\n",
    "x3 = [-10,-7.5,-5,-2.5,0,2.5,5,7.5,10]\n",
    "y3 = [5,3,2,1.2,1,1.2,2,3,5]\n",
    "\n",
    "#YOUR CODE HERE\n",
    "#YOUR CODE HERE\n",
    "#YOUR CODE HERE"
   ]
  }
 ],
 "metadata": {
  "kernelspec": {
   "display_name": "Python 3",
   "language": "python",
   "name": "python3"
  },
  "language_info": {
   "codemirror_mode": {
    "name": "ipython",
    "version": 3
   },
   "file_extension": ".py",
   "mimetype": "text/x-python",
   "name": "python",
   "nbconvert_exporter": "python",
   "pygments_lexer": "ipython3",
   "version": "3.6.9"
  }
 },
 "nbformat": 4,
 "nbformat_minor": 4
}
