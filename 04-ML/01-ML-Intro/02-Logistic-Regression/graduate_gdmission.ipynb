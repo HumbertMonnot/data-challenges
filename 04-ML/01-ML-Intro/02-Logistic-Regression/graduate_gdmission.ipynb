{
 "cells": [
  {
   "cell_type": "markdown",
   "metadata": {},
   "source": [
    "# Logistic Regression\n",
    "\n",
    "<figure>\n",
    "  <img src=\"https://upload.wikimedia.org/wikipedia/commons/6/6d/Exam_pass_logistic_curve.jpeg\" alt=\"Graph of a logistic regression curve showing probability of passing an exam versus hours studying - wikipedia\" style=\"width:40%\">\n",
    "  <figcaption style=\"text-align: center; color: #777; font-weight: bold\">Graph of a logistic regression curve showing probability of passing an exam versus hours studying - Wikipedia</figcaption>\n",
    "</figure>\n",
    "\n",
    "### Introduction\n",
    "\n",
    "In this exercice we are going to take a look at **Graduate Admissions** in relation to **CGPA** and **University Rating**.<br>\n",
    "We will use the **logistic regression** model to answer some questions.\n",
    "\n",
    "**Dataset:** \"Admission_Predict.csv\"<br>\n",
    "\n",
    "**Columns:** <br>\n",
    "**\"CGPA\"**, range [6.0, 10.0], Cumulative Grade Point Average <br>\n",
    "**\"Rating\"**, range [1, 5], 5 is the best university rating<br>\n",
    "**\"Admited\"**, range [0,1] <br>\n",
    "\n",
    "### Exercise questions:\n",
    "\n",
    "1. If your **CGPA is 7.8**, what is the **probability** that you will be accepted in an university with a **rating of 3**?\n",
    "2. If your **CGPA is 8.5**, which is the **best university** you can apply to and have a probability of more than **50%** to be accepted?\n",
    "3. What should be your CGPA in order to have a probabilty of **80%** to enter in the **best rated** univesity?\n",
    "4. With the help of you model, can you plot the **probability** to be **admited** in an university **rated 4**, by **CGPA**?"
   ]
  },
  {
   "cell_type": "markdown",
   "metadata": {},
   "source": [
    "## 1/ Data exploration\n",
    "\n",
    "Before creating our model let's just **import** the dataset and take a look at the **general info** about our dataset.<br>"
   ]
  },
  {
   "cell_type": "code",
   "execution_count": null,
   "metadata": {},
   "outputs": [],
   "source": [
    "# The usual imports"
   ]
  },
  {
   "cell_type": "code",
   "execution_count": null,
   "metadata": {},
   "outputs": [],
   "source": [
    "# Dataset import"
   ]
  },
  {
   "cell_type": "code",
   "execution_count": null,
   "metadata": {},
   "outputs": [],
   "source": [
    "# Dataset quick info"
   ]
  },
  {
   "cell_type": "markdown",
   "metadata": {},
   "source": [
    "### How many rows do we have in our dataframe?"
   ]
  },
  {
   "cell_type": "code",
   "execution_count": null,
   "metadata": {},
   "outputs": [],
   "source": [
    "# Enter the answer\n",
    "question_raw_number = None # replace by the right value"
   ]
  },
  {
   "cell_type": "markdown",
   "metadata": {},
   "source": [
    "### Which word best describe each columns?"
   ]
  },
  {
   "cell_type": "code",
   "execution_count": null,
   "metadata": {},
   "outputs": [],
   "source": [
    "type_a = \"Binary\"\n",
    "tybe_b = \"Discrete\"\n",
    "type_c = \"Continuous\"\n",
    "\n",
    "CGPA = None # replace by the right type\n",
    "Rating = None # replace by the right type\n",
    "Admited = None # replace by the right type"
   ]
  },
  {
   "cell_type": "markdown",
   "metadata": {},
   "source": [
    "### Ploting our data\n",
    "We can do a simple **pair-plot** of our dataframe to visualise the **relations** between our **columns**.\n",
    "\n",
    "<details>\n",
    "  <summary>hint</summary>\n",
    "  <a href=\"https://seaborn.pydata.org/generated/seaborn.pairplot.html\">[Doc] seaborn.pydata.org</a>\n",
    "</details>"
   ]
  },
  {
   "cell_type": "code",
   "execution_count": null,
   "metadata": {},
   "outputs": [],
   "source": [
    "# Pair-plot"
   ]
  },
  {
   "cell_type": "markdown",
   "metadata": {},
   "source": [
    "We would also like to observe more clearly the relation **for each rating**, between the **CGPA** and the **Admission**.<br>\n",
    "That way we could start **estimating** what **CGPA** you need to be **admited** in each school.\n",
    "\n",
    "<details>\n",
    "  <summary>hint</summary>\n",
    "  <a href=\"https://seaborn.pydata.org/generated/seaborn.scatterplot.html\">[Doc] seaborn.pydata.org</a>\n",
    "</details>"
   ]
  },
  {
   "cell_type": "code",
   "execution_count": null,
   "metadata": {},
   "outputs": [],
   "source": [
    "# Complex admission plot"
   ]
  },
  {
   "cell_type": "markdown",
   "metadata": {},
   "source": [
    "## 2/ Creating a model\n",
    "\n",
    "If we want to **predict** students **admissions** in a school we will need to create a model.\n",
    "The model will also help us to get some insight about the **probability** for a student to enter a school.\n",
    "\n",
    "What is the **type of the task** that we are trying to do here, **Regression** or **Classification**?"
   ]
  },
  {
   "cell_type": "code",
   "execution_count": null,
   "metadata": {},
   "outputs": [],
   "source": [
    "# Choose your answer\n",
    "answer_a = \"Regression\"\n",
    "answer_b = \"Classification\"\n",
    "\n",
    "question_task_type = None # replace by the right variable"
   ]
  },
  {
   "cell_type": "markdown",
   "metadata": {},
   "source": [
    "### Trainning\n",
    "\n",
    "For this exercise we are going to use a **Logistic Regression** model. <br>\n",
    "Documentation: [scikit-learn.org/sklearn.linear_model.LogisticRegression](https://scikit-learn.org/stable/modules/generated/sklearn.linear_model.LogisticRegression.html)"
   ]
  },
  {
   "cell_type": "code",
   "execution_count": null,
   "metadata": {},
   "outputs": [],
   "source": [
    "# Separate the parameters (X = ['Rating', 'CGPA']) from the hyperparameter (y = \"Admited\")"
   ]
  },
  {
   "cell_type": "code",
   "execution_count": null,
   "metadata": {},
   "outputs": [],
   "source": [
    "# import the Logistic Regression model"
   ]
  },
  {
   "cell_type": "code",
   "execution_count": null,
   "metadata": {},
   "outputs": [],
   "source": [
    "# Train the model with the prepared data"
   ]
  },
  {
   "cell_type": "markdown",
   "metadata": {},
   "source": [
    "### Test the model\n",
    "\n",
    "Before we start using our model let's just make sure the **predictions** are working.<br>\n",
    "So let's make two easy predictions.<br>\n",
    "For a school **rated 5**:\n",
    "- a student with a **CGPA of 5** should **not be** admited.\n",
    "- a student with a **CGPA of 10** should **be** admited.\n",
    "\n",
    "You can use the following dataset: `{\"Rating\": [5,5], \"CGPA\": [5,10]}`"
   ]
  },
  {
   "cell_type": "code",
   "execution_count": null,
   "metadata": {},
   "outputs": [],
   "source": [
    "test_data = {\"Rating\": [5,5], \"CGPA\": [5,10]}\n",
    "\n",
    "question_simple_prediction = None # replace by the model prediction for {\"Rating\": [5,5], \"CGPA\": [5,10]}"
   ]
  },
  {
   "cell_type": "markdown",
   "metadata": {},
   "source": [
    "## 3/ Using our model\n",
    "\n",
    "Nice! Now that our **model is ready** we can start looking for **answers** to our **initial questions**. 🚀 "
   ]
  },
  {
   "cell_type": "markdown",
   "metadata": {},
   "source": [
    "1. If your **CGPA is 7.8**, what is the **probability** that you will be accepted in an university with a **rating of 3**?"
   ]
  },
  {
   "cell_type": "code",
   "execution_count": null,
   "metadata": {},
   "outputs": [],
   "source": []
  },
  {
   "cell_type": "code",
   "execution_count": null,
   "metadata": {},
   "outputs": [],
   "source": [
    "# Enter your answer to question 1 here\n",
    "\n",
    "question_1_answer = None # replace by the right answer, rounded to the second decimal (ex: 4.32)"
   ]
  },
  {
   "cell_type": "markdown",
   "metadata": {},
   "source": [
    "2. If your **CGPA is 8.5**, which is the **best university** you can apply to and have a probability of more than **50%** to be accepted?"
   ]
  },
  {
   "cell_type": "code",
   "execution_count": null,
   "metadata": {},
   "outputs": [],
   "source": []
  },
  {
   "cell_type": "code",
   "execution_count": null,
   "metadata": {},
   "outputs": [],
   "source": [
    "# Enter your answer to question 2 here\n",
    "\n",
    "question_2_answer = None # replace by the right rating number"
   ]
  },
  {
   "cell_type": "markdown",
   "metadata": {},
   "source": [
    "3. What should be your CGPA in order to have a probabilty of **80%** to enter in the **best rated** university?"
   ]
  },
  {
   "cell_type": "code",
   "execution_count": null,
   "metadata": {},
   "outputs": [],
   "source": []
  },
  {
   "cell_type": "code",
   "execution_count": null,
   "metadata": {},
   "outputs": [],
   "source": [
    "# Enter your answer to question 3 here\n",
    "\n",
    "question_3_answer = None # replace by the right answer, rounded to the first decimal (ex: 4.3)"
   ]
  },
  {
   "cell_type": "markdown",
   "metadata": {},
   "source": [
    "4. With the help of you model, can you plot the **probability** to be **admited** in an university **rated 4**, by **CGPA**?"
   ]
  },
  {
   "cell_type": "code",
   "execution_count": null,
   "metadata": {},
   "outputs": [],
   "source": [
    "# Create a line-plot of the probability to be admited in an university rated 4, by CGPA\n"
   ]
  },
  {
   "cell_type": "markdown",
   "metadata": {},
   "source": [
    "### (Optional)\n",
    "\n",
    "This **dataset** has been **generated** and the model behind it look like this:\n",
    "<details>\n",
    "  <summary>🚫Open only if you have completed the exercise 🚫</summary>\n",
    "    <img src=\"https://i.ibb.co/n67YMx5/Screen-Shot-2019-09-24-at-20-31-13.png\" alt=\"Screen-Shot-2019-09-24-at-20-31-13\" border=\"0\" width=\"400px\">\n",
    "</details>\n",
    "\n",
    "Create a **line plot** of the model you have created."
   ]
  },
  {
   "cell_type": "code",
   "execution_count": null,
   "metadata": {},
   "outputs": [],
   "source": []
  }
 ],
 "metadata": {
  "kernelspec": {
   "display_name": "Python 3",
   "language": "python",
   "name": "python3"
  },
  "language_info": {
   "codemirror_mode": {
    "name": "ipython",
    "version": 3
   },
   "file_extension": ".py",
   "mimetype": "text/x-python",
   "name": "python",
   "nbconvert_exporter": "python",
   "pygments_lexer": "ipython3",
   "version": "3.7.3"
  }
 },
 "nbformat": 4,
 "nbformat_minor": 2
}
