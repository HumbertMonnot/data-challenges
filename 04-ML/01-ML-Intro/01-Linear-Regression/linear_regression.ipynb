{
 "cells": [
  {
   "cell_type": "markdown",
   "metadata": {},
   "source": [
    "# Linear Regression\n",
    "\n",
    "In this first exercice, we will create linear regression models and emphasize how to use sklearn to do so.\n",
    "\n",
    "We will start with a simple modeling of two data points and then focus on the practical steps needed to apply them to more complicated situations.\n",
    "\n",
    "## 1. Predicting Apartement Prices\n",
    "\n",
    "We will create a linear regression model and apply it to a simple dataset to get insights about the process and the theory. The idea is to start simple, get insights, and then add complexity.\n",
    "\n",
    "[Scikit-Learn](https://scikit-learn.org/stable/) is a Python library containing a lot of machine learning algorithm implementations. You will see that it allows us to do a linear regression in [a few line of code](https://scikit-learn.org/stable/modules/linear_model.html#ordinary-least-squares)!\n",
    "\n",
    "We will use some data about the price of Paris apartments. We took two apartments located in the third arrondissement of Paris from the website [seloger](https://www.seloger.com/list.htm?tri=initial&enterprise=0&idtypebien=2,1&idtt=2,5&naturebien=1,2,4&ci=750103), and reported the area (in square meters) and the price (in euros):\n",
    "\n",
    "Square Meters | Price\n",
    ":---:|:---:\n",
    "39   |550000\n",
    "47   |577000\n",
    "\n",
    "The goal is to model the relation between the area (the feature or independent variable of our model) and the price (the ground truth or the dependent variable).\n",
    "\n",
    "Let's start by importing the librairies we'll use:"
   ]
  },
  {
   "cell_type": "code",
   "execution_count": 2,
   "metadata": {},
   "outputs": [],
   "source": [
    "import matplotlib.pyplot as plt\n",
    "import numpy as np\n",
    "import pandas as pd"
   ]
  },
  {
   "cell_type": "markdown",
   "metadata": {},
   "source": [
    "### 1.1 Data Structure\n",
    "\n",
    "We need to create a small dataset with these data. Many ways are possible to structure your data. However, we want data to be easily pluged as input of machine learning libraries like sklearn.\n",
    "\n",
    "Your can go on the [LinearRegression documentation of sklearn](https://scikit-learn.org/stable/modules/generated/sklearn.linear_model.LinearRegression.html) and have a look. We will use the `fit()` method of the class `LinearRegression` to get the model's parameters from our data (the two apartments). Your first job is to structure the data of the two apartments in a shape usable as input of a Sklearn linear model.\n"
   ]
  },
  {
   "cell_type": "code",
   "execution_count": null,
   "metadata": {},
   "outputs": [],
   "source": [
    "# Your code here\n"
   ]
  },
  {
   "cell_type": "markdown",
   "metadata": {},
   "source": [
    "### 1.2. Data Visualization\n",
    "\n",
    "Now, that you have created the dataset with variables `X` and `y`, we will have a look at the data. Data visualization is useful to check that everything is what we expected.\n",
    "\n",
    "Your next job is to create a scatter plot showing the price ($y$ axis) in function of the area in square meters ($x$ axis)."
   ]
  },
  {
   "cell_type": "code",
   "execution_count": null,
   "metadata": {},
   "outputs": [],
   "source": [
    "# Your code here\n"
   ]
  },
  {
   "cell_type": "markdown",
   "metadata": {},
   "source": [
    "### 1.3. Modeling\n",
    "\n",
    "Before feeding your data to any machine learning algorithm, ask yourself the question: \"how would I do the task manually?\". If the answer is not obvious, the problem might need to be reframed. Here, we want to fit a line to our data. Since there are only two datapoints, this line can perfectly fit the data: this is the line passing by both points.\n",
    "\n",
    "It can be easy to get lost while building a machine learning pipeline. Starting with a simple case will allow us to easily check that the algorithm is working as expected and create a healthy workflow.\n",
    "\n",
    "Your task is now to create a linear regression model with Sklearn and fit our dataset. To check that it worked, use the method `score()` from `LinearRegression`: it should return a score of 1, corresponding to a perfect fit."
   ]
  },
  {
   "cell_type": "code",
   "execution_count": null,
   "metadata": {},
   "outputs": [],
   "source": [
    "# Your code here\n"
   ]
  },
  {
   "cell_type": "markdown",
   "metadata": {},
   "source": [
    "### 1.4. Plot the Regression Line\n",
    "\n",
    "That's all! We trained our first linear regression algorithm! Now you will plot the regression line to be sure that it passes through our two points.\n",
    "\n",
    "- 1. Get our model's parameters (corresponding to the intercept and the slope).\n",
    "- 2. Plot the regression line along with the scatter plot of our apartments (the two points)."
   ]
  },
  {
   "cell_type": "code",
   "execution_count": 268,
   "metadata": {},
   "outputs": [],
   "source": [
    "# Your code here\n"
   ]
  },
  {
   "cell_type": "markdown",
   "metadata": {},
   "source": [
    "### 1.5. New Apartment Price Prediction\n",
    "\n",
    "You will now create the last block of our machine learning pipeline: the price prediction of a new apartment using the area feature as input.\n",
    "\n",
    "Your friend Bob is asking for advice as he wants to sell his apartment. He gives you the area in square meters and ask you how much could he sell it. Your task is to use your model to predict the price of Bob's apartment:\n",
    "\n",
    "Square Meters | Price\n",
    ":---:|:---:\n",
    "34   |?\n",
    "\n",
    "Feel free to use the [sklearn documentation](https://scikit-learn.org/stable/modules/generated/sklearn.linear_model.LinearRegression.html). It is great and shows examples."
   ]
  },
  {
   "cell_type": "code",
   "execution_count": 9,
   "metadata": {},
   "outputs": [],
   "source": [
    "# Your code here\n"
   ]
  },
  {
   "cell_type": "markdown",
   "metadata": {},
   "source": [
    "<details>\n",
    "  <summary>Meanwhile, Bob sold his apartment. Here is the true price.</summary>\n",
    "  He sold it for 445000 euros.\n",
    "</details>\n",
    "\n",
    "What do you think of your prediction? Is it accurate?\n"
   ]
  },
  {
   "cell_type": "markdown",
   "metadata": {},
   "source": [
    "### 1.6. More data\n",
    "\n",
    "Now that we have created a linear regression model and applied it to our two apartments, let's try to improve our model by using more apartments.\n",
    "\n",
    "You will train a new linear regression model with more data and try again to predict the price of the last apartment.\n",
    "\n",
    "Square Meters | Price\n",
    ":---:|:---:\n",
    "32   |489,000\n",
    "28   |336,000\n",
    "47   |494,000\n",
    "7    |85,000\n",
    "85   |1,595,000\n",
    "12   |130,000\n",
    "16   |173,000\n",
    "53   |520,000\n",
    "30   |320,000\n",
    "41   |660,000\n",
    "\n",
    "Try to use these new data to train your model. You can use the same kind of workflow:\n",
    "\n",
    "- Create the input data structure `X` and `y`.\n",
    "- Check shape of input data.\n",
    "- Have a look at the data with visualization.\n",
    "- Clarify the problem we are trying to solve.\n",
    "- Train the model using sklearn (don't include Bob's apartment).\n",
    "- Predict again the price of Bob's apartement.\n"
   ]
  },
  {
   "cell_type": "code",
   "execution_count": null,
   "metadata": {},
   "outputs": [],
   "source": [
    "# You code here\n"
   ]
  }
 ],
 "metadata": {
  "kernelspec": {
   "display_name": "Python 3",
   "language": "python",
   "name": "python3"
  },
  "language_info": {
   "codemirror_mode": {
    "name": "ipython",
    "version": 3
   },
   "file_extension": ".py",
   "mimetype": "text/x-python",
   "name": "python",
   "nbconvert_exporter": "python",
   "pygments_lexer": "ipython3",
   "version": "3.7.3"
  }
 },
 "nbformat": 4,
 "nbformat_minor": 2
}
