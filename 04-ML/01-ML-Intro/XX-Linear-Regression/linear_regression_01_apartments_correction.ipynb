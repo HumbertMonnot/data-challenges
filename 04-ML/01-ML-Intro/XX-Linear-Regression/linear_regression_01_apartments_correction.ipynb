{
 "cells": [
  {
   "cell_type": "markdown",
   "metadata": {},
   "source": [
    "# Linear Regression\n",
    "\n",
    "In this first exercice, we will create linear regression models and emphasize how to use sklearn to do so.\n",
    "\n",
    "We will start with a simple modeling of two data points and then focus on the practical steps needed to apply them to more complicated situations.\n",
    "\n",
    "## 1. Predicting Apartement Prices\n",
    "\n",
    "We will create a linear regression model and apply it to a simple dataset to get insights about the process and the theory. The idea is to start simple, get insights, and then add complexity.\n",
    "\n",
    "[Scikit-Learn](https://scikit-learn.org/stable/) is a Python library containing a lot of machine learning algorithm implementations. You will see that it allows us to do a linear regression in [a few line of code](https://scikit-learn.org/stable/modules/linear_model.html#ordinary-least-squares)!\n",
    "\n",
    "We will use some data about the price of Paris apartments. We took two apartments located in the third arrondissement of Paris from the website [seloger](https://www.seloger.com/list.htm?tri=initial&enterprise=0&idtypebien=2,1&idtt=2,5&naturebien=1,2,4&ci=750103), and reported the area (in square meters) and the price (in euros):\n",
    "\n",
    "Square Meters | Price\n",
    ":---:|:---:\n",
    "39   |550000\n",
    "47   |577000\n",
    "\n",
    "The goal is to model the relation between the area (the feature or independent variable of our model) and the price (the ground truth or the dependent variable).\n",
    "\n",
    "Let's start by importing the librairies we'll use:"
   ]
  },
  {
   "cell_type": "code",
   "execution_count": 2,
   "metadata": {},
   "outputs": [],
   "source": [
    "import matplotlib.pyplot as plt\n",
    "import numpy as np\n",
    "import pandas as pd"
   ]
  },
  {
   "cell_type": "markdown",
   "metadata": {},
   "source": [
    "### 1.1 Data Structure\n",
    "\n",
    "We need to create a small dataset with these data. Many ways are possible to structure your data. However, we want data to be easily pluged as input of machine learning libraries like sklearn.\n",
    "\n",
    "Your can go on the [LinearRegression documentation of sklearn](https://scikit-learn.org/stable/modules/generated/sklearn.linear_model.LinearRegression.html) and have a look. We will use the `fit()` method of the class `LinearRegression` to get the model's parameters from our data (the two apartments). Your first job is to structure the data of the two apartments in a shape usable as input of a Sklearn linear model.\n"
   ]
  },
  {
   "cell_type": "code",
   "execution_count": null,
   "metadata": {},
   "outputs": [],
   "source": [
    "# Your code here"
   ]
  },
  {
   "cell_type": "code",
   "execution_count": null,
   "metadata": {},
   "outputs": [],
   "source": []
  },
  {
   "cell_type": "code",
   "execution_count": null,
   "metadata": {},
   "outputs": [],
   "source": []
  },
  {
   "cell_type": "markdown",
   "metadata": {},
   "source": [
    "We can read in the documentation that:\n",
    "\n",
    "```\n",
    "X : array-like or sparse matrix, shape (n_samples, n_features)\n",
    "Training data\n",
    "\n",
    "y : array_like, shape (n_samples, n_targets)\n",
    "Target values. Will be cast to X’s dtype if necessary\n",
    "```\n",
    "\n",
    "This tells us how to input data into the model. The feature values and the real values are given separately as two arguments `X` and `y`.\n",
    "\n",
    "`X` need to be an `array-like` (for instance, a Python list or a Numpy array) or a `sparse matrix` (for instance created from `scipy.sparse` methods). The shape of `X` is `(n_samples, n_features)`: the number of rows corresponds to the number of observation (in our case the number of apartments) and the number of columns to the number of feature (in our case, only 1: the area in square meters).\n",
    "\n",
    "We will create a two-dimensional Numpy array `X`:\n"
   ]
  },
  {
   "cell_type": "code",
   "execution_count": 247,
   "metadata": {},
   "outputs": [],
   "source": [
    "X = np.array([[39], [47]])\n"
   ]
  },
  {
   "cell_type": "markdown",
   "metadata": {},
   "source": [
    "When we manipulate vectors and matrices, this is very important to check their shapes along the way. This will prevent a lot of bugs. So, let's do that and have a look at `X`'s shape:"
   ]
  },
  {
   "cell_type": "code",
   "execution_count": 248,
   "metadata": {},
   "outputs": [
    {
     "data": {
      "text/plain": [
       "(2, 1)"
      ]
     },
     "execution_count": 248,
     "metadata": {},
     "output_type": "execute_result"
    }
   ],
   "source": [
    "X.shape"
   ]
  },
  {
   "cell_type": "markdown",
   "metadata": {},
   "source": [
    "Is it corresponding to what we want (`(n_samples, n_features)`)? Our dataset is composed of two samples (apartments) and one feature (square meters) so this looks good! Looking at `X` is also helpful to check that everything is what we expect:"
   ]
  },
  {
   "cell_type": "code",
   "execution_count": 249,
   "metadata": {},
   "outputs": [
    {
     "data": {
      "text/plain": [
       "array([[39],\n",
       "       [47]])"
      ]
     },
     "execution_count": 249,
     "metadata": {},
     "output_type": "execute_result"
    }
   ],
   "source": [
    "X"
   ]
  },
  {
   "cell_type": "markdown",
   "metadata": {},
   "source": [
    "This matrix (or array, using the terminology of Numpy) has two rows and one column.\n",
    "\n",
    "Note that in the context of machine learning, Numpy arrays are programming data structure used to represent mathematical concepts of vectors and matrices. In this case, `X` is a two-dimensional array but could also be considered as a column vector.\n",
    "\n",
    "Then we will create the array `y` storing the target values. Target values are the true values of our apartment prices. The documentation says that the shape of `y` is `(n_samples, n_targets)`. Again, `n_samples` is the number of apartments and `n_targets` is the number of predicted values: in our case, this is one (the price). We have to be careful to the order of the values: the first row of `X` has to correspond to the first row of `y`.\n",
    "\n",
    "Let's create `y` from data in the table above, check its shape and have a look at it, like we did with `X`:"
   ]
  },
  {
   "cell_type": "code",
   "execution_count": 251,
   "metadata": {},
   "outputs": [],
   "source": [
    "y = np.array([550000, 577000])\n",
    "\n",
    "# This is equivalent to y = np.array([[550000], [577000]])\n",
    "# because Numpy will broadcast y with the shape of X\n",
    "# (cf. doc: \"Will be cast to X’s dtype if necessary\")."
   ]
  },
  {
   "cell_type": "code",
   "execution_count": 252,
   "metadata": {},
   "outputs": [
    {
     "data": {
      "text/plain": [
       "(2,)"
      ]
     },
     "execution_count": 252,
     "metadata": {},
     "output_type": "execute_result"
    }
   ],
   "source": [
    "y.shape"
   ]
  },
  {
   "cell_type": "code",
   "execution_count": 253,
   "metadata": {},
   "outputs": [
    {
     "data": {
      "text/plain": [
       "array([550000, 577000])"
      ]
     },
     "execution_count": 253,
     "metadata": {},
     "output_type": "execute_result"
    }
   ],
   "source": [
    "y"
   ]
  },
  {
   "cell_type": "code",
   "execution_count": null,
   "metadata": {},
   "outputs": [],
   "source": []
  },
  {
   "cell_type": "code",
   "execution_count": null,
   "metadata": {},
   "outputs": [],
   "source": []
  },
  {
   "cell_type": "markdown",
   "metadata": {},
   "source": [
    "### 1.2. Data Visualization\n",
    "\n",
    "Now, that you have created the dataset with variables `X` and `y`, we will have a look at the data. Data visualization is useful to check that everything is what we expected.\n",
    "\n",
    "Your next job is to create a scatter plot showing the price ($y$ axis) in function of the area in square meters ($x$ axis)."
   ]
  },
  {
   "cell_type": "code",
   "execution_count": null,
   "metadata": {},
   "outputs": [],
   "source": [
    "# Your code here"
   ]
  },
  {
   "cell_type": "code",
   "execution_count": null,
   "metadata": {},
   "outputs": [],
   "source": []
  },
  {
   "cell_type": "code",
   "execution_count": null,
   "metadata": {},
   "outputs": [],
   "source": []
  },
  {
   "cell_type": "code",
   "execution_count": 256,
   "metadata": {},
   "outputs": [
    {
     "data": {
      "text/plain": [
       "Text(0, 0.5, 'Price (euros)')"
      ]
     },
     "execution_count": 256,
     "metadata": {},
     "output_type": "execute_result"
    },
    {
     "data": {
      "image/png": "[encoded data removed]",
      "text/plain": [
       "<Figure size 432x288 with 1 Axes>"
      ]
     },
     "metadata": {
      "needs_background": "light"
     },
     "output_type": "display_data"
    }
   ],
   "source": [
    "sns.scatterplot(X.flatten(), y)\n",
    "plt.xlabel('Area (square meter)')\n",
    "plt.ylabel('Price (euros)')"
   ]
  },
  {
   "cell_type": "code",
   "execution_count": 257,
   "metadata": {},
   "outputs": [
    {
     "data": {
      "text/plain": [
       "Text(0, 0.5, 'Price (euros)')"
      ]
     },
     "execution_count": 257,
     "metadata": {},
     "output_type": "execute_result"
    },
    {
     "data": {
      "image/png": "[encoded data removed]",
      "text/plain": [
       "<Figure size 432x288 with 1 Axes>"
      ]
     },
     "metadata": {
      "needs_background": "light"
     },
     "output_type": "display_data"
    }
   ],
   "source": [
    "plt.scatter(X, y)\n",
    "plt.xlabel('Area (square meter)')\n",
    "plt.ylabel('Price (euros)')"
   ]
  },
  {
   "cell_type": "code",
   "execution_count": null,
   "metadata": {},
   "outputs": [],
   "source": []
  },
  {
   "cell_type": "code",
   "execution_count": null,
   "metadata": {},
   "outputs": [],
   "source": []
  },
  {
   "cell_type": "markdown",
   "metadata": {},
   "source": [
    "### 1.3. Modeling\n",
    "\n",
    "Before feeding your data to any machine learning algorithm, ask yourself the question: \"how would I do the task manually?\". If the answer is not obvious, the problem might need to be reframed. Here, we want to fit a line to our data. Since there are only two datapoints, this line can perfectly fit the data: this is the line passing by both points.\n",
    "\n",
    "It can be easy to get lost while building a machine learning pipeline. Starting with a simple case will allow us to easily check that the algorithm is working as expected and create a healthy workflow.\n",
    "\n",
    "Your task is now to create a linear regression model with Sklearn and fit our dataset. To check that it worked, use the method `score()` from `LinearRegression`: it should return a score of 1, corresponding to a perfect fit."
   ]
  },
  {
   "cell_type": "code",
   "execution_count": null,
   "metadata": {},
   "outputs": [],
   "source": [
    "# Your code here\n"
   ]
  },
  {
   "cell_type": "code",
   "execution_count": null,
   "metadata": {},
   "outputs": [],
   "source": []
  },
  {
   "cell_type": "code",
   "execution_count": null,
   "metadata": {},
   "outputs": [],
   "source": []
  },
  {
   "cell_type": "code",
   "execution_count": 266,
   "metadata": {},
   "outputs": [
    {
     "data": {
      "text/plain": [
       "LinearRegression(copy_X=True, fit_intercept=True, n_jobs=None, normalize=False)"
      ]
     },
     "execution_count": 266,
     "metadata": {},
     "output_type": "execute_result"
    }
   ],
   "source": [
    "from sklearn.linear_model import LinearRegression\n",
    "\n",
    "reg = LinearRegression()\n",
    "reg.fit(X, y)"
   ]
  },
  {
   "cell_type": "markdown",
   "metadata": {},
   "source": [
    "That was not that hard! We can check that there is no error in the fit since there are only two points:"
   ]
  },
  {
   "cell_type": "code",
   "execution_count": 267,
   "metadata": {},
   "outputs": [
    {
     "data": {
      "text/plain": [
       "1.0"
      ]
     },
     "execution_count": 267,
     "metadata": {},
     "output_type": "execute_result"
    }
   ],
   "source": [
    "reg.score(X, y)"
   ]
  },
  {
   "cell_type": "code",
   "execution_count": null,
   "metadata": {},
   "outputs": [],
   "source": []
  },
  {
   "cell_type": "code",
   "execution_count": null,
   "metadata": {},
   "outputs": [],
   "source": []
  },
  {
   "cell_type": "markdown",
   "metadata": {},
   "source": [
    "### 1.4. Plot the Regression Line\n",
    "\n",
    "That's all! We trained our first linear regression algorithm! Now you will plot the regression line to be sure that it passes through our two points.\n",
    "\n",
    "- 1. Get our model's parameters (corresponding to the intercept and the slope).\n",
    "- 2. Plot the regression line along with the scatter plot of our apartments (the two points)."
   ]
  },
  {
   "cell_type": "code",
   "execution_count": 268,
   "metadata": {},
   "outputs": [],
   "source": [
    "# Your code here"
   ]
  },
  {
   "cell_type": "code",
   "execution_count": null,
   "metadata": {},
   "outputs": [],
   "source": []
  },
  {
   "cell_type": "code",
   "execution_count": null,
   "metadata": {},
   "outputs": [],
   "source": []
  },
  {
   "cell_type": "markdown",
   "metadata": {},
   "source": [
    "**1- Get the model's parameters**"
   ]
  },
  {
   "cell_type": "code",
   "execution_count": 269,
   "metadata": {},
   "outputs": [],
   "source": [
    "a, b = reg.coef_, reg.intercept_ "
   ]
  },
  {
   "cell_type": "markdown",
   "metadata": {},
   "source": [
    "**2- Plot the regression line**\n",
    "\n",
    "Since Matplotlib undertands only mapping between the $x$ and the $y$ axis, we need to convert the line equation given by $a$ and $b$ to pairs of values corresponding to $x$ and $y$. The equation of a line is:\n",
    "\n",
    "$$\n",
    "y = ax + b\n",
    "$$\n",
    "\n",
    "with $x$ and $y$ our two axes, $a$ the slope of the line and $b$ the intercept.\n",
    "\n",
    "We would need only two $(x, y)$ pairs to draw the line. However, let's use a more general way to plot mathematical functions (not only linear ones). We will create an array corresponding to all $x$ values of the mapping with values from a minimum to a maximum"
   ]
  },
  {
   "cell_type": "code",
   "execution_count": 270,
   "metadata": {},
   "outputs": [],
   "source": [
    "x_line = np.arange(35, 50)"
   ]
  },
  {
   "cell_type": "markdown",
   "metadata": {},
   "source": [
    "And then, calculate the corresponding $y$ value for each element of this array:"
   ]
  },
  {
   "cell_type": "code",
   "execution_count": 271,
   "metadata": {},
   "outputs": [],
   "source": [
    "y_line = a * x_line + b"
   ]
  },
  {
   "cell_type": "markdown",
   "metadata": {},
   "source": [
    "We can plot these mappping with the following code:"
   ]
  },
  {
   "cell_type": "code",
   "execution_count": 272,
   "metadata": {},
   "outputs": [
    {
     "data": {
      "text/plain": [
       "Text(0, 0.5, 'Price (euros)')"
      ]
     },
     "execution_count": 272,
     "metadata": {},
     "output_type": "execute_result"
    },
    {
     "data": {
      "image/png": "[encoded data removed]",
      "text/plain": [
       "<Figure size 432x288 with 1 Axes>"
      ]
     },
     "metadata": {
      "needs_background": "light"
     },
     "output_type": "display_data"
    }
   ],
   "source": [
    "plt.plot(x_line, y_line)\n",
    "plt.scatter(X, y)\n",
    "plt.xlabel('Area (square meter)')\n",
    "plt.ylabel('Price (euros)')"
   ]
  },
  {
   "cell_type": "markdown",
   "metadata": {},
   "source": [
    "It looks good! The regression line passes through our data points!"
   ]
  },
  {
   "cell_type": "code",
   "execution_count": null,
   "metadata": {},
   "outputs": [],
   "source": []
  },
  {
   "cell_type": "code",
   "execution_count": null,
   "metadata": {},
   "outputs": [],
   "source": []
  },
  {
   "cell_type": "markdown",
   "metadata": {},
   "source": [
    "### 1.5. New Apartment Price Prediction\n",
    "\n",
    "You will now create the last block of our machine learning pipeline: the price prediction of a new apartment using the area feature as input.\n",
    "\n",
    "Your friend Bob is asking for advice as he wants to sell his apartment. He gives you the area in square meters and ask you how much could he sell it. Your task is to use your model to predict the price of Bob's apartment:\n",
    "\n",
    "Square Meters | Price\n",
    ":---:|:---:\n",
    "34   |?\n",
    "\n",
    "Feel free to use the [sklearn documentation](https://scikit-learn.org/stable/modules/generated/sklearn.linear_model.LinearRegression.html). It is great and shows examples."
   ]
  },
  {
   "cell_type": "code",
   "execution_count": 9,
   "metadata": {},
   "outputs": [],
   "source": [
    "# Your code here\n"
   ]
  },
  {
   "cell_type": "code",
   "execution_count": null,
   "metadata": {},
   "outputs": [],
   "source": []
  },
  {
   "cell_type": "code",
   "execution_count": null,
   "metadata": {},
   "outputs": [],
   "source": []
  },
  {
   "cell_type": "code",
   "execution_count": 57,
   "metadata": {},
   "outputs": [
    {
     "data": {
      "text/plain": [
       "array([[533125.]])"
      ]
     },
     "execution_count": 57,
     "metadata": {},
     "output_type": "execute_result"
    }
   ],
   "source": [
    "reg.predict(np.array([[34]]))"
   ]
  },
  {
   "cell_type": "code",
   "execution_count": null,
   "metadata": {},
   "outputs": [],
   "source": []
  },
  {
   "cell_type": "code",
   "execution_count": null,
   "metadata": {},
   "outputs": [],
   "source": []
  },
  {
   "cell_type": "markdown",
   "metadata": {},
   "source": [
    "<details>\n",
    "  <summary>Meanwhile, Bob sold his apartment. Here is the true price.</summary>\n",
    "  He sold it for 445000 euros.\n",
    "</details>\n",
    "\n",
    "What do you think of your prediction? Is it accurate?\n"
   ]
  },
  {
   "cell_type": "markdown",
   "metadata": {},
   "source": [
    "### 1.6. More data\n",
    "\n",
    "Now that we have created a linear regression model and applied it to our two apartments, let's try to improve our model by using more apartments.\n",
    "\n",
    "You will train a new linear regression model with more data and try again to predict the price of the last apartment.\n",
    "\n",
    "Square Meters | Price\n",
    ":---:|:---:\n",
    "32   |489,000\n",
    "28   |336,000\n",
    "47   |494,000\n",
    "7    |85,000\n",
    "85   |1,595,000\n",
    "12   |130,000\n",
    "16   |173,000\n",
    "53   |520,000\n",
    "30   |320,000\n",
    "41   |660,000\n",
    "\n",
    "Try to use these new data to train your model. You can use the same kind of workflow:\n",
    "\n",
    "- Create the input data structure `X` and `y`.\n",
    "- Check shape of input data.\n",
    "- Have a look at the data with visualization.\n",
    "- Clarify the problem we are trying to solve.\n",
    "- Train the model using sklearn (don't include Bob's apartment).\n",
    "- Predict again the price of Bob's apartement.\n"
   ]
  },
  {
   "cell_type": "code",
   "execution_count": null,
   "metadata": {},
   "outputs": [],
   "source": [
    "# You code here\n"
   ]
  },
  {
   "cell_type": "code",
   "execution_count": null,
   "metadata": {},
   "outputs": [],
   "source": []
  },
  {
   "cell_type": "code",
   "execution_count": null,
   "metadata": {},
   "outputs": [],
   "source": []
  },
  {
   "cell_type": "markdown",
   "metadata": {},
   "source": [
    "Here is the data structure we need for our data:"
   ]
  },
  {
   "cell_type": "code",
   "execution_count": 273,
   "metadata": {},
   "outputs": [],
   "source": [
    "X = np.array([[32], [28], [47], [7], [85], [12], [16], [53], [30], [41]])\n",
    "y = np.array([489000, 336000, 494000, 85000, 1595000, 130000, 173000, 520000, 320000, 660000])"
   ]
  },
  {
   "cell_type": "markdown",
   "metadata": {},
   "source": [
    "\n",
    "<div class='solution'>\n",
    "\n",
    "As we have seen, this is almost always a good idea to start with a visual representation of the data. Try to do a scatter plot with $y$ in function of $X$ like we did it above."
   ]
  },
  {
   "cell_type": "code",
   "execution_count": 274,
   "metadata": {},
   "outputs": [
    {
     "data": {
      "text/plain": [
       "Text(0, 0.5, 'Price (euros)')"
      ]
     },
     "execution_count": 274,
     "metadata": {},
     "output_type": "execute_result"
    },
    {
     "data": {
      "image/png": "[encoded data removed]",
      "text/plain": [
       "<Figure size 432x288 with 1 Axes>"
      ]
     },
     "metadata": {
      "needs_background": "light"
     },
     "output_type": "display_data"
    }
   ],
   "source": [
    "plt.scatter(X, y)\n",
    "plt.xlabel('Area (square meter)')\n",
    "plt.ylabel('Price (euros)')"
   ]
  },
  {
   "cell_type": "markdown",
   "metadata": {},
   "source": [
    "It looks good! We can see that the apartment price insreases with the area, which makes sense.\n",
    "\n",
    "Let's do the regression:"
   ]
  },
  {
   "cell_type": "code",
   "execution_count": 276,
   "metadata": {},
   "outputs": [
    {
     "data": {
      "text/plain": [
       "LinearRegression(copy_X=True, fit_intercept=True, n_jobs=None, normalize=False)"
      ]
     },
     "execution_count": 276,
     "metadata": {},
     "output_type": "execute_result"
    }
   ],
   "source": [
    "reg = LinearRegression()\n",
    "reg.fit(X, y)"
   ]
  },
  {
   "cell_type": "markdown",
   "metadata": {},
   "source": [
    "Now that we have our model, we can try again to predict Bob's apartment price:"
   ]
  },
  {
   "cell_type": "code",
   "execution_count": 277,
   "metadata": {},
   "outputs": [
    {
     "data": {
      "text/plain": [
       "array([460689.82755361])"
      ]
     },
     "execution_count": 277,
     "metadata": {},
     "output_type": "execute_result"
    }
   ],
   "source": [
    "reg.predict(np.array([[34]]))"
   ]
  },
  {
   "cell_type": "markdown",
   "metadata": {},
   "source": [
    "We can see that the predicted price is around 460,000 euros with our new model. This is closer to the real price (445,000 euros).\n",
    "\n",
    "</div>\n",
    "\n",
    "Adding few observations in our training set has improved our model."
   ]
  }
 ],
 "metadata": {
  "kernelspec": {
   "display_name": "Python 3",
   "language": "python",
   "name": "python3"
  },
  "language_info": {
   "codemirror_mode": {
    "name": "ipython",
    "version": 3
   },
   "file_extension": ".py",
   "mimetype": "text/x-python",
   "name": "python",
   "nbconvert_exporter": "python",
   "pygments_lexer": "ipython3",
   "version": "3.7.2"
  }
 },
 "nbformat": 4,
 "nbformat_minor": 2
}
