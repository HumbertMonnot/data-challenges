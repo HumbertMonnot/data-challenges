{
 "cells": [
  {
   "cell_type": "code",
   "execution_count": 1,
   "metadata": {},
   "outputs": [],
   "source": [
    "import numpy as np\n",
    "import pandas as pd\n",
    "import matplotlib.pyplot as plt\n",
    "import seaborn as sns"
   ]
  },
  {
   "cell_type": "code",
   "execution_count": 2,
   "metadata": {},
   "outputs": [],
   "source": [
    "data = pd.read_csv(\"../data/ciqual_small.csv\")"
   ]
  },
  {
   "cell_type": "markdown",
   "metadata": {},
   "source": [
    "# 04 - Cost Function\n",
    "\n",
    "## Multiple Samples\n",
    "\n",
    "When applied to multiple data samples, we usually call *cost function* the function calculating the error of prediction.\n",
    "\n",
    "You will adapt the loss function from 3. to create the MSE cost function. This function will calculate the total error."
   ]
  },
  {
   "cell_type": "code",
   "execution_count": 3,
   "metadata": {},
   "outputs": [],
   "source": [
    "# Your code here\n"
   ]
  },
  {
   "cell_type": "code",
   "execution_count": null,
   "metadata": {},
   "outputs": [],
   "source": []
  },
  {
   "cell_type": "code",
   "execution_count": null,
   "metadata": {},
   "outputs": [],
   "source": []
  },
  {
   "cell_type": "code",
   "execution_count": 4,
   "metadata": {},
   "outputs": [
    {
     "name": "stdout",
     "output_type": "stream",
     "text": [
      "0.6964691855978616 0.28613933495037946\n"
     ]
    }
   ],
   "source": [
    "# Take h() from Exercise 02\n",
    "def h(x, theta0, theta1):\n",
    "    y_pred = theta0 + theta1 * x\n",
    "    return y_pred\n",
    "\n",
    "# Take initialization from Exercise 03\n",
    "np.random.seed(123)\n",
    "theta0 = np.random.rand()\n",
    "theta1 = np.random.rand()\n",
    "print(theta0, theta1)\n",
    "# you should get: 0.6964691855978616 0.28613933495037946"
   ]
  },
  {
   "cell_type": "code",
   "execution_count": 5,
   "metadata": {},
   "outputs": [],
   "source": [
    "def L(x, y, theta0, theta1):\n",
    "    y_hat = h(x, theta0, theta1)\n",
    "    return np.sum((y_hat - y) ** 2)"
   ]
  },
  {
   "cell_type": "code",
   "execution_count": null,
   "metadata": {},
   "outputs": [],
   "source": []
  },
  {
   "cell_type": "code",
   "execution_count": null,
   "metadata": {},
   "outputs": [],
   "source": []
  },
  {
   "cell_type": "markdown",
   "metadata": {},
   "source": [
    "Using the whole dataset and the random initialized parameters you should get:"
   ]
  },
  {
   "cell_type": "code",
   "execution_count": 6,
   "metadata": {},
   "outputs": [
    {
     "data": {
      "text/plain": [
       "2789086.39259691"
      ]
     },
     "execution_count": 6,
     "metadata": {},
     "output_type": "execute_result"
    }
   ],
   "source": [
    "L(x=data['Zinc (mg/100g)'], y=data['Phosphorus (mg/100g)'], theta0=theta0, theta1=theta1)\n",
    "# Should return 2789086.39259691"
   ]
  },
  {
   "cell_type": "code",
   "execution_count": null,
   "metadata": {},
   "outputs": [],
   "source": []
  },
  {
   "cell_type": "code",
   "execution_count": null,
   "metadata": {},
   "outputs": [],
   "source": []
  },
  {
   "cell_type": "code",
   "execution_count": null,
   "metadata": {},
   "outputs": [],
   "source": []
  },
  {
   "cell_type": "markdown",
   "metadata": {},
   "source": [
    "## Grid Search to Find Parameters\n",
    "\n",
    "The last part of the linear regression algorithm is the optimization of our parameters $\\theta_0$ and $\\theta_1$. But first, we will look at a range of parameter values to the see the impact on the cost. You will do a grid search of parameters $\\theta_0$ and $\\theta_1$.\n",
    "\n",
    "- 1. Use your function from 4. to calculate the cost on the whole dataset using different values of $\\theta_0$ and $\\theta_1$.\n",
    "\n",
    "Use the following grid of parameters:"
   ]
  },
  {
   "cell_type": "code",
   "execution_count": 7,
   "metadata": {},
   "outputs": [],
   "source": [
    "theta0_grid = np.arange(-500, 500, 50)\n",
    "theta1_grid = np.arange(-500, 500, 50)"
   ]
  },
  {
   "cell_type": "markdown",
   "metadata": {},
   "source": [
    "Your function must take your variables `x`, `y`, `theta0_grid`, and `theta1_grid` as input and return a two-dimensional Numpy array containing the cost values corresponding to each combination of parameter $\\theta_0$ and $\\theta_1$.\n",
    "\n",
    "- 2. Store these value in a 2D Numpy array\n",
    "\n",
    "<details>\n",
    "<summary>hint</summary>\n",
    "You can create an array filled with 0. For instance,\n",
    "\n",
    "```python\n",
    "np.zeros((2, 2))\n",
    "```\n",
    "\n",
    "creates an array of shape $2 \\times 2$. You can then fill it with the parameter values.\n",
    "</details>"
   ]
  },
  {
   "cell_type": "code",
   "execution_count": 8,
   "metadata": {},
   "outputs": [],
   "source": [
    "# Your code here\n",
    "def grid_search(x, y, theta0_grid, theta1_grid):\n",
    "    pass"
   ]
  },
  {
   "cell_type": "code",
   "execution_count": null,
   "metadata": {},
   "outputs": [],
   "source": []
  },
  {
   "cell_type": "code",
   "execution_count": null,
   "metadata": {},
   "outputs": [],
   "source": []
  },
  {
   "cell_type": "code",
   "execution_count": 9,
   "metadata": {},
   "outputs": [],
   "source": [
    "theta0_grid = np.arange(-500, 500, 50)\n",
    "theta1_grid = np.arange(-500, 500, 50)\n",
    "\n",
    "def grid_search(x, y, theta0_grid, theta1_grid):\n",
    "    cost_all = np.zeros((theta0_grid.shape[0], theta1_grid.shape[0]))\n",
    "\n",
    "    for i in range(theta0_grid.shape[0]):\n",
    "        for j in range(theta1_grid.shape[0]):\n",
    "            cost = L(x, y, theta0=theta0_grid[i], theta1=theta1_grid[j])\n",
    "            cost_all[i, j] = cost\n",
    "    return cost_all"
   ]
  },
  {
   "cell_type": "code",
   "execution_count": 10,
   "metadata": {},
   "outputs": [],
   "source": [
    "cost_all = grid_search(x=data['Zinc (mg/100g)'], y=data['Phosphorus (mg/100g)'],\n",
    "                       theta0_grid=theta0_grid, theta1_grid=theta1_grid)"
   ]
  },
  {
   "cell_type": "code",
   "execution_count": null,
   "metadata": {},
   "outputs": [],
   "source": []
  },
  {
   "cell_type": "code",
   "execution_count": null,
   "metadata": {},
   "outputs": [],
   "source": []
  },
  {
   "cell_type": "markdown",
   "metadata": {},
   "source": [
    "You can check your `grid_search()` function with the following test:"
   ]
  },
  {
   "cell_type": "code",
   "execution_count": 11,
   "metadata": {},
   "outputs": [
    {
     "data": {
      "text/plain": [
       "27525475.0"
      ]
     },
     "execution_count": 11,
     "metadata": {},
     "output_type": "execute_result"
    }
   ],
   "source": [
    "cost_all = grid_search(x=data['Zinc (mg/100g)'], y=data['Phosphorus (mg/100g)'],\n",
    "                       theta0_grid=theta0_grid, theta1_grid=theta1_grid)\n",
    "cost_all[12, 4]\n",
    "# Should return 27525475.0"
   ]
  },
  {
   "cell_type": "code",
   "execution_count": 12,
   "metadata": {},
   "outputs": [
    {
     "data": {
      "text/plain": [
       "10732372.0"
      ]
     },
     "execution_count": 12,
     "metadata": {},
     "output_type": "execute_result"
    }
   ],
   "source": [
    "cost_all[7, 18]\n",
    "# Should return 10732372.0"
   ]
  },
  {
   "cell_type": "code",
   "execution_count": null,
   "metadata": {},
   "outputs": [],
   "source": []
  },
  {
   "cell_type": "code",
   "execution_count": null,
   "metadata": {},
   "outputs": [],
   "source": []
  },
  {
   "cell_type": "markdown",
   "metadata": {},
   "source": [
    "- 3. Plot this matrix using a heatmap\n",
    "\n",
    "<details>\n",
    "<summary>hint</summary>\n",
    "https://seaborn.pydata.org/generated/seaborn.heatmap.html\n",
    "</details>\n"
   ]
  },
  {
   "cell_type": "code",
   "execution_count": null,
   "metadata": {},
   "outputs": [],
   "source": []
  },
  {
   "cell_type": "code",
   "execution_count": null,
   "metadata": {},
   "outputs": [],
   "source": []
  },
  {
   "cell_type": "code",
   "execution_count": 13,
   "metadata": {},
   "outputs": [
    {
     "data": {
      "text/plain": [
       "<matplotlib.axes._subplots.AxesSubplot at 0x7fca58105160>"
      ]
     },
     "execution_count": 13,
     "metadata": {},
     "output_type": "execute_result"
    },
    {
     "data": {
      "image/png": "[encoded data removed]",
      "text/plain": [
       "<Figure size 432x288 with 2 Axes>"
      ]
     },
     "metadata": {
      "needs_background": "light"
     },
     "output_type": "display_data"
    }
   ],
   "source": [
    "sns.heatmap(cost_all,\n",
    "           xticklabels = theta1_grid,\n",
    "           yticklabels = theta0_grid)"
   ]
  },
  {
   "cell_type": "code",
   "execution_count": null,
   "metadata": {},
   "outputs": [],
   "source": []
  },
  {
   "cell_type": "code",
   "execution_count": null,
   "metadata": {},
   "outputs": [],
   "source": []
  },
  {
   "cell_type": "markdown",
   "metadata": {},
   "source": [
    "There is an issue: since the parameters don't have the same scale, the \"good\" parameter values (the values that are associated with a low cost) are more spread on one dimension in comparison to the other. It is hard to visualize and to find the good parameters. We will also see later that it is not good for gradient descent to have features scaled differently.\n",
    "\n",
    "In our case, there is only one feature, we want to normalize it. We also want to normalize the dependent variable in order to insure that the bset parameters will be in the same range which will facilitate the search.\n",
    "\n",
    "Thus, your next task is to normalize the feature (amount of `zinc`) and the dependent variable (amount of `phosphorus`). To do so, you will create a normalization function."
   ]
  },
  {
   "cell_type": "code",
   "execution_count": 14,
   "metadata": {},
   "outputs": [],
   "source": [
    "# Your code here\n"
   ]
  },
  {
   "cell_type": "code",
   "execution_count": null,
   "metadata": {},
   "outputs": [],
   "source": []
  },
  {
   "cell_type": "code",
   "execution_count": null,
   "metadata": {},
   "outputs": [],
   "source": []
  },
  {
   "cell_type": "code",
   "execution_count": 15,
   "metadata": {},
   "outputs": [],
   "source": [
    "def normalize(X):\n",
    "    return (X - X.mean()) / X.std()"
   ]
  },
  {
   "cell_type": "code",
   "execution_count": null,
   "metadata": {},
   "outputs": [],
   "source": []
  },
  {
   "cell_type": "code",
   "execution_count": null,
   "metadata": {},
   "outputs": [],
   "source": []
  },
  {
   "cell_type": "markdown",
   "metadata": {},
   "source": [
    "We will copy our dataset to be sure to keep it untouched and normalize the variables on the copy."
   ]
  },
  {
   "cell_type": "code",
   "execution_count": 16,
   "metadata": {},
   "outputs": [],
   "source": [
    "data_norm = data.copy()"
   ]
  },
  {
   "cell_type": "markdown",
   "metadata": {},
   "source": [
    "To check that your function is correct, run the following test:"
   ]
  },
  {
   "cell_type": "code",
   "execution_count": 17,
   "metadata": {},
   "outputs": [
    {
     "data": {
      "text/plain": [
       "0   -1.033903\n",
       "1   -1.299774\n",
       "2   -0.905552\n",
       "3   -1.235598\n",
       "4   -1.382285\n",
       "Name: Zinc (mg/100g), dtype: float64"
      ]
     },
     "execution_count": 17,
     "metadata": {},
     "output_type": "execute_result"
    }
   ],
   "source": [
    "normalize(data_norm['Zinc (mg/100g)']).head()\n",
    "# Should return the following values:\n",
    "# 0    -1.033903\n",
    "# 1    -1.299774\n",
    "# 2    -0.905552\n",
    "# 3    -1.235598\n",
    "# 4    -1.382285"
   ]
  },
  {
   "cell_type": "markdown",
   "metadata": {},
   "source": [
    "When your `normalize()` function is correct:\n",
    "\n",
    "- 1. Use it to normalize the variables `zinc` and `phosphorus`.\n",
    "- 2. Visualize the scatter plot of the normalized data.\n",
    "- 3. Calculate the cost for every combination of parameter with the function `grid_search()` that you coded above.\n",
    "- 4. Visualize the new heatmap from normalized data."
   ]
  },
  {
   "cell_type": "code",
   "execution_count": 18,
   "metadata": {},
   "outputs": [],
   "source": [
    "# Your code here\n"
   ]
  },
  {
   "cell_type": "code",
   "execution_count": null,
   "metadata": {},
   "outputs": [],
   "source": []
  },
  {
   "cell_type": "code",
   "execution_count": null,
   "metadata": {},
   "outputs": [],
   "source": []
  },
  {
   "cell_type": "markdown",
   "metadata": {},
   "source": [
    "1."
   ]
  },
  {
   "cell_type": "code",
   "execution_count": 19,
   "metadata": {},
   "outputs": [],
   "source": [
    "data_norm['Zinc (mg/100g)'] = normalize(data_norm['Zinc (mg/100g)'])\n",
    "data_norm['Phosphorus (mg/100g)'] = normalize(data_norm['Phosphorus (mg/100g)'])"
   ]
  },
  {
   "cell_type": "markdown",
   "metadata": {},
   "source": [
    "2."
   ]
  },
  {
   "cell_type": "code",
   "execution_count": 20,
   "metadata": {},
   "outputs": [
    {
     "data": {
      "text/plain": [
       "<matplotlib.axes._subplots.AxesSubplot at 0x7fca288fb550>"
      ]
     },
     "execution_count": 20,
     "metadata": {},
     "output_type": "execute_result"
    },
    {
     "data": {
      "image/png": "[encoded data removed]",
      "text/plain": [
       "<Figure size 432x288 with 1 Axes>"
      ]
     },
     "metadata": {
      "needs_background": "light"
     },
     "output_type": "display_data"
    }
   ],
   "source": [
    "sns.scatterplot('Zinc (mg/100g)','Phosphorus (mg/100g)', data=data_norm)"
   ]
  },
  {
   "cell_type": "markdown",
   "metadata": {},
   "source": [
    "We can see that the normalized data are centered around 0."
   ]
  },
  {
   "cell_type": "markdown",
   "metadata": {},
   "source": [
    "3."
   ]
  },
  {
   "cell_type": "code",
   "execution_count": 21,
   "metadata": {},
   "outputs": [],
   "source": [
    "cost_all_norm = grid_search(x=data_norm['Zinc (mg/100g)'], y=data_norm['Phosphorus (mg/100g)'],\n",
    "                            theta0_grid=theta0_grid, theta1_grid=theta1_grid)\n"
   ]
  },
  {
   "cell_type": "markdown",
   "metadata": {},
   "source": [
    "4."
   ]
  },
  {
   "cell_type": "code",
   "execution_count": 22,
   "metadata": {},
   "outputs": [
    {
     "data": {
      "text/plain": [
       "<matplotlib.axes._subplots.AxesSubplot at 0x7fca2892a588>"
      ]
     },
     "execution_count": 22,
     "metadata": {},
     "output_type": "execute_result"
    },
    {
     "data": {
      "image/png": "[encoded data removed]",
      "text/plain": [
       "<Figure size 432x288 with 2 Axes>"
      ]
     },
     "metadata": {
      "needs_background": "light"
     },
     "output_type": "display_data"
    }
   ],
   "source": [
    "sns.heatmap(cost_all_norm,\n",
    "           xticklabels = theta1_grid,\n",
    "           yticklabels = theta0_grid)"
   ]
  },
  {
   "cell_type": "code",
   "execution_count": null,
   "metadata": {},
   "outputs": [],
   "source": []
  },
  {
   "cell_type": "code",
   "execution_count": null,
   "metadata": {},
   "outputs": [],
   "source": []
  },
  {
   "cell_type": "markdown",
   "metadata": {},
   "source": [
    "Let's zoom in a bit. You can repeat the same steps using a new range for our grid:"
   ]
  },
  {
   "cell_type": "code",
   "execution_count": 23,
   "metadata": {},
   "outputs": [],
   "source": [
    "theta0_grid = np.arange(-2, 2, 0.2)\n",
    "theta1_grid = np.arange(-2, 2, 0.2)"
   ]
  },
  {
   "cell_type": "code",
   "execution_count": 24,
   "metadata": {},
   "outputs": [],
   "source": [
    "# Your code here\n"
   ]
  },
  {
   "cell_type": "code",
   "execution_count": null,
   "metadata": {},
   "outputs": [],
   "source": []
  },
  {
   "cell_type": "code",
   "execution_count": null,
   "metadata": {},
   "outputs": [],
   "source": []
  },
  {
   "cell_type": "code",
   "execution_count": 25,
   "metadata": {},
   "outputs": [],
   "source": [
    "cost_all_norm = grid_search(x=data_norm['Zinc (mg/100g)'], y=data_norm['Phosphorus (mg/100g)'],\n",
    "                            theta0_grid=theta0_grid, theta1_grid=theta1_grid)"
   ]
  },
  {
   "cell_type": "code",
   "execution_count": 26,
   "metadata": {},
   "outputs": [
    {
     "data": {
      "text/plain": [
       "<matplotlib.axes._subplots.AxesSubplot at 0x7fca68a8b208>"
      ]
     },
     "execution_count": 26,
     "metadata": {},
     "output_type": "execute_result"
    },
    {
     "data": {
      "image/png": "[encoded data removed]",
      "text/plain": [
       "<Figure size 432x288 with 2 Axes>"
      ]
     },
     "metadata": {
      "needs_background": "light"
     },
     "output_type": "display_data"
    }
   ],
   "source": [
    "sns.heatmap(cost_all_norm,\n",
    "           xticklabels = theta1_grid.round(2),\n",
    "           yticklabels = theta0_grid.round(2))\n"
   ]
  },
  {
   "cell_type": "code",
   "execution_count": null,
   "metadata": {},
   "outputs": [],
   "source": []
  },
  {
   "cell_type": "code",
   "execution_count": null,
   "metadata": {},
   "outputs": [],
   "source": []
  },
  {
   "cell_type": "markdown",
   "metadata": {},
   "source": [
    "The last thing to do it to extract the parameters associated with the lower cost from the array `cost_all_norm`."
   ]
  },
  {
   "cell_type": "code",
   "execution_count": 27,
   "metadata": {},
   "outputs": [],
   "source": [
    "# Your code here\n"
   ]
  },
  {
   "cell_type": "code",
   "execution_count": null,
   "metadata": {},
   "outputs": [],
   "source": []
  },
  {
   "cell_type": "code",
   "execution_count": null,
   "metadata": {},
   "outputs": [],
   "source": []
  },
  {
   "cell_type": "code",
   "execution_count": 39,
   "metadata": {},
   "outputs": [],
   "source": [
    "best_params = np.unravel_index(cost_all_norm.argmin(), cost_all_norm.shape)\n",
    "\n",
    "a = theta0_grid[best_params[0]]\n",
    "b = theta1_grid[best_params[1]]"
   ]
  },
  {
   "cell_type": "code",
   "execution_count": null,
   "metadata": {},
   "outputs": [],
   "source": []
  },
  {
   "cell_type": "code",
   "execution_count": null,
   "metadata": {},
   "outputs": [],
   "source": []
  },
  {
   "cell_type": "markdown",
   "metadata": {},
   "source": [
    "Let's call `a` the slope corresponding to the best $\\theta_0$ and `b` the intercept corresponding to the best $\\theta_1$. You should have found the following parameters.:"
   ]
  },
  {
   "cell_type": "code",
   "execution_count": 40,
   "metadata": {},
   "outputs": [
    {
     "name": "stdout",
     "output_type": "stream",
     "text": [
      "-4.440892098500626e-16 0.7999999999999994\n"
     ]
    }
   ],
   "source": [
    "print(a, b)\n",
    "# Should return -4.440892098500626e-16 0.7999999999999994"
   ]
  },
  {
   "cell_type": "markdown",
   "metadata": {},
   "source": [
    "This means that the intercept is almost 0 and the slope is 0.8.\n",
    "\n",
    "Finally, you can plot the line with these parameters to see if it fits our data samples."
   ]
  },
  {
   "cell_type": "code",
   "execution_count": 30,
   "metadata": {},
   "outputs": [],
   "source": [
    "# Your code here\n"
   ]
  },
  {
   "cell_type": "code",
   "execution_count": null,
   "metadata": {},
   "outputs": [],
   "source": []
  },
  {
   "cell_type": "code",
   "execution_count": 31,
   "metadata": {},
   "outputs": [
    {
     "data": {
      "text/plain": [
       "[<matplotlib.lines.Line2D at 0x7fca38b2ceb8>]"
      ]
     },
     "execution_count": 31,
     "metadata": {},
     "output_type": "execute_result"
    },
    {
     "data": {
      "image/png": "[encoded data removed]",
      "text/plain": [
       "<Figure size 432x288 with 1 Axes>"
      ]
     },
     "metadata": {
      "needs_background": "light"
     },
     "output_type": "display_data"
    }
   ],
   "source": [
    "x_line = np.arange(data_norm['Zinc (mg/100g)'].min() - data_norm['Zinc (mg/100g)'].min() / 10,\n",
    "                   data_norm['Zinc (mg/100g)'].max() + data_norm['Zinc (mg/100g)'].max() / 10,\n",
    "                  0.1)\n",
    "y_line = a + b * x_line\n",
    "\n",
    "sns.scatterplot('Zinc (mg/100g)','Phosphorus (mg/100g)', data=data_norm)\n",
    "plt.plot(x_line, y_line)"
   ]
  },
  {
   "cell_type": "code",
   "execution_count": null,
   "metadata": {},
   "outputs": [],
   "source": []
  },
  {
   "cell_type": "code",
   "execution_count": 34,
   "metadata": {},
   "outputs": [],
   "source": [
    "import h5py\n",
    "\n",
    "hf = h5py.File('data_exercises.h5', 'w')\n",
    "\n",
    "hf.create_dataset('cost_all_norm', data=cost_all_norm)\n",
    "hf.close()"
   ]
  },
  {
   "cell_type": "code",
   "execution_count": null,
   "metadata": {},
   "outputs": [],
   "source": []
  },
  {
   "cell_type": "code",
   "execution_count": null,
   "metadata": {},
   "outputs": [],
   "source": []
  }
 ],
 "metadata": {
  "kernelspec": {
   "display_name": "Python 3",
   "language": "python",
   "name": "python3"
  },
  "language_info": {
   "codemirror_mode": {
    "name": "ipython",
    "version": 3
   },
   "file_extension": ".py",
   "mimetype": "text/x-python",
   "name": "python",
   "nbconvert_exporter": "python",
   "pygments_lexer": "ipython3",
   "version": "3.7.2"
  },
  "toc": {
   "base_numbering": 1,
   "nav_menu": {},
   "number_sections": false,
   "sideBar": true,
   "skip_h1_title": false,
   "title_cell": "Table of Contents",
   "title_sidebar": "Contents",
   "toc_cell": false,
   "toc_position": {},
   "toc_section_display": true,
   "toc_window_display": false
  }
 },
 "nbformat": 4,
 "nbformat_minor": 2
}
