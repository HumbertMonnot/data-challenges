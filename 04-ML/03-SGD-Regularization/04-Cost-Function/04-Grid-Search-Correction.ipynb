{
 "cells": [
  {
   "cell_type": "markdown",
   "metadata": {},
   "source": [
    "# 04 - Grid Search\n",
    "\n",
    "In Exercise 03, we calculated the cost associated with values of `theta0` and `theta1`. We can now look at a range of parameter values to see the impact on the cost: this is a grid search of the parameters $\\theta_0$ and $\\theta_1$.\n",
    "\n",
    "## Setup\n",
    "\n",
    "First, here are some imports:"
   ]
  },
  {
   "cell_type": "code",
   "execution_count": 1,
   "metadata": {},
   "outputs": [],
   "source": [
    "import numpy as np\n",
    "import pandas as pd\n",
    "import matplotlib.pyplot as plt\n",
    "import seaborn as sns"
   ]
  },
  {
   "cell_type": "code",
   "execution_count": 2,
   "metadata": {},
   "outputs": [],
   "source": [
    "data = pd.read_csv(\"../data/ciqual_small.csv\")"
   ]
  },
  {
   "cell_type": "markdown",
   "metadata": {},
   "source": [
    "Get the following functions from previous exercises:"
   ]
  },
  {
   "cell_type": "code",
   "execution_count": 3,
   "metadata": {
    "code_folding": []
   },
   "outputs": [],
   "source": [
    " def h(x, theta0, theta1):\n",
    "    # TODO: Take h() from Exercise 02.\n",
    "    pass\n",
    "\n",
    "def L(x, y, theta0, theta1):\n",
    "    # TODO: Take L() from Exercise 03.\n",
    "    pass\n",
    "\n",
    "def plot_reg_line(x, y, theta0, theta1):\n",
    "    # TODO: Take plot_reg_line() from Exercise 03.\n",
    "    pass"
   ]
  },
  {
   "cell_type": "code",
   "execution_count": null,
   "metadata": {},
   "outputs": [],
   "source": []
  },
  {
   "cell_type": "code",
   "execution_count": null,
   "metadata": {},
   "outputs": [],
   "source": []
  },
  {
   "cell_type": "code",
   "execution_count": 4,
   "metadata": {},
   "outputs": [],
   "source": [
    "def h(x, theta0, theta1):\n",
    "    y_pred = theta0 + theta1 * x\n",
    "    return y_pred\n",
    "\n",
    "def L(x, y, theta0, theta1):\n",
    "    y_hat = h(x, theta0, theta1)\n",
    "    m = x.shape[0]\n",
    "    return (1 / (2 * m)) * np.sum((y_hat - y) ** 2)\n",
    "\n",
    "def plot_reg_line(x, y, theta0, theta1):\n",
    "    x_line = np.arange(x.min() - x.min() / 10,\n",
    "                       x.max() + x.max() / 10,\n",
    "                      0.1)\n",
    "    y_line = theta0 + theta1 * x_line\n",
    "\n",
    "    sns.scatterplot(x, y)\n",
    "    plt.plot(x_line, y_line)"
   ]
  },
  {
   "cell_type": "code",
   "execution_count": null,
   "metadata": {},
   "outputs": [],
   "source": []
  },
  {
   "cell_type": "code",
   "execution_count": null,
   "metadata": {},
   "outputs": [],
   "source": []
  },
  {
   "cell_type": "markdown",
   "metadata": {},
   "source": [
    "To do the grid search, you will need to:\n",
    "\n",
    "- 1. Use your cost function `L(x, y, theta0, theta1)` to calculate the cost on the whole dataset for different values of $\\theta_0$ and $\\theta_1$.\n",
    "\n",
    "Use the following grid of parameters:"
   ]
  },
  {
   "cell_type": "code",
   "execution_count": 5,
   "metadata": {},
   "outputs": [],
   "source": [
    "theta0_grid = np.arange(-500, 500, 50)\n",
    "theta1_grid = np.arange(-500, 500, 50)"
   ]
  },
  {
   "cell_type": "markdown",
   "metadata": {},
   "source": [
    "Your function must take `x`, `y`, `theta0_grid`, and `theta1_grid` as input and return a two-dimensional Numpy array containing the cost values for each combination of parameter $\\theta_0$ and $\\theta_1$. You can store the returned grid in a variable called `cost_all`.\n",
    "\n",
    "- 2. Store these value in a 2D Numpy array\n",
    "\n",
    "<details>\n",
    "<summary>hint</summary>\n",
    "You can create an array filled with 0. For instance,\n",
    "\n",
    "```python\n",
    "np.zeros((2, 2))\n",
    "```\n",
    "\n",
    "creates an array of shape $2 \\times 2$. You can then fill it with the parameter values.\n",
    "</details>"
   ]
  },
  {
   "cell_type": "code",
   "execution_count": 6,
   "metadata": {},
   "outputs": [],
   "source": [
    "# Your code here\n",
    "def grid_search(x, y, theta0_grid, theta1_grid):\n",
    "    # TODO: This function should return an array filled with cost values for each parameter combination.\n",
    "    pass"
   ]
  },
  {
   "cell_type": "code",
   "execution_count": null,
   "metadata": {},
   "outputs": [],
   "source": []
  },
  {
   "cell_type": "code",
   "execution_count": null,
   "metadata": {},
   "outputs": [],
   "source": []
  },
  {
   "cell_type": "code",
   "execution_count": 7,
   "metadata": {},
   "outputs": [],
   "source": [
    "def grid_search(x, y, theta0_grid, theta1_grid):\n",
    "    cost_all = np.zeros((theta0_grid.shape[0], theta1_grid.shape[0]))\n",
    "\n",
    "    for i in range(theta0_grid.shape[0]):\n",
    "        for j in range(theta1_grid.shape[0]):\n",
    "            cost = L(x, y, theta0=theta0_grid[i], theta1=theta1_grid[j])\n",
    "            cost_all[i, j] = cost\n",
    "    return cost_all"
   ]
  },
  {
   "cell_type": "code",
   "execution_count": 8,
   "metadata": {},
   "outputs": [],
   "source": [
    "cost_all = grid_search(x=data['Zinc (mg/100g)'], y=data['Phosphorus (mg/100g)'],\n",
    "                       theta0_grid=theta0_grid, theta1_grid=theta1_grid)"
   ]
  },
  {
   "cell_type": "code",
   "execution_count": null,
   "metadata": {},
   "outputs": [],
   "source": []
  },
  {
   "cell_type": "code",
   "execution_count": null,
   "metadata": {},
   "outputs": [],
   "source": []
  },
  {
   "cell_type": "markdown",
   "metadata": {},
   "source": [
    "You can check that your `grid_search()` function is correct with the following tests:"
   ]
  },
  {
   "cell_type": "code",
   "execution_count": 9,
   "metadata": {},
   "outputs": [
    {
     "data": {
      "text/plain": [
       "259674.29245283018"
      ]
     },
     "execution_count": 9,
     "metadata": {},
     "output_type": "execute_result"
    }
   ],
   "source": [
    "cost_all = grid_search(x=data['Zinc (mg/100g)'], y=data['Phosphorus (mg/100g)'],\n",
    "                       theta0_grid=theta0_grid, theta1_grid=theta1_grid)\n",
    "cost_all[12, 4]\n",
    "# Should return 259674.29245283018"
   ]
  },
  {
   "cell_type": "code",
   "execution_count": 10,
   "metadata": {},
   "outputs": [
    {
     "data": {
      "text/plain": [
       "101248.79245283018"
      ]
     },
     "execution_count": 10,
     "metadata": {},
     "output_type": "execute_result"
    }
   ],
   "source": [
    "cost_all[7, 18]\n",
    "# Should return 101248.79245283018"
   ]
  },
  {
   "cell_type": "markdown",
   "metadata": {},
   "source": [
    "- 3. Plot this matrix using a heatmap\n",
    "\n",
    "<details>\n",
    "<summary>hint</summary>\n",
    "https://seaborn.pydata.org/generated/seaborn.heatmap.html\n",
    "</details>\n"
   ]
  },
  {
   "cell_type": "code",
   "execution_count": null,
   "metadata": {},
   "outputs": [],
   "source": []
  },
  {
   "cell_type": "code",
   "execution_count": null,
   "metadata": {},
   "outputs": [],
   "source": []
  },
  {
   "cell_type": "code",
   "execution_count": 11,
   "metadata": {},
   "outputs": [
    {
     "data": {
      "text/plain": [
       "<matplotlib.axes._subplots.AxesSubplot at 0x7f9670d57b70>"
      ]
     },
     "execution_count": 11,
     "metadata": {},
     "output_type": "execute_result"
    },
    {
     "data": {
      "image/png": "[encoded data removed]",
      "text/plain": [
       "<Figure size 432x288 with 2 Axes>"
      ]
     },
     "metadata": {
      "needs_background": "light"
     },
     "output_type": "display_data"
    }
   ],
   "source": [
    "sns.heatmap(cost_all,\n",
    "           xticklabels = theta1_grid,\n",
    "           yticklabels = theta0_grid)"
   ]
  },
  {
   "cell_type": "code",
   "execution_count": null,
   "metadata": {},
   "outputs": [],
   "source": []
  },
  {
   "cell_type": "code",
   "execution_count": null,
   "metadata": {},
   "outputs": [],
   "source": []
  },
  {
   "cell_type": "markdown",
   "metadata": {},
   "source": [
    "You can now try to extract the parameters associated with the lowest cost from the array `cost_all`.\n",
    "\n",
    "- create the variable `best_params` containing a tuple with the indexes corresponding to the best parameter values.\n",
    "- create the variables `best_theta0_norm` and `best_theta1_norm` containing the values of `theta0` and `theta1` corresponding to the lower cost\n",
    "- plot the regression line along with the normalized data"
   ]
  },
  {
   "cell_type": "code",
   "execution_count": 12,
   "metadata": {},
   "outputs": [],
   "source": [
    "# Your code here\n",
    "# TODO: create the variable `best_params`, `best_theta0` and `best_theta1`."
   ]
  },
  {
   "cell_type": "code",
   "execution_count": null,
   "metadata": {},
   "outputs": [],
   "source": []
  },
  {
   "cell_type": "code",
   "execution_count": null,
   "metadata": {},
   "outputs": [],
   "source": []
  },
  {
   "cell_type": "code",
   "execution_count": 13,
   "metadata": {},
   "outputs": [],
   "source": [
    "best_params = np.unravel_index(cost_all.argmin(), cost_all.shape)\n",
    "\n",
    "best_theta0 = theta0_grid[best_params[0]]\n",
    "best_theta1 = theta1_grid[best_params[1]]"
   ]
  },
  {
   "cell_type": "code",
   "execution_count": null,
   "metadata": {},
   "outputs": [],
   "source": []
  },
  {
   "cell_type": "code",
   "execution_count": null,
   "metadata": {},
   "outputs": [],
   "source": []
  },
  {
   "cell_type": "markdown",
   "metadata": {},
   "source": [
    "Test your results with the following cell:"
   ]
  },
  {
   "cell_type": "code",
   "execution_count": 14,
   "metadata": {
    "scrolled": true
   },
   "outputs": [
    {
     "name": "stdout",
     "output_type": "stream",
     "text": [
      "0 100\n"
     ]
    }
   ],
   "source": [
    "print(best_theta0, best_theta1)\n",
    "# Should return 0 100"
   ]
  },
  {
   "cell_type": "markdown",
   "metadata": {},
   "source": [
    "This means that the intercept is 0 and the slope is 100.\n",
    "\n",
    "Finally, you can use your function `plot_reg_line(x, y, theta0, theta1)` from Exercise 03 to plot the regression line and see if it fits our data well."
   ]
  },
  {
   "cell_type": "code",
   "execution_count": 15,
   "metadata": {},
   "outputs": [],
   "source": [
    "# Your code here\n"
   ]
  },
  {
   "cell_type": "code",
   "execution_count": null,
   "metadata": {},
   "outputs": [],
   "source": []
  },
  {
   "cell_type": "code",
   "execution_count": null,
   "metadata": {},
   "outputs": [],
   "source": []
  },
  {
   "cell_type": "code",
   "execution_count": 16,
   "metadata": {},
   "outputs": [
    {
     "data": {
      "image/png": "[encoded data removed]",
      "text/plain": [
       "<Figure size 432x288 with 1 Axes>"
      ]
     },
     "metadata": {
      "needs_background": "light"
     },
     "output_type": "display_data"
    }
   ],
   "source": [
    "plot_reg_line(data['Zinc (mg/100g)'],\n",
    "              data['Phosphorus (mg/100g)'],\n",
    "              theta0=best_theta0,\n",
    "              theta1=best_theta1)\n"
   ]
  },
  {
   "cell_type": "code",
   "execution_count": null,
   "metadata": {},
   "outputs": [],
   "source": []
  },
  {
   "cell_type": "code",
   "execution_count": null,
   "metadata": {},
   "outputs": [],
   "source": []
  },
  {
   "cell_type": "markdown",
   "metadata": {},
   "source": [
    "We might note that the accuracy depends on the resolution of our grids. Here we used a step of 50 for speed, which is rough.\n",
    "\n",
    "## Normalization\n",
    "\n",
    "Since the parameters don't have the same scale, the \"good\" parameter values (the values that are associated with a low cost) are more spread on one dimension in comparison to the other. It makes it hard to visualize. It is also better for gradient descent to have features on the same scale.\n",
    "\n",
    "In our case, we want to normalize our single feature (amount of `zinc`) and the dependent variable in order to insure that the best parameters will be in the same range which will facilitate the search.\n",
    "\n",
    "You can try to normalize the feature (amount of `zinc`) and the dependent variable (amount of `phosphorus`). To do so, you will create a normalization function. The goal of normalization is to end up with a variable with a mean of 0 and a standard deviation of 1."
   ]
  },
  {
   "cell_type": "code",
   "execution_count": 17,
   "metadata": {},
   "outputs": [],
   "source": [
    "# Your code here\n",
    "def normalize(X):\n",
    "    # TODO: This function should return the normalized array X (mean: 0 and std: 1).\n",
    "    # X should have dimension 1: we'll use this function to normalize one column at a time.\n",
    "    pass\n"
   ]
  },
  {
   "cell_type": "code",
   "execution_count": null,
   "metadata": {},
   "outputs": [],
   "source": []
  },
  {
   "cell_type": "code",
   "execution_count": null,
   "metadata": {},
   "outputs": [],
   "source": []
  },
  {
   "cell_type": "code",
   "execution_count": 18,
   "metadata": {},
   "outputs": [],
   "source": [
    "def normalize(X):\n",
    "    return (X - X.mean()) / X.std()"
   ]
  },
  {
   "cell_type": "code",
   "execution_count": null,
   "metadata": {},
   "outputs": [],
   "source": []
  },
  {
   "cell_type": "code",
   "execution_count": null,
   "metadata": {},
   "outputs": [],
   "source": []
  },
  {
   "cell_type": "markdown",
   "metadata": {},
   "source": [
    "We will copy our dataset to be sure to keep it untouched and normalize the variables using our function."
   ]
  },
  {
   "cell_type": "code",
   "execution_count": 19,
   "metadata": {},
   "outputs": [],
   "source": [
    "data_norm = data.copy()"
   ]
  },
  {
   "cell_type": "markdown",
   "metadata": {},
   "source": [
    "To check that your function is correct, run the following test:"
   ]
  },
  {
   "cell_type": "code",
   "execution_count": 20,
   "metadata": {},
   "outputs": [
    {
     "data": {
      "text/plain": [
       "0   -1.033903\n",
       "1   -1.299774\n",
       "2   -0.905552\n",
       "3   -1.235598\n",
       "4   -1.382285\n",
       "Name: Zinc (mg/100g), dtype: float64"
      ]
     },
     "execution_count": 20,
     "metadata": {},
     "output_type": "execute_result"
    }
   ],
   "source": [
    "normalize(data_norm['Zinc (mg/100g)']).head()\n",
    "# Should return the following values:\n",
    "# 0    -1.033903\n",
    "# 1    -1.299774\n",
    "# 2    -0.905552\n",
    "# 3    -1.235598\n",
    "# 4    -1.382285"
   ]
  },
  {
   "cell_type": "markdown",
   "metadata": {},
   "source": [
    "You can also check the mean and the standard deviation of the variable after normalization."
   ]
  },
  {
   "cell_type": "markdown",
   "metadata": {},
   "source": [
    "When your `normalize()` function is correct:\n",
    "\n",
    "- 1. Use it to normalize the variables `zinc` and `phosphorus`.\n",
    "- 2. Visualize the scatter plot of the normalized data.\n",
    "- 3. Calculate the cost for every combination of parameters with the function `grid_search()` that you coded above. Store the grid in a variable called `cost_all_norm`.\n",
    "- 4. Visualize the new heatmap of normalized data."
   ]
  },
  {
   "cell_type": "code",
   "execution_count": 21,
   "metadata": {},
   "outputs": [],
   "source": [
    "# Your code here\n"
   ]
  },
  {
   "cell_type": "code",
   "execution_count": null,
   "metadata": {},
   "outputs": [],
   "source": []
  },
  {
   "cell_type": "code",
   "execution_count": null,
   "metadata": {},
   "outputs": [],
   "source": []
  },
  {
   "cell_type": "markdown",
   "metadata": {},
   "source": [
    "1."
   ]
  },
  {
   "cell_type": "code",
   "execution_count": 22,
   "metadata": {},
   "outputs": [],
   "source": [
    "data_norm['Zinc (mg/100g)'] = normalize(data_norm['Zinc (mg/100g)'])\n",
    "data_norm['Phosphorus (mg/100g)'] = normalize(data_norm['Phosphorus (mg/100g)'])"
   ]
  },
  {
   "cell_type": "markdown",
   "metadata": {},
   "source": [
    "2."
   ]
  },
  {
   "cell_type": "code",
   "execution_count": 23,
   "metadata": {},
   "outputs": [
    {
     "data": {
      "text/plain": [
       "<matplotlib.axes._subplots.AxesSubplot at 0x7f9680c5ff28>"
      ]
     },
     "execution_count": 23,
     "metadata": {},
     "output_type": "execute_result"
    },
    {
     "data": {
      "image/png": "[encoded data removed]",
      "text/plain": [
       "<Figure size 432x288 with 1 Axes>"
      ]
     },
     "metadata": {
      "needs_background": "light"
     },
     "output_type": "display_data"
    }
   ],
   "source": [
    "sns.scatterplot('Zinc (mg/100g)','Phosphorus (mg/100g)', data=data_norm)"
   ]
  },
  {
   "cell_type": "markdown",
   "metadata": {},
   "source": [
    "We can see that the normalized data are centered around 0."
   ]
  },
  {
   "cell_type": "markdown",
   "metadata": {},
   "source": [
    "3."
   ]
  },
  {
   "cell_type": "code",
   "execution_count": 24,
   "metadata": {},
   "outputs": [],
   "source": [
    "cost_all_norm = grid_search(x=data_norm['Zinc (mg/100g)'], y=data_norm['Phosphorus (mg/100g)'],\n",
    "                            theta0_grid=theta0_grid, theta1_grid=theta1_grid)\n"
   ]
  },
  {
   "cell_type": "markdown",
   "metadata": {},
   "source": [
    "4."
   ]
  },
  {
   "cell_type": "code",
   "execution_count": 25,
   "metadata": {},
   "outputs": [
    {
     "data": {
      "text/plain": [
       "<matplotlib.axes._subplots.AxesSubplot at 0x7f96203a2f60>"
      ]
     },
     "execution_count": 25,
     "metadata": {},
     "output_type": "execute_result"
    },
    {
     "data": {
      "image/png": "[encoded data removed]",
      "text/plain": [
       "<Figure size 432x288 with 2 Axes>"
      ]
     },
     "metadata": {
      "needs_background": "light"
     },
     "output_type": "display_data"
    }
   ],
   "source": [
    "sns.heatmap(cost_all_norm,\n",
    "           xticklabels = theta1_grid,\n",
    "           yticklabels = theta0_grid)"
   ]
  },
  {
   "cell_type": "code",
   "execution_count": null,
   "metadata": {},
   "outputs": [],
   "source": []
  },
  {
   "cell_type": "code",
   "execution_count": null,
   "metadata": {},
   "outputs": [],
   "source": []
  },
  {
   "cell_type": "markdown",
   "metadata": {},
   "source": [
    "Let's zoom in a bit. You can repeat the same steps using a new range for our grid:"
   ]
  },
  {
   "cell_type": "code",
   "execution_count": 26,
   "metadata": {},
   "outputs": [],
   "source": [
    "theta0_grid_zoom = np.arange(-2, 2, 0.2)\n",
    "theta1_grid_zoom = np.arange(-2, 2, 0.2)"
   ]
  },
  {
   "cell_type": "code",
   "execution_count": 27,
   "metadata": {},
   "outputs": [],
   "source": [
    "# Your code here\n"
   ]
  },
  {
   "cell_type": "code",
   "execution_count": null,
   "metadata": {},
   "outputs": [],
   "source": []
  },
  {
   "cell_type": "code",
   "execution_count": null,
   "metadata": {},
   "outputs": [],
   "source": []
  },
  {
   "cell_type": "code",
   "execution_count": 28,
   "metadata": {},
   "outputs": [],
   "source": [
    "cost_all_norm = grid_search(x=data_norm['Zinc (mg/100g)'], y=data_norm['Phosphorus (mg/100g)'],\n",
    "                            theta0_grid=theta0_grid_zoom, theta1_grid=theta1_grid_zoom)"
   ]
  },
  {
   "cell_type": "code",
   "execution_count": 29,
   "metadata": {},
   "outputs": [
    {
     "data": {
      "text/plain": [
       "<matplotlib.axes._subplots.AxesSubplot at 0x7f9670f04438>"
      ]
     },
     "execution_count": 29,
     "metadata": {},
     "output_type": "execute_result"
    },
    {
     "data": {
      "image/png": "[encoded data removed]",
      "text/plain": [
       "<Figure size 432x288 with 2 Axes>"
      ]
     },
     "metadata": {
      "needs_background": "light"
     },
     "output_type": "display_data"
    }
   ],
   "source": [
    "sns.heatmap(cost_all_norm,\n",
    "           xticklabels = theta1_grid_zoom.round(2),\n",
    "           yticklabels = theta0_grid_zoom.round(2))\n"
   ]
  },
  {
   "cell_type": "code",
   "execution_count": null,
   "metadata": {},
   "outputs": [],
   "source": []
  },
  {
   "cell_type": "code",
   "execution_count": null,
   "metadata": {},
   "outputs": [],
   "source": []
  },
  {
   "cell_type": "markdown",
   "metadata": {},
   "source": [
    "The last thing to do it to extract the parameters associated with the lower cost from the array `cost_all_norm`, as you did before with `cost_all`. Follow the same steps:\n",
    "\n",
    "- create the variable `best_params_norm` containing a tuple with the indexes corresponding to the best parameter values.\n",
    "- create the variables `best_theta0_norm` and `best_theta1_norm` containing the values of `theta0` and `theta1` corresponding to the lower cost\n",
    "- plot the regression line along with the normalized data"
   ]
  },
  {
   "cell_type": "code",
   "execution_count": 30,
   "metadata": {},
   "outputs": [],
   "source": [
    "# Your code here\n"
   ]
  },
  {
   "cell_type": "code",
   "execution_count": null,
   "metadata": {},
   "outputs": [],
   "source": []
  },
  {
   "cell_type": "code",
   "execution_count": null,
   "metadata": {},
   "outputs": [],
   "source": []
  },
  {
   "cell_type": "code",
   "execution_count": 31,
   "metadata": {},
   "outputs": [],
   "source": [
    "best_params_norm = np.unravel_index(cost_all_norm.argmin(), cost_all_norm.shape)\n",
    "\n",
    "best_theta0_norm = theta0_grid_zoom[best_params_norm[0]]\n",
    "best_theta1_norm = theta1_grid_zoom[best_params_norm[1]]"
   ]
  },
  {
   "cell_type": "code",
   "execution_count": 32,
   "metadata": {},
   "outputs": [
    {
     "data": {
      "image/png": "[encoded data removed]",
      "text/plain": [
       "<Figure size 432x288 with 1 Axes>"
      ]
     },
     "metadata": {
      "needs_background": "light"
     },
     "output_type": "display_data"
    }
   ],
   "source": [
    "plot_reg_line(data_norm['Zinc (mg/100g)'],\n",
    "              data_norm['Phosphorus (mg/100g)'],\n",
    "              theta0=best_theta0_norm,\n",
    "              theta1=best_theta1_norm)\n"
   ]
  }
 ],
 "metadata": {
  "kernelspec": {
   "display_name": "Python 3",
   "language": "python",
   "name": "python3"
  },
  "language_info": {
   "codemirror_mode": {
    "name": "ipython",
    "version": 3
   },
   "file_extension": ".py",
   "mimetype": "text/x-python",
   "name": "python",
   "nbconvert_exporter": "python",
   "pygments_lexer": "ipython3",
   "version": "3.7.2"
  },
  "toc": {
   "base_numbering": 1,
   "nav_menu": {},
   "number_sections": false,
   "sideBar": true,
   "skip_h1_title": false,
   "title_cell": "Table of Contents",
   "title_sidebar": "Contents",
   "toc_cell": false,
   "toc_position": {},
   "toc_section_display": true,
   "toc_window_display": false
  }
 },
 "nbformat": 4,
 "nbformat_minor": 2
}
