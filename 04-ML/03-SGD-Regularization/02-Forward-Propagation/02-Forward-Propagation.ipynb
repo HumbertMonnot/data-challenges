{
 "cells": [
  {
   "cell_type": "markdown",
   "metadata": {},
   "source": [
    "# 02 - Forward Propagation\n",
    "\n",
    "As in Exercise 01, you need to import some libraries."
   ]
  },
  {
   "cell_type": "code",
   "execution_count": 1,
   "metadata": {},
   "outputs": [],
   "source": [
    "import numpy as np\n",
    "import pandas as pd\n",
    "import matplotlib.pyplot as plt\n",
    "import seaborn as sns"
   ]
  },
  {
   "cell_type": "markdown",
   "metadata": {},
   "source": [
    "In linear regression, the goal is to find the parameters of a line (or a hyperplane of any number of dimensions) that fits well a set of data points. In this first part, you will code forward propagation. This building block allows us to convert input into an estimated value of the dependent variable. You will use a single feature and two parameters.\n",
    "\n",
    "In linear regression, we want to find the parameters of a line that fits our data. Lines can be described by two parameters: the $y$ value when $x=0$ (the *intercept*) and the *slope*. Here are examples of lines with their corresponding parameters:\n",
    "\n",
    "<img src=\"images/line-parameters.png\" width=\"400\">\n",
    "\n",
    "With this representation, the $x$ values correspond to the input of our model: in our example, it is the amount of zinc. $y$ values correspond to the output of the model: this what we want to predict. In our example, it is the amount of phosphorus. The line parameters allows us to convert the amount of zinc into the amount of phosphorus according to the equation of a line: you need to multiply $x$ (the input) with the slope and add the intercept to the result to get the amount of phosphorus.\n",
    "\n",
    "We will call the intercept parameter `theta0` and the slope parameter `theta1`.\n"
   ]
  },
  {
   "cell_type": "markdown",
   "metadata": {},
   "source": [
    "\n",
    "<details>\n",
    "  <summary>Mathematical Notation - Only if you are not allergic </summary>\n",
    "  \n",
    "$$\n",
    "\\hat{y} = \\theta_0 + \\theta_1x\n",
    "$$\n",
    "\n",
    "with $\\hat{y}$ the estimated value, $\\theta_0$ (`theta0`) and $\\theta_1$ (`theta1`) the model parameters ($\\theta_0$ corresponds to the intercept and $\\theta_1$ to the slope), and $x$ it the value of the input feature. For instance, if we use linear regression to estimate the price of an apartment from the area in square meters, the input feature $x$ is the amount of square meter and $\\hat{y}$ is the estimated price.\n",
    "\n",
    "In this exercise, $\\hat{y}$ is the amount of phosphorus (what we try to estimate) from our model and $x$ is the amount of zinc.\n",
    "  \n",
    "  \n",
    "</details>\n"
   ]
  },
  {
   "cell_type": "markdown",
   "metadata": {},
   "source": [
    "Your task is first to create a *hypothesis* function `h()` (called hypothesis because it outputs a hypothetical result: the estimated value) that takes `x` (the amount of zinc), `theta0` (the intercept parameter) and `theta1` (the slope parameter) as inputs and returns the estimated value of $y$ (the estimated amount of phosphorus).\n"
   ]
  },
  {
   "cell_type": "code",
   "execution_count": 2,
   "metadata": {},
   "outputs": [],
   "source": [
    "# Your code here\n",
    "def h(x, theta0, theta1):\n",
    "    # TODO: take the input value and the parameter to output the estimated value according\n",
    "    # to the equation of a line\n",
    "    pass"
   ]
  },
  {
   "cell_type": "markdown",
   "metadata": {},
   "source": [
    "To check your function, here are few tests that you can run:"
   ]
  },
  {
   "cell_type": "code",
   "execution_count": 4,
   "metadata": {},
   "outputs": [
    {
     "data": {
      "text/plain": [
       "1.564"
      ]
     },
     "execution_count": 4,
     "metadata": {},
     "output_type": "execute_result"
    }
   ],
   "source": [
    "h(x=0.48, theta0=0.7, theta1=1.8)\n",
    "# should return 1.564"
   ]
  },
  {
   "cell_type": "code",
   "execution_count": 5,
   "metadata": {},
   "outputs": [
    {
     "data": {
      "text/plain": [
       "2.48"
      ]
     },
     "execution_count": 5,
     "metadata": {},
     "output_type": "execute_result"
    }
   ],
   "source": [
    "h(x=0.48, theta0=2, theta1=1)\n",
    "# should return 2.48"
   ]
  },
  {
   "cell_type": "code",
   "execution_count": 6,
   "metadata": {},
   "outputs": [
    {
     "data": {
      "text/plain": [
       "2.19"
      ]
     },
     "execution_count": 6,
     "metadata": {},
     "output_type": "execute_result"
    }
   ],
   "source": [
    "h(x=0.19, theta0=2, theta1=1)\n",
    "# should return 2.19"
   ]
  },
  {
   "cell_type": "markdown",
   "metadata": {},
   "source": [
    "If you managed to pass the tests, your hypothesis function is working!"
   ]
  }
 ],
 "metadata": {
  "kernelspec": {
   "display_name": "Python 3",
   "language": "python",
   "name": "python3"
  },
  "language_info": {
   "codemirror_mode": {
    "name": "ipython",
    "version": 3
   },
   "file_extension": ".py",
   "mimetype": "text/x-python",
   "name": "python",
   "nbconvert_exporter": "python",
   "pygments_lexer": "ipython3",
   "version": "3.7.2"
  },
  "toc": {
   "base_numbering": 1,
   "nav_menu": {},
   "number_sections": false,
   "sideBar": true,
   "skip_h1_title": false,
   "title_cell": "Table of Contents",
   "title_sidebar": "Contents",
   "toc_cell": false,
   "toc_position": {},
   "toc_section_display": true,
   "toc_window_display": false
  }
 },
 "nbformat": 4,
 "nbformat_minor": 2
}
