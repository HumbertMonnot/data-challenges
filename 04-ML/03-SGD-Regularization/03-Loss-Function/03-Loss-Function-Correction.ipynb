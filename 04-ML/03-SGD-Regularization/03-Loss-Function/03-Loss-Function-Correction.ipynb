{
 "cells": [
  {
   "cell_type": "code",
   "execution_count": 1,
   "metadata": {},
   "outputs": [],
   "source": [
    "import numpy as np\n",
    "import pandas as pd\n",
    "import matplotlib.pyplot as plt\n",
    "import seaborn as sns"
   ]
  },
  {
   "cell_type": "code",
   "execution_count": 4,
   "metadata": {},
   "outputs": [],
   "source": [
    "data = pd.read_csv(\"../data/ciqual_small.csv\")"
   ]
  },
  {
   "cell_type": "markdown",
   "metadata": {},
   "source": [
    "# 03 - Loss Function\n",
    "\n",
    "If you recall the workflow above, the first step is the parameter initialization. Easy: we'll start with random values for $\\theta_0$ and $\\theta_1$. Step 2. was the forward propagation that we just coded. So, we can now start step 3: calculate the error of our model using the MSE.\n",
    "\n",
    "An loss function is a function that we use to compare a prediction with the ground truth.\n",
    "\n",
    "<img src=\"images/errors.png\" width=\"400\">\n",
    "\n",
    "In linear regression, we generally use the *Mean Squared Error* (MSE). This corresponds to the average of the squared differences between predictions and ground truth. For each data sample, you can calculate the prediction, take the difference between the real value, square this difference. Then, take the mean of these results.\n"
   ]
  },
  {
   "cell_type": "markdown",
   "metadata": {},
   "source": [
    "<details>\n",
    "  <summary>Mathematical Notation - Only if you are not allergic </summary>\n",
    "    \n",
    "Let $\\hat{y}$ be the predictions and $y$ the ground truth. The MSE loss function $L$ is defined with:\n",
    "\n",
    "$$\n",
    "L_{\\theta_0, \\theta_1} = \\sum_{i=0}^n (\\hat{y}^{(i)} - y^{(i)})^2\n",
    "$$\n",
    "\n",
    "with $i$ the index of the current data sample and $n$ the total number of samples.\n",
    "\n",
    "</details>\n"
   ]
  },
  {
   "cell_type": "markdown",
   "metadata": {},
   "source": [
    "For this first part, you will calculate the error for a single sample. This is simpler: you just need to calculate the difference between the prediction and the ground truth for this sample and square this difference.\n"
   ]
  },
  {
   "cell_type": "markdown",
   "metadata": {},
   "source": [
    "<details>\n",
    "  <summary>Mathematical Notation - Only if you are not allergic </summary>\n",
    "Here is the equation corresponding to the loss for the single sample $i$:\n",
    "\n",
    "$$\n",
    "L_{\\theta_0, \\theta_1} = (\\hat{y}^{(i)} - y^{(i)})^2\n",
    "$$\n",
    "\n",
    "</details>\n"
   ]
  },
  {
   "cell_type": "markdown",
   "metadata": {},
   "source": [
    "Let's initialize our parameters randomly and use seed to be sure that our results are reproducible:"
   ]
  },
  {
   "cell_type": "code",
   "execution_count": 5,
   "metadata": {},
   "outputs": [
    {
     "name": "stdout",
     "output_type": "stream",
     "text": [
      "0.6964691855978616 0.28613933495037946\n"
     ]
    }
   ],
   "source": [
    "np.random.seed(123)\n",
    "theta0 = np.random.rand()\n",
    "theta1 = np.random.rand()\n",
    "print(theta0, theta1)\n",
    "# you should get: 0.6964691855978616 0.28613933495037946"
   ]
  },
  {
   "cell_type": "markdown",
   "metadata": {},
   "source": [
    "Your exercise is to implement the MSE function and calculate the error for the first 3 samples:"
   ]
  },
  {
   "cell_type": "code",
   "execution_count": 6,
   "metadata": {
    "scrolled": true
   },
   "outputs": [
    {
     "data": {
      "text/html": [
       "<div>\n",
       "<style scoped>\n",
       "    .dataframe tbody tr th:only-of-type {\n",
       "        vertical-align: middle;\n",
       "    }\n",
       "\n",
       "    .dataframe tbody tr th {\n",
       "        vertical-align: top;\n",
       "    }\n",
       "\n",
       "    .dataframe thead th {\n",
       "        text-align: right;\n",
       "    }\n",
       "</style>\n",
       "<table border=\"1\" class=\"dataframe\">\n",
       "  <thead>\n",
       "    <tr style=\"text-align: right;\">\n",
       "      <th></th>\n",
       "      <th>alim_ssgrp_nom_eng</th>\n",
       "      <th>alim_nom_eng</th>\n",
       "      <th>Phosphorus (mg/100g)</th>\n",
       "      <th>Protein (g/100g)</th>\n",
       "      <th>Zinc (mg/100g)</th>\n",
       "    </tr>\n",
       "  </thead>\n",
       "  <tbody>\n",
       "    <tr>\n",
       "      <td>0</td>\n",
       "      <td>pasta. rice and grains</td>\n",
       "      <td>Durum wheat pre-cooked. whole grain. cooked. u...</td>\n",
       "      <td>116.0</td>\n",
       "      <td>5.25</td>\n",
       "      <td>0.48</td>\n",
       "    </tr>\n",
       "    <tr>\n",
       "      <td>1</td>\n",
       "      <td>pasta. rice and grains</td>\n",
       "      <td>Asian noodles. plain. cooked. unsalted</td>\n",
       "      <td>43.0</td>\n",
       "      <td>3.50</td>\n",
       "      <td>0.19</td>\n",
       "    </tr>\n",
       "    <tr>\n",
       "      <td>2</td>\n",
       "      <td>pasta. rice and grains</td>\n",
       "      <td>Rice. brown. cooked. unsalted</td>\n",
       "      <td>120.0</td>\n",
       "      <td>3.21</td>\n",
       "      <td>0.62</td>\n",
       "    </tr>\n",
       "  </tbody>\n",
       "</table>\n",
       "</div>"
      ],
      "text/plain": [
       "       alim_ssgrp_nom_eng                                       alim_nom_eng  \\\n",
       "0  pasta. rice and grains  Durum wheat pre-cooked. whole grain. cooked. u...   \n",
       "1  pasta. rice and grains             Asian noodles. plain. cooked. unsalted   \n",
       "2  pasta. rice and grains                      Rice. brown. cooked. unsalted   \n",
       "\n",
       "   Phosphorus (mg/100g)  Protein (g/100g)  Zinc (mg/100g)  \n",
       "0                 116.0              5.25            0.48  \n",
       "1                  43.0              3.50            0.19  \n",
       "2                 120.0              3.21            0.62  "
      ]
     },
     "execution_count": 6,
     "metadata": {},
     "output_type": "execute_result"
    }
   ],
   "source": [
    "data[:3]"
   ]
  },
  {
   "cell_type": "markdown",
   "metadata": {},
   "source": [
    "Remind that we want to predict the amount of phosphorus from the amount of zinc.\n",
    "\n",
    "<details>\n",
    "  <summary>hint</summary>\n",
    "  You need to use your hypothesis function $h$ from above to calculate $\\hat{y}$.\n",
    "</details>\n"
   ]
  },
  {
   "cell_type": "code",
   "execution_count": 7,
   "metadata": {},
   "outputs": [],
   "source": [
    "# Your code here\n"
   ]
  },
  {
   "cell_type": "code",
   "execution_count": null,
   "metadata": {},
   "outputs": [],
   "source": []
  },
  {
   "cell_type": "code",
   "execution_count": null,
   "metadata": {},
   "outputs": [],
   "source": []
  },
  {
   "cell_type": "code",
   "execution_count": 12,
   "metadata": {},
   "outputs": [],
   "source": [
    "# Take h() from Exercise 02\n",
    "def h(x, theta0, theta1):\n",
    "    y_pred = theta0 + theta1 * x\n",
    "    return y_pred"
   ]
  },
  {
   "cell_type": "code",
   "execution_count": 13,
   "metadata": {},
   "outputs": [],
   "source": [
    "def L(x, y, theta0, theta1):\n",
    "    y_hat = h(x, theta0, theta1)\n",
    "    return (y_hat - y) ** 2"
   ]
  },
  {
   "cell_type": "code",
   "execution_count": null,
   "metadata": {},
   "outputs": [],
   "source": []
  },
  {
   "cell_type": "code",
   "execution_count": null,
   "metadata": {},
   "outputs": [],
   "source": []
  },
  {
   "cell_type": "markdown",
   "metadata": {},
   "source": [
    "To check your function, here are few tests that you can run. They correspond to the first 3 samples of the Ciqual dataset:"
   ]
  },
  {
   "cell_type": "code",
   "execution_count": 14,
   "metadata": {},
   "outputs": [
    {
     "data": {
      "text/plain": [
       "13263.249921833765"
      ]
     },
     "execution_count": 14,
     "metadata": {},
     "output_type": "execute_result"
    }
   ],
   "source": [
    "L(x=0.48, y=116, theta0=theta0, theta1=theta1)\n",
    "# should return 13263.249921833765"
   ]
  },
  {
   "cell_type": "code",
   "execution_count": 15,
   "metadata": {},
   "outputs": [
    {
     "data": {
      "text/plain": [
       "1784.9918874926789"
      ]
     },
     "execution_count": 15,
     "metadata": {},
     "output_type": "execute_result"
    }
   ],
   "source": [
    "L(x=0.19, y=43, theta0=theta0, theta1=theta1)\n",
    "# should return 1784.9918874926789"
   ]
  },
  {
   "cell_type": "code",
   "execution_count": 16,
   "metadata": {},
   "outputs": [
    {
     "data": {
      "text/plain": [
       "14191.03352093345"
      ]
     },
     "execution_count": 16,
     "metadata": {},
     "output_type": "execute_result"
    }
   ],
   "source": [
    "L(x=0.62, y=120, theta0=theta0, theta1=theta1)\n",
    "# should return 1784.9918874926789"
   ]
  },
  {
   "cell_type": "markdown",
   "metadata": {},
   "source": [
    "These values correspond to the error of our model for each sample. It seems that the model is not very good, and this is normal, since it is just random for now 😀.\n",
    "\n",
    "Now, you can try to plot the random regression line along with the data to have an idea of the loss."
   ]
  },
  {
   "cell_type": "code",
   "execution_count": 17,
   "metadata": {},
   "outputs": [],
   "source": [
    "# Your code here\n"
   ]
  },
  {
   "cell_type": "code",
   "execution_count": null,
   "metadata": {},
   "outputs": [],
   "source": []
  },
  {
   "cell_type": "code",
   "execution_count": null,
   "metadata": {},
   "outputs": [],
   "source": []
  },
  {
   "cell_type": "code",
   "execution_count": 18,
   "metadata": {},
   "outputs": [
    {
     "data": {
      "text/plain": [
       "[<matplotlib.lines.Line2D at 0x7ff2d02582e8>]"
      ]
     },
     "execution_count": 18,
     "metadata": {},
     "output_type": "execute_result"
    },
    {
     "data": {
      "image/png": "[encoded data removed]",
      "text/plain": [
       "<Figure size 432x288 with 1 Axes>"
      ]
     },
     "metadata": {
      "needs_background": "light"
     },
     "output_type": "display_data"
    }
   ],
   "source": [
    "x_line = np.arange(data['Zinc (mg/100g)'].min() - data['Zinc (mg/100g)'].min() / 10,\n",
    "                   data['Zinc (mg/100g)'].max() + data['Zinc (mg/100g)'].max() / 10,\n",
    "                  0.1)\n",
    "y_line = theta0 + theta1 * x_line\n",
    "\n",
    "sns.scatterplot('Zinc (mg/100g)','Phosphorus (mg/100g)', data=data)\n",
    "plt.plot(x_line, y_line)"
   ]
  },
  {
   "cell_type": "markdown",
   "metadata": {},
   "source": [
    "**How to plot linear equations?**\n",
    "\n",
    "To plot the regression line, we create a variable `x_line` with values with the range we need (according to the samples):\n"
   ]
  },
  {
   "cell_type": "code",
   "execution_count": 19,
   "metadata": {},
   "outputs": [
    {
     "data": {
      "text/plain": [
       "array([0. , 0.1, 0.2, 0.3, 0.4, 0.5, 0.6, 0.7, 0.8, 0.9, 1. , 1.1, 1.2,\n",
       "       1.3, 1.4, 1.5, 1.6, 1.7, 1.8, 1.9, 2. , 2.1, 2.2, 2.3, 2.4, 2.5,\n",
       "       2.6, 2.7, 2.8, 2.9, 3. , 3.1, 3.2, 3.3, 3.4, 3.5, 3.6, 3.7, 3.8,\n",
       "       3.9, 4. , 4.1, 4.2, 4.3])"
      ]
     },
     "execution_count": 19,
     "metadata": {},
     "output_type": "execute_result"
    }
   ],
   "source": [
    "x_line"
   ]
  },
  {
   "cell_type": "markdown",
   "metadata": {},
   "source": [
    "And we apply the linear function with our parameters to this array with `y_line = theta0 + theta1 * x_line\n",
    "`."
   ]
  },
  {
   "cell_type": "code",
   "execution_count": 20,
   "metadata": {},
   "outputs": [
    {
     "data": {
      "text/plain": [
       "array([0.69646919, 0.72508312, 0.75369705, 0.78231099, 0.81092492,\n",
       "       0.83953885, 0.86815279, 0.89676672, 0.92538065, 0.95399459,\n",
       "       0.98260852, 1.01122245, 1.03983639, 1.06845032, 1.09706425,\n",
       "       1.12567819, 1.15429212, 1.18290606, 1.21151999, 1.24013392,\n",
       "       1.26874786, 1.29736179, 1.32597572, 1.35458966, 1.38320359,\n",
       "       1.41181752, 1.44043146, 1.46904539, 1.49765932, 1.52627326,\n",
       "       1.55488719, 1.58350112, 1.61211506, 1.64072899, 1.66934292,\n",
       "       1.69795686, 1.72657079, 1.75518472, 1.78379866, 1.81241259,\n",
       "       1.84102653, 1.86964046, 1.89825439, 1.92686833])"
      ]
     },
     "execution_count": 20,
     "metadata": {},
     "output_type": "execute_result"
    }
   ],
   "source": [
    "y_line"
   ]
  },
  {
   "cell_type": "markdown",
   "metadata": {},
   "source": [
    "We can then plot the pairs of values `x_line` and `y_line`.\n",
    "\n",
    "In comparison to the scale of the variable `phosphorus`, the value of $\\theta_0$ and $\\theta_1$ are very small and the regression line is almost an horizontal line when plotted along the data samples.\n",
    "\n",
    "We can also represent only the sample we used to calculate the loss "
   ]
  },
  {
   "cell_type": "code",
   "execution_count": 21,
   "metadata": {},
   "outputs": [
    {
     "data": {
      "text/plain": [
       "[<matplotlib.lines.Line2D at 0x7ff2c13d77b8>]"
      ]
     },
     "execution_count": 21,
     "metadata": {},
     "output_type": "execute_result"
    },
    {
     "data": {
      "image/png": "[encoded data removed]",
      "text/plain": [
       "<Figure size 432x288 with 1 Axes>"
      ]
     },
     "metadata": {
      "needs_background": "light"
     },
     "output_type": "display_data"
    }
   ],
   "source": [
    "x_line = np.arange(data[:3]['Zinc (mg/100g)'].min() - data[:3]['Zinc (mg/100g)'].min() / 10,\n",
    "                   data[:3]['Zinc (mg/100g)'].max() + data[:3]['Zinc (mg/100g)'].max() / 10,\n",
    "                  0.1)\n",
    "y_line = theta0 + theta1 * x_line\n",
    "\n",
    "sns.scatterplot('Zinc (mg/100g)','Phosphorus (mg/100g)', data=data[:3])\n",
    "plt.plot(x_line, y_line)"
   ]
  },
  {
   "cell_type": "code",
   "execution_count": null,
   "metadata": {},
   "outputs": [],
   "source": []
  },
  {
   "cell_type": "code",
   "execution_count": null,
   "metadata": {},
   "outputs": [],
   "source": []
  },
  {
   "cell_type": "code",
   "execution_count": null,
   "metadata": {},
   "outputs": [],
   "source": []
  }
 ],
 "metadata": {
  "kernelspec": {
   "display_name": "Python 3",
   "language": "python",
   "name": "python3"
  },
  "language_info": {
   "codemirror_mode": {
    "name": "ipython",
    "version": 3
   },
   "file_extension": ".py",
   "mimetype": "text/x-python",
   "name": "python",
   "nbconvert_exporter": "python",
   "pygments_lexer": "ipython3",
   "version": "3.7.2"
  },
  "toc": {
   "base_numbering": 1,
   "nav_menu": {},
   "number_sections": false,
   "sideBar": true,
   "skip_h1_title": false,
   "title_cell": "Table of Contents",
   "title_sidebar": "Contents",
   "toc_cell": false,
   "toc_position": {},
   "toc_section_display": true,
   "toc_window_display": false
  }
 },
 "nbformat": 4,
 "nbformat_minor": 2
}
