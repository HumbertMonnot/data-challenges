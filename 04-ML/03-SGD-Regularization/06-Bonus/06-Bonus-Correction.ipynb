{
 "cells": [
  {
   "cell_type": "markdown",
   "metadata": {},
   "source": [
    "# 06 - Bonus\n",
    "\n",
    "## Gradient Descent With Two Parameters\n",
    "\n",
    "Try to implement the gradient descent algorithm for linear regression, like you did in previous exercises, but optimizing the two parameters `theta0` and `theta1`.\n",
    "\n",
    "💡Be careful, the derivative of the cost function is not the same for both parameters because we differentiate with respect to each variable separately!"
   ]
  },
  {
   "cell_type": "code",
   "execution_count": null,
   "metadata": {},
   "outputs": [],
   "source": [
    "# Your code here\n"
   ]
  },
  {
   "cell_type": "code",
   "execution_count": null,
   "metadata": {},
   "outputs": [],
   "source": []
  },
  {
   "cell_type": "code",
   "execution_count": null,
   "metadata": {},
   "outputs": [],
   "source": []
  },
  {
   "cell_type": "code",
   "execution_count": 22,
   "metadata": {},
   "outputs": [],
   "source": [
    "import numpy as np\n",
    "import pandas as pd\n",
    "import matplotlib.pyplot as plt\n",
    "import seaborn as sns\n",
    "import time\n",
    "from IPython.display import clear_output\n"
   ]
  },
  {
   "cell_type": "code",
   "execution_count": 23,
   "metadata": {},
   "outputs": [],
   "source": [
    "data = pd.read_csv(\"../data/ciqual_small.csv\")"
   ]
  },
  {
   "cell_type": "code",
   "execution_count": 24,
   "metadata": {},
   "outputs": [],
   "source": [
    "import h5py\n",
    "\n",
    "hf = h5py.File('../data/data_exercises.h5', 'r')\n",
    "\n",
    "cost_all = np.array(hf.get('cost_all'))\n",
    "best_params = np.array(hf.get('best_params'))\n",
    "theta0_grid = np.array(hf.get('theta0_grid'))\n",
    "theta1_grid = np.array(hf.get('theta1_grid'))\n",
    "\n",
    "hf.close()"
   ]
  },
  {
   "cell_type": "code",
   "execution_count": 25,
   "metadata": {},
   "outputs": [],
   "source": [
    "def h(x, theta0, theta1):\n",
    "    y_pred = theta0 + theta1 * x\n",
    "    return y_pred\n",
    "\n",
    "def L(x, y, theta0, theta1):\n",
    "    y_hat = h(x, theta0, theta1)\n",
    "    m = x.shape[0]\n",
    "    return (1 / (2 * m)) * np.sum((y_hat - y) ** 2)\n",
    "\n",
    "def plot_reg_line(x, y, theta0, theta1):\n",
    "    x_line = np.arange(x.min() - x.min() / 10,\n",
    "                       x.max() + x.max() / 10,\n",
    "                      0.1)\n",
    "    y_line = theta0 + theta1 * x_line\n",
    "\n",
    "    sns.scatterplot(x, y)\n",
    "    plt.plot(x_line, y_line)\n",
    "    \n",
    "def plot_cost_history(cost_history):\n",
    "    plt.plot(cost_history)\n",
    "    plt.xlabel(\"Epoch\")\n",
    "    plt.ylabel(\"Cost\")\n",
    "\n",
    "def gradient_descent_viz(x, y, theta0, theta1):\n",
    "    cost_for_theta1 = L(x, y, theta0, theta1)\n",
    "    \n",
    "    plt.figure()\n",
    "    f, (ax1, ax2) = plt.subplots(1, 2, sharey=False)\n",
    "    \n",
    "    ax1.plot(theta1_grid, cost_all[best_params[0]])\n",
    "    ax1.scatter(theta1, cost_for_theta1)\n",
    "\n",
    "    plot_reg_line(x, y, theta0, theta1)\n",
    "\n",
    "    plt.show()\n",
    "    plt.close()\n",
    "\n",
    "    print(f\"Cost: {cost_for_theta1}\")\n",
    "    \n",
    "    time.sleep(0.5)\n",
    "    clear_output(wait=True)\n",
    "    "
   ]
  },
  {
   "cell_type": "code",
   "execution_count": 26,
   "metadata": {},
   "outputs": [],
   "source": [
    "def cost_function_derivative(x, y, theta0, theta1):\n",
    "    m = x.shape[0]\n",
    "    derivative_theta0 = (1 / m) * np.sum((h(x, theta0, theta1) - y))\n",
    "    derivative_theta1 = (1 / m) * np.sum((h(x, theta0, theta1) - y) * x)\n",
    "    return derivative_theta0, derivative_theta1\n"
   ]
  },
  {
   "cell_type": "code",
   "execution_count": 27,
   "metadata": {},
   "outputs": [],
   "source": [
    "def update_lr(x, y, theta0, theta1, alpha):\n",
    "    derivative_theta0, derivative_theta1 = cost_function_derivative(x, y, theta0, theta1)\n",
    "    new_theta0 = theta0 - alpha * derivative_theta0\n",
    "    new_theta1 = theta1 - alpha * derivative_theta1\n",
    "    return new_theta0, new_theta1"
   ]
  },
  {
   "cell_type": "code",
   "execution_count": 28,
   "metadata": {},
   "outputs": [],
   "source": [
    "def gradient_descent_lr(x, y, theta0, theta1, alpha, num_epochs=5, viz=True):\n",
    "    cost_history = []\n",
    "    counter = 0\n",
    "    for epoch in range(num_epochs):\n",
    "        cost_for_theta1 = L(x, y, theta0, theta1)\n",
    "        cost_history.append(cost_for_theta1)\n",
    "                    \n",
    "        if viz:\n",
    "            gradient_descent_viz(x, y, theta0, theta1)\n",
    "            \n",
    "        counter += 1\n",
    "        theta0, theta1 = update_lr(x, y, theta0, theta1, alpha)\n",
    "        \n",
    "    print(f\"theta0: {theta0}, theta1: {theta1}, last cost: {cost_for_theta1}\")\n",
    "    return cost_history, theta0, theta1"
   ]
  },
  {
   "cell_type": "code",
   "execution_count": 29,
   "metadata": {},
   "outputs": [
    {
     "name": "stdout",
     "output_type": "stream",
     "text": [
      "theta0: 13.839045972163426, theta1: 105.93281804072481, last cost: 3054.384160124626\n"
     ]
    }
   ],
   "source": [
    "cost_history, best_theta0, best_theta1 = gradient_descent_lr(x=data['Zinc (mg/100g)'],\n",
    "                                             y=data['Phosphorus (mg/100g)'],\n",
    "                                             theta0=50,\n",
    "                                             theta1=-300,\n",
    "                                             alpha=0.1,\n",
    "                                             num_epochs=500,\n",
    "                                             viz=False)"
   ]
  },
  {
   "cell_type": "code",
   "execution_count": 30,
   "metadata": {},
   "outputs": [
    {
     "data": {
      "image/png": "[encoded data removed]",
      "text/plain": [
       "<Figure size 432x288 with 1 Axes>"
      ]
     },
     "metadata": {
      "needs_background": "light"
     },
     "output_type": "display_data"
    }
   ],
   "source": [
    "plot_cost_history(cost_history[1:])"
   ]
  },
  {
   "cell_type": "code",
   "execution_count": 31,
   "metadata": {},
   "outputs": [
    {
     "data": {
      "image/png": "[encoded data removed]",
      "text/plain": [
       "<Figure size 432x288 with 1 Axes>"
      ]
     },
     "metadata": {
      "needs_background": "light"
     },
     "output_type": "display_data"
    }
   ],
   "source": [
    "plot_reg_line(x=data['Zinc (mg/100g)'],\n",
    "              y=data['Phosphorus (mg/100g)'],\n",
    "              theta0=best_theta0,\n",
    "              theta1=best_theta1)"
   ]
  },
  {
   "cell_type": "code",
   "execution_count": null,
   "metadata": {},
   "outputs": [],
   "source": []
  },
  {
   "cell_type": "code",
   "execution_count": null,
   "metadata": {},
   "outputs": [],
   "source": []
  },
  {
   "cell_type": "markdown",
   "metadata": {},
   "source": [
    "## Gradient Descent With Sklearn\n",
    "\n",
    "Try to compare the results you got from your manual gradient descent implementation with gradient descent implemented in Sklearn."
   ]
  },
  {
   "cell_type": "code",
   "execution_count": 33,
   "metadata": {},
   "outputs": [],
   "source": [
    "# Your code here\n"
   ]
  },
  {
   "cell_type": "code",
   "execution_count": null,
   "metadata": {},
   "outputs": [],
   "source": []
  },
  {
   "cell_type": "code",
   "execution_count": null,
   "metadata": {},
   "outputs": [],
   "source": []
  },
  {
   "cell_type": "code",
   "execution_count": 34,
   "metadata": {},
   "outputs": [
    {
     "data": {
      "text/plain": [
       "SGDRegressor(alpha=0.01, average=False, early_stopping=False, epsilon=0.1,\n",
       "             eta0=0.01, fit_intercept=True, l1_ratio=0.15,\n",
       "             learning_rate='invscaling', loss='squared_loss', max_iter=500,\n",
       "             n_iter_no_change=5, penalty='l2', power_t=0.25, random_state=None,\n",
       "             shuffle=True, tol=0.1, validation_fraction=0.1, verbose=0,\n",
       "             warm_start=False)"
      ]
     },
     "execution_count": 34,
     "metadata": {},
     "output_type": "execute_result"
    }
   ],
   "source": [
    "from sklearn import linear_model\n",
    "\n",
    "X = data['Zinc (mg/100g)'].values.reshape(-1, 1)\n",
    "Y = data['Phosphorus (mg/100g)'].values\n",
    "\n",
    "clf = linear_model.SGDRegressor(max_iter=500, tol=0.1, fit_intercept=True, alpha=0.01)\n",
    "\n",
    "clf.fit(X, Y)\n"
   ]
  },
  {
   "cell_type": "code",
   "execution_count": 35,
   "metadata": {},
   "outputs": [
    {
     "data": {
      "text/plain": [
       "3059.4382325209244"
      ]
     },
     "execution_count": 35,
     "metadata": {},
     "output_type": "execute_result"
    }
   ],
   "source": [
    "L(x=data['Zinc (mg/100g)'],\n",
    "  y=data['Phosphorus (mg/100g)'],\n",
    "  theta0=clf.intercept_,\n",
    "  theta1=clf.coef_)"
   ]
  },
  {
   "cell_type": "code",
   "execution_count": null,
   "metadata": {},
   "outputs": [],
   "source": []
  },
  {
   "cell_type": "code",
   "execution_count": null,
   "metadata": {},
   "outputs": [],
   "source": []
  }
 ],
 "metadata": {
  "kernelspec": {
   "display_name": "Python 3",
   "language": "python",
   "name": "python3"
  },
  "language_info": {
   "codemirror_mode": {
    "name": "ipython",
    "version": 3
   },
   "file_extension": ".py",
   "mimetype": "text/x-python",
   "name": "python",
   "nbconvert_exporter": "python",
   "pygments_lexer": "ipython3",
   "version": "3.7.2"
  },
  "toc": {
   "base_numbering": 1,
   "nav_menu": {},
   "number_sections": false,
   "sideBar": true,
   "skip_h1_title": false,
   "title_cell": "Table of Contents",
   "title_sidebar": "Contents",
   "toc_cell": false,
   "toc_position": {},
   "toc_section_display": true,
   "toc_window_display": false
  }
 },
 "nbformat": 4,
 "nbformat_minor": 2
}
