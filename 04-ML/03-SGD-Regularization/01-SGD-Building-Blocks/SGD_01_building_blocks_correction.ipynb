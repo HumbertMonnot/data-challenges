{
 "cells": [
  {
   "cell_type": "markdown",
   "metadata": {},
   "source": [
    "# The Building Blocks of Gradient Descent\n",
    "\n",
    "Gradient descent is a fundamental part of machine learning and deep learning. This is the core of the mechanism used by the machine to \"learn\". In this exercise, we will approach the elements that you need to understand gradient descent.\n",
    "\n",
    "To learn a new motor skill, for instance, we produce gestures, get feedbacks and iterate to optimize the action. Algorithms are learning in a similar way.\n",
    "\n",
    "The workflow is the following:\n",
    "\n",
    "- 1. Start with some random parameter values: we call this random initialization. Zero initialization is also possible.\n",
    "- 2. Calculate the output of the algorithm with these parameters: this is call **forward propagation**.\n",
    "- 3. Calculate the error with these parameters: we compare the output of the algorithm with the ground truth (for this reason, we need the ground truth: this is a supervised algorithm).\n",
    "- 4. Evaluate how to change each parameter to reduce the error (let's consider this as a black box for now - we'll open the box in latter exercises) and update the parameters: this is called **backward propagation**.\n",
    "\n",
    "## 1. Data Exploration\n",
    "\n",
    "For this exercise, we'll use the [Ciqual dataset](https://ciqual.anses.fr/#) showing the composition of food.🌽\n",
    "\n",
    "Let's start importing the libraries and loading a simplified version of the ciqual dataset.\n"
   ]
  },
  {
   "cell_type": "code",
   "execution_count": 32,
   "metadata": {},
   "outputs": [],
   "source": [
    "import numpy as np\n",
    "import pandas as pd\n",
    "import matplotlib.pyplot as plt\n",
    "import seaborn as sns"
   ]
  },
  {
   "cell_type": "code",
   "execution_count": 33,
   "metadata": {},
   "outputs": [],
   "source": [
    "data = pd.read_csv(\"../data/ciqual_small.csv\")"
   ]
  },
  {
   "cell_type": "markdown",
   "metadata": {},
   "source": [
    "We will use this dataset to predict the amount of phosporus in food according to the amount of zinc.\n",
    "\n",
    "As usual, your first task is familiarize yourself with the data. You can:\n",
    "\n",
    "- 1. Display the first rows of the table with Pandas\n",
    "- 2. Get some description of the features (columns)\n",
    "- 3. Check that there is no missing values\n",
    "- 4. Visualize the relation between the variables `Phosphorus (mg/100g)` and `Zinc (mg/100g)`.\n"
   ]
  },
  {
   "cell_type": "code",
   "execution_count": null,
   "metadata": {},
   "outputs": [],
   "source": [
    "# Your code here"
   ]
  },
  {
   "cell_type": "code",
   "execution_count": null,
   "metadata": {},
   "outputs": [],
   "source": []
  },
  {
   "cell_type": "code",
   "execution_count": null,
   "metadata": {},
   "outputs": [],
   "source": []
  },
  {
   "cell_type": "markdown",
   "metadata": {},
   "source": [
    "1- Display the first rows of the table with Pandas"
   ]
  },
  {
   "cell_type": "code",
   "execution_count": 34,
   "metadata": {},
   "outputs": [
    {
     "data": {
      "text/html": [
       "<div>\n",
       "<style scoped>\n",
       "    .dataframe tbody tr th:only-of-type {\n",
       "        vertical-align: middle;\n",
       "    }\n",
       "\n",
       "    .dataframe tbody tr th {\n",
       "        vertical-align: top;\n",
       "    }\n",
       "\n",
       "    .dataframe thead th {\n",
       "        text-align: right;\n",
       "    }\n",
       "</style>\n",
       "<table border=\"1\" class=\"dataframe\">\n",
       "  <thead>\n",
       "    <tr style=\"text-align: right;\">\n",
       "      <th></th>\n",
       "      <th>alim_ssgrp_nom_eng</th>\n",
       "      <th>alim_nom_eng</th>\n",
       "      <th>Phosphorus (mg/100g)</th>\n",
       "      <th>Protein (g/100g)</th>\n",
       "      <th>Zinc (mg/100g)</th>\n",
       "    </tr>\n",
       "  </thead>\n",
       "  <tbody>\n",
       "    <tr>\n",
       "      <td>0</td>\n",
       "      <td>pasta. rice and grains</td>\n",
       "      <td>Durum wheat pre-cooked. whole grain. cooked. u...</td>\n",
       "      <td>116.0</td>\n",
       "      <td>5.25</td>\n",
       "      <td>0.48</td>\n",
       "    </tr>\n",
       "    <tr>\n",
       "      <td>1</td>\n",
       "      <td>pasta. rice and grains</td>\n",
       "      <td>Asian noodles. plain. cooked. unsalted</td>\n",
       "      <td>43.0</td>\n",
       "      <td>3.50</td>\n",
       "      <td>0.19</td>\n",
       "    </tr>\n",
       "    <tr>\n",
       "      <td>2</td>\n",
       "      <td>pasta. rice and grains</td>\n",
       "      <td>Rice. brown. cooked. unsalted</td>\n",
       "      <td>120.0</td>\n",
       "      <td>3.21</td>\n",
       "      <td>0.62</td>\n",
       "    </tr>\n",
       "    <tr>\n",
       "      <td>3</td>\n",
       "      <td>pasta. rice and grains</td>\n",
       "      <td>Rice. cooked. unsalted</td>\n",
       "      <td>35.0</td>\n",
       "      <td>2.92</td>\n",
       "      <td>0.26</td>\n",
       "    </tr>\n",
       "    <tr>\n",
       "      <td>4</td>\n",
       "      <td>pasta. rice and grains</td>\n",
       "      <td>Rice. parboiled. cooked. unsalted</td>\n",
       "      <td>35.0</td>\n",
       "      <td>2.95</td>\n",
       "      <td>0.10</td>\n",
       "    </tr>\n",
       "  </tbody>\n",
       "</table>\n",
       "</div>"
      ],
      "text/plain": [
       "       alim_ssgrp_nom_eng                                       alim_nom_eng  \\\n",
       "0  pasta. rice and grains  Durum wheat pre-cooked. whole grain. cooked. u...   \n",
       "1  pasta. rice and grains             Asian noodles. plain. cooked. unsalted   \n",
       "2  pasta. rice and grains                      Rice. brown. cooked. unsalted   \n",
       "3  pasta. rice and grains                             Rice. cooked. unsalted   \n",
       "4  pasta. rice and grains                  Rice. parboiled. cooked. unsalted   \n",
       "\n",
       "   Phosphorus (mg/100g)  Protein (g/100g)  Zinc (mg/100g)  \n",
       "0                 116.0              5.25            0.48  \n",
       "1                  43.0              3.50            0.19  \n",
       "2                 120.0              3.21            0.62  \n",
       "3                  35.0              2.92            0.26  \n",
       "4                  35.0              2.95            0.10  "
      ]
     },
     "execution_count": 34,
     "metadata": {},
     "output_type": "execute_result"
    }
   ],
   "source": [
    "data.head()"
   ]
  },
  {
   "cell_type": "markdown",
   "metadata": {},
   "source": [
    "2- Get some description of the features (columns)\n"
   ]
  },
  {
   "cell_type": "code",
   "execution_count": 38,
   "metadata": {},
   "outputs": [
    {
     "data": {
      "text/html": [
       "<div>\n",
       "<style scoped>\n",
       "    .dataframe tbody tr th:only-of-type {\n",
       "        vertical-align: middle;\n",
       "    }\n",
       "\n",
       "    .dataframe tbody tr th {\n",
       "        vertical-align: top;\n",
       "    }\n",
       "\n",
       "    .dataframe thead th {\n",
       "        text-align: right;\n",
       "    }\n",
       "</style>\n",
       "<table border=\"1\" class=\"dataframe\">\n",
       "  <thead>\n",
       "    <tr style=\"text-align: right;\">\n",
       "      <th></th>\n",
       "      <th>Phosphorus (mg/100g)</th>\n",
       "      <th>Protein (g/100g)</th>\n",
       "      <th>Zinc (mg/100g)</th>\n",
       "    </tr>\n",
       "  </thead>\n",
       "  <tbody>\n",
       "    <tr>\n",
       "      <td>count</td>\n",
       "      <td>53.000000</td>\n",
       "      <td>53.000000</td>\n",
       "      <td>53.000000</td>\n",
       "    </tr>\n",
       "    <tr>\n",
       "      <td>mean</td>\n",
       "      <td>184.150943</td>\n",
       "      <td>7.626226</td>\n",
       "      <td>1.607736</td>\n",
       "    </tr>\n",
       "    <tr>\n",
       "      <td>std</td>\n",
       "      <td>139.919124</td>\n",
       "      <td>4.380139</td>\n",
       "      <td>1.090756</td>\n",
       "    </tr>\n",
       "    <tr>\n",
       "      <td>min</td>\n",
       "      <td>10.000000</td>\n",
       "      <td>0.570000</td>\n",
       "      <td>0.000000</td>\n",
       "    </tr>\n",
       "    <tr>\n",
       "      <td>25%</td>\n",
       "      <td>62.000000</td>\n",
       "      <td>3.510000</td>\n",
       "      <td>0.830000</td>\n",
       "    </tr>\n",
       "    <tr>\n",
       "      <td>50%</td>\n",
       "      <td>156.000000</td>\n",
       "      <td>7.440000</td>\n",
       "      <td>1.340000</td>\n",
       "    </tr>\n",
       "    <tr>\n",
       "      <td>75%</td>\n",
       "      <td>285.000000</td>\n",
       "      <td>11.500000</td>\n",
       "      <td>2.400000</td>\n",
       "    </tr>\n",
       "    <tr>\n",
       "      <td>max</td>\n",
       "      <td>557.000000</td>\n",
       "      <td>16.900000</td>\n",
       "      <td>3.970000</td>\n",
       "    </tr>\n",
       "  </tbody>\n",
       "</table>\n",
       "</div>"
      ],
      "text/plain": [
       "       Phosphorus (mg/100g)  Protein (g/100g)  Zinc (mg/100g)\n",
       "count             53.000000         53.000000       53.000000\n",
       "mean             184.150943          7.626226        1.607736\n",
       "std              139.919124          4.380139        1.090756\n",
       "min               10.000000          0.570000        0.000000\n",
       "25%               62.000000          3.510000        0.830000\n",
       "50%              156.000000          7.440000        1.340000\n",
       "75%              285.000000         11.500000        2.400000\n",
       "max              557.000000         16.900000        3.970000"
      ]
     },
     "execution_count": 38,
     "metadata": {},
     "output_type": "execute_result"
    }
   ],
   "source": [
    "data.describe()"
   ]
  },
  {
   "cell_type": "markdown",
   "metadata": {},
   "source": [
    "3- Check that there is no missing values\n"
   ]
  },
  {
   "cell_type": "code",
   "execution_count": 41,
   "metadata": {},
   "outputs": [
    {
     "data": {
      "text/plain": [
       "alim_ssgrp_nom_eng      0\n",
       "alim_nom_eng            0\n",
       "Phosphorus (mg/100g)    0\n",
       "Protein (g/100g)        0\n",
       "Zinc (mg/100g)          0\n",
       "dtype: int64"
      ]
     },
     "execution_count": 41,
     "metadata": {},
     "output_type": "execute_result"
    }
   ],
   "source": [
    "data.isna().sum()"
   ]
  },
  {
   "cell_type": "markdown",
   "metadata": {},
   "source": [
    "4- Visualize the relation between the variables `Phosphorus (mg/100g)` and `Zinc (mg/100g)`.\n"
   ]
  },
  {
   "cell_type": "code",
   "execution_count": 35,
   "metadata": {},
   "outputs": [
    {
     "data": {
      "text/plain": [
       "<matplotlib.axes._subplots.AxesSubplot at 0x7f9ea0951400>"
      ]
     },
     "execution_count": 35,
     "metadata": {},
     "output_type": "execute_result"
    },
    {
     "data": {
      "image/png": "[encoded data removed]",
      "text/plain": [
       "<Figure size 432x288 with 1 Axes>"
      ]
     },
     "metadata": {
      "needs_background": "light"
     },
     "output_type": "display_data"
    }
   ],
   "source": [
    "sns.scatterplot('Zinc (mg/100g)','Phosphorus (mg/100g)', data=data)"
   ]
  },
  {
   "cell_type": "code",
   "execution_count": null,
   "metadata": {},
   "outputs": [],
   "source": []
  },
  {
   "cell_type": "code",
   "execution_count": null,
   "metadata": {},
   "outputs": [],
   "source": []
  },
  {
   "cell_type": "code",
   "execution_count": null,
   "metadata": {},
   "outputs": [],
   "source": []
  },
  {
   "cell_type": "markdown",
   "metadata": {},
   "source": [
    "## 2. Forward Propagation\n",
    "\n",
    "In linear regression, the goal is to find the parameters of a line (a hyperplane of any number of dimensions) that fits well a set of data points. In this first part, you will code forward propagation using only one dimension. This means that we have only one feature and two parameters (the slope and the intercept of the line).\n",
    "\n",
    "This is a function taking parameter values as input and returning the prediction (we call prediction the value 'found' by the algorithm).\n",
    "\n",
    "In linear regression, we want to get the line parameters:\n",
    "\n",
    "$$\n",
    "\\hat{y} = \\theta_0 + \\theta_1x\n",
    "$$\n",
    "\n",
    "with $\\hat{y}$ the predicted value, $\\theta_0$ and $\\theta_1$ the model parameters (since this is the equation of a line, $\\theta_0$ corresponds to the intercept and $\\theta_1$ to the slope), and $x$ it the value of the input feature. For instance, if we use linear regression to predict the price of an apartment from the area in square meters, the input feature $x$ is the amount of square meter and $\\hat{y}$ is the predicted price.\n",
    "\n",
    "In this exercise, $\\hat{y}$ is the amount of phosphorus (what we try to predict) from our model and $x$ is the amount of zinc.\n",
    "\n",
    "Your task is first to create a function *hypothesis* `h()` (because it outputs a hypothetical result: the prediction) that takes $x$, $\\theta_0$ and $\\theta_1$ as inputs and return $\\hat{y}$.\n"
   ]
  },
  {
   "cell_type": "code",
   "execution_count": 50,
   "metadata": {},
   "outputs": [],
   "source": [
    "# Your code here\n",
    "def h(x, theta0, theta1):\n",
    "    pass"
   ]
  },
  {
   "cell_type": "code",
   "execution_count": null,
   "metadata": {},
   "outputs": [],
   "source": []
  },
  {
   "cell_type": "code",
   "execution_count": null,
   "metadata": {},
   "outputs": [],
   "source": []
  },
  {
   "cell_type": "code",
   "execution_count": 55,
   "metadata": {},
   "outputs": [],
   "source": [
    "def h(x, theta0, theta1):\n",
    "    y_pred = theta0 + theta1 * x\n",
    "    return y_pred"
   ]
  },
  {
   "cell_type": "code",
   "execution_count": null,
   "metadata": {},
   "outputs": [],
   "source": []
  },
  {
   "cell_type": "code",
   "execution_count": null,
   "metadata": {},
   "outputs": [],
   "source": []
  },
  {
   "cell_type": "markdown",
   "metadata": {},
   "source": [
    "To check your function, here are few tests that you can run:"
   ]
  },
  {
   "cell_type": "code",
   "execution_count": 66,
   "metadata": {},
   "outputs": [
    {
     "data": {
      "text/plain": [
       "1.564"
      ]
     },
     "execution_count": 66,
     "metadata": {},
     "output_type": "execute_result"
    }
   ],
   "source": [
    "h(x=0.48, theta0=0.7, theta1=1.8)\n",
    "# should return 1.564"
   ]
  },
  {
   "cell_type": "code",
   "execution_count": 67,
   "metadata": {},
   "outputs": [
    {
     "data": {
      "text/plain": [
       "2.48"
      ]
     },
     "execution_count": 67,
     "metadata": {},
     "output_type": "execute_result"
    }
   ],
   "source": [
    "h(x=0.48, theta0=2, theta1=1)\n",
    "# should return 2.48"
   ]
  },
  {
   "cell_type": "code",
   "execution_count": 68,
   "metadata": {},
   "outputs": [
    {
     "data": {
      "text/plain": [
       "2.19"
      ]
     },
     "execution_count": 68,
     "metadata": {},
     "output_type": "execute_result"
    }
   ],
   "source": [
    "h(x=0.19, theta0=2, theta1=1)\n",
    "# should return 2.19"
   ]
  },
  {
   "cell_type": "markdown",
   "metadata": {},
   "source": [
    "If you managed to pass the tests, your forward propagation function is working!"
   ]
  },
  {
   "cell_type": "markdown",
   "metadata": {},
   "source": [
    "## 3. Loss Function - One Sample\n",
    "\n",
    "If you recall the workflow above, the first step is the parameter initialization. Easy: we'll start with random values for $\\theta_0$ and $\\theta_1$. The step 2. was the forward propagation that we just coded. So, we can now start the step 3: calculate the error of our model using the MSE.\n",
    "\n",
    "An loss function is a function that we use to compare a prediction ($\\hat{y}$) with the ground truth ($y$). The MSE loss function $L$ is defined with:\n",
    "\n",
    "$$\n",
    "L_{\\theta_0, \\theta_1} = \\sum_{i=0}^n (\\hat{y} - y)^2\n",
    "$$\n",
    "\n",
    "with $n$ the number of samples. For this first part, you will calculate the error for only one sample, so the equation simplifies to:\n",
    "\n",
    "$$\n",
    "L_{\\theta_0, \\theta_1} = (\\hat{y} - y)^2\n",
    "$$\n",
    "\n",
    "Let's initialize our parameters randomly and use seed to be sure that our results are reproducible:"
   ]
  },
  {
   "cell_type": "code",
   "execution_count": 61,
   "metadata": {},
   "outputs": [
    {
     "name": "stdout",
     "output_type": "stream",
     "text": [
      "0.6964691855978616 0.28613933495037946\n"
     ]
    }
   ],
   "source": [
    "np.random.seed(123)\n",
    "theta0 = np.random.rand()\n",
    "theta1 = np.random.rand()\n",
    "print(theta0, theta1)"
   ]
  },
  {
   "cell_type": "markdown",
   "metadata": {},
   "source": [
    "Your exercise is to implement the MSE function and calculate the error for the first 3 samples:"
   ]
  },
  {
   "cell_type": "code",
   "execution_count": 77,
   "metadata": {
    "scrolled": true
   },
   "outputs": [
    {
     "data": {
      "text/html": [
       "<div>\n",
       "<style scoped>\n",
       "    .dataframe tbody tr th:only-of-type {\n",
       "        vertical-align: middle;\n",
       "    }\n",
       "\n",
       "    .dataframe tbody tr th {\n",
       "        vertical-align: top;\n",
       "    }\n",
       "\n",
       "    .dataframe thead th {\n",
       "        text-align: right;\n",
       "    }\n",
       "</style>\n",
       "<table border=\"1\" class=\"dataframe\">\n",
       "  <thead>\n",
       "    <tr style=\"text-align: right;\">\n",
       "      <th></th>\n",
       "      <th>alim_ssgrp_nom_eng</th>\n",
       "      <th>alim_nom_eng</th>\n",
       "      <th>Phosphorus (mg/100g)</th>\n",
       "      <th>Protein (g/100g)</th>\n",
       "      <th>Zinc (mg/100g)</th>\n",
       "    </tr>\n",
       "  </thead>\n",
       "  <tbody>\n",
       "    <tr>\n",
       "      <td>0</td>\n",
       "      <td>pasta. rice and grains</td>\n",
       "      <td>Durum wheat pre-cooked. whole grain. cooked. u...</td>\n",
       "      <td>116.0</td>\n",
       "      <td>5.25</td>\n",
       "      <td>0.48</td>\n",
       "    </tr>\n",
       "    <tr>\n",
       "      <td>1</td>\n",
       "      <td>pasta. rice and grains</td>\n",
       "      <td>Asian noodles. plain. cooked. unsalted</td>\n",
       "      <td>43.0</td>\n",
       "      <td>3.50</td>\n",
       "      <td>0.19</td>\n",
       "    </tr>\n",
       "    <tr>\n",
       "      <td>2</td>\n",
       "      <td>pasta. rice and grains</td>\n",
       "      <td>Rice. brown. cooked. unsalted</td>\n",
       "      <td>120.0</td>\n",
       "      <td>3.21</td>\n",
       "      <td>0.62</td>\n",
       "    </tr>\n",
       "  </tbody>\n",
       "</table>\n",
       "</div>"
      ],
      "text/plain": [
       "       alim_ssgrp_nom_eng                                       alim_nom_eng  \\\n",
       "0  pasta. rice and grains  Durum wheat pre-cooked. whole grain. cooked. u...   \n",
       "1  pasta. rice and grains             Asian noodles. plain. cooked. unsalted   \n",
       "2  pasta. rice and grains                      Rice. brown. cooked. unsalted   \n",
       "\n",
       "   Phosphorus (mg/100g)  Protein (g/100g)  Zinc (mg/100g)  \n",
       "0                 116.0              5.25            0.48  \n",
       "1                  43.0              3.50            0.19  \n",
       "2                 120.0              3.21            0.62  "
      ]
     },
     "execution_count": 77,
     "metadata": {},
     "output_type": "execute_result"
    }
   ],
   "source": [
    "data[:3]"
   ]
  },
  {
   "cell_type": "markdown",
   "metadata": {},
   "source": [
    "Remind that we want to predict the amount of phosphorus from the amount of zinc.\n",
    "\n",
    "<details>\n",
    "  <summary>hint</summary>\n",
    "  You need to use your hypothesis function $h$ from above to calculate $\\hat{y}$.\n",
    "</details>\n"
   ]
  },
  {
   "cell_type": "code",
   "execution_count": 59,
   "metadata": {},
   "outputs": [],
   "source": [
    "# Your code here\n"
   ]
  },
  {
   "cell_type": "code",
   "execution_count": null,
   "metadata": {},
   "outputs": [],
   "source": []
  },
  {
   "cell_type": "code",
   "execution_count": null,
   "metadata": {},
   "outputs": [],
   "source": []
  },
  {
   "cell_type": "code",
   "execution_count": 78,
   "metadata": {},
   "outputs": [],
   "source": [
    "def L(x, y, theta0, theta1):\n",
    "    y_hat = h(x, theta0, theta1)\n",
    "    return (y_hat - y) ** 2"
   ]
  },
  {
   "cell_type": "code",
   "execution_count": null,
   "metadata": {},
   "outputs": [],
   "source": []
  },
  {
   "cell_type": "code",
   "execution_count": null,
   "metadata": {},
   "outputs": [],
   "source": []
  },
  {
   "cell_type": "markdown",
   "metadata": {},
   "source": [
    "To check your function, here are few tests that you can run. They correspond to the first 3 samples of the Ciqual dataset:"
   ]
  },
  {
   "cell_type": "code",
   "execution_count": 79,
   "metadata": {},
   "outputs": [
    {
     "data": {
      "text/plain": [
       "13263.249921833765"
      ]
     },
     "execution_count": 79,
     "metadata": {},
     "output_type": "execute_result"
    }
   ],
   "source": [
    "L(x=0.48, y=116, theta0=theta0, theta1=theta1)\n",
    "# should return 13263.249921833765"
   ]
  },
  {
   "cell_type": "code",
   "execution_count": 80,
   "metadata": {},
   "outputs": [
    {
     "data": {
      "text/plain": [
       "1784.9918874926789"
      ]
     },
     "execution_count": 80,
     "metadata": {},
     "output_type": "execute_result"
    }
   ],
   "source": [
    "L(x=0.19, y=43, theta0=theta0, theta1=theta1)\n",
    "# should return 1784.9918874926789"
   ]
  },
  {
   "cell_type": "code",
   "execution_count": 81,
   "metadata": {},
   "outputs": [
    {
     "data": {
      "text/plain": [
       "14191.03352093345"
      ]
     },
     "execution_count": 81,
     "metadata": {},
     "output_type": "execute_result"
    }
   ],
   "source": [
    "L(x=0.62, y=120, theta0=theta0, theta1=theta1)\n",
    "# should return 1784.9918874926789"
   ]
  },
  {
   "cell_type": "markdown",
   "metadata": {},
   "source": [
    "These values correspond to the error of our model for each sample. It seems that the model is not very good, and this is normal, since it is just random for now 😀.\n",
    "\n",
    "Now, you can try to plot the random regression line along with the data to have an idea of the loss."
   ]
  },
  {
   "cell_type": "code",
   "execution_count": null,
   "metadata": {},
   "outputs": [],
   "source": [
    "# Your code here\n"
   ]
  },
  {
   "cell_type": "code",
   "execution_count": null,
   "metadata": {},
   "outputs": [],
   "source": []
  },
  {
   "cell_type": "code",
   "execution_count": null,
   "metadata": {},
   "outputs": [],
   "source": []
  },
  {
   "cell_type": "code",
   "execution_count": 86,
   "metadata": {},
   "outputs": [
    {
     "data": {
      "text/plain": [
       "[<matplotlib.lines.Line2D at 0x7f9ea0d122e8>]"
      ]
     },
     "execution_count": 86,
     "metadata": {},
     "output_type": "execute_result"
    },
    {
     "data": {
      "image/png": "[encoded data removed]",
      "text/plain": [
       "<Figure size 432x288 with 1 Axes>"
      ]
     },
     "metadata": {
      "needs_background": "light"
     },
     "output_type": "display_data"
    }
   ],
   "source": [
    "x_line = np.arange(data['Zinc (mg/100g)'].min() - data['Zinc (mg/100g)'].min() / 10,\n",
    "                   data['Zinc (mg/100g)'].max() + data['Zinc (mg/100g)'].max() / 10,\n",
    "                  0.1)\n",
    "y_line = theta0 + theta1 * x_line\n",
    "\n",
    "sns.scatterplot('Zinc (mg/100g)','Phosphorus (mg/100g)', data=data)\n",
    "plt.plot(x_line, y_line)"
   ]
  },
  {
   "cell_type": "markdown",
   "metadata": {},
   "source": [
    "**How to plot linear equations?**\n",
    "\n",
    "To plot the regression line, we create a variable `x_line` with values with the range we need (according to the samples):\n"
   ]
  },
  {
   "cell_type": "code",
   "execution_count": 87,
   "metadata": {},
   "outputs": [
    {
     "data": {
      "text/plain": [
       "array([0. , 0.1, 0.2, 0.3, 0.4, 0.5, 0.6, 0.7, 0.8, 0.9, 1. , 1.1, 1.2,\n",
       "       1.3, 1.4, 1.5, 1.6, 1.7, 1.8, 1.9, 2. , 2.1, 2.2, 2.3, 2.4, 2.5,\n",
       "       2.6, 2.7, 2.8, 2.9, 3. , 3.1, 3.2, 3.3, 3.4, 3.5, 3.6, 3.7, 3.8,\n",
       "       3.9, 4. , 4.1, 4.2, 4.3])"
      ]
     },
     "execution_count": 87,
     "metadata": {},
     "output_type": "execute_result"
    }
   ],
   "source": [
    "x_line"
   ]
  },
  {
   "cell_type": "markdown",
   "metadata": {},
   "source": [
    "And we apply the linear function with our parameters to this array with `y_line = theta0 + theta1 * x_line\n",
    "`."
   ]
  },
  {
   "cell_type": "code",
   "execution_count": 88,
   "metadata": {},
   "outputs": [
    {
     "data": {
      "text/plain": [
       "array([0.69646919, 0.72508312, 0.75369705, 0.78231099, 0.81092492,\n",
       "       0.83953885, 0.86815279, 0.89676672, 0.92538065, 0.95399459,\n",
       "       0.98260852, 1.01122245, 1.03983639, 1.06845032, 1.09706425,\n",
       "       1.12567819, 1.15429212, 1.18290606, 1.21151999, 1.24013392,\n",
       "       1.26874786, 1.29736179, 1.32597572, 1.35458966, 1.38320359,\n",
       "       1.41181752, 1.44043146, 1.46904539, 1.49765932, 1.52627326,\n",
       "       1.55488719, 1.58350112, 1.61211506, 1.64072899, 1.66934292,\n",
       "       1.69795686, 1.72657079, 1.75518472, 1.78379866, 1.81241259,\n",
       "       1.84102653, 1.86964046, 1.89825439, 1.92686833])"
      ]
     },
     "execution_count": 88,
     "metadata": {},
     "output_type": "execute_result"
    }
   ],
   "source": [
    "y_line"
   ]
  },
  {
   "cell_type": "markdown",
   "metadata": {},
   "source": [
    "We can then plot the pairs of values `x_line` and `y_line`.\n",
    "\n",
    "In comparison to the scale of the variable `phosphorus`, the value of $\\theta_0$ and $\\theta_1$ are very small and the regression line is almost an horizontal line when plotted along the data samples.\n",
    "\n",
    "We can also represent only the sample we used to calculate the loss "
   ]
  },
  {
   "cell_type": "code",
   "execution_count": 85,
   "metadata": {},
   "outputs": [
    {
     "data": {
      "text/plain": [
       "[<matplotlib.lines.Line2D at 0x7f9ec11e8da0>]"
      ]
     },
     "execution_count": 85,
     "metadata": {},
     "output_type": "execute_result"
    },
    {
     "data": {
      "image/png": "[encoded data removed]",
      "text/plain": [
       "<Figure size 432x288 with 1 Axes>"
      ]
     },
     "metadata": {
      "needs_background": "light"
     },
     "output_type": "display_data"
    }
   ],
   "source": [
    "x_line = np.arange(data[:3]['Zinc (mg/100g)'].min() - data[:3]['Zinc (mg/100g)'].min() / 10,\n",
    "                   data[:3]['Zinc (mg/100g)'].max() + data[:3]['Zinc (mg/100g)'].max() / 10,\n",
    "                  0.1)\n",
    "y_line = theta0 + theta1 * x_line\n",
    "\n",
    "sns.scatterplot('Zinc (mg/100g)','Phosphorus (mg/100g)', data=data[:3])\n",
    "plt.plot(x_line, y_line)"
   ]
  },
  {
   "cell_type": "code",
   "execution_count": null,
   "metadata": {},
   "outputs": [],
   "source": []
  },
  {
   "cell_type": "code",
   "execution_count": null,
   "metadata": {},
   "outputs": [],
   "source": []
  },
  {
   "cell_type": "markdown",
   "metadata": {},
   "source": [
    "## 4. Cost Function - Multiple Samples\n",
    "\n",
    "When applied to multiple data samples, we usually call *cost function* the function calculating the error of prediction.\n",
    "\n",
    "You will adapt the loss function from 3. to create the MSE cost function. This function will calculate the total error."
   ]
  },
  {
   "cell_type": "code",
   "execution_count": 90,
   "metadata": {},
   "outputs": [],
   "source": [
    "# Your code here\n"
   ]
  },
  {
   "cell_type": "code",
   "execution_count": null,
   "metadata": {},
   "outputs": [],
   "source": []
  },
  {
   "cell_type": "code",
   "execution_count": null,
   "metadata": {},
   "outputs": [],
   "source": []
  },
  {
   "cell_type": "code",
   "execution_count": 94,
   "metadata": {},
   "outputs": [],
   "source": [
    "def L(x, y, theta0, theta1):\n",
    "    y_hat = h(x, theta0, theta1)\n",
    "    return np.sum((y_hat - y) ** 2)"
   ]
  },
  {
   "cell_type": "code",
   "execution_count": null,
   "metadata": {},
   "outputs": [],
   "source": []
  },
  {
   "cell_type": "code",
   "execution_count": null,
   "metadata": {},
   "outputs": [],
   "source": []
  },
  {
   "cell_type": "markdown",
   "metadata": {},
   "source": [
    "Using the whole dataset and the random initialized parameters you should get:"
   ]
  },
  {
   "cell_type": "code",
   "execution_count": 96,
   "metadata": {},
   "outputs": [
    {
     "data": {
      "text/plain": [
       "2789086.39259691"
      ]
     },
     "execution_count": 96,
     "metadata": {},
     "output_type": "execute_result"
    }
   ],
   "source": [
    "L(x=data['Zinc (mg/100g)'], y=data['Phosphorus (mg/100g)'], theta0=theta0, theta1=theta1)\n",
    "# Should return 2789086.39259691"
   ]
  },
  {
   "cell_type": "code",
   "execution_count": null,
   "metadata": {},
   "outputs": [],
   "source": []
  },
  {
   "cell_type": "code",
   "execution_count": null,
   "metadata": {},
   "outputs": [],
   "source": []
  },
  {
   "cell_type": "markdown",
   "metadata": {},
   "source": [
    "## 5. Range of Parameters\n",
    "\n",
    "The last part of the linear regression algorithm is the optimization of our parameters $\\theta_0$ and $\\theta_1$. But first, we will look at a range of parameter values to the see the impact on the cost.\n",
    "\n"
   ]
  },
  {
   "cell_type": "code",
   "execution_count": null,
   "metadata": {},
   "outputs": [],
   "source": []
  },
  {
   "cell_type": "code",
   "execution_count": null,
   "metadata": {},
   "outputs": [],
   "source": []
  },
  {
   "cell_type": "code",
   "execution_count": null,
   "metadata": {},
   "outputs": [],
   "source": []
  }
 ],
 "metadata": {
  "kernelspec": {
   "display_name": "Python 3",
   "language": "python",
   "name": "python3"
  },
  "language_info": {
   "codemirror_mode": {
    "name": "ipython",
    "version": 3
   },
   "file_extension": ".py",
   "mimetype": "text/x-python",
   "name": "python",
   "nbconvert_exporter": "python",
   "pygments_lexer": "ipython3",
   "version": "3.7.2"
  }
 },
 "nbformat": 4,
 "nbformat_minor": 2
}
