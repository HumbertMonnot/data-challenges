{
 "cells": [
  {
   "cell_type": "markdown",
   "metadata": {},
   "source": [
    "# Introduction\n",
    "\n",
    "The learning pipeline of a machine learning could be summarize as the following:\n",
    "\n",
    "- 1. Start with some random parameter values: we call this random initialization. Zero initialization is also possible.\n",
    "- 2. Calculate the output of the algorithm with these parameters: this is call **forward propagation**.\n",
    "- 3. Calculate the error with these parameters: we compare the output of the algorithm with the ground truth (for this reason, we need the ground truth: this is a supervised algorithm).\n",
    "- 4. Evaluate how to change each parameter to reduce the error (let's consider this as a black box for now - we'll open the box in latter exercises) and update the parameters: this is called **backward propagation**.\n",
    "\n",
    "# 01 - Data Exploration\n",
    "\n",
    "For this exercise, we'll use the [Ciqual dataset](https://ciqual.anses.fr/#) showing the composition of food.🌽\n",
    "\n",
    "Let's start importing the libraries and loading a simplified version of the ciqual dataset.\n"
   ]
  },
  {
   "cell_type": "code",
   "execution_count": 2,
   "metadata": {},
   "outputs": [],
   "source": [
    "import numpy as np\n",
    "import pandas as pd\n",
    "import matplotlib.pyplot as plt\n",
    "import seaborn as sns"
   ]
  },
  {
   "cell_type": "code",
   "execution_count": 4,
   "metadata": {},
   "outputs": [],
   "source": [
    "data = pd.read_csv(\"../data/ciqual_small.csv\")"
   ]
  },
  {
   "cell_type": "markdown",
   "metadata": {},
   "source": [
    "We will use this dataset to predict the amount of phosporus in food according to the amount of zinc.\n",
    "\n",
    "As usual, your first task is familiarize yourself with the data. You can:\n",
    "\n",
    "- 1. Display the first rows of the table with Pandas\n",
    "- 2. Get some description of the features (columns)\n",
    "- 3. Check that there is no missing values\n",
    "- 4. Visualize the relation between the variables `Phosphorus (mg/100g)` and `Zinc (mg/100g)`.\n"
   ]
  },
  {
   "cell_type": "code",
   "execution_count": 3,
   "metadata": {},
   "outputs": [],
   "source": [
    "# Your code here\n"
   ]
  },
  {
   "cell_type": "code",
   "execution_count": null,
   "metadata": {},
   "outputs": [],
   "source": []
  },
  {
   "cell_type": "code",
   "execution_count": null,
   "metadata": {},
   "outputs": [],
   "source": []
  },
  {
   "cell_type": "markdown",
   "metadata": {},
   "source": [
    "1- Display the first rows of the table with Pandas"
   ]
  },
  {
   "cell_type": "code",
   "execution_count": 4,
   "metadata": {},
   "outputs": [
    {
     "data": {
      "text/html": [
       "<div>\n",
       "<style scoped>\n",
       "    .dataframe tbody tr th:only-of-type {\n",
       "        vertical-align: middle;\n",
       "    }\n",
       "\n",
       "    .dataframe tbody tr th {\n",
       "        vertical-align: top;\n",
       "    }\n",
       "\n",
       "    .dataframe thead th {\n",
       "        text-align: right;\n",
       "    }\n",
       "</style>\n",
       "<table border=\"1\" class=\"dataframe\">\n",
       "  <thead>\n",
       "    <tr style=\"text-align: right;\">\n",
       "      <th></th>\n",
       "      <th>alim_ssgrp_nom_eng</th>\n",
       "      <th>alim_nom_eng</th>\n",
       "      <th>Phosphorus (mg/100g)</th>\n",
       "      <th>Protein (g/100g)</th>\n",
       "      <th>Zinc (mg/100g)</th>\n",
       "    </tr>\n",
       "  </thead>\n",
       "  <tbody>\n",
       "    <tr>\n",
       "      <td>0</td>\n",
       "      <td>pasta. rice and grains</td>\n",
       "      <td>Durum wheat pre-cooked. whole grain. cooked. u...</td>\n",
       "      <td>116.0</td>\n",
       "      <td>5.25</td>\n",
       "      <td>0.48</td>\n",
       "    </tr>\n",
       "    <tr>\n",
       "      <td>1</td>\n",
       "      <td>pasta. rice and grains</td>\n",
       "      <td>Asian noodles. plain. cooked. unsalted</td>\n",
       "      <td>43.0</td>\n",
       "      <td>3.50</td>\n",
       "      <td>0.19</td>\n",
       "    </tr>\n",
       "    <tr>\n",
       "      <td>2</td>\n",
       "      <td>pasta. rice and grains</td>\n",
       "      <td>Rice. brown. cooked. unsalted</td>\n",
       "      <td>120.0</td>\n",
       "      <td>3.21</td>\n",
       "      <td>0.62</td>\n",
       "    </tr>\n",
       "    <tr>\n",
       "      <td>3</td>\n",
       "      <td>pasta. rice and grains</td>\n",
       "      <td>Rice. cooked. unsalted</td>\n",
       "      <td>35.0</td>\n",
       "      <td>2.92</td>\n",
       "      <td>0.26</td>\n",
       "    </tr>\n",
       "    <tr>\n",
       "      <td>4</td>\n",
       "      <td>pasta. rice and grains</td>\n",
       "      <td>Rice. parboiled. cooked. unsalted</td>\n",
       "      <td>35.0</td>\n",
       "      <td>2.95</td>\n",
       "      <td>0.10</td>\n",
       "    </tr>\n",
       "  </tbody>\n",
       "</table>\n",
       "</div>"
      ],
      "text/plain": [
       "       alim_ssgrp_nom_eng                                       alim_nom_eng  \\\n",
       "0  pasta. rice and grains  Durum wheat pre-cooked. whole grain. cooked. u...   \n",
       "1  pasta. rice and grains             Asian noodles. plain. cooked. unsalted   \n",
       "2  pasta. rice and grains                      Rice. brown. cooked. unsalted   \n",
       "3  pasta. rice and grains                             Rice. cooked. unsalted   \n",
       "4  pasta. rice and grains                  Rice. parboiled. cooked. unsalted   \n",
       "\n",
       "   Phosphorus (mg/100g)  Protein (g/100g)  Zinc (mg/100g)  \n",
       "0                 116.0              5.25            0.48  \n",
       "1                  43.0              3.50            0.19  \n",
       "2                 120.0              3.21            0.62  \n",
       "3                  35.0              2.92            0.26  \n",
       "4                  35.0              2.95            0.10  "
      ]
     },
     "execution_count": 4,
     "metadata": {},
     "output_type": "execute_result"
    }
   ],
   "source": [
    "data.head()"
   ]
  },
  {
   "cell_type": "markdown",
   "metadata": {},
   "source": [
    "2- Get some description of the features (columns)\n"
   ]
  },
  {
   "cell_type": "code",
   "execution_count": 5,
   "metadata": {},
   "outputs": [
    {
     "data": {
      "text/html": [
       "<div>\n",
       "<style scoped>\n",
       "    .dataframe tbody tr th:only-of-type {\n",
       "        vertical-align: middle;\n",
       "    }\n",
       "\n",
       "    .dataframe tbody tr th {\n",
       "        vertical-align: top;\n",
       "    }\n",
       "\n",
       "    .dataframe thead th {\n",
       "        text-align: right;\n",
       "    }\n",
       "</style>\n",
       "<table border=\"1\" class=\"dataframe\">\n",
       "  <thead>\n",
       "    <tr style=\"text-align: right;\">\n",
       "      <th></th>\n",
       "      <th>Phosphorus (mg/100g)</th>\n",
       "      <th>Protein (g/100g)</th>\n",
       "      <th>Zinc (mg/100g)</th>\n",
       "    </tr>\n",
       "  </thead>\n",
       "  <tbody>\n",
       "    <tr>\n",
       "      <td>count</td>\n",
       "      <td>53.000000</td>\n",
       "      <td>53.000000</td>\n",
       "      <td>53.000000</td>\n",
       "    </tr>\n",
       "    <tr>\n",
       "      <td>mean</td>\n",
       "      <td>184.150943</td>\n",
       "      <td>7.626226</td>\n",
       "      <td>1.607736</td>\n",
       "    </tr>\n",
       "    <tr>\n",
       "      <td>std</td>\n",
       "      <td>139.919124</td>\n",
       "      <td>4.380139</td>\n",
       "      <td>1.090756</td>\n",
       "    </tr>\n",
       "    <tr>\n",
       "      <td>min</td>\n",
       "      <td>10.000000</td>\n",
       "      <td>0.570000</td>\n",
       "      <td>0.000000</td>\n",
       "    </tr>\n",
       "    <tr>\n",
       "      <td>25%</td>\n",
       "      <td>62.000000</td>\n",
       "      <td>3.510000</td>\n",
       "      <td>0.830000</td>\n",
       "    </tr>\n",
       "    <tr>\n",
       "      <td>50%</td>\n",
       "      <td>156.000000</td>\n",
       "      <td>7.440000</td>\n",
       "      <td>1.340000</td>\n",
       "    </tr>\n",
       "    <tr>\n",
       "      <td>75%</td>\n",
       "      <td>285.000000</td>\n",
       "      <td>11.500000</td>\n",
       "      <td>2.400000</td>\n",
       "    </tr>\n",
       "    <tr>\n",
       "      <td>max</td>\n",
       "      <td>557.000000</td>\n",
       "      <td>16.900000</td>\n",
       "      <td>3.970000</td>\n",
       "    </tr>\n",
       "  </tbody>\n",
       "</table>\n",
       "</div>"
      ],
      "text/plain": [
       "       Phosphorus (mg/100g)  Protein (g/100g)  Zinc (mg/100g)\n",
       "count             53.000000         53.000000       53.000000\n",
       "mean             184.150943          7.626226        1.607736\n",
       "std              139.919124          4.380139        1.090756\n",
       "min               10.000000          0.570000        0.000000\n",
       "25%               62.000000          3.510000        0.830000\n",
       "50%              156.000000          7.440000        1.340000\n",
       "75%              285.000000         11.500000        2.400000\n",
       "max              557.000000         16.900000        3.970000"
      ]
     },
     "execution_count": 5,
     "metadata": {},
     "output_type": "execute_result"
    }
   ],
   "source": [
    "data.describe()"
   ]
  },
  {
   "cell_type": "markdown",
   "metadata": {},
   "source": [
    "3- Check that there is no missing values\n"
   ]
  },
  {
   "cell_type": "code",
   "execution_count": 6,
   "metadata": {},
   "outputs": [
    {
     "data": {
      "text/plain": [
       "alim_ssgrp_nom_eng      0\n",
       "alim_nom_eng            0\n",
       "Phosphorus (mg/100g)    0\n",
       "Protein (g/100g)        0\n",
       "Zinc (mg/100g)          0\n",
       "dtype: int64"
      ]
     },
     "execution_count": 6,
     "metadata": {},
     "output_type": "execute_result"
    }
   ],
   "source": [
    "data.isna().sum()"
   ]
  },
  {
   "cell_type": "markdown",
   "metadata": {},
   "source": [
    "4- Visualize the relation between the variables `Phosphorus (mg/100g)` and `Zinc (mg/100g)`.\n"
   ]
  },
  {
   "cell_type": "code",
   "execution_count": 7,
   "metadata": {},
   "outputs": [
    {
     "data": {
      "text/plain": [
       "<matplotlib.axes._subplots.AxesSubplot at 0x7fb609e8a898>"
      ]
     },
     "execution_count": 7,
     "metadata": {},
     "output_type": "execute_result"
    },
    {
     "data": {
      "image/png": "[encoded data removed]",
      "text/plain": [
       "<Figure size 432x288 with 1 Axes>"
      ]
     },
     "metadata": {
      "needs_background": "light"
     },
     "output_type": "display_data"
    }
   ],
   "source": [
    "sns.scatterplot('Zinc (mg/100g)','Phosphorus (mg/100g)', data=data)"
   ]
  }
 ],
 "metadata": {
  "kernelspec": {
   "display_name": "Python 3",
   "language": "python",
   "name": "python3"
  },
  "language_info": {
   "codemirror_mode": {
    "name": "ipython",
    "version": 3
   },
   "file_extension": ".py",
   "mimetype": "text/x-python",
   "name": "python",
   "nbconvert_exporter": "python",
   "pygments_lexer": "ipython3",
   "version": "3.7.2"
  },
  "toc": {
   "base_numbering": 1,
   "nav_menu": {},
   "number_sections": false,
   "sideBar": true,
   "skip_h1_title": false,
   "title_cell": "Table of Contents",
   "title_sidebar": "Contents",
   "toc_cell": false,
   "toc_position": {},
   "toc_section_display": true,
   "toc_window_display": false
  }
 },
 "nbformat": 4,
 "nbformat_minor": 2
}
