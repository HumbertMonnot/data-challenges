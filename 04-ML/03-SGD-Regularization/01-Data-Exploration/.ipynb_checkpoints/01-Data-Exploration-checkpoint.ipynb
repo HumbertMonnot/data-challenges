{
 "cells": [
  {
   "cell_type": "markdown",
   "metadata": {},
   "source": [
    "# Introduction\n",
    "\n",
    "The learning pipeline of a machine learning could be summarize as the following:\n",
    "\n",
    "- 1. Start with some random parameter values: we call this random initialization. Zero initialization is also possible.\n",
    "- 2. Calculate the output of the algorithm with these parameters: this is call **forward propagation**.\n",
    "- 3. Calculate the error with these parameters: we compare the output of the algorithm with the ground truth (for this reason, we need the ground truth: this is a supervised algorithm).\n",
    "- 4. Evaluate how to change each parameter to reduce the error (let's consider this as a black box for now - we'll open the box in latter exercises) and update the parameters: this is called **backward propagation**.\n",
    "\n",
    "# 01 - Data Exploration\n",
    "\n",
    "For this exercise, we'll use the [Ciqual dataset](https://ciqual.anses.fr/#) showing the composition of food.🌽\n",
    "\n",
    "Let's start importing the libraries and loading a simplified version of the ciqual dataset.\n"
   ]
  },
  {
   "cell_type": "code",
   "execution_count": 1,
   "metadata": {},
   "outputs": [],
   "source": [
    "import numpy as np\n",
    "import pandas as pd\n",
    "import matplotlib.pyplot as plt\n",
    "import seaborn as sns"
   ]
  },
  {
   "cell_type": "code",
   "execution_count": 2,
   "metadata": {},
   "outputs": [],
   "source": [
    "data = pd.read_csv(\"../data/ciqual_small.csv\")"
   ]
  },
  {
   "cell_type": "markdown",
   "metadata": {},
   "source": [
    "We will use this dataset to predict the amount of phosporus in food according to the amount of zinc.\n",
    "\n",
    "As usual, your first task is familiarize yourself with the data. You can:\n",
    "\n",
    "- 1. Display the first rows of the table with Pandas\n",
    "- 2. Get some description of the features (columns)\n",
    "- 3. Check that there is no missing values\n",
    "- 4. Visualize the relation between the variables `Phosphorus (mg/100g)` and `Zinc (mg/100g)`.\n"
   ]
  },
  {
   "cell_type": "code",
   "execution_count": 3,
   "metadata": {},
   "outputs": [],
   "source": [
    "# Your code here\n"
   ]
  }
 ],
 "metadata": {
  "kernelspec": {
   "display_name": "Python 3",
   "language": "python",
   "name": "python3"
  },
  "language_info": {
   "codemirror_mode": {
    "name": "ipython",
    "version": 3
   },
   "file_extension": ".py",
   "mimetype": "text/x-python",
   "name": "python",
   "nbconvert_exporter": "python",
   "pygments_lexer": "ipython3",
   "version": "3.7.2"
  },
  "toc": {
   "base_numbering": 1,
   "nav_menu": {},
   "number_sections": false,
   "sideBar": true,
   "skip_h1_title": false,
   "title_cell": "Table of Contents",
   "title_sidebar": "Contents",
   "toc_cell": false,
   "toc_position": {},
   "toc_section_display": true,
   "toc_window_display": false
  }
 },
 "nbformat": 4,
 "nbformat_minor": 2
}
