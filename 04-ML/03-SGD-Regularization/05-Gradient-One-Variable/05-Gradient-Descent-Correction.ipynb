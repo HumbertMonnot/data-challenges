{
 "cells": [
  {
   "cell_type": "markdown",
   "metadata": {},
   "source": [
    "# 05 - Gradient Descent\n",
    "\n",
    "The next part of the linear regression algorithm is the optimization of our parameters $\\theta_0$ and $\\theta_1$.\n",
    "\n",
    "In Exercise 04, we have seen what is a cost function and how to use it to calculate the error associated with estimations on the whole dataset. Then, we have tried multiple parameter combinations to see the effect on the error and find good parameter values.\n",
    "\n",
    "However, it is quite computing demanding to calculate the error for a lot of combinations: imagine doing so with big functions like neural networks that can have millions of parameters!\n",
    "\n",
    "Fortunately, there is another way: we can *minimize* the cost function to find good parameter values. To do so, we need to find how to update each parameter (should we increase or decrease the its value). For each parameter, the right direction is given by the slope on the cost function. And since the slope of a function is given by its derivative, we use the cost function derivative! Don't worry, we'll do that one step at a time!\n",
    "\n",
    "When we say: \"for each parameter\", this means that we calculate the derivative with respect to each parameter separately. This is called *partial derivatives*. Then, we can stack all these partial derivatives (one per parameter) in a vector. This vector is called the *gradient* of the function. This why we call this procedure *gradient descent*: we use the gradient to minimize the function.\n",
    "\n",
    "However, we will simplify the problem in this exercise and use only one variable.\n"
   ]
  },
  {
   "cell_type": "markdown",
   "metadata": {},
   "source": [
    "## Setup\n",
    "\n",
    "Let's start with regular imports and functions from previous exercises. You will also load some data using the file format `h5` to be sure that you can start fresh."
   ]
  },
  {
   "cell_type": "code",
   "execution_count": 1,
   "metadata": {},
   "outputs": [],
   "source": [
    "import numpy as np\n",
    "import pandas as pd\n",
    "import matplotlib.pyplot as plt\n",
    "import seaborn as sns"
   ]
  },
  {
   "cell_type": "code",
   "execution_count": 2,
   "metadata": {},
   "outputs": [],
   "source": [
    "data = pd.read_csv(\"../data/ciqual_small.csv\")"
   ]
  },
  {
   "cell_type": "markdown",
   "metadata": {},
   "source": [
    "You can get these functions from previous exercises:"
   ]
  },
  {
   "cell_type": "code",
   "execution_count": 3,
   "metadata": {},
   "outputs": [],
   "source": [
    " def h(x, theta0, theta1):\n",
    "    # TODO: Take h() from Exercise 02\n",
    "    pass\n",
    "\n",
    "def L(x, y, theta0, theta1):\n",
    "    # TODO: Take L() from Exercise 03\n",
    "    pass\n",
    "\n",
    "def plot_reg_line(x, y, theta0, theta1):\n",
    "    # TODO: Take plot_reg_line() from Exercise 03\n",
    "    pass"
   ]
  },
  {
   "cell_type": "code",
   "execution_count": null,
   "metadata": {},
   "outputs": [],
   "source": []
  },
  {
   "cell_type": "code",
   "execution_count": null,
   "metadata": {},
   "outputs": [],
   "source": []
  },
  {
   "cell_type": "code",
   "execution_count": 4,
   "metadata": {},
   "outputs": [],
   "source": [
    "def h(x, theta0, theta1):\n",
    "    y_pred = theta0 + theta1 * x\n",
    "    return y_pred\n",
    "\n",
    "def L(x, y, theta0, theta1):\n",
    "    y_hat = h(x, theta0, theta1)\n",
    "    m = x.shape[0]\n",
    "    return (1 / (2 * m)) * np.sum((y_hat - y) ** 2)\n",
    "\n",
    "def plot_reg_line(x, y, theta0, theta1):\n",
    "    x_line = np.arange(x.min() - x.min() / 10,\n",
    "                       x.max() + x.max() / 10,\n",
    "                      0.1)\n",
    "    y_line = theta0 + theta1 * x_line\n",
    "\n",
    "    sns.scatterplot(x, y)\n",
    "    plt.plot(x_line, y_line)"
   ]
  },
  {
   "cell_type": "code",
   "execution_count": null,
   "metadata": {},
   "outputs": [],
   "source": []
  },
  {
   "cell_type": "code",
   "execution_count": null,
   "metadata": {},
   "outputs": [],
   "source": []
  },
  {
   "cell_type": "markdown",
   "metadata": {},
   "source": [
    "Here some variables from Exercise 04 that we'll need here:"
   ]
  },
  {
   "cell_type": "code",
   "execution_count": 5,
   "metadata": {},
   "outputs": [],
   "source": [
    "import h5py\n",
    "\n",
    "hf = h5py.File('../data/data_exercises.h5', 'r')\n",
    "\n",
    "cost_all_norm = np.array(hf.get('cost_all_norm'))\n",
    "cost_all = np.array(hf.get('cost_all'))\n",
    "\n",
    "best_params = np.array(hf.get('best_params'))\n",
    "best_params_norm = np.array(hf.get('best_params_norm'))\n",
    "\n",
    "best_theta0 = np.array(hf.get('best_theta0')).reshape(-1)[0]\n",
    "best_theta1 = np.array(hf.get('best_theta1')).reshape(-1)[0]\n",
    "best_theta0_norm = np.array(hf.get('best_theta0_norm')).reshape(-1)[0]\n",
    "best_theta1_norm = np.array(hf.get('best_theta1_norm')).reshape(-1)[0]\n",
    "\n",
    "theta0_grid = np.array(hf.get('theta0_grid'))\n",
    "theta1_grid = np.array(hf.get('theta1_grid'))\n",
    "theta0_grid_zoom = np.array(hf.get('theta0_grid_zoom'))\n",
    "theta1_grid_zoom = np.array(hf.get('theta1_grid_zoom'))\n",
    "\n",
    "hf.close()"
   ]
  },
  {
   "cell_type": "markdown",
   "metadata": {},
   "source": [
    "## Is Our Cost Function Convex?\n",
    "\n",
    "#### Important Note\n",
    "\n",
    "In this part, we will use the normalized data. It will be easier to look at the shape of the cost function! In latter parts, we will use raw data however. So for now, use the variables `cost_all_norm`, `theta0_grid_zoom`, `theta1_grid_zoom` and not `cost_all`, `theta0_grid` and `theta0_grid`!\n",
    "\n",
    "As a first task, you will check the shape of the cost function that you have implemented in Exercise 04. We should find that our cost function is *convex* (think of it as a bowl-shaped function), which is good for gradient descent."
   ]
  },
  {
   "cell_type": "markdown",
   "metadata": {},
   "source": [
    "Your first task is to plot the cost functions separately for the two parameters `theta0` and `theta1`. You should do two plots:\n",
    "\n",
    "- the cost in function of `theta0` taking a fixed value of `theta1` (its best value: `best_theta1`)\n",
    "- the cost in function of `theta1` taking a fixed value of `theta0` (its best value: `best_theta0`)\n"
   ]
  },
  {
   "cell_type": "code",
   "execution_count": 6,
   "metadata": {},
   "outputs": [],
   "source": [
    "# Your code here\n"
   ]
  },
  {
   "cell_type": "code",
   "execution_count": null,
   "metadata": {},
   "outputs": [],
   "source": []
  },
  {
   "cell_type": "code",
   "execution_count": null,
   "metadata": {},
   "outputs": [],
   "source": []
  },
  {
   "cell_type": "markdown",
   "metadata": {},
   "source": [
    "Let's plot the cost in function of `theta0`. We keep the values of `theta0` for the best `theta1` value."
   ]
  },
  {
   "cell_type": "code",
   "execution_count": 7,
   "metadata": {},
   "outputs": [
    {
     "data": {
      "text/plain": [
       "[<matplotlib.lines.Line2D at 0x7fc958906e80>]"
      ]
     },
     "execution_count": 7,
     "metadata": {},
     "output_type": "execute_result"
    },
    {
     "data": {
      "image/png": "[encoded data removed]",
      "text/plain": [
       "<Figure size 432x288 with 1 Axes>"
      ]
     },
     "metadata": {
      "needs_background": "light"
     },
     "output_type": "display_data"
    }
   ],
   "source": [
    "plt.plot(theta0_grid_zoom, cost_all_norm[:, best_params_norm[1]])"
   ]
  },
  {
   "cell_type": "markdown",
   "metadata": {},
   "source": [
    "And then the cost in function of `theta1`, while using the best value of `theta0`:"
   ]
  },
  {
   "cell_type": "code",
   "execution_count": 8,
   "metadata": {},
   "outputs": [
    {
     "data": {
      "text/plain": [
       "[<matplotlib.lines.Line2D at 0x7fc9589471d0>]"
      ]
     },
     "execution_count": 8,
     "metadata": {},
     "output_type": "execute_result"
    },
    {
     "data": {
      "image/png": "[encoded data removed]",
      "text/plain": [
       "<Figure size 432x288 with 1 Axes>"
      ]
     },
     "metadata": {
      "needs_background": "light"
     },
     "output_type": "display_data"
    }
   ],
   "source": [
    "plt.plot(theta1_grid_zoom, cost_all_norm[best_params_norm[0], :])"
   ]
  },
  {
   "cell_type": "markdown",
   "metadata": {},
   "source": [
    "You can see that the cost functions looks convex for both parameters."
   ]
  },
  {
   "cell_type": "code",
   "execution_count": null,
   "metadata": {},
   "outputs": [],
   "source": []
  },
  {
   "cell_type": "code",
   "execution_count": null,
   "metadata": {},
   "outputs": [],
   "source": []
  },
  {
   "cell_type": "markdown",
   "metadata": {},
   "source": [
    "It could be even more informative to plot the cost function according to both parameters at the same time. To do that, you will create a three-dimensional plot with Matplotlib.\n",
    "\n",
    "Your task is to plot the cost function using a surface plot.\n",
    "\n",
    "<details>\n",
    "<summary>hint</summary>\n",
    "https://matplotlib.org/3.1.0/gallery/mplot3d/surface3d.html\n",
    "</details>\n",
    "\n",
    "\n",
    "<details>\n",
    "<summary>hint 2</summary>\n",
    "https://docs.scipy.org/doc/numpy/reference/generated/numpy.meshgrid.html\n",
    "</details>\n",
    "\n",
    "You can also run `%matplotlib notebook` to make the plot interactive and be able to move the shape. To come back to static plots, run `%matplotlib inline` instead.\n"
   ]
  },
  {
   "cell_type": "code",
   "execution_count": 9,
   "metadata": {},
   "outputs": [],
   "source": [
    "%matplotlib notebook"
   ]
  },
  {
   "cell_type": "code",
   "execution_count": 10,
   "metadata": {},
   "outputs": [],
   "source": [
    "# Your code here\n"
   ]
  },
  {
   "cell_type": "code",
   "execution_count": null,
   "metadata": {},
   "outputs": [],
   "source": []
  },
  {
   "cell_type": "code",
   "execution_count": null,
   "metadata": {},
   "outputs": [],
   "source": []
  },
  {
   "cell_type": "code",
   "execution_count": 11,
   "metadata": {},
   "outputs": [
    {
     "data": {
      "application/javascript": [
       "/* Put everything inside the global mpl namespace */\n",
       "window.mpl = {};\n",
       "\n",
       "\n",
       "mpl.get_websocket_type = function() {\n",
       "    if (typeof(WebSocket) !== 'undefined') {\n",
       "        return WebSocket;\n",
       "    } else if (typeof(MozWebSocket) !== 'undefined') {\n",
       "        return MozWebSocket;\n",
       "    } else {\n",
       "        alert('Your browser does not have WebSocket support. ' +\n",
       "              'Please try Chrome, Safari or Firefox ≥ 6. ' +\n",
       "              'Firefox 4 and 5 are also supported but you ' +\n",
       "              'have to enable WebSockets in about:config.');\n",
       "    };\n",
       "}\n",
       "\n",
       "mpl.figure = function(figure_id, websocket, ondownload, parent_element) {\n",
       "    this.id = figure_id;\n",
       "\n",
       "    this.ws = websocket;\n",
       "\n",
       "    this.supports_binary = (this.ws.binaryType != undefined);\n",
       "\n",
       "    if (!this.supports_binary) {\n",
       "        var warnings = document.getElementById(\"mpl-warnings\");\n",
       "        if (warnings) {\n",
       "            warnings.style.display = 'block';\n",
       "            warnings.textContent = (\n",
       "                \"This browser does not support binary websocket messages. \" +\n",
       "                    \"Performance may be slow.\");\n",
       "        }\n",
       "    }\n",
       "\n",
       "    this.imageObj = new Image();\n",
       "\n",
       "    this.context = undefined;\n",
       "    this.message = undefined;\n",
       "    this.canvas = undefined;\n",
       "    this.rubberband_canvas = undefined;\n",
       "    this.rubberband_context = undefined;\n",
       "    this.format_dropdown = undefined;\n",
       "\n",
       "    this.image_mode = 'full';\n",
       "\n",
       "    this.root = $('<div/>');\n",
       "    this._root_extra_style(this.root)\n",
       "    this.root.attr('style', 'display: inline-block');\n",
       "\n",
       "    $(parent_element).append(this.root);\n",
       "\n",
       "    this._init_header(this);\n",
       "    this._init_canvas(this);\n",
       "    this._init_toolbar(this);\n",
       "\n",
       "    var fig = this;\n",
       "\n",
       "    this.waiting = false;\n",
       "\n",
       "    this.ws.onopen =  function () {\n",
       "            fig.send_message(\"supports_binary\", {value: fig.supports_binary});\n",
       "            fig.send_message(\"send_image_mode\", {});\n",
       "            if (mpl.ratio != 1) {\n",
       "                fig.send_message(\"set_dpi_ratio\", {'dpi_ratio': mpl.ratio});\n",
       "            }\n",
       "            fig.send_message(\"refresh\", {});\n",
       "        }\n",
       "\n",
       "    this.imageObj.onload = function() {\n",
       "            if (fig.image_mode == 'full') {\n",
       "                // Full images could contain transparency (where diff images\n",
       "                // almost always do), so we need to clear the canvas so that\n",
       "                // there is no ghosting.\n",
       "                fig.context.clearRect(0, 0, fig.canvas.width, fig.canvas.height);\n",
       "            }\n",
       "            fig.context.drawImage(fig.imageObj, 0, 0);\n",
       "        };\n",
       "\n",
       "    this.imageObj.onunload = function() {\n",
       "        fig.ws.close();\n",
       "    }\n",
       "\n",
       "    this.ws.onmessage = this._make_on_message_function(this);\n",
       "\n",
       "    this.ondownload = ondownload;\n",
       "}\n",
       "\n",
       "mpl.figure.prototype._init_header = function() {\n",
       "    var titlebar = $(\n",
       "        '<div class=\"ui-dialog-titlebar ui-widget-header ui-corner-all ' +\n",
       "        'ui-helper-clearfix\"/>');\n",
       "    var titletext = $(\n",
       "        '<div class=\"ui-dialog-title\" style=\"width: 100%; ' +\n",
       "        'text-align: center; padding: 3px;\"/>');\n",
       "    titlebar.append(titletext)\n",
       "    this.root.append(titlebar);\n",
       "    this.header = titletext[0];\n",
       "}\n",
       "\n",
       "\n",
       "\n",
       "mpl.figure.prototype._canvas_extra_style = function(canvas_div) {\n",
       "\n",
       "}\n",
       "\n",
       "\n",
       "mpl.figure.prototype._root_extra_style = function(canvas_div) {\n",
       "\n",
       "}\n",
       "\n",
       "mpl.figure.prototype._init_canvas = function() {\n",
       "    var fig = this;\n",
       "\n",
       "    var canvas_div = $('<div/>');\n",
       "\n",
       "    canvas_div.attr('style', 'position: relative; clear: both; outline: 0');\n",
       "\n",
       "    function canvas_keyboard_event(event) {\n",
       "        return fig.key_event(event, event['data']);\n",
       "    }\n",
       "\n",
       "    canvas_div.keydown('key_press', canvas_keyboard_event);\n",
       "    canvas_div.keyup('key_release', canvas_keyboard_event);\n",
       "    this.canvas_div = canvas_div\n",
       "    this._canvas_extra_style(canvas_div)\n",
       "    this.root.append(canvas_div);\n",
       "\n",
       "    var canvas = $('<canvas/>');\n",
       "    canvas.addClass('mpl-canvas');\n",
       "    canvas.attr('style', \"left: 0; top: 0; z-index: 0; outline: 0\")\n",
       "\n",
       "    this.canvas = canvas[0];\n",
       "    this.context = canvas[0].getContext(\"2d\");\n",
       "\n",
       "    var backingStore = this.context.backingStorePixelRatio ||\n",
       "\tthis.context.webkitBackingStorePixelRatio ||\n",
       "\tthis.context.mozBackingStorePixelRatio ||\n",
       "\tthis.context.msBackingStorePixelRatio ||\n",
       "\tthis.context.oBackingStorePixelRatio ||\n",
       "\tthis.context.backingStorePixelRatio || 1;\n",
       "\n",
       "    mpl.ratio = (window.devicePixelRatio || 1) / backingStore;\n",
       "\n",
       "    var rubberband = $('<canvas/>');\n",
       "    rubberband.attr('style', \"position: absolute; left: 0; top: 0; z-index: 1;\")\n",
       "\n",
       "    var pass_mouse_events = true;\n",
       "\n",
       "    canvas_div.resizable({\n",
       "        start: function(event, ui) {\n",
       "            pass_mouse_events = false;\n",
       "        },\n",
       "        resize: function(event, ui) {\n",
       "            fig.request_resize(ui.size.width, ui.size.height);\n",
       "        },\n",
       "        stop: function(event, ui) {\n",
       "            pass_mouse_events = true;\n",
       "            fig.request_resize(ui.size.width, ui.size.height);\n",
       "        },\n",
       "    });\n",
       "\n",
       "    function mouse_event_fn(event) {\n",
       "        if (pass_mouse_events)\n",
       "            return fig.mouse_event(event, event['data']);\n",
       "    }\n",
       "\n",
       "    rubberband.mousedown('button_press', mouse_event_fn);\n",
       "    rubberband.mouseup('button_release', mouse_event_fn);\n",
       "    // Throttle sequential mouse events to 1 every 20ms.\n",
       "    rubberband.mousemove('motion_notify', mouse_event_fn);\n",
       "\n",
       "    rubberband.mouseenter('figure_enter', mouse_event_fn);\n",
       "    rubberband.mouseleave('figure_leave', mouse_event_fn);\n",
       "\n",
       "    canvas_div.on(\"wheel\", function (event) {\n",
       "        event = event.originalEvent;\n",
       "        event['data'] = 'scroll'\n",
       "        if (event.deltaY < 0) {\n",
       "            event.step = 1;\n",
       "        } else {\n",
       "            event.step = -1;\n",
       "        }\n",
       "        mouse_event_fn(event);\n",
       "    });\n",
       "\n",
       "    canvas_div.append(canvas);\n",
       "    canvas_div.append(rubberband);\n",
       "\n",
       "    this.rubberband = rubberband;\n",
       "    this.rubberband_canvas = rubberband[0];\n",
       "    this.rubberband_context = rubberband[0].getContext(\"2d\");\n",
       "    this.rubberband_context.strokeStyle = \"#000000\";\n",
       "\n",
       "    this._resize_canvas = function(width, height) {\n",
       "        // Keep the size of the canvas, canvas container, and rubber band\n",
       "        // canvas in synch.\n",
       "        canvas_div.css('width', width)\n",
       "        canvas_div.css('height', height)\n",
       "\n",
       "        canvas.attr('width', width * mpl.ratio);\n",
       "        canvas.attr('height', height * mpl.ratio);\n",
       "        canvas.attr('style', 'width: ' + width + 'px; height: ' + height + 'px;');\n",
       "\n",
       "        rubberband.attr('width', width);\n",
       "        rubberband.attr('height', height);\n",
       "    }\n",
       "\n",
       "    // Set the figure to an initial 600x600px, this will subsequently be updated\n",
       "    // upon first draw.\n",
       "    this._resize_canvas(600, 600);\n",
       "\n",
       "    // Disable right mouse context menu.\n",
       "    $(this.rubberband_canvas).bind(\"contextmenu\",function(e){\n",
       "        return false;\n",
       "    });\n",
       "\n",
       "    function set_focus () {\n",
       "        canvas.focus();\n",
       "        canvas_div.focus();\n",
       "    }\n",
       "\n",
       "    window.setTimeout(set_focus, 100);\n",
       "}\n",
       "\n",
       "mpl.figure.prototype._init_toolbar = function() {\n",
       "    var fig = this;\n",
       "\n",
       "    var nav_element = $('<div/>');\n",
       "    nav_element.attr('style', 'width: 100%');\n",
       "    this.root.append(nav_element);\n",
       "\n",
       "    // Define a callback function for later on.\n",
       "    function toolbar_event(event) {\n",
       "        return fig.toolbar_button_onclick(event['data']);\n",
       "    }\n",
       "    function toolbar_mouse_event(event) {\n",
       "        return fig.toolbar_button_onmouseover(event['data']);\n",
       "    }\n",
       "\n",
       "    for(var toolbar_ind in mpl.toolbar_items) {\n",
       "        var name = mpl.toolbar_items[toolbar_ind][0];\n",
       "        var tooltip = mpl.toolbar_items[toolbar_ind][1];\n",
       "        var image = mpl.toolbar_items[toolbar_ind][2];\n",
       "        var method_name = mpl.toolbar_items[toolbar_ind][3];\n",
       "\n",
       "        if (!name) {\n",
       "            // put a spacer in here.\n",
       "            continue;\n",
       "        }\n",
       "        var button = $('<button/>');\n",
       "        button.addClass('ui-button ui-widget ui-state-default ui-corner-all ' +\n",
       "                        'ui-button-icon-only');\n",
       "        button.attr('role', 'button');\n",
       "        button.attr('aria-disabled', 'false');\n",
       "        button.click(method_name, toolbar_event);\n",
       "        button.mouseover(tooltip, toolbar_mouse_event);\n",
       "\n",
       "        var icon_img = $('<span/>');\n",
       "        icon_img.addClass('ui-button-icon-primary ui-icon');\n",
       "        icon_img.addClass(image);\n",
       "        icon_img.addClass('ui-corner-all');\n",
       "\n",
       "        var tooltip_span = $('<span/>');\n",
       "        tooltip_span.addClass('ui-button-text');\n",
       "        tooltip_span.html(tooltip);\n",
       "\n",
       "        button.append(icon_img);\n",
       "        button.append(tooltip_span);\n",
       "\n",
       "        nav_element.append(button);\n",
       "    }\n",
       "\n",
       "    var fmt_picker_span = $('<span/>');\n",
       "\n",
       "    var fmt_picker = $('<select/>');\n",
       "    fmt_picker.addClass('mpl-toolbar-option ui-widget ui-widget-content');\n",
       "    fmt_picker_span.append(fmt_picker);\n",
       "    nav_element.append(fmt_picker_span);\n",
       "    this.format_dropdown = fmt_picker[0];\n",
       "\n",
       "    for (var ind in mpl.extensions) {\n",
       "        var fmt = mpl.extensions[ind];\n",
       "        var option = $(\n",
       "            '<option/>', {selected: fmt === mpl.default_extension}).html(fmt);\n",
       "        fmt_picker.append(option);\n",
       "    }\n",
       "\n",
       "    // Add hover states to the ui-buttons\n",
       "    $( \".ui-button\" ).hover(\n",
       "        function() { $(this).addClass(\"ui-state-hover\");},\n",
       "        function() { $(this).removeClass(\"ui-state-hover\");}\n",
       "    );\n",
       "\n",
       "    var status_bar = $('<span class=\"mpl-message\"/>');\n",
       "    nav_element.append(status_bar);\n",
       "    this.message = status_bar[0];\n",
       "}\n",
       "\n",
       "mpl.figure.prototype.request_resize = function(x_pixels, y_pixels) {\n",
       "    // Request matplotlib to resize the figure. Matplotlib will then trigger a resize in the client,\n",
       "    // which will in turn request a refresh of the image.\n",
       "    this.send_message('resize', {'width': x_pixels, 'height': y_pixels});\n",
       "}\n",
       "\n",
       "mpl.figure.prototype.send_message = function(type, properties) {\n",
       "    properties['type'] = type;\n",
       "    properties['figure_id'] = this.id;\n",
       "    this.ws.send(JSON.stringify(properties));\n",
       "}\n",
       "\n",
       "mpl.figure.prototype.send_draw_message = function() {\n",
       "    if (!this.waiting) {\n",
       "        this.waiting = true;\n",
       "        this.ws.send(JSON.stringify({type: \"draw\", figure_id: this.id}));\n",
       "    }\n",
       "}\n",
       "\n",
       "\n",
       "mpl.figure.prototype.handle_save = function(fig, msg) {\n",
       "    var format_dropdown = fig.format_dropdown;\n",
       "    var format = format_dropdown.options[format_dropdown.selectedIndex].value;\n",
       "    fig.ondownload(fig, format);\n",
       "}\n",
       "\n",
       "\n",
       "mpl.figure.prototype.handle_resize = function(fig, msg) {\n",
       "    var size = msg['size'];\n",
       "    if (size[0] != fig.canvas.width || size[1] != fig.canvas.height) {\n",
       "        fig._resize_canvas(size[0], size[1]);\n",
       "        fig.send_message(\"refresh\", {});\n",
       "    };\n",
       "}\n",
       "\n",
       "mpl.figure.prototype.handle_rubberband = function(fig, msg) {\n",
       "    var x0 = msg['x0'] / mpl.ratio;\n",
       "    var y0 = (fig.canvas.height - msg['y0']) / mpl.ratio;\n",
       "    var x1 = msg['x1'] / mpl.ratio;\n",
       "    var y1 = (fig.canvas.height - msg['y1']) / mpl.ratio;\n",
       "    x0 = Math.floor(x0) + 0.5;\n",
       "    y0 = Math.floor(y0) + 0.5;\n",
       "    x1 = Math.floor(x1) + 0.5;\n",
       "    y1 = Math.floor(y1) + 0.5;\n",
       "    var min_x = Math.min(x0, x1);\n",
       "    var min_y = Math.min(y0, y1);\n",
       "    var width = Math.abs(x1 - x0);\n",
       "    var height = Math.abs(y1 - y0);\n",
       "\n",
       "    fig.rubberband_context.clearRect(\n",
       "        0, 0, fig.canvas.width / mpl.ratio, fig.canvas.height / mpl.ratio);\n",
       "\n",
       "    fig.rubberband_context.strokeRect(min_x, min_y, width, height);\n",
       "}\n",
       "\n",
       "mpl.figure.prototype.handle_figure_label = function(fig, msg) {\n",
       "    // Updates the figure title.\n",
       "    fig.header.textContent = msg['label'];\n",
       "}\n",
       "\n",
       "mpl.figure.prototype.handle_cursor = function(fig, msg) {\n",
       "    var cursor = msg['cursor'];\n",
       "    switch(cursor)\n",
       "    {\n",
       "    case 0:\n",
       "        cursor = 'pointer';\n",
       "        break;\n",
       "    case 1:\n",
       "        cursor = 'default';\n",
       "        break;\n",
       "    case 2:\n",
       "        cursor = 'crosshair';\n",
       "        break;\n",
       "    case 3:\n",
       "        cursor = 'move';\n",
       "        break;\n",
       "    }\n",
       "    fig.rubberband_canvas.style.cursor = cursor;\n",
       "}\n",
       "\n",
       "mpl.figure.prototype.handle_message = function(fig, msg) {\n",
       "    fig.message.textContent = msg['message'];\n",
       "}\n",
       "\n",
       "mpl.figure.prototype.handle_draw = function(fig, msg) {\n",
       "    // Request the server to send over a new figure.\n",
       "    fig.send_draw_message();\n",
       "}\n",
       "\n",
       "mpl.figure.prototype.handle_image_mode = function(fig, msg) {\n",
       "    fig.image_mode = msg['mode'];\n",
       "}\n",
       "\n",
       "mpl.figure.prototype.updated_canvas_event = function() {\n",
       "    // Called whenever the canvas gets updated.\n",
       "    this.send_message(\"ack\", {});\n",
       "}\n",
       "\n",
       "// A function to construct a web socket function for onmessage handling.\n",
       "// Called in the figure constructor.\n",
       "mpl.figure.prototype._make_on_message_function = function(fig) {\n",
       "    return function socket_on_message(evt) {\n",
       "        if (evt.data instanceof Blob) {\n",
       "            /* FIXME: We get \"Resource interpreted as Image but\n",
       "             * transferred with MIME type text/plain:\" errors on\n",
       "             * Chrome.  But how to set the MIME type?  It doesn't seem\n",
       "             * to be part of the websocket stream */\n",
       "            evt.data.type = \"image/png\";\n",
       "\n",
       "            /* Free the memory for the previous frames */\n",
       "            if (fig.imageObj.src) {\n",
       "                (window.URL || window.webkitURL).revokeObjectURL(\n",
       "                    fig.imageObj.src);\n",
       "            }\n",
       "\n",
       "            fig.imageObj.src = (window.URL || window.webkitURL).createObjectURL(\n",
       "                evt.data);\n",
       "            fig.updated_canvas_event();\n",
       "            fig.waiting = false;\n",
       "            return;\n",
       "        }\n",
       "        else if (typeof evt.data === 'string' && evt.data.slice(0, 21) == \"data:image/png;base64\") {\n",
       "            fig.imageObj.src = evt.data;\n",
       "            fig.updated_canvas_event();\n",
       "            fig.waiting = false;\n",
       "            return;\n",
       "        }\n",
       "\n",
       "        var msg = JSON.parse(evt.data);\n",
       "        var msg_type = msg['type'];\n",
       "\n",
       "        // Call the  \"handle_{type}\" callback, which takes\n",
       "        // the figure and JSON message as its only arguments.\n",
       "        try {\n",
       "            var callback = fig[\"handle_\" + msg_type];\n",
       "        } catch (e) {\n",
       "            console.log(\"No handler for the '\" + msg_type + \"' message type: \", msg);\n",
       "            return;\n",
       "        }\n",
       "\n",
       "        if (callback) {\n",
       "            try {\n",
       "                // console.log(\"Handling '\" + msg_type + \"' message: \", msg);\n",
       "                callback(fig, msg);\n",
       "            } catch (e) {\n",
       "                console.log(\"Exception inside the 'handler_\" + msg_type + \"' callback:\", e, e.stack, msg);\n",
       "            }\n",
       "        }\n",
       "    };\n",
       "}\n",
       "\n",
       "// from http://stackoverflow.com/questions/1114465/getting-mouse-location-in-canvas\n",
       "mpl.findpos = function(e) {\n",
       "    //this section is from http://www.quirksmode.org/js/events_properties.html\n",
       "    var targ;\n",
       "    if (!e)\n",
       "        e = window.event;\n",
       "    if (e.target)\n",
       "        targ = e.target;\n",
       "    else if (e.srcElement)\n",
       "        targ = e.srcElement;\n",
       "    if (targ.nodeType == 3) // defeat Safari bug\n",
       "        targ = targ.parentNode;\n",
       "\n",
       "    // jQuery normalizes the pageX and pageY\n",
       "    // pageX,Y are the mouse positions relative to the document\n",
       "    // offset() returns the position of the element relative to the document\n",
       "    var x = e.pageX - $(targ).offset().left;\n",
       "    var y = e.pageY - $(targ).offset().top;\n",
       "\n",
       "    return {\"x\": x, \"y\": y};\n",
       "};\n",
       "\n",
       "/*\n",
       " * return a copy of an object with only non-object keys\n",
       " * we need this to avoid circular references\n",
       " * http://stackoverflow.com/a/24161582/3208463\n",
       " */\n",
       "function simpleKeys (original) {\n",
       "  return Object.keys(original).reduce(function (obj, key) {\n",
       "    if (typeof original[key] !== 'object')\n",
       "        obj[key] = original[key]\n",
       "    return obj;\n",
       "  }, {});\n",
       "}\n",
       "\n",
       "mpl.figure.prototype.mouse_event = function(event, name) {\n",
       "    var canvas_pos = mpl.findpos(event)\n",
       "\n",
       "    if (name === 'button_press')\n",
       "    {\n",
       "        this.canvas.focus();\n",
       "        this.canvas_div.focus();\n",
       "    }\n",
       "\n",
       "    var x = canvas_pos.x * mpl.ratio;\n",
       "    var y = canvas_pos.y * mpl.ratio;\n",
       "\n",
       "    this.send_message(name, {x: x, y: y, button: event.button,\n",
       "                             step: event.step,\n",
       "                             guiEvent: simpleKeys(event)});\n",
       "\n",
       "    /* This prevents the web browser from automatically changing to\n",
       "     * the text insertion cursor when the button is pressed.  We want\n",
       "     * to control all of the cursor setting manually through the\n",
       "     * 'cursor' event from matplotlib */\n",
       "    event.preventDefault();\n",
       "    return false;\n",
       "}\n",
       "\n",
       "mpl.figure.prototype._key_event_extra = function(event, name) {\n",
       "    // Handle any extra behaviour associated with a key event\n",
       "}\n",
       "\n",
       "mpl.figure.prototype.key_event = function(event, name) {\n",
       "\n",
       "    // Prevent repeat events\n",
       "    if (name == 'key_press')\n",
       "    {\n",
       "        if (event.which === this._key)\n",
       "            return;\n",
       "        else\n",
       "            this._key = event.which;\n",
       "    }\n",
       "    if (name == 'key_release')\n",
       "        this._key = null;\n",
       "\n",
       "    var value = '';\n",
       "    if (event.ctrlKey && event.which != 17)\n",
       "        value += \"ctrl+\";\n",
       "    if (event.altKey && event.which != 18)\n",
       "        value += \"alt+\";\n",
       "    if (event.shiftKey && event.which != 16)\n",
       "        value += \"shift+\";\n",
       "\n",
       "    value += 'k';\n",
       "    value += event.which.toString();\n",
       "\n",
       "    this._key_event_extra(event, name);\n",
       "\n",
       "    this.send_message(name, {key: value,\n",
       "                             guiEvent: simpleKeys(event)});\n",
       "    return false;\n",
       "}\n",
       "\n",
       "mpl.figure.prototype.toolbar_button_onclick = function(name) {\n",
       "    if (name == 'download') {\n",
       "        this.handle_save(this, null);\n",
       "    } else {\n",
       "        this.send_message(\"toolbar_button\", {name: name});\n",
       "    }\n",
       "};\n",
       "\n",
       "mpl.figure.prototype.toolbar_button_onmouseover = function(tooltip) {\n",
       "    this.message.textContent = tooltip;\n",
       "};\n",
       "mpl.toolbar_items = [[\"Home\", \"Reset original view\", \"fa fa-home icon-home\", \"home\"], [\"Back\", \"Back to previous view\", \"fa fa-arrow-left icon-arrow-left\", \"back\"], [\"Forward\", \"Forward to next view\", \"fa fa-arrow-right icon-arrow-right\", \"forward\"], [\"\", \"\", \"\", \"\"], [\"Pan\", \"Pan axes with left mouse, zoom with right\", \"fa fa-arrows icon-move\", \"pan\"], [\"Zoom\", \"Zoom to rectangle\", \"fa fa-square-o icon-check-empty\", \"zoom\"], [\"\", \"\", \"\", \"\"], [\"Download\", \"Download plot\", \"fa fa-floppy-o icon-save\", \"download\"]];\n",
       "\n",
       "mpl.extensions = [\"eps\", \"pdf\", \"png\", \"ps\", \"raw\", \"svg\"];\n",
       "\n",
       "mpl.default_extension = \"png\";var comm_websocket_adapter = function(comm) {\n",
       "    // Create a \"websocket\"-like object which calls the given IPython comm\n",
       "    // object with the appropriate methods. Currently this is a non binary\n",
       "    // socket, so there is still some room for performance tuning.\n",
       "    var ws = {};\n",
       "\n",
       "    ws.close = function() {\n",
       "        comm.close()\n",
       "    };\n",
       "    ws.send = function(m) {\n",
       "        //console.log('sending', m);\n",
       "        comm.send(m);\n",
       "    };\n",
       "    // Register the callback with on_msg.\n",
       "    comm.on_msg(function(msg) {\n",
       "        //console.log('receiving', msg['content']['data'], msg);\n",
       "        // Pass the mpl event to the overridden (by mpl) onmessage function.\n",
       "        ws.onmessage(msg['content']['data'])\n",
       "    });\n",
       "    return ws;\n",
       "}\n",
       "\n",
       "mpl.mpl_figure_comm = function(comm, msg) {\n",
       "    // This is the function which gets called when the mpl process\n",
       "    // starts-up an IPython Comm through the \"matplotlib\" channel.\n",
       "\n",
       "    var id = msg.content.data.id;\n",
       "    // Get hold of the div created by the display call when the Comm\n",
       "    // socket was opened in Python.\n",
       "    var element = $(\"#\" + id);\n",
       "    var ws_proxy = comm_websocket_adapter(comm)\n",
       "\n",
       "    function ondownload(figure, format) {\n",
       "        window.open(figure.imageObj.src);\n",
       "    }\n",
       "\n",
       "    var fig = new mpl.figure(id, ws_proxy,\n",
       "                           ondownload,\n",
       "                           element.get(0));\n",
       "\n",
       "    // Call onopen now - mpl needs it, as it is assuming we've passed it a real\n",
       "    // web socket which is closed, not our websocket->open comm proxy.\n",
       "    ws_proxy.onopen();\n",
       "\n",
       "    fig.parent_element = element.get(0);\n",
       "    fig.cell_info = mpl.find_output_cell(\"<div id='\" + id + \"'></div>\");\n",
       "    if (!fig.cell_info) {\n",
       "        console.error(\"Failed to find cell for figure\", id, fig);\n",
       "        return;\n",
       "    }\n",
       "\n",
       "    var output_index = fig.cell_info[2]\n",
       "    var cell = fig.cell_info[0];\n",
       "\n",
       "};\n",
       "\n",
       "mpl.figure.prototype.handle_close = function(fig, msg) {\n",
       "    var width = fig.canvas.width/mpl.ratio\n",
       "    fig.root.unbind('remove')\n",
       "\n",
       "    // Update the output cell to use the data from the current canvas.\n",
       "    fig.push_to_output();\n",
       "    var dataURL = fig.canvas.toDataURL();\n",
       "    // Re-enable the keyboard manager in IPython - without this line, in FF,\n",
       "    // the notebook keyboard shortcuts fail.\n",
       "    IPython.keyboard_manager.enable()\n",
       "    $(fig.parent_element).html('<img src=\"' + dataURL + '\" width=\"' + width + '\">');\n",
       "    fig.close_ws(fig, msg);\n",
       "}\n",
       "\n",
       "mpl.figure.prototype.close_ws = function(fig, msg){\n",
       "    fig.send_message('closing', msg);\n",
       "    // fig.ws.close()\n",
       "}\n",
       "\n",
       "mpl.figure.prototype.push_to_output = function(remove_interactive) {\n",
       "    // Turn the data on the canvas into data in the output cell.\n",
       "    var width = this.canvas.width/mpl.ratio\n",
       "    var dataURL = this.canvas.toDataURL();\n",
       "    this.cell_info[1]['text/html'] = '<img src=\"' + dataURL + '\" width=\"' + width + '\">';\n",
       "}\n",
       "\n",
       "mpl.figure.prototype.updated_canvas_event = function() {\n",
       "    // Tell IPython that the notebook contents must change.\n",
       "    IPython.notebook.set_dirty(true);\n",
       "    this.send_message(\"ack\", {});\n",
       "    var fig = this;\n",
       "    // Wait a second, then push the new image to the DOM so\n",
       "    // that it is saved nicely (might be nice to debounce this).\n",
       "    setTimeout(function () { fig.push_to_output() }, 1000);\n",
       "}\n",
       "\n",
       "mpl.figure.prototype._init_toolbar = function() {\n",
       "    var fig = this;\n",
       "\n",
       "    var nav_element = $('<div/>');\n",
       "    nav_element.attr('style', 'width: 100%');\n",
       "    this.root.append(nav_element);\n",
       "\n",
       "    // Define a callback function for later on.\n",
       "    function toolbar_event(event) {\n",
       "        return fig.toolbar_button_onclick(event['data']);\n",
       "    }\n",
       "    function toolbar_mouse_event(event) {\n",
       "        return fig.toolbar_button_onmouseover(event['data']);\n",
       "    }\n",
       "\n",
       "    for(var toolbar_ind in mpl.toolbar_items){\n",
       "        var name = mpl.toolbar_items[toolbar_ind][0];\n",
       "        var tooltip = mpl.toolbar_items[toolbar_ind][1];\n",
       "        var image = mpl.toolbar_items[toolbar_ind][2];\n",
       "        var method_name = mpl.toolbar_items[toolbar_ind][3];\n",
       "\n",
       "        if (!name) { continue; };\n",
       "\n",
       "        var button = $('<button class=\"btn btn-default\" href=\"#\" title=\"' + name + '\"><i class=\"fa ' + image + ' fa-lg\"></i></button>');\n",
       "        button.click(method_name, toolbar_event);\n",
       "        button.mouseover(tooltip, toolbar_mouse_event);\n",
       "        nav_element.append(button);\n",
       "    }\n",
       "\n",
       "    // Add the status bar.\n",
       "    var status_bar = $('<span class=\"mpl-message\" style=\"text-align:right; float: right;\"/>');\n",
       "    nav_element.append(status_bar);\n",
       "    this.message = status_bar[0];\n",
       "\n",
       "    // Add the close button to the window.\n",
       "    var buttongrp = $('<div class=\"btn-group inline pull-right\"></div>');\n",
       "    var button = $('<button class=\"btn btn-mini btn-primary\" href=\"#\" title=\"Stop Interaction\"><i class=\"fa fa-power-off icon-remove icon-large\"></i></button>');\n",
       "    button.click(function (evt) { fig.handle_close(fig, {}); } );\n",
       "    button.mouseover('Stop Interaction', toolbar_mouse_event);\n",
       "    buttongrp.append(button);\n",
       "    var titlebar = this.root.find($('.ui-dialog-titlebar'));\n",
       "    titlebar.prepend(buttongrp);\n",
       "}\n",
       "\n",
       "mpl.figure.prototype._root_extra_style = function(el){\n",
       "    var fig = this\n",
       "    el.on(\"remove\", function(){\n",
       "\tfig.close_ws(fig, {});\n",
       "    });\n",
       "}\n",
       "\n",
       "mpl.figure.prototype._canvas_extra_style = function(el){\n",
       "    // this is important to make the div 'focusable\n",
       "    el.attr('tabindex', 0)\n",
       "    // reach out to IPython and tell the keyboard manager to turn it's self\n",
       "    // off when our div gets focus\n",
       "\n",
       "    // location in version 3\n",
       "    if (IPython.notebook.keyboard_manager) {\n",
       "        IPython.notebook.keyboard_manager.register_events(el);\n",
       "    }\n",
       "    else {\n",
       "        // location in version 2\n",
       "        IPython.keyboard_manager.register_events(el);\n",
       "    }\n",
       "\n",
       "}\n",
       "\n",
       "mpl.figure.prototype._key_event_extra = function(event, name) {\n",
       "    var manager = IPython.notebook.keyboard_manager;\n",
       "    if (!manager)\n",
       "        manager = IPython.keyboard_manager;\n",
       "\n",
       "    // Check for shift+enter\n",
       "    if (event.shiftKey && event.which == 13) {\n",
       "        this.canvas_div.blur();\n",
       "        event.shiftKey = false;\n",
       "        // Send a \"J\" for go to next cell\n",
       "        event.which = 74;\n",
       "        event.keyCode = 74;\n",
       "        manager.command_mode();\n",
       "        manager.handle_keydown(event);\n",
       "    }\n",
       "}\n",
       "\n",
       "mpl.figure.prototype.handle_save = function(fig, msg) {\n",
       "    fig.ondownload(fig, null);\n",
       "}\n",
       "\n",
       "\n",
       "mpl.find_output_cell = function(html_output) {\n",
       "    // Return the cell and output element which can be found *uniquely* in the notebook.\n",
       "    // Note - this is a bit hacky, but it is done because the \"notebook_saving.Notebook\"\n",
       "    // IPython event is triggered only after the cells have been serialised, which for\n",
       "    // our purposes (turning an active figure into a static one), is too late.\n",
       "    var cells = IPython.notebook.get_cells();\n",
       "    var ncells = cells.length;\n",
       "    for (var i=0; i<ncells; i++) {\n",
       "        var cell = cells[i];\n",
       "        if (cell.cell_type === 'code'){\n",
       "            for (var j=0; j<cell.output_area.outputs.length; j++) {\n",
       "                var data = cell.output_area.outputs[j];\n",
       "                if (data.data) {\n",
       "                    // IPython >= 3 moved mimebundle to data attribute of output\n",
       "                    data = data.data;\n",
       "                }\n",
       "                if (data['text/html'] == html_output) {\n",
       "                    return [cell, data, j];\n",
       "                }\n",
       "            }\n",
       "        }\n",
       "    }\n",
       "}\n",
       "\n",
       "// Register the function which deals with the matplotlib target/channel.\n",
       "// The kernel may be null if the page has been refreshed.\n",
       "if (IPython.notebook.kernel != null) {\n",
       "    IPython.notebook.kernel.comm_manager.register_target('matplotlib', mpl.mpl_figure_comm);\n",
       "}\n"
      ],
      "text/plain": [
       "<IPython.core.display.Javascript object>"
      ]
     },
     "metadata": {},
     "output_type": "display_data"
    },
    {
     "data": {
      "text/html": [
       "<img src=\"data:image/png;base64,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\" width=\"639.9999861283738\">"
      ],
      "text/plain": [
       "<IPython.core.display.HTML object>"
      ]
     },
     "metadata": {},
     "output_type": "display_data"
    },
    {
     "data": {
      "text/plain": [
       "Text(0.5, 0, 'Cost')"
      ]
     },
     "execution_count": 11,
     "metadata": {},
     "output_type": "execute_result"
    }
   ],
   "source": [
    "from mpl_toolkits.mplot3d import Axes3D\n",
    "\n",
    "fig = plt.figure()\n",
    "ax = fig.add_subplot(111, projection='3d')\n",
    "\n",
    "x0, x1 = np.meshgrid(theta0_grid_zoom, theta1_grid_zoom)\n",
    "\n",
    "ax.plot_surface(x0, x1, cost_all_norm.T, cmap='inferno_r', alpha=0.6)\n",
    "\n",
    "ax.set_xlabel('theta0')\n",
    "ax.set_ylabel('theta1')\n",
    "ax.set_zlabel('Cost')\n"
   ]
  },
  {
   "cell_type": "code",
   "execution_count": null,
   "metadata": {},
   "outputs": [],
   "source": []
  },
  {
   "cell_type": "code",
   "execution_count": null,
   "metadata": {},
   "outputs": [],
   "source": []
  },
  {
   "cell_type": "markdown",
   "metadata": {},
   "source": [
    "You can also add a vertical line corresponding to the the best parameters:"
   ]
  },
  {
   "cell_type": "code",
   "execution_count": 12,
   "metadata": {},
   "outputs": [],
   "source": [
    "# Your code here\n"
   ]
  },
  {
   "cell_type": "code",
   "execution_count": null,
   "metadata": {},
   "outputs": [],
   "source": []
  },
  {
   "cell_type": "code",
   "execution_count": null,
   "metadata": {},
   "outputs": [],
   "source": []
  },
  {
   "cell_type": "code",
   "execution_count": 13,
   "metadata": {},
   "outputs": [
    {
     "data": {
      "application/javascript": [
       "/* Put everything inside the global mpl namespace */\n",
       "window.mpl = {};\n",
       "\n",
       "\n",
       "mpl.get_websocket_type = function() {\n",
       "    if (typeof(WebSocket) !== 'undefined') {\n",
       "        return WebSocket;\n",
       "    } else if (typeof(MozWebSocket) !== 'undefined') {\n",
       "        return MozWebSocket;\n",
       "    } else {\n",
       "        alert('Your browser does not have WebSocket support. ' +\n",
       "              'Please try Chrome, Safari or Firefox ≥ 6. ' +\n",
       "              'Firefox 4 and 5 are also supported but you ' +\n",
       "              'have to enable WebSockets in about:config.');\n",
       "    };\n",
       "}\n",
       "\n",
       "mpl.figure = function(figure_id, websocket, ondownload, parent_element) {\n",
       "    this.id = figure_id;\n",
       "\n",
       "    this.ws = websocket;\n",
       "\n",
       "    this.supports_binary = (this.ws.binaryType != undefined);\n",
       "\n",
       "    if (!this.supports_binary) {\n",
       "        var warnings = document.getElementById(\"mpl-warnings\");\n",
       "        if (warnings) {\n",
       "            warnings.style.display = 'block';\n",
       "            warnings.textContent = (\n",
       "                \"This browser does not support binary websocket messages. \" +\n",
       "                    \"Performance may be slow.\");\n",
       "        }\n",
       "    }\n",
       "\n",
       "    this.imageObj = new Image();\n",
       "\n",
       "    this.context = undefined;\n",
       "    this.message = undefined;\n",
       "    this.canvas = undefined;\n",
       "    this.rubberband_canvas = undefined;\n",
       "    this.rubberband_context = undefined;\n",
       "    this.format_dropdown = undefined;\n",
       "\n",
       "    this.image_mode = 'full';\n",
       "\n",
       "    this.root = $('<div/>');\n",
       "    this._root_extra_style(this.root)\n",
       "    this.root.attr('style', 'display: inline-block');\n",
       "\n",
       "    $(parent_element).append(this.root);\n",
       "\n",
       "    this._init_header(this);\n",
       "    this._init_canvas(this);\n",
       "    this._init_toolbar(this);\n",
       "\n",
       "    var fig = this;\n",
       "\n",
       "    this.waiting = false;\n",
       "\n",
       "    this.ws.onopen =  function () {\n",
       "            fig.send_message(\"supports_binary\", {value: fig.supports_binary});\n",
       "            fig.send_message(\"send_image_mode\", {});\n",
       "            if (mpl.ratio != 1) {\n",
       "                fig.send_message(\"set_dpi_ratio\", {'dpi_ratio': mpl.ratio});\n",
       "            }\n",
       "            fig.send_message(\"refresh\", {});\n",
       "        }\n",
       "\n",
       "    this.imageObj.onload = function() {\n",
       "            if (fig.image_mode == 'full') {\n",
       "                // Full images could contain transparency (where diff images\n",
       "                // almost always do), so we need to clear the canvas so that\n",
       "                // there is no ghosting.\n",
       "                fig.context.clearRect(0, 0, fig.canvas.width, fig.canvas.height);\n",
       "            }\n",
       "            fig.context.drawImage(fig.imageObj, 0, 0);\n",
       "        };\n",
       "\n",
       "    this.imageObj.onunload = function() {\n",
       "        fig.ws.close();\n",
       "    }\n",
       "\n",
       "    this.ws.onmessage = this._make_on_message_function(this);\n",
       "\n",
       "    this.ondownload = ondownload;\n",
       "}\n",
       "\n",
       "mpl.figure.prototype._init_header = function() {\n",
       "    var titlebar = $(\n",
       "        '<div class=\"ui-dialog-titlebar ui-widget-header ui-corner-all ' +\n",
       "        'ui-helper-clearfix\"/>');\n",
       "    var titletext = $(\n",
       "        '<div class=\"ui-dialog-title\" style=\"width: 100%; ' +\n",
       "        'text-align: center; padding: 3px;\"/>');\n",
       "    titlebar.append(titletext)\n",
       "    this.root.append(titlebar);\n",
       "    this.header = titletext[0];\n",
       "}\n",
       "\n",
       "\n",
       "\n",
       "mpl.figure.prototype._canvas_extra_style = function(canvas_div) {\n",
       "\n",
       "}\n",
       "\n",
       "\n",
       "mpl.figure.prototype._root_extra_style = function(canvas_div) {\n",
       "\n",
       "}\n",
       "\n",
       "mpl.figure.prototype._init_canvas = function() {\n",
       "    var fig = this;\n",
       "\n",
       "    var canvas_div = $('<div/>');\n",
       "\n",
       "    canvas_div.attr('style', 'position: relative; clear: both; outline: 0');\n",
       "\n",
       "    function canvas_keyboard_event(event) {\n",
       "        return fig.key_event(event, event['data']);\n",
       "    }\n",
       "\n",
       "    canvas_div.keydown('key_press', canvas_keyboard_event);\n",
       "    canvas_div.keyup('key_release', canvas_keyboard_event);\n",
       "    this.canvas_div = canvas_div\n",
       "    this._canvas_extra_style(canvas_div)\n",
       "    this.root.append(canvas_div);\n",
       "\n",
       "    var canvas = $('<canvas/>');\n",
       "    canvas.addClass('mpl-canvas');\n",
       "    canvas.attr('style', \"left: 0; top: 0; z-index: 0; outline: 0\")\n",
       "\n",
       "    this.canvas = canvas[0];\n",
       "    this.context = canvas[0].getContext(\"2d\");\n",
       "\n",
       "    var backingStore = this.context.backingStorePixelRatio ||\n",
       "\tthis.context.webkitBackingStorePixelRatio ||\n",
       "\tthis.context.mozBackingStorePixelRatio ||\n",
       "\tthis.context.msBackingStorePixelRatio ||\n",
       "\tthis.context.oBackingStorePixelRatio ||\n",
       "\tthis.context.backingStorePixelRatio || 1;\n",
       "\n",
       "    mpl.ratio = (window.devicePixelRatio || 1) / backingStore;\n",
       "\n",
       "    var rubberband = $('<canvas/>');\n",
       "    rubberband.attr('style', \"position: absolute; left: 0; top: 0; z-index: 1;\")\n",
       "\n",
       "    var pass_mouse_events = true;\n",
       "\n",
       "    canvas_div.resizable({\n",
       "        start: function(event, ui) {\n",
       "            pass_mouse_events = false;\n",
       "        },\n",
       "        resize: function(event, ui) {\n",
       "            fig.request_resize(ui.size.width, ui.size.height);\n",
       "        },\n",
       "        stop: function(event, ui) {\n",
       "            pass_mouse_events = true;\n",
       "            fig.request_resize(ui.size.width, ui.size.height);\n",
       "        },\n",
       "    });\n",
       "\n",
       "    function mouse_event_fn(event) {\n",
       "        if (pass_mouse_events)\n",
       "            return fig.mouse_event(event, event['data']);\n",
       "    }\n",
       "\n",
       "    rubberband.mousedown('button_press', mouse_event_fn);\n",
       "    rubberband.mouseup('button_release', mouse_event_fn);\n",
       "    // Throttle sequential mouse events to 1 every 20ms.\n",
       "    rubberband.mousemove('motion_notify', mouse_event_fn);\n",
       "\n",
       "    rubberband.mouseenter('figure_enter', mouse_event_fn);\n",
       "    rubberband.mouseleave('figure_leave', mouse_event_fn);\n",
       "\n",
       "    canvas_div.on(\"wheel\", function (event) {\n",
       "        event = event.originalEvent;\n",
       "        event['data'] = 'scroll'\n",
       "        if (event.deltaY < 0) {\n",
       "            event.step = 1;\n",
       "        } else {\n",
       "            event.step = -1;\n",
       "        }\n",
       "        mouse_event_fn(event);\n",
       "    });\n",
       "\n",
       "    canvas_div.append(canvas);\n",
       "    canvas_div.append(rubberband);\n",
       "\n",
       "    this.rubberband = rubberband;\n",
       "    this.rubberband_canvas = rubberband[0];\n",
       "    this.rubberband_context = rubberband[0].getContext(\"2d\");\n",
       "    this.rubberband_context.strokeStyle = \"#000000\";\n",
       "\n",
       "    this._resize_canvas = function(width, height) {\n",
       "        // Keep the size of the canvas, canvas container, and rubber band\n",
       "        // canvas in synch.\n",
       "        canvas_div.css('width', width)\n",
       "        canvas_div.css('height', height)\n",
       "\n",
       "        canvas.attr('width', width * mpl.ratio);\n",
       "        canvas.attr('height', height * mpl.ratio);\n",
       "        canvas.attr('style', 'width: ' + width + 'px; height: ' + height + 'px;');\n",
       "\n",
       "        rubberband.attr('width', width);\n",
       "        rubberband.attr('height', height);\n",
       "    }\n",
       "\n",
       "    // Set the figure to an initial 600x600px, this will subsequently be updated\n",
       "    // upon first draw.\n",
       "    this._resize_canvas(600, 600);\n",
       "\n",
       "    // Disable right mouse context menu.\n",
       "    $(this.rubberband_canvas).bind(\"contextmenu\",function(e){\n",
       "        return false;\n",
       "    });\n",
       "\n",
       "    function set_focus () {\n",
       "        canvas.focus();\n",
       "        canvas_div.focus();\n",
       "    }\n",
       "\n",
       "    window.setTimeout(set_focus, 100);\n",
       "}\n",
       "\n",
       "mpl.figure.prototype._init_toolbar = function() {\n",
       "    var fig = this;\n",
       "\n",
       "    var nav_element = $('<div/>');\n",
       "    nav_element.attr('style', 'width: 100%');\n",
       "    this.root.append(nav_element);\n",
       "\n",
       "    // Define a callback function for later on.\n",
       "    function toolbar_event(event) {\n",
       "        return fig.toolbar_button_onclick(event['data']);\n",
       "    }\n",
       "    function toolbar_mouse_event(event) {\n",
       "        return fig.toolbar_button_onmouseover(event['data']);\n",
       "    }\n",
       "\n",
       "    for(var toolbar_ind in mpl.toolbar_items) {\n",
       "        var name = mpl.toolbar_items[toolbar_ind][0];\n",
       "        var tooltip = mpl.toolbar_items[toolbar_ind][1];\n",
       "        var image = mpl.toolbar_items[toolbar_ind][2];\n",
       "        var method_name = mpl.toolbar_items[toolbar_ind][3];\n",
       "\n",
       "        if (!name) {\n",
       "            // put a spacer in here.\n",
       "            continue;\n",
       "        }\n",
       "        var button = $('<button/>');\n",
       "        button.addClass('ui-button ui-widget ui-state-default ui-corner-all ' +\n",
       "                        'ui-button-icon-only');\n",
       "        button.attr('role', 'button');\n",
       "        button.attr('aria-disabled', 'false');\n",
       "        button.click(method_name, toolbar_event);\n",
       "        button.mouseover(tooltip, toolbar_mouse_event);\n",
       "\n",
       "        var icon_img = $('<span/>');\n",
       "        icon_img.addClass('ui-button-icon-primary ui-icon');\n",
       "        icon_img.addClass(image);\n",
       "        icon_img.addClass('ui-corner-all');\n",
       "\n",
       "        var tooltip_span = $('<span/>');\n",
       "        tooltip_span.addClass('ui-button-text');\n",
       "        tooltip_span.html(tooltip);\n",
       "\n",
       "        button.append(icon_img);\n",
       "        button.append(tooltip_span);\n",
       "\n",
       "        nav_element.append(button);\n",
       "    }\n",
       "\n",
       "    var fmt_picker_span = $('<span/>');\n",
       "\n",
       "    var fmt_picker = $('<select/>');\n",
       "    fmt_picker.addClass('mpl-toolbar-option ui-widget ui-widget-content');\n",
       "    fmt_picker_span.append(fmt_picker);\n",
       "    nav_element.append(fmt_picker_span);\n",
       "    this.format_dropdown = fmt_picker[0];\n",
       "\n",
       "    for (var ind in mpl.extensions) {\n",
       "        var fmt = mpl.extensions[ind];\n",
       "        var option = $(\n",
       "            '<option/>', {selected: fmt === mpl.default_extension}).html(fmt);\n",
       "        fmt_picker.append(option);\n",
       "    }\n",
       "\n",
       "    // Add hover states to the ui-buttons\n",
       "    $( \".ui-button\" ).hover(\n",
       "        function() { $(this).addClass(\"ui-state-hover\");},\n",
       "        function() { $(this).removeClass(\"ui-state-hover\");}\n",
       "    );\n",
       "\n",
       "    var status_bar = $('<span class=\"mpl-message\"/>');\n",
       "    nav_element.append(status_bar);\n",
       "    this.message = status_bar[0];\n",
       "}\n",
       "\n",
       "mpl.figure.prototype.request_resize = function(x_pixels, y_pixels) {\n",
       "    // Request matplotlib to resize the figure. Matplotlib will then trigger a resize in the client,\n",
       "    // which will in turn request a refresh of the image.\n",
       "    this.send_message('resize', {'width': x_pixels, 'height': y_pixels});\n",
       "}\n",
       "\n",
       "mpl.figure.prototype.send_message = function(type, properties) {\n",
       "    properties['type'] = type;\n",
       "    properties['figure_id'] = this.id;\n",
       "    this.ws.send(JSON.stringify(properties));\n",
       "}\n",
       "\n",
       "mpl.figure.prototype.send_draw_message = function() {\n",
       "    if (!this.waiting) {\n",
       "        this.waiting = true;\n",
       "        this.ws.send(JSON.stringify({type: \"draw\", figure_id: this.id}));\n",
       "    }\n",
       "}\n",
       "\n",
       "\n",
       "mpl.figure.prototype.handle_save = function(fig, msg) {\n",
       "    var format_dropdown = fig.format_dropdown;\n",
       "    var format = format_dropdown.options[format_dropdown.selectedIndex].value;\n",
       "    fig.ondownload(fig, format);\n",
       "}\n",
       "\n",
       "\n",
       "mpl.figure.prototype.handle_resize = function(fig, msg) {\n",
       "    var size = msg['size'];\n",
       "    if (size[0] != fig.canvas.width || size[1] != fig.canvas.height) {\n",
       "        fig._resize_canvas(size[0], size[1]);\n",
       "        fig.send_message(\"refresh\", {});\n",
       "    };\n",
       "}\n",
       "\n",
       "mpl.figure.prototype.handle_rubberband = function(fig, msg) {\n",
       "    var x0 = msg['x0'] / mpl.ratio;\n",
       "    var y0 = (fig.canvas.height - msg['y0']) / mpl.ratio;\n",
       "    var x1 = msg['x1'] / mpl.ratio;\n",
       "    var y1 = (fig.canvas.height - msg['y1']) / mpl.ratio;\n",
       "    x0 = Math.floor(x0) + 0.5;\n",
       "    y0 = Math.floor(y0) + 0.5;\n",
       "    x1 = Math.floor(x1) + 0.5;\n",
       "    y1 = Math.floor(y1) + 0.5;\n",
       "    var min_x = Math.min(x0, x1);\n",
       "    var min_y = Math.min(y0, y1);\n",
       "    var width = Math.abs(x1 - x0);\n",
       "    var height = Math.abs(y1 - y0);\n",
       "\n",
       "    fig.rubberband_context.clearRect(\n",
       "        0, 0, fig.canvas.width / mpl.ratio, fig.canvas.height / mpl.ratio);\n",
       "\n",
       "    fig.rubberband_context.strokeRect(min_x, min_y, width, height);\n",
       "}\n",
       "\n",
       "mpl.figure.prototype.handle_figure_label = function(fig, msg) {\n",
       "    // Updates the figure title.\n",
       "    fig.header.textContent = msg['label'];\n",
       "}\n",
       "\n",
       "mpl.figure.prototype.handle_cursor = function(fig, msg) {\n",
       "    var cursor = msg['cursor'];\n",
       "    switch(cursor)\n",
       "    {\n",
       "    case 0:\n",
       "        cursor = 'pointer';\n",
       "        break;\n",
       "    case 1:\n",
       "        cursor = 'default';\n",
       "        break;\n",
       "    case 2:\n",
       "        cursor = 'crosshair';\n",
       "        break;\n",
       "    case 3:\n",
       "        cursor = 'move';\n",
       "        break;\n",
       "    }\n",
       "    fig.rubberband_canvas.style.cursor = cursor;\n",
       "}\n",
       "\n",
       "mpl.figure.prototype.handle_message = function(fig, msg) {\n",
       "    fig.message.textContent = msg['message'];\n",
       "}\n",
       "\n",
       "mpl.figure.prototype.handle_draw = function(fig, msg) {\n",
       "    // Request the server to send over a new figure.\n",
       "    fig.send_draw_message();\n",
       "}\n",
       "\n",
       "mpl.figure.prototype.handle_image_mode = function(fig, msg) {\n",
       "    fig.image_mode = msg['mode'];\n",
       "}\n",
       "\n",
       "mpl.figure.prototype.updated_canvas_event = function() {\n",
       "    // Called whenever the canvas gets updated.\n",
       "    this.send_message(\"ack\", {});\n",
       "}\n",
       "\n",
       "// A function to construct a web socket function for onmessage handling.\n",
       "// Called in the figure constructor.\n",
       "mpl.figure.prototype._make_on_message_function = function(fig) {\n",
       "    return function socket_on_message(evt) {\n",
       "        if (evt.data instanceof Blob) {\n",
       "            /* FIXME: We get \"Resource interpreted as Image but\n",
       "             * transferred with MIME type text/plain:\" errors on\n",
       "             * Chrome.  But how to set the MIME type?  It doesn't seem\n",
       "             * to be part of the websocket stream */\n",
       "            evt.data.type = \"image/png\";\n",
       "\n",
       "            /* Free the memory for the previous frames */\n",
       "            if (fig.imageObj.src) {\n",
       "                (window.URL || window.webkitURL).revokeObjectURL(\n",
       "                    fig.imageObj.src);\n",
       "            }\n",
       "\n",
       "            fig.imageObj.src = (window.URL || window.webkitURL).createObjectURL(\n",
       "                evt.data);\n",
       "            fig.updated_canvas_event();\n",
       "            fig.waiting = false;\n",
       "            return;\n",
       "        }\n",
       "        else if (typeof evt.data === 'string' && evt.data.slice(0, 21) == \"data:image/png;base64\") {\n",
       "            fig.imageObj.src = evt.data;\n",
       "            fig.updated_canvas_event();\n",
       "            fig.waiting = false;\n",
       "            return;\n",
       "        }\n",
       "\n",
       "        var msg = JSON.parse(evt.data);\n",
       "        var msg_type = msg['type'];\n",
       "\n",
       "        // Call the  \"handle_{type}\" callback, which takes\n",
       "        // the figure and JSON message as its only arguments.\n",
       "        try {\n",
       "            var callback = fig[\"handle_\" + msg_type];\n",
       "        } catch (e) {\n",
       "            console.log(\"No handler for the '\" + msg_type + \"' message type: \", msg);\n",
       "            return;\n",
       "        }\n",
       "\n",
       "        if (callback) {\n",
       "            try {\n",
       "                // console.log(\"Handling '\" + msg_type + \"' message: \", msg);\n",
       "                callback(fig, msg);\n",
       "            } catch (e) {\n",
       "                console.log(\"Exception inside the 'handler_\" + msg_type + \"' callback:\", e, e.stack, msg);\n",
       "            }\n",
       "        }\n",
       "    };\n",
       "}\n",
       "\n",
       "// from http://stackoverflow.com/questions/1114465/getting-mouse-location-in-canvas\n",
       "mpl.findpos = function(e) {\n",
       "    //this section is from http://www.quirksmode.org/js/events_properties.html\n",
       "    var targ;\n",
       "    if (!e)\n",
       "        e = window.event;\n",
       "    if (e.target)\n",
       "        targ = e.target;\n",
       "    else if (e.srcElement)\n",
       "        targ = e.srcElement;\n",
       "    if (targ.nodeType == 3) // defeat Safari bug\n",
       "        targ = targ.parentNode;\n",
       "\n",
       "    // jQuery normalizes the pageX and pageY\n",
       "    // pageX,Y are the mouse positions relative to the document\n",
       "    // offset() returns the position of the element relative to the document\n",
       "    var x = e.pageX - $(targ).offset().left;\n",
       "    var y = e.pageY - $(targ).offset().top;\n",
       "\n",
       "    return {\"x\": x, \"y\": y};\n",
       "};\n",
       "\n",
       "/*\n",
       " * return a copy of an object with only non-object keys\n",
       " * we need this to avoid circular references\n",
       " * http://stackoverflow.com/a/24161582/3208463\n",
       " */\n",
       "function simpleKeys (original) {\n",
       "  return Object.keys(original).reduce(function (obj, key) {\n",
       "    if (typeof original[key] !== 'object')\n",
       "        obj[key] = original[key]\n",
       "    return obj;\n",
       "  }, {});\n",
       "}\n",
       "\n",
       "mpl.figure.prototype.mouse_event = function(event, name) {\n",
       "    var canvas_pos = mpl.findpos(event)\n",
       "\n",
       "    if (name === 'button_press')\n",
       "    {\n",
       "        this.canvas.focus();\n",
       "        this.canvas_div.focus();\n",
       "    }\n",
       "\n",
       "    var x = canvas_pos.x * mpl.ratio;\n",
       "    var y = canvas_pos.y * mpl.ratio;\n",
       "\n",
       "    this.send_message(name, {x: x, y: y, button: event.button,\n",
       "                             step: event.step,\n",
       "                             guiEvent: simpleKeys(event)});\n",
       "\n",
       "    /* This prevents the web browser from automatically changing to\n",
       "     * the text insertion cursor when the button is pressed.  We want\n",
       "     * to control all of the cursor setting manually through the\n",
       "     * 'cursor' event from matplotlib */\n",
       "    event.preventDefault();\n",
       "    return false;\n",
       "}\n",
       "\n",
       "mpl.figure.prototype._key_event_extra = function(event, name) {\n",
       "    // Handle any extra behaviour associated with a key event\n",
       "}\n",
       "\n",
       "mpl.figure.prototype.key_event = function(event, name) {\n",
       "\n",
       "    // Prevent repeat events\n",
       "    if (name == 'key_press')\n",
       "    {\n",
       "        if (event.which === this._key)\n",
       "            return;\n",
       "        else\n",
       "            this._key = event.which;\n",
       "    }\n",
       "    if (name == 'key_release')\n",
       "        this._key = null;\n",
       "\n",
       "    var value = '';\n",
       "    if (event.ctrlKey && event.which != 17)\n",
       "        value += \"ctrl+\";\n",
       "    if (event.altKey && event.which != 18)\n",
       "        value += \"alt+\";\n",
       "    if (event.shiftKey && event.which != 16)\n",
       "        value += \"shift+\";\n",
       "\n",
       "    value += 'k';\n",
       "    value += event.which.toString();\n",
       "\n",
       "    this._key_event_extra(event, name);\n",
       "\n",
       "    this.send_message(name, {key: value,\n",
       "                             guiEvent: simpleKeys(event)});\n",
       "    return false;\n",
       "}\n",
       "\n",
       "mpl.figure.prototype.toolbar_button_onclick = function(name) {\n",
       "    if (name == 'download') {\n",
       "        this.handle_save(this, null);\n",
       "    } else {\n",
       "        this.send_message(\"toolbar_button\", {name: name});\n",
       "    }\n",
       "};\n",
       "\n",
       "mpl.figure.prototype.toolbar_button_onmouseover = function(tooltip) {\n",
       "    this.message.textContent = tooltip;\n",
       "};\n",
       "mpl.toolbar_items = [[\"Home\", \"Reset original view\", \"fa fa-home icon-home\", \"home\"], [\"Back\", \"Back to previous view\", \"fa fa-arrow-left icon-arrow-left\", \"back\"], [\"Forward\", \"Forward to next view\", \"fa fa-arrow-right icon-arrow-right\", \"forward\"], [\"\", \"\", \"\", \"\"], [\"Pan\", \"Pan axes with left mouse, zoom with right\", \"fa fa-arrows icon-move\", \"pan\"], [\"Zoom\", \"Zoom to rectangle\", \"fa fa-square-o icon-check-empty\", \"zoom\"], [\"\", \"\", \"\", \"\"], [\"Download\", \"Download plot\", \"fa fa-floppy-o icon-save\", \"download\"]];\n",
       "\n",
       "mpl.extensions = [\"eps\", \"pdf\", \"png\", \"ps\", \"raw\", \"svg\"];\n",
       "\n",
       "mpl.default_extension = \"png\";var comm_websocket_adapter = function(comm) {\n",
       "    // Create a \"websocket\"-like object which calls the given IPython comm\n",
       "    // object with the appropriate methods. Currently this is a non binary\n",
       "    // socket, so there is still some room for performance tuning.\n",
       "    var ws = {};\n",
       "\n",
       "    ws.close = function() {\n",
       "        comm.close()\n",
       "    };\n",
       "    ws.send = function(m) {\n",
       "        //console.log('sending', m);\n",
       "        comm.send(m);\n",
       "    };\n",
       "    // Register the callback with on_msg.\n",
       "    comm.on_msg(function(msg) {\n",
       "        //console.log('receiving', msg['content']['data'], msg);\n",
       "        // Pass the mpl event to the overridden (by mpl) onmessage function.\n",
       "        ws.onmessage(msg['content']['data'])\n",
       "    });\n",
       "    return ws;\n",
       "}\n",
       "\n",
       "mpl.mpl_figure_comm = function(comm, msg) {\n",
       "    // This is the function which gets called when the mpl process\n",
       "    // starts-up an IPython Comm through the \"matplotlib\" channel.\n",
       "\n",
       "    var id = msg.content.data.id;\n",
       "    // Get hold of the div created by the display call when the Comm\n",
       "    // socket was opened in Python.\n",
       "    var element = $(\"#\" + id);\n",
       "    var ws_proxy = comm_websocket_adapter(comm)\n",
       "\n",
       "    function ondownload(figure, format) {\n",
       "        window.open(figure.imageObj.src);\n",
       "    }\n",
       "\n",
       "    var fig = new mpl.figure(id, ws_proxy,\n",
       "                           ondownload,\n",
       "                           element.get(0));\n",
       "\n",
       "    // Call onopen now - mpl needs it, as it is assuming we've passed it a real\n",
       "    // web socket which is closed, not our websocket->open comm proxy.\n",
       "    ws_proxy.onopen();\n",
       "\n",
       "    fig.parent_element = element.get(0);\n",
       "    fig.cell_info = mpl.find_output_cell(\"<div id='\" + id + \"'></div>\");\n",
       "    if (!fig.cell_info) {\n",
       "        console.error(\"Failed to find cell for figure\", id, fig);\n",
       "        return;\n",
       "    }\n",
       "\n",
       "    var output_index = fig.cell_info[2]\n",
       "    var cell = fig.cell_info[0];\n",
       "\n",
       "};\n",
       "\n",
       "mpl.figure.prototype.handle_close = function(fig, msg) {\n",
       "    var width = fig.canvas.width/mpl.ratio\n",
       "    fig.root.unbind('remove')\n",
       "\n",
       "    // Update the output cell to use the data from the current canvas.\n",
       "    fig.push_to_output();\n",
       "    var dataURL = fig.canvas.toDataURL();\n",
       "    // Re-enable the keyboard manager in IPython - without this line, in FF,\n",
       "    // the notebook keyboard shortcuts fail.\n",
       "    IPython.keyboard_manager.enable()\n",
       "    $(fig.parent_element).html('<img src=\"' + dataURL + '\" width=\"' + width + '\">');\n",
       "    fig.close_ws(fig, msg);\n",
       "}\n",
       "\n",
       "mpl.figure.prototype.close_ws = function(fig, msg){\n",
       "    fig.send_message('closing', msg);\n",
       "    // fig.ws.close()\n",
       "}\n",
       "\n",
       "mpl.figure.prototype.push_to_output = function(remove_interactive) {\n",
       "    // Turn the data on the canvas into data in the output cell.\n",
       "    var width = this.canvas.width/mpl.ratio\n",
       "    var dataURL = this.canvas.toDataURL();\n",
       "    this.cell_info[1]['text/html'] = '<img src=\"' + dataURL + '\" width=\"' + width + '\">';\n",
       "}\n",
       "\n",
       "mpl.figure.prototype.updated_canvas_event = function() {\n",
       "    // Tell IPython that the notebook contents must change.\n",
       "    IPython.notebook.set_dirty(true);\n",
       "    this.send_message(\"ack\", {});\n",
       "    var fig = this;\n",
       "    // Wait a second, then push the new image to the DOM so\n",
       "    // that it is saved nicely (might be nice to debounce this).\n",
       "    setTimeout(function () { fig.push_to_output() }, 1000);\n",
       "}\n",
       "\n",
       "mpl.figure.prototype._init_toolbar = function() {\n",
       "    var fig = this;\n",
       "\n",
       "    var nav_element = $('<div/>');\n",
       "    nav_element.attr('style', 'width: 100%');\n",
       "    this.root.append(nav_element);\n",
       "\n",
       "    // Define a callback function for later on.\n",
       "    function toolbar_event(event) {\n",
       "        return fig.toolbar_button_onclick(event['data']);\n",
       "    }\n",
       "    function toolbar_mouse_event(event) {\n",
       "        return fig.toolbar_button_onmouseover(event['data']);\n",
       "    }\n",
       "\n",
       "    for(var toolbar_ind in mpl.toolbar_items){\n",
       "        var name = mpl.toolbar_items[toolbar_ind][0];\n",
       "        var tooltip = mpl.toolbar_items[toolbar_ind][1];\n",
       "        var image = mpl.toolbar_items[toolbar_ind][2];\n",
       "        var method_name = mpl.toolbar_items[toolbar_ind][3];\n",
       "\n",
       "        if (!name) { continue; };\n",
       "\n",
       "        var button = $('<button class=\"btn btn-default\" href=\"#\" title=\"' + name + '\"><i class=\"fa ' + image + ' fa-lg\"></i></button>');\n",
       "        button.click(method_name, toolbar_event);\n",
       "        button.mouseover(tooltip, toolbar_mouse_event);\n",
       "        nav_element.append(button);\n",
       "    }\n",
       "\n",
       "    // Add the status bar.\n",
       "    var status_bar = $('<span class=\"mpl-message\" style=\"text-align:right; float: right;\"/>');\n",
       "    nav_element.append(status_bar);\n",
       "    this.message = status_bar[0];\n",
       "\n",
       "    // Add the close button to the window.\n",
       "    var buttongrp = $('<div class=\"btn-group inline pull-right\"></div>');\n",
       "    var button = $('<button class=\"btn btn-mini btn-primary\" href=\"#\" title=\"Stop Interaction\"><i class=\"fa fa-power-off icon-remove icon-large\"></i></button>');\n",
       "    button.click(function (evt) { fig.handle_close(fig, {}); } );\n",
       "    button.mouseover('Stop Interaction', toolbar_mouse_event);\n",
       "    buttongrp.append(button);\n",
       "    var titlebar = this.root.find($('.ui-dialog-titlebar'));\n",
       "    titlebar.prepend(buttongrp);\n",
       "}\n",
       "\n",
       "mpl.figure.prototype._root_extra_style = function(el){\n",
       "    var fig = this\n",
       "    el.on(\"remove\", function(){\n",
       "\tfig.close_ws(fig, {});\n",
       "    });\n",
       "}\n",
       "\n",
       "mpl.figure.prototype._canvas_extra_style = function(el){\n",
       "    // this is important to make the div 'focusable\n",
       "    el.attr('tabindex', 0)\n",
       "    // reach out to IPython and tell the keyboard manager to turn it's self\n",
       "    // off when our div gets focus\n",
       "\n",
       "    // location in version 3\n",
       "    if (IPython.notebook.keyboard_manager) {\n",
       "        IPython.notebook.keyboard_manager.register_events(el);\n",
       "    }\n",
       "    else {\n",
       "        // location in version 2\n",
       "        IPython.keyboard_manager.register_events(el);\n",
       "    }\n",
       "\n",
       "}\n",
       "\n",
       "mpl.figure.prototype._key_event_extra = function(event, name) {\n",
       "    var manager = IPython.notebook.keyboard_manager;\n",
       "    if (!manager)\n",
       "        manager = IPython.keyboard_manager;\n",
       "\n",
       "    // Check for shift+enter\n",
       "    if (event.shiftKey && event.which == 13) {\n",
       "        this.canvas_div.blur();\n",
       "        event.shiftKey = false;\n",
       "        // Send a \"J\" for go to next cell\n",
       "        event.which = 74;\n",
       "        event.keyCode = 74;\n",
       "        manager.command_mode();\n",
       "        manager.handle_keydown(event);\n",
       "    }\n",
       "}\n",
       "\n",
       "mpl.figure.prototype.handle_save = function(fig, msg) {\n",
       "    fig.ondownload(fig, null);\n",
       "}\n",
       "\n",
       "\n",
       "mpl.find_output_cell = function(html_output) {\n",
       "    // Return the cell and output element which can be found *uniquely* in the notebook.\n",
       "    // Note - this is a bit hacky, but it is done because the \"notebook_saving.Notebook\"\n",
       "    // IPython event is triggered only after the cells have been serialised, which for\n",
       "    // our purposes (turning an active figure into a static one), is too late.\n",
       "    var cells = IPython.notebook.get_cells();\n",
       "    var ncells = cells.length;\n",
       "    for (var i=0; i<ncells; i++) {\n",
       "        var cell = cells[i];\n",
       "        if (cell.cell_type === 'code'){\n",
       "            for (var j=0; j<cell.output_area.outputs.length; j++) {\n",
       "                var data = cell.output_area.outputs[j];\n",
       "                if (data.data) {\n",
       "                    // IPython >= 3 moved mimebundle to data attribute of output\n",
       "                    data = data.data;\n",
       "                }\n",
       "                if (data['text/html'] == html_output) {\n",
       "                    return [cell, data, j];\n",
       "                }\n",
       "            }\n",
       "        }\n",
       "    }\n",
       "}\n",
       "\n",
       "// Register the function which deals with the matplotlib target/channel.\n",
       "// The kernel may be null if the page has been refreshed.\n",
       "if (IPython.notebook.kernel != null) {\n",
       "    IPython.notebook.kernel.comm_manager.register_target('matplotlib', mpl.mpl_figure_comm);\n",
       "}\n"
      ],
      "text/plain": [
       "<IPython.core.display.Javascript object>"
      ]
     },
     "metadata": {},
     "output_type": "display_data"
    },
    {
     "data": {
      "text/html": [
       "<img src=\"data:image/png;base64,iVBORw0KGgoAAAANSUhEUgAABYAAAAQgCAYAAABfOvh0AAAgAElEQVR4XuzYQREAAAgCQelf2h43awNWXuwcAQIECBAgQIAAAQIECBAgQIAAAQIECCQFlkwlFAECBAgQIECAAAECBAgQIECAAAECBAicAVgJCBAgQIAAAQIECBAgQIAAAQIECBAgEBUwAEcfKxYBAgQIECBAgAABAgQIECBAgAABAgQMwDpAgAABAgQIECBAgAABAgQIECBAgACBqIABOPpYsQgQIECAAAECBAgQIECAAAECBAgQIGAA1gECBAgQIECAAAECBAgQIECAAAECBAhEBQzA0ceKRYAAAQIECBAgQIAAAQIECBAgQIAAAQOwDhAgQIAAAQIECBAgQIAAAQIECBAgQCAqYACOPlYsAgQIECBAgAABAgQIECBAgAABAgQIGIB1gAABAgQIECBAgAABAgQIECBAgAABAlEBA3D0sWIRIECAAAECBAgQIECAAAECBAgQIEDAAKwDBAgQIECAAAECBAgQIECAAAECBAgQiAoYgKOPFYsAAQIECBAgQIAAAQIECBAgQIAAAQIGYB0gQIAAAQIECBAgQIAAAQIECBAgQIBAVMAAHH2sWAQIECBAgAABAgQIECBAgAABAgQIEDAA6wABAgQIECBAgAABAgQIECBAgAABAgSiAgbg6GPFIkCAAAECBAgQIECAAAECBAgQIECAgAFYBwgQIECAAAECBAgQIECAAAECBAgQIBAVMABHHysWAQIECBAgQIAAAQIECBAgQIAAAQIEDMA6QIAAAQIECBAgQIAAAQIECBAgQIAAgaiAATj6WLEIECBAgAABAgQIECBAgAABAgQIECBgANYBAgQIECBAgAABAgQIECBAgAABAgQIRAUMwNHHikWAAAECBAgQIECAAAECBAgQIECAAAEDsA4QIECAAAECBAgQIECAAAECBAgQIEAgKmAAjj5WLAIECBAgQIAAAQIECBAgQIAAAQIECBiAdYAAAQIECBAgQIAAAQIECBAgQIAAAQJRAQNw9LFiESBAgAABAgQIECBAgAABAgQIECBAwACsAwQIECBAgAABAgQIECBAgAABAgQIEIgKGICjjxWLAAECBAgQIECAAAECBAgQIECAAAECBmAdIECAAAECBAgQIECAAAECBAgQIECAQFTAABx9rFgECBAgQIAAAQIECBAgQIAAAQIECBAwAOsAAQIECBAgQIAAAQIECBAgQIAAAQIEogIG4OhjxSJAgAABAgQIECBAgAABAgQIECBAgIABWAcIECBAgAABAgQIECBAgAABAgQIECAQFTAARx8rFgECBAgQIECAAAECBAgQIECAAAECBAzAOkCAAAECBAgQIECAAAECBAgQIECAAIGogAE4+lixCBAgQIAAAQIECBAgQIAAAQIECBAgYADWAQIECBAgQIAAAQIECBAgQIAAAQIECEQFDMDRx4pFgAABAgQIECBAgAABAgQIECBAgAABA7AOECBAgAABAgQIECBAgAABAgQIECBAICpgAI4+ViwCBAgQIECAAAECBAgQIECAAAECBAgYgHWAAAECBAgQIECAAAECBAgQIECAAAECUQEDcPSxYhEgQIAAAQIECBAgQIAAAQIECBAgQMAArAMECBAgQIAAAQIECBAgQIAAAQIECBCIChiAo48ViwABAgQIECBAgAABAgQIECBAgAABAgZgHSBAgAABAgQIECBAgAABAgQIECBAgEBUwAAcfaxYBAgQIECAAAECBAgQIECAAAECBAgQMADrAAECBAgQIECAAAECBAgQIECAAAECBKICBuDoY8UiQIAAAQIECBAgQIAAAQIECBAgQICAAVgHCBAgQIAAAQIECBAgQIAAAQIECBAgEBUwAEcfKxYBAgQIECBAgAABAgQIECBAgAABAgQMwDpAgAABAgQIECBAgAABAgQIECBAgACBqIABOPpYsQgQIECAAAECBAgQIECAAAECBAgQIGAA1gECBAgQIECAAAECBAgQIECAAAECBAhEBQzA0ceKRYAAAQIECBAgQIAAAQIECBAgQIAAAQOwDhAgQIAAAQIECBAgQIAAAQIECBAgQCAqYACOPlYsAgQIECBAgAABAgQIECBAgAABAgQIGIB1gAABAgQIECBAgAABAgQIECBAgAABAlEBA3D0sWIRIECAAAECBAgQIECAAAECBAgQIEDAAKwDBAgQIECAAAECBAgQIECAAAECBAgQiAoYgKOPFYsAAQIECBAgQIAAAQIECBAgQIAAAQIGYB0gQIAAAQIECBAgQIAAAQIECBAgQIBAVMAAHH2sWAQIECBAgAABAgQIECBAgAABAgQIEDAA6wABAgQIECBAgAABAgQIECBAgAABAgSiAgbg6GPFIkCAAAECBAgQIECAAAECBAgQIECAgAFYBwgQIECAAAECBAgQIECAAAECBAgQIBAVMABHHysWAQIECBAgQIAAAQIECBAgQIAAAQIEDMA6QIAAAQIECBAgQIAAAQIECBAgQIAAgaiAATj6WLEIECBAgAABAgQIECBAgAABAgQIECBgANYBAgQIECBAgAABAgQIECBAgAABAgQIRAUMwNHHikWAAAECBAgQIECAAAECBAgQIECAAAEDsA4QIECAAAECBAgQIECAAAECBAgQIEAgKmAAjj5WLAIECBAgQIAAAQIECBAgQIAAAQIECBiAdYAAAQIECBAgQIAAAQIECBAgQIAAAQJRAQNw9LFiESBAgAABAgQIECBAgAABAgQIECBAwACsAwQIECBAgAABAgQIECBAgAABAgQIEIgKGICjjxWLAAECBAgQIECAAAECBAgQIECAAAECBmAdIECAAAECBAgQIECAAAECBAgQIECAQFTAABx9rFgECBAgQIAAAQIECBAgQIAAAQIECBAwAOsAAQIECBAgQIAAAQIECBAgQIAAAQIEogIG4OhjxSJAgAABAgQIECBAgAABAgQIECBAgIABWAcIECBAgAABAgQIECBAgAABAgQIECAQFTAARx8rFgECBAgQIECAAAECBAgQIECAAAECBAzAOkCAAAECBAgQIECAAAECBAgQIECAAIGogAE4+lixCBAgQIAAAQIECBAgQIAAAQIECBAgYADWAQIECBAgQIAAAQIECBAgQIAAAQIECEQFDMDRx4pFgAABAgQIECBAgAABAgQIECBAgAABA7AOECBAgAABAgQIECBAgAABAgQIECBAICpgAI4+ViwCBAgQIECAAAECBAgQIECAAAECBAgYgHWAAAECBAgQIECAAAECBAgQIECAAAECUQEDcPSxYhEgQIAAAQIECBAgQIAAAQIECBAgQMAArAMECBAgQIAAAQIECBAgQIAAAQIECBCIChiAo48ViwABAgQIECBAgAABAgQIECBAgAABAgZgHSBAgAABAgQIECBAgAABAgQIECBAgEBUwAAcfaxYBAgQIECAAAECBAgQIECAAAECBAgQMADrAAECBAgQIECAAAECBAgQIECAAAECBKICBuDoY8UiQIAAAQIECBAgQIAAAQIECBAgQICAAVgHCBAgQIAAAQIECBAgQIAAAQIECBAgEBUwAEcfKxYBAgQIECBAgAABAgQIECBAgAABAgQMwDpAgAABAgQIECBAgAABAgQIECBAgACBqIABOPpYsQgQIECAAAECBAgQIECAAAECBAgQIGAA1gECBAgQIECAAAECBAgQIECAAAECBAhEBQzA0ceKRYAAAQIECBAgQIAAAQIECBAgQIAAAQOwDhAgQIAAAQIECBAgQIAAAQIECBAgQCAqYACOPlYsAgQIECBAgAABAgQIECBAgAABAgQIGIB1gAABAgQIECBAgAABAgQIECBAgAABAlEBA3D0sWIRIECAAAECBAgQIECAAAECBAgQIEDAAKwDBAgQIECAAAECBAgQIECAAAECBAgQiAoYgKOPFYsAAQIECBAgQIAAAQIECBAgQIAAAQIGYB0gQIAAAQIECBAgQIAAAQIECBAgQIBAVMAAHH2sWAQIECBAgAABAgQIECBAgAABAgQIEDAA6wABAgQIECBAgAABAgQIECBAgAABAgSiAgbg6GPFIkCAAAECBAgQIECAAAECBAgQIECAgAFYBwgQIECAAAECBAgQIECAAAECBAgQIBAVMABHHysWAQIECBAgQIAAAQIECBAgQIAAAQIEDMA6QIAAAQIECBAgQIAAAQIECBAgQIAAgaiAATj6WLEIECBAgAABAgQIECBAgAABAgQIECBgANYBAgQIECBAgAABAgQIECBAgAABAgQIRAUMwNHHikWAAAECBAgQIECAAAECBAgQIECAAAEDsA4QIECAAAECBAgQIECAAAECBAgQIEAgKmAAjj5WLAIECBAgQIAAAQIECBAgQIAAAQIECBiAdYAAAQIECBAgQIAAAQIECBAgQIAAAQJRAQNw9LFiESBAgAABAgQIECBAgAABAgQIECBAwACsAwQIECBAgAABAgQIECBAgAABAgQIEIgKGICjjxWLAAECBAgQIECAAAECBAgQIECAAAECBmAdIECAAAECBAgQIECAAAECBAgQIECAQFTAABx9rFgECBAgQIAAAQIECBAgQIAAAQIECBAwAOsAAQIECBAgQIAAAQIECBAgQIAAAQIEogIG4OhjxSJAgAABAgQIECBAgAABAgQIECBAgIABWAcIECBAgAABAgQIECBAgAABAgQIECAQFTAARx8rFgECBAgQIECAAAECBAgQIECAAAECBAzAOkCAAAECBAgQIECAAAECBAgQIECAAIGogAE4+lixCBAgQIAAAQIECBAgQIAAAQIECBAgYADWAQIECBAgQIAAAQIECBAgQIAAAQIECEQFDMDRx4pFgAABAgQIECBAgAABAgQIECBAgAABA7AOECBAgAABAgQIECBAgAABAgQIECBAICpgAI4+ViwCBAgQIECAAAECBAgQIECAAAECBAgYgHWAAAECBAgQIECAAAECBAgQIECAAAECUQEDcPSxYhEgQIAAAQIECBAgQIAAAQIECBAgQMAArAMECBAgQIAAAQIECBAgQIAAAQIECBCIChiAo48ViwABAgQIECBAgAABAgQIECBAgAABAgZgHSBAgAABAgQIECBAgAABAgQIECBAgEBUwAAcfaxYBAgQIECAAAECBAgQIECAAAECBAgQMADrAAECBAgQIECAAAECBAgQIECAAAECBKICBuDoY8UiQIAAAQIECBAgQIAAAQIECBAgQICAAVgHCBAgQIAAAQIECBAgQIAAAQIECBAgEBUwAEcfKxYBAgQIECBAgAABAgQIECBAgAABAgQMwDpAgAABAgQIECBAgAABAgQIECBAgACBqIABOPpYsQgQIECAAAECBAgQIECAAAECBAgQIGAA1gECBAgQIECAAAECBAgQIECAAAECBAhEBQzA0ceKRYAAAQIECBAgQIAAAQIECBAgQIAAAQOwDhAgQIAAAQIECBAgQIAAAQIECBAgQCAqYACOPlYsAgQIECBAgAABAgQIECBAgAABAgQIGIB1gAABAgQIECBAgAABAgQIECBAgAABAlEBA3D0sWIRIECAAAECBAgQIECAAAECBAgQIEDAAKwDBAgQIECAAAECBAgQIECAAAECBAgQiAoYgKOPFYsAAQIECBAgQIAAAQIECBAgQIAAAQIGYB0gQIAAAQIECBAgQIAAAQIECBAgQIBAVMAAHH2sWAQIECBAgAABAgQIECBAgAABAgQIEDAA6wABAgQIECBAgAABAgQIECBAgAABAgSiAgbg6GPFIkCAAAECBAgQIECAAAECBAgQIECAgAFYBwgQIECAAAECBAgQIECAAAECBAgQIBAVMABHHysWAQIECBAgQIAAAQIECBAgQIAAAQIEDMA6QIAAAQIECBAgQIAAAQIECBAgQIAAgaiAATj6WLEIECBAgAABAgQIECBAgAABAgQIECBgANYBAgQIECBAgAABAgQIECBAgAABAgQIRAUMwNHHikWAAAECBAgQIECAAAECBAgQIECAAAEDsA4QIECAAAECBAgQIECAAAECBAgQIEAgKmAAjj5WLAIECBAgQIAAAQIECBAgQIAAAQIECBiAdYAAAQIECBAgQIAAAQIECBAgQIAAAQJRAQNw9LFiESBAgAABAgQIECBAgAABAgQIECBAwACsAwQIECBAgAABAgQIECBAgAABAgQIEIgKGICjjxWLAAECBAgQIECAAAECBAgQIECAAAECBmAdIECAAAECBAgQIECAAAECBAgQIECAQFTAABx9rFgECBAgQIAAAQIECBAgQIAAAQIECBAwAOsAAQIECBAgQIAAAQIECBAgQIAAAQIEogIG4OhjxSJAgAABAgQIECBAgAABAgQIECBAgIABWAcIECBAgAABAgQIECBAgAABAgQIECAQFTAARx8rFgECBAgQIECAAAECBAgQIECAAAECBAzAOkCAAAECBAgQIECAAAECBAgQIECAAIGogAE4+lixCBAgQIAAAQIECBAgQIAAAQIECBAgYADWAQIECBAgQIAAAQIECBAgQIAAAQIECEQFDMDRx4pFgAABAgQIECBAgAABAgQIECBAgAABA7AOECBAgAABAgQIECBAgAABAgQIECBAICpgAI4+ViwCBAgQIECAAAECBAgQIECAAAECBAgYgHWAAAECBAgQIECAAAECBAgQIECAAAECUQEDcPSxYhEgQIAAAQIECBAgQIAAAQIECBAgQMAArAMECBAgQIAAAQIECBAgQIAAAQIECBCIChiAo48ViwABAgQIECBAgAABAgQIECBAgAABAgZgHSBAgAABAgQIECBAgAABAgQIECBAgEBUwAAcfaxYBAgQIECAAAECBAgQIECAAAECBAgQMADrAAECBAgQIECAAAECBAgQIECAAAECBKICBuDoY8UiQIAAAQIECBAgQIAAAQIECBAgQICAAVgHCBAgQIAAAQIECBAgQIAAAQIECBAgEBUwAEcfKxYBAgQIECBAgAABAgQIECBAgAABAgQMwDpAgAABAgQIECBAgAABAgQIECBAgACBqIABOPpYsQgQIECAAAECBAgQIECAAAECBAgQIGAA1gECBAgQIECAAAECBAgQIECAAAECBAhEBQzA0ceKRYAAAQIECBAgQIAAAQIECBAgQIAAAQOwDhAgQIAAAQIECBAgQIAAAQIECBAgQCAqYACOPlYsAgQIECBAgAABAgQIECBAgAABAgQIGIB1gAABAgQIECBAgAABAgQIECBAgAABAlEBA3D0sWIRIECAAAECBAgQIECAAAECBAgQIEDAAKwDBAgQIECAAAECBAgQIECAAAECBAgQiAoYgKOPFYsAAQIECBAgQIAAAQIECBAgQIAAAQIGYB0gQIAAAQIECBAgQIAAAQIECBAgQIBAVMAAHH2sWAQIECBAgAABAgQIECBAgAABAgQIEDAA6wABAgQIECBAgAABAgQIECBAgAABAgSiAgbg6GPFIkCAAAECBAgQIECAAAECBAgQIECAgAFYBwgQIECAAAECBAgQIECAAAECBAgQIBAVMABHHysWAQIECBAgQIAAAQIECBAgQIAAAQIEDMA6QIAAAQIECBAgQIAAAQIECBAgQIAAgaiAATj6WLEIECBAgAABAgQIECBAgAABAgQIECBgANYBAgQIECBAgAABAgQIECBAgAABAgQIRAUMwNHHikWAAAECBAgQIECAAAECBAgQIECAAAEDsA4QIECAAAECBAgQIECAAAECBAgQIEAgKmAAjj5WLAIECBAgQIAAAQIECBAgQIAAAQIECBiAdYAAAQIECBAgQIAAAQIECBAgQIAAAQJRAQNw9LFiESBAgAABAgQIECBAgAABAgQIECBAwACsAwQIECBAgAABAgQIECBAgAABAgQIEIgKGICjjxWLAAECBAgQIECAAAECBAgQIECAAAECBmAdIECAAAECBAgQIECAAAECBAgQIECAQFTAABx9rFgECBAgQIAAAQIECBAgQIAAAQIECBAwAOsAAQIECBAgQIAAAQIECBAgQIAAAQIEogIG4OhjxSJAgAABAgQIECBAgAABAgQIECBAgIABWAcIECBAgAABAgQIECBAgAABAgQIECAQFTAARx8rFgECBAgQIECAAAECBAgQIECAAAECBAzAOkCAAAECBAgQIECAAAECBAgQIECAAIGogAE4+lixCBAgQIAAAQIECBAgQIAAAQIECBAgYADWAQIECBAgQIAAAQIECBAgQIAAAQIECEQFDMDRx4pFgAABAgQIECBAgAABAgQIECBAgAABA7AOECBAgAABAgQIECBAgAABAgQIECBAICpgAI4+ViwCBAgQIECAAAECBAgQIECAAAECBAgYgHWAAAECBAgQIECAAAECBAgQIECAAAECUQEDcPSxYhEgQIAAAQIECBAgQIAAAQIECBAgQMAArAMECBAgQIAAAQIECBAgQIAAAQIECBCIChiAo48ViwABAgQIECBAgAABAgQIECBAgAABAgZgHSBAgAABAgQIECBAgAABAgQIECBAgEBUwAAcfaxYBAgQIECAAAECBAgQIECAAAECBAgQMADrAAECBAgQIECAAAECBAgQIECAAAECBKICBuDoY8UiQIAAAQIECBAgQIAAAQIECBAgQICAAVgHCBAgQIAAAQIECBAgQIAAAQIECBAgEBUwAEcfKxYBAgQIECBAgAABAgQIECBAgAABAgQMwDpAgAABAgQIECBAgAABAgQIECBAgACBqIABOPpYsQgQIECAAAECBAgQIECAAAECBAgQIGAA1gECBAgQIECAAAECBAgQIECAAAECBAhEBQzA0ceKRYAAAQIECBAgQIAAAQIECBAgQIAAAQOwDhAgQIAAAQIECBAgQIAAAQIECBAgQCAqYACOPlYsAgQIECBAgAABAgQIECBAgAABAgQIGIB1gAABAgQIECBAgAABAgQIECBAgAABAlEBA3D0sWIRIECAAAECBAgQIECAAAECBAgQIEDAAKwDBAgQIECAAAECBAgQIECAAAECBAgQiAoYgKOPFYsAAQIECBAgQIAAAQIECBAgQIAAAQIGYB0gQIAAAQIECBAgQIAAAQIECBAgQIBAVMAAHH2sWAQIECBAgAABAgQIECBAgAABAgQIEDAA6wABAgQIECBAgAABAgQIECBAgAABAgSiAgbg6GPFIkCAAAECBAgQIECAAAECBAgQIECAgAFYBwgQIECAAAECBAgQIECAAAECBAgQIBAVMABHHysWAQIECBAgQIAAAQIECBAgQIAAAQIEDMA6QIAAAQIECBAgQIAAAQIECBAgQIAAgaiAATj6WLEIECBAgAABAgQIECBAgAABAgQIECBgANYBAgQIECBAgAABAgQIECBAgAABAgQIRAUMwNHHikWAAAECBAgQIECAAAECBAgQIECAAAEDsA4QIECAAAECBAgQIECAAAECBAgQIEAgKmAAjj5WLAIECBAgQIAAAQIECBAgQIAAAQIECBiAdYAAAQIECBAgQIAAAQIECBAgQIAAAQJRAQNw9LFiESBAgAABAgQIECBAgAABAgQIECBAwACsAwQIECBAgAABAgQIECBAgAABAgQIEIgKGICjjxWLAAECBAgQIECAAAECBAgQIECAAAECBmAdIECAAAECBAgQIECAAAECBAgQIECAQFTAABx9rFgECBAgQIAAAQIECBAgQIAAAQIECBAwAOsAAQIECBAgQIAAAQIECBAgQIAAAQIEogIG4OhjxSJAgAABAgQIECBAgAABAgQIECBAgIABWAcIECBAgAABAgQIECBAgAABAgQIECAQFTAARx8rFgECBAgQIECAAAECBAgQIECAAAECBAzAOkCAAAECBAgQIECAAAECBAgQIECAAIGogAE4+lixCBAgQIAAAQIECBAgQIAAAQIECBAgYADWAQIECBAgQIAAAQIECBAgQIAAAQIECEQFDMDRx4pFgAABAgQIECBAgAABAgQIECBAgAABA7AOECBAgAABAgQIECBAgAABAgQIECBAICpgAI4+ViwCBAgQIECAAAECBAgQIECAAAECBAgYgHWAAAECBAgQIECAAAECBAgQIECAAAECUQEDcPSxYhEgQIAAAQIECBAgQIAAAQIECBAgQMAArAMECBAgQIAAAQIECBAgQIAAAQIECBCIChiAo48ViwABAgQIECBAgAABAgQIECBAgAABAgZgHSBAgAABAgQIECBAgAABAgQIECBAgEBUwAAcfaxYBAgQIECAAAECBAgQIECAAAECBAgQMADrAAECBAgQIECAAAECBAgQIECAAAECBKICBuDoY8UiQIAAAQIECBAgQIAAAQIECBAgQICAAVgHCBAgQIAAAQIECBAgQIAAAQIECBAgEBUwAEcfKxYBAgQIECBAgAABAgQIECBAgAABAgQMwDpAgAABAgQIECBAgAABAgQIECBAgACBqIABOPpYsQgQIECAAAECBAgQIECAAAECBAgQIGAA1gECBAgQIECAAAECBAgQIECAAAECBAhEBQzA0ceKRYAAAQIECBAgQIAAAQIECBAgQIAAAQOwDhAgQIAAAQIECBAgQIAAAQIECBAgQCAqYACOPlYsAgQIECBAgAABAgQIECBAgAABAgQIGIB1gAABAgQIECBAgAABAgQIECBAgAABAlEBA3D0sWIRIECAAAECBAgQIECAAAECBAgQIEDAAKwDBAgQIECAAAECBAgQIECAAAECBAgQiAoYgKOPFYsAAQIECBAgQIAAAQIECBAgQIAAAQIGYB0gQIAAAQIECBAgQIAAAQIECBAgQIBAVMAAHH2sWAQIECBAgAABAgQIECBAgAABAgQIEDAA6wABAgQIECBAgAABAgQIECBAgAABAgSiAgbg6GPFIkCAAAECBAgQIECAAAECBAgQIECAgAFYBwgQIMH5iaIAACAASURBVECAAAECBAgQIECAAAECBAgQIBAVMABHHysWAQIECBAgQIAAAQIECBAgQIAAAQIEDMA6QIAAAQIECBAgQIAAAQIECBAgQIAAgaiAATj6WLEIECBAgAABAgQIECBAgAABAgQIECBgANYBAgQIECBAgAABAgQIECBAgAABAgQIRAUMwNHHikWAAAECBAgQIECAAAECBAgQIECAAAEDsA4QIECAAAECBAgQIECAAAECBAgQIEAgKmAAjj5WLAIECBAgQIAAAQIECBAgQIAAAQIECBiAdYAAAQIECBAgQIAAAQIECBAgQIAAAQJRAQNw9LFiESBAgAABAgQIECBAgAABAgQIECBAwACsAwQIECBAgAABAgQIECBAgAABAgQIEIgKGICjjxWLAAECBAgQIECAAAECBAgQIECAAAECBmAdIECAAAECBAgQIECAAAECBAgQIECAQFTAABx9rFgECBAgQIAAAQIECBAgQIAAAQIECBAwAOsAAQIECBAgQIAAAQIECBAgQIAAAQIEogIG4OhjxSJAgAABAgQIECBAgAABAgQIECBAgIABWAcIECBAgAABAgQIECBAgAABAgQIECAQFTAARx8rFgECBAgQIECAAAECBAgQIECAAAECBAzAOkCAAAECBAgQIECAAAECBAgQIECAAIGogAE4+lixCBAgQIAAAQIECBAgQIAAAQIECBAgYADWAQIECBAgQIAAAQIECBAgQIAAAQIECEQFDMDRx4pFgAABAgQIECBAgAABAgQIECBAgAABA7AOECBAgAABAgQIECBAgAABAgQIECBAICpgAI4+ViwCBAgQIECAAAECBAgQIECAAAECBAgYgHWAAAECBAgQIECAAAECBAgQIECAAAECUQEDcPSxYhEgQIAAAQIECBAgQIAAAQIECBAgQMAArAMECBAgQIAAAQIECBAgQIAAAQIECBCIChiAo48ViwABAgQIECBAgAABAgQIECBAgAABAgZgHSBAgAABAgQIECBAgAABAgQIECBAgEBUwAAcfaxYBAgQIECAAAECBAgQIECAAAECBAgQMADrAAECBAgQIECAAAECBAgQIECAAAECBKICBuDoY8UiQIAAAQIECBAgQIAAAQIECBAgQICAAVgHCBAgQIAAAQIECBAgQIAAAQIECBAgEBUwAEcfKxYBAgQIECBAgAABAgQIECBAgAABAgQMwDpAgAABAgQIECBAgAABAgQIECBAgACBqIABOPpYsQgQIECAAAECBAgQIECAAAECBAgQIGAA1gECBAgQIECAAAECBAgQIECAAAECBAhEBQzA0ceKRYAAAQIECBAgQIAAAQIECBAgQIAAAQOwDhAgQIAAAQIECBAgQIAAAQIECBAgQCAqYACOPlYsAgQIECBAgAABAgQIECBAgAABAgQIGIB1gAABAgQIECBAgAABAgQIECBAgAABAlEBA3D0sWIRIECAAAECBAgQIECAAAECBAgQIEDAAKwDBAgQIECAAAECBAgQIECAAAECBAgQiAoYgKOPFYsAAQIECBAgQIAAAQIECBAgQIAAAQIGYB0gQIAAAQIECBAgQIAAAQIECBAgQIBAVMAAHH2sWAQIECBAgAABAgQIECBAgAABAgQIEDAA6wABAgQIECBAgAABAgQIECBAgAABAgSiAgbg6GPFIkCAAAECBAgQIECAAAECBAgQIECAgAFYBwgQIECAAAECBAgQIECAAAECBAgQIBAVMABHHysWAQIECBAgQIAAAQIECBAgQIAAAQIEDMA6QIAAAQIECBAgQIAAAQIECBAgQIAAgaiAATj6WLEIECBAgAABAgQIECBAgAABAgQIECBgANYBAgQIECBAgAABAgQIECBAgAABAgQIRAUMwNHHikWAAAECBAgQIECAAAECBAgQIECAAAEDsA4QIECAAAECBAgQIECAAAECBAgQIEAgKmAAjj5WLAIECBAgQIAAAQIECBAgQIAAAQIECBiAdYAAAQIECBAgQIAAAQIECBAgQIAAAQJRAQNw9LFiESBAgAABAgQIECBAgAABAgQIECBAwACsAwQIECBAgAABAgQIECBAgAABAgQIEIgKGICjjxWLAAECBAgQIECAAAECBAgQIECAAAECBmAdIECAAAECBAgQIECAAAECBAgQIECAQFTAABx9rFgECBAgQIAAAQIECBAgQIAAAQIECBAwAOsAAQIECBAgQIAAAQIECBAgQIAAAQIEogIG4OhjxSJAgAABAgQIECBAgAABAgQIECBAgIABWAcIECBAgAABAgQIECBAgAABAgQIECAQFTAARx8rFgECBAgQIECAAAECBAgQIECAAAECBAzAOkCAAAECBAgQIECAAAECBAgQIECAAIGogAE4+lixCBAgQIAAAQIECBAgQIAAAQIECBAgYADWAQIECBAgQIAAAQIECBAgQIAAAQIECEQFDMDRx4pFgAABAgQIECBAgAABAgQIECBAgAABA7AOECBAgAABAgQIECBAgAABAgQIECBAICpgAI4+ViwCBAgQIECAAAECBAgQIECAAAECBAgYgHWAAAECBAgQIECAAAECBAgQIECAAAECUQEDcPSxYhEgQIAAAQIECBAgQIAAAQIECBAgQMAArAMECBAgQIAAAQIECBAgQIAAAQIECBCIChiAo48ViwABAgQIECBAgAABAgQIECBAgAABAgZgHSBAgAABAgQIECBAgAABAgQIECBAgEBUwAAcfaxYBAgQIECAAAECBAgQIECAAAECBAgQMADrAAECBAgQIECAAAECBAgQIECAAAECBKICBuDoY8UiQIAAAQIECBAgQIAAAQIECBAgQICAAVgHCBAgQIAAAQIECBAgQIAAAQIECBAgEBUwAEcfKxYBAgQIECBAgAABAgQIECBAgAABAgQMwDpAgAABAgQIECBAgAABAgQIECBAgACBqIABOPpYsQgQIECAAAECBAgQIECAAAECBAgQIGAA1gECBAgQIECAAAECBAgQIECAAAECBAhEBQzA0ceKRYAAAQIECBAgQIAAAQIECBAgQIAAAQOwDhAgQIAAAQIECBAgQIAAAQIECBAgQCAqYACOPlYsAgQIECBAgAABAgQIECBAgAABAgQIGIB1gAABAgQIECBAgAABAgQIECBAgAABAlEBA3D0sWIRIECAAAECBAgQIECAAAECBAgQIEDAAKwDBAgQIECAAAECBAgQIECAAAECBAgQiAoYgKOPFYsAAQIECBAgQIAAAQIECBAgQIAAAQIGYB0gQIAAAQIECBAgQIAAAQIECBAgQIBAVMAAHH2sWAQIECBAgAABAgQIECBAgAABAgQIEDAA6wABAgQIECBAgAABAgQIECBAgAABAgSiAgbg6GPFIkCAAAECBAgQIECAAAECBAgQIECAgAFYBwgQIECAAAECBAgQIECAAAECBAgQIBAVMABHHysWAQIECBAgQIAAAQIECBAgQIAAAQIEDMA6QIAAAQIECBAgQIAAAQIECBAgQIAAgaiAATj6WLEIECBAgAABAgQIECBAgAABAgQIECBgANYBAgQIECBAgAABAgQIECBAgAABAgQIRAUMwNHHikWAAAECBAgQIECAAAECBAgQIECAAAEDsA4QIECAAAECBAgQIECAAAECBAgQIEAgKmAAjj5WLAIECBAgQIAAAQIECBAgQIAAAQIECBiAdYAAAQIECBAgQIAAAQIECBAgQIAAAQJRAQNw9LFiESBAgAABAgQIECBAgAABAgQIECBAwACsAwQIECBAgAABAgQIECBAgAABAgQIEIgKGICjjxWLAAECBAgQIECAAAECBAgQIECAAAECBmAdIECAAAECBAgQIECAAAECBAgQIECAQFTAABx9rFgECBAgQIAAAQIECBAgQIAAAQIECBAwAOsAAQIECBAgQIAAAQIECBAgQIAAAQIEogIG4OhjxSJAgAABAgQIECBAgAABAgQIECBAgIABWAcIECBAgAABAgQIECBAgAABAgQIECAQFTAARx8rFgECBAgQIECAAAECBAgQIECAAAECBAzAOkCAAAECBAgQIECAAAECBAgQIECAAIGogAE4+lixCBAgQIAAAQIECBAgQIAAAQIECBAgYADWAQIECBAgQIAAAQIECBAgQIAAAQIECEQFDMDRx4pFgAABAgQIECBAgAABAgQIECBAgAABA7AOECBAgAABAgQIECBAgAABAgQIECBAICpgAI4+ViwCBAgQIECAAAECBAgQIECAAAECBAgYgHWAAAECBAgQIECAAAECBAgQIECAAAECUQEDcPSxYhEgQIAAAQIECBAgQIAAAQIECBAgQMAArAMECBAgQIAAAQIECBAgQIAAAQIECBCIChiAo48ViwABAgQIECBAgAABAgQIECBAgAABAgZgHSBAgAABAgQIECBAgAABAgQIECBAgEBUwAAcfaxYBAgQIECAAAECBAgQIECAAAECBAgQMADrAAECBAgQIECAAAECBAgQIECAAAECBKICBuDoY8UiQIAAAQIECBAgQIAAAQIECBAgQICAAVgHCBAgQIAAAQIECBAgQIAAAQIECBAgEBUwAEcfKxYBAgQIECBAgAABAgQIECBAgAABAgQMwDpAgAABAgQIECBAgAABAgQIECBAgACBqIABOPpYsQgQIECAAAECBAgQIECAAAECBAgQIGAA1gECBAgQIECAAAECBAgQIECAAAECBAhEBQzA0ceKRYAAAQIECBAgQIAAAQIECBAgQIAAAQOwDhAgQIAAAQIECBAgQIAAAQIECBAgQCAqYACOPlYsAgQIECBAgAABAgQIECBAgAABAgQIGIB1gAABAgQIECBAgAABAgQIECBAgAABAlEBA3D0sWIRIECAAAECBAgQIECAAAECBAgQIEDAAKwDBAgQIECAAAECBAgQIECAAAECBAgQiAoYgKOPFYsAAQIECBAgQIAAAQIECBAgQIAAAQIGYB0gQIAAAQIECBAgQIAAAQIECBAgQIBAVMAAHH2sWAQIECBAgAABAgQIECBAgAABAgQIEDAA6wABAgQIECBAgAABAgQIECBAgAABAgSiAgbg6GPFIkCAAAECBAgQIECAAAECBAgQIECAgAFYBwgQIECAAAECBAgQIECAAAECBAgQIBAVMABHHysWAQIECBAgQIAAAQIECBAgQIAAAQIEDMA6QIAAAQIECBAgQIAAAQIECBAgQIAAgaiAATj6WLEIECBAgAABAgQIECBAgAABAgQIECBgANYBAgQIECBAgAABAgQIECBAgAABAgQIRAUMwNHHikWAAAECBAgQIECAAAECBAgQIECAAAEDsA4QIECAAAECBAgQIECAAAECBAgQIEAgKmAAjj5WLAIECBAgQIAAAQIECBAgQIAAAQIECBiAdYAAAQIECBAgQIAAAQIECBAgQIAAAQJRAQNw9LFiESBAgAABAgQIECBAgAABAgQIECBAwACsAwQIECBAgAABAgQIECBAgAABAgQIEIgKGICjjxWLAAECBAgQIECAAAECBAgQIECAAAECBmAdIECAAAECBAgQIECAAAECBAgQIECAQFTAABx9rFgECBAgQIAAAQIECBAgQIAAAQIECBAwAOsAAQIECBAgQIAAAQIECBAgQIAAAQIEogIG4OhjxSJAgAABAgQIECBAgAABAgQIECBAgIABWAcIECBAgAABAgQIECBAgAABAgQIECAQFTAARx8rFgECBAgQIECAAAECBAgQIECAAAECBAzAOkCAAAECBAgQIECAAAECBAgQIECAAIGogAE4+lixCBAgQIAAAQIECBAgQIAAAQIECBAgYADWAQIECBAgQIAAAQIECBAgQIAAAQIECEQFDMDRx4pFgAABAgQIECBAgAABAgQIECBAgAABA7AOECBAgAABAgQIECBAgAABAgQIECBAICpgAI4+ViwCBAgQIECAAAECBAgQIECAAAECBAgYgHWAAAECBAgQIECAAAECBAgQIECAAAECUQEDcPSxYhEgQIAAAQIECBAgQIAAAQIECBAgQMAArAMECBAgQIAAAQIECBAgQIAAAQIECBCIChiAo48ViwABAgQIECBAgAABAgQIECBAgAABAgZgHSBAgAABAgQIECBAgAABAgQIECBAgEBUwAAcfaxYBAgQIECAAAECBAgQIECAAAECBAgQMADrAAECBAgQIECAAAECBAgQIECAAAECBKICBuDoY8UiQIAAAQIECBAgQIAAAQIECBAgQICAAVgHCBAgQIAAAQIECBAgQIAAAQIECBAgEBUwAEcfKxYBAgQIECBAgAABAgQIECBAgAABAgQMwDpAgAABAgQIECBAgAABAgQIECBAgACBqIABOPpYsQgQIECAAAECBAgQIECAAAECBAgQIGAA1gECBAgQIECAAAECBAgQIECAAAECBAhEBQzA0ceKRYAAAQIECBAgQIAAAQIECBAgQIAAAQOwDhAgQIAAAQIECBAgQIAAAQIECBAgQCAqYACOPlYsAgQIECBAgAABAgQIECBAgAABAgQIGIB1gAABAgQIECBAgAABAgQIECBAgAABAlEBA3D0sWIRIECAAAECBAgQIECAAAECBAgQIEDAAKwDBAgQIECAAAECBAgQIECAAAECBAgQiAoYgKOPFYsAAQIECBAgQIAAAQIECBAgQIAAAQIGYB0gQIAAAQIECBAgQIAAAQIECBAgQIBAVMAAHH2sWAQIECBAgAABAgQIECBAgAABAgQIEDAA6wABAgQIECBAgAABAgQIECBAgAABAgSiAgbg6GPFIkCAAAECBAgQIECAAAECBAgQIECAgAFYBwgQIECAAAECBAgQIECAAAECBAgQIBAVMABHHysWAQIECBAgQIAAAQIECBAgQIAAAQIEDMA6QIAAAQIECBAgQIAAAQIECBAgQIAAgaiAATj6WLEIECBAgAABAgQIECBAgAABAgQIECBgANYBAgQIECBAgAABAgQIECBAgAABAgQIRAUMwNHHikWAAAECBAgQIECAAAECBAgQIECAAAEDsA4QIECAAAECBAgQIECAAAECBAgQIEAgKmAAjj5WLAIECBAgQIAAAQIECBAgQIAAAQIECBiAdYAAAQIECBAgQIAAAQIECBAgQIAAAQJRAQNw9LFiESBAgAABAgQIECBAgAABAgQIECBAwACsAwQIECBAgAABAgQIECBAgAABAgQIEIgKGICjjxWLAAECBAgQIECAAAECBAgQIECAAAECBmAdIECAAAECBAgQIECAAAECBAgQIECAQFTAABx9rFgECBAgQIAAAQIECBAgQIAAAQIECBAwAOsAAQIECBAgQIAAAQIECBAgQIAAAQIEogIG4OhjxSJAgAABAgQIECBAgAABAgQIECBAgIABWAcIECBAgAABAgQIECBAgAABAgQIECAQFTAARx8rFgECBAgQIECAAAECBAgQIECAAAECBAzAOkCAAAECBAgQIECAAAECBAgQIECAAIGogAE4+lixCBAgQIAAAQIECBAgQIAAAQIECBAgYADWAQIECBAgQIAAAQIECBAgQIAAAQIECEQFDMDRx4pFgAABAgQIECBAgAABAgQIECBAgAABA7AOECBAgAABAgQIECBAgAABAgQIECBAICpgAI4+ViwCBAgQIECAAAECBAgQIECAAAECBAgYgHWAAAECBAgQIECAAAECBAgQIECAAAECUQEDcPSxYhEgQIAAAQIECBAgQIAAAQIECBAgQMAArAMECBAgQIAAAQIECBAgQIAAAQIECBCIChiAo48ViwABAgQIECBAgAABAgQIECBAgAABAgZgHSBAgAABAgQIECBAgAABAgQIECBAgEBUwAAcfaxYBAgQIECAAAECBAgQIECAAAECBAgQMADrAAECBAgQIECAAAECBAgQIECAAAECBKICBuDoY8UiQIAAAQIECBAgQIAAAQIECBAgQICAAVgHCBAgQIAAAQIECBAgQIAAAQIECBAgEBUwAEcfKxYBAgQIECBAgAABAgQIECBAgAABAgQMwDpAgAABAgQIECBAgAABAgQIECBAgACBqIABOPpYsQgQIECAAAECBAgQIECAAAECBAgQIGAA1gECBAgQIECAAAECBAgQIECAAAECBAhEBQzA0ceKRYAAAQIECBAgQIAAAQIECBAgQIAAAQOwDhAgQIAAAQIECBAgQIAAAQIECBAgQCAqYACOPlYsAgQIECBAgAABAgQIECBAgAABAgQIGIB1gAABAgQIECBAgAABAgQIECBAgAABAlEBA3D0sWIRIECAAAECBAgQIECAAAECBAgQIEDAAKwDBAgQIECAAAECBAgQIECAAAECBAgQiAoYgKOPFYsAAQIECBAgQIAAAQIECBAgQIAAAQIGYB0gQIAAAQIECBAgQIAAAQIECBAgQIBAVMAAHH2sWAQIECBAgAABAgQIECBAgAABAgQIEDAA6wABAgQIECBAgAABAgQIECBAgAABAgSiAgbg6GPFIkCAAAECBAgQIECAAAECBAgQIECAgAFYBwgQIECAAAECBAgQIECAAAECBAgQIBAVMABHHysWAQIECBAgQIAAAQIECBAgQIAAAQIEDMA6QIAAAQIECBAgQIAAAQIECBAgQIAAgaiAATj6WLEIECBAgAABAgQIECBAgAABAgQIECBgANYBAgQIECBAgAABAgQIECBAgAABAgQIRAUMwNHHikWAAAECBAgQIECAAAECBAgQIECAAAEDsA4QIECAAAECBAgQIECAAAECBAgQIEAgKmAAjj5WLAIECBAgQIAAAQIECBAgQIAAAQIECBiAdYAAAQIECBAgQIAAAQIECBAgQIAAAQJRAQNw9LFiESBAgAABAgQIECBAgAABAgQIECBAwACsAwQIECBAgAABAgQIECBAgAABAgQIEIgKGICjjxWLAAECBAgQIECAAAECBAgQIECAAAECBmAdIECAAAECBAgQIECAAAECBAgQIECAQFTAABx9rFgECBAgQIAAAQIECBAgQIAAAQIECBAwAOsAAQIECBAgQIAAAQIECBAgQIAAAQIEogIG4OhjxSJAgAABAgQIECBAgAABAgQIECBAgIABWAcIECBAgAABAgQIECBAgAABAgQIECAQFTAARx8rFgECBAgQIECAAAECBAgQIECAAAECBAzAOkCAAAECBAgQIECAAAECBAgQIECAAIGogAE4+lixCBAgQIAAAQIECBAgQIAAAQIECBAgYADWAQIECBAgQIAAAQIECBAgQIAAAQIECEQFDMDRx4pFgAABAgQIECBAgAABAgQIECBAgAABA7AOECBAgAABAgQIECBAgAABAgQIECBAICpgAI4+ViwCBAgQIECAAAECBAgQIECAAAECBAgYgHWAAAECBAgQIECAAAECBAgQIECAAAECUQEDcPSxYhEgQIAAAQIECBAgQIAAAQIECBAgQMAArAMECBAgQIAAAQIECBAgQIAAAQIECBCIChiAo48ViwABAgQIECBAgAABAgQIECBAgAABAgZgHSBAgAABAgQIECBAgAABAgQIECBAgEBUwAAcfaxYBAgQIECAAAECBAgQIECAAAECBAgQMADrAAECBAgQIECAAAECBAgQIECAAAECBKICBuDoY8UiQIAAAQIECBAgQIAAAQIECBAgQICAAVgHCBAgQIAAAQIECBAgQIAAAQIECBAgEBUwAEcfKxYBAgQIECBAgAABAgQIECBAgAABAgQMwDpAgAABAgQIECBAgAABAgQIECBAgACBqIABOPpYsQgQIECAAAECBAgQIECAAAECBAgQIGAA1gECBAgQIECAAAECBAgQIECAAAECBAhEBQzA0ceKRYAAAQIECBAgQIAAAQIECBAgQIAAAQOwDhAgQIAAAQIECBAgQIAAAQIECBAgQCAqYACOPlYsAgQIECBAgAABAgQIECBAgAABAgQIGIB1gAABAgQIECBAgAABAgQIECBAgAABAlEBA3D0sWIRIECAAAECBAgQIECAAAECBAgQIEDAAKwDBAgQIECAAAECBAgQIECAAAECBAgQiAoYgKOPFYsAAQIECBAgQIAAAQIECBAgQIAAAQIGYB0gQIAAAQIECBAgQIAAAQIECBAgQIBAVMAAHH2sWAQIECBAgAABAgQIECBAgAABAgQIEDAA6wABAgQIECBAgAABAgQIECBAgAABAgSiAgbg6GPFIkCAAAECBAgQIECAAAECBAgQIECAgAFYBwgQIECAAAECBAgQIECAAAECBAgQIBAVMABHHysWAQIECBAgQIAAAQIECBAgQIAAAQIEDMA6QIAAAQIECBAgQIAAAQIECBAgQIAAgaiAATj6WLEIECBAgAABAgQIECBAgAABAgQIECBgANYBAgQIECBAgAABAgQIECBAgAABAgQIRAUMwNHHikWAAAECBAgQIECAAAECBAgQIECAAAEDsA4QIECAAAECBAgQIECAAAECBAgQIEAgKmAAjj5WLAIECBAgQIAAAQIECBAgQIAAAQIECBiAdYAAAQIECBAgQIAAAQIECBAgQIAAAQJRAQNw9LFiESBAgAABAgQIECBAgAABAgQIECBAwACsAwQIECBAgAABAgQIECBAgAABAgQIEIgKGICjjxWLAAECBAgQIECAAAECBAgQIECAAAECBmAdIECAAAECBAgQIECAAAECBAgQIECAQFTAABx9rFgECBAgQIAAAQIECBAgQIAAAQIECBAwAOsAAQIECBAgQIAAAQIECBAgQIAAAQIEogIG4OhjxSJAgAABAgQIECBAgAABAgQIECBAgIABWAcIECBAgAABAgQIECBAgAABAgQIECAQFTAARx8rFgECBAgQIECAAAECBAgQIECAAAECBAzAOkCAAAECBAgQIECAAAECBAgQIECAAIGogAE4+lixOKYNrAAAIABJREFUCBAgQIAAAQIECBAgQIAAAQIECBAgYADWAQIECBAgQIAAAQIECBAgQIAAAQIECEQFDMDRx4pFgAABAgQIECBAgAABAgQIECBAgAABA7AOECBAgAABAgQIECBAgAABAgQIECBAICpgAI4+ViwCBAgQIECAAAECBAgQIECAAAECBAgYgHWAAAECBAgQIECAAAECBAgQIECAAAECUQEDcPSxYhEgQIAAAQIECBAgQIAAAQIECBAgQMAArAMECBAgQIAAAQIECBAgQIAAAQIECBCIChiAo48ViwABAgQIECBAgAABAgQIECBAgAABAgZgHSBAgAABAgQIECBAgAABAgQIECBAgEBUwAAcfaxYBAgQIECAAAECBAgQIECAAAECBAgQMADrAAECBAgQIECAAAECBAgQIECAAAECBKICBuDoY8UiQIAAAQIECBAgQIAAAQIECBAgQICAAVgHCBAgQIAAAQIECBAgQIAAAQIECBAgEBUwAEcfKxYBAgQIECBAgAABAgQIECBAgAABAgQMwDpAgAABAgQIECBAgAABAgQIECBAgACBqIABOPpYsQgQIECAAAECBAgQIECAAAECBAgQIGAA1gECBAgQIECAAAECBAgQIECAAAECBAhEBQzA0ceKRYAAAQIECBAgQIAAAQIECBAgQIAAAQOwDhAgQIAAAQIECBAgQIAAAQIECBAgQCAqYACOPlYsAgQIECBAgAABAgQIECBAgAABAgQIGIB1gAABAgQIECBAgAABAgQIECBAgAABAlEBA3D0sWIRIECAAAECBAgQIECAAAECBAgQIEDAAKwDBAgQIECAAAECBAgQIECAAAECBAgQiAoYgKOPFYsAAQIECBAgQIAAAQIECBAgQIAAAQIGYB0gQIAAAQIECBAgQIAAAQIECBAgQIBAVMAAHH2sWAQIECBAgAABAgQIECBAgAABAgQIEDAA6wABAgQIECBAgAABAgQIECBAgAABAgSiAgbg6GPFIkCAAAECBAgQIECAAAECBAgQIECAgAFYBwgQIECAAAECBAgQIECAAAECBAgQIBAVMABHHysWAQIECBAgQIAAAQIECBAgQIAAAQIEDMA6QIAAAQIECBAgQIAAAQIECBAgQIAAgaiAATj6WLEIECBAgAABAgQIECBAgAABAgQIECBgANYBAgQIECBAgAABAgQIECBAgAABAgQIRAUMwNHHikWAAAECBAgQIECAAAECBAgQIECAAAEDsA4QIECAAAECBAgQIECAAAECBAgQIEAgKmAAjj5WLAIECBAgQIAAAQIECBAgQIAAAQIECBiAdYAAAQIECBAgQIAAAQIECBAgQIAAAQJRAQNw9LFiESBAgAABAgQIECBAgAABAgQIECBAwACsAwQIECBAgAABAgQIECBAgAABAgQIEIgKGICjjxWLAAECBAgQIECAAAECBAgQIECAAAECBmAdIECAAAECBAgQIECAAAECBAgQIECAQFTAABx9rFgECBAgQIAAAQIECBAgQIAAAQIECBAwAOsAAQIECBAgQIAAAQIECBAgQIAAAQIEogIG4OhjxSJAgAABAgQIECBAgAABAgQIECBAgIABWAcIECBAgAABAgQIECBAgAABAgQIECAQFTAARx8rFgECBAgQIECAAAECBAgQIECAAAECBAzAOkCAAAECBAgQIECAAAECBAgQIECAAIGogAE4+lixCBAgQIAAAQIECBAgQIAAAQIECBAgYADWAQIECBAgQIAAAQIECBAgQIAAAQIECEQFDMDRx4pFgAABAgQIECBAgAABAgQIECBAgAABA7AOECBAgAABAgQIECBAgAABAgQIECBAICpgAI4+ViwCBAgQIECAAAECBAgQIECAAAECBAgYgHWAAAECBAgQIECAAAECBAgQIECAAAECUQEDcPSxYhEgQIAAAQIECBAgQIAAAQIECBAgQMAArAMECBAgQIAAAQIECBAgQIAAAQIECBCIChiAo48ViwABAgQIECBAgAABAgQIECBAgAABAgZgHSBAgAABAgQIECBAgAABAgQIECBAgEBUwAAcfaxYBAgQIECAAAECBAgQIECAAAECBAgQMADrAAECBAgQIECAAAECBAgQIECAAAECBKICBuDoY8UiQIAAAQIECBAgQIAAAQIECBAgQICAAVgHCBAgQIAAAQIECBAgQIAAAQIECBAgEBUwAEcfKxYBAgQIECBAgAABAgQIECBAgAABAgQMwDpAgAABAgQIECBAgAABAgQIECBAgACBqIABOPpYsQgQIECAAAECBAgQIECAAAECBAgQIGAA1gECBAgQIECAAAECBAgQIECAAAECBAhEBQzA0ceKRYAAAQIECBAgQIAAAQIECBAgQIAAAQOwDhAgQIAAAQIECBAgQIAAAQIECBAgQCAqYACOPlYsAgQIECBAgAABAgQIECBAgAABAgQIGIB1gAABAgQIECBAgAABAgQIECBAgAABAlEBA3D0sWIRIECAAAECBAgQIECAAAECBAgQIEDAAKwDBAgQIECAAAECBAgQIECAAAECBAgQiAoYgKOPFYsAAQIECBAgQIAAAQIECBAgQIAAAQIGYB0gQIAAAQIECBAgQIAAAQIECBAgQIBAVMAAHH2sWAQIECBAgAABAgQIECBAgAABAgQIEDAA6wABAgQIECBAgAABAgQIECBAgAABAgSiAgbg6GPFIkCAAAECBAgQIECAAAECBAgQIECAgAFYBwgQIECAAAECBAgQIECAAAECBAgQIBAVMABHHysWAQIECBAgQIAAAQIECBAgQIAAAQIEDMA6QIAAAQIECBAgQIAAAQIECBAgQIAAgaiAATj6WLEIECBAgAABAgQIECBAgAABAgQIECBgANYBAgQIECBAgAABAgQIECBAgAABAgQIRAUMwNHHikWAAAECBAgQIECAAAECBAgQIECAAAEDsA4QIECAAAECBAgQIECAAAECBAgQIEAgKmAAjj5WLAIECBAgQIAAAQIECBAgQIAAAQIECBiAdYAAAQIECBAgQIAAAQIECBAgQIAAAQJRAQNw9LFiESBAgAABAgQIECBAgAABAgQIECBAwACsAwQIECBAgAABAgQIECBAgAABAgQIEIgKGICjjxWLAAECBAgQIECAAAECBAgQIECAAAECBmAdIECAAAECBAgQIECAAAECBAgQIECAQFTAABx9rFgECBAgQIAAAQIECBAgQIAAAQIECBAwAOsAAQIECBAgQIAAAQIECBAgQIAAAQIEogIG4OhjxSJAgAABAgQIECBAgAABAgQIECBAgIABWAcIECBAgAABAgQIECBAgAABAgQIECAQFTAARx8rFgECBAgQIECAAAECBAgQIECAAAECBAzAOkCAAAECBAgQIECAAAECBAgQIECAAIGogAE4+lixCBAgQIAAAQIECBAgQIAAAQIECBAgYADWAQIECBAgQIAAAQIECBAgQIAAAQIECEQFDMDRx4pFgAABAgQIECBAgAABAgQIECBAgAABA7AOECBAgAABAgQIECBAgAABAgQIECBAICpgAI4+ViwCBAgQIECAAAECBAgQIECAAAECBAgYgHWAAAECBAgQIECAAAECBAgQIECAAAECUQEDcPSxYhEgQIAAAQIECBAgQIAAAQIECBAgQMAArAMECBAgQIAAAQIECBAgQIAAAQIECBCIChiAo48ViwABAgQIECBAgAABAgQIECBAgAABAgZgHSBAgAABAgQIECBAgAABAgQIECBAgEBUwAAcfaxYBAgQIECAAAECBAgQIECAAAECBAgQMADrAAECBAgQIECAAAECBAgQIECAAAECBKICBuDoY8UiQIAAAQIECBAgQIAAAQIECBAgQICAAVgHCBAgQIAAAQIECBAgQIAAAQIECBAgEBUwAEcfKxYBAgQIECBAgAABAgQIECBAgAABAgQMwDpAgAABAgQIECBAgAABAgQIECBAgACBqIABOPpYsQgQIECAAAECBAgQIECAAAECBAgQIGAA1gECBAgQIECAAAECBAgQIECAAAECBAhEBQzA0ceKRYAAAQIECBAgQIAAAQIECBAgQIAAAQOwDhAgQIAAAQIECBAgQIAAAQIECBAgQCAqYACOPlYsAgQIECBAgAABAgQIECBAgAABAgQIGIB1gAABAgQIECBAgAABAgQIECBAgAABAlEBA3D0sWIRIECAAAECBAgQIECAAAECBAgQIEDAAKwDBAgQIECAAAECBAgQIECAAAECBAgQiAoYgKOPFYsAAQIECBAgQIAAAQIECBAgQIAAAQIGYB0gQIAAAQIECBAgQIAAAQIECBAgQIBAVMAAHH2sWAQIECBAgAABAgQIECBAgAABAgQIEDAA6wABAgQIECBAgAABAgQIECBAgAABAgSiAgbg6GPFIkCAAAECBAgQIECAAAECBAgQIECAgAFYBwgQIECAAAECBAgQIECAAAECBAgQIBAVMABHHysWAQIECBAgQIAAAQIECBAgQIAAAQIEDMA6QIAAAQIECBAgQIAAAQIECBAgQIAAgaiAATj6WLEIECBAgAABAgQIECBAgAABAgQIECBgANYBAgQIECBAgAABAgQIECBAgAABAgQIRAUMwNHHikWAAAECBAgQIECAAAECBAgQIECAAAEDsA4QIECAAAECBAgQ+HbsmAYAAABhmH/X87FUAoULAgQIECBAgAABAgSmAg7gabFiESBAgAABAgQIECBAgAABAgQIECBAwAFsAwQIECBAgAABAgQIECBAgAABAgQIEJgKOICnxYpFgAABAgQIECBAgAABAgQIECBAgAABB7ANECBAgAABAgQIECBAgAABAgQIECBAYCrgAJ4WKxYBAgQIECBAgAABAgQIECBAgAABAgQcwDZAgAABAgQIECBAgAABAgQIECBAgACBqYADeFqsWAQIECBAgAABAgQIECBAgAABAgQIEHAA2wABAgQIECBAgAABAgQIECBAgAABAgSmAg7gabFiESBAgAABAgQIECBAgAABAgQIECBAwAFsAwQIECBAgAABAgQIECBAgAABAgQIEJgKOICnxYpFgAABAgQIECBAgAABAgQIECBAgAABB7ANECBAgAABAgQIECBAgAABAgQIECBAYCrgAJ4WKxYBAgQIECBAgAABAgQIECBAgAABAgQcwDZAgAABAgQIECBAgAABAgQIECBAgACBqYADeFqsWAQIECBAgAABAgQIECBAgAABAgQIEHAA2wABAgQIECBAgAABAgQIECBAgAABAgSmAg7gabFiESBAgAABAgQIECBAgAABAgQIECBAwAFsAwQIECBAgAABAgQIECBAgAABAgQIEJgKOICnxYpFgAABAgQIECBAgAABAgQIECBAgAABB7ANECBAgAABAgQIECBAgAABAgQIECBAYCrgAJ4WKxYBAgQIECBAgAABAgQIECBAgAABAgQcwDZAgAABAgQIECBAgAABAgQIECBAgACBqYADeFqsWAQIECBAgAABAgQIECBAgAABAgQIEHAA2wABAgQIECBAgAABAgQIECBAgAABAgSmAg7gabFiESBAgAABAgQIECBAgAABAgQIECBAwAFsAwQIECBAgAABAgQIECBAgAABAgQIEJgKOICnxYpFgAABAgQIECBAgAABAgQIECBAgAABB7ANECBAgAABAgQIECBAgAABAgQIECBAYCrgAJ4WKxYBAgQIECBAgAABAgQIECBAgAABAgQcwDZAgAABAgQIECBAgAABAgQIECBAgACBqYADeFqsWAQIECBAgAABAgQIECBAgAABAgQIEHAA2wABAgQIECBAgAABAgQIECBAgAABAgSmAg7gabFiESBAgAABAgQIECBAgAABAgQIECBAwAFsAwQIECBAgAABAgQIECBAgAABAgQIEJgKOICnxYpFgAABAgQIECBAgAABAgQIECBAgAABB7ANECBAgAABAgQIECBAgAABAgQIECBAYCrgAJ4WKxYBAgQIECBAgAABAgQIECBAgAABAgQcwDZAgAABAgQIECBAgAABAgQIECBAgACBqYADeFqsWAQIECBAgAABAgQIECBAgAABAgQIEHAA2wABAgQIECBAgAABAgQIECBAgAABAgSmAg7gabFiESBAgAABAgQIECBAgAABAgQIECBAwAFsAwQIECBAgAABAgQIECBAgAABAgQIEJgKOICnxYpFgAABAgQIECBAgAABAgQIECBAgAABB7ANECBAgAABAgQIECBAgAABAgQIECBAYCrgAJ4WKxYBAgQIECBAgAABAgQIECBAgAABAgQcwDZAgAABAgQIECBAgAABAgQIECBAgACBqYADeFqsWAQIECBAgAABAgQIECBAgAABAgQIEHAA2wABAgQIECBAgAABAgQIECBAgAABAgSmAg7gabFiESBAgAABAgQIECBAgAABAgQIECBAwAFsAwQIECBAgAABAgQIECBAgAABAgQIEJgKOICnxYpFgAABAgQIECBAgAABAgQIECBAgAABB7ANECBAgAABAgQIECBAgAABAgQIECBAYCrgAJ4WKxYBAgQIECBAgAABAgQIECBAgAABAgQcwDZAgAABAgQIECBAgAABAgQIECBAgACBqYADeFqsWAQIECBAgAABAgQIECBAgAABAgQIEHAA2wABAgQIECBAgAABAgQIECBAgAABAgSmAg7gabFiESBAgAABAgQIECBAgAABAgQIECBAwAFsAwQIECBAgAABAgQIECBAgAABAgQIEJgKOICnxYpFgAABAgQIECBAgAABAgQIECBAgAABB7ANECBAgAABAgQIECBAgAABAgQIECBAYCrgAJ4WKxYBAgQIECBAgAABAgQIECBAgAABAgQcwDZAgAABAgQIECBAgAABAgQIECBAgACBqYADeFqsWAQIECBAgAABAgQIECBAgAABAgQIEHAA2wABAgQIECBAgAABAgQIECBAgAABAgSmAg7gabFiESBAgAABAgQIECBAgAABAgQIECBAwAFsAwQIECBAgAABAgQIECBAgAABAgQIEJgKOICnxYpFgAABAgQIECBAgAABAgQIECBAgAABB7ANECBAgAABAgQIECBAgAABAgQIECBAYCrgAJ4WKxYBAgQIECBAgAABAgQIECBAgAABAgQcwDZAgAABAgQIECBAgAABAgQIECBAgACBqYADeFqsWAQIECBAgAABAgQIECBAgAABAgQIEHAA2wABAgQIECBAgAABAgQIECBAgAABAgSmAg7gabFiESBAgAABAgQIECBAgAABAgQIECBAwAFsAwQIECBAgAABAgQIECBAgAABAgQIEJgKOICnxYpFgAABAgQIECBAgAABAgQIECBAgAABB7ANECBAgAABAgQIECBAgAABAgQIECBAYCrgAJ4WKxYBAgQIECBAgAABAgQIECBAgAABAgQcwDZAgAABAgQIECBAgAABAgQIECBAgACBqYADeFqsWAQIECBAgAABAgQIECBAgAABAgQIEHAA2wABAgQIECBAgAABAgQIECBAgAABAgSmAg7gabFiESBAgAABAgQIECBAgAABAgQIECBAwAFsAwQIECBAgAABAgQIECBAgAABAgQIEJgKOICnxYpFgAABAgQIECBAgAABAgQIECBAgAABB7ANECBAgAABAgQIECBAgAABAgQIECBAYCrgAJ4WKxYBAgQIECBAgAABAgQIECBAgAABAgQcwDZAgAABAgQIECBAgAABAgQIECBAgACBqYADeFqsWAQIECBAgAABAgQIECBAgAABAgQIEHAA2wABAgQIECBAgAABAgQIECBAgAABAgSmAg7gabFiESBAgAABAgQIECBAgAABAgQIECBAwAFsAwQIECBAgAABAgQIECBAgAABAgQIEJgKOICnxYpFgAABAgQIECBAgAABAgQIECBAgAABB7ANECBAgAABAgQIECBAgAABAgQIECBAYCrgAJ4WKxYBAgQIECBAgAABAgQIECBAgAABAgQcwDZAgAABAgQIECBAgAABAgQIECBAgACBqYADeFqsWAQIECBAgAABAgQIECBAgAABAgQIEHAA2wABAgQIECBAgAABAgQIECBAgAABAgSmAg7gabFiESBAgAABAgQIECBAgAABAgQIECBAwAFsAwQIECBAgAABAgQIECBAgAABAgQIEJgKOICnxYpFgAABAgQIECBAgAABAgQIECBAgAABB7ANECBAgAABAgQIECBAgAABAgQIECBAYCrgAJ4WKxYBAgQIECBAgAABAgQIECBAgAABAgQcwDZAgAABAgQIECBAgAABAgQIECBAgACBqYADeFqsWAQIECBAgAABAgQIECBAgAABAgQIEHAA2wABAgQIECBAgAABAgQIECBAgAABAgSmAg7gabFiESBAgAABAgQIECBAgAABAgQIECBAwAFsAwQIECBAgAABAgQIECBAgAABAgQIEJgKOICnxYpFgAABAgQIECBAgAABAgQIECBAgAABB7ANECBAgAABAgQIECBAgAABAgQIECBAYCrgAJ4WKxYBAgQIECBAgAABAgQIECBAgAABAgQcwDZAgAABAgQIECBAgAABAgQIECBAgACBqYADeFqsWAQIECBAgAABAgQIECBAgAABAgQIEHAA2wABAgQIECBAgAABAgQIECBAgAABAgSmAg7gabFiESBAgAABAgQIECBAgAABAgQIECBAwAFsAwQIECBAgAABAgQIECBAgAABAgQIEJgKOICnxYpFgAABAgQIECBAgAABAgQIECBAgAABB7ANECBAgAABAgQIECBAgAABAgQIECBAYCrgAJ4WKxYBAgQIECBAgAABAgQIECBAgAABAgQcwDZAgAABAgQIECBAgAABAgQIECBAgACBqYADeFqsWAQIECBAgAABAgQIECBAgAABAgQIEHAA2wABAgQIECBAgAABAgQIECBAgAABAgSmAg7gabFiESBAgAABAgQIECBAgAABAgQIECBAwAFsAwQIECBAgAABAgQIECBAgAABAgQIEJgKOICnxYpFgAABAgQIECBAgAABAgQIECBAgAABB7ANECBAgAABAgQIECBAgAABAgQIECBAYCrgAJ4WKxYBAgQIECBAgAABAgQIECBAgAABAgQcwDZAgAABAgQIECBAgAABAgQIECBAgACBqYADeFqsWAQIECBAgAABAgQIECBAgAABAgQIEHAA2wABAgQIECBAgAABAgQIECBAgAABAgSmAg7gabFiESBAgAABAgQIECBAgAABAgQIECBAwAFsAwQIECBAgAABAgQIECBAgAABAgQIEJgKOICnxYpFgAABAgQIECBAgAABAgQIECBAgAABB7ANECBAgAABAgQIECBAgAABAgQIECBAYCrgAJ4WKxYBAgQIECBAgAABAgQIECBAgAABAgQcwDZAgAABAgQIECBAgAABAgQIECBAgACBqYADeFqsWAQIECBAgAABAgQIECBAgAABAgQIEHAA2wABAgQIECBAgAABAgQIECBAgAABAgSmAg7gabFiESBAgAABAgQIECBAgAABAgQIECBAwAFsAwQIECBAgAABAgQIECBAgAABAgQIEJgKOICnxYpFgAABAgQIECBAgAABAgQIECBAgAABB7ANECBAgAABAgQIECBAgAABAgQIECBAYCrgAJ4WKxYBAgQIECBAgAABAgQIECBAgAABAgQcwDZAgAABAgQIECBAgAABAgQIECBAgACBqYADeFqsWAQIECBAgAABAgQIECBAgAABAgQIEHAA2wABAgQIECBAgAABAgQIECBAgAABAgSmAg7gabFiESBAgAABAgQIECBAgAABAgQIECBAwAFsAwQIECBAgAABAgQIECBAgAABAgQIEJgKOICnxYpFgAABAgQIECBAgAABAgQIECBAgAABB7ANECBAgAABAgQIECBAgAABAgQIECBAYCrgAJ4WKxYBAgQIECBAgAABAgQIECBAgAABAgQcwDZAgAABAgQIECBAgAABAgQIECBAgACBqYADeFqsWAQIECBAgAABAgQIECBAgAABAgQIEHAA2wABAgQIECBAgAABAgQIECBAgAABAgSmAg7gabFiESBAgAABAgQIECBAgAABAgQIECBAwAFsAwQIECBAgAABAgQIECBAgAABAgQIEJgKOICnxYpFgAABAgQIECBAgAABAgQIECBAgAABB7ANECBAgAABAgQIECBAgAABAgQIECBAYCrgAJ4WKxYBAgQIECBAgAABAgQIECBAgAABAgQcwDZAgAABAgQIECBAgAABAgQIECBAgACBqYADeFqsWAQIECBAgAABAgQIECBAgAABAgQIEHAA2wABAgQIECBAgAABAgQIECBAgAABAgSmAg7gabFiESBAgAABAgQIECBAgAABAgQIECBAwAFsAwQIECBAgAABAgQIECBAgAABAgQIEJgKOICnxYpFgAABAgQIECBAgAABAgQIECBAgAABB7ANECBAgAABAgQIECBAgAABAgQIECBAYCrgAJ4WKxYBAgQIECBAgAABAgQIECBAgAABAgQcwDZAgAABAgQIECBAgAABAgQIECBAgACBqYADeFqsWAQIECBAgAABAgQIECBAgAABAgQIEHAA2wABAgQIECBAgAABAgQIECBAgAABAgSmAg7gabFiESBAgAABAgQIECBAgAABAgQIECBAwAFsAwQIECBAgAABAgQIECBAgAABAgQIEJgKOICnxYpFgAABAgQIECBAgAABAgQIECBAgAABB7ANECBAgAABAgQIECBAgAABAgQIECBAYCrgAJ4WKxYBAgQIECBAgAABAgQIECBAgAABAgQcwDZAgAABAgQIECBAgAABAgQIECBAgACBqYADeFqsWAQIECBAgAABAgQIECBAgAABAgTUVOMUAAAOLElEQVQIEHAA2wABAgQIECBAgAABAgQIECBAgAABAgSmAg7gabFiESBAgAABAgQIECBAgAABAgQIECBAwAFsAwQIECBAgAABAgQIECBAgAABAgQIEJgKOICnxYpFgAABAgQIECBAgAABAgQIECBAgAABB7ANECBAgAABAgQIECBAgAABAgQIECBAYCrgAJ4WKxYBAgQIECBAgAABAgQIECBAgAABAgQcwDZAgAABAgQIECBAgAABAgQIECBAgACBqYADeFqsWAQIECBAgAABAgQIECBAgAABAgQIEHAA2wABAgQIECBAgAABAgQIECBAgAABAgSmAg7gabFiESBAgAABAgQIECBAgAABAgQIECBAwAFsAwQIECBAgAABAgQIECBAgAABAgQIEJgKOICnxYpFgAABAgQIECBAgAABAgQIECBAgAABB7ANECBAgAABAgQIECBAgAABAgQIECBAYCrgAJ4WKxYBAgQIECBAgAABAgQIECBAgAABAgQcwDZAgAABAgQIECBAgAABAgQIECBAgACBqYADeFqsWAQIECBAgAABAgQIECBAgAABAgQIEHAA2wABAgQIECBAgAABAgQIECBAgAABAgSmAg7gabFiESBAgAABAgQIECBAgAABAgQIECBAwAFsAwQIECBAgAABAgQIECBAgAABAgQIEJgKOICnxYpFgAABAgQIECBAgAABAgQIECBAgAABB7ANECBAgAABAgQIECBAgAABAgQIECBAYCrgAJ4WKxYBAgQIECBAgAABAgQIECBAgAABAgQcwDZAgAABAgQIECBAgAABAgQIECBAgACBqYADeFqsWAQIECBAgAABAgQIECBAgAABAgQIEHAA2wABAgQIECBAgAABAgQIECBAgAABAgSmAg7gabFiESBAgAABAgQIECBAgAABAgQIECBAwAFsAwQIECBAgAABAgQIECBAgAABAgQIEJgKOICnxYpFgAABAgQIECBAgAABAgQIECBAgAABB7ANECBAgAABAgQIECBAgAABAgQIECBAYCrgAJ4WKxYBAgQIECBAgAABAgQIECBAgAABAgQcwDZAgAABAgQIECBAgAABAgQIECBAgACBqYADeFqsWAQIECBAgAABAgQIECBAgAABAgQIEHAA2wABAgQIECBAgAABAgQIECBAgAABAgSmAg7gabFiESBAgAABAgQIECBAgAABAgQIECBAwAFsAwQIECBAgAABAgQIECBAgAABAgQIEJgKOICnxYpFgAABAgQIECBAgAABAgQIECBAgAABB7ANECBAgAABAgQIECBAgAABAgQIECBAYCrgAJ4WKxYBAgQIECBAgAABAgQIECBAgAABAgQcwDZAgAABAgQIECBAgAABAgQIECBAgACBqYADeFqsWAQIECBAgAABAgQIECBAgAABAgQIEHAA2wABAgQIECBAgAABAgQIECBAgAABAgSmAg7gabFiESBAgAABAgQIECBAgAABAgQIECBAwAFsAwQIECBAgAABAgQIECBAgAABAgQIEJgKOICnxYpFgAABAgQIECBAgAABAgQIECBAgAABB7ANECBAgAABAgQIECBAgAABAgQIECBAYCrgAJ4WKxYBAgQIECBAgAABAgQIECBAgAABAgQcwDZAgAABAgQIECBAgAABAgQIECBAgACBqYADeFqsWAQIECBAgAABAgQIECBAgAABAgQIEHAA2wABAgQIECBAgAABAgQIECBAgAABAgSmAg7gabFiESBAgAABAgQIECBAgAABAgQIECBAwAFsAwQIECBAgAABAgQIECBAgAABAgQIEJgKOICnxYpFgAABAgQIECBAgAABAgQIECBAgAABB7ANECBAgAABAgQIECBAgAABAgQIECBAYCrgAJ4WKxYBAgQIECBAgAABAgQIECBAgAABAgQcwDZAgAABAgQIECBAgAABAgQIECBAgACBqYADeFqsWAQIECBAgAABAgQIECBAgAABAgQIEHAA2wABAgQIECBAgAABAgQIECBAgAABAgSmAg7gabFiESBAgAABAgQIECBAgAABAgQIECBAwAFsAwQIECBAgAABAgQIECBAgAABAgQIEJgKOICnxYpFgAABAgQIECBAgAABAgQIECBAgAABB7ANECBAgAABAgQIECBAgAABAgQIECBAYCrgAJ4WKxYBAgQIECBAgAABAgQIECBAgAABAgQcwDZAgAABAgQIECBAgAABAgQIECBAgACBqYADeFqsWAQIECBAgAABAgQIECBAgAABAgQIEHAA2wABAgQIECBAgAABAgQIECBAgAABAgSmAg7gabFiESBAgAABAgQIECBAgAABAgQIECBAwAFsAwQIECBAgAABAgQIECBAgAABAgQIEJgKOICnxYpFgAABAgQIECBAgAABAgQIECBAgAABB7ANECBAgAABAgQIECBAgAABAgQIECBAYCrgAJ4WKxYBAgQIECBAgAABAgQIECBAgAABAgQcwDZAgAABAgQIECBAgAABAgQIECBAgACBqYADeFqsWAQIECBAgAABAgQIECBAgAABAgQIEHAA2wABAgQIECBAgAABAgQIECBAgAABAgSmAg7gabFiESBAgAABAgQIECBAgAABAgQIECBAwAFsAwQIECBAgAABAgQIECBAgAABAgQIEJgKOICnxYpFgAABAgQIECBAgAABAgQIECBAgAABB7ANECBAgAABAgQIECBAgAABAgQIECBAYCrgAJ4WKxYBAgQIECBAgAABAgQIECBAgAABAgQcwDZAgAABAgQIECBAgAABAgQIECBAgACBqYADeFqsWAQIECBAgAABAgQIECBAgAABAgQIEHAA2wABAgQIECBAgAABAgQIECBAgAABAgSmAg7gabFiESBAgAABAgQIECBAgAABAgQIECBAwAFsAwQIECBAgAABAgQIECBAgAABAgQIEJgKOICnxYpFgAABAgQIECBAgAABAgQIECBAgAABB7ANECBAgAABAgQIECBAgAABAgQIECBAYCrgAJ4WKxYBAgQIECBAgAABAgQIECBAgAABAgQcwDZAgAABAgQIECBAgAABAgQIECBAgACBqYADeFqsWAQIECBAgAABAgQIECBAgAABAgQIEHAA2wABAgQIECBAgAABAgQIECBAgAABAgSmAg7gabFiESBAgAABAgQIECBAgAABAgQIECBAwAFsAwQIECBAgAABAgQIECBAgAABAgQIEJgKOICnxYpFgAABAgQIECBAgAABAgQIECBAgAABB7ANECBAgAABAgQIECBAgAABAgQIECBAYCrgAJ4WKxYBAgQIECBAgAABAgQIECBAgAABAgQcwDZAgAABAgQIECBAgAABAgQIECBAgACBqYADeFqsWAQIECBAgAABAgQIECBAgAABAgQIEHAA2wABAgQIECBAgAABAgQIECBAgAABAgSmAg7gabFiESBAgAABAgQIECBAgAABAgQIECBAwAFsAwQIECBAgAABAgQIECBAgAABAgQIEJgKOICnxYpFgAABAgQIECBAgAABAgQIECBAgAABB7ANECBAgAABAgQIECBAgAABAgQIECBAYCrgAJ4WKxYBAgQIECBAgAABAgQIECBAgAABAgQcwDZAgAABAgQIECBAgAABAgQIECBAgACBqYADeFqsWAQIECBAgAABAgQIECBAgAABAgQIEHAA2wABAgQIECBAgAABAgQIECBAgAABAgSmAg7gabFiESBAgAABAgQIECBAgAABAgQIECBAwAFsAwQIECBAgAABAgQIECBAgAABAgQIEJgKOICnxYpFgAABAgQIECBAgAABAgQIECBAgAABB7ANECBAgAABAgQIECBAgAABAgQIECBAYCrgAJ4WKxYBAgQIECBAgAABAgQIECBAgAABAgQcwDZAgAABAgQIECBAgAABAgQIECBAgACBqYADeFqsWAQIECBAgAABAgQIECBAgAABAgQIEHAA2wABAgQIECBAgAABAgQIECBAgAABAgSmAg7gabFiESBAgAABAgQIECBAgAABAgQIECBAwAFsAwQIECBAgAABAgQIECBAgAABAgQIEJgKOICnxYpFgAABAgQIECBAgAABAgQIECBAgAABB7ANECBAgAABAgQIECBAgAABAgQIECBAYCrgAJ4WKxYBAgQIECBAgAABAgQIECBAgAABAgQcwDZAgAABAgQIECBAgAABAgQIECBAgACBqYADeFqsWAQIECBAgAABAgQIECBAgAABAgQIEHAA2wABAgQIECBAgAABAgQIECBAgAABAgSmAg7gabFiESBAgAABAgQIECBAgAABAgQIECBAwAFsAwQIECBAgAABAgQIECBAgAABAgQIEJgKOICnxYpFgAABAgQIECBAgAABAgQIECBAgAABB7ANECBAgAABAgQIECBAgAABAgQIECBAYCrgAJ4WKxYBAgQIECBAgAABAgQIECBAgAABAgQcwDZAgAABAgQIECBAgAABAgQIECBAgACBqYADeFqsWAQIECBAgAABAgQIECBAgAABAgQIEHAA2wABAgQIECBAgAABAgQIECBAgAABAgSmAg7gabFiESBAgAABAgQIECBAgAABAgQIECBAwAFsAwQIECBAgAABAgQIECBAgAABAgQIEJgKOICnxYpFgAABAgQIECBAgAABAgQIECBAgAABB7ANECBAgAABAgQIECBAgAABAgQIECBAYCrgAJ4WKxYBAgQIECBAgAABAgQIECBAgAABAgQcwDZAgAABAgQIECBAgAABAgQIECBAgACBqYADeFqsWAQIECBAgAABAgQIECBAgAABAgQIEAio2QQh/12IfAAAAABJRU5ErkJggg==\" width=\"639.9999861283738\">"
      ],
      "text/plain": [
       "<IPython.core.display.HTML object>"
      ]
     },
     "metadata": {},
     "output_type": "display_data"
    },
    {
     "data": {
      "text/plain": [
       "[<mpl_toolkits.mplot3d.art3d.Line3D at 0x7fc9802f7f28>]"
      ]
     },
     "execution_count": 13,
     "metadata": {},
     "output_type": "execute_result"
    }
   ],
   "source": [
    "from mpl_toolkits.mplot3d import Axes3D\n",
    "\n",
    "fig = plt.figure()\n",
    "ax = fig.add_subplot(111, projection='3d')\n",
    "\n",
    "x0, x1 = np.meshgrid(theta0_grid_zoom, theta1_grid_zoom)\n",
    "\n",
    "ax.plot_surface(x0, x1, cost_all_norm.T, cmap='inferno_r', alpha=0.6)\n",
    "\n",
    "ax.set_xlabel('theta0')\n",
    "ax.set_ylabel('theta1')\n",
    "ax.set_zlabel('Cost')\n",
    "\n",
    "ax.plot([best_theta0_norm, best_theta0_norm],\n",
    "        [best_theta1_norm, best_theta1_norm],\n",
    "        [0, 10],\n",
    "        'k--',\n",
    "        linewidth=2)\n"
   ]
  },
  {
   "cell_type": "code",
   "execution_count": null,
   "metadata": {},
   "outputs": [],
   "source": []
  },
  {
   "cell_type": "code",
   "execution_count": null,
   "metadata": {},
   "outputs": [],
   "source": []
  },
  {
   "cell_type": "markdown",
   "metadata": {},
   "source": [
    "#### Important Note\n",
    "\n",
    "Be careful and remember that we use `cost_all_norm` in this exercise. This is only to visualize the gradient descent process. In a real setting, you don't need to calculate the cost for all combinations of parameters. This is the point of gradient descent!"
   ]
  },
  {
   "cell_type": "code",
   "execution_count": 14,
   "metadata": {},
   "outputs": [],
   "source": [
    "%matplotlib inline"
   ]
  },
  {
   "cell_type": "markdown",
   "metadata": {},
   "source": [
    "## Gradient\n",
    "\n",
    "#### Important Note\n",
    "\n",
    "In this part, we will use the raw data instead of the normalized data. This will allows us to see issues like learning rate more clearly. So be sure to use the variables `cost_all` and `data`, `theta0_grid`, `theta1_grid` and not `cost_all_norm`, `data_norm`, `theta0_grid_zoom`, `theta0_grid_zoom`!\n",
    "\n",
    "The goal of gradient descent it to tell at any point on the convex curve: what is the direction that would minimize the function, according to each direction (each parameter)?\n",
    "\n",
    "In this exercise, we'll simplify the procedure and consider only one variable. Let's say that we constrain `theta0` (the intercept) to be 0: we only need to optimize the cost function with respect to `theta1` (the slope).\n",
    "\n",
    "So we'll freeze the value of `theta0` to 0 and zero-initialize the value of `theta1`:"
   ]
  },
  {
   "cell_type": "code",
   "execution_count": 15,
   "metadata": {},
   "outputs": [],
   "source": [
    "theta1 = 0"
   ]
  },
  {
   "cell_type": "markdown",
   "metadata": {},
   "source": [
    "To visualize what gradient descent do, let's plot again the cost in function of `theta1`, this time with `theta0 = 0`. You can also try to plot the initial value of `theta1` as a point on the curve. "
   ]
  },
  {
   "cell_type": "code",
   "execution_count": 16,
   "metadata": {},
   "outputs": [],
   "source": [
    "# Your code here\n"
   ]
  },
  {
   "cell_type": "code",
   "execution_count": null,
   "metadata": {},
   "outputs": [],
   "source": []
  },
  {
   "cell_type": "code",
   "execution_count": null,
   "metadata": {},
   "outputs": [],
   "source": []
  },
  {
   "cell_type": "code",
   "execution_count": 17,
   "metadata": {},
   "outputs": [
    {
     "data": {
      "text/plain": [
       "<matplotlib.collections.PathCollection at 0x7fc98035c6d8>"
      ]
     },
     "execution_count": 17,
     "metadata": {},
     "output_type": "execute_result"
    },
    {
     "data": {
      "image/png": "[encoded data removed]",
      "text/plain": [
       "<Figure size 432x288 with 1 Axes>"
      ]
     },
     "metadata": {
      "needs_background": "light"
     },
     "output_type": "display_data"
    }
   ],
   "source": [
    "cost_for_theta1 = L(x=data['Zinc (mg/100g)'],\n",
    "                    y=data['Phosphorus (mg/100g)'],\n",
    "                    theta0=0,\n",
    "                    theta1=theta1)\n",
    "\n",
    "index_theta0 = np.where(theta1_grid == 0)[0][0]\n",
    "\n",
    "plt.plot(theta1_grid, cost_all[index_theta0])\n",
    "plt.scatter(theta1, cost_for_theta1)"
   ]
  },
  {
   "cell_type": "code",
   "execution_count": null,
   "metadata": {},
   "outputs": [],
   "source": []
  },
  {
   "cell_type": "code",
   "execution_count": null,
   "metadata": {},
   "outputs": [],
   "source": []
  },
  {
   "cell_type": "markdown",
   "metadata": {},
   "source": [
    "Great! We have represented the cost function that we want to minimize. We also initialized our single parameter `theta1`. We have represented this initial value on the curve.\n",
    "\n",
    "Now, let's say that you could slide this point on the curve. What direction would you use to decrease the error?\n",
    "\n",
    "- 1. Increase `theta1`\n",
    "- 2. Decrease `theta1`"
   ]
  },
  {
   "cell_type": "code",
   "execution_count": 18,
   "metadata": {},
   "outputs": [],
   "source": [
    "# Your answer here\n"
   ]
  },
  {
   "cell_type": "code",
   "execution_count": null,
   "metadata": {},
   "outputs": [],
   "source": []
  },
  {
   "cell_type": "code",
   "execution_count": null,
   "metadata": {},
   "outputs": [],
   "source": []
  },
  {
   "cell_type": "markdown",
   "metadata": {},
   "source": [
    "The right answer is 1. because increasing `theta1` corresponds to moving to the right on the plot and that would have the effect to decrease the cost (smaller value on the y-axis)."
   ]
  },
  {
   "cell_type": "code",
   "execution_count": null,
   "metadata": {},
   "outputs": [],
   "source": []
  },
  {
   "cell_type": "code",
   "execution_count": null,
   "metadata": {},
   "outputs": [],
   "source": []
  },
  {
   "cell_type": "markdown",
   "metadata": {},
   "source": [
    "This is good to be able to do that as a human. However, we need to let the algorithm do it alone. The solution is calculate the slope at this point:\n",
    "\n",
    "- if the slope is negative, we need to increase the parameter value (red curve on the figure)\n",
    "- if the slope is positive, we need to decrease the parameter value (green curve on the figure)\n",
    "\n",
    "<img src=\"images/slopes.png\" width=\"500\">\n",
    "\n",
    "Minimizing the function means finding the bottom of the bowl.\n",
    "\n",
    "### Derivatives\n",
    "\n",
    "To find the slope and thus the right direction for the next value of `theta1`, we need to calculate the derivative of the cost function.\n",
    "\n",
    "To help you, here is the derivative of the cost function:"
   ]
  },
  {
   "cell_type": "code",
   "execution_count": 19,
   "metadata": {},
   "outputs": [],
   "source": [
    "def cost_function_derivative(x, y, theta0, theta1):\n",
    "    m = x.shape[0]\n",
    "    derivative = (1 / m) * np.sum((h(x, theta0, theta1) - y) * x)\n",
    "    return derivative"
   ]
  },
  {
   "cell_type": "markdown",
   "metadata": {},
   "source": [
    "We have the cost function and its derivative implemented. Your task is to use the derivative function to calculate the slope of the cost function at our initial point. This point corresponds to our initial `theta1` (we initialized it to 0) and to our fixed `theta0` (also 0)."
   ]
  },
  {
   "cell_type": "code",
   "execution_count": 20,
   "metadata": {},
   "outputs": [],
   "source": [
    "# Your code here\n"
   ]
  },
  {
   "cell_type": "code",
   "execution_count": null,
   "metadata": {},
   "outputs": [],
   "source": []
  },
  {
   "cell_type": "code",
   "execution_count": null,
   "metadata": {},
   "outputs": [],
   "source": []
  },
  {
   "cell_type": "code",
   "execution_count": 21,
   "metadata": {},
   "outputs": [
    {
     "data": {
      "text/plain": [
       "-419.72169811320754"
      ]
     },
     "execution_count": 21,
     "metadata": {},
     "output_type": "execute_result"
    }
   ],
   "source": [
    "cost_function_derivative(x=data['Zinc (mg/100g)'],\n",
    "                         y=data['Phosphorus (mg/100g)'],\n",
    "                         theta0=0,\n",
    "                         theta1=theta1)"
   ]
  },
  {
   "cell_type": "code",
   "execution_count": null,
   "metadata": {},
   "outputs": [],
   "source": []
  },
  {
   "cell_type": "code",
   "execution_count": null,
   "metadata": {},
   "outputs": [],
   "source": []
  },
  {
   "cell_type": "markdown",
   "metadata": {},
   "source": [
    "You should find $-419.72169811320754$.\n",
    "\n",
    "The derivative is negative: this means that the slope of the tangent line at this point corresponding to the initial `theta1` value is negative (the $y$ value decreases when the $x$ value increases).\n",
    "\n",
    "### Parameter Update\n",
    "\n",
    "In addition to the sign of the derivative, the value is giving you some information as well. A large value means that the tangent line is steep and a small value means that the line is flat.\n",
    "\n",
    "The gradient descent procedure uses this property: we update the parameter by subtracting the value of the derivative to the current value of theta. Your task is to implement this `update()` function."
   ]
  },
  {
   "cell_type": "code",
   "execution_count": 22,
   "metadata": {},
   "outputs": [],
   "source": [
    "# Your code here\n",
    "def update(x, y, theta0, theta1):\n",
    "    # TODO: the update function returns theta0 and theta1: the new value of theta1\n",
    "    # and, since we freeze theta0, the unmodified value of it\n",
    "    pass\n"
   ]
  },
  {
   "cell_type": "code",
   "execution_count": null,
   "metadata": {},
   "outputs": [],
   "source": []
  },
  {
   "cell_type": "code",
   "execution_count": null,
   "metadata": {},
   "outputs": [],
   "source": []
  },
  {
   "cell_type": "code",
   "execution_count": 23,
   "metadata": {},
   "outputs": [],
   "source": [
    "def update(x, y, theta0, theta1):\n",
    "    new_theta1 = theta1 - cost_function_derivative(x, y, theta0, theta1)\n",
    "    return theta0, new_theta1"
   ]
  },
  {
   "cell_type": "code",
   "execution_count": null,
   "metadata": {},
   "outputs": [],
   "source": []
  },
  {
   "cell_type": "code",
   "execution_count": null,
   "metadata": {},
   "outputs": [],
   "source": []
  },
  {
   "cell_type": "markdown",
   "metadata": {},
   "source": [
    "You can test your function with the following cell:"
   ]
  },
  {
   "cell_type": "code",
   "execution_count": 24,
   "metadata": {},
   "outputs": [
    {
     "data": {
      "text/plain": [
       "(0, 419.72169811320754)"
      ]
     },
     "execution_count": 24,
     "metadata": {},
     "output_type": "execute_result"
    }
   ],
   "source": [
    "update(x=data['Zinc (mg/100g)'],\n",
    "       y=data['Phosphorus (mg/100g)'],\n",
    "       theta0=0,\n",
    "       theta1=theta1)\n",
    "# You should get (0, 419.72169811320754)"
   ]
  },
  {
   "cell_type": "markdown",
   "metadata": {},
   "source": [
    "If your tests are good, update your value of `theta1`:"
   ]
  },
  {
   "cell_type": "code",
   "execution_count": 25,
   "metadata": {},
   "outputs": [],
   "source": [
    "theta0, theta1 = update(x=data['Zinc (mg/100g)'],\n",
    "                y=data['Phosphorus (mg/100g)'],\n",
    "                theta0=0,\n",
    "                theta1=theta1)"
   ]
  },
  {
   "cell_type": "markdown",
   "metadata": {},
   "source": [
    "Plot the new value of `theta1` on the cost function curve, like you did with the initial value."
   ]
  },
  {
   "cell_type": "code",
   "execution_count": 26,
   "metadata": {},
   "outputs": [],
   "source": [
    "# Your code here\n"
   ]
  },
  {
   "cell_type": "code",
   "execution_count": null,
   "metadata": {},
   "outputs": [],
   "source": []
  },
  {
   "cell_type": "code",
   "execution_count": null,
   "metadata": {},
   "outputs": [],
   "source": []
  },
  {
   "cell_type": "code",
   "execution_count": 27,
   "metadata": {},
   "outputs": [
    {
     "data": {
      "text/plain": [
       "<matplotlib.collections.PathCollection at 0x7fc9804be898>"
      ]
     },
     "execution_count": 27,
     "metadata": {},
     "output_type": "execute_result"
    },
    {
     "data": {
      "image/png": "[encoded data removed]",
      "text/plain": [
       "<Figure size 432x288 with 1 Axes>"
      ]
     },
     "metadata": {
      "needs_background": "light"
     },
     "output_type": "display_data"
    }
   ],
   "source": [
    "cost_for_theta1 = L(x=data['Zinc (mg/100g)'],\n",
    "                    y=data['Phosphorus (mg/100g)'],\n",
    "                    theta0=0,\n",
    "                    theta1=theta1)\n",
    "\n",
    "plt.plot(theta1_grid, cost_all[best_params[0]])\n",
    "plt.scatter(theta1, cost_for_theta1)"
   ]
  },
  {
   "cell_type": "code",
   "execution_count": null,
   "metadata": {},
   "outputs": [],
   "source": []
  },
  {
   "cell_type": "code",
   "execution_count": null,
   "metadata": {},
   "outputs": [],
   "source": []
  },
  {
   "cell_type": "markdown",
   "metadata": {},
   "source": [
    "What can you say about the cost with the updated `theta1`?"
   ]
  },
  {
   "cell_type": "code",
   "execution_count": null,
   "metadata": {},
   "outputs": [],
   "source": []
  },
  {
   "cell_type": "code",
   "execution_count": null,
   "metadata": {},
   "outputs": [],
   "source": []
  },
  {
   "cell_type": "markdown",
   "metadata": {},
   "source": [
    "The cost is larger in the second iteration: this means that the algorithm might not improve (but is getting worse). We will see why below."
   ]
  },
  {
   "cell_type": "code",
   "execution_count": null,
   "metadata": {},
   "outputs": [],
   "source": []
  },
  {
   "cell_type": "code",
   "execution_count": null,
   "metadata": {},
   "outputs": [],
   "source": []
  },
  {
   "cell_type": "markdown",
   "metadata": {},
   "source": [
    "### Putting All Together\n",
    "\n",
    "You have all the building blocks needed to implement gradient descent. Before fixing the issue of the increasing cost, you will put all these blocks together to implement the gradient descent function. To summarize, here is the procedure:\n",
    "\n",
    "1. Give parameters initial values (zero-initialization)\n",
    "2. Calculate the estimated values with these parameters for all training examples\n",
    "3. Calculate the error between the estimated values and the true values with the cost function `L()`\n",
    "4. Calculate the derivative of the cost function according to these parameters\n",
    "5. Update the parameters by subtracting the derivative (`theta0` stays 0)\n",
    "6. Repeat steps 2 to 5 (each repetition corresponds to one *epoch*)\n",
    "\n",
    "You can try to write a function that will take `x`, `y` and the initial value of `theta1` as inputs and implement these steps. Your function should return the history of the cost values (this will help us to check that the cost is decreasing) and the last `theta1` value.\n",
    "\n",
    "We also provide you with a function that you can use to visualize how the gradient descent perform at each step:"
   ]
  },
  {
   "cell_type": "code",
   "execution_count": 28,
   "metadata": {},
   "outputs": [],
   "source": [
    "def gradient_descent_viz(x, y, theta0, theta1):\n",
    "    cost_for_theta1 = L(x, y, theta0, theta1)\n",
    "    \n",
    "    plt.figure()\n",
    "    f, (ax1, ax2) = plt.subplots(1, 2, sharey=False)\n",
    "    \n",
    "    ax1.plot(theta1_grid, cost_all[best_params[0]])\n",
    "    ax1.scatter(theta1, cost_for_theta1)\n",
    "\n",
    "    plot_reg_line(x, y, theta0, theta1)\n",
    "\n",
    "    plt.show()\n",
    "    plt.close()\n",
    "\n",
    "    print(f\"Cost: {cost_for_theta1}\")\n",
    "    \n",
    "    time.sleep(0.5)\n",
    "    clear_output(wait=True)"
   ]
  },
  {
   "cell_type": "markdown",
   "metadata": {},
   "source": [
    "You can use it like this:\n",
    "\n",
    "```python\n",
    "from IPython.display import clear_output\n",
    "import time\n",
    "if viz:\n",
    "    gradient_descent_viz(x, y, theta1)\n",
    "    time.sleep(0.5)\n",
    "    clear_output(wait=True)\n",
    "```\n",
    "\n",
    "The function `time.sleep(0.5)` allows us to wait 0.5 second between each iteration (change this value if you want to have more time to see the evolution). This is only to have time to see what is going on.\n",
    "\n",
    "You can add the arguments `viz` to choose if you want visualization and `num_epochs` to set the number of times you want to do the steps."
   ]
  },
  {
   "cell_type": "code",
   "execution_count": 29,
   "metadata": {},
   "outputs": [],
   "source": [
    "from IPython.display import clear_output\n",
    "import time\n",
    "\n",
    "def gradient_descent(x, y, theta0, theta1, alpha, viz=True, num_epochs=5):\n",
    "    # TODO: implement the gradient descent function using all the building blocks\n",
    "    # we constructed today!\n",
    "    pass\n"
   ]
  },
  {
   "cell_type": "code",
   "execution_count": null,
   "metadata": {},
   "outputs": [],
   "source": []
  },
  {
   "cell_type": "code",
   "execution_count": null,
   "metadata": {},
   "outputs": [],
   "source": []
  },
  {
   "cell_type": "code",
   "execution_count": 30,
   "metadata": {
    "code_folding": []
   },
   "outputs": [],
   "source": [
    "def gradient_descent(x, y, theta0, theta1, num_epochs=5, viz=True):\n",
    "    cost_history = []\n",
    "    counter = 0\n",
    "    for epoch in range(num_epochs):\n",
    "        cost_for_theta1 = L(x, y, theta0, theta1)\n",
    "        cost_history.append(cost_for_theta1)\n",
    "                    \n",
    "        if viz:\n",
    "            gradient_descent_viz(x, y, theta0, theta1)\n",
    "            \n",
    "        counter += 1\n",
    "        theta0, theta1 = update(x, y, theta0, theta1)\n",
    "        \n",
    "    print(f\"theta1: {theta1}\")\n",
    "    return cost_history, theta1\n"
   ]
  },
  {
   "cell_type": "code",
   "execution_count": 31,
   "metadata": {},
   "outputs": [
    {
     "name": "stdout",
     "output_type": "stream",
     "text": [
      "theta1: 19351.8035126978\n"
     ]
    }
   ],
   "source": [
    "cost_history, theta1 = gradient_descent(x=data['Zinc (mg/100g)'],\n",
    "                                        y=data['Phosphorus (mg/100g)'],\n",
    "                                        theta0=0,\n",
    "                                        theta1=-10,\n",
    "                                        num_epochs=5,\n",
    "                                        viz=True)"
   ]
  },
  {
   "cell_type": "code",
   "execution_count": 32,
   "metadata": {},
   "outputs": [
    {
     "data": {
      "text/plain": [
       "[30944.596320754714,\n",
       " 214102.84392615716,\n",
       " 1601368.5941733664,\n",
       " 12108710.12517079,\n",
       " 91692759.56151654]"
      ]
     },
     "execution_count": 32,
     "metadata": {},
     "output_type": "execute_result"
    }
   ],
   "source": [
    "cost_history"
   ]
  },
  {
   "cell_type": "code",
   "execution_count": null,
   "metadata": {},
   "outputs": [],
   "source": []
  },
  {
   "cell_type": "code",
   "execution_count": null,
   "metadata": {},
   "outputs": [],
   "source": []
  },
  {
   "cell_type": "markdown",
   "metadata": {},
   "source": [
    "To test your gradient descent function, you can run the following cell, check that you see the plots updating at each epoch and compare your results after the end of the 5 epochs:"
   ]
  },
  {
   "cell_type": "code",
   "execution_count": 33,
   "metadata": {},
   "outputs": [
    {
     "name": "stdout",
     "output_type": "stream",
     "text": [
      "theta1: 19351.8035126978\n"
     ]
    },
    {
     "data": {
      "text/plain": [
       "[30944.596320754714,\n",
       " 214102.84392615716,\n",
       " 1601368.5941733664,\n",
       " 12108710.12517079,\n",
       " 91692759.56151654]"
      ]
     },
     "execution_count": 33,
     "metadata": {},
     "output_type": "execute_result"
    }
   ],
   "source": [
    "cost_history, theta1 = gradient_descent(x=data['Zinc (mg/100g)'],\n",
    "                                        y=data['Phosphorus (mg/100g)'],\n",
    "                                        theta0=0,\n",
    "                                        theta1=-10,\n",
    "                                        num_epochs=5,\n",
    "                                        viz=False)\n",
    "cost_history\n",
    "# You should get:\n",
    "# [30944.596320754714,\n",
    "#  214102.84392615716,\n",
    "#  1601368.5941733664,\n",
    "#  12108710.12517079,\n",
    "#  91692759.56151654,\n",
    "#  694473292.201679]"
   ]
  },
  {
   "cell_type": "markdown",
   "metadata": {},
   "source": [
    "Passing the test means that you implemented correctly your gradient descent algorithm! This is great! However, it looks like it is not working 🤔.\n",
    "\n",
    "To investigate the issue, you can try to plot the cost history. Create a function that take the array of costs and plot it."
   ]
  },
  {
   "cell_type": "code",
   "execution_count": 34,
   "metadata": {},
   "outputs": [],
   "source": [
    "# Your code here\n",
    "def plot_cost_history(cost_history):\n",
    "    # TODO: plot the cost history\n",
    "    pass\n"
   ]
  },
  {
   "cell_type": "code",
   "execution_count": null,
   "metadata": {},
   "outputs": [],
   "source": []
  },
  {
   "cell_type": "code",
   "execution_count": null,
   "metadata": {},
   "outputs": [],
   "source": []
  },
  {
   "cell_type": "code",
   "execution_count": 35,
   "metadata": {},
   "outputs": [
    {
     "data": {
      "image/png": "[encoded data removed]",
      "text/plain": [
       "<Figure size 432x288 with 1 Axes>"
      ]
     },
     "metadata": {
      "needs_background": "light"
     },
     "output_type": "display_data"
    }
   ],
   "source": [
    "def plot_cost_history(cost_history):\n",
    "    plt.plot(cost_history)\n",
    "    plt.xlabel(\"Epoch\")\n",
    "    plt.ylabel(\"Cost\")\n",
    "\n",
    "plot_cost_history(cost_history)"
   ]
  },
  {
   "cell_type": "code",
   "execution_count": null,
   "metadata": {},
   "outputs": [],
   "source": []
  },
  {
   "cell_type": "code",
   "execution_count": null,
   "metadata": {},
   "outputs": [],
   "source": []
  },
  {
   "cell_type": "markdown",
   "metadata": {},
   "source": [
    "If you managed to plot the cost evolution, you can see that the algorithm is getting worse and worse. You will understand why in the next section!"
   ]
  },
  {
   "cell_type": "markdown",
   "metadata": {},
   "source": [
    "### Learning Rate\n"
   ]
  },
  {
   "cell_type": "markdown",
   "metadata": {},
   "source": [
    "If you look at the evolution of the cost, you can see that it increases at each epoch. This is not good: it should be decreasing in order to find the minimum of the cost function! This illustrate one common problem with gradient descent: a too large *learning rate*.\n",
    "\n",
    "<img src=\"images/learning_rate.png\" width=\"400px\">\n",
    "\n",
    "The learning rate, named $\\alpha$ (alpha) is simply a number that we use to scale the parameter update: instead of subtracting the derivative from `theta1`, we will multiply the derivative with a small number (for instance $\\alpha=0.1$) before doing the subtraction.\n",
    "\n",
    "You can create a new `update()` function that implements the learning rate. Make it as a parameter: it will allows us to play with this hyper-parameter!"
   ]
  },
  {
   "cell_type": "code",
   "execution_count": 36,
   "metadata": {},
   "outputs": [],
   "source": [
    "# Your code here\n",
    "def update_lr(x, y, theta0, theta1, alpha):\n",
    "    # TODO: add the learning to the update function\n",
    "    pass"
   ]
  },
  {
   "cell_type": "code",
   "execution_count": null,
   "metadata": {},
   "outputs": [],
   "source": []
  },
  {
   "cell_type": "code",
   "execution_count": null,
   "metadata": {},
   "outputs": [],
   "source": []
  },
  {
   "cell_type": "code",
   "execution_count": 37,
   "metadata": {},
   "outputs": [],
   "source": [
    "def update_lr(x, y, theta0, theta1, alpha):\n",
    "    new_theta1 =  theta1 - (alpha * (cost_function_derivative(x, y, theta0, theta1)))\n",
    "    return theta0, new_theta1\n"
   ]
  },
  {
   "cell_type": "code",
   "execution_count": null,
   "metadata": {},
   "outputs": [],
   "source": []
  },
  {
   "cell_type": "code",
   "execution_count": null,
   "metadata": {},
   "outputs": [],
   "source": []
  },
  {
   "cell_type": "markdown",
   "metadata": {},
   "source": [
    "To test your new `update_lr()` function, you can run the following cell:"
   ]
  },
  {
   "cell_type": "code",
   "execution_count": 38,
   "metadata": {},
   "outputs": [
    {
     "data": {
      "text/plain": [
       "(0, 1245.3562264150944)"
      ]
     },
     "execution_count": 38,
     "metadata": {},
     "output_type": "execute_result"
    }
   ],
   "source": [
    "update_lr(x=data['Zinc (mg/100g)'],\n",
    "          y=data['Phosphorus (mg/100g)'],\n",
    "          theta0=0,\n",
    "          theta1=-300,\n",
    "          alpha=1)\n",
    "# You should get (0, 1245.3562264150944)"
   ]
  },
  {
   "cell_type": "code",
   "execution_count": 39,
   "metadata": {},
   "outputs": [
    {
     "data": {
      "text/plain": [
       "(0, -145.46437735849054)"
      ]
     },
     "execution_count": 39,
     "metadata": {},
     "output_type": "execute_result"
    }
   ],
   "source": [
    "update_lr(x=data['Zinc (mg/100g)'],\n",
    "          y=data['Phosphorus (mg/100g)'],\n",
    "          theta0=0,\n",
    "          theta1=-300,\n",
    "          alpha=0.1)\n",
    "# You should get (0, -145.46437735849054)"
   ]
  },
  {
   "cell_type": "markdown",
   "metadata": {},
   "source": [
    "Now, you can modify the function `gradient_descent()` to be sure that it uses the update including the learning rate. Use also $\\alpha$ as a parameter of this function."
   ]
  },
  {
   "cell_type": "code",
   "execution_count": 40,
   "metadata": {},
   "outputs": [],
   "source": [
    "# Your code here\n",
    "def gradient_descent_lr(x, y, theta0, theta1, alpha, num_epochs=5, viz=True):\n",
    "    # TODO: this function should be similar to gradient_descent() but using\n",
    "    # the learning rate\n",
    "    pass"
   ]
  },
  {
   "cell_type": "code",
   "execution_count": null,
   "metadata": {},
   "outputs": [],
   "source": []
  },
  {
   "cell_type": "code",
   "execution_count": null,
   "metadata": {},
   "outputs": [],
   "source": []
  },
  {
   "cell_type": "code",
   "execution_count": 41,
   "metadata": {},
   "outputs": [],
   "source": [
    "def gradient_descent_lr(x, y, theta0, theta1, alpha, num_epochs=5, viz=True):\n",
    "    cost_history = []\n",
    "    counter = 0\n",
    "    for epoch in range(num_epochs):\n",
    "        cost_for_theta1 = L(x, y, theta0, theta1)\n",
    "        cost_history.append(cost_for_theta1)\n",
    "                    \n",
    "        if viz:\n",
    "            gradient_descent_viz(x, y, theta0, theta1)\n",
    "            \n",
    "        counter += 1\n",
    "        theta0, theta1 = update_lr(x, y, theta0, theta1, alpha)\n",
    "        \n",
    "    print(f\"theta1: {theta1}\")\n",
    "    return cost_history, theta1"
   ]
  },
  {
   "cell_type": "code",
   "execution_count": null,
   "metadata": {},
   "outputs": [],
   "source": []
  },
  {
   "cell_type": "code",
   "execution_count": null,
   "metadata": {},
   "outputs": [],
   "source": []
  },
  {
   "cell_type": "markdown",
   "metadata": {},
   "source": [
    "To check this new function, you will train your linear regression algorithm with a learning rate $\\alpha$ of 0.1. Then, plot the evolution of the cost to see if it is better! To make it more visual, you can start with a very bad `theta1` value. Use -300 as an initial value of `theta1`, and still 5 epochs.\n"
   ]
  },
  {
   "cell_type": "code",
   "execution_count": 42,
   "metadata": {},
   "outputs": [],
   "source": [
    "# Your code here\n"
   ]
  },
  {
   "cell_type": "code",
   "execution_count": null,
   "metadata": {},
   "outputs": [],
   "source": []
  },
  {
   "cell_type": "code",
   "execution_count": null,
   "metadata": {},
   "outputs": [],
   "source": []
  },
  {
   "cell_type": "code",
   "execution_count": 43,
   "metadata": {},
   "outputs": [
    {
     "name": "stdout",
     "output_type": "stream",
     "text": [
      "theta1: 72.65082244878946\n"
     ]
    }
   ],
   "source": [
    "cost_history, best_theta1 = gradient_descent_lr(x=data['Zinc (mg/100g)'],\n",
    "                                             y=data['Phosphorus (mg/100g)'],\n",
    "                                             theta0=0,\n",
    "                                             theta1=-300,\n",
    "                                             alpha=0.1,\n",
    "                                             num_epochs=5,\n",
    "                                             viz=True)"
   ]
  },
  {
   "cell_type": "code",
   "execution_count": 44,
   "metadata": {},
   "outputs": [
    {
     "data": {
      "image/png": "[encoded data removed]",
      "text/plain": [
       "<Figure size 432x288 with 1 Axes>"
      ]
     },
     "metadata": {
      "needs_background": "light"
     },
     "output_type": "display_data"
    }
   ],
   "source": [
    "plot_cost_history(cost_history)"
   ]
  },
  {
   "cell_type": "code",
   "execution_count": null,
   "metadata": {},
   "outputs": [],
   "source": []
  },
  {
   "cell_type": "code",
   "execution_count": null,
   "metadata": {},
   "outputs": [],
   "source": []
  },
  {
   "cell_type": "markdown",
   "metadata": {},
   "source": [
    "That's better! The cost is decreasing: this means that your algorithm is learning. As a final step, you can train your algorithm with more epochs (`viz=False` to speed up the learning phase) and plot the regression line. You can play with the initial value of `theta1`, or the value of the hyper-parameter `alpha` to see if you can get a lower cost."
   ]
  },
  {
   "cell_type": "code",
   "execution_count": 45,
   "metadata": {},
   "outputs": [],
   "source": [
    "# Your code here\n"
   ]
  },
  {
   "cell_type": "code",
   "execution_count": null,
   "metadata": {},
   "outputs": [],
   "source": []
  },
  {
   "cell_type": "code",
   "execution_count": null,
   "metadata": {},
   "outputs": [],
   "source": []
  },
  {
   "cell_type": "code",
   "execution_count": 46,
   "metadata": {},
   "outputs": [
    {
     "name": "stdout",
     "output_type": "stream",
     "text": [
      "theta1: 111.87815015117488\n"
     ]
    }
   ],
   "source": [
    "cost_history, best_theta1 = gradient_descent_lr(x=data['Zinc (mg/100g)'],\n",
    "                                             y=data['Phosphorus (mg/100g)'],\n",
    "                                             theta0=0,\n",
    "                                             theta1=300,\n",
    "                                             alpha=0.1,\n",
    "                                             num_epochs=20,\n",
    "                                             viz=False)"
   ]
  },
  {
   "cell_type": "code",
   "execution_count": 47,
   "metadata": {},
   "outputs": [
    {
     "name": "stdout",
     "output_type": "stream",
     "text": [
      "3084.175046393436\n"
     ]
    },
    {
     "data": {
      "image/png": "[encoded data removed]",
      "text/plain": [
       "<Figure size 432x288 with 1 Axes>"
      ]
     },
     "metadata": {
      "needs_background": "light"
     },
     "output_type": "display_data"
    }
   ],
   "source": [
    "plot_cost_history(cost_history)\n",
    "print(np.min(cost_history))"
   ]
  },
  {
   "cell_type": "code",
   "execution_count": 48,
   "metadata": {},
   "outputs": [
    {
     "data": {
      "image/png": "[encoded data removed]",
      "text/plain": [
       "<Figure size 432x288 with 1 Axes>"
      ]
     },
     "metadata": {
      "needs_background": "light"
     },
     "output_type": "display_data"
    }
   ],
   "source": [
    "plot_reg_line(x=data['Zinc (mg/100g)'],\n",
    "              y=data['Phosphorus (mg/100g)'],\n",
    "              theta0=0,\n",
    "              theta1=best_theta1)"
   ]
  },
  {
   "cell_type": "code",
   "execution_count": null,
   "metadata": {},
   "outputs": [],
   "source": []
  },
  {
   "cell_type": "code",
   "execution_count": null,
   "metadata": {},
   "outputs": [],
   "source": []
  },
  {
   "cell_type": "markdown",
   "metadata": {},
   "source": [
    "## Stochastic Gradient Descent\n",
    "\n",
    "The gradient descent algorithm we implemented used the whole dataset at each epoch. This is called *batch gradient descent*. It can be slow if the dataset is large. In contrary, with *stochastic gradient descent* (SGD), only one data sample is used at each iteration. This allows us to fit large datasets since only one sample would be in memory at a time. It can also be useful when the cost function is not perfectly convex and has local minima: the stochastic nature of the SGD makes it more equipped to escape those local minima.\n",
    "\n",
    "You will implement SGD by modifying the previous function `gradient_descent_lr()`. At each epoch, you will update `theta1` once per data sample. To avoid cycles, you can choose a random index at each step. The update uses only the data sample corresponding to the random index.\n",
    "\n",
    "To save the `cost_history`, take the average of the cost for an entire epoch. It will be useful to see if the cost is decreasing. And storing the cost at each step would be very noisy.\n"
   ]
  },
  {
   "cell_type": "code",
   "execution_count": 49,
   "metadata": {},
   "outputs": [],
   "source": [
    "# Your code here\n",
    "def SGD(x, y, theta0, theta1, alpha, num_epochs=5, viz=True):\n",
    "    # TODO: Implement the SGD algorithm\n",
    "    pass"
   ]
  },
  {
   "cell_type": "code",
   "execution_count": null,
   "metadata": {},
   "outputs": [],
   "source": []
  },
  {
   "cell_type": "code",
   "execution_count": null,
   "metadata": {},
   "outputs": [],
   "source": []
  },
  {
   "cell_type": "code",
   "execution_count": 50,
   "metadata": {},
   "outputs": [],
   "source": [
    "def SGD(x, y, theta0, theta1, alpha, num_epochs=5, viz=True):\n",
    "    cost_history = []\n",
    "    counter = 0\n",
    "    m = x.shape[0]\n",
    "    for epoch in range(num_epochs):\n",
    "        cost_epoch = []\n",
    "        for i in range(m):\n",
    "            random_index = np.random.randint(m)\n",
    "            \n",
    "            xi = x[random_index:random_index+1]\n",
    "            yi = y[random_index:random_index+1]\n",
    "        \n",
    "            cost_for_theta1 = L(xi, yi, theta0, theta1)\n",
    "            cost_epoch.append(cost_for_theta1)\n",
    "\n",
    "            if viz:\n",
    "                gradient_descent_viz(x, y, theta0, theta1)\n",
    "                \n",
    "            counter += 1\n",
    "            theta0, theta1 = update_lr(xi, yi, theta0, theta1, alpha)\n",
    "        cost_history.append(np.mean(cost_epoch))\n",
    "        \n",
    "    print(f\"theta1: {theta1}\")\n",
    "    return cost_history, theta1"
   ]
  },
  {
   "cell_type": "code",
   "execution_count": null,
   "metadata": {},
   "outputs": [],
   "source": []
  },
  {
   "cell_type": "code",
   "execution_count": null,
   "metadata": {},
   "outputs": [],
   "source": []
  },
  {
   "cell_type": "markdown",
   "metadata": {},
   "source": [
    "You can look at how the cost is decreasing using your function and plotting the cost history."
   ]
  },
  {
   "cell_type": "code",
   "execution_count": null,
   "metadata": {},
   "outputs": [],
   "source": [
    "# Your code here\n"
   ]
  },
  {
   "cell_type": "code",
   "execution_count": null,
   "metadata": {},
   "outputs": [],
   "source": []
  },
  {
   "cell_type": "code",
   "execution_count": null,
   "metadata": {},
   "outputs": [],
   "source": []
  },
  {
   "cell_type": "code",
   "execution_count": 51,
   "metadata": {},
   "outputs": [
    {
     "name": "stdout",
     "output_type": "stream",
     "text": [
      "theta1: 105.5127750161261\n"
     ]
    }
   ],
   "source": [
    "cost_history, best_theta1 = SGD(x=data['Zinc (mg/100g)'],\n",
    "                                             y=data['Phosphorus (mg/100g)'],\n",
    "                                             theta0=0,\n",
    "                                             theta1=300,\n",
    "                                             alpha=0.01,\n",
    "                                             num_epochs=15,\n",
    "                                             viz=False)"
   ]
  },
  {
   "cell_type": "code",
   "execution_count": 52,
   "metadata": {},
   "outputs": [
    {
     "data": {
      "text/plain": [
       "[<matplotlib.lines.Line2D at 0x7fc958a87278>]"
      ]
     },
     "execution_count": 52,
     "metadata": {},
     "output_type": "execute_result"
    },
    {
     "data": {
      "image/png": "[encoded data removed]",
      "text/plain": [
       "<Figure size 432x288 with 1 Axes>"
      ]
     },
     "metadata": {
      "needs_background": "light"
     },
     "output_type": "display_data"
    }
   ],
   "source": [
    "plt.plot(cost_history)"
   ]
  },
  {
   "cell_type": "code",
   "execution_count": null,
   "metadata": {},
   "outputs": [],
   "source": []
  },
  {
   "cell_type": "code",
   "execution_count": null,
   "metadata": {},
   "outputs": [],
   "source": []
  },
  {
   "cell_type": "markdown",
   "metadata": {},
   "source": [
    "Congratulation! To conclude, the cost history plot shows that the cost is decreasing but is way more noisy than with batch gradient descent. This is due to the stochastic aspect of the algorithm. This is also possible to make a trade-off between these approaches and fit a certain number of data sample at each step (and not the whole dataset like with batch gradient descent or a single sample with stochastic gradient descent).\n"
   ]
  }
 ],
 "metadata": {
  "kernelspec": {
   "display_name": "Python 3",
   "language": "python",
   "name": "python3"
  },
  "language_info": {
   "codemirror_mode": {
    "name": "ipython",
    "version": 3
   },
   "file_extension": ".py",
   "mimetype": "text/x-python",
   "name": "python",
   "nbconvert_exporter": "python",
   "pygments_lexer": "ipython3",
   "version": "3.7.2"
  },
  "toc": {
   "base_numbering": 1,
   "nav_menu": {},
   "number_sections": false,
   "sideBar": true,
   "skip_h1_title": false,
   "title_cell": "Table of Contents",
   "title_sidebar": "Contents",
   "toc_cell": false,
   "toc_position": {},
   "toc_section_display": true,
   "toc_window_display": false
  }
 },
 "nbformat": 4,
 "nbformat_minor": 2
}
