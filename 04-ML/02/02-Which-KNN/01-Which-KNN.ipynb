{
 "cells": [
  {
   "cell_type": "markdown",
   "metadata": {},
   "source": [
    "# Which k for my kNN?\n",
    "\n",
    "<br>\n",
    "\n",
    "<figure>\n",
    "<img src=\"https://i.ibb.co/4g5h7m6/visualize-1255x420.png\" alt=\"visualize-1255x420\" border=\"0\" width=\"90%\">\n",
    "  <figcaption style=\"text-align: center; color: #777; font-weight: bold\">Binary classification with kNN - <a href=\"https://blog.eduonix.com/artificial-intelligence/everything-need-know-k-nearest-neighbors-algorithm/\">blog.eduonix.com</a></figcaption>\n",
    "</figure>\n",
    "\n",
    "### Introduction\n",
    "\n",
    "In this exercice we are going to find the **most accurate** **k** for a **kNN classifier**.<br>\n",
    "We are still trying to differenciate **pro** from **amateur** basket-ball players.\n",
    "\n",
    "**Dataset:** \"../data/Basket_Ball_Players.csv\"<br>\n",
    "\n",
    "**Columns:** <br>\n",
    "**\"Height\"**, range [150, 220], height in centimeter <br>\n",
    "**\"3-Pointers\"**, range [0, 30], 3-Pointers done in one minutes <br>\n",
    "**\"Pro-Player\"**, range [0,1] <br>\n",
    "\n",
    "### Exercise questions:\n",
    "\n",
    "1. What is the **error rate** with **k=1**?\n",
    "2. Which **k** give us the best **accuracy**?\n",
    "3. What is the **accuracy** of the **best k**?\n",
    "4. With the best **k**, is Paul classified as a **Pro-Player**?"
   ]
  },
  {
   "cell_type": "markdown",
   "metadata": {},
   "source": [
    "## 1/ Data exploration\n",
    "\n",
    "We are **re-using** the same **dataset** as the last exercise, so we just need to **import our libraries** and the **dataset**."
   ]
  },
  {
   "cell_type": "code",
   "execution_count": 1,
   "metadata": {},
   "outputs": [],
   "source": [
    "# The usual imports"
   ]
  },
  {
   "cell_type": "code",
   "execution_count": 2,
   "metadata": {
    "scrolled": true
   },
   "outputs": [],
   "source": [
    "# import ../data/Basket_Ball_Players.csv dataset"
   ]
  },
  {
   "cell_type": "markdown",
   "metadata": {},
   "source": [
    "## 2/ Mesure the error rate of multiple kNN\n",
    "\n",
    "In order to find the best k value for our kNN we need to train multiple model with different k values.<br>\n",
    "For each model we will take a note of the accuracy. That way we can compare the model and select the best one.<br>\n",
    "The metrics we want to use here is the **error rate**, which is 1 minus the accuracy.\n",
    "\n",
    "So, let's follow these steps:\n",
    "1. **Split** the data with a **trainning** and **test** dataset. [[ DOC ] - scikit-learn.train_test_split](https://scikit-learn.org/stable/modules/generated/sklearn.model_selection.train_test_split.html)\n",
    "2. **Iterate** through k in range [1,50]<br>\n",
    "    a. train your model with k<br>\n",
    "    b. compute the error rate<br>\n",
    "    c. append the new error rate to the array with the error rates<br>"
   ]
  },
  {
   "cell_type": "code",
   "execution_count": 5,
   "metadata": {},
   "outputs": [],
   "source": [
    "# Split the data with a trainning and test dataset\n",
    "#   Please use `test_size=0.33, random_state=42` as parameter of your train_test_split()\n",
    "#   That way we all have the same results\n"
   ]
  },
  {
   "cell_type": "code",
   "execution_count": 4,
   "metadata": {},
   "outputs": [],
   "source": [
    "# 2. **Iterate** through k in range [1,50]\n",
    "#    a. train your model with k\n",
    "#    b. compute the error rate\n",
    "#    c. append the new error rate to the array with the error rates\n"
   ]
  },
  {
   "cell_type": "markdown",
   "metadata": {},
   "source": [
    "## 3/ Finding the best K with the elbow method\n",
    "\n",
    "To do that we can:\n",
    "1. **Plot** the **error rate** for each k\n",
    "2. **Select** the best candidates with the elbow method"
   ]
  },
  {
   "cell_type": "code",
   "execution_count": null,
   "metadata": {},
   "outputs": [],
   "source": []
  },
  {
   "cell_type": "markdown",
   "metadata": {},
   "source": [
    "### What is the error rate with k=1 ?"
   ]
  },
  {
   "cell_type": "code",
   "execution_count": 10,
   "metadata": {},
   "outputs": [],
   "source": [
    "question_k1_error_rate = None # enter the error rate for k=1"
   ]
  },
  {
   "cell_type": "markdown",
   "metadata": {},
   "source": [
    "### Which k give us the best accuracy?"
   ]
  },
  {
   "cell_type": "code",
   "execution_count": 7,
   "metadata": {},
   "outputs": [],
   "source": [
    "question_best_k = None # enter best k you found"
   ]
  },
  {
   "cell_type": "markdown",
   "metadata": {},
   "source": [
    "### What is the mean accuracy of the best k?"
   ]
  },
  {
   "cell_type": "code",
   "execution_count": 8,
   "metadata": {},
   "outputs": [],
   "source": [
    "question_best_k_accuracy = None # enter the mean accuracy of the best k"
   ]
  },
  {
   "cell_type": "markdown",
   "metadata": {},
   "source": [
    "### With the best k, is Paul classified as a Pro-Player?"
   ]
  },
  {
   "cell_type": "code",
   "execution_count": 9,
   "metadata": {},
   "outputs": [],
   "source": [
    "question_paul_is_pro_2 = None # enter True or False"
   ]
  }
 ],
 "metadata": {
  "kernelspec": {
   "display_name": "Python 3",
   "language": "python",
   "name": "python3"
  },
  "language_info": {
   "codemirror_mode": {
    "name": "ipython",
    "version": 3
   },
   "file_extension": ".py",
   "mimetype": "text/x-python",
   "name": "python",
   "nbconvert_exporter": "python",
   "pygments_lexer": "ipython3",
   "version": "3.7.2"
  },
  "toc": {
   "base_numbering": 1,
   "nav_menu": {},
   "number_sections": false,
   "sideBar": true,
   "skip_h1_title": false,
   "title_cell": "Table of Contents",
   "title_sidebar": "Contents",
   "toc_cell": false,
   "toc_position": {},
   "toc_section_display": true,
   "toc_window_display": false
  }
 },
 "nbformat": 4,
 "nbformat_minor": 2
}
