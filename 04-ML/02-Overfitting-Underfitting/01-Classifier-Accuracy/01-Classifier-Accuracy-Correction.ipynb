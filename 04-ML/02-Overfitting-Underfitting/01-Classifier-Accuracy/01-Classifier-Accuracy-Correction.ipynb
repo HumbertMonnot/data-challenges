{
 "cells": [
  {
   "cell_type": "markdown",
   "metadata": {},
   "source": [
    "# Classifier Accuracy\n",
    "\n",
    "<br>\n",
    "\n",
    "<figure>\n",
    "<img src=\"https://i.ibb.co/PjwJZD9/Screen-Shot-2019-09-28-at-15-19-47.png\" alt=\"Accuracy vs precision\" border=\"0\" width=\"50%\">\n",
    "  <figcaption style=\"text-align: center; color: #777; font-weight: bold\"><a href=\"https://en.wikipedia.org/wiki/Accuracy_and_precision\">Accuracy and precision - Wikipedia</a></figcaption>\n",
    "</figure>\n",
    "\n",
    "### Introduction\n",
    "\n",
    "In this exercice we are going to find how **accurate** is our **kNN classifier**.<br>\n",
    "We will also try to differenciate **pro** from **amateur** basket-ball players.\n",
    "\n",
    "**Dataset:** \"../data/Basket_Ball_Players.csv\"<br>\n",
    "\n",
    "**Columns:** <br>\n",
    "**\"Height\"**, range [150, 220], height in centimeter <br>\n",
    "**\"3-Pointers\"**, range [0, 30], 3-Pointers done in one minutes <br>\n",
    "**\"Pro-Player\"**, range [0,1] <br>\n",
    "\n",
    "### Exercise questions:\n",
    "\n",
    "1. With **k=1**, is Paul classified as a **Pro-Player**?\n",
    "2. What is the mean accuracy of our kNN with n=1?\n",
    "3. What is the weighted f1-score of our kNN with n=1?\n",
    "4. Fill-in the blanks."
   ]
  },
  {
   "cell_type": "markdown",
   "metadata": {},
   "source": [
    "## 1/ Data exploration\n",
    "\n",
    "As usual before we start working on our model let's **visualise** our **data**."
   ]
  },
  {
   "cell_type": "code",
   "execution_count": 1,
   "metadata": {},
   "outputs": [],
   "source": [
    "# The usual imports\n",
    "\n",
    "import numpy as np\n",
    "import pandas as pd\n",
    "import seaborn as sns\n",
    "import matplotlib.pyplot as plt\n",
    "%matplotlib inline"
   ]
  },
  {
   "cell_type": "code",
   "execution_count": 2,
   "metadata": {},
   "outputs": [
    {
     "data": {
      "text/html": [
       "<div>\n",
       "<style scoped>\n",
       "    .dataframe tbody tr th:only-of-type {\n",
       "        vertical-align: middle;\n",
       "    }\n",
       "\n",
       "    .dataframe tbody tr th {\n",
       "        vertical-align: top;\n",
       "    }\n",
       "\n",
       "    .dataframe thead th {\n",
       "        text-align: right;\n",
       "    }\n",
       "</style>\n",
       "<table border=\"1\" class=\"dataframe\">\n",
       "  <thead>\n",
       "    <tr style=\"text-align: right;\">\n",
       "      <th></th>\n",
       "      <th>Height</th>\n",
       "      <th>3-Pointers</th>\n",
       "      <th>Pro-Player</th>\n",
       "    </tr>\n",
       "  </thead>\n",
       "  <tbody>\n",
       "    <tr>\n",
       "      <th>0</th>\n",
       "      <td>187</td>\n",
       "      <td>24</td>\n",
       "      <td>1</td>\n",
       "    </tr>\n",
       "    <tr>\n",
       "      <th>1</th>\n",
       "      <td>210</td>\n",
       "      <td>15</td>\n",
       "      <td>0</td>\n",
       "    </tr>\n",
       "    <tr>\n",
       "      <th>2</th>\n",
       "      <td>184</td>\n",
       "      <td>15</td>\n",
       "      <td>0</td>\n",
       "    </tr>\n",
       "    <tr>\n",
       "      <th>3</th>\n",
       "      <td>208</td>\n",
       "      <td>19</td>\n",
       "      <td>1</td>\n",
       "    </tr>\n",
       "    <tr>\n",
       "      <th>4</th>\n",
       "      <td>175</td>\n",
       "      <td>15</td>\n",
       "      <td>0</td>\n",
       "    </tr>\n",
       "  </tbody>\n",
       "</table>\n",
       "</div>"
      ],
      "text/plain": [
       "   Height  3-Pointers  Pro-Player\n",
       "0     187          24           1\n",
       "1     210          15           0\n",
       "2     184          15           0\n",
       "3     208          19           1\n",
       "4     175          15           0"
      ]
     },
     "execution_count": 2,
     "metadata": {},
     "output_type": "execute_result"
    }
   ],
   "source": [
    "# import Basket_Ball_Players.csv dataset\n",
    "\n",
    "df = pd.read_csv(\"../data/Basket_Ball_Players.csv\")\n",
    "df.head()"
   ]
  },
  {
   "cell_type": "code",
   "execution_count": 3,
   "metadata": {},
   "outputs": [
    {
     "name": "stdout",
     "output_type": "stream",
     "text": [
      "<class 'pandas.core.frame.DataFrame'>\n",
      "RangeIndex: 500 entries, 0 to 499\n",
      "Data columns (total 3 columns):\n",
      "Height        500 non-null int64\n",
      "3-Pointers    500 non-null int64\n",
      "Pro-Player    500 non-null int64\n",
      "dtypes: int64(3)\n",
      "memory usage: 11.8 KB\n"
     ]
    }
   ],
   "source": [
    "# Look at the dataset info\n",
    "\n",
    "df.info()"
   ]
  },
  {
   "cell_type": "code",
   "execution_count": 4,
   "metadata": {},
   "outputs": [
    {
     "data": {
      "text/plain": [
       "<matplotlib.axes._subplots.AxesSubplot at 0x1a18527d30>"
      ]
     },
     "execution_count": 4,
     "metadata": {},
     "output_type": "execute_result"
    },
    {
     "data": {
      "image/png": "[encoded data removed]",
      "text/plain": [
       "<Figure size 432x288 with 1 Axes>"
      ]
     },
     "metadata": {
      "needs_background": "light"
     },
     "output_type": "display_data"
    }
   ],
   "source": [
    "# Create a scatterplot where we can see:\n",
    "# - his number of 3 pointer, on the X-axis\n",
    "# - the height of the player, on the Y-axis\n",
    "# - if he is a Pro-Player, with the color of the dot.\n",
    "\n",
    "sns.scatterplot(x=\"3-Pointers\", y=\"Height\", data=df, hue=\"Pro-Player\")"
   ]
  },
  {
   "cell_type": "markdown",
   "metadata": {},
   "source": [
    "We should see a clear distinction between the pro and the amateur player."
   ]
  },
  {
   "cell_type": "markdown",
   "metadata": {},
   "source": [
    "## 2/ Model creation\n",
    "\n",
    "Let's use the **kNN model** from scikit-learn to **predict** if a player is **pro** or an **amateur**. <br>\n",
    "This time we will also take a look at the **prediction** **accuracy**.\n",
    "\n",
    "The player we want to classify here is be called **Paul**, here is his attributes: `{\"Height\": [209], \"3-Pointers\": [20]}`\n",
    "\n",
    "So, let's follow these steps:\n",
    "1. **Split** the data with a **trainning** and **test** dataset. [[ DOC ] - scikit-learn.train_test_split](https://scikit-learn.org/stable/modules/generated/sklearn.model_selection.train_test_split.html)\n",
    "2. **Train** the model with **k=1** and the **trainning data**. [[ DOC ] - scikit-learn.KNeighborgsClassifier](https://scikit-learn.org/stable/modules/generated/sklearn.neighbors.KNeighborsClassifier.html)\n",
    "3. **Classify** Paul."
   ]
  },
  {
   "cell_type": "code",
   "execution_count": 5,
   "metadata": {},
   "outputs": [],
   "source": [
    "# Split the data with a trainning and test dataset\n",
    "#   Please use `test_size=0.33, random_state=42` as parameter of your train_test_split()\n",
    "#   That way we all have the same results\n",
    "\n",
    "from sklearn.model_selection import train_test_split\n",
    "\n",
    "X = df[['Height', '3-Pointers']]\n",
    "y = df[['Pro-Player']]\n",
    "\n",
    "X_train, X_test, y_train, y_test = train_test_split(X, y, test_size=0.33, random_state=42)"
   ]
  },
  {
   "cell_type": "code",
   "execution_count": 6,
   "metadata": {},
   "outputs": [
    {
     "name": "stderr",
     "output_type": "stream",
     "text": [
      "/Users/gaetan/anaconda3/lib/python3.7/site-packages/ipykernel_launcher.py:6: DataConversionWarning: A column-vector y was passed when a 1d array was expected. Please change the shape of y to (n_samples, ), for example using ravel().\n",
      "  \n"
     ]
    },
    {
     "data": {
      "text/plain": [
       "KNeighborsClassifier(algorithm='auto', leaf_size=30, metric='minkowski',\n",
       "                     metric_params=None, n_jobs=None, n_neighbors=1, p=2,\n",
       "                     weights='uniform')"
      ]
     },
     "execution_count": 6,
     "metadata": {},
     "output_type": "execute_result"
    }
   ],
   "source": [
    "# Train the model with k=1 and the trainning data\n",
    "\n",
    "from sklearn.neighbors import KNeighborsClassifier\n",
    "\n",
    "one_neigh = KNeighborsClassifier(n_neighbors=1)\n",
    "one_neigh.fit(X_train, y_train)"
   ]
  },
  {
   "cell_type": "markdown",
   "metadata": {},
   "source": [
    "### With k=1, is Paul classified as a Pro-Player?"
   ]
  },
  {
   "cell_type": "code",
   "execution_count": 14,
   "metadata": {},
   "outputs": [
    {
     "data": {
      "text/plain": [
       "array([1])"
      ]
     },
     "execution_count": 14,
     "metadata": {},
     "output_type": "execute_result"
    }
   ],
   "source": [
    "# Classify Paul.\n",
    "paul = pd.DataFrame(data={\"Height\": [209], \"3-Pointers\": [20]})\n",
    "one_neigh.predict(paul)"
   ]
  },
  {
   "cell_type": "code",
   "execution_count": 8,
   "metadata": {},
   "outputs": [],
   "source": [
    "question_paul_is_pro = True # enter True or False"
   ]
  },
  {
   "cell_type": "markdown",
   "metadata": {},
   "source": [
    "## 3/ Model metrics\n",
    "\n",
    "Can we really **trust** this **prediction**?<br>\n",
    "To answer that question we need to **check** the **accuracy** of our model with our **test data**.<br>\n",
    "[[ DOC ] - scikit-learn.classification_report](\n",
    "https://scikit-learn.org/stable/modules/generated/sklearn.metrics.classification_report.html)<br>\n",
    "[[ DOC ] - scikit-learn.KNeighborsClassifier.score ](https://scikit-learn.org/stable/modules/generated/sklearn.neighbors.KNeighborsClassifier.html#sklearn.neighbors.KNeighborsClassifier.score)"
   ]
  },
  {
   "cell_type": "code",
   "execution_count": 15,
   "metadata": {},
   "outputs": [
    {
     "data": {
      "text/plain": [
       "0.7878787878787878"
      ]
     },
     "execution_count": 15,
     "metadata": {},
     "output_type": "execute_result"
    }
   ],
   "source": [
    "# Check the score of our model with our test data\n",
    "one_neigh.score(X_test, y_test)"
   ]
  },
  {
   "cell_type": "code",
   "execution_count": 10,
   "metadata": {},
   "outputs": [
    {
     "name": "stdout",
     "output_type": "stream",
     "text": [
      "              precision    recall  f1-score   support\n",
      "\n",
      "           0       0.80      0.82      0.81        90\n",
      "           1       0.78      0.75      0.76        75\n",
      "\n",
      "    accuracy                           0.79       165\n",
      "   macro avg       0.79      0.78      0.79       165\n",
      "weighted avg       0.79      0.79      0.79       165\n",
      "\n"
     ]
    }
   ],
   "source": [
    "# Check the classification report of our model with our test data\n",
    "\n",
    "from sklearn.metrics import classification_report\n",
    "\n",
    "y_prediction = one_neigh.predict(X_test)\n",
    "print(classification_report(y_test, y_prediction))"
   ]
  },
  {
   "cell_type": "markdown",
   "metadata": {},
   "source": [
    "### What is the mean accuracy of our kNN with n=1?"
   ]
  },
  {
   "cell_type": "code",
   "execution_count": 11,
   "metadata": {},
   "outputs": [],
   "source": [
    "question_mean_accuracy = 0.79 # enter the mean accuracy found for k=1 (rounded to the second decimal, ex: 0.23)"
   ]
  },
  {
   "cell_type": "markdown",
   "metadata": {},
   "source": [
    "### What is the weighted f1-score of our kNN with n=1?"
   ]
  },
  {
   "cell_type": "code",
   "execution_count": 12,
   "metadata": {},
   "outputs": [],
   "source": [
    "question_f1_score = 0.79 # enter the f1-score found for k=1 (rounded to the second decimal, ex: 0.23)"
   ]
  },
  {
   "cell_type": "markdown",
   "metadata": {},
   "source": [
    "### Fill-in the blanks 🤓📚\n",
    "\n",
    "Let's make sure we **understand** each **metrics** in this **classification report**.<br>\n",
    "Here is some usefull **documentation**:<br>\n",
    "- [[ DOC ] Metrics - Scikit-learn](https://scikit-learn.org/stable/modules/generated/sklearn.metrics.precision_recall_fscore_support.html#sklearn.metrics.precision_recall_fscore_support)\n",
    "- [[ DOC ] F1-Score - Wikipedia](https://en.wikipedia.org/wiki/F1_score)\n",
    "- [[ DOC ] Accuracy and precision - Wikipedia](https://en.wikipedia.org/wiki/Accuracy_and_precision)\n",
    "- [[ DOC ] Precision and recall - Wikipedia](https://en.wikipedia.org/wiki/Precision_and_recall)\n",
    "\n",
    "*tips: each word can only be used once*"
   ]
  },
  {
   "cell_type": "code",
   "execution_count": 16,
   "metadata": {},
   "outputs": [],
   "source": [
    "answer_precision = \"precision\"\n",
    "answer_support = \"support\"\n",
    "answer_recall = \"recall\"\n",
    "answer_accuracy = \"accuracy\"\n",
    "answer_f1_score = \"f1-score\"\n",
    "\n",
    "question_metrics_1 = f\"{answer_support} is the number of occurrences of each class in y_true.\"\n",
    "question_metrics_2 = f\"{answer_f1_score} is the harmonic mean of the precision and recall.\"\n",
    "question_metrics_3 = f\"{answer_recall} is defined as (true_positive / true_positive + false_negative)\"\n",
    "question_metrics_4 = f\"{answer_precision} is a description of random errors, a measure of statistical variability.\"\n",
    "question_metrics_5 = f\"{answer_accuracy} is a description of systematic errors, a measure of statistical bias.\""
   ]
  },
  {
   "cell_type": "markdown",
   "metadata": {},
   "source": [
    "### Would you trust this model with his current perfomances?\n",
    "\n",
    "Acctually this is a quite challenging question.<br>\n",
    "An intresting **answer** is given by **Corrin Lakeland** on Quora:\n",
    ">  I believe a model is ready for production when it **outperforms the status quo** and, most important, **doors not** generate **nasty surprises**.<br> <br>Corrin Lakeland, PhD Computer Science, University of Otago (2006)\n",
    "\n",
    "You can read more answers about this topic here:<br> [Quora - How do you know when your machine learning model is good enough to be put into production](https://www.quora.com/How-do-you-know-when-your-machine-learning-model-is-good-enough-to-be-put-into-production)"
   ]
  }
 ],
 "metadata": {
  "kernelspec": {
   "display_name": "Python 3",
   "language": "python",
   "name": "python3"
  },
  "language_info": {
   "codemirror_mode": {
    "name": "ipython",
    "version": 3
   },
   "file_extension": ".py",
   "mimetype": "text/x-python",
   "name": "python",
   "nbconvert_exporter": "python",
   "pygments_lexer": "ipython3",
   "version": "3.7.3"
  }
 },
 "nbformat": 4,
 "nbformat_minor": 2
}
