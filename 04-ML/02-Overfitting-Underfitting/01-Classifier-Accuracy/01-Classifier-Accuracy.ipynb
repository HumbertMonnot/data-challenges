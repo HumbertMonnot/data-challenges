{
 "cells": [
  {
   "cell_type": "markdown",
   "metadata": {},
   "source": [
    "# Classifier Accuracy\n",
    "\n",
    "<br>\n",
    "\n",
    "<figure>\n",
    "<img src=\"https://i.ibb.co/PjwJZD9/Screen-Shot-2019-09-28-at-15-19-47.png\" alt=\"Accuracy vs precision\" border=\"0\" width=\"50%\">\n",
    "  <figcaption style=\"text-align: center; color: #777; font-weight: bold\"><a href=\"https://en.wikipedia.org/wiki/Accuracy_and_precision\">Accuracy and precision - Wikipedia</a></figcaption>\n",
    "</figure>\n",
    "\n",
    "### Introduction\n",
    "\n",
    "In this exercice we are going to find how **accurate** is our **kNN classifier**.<br>\n",
    "We will also try to differenciate **pro** from **amateur** basket-ball players.\n",
    "\n",
    "**Dataset:** \"../data/Basket_Ball_Players.csv\"<br>\n",
    "\n",
    "**Columns:** <br>\n",
    "**\"Height\"**, range [150, 220], height in centimeter <br>\n",
    "**\"3-Pointers\"**, range [0, 30], 3-Pointers done in one minutes <br>\n",
    "**\"Pro-Player\"**, range [0,1] <br>\n",
    "\n",
    "### Exercise questions:\n",
    "\n",
    "1. With **k=1**, is Paul classified as a **Pro-Player**?\n",
    "2. What is the **error rate** with **k=1**?\n",
    "2. Which **k** give us the best **accuracy**?\n",
    "2. What is the **accuracy** of the **best k**?\n",
    "3. With the best **k**, is Paul classified as a **Pro-Player**?"
   ]
  },
  {
   "cell_type": "markdown",
   "metadata": {},
   "source": [
    "## 1/ Data exploration\n",
    "\n",
    "As usual before we start working on our model let's **visualise** our **data**."
   ]
  },
  {
   "cell_type": "code",
   "execution_count": null,
   "metadata": {},
   "outputs": [],
   "source": [
    "# The usual imports"
   ]
  },
  {
   "cell_type": "code",
   "execution_count": null,
   "metadata": {},
   "outputs": [],
   "source": [
    "# import Basket_Ball_Players.csv dataset"
   ]
  },
  {
   "cell_type": "code",
   "execution_count": null,
   "metadata": {},
   "outputs": [],
   "source": [
    "# Look at the dataset info"
   ]
  },
  {
   "cell_type": "code",
   "execution_count": null,
   "metadata": {},
   "outputs": [],
   "source": [
    "# Create a scatterplot where we can see:\n",
    "# - his number of 3 pointer, on the X-axis\n",
    "# - the height of the player, on the Y-axis\n",
    "# - if he is a Pro-Player, with the color of the dot."
   ]
  },
  {
   "cell_type": "markdown",
   "metadata": {},
   "source": [
    "We should see a clear distinction between the pro and the amateur player."
   ]
  },
  {
   "cell_type": "markdown",
   "metadata": {},
   "source": [
    "## 2/ Model creation\n",
    "\n",
    "Let's use the **kNN model** from scikit-learn to **predict** if a player is **pro** or an **amateur**. <br>\n",
    "This time we will also take a look at the **prediction** **accuracy**.\n",
    "\n",
    "The player we want to classify here is be called **Paul**, here is his attributes: `{\"Height\": [209], \"3-Pointers\": [20]}`\n",
    "\n",
    "So, let's follow these steps:\n",
    "1. **Split** the data with a **trainning** and **test** dataset. [[ DOC ] - scikit-learn.train_test_split](https://scikit-learn.org/stable/modules/generated/sklearn.model_selection.train_test_split.html)\n",
    "2. **Train** the model with **k=1** and the **trainning data**. [[ DOC ] - scikit-learn.KNeighborgsClassifier](https://scikit-learn.org/stable/modules/generated/sklearn.neighbors.KNeighborsClassifier.html)\n",
    "3. **Classify** Paul."
   ]
  },
  {
   "cell_type": "code",
   "execution_count": null,
   "metadata": {},
   "outputs": [],
   "source": [
    "# Split the data with a trainning and test dataset\n",
    "#   Please use `test_size=0.33, random_state=42` as parameter of your train_test_split()\n",
    "#   That way we all have the same results"
   ]
  },
  {
   "cell_type": "code",
   "execution_count": null,
   "metadata": {},
   "outputs": [],
   "source": [
    "# Train the model with k=1 and the trainning data"
   ]
  },
  {
   "cell_type": "markdown",
   "metadata": {},
   "source": [
    "### With k=1, is Paul classified as a Pro-Player?"
   ]
  },
  {
   "cell_type": "code",
   "execution_count": 1,
   "metadata": {},
   "outputs": [],
   "source": [
    "# Classify Paul."
   ]
  },
  {
   "cell_type": "code",
   "execution_count": null,
   "metadata": {},
   "outputs": [],
   "source": [
    "question_paul_is_pro = None # enter True or False"
   ]
  },
  {
   "cell_type": "markdown",
   "metadata": {},
   "source": [
    "## 3/ Model metrics\n",
    "\n",
    "Can we really **trust** this **prediction**?<br>\n",
    "To answer that question we need to **check** the **accuracy** of our model with our **test data**.<br>\n",
    "[[ DOC ] - scikit-learn.classification_report](\n",
    "https://scikit-learn.org/stable/modules/generated/sklearn.metrics.classification_report.html)<br>\n",
    "[[ DOC ] - scikit-learn.KNeighborsClassifier.score ](https://scikit-learn.org/stable/modules/generated/sklearn.neighbors.KNeighborsClassifier.html#sklearn.neighbors.KNeighborsClassifier.score)"
   ]
  },
  {
   "cell_type": "code",
   "execution_count": 2,
   "metadata": {},
   "outputs": [],
   "source": [
    "# Check the score of our model with our test data"
   ]
  },
  {
   "cell_type": "code",
   "execution_count": null,
   "metadata": {},
   "outputs": [],
   "source": [
    "# Check the classification report of our model with our test data"
   ]
  },
  {
   "cell_type": "markdown",
   "metadata": {},
   "source": [
    "### What is the mean accuracy of our kNN with n=1?"
   ]
  },
  {
   "cell_type": "code",
   "execution_count": null,
   "metadata": {},
   "outputs": [],
   "source": [
    "question_mean_accuracy = None # enter the mean accuracy found for k=1 (rounded to the second decimal, ex: 0.23)"
   ]
  },
  {
   "cell_type": "markdown",
   "metadata": {},
   "source": [
    "### What is the weighted f1-score of our kNN with n=1?"
   ]
  },
  {
   "cell_type": "code",
   "execution_count": null,
   "metadata": {},
   "outputs": [],
   "source": [
    "question_f1_score = None # enter the f1-score found for k=1 (rounded to the second decimal, ex: 0.23)"
   ]
  },
  {
   "cell_type": "markdown",
   "metadata": {},
   "source": [
    "### Fill-in the blanks 🤓📚\n",
    "\n",
    "Let's make sure we **understand** each **metrics** in this **classification report**.<br>\n",
    "Here is some usefull **documentation**:<br>\n",
    "- [[ DOC ] Metrics - Scikit-learn](https://scikit-learn.org/stable/modules/generated/sklearn.metrics.precision_recall_fscore_support.html#sklearn.metrics.precision_recall_fscore_support)\n",
    "- [[ DOC ] F1-Score - Wikipedia](https://en.wikipedia.org/wiki/F1_score)\n",
    "- [[ DOC ] Accuracy and precision - Wikipedia](https://en.wikipedia.org/wiki/Accuracy_and_precision)\n",
    "- [[ DOC ] Precision and recall - Wikipedia](https://en.wikipedia.org/wiki/Precision_and_recall)\n",
    "\n",
    "*tips: each word can only be used once*"
   ]
  },
  {
   "cell_type": "code",
   "execution_count": null,
   "metadata": {},
   "outputs": [],
   "source": [
    "answer_precision = \"precision\"\n",
    "answer_support = \"support\"\n",
    "answer_recall = \"recall\"\n",
    "answer_accuracy = \"accuracy\"\n",
    "answer_f1_score = \"f1-score\"\n",
    "\n",
    "question_metrics_1 = f\"{None} is the number of occurrences of each class in y_true.\"\n",
    "question_metrics_2 = f\"{None} is the harmonic mean of the precision and recall.\"\n",
    "question_metrics_3 = f\"{None} is defined as (true_positive / true_positive + false_negative)\"\n",
    "question_metrics_4 = f\"{None} is a description of random errors, a measure of statistical variability.\"\n",
    "question_metrics_5 = f\"{None} is a description of systematic errors, a measure of statistical bias.\""
   ]
  },
  {
   "cell_type": "markdown",
   "metadata": {},
   "source": [
    "### Would you trust this model with his current perfomances?\n",
    "\n",
    "Acctually this is a quite challenging question.<br>\n",
    "An intresting **answer** is given by **Corrin Lakeland** on Quora:\n",
    ">  I believe a model is ready for production when it **outperforms the status quo** and, most important, **doors not** generate **nasty surprises**.<br> <br>Corrin Lakeland, PhD Computer Science, University of Otago (2006)\n",
    "\n",
    "You can read more answers about this topic here:<br> [Quora - How do you know when your machine learning model is good enough to be put into production](https://www.quora.com/How-do-you-know-when-your-machine-learning-model-is-good-enough-to-be-put-into-production)"
   ]
  },
  {
   "cell_type": "markdown",
   "metadata": {},
   "source": [
    "### Would you trust this model with his current perfomances?\n",
    "\n",
    "Acctually this is a quite challenging question.<br>\n",
    "An intresting **answer** is given by **Corrin Lakeland** on Quora:\n",
    ">  I believe a model is ready for production when it **outperforms the status quo** and, most important, **doors not** generate **nasty surprises**.<br> <br>Corrin Lakeland, PhD Computer Science, University of Otago (2006)\n",
    "\n",
    "You can read more answers about this topic here:<br> [Quora - How do you know when your machine learning model is good enough to be put into production](https://www.quora.com/How-do-you-know-when-your-machine-learning-model-is-good-enough-to-be-put-into-production)"
   ]
  }
 ],
 "metadata": {
  "kernelspec": {
   "display_name": "Python 3",
   "language": "python",
   "name": "python3"
  },
  "language_info": {
   "codemirror_mode": {
    "name": "ipython",
    "version": 3
   },
   "file_extension": ".py",
   "mimetype": "text/x-python",
   "name": "python",
   "nbconvert_exporter": "python",
   "pygments_lexer": "ipython3",
   "version": "3.7.3"
  }
 },
 "nbformat": 4,
 "nbformat_minor": 2
}
