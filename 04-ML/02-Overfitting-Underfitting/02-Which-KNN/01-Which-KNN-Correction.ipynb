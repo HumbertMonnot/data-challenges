{
 "cells": [
  {
   "cell_type": "markdown",
   "metadata": {},
   "source": [
    "# Which k for my kNN?\n",
    "\n",
    "<br>\n",
    "\n",
    "<figure>\n",
    "<img src=\"https://i.ibb.co/4g5h7m6/visualize-1255x420.png\" alt=\"visualize-1255x420\" border=\"0\" width=\"90%\">\n",
    "  <figcaption style=\"text-align: center; color: #777; font-weight: bold\">Binary classification with kNN - <a href=\"https://blog.eduonix.com/artificial-intelligence/everything-need-know-k-nearest-neighbors-algorithm/\">blog.eduonix.com</a></figcaption>\n",
    "</figure>\n",
    "\n",
    "### Introduction\n",
    "\n",
    "In this exercice we are going to find the **most accurate** **k** for a **kNN classifier**.<br>\n",
    "We are still trying to differenciate **pro** from **amateur** basket-ball players.\n",
    "\n",
    "**Dataset:** \"../data/Basket_Ball_Players.csv\"<br>\n",
    "\n",
    "**Columns:** <br>\n",
    "**\"Height\"**, range [150, 220], height in centimeter <br>\n",
    "**\"3-Pointers\"**, range [0, 30], 3-Pointers done in one minutes <br>\n",
    "**\"Pro-Player\"**, range [0,1] <br>\n",
    "\n",
    "### Exercise questions:\n",
    "\n",
    "1. What is the **error rate** with **k=1**?\n",
    "2. Which **k** give us the best **accuracy**?\n",
    "3. What is the **accuracy** of the **best k**?\n",
    "4. With the best **k**, is Paul classified as a **Pro-Player**?"
   ]
  },
  {
   "cell_type": "markdown",
   "metadata": {},
   "source": [
    "## 1/ Data exploration\n",
    "\n",
    "We are **re-using** the same **dataset** as the last exercise, so we just need to **import our libraries** and the **dataset**."
   ]
  },
  {
   "cell_type": "code",
   "execution_count": 1,
   "metadata": {},
   "outputs": [],
   "source": [
    "# The usual imports\n",
    "import numpy as np\n",
    "import pandas as pd\n",
    "import seaborn as sns\n",
    "import matplotlib.pyplot as plt\n",
    "%matplotlib inline"
   ]
  },
  {
   "cell_type": "code",
   "execution_count": 2,
   "metadata": {
    "scrolled": true
   },
   "outputs": [
    {
     "data": {
      "text/html": [
       "<div>\n",
       "<style scoped>\n",
       "    .dataframe tbody tr th:only-of-type {\n",
       "        vertical-align: middle;\n",
       "    }\n",
       "\n",
       "    .dataframe tbody tr th {\n",
       "        vertical-align: top;\n",
       "    }\n",
       "\n",
       "    .dataframe thead th {\n",
       "        text-align: right;\n",
       "    }\n",
       "</style>\n",
       "<table border=\"1\" class=\"dataframe\">\n",
       "  <thead>\n",
       "    <tr style=\"text-align: right;\">\n",
       "      <th></th>\n",
       "      <th>Height</th>\n",
       "      <th>3-Pointers</th>\n",
       "      <th>Pro-Player</th>\n",
       "    </tr>\n",
       "  </thead>\n",
       "  <tbody>\n",
       "    <tr>\n",
       "      <th>0</th>\n",
       "      <td>187</td>\n",
       "      <td>24</td>\n",
       "      <td>1</td>\n",
       "    </tr>\n",
       "    <tr>\n",
       "      <th>1</th>\n",
       "      <td>210</td>\n",
       "      <td>15</td>\n",
       "      <td>0</td>\n",
       "    </tr>\n",
       "    <tr>\n",
       "      <th>2</th>\n",
       "      <td>184</td>\n",
       "      <td>15</td>\n",
       "      <td>0</td>\n",
       "    </tr>\n",
       "    <tr>\n",
       "      <th>3</th>\n",
       "      <td>208</td>\n",
       "      <td>19</td>\n",
       "      <td>1</td>\n",
       "    </tr>\n",
       "    <tr>\n",
       "      <th>4</th>\n",
       "      <td>175</td>\n",
       "      <td>15</td>\n",
       "      <td>0</td>\n",
       "    </tr>\n",
       "  </tbody>\n",
       "</table>\n",
       "</div>"
      ],
      "text/plain": [
       "   Height  3-Pointers  Pro-Player\n",
       "0     187          24           1\n",
       "1     210          15           0\n",
       "2     184          15           0\n",
       "3     208          19           1\n",
       "4     175          15           0"
      ]
     },
     "execution_count": 2,
     "metadata": {},
     "output_type": "execute_result"
    }
   ],
   "source": [
    "# import Basket_Ball_Players.csv dataset\n",
    "df = pd.read_csv(\"../data/Basket_Ball_Players.csv\")\n",
    "df.head()"
   ]
  },
  {
   "cell_type": "markdown",
   "metadata": {},
   "source": [
    "## 2/ Mesure the error rate of multiple kNN\n",
    "\n",
    "In order to find the best k value for our kNN we need to train multiple model with different k values.<br>\n",
    "For each model we will take a note of the accuracy. That way we can compare the model and select the best one.<br>\n",
    "The metrics we want to use here is the **error rate**, which is the sum of the errors.\n",
    "\n",
    "So, let's follow these steps:\n",
    "1. **Split** the data with a **trainning** and **test** dataset. [[ DOC ] - scikit-learn.train_test_split](https://scikit-learn.org/stable/modules/generated/sklearn.model_selection.train_test_split.html)\n",
    "2. **Iterate** through k in range [1,50]<br>\n",
    "    a. train your model with k<br>\n",
    "    b. compute the error rate<br>\n",
    "    c. append the new error rate to the array with the error rates<br>"
   ]
  },
  {
   "cell_type": "code",
   "execution_count": 3,
   "metadata": {},
   "outputs": [],
   "source": [
    "# Split the data with a trainning and test dataset\n",
    "#   Please use `test_size=0.33, random_state=42` as parameter of your train_test_split()\n",
    "#   That way we all have the same results\n",
    "from sklearn.model_selection import train_test_split\n",
    "\n",
    "X = df[['Height', '3-Pointers']]\n",
    "y = df[['Pro-Player']]\n",
    "\n",
    "X_train, X_test, y_train, y_test = train_test_split(X, y, test_size=0.33, random_state=42)"
   ]
  },
  {
   "cell_type": "code",
   "execution_count": 4,
   "metadata": {},
   "outputs": [
    {
     "data": {
      "text/plain": [
       "50"
      ]
     },
     "execution_count": 4,
     "metadata": {},
     "output_type": "execute_result"
    }
   ],
   "source": [
    "# 2. **Iterate** through k in range [1,50]\n",
    "#    a. train your model with k\n",
    "#    b. compute the error rate\n",
    "#    c. append the new error rate to the array with the error rates\n",
    "\n",
    "from sklearn.neighbors import KNeighborsClassifier\n",
    "\n",
    "error_rates = []\n",
    "\n",
    "for k in range(1,51):\n",
    "    neigh = KNeighborsClassifier(n_neighbors=k)\n",
    "    neigh.fit(X_train, y_train.values.flatten())\n",
    "    y_predic = neigh.predict(X_test)\n",
    "    error_rate = sum(y_predic != y_test.values.flatten())\n",
    "    error_rates.append(error_rate)\n",
    "    \n",
    "len(error_rates)"
   ]
  },
  {
   "cell_type": "markdown",
   "metadata": {},
   "source": [
    "## 3/ Finding the best K with the elbow method\n",
    "\n",
    "To do that we can:\n",
    "1. **Plot** the **error rate** for each k\n",
    "2. **Select** the best candidates with the elbow method"
   ]
  },
  {
   "cell_type": "code",
   "execution_count": 5,
   "metadata": {},
   "outputs": [
    {
     "data": {
      "text/plain": [
       "[<matplotlib.lines.Line2D at 0x1a249ada20>]"
      ]
     },
     "execution_count": 5,
     "metadata": {},
     "output_type": "execute_result"
    },
    {
     "data": {
      "image/png": "[encoded data removed]",
      "text/plain": [
       "<Figure size 432x288 with 1 Axes>"
      ]
     },
     "metadata": {
      "needs_background": "light"
     },
     "output_type": "display_data"
    }
   ],
   "source": [
    "plt.plot(range(1,51), error_rates)"
   ]
  },
  {
   "cell_type": "markdown",
   "metadata": {},
   "source": [
    "### What is the error rate with k=1 ?"
   ]
  },
  {
   "cell_type": "code",
   "execution_count": 10,
   "metadata": {},
   "outputs": [],
   "source": [
    "question_k1_error_rate = 35 # enter the error rate for k=1"
   ]
  },
  {
   "cell_type": "markdown",
   "metadata": {},
   "source": [
    "### Which k give us the best accuracy?"
   ]
  },
  {
   "cell_type": "code",
   "execution_count": 7,
   "metadata": {},
   "outputs": [],
   "source": [
    "question_best_k = 5 # enter best k you found"
   ]
  },
  {
   "cell_type": "markdown",
   "metadata": {},
   "source": [
    "### What is the mean accuracy of the best k?"
   ]
  },
  {
   "cell_type": "code",
   "execution_count": 8,
   "metadata": {},
   "outputs": [],
   "source": [
    "question_best_k_accuracy = None # enter the mean accuracy of the best k"
   ]
  },
  {
   "cell_type": "markdown",
   "metadata": {},
   "source": [
    "### With the best k, is Paul classified as a Pro-Player?"
   ]
  },
  {
   "cell_type": "code",
   "execution_count": 9,
   "metadata": {},
   "outputs": [],
   "source": [
    "question_paul_is_pro_2 = None # enter True or False"
   ]
  }
 ],
 "metadata": {
  "kernelspec": {
   "display_name": "Python 3",
   "language": "python",
   "name": "python3"
  },
  "language_info": {
   "codemirror_mode": {
    "name": "ipython",
    "version": 3
   },
   "file_extension": ".py",
   "mimetype": "text/x-python",
   "name": "python",
   "nbconvert_exporter": "python",
   "pygments_lexer": "ipython3",
   "version": "3.7.3"
  }
 },
 "nbformat": 4,
 "nbformat_minor": 2
}
