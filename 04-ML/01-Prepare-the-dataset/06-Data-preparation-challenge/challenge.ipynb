{
 "cells": [
  {
   "cell_type": "markdown",
   "metadata": {},
   "source": [
    "# Challenge"
   ]
  },
  {
   "cell_type": "markdown",
   "metadata": {},
   "source": [
    "1. Load the `data.csv` file into a dataframe, explore the dataset, and perform the preprocessing manipulations that you feel are necessary. Once you are done, save your preprocessed dataset under the name `cleaned_data.csv`. Make sure that this new csv has the same column structure as the original one."
   ]
  },
  {
   "cell_type": "code",
   "execution_count": null,
   "metadata": {},
   "outputs": [],
   "source": [
    "# TODO"
   ]
  },
  {
   "cell_type": "markdown",
   "metadata": {},
   "source": [
    "### Remove NaNs"
   ]
  },
  {
   "cell_type": "code",
   "execution_count": null,
   "metadata": {},
   "outputs": [],
   "source": [
    "# TODO"
   ]
  },
  {
   "cell_type": "markdown",
   "metadata": {},
   "source": [
    "### Balancing the dataset"
   ]
  },
  {
   "cell_type": "code",
   "execution_count": null,
   "metadata": {},
   "outputs": [],
   "source": [
    "# Section data according to target\n",
    "\n",
    "\n",
    "\n",
    "# Count occurences of each target\n",
    "\n",
    "\n",
    "\n",
    "# Undersample the majority class\n",
    "\n",
    "\n",
    "\n",
    "# Oversample the minority class\n",
    "\n",
    "\n",
    "\n",
    "# Concatenate balanced data\n",
    "\n",
    "\n",
    "\n",
    "# Visualize balanced data target counts\n"
   ]
  },
  {
   "cell_type": "markdown",
   "metadata": {},
   "source": [
    "### Outliers"
   ]
  },
  {
   "cell_type": "code",
   "execution_count": null,
   "metadata": {},
   "outputs": [],
   "source": [
    "# Detect outliers graphically\n",
    "\n"
   ]
  },
  {
   "cell_type": "code",
   "execution_count": null,
   "metadata": {},
   "outputs": [],
   "source": [
    "# SCALING FOR OUTLIERS\n",
    "\n",
    "\n",
    "# Extract the features from the dataset\n",
    "\n",
    "\n",
    "# Scale the features\n",
    "\n",
    "\n",
    "\n",
    "\n"
   ]
  },
  {
   "cell_type": "markdown",
   "metadata": {},
   "source": [
    "### Encoding the target"
   ]
  },
  {
   "cell_type": "code",
   "execution_count": null,
   "metadata": {},
   "outputs": [],
   "source": [
    "# Encode the target\n",
    "\n"
   ]
  },
  {
   "cell_type": "markdown",
   "metadata": {},
   "source": [
    "### Reconstruct dataset"
   ]
  },
  {
   "cell_type": "code",
   "execution_count": null,
   "metadata": {},
   "outputs": [],
   "source": [
    "# created a DataFrame from the scaled features (do not forget the columns names!)\n",
    "\n",
    "# add the encoded target to the DataFrame\n",
    "\n",
    "# save the DataFrame as 'cleaned_data.csv'\n",
    "\n",
    "# display the DataFrame\n"
   ]
  },
  {
   "cell_type": "markdown",
   "metadata": {},
   "source": [
    "In the challenges folder, you will see a `utils.py`. It contains a function `model()` that:\n",
    "\n",
    "- Loads the data you preprocessed\n",
    "- Trains a Machine Learning algorithm (Decision Tree)\n",
    "- Returns its accuracy\n",
    "\n",
    "Run the code below to import and call the function. "
   ]
  },
  {
   "cell_type": "code",
   "execution_count": null,
   "metadata": {},
   "outputs": [],
   "source": [
    "from utils import model\n",
    "\n",
    "model()"
   ]
  },
  {
   "cell_type": "markdown",
   "metadata": {},
   "source": [
    "If you did the correct preprocessing, you should get above 90% accuracy. Run `make` in your terminal to validate your work.\n",
    "\n",
    "You are then free to explore and play around with the code within that function. The following documentations should help you make sense of it [[1]](https://scikit-learn.org/stable/modules/generated/sklearn.tree.DecisionTreeClassifier.html) [[2]](https://scikit-learn.org/stable/modules/generated/sklearn.model_selection.cross_val_score.html)."
   ]
  }
 ],
 "metadata": {
  "kernelspec": {
   "display_name": "Python 3",
   "language": "python",
   "name": "python3"
  },
  "language_info": {
   "codemirror_mode": {
    "name": "ipython",
    "version": 3
   },
   "file_extension": ".py",
   "mimetype": "text/x-python",
   "name": "python",
   "nbconvert_exporter": "python",
   "pygments_lexer": "ipython3",
   "version": "3.7.6"
  }
 },
 "nbformat": 4,
 "nbformat_minor": 4
}
