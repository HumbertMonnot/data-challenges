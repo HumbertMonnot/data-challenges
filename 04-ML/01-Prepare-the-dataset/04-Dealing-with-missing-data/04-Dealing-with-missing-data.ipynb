{
 "cells": [
  {
   "cell_type": "markdown",
   "metadata": {},
   "source": [
    "# 👻 Dealing with missing values"
   ]
  },
  {
   "cell_type": "markdown",
   "metadata": {},
   "source": [
    "👇 Import data"
   ]
  },
  {
   "cell_type": "code",
   "execution_count": null,
   "metadata": {},
   "outputs": [],
   "source": [
    "# TODO"
   ]
  },
  {
   "cell_type": "markdown",
   "metadata": {},
   "source": [
    "👇 Attend to the missing values! \n",
    "\n",
    "Ask yourself questions like:\n",
    "\n",
    "- Are all rows and columns useful?\n",
    "- Do I have enough data to simply remove rows containing NaNs?\n",
    "- Would dropping entire rows or columns make me lose valuable information? \n",
    "- Do the NaNs actually carry information? \n",
    "- Could I replace the NaNs by a value of my choice, or an average?\n",
    "- If I impute a value, should this be indicated?\n",
    "\n",
    "Make extensive use of SimpleImputer. Check out its [documentation](https://scikit-learn.org/stable/modules/generated/sklearn.impute.SimpleImputer.html) and explore its functionalities."
   ]
  },
  {
   "cell_type": "code",
   "execution_count": null,
   "metadata": {},
   "outputs": [],
   "source": [
    "# Keep rows that have at least 3 actual values\n",
    "\n",
    "\n",
    "# Drop swimming pool column\n",
    "\n",
    "\n"
   ]
  },
  {
   "cell_type": "code",
   "execution_count": null,
   "metadata": {},
   "outputs": [],
   "source": [
    "# Using SimpleImputer, replace -999 by \"France\", since city is \"Paris\"\n",
    "\n",
    "\n",
    "\n",
    "\n",
    "\n"
   ]
  },
  {
   "cell_type": "code",
   "execution_count": null,
   "metadata": {
    "scrolled": true
   },
   "outputs": [],
   "source": [
    "# Impute `surface_m2` with average surface of a mid price range Paris apartment.\n",
    "# Indicate that this value was imputed.\n",
    "\n",
    "\n",
    "\n",
    "\n"
   ]
  },
  {
   "cell_type": "code",
   "execution_count": null,
   "metadata": {},
   "outputs": [],
   "source": [
    "# Replace NaN in total_rooms by most frequent number. \n",
    "# Use `SimpleImputer`'s `indicator_` attribute to indicate value was imputed.\n",
    "\n",
    "\n",
    "\n",
    "\n",
    "\n"
   ]
  },
  {
   "cell_type": "markdown",
   "metadata": {},
   "source": [
    "# 🏁"
   ]
  }
 ],
 "metadata": {
  "kernelspec": {
   "display_name": "Python 3",
   "language": "python",
   "name": "python3"
  },
  "language_info": {
   "codemirror_mode": {
    "name": "ipython",
    "version": 3
   },
   "file_extension": ".py",
   "mimetype": "text/x-python",
   "name": "python",
   "nbconvert_exporter": "python",
   "pygments_lexer": "ipython3",
   "version": "3.7.6"
  }
 },
 "nbformat": 4,
 "nbformat_minor": 4
}
