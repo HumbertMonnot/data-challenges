{
 "cells": [
  {
   "cell_type": "markdown",
   "metadata": {},
   "source": [
    "# Warm-up"
   ]
  },
  {
   "cell_type": "markdown",
   "metadata": {},
   "source": [
    "At times, you might need to generate random data for testing purposes. This can be done with Numpy's `random.rand`, which creates arrays of specified shapes and fill.\n",
    "\n",
    "Below, randomly generate an array of dimensions (8,2)."
   ]
  },
  {
   "cell_type": "code",
   "execution_count": 1,
   "metadata": {},
   "outputs": [
    {
     "data": {
      "text/plain": [
       "array([[ 1.42540865,  0.44093111],\n",
       "       [-0.29845667,  0.25098409],\n",
       "       [ 1.17335285, -1.45870964],\n",
       "       [-0.46495616,  0.32543289],\n",
       "       [-0.10913081,  0.20378759],\n",
       "       [-0.58332183,  0.82701948],\n",
       "       [ 0.58517324,  1.33727442],\n",
       "       [-0.85944402, -1.38377839]])"
      ]
     },
     "execution_count": 1,
     "metadata": {},
     "output_type": "execute_result"
    }
   ],
   "source": []
  },
  {
   "cell_type": "markdown",
   "metadata": {},
   "source": [
    "Reshape the array to dimensions (4,4)"
   ]
  },
  {
   "cell_type": "code",
   "execution_count": 2,
   "metadata": {},
   "outputs": [
    {
     "data": {
      "text/plain": [
       "array([[ 1.42540865,  0.44093111, -0.29845667,  0.25098409],\n",
       "       [ 1.17335285, -1.45870964, -0.46495616,  0.32543289],\n",
       "       [-0.10913081,  0.20378759, -0.58332183,  0.82701948],\n",
       "       [ 0.58517324,  1.33727442, -0.85944402, -1.38377839]])"
      ]
     },
     "execution_count": 2,
     "metadata": {},
     "output_type": "execute_result"
    }
   ],
   "source": []
  },
  {
   "cell_type": "markdown",
   "metadata": {},
   "source": [
    "Below, convert the array to a dataframe and name the columns A,B,C, and D."
   ]
  },
  {
   "cell_type": "code",
   "execution_count": 3,
   "metadata": {},
   "outputs": [
    {
     "data": {
      "text/html": [
       "<div>\n",
       "<style scoped>\n",
       "    .dataframe tbody tr th:only-of-type {\n",
       "        vertical-align: middle;\n",
       "    }\n",
       "\n",
       "    .dataframe tbody tr th {\n",
       "        vertical-align: top;\n",
       "    }\n",
       "\n",
       "    .dataframe thead th {\n",
       "        text-align: right;\n",
       "    }\n",
       "</style>\n",
       "<table border=\"1\" class=\"dataframe\">\n",
       "  <thead>\n",
       "    <tr style=\"text-align: right;\">\n",
       "      <th></th>\n",
       "      <th>A</th>\n",
       "      <th>B</th>\n",
       "      <th>C</th>\n",
       "      <th>D</th>\n",
       "    </tr>\n",
       "  </thead>\n",
       "  <tbody>\n",
       "    <tr>\n",
       "      <th>0</th>\n",
       "      <td>1.425409</td>\n",
       "      <td>0.440931</td>\n",
       "      <td>-0.298457</td>\n",
       "      <td>0.250984</td>\n",
       "    </tr>\n",
       "    <tr>\n",
       "      <th>1</th>\n",
       "      <td>1.173353</td>\n",
       "      <td>-1.458710</td>\n",
       "      <td>-0.464956</td>\n",
       "      <td>0.325433</td>\n",
       "    </tr>\n",
       "    <tr>\n",
       "      <th>2</th>\n",
       "      <td>-0.109131</td>\n",
       "      <td>0.203788</td>\n",
       "      <td>-0.583322</td>\n",
       "      <td>0.827019</td>\n",
       "    </tr>\n",
       "    <tr>\n",
       "      <th>3</th>\n",
       "      <td>0.585173</td>\n",
       "      <td>1.337274</td>\n",
       "      <td>-0.859444</td>\n",
       "      <td>-1.383778</td>\n",
       "    </tr>\n",
       "  </tbody>\n",
       "</table>\n",
       "</div>"
      ],
      "text/plain": [
       "          A         B         C         D\n",
       "0  1.425409  0.440931 -0.298457  0.250984\n",
       "1  1.173353 -1.458710 -0.464956  0.325433\n",
       "2 -0.109131  0.203788 -0.583322  0.827019\n",
       "3  0.585173  1.337274 -0.859444 -1.383778"
      ]
     },
     "execution_count": 3,
     "metadata": {},
     "output_type": "execute_result"
    }
   ],
   "source": []
  },
  {
   "cell_type": "markdown",
   "metadata": {},
   "source": [
    "Change the name of column \"A\" to \"Alpha\" in the dataframe you created above."
   ]
  },
  {
   "cell_type": "code",
   "execution_count": 4,
   "metadata": {
    "scrolled": true
   },
   "outputs": [
    {
     "data": {
      "text/html": [
       "<div>\n",
       "<style scoped>\n",
       "    .dataframe tbody tr th:only-of-type {\n",
       "        vertical-align: middle;\n",
       "    }\n",
       "\n",
       "    .dataframe tbody tr th {\n",
       "        vertical-align: top;\n",
       "    }\n",
       "\n",
       "    .dataframe thead th {\n",
       "        text-align: right;\n",
       "    }\n",
       "</style>\n",
       "<table border=\"1\" class=\"dataframe\">\n",
       "  <thead>\n",
       "    <tr style=\"text-align: right;\">\n",
       "      <th></th>\n",
       "      <th>Alpha</th>\n",
       "      <th>B</th>\n",
       "      <th>C</th>\n",
       "      <th>D</th>\n",
       "    </tr>\n",
       "  </thead>\n",
       "  <tbody>\n",
       "    <tr>\n",
       "      <th>0</th>\n",
       "      <td>1.425409</td>\n",
       "      <td>0.440931</td>\n",
       "      <td>-0.298457</td>\n",
       "      <td>0.250984</td>\n",
       "    </tr>\n",
       "    <tr>\n",
       "      <th>1</th>\n",
       "      <td>1.173353</td>\n",
       "      <td>-1.458710</td>\n",
       "      <td>-0.464956</td>\n",
       "      <td>0.325433</td>\n",
       "    </tr>\n",
       "    <tr>\n",
       "      <th>2</th>\n",
       "      <td>-0.109131</td>\n",
       "      <td>0.203788</td>\n",
       "      <td>-0.583322</td>\n",
       "      <td>0.827019</td>\n",
       "    </tr>\n",
       "    <tr>\n",
       "      <th>3</th>\n",
       "      <td>0.585173</td>\n",
       "      <td>1.337274</td>\n",
       "      <td>-0.859444</td>\n",
       "      <td>-1.383778</td>\n",
       "    </tr>\n",
       "  </tbody>\n",
       "</table>\n",
       "</div>"
      ],
      "text/plain": [
       "      Alpha         B         C         D\n",
       "0  1.425409  0.440931 -0.298457  0.250984\n",
       "1  1.173353 -1.458710 -0.464956  0.325433\n",
       "2 -0.109131  0.203788 -0.583322  0.827019\n",
       "3  0.585173  1.337274 -0.859444 -1.383778"
      ]
     },
     "execution_count": 4,
     "metadata": {},
     "output_type": "execute_result"
    }
   ],
   "source": []
  },
  {
   "cell_type": "markdown",
   "metadata": {},
   "source": [
    "Sort on \"Alpha\" column in ascending order and reset the index. No new column should be created."
   ]
  },
  {
   "cell_type": "code",
   "execution_count": 5,
   "metadata": {
    "scrolled": true
   },
   "outputs": [
    {
     "data": {
      "text/html": [
       "<div>\n",
       "<style scoped>\n",
       "    .dataframe tbody tr th:only-of-type {\n",
       "        vertical-align: middle;\n",
       "    }\n",
       "\n",
       "    .dataframe tbody tr th {\n",
       "        vertical-align: top;\n",
       "    }\n",
       "\n",
       "    .dataframe thead th {\n",
       "        text-align: right;\n",
       "    }\n",
       "</style>\n",
       "<table border=\"1\" class=\"dataframe\">\n",
       "  <thead>\n",
       "    <tr style=\"text-align: right;\">\n",
       "      <th></th>\n",
       "      <th>Alpha</th>\n",
       "      <th>B</th>\n",
       "      <th>C</th>\n",
       "      <th>D</th>\n",
       "    </tr>\n",
       "  </thead>\n",
       "  <tbody>\n",
       "    <tr>\n",
       "      <th>0</th>\n",
       "      <td>-0.109131</td>\n",
       "      <td>0.203788</td>\n",
       "      <td>-0.583322</td>\n",
       "      <td>0.827019</td>\n",
       "    </tr>\n",
       "    <tr>\n",
       "      <th>1</th>\n",
       "      <td>0.585173</td>\n",
       "      <td>1.337274</td>\n",
       "      <td>-0.859444</td>\n",
       "      <td>-1.383778</td>\n",
       "    </tr>\n",
       "    <tr>\n",
       "      <th>2</th>\n",
       "      <td>1.173353</td>\n",
       "      <td>-1.458710</td>\n",
       "      <td>-0.464956</td>\n",
       "      <td>0.325433</td>\n",
       "    </tr>\n",
       "    <tr>\n",
       "      <th>3</th>\n",
       "      <td>1.425409</td>\n",
       "      <td>0.440931</td>\n",
       "      <td>-0.298457</td>\n",
       "      <td>0.250984</td>\n",
       "    </tr>\n",
       "  </tbody>\n",
       "</table>\n",
       "</div>"
      ],
      "text/plain": [
       "      Alpha         B         C         D\n",
       "0 -0.109131  0.203788 -0.583322  0.827019\n",
       "1  0.585173  1.337274 -0.859444 -1.383778\n",
       "2  1.173353 -1.458710 -0.464956  0.325433\n",
       "3  1.425409  0.440931 -0.298457  0.250984"
      ]
     },
     "execution_count": 5,
     "metadata": {},
     "output_type": "execute_result"
    }
   ],
   "source": []
  },
  {
   "cell_type": "markdown",
   "metadata": {},
   "source": [
    "Make column \"Alpha\" the dataframe's new index."
   ]
  },
  {
   "cell_type": "code",
   "execution_count": 6,
   "metadata": {},
   "outputs": [
    {
     "data": {
      "text/html": [
       "<div>\n",
       "<style scoped>\n",
       "    .dataframe tbody tr th:only-of-type {\n",
       "        vertical-align: middle;\n",
       "    }\n",
       "\n",
       "    .dataframe tbody tr th {\n",
       "        vertical-align: top;\n",
       "    }\n",
       "\n",
       "    .dataframe thead th {\n",
       "        text-align: right;\n",
       "    }\n",
       "</style>\n",
       "<table border=\"1\" class=\"dataframe\">\n",
       "  <thead>\n",
       "    <tr style=\"text-align: right;\">\n",
       "      <th></th>\n",
       "      <th>B</th>\n",
       "      <th>C</th>\n",
       "      <th>D</th>\n",
       "    </tr>\n",
       "    <tr>\n",
       "      <th>Alpha</th>\n",
       "      <th></th>\n",
       "      <th></th>\n",
       "      <th></th>\n",
       "    </tr>\n",
       "  </thead>\n",
       "  <tbody>\n",
       "    <tr>\n",
       "      <th>-0.109131</th>\n",
       "      <td>0.203788</td>\n",
       "      <td>-0.583322</td>\n",
       "      <td>0.827019</td>\n",
       "    </tr>\n",
       "    <tr>\n",
       "      <th>0.585173</th>\n",
       "      <td>1.337274</td>\n",
       "      <td>-0.859444</td>\n",
       "      <td>-1.383778</td>\n",
       "    </tr>\n",
       "    <tr>\n",
       "      <th>1.173353</th>\n",
       "      <td>-1.458710</td>\n",
       "      <td>-0.464956</td>\n",
       "      <td>0.325433</td>\n",
       "    </tr>\n",
       "    <tr>\n",
       "      <th>1.425409</th>\n",
       "      <td>0.440931</td>\n",
       "      <td>-0.298457</td>\n",
       "      <td>0.250984</td>\n",
       "    </tr>\n",
       "  </tbody>\n",
       "</table>\n",
       "</div>"
      ],
      "text/plain": [
       "                  B         C         D\n",
       "Alpha                                  \n",
       "-0.109131  0.203788 -0.583322  0.827019\n",
       " 0.585173  1.337274 -0.859444 -1.383778\n",
       " 1.173353 -1.458710 -0.464956  0.325433\n",
       " 1.425409  0.440931 -0.298457  0.250984"
      ]
     },
     "execution_count": 6,
     "metadata": {},
     "output_type": "execute_result"
    }
   ],
   "source": []
  },
  {
   "cell_type": "markdown",
   "metadata": {},
   "source": [
    "Select the two first rows of the dataframe."
   ]
  },
  {
   "cell_type": "code",
   "execution_count": 7,
   "metadata": {},
   "outputs": [
    {
     "data": {
      "text/html": [
       "<div>\n",
       "<style scoped>\n",
       "    .dataframe tbody tr th:only-of-type {\n",
       "        vertical-align: middle;\n",
       "    }\n",
       "\n",
       "    .dataframe tbody tr th {\n",
       "        vertical-align: top;\n",
       "    }\n",
       "\n",
       "    .dataframe thead th {\n",
       "        text-align: right;\n",
       "    }\n",
       "</style>\n",
       "<table border=\"1\" class=\"dataframe\">\n",
       "  <thead>\n",
       "    <tr style=\"text-align: right;\">\n",
       "      <th></th>\n",
       "      <th>B</th>\n",
       "      <th>C</th>\n",
       "      <th>D</th>\n",
       "    </tr>\n",
       "    <tr>\n",
       "      <th>Alpha</th>\n",
       "      <th></th>\n",
       "      <th></th>\n",
       "      <th></th>\n",
       "    </tr>\n",
       "  </thead>\n",
       "  <tbody>\n",
       "    <tr>\n",
       "      <th>-0.109131</th>\n",
       "      <td>0.203788</td>\n",
       "      <td>-0.583322</td>\n",
       "      <td>0.827019</td>\n",
       "    </tr>\n",
       "    <tr>\n",
       "      <th>0.585173</th>\n",
       "      <td>1.337274</td>\n",
       "      <td>-0.859444</td>\n",
       "      <td>-1.383778</td>\n",
       "    </tr>\n",
       "  </tbody>\n",
       "</table>\n",
       "</div>"
      ],
      "text/plain": [
       "                  B         C         D\n",
       "Alpha                                  \n",
       "-0.109131  0.203788 -0.583322  0.827019\n",
       " 0.585173  1.337274 -0.859444 -1.383778"
      ]
     },
     "execution_count": 7,
     "metadata": {},
     "output_type": "execute_result"
    }
   ],
   "source": []
  }
 ],
 "metadata": {
  "kernelspec": {
   "display_name": "Python 3",
   "language": "python",
   "name": "python3"
  },
  "language_info": {
   "codemirror_mode": {
    "name": "ipython",
    "version": 3
   },
   "file_extension": ".py",
   "mimetype": "text/x-python",
   "name": "python",
   "nbconvert_exporter": "python",
   "pygments_lexer": "ipython3",
   "version": "3.6.9"
  }
 },
 "nbformat": 4,
 "nbformat_minor": 4
}
