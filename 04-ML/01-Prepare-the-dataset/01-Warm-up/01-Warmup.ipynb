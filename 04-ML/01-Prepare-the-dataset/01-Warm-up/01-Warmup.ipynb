{
 "cells": [
  {
   "cell_type": "markdown",
   "metadata": {},
   "source": [
    "# Warm-up"
   ]
  },
  {
   "cell_type": "markdown",
   "metadata": {},
   "source": [
    "At times, you might need to generate random data for testing purposes. This can be done with Numpy's `random.rand`, which creates arrays of specified shapes and fill.\n",
    "\n",
    "Below, randomly generate an array of dimensions (8,2)."
   ]
  },
  {
   "cell_type": "code",
   "execution_count": 3,
   "metadata": {},
   "outputs": [
    {
     "data": {
      "text/plain": [
       "array([[0.84573052, 0.65181083],\n",
       "       [0.90684674, 0.85759428],\n",
       "       [0.82382362, 0.02900904],\n",
       "       [0.55900007, 0.43053214],\n",
       "       [0.93891922, 0.4203955 ],\n",
       "       [0.3424996 , 0.33591422],\n",
       "       [0.53112196, 0.40782819],\n",
       "       [0.36676669, 0.240416  ]])"
      ]
     },
     "execution_count": 3,
     "metadata": {},
     "output_type": "execute_result"
    }
   ],
   "source": [
    "import numpy as np\n",
    "\n",
    "a = np.random.rand(8,2)\n",
    "a"
   ]
  },
  {
   "cell_type": "markdown",
   "metadata": {},
   "source": [
    "Reshape the array to dimensions (4,4)"
   ]
  },
  {
   "cell_type": "code",
   "execution_count": 11,
   "metadata": {},
   "outputs": [
    {
     "data": {
      "text/plain": [
       "array([[0.84573052, 0.65181083, 0.90684674, 0.85759428],\n",
       "       [0.82382362, 0.02900904, 0.55900007, 0.43053214],\n",
       "       [0.93891922, 0.4203955 , 0.3424996 , 0.33591422],\n",
       "       [0.53112196, 0.40782819, 0.36676669, 0.240416  ]])"
      ]
     },
     "execution_count": 11,
     "metadata": {},
     "output_type": "execute_result"
    }
   ],
   "source": [
    "# Values for order : CAF\n",
    "\n",
    "np.reshape(a, (4,4), order='C')"
   ]
  },
  {
   "cell_type": "markdown",
   "metadata": {},
   "source": [
    "Below, convert the array to a dataframe and name the columns A,B,C, and D."
   ]
  },
  {
   "cell_type": "code",
   "execution_count": null,
   "metadata": {},
   "outputs": [],
   "source": []
  },
  {
   "cell_type": "markdown",
   "metadata": {},
   "source": [
    "Change the name of column \"A\" to \"Alpha\" in the dataframe you created above."
   ]
  },
  {
   "cell_type": "code",
   "execution_count": null,
   "metadata": {
    "scrolled": true
   },
   "outputs": [],
   "source": []
  },
  {
   "cell_type": "markdown",
   "metadata": {},
   "source": [
    "Sort on \"Alpha\" column in ascending order and reset the index. No new column should be created."
   ]
  },
  {
   "cell_type": "code",
   "execution_count": null,
   "metadata": {
    "scrolled": true
   },
   "outputs": [],
   "source": []
  },
  {
   "cell_type": "markdown",
   "metadata": {},
   "source": [
    "Make column \"Alpha\" the dataframe's new index."
   ]
  },
  {
   "cell_type": "code",
   "execution_count": null,
   "metadata": {},
   "outputs": [],
   "source": []
  },
  {
   "cell_type": "markdown",
   "metadata": {},
   "source": [
    "Select the two first rows of the dataframe but exclude column \"D\"."
   ]
  },
  {
   "cell_type": "code",
   "execution_count": null,
   "metadata": {},
   "outputs": [],
   "source": []
  }
 ],
 "metadata": {
  "kernelspec": {
   "display_name": "Python 3",
   "language": "python",
   "name": "python3"
  },
  "language_info": {
   "codemirror_mode": {
    "name": "ipython",
    "version": 3
   },
   "file_extension": ".py",
   "mimetype": "text/x-python",
   "name": "python",
   "nbconvert_exporter": "python",
   "pygments_lexer": "ipython3",
   "version": "3.7.5"
  }
 },
 "nbformat": 4,
 "nbformat_minor": 4
}
