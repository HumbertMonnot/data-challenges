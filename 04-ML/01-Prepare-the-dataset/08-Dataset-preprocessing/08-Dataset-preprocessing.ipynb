{
 "cells": [
  {
   "cell_type": "markdown",
   "metadata": {},
   "source": [
    "# Challenge"
   ]
  },
  {
   "cell_type": "markdown",
   "metadata": {},
   "source": [
    "1. Load the `data.csv` file into a dataframe, explore the dataset, and perform the preprocessing manipulations that you feel are necessary. Once you are done, save your preprocessed dataset under the name `cleaned_data.csv`. Make sure that this new csv has the same column structure as the original one."
   ]
  },
  {
   "cell_type": "code",
   "execution_count": null,
   "metadata": {},
   "outputs": [],
   "source": [
    "# GO!"
   ]
  },
  {
   "cell_type": "markdown",
   "metadata": {},
   "source": [
    "2. In the challenges folder, you will see a `utils.py`. It contains a function `model()` that trains a Machine Learning model with the data you just preprocessed and returns its accuracy. Run the code below to import that function and run it. If you did the correct preprocessing, you should get above 90% accuracy. Run `make` in your terminal to double check."
   ]
  },
  {
   "cell_type": "code",
   "execution_count": null,
   "metadata": {},
   "outputs": [],
   "source": [
    "from utils import model\n",
    "\n",
    "model()"
   ]
  }
 ],
 "metadata": {
  "kernelspec": {
   "display_name": "Python 3",
   "language": "python",
   "name": "python3"
  },
  "language_info": {
   "codemirror_mode": {
    "name": "ipython",
    "version": 3
   },
   "file_extension": ".py",
   "mimetype": "text/x-python",
   "name": "python",
   "nbconvert_exporter": "python",
   "pygments_lexer": "ipython3",
   "version": "3.6.9"
  }
 },
 "nbformat": 4,
 "nbformat_minor": 4
}
