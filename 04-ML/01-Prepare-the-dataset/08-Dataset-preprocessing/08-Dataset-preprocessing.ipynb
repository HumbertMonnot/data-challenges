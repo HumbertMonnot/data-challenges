{
 "cells": [
  {
   "cell_type": "markdown",
   "metadata": {},
   "source": [
    "# Dataset Preprocessing"
   ]
  },
  {
   "cell_type": "markdown",
   "metadata": {},
   "source": [
    "1. Load the `data.csv` file into a dataframe, explore the dataset, and perform the preprocessing manipulations that you feel are necessary. Once you are done, save your preprocessed dataset under the name `cleaned_data.csv`. Make sure that this new csv has the same column structure as the original one."
   ]
  },
  {
   "cell_type": "code",
   "execution_count": null,
   "metadata": {},
   "outputs": [],
   "source": [
    "# GO!"
   ]
  },
  {
   "cell_type": "markdown",
   "metadata": {},
   "source": [
    "2. In the challenges folder, you will see a `utils.py`. It contains a function `model()` that:\n",
    "\n",
    "- Loads the data you preprocessed\n",
    "- Trains a Machine Learning algorithm (Decision Tree)\n",
    "- Returns its accuracy\n",
    "\n",
    "Run the code below to import and call the function. "
   ]
  },
  {
   "cell_type": "code",
   "execution_count": null,
   "metadata": {},
   "outputs": [],
   "source": [
    "from utils import model\n",
    "\n",
    "model()"
   ]
  },
  {
   "cell_type": "markdown",
   "metadata": {},
   "source": [
    "If you did the correct preprocessing, you should get above 90% accuracy. Run `make` in your terminal to validate your work.\n",
    "\n",
    "You are then free to explore and play around with the code within that function. The following documentations should help you make sense of it [[1]](https://scikit-learn.org/stable/modules/generated/sklearn.tree.DecisionTreeClassifier.html) [[2]](https://scikit-learn.org/stable/modules/generated/sklearn.model_selection.cross_val_score.html)."
   ]
  }
 ],
 "metadata": {
  "kernelspec": {
   "display_name": "Python 3",
   "language": "python",
   "name": "python3"
  },
  "language_info": {
   "codemirror_mode": {
    "name": "ipython",
    "version": 3
   },
   "file_extension": ".py",
   "mimetype": "text/x-python",
   "name": "python",
   "nbconvert_exporter": "python",
   "pygments_lexer": "ipython3",
   "version": "3.6.9"
  }
 },
 "nbformat": 4,
 "nbformat_minor": 4
}
