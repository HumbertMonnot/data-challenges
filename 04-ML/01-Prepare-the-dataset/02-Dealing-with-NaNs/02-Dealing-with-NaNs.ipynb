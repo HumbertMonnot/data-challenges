{
 "cells": [
  {
   "cell_type": "markdown",
   "metadata": {},
   "source": [
    "# Dealing with NaNs"
   ]
  },
  {
   "cell_type": "markdown",
   "metadata": {},
   "source": [
    "When dealing with missing data, it is important to find a solution appropriate to the specific dataset and task. \n",
    "\n",
    "Ask yourself questions like: Do I have enough data to simply remove rows containing NaNs, or would that make me lose valuable information? Do the NaNs actually carry information? Could I replace the NaNs by a value of my choice, or an average?\n",
    "\n",
    "Run the code below to generate a dataset with NaNs."
   ]
  },
  {
   "cell_type": "code",
   "execution_count": null,
   "metadata": {},
   "outputs": [],
   "source": [
    "import numpy as np\n",
    "import pandas as pd\n",
    "\n",
    "data = {\"x1\": [np.nan, 0.75 , 0.88, 0.73, np.nan,\n",
    "        0.77, 0.7, 0.8, 0.58, np.nan],\n",
    "        \n",
    "        \"x2\": [0.87, 0.77, 0.65, np.nan, 0.54, 0.1 ,\n",
    "        0.68 , 0.20, 0.54, np.nan ],\n",
    "       \n",
    "       \"y\": [1, 1, 2, 2, 1, 2, 1, 1, 2, 2 ]}\n",
    "\n",
    "\n",
    "df = pd.DataFrame(data)\n",
    "\n",
    "df"
   ]
  },
  {
   "cell_type": "markdown",
   "metadata": {},
   "source": [
    "Find a simple way to return a boolean indicating wether this dataframe contains any NaN values. [This](https://pandas.pydata.org/pandas-docs/stable/reference/api/pandas.isnull.html) should help."
   ]
  },
  {
   "cell_type": "code",
   "execution_count": null,
   "metadata": {},
   "outputs": [],
   "source": []
  },
  {
   "cell_type": "markdown",
   "metadata": {},
   "source": [
    "Compute the NaN value count for each column."
   ]
  },
  {
   "cell_type": "code",
   "execution_count": null,
   "metadata": {},
   "outputs": [],
   "source": []
  },
  {
   "cell_type": "markdown",
   "metadata": {},
   "source": [
    "Compute how many rows contain NaN values."
   ]
  },
  {
   "cell_type": "code",
   "execution_count": null,
   "metadata": {},
   "outputs": [],
   "source": []
  },
  {
   "cell_type": "markdown",
   "metadata": {},
   "source": [
    "### Dropping rows"
   ]
  },
  {
   "cell_type": "markdown",
   "metadata": {},
   "source": [
    "If your data permits it (enough data, balanced class, few NaNs), an option is to remove rows containing NaNs. Compute the class count if you were to do so."
   ]
  },
  {
   "cell_type": "code",
   "execution_count": null,
   "metadata": {},
   "outputs": [],
   "source": []
  },
  {
   "cell_type": "markdown",
   "metadata": {},
   "source": [
    "### Imputing the mean or median"
   ]
  },
  {
   "cell_type": "markdown",
   "metadata": {},
   "source": [
    "A common imputation method when dealing with NaNs is to replace them by the column mean. If the data has a lot of outliers, computing the median offers a more robust alternative.\n",
    "\n",
    "Create two new dataframes by filling with means and medians. [This](https://pandas.pydata.org/pandas-docs/stable/reference/api/pandas.DataFrame.fillna.html) should help."
   ]
  },
  {
   "cell_type": "code",
   "execution_count": null,
   "metadata": {},
   "outputs": [],
   "source": [
    "df_mean_imputed = "
   ]
  },
  {
   "cell_type": "code",
   "execution_count": null,
   "metadata": {},
   "outputs": [],
   "source": [
    "df_median_imputed = "
   ]
  },
  {
   "cell_type": "markdown",
   "metadata": {},
   "source": [
    "### Imputing a Value"
   ]
  },
  {
   "cell_type": "markdown",
   "metadata": {},
   "source": [
    "At times, your domain knowledge may suggest that NaNs can be replaced by a specific value. Replace missing x1 values by 1 and missing x2 values by 0."
   ]
  },
  {
   "cell_type": "code",
   "execution_count": null,
   "metadata": {},
   "outputs": [],
   "source": []
  }
 ],
 "metadata": {
  "kernelspec": {
   "display_name": "Python 3",
   "language": "python",
   "name": "python3"
  },
  "language_info": {
   "codemirror_mode": {
    "name": "ipython",
    "version": 3
   },
   "file_extension": ".py",
   "mimetype": "text/x-python",
   "name": "python",
   "nbconvert_exporter": "python",
   "pygments_lexer": "ipython3",
   "version": "3.6.9"
  }
 },
 "nbformat": 4,
 "nbformat_minor": 4
}
