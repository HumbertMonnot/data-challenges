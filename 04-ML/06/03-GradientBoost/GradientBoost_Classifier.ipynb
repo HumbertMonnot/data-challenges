{
 "cells": [
  {
   "cell_type": "markdown",
   "metadata": {},
   "source": [
    "## Gradient Boosting Classifier\n"
   ]
  },
  {
   "cell_type": "markdown",
   "metadata": {},
   "source": [
    "In this challenge, we’ll use Gradient Boosting to classify tumors. We'll assume that tumors can be benign or malignant. To make this exercise, we'll use the dataset from the scikit-learn API."
   ]
  },
  {
   "cell_type": "code",
   "execution_count": 11,
   "metadata": {},
   "outputs": [],
   "source": [
    "from sklearn.datasets import load_breast_cancer\n",
    "import pandas as pd\n",
    "\n",
    "breast_cancer = load_breast_cancer()\n",
    "X = pd.DataFrame(breast_cancer.data, columns=breast_cancer.feature_names)\n",
    "y = pd.Categorical.from_codes(breast_cancer.target, breast_cancer.target_names)"
   ]
  },
  {
   "cell_type": "markdown",
   "metadata": {},
   "source": [
    "## Visualize the data\n",
    "\n",
    "As usual, try to get more comfortable with the data and try to understand the meaning of each feature (column) and have a look at the target column. Also you should try to make some plots to visualize the data.\n",
    "\n",
    "Answer the following questions : \n",
    "1. what is the type of each column (for the features)\n",
    "2. how many features do we have for each sample?\n",
    "3. how many samples do we have in the dataset?\n",
    "4. Is this a classification or regression problem? If classification, what are the different categories?\n",
    "5. How many malignant tumors do we have in the dataset?\n",
    "6. How many benign?"
   ]
  },
  {
   "cell_type": "code",
   "execution_count": 20,
   "metadata": {},
   "outputs": [
    {
     "data": {
      "text/plain": [
       "[malignant, malignant, malignant, malignant, malignant, ..., malignant, malignant, malignant, malignant, benign]\n",
       "Length: 569\n",
       "Categories (2, object): [malignant, benign]"
      ]
     },
     "execution_count": 20,
     "metadata": {},
     "output_type": "execute_result"
    }
   ],
   "source": [
    "# shape / dtypes\n",
    "\n",
    "y.value_counts()"
   ]
  },
  {
   "cell_type": "markdown",
   "metadata": {},
   "source": [
    "## Split and \"clean\" the data"
   ]
  },
  {
   "cell_type": "markdown",
   "metadata": {},
   "source": [
    "As you should have noticed, the target is a **categorical feature**. So we should start by convert this categories into numbers, using the `LabelEncoder` class of scikit learn. For this problem, we’ll set malignant to 1 and benign to 0."
   ]
  },
  {
   "cell_type": "code",
   "execution_count": null,
   "metadata": {},
   "outputs": [],
   "source": [
    "# value_counts"
   ]
  },
  {
   "cell_type": "markdown",
   "metadata": {},
   "source": [
    "Split the data into 60/40 between training and test sets thanks to **train_test_split** from scikit learn. Add the option `random_state=1`"
   ]
  },
  {
   "cell_type": "code",
   "execution_count": 86,
   "metadata": {},
   "outputs": [],
   "source": [
    "from sklearn.preprocessing import LabelEncoder\n",
    "from sklearn.model_selection import train_test_split\n",
    "\n",
    "encoder = LabelEncoder()\n",
    "encoder.fit(y)\n",
    "\n",
    "binary_encoded_y = encoder.transform(y)\n",
    "#binary_encoded_y.value_counts()\n",
    "\n",
    "Xtrain, Xtest, ytrain, ytest = train_test_split(X,binary_encoded_y,test_size=0.4,random_state=1)"
   ]
  },
  {
   "cell_type": "markdown",
   "metadata": {},
   "source": [
    "## Create, train, predict and measure with Gradient Boosting\n",
    "\n",
    "You should be familiar with these steps by now : \n",
    "- initialize your model\n",
    "- train (\"fit\") your model on the training data\n",
    "- make predictions on the test data\n",
    "- evaluate the performance of your model\n",
    "\n",
    "We will use max_depth=1. As we explained before, we want weak (but fast) learner. max_depth=1 is a good way to do that. Basically we tell our model that we’d like our forest to be composed of trees with a single decision node and two leaves. \n",
    "\n",
    "**quick reminder**: n_estimators specifies the number of trees in our forest.\n",
    "\n",
    "For this part of the exercise, you have to: \n",
    "- create an instance of GradientBoostingClassifier apply on a DecisionTreeClassifier with max_depth=1 and 50 trees in your forest\n",
    "- train your classifier on the training data\n",
    "- predict whether a tumor is malignant or benign on the test set\n",
    "- evaluate the model using a **confusion matrix**. Note : do not use this method blindly. False Positive, True Negative,... are an important concept in machine learning.\n",
    "\n"
   ]
  },
  {
   "cell_type": "code",
   "execution_count": 29,
   "metadata": {},
   "outputs": [
    {
     "data": {
      "text/plain": [
       "array([[143,   5],\n",
       "       [  6,  74]])"
      ]
     },
     "execution_count": 29,
     "metadata": {},
     "output_type": "execute_result"
    }
   ],
   "source": [
    "from sklearn.ensemble import GradientBoostingClassifier\n",
    "from sklearn.metrics import confusion_matrix\n",
    "\n",
    "\n",
    "clf = GradientBoostingClassifier(n_estimators=50)\n",
    "clf.fit(Xtrain,ytrain)\n",
    "\n",
    "ypred = clf.predict(Xtest)\n",
    "confusion_matrix(ytest,ypred )"
   ]
  },
  {
   "cell_type": "markdown",
   "metadata": {},
   "source": [
    "Could you answer these questions : \n",
    "1. How many false positive do we have? How does that translate in that context?\n",
    "2. How many false negative do we have? How does that translate in that context?\n",
    "3. How many true negative do we have? How does that translate in that context?\n",
    "4. What are the index(es) of the false positive? \n",
    "\n"
   ]
  },
  {
   "cell_type": "code",
   "execution_count": 31,
   "metadata": {},
   "outputs": [
    {
     "data": {
      "text/html": [
       "<div>\n",
       "<style scoped>\n",
       "    .dataframe tbody tr th:only-of-type {\n",
       "        vertical-align: middle;\n",
       "    }\n",
       "\n",
       "    .dataframe tbody tr th {\n",
       "        vertical-align: top;\n",
       "    }\n",
       "\n",
       "    .dataframe thead th {\n",
       "        text-align: right;\n",
       "    }\n",
       "</style>\n",
       "<table border=\"1\" class=\"dataframe\">\n",
       "  <thead>\n",
       "    <tr style=\"text-align: right;\">\n",
       "      <th></th>\n",
       "      <th>mean radius</th>\n",
       "      <th>mean texture</th>\n",
       "      <th>mean perimeter</th>\n",
       "      <th>mean area</th>\n",
       "      <th>mean smoothness</th>\n",
       "      <th>mean compactness</th>\n",
       "      <th>mean concavity</th>\n",
       "      <th>mean concave points</th>\n",
       "      <th>mean symmetry</th>\n",
       "      <th>mean fractal dimension</th>\n",
       "      <th>...</th>\n",
       "      <th>worst radius</th>\n",
       "      <th>worst texture</th>\n",
       "      <th>worst perimeter</th>\n",
       "      <th>worst area</th>\n",
       "      <th>worst smoothness</th>\n",
       "      <th>worst compactness</th>\n",
       "      <th>worst concavity</th>\n",
       "      <th>worst concave points</th>\n",
       "      <th>worst symmetry</th>\n",
       "      <th>worst fractal dimension</th>\n",
       "    </tr>\n",
       "  </thead>\n",
       "  <tbody>\n",
       "    <tr>\n",
       "      <th>157</th>\n",
       "      <td>16.84</td>\n",
       "      <td>19.46</td>\n",
       "      <td>108.40</td>\n",
       "      <td>880.2</td>\n",
       "      <td>0.07445</td>\n",
       "      <td>0.07223</td>\n",
       "      <td>0.05150</td>\n",
       "      <td>0.02771</td>\n",
       "      <td>0.1844</td>\n",
       "      <td>0.05268</td>\n",
       "      <td>...</td>\n",
       "      <td>18.22</td>\n",
       "      <td>28.07</td>\n",
       "      <td>120.30</td>\n",
       "      <td>1032.0</td>\n",
       "      <td>0.08774</td>\n",
       "      <td>0.1710</td>\n",
       "      <td>0.1882</td>\n",
       "      <td>0.08436</td>\n",
       "      <td>0.2527</td>\n",
       "      <td>0.05972</td>\n",
       "    </tr>\n",
       "    <tr>\n",
       "      <th>291</th>\n",
       "      <td>14.96</td>\n",
       "      <td>19.10</td>\n",
       "      <td>97.03</td>\n",
       "      <td>687.3</td>\n",
       "      <td>0.08992</td>\n",
       "      <td>0.09823</td>\n",
       "      <td>0.05940</td>\n",
       "      <td>0.04819</td>\n",
       "      <td>0.1879</td>\n",
       "      <td>0.05852</td>\n",
       "      <td>...</td>\n",
       "      <td>16.25</td>\n",
       "      <td>26.19</td>\n",
       "      <td>109.10</td>\n",
       "      <td>809.8</td>\n",
       "      <td>0.13130</td>\n",
       "      <td>0.3030</td>\n",
       "      <td>0.1804</td>\n",
       "      <td>0.14890</td>\n",
       "      <td>0.2962</td>\n",
       "      <td>0.08472</td>\n",
       "    </tr>\n",
       "    <tr>\n",
       "      <th>476</th>\n",
       "      <td>14.20</td>\n",
       "      <td>20.53</td>\n",
       "      <td>92.41</td>\n",
       "      <td>618.4</td>\n",
       "      <td>0.08931</td>\n",
       "      <td>0.11080</td>\n",
       "      <td>0.05063</td>\n",
       "      <td>0.03058</td>\n",
       "      <td>0.1506</td>\n",
       "      <td>0.06009</td>\n",
       "      <td>...</td>\n",
       "      <td>16.45</td>\n",
       "      <td>27.26</td>\n",
       "      <td>112.10</td>\n",
       "      <td>828.5</td>\n",
       "      <td>0.11530</td>\n",
       "      <td>0.3429</td>\n",
       "      <td>0.2512</td>\n",
       "      <td>0.13390</td>\n",
       "      <td>0.2534</td>\n",
       "      <td>0.07858</td>\n",
       "    </tr>\n",
       "    <tr>\n",
       "      <th>81</th>\n",
       "      <td>13.34</td>\n",
       "      <td>15.86</td>\n",
       "      <td>86.49</td>\n",
       "      <td>520.0</td>\n",
       "      <td>0.10780</td>\n",
       "      <td>0.15350</td>\n",
       "      <td>0.11690</td>\n",
       "      <td>0.06987</td>\n",
       "      <td>0.1942</td>\n",
       "      <td>0.06902</td>\n",
       "      <td>...</td>\n",
       "      <td>15.53</td>\n",
       "      <td>23.19</td>\n",
       "      <td>96.66</td>\n",
       "      <td>614.9</td>\n",
       "      <td>0.15360</td>\n",
       "      <td>0.4791</td>\n",
       "      <td>0.4858</td>\n",
       "      <td>0.17080</td>\n",
       "      <td>0.3527</td>\n",
       "      <td>0.10160</td>\n",
       "    </tr>\n",
       "    <tr>\n",
       "      <th>526</th>\n",
       "      <td>13.46</td>\n",
       "      <td>18.75</td>\n",
       "      <td>87.44</td>\n",
       "      <td>551.1</td>\n",
       "      <td>0.10750</td>\n",
       "      <td>0.11380</td>\n",
       "      <td>0.04201</td>\n",
       "      <td>0.03152</td>\n",
       "      <td>0.1723</td>\n",
       "      <td>0.06317</td>\n",
       "      <td>...</td>\n",
       "      <td>15.35</td>\n",
       "      <td>25.16</td>\n",
       "      <td>101.90</td>\n",
       "      <td>719.8</td>\n",
       "      <td>0.16240</td>\n",
       "      <td>0.3124</td>\n",
       "      <td>0.2654</td>\n",
       "      <td>0.14270</td>\n",
       "      <td>0.3518</td>\n",
       "      <td>0.08665</td>\n",
       "    </tr>\n",
       "  </tbody>\n",
       "</table>\n",
       "<p>5 rows × 30 columns</p>\n",
       "</div>"
      ],
      "text/plain": [
       "     mean radius  mean texture  mean perimeter  mean area  mean smoothness  \\\n",
       "157        16.84         19.46          108.40      880.2          0.07445   \n",
       "291        14.96         19.10           97.03      687.3          0.08992   \n",
       "476        14.20         20.53           92.41      618.4          0.08931   \n",
       "81         13.34         15.86           86.49      520.0          0.10780   \n",
       "526        13.46         18.75           87.44      551.1          0.10750   \n",
       "\n",
       "     mean compactness  mean concavity  mean concave points  mean symmetry  \\\n",
       "157           0.07223         0.05150              0.02771         0.1844   \n",
       "291           0.09823         0.05940              0.04819         0.1879   \n",
       "476           0.11080         0.05063              0.03058         0.1506   \n",
       "81            0.15350         0.11690              0.06987         0.1942   \n",
       "526           0.11380         0.04201              0.03152         0.1723   \n",
       "\n",
       "     mean fractal dimension  ...  worst radius  worst texture  \\\n",
       "157                 0.05268  ...         18.22          28.07   \n",
       "291                 0.05852  ...         16.25          26.19   \n",
       "476                 0.06009  ...         16.45          27.26   \n",
       "81                  0.06902  ...         15.53          23.19   \n",
       "526                 0.06317  ...         15.35          25.16   \n",
       "\n",
       "     worst perimeter  worst area  worst smoothness  worst compactness  \\\n",
       "157           120.30      1032.0           0.08774             0.1710   \n",
       "291           109.10       809.8           0.13130             0.3030   \n",
       "476           112.10       828.5           0.11530             0.3429   \n",
       "81             96.66       614.9           0.15360             0.4791   \n",
       "526           101.90       719.8           0.16240             0.3124   \n",
       "\n",
       "     worst concavity  worst concave points  worst symmetry  \\\n",
       "157           0.1882               0.08436          0.2527   \n",
       "291           0.1804               0.14890          0.2962   \n",
       "476           0.2512               0.13390          0.2534   \n",
       "81            0.4858               0.17080          0.3527   \n",
       "526           0.2654               0.14270          0.3518   \n",
       "\n",
       "     worst fractal dimension  \n",
       "157                  0.05972  \n",
       "291                  0.08472  \n",
       "476                  0.07858  \n",
       "81                   0.10160  \n",
       "526                  0.08665  \n",
       "\n",
       "[5 rows x 30 columns]"
      ]
     },
     "execution_count": 31,
     "metadata": {},
     "output_type": "execute_result"
    }
   ],
   "source": [
    "Xtest[(ytest == 0) & (ypred == 1)]"
   ]
  },
  {
   "cell_type": "markdown",
   "metadata": {},
   "source": [
    "## Optimise further our classifier\n",
    "\n",
    "### Find the number of optimal trees\n",
    "\n",
    "We can plot the number of estimators needed to get the best performance for our current problem. You should see when the error gets asymptotical by plotting increasing number of trainings.\n",
    "\n",
    "**Plot the training error for the Gradient Boosting in function of the number of trees to find the optimal number of trees needed**\n",
    "\n",
    "Hint: you can access to those submodels training through the `staged_predict` method of Gradient Boosting class"
   ]
  },
  {
   "cell_type": "code",
   "execution_count": 46,
   "metadata": {},
   "outputs": [
    {
     "data": {
      "text/plain": [
       "[<matplotlib.lines.Line2D at 0x1a1eee87f0>]"
      ]
     },
     "execution_count": 46,
     "metadata": {},
     "output_type": "execute_result"
    },
    {
     "data": {
      "image/png": "[encoded data removed]",
      "text/plain": [
       "<Figure size 432x288 with 1 Axes>"
      ]
     },
     "metadata": {
      "needs_background": "light"
     },
     "output_type": "display_data"
    }
   ],
   "source": [
    "import matplotlib.pyplot as plt\n",
    "from sklearn.metrics import accuracy_score\n",
    "\n",
    "y_preds = []\n",
    "for i, y_pred in enumerate(clf.staged_predict(Xtest)):\n",
    "    y_preds.append(accuracy_score(ytest, y_pred))\n",
    "    \n",
    "plt.plot(y_preds)"
   ]
  },
  {
   "cell_type": "markdown",
   "metadata": {},
   "source": [
    "We can feed this classifier to a logistic regression in order to improve the decision. Each leaf position is gonna be the new feature for our samples, as what is called a \"one-hot\" encoding.\n",
    "\n",
    "**first, import [the one-hot encoding preprocessing method](https://scikit-learn.org/stable/modules/generated/sklearn.preprocessing.OneHotEncoder.html) from scikit learn and look at what it does**"
   ]
  },
  {
   "cell_type": "code",
   "execution_count": 50,
   "metadata": {},
   "outputs": [],
   "source": [
    "from sklearn.preprocessing import OneHotEncoder"
   ]
  },
  {
   "cell_type": "markdown",
   "metadata": {},
   "source": [
    "Then, look at [the `apply` method of the gradient boosting class](https://scikit-learn.org/stable/modules/generated/sklearn.ensemble.GradientBoostingClassifier.html#sklearn.ensemble.GradientBoostingClassifier.apply)\n",
    "\n",
    "The idea is to use this `apply` method to get new features, that we can encode with the one hot encoder method. Because it's a binary classifier, you'll need to extract the leaves index for one class only. \n",
    "\n",
    "Like this: `classifier.apply(train_X)[:, :, 0]`\n",
    "\n",
    "**Create a hot encoder, fit it to the training set classification of our gradient boosting model.**"
   ]
  },
  {
   "cell_type": "code",
   "execution_count": 61,
   "metadata": {},
   "outputs": [],
   "source": [
    "ohe = OneHotEncoder(categories='auto')\n",
    "ohe.fit(clf.apply(Xtrain)[:, :, 0])\n",
    "\n",
    "Xtrain_enc = ohe.transform(clf.apply(Xtrain)[:, :, 0])"
   ]
  },
  {
   "cell_type": "markdown",
   "metadata": {},
   "source": [
    "**You can now encode both our training and testing set**"
   ]
  },
  {
   "cell_type": "code",
   "execution_count": 62,
   "metadata": {},
   "outputs": [],
   "source": [
    "Xtest_enc = ohe.transform(clf.apply(Xtest)[:, :, 0])"
   ]
  },
  {
   "cell_type": "markdown",
   "metadata": {},
   "source": [
    "**We can use those new hot encoded features as an input for a logistic regression model. Look at the performance of this new metaclassification**"
   ]
  },
  {
   "cell_type": "code",
   "execution_count": 75,
   "metadata": {},
   "outputs": [
    {
     "name": "stderr",
     "output_type": "stream",
     "text": [
      "//anaconda3/lib/python3.7/site-packages/sklearn/linear_model/logistic.py:432: FutureWarning: Default solver will be changed to 'lbfgs' in 0.22. Specify a solver to silence this warning.\n",
      "  FutureWarning)\n"
     ]
    },
    {
     "data": {
      "text/plain": [
       "0.9517543859649122"
      ]
     },
     "execution_count": 75,
     "metadata": {},
     "output_type": "execute_result"
    }
   ],
   "source": [
    "from sklearn.linear_model import LogisticRegression\n",
    "\n",
    "lg = LogisticRegression()\n",
    "\n",
    "lg.fit(Xtrain_enc, ytrain)\n",
    "\n",
    "ypred = lg.predict(Xtest_enc)\n",
    "\n",
    "clf.score(Xtest, ytest)\n",
    "#lg.score(Xtest_enc, ytest)"
   ]
  },
  {
   "cell_type": "markdown",
   "metadata": {},
   "source": [
    "This additional prediction layer can be useful for more complex modelisation problems"
   ]
  },
  {
   "cell_type": "markdown",
   "metadata": {},
   "source": [
    "## ROC Curve\n",
    "\n",
    "ROC curves are extensively used for classification problems.\n",
    "\n",
    "**You can plot both ROC curves zoomed out on the decision area [to plot de ROC curve](https://scikit-learn.org/stable/auto_examples/model_selection/plot_roc.html)**\n",
    "\n",
    "Hint: it's False Positive Rate (FPR) on the X-axis and True Positive Rate on the Y-axis\n",
    "Hint2: use the `xlim` and `ylim` properties to zoom in the zone of interest"
   ]
  },
  {
   "cell_type": "code",
   "execution_count": 85,
   "metadata": {},
   "outputs": [
    {
     "data": {
      "text/plain": [
       "[<matplotlib.lines.Line2D at 0x1a1f6f3390>]"
      ]
     },
     "execution_count": 85,
     "metadata": {},
     "output_type": "execute_result"
    },
    {
     "data": {
      "image/png": "[encoded data removed]",
      "text/plain": [
       "<Figure size 432x288 with 1 Axes>"
      ]
     },
     "metadata": {
      "needs_background": "light"
     },
     "output_type": "display_data"
    }
   ],
   "source": [
    "from sklearn.metrics import roc_curve\n",
    "\n",
    "yscore = clf.decision_function(Xtest)\n",
    "yscore_lg = lg.decision_function(Xtest_enc)\n",
    "\n",
    "fpr1, tpr1, _ = roc_curve(ytest, yscore)\n",
    "fpr2, tpr2, _ = roc_curve(ytest, yscore_lg)\n",
    "\n",
    "plt.plot(fpr1, tpr1)\n",
    "plt.plot(fpr2, tpr2)"
   ]
  },
  {
   "cell_type": "markdown",
   "metadata": {},
   "source": [
    "NB: Here we have nearly similar results because the dataset is small but encoding new features from a boosting classifier to feed another simpler estimator can be very powerful!"
   ]
  }
 ],
 "metadata": {
  "kernelspec": {
   "display_name": "Python 3",
   "language": "python",
   "name": "python3"
  },
  "language_info": {
   "codemirror_mode": {
    "name": "ipython",
    "version": 3
   },
   "file_extension": ".py",
   "mimetype": "text/x-python",
   "name": "python",
   "nbconvert_exporter": "python",
   "pygments_lexer": "ipython3",
   "version": "3.7.3"
  }
 },
 "nbformat": 4,
 "nbformat_minor": 2
}
