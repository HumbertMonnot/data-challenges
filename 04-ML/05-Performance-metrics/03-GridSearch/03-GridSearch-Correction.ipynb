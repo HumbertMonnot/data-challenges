{
 "cells": [
  {
   "cell_type": "markdown",
   "metadata": {},
   "source": [
    "# Grid Search "
   ]
  },
  {
   "cell_type": "markdown",
   "metadata": {},
   "source": [
    "Grid Searching is the process of testing different parameter values for a model and selecting the ones that produce the best results. \n",
    "\n",
    "In this exercice, you will:\n",
    "- Load data\n",
    "- Make a parameter dictionary\n",
    "- Initiate a GridSearch algorithm\n",
    "- GridSearch your data\n",
    "- Print the results"
   ]
  },
  {
   "cell_type": "markdown",
   "metadata": {},
   "source": [
    "## Load Data "
   ]
  },
  {
   "cell_type": "markdown",
   "metadata": {},
   "source": [
    "Sklearn has a number of easy to use datasets [[doc]](https://scikit-learn.org/stable/modules/classes.html#module-sklearn.datasets).\n",
    "- Load the \"iris\" dataset\n",
    "- Extract the two first features of the dataset as \"X\"\n",
    "- Extract the target of the dataset as y"
   ]
  },
  {
   "cell_type": "code",
   "execution_count": 1,
   "metadata": {},
   "outputs": [],
   "source": [
    "from sklearn import datasets\n",
    "\n",
    "iris = datasets.load_iris() # Load dataset as \"iris\"\n",
    "\n",
    "X = iris.data[:, :2] # Keep only 2 first features, Sepal Lenght and Sepal Width\n",
    "\n",
    "y = iris.target # Load targets"
   ]
  },
  {
   "cell_type": "markdown",
   "metadata": {},
   "source": [
    "## Parameter Dictionary"
   ]
  },
  {
   "cell_type": "markdown",
   "metadata": {},
   "source": [
    "The parameter dictionary defines which values of the parameter will be tested during the Grid Search.\n",
    "\n",
    "Remember parameter 'C', the error function of an SVM? Make a dictionary to test for 'C': [0.1, 1, 10]"
   ]
  },
  {
   "cell_type": "code",
   "execution_count": 2,
   "metadata": {},
   "outputs": [],
   "source": [
    "param_dic = [{'C': [0.1, 1, 10]}]"
   ]
  },
  {
   "cell_type": "markdown",
   "metadata": {},
   "source": [
    "## Initiate and Fit Grid Search"
   ]
  },
  {
   "cell_type": "markdown",
   "metadata": {},
   "source": [
    "Sklearn's `GridSearchCV` [[doc]](https://scikit-learn.org/stable/modules/generated/sklearn.model_selection.GridSearchCV.html) trains multiple models for each parameter value, cross validates the results, and stores the best parameters. \n",
    "\n",
    "It takes as arguments the Machine Learning algorithm, the parameter dictionary, the number of cross validations to perform, and the scoring metrics.\n",
    "\n",
    "Initiate a gridsearch with the following arguments:\n",
    "- A default classification SVM\n",
    "- The above created parameter dictionary\n",
    "- 10-Fold Cross Validation\n",
    "- \"accuracy\" scoring metric\n",
    "\n",
    "Then, fit to data."
   ]
  },
  {
   "cell_type": "code",
   "execution_count": 3,
   "metadata": {},
   "outputs": [
    {
     "data": {
      "text/plain": [
       "GridSearchCV(cv=10, error_score='raise-deprecating',\n",
       "             estimator=SVC(C=1.0, cache_size=200, class_weight=None, coef0=0.0,\n",
       "                           decision_function_shape='ovr', degree=3,\n",
       "                           gamma='auto', kernel='rbf', max_iter=-1,\n",
       "                           probability=False, random_state=None, shrinking=True,\n",
       "                           tol=0.001, verbose=False),\n",
       "             iid='warn', n_jobs=None, param_grid=[{'C': [0.1, 1, 10]}],\n",
       "             pre_dispatch='2*n_jobs', refit=True, return_train_score=False,\n",
       "             scoring='accuracy', verbose=0)"
      ]
     },
     "execution_count": 3,
     "metadata": {},
     "output_type": "execute_result"
    }
   ],
   "source": [
    "from sklearn.model_selection import GridSearchCV\n",
    "from sklearn import svm\n",
    "\n",
    "gridsearch = GridSearchCV(svm.SVC(gamma='auto'), param_dic, cv=10, scoring='accuracy')\n",
    "\n",
    "gridsearch.fit(X, y)"
   ]
  },
  {
   "cell_type": "markdown",
   "metadata": {},
   "source": [
    "## Print Results "
   ]
  },
  {
   "cell_type": "markdown",
   "metadata": {},
   "source": [
    "The results of the gridsearch can be unpacked.\n",
    "\n",
    "Unpack and print:\n",
    "- The best parameter value\n",
    "- The best classification accuracy"
   ]
  },
  {
   "cell_type": "code",
   "execution_count": 4,
   "metadata": {},
   "outputs": [
    {
     "name": "stdout",
     "output_type": "stream",
     "text": [
      "{'C': 0.1}\n",
      "0.8133333333333334\n"
     ]
    }
   ],
   "source": [
    "print(gridsearch.best_params_)\n",
    "\n",
    "print(gridsearch.best_score_)"
   ]
  },
  {
   "cell_type": "markdown",
   "metadata": {},
   "source": [
    "Below, unpack classification accuracy and standard deviation for each tested value of 'C'. They are stored in `cv_results_`"
   ]
  },
  {
   "cell_type": "code",
   "execution_count": 5,
   "metadata": {},
   "outputs": [
    {
     "name": "stdout",
     "output_type": "stream",
     "text": [
      "0.813 (+/-0.196) for {'C': 0.1}\n",
      "0.813 (+/-0.155) for {'C': 1}\n",
      "0.800 (+/-0.158) for {'C': 10}\n"
     ]
    }
   ],
   "source": [
    "mean = gridsearch.cv_results_['mean_test_score']\n",
    "std = gridsearch.cv_results_['std_test_score']\n",
    "\n",
    "for mean, std, params in zip(mean, std, gridsearch.cv_results_['params']):\n",
    "    print(\"%0.3f (+/-%0.03f) for %r\"\n",
    "          % (mean, std * 2, params))"
   ]
  },
  {
   "cell_type": "markdown",
   "metadata": {},
   "source": [
    "Parameter tuning is a key step of model building. Each Machine Learning algorithm has specific parameters that affect its performance. In the next section, you will explore SVM parameters Kernel and Gamma."
   ]
  }
 ],
 "metadata": {
  "kernelspec": {
   "display_name": "Python 3",
   "language": "python",
   "name": "python3"
  },
  "language_info": {
   "codemirror_mode": {
    "name": "ipython",
    "version": 3
   },
   "file_extension": ".py",
   "mimetype": "text/x-python",
   "name": "python",
   "nbconvert_exporter": "python",
   "pygments_lexer": "ipython3",
   "version": "3.6.9"
  }
 },
 "nbformat": 4,
 "nbformat_minor": 4
}
