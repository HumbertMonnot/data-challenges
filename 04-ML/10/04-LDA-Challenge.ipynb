{
 "cells": [
  {
   "cell_type": "markdown",
   "metadata": {
    "collapsed": true
   },
   "source": [
    "# 04-Latent Dirichlet Allocation"
   ]
  },
  {
   "cell_type": "markdown",
   "metadata": {
    "collapsed": true
   },
   "source": [
    "LDA is a generative statitstical model. It locates similarities between texts in the form of key words that belong to potential topics. The higher the presence of certain key words in a text, the higher the probability of it belonging to the corresponding topic. The topics can then be visualized or used to label data.\n",
    "\n",
    "In this exercice, you will learn to build and adjust an LDA model to generate potential topics, explore their corresponding key words, and visualize the model. You will be working on 3 categories of the 20 Newsgroups dataset available in Sklearn.\n",
    "\n",
    "Run the code below to load the data into a dataframe and visualize an example."
   ]
  },
  {
   "cell_type": "code",
   "execution_count": 14,
   "metadata": {},
   "outputs": [
    {
     "name": "stdout",
     "output_type": "stream",
     "text": [
      "From: Patrick Walker <F1HH@UNB.CA>\n",
      "Subject: Did you really expect Toronto to go anywhere?  REALLY!\n",
      "Lines: 13\n",
      "Organization: The University of New Brunswick\n",
      "\n",
      "Detroit is a very disciplined team.  There's a lot of Europeans\n",
      "in Detroit which would make the game fast, so Toronto would have\n",
      "to slow the game down, which means drawing penalties, as a last\n",
      "resort anyway.  Toronto will be a good team as soon as they get\n",
      "more good players.  Toronto is just an average team, Detroit isn't\n",
      "Ballard screwed Toronto when he was owner.  Everyone knows that.\n",
      "and it's going to take time for Toronto to become a real force.\n",
      "I expect Gilmour to be burnt out next year.  He can't pull the\n",
      "whole team forever.\n",
      "\n",
      "Patrick Walker\n",
      "University of New Brunswick\n",
      "\n",
      "\n"
     ]
    },
    {
     "data": {
      "text/html": [
       "<div>\n",
       "<style>\n",
       "    .dataframe thead tr:only-child th {\n",
       "        text-align: right;\n",
       "    }\n",
       "\n",
       "    .dataframe thead th {\n",
       "        text-align: left;\n",
       "    }\n",
       "\n",
       "    .dataframe tbody tr th {\n",
       "        vertical-align: top;\n",
       "    }\n",
       "</style>\n",
       "<table border=\"1\" class=\"dataframe\">\n",
       "  <thead>\n",
       "    <tr style=\"text-align: right;\">\n",
       "      <th></th>\n",
       "      <th>text</th>\n",
       "    </tr>\n",
       "  </thead>\n",
       "  <tbody>\n",
       "    <tr>\n",
       "      <th>0</th>\n",
       "      <td>From: huot@cray.com (Tom Huot)\\nSubject: Re: U...</td>\n",
       "    </tr>\n",
       "    <tr>\n",
       "      <th>1</th>\n",
       "      <td>From: golchowy@alchemy.chem.utoronto.ca (Geral...</td>\n",
       "    </tr>\n",
       "    <tr>\n",
       "      <th>2</th>\n",
       "      <td>From: trajan@cwis.unomaha.edu (Stephen McIntyr...</td>\n",
       "    </tr>\n",
       "    <tr>\n",
       "      <th>3</th>\n",
       "      <td>From: gt1091a@prism.gatech.EDU (gt1091a gt1091...</td>\n",
       "    </tr>\n",
       "    <tr>\n",
       "      <th>4</th>\n",
       "      <td>From: jrmst8+@pitt.edu (Joseph R Mcdonald)\\nSu...</td>\n",
       "    </tr>\n",
       "  </tbody>\n",
       "</table>\n",
       "</div>"
      ],
      "text/plain": [
       "                                                text\n",
       "0  From: huot@cray.com (Tom Huot)\\nSubject: Re: U...\n",
       "1  From: golchowy@alchemy.chem.utoronto.ca (Geral...\n",
       "2  From: trajan@cwis.unomaha.edu (Stephen McIntyr...\n",
       "3  From: gt1091a@prism.gatech.EDU (gt1091a gt1091...\n",
       "4  From: jrmst8+@pitt.edu (Joseph R Mcdonald)\\nSu..."
      ]
     },
     "execution_count": 14,
     "metadata": {},
     "output_type": "execute_result"
    }
   ],
   "source": [
    "from sklearn.datasets import fetch_20newsgroups\n",
    "import pandas as pd\n",
    "\n",
    "data = fetch_20newsgroups(categories = ['talk.politics.mideast', 'rec.sport.hockey','soc.religion.christian']) \n",
    "\n",
    "mydataframe = pd.DataFrame({'text': data.data})\n",
    "\n",
    "print(mydataframe.text.iloc[5])\n",
    "\n",
    "mydataframe.head()"
   ]
  },
  {
   "cell_type": "markdown",
   "metadata": {},
   "source": [
    "## Preprocessing "
   ]
  },
  {
   "cell_type": "markdown",
   "metadata": {},
   "source": [
    "You're used to it by now... Clean up! Store the cleaned text in a new dataframe column \"clean_text\"."
   ]
  },
  {
   "cell_type": "code",
   "execution_count": 15,
   "metadata": {},
   "outputs": [
    {
     "data": {
      "text/html": [
       "<div>\n",
       "<style>\n",
       "    .dataframe thead tr:only-child th {\n",
       "        text-align: right;\n",
       "    }\n",
       "\n",
       "    .dataframe thead th {\n",
       "        text-align: left;\n",
       "    }\n",
       "\n",
       "    .dataframe tbody tr th {\n",
       "        vertical-align: top;\n",
       "    }\n",
       "</style>\n",
       "<table border=\"1\" class=\"dataframe\">\n",
       "  <thead>\n",
       "    <tr style=\"text-align: right;\">\n",
       "      <th></th>\n",
       "      <th>text</th>\n",
       "      <th>clean_text</th>\n",
       "    </tr>\n",
       "  </thead>\n",
       "  <tbody>\n",
       "    <tr>\n",
       "      <th>0</th>\n",
       "      <td>From: huot@cray.com (Tom Huot)\\nSubject: Re: U...</td>\n",
       "      <td>['huot', 'cray', 'com', 'tom', 'huot', 'subjec...</td>\n",
       "    </tr>\n",
       "    <tr>\n",
       "      <th>1</th>\n",
       "      <td>From: golchowy@alchemy.chem.utoronto.ca (Geral...</td>\n",
       "      <td>['golchowy', 'alchemy', 'chem', 'utoronto', 'c...</td>\n",
       "    </tr>\n",
       "    <tr>\n",
       "      <th>2</th>\n",
       "      <td>From: trajan@cwis.unomaha.edu (Stephen McIntyr...</td>\n",
       "      <td>['trajan', 'cwis', 'unomaha', 'edu', 'stephen'...</td>\n",
       "    </tr>\n",
       "    <tr>\n",
       "      <th>3</th>\n",
       "      <td>From: gt1091a@prism.gatech.EDU (gt1091a gt1091...</td>\n",
       "      <td>['prism', 'gatech', 'edu', 'kaan', 'timucin', ...</td>\n",
       "    </tr>\n",
       "    <tr>\n",
       "      <th>4</th>\n",
       "      <td>From: jrmst8+@pitt.edu (Joseph R Mcdonald)\\nSu...</td>\n",
       "      <td>['pitt', 'edu', 'joseph', 'r', 'mcdonald', 'su...</td>\n",
       "    </tr>\n",
       "  </tbody>\n",
       "</table>\n",
       "</div>"
      ],
      "text/plain": [
       "                                                text  \\\n",
       "0  From: huot@cray.com (Tom Huot)\\nSubject: Re: U...   \n",
       "1  From: golchowy@alchemy.chem.utoronto.ca (Geral...   \n",
       "2  From: trajan@cwis.unomaha.edu (Stephen McIntyr...   \n",
       "3  From: gt1091a@prism.gatech.EDU (gt1091a gt1091...   \n",
       "4  From: jrmst8+@pitt.edu (Joseph R Mcdonald)\\nSu...   \n",
       "\n",
       "                                          clean_text  \n",
       "0  ['huot', 'cray', 'com', 'tom', 'huot', 'subjec...  \n",
       "1  ['golchowy', 'alchemy', 'chem', 'utoronto', 'c...  \n",
       "2  ['trajan', 'cwis', 'unomaha', 'edu', 'stephen'...  \n",
       "3  ['prism', 'gatech', 'edu', 'kaan', 'timucin', ...  \n",
       "4  ['pitt', 'edu', 'joseph', 'r', 'mcdonald', 'su...  "
      ]
     },
     "execution_count": 15,
     "metadata": {},
     "output_type": "execute_result"
    }
   ],
   "source": [
    "from nltk.corpus import stopwords \n",
    "import string\n",
    "from nltk.stem.wordnet import WordNetLemmatizer\n",
    "from nltk import word_tokenize \n",
    "\n",
    "def clean (text):\n",
    "    for punctuation in string.punctuation:\n",
    "        text = text.replace(punctuation, ' ') # Remove Punctuation\n",
    "    lowercased = text.lower() # Lower Case\n",
    "    tokenized = word_tokenize(lowercased) # Tokenize\n",
    "    words_only = [word for word in tokenized if word.isalpha()] # Remove numbers\n",
    "    stop_words = set(stopwords.words('english')) # Make stopword list\n",
    "    without_stopwords = [word for word in words_only if not word in stop_words] # Remove Stop Words\n",
    "    lemma=WordNetLemmatizer() # Initiate Lemmatizer\n",
    "    lemmatized = [lemma.lemmatize(word) for word in without_stopwords] # Lemmatize\n",
    "    return lemmatized\n",
    "\n",
    "# Apply to all texts\n",
    "mydataframe['clean_text'] = mydataframe.text.apply(clean)\n",
    "mydataframe['clean_text'] = mydataframe['clean_text'].astype('str')\n",
    "\n",
    "mydataframe.head()"
   ]
  },
  {
   "cell_type": "markdown",
   "metadata": {},
   "source": [
    "## Vectorize data"
   ]
  },
  {
   "cell_type": "markdown",
   "metadata": {},
   "source": [
    "Like for many Natural Language Processing tasks, the text needs to be vectorized before being used for LDA modelling. Initiate a default CountVectorizer and vectorize clean texts to a standard Bag of Words."
   ]
  },
  {
   "cell_type": "code",
   "execution_count": 16,
   "metadata": {
    "collapsed": true
   },
   "outputs": [],
   "source": [
    "from sklearn.feature_extraction.text import CountVectorizer\n",
    "\n",
    "vectorizer = CountVectorizer()\n",
    "\n",
    "data_vectorized = vectorizer.fit_transform(mydataframe.clean_text)"
   ]
  },
  {
   "cell_type": "markdown",
   "metadata": {},
   "source": [
    "## Initiate Latent Dirichlet Allocation model"
   ]
  },
  {
   "cell_type": "markdown",
   "metadata": {},
   "source": [
    "Once again, Sklearn offers a package to build an LDA model. Use it to initiate an LDA with the following parameters:\n",
    "    - 3 topics\n",
    "    - \"online\" learning method"
   ]
  },
  {
   "cell_type": "code",
   "execution_count": 17,
   "metadata": {
    "collapsed": true
   },
   "outputs": [],
   "source": [
    "from sklearn.decomposition import LatentDirichletAllocation\n",
    "\n",
    "lda_model = LatentDirichletAllocation(n_components=3)"
   ]
  },
  {
   "cell_type": "markdown",
   "metadata": {},
   "source": [
    "## Fit  data to LDA"
   ]
  },
  {
   "cell_type": "markdown",
   "metadata": {},
   "source": [
    "Fit the vectorized data to the LDA"
   ]
  },
  {
   "cell_type": "code",
   "execution_count": 18,
   "metadata": {},
   "outputs": [
    {
     "name": "stderr",
     "output_type": "stream",
     "text": [
      "/Users/benjaminauzanneau/anaconda3/lib/python3.6/site-packages/sklearn/decomposition/online_lda.py:536: DeprecationWarning: The default value for 'learning_method' will be changed from 'online' to 'batch' in the release 0.20. This warning was introduced in 0.18.\n",
      "  DeprecationWarning)\n"
     ]
    }
   ],
   "source": [
    "lda_vectors = lda_model.fit_transform(data_vectorized)"
   ]
  },
  {
   "cell_type": "markdown",
   "metadata": {},
   "source": [
    "## Visualize potential topics"
   ]
  },
  {
   "cell_type": "markdown",
   "metadata": {},
   "source": [
    "The function to print the potential topics is already made for you. You just have to pass the correct arguments ;)"
   ]
  },
  {
   "cell_type": "code",
   "execution_count": 19,
   "metadata": {},
   "outputs": [
    {
     "name": "stdout",
     "output_type": "stream",
     "text": [
      "Topic 0:\n",
      "[('edu', 1992.910506523671), ('one', 1637.4968820248218), ('god', 1565.2754405813828), ('people', 1542.2281224719309), ('would', 1458.720296420081), ('subject', 1196.2147944533556), ('line', 1115.8721785257574), ('organization', 1028.580899415441), ('say', 1018.9380248293903), ('know', 974.0629380455912)]\n",
      "Topic 1:\n",
      "[('pt', 336.5275572819271), ('period', 240.44295177802962), ('la', 237.85057952529547), ('chi', 138.6387099743006), ('power', 135.10214501897974), ('bos', 131.06898866754196), ('pp', 127.71602789504996), ('play', 124.57577619658032), ('det', 121.02434333100335), ('cal', 117.18261531472565)]\n",
      "Topic 2:\n",
      "[('edu', 1256.2882577676512), ('armenian', 1041.4234669872094), ('team', 940.7142499532063), ('game', 925.7449880469636), ('line', 827.0270734819227), ('subject', 724.102914057838), ('ca', 684.7661290935573), ('organization', 659.445835182035), ('turkish', 654.6357019952504), ('hockey', 633.1478382064817)]\n"
     ]
    }
   ],
   "source": [
    "def print_topics(model, vectorizer):\n",
    "    for idx, topic in enumerate(model.components_):\n",
    "        print(\"Topic %d:\" % (idx))\n",
    "        print([(vectorizer.get_feature_names()[i], topic[i])\n",
    "                        for i in topic.argsort()[:-10 - 1:-1]])\n",
    "        \n",
    "\n",
    "print_topics(lda_model, vectorizer)"
   ]
  },
  {
   "cell_type": "markdown",
   "metadata": {},
   "source": [
    "## Train LDA with different CountVectorizer parameters"
   ]
  },
  {
   "cell_type": "markdown",
   "metadata": {},
   "source": [
    "CountVectorizer parameter `max_df` is used to ignore certain terms in the corpus. `max_df` specifies that a word with a document frequency higher than the given threshold should be ignored (considered corpus-specific stop words).\n",
    "\n",
    "When followed by an LDA model, playing around with max_df will improve interpretability. Adjust that parameter until you are satisfied with the interpretability of your LDA.\n",
    "\n",
    "You could also try vectorizing as bigrams..."
   ]
  },
  {
   "cell_type": "code",
   "execution_count": 20,
   "metadata": {},
   "outputs": [
    {
     "name": "stdout",
     "output_type": "stream",
     "text": [
      "Topic 0:\n",
      "[('game', 967.1647300775876), ('team', 957.9184600493079), ('ca', 689.9904867589947), ('hockey', 642.0030272003964), ('play', 529.6157479354728), ('player', 512.7558061391252), ('year', 470.31070007728573), ('go', 418.4053986323868), ('nhl', 412.7338974083475), ('season', 404.72377264859904)]\n",
      "Topic 1:\n",
      "[('com', 340.3962527690914), ('arab', 285.4845518068633), ('israel', 272.24699305743985), ('jew', 239.58780530039712), ('right', 177.49707662811264), ('absolute', 158.94821964874365), ('truth', 155.73720012523404), ('adam', 147.16156100362807), ('jewish', 143.87321053092344), ('american', 142.7291549882537)]\n",
      "Topic 2:\n",
      "[('people', 1616.1247695896102), ('god', 1561.308756111878), ('armenian', 1357.5100184554444), ('say', 967.7462622568142), ('know', 897.2671858624383), ('christian', 800.6701839876438), ('time', 790.3743459991564), ('said', 786.3220605784089), ('think', 782.8703309777752), ('like', 740.2791442551894)]\n"
     ]
    }
   ],
   "source": [
    "vectorizer2 = CountVectorizer(max_df=0.4)\n",
    "\n",
    "data_vectorized2 = vectorizer2.fit_transform(mydataframe.clean_text)\n",
    "\n",
    "lda_model2 = LatentDirichletAllocation(n_components=3, max_iter=10, learning_method='online')\n",
    "\n",
    "lda_vectors2 = lda_model2.fit_transform(data_vectorized2)\n",
    "\n",
    "print_topics(lda_model2, vectorizer2)"
   ]
  },
  {
   "cell_type": "markdown",
   "metadata": {},
   "source": [
    "## Predict topic of new text"
   ]
  },
  {
   "cell_type": "markdown",
   "metadata": {},
   "source": [
    "Once you are happy with the interpretability of your LDA model, you can use it to predict the topic of a new text."
   ]
  },
  {
   "cell_type": "markdown",
   "metadata": {},
   "source": [
    "First, use vectorizer2 to vectorize the example. Then, fit to lda_model2 to make LDA vectors. The following code will print the results."
   ]
  },
  {
   "cell_type": "code",
   "execution_count": 21,
   "metadata": {},
   "outputs": [
    {
     "name": "stdout",
     "output_type": "stream",
     "text": [
      "topic 0 : 0.9418028748604899\n",
      "topic 1 : 0.02834031943237327\n",
      "topic 2 : 0.029856805707136846\n"
     ]
    }
   ],
   "source": [
    "example = [\"My team performed poorly last season. Their best player was out injured and only played one game\"]\n",
    "\n",
    "example_vectorized = vectorizer2.transform(example)\n",
    "\n",
    "lda_vectors = lda_model2.transform(example_vectorized)\n",
    "\n",
    "print(\"topic 0 :\", lda_vectors[0][0])\n",
    "print(\"topic 1 :\", lda_vectors[0][1])\n",
    "print(\"topic 2 :\", lda_vectors[0][2])"
   ]
  },
  {
   "cell_type": "markdown",
   "metadata": {},
   "source": [
    "The LDA model predicts the percentage chance of our example belonging to each category. Feel free to try different examples."
   ]
  },
  {
   "cell_type": "markdown",
   "metadata": {},
   "source": [
    "##  Graph  LDA "
   ]
  },
  {
   "cell_type": "markdown",
   "metadata": {},
   "source": [
    "Using pyLDAvis, prepare a graph with the following arguments:\n",
    "- lda_model2\n",
    "- data_vectorized2\n",
    "- vectorizer2\n",
    "- mds='tsne'"
   ]
  },
  {
   "cell_type": "code",
   "execution_count": 22,
   "metadata": {},
   "outputs": [
    {
     "name": "stderr",
     "output_type": "stream",
     "text": [
      "/Users/benjaminauzanneau/anaconda3/lib/python3.6/site-packages/pyLDAvis/_prepare.py:387: DeprecationWarning: \n",
      ".ix is deprecated. Please use\n",
      ".loc for label based indexing or\n",
      ".iloc for positional indexing\n",
      "\n",
      "See the documentation here:\n",
      "http://pandas.pydata.org/pandas-docs/stable/indexing.html#ix-indexer-is-deprecated\n",
      "  topic_term_dists = topic_term_dists.ix[topic_order]\n"
     ]
    },
    {
     "data": {
      "text/html": [
       "\n",
       "<link rel=\"stylesheet\" type=\"text/css\" href=\"https://cdn.rawgit.com/bmabey/pyLDAvis/files/ldavis.v1.0.0.css\">\n",
       "\n",
       "\n",
       "<div id=\"ldavis_el592614778238744274893328\"></div>\n",
       "<script type=\"text/javascript\">\n",
       "\n",
       "var ldavis_el592614778238744274893328_data = {\"mdsDat\": {\"Freq\": [60.7552745602419, 27.522158066188464, 11.722567373569639], \"cluster\": [1, 1, 1], \"topics\": [1, 2, 3], \"x\": [-372.1424560546875, -437.7695617675781, -620.1272583007812], \"y\": [-195.24327087402344, -443.70355224609375, -262.63836669921875]}, \"tinfo\": {\"Category\": [\"Default\", \"Default\", \"Default\", \"Default\", \"Default\", \"Default\", \"Default\", \"Default\", \"Default\", \"Default\", \"Default\", \"Default\", \"Default\", \"Default\", \"Default\", \"Default\", \"Default\", \"Default\", \"Default\", \"Default\", \"Default\", \"Default\", \"Default\", \"Default\", \"Default\", \"Default\", \"Default\", \"Default\", \"Default\", \"Default\", \"Topic1\", \"Topic1\", \"Topic1\", \"Topic1\", \"Topic1\", \"Topic1\", \"Topic1\", \"Topic1\", \"Topic1\", \"Topic1\", \"Topic1\", \"Topic1\", \"Topic1\", \"Topic1\", \"Topic1\", \"Topic1\", \"Topic1\", \"Topic1\", \"Topic1\", \"Topic1\", \"Topic1\", \"Topic1\", \"Topic1\", \"Topic1\", \"Topic1\", \"Topic1\", \"Topic1\", \"Topic1\", \"Topic1\", \"Topic1\", \"Topic1\", \"Topic1\", \"Topic1\", \"Topic1\", \"Topic1\", \"Topic1\", \"Topic1\", \"Topic1\", \"Topic1\", \"Topic1\", \"Topic1\", \"Topic1\", \"Topic1\", \"Topic1\", \"Topic1\", \"Topic1\", \"Topic1\", \"Topic1\", \"Topic1\", \"Topic1\", \"Topic1\", \"Topic1\", \"Topic1\", \"Topic1\", \"Topic1\", \"Topic1\", \"Topic1\", \"Topic1\", \"Topic1\", \"Topic1\", \"Topic1\", \"Topic1\", \"Topic1\", \"Topic1\", \"Topic1\", \"Topic1\", \"Topic1\", \"Topic1\", \"Topic1\", \"Topic1\", \"Topic1\", \"Topic1\", \"Topic1\", \"Topic1\", \"Topic1\", \"Topic1\", \"Topic1\", \"Topic1\", \"Topic2\", \"Topic2\", \"Topic2\", \"Topic2\", \"Topic2\", \"Topic2\", \"Topic2\", \"Topic2\", \"Topic2\", \"Topic2\", \"Topic2\", \"Topic2\", \"Topic2\", \"Topic2\", \"Topic2\", \"Topic2\", \"Topic2\", \"Topic2\", \"Topic2\", \"Topic2\", \"Topic2\", \"Topic2\", \"Topic2\", \"Topic2\", \"Topic2\", \"Topic2\", \"Topic2\", \"Topic2\", \"Topic2\", \"Topic2\", \"Topic2\", \"Topic2\", \"Topic2\", \"Topic2\", \"Topic2\", \"Topic2\", \"Topic2\", \"Topic2\", \"Topic2\", \"Topic2\", \"Topic2\", \"Topic2\", \"Topic2\", \"Topic2\", \"Topic2\", \"Topic2\", \"Topic2\", \"Topic2\", \"Topic2\", \"Topic2\", \"Topic2\", \"Topic2\", \"Topic2\", \"Topic2\", \"Topic2\", \"Topic2\", \"Topic2\", \"Topic2\", \"Topic2\", \"Topic2\", \"Topic2\", \"Topic2\", \"Topic3\", \"Topic3\", \"Topic3\", \"Topic3\", \"Topic3\", \"Topic3\", \"Topic3\", \"Topic3\", \"Topic3\", \"Topic3\", \"Topic3\", \"Topic3\", \"Topic3\", \"Topic3\", \"Topic3\", \"Topic3\", \"Topic3\", \"Topic3\", \"Topic3\", \"Topic3\", \"Topic3\", \"Topic3\", \"Topic3\", \"Topic3\", \"Topic3\", \"Topic3\", \"Topic3\", \"Topic3\", \"Topic3\", \"Topic3\", \"Topic3\", \"Topic3\", \"Topic3\", \"Topic3\", \"Topic3\", \"Topic3\", \"Topic3\", \"Topic3\", \"Topic3\", \"Topic3\", \"Topic3\", \"Topic3\", \"Topic3\", \"Topic3\", \"Topic3\", \"Topic3\", \"Topic3\", \"Topic3\", \"Topic3\", \"Topic3\", \"Topic3\", \"Topic3\", \"Topic3\", \"Topic3\", \"Topic3\", \"Topic3\", \"Topic3\", \"Topic3\", \"Topic3\", \"Topic3\", \"Topic3\", \"Topic3\", \"Topic3\", \"Topic3\", \"Topic3\", \"Topic3\", \"Topic3\", \"Topic3\", \"Topic3\", \"Topic3\", \"Topic3\"], \"Freq\": [902.0, 893.0, 898.0, 597.0, 935.0, 497.0, 732.0, 1502.0, 478.0, 843.0, 499.0, 1309.0, 384.0, 376.0, 777.0, 346.0, 318.0, 370.0, 313.0, 312.0, 353.0, 600.0, 785.0, 239.0, 346.0, 149.0, 317.0, 691.0, 212.0, 844.0, 364.20639189553674, 269.45951079975504, 234.05180902265425, 584.7306791017608, 1497.8976739152292, 239.078812956744, 174.09097113159845, 260.9510160547721, 688.9570518052114, 172.76457472846374, 207.92372250290782, 148.84826357463933, 140.3333663425097, 199.92110665061006, 166.90662523321365, 139.7723025409654, 128.06725913313454, 135.67626817336836, 125.1966040050783, 122.91291082562527, 117.95152972009745, 112.05994909034132, 1302.3760297257454, 107.3979391929457, 103.80112792495058, 106.15536899410748, 119.931954088248, 104.42427006300068, 100.95102537132335, 140.8480104151794, 494.9573497627525, 248.6818847950103, 169.6376463866985, 493.46819841822816, 147.9239839084482, 139.01591548775423, 383.2577248288473, 262.42047329048347, 247.87056514427823, 325.4003018230699, 254.5325179418849, 258.7400951210471, 216.23910295025746, 355.1669954480985, 1550.4873867187853, 365.2426458450137, 313.55680891082216, 328.44081470613827, 768.1517198142395, 353.94585664533633, 288.6656579248346, 754.3863319013049, 928.4421607834543, 386.28575309733236, 657.7613522269432, 518.1665728213109, 552.3283654759742, 860.8255255871393, 337.72697301702283, 663.7534393251844, 418.2226025874995, 466.1796819736806, 758.2740375725996, 751.0747910420521, 578.7740247365501, 570.7249488788458, 710.213405187838, 554.2981102588338, 524.2442686358963, 559.4533446337832, 445.25194458485566, 505.79790160532707, 526.2915433642746, 461.81700806958713, 465.39485171031885, 452.91366859582877, 488.1051888743865, 500.3448286343216, 596.7625124670327, 383.64946450764, 376.20379529071, 313.22157787915495, 317.86478719126524, 890.4160926629706, 201.5202268627996, 476.6230534581724, 899.0107987612994, 172.4940840377902, 173.33929544904544, 193.3440461999367, 143.59552225405508, 145.1800929856174, 128.9867923597363, 128.5813957556288, 126.92807911847112, 119.61080700921546, 117.86866872918698, 119.06205468158069, 116.62999049348117, 110.17186011412498, 106.62162656871256, 121.18946212814404, 135.87104073534042, 99.93929642207246, 99.44857493577118, 96.06890837809841, 94.55132813192566, 101.35016952360671, 310.186761238593, 492.2949129357068, 133.3993156396215, 145.53369101907492, 115.07956756093311, 216.77106620139597, 327.3207541317785, 235.1945620875453, 243.55383816998128, 211.2135267848044, 216.67108695529367, 641.3684032803175, 243.50880908225648, 204.77136379694235, 204.21541440654602, 263.98419544825475, 165.0277098463629, 163.19665394546237, 437.16895890997563, 267.73341692868337, 271.6497386624148, 388.92130774905996, 293.3424492573509, 297.1973610699623, 276.15471545580635, 263.83368187417904, 272.29721296654805, 279.63801211201474, 258.65230947797795, 272.28757721134156, 260.70491567924677, 237.29817857859817, 70.16770129646709, 68.56681449327047, 59.02381506175612, 54.936899404542274, 56.63451690884059, 46.98131158812372, 44.80183962587253, 47.26495772001525, 48.85457149289751, 37.32713075595304, 34.80580078169236, 27.021687948001315, 27.095054561825183, 26.710947928393747, 24.67951996658839, 24.2175223552923, 22.57872003871961, 22.179362214901925, 20.63612756371804, 21.276459570963166, 20.92863614140188, 21.143742435074643, 34.245859297299106, 34.23398146503827, 19.950178194566007, 24.112769088627125, 18.91774195194772, 18.459786655461496, 22.41524166609082, 16.937953745149745, 58.99522999154591, 27.636449668224568, 117.06736987954487, 98.35908957029521, 136.77090336590342, 47.92233875664409, 122.51623427251195, 65.2048286213258, 31.225788668215063, 51.39316759239856, 82.26732795092002, 245.65220128870675, 126.62878315769676, 55.462790778343305, 53.452137780839166, 49.832414960295836, 292.9023243952077, 116.9497261348778, 134.00790267343586, 234.2616184151214, 206.15921737786198, 122.81481043030857, 90.56597215948959, 123.79924114879977, 152.73172338062002, 102.42068641705177, 122.80889977453505, 118.98430580077594, 64.24669672425262, 88.15894762365991, 80.55466922070765, 82.36187245717794, 81.40614012802607, 89.39666810377517, 75.7388055193505, 87.55705058836791, 79.85590749584114, 83.88799774730366, 81.19018595675878, 79.1974409848753, 79.66566454166264], \"Term\": [\"game\", \"team\", \"israel\", \"hockey\", \"com\", \"arab\", \"jew\", \"god\", \"player\", \"ca\", \"play\", \"armenian\", \"nhl\", \"season\", \"israeli\", \"truth\", \"playoff\", \"jewish\", \"pt\", \"win\", \"goal\", \"posting\", \"right\", \"land\", \"war\", \"absolute\", \"american\", \"turkish\", \"adam\", \"christian\", \"christ\", \"father\", \"genocide\", \"jesus\", \"god\", \"sin\", \"azerbaijani\", \"argic\", \"turkish\", \"lord\", \"nazi\", \"zuma\", \"serum\", \"catholic\", \"azerbaijan\", \"greece\", \"ottoman\", \"soul\", \"nature\", \"eternal\", \"resurrection\", \"prayer\", \"armenian\", \"sumgait\", \"sabbath\", \"pope\", \"marriage\", \"mary\", \"worship\", \"atheist\", \"life\", \"son\", \"civilian\", \"church\", \"sdpa\", \"troop\", \"greek\", \"soldier\", \"village\", \"child\", \"serdar\", \"killed\", \"soviet\", \"turk\", \"people\", \"human\", \"woman\", \"faith\", \"christian\", \"law\", \"muslim\", \"said\", \"say\", \"work\", \"israeli\", \"thing\", \"question\", \"know\", \"government\", \"israel\", \"day\", \"come\", \"time\", \"think\", \"also\", \"way\", \"like\", \"even\", \"many\", \"see\", \"believe\", \"could\", \"jew\", \"may\", \"world\", \"make\", \"right\", \"go\", \"hockey\", \"nhl\", \"season\", \"pt\", \"playoff\", \"team\", \"flyer\", \"player\", \"game\", \"detroit\", \"ranger\", \"fan\", \"puck\", \"montreal\", \"chi\", \"islander\", \"calgary\", \"espn\", \"det\", \"vancouver\", \"lemieux\", \"jet\", \"goalie\", \"maynard\", \"roger\", \"shark\", \"scoring\", \"lindros\", \"stl\", \"bruin\", \"win\", \"play\", \"buffalo\", \"ice\", \"cal\", \"cup\", \"goal\", \"leaf\", \"league\", \"pittsburgh\", \"toronto\", \"ca\", \"la\", \"division\", \"wing\", \"period\", \"blue\", \"gm\", \"year\", \"nntp\", \"host\", \"go\", \"posting\", \"get\", \"new\", \"point\", \"com\", \"time\", \"first\", \"think\", \"like\", \"good\", \"adl\", \"mcrcim\", \"bony\", \"livni\", \"bm\", \"yassin\", \"shostack\", \"kk\", \"arens\", \"yigal\", \"bullock\", \"caralv\", \"scroll\", \"alvin\", \"deir\", \"redundancy\", \"teknikum\", \"purchase\", \"velasco\", \"hilmi\", \"frej\", \"irgun\", \"onur\", \"yalcin\", \"bimacs\", \"endor\", \"virgilio\", \"flax\", \"esin\", \"barlow\", \"zionism\", \"zbib\", \"jake\", \"henrik\", \"absolute\", \"da\", \"mcgill\", \"plane\", \"anania\", \"iran\", \"rochester\", \"arab\", \"adam\", \"hasan\", \"harvard\", \"zionist\", \"com\", \"land\", \"truth\", \"israel\", \"jew\", \"american\", \"department\", \"jewish\", \"right\", \"opinion\", \"posting\", \"israeli\", \"palestine\", \"war\", \"armenia\", \"host\", \"nntp\", \"ca\", \"group\", \"know\", \"state\", \"year\", \"new\", \"world\", \"like\"], \"Total\": [902.0, 893.0, 898.0, 597.0, 935.0, 497.0, 732.0, 1502.0, 478.0, 843.0, 499.0, 1309.0, 384.0, 376.0, 777.0, 346.0, 318.0, 370.0, 313.0, 312.0, 353.0, 600.0, 785.0, 239.0, 346.0, 149.0, 317.0, 691.0, 212.0, 844.0, 364.94111545394145, 270.11621401393097, 234.6630428594125, 586.3186347923529, 1502.0524378451262, 239.7511399575045, 174.7036561676025, 261.88251125242516, 691.6922117047427, 173.4631439504992, 208.8286947140649, 149.51403002737166, 140.97053724872728, 200.82949552065026, 167.67005458582608, 140.42390251182218, 128.67902732169577, 136.3355600550615, 125.83737429247459, 123.54544287972521, 118.59392579881059, 112.67368912377259, 1309.5279489800687, 107.99484654860328, 104.40583966914517, 106.77515680409539, 120.63876460244768, 105.04212825013164, 101.55952737571491, 141.7172329198871, 501.5862652284672, 251.35300120934926, 170.94019504605112, 502.8194546725806, 148.91736291817688, 139.8879676964818, 389.8801800804259, 266.1617643332079, 251.4311556851141, 332.349498595227, 260.14455011139535, 264.6310375379743, 220.08223144352968, 367.8635368693925, 1714.2740070289929, 382.68495654782646, 326.8226878754167, 343.28717548930314, 844.1132962948848, 376.27300454342617, 302.21436368283537, 878.6386711791376, 1109.1126390977654, 420.07953110209564, 777.1008158744022, 604.1308439444017, 653.3062532812637, 1119.7361008461694, 366.253492017185, 898.4105445216328, 495.4341416250685, 571.8311594389066, 1094.64559717109, 1086.0521905138257, 769.329354011065, 760.505933549334, 1050.5839854087474, 748.2810413536699, 689.5604360978455, 778.394484038873, 548.415322202628, 680.2948162374689, 732.7701246146909, 612.7875135613356, 642.8022744263174, 601.7402664346808, 785.1927053867323, 908.5055536329907, 597.4241932324423, 384.2733314816382, 376.82323970807863, 313.8408160233035, 318.5034410015471, 893.0777999877677, 202.1631676613774, 478.2053935192454, 902.0189958693983, 173.11343491338067, 173.97180991348077, 194.1420353410956, 144.20540966263238, 145.8334389676551, 129.5971464716508, 129.2003338323087, 127.56735296020074, 120.22417877574063, 118.47711522367794, 119.67756945718358, 117.24039613491905, 110.78306323396036, 107.23229966152655, 121.90652765280961, 136.68700126985104, 100.553715200094, 100.06233922419885, 96.67701128201678, 95.15998989737265, 102.03212425701078, 312.77711483044845, 499.8926208792436, 134.6692157526897, 147.1947094811314, 116.36532626219137, 226.19287859741132, 353.32838592147544, 248.6115683101612, 259.9233576778191, 223.29716457480922, 229.9575785346297, 843.9862656176387, 278.6267795906633, 227.80349976773692, 227.64973293359563, 318.6335994527059, 176.82447709783474, 181.8141542604421, 927.8957120903619, 432.9379317333129, 452.1268614243598, 908.5055536329907, 600.9422967291727, 763.0372594722346, 672.3377524374571, 588.8752644454357, 935.2459603269224, 1094.64559717109, 747.3965058420467, 1086.0521905138257, 1050.5839854087474, 603.4202399983683, 70.88269805110274, 69.265728873228, 59.66582679230802, 55.57896425812197, 57.38110838512329, 47.62541001272148, 45.44321068071049, 47.98334986331178, 49.7306701583836, 38.023157615734, 35.527143099280046, 27.665430521745858, 27.764681227593687, 27.40002212523109, 25.31811498279985, 24.857765664337922, 23.23659757785785, 22.835864717556145, 21.27342464125307, 21.93687109238402, 21.585479327102842, 21.808105223368706, 35.3303428877856, 35.331361179290184, 20.60936322971087, 24.921638633167355, 19.55500328685366, 19.10475892016346, 23.216060250954527, 17.57792482839864, 61.28645724614079, 28.791034356812276, 125.60718778362408, 105.96685775998347, 149.04173534700394, 51.20210504942552, 157.730875794661, 80.51059262209714, 34.288169526349506, 63.91501157152999, 114.30942137353836, 497.24212843611616, 212.00674547134753, 72.83608297905072, 72.07795896529515, 67.19069399354777, 935.2459603269224, 239.7326147485864, 346.5835224659788, 898.4105445216328, 732.7701246146909, 317.6736361908788, 199.69874151487062, 370.1527720439202, 785.1927053867323, 328.61889147077545, 600.9422967291727, 777.1008158744022, 122.18481741953129, 346.5878381116355, 362.2727068689675, 452.1268614243598, 432.9379317333129, 843.9862656176387, 346.6256080212953, 1119.7361008461694, 563.2544894135965, 927.8957120903619, 672.3377524374571, 642.8022744263174, 1050.5839854087474], \"loglift\": [30.0, 29.0, 28.0, 27.0, 26.0, 25.0, 24.0, 23.0, 22.0, 21.0, 20.0, 19.0, 18.0, 17.0, 16.0, 15.0, 14.0, 13.0, 12.0, 11.0, 10.0, 9.0, 8.0, 7.0, 6.0, 5.0, 4.0, 3.0, 2.0, 1.0, 0.4963, 0.4959, 0.4957, 0.4956, 0.4955, 0.4955, 0.4948, 0.4948, 0.4944, 0.4943, 0.494, 0.4939, 0.4938, 0.4938, 0.4938, 0.4937, 0.4936, 0.4935, 0.4932, 0.4932, 0.4929, 0.4929, 0.4928, 0.4928, 0.4925, 0.4925, 0.4924, 0.4924, 0.4923, 0.4922, 0.485, 0.4876, 0.4907, 0.4795, 0.4916, 0.4921, 0.4812, 0.4842, 0.4841, 0.4772, 0.4765, 0.4758, 0.4807, 0.4632, 0.3979, 0.4517, 0.4569, 0.4541, 0.404, 0.4371, 0.4524, 0.3458, 0.3205, 0.4144, 0.3316, 0.3448, 0.3304, 0.2354, 0.4172, 0.1956, 0.3289, 0.294, 0.1312, 0.1295, 0.2137, 0.2112, 0.1068, 0.1982, 0.2242, 0.168, 0.2899, 0.2019, 0.1673, 0.2155, 0.1754, 0.2142, 0.0229, -0.0982, 1.2891, 1.2886, 1.2885, 1.2882, 1.2882, 1.2872, 1.287, 1.2869, 1.2868, 1.2866, 1.2865, 1.2861, 1.2859, 1.2857, 1.2855, 1.2854, 1.2852, 1.2851, 1.285, 1.285, 1.285, 1.2846, 1.2845, 1.2843, 1.2842, 1.284, 1.284, 1.2839, 1.2838, 1.2835, 1.2819, 1.2749, 1.2807, 1.2788, 1.2791, 1.2476, 1.2137, 1.2347, 1.2251, 1.2345, 1.2307, 1.0156, 1.1555, 1.1836, 1.1815, 1.102, 1.2211, 1.1821, 0.5376, 0.8096, 0.7807, 0.4418, 0.573, 0.3473, 0.4004, 0.4873, 0.0563, -0.0745, 0.2291, -0.0933, -0.1035, 0.3569, 2.1335, 2.1335, 2.1328, 2.132, 2.1306, 2.13, 2.1294, 2.1286, 2.1259, 2.1252, 2.1231, 2.1201, 2.1192, 2.1182, 2.1181, 2.1176, 2.1149, 2.1145, 2.1132, 2.1131, 2.1128, 2.1127, 2.1125, 2.1121, 2.1111, 2.1107, 2.1105, 2.1093, 2.1086, 2.1066, 2.1056, 2.1027, 2.0732, 2.0692, 2.0577, 2.0775, 1.891, 1.9328, 2.0501, 1.9256, 1.8147, 1.4385, 1.6283, 1.8712, 1.8447, 1.8448, 0.9827, 1.4259, 1.1934, 0.7995, 0.8755, 1.1933, 1.3529, 1.0484, 0.5064, 0.9778, 0.5558, 0.2671, 1.5008, 0.7747, 0.6402, 0.4408, 0.4725, -0.1014, 0.6227, -0.4049, 0.1901, -0.2598, 0.0297, 0.0498, -0.4356], \"logprob\": [30.0, 29.0, 28.0, 27.0, 26.0, 25.0, 24.0, 23.0, 22.0, 21.0, 20.0, 19.0, 18.0, 17.0, 16.0, 15.0, 14.0, 13.0, 12.0, 11.0, 10.0, 9.0, 8.0, 7.0, 6.0, 5.0, 4.0, 3.0, 2.0, 1.0, -6.3563, -6.6576, -6.7985, -5.8829, -4.9422, -6.7773, -7.0945, -6.6897, -5.7189, -7.1021, -6.9169, -7.2511, -7.31, -6.9561, -7.1366, -7.314, -7.4015, -7.3438, -7.4242, -7.4426, -7.4838, -7.535, -5.0821, -7.5775, -7.6116, -7.5891, -7.4671, -7.6056, -7.6394, -7.3064, -6.0496, -6.7379, -7.1204, -6.0526, -7.2574, -7.3195, -6.3053, -6.6841, -6.7411, -6.469, -6.7146, -6.6982, -6.8777, -6.3815, -4.9077, -6.3535, -6.5061, -6.4597, -5.6101, -6.3849, -6.5888, -5.6281, -5.4205, -6.2975, -5.7652, -6.0038, -5.9399, -5.4962, -6.4318, -5.7561, -6.218, -6.1095, -5.623, -5.6325, -5.8931, -5.9071, -5.6885, -5.9363, -5.9921, -5.9271, -6.1554, -6.0279, -5.9882, -6.1189, -6.1112, -6.1383, -6.0635, -6.0388, -5.0707, -5.5125, -5.5321, -5.7153, -5.7006, -4.6705, -6.1563, -5.2955, -4.6609, -6.3118, -6.3069, -6.1977, -6.4952, -6.4842, -6.6025, -6.6056, -6.6186, -6.6779, -6.6926, -6.6825, -6.7032, -6.7601, -6.7929, -6.6648, -6.5505, -6.8576, -6.8625, -6.8971, -6.913, -6.8436, -5.725, -5.2631, -6.5688, -6.4818, -6.7166, -6.0833, -5.6712, -6.0018, -5.9668, -6.1093, -6.0838, -4.9986, -5.967, -6.1403, -6.143, -5.8863, -6.3561, -6.3672, -5.3819, -5.8722, -5.8577, -5.4988, -5.7808, -5.7678, -5.8412, -5.8869, -5.8553, -5.8287, -5.9067, -5.8553, -5.8988, -5.9929, -6.3578, -6.3809, -6.5308, -6.6025, -6.5721, -6.759, -6.8065, -6.7529, -6.7199, -6.989, -7.0589, -7.3121, -7.3094, -7.3236, -7.4027, -7.4216, -7.4917, -7.5095, -7.5817, -7.5511, -7.5676, -7.5574, -7.0751, -7.0755, -7.6155, -7.426, -7.6686, -7.6931, -7.499, -7.7792, -6.5313, -7.2896, -5.846, -6.0201, -5.6904, -6.7391, -5.8005, -6.4312, -7.1675, -6.6692, -6.1987, -5.1048, -5.7675, -6.593, -6.6299, -6.7, -4.9289, -5.847, -5.7108, -5.1523, -5.2801, -5.798, -6.1026, -5.7901, -5.58, -5.9796, -5.7981, -5.8297, -6.446, -6.1296, -6.2198, -6.1976, -6.2093, -6.1156, -6.2814, -6.1364, -6.2285, -6.1792, -6.2119, -6.2368, -6.2309]}, \"token.table\": {\"Topic\": [1, 3, 1, 2, 3, 3, 1, 2, 3, 3, 1, 2, 3, 1, 2, 3, 1, 3, 1, 3, 1, 2, 1, 3, 1, 3, 1, 3, 1, 1, 3, 1, 2, 3, 3, 1, 2, 3, 3, 3, 2, 1, 2, 3, 1, 2, 3, 1, 2, 3, 2, 3, 1, 3, 2, 1, 3, 1, 1, 2, 3, 1, 3, 1, 3, 1, 2, 3, 1, 2, 3, 1, 2, 3, 1, 2, 3, 1, 2, 3, 1, 2, 3, 3, 1, 2, 3, 2, 2, 1, 2, 3, 3, 3, 2, 1, 1, 2, 3, 1, 2, 3, 2, 1, 1, 2, 3, 3, 2, 3, 1, 2, 1, 1, 2, 3, 2, 3, 1, 2, 3, 1, 2, 3, 2, 1, 2, 3, 1, 2, 3, 1, 3, 1, 1, 3, 1, 2, 3, 1, 2, 3, 1, 3, 1, 3, 3, 2, 1, 2, 3, 1, 3, 1, 2, 1, 3, 3, 2, 1, 3, 1, 3, 2, 3, 1, 3, 2, 1, 3, 1, 3, 1, 2, 3, 3, 1, 2, 3, 1, 2, 3, 1, 2, 3, 1, 2, 3, 1, 2, 3, 1, 2, 3, 2, 1, 2, 3, 1, 2, 3, 2, 3, 1, 1, 2, 3, 1, 2, 3, 1, 1, 1, 2, 3, 2, 2, 3, 3, 2, 1, 3, 1, 1, 3, 1, 2, 3, 2, 1, 2, 3, 2, 3, 1, 2, 3, 1, 1, 3, 1, 2, 3, 1, 2, 3, 1, 2, 1, 2, 3, 1, 2, 3, 1, 2, 2, 1, 2, 3, 1, 1, 2, 3, 1, 2, 2, 3, 1, 2, 3, 2, 3, 1, 1, 2, 3, 1, 2, 3, 2, 1, 1, 2, 3, 1, 2, 3, 2, 3, 1, 3, 2, 1, 2, 3, 1, 2, 1, 2, 3, 1, 1, 2, 3, 1, 2, 3, 1, 1, 2, 1, 2, 3, 2, 1, 1, 2, 3, 1, 2, 3, 1, 2, 3, 1, 2, 3, 1, 2, 3, 1, 3, 1, 2, 3, 1, 3, 1, 3, 2, 3, 1, 3, 3, 1, 3, 1, 2, 3, 1, 2, 1, 2, 3, 1, 2, 3, 1, 2, 3, 1, 2, 3, 1, 2, 3, 3, 1, 2, 3, 3, 1, 3, 1, 3, 1, 3, 1], \"Freq\": [0.08051436043777402, 0.9192056149979201, 0.09905345206498689, 0.30187718724567436, 0.5990375434406351, 0.9875470590796874, 0.7526035461681766, 0.17807717759074299, 0.0701910043058403, 0.9854006641526493, 0.2738659746625143, 0.339971554753466, 0.38718982624700293, 0.029164578156659186, 0.05832915631331837, 0.9041019228564348, 0.5047842603148368, 0.49472879696195166, 0.0201083153879723, 0.9853074540106428, 0.9966301252870814, 0.0038185062271535687, 0.775658763887053, 0.22358846930552062, 0.9942514025867628, 0.0053454376483159285, 0.9949389858586037, 0.007056304864245417, 0.9960037313312671, 0.9959722871115677, 0.9671221242529748, 0.8114288240757465, 0.07111398682911035, 0.11669987582212982, 0.9704326997918888, 0.062208582095304825, 0.9331287314295723, 0.005655325645027711, 0.9933582951628362, 0.9888407346700196, 0.9898843206046466, 0.007425602016101645, 0.9876050681415188, 0.9851622434765736, 0.1338884346859665, 0.7594910321566773, 0.1054519529827524, 0.008593625198513392, 0.9882668978290401, 0.008593625198513392, 0.9955525222791309, 0.9759472197180229, 0.9958696529187618, 0.004979348264593809, 0.9953922868835586, 0.9778862353447446, 0.02106216506896373, 0.997421185462288, 0.9098304734341074, 0.007108050573703964, 0.08292725669321291, 0.9804712117215617, 0.017899068773821615, 0.9944998597562275, 0.005849999175036632, 0.3956178542280617, 0.2908325847298184, 0.31328657105087054, 0.8149258610832776, 0.14339897126358103, 0.041970430613731034, 0.7437951722145296, 0.1778640629208658, 0.07790739946120567, 0.03978905107803425, 0.9593582315481592, 0.004421005675337139, 0.039060894040770296, 0.019530447020385148, 0.9374614569784872, 0.8437044702428509, 0.14532708578345757, 0.010092158734962333, 0.9874352816939189, 0.28042239813429143, 0.26539976966281154, 0.45568639696822355, 0.9959729334835915, 0.9935681773402637, 0.06584622279856826, 0.8998983782470996, 0.03511798549256974, 0.9630185379567787, 0.9476198701325937, 0.998135327036346, 0.9955850829701892, 0.740363539075896, 0.21649619734710318, 0.04276468095745248, 0.9554682592860814, 0.03204314284191127, 0.011652051942513187, 0.9941175266907596, 0.995867652676809, 0.6141318515837484, 0.34653627355161404, 0.04013933670482016, 0.9421736267502712, 0.99919289125084, 0.9728762415589395, 0.003325872308385803, 0.9966530684129458, 0.9971744896369994, 0.559605700376074, 0.38923394147937707, 0.05111152766900911, 0.8965198593202401, 0.09900219305376885, 0.5503543682265537, 0.4281756984802588, 0.020913465992609043, 0.0537743378598022, 0.92548465685028, 0.019811598158874497, 0.9978336782642936, 0.9973020663306935, 0.0006657557185118114, 0.0019972671555354344, 0.5767125080208464, 0.392761104600404, 0.029829957311423086, 0.922858095190914, 0.07644978303356684, 0.9969812652672397, 0.9823530909444881, 0.015389343461271354, 0.6923896978357564, 0.0894336693037852, 0.21925673764798953, 0.1526125345099796, 0.11099093418907607, 0.735314939002629, 0.23340079950331183, 0.7551202336871854, 0.06605838983972806, 0.9248174577561927, 0.9572924010703933, 0.9992899630827684, 0.2167533238155001, 0.6016010620185309, 0.18136502604970417, 0.9537871655385642, 0.04442296387439888, 0.00679372243421689, 0.9918834753956659, 0.18774932062040375, 0.797934612636716, 0.9629447301775318, 0.9984494325489227, 0.7390830439924913, 0.2604599883949442, 0.8467369825877886, 0.1531332840850256, 0.06369062265593524, 0.9314753563430529, 0.9977509928661573, 0.001705557252762662, 0.9929315618190966, 0.717824024657916, 0.2811249982500583, 0.6645904571823956, 0.3349968158155165, 0.9787211749975993, 0.015115384942047866, 0.007557692471023933, 0.97950643575088, 0.7689311788280774, 0.1527145546801408, 0.07858994626814264, 0.10408188345213813, 0.8757234331835071, 0.021534182783200993, 0.5089003018131032, 0.00417131394928773, 0.48804373206666446, 0.9408062649340139, 0.0026576448161977793, 0.055810541140153366, 0.04826806765898004, 0.9452496583216925, 0.008044677943163341, 0.023083727655738948, 0.9387382580000506, 0.04232016736885474, 0.997949545183706, 0.9868691276355679, 0.007974700021297519, 0.005981025015973139, 0.6758146039355079, 0.24843325581291206, 0.07614812438709948, 0.992997184407761, 0.9895830326122466, 0.9973300152415584, 0.7528164978621609, 0.21437820800048288, 0.033236931472943085, 0.7599043862859423, 0.1667729092039759, 0.07250996052346778, 0.9947051463552975, 0.9900789495843985, 0.7539318112325687, 0.1664524778045931, 0.07996246482769669, 0.9925637480595674, 0.22189694835375226, 0.7798092756431865, 0.996163631314494, 0.9942849940757418, 0.9562748655563459, 0.04301582440218857, 0.993345583558281, 0.9960317009345886, 0.0047886139468009065, 0.46851452095024554, 0.4105079612135485, 0.12047516253006314, 0.9992887055664667, 0.1940231932639792, 0.619026378508886, 0.18709379350455138, 0.028304282332502352, 0.9623455993050799, 0.5234026541511118, 0.16432408909395368, 0.31038994606635695, 0.9947230925207554, 0.47469072856124495, 0.5237966659986151, 0.9041728414737524, 0.05891706902506387, 0.03675025097602994, 0.16319685083216798, 0.8285378580710067, 0.009415202932625075, 0.05374004646610615, 0.9449291503623665, 0.18631088794001827, 0.012420725862667884, 0.8073471810734124, 0.002000429608745044, 0.9842113675025617, 0.01400300726121531, 0.002091151654816614, 0.9974793393475249, 0.9984193545916992, 0.48227530879133235, 0.44831225887644977, 0.06962425232550924, 0.9927402887778699, 0.30784985681141724, 0.4875676110580824, 0.20467855344759092, 0.9940208834110993, 0.9973208837717238, 0.9985755758878052, 0.963396844047971, 0.8449329808608934, 0.06734973035847701, 0.08724851432802704, 0.994413980552573, 0.9654930505049972, 0.9949919374469637, 0.6215034814410871, 0.18339446993343556, 0.19485662430427528, 0.09623003832776293, 0.18371189135300198, 0.7173511948069601, 0.9949739092710451, 0.9961128642762584, 0.858145702815616, 0.12291742162345694, 0.018209988388660288, 0.8367049182262535, 0.11089946653214351, 0.051392435710017725, 0.9893832261724506, 0.9724584906512913, 0.993839785366862, 0.00671513368491123, 0.9978153159855099, 0.7181448628714635, 0.22996051959569225, 0.05138782560797592, 0.9802242633597651, 0.01922008359528951, 0.993115318507903, 0.9944933392168339, 0.9902469329505666, 0.9968670015181673, 0.9843637783825412, 0.007514227315897261, 0.007514227315897261, 0.9906386587865348, 0.00795693701836574, 0.00397846850918287, 0.9975387195026303, 0.9814513356359842, 0.01363126855049978, 0.6959553938187172, 0.1633364699778622, 0.14203171302422798, 0.9983187272555913, 0.9907880183138595, 0.0022394465521675642, 0.9965537157145662, 0.9898178906328651, 0.8574301497635033, 0.11752420971661919, 0.02482905839083504, 0.691495313539851, 0.25044836921816177, 0.058008261988030115, 0.6924615619511113, 0.255790550588801, 0.05207164779843449, 0.05653216598835558, 0.9436523091902431, 0.0043486281529504294, 0.9936522939670662, 0.007148577654439325, 0.6059145527341507, 0.005770614787944293, 0.3866311907922676, 0.9650317697185639, 0.03262079221583878, 0.9961077894774795, 0.002891459475986878, 0.9943383755180123, 0.9871471262448808, 0.9863534983333123, 0.011931695544354585, 0.9716183485774829, 0.7444000384020933, 0.2539038890673807, 0.7508159697520088, 0.18145815030784102, 0.06837553489860676, 0.006394329716495302, 0.9911211060567718, 0.08346155189886478, 0.8961135045983377, 0.021963566289174945, 0.9607656128196809, 0.03365739407967035, 0.006119526196303699, 0.9188736213528743, 0.047610032194449446, 0.03332702253611461, 0.7233950757486028, 0.1524574568244367, 0.12289937846051531, 0.9944906461247603, 0.02830346656969898, 0.9623178633697653, 0.9868681442835994, 0.4386268787503189, 0.47095809831422447, 0.0905274147789356, 0.9730911981042148, 0.03473303486102051, 0.9725249761085742, 0.03263363701979918, 0.9626922920840759, 0.253011228037509, 0.7441506706985559, 0.9965619947019182], \"Term\": [\"absolute\", \"absolute\", \"adam\", \"adam\", \"adam\", \"adl\", \"also\", \"also\", \"also\", \"alvin\", \"american\", \"american\", \"american\", \"anania\", \"anania\", \"anania\", \"arab\", \"arab\", \"arens\", \"arens\", \"argic\", \"argic\", \"armenia\", \"armenia\", \"armenian\", \"armenian\", \"atheist\", \"atheist\", \"azerbaijan\", \"azerbaijani\", \"barlow\", \"believe\", \"believe\", \"believe\", \"bimacs\", \"blue\", \"blue\", \"blue\", \"bm\", \"bony\", \"bruin\", \"buffalo\", \"buffalo\", \"bullock\", \"ca\", \"ca\", \"ca\", \"cal\", \"cal\", \"cal\", \"calgary\", \"caralv\", \"catholic\", \"catholic\", \"chi\", \"child\", \"child\", \"christ\", \"christian\", \"christian\", \"christian\", \"church\", \"church\", \"civilian\", \"civilian\", \"com\", \"com\", \"com\", \"come\", \"come\", \"come\", \"could\", \"could\", \"could\", \"cup\", \"cup\", \"cup\", \"da\", \"da\", \"da\", \"day\", \"day\", \"day\", \"deir\", \"department\", \"department\", \"department\", \"det\", \"detroit\", \"division\", \"division\", \"division\", \"endor\", \"esin\", \"espn\", \"eternal\", \"even\", \"even\", \"even\", \"faith\", \"faith\", \"faith\", \"fan\", \"father\", \"first\", \"first\", \"first\", \"flax\", \"flyer\", \"frej\", \"game\", \"game\", \"genocide\", \"get\", \"get\", \"get\", \"gm\", \"gm\", \"go\", \"go\", \"go\", \"goal\", \"goal\", \"goal\", \"goalie\", \"god\", \"god\", \"god\", \"good\", \"good\", \"good\", \"government\", \"government\", \"greece\", \"greek\", \"greek\", \"group\", \"group\", \"group\", \"harvard\", \"harvard\", \"harvard\", \"hasan\", \"hasan\", \"henrik\", \"henrik\", \"hilmi\", \"hockey\", \"host\", \"host\", \"host\", \"human\", \"human\", \"ice\", \"ice\", \"iran\", \"iran\", \"irgun\", \"islander\", \"israel\", \"israel\", \"israeli\", \"israeli\", \"jake\", \"jake\", \"jesus\", \"jesus\", \"jet\", \"jew\", \"jew\", \"jewish\", \"jewish\", \"killed\", \"killed\", \"killed\", \"kk\", \"know\", \"know\", \"know\", \"la\", \"la\", \"la\", \"land\", \"land\", \"land\", \"law\", \"law\", \"law\", \"leaf\", \"leaf\", \"leaf\", \"league\", \"league\", \"league\", \"lemieux\", \"life\", \"life\", \"life\", \"like\", \"like\", \"like\", \"lindros\", \"livni\", \"lord\", \"make\", \"make\", \"make\", \"many\", \"many\", \"many\", \"marriage\", \"mary\", \"may\", \"may\", \"may\", \"maynard\", \"mcgill\", \"mcgill\", \"mcrcim\", \"montreal\", \"muslim\", \"muslim\", \"nature\", \"nazi\", \"nazi\", \"new\", \"new\", \"new\", \"nhl\", \"nntp\", \"nntp\", \"nntp\", \"onur\", \"onur\", \"opinion\", \"opinion\", \"opinion\", \"ottoman\", \"palestine\", \"palestine\", \"people\", \"people\", \"people\", \"period\", \"period\", \"period\", \"pittsburgh\", \"pittsburgh\", \"plane\", \"plane\", \"plane\", \"play\", \"play\", \"play\", \"player\", \"player\", \"playoff\", \"point\", \"point\", \"point\", \"pope\", \"posting\", \"posting\", \"posting\", \"prayer\", \"pt\", \"puck\", \"purchase\", \"question\", \"question\", \"question\", \"ranger\", \"redundancy\", \"resurrection\", \"right\", \"right\", \"right\", \"rochester\", \"rochester\", \"rochester\", \"roger\", \"sabbath\", \"said\", \"said\", \"said\", \"say\", \"say\", \"say\", \"scoring\", \"scroll\", \"sdpa\", \"sdpa\", \"season\", \"see\", \"see\", \"see\", \"serdar\", \"serdar\", \"serum\", \"shark\", \"shostack\", \"sin\", \"soldier\", \"soldier\", \"soldier\", \"son\", \"son\", \"son\", \"soul\", \"soviet\", \"soviet\", \"state\", \"state\", \"state\", \"stl\", \"sumgait\", \"team\", \"team\", \"teknikum\", \"thing\", \"thing\", \"thing\", \"think\", \"think\", \"think\", \"time\", \"time\", \"time\", \"toronto\", \"toronto\", \"toronto\", \"troop\", \"troop\", \"truth\", \"truth\", \"truth\", \"turk\", \"turk\", \"turkish\", \"turkish\", \"vancouver\", \"velasco\", \"village\", \"village\", \"virgilio\", \"war\", \"war\", \"way\", \"way\", \"way\", \"win\", \"win\", \"wing\", \"wing\", \"wing\", \"woman\", \"woman\", \"woman\", \"work\", \"work\", \"work\", \"world\", \"world\", \"world\", \"worship\", \"yalcin\", \"yalcin\", \"yassin\", \"year\", \"year\", \"year\", \"yigal\", \"zbib\", \"zbib\", \"zionism\", \"zionism\", \"zionist\", \"zionist\", \"zuma\"]}, \"R\": 30, \"lambda.step\": 0.01, \"plot.opts\": {\"xlab\": \"PC1\", \"ylab\": \"PC2\"}, \"topic.order\": [3, 1, 2]};\n",
       "\n",
       "function LDAvis_load_lib(url, callback){\n",
       "  var s = document.createElement('script');\n",
       "  s.src = url;\n",
       "  s.async = true;\n",
       "  s.onreadystatechange = s.onload = callback;\n",
       "  s.onerror = function(){console.warn(\"failed to load library \" + url);};\n",
       "  document.getElementsByTagName(\"head\")[0].appendChild(s);\n",
       "}\n",
       "\n",
       "if(typeof(LDAvis) !== \"undefined\"){\n",
       "   // already loaded: just create the visualization\n",
       "   !function(LDAvis){\n",
       "       new LDAvis(\"#\" + \"ldavis_el592614778238744274893328\", ldavis_el592614778238744274893328_data);\n",
       "   }(LDAvis);\n",
       "}else if(typeof define === \"function\" && define.amd){\n",
       "   // require.js is available: use it to load d3/LDAvis\n",
       "   require.config({paths: {d3: \"https://cdnjs.cloudflare.com/ajax/libs/d3/3.5.5/d3.min\"}});\n",
       "   require([\"d3\"], function(d3){\n",
       "      window.d3 = d3;\n",
       "      LDAvis_load_lib(\"https://cdn.rawgit.com/bmabey/pyLDAvis/files/ldavis.v1.0.0.js\", function(){\n",
       "        new LDAvis(\"#\" + \"ldavis_el592614778238744274893328\", ldavis_el592614778238744274893328_data);\n",
       "      });\n",
       "    });\n",
       "}else{\n",
       "    // require.js not available: dynamically load d3 & LDAvis\n",
       "    LDAvis_load_lib(\"https://cdnjs.cloudflare.com/ajax/libs/d3/3.5.5/d3.min.js\", function(){\n",
       "         LDAvis_load_lib(\"https://cdn.rawgit.com/bmabey/pyLDAvis/files/ldavis.v1.0.0.js\", function(){\n",
       "                 new LDAvis(\"#\" + \"ldavis_el592614778238744274893328\", ldavis_el592614778238744274893328_data);\n",
       "            })\n",
       "         });\n",
       "}\n",
       "</script>"
      ],
      "text/plain": [
       "PreparedData(topic_coordinates=            Freq  cluster  topics           x           y\n",
       "topic                                                    \n",
       "2      60.755275        1       1 -372.142456 -195.243271\n",
       "0      27.522158        1       2 -437.769562 -443.703552\n",
       "1      11.722567        1       3 -620.127258 -262.638367, topic_info=      Category         Freq        Term        Total  loglift  logprob\n",
       "term                                                                  \n",
       "8613   Default   902.000000        game   902.000000  30.0000  30.0000\n",
       "21194  Default   893.000000        team   893.000000  29.0000  29.0000\n",
       "11262  Default   898.000000      israel   898.000000  28.0000  28.0000\n",
       "9955   Default   597.000000      hockey   597.000000  27.0000  27.0000\n",
       "4053   Default   935.000000         com   935.000000  26.0000  26.0000\n",
       "1123   Default   497.000000        arab   497.000000  25.0000  25.0000\n",
       "11472  Default   732.000000         jew   732.000000  24.0000  24.0000\n",
       "8945   Default  1502.000000         god  1502.000000  23.0000  23.0000\n",
       "16325  Default   478.000000      player   478.000000  22.0000  22.0000\n",
       "3003   Default   843.000000          ca   843.000000  21.0000  21.0000\n",
       "16322  Default   499.000000        play   499.000000  20.0000  20.0000\n",
       "1237   Default  1309.000000    armenian  1309.000000  19.0000  19.0000\n",
       "14684  Default   384.000000         nhl   384.000000  18.0000  18.0000\n",
       "19008  Default   376.000000      season   376.000000  17.0000  17.0000\n",
       "11263  Default   777.000000     israeli   777.000000  16.0000  16.0000\n",
       "22021  Default   346.000000       truth   346.000000  15.0000  15.0000\n",
       "16330  Default   318.000000     playoff   318.000000  14.0000  14.0000\n",
       "11473  Default   370.000000      jewish   370.000000  13.0000  13.0000\n",
       "17081  Default   313.000000          pt   313.000000  12.0000  12.0000\n",
       "23565  Default   312.000000         win   312.000000  11.0000  11.0000\n",
       "8933   Default   353.000000        goal   353.000000  10.0000  10.0000\n",
       "16535  Default   600.000000     posting   600.000000   9.0000   9.0000\n",
       "18265  Default   785.000000       right   785.000000   8.0000   8.0000\n",
       "12303  Default   239.000000        land   239.000000   7.0000   7.0000\n",
       "23242  Default   346.000000         war   346.000000   6.0000   6.0000\n",
       "83     Default   149.000000    absolute   149.000000   5.0000   5.0000\n",
       "766    Default   317.000000    american   317.000000   4.0000   4.0000\n",
       "22085  Default   691.000000     turkish   691.000000   3.0000   3.0000\n",
       "237    Default   212.000000        adam   212.000000   2.0000   2.0000\n",
       "3651   Default   844.000000   christian   844.000000   1.0000   1.0000\n",
       "...        ...          ...         ...          ...      ...      ...\n",
       "1123    Topic3   245.652201        arab   497.242128   1.4385  -5.1048\n",
       "237     Topic3   126.628783        adam   212.006745   1.6283  -5.7675\n",
       "9573    Topic3    55.462791       hasan    72.836083   1.8712  -6.5930\n",
       "9568    Topic3    53.452138     harvard    72.077959   1.8447  -6.6299\n",
       "24081   Topic3    49.832415     zionist    67.190694   1.8448  -6.7000\n",
       "4053    Topic3   292.902324         com   935.245960   0.9827  -4.9289\n",
       "12303   Topic3   116.949726        land   239.732615   1.4259  -5.8470\n",
       "22021   Topic3   134.007903       truth   346.583522   1.1934  -5.7108\n",
       "11262   Topic3   234.261618      israel   898.410545   0.7995  -5.1523\n",
       "11472   Topic3   206.159217         jew   732.770125   0.8755  -5.2801\n",
       "766     Topic3   122.814810    american   317.673636   1.1933  -5.7980\n",
       "5577    Topic3    90.565972  department   199.698742   1.3529  -6.1026\n",
       "11473   Topic3   123.799241      jewish   370.152772   1.0484  -5.7901\n",
       "18265   Topic3   152.731723       right   785.192705   0.5064  -5.5800\n",
       "15297   Topic3   102.420686     opinion   328.618891   0.9778  -5.9796\n",
       "16535   Topic3   122.808900     posting   600.942297   0.5558  -5.7981\n",
       "11263   Topic3   118.984306     israeli   777.100816   0.2671  -5.8297\n",
       "15669   Topic3    64.246697   palestine   122.184817   1.5008  -6.4460\n",
       "23242   Topic3    88.158948         war   346.587838   0.7747  -6.1296\n",
       "1236    Topic3    80.554669     armenia   362.272707   0.6402  -6.2198\n",
       "10080   Topic3    82.361872        host   452.126861   0.4408  -6.1976\n",
       "14794   Topic3    81.406140        nntp   432.937932   0.4725  -6.2093\n",
       "3003    Topic3    89.396668          ca   843.986266  -0.1014  -6.1156\n",
       "9203    Topic3    75.738806       group   346.625608   0.6227  -6.2814\n",
       "12061   Topic3    87.557051        know  1119.736101  -0.4049  -6.1364\n",
       "20360   Topic3    79.855907       state   563.254489   0.1901  -6.2285\n",
       "23885   Topic3    83.887998        year   927.895712  -0.2598  -6.1792\n",
       "14637   Topic3    81.190186         new   672.337752   0.0297  -6.2119\n",
       "23697   Topic3    79.197441       world   642.802274   0.0498  -6.2368\n",
       "12655   Topic3    79.665665        like  1050.583985  -0.4356  -6.2309\n",
       "\n",
       "[241 rows x 6 columns], token_table=       Topic      Freq         Term\n",
       "term                               \n",
       "83         1  0.080514     absolute\n",
       "83         3  0.919206     absolute\n",
       "237        1  0.099053         adam\n",
       "237        2  0.301877         adam\n",
       "237        3  0.599038         adam\n",
       "278        3  0.987547          adl\n",
       "700        1  0.752604         also\n",
       "700        2  0.178077         also\n",
       "700        3  0.070191         also\n",
       "725        3  0.985401        alvin\n",
       "766        1  0.273866     american\n",
       "766        2  0.339972     american\n",
       "766        3  0.387190     american\n",
       "820        1  0.029165       anania\n",
       "820        2  0.058329       anania\n",
       "820        3  0.904102       anania\n",
       "1123       1  0.504784         arab\n",
       "1123       3  0.494729         arab\n",
       "1178       1  0.020108        arens\n",
       "1178       3  0.985307        arens\n",
       "1185       1  0.996630        argic\n",
       "1185       2  0.003819        argic\n",
       "1236       1  0.775659      armenia\n",
       "1236       3  0.223588      armenia\n",
       "1237       1  0.994251     armenian\n",
       "1237       3  0.005345     armenian\n",
       "1471       1  0.994939      atheist\n",
       "1471       3  0.007056      atheist\n",
       "1709       1  0.996004   azerbaijan\n",
       "1710       1  0.995972  azerbaijani\n",
       "...      ...       ...          ...\n",
       "23317      3  0.068376          way\n",
       "23565      1  0.006394          win\n",
       "23565      2  0.991121          win\n",
       "23572      1  0.083462         wing\n",
       "23572      2  0.896114         wing\n",
       "23572      3  0.021964         wing\n",
       "23658      1  0.960766        woman\n",
       "23658      2  0.033657        woman\n",
       "23658      3  0.006120        woman\n",
       "23690      1  0.918874         work\n",
       "23690      2  0.047610         work\n",
       "23690      3  0.033327         work\n",
       "23697      1  0.723395        world\n",
       "23697      2  0.152457        world\n",
       "23697      3  0.122899        world\n",
       "23711      1  0.994491      worship\n",
       "23836      2  0.028303       yalcin\n",
       "23836      3  0.962318       yalcin\n",
       "23866      3  0.986868       yassin\n",
       "23885      1  0.438627         year\n",
       "23885      2  0.470958         year\n",
       "23885      3  0.090527         year\n",
       "23917      3  0.973091        yigal\n",
       "24035      1  0.034733         zbib\n",
       "24035      3  0.972525         zbib\n",
       "24080      1  0.032634      zionism\n",
       "24080      3  0.962692      zionism\n",
       "24081      1  0.253011      zionist\n",
       "24081      3  0.744151      zionist\n",
       "24101      1  0.996562         zuma\n",
       "\n",
       "[379 rows x 3 columns], R=30, lambda_step=0.01, plot_opts={'xlab': 'PC1', 'ylab': 'PC2'}, topic_order=[3, 1, 2])"
      ]
     },
     "execution_count": 22,
     "metadata": {},
     "output_type": "execute_result"
    }
   ],
   "source": [
    "import pyLDAvis.sklearn\n",
    " \n",
    "pyLDAvis.enable_notebook()\n",
    "\n",
    "graph = pyLDAvis.sklearn.prepare(lda_model2, data_vectorized2, vectorizer2, mds='tsne')\n",
    "\n",
    "graph "
   ]
  },
  {
   "cell_type": "code",
   "execution_count": null,
   "metadata": {},
   "outputs": [],
   "source": []
  },
  {
   "cell_type": "code",
   "execution_count": null,
   "metadata": {
    "collapsed": true
   },
   "outputs": [],
   "source": []
  }
 ],
 "metadata": {
  "kernelspec": {
   "display_name": "Python 3",
   "language": "python",
   "name": "python3"
  },
  "language_info": {
   "codemirror_mode": {
    "name": "ipython",
    "version": 3
   },
   "file_extension": ".py",
   "mimetype": "text/x-python",
   "name": "python",
   "nbconvert_exporter": "python",
   "pygments_lexer": "ipython3",
   "version": "3.6.3"
  }
 },
 "nbformat": 4,
 "nbformat_minor": 2
}
