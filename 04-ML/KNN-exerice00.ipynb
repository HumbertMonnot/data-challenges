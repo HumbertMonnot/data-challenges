{
 "cells": [
  {
   "cell_type": "markdown",
   "metadata": {},
   "source": [
    "# K-Nearest-Neighbors (KNN)"
   ]
  },
  {
   "cell_type": "markdown",
   "metadata": {},
   "source": [
    "## Introduction"
   ]
  },
  {
   "cell_type": "markdown",
   "metadata": {},
   "source": [
    "In this exercise, we will analyze the price per night on Airbnb (in copenhagen). The dataset is available on the website [Airbnb Inside](http://insideairbnb.com/get-the-data.html), and we already downloaded the CSVs in the exercise folder. They are located under the data subfolder, no need for you to download it again.\n",
    "\n",
    "Our goal is to __predict the price per night thanks to the KNN Algorithm__. "
   ]
  },
  {
   "cell_type": "markdown",
   "metadata": {},
   "source": [
    "## Data Exploration"
   ]
  },
  {
   "cell_type": "markdown",
   "metadata": {},
   "source": [
    "- Read the file 'listings-copenhague.csv'\n",
    "- Display the first 3 lines of the listing"
   ]
  },
  {
   "cell_type": "code",
   "execution_count": 197,
   "metadata": {},
   "outputs": [
    {
     "data": {
      "text/html": [
       "<div>\n",
       "<style scoped>\n",
       "    .dataframe tbody tr th:only-of-type {\n",
       "        vertical-align: middle;\n",
       "    }\n",
       "\n",
       "    .dataframe tbody tr th {\n",
       "        vertical-align: top;\n",
       "    }\n",
       "\n",
       "    .dataframe thead th {\n",
       "        text-align: right;\n",
       "    }\n",
       "</style>\n",
       "<table border=\"1\" class=\"dataframe\">\n",
       "  <thead>\n",
       "    <tr style=\"text-align: right;\">\n",
       "      <th></th>\n",
       "      <th>accommodates</th>\n",
       "      <th>bedrooms</th>\n",
       "      <th>bathrooms</th>\n",
       "      <th>beds</th>\n",
       "      <th>price</th>\n",
       "      <th>minimum_nights</th>\n",
       "      <th>maximum_nights</th>\n",
       "      <th>number_of_reviews</th>\n",
       "    </tr>\n",
       "  </thead>\n",
       "  <tbody>\n",
       "    <tr>\n",
       "      <th>0</th>\n",
       "      <td>2</td>\n",
       "      <td>1.0</td>\n",
       "      <td>1.0</td>\n",
       "      <td>1.0</td>\n",
       "      <td>$361.00</td>\n",
       "      <td>2</td>\n",
       "      <td>15</td>\n",
       "      <td>167</td>\n",
       "    </tr>\n",
       "    <tr>\n",
       "      <th>1</th>\n",
       "      <td>6</td>\n",
       "      <td>4.0</td>\n",
       "      <td>1.5</td>\n",
       "      <td>4.0</td>\n",
       "      <td>$2,397.00</td>\n",
       "      <td>3</td>\n",
       "      <td>30</td>\n",
       "      <td>46</td>\n",
       "    </tr>\n",
       "    <tr>\n",
       "      <th>2</th>\n",
       "      <td>12</td>\n",
       "      <td>6.0</td>\n",
       "      <td>2.5</td>\n",
       "      <td>8.0</td>\n",
       "      <td>$3,100.00</td>\n",
       "      <td>3</td>\n",
       "      <td>31</td>\n",
       "      <td>259</td>\n",
       "    </tr>\n",
       "  </tbody>\n",
       "</table>\n",
       "</div>"
      ],
      "text/plain": [
       "   accommodates  bedrooms  bathrooms  beds      price  minimum_nights  \\\n",
       "0             2       1.0        1.0   1.0    $361.00               2   \n",
       "1             6       4.0        1.5   4.0  $2,397.00               3   \n",
       "2            12       6.0        2.5   8.0  $3,100.00               3   \n",
       "\n",
       "   maximum_nights  number_of_reviews  \n",
       "0              15                167  \n",
       "1              30                 46  \n",
       "2              31                259  "
      ]
     },
     "execution_count": 197,
     "metadata": {},
     "output_type": "execute_result"
    }
   ],
   "source": [
    "import pandas as pd\n",
    "import numpy as np\n",
    "import seaborn as sns\n",
    "import matplotlib.pyplot as plt\n",
    "\n",
    "copenhagen_listing = pd.read_csv('data/listings-copenhague.csv', low_memory=False)\n",
    "copenhagen_listing = copenhagen_listing[columns]\n",
    "copenhagen_listing.head(3)"
   ]
  },
  {
   "cell_type": "markdown",
   "metadata": {},
   "source": [
    "# KNN with one feature"
   ]
  },
  {
   "cell_type": "markdown",
   "metadata": {},
   "source": [
    "As you can notice, we have different features (columns) available. To simplifify this exercise, we will first focus on one single column : __bedrooms__. "
   ]
  },
  {
   "cell_type": "markdown",
   "metadata": {},
   "source": [
    "## Euclidean Distance "
   ]
  },
  {
   "cell_type": "markdown",
   "metadata": {},
   "source": [
    "- Create a new column named \"distance\" and compute the euclidean distance between each example and __a two bedrooms apartment__\n",
    "- Display the result in a bar plot (distance on X-axis and number of apartmentst corresponding to each distance on Y-axis"
   ]
  },
  {
   "cell_type": "code",
   "execution_count": 198,
   "metadata": {},
   "outputs": [
    {
     "data": {
      "image/png": "[encoded data removed]",
      "text/plain": [
       "<Figure size 720x360 with 1 Axes>"
      ]
     },
     "metadata": {
      "needs_background": "light"
     },
     "output_type": "display_data"
    }
   ],
   "source": [
    "target_value = 2 # two bedrooms apartment\n",
    "copenhagen_listing['distance'] = copenhagen_listing['bedrooms'].apply(lambda x: np.abs(x - target_value))\n",
    "distance_count = copenhagen_listing['distance'].value_counts()\n",
    "\n",
    "# Plot bar \n",
    "plt.figure(figsize=(10,5))\n",
    "sns.barplot(distance_count.index, distance_count.values, alpha=0.8)\n",
    "plt.title('Euclidean distance between Airbnb flats and a 2-bedrooms apartment')\n",
    "plt.ylabel('Number of Apartments', fontsize=12)\n",
    "plt.xlabel('city', fontsize=12)\n",
    "plt.show()"
   ]
  },
  {
   "cell_type": "markdown",
   "metadata": {},
   "source": [
    "## Randomize and sort"
   ]
  },
  {
   "cell_type": "markdown",
   "metadata": {},
   "source": [
    "- Randomize the dataframe (so it doesn't depend on the order of the examples)\n",
    "- Sort the dataframe by distance\n",
    "- Display the 5 first results (__k = 5__)\n",
    "- __Hint__ : np.random.permutation(), loc[]"
   ]
  },
  {
   "cell_type": "code",
   "execution_count": 199,
   "metadata": {},
   "outputs": [
    {
     "data": {
      "text/html": [
       "<div>\n",
       "<style scoped>\n",
       "    .dataframe tbody tr th:only-of-type {\n",
       "        vertical-align: middle;\n",
       "    }\n",
       "\n",
       "    .dataframe tbody tr th {\n",
       "        vertical-align: top;\n",
       "    }\n",
       "\n",
       "    .dataframe thead th {\n",
       "        text-align: right;\n",
       "    }\n",
       "</style>\n",
       "<table border=\"1\" class=\"dataframe\">\n",
       "  <thead>\n",
       "    <tr style=\"text-align: right;\">\n",
       "      <th></th>\n",
       "      <th>accommodates</th>\n",
       "      <th>bedrooms</th>\n",
       "      <th>bathrooms</th>\n",
       "      <th>beds</th>\n",
       "      <th>price</th>\n",
       "      <th>minimum_nights</th>\n",
       "      <th>maximum_nights</th>\n",
       "      <th>number_of_reviews</th>\n",
       "      <th>distance</th>\n",
       "    </tr>\n",
       "  </thead>\n",
       "  <tbody>\n",
       "    <tr>\n",
       "      <th>18974</th>\n",
       "      <td>5</td>\n",
       "      <td>2.0</td>\n",
       "      <td>1.0</td>\n",
       "      <td>4.0</td>\n",
       "      <td>$893.00</td>\n",
       "      <td>5</td>\n",
       "      <td>31</td>\n",
       "      <td>6</td>\n",
       "      <td>0.0</td>\n",
       "    </tr>\n",
       "    <tr>\n",
       "      <th>22486</th>\n",
       "      <td>4</td>\n",
       "      <td>2.0</td>\n",
       "      <td>1.0</td>\n",
       "      <td>2.0</td>\n",
       "      <td>$952.00</td>\n",
       "      <td>2</td>\n",
       "      <td>1125</td>\n",
       "      <td>0</td>\n",
       "      <td>0.0</td>\n",
       "    </tr>\n",
       "    <tr>\n",
       "      <th>9084</th>\n",
       "      <td>3</td>\n",
       "      <td>2.0</td>\n",
       "      <td>1.0</td>\n",
       "      <td>2.0</td>\n",
       "      <td>$808.00</td>\n",
       "      <td>4</td>\n",
       "      <td>1125</td>\n",
       "      <td>16</td>\n",
       "      <td>0.0</td>\n",
       "    </tr>\n",
       "    <tr>\n",
       "      <th>197</th>\n",
       "      <td>3</td>\n",
       "      <td>2.0</td>\n",
       "      <td>1.0</td>\n",
       "      <td>3.0</td>\n",
       "      <td>$473.00</td>\n",
       "      <td>4</td>\n",
       "      <td>31</td>\n",
       "      <td>14</td>\n",
       "      <td>0.0</td>\n",
       "    </tr>\n",
       "    <tr>\n",
       "      <th>17122</th>\n",
       "      <td>3</td>\n",
       "      <td>2.0</td>\n",
       "      <td>1.0</td>\n",
       "      <td>2.0</td>\n",
       "      <td>$926.00</td>\n",
       "      <td>2</td>\n",
       "      <td>14</td>\n",
       "      <td>27</td>\n",
       "      <td>0.0</td>\n",
       "    </tr>\n",
       "  </tbody>\n",
       "</table>\n",
       "</div>"
      ],
      "text/plain": [
       "       accommodates  bedrooms  bathrooms  beds    price  minimum_nights  \\\n",
       "18974             5       2.0        1.0   4.0  $893.00               5   \n",
       "22486             4       2.0        1.0   2.0  $952.00               2   \n",
       "9084              3       2.0        1.0   2.0  $808.00               4   \n",
       "197               3       2.0        1.0   3.0  $473.00               4   \n",
       "17122             3       2.0        1.0   2.0  $926.00               2   \n",
       "\n",
       "       maximum_nights  number_of_reviews  distance  \n",
       "18974              31                  6       0.0  \n",
       "22486            1125                  0       0.0  \n",
       "9084             1125                 16       0.0  \n",
       "197                31                 14       0.0  \n",
       "17122              14                 27       0.0  "
      ]
     },
     "execution_count": 199,
     "metadata": {},
     "output_type": "execute_result"
    }
   ],
   "source": [
    "np.random.seed(1) # So we get the same results\n",
    "copenhagen_listing = copenhagen_listing.loc[np.random.permutation(len(copenhagen_listing))] # randomize\n",
    "copenhagen_listing = copenhagen_listing.sort_values(\"distance\") # sort by distance\n",
    "copenhagen_listing.head(5)"
   ]
  },
  {
   "cell_type": "markdown",
   "metadata": {},
   "source": [
    "## Clean the data"
   ]
  },
  {
   "cell_type": "markdown",
   "metadata": {},
   "source": [
    "- Replace the values in the column \"price\" with the same value but without the \"$\" and the commas.\n",
    "- Convert the type from string to float"
   ]
  },
  {
   "cell_type": "code",
   "execution_count": 200,
   "metadata": {},
   "outputs": [
    {
     "data": {
      "text/html": [
       "<div>\n",
       "<style scoped>\n",
       "    .dataframe tbody tr th:only-of-type {\n",
       "        vertical-align: middle;\n",
       "    }\n",
       "\n",
       "    .dataframe tbody tr th {\n",
       "        vertical-align: top;\n",
       "    }\n",
       "\n",
       "    .dataframe thead th {\n",
       "        text-align: right;\n",
       "    }\n",
       "</style>\n",
       "<table border=\"1\" class=\"dataframe\">\n",
       "  <thead>\n",
       "    <tr style=\"text-align: right;\">\n",
       "      <th></th>\n",
       "      <th>accommodates</th>\n",
       "      <th>bedrooms</th>\n",
       "      <th>bathrooms</th>\n",
       "      <th>beds</th>\n",
       "      <th>price</th>\n",
       "      <th>minimum_nights</th>\n",
       "      <th>maximum_nights</th>\n",
       "      <th>number_of_reviews</th>\n",
       "      <th>distance</th>\n",
       "    </tr>\n",
       "  </thead>\n",
       "  <tbody>\n",
       "    <tr>\n",
       "      <th>18974</th>\n",
       "      <td>5</td>\n",
       "      <td>2.0</td>\n",
       "      <td>1.0</td>\n",
       "      <td>4.0</td>\n",
       "      <td>893.0</td>\n",
       "      <td>5</td>\n",
       "      <td>31</td>\n",
       "      <td>6</td>\n",
       "      <td>0.0</td>\n",
       "    </tr>\n",
       "    <tr>\n",
       "      <th>22486</th>\n",
       "      <td>4</td>\n",
       "      <td>2.0</td>\n",
       "      <td>1.0</td>\n",
       "      <td>2.0</td>\n",
       "      <td>952.0</td>\n",
       "      <td>2</td>\n",
       "      <td>1125</td>\n",
       "      <td>0</td>\n",
       "      <td>0.0</td>\n",
       "    </tr>\n",
       "    <tr>\n",
       "      <th>9084</th>\n",
       "      <td>3</td>\n",
       "      <td>2.0</td>\n",
       "      <td>1.0</td>\n",
       "      <td>2.0</td>\n",
       "      <td>808.0</td>\n",
       "      <td>4</td>\n",
       "      <td>1125</td>\n",
       "      <td>16</td>\n",
       "      <td>0.0</td>\n",
       "    </tr>\n",
       "    <tr>\n",
       "      <th>197</th>\n",
       "      <td>3</td>\n",
       "      <td>2.0</td>\n",
       "      <td>1.0</td>\n",
       "      <td>3.0</td>\n",
       "      <td>473.0</td>\n",
       "      <td>4</td>\n",
       "      <td>31</td>\n",
       "      <td>14</td>\n",
       "      <td>0.0</td>\n",
       "    </tr>\n",
       "    <tr>\n",
       "      <th>17122</th>\n",
       "      <td>3</td>\n",
       "      <td>2.0</td>\n",
       "      <td>1.0</td>\n",
       "      <td>2.0</td>\n",
       "      <td>926.0</td>\n",
       "      <td>2</td>\n",
       "      <td>14</td>\n",
       "      <td>27</td>\n",
       "      <td>0.0</td>\n",
       "    </tr>\n",
       "  </tbody>\n",
       "</table>\n",
       "</div>"
      ],
      "text/plain": [
       "       accommodates  bedrooms  bathrooms  beds  price  minimum_nights  \\\n",
       "18974             5       2.0        1.0   4.0  893.0               5   \n",
       "22486             4       2.0        1.0   2.0  952.0               2   \n",
       "9084              3       2.0        1.0   2.0  808.0               4   \n",
       "197               3       2.0        1.0   3.0  473.0               4   \n",
       "17122             3       2.0        1.0   2.0  926.0               2   \n",
       "\n",
       "       maximum_nights  number_of_reviews  distance  \n",
       "18974              31                  6       0.0  \n",
       "22486            1125                  0       0.0  \n",
       "9084             1125                 16       0.0  \n",
       "197                31                 14       0.0  \n",
       "17122              14                 27       0.0  "
      ]
     },
     "execution_count": 200,
     "metadata": {},
     "output_type": "execute_result"
    }
   ],
   "source": [
    "stripped_commas = copenhagen_listing[\"price\"].str.replace(',', \"\")\n",
    "stripped_dollars = stripped_commas.str.replace('$', \"\")\n",
    "copenhagen_listing[\"price\"] = stripped_dollars.astype('float')\n",
    "copenhagen_listing.head(5)"
   ]
  },
  {
   "cell_type": "markdown",
   "metadata": {},
   "source": [
    "## Mean price"
   ]
  },
  {
   "cell_type": "markdown",
   "metadata": {},
   "source": [
    "- Calculate the mean price of the five nearest values\n",
    "- Display the result."
   ]
  },
  {
   "cell_type": "code",
   "execution_count": 201,
   "metadata": {},
   "outputs": [
    {
     "name": "stdout",
     "output_type": "stream",
     "text": [
      "810.4\n"
     ]
    }
   ],
   "source": [
    "mean_price = copenhagen_listing[:5][\"price\"].mean()\n",
    "print(mean_price)"
   ]
  },
  {
   "cell_type": "markdown",
   "metadata": {},
   "source": [
    "# Multivariate K-nearest Neighbors"
   ]
  },
  {
   "cell_type": "markdown",
   "metadata": {},
   "source": [
    "Congratulations, you just made your first prediction based on the K (=5) nearest neighbors. It's a big step ! However, this model is not perfect. In the following we will work on 2 different aspects to improve our model :\n",
    "- How many neighbors should we use ? --> Choose the value of K\n",
    "- Which features should we include in the model ? --> Choose the relevant columns"
   ]
  },
  {
   "cell_type": "markdown",
   "metadata": {},
   "source": [
    "To do that, we will now use the Scikit-Learn library, which is a very helpful library to do the exact same thing we did until now (but in just a few lines). With this library, it's always the same 4 steps :\n",
    "1. Instanciate the Machine Learning model we want to use (for ex : KNN Regressor --> class KNeighborsRegressor)\n",
    "2. Adapt the model with the training data\n",
    "3. Use the model to make predictions\n",
    "4. Evaluate the precision of these predictions"
   ]
  },
  {
   "cell_type": "markdown",
   "metadata": {},
   "source": [
    "### Normalize the columns (Optional)"
   ]
  },
  {
   "cell_type": "markdown",
   "metadata": {},
   "source": [
    "- Normalize the columns and assign it to the variable `normalized_listing` and add it the column 'price' (not normalized!)\n",
    "- Display the first 3 lines of these new dataframe"
   ]
  },
  {
   "cell_type": "code",
   "execution_count": 202,
   "metadata": {},
   "outputs": [
    {
     "data": {
      "text/html": [
       "<div>\n",
       "<style scoped>\n",
       "    .dataframe tbody tr th:only-of-type {\n",
       "        vertical-align: middle;\n",
       "    }\n",
       "\n",
       "    .dataframe tbody tr th {\n",
       "        vertical-align: top;\n",
       "    }\n",
       "\n",
       "    .dataframe thead th {\n",
       "        text-align: right;\n",
       "    }\n",
       "</style>\n",
       "<table border=\"1\" class=\"dataframe\">\n",
       "  <thead>\n",
       "    <tr style=\"text-align: right;\">\n",
       "      <th></th>\n",
       "      <th>accommodates</th>\n",
       "      <th>bedrooms</th>\n",
       "      <th>bathrooms</th>\n",
       "      <th>beds</th>\n",
       "      <th>price</th>\n",
       "      <th>minimum_nights</th>\n",
       "      <th>maximum_nights</th>\n",
       "      <th>number_of_reviews</th>\n",
       "      <th>distance</th>\n",
       "    </tr>\n",
       "  </thead>\n",
       "  <tbody>\n",
       "    <tr>\n",
       "      <th>18974</th>\n",
       "      <td>1.017439</td>\n",
       "      <td>0.506533</td>\n",
       "      <td>-0.250096</td>\n",
       "      <td>1.166602</td>\n",
       "      <td>893.0</td>\n",
       "      <td>0.110926</td>\n",
       "      <td>-0.73435</td>\n",
       "      <td>-0.277561</td>\n",
       "      <td>-1.475587</td>\n",
       "    </tr>\n",
       "    <tr>\n",
       "      <th>22486</th>\n",
       "      <td>0.407064</td>\n",
       "      <td>0.506533</td>\n",
       "      <td>-0.250096</td>\n",
       "      <td>-0.130431</td>\n",
       "      <td>952.0</td>\n",
       "      <td>-0.130228</td>\n",
       "      <td>0.60701</td>\n",
       "      <td>-0.511390</td>\n",
       "      <td>-1.475587</td>\n",
       "    </tr>\n",
       "    <tr>\n",
       "      <th>9084</th>\n",
       "      <td>-0.203311</td>\n",
       "      <td>0.506533</td>\n",
       "      <td>-0.250096</td>\n",
       "      <td>-0.130431</td>\n",
       "      <td>808.0</td>\n",
       "      <td>0.030542</td>\n",
       "      <td>0.60701</td>\n",
       "      <td>0.112154</td>\n",
       "      <td>-1.475587</td>\n",
       "    </tr>\n",
       "  </tbody>\n",
       "</table>\n",
       "</div>"
      ],
      "text/plain": [
       "       accommodates  bedrooms  bathrooms      beds  price  minimum_nights  \\\n",
       "18974      1.017439  0.506533  -0.250096  1.166602  893.0        0.110926   \n",
       "22486      0.407064  0.506533  -0.250096 -0.130431  952.0       -0.130228   \n",
       "9084      -0.203311  0.506533  -0.250096 -0.130431  808.0        0.030542   \n",
       "\n",
       "       maximum_nights  number_of_reviews  distance  \n",
       "18974        -0.73435          -0.277561 -1.475587  \n",
       "22486         0.60701          -0.511390 -1.475587  \n",
       "9084          0.60701           0.112154 -1.475587  "
      ]
     },
     "execution_count": 202,
     "metadata": {},
     "output_type": "execute_result"
    }
   ],
   "source": [
    "normalized_listing = (copenhagen_listing - copenhagen_listing.mean())/copenhagen_listing.std()\n",
    "normalized_listing['price'] = copenhagen_listing['price']\n",
    "normalized_listing.head(3)"
   ]
  },
  {
   "cell_type": "markdown",
   "metadata": {},
   "source": [
    "### KNeighborsRegressor"
   ]
  },
  {
   "cell_type": "markdown",
   "metadata": {},
   "source": [
    "- Instanciate and train your model on the whole dataframe (use __k = 5__ and the columns 'bedrooms' and 'accommodates')\n",
    "\n",
    "__Hint__ : checks the [docs](https://scikit-learn.org/stable/modules/generated/sklearn.neighbors.KNeighborsRegressor.html)"
   ]
  },
  {
   "cell_type": "code",
   "execution_count": 203,
   "metadata": {},
   "outputs": [
    {
     "data": {
      "text/plain": [
       "KNeighborsRegressor(algorithm='brute', leaf_size=30, metric='minkowski',\n",
       "          metric_params=None, n_jobs=None, n_neighbors=5, p=2,\n",
       "          weights='uniform')"
      ]
     },
     "execution_count": 203,
     "metadata": {},
     "output_type": "execute_result"
    }
   ],
   "source": [
    "from sklearn.neighbors import KNeighborsRegressor\n",
    "knn = KNeighborsRegressor(n_neighbors = 5, algorithm = \"brute\")\n",
    "train_columns = ['bedrooms', 'accommodates']\n",
    "knn.fit(copenhagen_listing[train_columns], copenhagen_listing['price'])"
   ]
  },
  {
   "cell_type": "markdown",
   "metadata": {},
   "source": [
    "### Make predictions"
   ]
  },
  {
   "cell_type": "markdown",
   "metadata": {},
   "source": [
    "- Add a new column \"predicted_price\" to the dataframe with the price predicted by your 2 features model"
   ]
  },
  {
   "cell_type": "code",
   "execution_count": 204,
   "metadata": {},
   "outputs": [],
   "source": [
    "predictions = knn.predict(copenhagen_listing[train_columns])\n",
    "copenhagen_listing[\"predicted_price\"] = predictions"
   ]
  },
  {
   "cell_type": "code",
   "execution_count": 205,
   "metadata": {},
   "outputs": [
    {
     "data": {
      "text/html": [
       "<div>\n",
       "<style scoped>\n",
       "    .dataframe tbody tr th:only-of-type {\n",
       "        vertical-align: middle;\n",
       "    }\n",
       "\n",
       "    .dataframe tbody tr th {\n",
       "        vertical-align: top;\n",
       "    }\n",
       "\n",
       "    .dataframe thead th {\n",
       "        text-align: right;\n",
       "    }\n",
       "</style>\n",
       "<table border=\"1\" class=\"dataframe\">\n",
       "  <thead>\n",
       "    <tr style=\"text-align: right;\">\n",
       "      <th></th>\n",
       "      <th>accommodates</th>\n",
       "      <th>bedrooms</th>\n",
       "      <th>bathrooms</th>\n",
       "      <th>beds</th>\n",
       "      <th>price</th>\n",
       "      <th>minimum_nights</th>\n",
       "      <th>maximum_nights</th>\n",
       "      <th>number_of_reviews</th>\n",
       "      <th>distance</th>\n",
       "      <th>predicted_price</th>\n",
       "    </tr>\n",
       "  </thead>\n",
       "  <tbody>\n",
       "    <tr>\n",
       "      <th>18974</th>\n",
       "      <td>5</td>\n",
       "      <td>2.0</td>\n",
       "      <td>1.0</td>\n",
       "      <td>4.0</td>\n",
       "      <td>893.0</td>\n",
       "      <td>5</td>\n",
       "      <td>31</td>\n",
       "      <td>6</td>\n",
       "      <td>0.0</td>\n",
       "      <td>778.8</td>\n",
       "    </tr>\n",
       "    <tr>\n",
       "      <th>22486</th>\n",
       "      <td>4</td>\n",
       "      <td>2.0</td>\n",
       "      <td>1.0</td>\n",
       "      <td>2.0</td>\n",
       "      <td>952.0</td>\n",
       "      <td>2</td>\n",
       "      <td>1125</td>\n",
       "      <td>0</td>\n",
       "      <td>0.0</td>\n",
       "      <td>1216.2</td>\n",
       "    </tr>\n",
       "    <tr>\n",
       "      <th>9084</th>\n",
       "      <td>3</td>\n",
       "      <td>2.0</td>\n",
       "      <td>1.0</td>\n",
       "      <td>2.0</td>\n",
       "      <td>808.0</td>\n",
       "      <td>4</td>\n",
       "      <td>1125</td>\n",
       "      <td>16</td>\n",
       "      <td>0.0</td>\n",
       "      <td>726.4</td>\n",
       "    </tr>\n",
       "    <tr>\n",
       "      <th>197</th>\n",
       "      <td>3</td>\n",
       "      <td>2.0</td>\n",
       "      <td>1.0</td>\n",
       "      <td>3.0</td>\n",
       "      <td>473.0</td>\n",
       "      <td>4</td>\n",
       "      <td>31</td>\n",
       "      <td>14</td>\n",
       "      <td>0.0</td>\n",
       "      <td>726.4</td>\n",
       "    </tr>\n",
       "    <tr>\n",
       "      <th>17122</th>\n",
       "      <td>3</td>\n",
       "      <td>2.0</td>\n",
       "      <td>1.0</td>\n",
       "      <td>2.0</td>\n",
       "      <td>926.0</td>\n",
       "      <td>2</td>\n",
       "      <td>14</td>\n",
       "      <td>27</td>\n",
       "      <td>0.0</td>\n",
       "      <td>726.4</td>\n",
       "    </tr>\n",
       "  </tbody>\n",
       "</table>\n",
       "</div>"
      ],
      "text/plain": [
       "       accommodates  bedrooms  bathrooms  beds  price  minimum_nights  \\\n",
       "18974             5       2.0        1.0   4.0  893.0               5   \n",
       "22486             4       2.0        1.0   2.0  952.0               2   \n",
       "9084              3       2.0        1.0   2.0  808.0               4   \n",
       "197               3       2.0        1.0   3.0  473.0               4   \n",
       "17122             3       2.0        1.0   2.0  926.0               2   \n",
       "\n",
       "       maximum_nights  number_of_reviews  distance  predicted_price  \n",
       "18974              31                  6       0.0            778.8  \n",
       "22486            1125                  0       0.0           1216.2  \n",
       "9084             1125                 16       0.0            726.4  \n",
       "197                31                 14       0.0            726.4  \n",
       "17122              14                 27       0.0            726.4  "
      ]
     },
     "execution_count": 205,
     "metadata": {},
     "output_type": "execute_result"
    }
   ],
   "source": [
    "copenhagen_listing.head()"
   ]
  },
  {
   "cell_type": "markdown",
   "metadata": {},
   "source": [
    "### Evaluate the precision of your predictions (MSE and RMSE)"
   ]
  },
  {
   "cell_type": "markdown",
   "metadata": {},
   "source": [
    "- Calcul de Mean Squared Error (MSE) and the Root Mean Squared Error (RMSE)"
   ]
  },
  {
   "cell_type": "code",
   "execution_count": 206,
   "metadata": {},
   "outputs": [
    {
     "name": "stdout",
     "output_type": "stream",
     "text": [
      "632970.0943070238\n",
      "795.5941768936119\n"
     ]
    }
   ],
   "source": [
    "from sklearn.metrics import mean_squared_error\n",
    "\n",
    "two_features_mse = mean_squared_error(predictions, copenhagen_listing['price'])\n",
    "two_features_rmse = two_features_mse**(1/2)\n",
    "print(two_features_mse)\n",
    "print(two_features_rmse)"
   ]
  },
  {
   "cell_type": "markdown",
   "metadata": {},
   "source": [
    "# Improve your model by selecting the right features and K"
   ]
  },
  {
   "cell_type": "markdown",
   "metadata": {},
   "source": [
    "- Create a new model and trained it with all the columns (except the price of course) and K = 10\n",
    "- Compare the MSE and RMSE with the previous values"
   ]
  },
  {
   "cell_type": "code",
   "execution_count": 209,
   "metadata": {},
   "outputs": [
    {
     "data": {
      "text/plain": [
       "Index(['accommodates', 'bedrooms', 'bathrooms', 'beds', 'minimum_nights',\n",
       "       'maximum_nights', 'number_of_reviews', 'distance'],\n",
       "      dtype='object')"
      ]
     },
     "execution_count": 209,
     "metadata": {},
     "output_type": "execute_result"
    }
   ],
   "source": [
    "knn = KNeighborsRegressor(n_neighbors = 10, algorithm = \"brute\")\n",
    "train_columns = copenhagen_listing.columns.drop([\"price\", \"predicted_price\"])\n",
    "knn.fit(copenhagen_listing[train_columns], copenhagen_listing['price'])\n",
    "train_columns"
   ]
  },
  {
   "cell_type": "code",
   "execution_count": 210,
   "metadata": {},
   "outputs": [],
   "source": [
    "predictions = knn.predict(copenhagen_listing[train_columns])\n",
    "copenhagen_listing[\"predicted_price_all_features\"] = predictions"
   ]
  },
  {
   "cell_type": "code",
   "execution_count": 211,
   "metadata": {},
   "outputs": [
    {
     "name": "stdout",
     "output_type": "stream",
     "text": [
      "546941.0122020275\n",
      "739.5546039353873\n"
     ]
    }
   ],
   "source": [
    "two_features_mse = mean_squared_error(predictions, copenhagen_listing['price'])\n",
    "two_features_rmse = two_features_mse**(1/2)\n",
    "print(two_features_mse)\n",
    "print(two_features_rmse)"
   ]
  },
  {
   "cell_type": "markdown",
   "metadata": {},
   "source": [
    "# (Optional) Optimize your model"
   ]
  },
  {
   "cell_type": "markdown",
   "metadata": {},
   "source": [
    "- plot the MSE vs the number of features you use (fix K to 10)\n",
    "- plot the MSE vs the value of K (keep the columns \"accommodates\",\"bedrooms\" and \"beds\")\n",
    "- __Note__ : This exercise can take a while to compute... (alternative : keep a subset of the DF)"
   ]
  },
  {
   "cell_type": "code",
   "execution_count": 184,
   "metadata": {},
   "outputs": [
    {
     "data": {
      "text/plain": [
       "Index(['accommodates', 'bedrooms', 'bathrooms', 'beds', 'minimum_nights',\n",
       "       'maximum_nights', 'number_of_reviews'],\n",
       "      dtype='object')"
      ]
     },
     "execution_count": 184,
     "metadata": {},
     "output_type": "execute_result"
    }
   ],
   "source": [
    "#all_columns = copenhagen_listing.columns.drop([\"price\",\"distance\", \"predicted_price\", \"predicted_price_all_features\"])\n",
    "#all_columns"
   ]
  },
  {
   "cell_type": "code",
   "execution_count": 185,
   "metadata": {},
   "outputs": [],
   "source": [
    "#n_features = []\n",
    "#MSE_values = []\n",
    "#all_columns = copenhagen_listing.columns.drop([\"price\",\"distance\", \"predicted_price\", \"predicted_price_all_features\"])\n",
    "#train_columns = []\n",
    "#knn = KNeighborsRegressor(n_neighbors = 10, algorithm = \"brute\")\n",
    "#for col in all_columns:\n",
    "#    train_columns.append(col)\n",
    "#    n = len(train_columns)\n",
    "#    n_features.append(n)\n",
    "#    knn.fit(copenhagen_listing[train_columns], copenhagen_listing['price'])\n",
    "#    predictions = knn.predict(copenhagen_listing[train_columns])\n",
    "#    mse = mean_squared_error(predictions, copenhagen_listing['price'])\n",
    "#    MSE_values.append(mse)"
   ]
  },
  {
   "cell_type": "code",
   "execution_count": 186,
   "metadata": {},
   "outputs": [
    {
     "data": {
      "image/png": "[encoded data removed]",
      "text/plain": [
       "<Figure size 432x288 with 1 Axes>"
      ]
     },
     "metadata": {
      "needs_background": "light"
     },
     "output_type": "display_data"
    }
   ],
   "source": [
    "#plt.plot(n_features, MSE_values)\n",
    "#plt.ylabel('Mean Squared Error')\n",
    "#plt.xlabel('Number of features')\n",
    "#plt.show()"
   ]
  },
  {
   "cell_type": "code",
   "execution_count": 193,
   "metadata": {},
   "outputs": [],
   "source": [
    "#k_values = range(1,21)\n",
    "#MSE_values = []\n",
    "#train_columns = [\"accommodates\",\"bedrooms\", \"beds\"]\n",
    "#for k in k_values:\n",
    "#    knn = KNeighborsRegressor(n_neighbors = k, algorithm = \"brute\")\n",
    "#    knn.fit(copenhagen_listing[train_columns], copenhagen_listing['price'])\n",
    "#    predictions = knn.predict(copenhagen_listing[train_columns])\n",
    "#    mse = mean_squared_error(predictions, copenhagen_listing['price'])\n",
    "#    MSE_values.append(mse)"
   ]
  },
  {
   "cell_type": "code",
   "execution_count": 194,
   "metadata": {},
   "outputs": [
    {
     "data": {
      "image/png": "[encoded data removed]",
      "text/plain": [
       "<Figure size 432x288 with 1 Axes>"
      ]
     },
     "metadata": {
      "needs_background": "light"
     },
     "output_type": "display_data"
    }
   ],
   "source": [
    "#plt.plot(k_values, MSE_values)\n",
    "#plt.ylabel('Mean Squared Error')\n",
    "#plt.xlabel('Number of Neighbors (K)')\n",
    "#plt.show()"
   ]
  }
 ],
 "metadata": {
  "kernelspec": {
   "display_name": "Python 3",
   "language": "python",
   "name": "python3"
  },
  "language_info": {
   "codemirror_mode": {
    "name": "ipython",
    "version": 3
   },
   "file_extension": ".py",
   "mimetype": "text/x-python",
   "name": "python",
   "nbconvert_exporter": "python",
   "pygments_lexer": "ipython3",
   "version": "3.7.1"
  }
 },
 "nbformat": 4,
 "nbformat_minor": 2
}
