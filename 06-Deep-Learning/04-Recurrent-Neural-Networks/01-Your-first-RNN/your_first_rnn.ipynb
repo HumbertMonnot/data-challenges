{
 "cells": [
  {
   "cell_type": "markdown",
   "metadata": {},
   "source": [
    "# Your First RNN\n",
    "\n",
    "**Exercise objectives**:\n",
    "\n",
    "- Better understand temporal data\n",
    "- Build your first Recurrent Neural Network\n",
    "\n",
    "\n",
    "<hr>\n",
    "<hr>"
   ]
  },
  {
   "cell_type": "markdown",
   "metadata": {},
   "source": [
    "## 1. The data\n",
    "\n",
    "Let's start with simple sequences of observations:"
   ]
  },
  {
   "cell_type": "code",
   "execution_count": 1,
   "metadata": {},
   "outputs": [],
   "source": [
    "from tensorflow import keras\n",
    "import numpy as np"
   ]
  },
  {
   "cell_type": "code",
   "execution_count": 2,
   "metadata": {},
   "outputs": [],
   "source": [
    "X = np.load('X.npy')\n",
    "y = np.load('y.npy')"
   ]
  },
  {
   "cell_type": "code",
   "execution_count": 7,
   "metadata": {},
   "outputs": [
    {
     "name": "stdout",
     "output_type": "stream",
     "text": [
      "(25000, 10, 3)\n",
      "[[  0.803     10.728925 102.      ]\n",
      " [  0.5       10.728925 102.      ]\n",
      " [  0.603     10.728925 102.      ]\n",
      " [  0.711     10.728925 130.      ]\n",
      " [  0.937     10.728925 130.      ]\n",
      " [  1.051     10.728925 130.      ]\n",
      " [  1.118     32.       108.      ]\n",
      " [  4.87      32.       108.      ]\n",
      " [  4.973     33.       108.      ]\n",
      " [  5.199     39.       108.      ]]\n"
     ]
    }
   ],
   "source": [
    "print(X.shape)\n",
    "print(X[0])"
   ]
  },
  {
   "cell_type": "code",
   "execution_count": 5,
   "metadata": {},
   "outputs": [
    {
     "name": "stdout",
     "output_type": "stream",
     "text": [
      "(25000,)\n",
      "6.499\n"
     ]
    }
   ],
   "source": [
    "print(y.shape)\n",
    "print(y[0])"
   ]
  },
  {
   "cell_type": "markdown",
   "metadata": {},
   "source": [
    "☝️ The data describes the evolution of the **employment status of a person, year after year**: each sequence corresponds to 10 consecutive years, where each year describes a job situation, comprising of 3 components\n",
    "- the salary,\n",
    "- the number of persons under one's responsability,\n",
    "- the size of the company. \n",
    "\n",
    "So, from this 25000 sequences, each of 10 consecutive observations, the goal is to predict the salary on the 11th year based on the past observations. "
   ]
  },
  {
   "cell_type": "markdown",
   "metadata": {},
   "source": [
    "❓ **Question** ❓ Take some sequences and plot the evolution of their salaries, of the persons under their responsibility and of the company sizes. You might see some correlation between the three variables."
   ]
  },
  {
   "cell_type": "code",
   "execution_count": 8,
   "metadata": {
    "tags": [
     "challengify"
    ]
   },
   "outputs": [],
   "source": [
    "import matplotlib.pyplot as plt"
   ]
  },
  {
   "cell_type": "code",
   "execution_count": 21,
   "metadata": {},
   "outputs": [
    {
     "data": {
      "text/plain": [
       "array([[2.1010001e+00, 6.6484495e-06, 5.0000000e+01],\n",
       "       [2.1530001e+00, 6.6484495e-06, 5.0000000e+01],\n",
       "       [2.2090001e+00, 6.6484495e-06, 5.0000000e+01],\n",
       "       [2.2990000e+00, 6.6484495e-06, 5.0000000e+01],\n",
       "       [2.3950000e+00, 6.6484495e-06, 6.6000000e+01],\n",
       "       [2.5420001e+00, 6.6484495e-06, 1.0000000e+00],\n",
       "       [2.6610000e+00, 0.0000000e+00, 1.0000000e+00],\n",
       "       [2.7200000e+00, 0.0000000e+00, 1.0000000e+00],\n",
       "       [2.8350000e+00, 0.0000000e+00, 1.0000000e+00],\n",
       "       [2.9460001e+00, 0.0000000e+00, 1.0000000e+00]], dtype=float32)"
      ]
     },
     "execution_count": 21,
     "metadata": {},
     "output_type": "execute_result"
    }
   ],
   "source": [
    "X[2]"
   ]
  },
  {
   "cell_type": "code",
   "execution_count": 20,
   "metadata": {},
   "outputs": [
    {
     "name": "stderr",
     "output_type": "stream",
     "text": [
      "No artists with labels found to put in legend.  Note that artists whose label start with an underscore are ignored when legend() is called with no argument.\n"
     ]
    },
    {
     "data": {
      "image/png": "[encoded data removed]",
      "text/plain": [
       "<Figure size 432x288 with 1 Axes>"
      ]
     },
     "metadata": {
      "needs_background": "light"
     },
     "output_type": "display_data"
    }
   ],
   "source": [
    "obs = 2\n",
    "\n",
    "for k in range(3):\n",
    "    plt.plot(X[obs][:,k])\n",
    "plt.legend()\n",
    "plt.show()"
   ]
  },
  {
   "cell_type": "markdown",
   "metadata": {},
   "source": [
    "❓ **Question** ❓ Plot the distribution of all the salaries, persons under one's responsibility, and company sizes to get a better understanding of the variability of observations"
   ]
  },
  {
   "cell_type": "code",
   "execution_count": 25,
   "metadata": {
    "tags": [
     "challengify"
    ]
   },
   "outputs": [
    {
     "data": {
      "text/plain": [
       "(array([[2.1494e+04, 1.9310e+03, 7.7400e+02, 3.8700e+02, 2.0900e+02,\n",
       "         9.3000e+01, 6.9000e+01, 2.4000e+01, 7.0000e+00, 8.0000e+00,\n",
       "         3.0000e+00, 0.0000e+00, 0.0000e+00, 1.0000e+00, 0.0000e+00,\n",
       "         0.0000e+00, 0.0000e+00, 0.0000e+00, 0.0000e+00, 0.0000e+00,\n",
       "         0.0000e+00, 0.0000e+00, 0.0000e+00, 0.0000e+00, 0.0000e+00],\n",
       "        [2.0805e+04, 2.2670e+03, 9.5700e+02, 4.6100e+02, 2.3700e+02,\n",
       "         1.0700e+02, 7.7000e+01, 3.6000e+01, 2.2000e+01, 1.4000e+01,\n",
       "         9.0000e+00, 4.0000e+00, 0.0000e+00, 1.0000e+00, 0.0000e+00,\n",
       "         3.0000e+00, 0.0000e+00, 0.0000e+00, 0.0000e+00, 0.0000e+00,\n",
       "         0.0000e+00, 0.0000e+00, 0.0000e+00, 0.0000e+00, 0.0000e+00],\n",
       "        [1.9846e+04, 2.7120e+03, 1.1670e+03, 5.6900e+02, 3.2400e+02,\n",
       "         1.5500e+02, 9.0000e+01, 4.9000e+01, 3.2000e+01, 1.9000e+01,\n",
       "         1.3000e+01, 1.0000e+01, 6.0000e+00, 2.0000e+00, 2.0000e+00,\n",
       "         2.0000e+00, 1.0000e+00, 0.0000e+00, 1.0000e+00, 0.0000e+00,\n",
       "         0.0000e+00, 0.0000e+00, 0.0000e+00, 0.0000e+00, 0.0000e+00],\n",
       "        [1.8902e+04, 3.0050e+03, 1.4010e+03, 7.2700e+02, 3.9600e+02,\n",
       "         2.2500e+02, 1.3000e+02, 7.0000e+01, 5.4000e+01, 3.0000e+01,\n",
       "         2.6000e+01, 1.4000e+01, 7.0000e+00, 4.0000e+00, 3.0000e+00,\n",
       "         4.0000e+00, 1.0000e+00, 0.0000e+00, 0.0000e+00, 1.0000e+00,\n",
       "         0.0000e+00, 0.0000e+00, 0.0000e+00, 0.0000e+00, 0.0000e+00],\n",
       "        [1.8005e+04, 3.2700e+03, 1.5480e+03, 9.0600e+02, 5.1300e+02,\n",
       "         2.8000e+02, 1.8700e+02, 9.9000e+01, 6.5000e+01, 4.8000e+01,\n",
       "         3.3000e+01, 1.3000e+01, 1.2000e+01, 8.0000e+00, 3.0000e+00,\n",
       "         7.0000e+00, 1.0000e+00, 1.0000e+00, 0.0000e+00, 1.0000e+00,\n",
       "         0.0000e+00, 0.0000e+00, 0.0000e+00, 0.0000e+00, 0.0000e+00],\n",
       "        [1.7185e+04, 3.4330e+03, 1.7400e+03, 1.0300e+03, 6.0700e+02,\n",
       "         3.6600e+02, 2.3500e+02, 1.4300e+02, 8.5000e+01, 5.9000e+01,\n",
       "         5.0000e+01, 1.8000e+01, 1.5000e+01, 1.5000e+01, 5.0000e+00,\n",
       "         7.0000e+00, 3.0000e+00, 2.0000e+00, 0.0000e+00, 0.0000e+00,\n",
       "         2.0000e+00, 0.0000e+00, 0.0000e+00, 0.0000e+00, 0.0000e+00],\n",
       "        [1.6463e+04, 3.5320e+03, 1.9050e+03, 1.1560e+03, 6.9700e+02,\n",
       "         4.4500e+02, 2.8600e+02, 1.8300e+02, 9.9000e+01, 7.6000e+01,\n",
       "         6.2000e+01, 2.9000e+01, 2.1000e+01, 2.3000e+01, 7.0000e+00,\n",
       "         6.0000e+00, 5.0000e+00, 3.0000e+00, 0.0000e+00, 0.0000e+00,\n",
       "         1.0000e+00, 1.0000e+00, 0.0000e+00, 0.0000e+00, 0.0000e+00],\n",
       "        [1.5784e+04, 3.6350e+03, 2.0500e+03, 1.2520e+03, 7.8500e+02,\n",
       "         5.0800e+02, 3.2800e+02, 2.2800e+02, 1.4500e+02, 9.4000e+01,\n",
       "         6.9000e+01, 3.7000e+01, 3.2000e+01, 2.4000e+01, 1.0000e+01,\n",
       "         7.0000e+00, 6.0000e+00, 3.0000e+00, 1.0000e+00, 0.0000e+00,\n",
       "         1.0000e+00, 0.0000e+00, 0.0000e+00, 0.0000e+00, 1.0000e+00],\n",
       "        [1.5143e+04, 3.7050e+03, 2.2010e+03, 1.3530e+03, 8.7900e+02,\n",
       "         5.7200e+02, 3.6600e+02, 2.5900e+02, 1.8100e+02, 1.2200e+02,\n",
       "         7.1000e+01, 5.0000e+01, 3.8000e+01, 2.6000e+01, 1.3000e+01,\n",
       "         7.0000e+00, 7.0000e+00, 3.0000e+00, 1.0000e+00, 0.0000e+00,\n",
       "         1.0000e+00, 1.0000e+00, 0.0000e+00, 0.0000e+00, 1.0000e+00],\n",
       "        [1.4623e+04, 3.6880e+03, 2.2900e+03, 1.4260e+03, 1.0050e+03,\n",
       "         6.4200e+02, 4.0800e+02, 3.0500e+02, 2.0400e+02, 1.4500e+02,\n",
       "         8.0000e+01, 5.9000e+01, 4.7000e+01, 3.0000e+01, 2.4000e+01,\n",
       "         7.0000e+00, 9.0000e+00, 3.0000e+00, 2.0000e+00, 0.0000e+00,\n",
       "         0.0000e+00, 1.0000e+00, 1.0000e+00, 0.0000e+00, 1.0000e+00]]),\n",
       " array([  0.  ,  25.84,  51.68,  77.52, 103.36, 129.2 , 155.04, 180.88,\n",
       "        206.72, 232.56, 258.4 , 284.24, 310.08, 335.92, 361.76, 387.6 ,\n",
       "        413.44, 439.28, 465.12, 490.96, 516.8 , 542.64, 568.48, 594.32,\n",
       "        620.16, 646.  ], dtype=float32),\n",
       " <a list of 10 BarContainer objects>)"
      ]
     },
     "execution_count": 25,
     "metadata": {},
     "output_type": "execute_result"
    },
    {
     "data": {
      "image/png": "[encoded data removed]",
      "text/plain": [
       "<Figure size 432x288 with 1 Axes>"
      ]
     },
     "metadata": {
      "needs_background": "light"
     },
     "output_type": "display_data"
    }
   ],
   "source": [
    "plt.hist(X[:,:,1], bins=25)"
   ]
  },
  {
   "cell_type": "markdown",
   "metadata": {},
   "source": [
    "❓ **Question** ❓  Split your dataset between a train and test set (20/80%)"
   ]
  },
  {
   "cell_type": "code",
   "execution_count": 40,
   "metadata": {
    "tags": [
     "challengify"
    ]
   },
   "outputs": [],
   "source": [
    "X_train = X[:round(0.2*len(X))]\n",
    "X_test = X[round(0.2*len(X)):]\n",
    "y_train = y[:round(0.2*len(y))]\n",
    "y_test = y[round(0.2*len(y)):]"
   ]
  },
  {
   "cell_type": "markdown",
   "metadata": {},
   "source": [
    "# 2. A Simple RNN\n",
    "\n",
    "Now, you will create your first Recurrent Neural Network. Let's start simple\n",
    "\n",
    "❓ **Question** ❓ Write a model that has: \n",
    "- a `Normalization` layer adapted on the training set\n",
    "- a `SimpleRNN` layer with 20 `units` - don't forget to choose the `tanh` activation function\n",
    "- a Dense layer with 10 neurons\n",
    "- a last Dense layer specific to your task (predict a salary)\n",
    "\n",
    "Remember, you don't need to specify an `input_shape`: as soon as your normalizer has been adapted to your train set, it has memorized it."
   ]
  },
  {
   "cell_type": "code",
   "execution_count": 64,
   "metadata": {},
   "outputs": [],
   "source": [
    "from keras.models import Sequential\n",
    "from keras.layers import Dense, SimpleRNN, Flatten, Normalization\n",
    "\n",
    "model = Sequential()\n",
    "model.add(Normalization())\n",
    "model.add(SimpleRNN(units=20, activation = 'tanh'))\n",
    "model.add(Dense(10, activation = 'relu'))\n",
    "model.add(Dense(1, activation = 'linear'))\n",
    "\n",
    "model.compile(optimizer = 'rmsprop',\n",
    "              loss = 'mae')"
   ]
  },
  {
   "cell_type": "code",
   "execution_count": 65,
   "metadata": {},
   "outputs": [
    {
     "ename": "ValueError",
     "evalue": "This model has not yet been built. Build the model first by calling `build()` or calling `fit()` with some data, or specify an `input_shape` argument in the first layer(s) for automatic build.",
     "output_type": "error",
     "traceback": [
      "\u001b[0;31m---------------------------------------------------------------------------\u001b[0m",
      "\u001b[0;31mValueError\u001b[0m                                Traceback (most recent call last)",
      "\u001b[0;32m/var/folders/yf/53d25rm10gq_l7wdtlp_205w0000gn/T/ipykernel_57882/3470139634.py\u001b[0m in \u001b[0;36m<module>\u001b[0;34m\u001b[0m\n\u001b[0;32m----> 1\u001b[0;31m \u001b[0mmodel\u001b[0m\u001b[0;34m.\u001b[0m\u001b[0msummary\u001b[0m\u001b[0;34m(\u001b[0m\u001b[0;34m)\u001b[0m\u001b[0;34m\u001b[0m\u001b[0;34m\u001b[0m\u001b[0m\n\u001b[0m",
      "\u001b[0;32m~/.pyenv/versions/3.8.12/envs/lewagon/lib/python3.8/site-packages/keras/engine/training.py\u001b[0m in \u001b[0;36msummary\u001b[0;34m(self, line_length, positions, print_fn)\u001b[0m\n\u001b[1;32m   2450\u001b[0m     \"\"\"\n\u001b[1;32m   2451\u001b[0m     \u001b[0;32mif\u001b[0m \u001b[0;32mnot\u001b[0m \u001b[0mself\u001b[0m\u001b[0;34m.\u001b[0m\u001b[0mbuilt\u001b[0m\u001b[0;34m:\u001b[0m\u001b[0;34m\u001b[0m\u001b[0;34m\u001b[0m\u001b[0m\n\u001b[0;32m-> 2452\u001b[0;31m       raise ValueError('This model has not yet been built. '\n\u001b[0m\u001b[1;32m   2453\u001b[0m                        \u001b[0;34m'Build the model first by calling `build()` or calling '\u001b[0m\u001b[0;34m\u001b[0m\u001b[0;34m\u001b[0m\u001b[0m\n\u001b[1;32m   2454\u001b[0m                        \u001b[0;34m'`fit()` with some data, or specify '\u001b[0m\u001b[0;34m\u001b[0m\u001b[0;34m\u001b[0m\u001b[0m\n",
      "\u001b[0;31mValueError\u001b[0m: This model has not yet been built. Build the model first by calling `build()` or calling `fit()` with some data, or specify an `input_shape` argument in the first layer(s) for automatic build."
     ]
    }
   ],
   "source": [
    "model.summary()"
   ]
  },
  {
   "cell_type": "markdown",
   "metadata": {},
   "source": [
    "❓ **Question** ❓ Compute the number of trainable parameters of your model using `model.summary`. \n",
    "\n",
    "Then, try to recompute them by hand\n",
    "\n",
    "💡 Hints: \n",
    "- Your `normalization` layer has 7 non-trainable params, which comprise of the mean and standard deviation of each 3 features (salary, persons under responsibility, company size) plus one bias set to 0\n",
    "\n",
    "- If $\\color{green}{n_h}$ RNN units are applied in parallel to $\\color{red}{n_x}$ features, the layer has $\\color{green}{n_h}(\\color{green}{n_h} + \\color{red}{n_x} + 1)$ parameters to train. Notice how this number is *independent* of the length of each sequences (here 10 days)\n"
   ]
  },
  {
   "cell_type": "markdown",
   "metadata": {},
   "source": [
    "❓ **Question** ❓ Compile your model. Remember to first use the `rmsprop` optimizer (instead of Adam)."
   ]
  },
  {
   "cell_type": "code",
   "execution_count": 0,
   "metadata": {
    "tags": [
     "challengify"
    ]
   },
   "outputs": [],
   "source": [
    "# YOUR CODE HERE"
   ]
  },
  {
   "cell_type": "markdown",
   "metadata": {},
   "source": [
    "❓ **Question** ❓ Run your model on your data. Use a validation split of 20% and an early stopping criterion (patience=5). Evaluate your performance on the test set"
   ]
  },
  {
   "cell_type": "code",
   "execution_count": 66,
   "metadata": {},
   "outputs": [
    {
     "name": "stdout",
     "output_type": "stream",
     "text": [
      "Epoch 1/150\n",
      "110/110 [==============================] - 2s 5ms/step - loss: 5.4666 - val_loss: 4.5304\n",
      "Epoch 2/150\n",
      "110/110 [==============================] - 0s 2ms/step - loss: 4.3692 - val_loss: 2.8342\n",
      "Epoch 3/150\n",
      "110/110 [==============================] - 0s 2ms/step - loss: 2.8747 - val_loss: 2.2741\n",
      "Epoch 4/150\n",
      "110/110 [==============================] - 0s 2ms/step - loss: 2.3013 - val_loss: 1.9088\n",
      "Epoch 5/150\n",
      "110/110 [==============================] - 0s 2ms/step - loss: 2.0381 - val_loss: 1.6555\n",
      "Epoch 6/150\n",
      "110/110 [==============================] - 0s 2ms/step - loss: 1.6138 - val_loss: 1.4755\n",
      "Epoch 7/150\n",
      "110/110 [==============================] - 0s 2ms/step - loss: 1.4811 - val_loss: 1.2856\n",
      "Epoch 8/150\n",
      "110/110 [==============================] - 0s 2ms/step - loss: 1.2599 - val_loss: 1.1451\n",
      "Epoch 9/150\n",
      "110/110 [==============================] - 0s 2ms/step - loss: 1.3384 - val_loss: 1.0754\n",
      "Epoch 10/150\n",
      "110/110 [==============================] - 0s 2ms/step - loss: 1.1826 - val_loss: 1.1039\n",
      "Epoch 11/150\n",
      "110/110 [==============================] - 0s 2ms/step - loss: 1.1119 - val_loss: 1.1052\n",
      "Epoch 12/150\n",
      "110/110 [==============================] - 0s 2ms/step - loss: 0.9868 - val_loss: 0.9747\n",
      "Epoch 13/150\n",
      "110/110 [==============================] - 0s 2ms/step - loss: 0.9512 - val_loss: 0.9270\n",
      "Epoch 14/150\n",
      "110/110 [==============================] - 0s 2ms/step - loss: 0.9143 - val_loss: 0.8679\n",
      "Epoch 15/150\n",
      "110/110 [==============================] - 0s 2ms/step - loss: 0.8480 - val_loss: 0.9794\n",
      "Epoch 16/150\n",
      "110/110 [==============================] - 0s 2ms/step - loss: 0.7899 - val_loss: 0.8082\n",
      "Epoch 17/150\n",
      "110/110 [==============================] - 0s 2ms/step - loss: 0.8396 - val_loss: 0.8714\n",
      "Epoch 18/150\n",
      "110/110 [==============================] - 0s 2ms/step - loss: 0.7971 - val_loss: 0.7500\n",
      "Epoch 19/150\n",
      "110/110 [==============================] - 0s 2ms/step - loss: 0.7976 - val_loss: 0.7019\n",
      "Epoch 20/150\n",
      "110/110 [==============================] - 0s 2ms/step - loss: 0.7568 - val_loss: 0.6639\n",
      "Epoch 21/150\n",
      "110/110 [==============================] - 0s 2ms/step - loss: 0.7723 - val_loss: 0.7501\n",
      "Epoch 22/150\n",
      "110/110 [==============================] - 0s 2ms/step - loss: 0.7275 - val_loss: 0.6200\n",
      "Epoch 23/150\n",
      "110/110 [==============================] - 0s 2ms/step - loss: 0.7274 - val_loss: 0.6400\n",
      "Epoch 24/150\n",
      "110/110 [==============================] - 0s 2ms/step - loss: 0.7129 - val_loss: 0.7110\n",
      "Epoch 25/150\n",
      "110/110 [==============================] - 0s 2ms/step - loss: 0.6653 - val_loss: 0.6530\n",
      "Epoch 26/150\n",
      "110/110 [==============================] - 0s 2ms/step - loss: 0.6716 - val_loss: 0.5430\n",
      "Epoch 27/150\n",
      "110/110 [==============================] - 0s 2ms/step - loss: 0.6076 - val_loss: 0.8987\n",
      "Epoch 28/150\n",
      "110/110 [==============================] - 0s 2ms/step - loss: 0.6561 - val_loss: 0.5067\n",
      "Epoch 29/150\n",
      "110/110 [==============================] - 0s 2ms/step - loss: 0.6002 - val_loss: 0.5048\n",
      "Epoch 30/150\n",
      "110/110 [==============================] - 0s 2ms/step - loss: 0.6626 - val_loss: 0.5483\n",
      "Epoch 31/150\n",
      "110/110 [==============================] - 0s 2ms/step - loss: 0.5859 - val_loss: 0.7696\n",
      "Epoch 32/150\n",
      "110/110 [==============================] - 0s 2ms/step - loss: 0.6335 - val_loss: 0.4967\n",
      "Epoch 33/150\n",
      "110/110 [==============================] - 0s 2ms/step - loss: 0.6446 - val_loss: 0.6376\n",
      "Epoch 34/150\n",
      "110/110 [==============================] - 0s 2ms/step - loss: 0.5910 - val_loss: 0.5279\n",
      "Epoch 35/150\n",
      "110/110 [==============================] - 0s 2ms/step - loss: 0.6771 - val_loss: 0.6376\n",
      "Epoch 36/150\n",
      "110/110 [==============================] - 0s 2ms/step - loss: 0.5922 - val_loss: 0.5222\n",
      "Epoch 37/150\n",
      "110/110 [==============================] - 0s 2ms/step - loss: 0.5916 - val_loss: 0.6310\n"
     ]
    },
    {
     "data": {
      "text/plain": [
       "<keras.callbacks.History at 0x153481130>"
      ]
     },
     "execution_count": 66,
     "metadata": {},
     "output_type": "execute_result"
    }
   ],
   "source": [
    "from keras.callbacks import EarlyStopping\n",
    "\n",
    "es = EarlyStopping(patience = 5, restore_best_weights=True)\n",
    "\n",
    "model.fit(X_train, y_train, epochs = 150, validation_split=0.3, callbacks = [es])"
   ]
  },
  {
   "cell_type": "markdown",
   "metadata": {},
   "source": [
    "# Baseline comparison?\n",
    "\n",
    "\n",
    "In the case of a usual regression model, a baseline prediction for `y_test` could be to predict the average of `y_train`.\n",
    "\n",
    "With temporal data, it often happens that you try to predict a value that you have already seen in the past: here, the salary. In that case, a baseline model could be to predict for instance that the 11-th salary is equal to the 10-th salary.\n",
    "\n",
    "❓ **Question** ❓ Compute the Mean Absolute Error of a model that would predict that the salary remains constant between the 10-th and 11-th year and compare it to your RNN."
   ]
  },
  {
   "cell_type": "code",
   "execution_count": 56,
   "metadata": {
    "tags": [
     "challengify"
    ]
   },
   "outputs": [
    {
     "data": {
      "text/plain": [
       "20000"
      ]
     },
     "execution_count": 56,
     "metadata": {},
     "output_type": "execute_result"
    }
   ],
   "source": [
    "y_pred = X_test[:,9,0]\n",
    "len(y_pred)"
   ]
  },
  {
   "cell_type": "code",
   "execution_count": 69,
   "metadata": {},
   "outputs": [],
   "source": [
    "baseline = abs(y_pred-y_test).mean()"
   ]
  },
  {
   "cell_type": "code",
   "execution_count": 70,
   "metadata": {},
   "outputs": [
    {
     "data": {
      "text/plain": [
       "0.5973297493781329"
      ]
     },
     "execution_count": 70,
     "metadata": {},
     "output_type": "execute_result"
    }
   ],
   "source": [
    "baseline"
   ]
  },
  {
   "cell_type": "code",
   "execution_count": 71,
   "metadata": {},
   "outputs": [
    {
     "name": "stdout",
     "output_type": "stream",
     "text": [
      "625/625 [==============================] - 1s 883us/step - loss: 0.5555\n"
     ]
    },
    {
     "data": {
      "text/plain": [
       "0.555487871170044"
      ]
     },
     "execution_count": 71,
     "metadata": {},
     "output_type": "execute_result"
    }
   ],
   "source": [
    "model.evaluate(X_test, y_test)"
   ]
  },
  {
   "cell_type": "markdown",
   "metadata": {},
   "source": [
    "You have probably seen that your prediction is a little bit better than the baseline model\n",
    "\n",
    "# LSTM\n",
    "\n",
    "❓ **Question** ❓ Write the exact same model, but with a `LSTM` instead of a `SimpleRNN` and evaluate your performance on the test set"
   ]
  },
  {
   "cell_type": "code",
   "execution_count": 72,
   "metadata": {},
   "outputs": [
    {
     "name": "stdout",
     "output_type": "stream",
     "text": [
      "Epoch 1/150\n",
      "110/110 [==============================] - 3s 7ms/step - loss: 4.1697 - val_loss: 2.4679\n",
      "Epoch 2/150\n",
      "110/110 [==============================] - 0s 3ms/step - loss: 2.5530 - val_loss: 2.0754\n",
      "Epoch 3/150\n",
      "110/110 [==============================] - 0s 3ms/step - loss: 2.0839 - val_loss: 1.5845\n",
      "Epoch 4/150\n",
      "110/110 [==============================] - 0s 3ms/step - loss: 1.5972 - val_loss: 1.1979\n",
      "Epoch 5/150\n",
      "110/110 [==============================] - 0s 3ms/step - loss: 1.2449 - val_loss: 1.1210\n",
      "Epoch 6/150\n",
      "110/110 [==============================] - 0s 3ms/step - loss: 1.0439 - val_loss: 0.9249\n",
      "Epoch 7/150\n",
      "110/110 [==============================] - 0s 3ms/step - loss: 0.8821 - val_loss: 0.7628\n",
      "Epoch 8/150\n",
      "110/110 [==============================] - 0s 3ms/step - loss: 0.9107 - val_loss: 0.7823\n",
      "Epoch 9/150\n",
      "110/110 [==============================] - 0s 3ms/step - loss: 0.8340 - val_loss: 0.7318\n",
      "Epoch 10/150\n",
      "110/110 [==============================] - 0s 3ms/step - loss: 0.7507 - val_loss: 0.9343\n",
      "Epoch 11/150\n",
      "110/110 [==============================] - 0s 3ms/step - loss: 0.7635 - val_loss: 0.7900\n",
      "Epoch 12/150\n",
      "110/110 [==============================] - 0s 3ms/step - loss: 0.6964 - val_loss: 0.7401\n",
      "Epoch 13/150\n",
      "110/110 [==============================] - 0s 3ms/step - loss: 0.6801 - val_loss: 0.6998\n",
      "Epoch 14/150\n",
      "110/110 [==============================] - 0s 3ms/step - loss: 0.6872 - val_loss: 0.7222\n",
      "Epoch 15/150\n",
      "110/110 [==============================] - 0s 3ms/step - loss: 0.6700 - val_loss: 0.5608\n",
      "Epoch 16/150\n",
      "110/110 [==============================] - 0s 3ms/step - loss: 0.6719 - val_loss: 0.7953\n",
      "Epoch 17/150\n",
      "110/110 [==============================] - 0s 3ms/step - loss: 0.6806 - val_loss: 0.5446\n",
      "Epoch 18/150\n",
      "110/110 [==============================] - 0s 3ms/step - loss: 0.6605 - val_loss: 0.5113\n",
      "Epoch 19/150\n",
      "110/110 [==============================] - 0s 3ms/step - loss: 0.6102 - val_loss: 0.7150\n",
      "Epoch 20/150\n",
      "110/110 [==============================] - 0s 3ms/step - loss: 0.6141 - val_loss: 0.4669\n",
      "Epoch 21/150\n",
      "110/110 [==============================] - 0s 3ms/step - loss: 0.6232 - val_loss: 0.7430\n",
      "Epoch 22/150\n",
      "110/110 [==============================] - 0s 3ms/step - loss: 0.5931 - val_loss: 0.5438\n",
      "Epoch 23/150\n",
      "110/110 [==============================] - 0s 3ms/step - loss: 0.5601 - val_loss: 0.6157\n",
      "Epoch 24/150\n",
      "110/110 [==============================] - 0s 3ms/step - loss: 0.5124 - val_loss: 0.5758\n",
      "Epoch 25/150\n",
      "110/110 [==============================] - 0s 3ms/step - loss: 0.6132 - val_loss: 0.6521\n"
     ]
    },
    {
     "data": {
      "text/plain": [
       "<keras.callbacks.History at 0x1537c1850>"
      ]
     },
     "execution_count": 72,
     "metadata": {},
     "output_type": "execute_result"
    }
   ],
   "source": [
    "from tensorflow.keras.layers import SimpleRNN, LSTM, GRU\n",
    "\n",
    "model2 = Sequential()\n",
    "model2.add(Normalization())\n",
    "model2.add(LSTM(units=20, activation = 'tanh'))\n",
    "model2.add(Dense(10, activation = 'relu'))\n",
    "model2.add(Dense(1, activation = 'linear'))\n",
    "\n",
    "model2.compile(optimizer = 'rmsprop',\n",
    "              loss = 'mae')\n",
    "\n",
    "model2.fit(X_train, y_train, epochs = 150, validation_split=0.3, callbacks = [es])"
   ]
  },
  {
   "cell_type": "code",
   "execution_count": 73,
   "metadata": {},
   "outputs": [
    {
     "name": "stdout",
     "output_type": "stream",
     "text": [
      "625/625 [==============================] - 1s 1ms/step - loss: 0.5365\n"
     ]
    },
    {
     "data": {
      "text/plain": [
       "0.5364834666252136"
      ]
     },
     "execution_count": 73,
     "metadata": {},
     "output_type": "execute_result"
    }
   ],
   "source": [
    "model2.evaluate(X_test, y_test)"
   ]
  },
  {
   "cell_type": "markdown",
   "metadata": {},
   "source": [
    "## 🏁 Congratulation\n",
    "\n",
    "You now know how to run RNN on sequence data!\n",
    "\n",
    "Note: The sequences you worked with are totally fake. In case you need to train and reproduce similar data, you can find bellow the functions that have been used to simulate this data."
   ]
  },
  {
   "cell_type": "markdown",
   "metadata": {},
   "source": [
    "# Utils (for reference only)"
   ]
  },
  {
   "cell_type": "code",
   "execution_count": 74,
   "metadata": {},
   "outputs": [],
   "source": [
    "def create_sequences(number):\n",
    "    X, y = [], []\n",
    "    \n",
    "    for i in range(number):\n",
    "        x_i, y_i = create_individual_sequence(10)\n",
    "        X.append(x_i)\n",
    "        y.append(y_i)\n",
    "        \n",
    "    return np.array(X), np.array(y)\n",
    "            \n",
    "def create_individual_sequence(length):\n",
    "    company_sizes = []\n",
    "    nb_persons = []\n",
    "    salaries = []\n",
    "    \n",
    "    \n",
    "    # Education level\n",
    "    educ_level = [max(0, int(np.random.normal(10, 2)))]*length\n",
    "    \n",
    "    # Company size\n",
    "    current_size = int(1 + np.random.beta(.4, 4)*500)\n",
    "    for i in range(length):\n",
    "        if not np.random.randint(4): # Change 1 out of 3 possibilities \n",
    "            current_size = int(max(1, np.random.normal(current_size, 50)))\n",
    "        company_sizes.append(current_size)\n",
    "    \n",
    "    # Number of persons\n",
    "    nb_iter = np.random.beta(.15, 4)*300\n",
    "    for i in range(length):\n",
    "        if not np.random.randint(2): # Change 1 out of 2 possibilities\n",
    "            R_1 = np.random.beta(0.5, 8)*3\n",
    "            nb_iter = nb_iter + max(-2, R_1*company_sizes[i] + np.random.randint(-2, 2))\n",
    "            nb_iter = max(0, nb_iter)\n",
    "            nb_iter = int(min(company_sizes[i]-1, nb_iter))\n",
    "        nb_persons.append(nb_iter)\n",
    "        \n",
    "    \n",
    "    # Salary\n",
    "    salary_iter = max(800, int(np.random.normal(1200, 300)+ 0.05*company_sizes[0] +  np.random.normal(40, 400)))\n",
    "    salaries.append(salary_iter)\n",
    "    for i in range(1, length + 1):\n",
    "        R_1 = np.random.normal(100, 50)\n",
    "        change_person = nb_persons[i-1] - nb_persons[i-2]\n",
    "        change_company = max(0, company_sizes[i-1] - company_sizes[i-2])\n",
    "        salary_iter = salary_iter + 0.05*change_company + change_person*R_1 + np.random.normal(100, 50)\n",
    "        salary_iter = max(int(salary_iter), 500)\n",
    "        \n",
    "        salaries.append(salary_iter)\n",
    "\n",
    "    y = salaries[-1]/1000\n",
    "    salaries = [_/1000 for _ in salaries[:-1]]\n",
    "    \n",
    "    return np.array([salaries, nb_persons, company_sizes]).T, y"
   ]
  },
  {
   "cell_type": "code",
   "execution_count": 0,
   "metadata": {},
   "outputs": [],
   "source": [
    "#X, y = create_sequences(25000)\n",
    "\n",
    "#np.save('X', X.astype(np.float32))\n",
    "#np.save('y', y)"
   ]
  }
 ],
 "metadata": {
  "kernelspec": {
   "display_name": "Python 3 (ipykernel)",
   "language": "python",
   "name": "python3"
  },
  "language_info": {
   "codemirror_mode": {
    "name": "ipython",
    "version": 3
   },
   "file_extension": ".py",
   "mimetype": "text/x-python",
   "name": "python",
   "nbconvert_exporter": "python",
   "pygments_lexer": "ipython3",
   "version": "3.8.12"
  },
  "toc": {
   "base_numbering": 1,
   "nav_menu": {},
   "number_sections": true,
   "sideBar": true,
   "skip_h1_title": false,
   "title_cell": "Table of Contents",
   "title_sidebar": "Contents",
   "toc_cell": false,
   "toc_position": {},
   "toc_section_display": true,
   "toc_window_display": false
  }
 },
 "nbformat": 4,
 "nbformat_minor": 2
}
