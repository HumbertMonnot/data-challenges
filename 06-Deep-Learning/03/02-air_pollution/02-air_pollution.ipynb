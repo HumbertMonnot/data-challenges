{
 "cells": [
  {
   "cell_type": "markdown",
   "metadata": {},
   "source": [
    "# Real world problem\n",
    "\n",
    "Let's use the Ninja skills you got in the first tutorial to predict the pollution in a couple of days given some weather features. In the first tutorial, you had the a given value (one dimensional input) to predict the exact same value (one dimensional output). Here, you are given multiple values (n dimensional input) to predict another feature (one dimensional output).\n",
    "\n",
    "This tutorial is very similar to the first one, therefore, less help will be given throughout the steps. Read the previous tutorial only if you really struggle to do what is ask.\n",
    "\n",
    "\n",
    "**Remark**: Sometime, you will encounter an error that might be the result of an error you've made in earlier answers, or things you didn't thought about. This is normal, its an iterative process.\n",
    "\n",
    "<hr><hr>\n",
    "\n",
    "# The data\n",
    "\n",
    "\n",
    "\n",
    "Among the features, you have : \n",
    "- pm2.5: PM2.5 concentration\n",
    "- DEWP: Dew Point\n",
    "- TEMP: Temperature\n",
    "- PRES: Pressure\n",
    "- cbwd: Combined wind direction\n",
    "- Iws: Cumulated wind speed\n",
    "- Is: Cumulated hours of snow\n",
    "- Ir: Cumulated hours of rain\n",
    "\n",
    "\n",
    "The first one, pm2.5 corresponds to the pollution level you are trying to predict as it corresponds to a certain level of small particules whose diameter is superior to 2.5mm.\n",
    "\n",
    "### Question: Use the `pandas` dataframe to load the data `data.txt`, use the first column as the index. "
   ]
  },
  {
   "cell_type": "code",
   "execution_count": null,
   "metadata": {},
   "outputs": [],
   "source": []
  },
  {
   "cell_type": "markdown",
   "metadata": {},
   "source": [
    "### Question: Plot some of the weather features"
   ]
  },
  {
   "cell_type": "code",
   "execution_count": null,
   "metadata": {},
   "outputs": [],
   "source": []
  },
  {
   "cell_type": "code",
   "execution_count": null,
   "metadata": {},
   "outputs": [],
   "source": []
  },
  {
   "cell_type": "code",
   "execution_count": null,
   "metadata": {},
   "outputs": [],
   "source": []
  },
  {
   "cell_type": "markdown",
   "metadata": {},
   "source": [
    "### Question: Write a first function that, given the dataframe `df`, a `length` of seen days and a` temporal_horizon` until the predicted day, outputs `X_sample` and `y_sample` where `X_sample` is a sequence of weather measurements and `y_sample` is the pollution to predict\n",
    "\n",
    "**Remark**: You can select any weather feature you want - you can change them later on as well. Depending on what features you select, you might need to play around with missing values. THe missing value problem applies to the feature to predict as well."
   ]
  },
  {
   "cell_type": "code",
   "execution_count": null,
   "metadata": {},
   "outputs": [],
   "source": [
    "def get_sample(df, length, temporal_horizon):\n",
    "\n",
    "    ### TODO \n",
    "    \n",
    "    return X_sample, y_sample"
   ]
  },
  {
   "cell_type": "code",
   "execution_count": null,
   "metadata": {},
   "outputs": [],
   "source": []
  },
  {
   "cell_type": "markdown",
   "metadata": {},
   "source": [
    "### Question: Thanks to the previous function, write another function that generates the dataset: given a dataframe `df`, a `temporal_horizon` to the day to predict, a `length` of seen days and a number of samples, return a dataset `X, y` (the length of the seen days will be the same for all the samples).\n"
   ]
  },
  {
   "cell_type": "code",
   "execution_count": null,
   "metadata": {
    "scrolled": true
   },
   "outputs": [],
   "source": [
    "def get_X_y(df, temporal_horizon, length_of_sequences, nb_samples):\n",
    "    \n",
    "    ### TODO \n",
    "        \n",
    "    return X, y"
   ]
  },
  {
   "cell_type": "markdown",
   "metadata": {},
   "source": [
    "### Question: Write a function given a dataframe, a temporal horizon, a number of samples and a length for the seen visits, outputs the train, test set"
   ]
  },
  {
   "cell_type": "code",
   "execution_count": null,
   "metadata": {
    "scrolled": true
   },
   "outputs": [],
   "source": [
    "def generate_data(df, n_days, length_of_sequences, nb_samples):\n",
    "    \n",
    "    ### TODO \n",
    "    \n",
    "    return X_train, X_test, y_train, y_test\n",
    "\n"
   ]
  },
  {
   "cell_type": "markdown",
   "metadata": {},
   "source": [
    "### Question: Initialize a model. Yes, the way you want it. _TRY_ to do it, before looking at the previous tutorial"
   ]
  },
  {
   "cell_type": "code",
   "execution_count": null,
   "metadata": {},
   "outputs": [],
   "source": [
    "### TODO "
   ]
  },
  {
   "cell_type": "markdown",
   "metadata": {},
   "source": [
    "### Question: Generate some data, and fit your model\n",
    "\n"
   ]
  },
  {
   "cell_type": "code",
   "execution_count": null,
   "metadata": {
    "scrolled": true
   },
   "outputs": [],
   "source": [
    "### TODO "
   ]
  },
  {
   "cell_type": "markdown",
   "metadata": {},
   "source": [
    "**Remark** : Be sure you hit the Stopping Criteria "
   ]
  },
  {
   "cell_type": "markdown",
   "metadata": {},
   "source": [
    "### Question: Plot the history"
   ]
  },
  {
   "cell_type": "code",
   "execution_count": null,
   "metadata": {},
   "outputs": [],
   "source": [
    "def plot_loss(history):\n",
    "    plt.plot(history.history['loss'])\n",
    "    plt.plot(history.history['val_loss'])\n",
    "    plt.title('Model loss')\n",
    "    plt.ylabel('Mean Square Error - Loss')\n",
    "    plt.xlabel('Epoch')\n",
    "    plt.legend(['Train', 'Validation'], loc='best')\n",
    "    plt.show()\n",
    "    \n",
    "    plt.plot(history.history['mae'])\n",
    "    plt.plot(history.history['val_mae'])\n",
    "    plt.title('Model loss')\n",
    "    plt.ylabel('Mean Absolute Error')\n",
    "    plt.xlabel('Epoch')\n",
    "    plt.legend(['Train', 'Validation'], loc='best')\n",
    "    plt.show()\n",
    "    \n",
    "plot_loss(history)"
   ]
  },
  {
   "cell_type": "markdown",
   "metadata": {},
   "source": [
    "### Question : Compare to a benchmark prediction"
   ]
  },
  {
   "cell_type": "code",
   "execution_count": null,
   "metadata": {},
   "outputs": [],
   "source": [
    "### TODO"
   ]
  },
  {
   "cell_type": "markdown",
   "metadata": {},
   "source": [
    "### Question: Play around with the parameters to see how it behave when :\n",
    "- you change the number of data\n",
    "- you change the number of seen days\n",
    "- you change the temporal horizon\n"
   ]
  },
  {
   "cell_type": "code",
   "execution_count": null,
   "metadata": {},
   "outputs": [],
   "source": [
    "### TODO "
   ]
  },
  {
   "cell_type": "markdown",
   "metadata": {},
   "source": [
    "### Question: This time, draw some data `X, y` and use a real cross-validation to report the score on the test set"
   ]
  },
  {
   "cell_type": "code",
   "execution_count": null,
   "metadata": {},
   "outputs": [],
   "source": [
    "### TODO "
   ]
  },
  {
   "cell_type": "markdown",
   "metadata": {},
   "source": [
    "### Question: (Optional) You can try to predict multiple features at the same time"
   ]
  },
  {
   "cell_type": "code",
   "execution_count": null,
   "metadata": {},
   "outputs": [],
   "source": [
    "### TODO "
   ]
  }
 ],
 "metadata": {
  "kernelspec": {
   "display_name": "lewagon",
   "language": "python",
   "name": "lewagon"
  },
  "language_info": {
   "codemirror_mode": {
    "name": "ipython",
    "version": 3
   },
   "file_extension": ".py",
   "mimetype": "text/x-python",
   "name": "python",
   "nbconvert_exporter": "python",
   "pygments_lexer": "ipython3",
   "version": "3.7.4"
  }
 },
 "nbformat": 4,
 "nbformat_minor": 2
}
