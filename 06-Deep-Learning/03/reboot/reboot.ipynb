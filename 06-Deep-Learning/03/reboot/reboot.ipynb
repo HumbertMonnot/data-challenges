{
 "cells": [
  {
   "cell_type": "markdown",
   "metadata": {},
   "source": [
    "# General reboot\n",
    "\n",
    "### Last layer\n",
    "\n",
    "❓ Write the last layer of a Neural Network which is designed for regression with an output that should be of size 10."
   ]
  },
  {
   "cell_type": "code",
   "execution_count": null,
   "metadata": {},
   "outputs": [],
   "source": []
  },
  {
   "cell_type": "markdown",
   "metadata": {},
   "source": [
    "❓ Write the last layer of a Neural Network which is designed for binary classification"
   ]
  },
  {
   "cell_type": "code",
   "execution_count": null,
   "metadata": {},
   "outputs": [],
   "source": []
  },
  {
   "cell_type": "markdown",
   "metadata": {},
   "source": [
    "❓ Write the last layer of a Neural Network which is designed for multiclass classification, with 1000 classes"
   ]
  },
  {
   "cell_type": "code",
   "execution_count": null,
   "metadata": {},
   "outputs": [],
   "source": []
  },
  {
   "cell_type": "markdown",
   "metadata": {},
   "source": [
    "### Compare your model to benchmarks\n",
    "\n",
    "❓ Once you have a first result, you must compare it to an easy _benchmark algorithm_.\n",
    "What type of random algorithm do you know?"
   ]
  },
  {
   "cell_type": "code",
   "execution_count": null,
   "metadata": {},
   "outputs": [],
   "source": []
  },
  {
   "cell_type": "markdown",
   "metadata": {},
   "source": [
    "❓ What is the different between the loss and the metrics in the `compile` function?"
   ]
  },
  {
   "cell_type": "code",
   "execution_count": null,
   "metadata": {},
   "outputs": [],
   "source": []
  },
  {
   "cell_type": "markdown",
   "metadata": {},
   "source": [
    "# Reboot related to Reccurent Neural Networks\n",
    "\n",
    "\n",
    "we will go thought the main issues you will face when working with Recurrent Neural Networks that are designed to deal with time-series\n",
    "\n",
    "\n",
    "Each sequence has a certain number of observations. But across sequences, this number of observations is not the same.\n",
    "\n",
    "### Pad the sequences\n",
    "\n",
    "❓Instantiate four sequences, for which the number of observations is different (each observation must be of size 2)."
   ]
  },
  {
   "cell_type": "code",
   "execution_count": null,
   "metadata": {},
   "outputs": [],
   "source": []
  },
  {
   "cell_type": "markdown",
   "metadata": {},
   "source": [
    "Because the Neural Network is trained with *batches* of data, you must encore that, once the sequences are concatenated, they can be represented as a tensor. This operation is called the padding\n",
    "\n",
    "❓ From the four sequences above, return a padded tensor (with the dedicated Keras function)."
   ]
  },
  {
   "cell_type": "code",
   "execution_count": null,
   "metadata": {},
   "outputs": [],
   "source": []
  },
  {
   "cell_type": "markdown",
   "metadata": {},
   "source": [
    "Your RNN returns as many values as there are observations in the sequence. However, on the other side, you are not interested by the values that have been outputed from the data == 0 that are returned by the mask.\n",
    "\n",
    "Therefore, you must tell your RNN which values are real values, contrary to values that are just related to the mask.\n",
    "\n",
    "❓ What is the name of the layer that helps you doing that?"
   ]
  },
  {
   "cell_type": "code",
   "execution_count": null,
   "metadata": {},
   "outputs": [],
   "source": []
  },
  {
   "cell_type": "markdown",
   "metadata": {},
   "source": [
    "### Initialization of RNN / LSTM / GRU models\n",
    "\n",
    "❓ Initialize an LSTM model (skip the embedding layer) whose output is of size 10, with activation function being 'relu'"
   ]
  },
  {
   "cell_type": "code",
   "execution_count": null,
   "metadata": {},
   "outputs": [],
   "source": []
  },
  {
   "cell_type": "markdown",
   "metadata": {},
   "source": [
    "❓ `relu` is usually a good choice for Dense or Convolutional layers. However, what is the activation fonction you should use in the case of RNN networks? Initialize such model"
   ]
  },
  {
   "cell_type": "code",
   "execution_count": null,
   "metadata": {},
   "outputs": [],
   "source": []
  },
  {
   "cell_type": "markdown",
   "metadata": {},
   "source": [
    "❓ Compile your model with the optimizer that is best suited for RNN networks."
   ]
  },
  {
   "cell_type": "code",
   "execution_count": null,
   "metadata": {},
   "outputs": [],
   "source": []
  },
  {
   "cell_type": "code",
   "execution_count": null,
   "metadata": {},
   "outputs": [],
   "source": []
  }
 ],
 "metadata": {
  "kernelspec": {
   "display_name": "Python 3",
   "language": "python",
   "name": "python3"
  },
  "language_info": {
   "codemirror_mode": {
    "name": "ipython",
    "version": 3
   },
   "file_extension": ".py",
   "mimetype": "text/x-python",
   "name": "python",
   "nbconvert_exporter": "python",
   "pygments_lexer": "ipython3",
   "version": "3.7.6"
  }
 },
 "nbformat": 4,
 "nbformat_minor": 2
}
