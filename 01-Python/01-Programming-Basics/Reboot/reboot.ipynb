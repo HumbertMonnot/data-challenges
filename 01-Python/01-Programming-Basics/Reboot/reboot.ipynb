{
 "cells": [
  {
   "cell_type": "markdown",
   "metadata": {},
   "source": [
    "# Python Basics\n",
    "\n",
    "This is a set of small independent assignments to recap the concepts of the day.\n",
    "\n",
    "## 1. Variables\n",
    "\n",
    "1. Create a `country` variable and assign your favorite country to it.\n",
    "2. Create an `animal` variable and assign your favorite animal to it.\n",
    "3. Create an `animal_count` variable with any positive integer in it.\n",
    "4. Print out a string using all your variables that follows this format:\n",
    "`\"I just ordered 200 monkeys from Denmark\"`\n",
    "\n",
    "**Hint**: use interpolation"
   ]
  },
  {
   "cell_type": "code",
   "execution_count": null,
   "metadata": {},
   "outputs": [],
   "source": []
  },
  {
   "cell_type": "markdown",
   "metadata": {},
   "source": [
    "## 2. Data Types\n",
    "Write the data type for each variable after the comment, following this example:\n",
    "```python\n",
    "  name = \"Batman\"\n",
    "  name # string\n",
    "```"
   ]
  },
  {
   "cell_type": "code",
   "execution_count": 4,
   "metadata": {},
   "outputs": [],
   "source": [
    "pi = 3.14\n",
    "food = 'pizza'\n",
    "colors = ['red', 'blue', 'yellow']\n",
    "user_profile = {'email': 'buffy@gmail.com', 'age': 19, 'password': 'hunter2', 'profession': 'Vampire Slayer' }\n",
    "shapes = ('square', 'round', 'hexagonic')\n",
    "age = 25\n",
    "age_valid = age < 18\n",
    "best_years = range(1980, 1990)"
   ]
  },
  {
   "cell_type": "code",
   "execution_count": null,
   "metadata": {},
   "outputs": [],
   "source": [
    "pi #\n",
    "food #\n",
    "colors # \n",
    "user_profile #\n",
    "shapes #\n",
    "age #\n",
    "age_valid #\n",
    "best_years #"
   ]
  },
  {
   "cell_type": "markdown",
   "metadata": {},
   "source": [
    "## 3. Lists & Functions\n",
    "\n",
    "1. Create a `genres` variable with a list of 3 different movie genres as strings.\n",
    "2. Add another genre to the list.\n",
    "3. Change the name of the second genre on the list.\n",
    "4. Create a function that takes one parameter (a list)\n",
    "5. This function should return the list parameter sorted alphabetically\n",
    "6. Call your function with your `genres` list as an argument, and store it in a variable\n",
    "7. Print each genre to the terminal following this format (use a for loop with enumerate):\n",
    "\n",
    "```\n",
    "1 - Action\n",
    "2 - Comedy\n",
    "3 - Drama\n",
    "4 - Thriller\n",
    "```"
   ]
  },
  {
   "cell_type": "code",
   "execution_count": null,
   "metadata": {},
   "outputs": [],
   "source": []
  },
  {
   "cell_type": "markdown",
   "metadata": {},
   "source": [
    "## 4. Dictionaries\n",
    "\n",
    "1. Create a `movie` variable with a dictionary containing information about any movie. It should contain the keys `year` and `title`with appropriate values.\n",
    "2. Add a `director` key to the dictonary with the appropriate value.\n",
    "3. Create a `movies` with an empty list.\n",
    "4. Add your `movie` to the list and two more movies, with the same keys as the first one.\n",
    "5. Print the `movies` list in the terminal in the following format (use a for loop):\n",
    "```\n",
    "Terminator by James Cameron was released in 1984\n",
    "Godfather by Francis Ford Coppolla was released in 1972\n",
    "The Matrix by The Wachowski Brothers was released in 1999\n",
    "```"
   ]
  },
  {
   "cell_type": "code",
   "execution_count": null,
   "metadata": {},
   "outputs": [],
   "source": []
  },
  {
   "cell_type": "markdown",
   "metadata": {},
   "source": [
    "## 5. Big Dictionaries\n",
    "\n",
    "Often when we're dealing with data, we have to find our way around a big dictionary. This can be a bit intimidating at first. But have no fear, once you get the hang of it, it's quite comfortable to navigate. When we're dealing with bigger dictionaries, it's important to take the time and read through it, knowing what kind of data types are stored and what structure it has. \n",
    "\n",
    "It's often a small subset of the information we're interested in looking at, so we need to know how to precisely get it."
   ]
  },
  {
   "cell_type": "code",
   "execution_count": 10,
   "metadata": {},
   "outputs": [],
   "source": [
    "movie = {\n",
    "    \"title\": { \"en\": \"The Dark Knight\", \"fr\": \"Le Chevalier Noir\", \"es\": \"El Caballero Oscuro\"},\n",
    "    \"year\": 2008,\n",
    "    \"director\": \"Christopher Nolan\",\n",
    "    \"rating\": \"PG-13\",\n",
    "    \"plot\": { \"en\": \"The Batman is out for blood.\", \"fr\": \"Batman est de retour, plus véner que jamais.\", \"es\": \"Ay caramba, el Batman es loco en la cabeza\" },\n",
    "    \"actors:\" {\"lead\": [\"Christian Bale\", \"Heath Ledger\"], \"support\": [\"Aaron Eckhardt\", \"Morgan Freeman\", \"Gary Oldman\", \"Michael Caine\", \"Maggie Gyllenhaal\" ]}\n",
    "    \"box office USD\": {\"USA\": 535_234_033, \"rest_of_world:\" 469_700_000 }\n",
    "}\n",
    "\n"
   ]
  },
  {
   "cell_type": "markdown",
   "metadata": {},
   "source": [
    "Try to guess the answer to the questions without writing any code. Then try the code out for yourself to test your theory.\n",
    "Q1. What does movie['title']['es'] return? \n",
    "Q2. What does movie['title']['se'] return?\n",
    "Q3. What does movie['actors']['support'][2] return?\n",
    "\n",
    "### Harder\n",
    "Find a way to extract one list containing all the actors from the movie\n",
    "Try to calculate the total box office of the movie. Would your code still work if you the box office dictionary looked like this: `{\"US\" 200_000_000, \"EU\": 85_000_000, \"China\": 110_000_000}`?"
   ]
  },
  {
   "cell_type": "code",
   "execution_count": null,
   "metadata": {},
   "outputs": [],
   "source": []
  }
 ],
 "metadata": {
  "kernelspec": {
   "display_name": "Python 3",
   "language": "python",
   "name": "python3"
  },
  "language_info": {
   "codemirror_mode": {
    "name": "ipython",
    "version": 3
   },
   "file_extension": ".py",
   "mimetype": "text/x-python",
   "name": "python",
   "nbconvert_exporter": "python",
   "pygments_lexer": "ipython3",
   "version": "3.7.3"
  }
 },
 "nbformat": 4,
 "nbformat_minor": 2
}
