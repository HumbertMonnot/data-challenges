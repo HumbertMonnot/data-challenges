{
 "cells": [
  {
   "cell_type": "code",
   "execution_count": 1,
   "id": "61eaab00",
   "metadata": {},
   "outputs": [],
   "source": [
    "def all_numbers(list_9):\n",
    "    \"\"\"Are all the numbers in list_9 ?\"\"\"\n",
    "    for i in range(1,10):\n",
    "        if i in list_9 is False:\n",
    "            return False\n",
    "    return True"
   ]
  },
  {
   "cell_type": "code",
   "execution_count": null,
   "id": "1ce79cb2",
   "metadata": {},
   "outputs": [],
   "source": [
    "def sudoku_validator(grid):\n",
    "    \"\"\"Is grid OK ?\"\"\"\n",
    "    #import ipdb; ipdb.set_trace()\n",
    "    for line in grid:\n",
    "        if all_numbers(line) is False:\n",
    "            return False\n",
    "    for i in range(9):    \n",
    "        col =[]\n",
    "        for k in range(9):\n",
    "            col.append(grid[k][i])\n",
    "        if all_numbers(col) is False:\n",
    "            return False\n",
    "        print(col)\n",
    "    for i in range(0, 9, 3):\n",
    "        for j in range(0,9,3):\n",
    "            square = []\n",
    "            for y in range(3):\n",
    "                for z in range(3):\n",
    "                    square.append(grid[i+y][j+z])  \n",
    "            if all_numbers(square) is False:\n",
    "                return False\n",
    "    return True"
   ]
  },
  {
   "cell_type": "code",
   "execution_count": null,
   "id": "b1315a28",
   "metadata": {},
   "outputs": [],
   "source": [
    "truc = [\n",
    "            [7,8,4,  1,5,9,  3,2,6],\n",
    "            [5,3,9,  6,7,2,  8,4,1],\n",
    "            [6,1,2,  4,3,8,  7,5,9],\n",
    "\n",
    "            [9,2,8,  7,1,5,  4,6,3],\n",
    "            [3,5,7,  8,4,6,  1,9,2],\n",
    "            [4,6,1,  9,2,3,  5,8,7],\n",
    "\n",
    "            [8,7,6,  3,9,4,  2,1,5],\n",
    "            [2,4,3,  5,6,1,  9,7,8],\n",
    "            [1,9,5,  2,8,7,  6,3,4]\n",
    "        ]"
   ]
  },
  {
   "cell_type": "code",
   "execution_count": null,
   "id": "6c035bab",
   "metadata": {},
   "outputs": [],
   "source": [
    "sudoku_validator(truc)"
   ]
  }
 ],
 "metadata": {
  "kernelspec": {
   "display_name": "Python 3 (ipykernel)",
   "language": "python",
   "name": "python3"
  },
  "language_info": {
   "codemirror_mode": {
    "name": "ipython",
    "version": 3
   },
   "file_extension": ".py",
   "mimetype": "text/x-python",
   "name": "python",
   "nbconvert_exporter": "python",
   "pygments_lexer": "ipython3",
   "version": "3.8.12"
  },
  "toc": {
   "base_numbering": 1,
   "nav_menu": {},
   "number_sections": true,
   "sideBar": true,
   "skip_h1_title": false,
   "title_cell": "Table of Contents",
   "title_sidebar": "Contents",
   "toc_cell": false,
   "toc_position": {},
   "toc_section_display": true,
   "toc_window_display": false
  }
 },
 "nbformat": 4,
 "nbformat_minor": 5
}
