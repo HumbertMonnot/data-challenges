{
 "cells": [
  {
   "cell_type": "markdown",
   "metadata": {},
   "source": [
    "# Reboot - Data Collection\n",
    "\n",
    "Let's practise calling an API an navigating a JSON response!\n",
    "\n",
    "While working with CSV can certainly be useful, the vast majority of data from outside sources will come in the form of JSON. So for this reboot, we'll focus on that. All the APIs we'll use in the reboot will send you JSON back.\n",
    "\n",
    "## 1. Simple API call\n",
    "\n",
    "There's an API for pretty much everything. Let's start with a super simple one: the [Breaking Bad quotes API](https://github.com/shevabam/breaking-bad-quotes).\n",
    "\n",
    "For your convenience, we've included the simple syntax to do an HTTP request in Python and convert the response to a Python object as boilerplate code.\n",
    "\n",
    "The goal here is to get a single random Breaking Bad quote and print it out to the terminal. \n",
    "\n",
    "Go the [doc](https://github.com/shevabam/breaking-bad-quotes) to find out which URL you need to use. Make sure to carefully check out the data types you're getting back from the API and extract the string you need."
   ]
  },
  {
   "cell_type": "code",
   "execution_count": null,
   "metadata": {},
   "outputs": [],
   "source": [
    "import requests\n",
    "\n",
    "# What's the URL?\n",
    "url = '?' \n",
    "response = requests.get(url).json()"
   ]
  },
  {
   "cell_type": "markdown",
   "metadata": {},
   "source": [
    "## 2. Looping over API results\n",
    "\n",
    "Often APIs will serve a list of results that we need to loop over and manipulate. For this next example, we will use the [Star Wars API](https://swapi.co).\n",
    "\n",
    "First, go to the [documentation](https://swapi.co/documentation) to find out which URL you're going to need."
   ]
  },
  {
   "cell_type": "code",
   "execution_count": null,
   "metadata": {},
   "outputs": [],
   "source": [
    "url = ?\n",
    "print(url)"
   ]
  },
  {
   "cell_type": "markdown",
   "metadata": {},
   "source": [
    "Once you have the url, the code is exactly the same as in the previous example. First, print the response to make sure you're getting the right data back."
   ]
  },
  {
   "cell_type": "code",
   "execution_count": null,
   "metadata": {},
   "outputs": [],
   "source": [
    "import requests\n",
    "\n",
    "response = requests.get(url).json()"
   ]
  },
  {
   "cell_type": "markdown",
   "metadata": {},
   "source": [
    "Now store the list of characters in a `characters` variable and print it. \n",
    "Can you see what data type each character is?"
   ]
  },
  {
   "cell_type": "code",
   "execution_count": null,
   "metadata": {},
   "outputs": [],
   "source": []
  },
  {
   "cell_type": "markdown",
   "metadata": {
    "slideshow": {
     "slide_type": "slide"
    }
   },
   "source": [
    "Finally, loop over the characters and print a sentence for each of them following this template:\n",
    "\n",
    "`Luke Skywalker has blue eyes`\n",
    "\n",
    "`C-3PO has yellow eyes`\n",
    "\n",
    "`etc...`"
   ]
  },
  {
   "cell_type": "code",
   "execution_count": null,
   "metadata": {},
   "outputs": [],
   "source": []
  },
  {
   "cell_type": "markdown",
   "metadata": {},
   "source": [
    "## 3. Geocoding\n",
    "\n",
    "A geocoding service is a tool to convert addresses to geocoordinates and vice versa. We use them every time we fire up our GPS apps and look for a destination.\n",
    "\n",
    "For this exercise, we will use the [Nominatim API]()\n",
    "\n",
    "First, get familiar with the documentation, [which you will find here](https://nominatim.org/release-docs/latest/api/Overview/). Take a couple of minutes to read through it and get familiar with it. In this exercise, we will need both to find a set of geocoordinates for a given address, and find an address from a set of geocoordinates."
   ]
  },
  {
   "cell_type": "markdown",
   "metadata": {},
   "source": [
    "### About Params\n",
    "\n",
    "For your information, when the documentation says your URL needs `params`, that means that the HTTP requests needs more information than just the address of the website/service you're trying to access. \n",
    "\n",
    "If the documentation says `https://google.com/search<params>`, this is an example URL that would work:\n",
    "\n",
    "`https://www.google.com/search?query=funny+hat`\n",
    "\n",
    "In this example, we pass one parameter with the key `query` and value `funny hat`. If we had another key value set in `params`it would look like this:\n",
    "\n",
    "`https://www.google.com/search?query=funny+hat&language=swedish`\n",
    "\n",
    "Using the `requests` library, we could make a GET request at that URL with this syntax:\n",
    "\n",
    "```python\n",
    "response = requests.get(\n",
    "    'https://www.google.com',\n",
    "    params={'query': 'funny hat', 'language': 'swedish'},\n",
    ")\n",
    "```"
   ]
  },
  {
   "cell_type": "markdown",
   "metadata": {},
   "source": [
    "Find the latitude and longitude for this address: `10 Downing St, Westminster, London SW1A 2AA, United Kingdom`.\n",
    "Print the sentence `10 Downing st has latitude X and longitude Y`, replacing X and Y with the correct values. "
   ]
  },
  {
   "cell_type": "code",
   "execution_count": null,
   "metadata": {},
   "outputs": [],
   "source": []
  },
  {
   "cell_type": "markdown",
   "metadata": {},
   "source": [
    "Find the address belonging to this set of geocoordinates: `{'lat': 38.8976633, 'lng': -77.036650 }`.\n",
    "Print the sentence `I would like to visit X`, replacing X with the address you found."
   ]
  },
  {
   "cell_type": "code",
   "execution_count": null,
   "metadata": {},
   "outputs": [],
   "source": []
  }
 ],
 "metadata": {
  "kernelspec": {
   "display_name": "Python 3",
   "language": "python",
   "name": "python3"
  },
  "language_info": {
   "codemirror_mode": {
    "name": "ipython",
    "version": 3
   },
   "file_extension": ".py",
   "mimetype": "text/x-python",
   "name": "python",
   "nbconvert_exporter": "python",
   "pygments_lexer": "ipython3",
   "version": "3.7.3"
  }
 },
 "nbformat": 4,
 "nbformat_minor": 2
}
