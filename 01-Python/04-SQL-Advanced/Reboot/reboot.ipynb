{
 "cells": [
  {
   "cell_type": "markdown",
   "metadata": {},
   "source": [
    "# Reboot - SQL Advanced\n",
    "\n",
    "For this reboot again, we have an extra `data` folder with a `blog.sqlite` file inside.\n",
    "\n",
    "Open this file in a tool like DBeaver or DBrowser for SQLITE. Then take two minutes to see what the database schema looks like. "
   ]
  },
  {
   "cell_type": "markdown",
   "metadata": {},
   "source": [
    "### The Database Schema\n",
    "\n",
    "Draw the database schema on [kitt](https://kitt.lewagon.com/db/new)"
   ]
  },
  {
   "cell_type": "markdown",
   "metadata": {},
   "source": [
    "_TODO: paste the screenshot of the schema here_"
   ]
  },
  {
   "cell_type": "markdown",
   "metadata": {},
   "source": [
    "### 1. Complete the code to get **the 3 most liked posts**:"
   ]
  },
  {
   "cell_type": "code",
   "execution_count": null,
   "metadata": {},
   "outputs": [],
   "source": [
    "# import libraries\n",
    "\n",
    "# start the connexion with the blog.sqlite DB\n",
    "\n",
    "query = \"\"\"\"\"\" # write the query\n",
    "\n",
    "# execute the query\n",
    "\n",
    "# print the results"
   ]
  },
  {
   "cell_type": "markdown",
   "metadata": {},
   "source": [
    "#### Display the results\n",
    "\n",
    "Well, the previous result lacks of readability. Below is a function that returns a meaningfull info."
   ]
  },
  {
   "cell_type": "code",
   "execution_count": null,
   "metadata": {},
   "outputs": [],
   "source": [
    "# Pandas DataFrame version\n",
    "import numpy as np\n",
    "import pandas as pd\n",
    "def display_results(query):\n",
    "    rows = c.execute(query) # execute the query\n",
    "    results = rows.fetchall() # put the rows in a list\n",
    "    headers = [header[0] for header in rows.description] # build the columns name\n",
    "    results_df = pd.DataFrame(results, columns=headers) # build the DataFrame of results \n",
    "    return results_df"
   ]
  },
  {
   "cell_type": "code",
   "execution_count": null,
   "metadata": {},
   "outputs": [],
   "source": [
    "# Markdown table version: https://github.com/adam-p/markdown-here/wiki/Markdown-Cheatsheet#tables\n",
    "from IPython.display import display, Markdown\n",
    "def display_results(query):\n",
    "    rows = c.execute(query) # execute the query\n",
    "    results = rows.fetchall() # put the rows in a list\n",
    "    columns = [header[0] for header in rows.description] # build the columns name as a list\n",
    "    headers = '|'.join(columns) \n",
    "    headers = f'|{headers}|' # build a Markdown table header\n",
    "    separator = '|'.join(['-' for col in columns])\n",
    "    separator = f'|{separator}|' # build a Markdown table header separator \n",
    "    data = ''\n",
    "    for result in results:\n",
    "        result = [str(i) for i in result]\n",
    "        row = '|'.join(result)\n",
    "        row = f'|{row}|'\n",
    "        data += f'{row}\\n' # build a Mardown table of data\n",
    "    output = headers + '\\n' + separator + '\\n' + data\n",
    "    display(Markdown(output))"
   ]
  },
  {
   "cell_type": "code",
   "execution_count": null,
   "metadata": {},
   "outputs": [],
   "source": [
    "# try the display_results function with the previous query\n",
    "display_results(query)"
   ]
  },
  {
   "cell_type": "markdown",
   "metadata": {},
   "source": [
    "### 2. Find the **3 biggest likers** of the blog"
   ]
  },
  {
   "cell_type": "code",
   "execution_count": null,
   "metadata": {},
   "outputs": [],
   "source": [
    "query = \"\"\"\"\"\" # write the query\n",
    "display_results(query)"
   ]
  },
  {
   "cell_type": "markdown",
   "metadata": {},
   "source": [
    "### 3. Now we would like to find the **first name and the last name of the most liked author**"
   ]
  },
  {
   "cell_type": "code",
   "execution_count": null,
   "metadata": {},
   "outputs": [],
   "source": [
    "query = \"\"\"\"\"\" # write the query \n",
    "display_results(query)"
   ]
  },
  {
   "cell_type": "markdown",
   "metadata": {},
   "source": [
    "### 4. Who are the **authors** of the 3 most liked posts?"
   ]
  },
  {
   "cell_type": "code",
   "execution_count": null,
   "metadata": {},
   "outputs": [],
   "source": [
    "query = \"\"\"\"\"\" # write the query \n",
    "display_results(query)"
   ]
  },
  {
   "cell_type": "markdown",
   "metadata": {},
   "source": [
    "### 5. Write a SQL query to return the total number of users, posts and likes"
   ]
  },
  {
   "cell_type": "code",
   "execution_count": null,
   "metadata": {},
   "outputs": [],
   "source": [
    "query = \"\"\"\"\"\" # write the query \n",
    "display_results(query)"
   ]
  },
  {
   "cell_type": "markdown",
   "metadata": {},
   "source": [
    "### 6. Can you count the total number of authors and likers?"
   ]
  },
  {
   "cell_type": "code",
   "execution_count": null,
   "metadata": {},
   "outputs": [],
   "source": [
    "query = \"\"\"\"\"\" # write the query \n",
    "display_results(query)"
   ]
  },
  {
   "cell_type": "markdown",
   "metadata": {},
   "source": [
    "### 7. Compute the cumulative number of likes by day"
   ]
  },
  {
   "cell_type": "code",
   "execution_count": null,
   "metadata": {},
   "outputs": [],
   "source": [
    "query = \"\"\"\"\"\" # write the query \n",
    "display_results(query)"
   ]
  },
  {
   "cell_type": "markdown",
   "metadata": {},
   "source": [
    "### 8. The biggest liker per author (tricky) "
   ]
  },
  {
   "cell_type": "code",
   "execution_count": null,
   "metadata": {},
   "outputs": [],
   "source": [
    "query = \"\"\"\"\"\" # write the query \n",
    "display_results(query)"
   ]
  },
  {
   "cell_type": "markdown",
   "metadata": {},
   "source": [
    "### 9. For each post, give the monthly evolution of the cumulative count of likes (nightmare)"
   ]
  },
  {
   "cell_type": "code",
   "execution_count": null,
   "metadata": {},
   "outputs": [],
   "source": [
    "query = \"\"\"\"\"\" # write the query \n",
    "display_results(query)"
   ]
  }
 ],
 "metadata": {
  "kernelspec": {
   "display_name": "Python 3",
   "language": "python",
   "name": "python3"
  },
  "language_info": {
   "codemirror_mode": {
    "name": "ipython",
    "version": 3
   },
   "file_extension": ".py",
   "mimetype": "text/x-python",
   "name": "python",
   "nbconvert_exporter": "python",
   "pygments_lexer": "ipython3",
   "version": "3.7.6"
  }
 },
 "nbformat": 4,
 "nbformat_minor": 2
}
