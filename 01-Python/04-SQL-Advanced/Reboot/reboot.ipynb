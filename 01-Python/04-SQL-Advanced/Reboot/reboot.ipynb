{
 "cells": [
  {
   "cell_type": "markdown",
   "metadata": {},
   "source": [
    "# Reboot - SQL Advanced\n",
    "\n",
    "For this reboot again, we have an extra `data` folder with a `blog.sqlite` file inside.\n",
    "\n",
    "Open this file in a tool like DBeaver or DBrowser for SQLITE. Then take two minutes to see what the database schema looks like. "
   ]
  },
  {
   "cell_type": "markdown",
   "metadata": {},
   "source": [
    "### The Database Schema\n",
    "\n",
    "Draw the database schema on [kitt](https://kitt.lewagon.com/db)"
   ]
  },
  {
   "cell_type": "markdown",
   "metadata": {},
   "source": [
    "## JOIN queries\n",
    "\n",
    "Complete the code to get **the 3 most liked posts**:"
   ]
  },
  {
   "cell_type": "code",
   "execution_count": 2,
   "metadata": {},
   "outputs": [],
   "source": [
    "import sqlite3\n",
    "\n",
    "db_path = 'data/blog.sqlite'\n",
    "conn = sqlite3.connect(db_path)\n",
    "c = conn.cursor()\n",
    "query = ?\n",
    "rows = c.execute(query)\n",
    "top_three_posts = rows.fetchall()\n",
    "print(top_three_posts)"
   ]
  },
  {
   "cell_type": "markdown",
   "metadata": {},
   "source": [
    "Now we would like to find the **first name and the last name of the most liked author**"
   ]
  },
  {
   "cell_type": "code",
   "execution_count": 30,
   "metadata": {},
   "outputs": [],
   "source": [
    "query = ?\n",
    "rows = c.execute(query)\n",
    "most_liked_author = rows.fetchall()\n",
    "print(most_liked_author)"
   ]
  },
  {
   "cell_type": "markdown",
   "metadata": {},
   "source": [
    "### Window Function\n",
    "\n",
    "For each post, give the **monthly evolution of the cumulative count of likes**"
   ]
  },
  {
   "cell_type": "code",
   "execution_count": 54,
   "metadata": {},
   "outputs": [],
   "source": [
    "query = ?\n",
    "rows = c.execute(query)\n",
    "likes_evolution = rows.fetchall()\n",
    "print(likes_evolution)"
   ]
  },
  {
   "cell_type": "markdown",
   "metadata": {},
   "source": [
    "### Hard - The biggest likers per author"
   ]
  },
  {
   "cell_type": "markdown",
   "metadata": {},
   "source": [
    "The bigger, the harder.\n",
    "Could you give **the biggest liker of each author** i.e. the user which has liked the most each author, whatever the author comment."
   ]
  },
  {
   "cell_type": "code",
   "execution_count": 67,
   "metadata": {},
   "outputs": [],
   "source": [
    "query = ?\n",
    "rows = c.execute(query)\n",
    "biggest_likers = rows.fetchall()\n",
    "print(biggest_likers)"
   ]
  },
  {
   "cell_type": "code",
   "execution_count": null,
   "metadata": {},
   "outputs": [],
   "source": []
  }
 ],
 "metadata": {
  "kernelspec": {
   "display_name": "Python 3",
   "language": "python",
   "name": "python3"
  },
  "language_info": {
   "codemirror_mode": {
    "name": "ipython",
    "version": 3
   },
   "file_extension": ".py",
   "mimetype": "text/x-python",
   "name": "python",
   "nbconvert_exporter": "python",
   "pygments_lexer": "ipython3",
   "version": "3.8.0"
  }
 },
 "nbformat": 4,
 "nbformat_minor": 2
}
