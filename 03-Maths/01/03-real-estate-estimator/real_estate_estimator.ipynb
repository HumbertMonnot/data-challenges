{
 "cells": [
  {
   "cell_type": "markdown",
   "metadata": {},
   "source": [
    "# Real Estate estimator\n",
    "\n",
    "In the following challenge, we want to estimate the **price** of a flat depending of data from other flats.\n",
    "Welcome to the [Numpy documentation](https://docs.scipy.org/doc/numpy/reference/) which will be your friend through this exercise as the Numpy library is your only authorized import, Pandas is forbidden ⚠️. You can also find help on this [Numpy cheatsheet](https://s3.amazonaws.com/assets.datacamp.com/blog_assets/Numpy_Python_Cheat_Sheet.pdf)."
   ]
  },
  {
   "cell_type": "code",
   "execution_count": null,
   "metadata": {},
   "outputs": [],
   "source": [
    "# Load the Numpy library\n",
    "# YOUR CODE HERE"
   ]
  },
  {
   "cell_type": "markdown",
   "metadata": {},
   "source": [
    "## The ideal estimator"
   ]
  },
  {
   "cell_type": "markdown",
   "metadata": {},
   "source": [
    "Considering those 4 flats, we want to find the relation between the `Price` and the 3 criterions: `Size`, `Bedrooms` and `Floors`. Those criterions are the **features** of the estimator.\n",
    "\n",
    "|Flats |Size (feet^2)|Bedrooms|Floors|Price(1000$)|\n",
    "|------|-------------|--------|------|------------|\n",
    "|flat1 |2104|5|1|460|\n",
    "|flat2 |1416|3|2|232|\n",
    "|flat3 |1534|3|2|315|\n",
    "|flat4 |852|2|1|178|\n",
    "\n",
    "A first approach is to find a linear relation between the `Price` and the features resolving this system of equations:\n",
    "\n",
    "$$\\begin{cases}\n",
    "    460 = \\theta_0 + 2104\\theta_1 + 5\\theta_2 + 1\\theta_3 \\\\\n",
    "    232 = \\theta_0 + 1416\\theta_1 + 3\\theta_2 + 2\\theta_3 \\\\\n",
    "    315 = \\theta_0 + 1534\\theta_1 + 3\\theta_2 + 2\\theta_3 \\\\\n",
    "    178 = \\theta_0 + 852\\theta_1 + 2\\theta_2 + 1\\theta_3\n",
    "\\end{cases}$$\n",
    "\n",
    "Which can be translated into a matricial equation:\n",
    "\n",
    "$$Y = X\\theta$$\n",
    "\n",
    "where $Y$ is the vector of `Price`, $X$ is the matrix of features and $\\theta$ (theta) is the vector of coefficients to be found.\n",
    "\n",
    "### Define the matrix `x` of features:\n",
    "\n",
    "_Hint: `x` should be a 4 by 3 `numpy.ndarray`_"
   ]
  },
  {
   "cell_type": "code",
   "execution_count": null,
   "metadata": {},
   "outputs": [],
   "source": [
    "x = None # YOUR CODE HERE\n",
    "x"
   ]
  },
  {
   "cell_type": "code",
   "execution_count": null,
   "metadata": {},
   "outputs": [],
   "source": [
    "x.shape"
   ]
  },
  {
   "cell_type": "code",
   "execution_count": null,
   "metadata": {},
   "outputs": [],
   "source": [
    "type(x)"
   ]
  },
  {
   "cell_type": "markdown",
   "metadata": {},
   "source": [
    "### Define the vector `Y` of `Price`s"
   ]
  },
  {
   "cell_type": "code",
   "execution_count": null,
   "metadata": {},
   "outputs": [],
   "source": [
    "Y = None # Define Y here\n",
    "Y"
   ]
  },
  {
   "cell_type": "code",
   "execution_count": null,
   "metadata": {},
   "outputs": [],
   "source": [
    "# Make Y a 4 by 1 vector with the right Numpy method\n",
    "Y = None # YOUR CODE HERE\n",
    "Y"
   ]
  },
  {
   "cell_type": "markdown",
   "metadata": {},
   "source": [
    "### Create the matrix `X` representing the linear system of equation\n",
    "\n",
    "As you probably noticed, the linear system of equation includes a $\\theta_0$ coefficient which appears in the 4 equations. This coefficient is here to represent an [affine relation](https://math.stackexchange.com/questions/275310/what-is-the-difference-between-linear-and-affine-function) rather than a strict linear relation between the `Price` and the features. As a result, we need to add one last _feature_ $x_0$ to the matrix $x$."
   ]
  },
  {
   "cell_type": "code",
   "execution_count": null,
   "metadata": {},
   "outputs": [],
   "source": [
    "# Define x0 as a 4 by 1 vector filled with 1 with the right Numpy method\n",
    "x0 = None # YOUR CODE HERE \n",
    "x0"
   ]
  },
  {
   "cell_type": "markdown",
   "metadata": {},
   "source": [
    "The complete matrix $X$ should look like:\n",
    "\n",
    "$$\\begin{bmatrix}\n",
    "    1 & 2104 & 5 & 1 \\\\\n",
    "    1 & 1416 & 3 & 2 \\\\\n",
    "    1 & 1534 & 3 & 2 \\\\\n",
    "    1 & 852 & 2 & 1\n",
    "\\end{bmatrix}$$"
   ]
  },
  {
   "cell_type": "code",
   "execution_count": null,
   "metadata": {},
   "outputs": [],
   "source": [
    "# Use x0 and x to define the matrix X with the right Numpy method\n",
    "X = None # YOUR CODE HERE\n",
    "X"
   ]
  },
  {
   "cell_type": "markdown",
   "metadata": {},
   "source": [
    "### Find the solution of the system\n",
    "\n",
    "Now is the time to find the vector of coefficients $\\theta$ !\n",
    "\n",
    "The solution of the equation is:\n",
    " \n",
    "$$Y = X\\theta <=> X\\theta = Y <=> X^{-1}X\\theta = X^{-1}Y <=> \\theta = X^{-1}Y$$\n",
    "\n",
    "where $X^{-1}$ is the inverse of $X$."
   ]
  },
  {
   "cell_type": "code",
   "execution_count": null,
   "metadata": {},
   "outputs": [],
   "source": [
    "# Compute the inverse of the matrix X with the right Numpy method\n",
    "Xinv = None # YOUR CODE HERE\n",
    "Xinv"
   ]
  },
  {
   "cell_type": "markdown",
   "metadata": {},
   "source": [
    "You can check the inversion worked testing:\n",
    "\n",
    "$$X^{-1}X = I_4$$\n",
    "where $I_4$ is the 4 by 4 identity matrix."
   ]
  },
  {
   "cell_type": "code",
   "execution_count": null,
   "metadata": {},
   "outputs": [],
   "source": [
    "# Define I4 using the right Numpy method\n",
    "I4 = None # YOUR CODE HERE\n",
    "I4"
   ]
  },
  {
   "cell_type": "markdown",
   "metadata": {},
   "source": [
    "Now compute $X^{-1}X$:"
   ]
  },
  {
   "cell_type": "code",
   "execution_count": null,
   "metadata": {},
   "outputs": [],
   "source": [
    "XinvX = None # YOUR CODE HERE\n",
    "XinvX"
   ]
  },
  {
   "cell_type": "markdown",
   "metadata": {},
   "source": [
    "Does it looks like $I_4$?\n",
    "\n",
    "If not, you probably use the `*` operator to perform the multiplication between $X^{-1}$ and $X$. Here we want to perform the matrix product you should find the right Numpy method to do so.\n",
    "\n",
    "If so, you noticed that you do not really get exact $0$ and $1$ is the resulting product. To be sure, you can try the `numpy.allclose` method to check your result:"
   ]
  },
  {
   "cell_type": "code",
   "execution_count": null,
   "metadata": {},
   "outputs": [],
   "source": [
    "# YOUR CODE HERE"
   ]
  },
  {
   "cell_type": "markdown",
   "metadata": {},
   "source": [
    "You are finally able to find $\\theta = X^{-1}Y$:"
   ]
  },
  {
   "cell_type": "code",
   "execution_count": null,
   "metadata": {},
   "outputs": [],
   "source": [
    "theta = None # YOUR CODE HERE\n",
    "theta"
   ]
  },
  {
   "cell_type": "markdown",
   "metadata": {},
   "source": [
    "What do you think about those coefficients? How does the `Price` evolve while the `Size` raises? What about the `Bedrooms` or the `Floors` raising?\n",
    "\n",
    "You can plot the `Price` against one the feature to visualize this relation."
   ]
  },
  {
   "cell_type": "markdown",
   "metadata": {},
   "source": [
    "### Estimation\n",
    "\n",
    "You finally solve the system finding $\\theta$, you are able to estimate the `Price` (in thousands of $) of a 5th flat given this characteristics:\n",
    "\n",
    "- `Size`: 3000 $ft^2$\n",
    "- `Bedrooms`: 5 \n",
    "- `Floors`: 1\n",
    "\n",
    "with the following formula:\n",
    "\n",
    "$$Y_{flat5} = X_{flat5}\\theta$$"
   ]
  },
  {
   "cell_type": "code",
   "execution_count": null,
   "metadata": {},
   "outputs": [],
   "source": [
    "X5 = None # Define X5\n",
    "Y5 = None # Compute Y5\n",
    "Y5 # You should find a Price of 1090 000 $"
   ]
  },
  {
   "cell_type": "code",
   "execution_count": null,
   "metadata": {},
   "outputs": [],
   "source": []
  }
 ],
 "metadata": {
  "kernelspec": {
   "display_name": "Python 3",
   "language": "python",
   "name": "python3"
  },
  "language_info": {
   "codemirror_mode": {
    "name": "ipython",
    "version": 3
   },
   "file_extension": ".py",
   "mimetype": "text/x-python",
   "name": "python",
   "nbconvert_exporter": "python",
   "pygments_lexer": "ipython3",
   "version": "3.8.0"
  }
 },
 "nbformat": 4,
 "nbformat_minor": 2
}
