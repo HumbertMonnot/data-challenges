{
 "cells": [
  {
   "cell_type": "markdown",
   "metadata": {},
   "source": [
    "# The Central Limit Theorem - A first approach"
   ]
  },
  {
   "cell_type": "markdown",
   "metadata": {},
   "source": [
    "## 📚  1) Introduction to the CLT"
   ]
  },
  {
   "cell_type": "markdown",
   "metadata": {},
   "source": [
    "🚀  **Two convergence theorems revolutionized the disciplines of probability and statistics:**\n",
    "- **`LLN`: the Law of Large Numbers**\n",
    "- **`CLT`: the Central Limit Theorem**\n",
    "\n",
    "🧑🏻‍🏫  What is the CLT ? According to [Wikipedia](https://en.wikipedia.org/wiki/Central_limit_theorem)\n",
    "\n",
    "> The CLT states that when independent random variables are summed up, their normalized sum tends towards a **`Gaussian distribution`**  even if the original variables themselves were not normally distributed.\n",
    "\n",
    "> The Gaussian distribution is also known as a **`Normal Distribution`** or a **`bell curve`**.\n",
    "\n",
    "\n",
    "<details>\n",
    "    <summary>Why is the CLT a key concept of probability theory?</summary>\n",
    "    \n",
    "👉   Because it implies that probabilistic and statistical methods that work for normal distributions can be applicable to many problems involving other types of distributions.\n",
    "    \n",
    "🤔   Not clear for you yet ? No problem, we will elaborate on this during the `Decision Science - Inferential Statistics` chapter\n",
    "    \n",
    "As we love to say at ***`Le Wagon`***, ***Trust the process!***\n",
    "    \n",
    "</details>"
   ]
  },
  {
   "cell_type": "markdown",
   "metadata": {},
   "source": [
    "🎯  Let's illustrate how to use the [Central Limit Theorem](https://en.wikipedia.org/wiki/Central_limit_theorem) in a dataset:\n",
    "\n",
    "* Given a population, let's consider a feature (example: size, weight, salary, etc...) for each individual.\n",
    "\n",
    "\n",
    "🚀  The important takeaway of these two theorems is that **whatever the shape of the distribution** of a given feature over the population **is**, **the distribution of the (sampled) mean<u>S</u> tends to be Gaussian**:\n",
    "* `the mean of the means` = $ \\mu$ (Law of Large Numbers)\n",
    "* `the standard deviation of the means` = $ \\frac{\\sigma}{\\sqrt{n}} $  (Central Limit Theorem)\n",
    "\n",
    "![](https://upload.wikimedia.org/wikipedia/commons/thumb/7/7b/IllustrationCentralTheorem.png/400px-IllustrationCentralTheorem.png)\n",
    "\n",
    "💡  We can wrap it up the following way:\n",
    "\n",
    "$$ \\large \\bar{X} \\approx_{n \\rightarrow \\infty} \\mathcal{N}(\\mu,\\frac{\\sigma}{\\sqrt{n}}) $$\n",
    "\n",
    "👩🏻‍🔬  Let's verify this experimentally!"
   ]
  },
  {
   "cell_type": "markdown",
   "metadata": {},
   "source": [
    "---"
   ]
  },
  {
   "cell_type": "markdown",
   "metadata": {},
   "source": [
    "## 🔢  2) The Dataset"
   ]
  },
  {
   "cell_type": "markdown",
   "metadata": {},
   "source": [
    "👉 In this challenge, we will use the `tips` dataset from the `seaborn` library to illustrate the Central Limit Theorem."
   ]
  },
  {
   "cell_type": "code",
   "execution_count": 1,
   "metadata": {},
   "outputs": [],
   "source": [
    "# --- Data Manipulation ---\n",
    "import numpy as np\n",
    "import pandas as pd\n",
    "\n",
    "# --- Data Visualization ---\n",
    "import seaborn as sns\n",
    "import matplotlib.pyplot as plt\n",
    "\n",
    "# --- Maths ---\n",
    "import math"
   ]
  },
  {
   "cell_type": "code",
   "execution_count": 3,
   "metadata": {},
   "outputs": [
    {
     "data": {
      "text/html": [
       "<div>\n",
       "<style scoped>\n",
       "    .dataframe tbody tr th:only-of-type {\n",
       "        vertical-align: middle;\n",
       "    }\n",
       "\n",
       "    .dataframe tbody tr th {\n",
       "        vertical-align: top;\n",
       "    }\n",
       "\n",
       "    .dataframe thead th {\n",
       "        text-align: right;\n",
       "    }\n",
       "</style>\n",
       "<table border=\"1\" class=\"dataframe\">\n",
       "  <thead>\n",
       "    <tr style=\"text-align: right;\">\n",
       "      <th></th>\n",
       "      <th>total_bill</th>\n",
       "      <th>tip</th>\n",
       "      <th>sex</th>\n",
       "      <th>smoker</th>\n",
       "      <th>day</th>\n",
       "      <th>time</th>\n",
       "      <th>size</th>\n",
       "    </tr>\n",
       "  </thead>\n",
       "  <tbody>\n",
       "    <tr>\n",
       "      <th>0</th>\n",
       "      <td>16.99</td>\n",
       "      <td>1.01</td>\n",
       "      <td>Female</td>\n",
       "      <td>No</td>\n",
       "      <td>Sun</td>\n",
       "      <td>Dinner</td>\n",
       "      <td>2</td>\n",
       "    </tr>\n",
       "    <tr>\n",
       "      <th>1</th>\n",
       "      <td>10.34</td>\n",
       "      <td>1.66</td>\n",
       "      <td>Male</td>\n",
       "      <td>No</td>\n",
       "      <td>Sun</td>\n",
       "      <td>Dinner</td>\n",
       "      <td>3</td>\n",
       "    </tr>\n",
       "    <tr>\n",
       "      <th>2</th>\n",
       "      <td>21.01</td>\n",
       "      <td>3.50</td>\n",
       "      <td>Male</td>\n",
       "      <td>No</td>\n",
       "      <td>Sun</td>\n",
       "      <td>Dinner</td>\n",
       "      <td>3</td>\n",
       "    </tr>\n",
       "    <tr>\n",
       "      <th>3</th>\n",
       "      <td>23.68</td>\n",
       "      <td>3.31</td>\n",
       "      <td>Male</td>\n",
       "      <td>No</td>\n",
       "      <td>Sun</td>\n",
       "      <td>Dinner</td>\n",
       "      <td>2</td>\n",
       "    </tr>\n",
       "    <tr>\n",
       "      <th>4</th>\n",
       "      <td>24.59</td>\n",
       "      <td>3.61</td>\n",
       "      <td>Female</td>\n",
       "      <td>No</td>\n",
       "      <td>Sun</td>\n",
       "      <td>Dinner</td>\n",
       "      <td>4</td>\n",
       "    </tr>\n",
       "    <tr>\n",
       "      <th>...</th>\n",
       "      <td>...</td>\n",
       "      <td>...</td>\n",
       "      <td>...</td>\n",
       "      <td>...</td>\n",
       "      <td>...</td>\n",
       "      <td>...</td>\n",
       "      <td>...</td>\n",
       "    </tr>\n",
       "    <tr>\n",
       "      <th>239</th>\n",
       "      <td>29.03</td>\n",
       "      <td>5.92</td>\n",
       "      <td>Male</td>\n",
       "      <td>No</td>\n",
       "      <td>Sat</td>\n",
       "      <td>Dinner</td>\n",
       "      <td>3</td>\n",
       "    </tr>\n",
       "    <tr>\n",
       "      <th>240</th>\n",
       "      <td>27.18</td>\n",
       "      <td>2.00</td>\n",
       "      <td>Female</td>\n",
       "      <td>Yes</td>\n",
       "      <td>Sat</td>\n",
       "      <td>Dinner</td>\n",
       "      <td>2</td>\n",
       "    </tr>\n",
       "    <tr>\n",
       "      <th>241</th>\n",
       "      <td>22.67</td>\n",
       "      <td>2.00</td>\n",
       "      <td>Male</td>\n",
       "      <td>Yes</td>\n",
       "      <td>Sat</td>\n",
       "      <td>Dinner</td>\n",
       "      <td>2</td>\n",
       "    </tr>\n",
       "    <tr>\n",
       "      <th>242</th>\n",
       "      <td>17.82</td>\n",
       "      <td>1.75</td>\n",
       "      <td>Male</td>\n",
       "      <td>No</td>\n",
       "      <td>Sat</td>\n",
       "      <td>Dinner</td>\n",
       "      <td>2</td>\n",
       "    </tr>\n",
       "    <tr>\n",
       "      <th>243</th>\n",
       "      <td>18.78</td>\n",
       "      <td>3.00</td>\n",
       "      <td>Female</td>\n",
       "      <td>No</td>\n",
       "      <td>Thur</td>\n",
       "      <td>Dinner</td>\n",
       "      <td>2</td>\n",
       "    </tr>\n",
       "  </tbody>\n",
       "</table>\n",
       "<p>244 rows × 7 columns</p>\n",
       "</div>"
      ],
      "text/plain": [
       "     total_bill   tip     sex smoker   day    time  size\n",
       "0         16.99  1.01  Female     No   Sun  Dinner     2\n",
       "1         10.34  1.66    Male     No   Sun  Dinner     3\n",
       "2         21.01  3.50    Male     No   Sun  Dinner     3\n",
       "3         23.68  3.31    Male     No   Sun  Dinner     2\n",
       "4         24.59  3.61  Female     No   Sun  Dinner     4\n",
       "..          ...   ...     ...    ...   ...     ...   ...\n",
       "239       29.03  5.92    Male     No   Sat  Dinner     3\n",
       "240       27.18  2.00  Female    Yes   Sat  Dinner     2\n",
       "241       22.67  2.00    Male    Yes   Sat  Dinner     2\n",
       "242       17.82  1.75    Male     No   Sat  Dinner     2\n",
       "243       18.78  3.00  Female     No  Thur  Dinner     2\n",
       "\n",
       "[244 rows x 7 columns]"
      ]
     },
     "execution_count": 3,
     "metadata": {},
     "output_type": "execute_result"
    }
   ],
   "source": [
    "tips_df = sns.load_dataset('tips')\n",
    "tips_df"
   ]
  },
  {
   "cell_type": "markdown",
   "metadata": {},
   "source": [
    "### 🧐  2.1) Exploratory Data Analysis (EDA)"
   ]
  },
  {
   "cell_type": "markdown",
   "metadata": {},
   "source": [
    "❓ How many rows are available in the dataset ❓"
   ]
  },
  {
   "cell_type": "code",
   "execution_count": 4,
   "metadata": {
    "tags": [
     "challengify"
    ]
   },
   "outputs": [
    {
     "data": {
      "text/plain": [
       "244"
      ]
     },
     "execution_count": 4,
     "metadata": {},
     "output_type": "execute_result"
    }
   ],
   "source": [
    "# YOUR CODE HERE\n",
    "len(tips_df)"
   ]
  },
  {
   "cell_type": "markdown",
   "metadata": {},
   "source": [
    "❓ Plot the distribution of the `tip` column 📊 (with 20 bins) ❓"
   ]
  },
  {
   "cell_type": "code",
   "execution_count": 14,
   "metadata": {
    "tags": [
     "challengify"
    ]
   },
   "outputs": [
    {
     "data": {
      "text/plain": [
       "(array([14., 27., 55., 24., 41., 25., 20.,  7., 13.,  6.,  4.,  1.,  4.,\n",
       "         0.,  1.,  0.,  0.,  1.,  0.,  1.]),\n",
       " array([ 1.  ,  1.45,  1.9 ,  2.35,  2.8 ,  3.25,  3.7 ,  4.15,  4.6 ,\n",
       "         5.05,  5.5 ,  5.95,  6.4 ,  6.85,  7.3 ,  7.75,  8.2 ,  8.65,\n",
       "         9.1 ,  9.55, 10.  ]),\n",
       " <BarContainer object of 20 artists>)"
      ]
     },
     "execution_count": 14,
     "metadata": {},
     "output_type": "execute_result"
    },
    {
     "data": {
      "image/png": "[encoded data removed]",
      "text/plain": [
       "<Figure size 432x288 with 1 Axes>"
      ]
     },
     "metadata": {
      "needs_background": "light"
     },
     "output_type": "display_data"
    }
   ],
   "source": [
    "# YOUR CODE HERE\n",
    "plt.hist(tips_df['tip'], bins=20)"
   ]
  },
  {
   "cell_type": "markdown",
   "metadata": {},
   "source": [
    "❓ Question 1 ❓\n",
    "\n",
    "What are :\n",
    "* the ***average tip***\n",
    "* the ***standard deviation tip*** \n",
    "* the  [***skewness of the tips***](https://whatis.techtarget.com/definition/skewness)\n",
    "\n",
    "of the tips ? \n",
    "\n",
    "Store them into three variables called respectively `mu`, `sigma` and `skew`"
   ]
  },
  {
   "cell_type": "code",
   "execution_count": 10,
   "metadata": {
    "tags": [
     "challengify"
    ]
   },
   "outputs": [
    {
     "data": {
      "text/plain": [
       "(2.99827868852459, 1.3836381890011822, 1.4654510370979401)"
      ]
     },
     "execution_count": 10,
     "metadata": {},
     "output_type": "execute_result"
    }
   ],
   "source": [
    "# YOUR CODE HERE\n",
    "mu = tips_df['tip'].mean()\n",
    "sigma = tips_df['tip'].std()\n",
    "skew = tips_df['tip'].skew()\n",
    "mu, sigma, skew"
   ]
  },
  {
   "cell_type": "markdown",
   "metadata": {},
   "source": [
    "❓ Question 2 ❓\n",
    "\n",
    "What is the skewness of the tips: left, right, non-skewed ? Store your answer in a string variable called `skewness`"
   ]
  },
  {
   "cell_type": "code",
   "execution_count": 11,
   "metadata": {
    "tags": [
     "challengify"
    ]
   },
   "outputs": [],
   "source": [
    "# YOUR CODE HERE\n",
    "skewness = 'right'"
   ]
  },
  {
   "cell_type": "code",
   "execution_count": 12,
   "metadata": {},
   "outputs": [
    {
     "data": {
      "text/plain": [
       "count    244.000000\n",
       "mean       2.998279\n",
       "std        1.383638\n",
       "min        1.000000\n",
       "25%        2.000000\n",
       "50%        2.900000\n",
       "75%        3.562500\n",
       "max       10.000000\n",
       "Name: tip, dtype: float64"
      ]
     },
     "execution_count": 12,
     "metadata": {},
     "output_type": "execute_result"
    }
   ],
   "source": [
    "tips_df.tip.describe()"
   ]
  },
  {
   "cell_type": "markdown",
   "metadata": {},
   "source": [
    "<details>\n",
    "    <summary>Answer for the question related to the skewness:</summary>\n",
    "\n",
    "* the \"mode\" seems to be around 2 dollars `(we can't really talk about a mode for a continuous variable but just looking at the histogram with 20 bins, we can give an estimation)\n",
    "    \n",
    "* the \"mean\" is at 2.99 dollars\n",
    "    \n",
    "* the median is at 2.90 dollars\n",
    "    \n",
    "So here we have $ mode < median < mean $ which correspond to a `right skewness` if you go back to the `Statistics and Probability` slides 😉\n",
    "    \n",
    "    \n",
    "</details>"
   ]
  },
  {
   "cell_type": "markdown",
   "metadata": {},
   "source": [
    " 🧪 **Test your code**"
   ]
  },
  {
   "cell_type": "code",
   "execution_count": 15,
   "metadata": {},
   "outputs": [
    {
     "name": "stdout",
     "output_type": "stream",
     "text": [
      "\u001b[1m============================= test session starts ==============================\u001b[0m\n",
      "platform darwin -- Python 3.8.12, pytest-6.2.5, py-1.11.0, pluggy-1.0.0 -- /Users/humbert/.pyenv/versions/lewagon/bin/python3\n",
      "cachedir: .pytest_cache\n",
      "rootdir: /Users/humbert/code/HumbertMonnot/data-challenges/03-Maths/02-Statistics-Probabilities/03-Central-Limit-Theorem\n",
      "plugins: anyio-3.4.0, dash-2.0.0\n",
      "\u001b[1mcollecting ... \u001b[0mcollected 5 items\n",
      "\n",
      "tests/test_distribution.py::TestDistribution::test_mean_is_a_float \u001b[32mPASSED\u001b[0m\u001b[32m [ 20%]\u001b[0m\n",
      "tests/test_distribution.py::TestDistribution::test_mean_value \u001b[32mPASSED\u001b[0m\u001b[32m     [ 40%]\u001b[0m\n",
      "tests/test_distribution.py::TestDistribution::test_skewness_is_right \u001b[32mPASSED\u001b[0m\u001b[32m [ 60%]\u001b[0m\n",
      "tests/test_distribution.py::TestDistribution::test_standard_deviation_is_a_float \u001b[32mPASSED\u001b[0m\u001b[32m [ 80%]\u001b[0m\n",
      "tests/test_distribution.py::TestDistribution::test_standard_deviation_value \u001b[32mPASSED\u001b[0m\u001b[32m [100%]\u001b[0m\n",
      "\n",
      "\u001b[32m============================== \u001b[32m\u001b[1m5 passed\u001b[0m\u001b[32m in 0.10s\u001b[0m\u001b[32m ===============================\u001b[0m\n",
      "\n",
      "\n",
      "💯 You can commit your code:\n",
      "\n",
      "\u001b[1;32mgit\u001b[39m add tests/distribution.pickle\n",
      "\n",
      "\u001b[32mgit\u001b[39m commit -m \u001b[33m'Completed distribution step'\u001b[39m\n",
      "\n",
      "\u001b[32mgit\u001b[39m push origin master\n"
     ]
    }
   ],
   "source": [
    "from nbresult import ChallengeResult\n",
    "\n",
    "result = ChallengeResult('distribution',\n",
    "    skewness=skewness,\n",
    "    mu=mu,\n",
    "    sigma=sigma\n",
    ")\n",
    "result.write()\n",
    "print(result.check())"
   ]
  },
  {
   "cell_type": "markdown",
   "metadata": {},
   "source": [
    "### 🎲 2.2) Sampling mean"
   ]
  },
  {
   "cell_type": "markdown",
   "metadata": {},
   "source": [
    "❓ Pick randomly - and with replacement - 10 rows of the dataset, and compute the mean $\\bar{X}$ of that sample ❓\n",
    "\n",
    "👉 Run the cell a few times. Do you get the same result each time? Is this expected?"
   ]
  },
  {
   "cell_type": "code",
   "execution_count": 24,
   "metadata": {
    "tags": [
     "challengify"
    ]
   },
   "outputs": [
    {
     "data": {
      "text/plain": [
       "3.096"
      ]
     },
     "execution_count": 24,
     "metadata": {},
     "output_type": "execute_result"
    }
   ],
   "source": [
    "# YOUR CODE HERE\n",
    "tips_df['tip'].sample(10).mean()"
   ]
  },
  {
   "cell_type": "markdown",
   "metadata": {},
   "source": [
    "---"
   ]
  },
  {
   "cell_type": "markdown",
   "metadata": {},
   "source": [
    "## 🔥 3) Applying the CLT"
   ]
  },
  {
   "cell_type": "markdown",
   "metadata": {},
   "source": [
    "### 3.1) <u>Graphically</u>"
   ]
  },
  {
   "cell_type": "markdown",
   "metadata": {},
   "source": [
    "👉 Create a `means` list storing a list of means of $N$ samples of size $n$.\n",
    "\n",
    "Start with $n = 5$ and $N = 10$\n",
    "\n",
    "📊  In the same cell, **plot** the distribution of `means`. \n",
    "\n",
    "🧐 Let's play with the <u>*sample size n*</u> and the <u>*number of samples N</u>*:\n",
    "* Keep $n$ constant, increase $N$ and observe. What do you conclude ?\n",
    "* Now, keep $N$ constant, increase $n$ and observe. What do you conclude ?"
   ]
  },
  {
   "cell_type": "code",
   "execution_count": 75,
   "metadata": {
    "tags": [
     "challengify"
    ]
   },
   "outputs": [
    {
     "data": {
      "text/plain": [
       "(array([ 10.,  55., 132., 339., 620., 818., 966., 791., 608., 353., 189.,\n",
       "         77.,  27.,  12.,   3.]),\n",
       " array([2.459     , 2.54098667, 2.62297333, 2.70496   , 2.78694667,\n",
       "        2.86893333, 2.95092   , 3.03290667, 3.11489333, 3.19688   ,\n",
       "        3.27886667, 3.36085333, 3.44284   , 3.52482667, 3.60681333,\n",
       "        3.6888    ]),\n",
       " <BarContainer object of 15 artists>)"
      ]
     },
     "execution_count": 75,
     "metadata": {},
     "output_type": "execute_result"
    },
    {
     "data": {
      "image/png": "[encoded data removed]",
      "text/plain": [
       "<Figure size 432x288 with 1 Axes>"
      ]
     },
     "metadata": {
      "needs_background": "light"
     },
     "output_type": "display_data"
    }
   ],
   "source": [
    "means = [tips_df['tip'].sample(50).mean() for _ in range(5000)]\n",
    "plt.hist(means, bins = 15)"
   ]
  },
  {
   "cell_type": "markdown",
   "metadata": {},
   "source": [
    "<details>\n",
    "    <summary>What is happening when <u><i>n is fixed</i></u> and <u><i>N increases</i></u> ?</summary>\n",
    "\n",
    "* `N` (how many times we sample) controls the random noise. \n",
    "\n",
    "* When large enough, histograms always look the same when you re-run the cell. To convince yourself, re-run the previous cell several times with with N = 5000\n",
    "\n",
    "</details>"
   ]
  },
  {
   "cell_type": "markdown",
   "metadata": {},
   "source": [
    "<details>\n",
    "    <summary>What is happening when <u><i>n is fixed</i></u> and <u><i>N increases</i></u> ?</summary>\n",
    "    \n",
    "* `n` (sample size) controls the shape of the distribution. \n",
    "\n",
    "* When large enough, it *converges* towards a Normal distribution. This is the Central Limit Theorem. \n",
    "\n",
    "</details>\n",
    "\n"
   ]
  },
  {
   "cell_type": "markdown",
   "metadata": {},
   "source": [
    "### 3.2) <u>Numerically</u>"
   ]
  },
  {
   "cell_type": "markdown",
   "metadata": {},
   "source": [
    "❓ Let's verify the Central Limit Theorem computationally ❓\n",
    "- Compare `mu` with the mean of means\n",
    "- Compare `sigma` with the standard deviation of the means, but don't forget the $\\sqrt n$ adjustment\n",
    "- Compute the `skewness` of the distribution of the means using `scipy.stats.skew` (should be close to 0)\n",
    "- Compute the `kurtosis` of the distribution of the means using `scipy.stats.kurtosis`(should be close to 0)\n"
   ]
  },
  {
   "cell_type": "code",
   "execution_count": 77,
   "metadata": {},
   "outputs": [
    {
     "name": "stdout",
     "output_type": "stream",
     "text": [
      "3.00075096 2.99827868852459\n",
      "0.024896033769278517 1.3836381890011822\n"
     ]
    }
   ],
   "source": [
    "from scipy.stats import skew, kurtosis\n",
    "from statistics import mean, stdev\n",
    "from math import sqrt\n",
    "\n",
    "print(mean(means),mu)\n",
    "print(stdev(means)/sqrt(50), sigma)\n",
    "skewness = skew(means)\n",
    "kurtosis = kurtosis(means)"
   ]
  },
  {
   "cell_type": "markdown",
   "metadata": {},
   "source": [
    "## 💪  4) Use case: Probabilities of accumulating large tips at the end of a work-day"
   ]
  },
  {
   "cell_type": "markdown",
   "metadata": {},
   "source": [
    "🤔 Let's pick 100 dinners from the dataset (sampling with replacement). What is the probability that the cumulated tips ends up being **greater than 350€**?\n"
   ]
  },
  {
   "cell_type": "markdown",
   "metadata": {},
   "source": [
    "1️⃣ Before we answer this question, start by familiarizing yourself with the [**`scipy.stats.norm.pdf`**](https://docs.scipy.org/doc/scipy/reference/generated/scipy.stats.norm.html) tool: \n",
    "\n",
    "❓ Can you plot a Normal Distribution pdf with a mean and standard deviation of your choice?"
   ]
  },
  {
   "cell_type": "code",
   "execution_count": 85,
   "metadata": {},
   "outputs": [
    {
     "data": {
      "text/plain": [
       "[<matplotlib.lines.Line2D at 0x1465d4b50>]"
      ]
     },
     "execution_count": 85,
     "metadata": {},
     "output_type": "execute_result"
    },
    {
     "data": {
      "image/png": "[encoded data removed]",
      "text/plain": [
       "<Figure size 432x288 with 1 Axes>"
      ]
     },
     "metadata": {
      "needs_background": "light"
     },
     "output_type": "display_data"
    }
   ],
   "source": [
    "from scipy.stats import norm\n",
    "\n",
    "mu_example = 10\n",
    "sigma_example = 7  \n",
    "x = np.linspace(-20, 40, 100)\n",
    "plt.plot(x, norm.pdf(x, mu_example, sigma_example))"
   ]
  },
  {
   "cell_type": "markdown",
   "metadata": {},
   "source": [
    "🤗 `scipy.stats.norm.pdf` is a **convenient way to draw a Gaussian curve**.\n",
    "\n",
    "The **probability density function** (_a.k.a._ ***pdf***) of a Normal Distribution with parameters $ \\mu $ and $ \\sigma $ is defined by :\n",
    "\n",
    "$$ y = \\frac{1}{\\sigma \\sqrt{2 \\pi}} exp[-\\frac{1}{2} (\\frac{x - \\mu}{\\sigma})^2]$$\n",
    "\n",
    "😅 Without this function from Scipy, you would have to define a _Gaussian Probability Density Function_ by yourself to plot the Gaussian Curve."
   ]
  },
  {
   "cell_type": "code",
   "execution_count": null,
   "metadata": {},
   "outputs": [],
   "source": [
    "def gaussian_probability_density_function(mu,sigma, x):\n",
    "    return 1/(sigma * np.sqrt(2*(math.pi))) * np.exp(- (1/2)*((x-mu)/sigma)**2) "
   ]
  },
  {
   "cell_type": "code",
   "execution_count": null,
   "metadata": {},
   "outputs": [],
   "source": [
    "mu_example = 10\n",
    "sigma_example = 7 \n",
    "\n",
    "# start a figure\n",
    "plt.figure(figsize=(10,5))\n",
    "\n",
    "# First subplot :\n",
    "# Plotting a Gaussian distribution using Scipy Stats\n",
    "plt.subplot(2,2,1)\n",
    "plt.plot(x, norm_example.pdf(x), c = \"blue\")\n",
    "plt.title(\"Gaussian Curve drawn using Scipy Stats\");\n",
    "\n",
    "# Second subplot : \n",
    "# Plotting a Gaussian distribution using our own Python function\n",
    "plt.subplot(2,2,2)\n",
    "plt.plot(x, gaussian_probability_density_function(mu_example, sigma_example,x), c=\"pink\")\n",
    "plt.title(\"Gaussian curve drawn with a function\");\n"
   ]
  },
  {
   "cell_type": "markdown",
   "metadata": {},
   "source": [
    "2️⃣ Back to our exercise:\n",
    "\n",
    "<u>The real numbers:</u>\n",
    "\n",
    "From our Exploratory Data Analysis, we have:\n",
    "- 244 tips (global population)\n",
    "- $\\mu=3€$\n",
    "- $\\sigma=1.38€$\n",
    "\n",
    "<u>Sampling once</u>\n",
    "\n",
    "- Imagine that we draw a sample of size 100 out of the global population of dinners\n",
    "- We observe the sum of these 100 sample tips is 350€, so the average tip $\\mu_X$ is 3.5€ for this sample\n",
    "- **The operation of drawing a sample is random, therefore the average of these sampled data will also be random**\n",
    "\n",
    "<u>Distribution of samples</u>\n",
    "\n",
    "❓ Can you guess what would be the **shape** of the **<u>distribution of the means</u>** of these samples **if we were to <u>draw many other samples</u>** of the same size like this one  \n",
    "\n",
    "❓ In other words, how do you imagine:\n",
    "- its shape ?\n",
    "- its mean ? (store into a variable called **`mu_expected`**)\n",
    "- its standard deviation? (store it into a variable called **`sigma_expected`**)"
   ]
  },
  {
   "cell_type": "markdown",
   "metadata": {},
   "source": [
    "<img src='https://github.com/lewagon/data-images/blob/master/math/ctl.png?raw=true' width=1000>"
   ]
  },
  {
   "cell_type": "markdown",
   "metadata": {},
   "source": [
    "<details>\n",
    "    <summary>💡 Hint:</summary>\n",
    "\n",
    "🎉 Our sample of size $ n = 100 > 30 $ can be considered large enough to apply the Central Limit Theorem (CLT) \n",
    "    \n",
    "👉 If we were to repeat this experiment (i.e. randomly picking a sample of size 100) an infinite number of times, the distribution of sample mean**s** would become exactly a normal distribution.\n",
    "    \n",
    "🔥 **A Gaussian distribution is _FULLY_ characterized by its _mean_ and its _standard deviation_**\n",
    "    \n",
    "❓ What are these mean and standard deviation in the context of a Central Limit Theorem ❓ If you forgot about it, scroll up in your notebook! \n",
    "\n",
    "</details>"
   ]
  },
  {
   "cell_type": "markdown",
   "metadata": {},
   "source": [
    "<details>\n",
    "    <summary>🧑🏻‍🏫 Answer:</summary>\n",
    "\n",
    "- Shape = Gaussian\n",
    "- `mu_expected` = `mu`\n",
    "- `sigma_expected` = `sigma` / $ \\sqrt{n} $\n",
    "</details>"
   ]
  },
  {
   "cell_type": "markdown",
   "metadata": {},
   "source": [
    "❓ Plot this expected distribution\n",
    "- On top of it, add the datapoint representing a cumulated tip of 350€ over 100 dinners."
   ]
  },
  {
   "cell_type": "code",
   "execution_count": 95,
   "metadata": {},
   "outputs": [],
   "source": [
    "mu_expected = tips_df['tip'].mean()\n",
    "sigma_expected = tips_df['tip'].std()/10"
   ]
  },
  {
   "cell_type": "code",
   "execution_count": 87,
   "metadata": {
    "tags": [
     "challengify"
    ]
   },
   "outputs": [
    {
     "data": {
      "text/plain": [
       "[<matplotlib.lines.Line2D at 0x145b68ee0>]"
      ]
     },
     "execution_count": 87,
     "metadata": {},
     "output_type": "execute_result"
    },
    {
     "data": {
      "image/png": "[encoded data removed]",
      "text/plain": [
       "<Figure size 432x288 with 1 Axes>"
      ]
     },
     "metadata": {
      "needs_background": "light"
     },
     "output_type": "display_data"
    }
   ],
   "source": [
    "# YOUR CODE HERE\n",
    "x = np.linspace(0,7,100)\n",
    "plt.plot(x, norm.pdf(x,3,0.138))\n",
    "plt.plot([3.5,3.5],[0,1])"
   ]
  },
  {
   "cell_type": "markdown",
   "metadata": {},
   "source": [
    "👉 For this restaurant, we clearly see that 350 euros of cumulated tips over 100 dinners (average tip of 3.50 euros) seems to be is virtually impossible (this probability of this event would be close to zero).\n",
    "\n",
    "🍔 It is probably a cheap restaurant serving burgers and fries until 4 AM...\n",
    "\n",
    "We are almost at the end of the challenge !\n",
    "\n",
    "🔢 Let's denote $ \\bar{X} $ the average tip over 100 dinners \n",
    "\n",
    "* ❓ Compute numerically $ \\mathbb{P} ( \\bar{X} > 3.50 ) $ and store it in `proba_350` variable ❓\n",
    "* 📚 You will need the **`cumulative distribution function (cdf)`** from [`scipy.stats.norm`](https://docs.scipy.org/doc/scipy/reference/generated/scipy.stats.norm.html)"
   ]
  },
  {
   "cell_type": "code",
   "execution_count": 91,
   "metadata": {
    "tags": [
     "challengify"
    ]
   },
   "outputs": [
    {
     "data": {
      "text/plain": [
       "0.0001454968507480503"
      ]
     },
     "execution_count": 91,
     "metadata": {},
     "output_type": "execute_result"
    }
   ],
   "source": [
    "proba_350 = 1 - norm.cdf(3.5, 3, 0.138)\n",
    "proba_350"
   ]
  },
  {
   "cell_type": "markdown",
   "metadata": {},
   "source": [
    "❗️ If we had observed such an amount, we could have deduced with a 99.99% confidence level that the 100 dinners selected were ***not randomly sampled*** from the population of dinners."
   ]
  },
  {
   "cell_type": "markdown",
   "metadata": {},
   "source": [
    "🧪 **Test your code**"
   ]
  },
  {
   "cell_type": "code",
   "execution_count": 96,
   "metadata": {},
   "outputs": [
    {
     "name": "stdout",
     "output_type": "stream",
     "text": [
      "\u001b[1m============================= test session starts ==============================\u001b[0m\n",
      "platform darwin -- Python 3.8.12, pytest-6.2.5, py-1.11.0, pluggy-1.0.0 -- /Users/humbert/.pyenv/versions/lewagon/bin/python3\n",
      "cachedir: .pytest_cache\n",
      "rootdir: /Users/humbert/code/HumbertMonnot/data-challenges/03-Maths/02-Statistics-Probabilities/03-Central-Limit-Theorem\n",
      "plugins: anyio-3.4.0, dash-2.0.0\n",
      "\u001b[1mcollecting ... \u001b[0mcollected 4 items\n",
      "\n",
      "tests/test_probability.py::TestProbability::test_mu_expected_is_mu \u001b[32mPASSED\u001b[0m\u001b[32m [ 25%]\u001b[0m\n",
      "tests/test_probability.py::TestProbability::test_probability_is_valid \u001b[32mPASSED\u001b[0m\u001b[32m [ 50%]\u001b[0m\n",
      "tests/test_probability.py::TestProbability::test_probability_is_very_low \u001b[32mPASSED\u001b[0m\u001b[32m [ 75%]\u001b[0m\n",
      "tests/test_probability.py::TestProbability::test_sigma_expected_value \u001b[32mPASSED\u001b[0m\u001b[32m [100%]\u001b[0m\n",
      "\n",
      "\u001b[32m============================== \u001b[32m\u001b[1m4 passed\u001b[0m\u001b[32m in 0.09s\u001b[0m\u001b[32m ===============================\u001b[0m\n",
      "\n",
      "\n",
      "💯 You can commit your code:\n",
      "\n",
      "\u001b[1;32mgit\u001b[39m add tests/probability.pickle\n",
      "\n",
      "\u001b[32mgit\u001b[39m commit -m \u001b[33m'Completed probability step'\u001b[39m\n",
      "\n",
      "\u001b[32mgit\u001b[39m push origin master\n"
     ]
    }
   ],
   "source": [
    "from nbresult import ChallengeResult\n",
    "\n",
    "result = ChallengeResult('probability',\n",
    "    n=100,\n",
    "    mu_expected=mu_expected,\n",
    "    mu=mu,\n",
    "    sigma_expected=sigma_expected,\n",
    "    sigma=sigma,\n",
    "    proba=proba_350\n",
    ")\n",
    "result.write()\n",
    "print(result.check())"
   ]
  },
  {
   "cell_type": "markdown",
   "metadata": {},
   "source": [
    "## ⭐️  5) The `z-score`"
   ]
  },
  {
   "cell_type": "markdown",
   "metadata": {},
   "source": [
    "<u>**Alternative computation using z-score**</u>\n",
    "\n",
    "🤔 Imagine you didn't have access to the `SciPy` library (or even to a computer) to compute the probability density function of a custom-made Gaussian distribution numerically. Which workaround could we use to this end ?  \n",
    "\n",
    "💡 Instead of computing a Gaussian distribution with specific mean and sigma, a much more elegant way is to rephrase our problem to use the **`Standard Normal distribution`** $\\mathcal N(0,1)$, from which we could read usual values in a **`Standard Statistical table`** 👇\n",
    "\n",
    "$$ X \\sim \\mathcal N(\\mu,\\sigma) \\leftrightarrow Y =  \\frac{X - \\mu}{\\sigma} \\sim \\mathcal N(0,1) $$"
   ]
  },
  {
   "cell_type": "markdown",
   "metadata": {},
   "source": [
    "<img src='https://github.com/lewagon/data-images/blob/master/math/z-table.png?raw=true'>"
   ]
  },
  {
   "cell_type": "markdown",
   "metadata": {},
   "source": [
    "❓First, compute the [z-score](https://en.wikipedia.org/wiki/Standard_score) of your observation, and store it into a variable `z`❓\n",
    "\n",
    "As a reminder: \n",
    "* sample size $ n = 100$\n",
    "* mean $ = 3.5$ €\n",
    "\n",
    "> The **`z-score`** of a measured observation $x$ is simply the value of the observation, **measured by the number of standard deviations above or below the mean** of the underlying distribution from which the observation is derived.\n",
    "\n",
    "$$z={x-\\mu  \\over \\sigma }$$\n",
    "\n",
    "<details>\n",
    "    <summary>💡 Hint</summary>\n",
    "In our case, the value we observe is \"3.5€\", and the underlying distribution from which this observation was made is the means of samples (of size 100), which is Gaussian/normal with a mean $\\mu$ and a std $\\sigma \\over \\sqrt{100}$ according to the CLT.\n",
    "\n",
    "</details>"
   ]
  },
  {
   "cell_type": "code",
   "execution_count": 101,
   "metadata": {},
   "outputs": [
    {
     "data": {
      "text/plain": [
       "3.623188405797101"
      ]
     },
     "execution_count": 101,
     "metadata": {},
     "output_type": "execute_result"
    }
   ],
   "source": [
    "z = (3.5-3)/0.138\n",
    "z\n",
    "#(tips_df['tip']-tips_df['tip'].mean())/tips_df['tip'].std()"
   ]
  },
  {
   "cell_type": "markdown",
   "metadata": {},
   "source": [
    "❓ Use the standard table above to find the probability we are looking for"
   ]
  },
  {
   "cell_type": "markdown",
   "metadata": {
    "tags": [
     "challengify"
    ]
   },
   "source": [
    "0.00015"
   ]
  },
  {
   "cell_type": "markdown",
   "metadata": {},
   "source": [
    "❓ Double-check this probability with with `scipy.stats.norm` as done previously. Store it into a `proba_z` variable."
   ]
  },
  {
   "cell_type": "code",
   "execution_count": 103,
   "metadata": {},
   "outputs": [
    {
     "data": {
      "text/plain": [
       "0.0001454968507480503"
      ]
     },
     "execution_count": 103,
     "metadata": {},
     "output_type": "execute_result"
    }
   ],
   "source": [
    "proba_z = 1 - norm.cdf(3.5, 3, 0.138)\n",
    "proba_z"
   ]
  },
  {
   "cell_type": "markdown",
   "metadata": {},
   "source": [
    "🧪 **Test your code**"
   ]
  },
  {
   "cell_type": "code",
   "execution_count": 104,
   "metadata": {},
   "outputs": [
    {
     "name": "stdout",
     "output_type": "stream",
     "text": [
      "\u001b[1m============================= test session starts ==============================\u001b[0m\n",
      "platform darwin -- Python 3.8.12, pytest-6.2.5, py-1.11.0, pluggy-1.0.0 -- /Users/humbert/.pyenv/versions/lewagon/bin/python3\n",
      "cachedir: .pytest_cache\n",
      "rootdir: /Users/humbert/code/HumbertMonnot/data-challenges/03-Maths/02-Statistics-Probabilities/03-Central-Limit-Theorem\n",
      "plugins: anyio-3.4.0, dash-2.0.0\n",
      "\u001b[1mcollecting ... \u001b[0mcollected 3 items\n",
      "\n",
      "tests/test_zscore.py::TestZscore::test_probability_is_valid \u001b[32mPASSED\u001b[0m\u001b[32m       [ 33%]\u001b[0m\n",
      "tests/test_zscore.py::TestZscore::test_probability_is_very_low \u001b[32mPASSED\u001b[0m\u001b[32m    [ 66%]\u001b[0m\n",
      "tests/test_zscore.py::TestZscore::test_z_score_value \u001b[32mPASSED\u001b[0m\u001b[32m              [100%]\u001b[0m\n",
      "\n",
      "\u001b[32m============================== \u001b[32m\u001b[1m3 passed\u001b[0m\u001b[32m in 0.09s\u001b[0m\u001b[32m ===============================\u001b[0m\n",
      "\n",
      "\n",
      "💯 You can commit your code:\n",
      "\n",
      "\u001b[1;32mgit\u001b[39m add tests/zscore.pickle\n",
      "\n",
      "\u001b[32mgit\u001b[39m commit -m \u001b[33m'Completed zscore step'\u001b[39m\n",
      "\n",
      "\u001b[32mgit\u001b[39m push origin master\n"
     ]
    }
   ],
   "source": [
    "from nbresult import ChallengeResult\n",
    "\n",
    "result = ChallengeResult('zscore',\n",
    "    z=z,\n",
    "    proba=proba_z\n",
    ")\n",
    "result.write()\n",
    "print(result.check())"
   ]
  },
  {
   "cell_type": "markdown",
   "metadata": {},
   "source": [
    "🎉 Congratulations if you managed to go through this challenge !\n",
    "\n",
    "📆 If you couldn't reach this one, we will revisit the `Central Limit Theorem` during the `Recap session`\n",
    "\n",
    "🥇 If you are a beast, challenge yourself with the optional exercises like `Bayes Theorem`, `Markov Chains` or `Mean without outliers` !"
   ]
  }
 ],
 "metadata": {
  "kernelspec": {
   "display_name": "Python 3 (ipykernel)",
   "language": "python",
   "name": "python3"
  },
  "language_info": {
   "codemirror_mode": {
    "name": "ipython",
    "version": 3
   },
   "file_extension": ".py",
   "mimetype": "text/x-python",
   "name": "python",
   "nbconvert_exporter": "python",
   "pygments_lexer": "ipython3",
   "version": "3.8.12"
  },
  "toc": {
   "base_numbering": 1,
   "nav_menu": {},
   "number_sections": true,
   "sideBar": true,
   "skip_h1_title": false,
   "title_cell": "Table of Contents",
   "title_sidebar": "Contents",
   "toc_cell": false,
   "toc_position": {},
   "toc_section_display": true,
   "toc_window_display": false
  }
 },
 "nbformat": 4,
 "nbformat_minor": 4
}
