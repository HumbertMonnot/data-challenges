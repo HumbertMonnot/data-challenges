{
 "cells": [
  {
   "cell_type": "markdown",
   "id": "3d57577c",
   "metadata": {},
   "source": [
    "# Mean without outliers (Optional Challenge)"
   ]
  },
  {
   "cell_type": "markdown",
   "id": "1f69a4d8",
   "metadata": {},
   "source": [
    "\n",
    "\n",
    "📚 As you already know, the mean is defined by:\n",
    "\n",
    "$$ \\bar{x} = \\frac{1}{n} \\sum_{i=0}^{n} x_i = \\frac{x_1 + x_2 + ... + x_{n-1} + x_n}{n}$$\n",
    "\n",
    "⚠️ However, an outlier can wrongly influence the mean.\n",
    "\n",
    "💪 The median is a more robust measure of central tendancy.\n",
    "\n",
    "🤔 But what if we could create a function `mean_without_outliers` to compute - as the name says - the mean without outliers ?\n"
   ]
  },
  {
   "cell_type": "markdown",
   "id": "17c88c69",
   "metadata": {},
   "source": [
    "\n",
    "\n",
    "## Preliminary step: defining `outliers`\n",
    "\n",
    "This question implies a preliminary step: what is an `outlier` ?\n",
    "\n",
    "For each observation:\n",
    "\n",
    "* `option 1:` We could consider that an outlier is an observation with a **`z-score`** below -3 or above 3 for example. \n",
    "    - But it implies a strong assumption: you are assuming that your distribution is Gaussian.\n",
    "    - We could also be stricter with the z-score replacing 3-std-limit by 2, or more loose replacing the 3-std-limit by 4 or 5...\n",
    "\n",
    "* `option 2:` We could use the definition of an outlier in a **`whisker boxplot`** where an outlier is an observation that lives below `Q1 - 1.5 IQR` or above `Q3 + 1.5 IQR`\n",
    "\n"
   ]
  },
  {
   "cell_type": "code",
   "execution_count": 2,
   "id": "7bff4ccd",
   "metadata": {},
   "outputs": [],
   "source": [
    "import numpy as np\n",
    "import pandas as pd"
   ]
  },
  {
   "cell_type": "code",
   "execution_count": 3,
   "id": "6fecb4ba",
   "metadata": {},
   "outputs": [],
   "source": [
    "sample = [1, 2, 3, 4, 5, 6, 7, 8, 9, 10, 100]"
   ]
  },
  {
   "cell_type": "markdown",
   "id": "1235c0e3",
   "metadata": {},
   "source": [
    "## Outliers defined by Z-score"
   ]
  },
  {
   "cell_type": "markdown",
   "id": "db9c31b4",
   "metadata": {},
   "source": [
    "### Draft\n",
    "\n",
    "- For your sample, compute:\n",
    "    - the mean\n",
    "    - the standard deviation\n",
    "    - the z-score of each observation\n",
    "- Remove the outliers (observation with a z-score higher than your cutoff or lower than -cutoff\n",
    "- Compute the mean with the remaining elements\n",
    "\n",
    "Once you are satisfied with your steps, you can wrap these steps up into a single function in the next section of this notebook."
   ]
  },
  {
   "cell_type": "code",
   "execution_count": 9,
   "id": "bcfc7077",
   "metadata": {
    "tags": [
     "challengify"
    ]
   },
   "outputs": [],
   "source": [
    "# YOUR CODE HERE\n",
    "sample = np.array(sample)\n",
    "sample_mean = sample.mean()\n",
    "sample_std = sample.std()"
   ]
  },
  {
   "cell_type": "code",
   "execution_count": 10,
   "id": "513373c6",
   "metadata": {
    "scrolled": true
   },
   "outputs": [
    {
     "data": {
      "text/plain": [
       "array([-0.47944098, -0.44281701, -0.40619305, -0.36956909, -0.33294512,\n",
       "       -0.29632116, -0.2596972 , -0.22307323, -0.18644927, -0.14982531,\n",
       "        3.14633142])"
      ]
     },
     "execution_count": 10,
     "metadata": {},
     "output_type": "execute_result"
    }
   ],
   "source": [
    "sample_z_scores = (sample - sample_mean)/sample_std\n",
    "sample_z_scores"
   ]
  },
  {
   "cell_type": "code",
   "execution_count": 12,
   "id": "35ed9180",
   "metadata": {},
   "outputs": [
    {
     "data": {
      "text/plain": [
       "(array([0, 1, 2, 3, 4, 5, 6, 7, 8, 9]),)"
      ]
     },
     "execution_count": 12,
     "metadata": {},
     "output_type": "execute_result"
    }
   ],
   "source": [
    "np.where(abs(sample_z_scores)<3)"
   ]
  },
  {
   "cell_type": "markdown",
   "id": "5dcca6eb",
   "metadata": {},
   "source": [
    "## `mean_without_outliers_z_score`"
   ]
  },
  {
   "cell_type": "code",
   "execution_count": 15,
   "id": "1a745327",
   "metadata": {},
   "outputs": [],
   "source": [
    "def mean_without_outliers_z_score(elements):\n",
    "    ''' return the mean of of a list of elements without outliers using the z_score'''\n",
    "    return sample[np.where(abs(sample_z_scores)<3)]"
   ]
  },
  {
   "cell_type": "code",
   "execution_count": 16,
   "id": "de9391d7",
   "metadata": {},
   "outputs": [
    {
     "data": {
      "text/plain": [
       "array([ 1,  2,  3,  4,  5,  6,  7,  8,  9, 10])"
      ]
     },
     "execution_count": 16,
     "metadata": {},
     "output_type": "execute_result"
    }
   ],
   "source": [
    "mean_without_outliers_z_score(sample)"
   ]
  },
  {
   "cell_type": "markdown",
   "id": "752bf83c",
   "metadata": {},
   "source": [
    "## Outliers defined by the boxplot"
   ]
  },
  {
   "cell_type": "markdown",
   "id": "ad4018e0",
   "metadata": {},
   "source": [
    "### Draft\n",
    "\n",
    "- For your sample, compute:\n",
    "    - Q1\n",
    "    - Q3\n",
    "    - IQR\n",
    "    - the lower bound Q1 - 1.5 IQR\n",
    "    - the upper bound Q3 + 1.5 IQR\n",
    "- Remove the outliers (observations that are lower than the lower bound or greaterthan the upper bound\n",
    "- Compute the mean with the remaining elements\n",
    "\n",
    "Once you are satisfied with your steps, you can wrap these steps up into a single function in the next section of this notebook."
   ]
  },
  {
   "cell_type": "code",
   "execution_count": 19,
   "id": "666f9e51",
   "metadata": {
    "tags": [
     "challengify"
    ]
   },
   "outputs": [],
   "source": [
    "# YOUR CODE HERE\n",
    "if 0.25*len(sample)%1==0:\n",
    "    Q1 = sample[0.25*len(sample)-1]\n",
    "else :\n",
    "    Q1 = (sample[round(0.25*len(sample))]+sample[round(0.25*len(sample))-1])/2"
   ]
  },
  {
   "cell_type": "code",
   "execution_count": 21,
   "id": "b5e52a76",
   "metadata": {},
   "outputs": [],
   "source": [
    "if 0.75*len(sample)%1==0:\n",
    "    Q3 = sample[0.75*len(sample)-1]\n",
    "else :\n",
    "    Q3 = (sample[round(0.75*len(sample))]+sample[round(0.75*len(sample))-1])/2"
   ]
  },
  {
   "cell_type": "code",
   "execution_count": 23,
   "id": "4d81ce09",
   "metadata": {},
   "outputs": [],
   "source": [
    "IQR = Q3 - Q1"
   ]
  },
  {
   "cell_type": "code",
   "execution_count": 24,
   "id": "505c066b",
   "metadata": {},
   "outputs": [],
   "source": [
    "l_bound = Q1 - 1.5*IQR"
   ]
  },
  {
   "cell_type": "code",
   "execution_count": 25,
   "id": "b4832cb9",
   "metadata": {},
   "outputs": [],
   "source": [
    "u_bound = Q3 + 1.5*IQR"
   ]
  },
  {
   "cell_type": "code",
   "execution_count": 27,
   "id": "a1305ff6",
   "metadata": {},
   "outputs": [
    {
     "data": {
      "text/plain": [
       "(3.5, 8.5, 5.0, 16.0, -4.0)"
      ]
     },
     "execution_count": 27,
     "metadata": {},
     "output_type": "execute_result"
    }
   ],
   "source": [
    "Q1,Q3,IQR,u_bound,l_bound"
   ]
  },
  {
   "cell_type": "code",
   "execution_count": 29,
   "id": "56e8045a",
   "metadata": {},
   "outputs": [],
   "source": [
    "filtered = [elt for elt in sample if elt>l_bound and elt<u_bound]"
   ]
  },
  {
   "cell_type": "code",
   "execution_count": 30,
   "id": "a0a08419",
   "metadata": {},
   "outputs": [
    {
     "data": {
      "text/plain": [
       "5.5"
      ]
     },
     "execution_count": 30,
     "metadata": {},
     "output_type": "execute_result"
    }
   ],
   "source": [
    "np.mean(filtered)"
   ]
  },
  {
   "cell_type": "markdown",
   "id": "a7dacf25",
   "metadata": {},
   "source": [
    "### `mean_without_outliers_boxplot`"
   ]
  },
  {
   "cell_type": "code",
   "execution_count": 0,
   "id": "0fc30289",
   "metadata": {},
   "outputs": [],
   "source": [
    "def mean_without_outliers_boxplot(elements):\n",
    "    ''' return the mean of elements without outliers using the boxplot definition'''\n",
    "    if 0.25*len(sample)%1==0:\n",
    "        Q1 = sample[0.25*len(sample)-1]\n",
    "    else :\n",
    "        Q1 = (sample[round(0.25*len(sample))]+sample[round(0.25*len(sample))-1])/2\n",
    "    if 0.75*len(sample)%1==0:\n",
    "        Q3 = sample[0.75*len(sample)-1]\n",
    "    else :\n",
    "        Q3 = (sample[round(0.75*len(sample))]+sample[round(0.75*len(sample))-1])/2\n",
    "    IQR = Q3 - Q1\n",
    "    l_bound = Q1 - 1.5*IQR"
   ]
  },
  {
   "cell_type": "markdown",
   "id": "a1d8cb3c",
   "metadata": {},
   "source": [
    "## Comparisons\n",
    "\n",
    "*Uncomment the following cell*"
   ]
  },
  {
   "cell_type": "code",
   "execution_count": 0,
   "id": "7014f1e5",
   "metadata": {},
   "outputs": [],
   "source": [
    "# data = {'method': ['mean', 'mean filtering by z-score', 'mean filtering by outliers'], \n",
    "#         'result': [np.mean(sample),mean_without_outliers_z_score(sample), mean_without_outliers_boxplot(sample)]}\n",
    "# comparison_df = pd.DataFrame(data = data)\n",
    "# round(comparison_df,2)"
   ]
  },
  {
   "cell_type": "markdown",
   "id": "a872fdcc",
   "metadata": {},
   "source": [
    "👏 If you managed to finish the optional, congrats !\n",
    "\n",
    "💾 Do not forget to `git add/commit/push` your work !"
   ]
  },
  {
   "cell_type": "code",
   "execution_count": 0,
   "id": "29468250",
   "metadata": {},
   "outputs": [],
   "source": []
  }
 ],
 "metadata": {
  "kernelspec": {
   "display_name": "Python 3 (ipykernel)",
   "language": "python",
   "name": "python3"
  },
  "language_info": {
   "codemirror_mode": {
    "name": "ipython",
    "version": 3
   },
   "file_extension": ".py",
   "mimetype": "text/x-python",
   "name": "python",
   "nbconvert_exporter": "python",
   "pygments_lexer": "ipython3",
   "version": "3.8.12"
  },
  "toc": {
   "base_numbering": 1,
   "nav_menu": {},
   "number_sections": true,
   "sideBar": true,
   "skip_h1_title": false,
   "title_cell": "Table of Contents",
   "title_sidebar": "Contents",
   "toc_cell": false,
   "toc_position": {},
   "toc_section_display": true,
   "toc_window_display": false
  }
 },
 "nbformat": 4,
 "nbformat_minor": 5
}
