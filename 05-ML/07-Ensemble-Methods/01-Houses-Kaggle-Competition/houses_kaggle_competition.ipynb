{
 "cells": [
  {
   "cell_type": "code",
   "execution_count": 1,
   "metadata": {},
   "outputs": [],
   "source": [
    "# Use this cell to regroup all your imports\n",
    "\n",
    "import pandas as pd\n",
    "import numpy as np\n",
    "import matplotlib.pyplot as plt\n",
    "import seaborn as sns\n",
    "from sklearn import set_config; set_config(display='diagram')"
   ]
  },
  {
   "cell_type": "code",
   "execution_count": 54,
   "metadata": {},
   "outputs": [],
   "source": [
    "from sklearn.compose import make_column_selector\n",
    "from sklearn.impute import SimpleImputer\n",
    "from sklearn.preprocessing import OneHotEncoder\n",
    "from sklearn.preprocessing import MinMaxScaler"
   ]
  },
  {
   "cell_type": "code",
   "execution_count": 446,
   "metadata": {},
   "outputs": [],
   "source": [
    "from sklearn.pipeline import make_pipeline,Pipeline\n",
    "from sklearn.compose import ColumnTransformer\n",
    "import math\n",
    "from sklearn.metrics import make_scorer\n",
    "from sklearn.model_selection import cross_val_score\n",
    "from sklearn.svm import SVR\n",
    "from sklearn.ensemble import VotingClassifier\n",
    "from sklearn.linear_model import LinearRegression"
   ]
  },
  {
   "cell_type": "markdown",
   "metadata": {},
   "source": [
    "# 🏆 Le Wagon Kaggle Batch Challenge"
   ]
  },
  {
   "cell_type": "markdown",
   "metadata": {},
   "source": [
    "<img src='https://github.com/lewagon/data-images/blob/master/ML/kaggle-batch-challenge.png?raw=true' width=600>"
   ]
  },
  {
   "cell_type": "markdown",
   "metadata": {},
   "source": [
    "🏆 Welcome to your first Kaggle competition!\n",
    "\n",
    "Your objective is to **submit online an answer** to the open competition [House Prices - Advanced Regression Techniques](https://www.kaggle.com/c/house-prices-advanced-regression-techniques/data)\n",
    "\n",
    "- Fortunately, you have already come across the house dataset in the bootcamp!\n",
    "- You will be semi-guided up to a **baseline model**\n",
    "- Only after will you be free to improve & refine your models\n",
    "- We will approach the problem through **pipelines** (the best practice to take!)\n",
    "\n",
    "A word on Kaggle:\n",
    "- Kaggle will rank your submission amongst all participants!\n",
    "- But don't worry, everyone is publicly removed from the leaderboard after 2 months\n",
    "- You can make to 10 submissions per day"
   ]
  },
  {
   "cell_type": "markdown",
   "metadata": {},
   "source": [
    "🧹 Today is the perfect day to practice keeping your long notebook **tidy** 🧹\n",
    "- \"Collapse all headings\" from the \"command palette\" (Cmd + Shift + P)\n",
    "- Stay idempotent (restart & run all should never crash)\n",
    "- Name and delete variables carefully"
   ]
  },
  {
   "cell_type": "markdown",
   "metadata": {},
   "source": [
    "## Setup Kaggle\n",
    "\n",
    "👉 Create an account on Kaggle if you want to participate in the competition. \n",
    "\n",
    "👉 Join the [House Prices Challenge](https://www.kaggle.com/c/house-prices-advanced-regression-techniques/data) \n",
    "\n",
    "👉 Write down your Kaggle `username` the [result spreadsheet here](https://docs.google.com/spreadsheets/d/1ZEBKwa_k1Ytb0WCOh-Nopq3eaezwBNu1SAqKXEXRguc/edit#gid=0) (pick the correct batch!)\n",
    "\n",
    "**Your whole class will compete as a group against the team of TAs**"
   ]
  },
  {
   "cell_type": "markdown",
   "metadata": {},
   "source": [
    "## Load"
   ]
  },
  {
   "cell_type": "markdown",
   "metadata": {},
   "source": [
    "We have already downloaded for you everything from Kaggle into your current notebook folder:\n",
    "- `train.csv` is your (1460 * 81) training set containing `X` and `y`\n",
    "- `test.csv` is your (1459 * 80) testing set without the associated target `y` 😈\n",
    "- `sample_submission.csv` describing the format required to submit your answer\n",
    "- `data_description.txt` describing all columns\n",
    "\n",
    "Your goal is to predict the `y_pred` missing from your test set and submit it to discover your test_score & ranking"
   ]
  },
  {
   "cell_type": "markdown",
   "metadata": {},
   "source": [
    "❓ Load the train dataset in a DataFrame `data` and create your `X` and `y`. Inspect their shape"
   ]
  },
  {
   "cell_type": "code",
   "execution_count": 6,
   "metadata": {},
   "outputs": [
    {
     "name": "stdout",
     "output_type": "stream",
     "text": [
      "Makefile                        houses_kaggle_competition.ipynb\r\n",
      "README.md                       \u001b[1m\u001b[36mtests\u001b[m\u001b[m\r\n",
      "\u001b[1m\u001b[36mdata\u001b[m\u001b[m\r\n"
     ]
    }
   ],
   "source": [
    "!ls"
   ]
  },
  {
   "cell_type": "code",
   "execution_count": 73,
   "metadata": {
    "tags": [
     "challengify"
    ]
   },
   "outputs": [
    {
     "data": {
      "text/html": [
       "<div>\n",
       "<style scoped>\n",
       "    .dataframe tbody tr th:only-of-type {\n",
       "        vertical-align: middle;\n",
       "    }\n",
       "\n",
       "    .dataframe tbody tr th {\n",
       "        vertical-align: top;\n",
       "    }\n",
       "\n",
       "    .dataframe thead th {\n",
       "        text-align: right;\n",
       "    }\n",
       "</style>\n",
       "<table border=\"1\" class=\"dataframe\">\n",
       "  <thead>\n",
       "    <tr style=\"text-align: right;\">\n",
       "      <th></th>\n",
       "      <th>MSSubClass</th>\n",
       "      <th>MSZoning</th>\n",
       "      <th>LotFrontage</th>\n",
       "      <th>LotArea</th>\n",
       "      <th>Street</th>\n",
       "      <th>Alley</th>\n",
       "      <th>LotShape</th>\n",
       "      <th>LandContour</th>\n",
       "      <th>Utilities</th>\n",
       "      <th>LotConfig</th>\n",
       "      <th>...</th>\n",
       "      <th>ScreenPorch</th>\n",
       "      <th>PoolArea</th>\n",
       "      <th>PoolQC</th>\n",
       "      <th>Fence</th>\n",
       "      <th>MiscFeature</th>\n",
       "      <th>MiscVal</th>\n",
       "      <th>MoSold</th>\n",
       "      <th>YrSold</th>\n",
       "      <th>SaleType</th>\n",
       "      <th>SaleCondition</th>\n",
       "    </tr>\n",
       "  </thead>\n",
       "  <tbody>\n",
       "    <tr>\n",
       "      <th>0</th>\n",
       "      <td>60</td>\n",
       "      <td>RL</td>\n",
       "      <td>65.0</td>\n",
       "      <td>8450</td>\n",
       "      <td>Pave</td>\n",
       "      <td>NaN</td>\n",
       "      <td>Reg</td>\n",
       "      <td>Lvl</td>\n",
       "      <td>AllPub</td>\n",
       "      <td>Inside</td>\n",
       "      <td>...</td>\n",
       "      <td>0</td>\n",
       "      <td>0</td>\n",
       "      <td>NaN</td>\n",
       "      <td>NaN</td>\n",
       "      <td>NaN</td>\n",
       "      <td>0</td>\n",
       "      <td>2</td>\n",
       "      <td>2008</td>\n",
       "      <td>WD</td>\n",
       "      <td>Normal</td>\n",
       "    </tr>\n",
       "    <tr>\n",
       "      <th>1</th>\n",
       "      <td>20</td>\n",
       "      <td>RL</td>\n",
       "      <td>80.0</td>\n",
       "      <td>9600</td>\n",
       "      <td>Pave</td>\n",
       "      <td>NaN</td>\n",
       "      <td>Reg</td>\n",
       "      <td>Lvl</td>\n",
       "      <td>AllPub</td>\n",
       "      <td>FR2</td>\n",
       "      <td>...</td>\n",
       "      <td>0</td>\n",
       "      <td>0</td>\n",
       "      <td>NaN</td>\n",
       "      <td>NaN</td>\n",
       "      <td>NaN</td>\n",
       "      <td>0</td>\n",
       "      <td>5</td>\n",
       "      <td>2007</td>\n",
       "      <td>WD</td>\n",
       "      <td>Normal</td>\n",
       "    </tr>\n",
       "    <tr>\n",
       "      <th>2</th>\n",
       "      <td>60</td>\n",
       "      <td>RL</td>\n",
       "      <td>68.0</td>\n",
       "      <td>11250</td>\n",
       "      <td>Pave</td>\n",
       "      <td>NaN</td>\n",
       "      <td>IR1</td>\n",
       "      <td>Lvl</td>\n",
       "      <td>AllPub</td>\n",
       "      <td>Inside</td>\n",
       "      <td>...</td>\n",
       "      <td>0</td>\n",
       "      <td>0</td>\n",
       "      <td>NaN</td>\n",
       "      <td>NaN</td>\n",
       "      <td>NaN</td>\n",
       "      <td>0</td>\n",
       "      <td>9</td>\n",
       "      <td>2008</td>\n",
       "      <td>WD</td>\n",
       "      <td>Normal</td>\n",
       "    </tr>\n",
       "    <tr>\n",
       "      <th>3</th>\n",
       "      <td>70</td>\n",
       "      <td>RL</td>\n",
       "      <td>60.0</td>\n",
       "      <td>9550</td>\n",
       "      <td>Pave</td>\n",
       "      <td>NaN</td>\n",
       "      <td>IR1</td>\n",
       "      <td>Lvl</td>\n",
       "      <td>AllPub</td>\n",
       "      <td>Corner</td>\n",
       "      <td>...</td>\n",
       "      <td>0</td>\n",
       "      <td>0</td>\n",
       "      <td>NaN</td>\n",
       "      <td>NaN</td>\n",
       "      <td>NaN</td>\n",
       "      <td>0</td>\n",
       "      <td>2</td>\n",
       "      <td>2006</td>\n",
       "      <td>WD</td>\n",
       "      <td>Abnorml</td>\n",
       "    </tr>\n",
       "    <tr>\n",
       "      <th>4</th>\n",
       "      <td>60</td>\n",
       "      <td>RL</td>\n",
       "      <td>84.0</td>\n",
       "      <td>14260</td>\n",
       "      <td>Pave</td>\n",
       "      <td>NaN</td>\n",
       "      <td>IR1</td>\n",
       "      <td>Lvl</td>\n",
       "      <td>AllPub</td>\n",
       "      <td>FR2</td>\n",
       "      <td>...</td>\n",
       "      <td>0</td>\n",
       "      <td>0</td>\n",
       "      <td>NaN</td>\n",
       "      <td>NaN</td>\n",
       "      <td>NaN</td>\n",
       "      <td>0</td>\n",
       "      <td>12</td>\n",
       "      <td>2008</td>\n",
       "      <td>WD</td>\n",
       "      <td>Normal</td>\n",
       "    </tr>\n",
       "  </tbody>\n",
       "</table>\n",
       "<p>5 rows × 79 columns</p>\n",
       "</div>"
      ],
      "text/plain": [
       "   MSSubClass MSZoning  LotFrontage  LotArea Street Alley LotShape  \\\n",
       "0          60       RL         65.0     8450   Pave   NaN      Reg   \n",
       "1          20       RL         80.0     9600   Pave   NaN      Reg   \n",
       "2          60       RL         68.0    11250   Pave   NaN      IR1   \n",
       "3          70       RL         60.0     9550   Pave   NaN      IR1   \n",
       "4          60       RL         84.0    14260   Pave   NaN      IR1   \n",
       "\n",
       "  LandContour Utilities LotConfig  ... ScreenPorch PoolArea PoolQC Fence  \\\n",
       "0         Lvl    AllPub    Inside  ...           0        0    NaN   NaN   \n",
       "1         Lvl    AllPub       FR2  ...           0        0    NaN   NaN   \n",
       "2         Lvl    AllPub    Inside  ...           0        0    NaN   NaN   \n",
       "3         Lvl    AllPub    Corner  ...           0        0    NaN   NaN   \n",
       "4         Lvl    AllPub       FR2  ...           0        0    NaN   NaN   \n",
       "\n",
       "  MiscFeature MiscVal  MoSold  YrSold  SaleType  SaleCondition  \n",
       "0         NaN       0       2    2008        WD         Normal  \n",
       "1         NaN       0       5    2007        WD         Normal  \n",
       "2         NaN       0       9    2008        WD         Normal  \n",
       "3         NaN       0       2    2006        WD        Abnorml  \n",
       "4         NaN       0      12    2008        WD         Normal  \n",
       "\n",
       "[5 rows x 79 columns]"
      ]
     },
     "execution_count": 73,
     "metadata": {},
     "output_type": "execute_result"
    }
   ],
   "source": [
    "data = pd.read_csv(\"data/train.csv\")\n",
    "data = data.drop(columns = 'Id')\n",
    "y = data['SalePrice']\n",
    "X = data.drop(columns = 'SalePrice')\n",
    "X.head()"
   ]
  },
  {
   "cell_type": "markdown",
   "metadata": {},
   "source": [
    "# 🐣 1. BASELINE"
   ]
  },
  {
   "cell_type": "markdown",
   "metadata": {},
   "source": [
    "## 1.1 Initial feature overview"
   ]
  },
  {
   "cell_type": "markdown",
   "metadata": {},
   "source": [
    "80 features is too much to deal with one-by-one for a first baseline pipeline! Let's treat them solely based on their `dtype`:\n",
    "\n",
    "❓ How many numerical features vs. categorical features do we have? "
   ]
  },
  {
   "cell_type": "code",
   "execution_count": 34,
   "metadata": {
    "tags": [
     "challengify"
    ]
   },
   "outputs": [],
   "source": [
    "cat_col = make_column_selector(dtype_include=['object'])\n",
    "X_cat = X[cat_col]"
   ]
  },
  {
   "cell_type": "markdown",
   "metadata": {},
   "source": [
    "❓ Store the Series `feat_categorical_nunique` containing the number of **unique values** for each categorical feature in our training set. How many unique categories are there in total ?"
   ]
  },
  {
   "cell_type": "code",
   "execution_count": 41,
   "metadata": {
    "tags": [
     "challengify"
    ]
   },
   "outputs": [
    {
     "data": {
      "text/plain": [
       "MSZoning          5\n",
       "Street            2\n",
       "Alley             2\n",
       "LotShape          4\n",
       "LandContour       4\n",
       "Utilities         2\n",
       "LotConfig         5\n",
       "LandSlope         3\n",
       "Neighborhood     25\n",
       "Condition1        9\n",
       "Condition2        8\n",
       "BldgType          5\n",
       "HouseStyle        8\n",
       "RoofStyle         6\n",
       "RoofMatl          8\n",
       "Exterior1st      15\n",
       "Exterior2nd      16\n",
       "MasVnrType        4\n",
       "ExterQual         4\n",
       "ExterCond         5\n",
       "Foundation        6\n",
       "BsmtQual          4\n",
       "BsmtCond          4\n",
       "BsmtExposure      4\n",
       "BsmtFinType1      6\n",
       "BsmtFinType2      6\n",
       "Heating           6\n",
       "HeatingQC         5\n",
       "CentralAir        2\n",
       "Electrical        5\n",
       "KitchenQual       4\n",
       "Functional        7\n",
       "FireplaceQu       5\n",
       "GarageType        6\n",
       "GarageFinish      3\n",
       "GarageQual        5\n",
       "GarageCond        5\n",
       "PavedDrive        3\n",
       "PoolQC            3\n",
       "Fence             4\n",
       "MiscFeature       4\n",
       "SaleType          9\n",
       "SaleCondition     6\n",
       "dtype: int64"
      ]
     },
     "execution_count": 41,
     "metadata": {},
     "output_type": "execute_result"
    }
   ],
   "source": [
    "feat_categorical_nunique = {col:X[col].nunique() for col in X_cat}\n",
    "feat_categorical_nunique = pd.Series(feat_categorical_nunique)\n",
    "feat_categorical_nunique"
   ]
  },
  {
   "cell_type": "markdown",
   "metadata": {},
   "source": [
    "🤔 If we were to `OneHotEncode` all categorical features, our feature matrix `X_preproc` would become pretty big and spare, with almost 300 (highly correlated) features for only 1400 observations. Ideally, we should aim at feeding our model with ~50 features max (📚 Read this [rule of thumb](https://datascience.stackexchange.com/a/11480/98300))"
   ]
  },
  {
   "cell_type": "markdown",
   "metadata": {},
   "source": [
    "We know 2 main strategies to reduce the number of categorical features post-preprocessing:\n",
    "- **[Remove](https://scikit-learn.org/stable/modules/classes.html#module-sklearn.feature_selection)** features that bring too little explanation to our model. This may require statistical analysis of feature importance \n",
    "- **[Ordinally encode](https://scikit-learn.org/stable/modules/generated/sklearn.preprocessing.OrdinalEncoder.html)** (instead of one-hot-encode) categorical features into integers. However this forces a notion of \"order\" (1>2>3...) that can be detrimental if not set properly!"
   ]
  },
  {
   "cell_type": "markdown",
   "metadata": {},
   "source": [
    "❓ Plot the **histogram** of number of unique value per categorical feature. Do you see some quick wins?"
   ]
  },
  {
   "cell_type": "code",
   "execution_count": 68,
   "metadata": {
    "tags": [
     "challengify"
    ]
   },
   "outputs": [
    {
     "data": {
      "text/plain": [
       "<AxesSubplot:>"
      ]
     },
     "execution_count": 68,
     "metadata": {},
     "output_type": "execute_result"
    },
    {
     "data": {
      "image/png": "[encoded data removed]",
      "text/plain": [
       "<Figure size 432x288 with 1 Axes>"
      ]
     },
     "metadata": {
      "needs_background": "light"
     },
     "output_type": "display_data"
    }
   ],
   "source": [
    "feat_categorical_nunique.hist(bins=25)"
   ]
  },
  {
   "cell_type": "markdown",
   "metadata": {},
   "source": [
    "💡 As a starter, what about simply **removing** all features that have **7 unique values or more**, and one-hot-encode every others? Let's keep ordinal encoding and statistical feature selection for the next iteration of our pipeline.\n",
    "\n",
    "❓ Store features names to OHE in a list `feat_categorical_small` below. How many features will be OHE?"
   ]
  },
  {
   "cell_type": "code",
   "execution_count": 69,
   "metadata": {
    "tags": [
     "challengify"
    ]
   },
   "outputs": [
    {
     "data": {
      "text/plain": [
       "147"
      ]
     },
     "execution_count": 69,
     "metadata": {},
     "output_type": "execute_result"
    }
   ],
   "source": [
    "feat_categorical_small = feat_categorical_nunique[feat_categorical_nunique<7]\n",
    "feat_categorical_small.sum()"
   ]
  },
  {
   "cell_type": "code",
   "execution_count": 70,
   "metadata": {
    "tags": [
     "challengify"
    ]
   },
   "outputs": [],
   "source": [
    "# YOUR CODE HERE"
   ]
  },
  {
   "cell_type": "markdown",
   "metadata": {},
   "source": [
    "🧪 Test your code below (and clear the cell once it passed)"
   ]
  },
  {
   "cell_type": "code",
   "execution_count": 71,
   "metadata": {},
   "outputs": [
    {
     "name": "stdout",
     "output_type": "stream",
     "text": [
      "\u001b[1m============================= test session starts ==============================\u001b[0m\n",
      "platform darwin -- Python 3.8.12, pytest-6.2.5, py-1.11.0, pluggy-1.0.0 -- /Users/humbert/.pyenv/versions/lewagon/bin/python3\n",
      "cachedir: .pytest_cache\n",
      "rootdir: /Users/humbert/code/HumbertMonnot/data-challenges/05-ML/07-Ensemble-Methods/01-Houses-Kaggle-Competition\n",
      "plugins: anyio-3.4.0, dash-2.0.0\n",
      "\u001b[1mcollecting ... \u001b[0mcollected 1 item\n",
      "\n",
      "tests/test_features_overview.py::TestFeaturesOverview::test_feat_categorical_small \u001b[32mPASSED\u001b[0m\u001b[32m [100%]\u001b[0m\n",
      "\n",
      "\u001b[32m============================== \u001b[32m\u001b[1m1 passed\u001b[0m\u001b[32m in 0.01s\u001b[0m\u001b[32m ===============================\u001b[0m\n",
      "\n",
      "\n",
      "💯 You can commit your code:\n",
      "\n",
      "\u001b[1;32mgit\u001b[39m add tests/features_overview.pickle\n",
      "\n",
      "\u001b[32mgit\u001b[39m commit -m \u001b[33m'Completed features_overview step'\u001b[39m\n",
      "\n",
      "\u001b[32mgit\u001b[39m push origin master\n"
     ]
    }
   ],
   "source": [
    "from nbresult import ChallengeResult\n",
    "result = ChallengeResult('features_overview',\n",
    "    n=len(feat_categorical_small))\n",
    "result.write(); print(result.check())"
   ]
  },
  {
   "cell_type": "markdown",
   "metadata": {},
   "source": [
    "## 1.2 Baseline pipe"
   ]
  },
  {
   "cell_type": "markdown",
   "metadata": {},
   "source": [
    "### a) Preprocessing"
   ]
  },
  {
   "cell_type": "markdown",
   "metadata": {},
   "source": [
    "❓ Let's code the basic preprocessing pipeline described below. Save it under `preproc_baseline`.\n",
    "\n",
    "For categorical features\n",
    "- Simple-Impute with most frequent values\n",
    "- One-Hot-Encode features that have less than 7 unique values to start with\n",
    "- Drop all others features\n",
    "\n",
    "\n",
    "As for numerical features\n",
    "- Simple-Impute with strategy 'mean'\n",
    "- Min-Max Scale \n",
    "\n",
    "\n",
    "<details>\n",
    "    <summary>ℹ️ Pro tips</summary>\n",
    "\n",
    "If you are confident, you can try sklearn's shorter syntax `make_pipeline` or `make_column_transformer` instead of the longer syntax `Pipeline` or `ColumnTransformer` if you want to avoid giving names manually to every steps.\n",
    "</details>"
   ]
  },
  {
   "cell_type": "code",
   "execution_count": 86,
   "metadata": {
    "tags": [
     "challengify"
    ]
   },
   "outputs": [],
   "source": [
    "num_col = make_column_selector(dtype_include=['float64', 'int64'])\n",
    "\n",
    "cat_pipe = make_pipeline(SimpleImputer(strategy='most_frequent'),\n",
    "                        OneHotEncoder(sparse=False, handle_unknown='ignore'))\n",
    "num_pipe = make_pipeline(SimpleImputer(strategy='mean'),\n",
    "                        MinMaxScaler())\n",
    "preproc_baseline = ColumnTransformer([\n",
    "    (\"cat\",cat_pipe,feat_categorical_small.index),\n",
    "    (\"num\",num_pipe, num_col)\n",
    "])"
   ]
  },
  {
   "cell_type": "markdown",
   "metadata": {},
   "source": [
    "❓ Look at the **shape** of your preprocessed dataframe."
   ]
  },
  {
   "cell_type": "code",
   "execution_count": 87,
   "metadata": {
    "tags": [
     "challengify"
    ]
   },
   "outputs": [],
   "source": [
    "shape_preproc_baseline = preproc_baseline.fit_transform(X).shape"
   ]
  },
  {
   "cell_type": "markdown",
   "metadata": {},
   "source": [
    "🧪 Test your code below"
   ]
  },
  {
   "cell_type": "code",
   "execution_count": 88,
   "metadata": {},
   "outputs": [
    {
     "name": "stdout",
     "output_type": "stream",
     "text": [
      "\u001b[1m============================= test session starts ==============================\u001b[0m\n",
      "platform darwin -- Python 3.8.12, pytest-6.2.5, py-1.11.0, pluggy-1.0.0 -- /Users/humbert/.pyenv/versions/lewagon/bin/python3\n",
      "cachedir: .pytest_cache\n",
      "rootdir: /Users/humbert/code/HumbertMonnot/data-challenges/05-ML/07-Ensemble-Methods/01-Houses-Kaggle-Competition\n",
      "plugins: anyio-3.4.0, dash-2.0.0\n",
      "\u001b[1mcollecting ... \u001b[0mcollected 1 item\n",
      "\n",
      "tests/test_preproc_baseline.py::TestPreprocBaseline::test_shape \u001b[32mPASSED\u001b[0m\u001b[32m   [100%]\u001b[0m\n",
      "\n",
      "\u001b[32m============================== \u001b[32m\u001b[1m1 passed\u001b[0m\u001b[32m in 0.02s\u001b[0m\u001b[32m ===============================\u001b[0m\n",
      "\n",
      "\n",
      "💯 You can commit your code:\n",
      "\n",
      "\u001b[1;32mgit\u001b[39m add tests/preproc_baseline.pickle\n",
      "\n",
      "\u001b[32mgit\u001b[39m commit -m \u001b[33m'Completed preproc_baseline step'\u001b[39m\n",
      "\n",
      "\u001b[32mgit\u001b[39m push origin master\n"
     ]
    }
   ],
   "source": [
    "from nbresult import ChallengeResult\n",
    "result = ChallengeResult('preproc_baseline',\n",
    "    shape=shape_preproc_baseline)\n",
    "result.write()\n",
    "print(result.check())"
   ]
  },
  {
   "cell_type": "markdown",
   "metadata": {},
   "source": [
    "### b) Add estimator"
   ]
  },
  {
   "cell_type": "markdown",
   "metadata": {},
   "source": [
    "❓ Add a simple Decision Tree model to your `preproc_baseline` and store it to `pipe_baseline` variable."
   ]
  },
  {
   "cell_type": "code",
   "execution_count": 89,
   "metadata": {
    "tags": [
     "challengify"
    ]
   },
   "outputs": [],
   "source": [
    "from sklearn.tree import DecisionTreeClassifier, DecisionTreeRegressor\n",
    "\n",
    "tree_rgs = DecisionTreeRegressor(max_depth=5)\n",
    "\n",
    "pipe_baseline = make_pipeline(preproc_baseline, tree_rgs)"
   ]
  },
  {
   "cell_type": "markdown",
   "metadata": {},
   "source": [
    "### c) Cross-Validate"
   ]
  },
  {
   "cell_type": "markdown",
   "metadata": {},
   "source": [
    "❓ Read the Kaggle [contest evaluation rules](https://www.kaggle.com/c/house-prices-advanced-regression-techniques/overview/evaluation) \n",
    "- Which performance metric do you need? Is it readily available in sklearn?\n",
    "- We will need to create our custom `sklearn.metrics.scorer` object so as to pass to any cross-validation or grid search as below\n",
    "\n",
    "\n",
    "👉 Create a scorer called `rmsle` using [`make_scorer`](https://scikit-learn.org/stable/modules/generated/sklearn.metrics.make_scorer.html) that can be passed as a value for the `scoring` kwarg as below:\n",
    "```python\n",
    "cross_val_score(pipe_baseline, X, y, cv=5, scoring=rmsle)\n",
    "```\n",
    "👉 Create also the negative version `rmsle_neg` which is best when _maximized_. This will come handy later as `GridSearchCV` always tries to _maximize_ a score\n",
    "```python\n",
    "GridSearchCV(pipe_baseline, param_grid=..., cv=5, scoring=rmse_neg)\n",
    "```"
   ]
  },
  {
   "cell_type": "markdown",
   "metadata": {},
   "source": [
    "$$\\text{RMSLE}(y, \\hat{y}) = \\sqrt{\\frac{1}{n_\\text{samples}} \\sum_{i=0}^{n_\\text{samples} - 1} (\\log_e (1 + y_i) - \\log_e (1 + \\hat{y}_i) )^2.}$$"
   ]
  },
  {
   "cell_type": "code",
   "execution_count": 136,
   "metadata": {
    "tags": [
     "challengify"
    ]
   },
   "outputs": [],
   "source": [
    "def rmsle_f(y,y_pred,**kwargs):\n",
    "    log_true = np.log(1+y)\n",
    "    log_pred = np.log(1+y_pred)\n",
    "    sigma = ((log_true-log_pred)**2).sum()\n",
    "    return math.sqrt(sigma/len(y))\n",
    "\n",
    "def rmsle_f_inv(y,y_pred,**kwargs):\n",
    "    return - rmsle_f(y,y_pred,**kwargs)\n",
    "\n",
    "rmsle = make_scorer(rmsle_f,)\n",
    "rmsle_neg = make_scorer(rmsle_f_inv)"
   ]
  },
  {
   "cell_type": "markdown",
   "metadata": {},
   "source": [
    "❓5-fold cross_validate your `pipe_baseline` using this metric to get a first glance at your baseline perf.    \n",
    "\n",
    "Store your mean score as `score_baseline`"
   ]
  },
  {
   "cell_type": "code",
   "execution_count": 114,
   "metadata": {
    "tags": [
     "challengify"
    ]
   },
   "outputs": [
    {
     "data": {
      "text/plain": [
       "0.20411695584786332"
      ]
     },
     "execution_count": 114,
     "metadata": {},
     "output_type": "execute_result"
    }
   ],
   "source": [
    "score_baseline = cross_val_score(pipe_baseline, X, y, scoring = rmsle).mean()\n",
    "score_baseline"
   ]
  },
  {
   "cell_type": "markdown",
   "metadata": {},
   "source": [
    "### d) Predict baseline"
   ]
  },
  {
   "cell_type": "markdown",
   "metadata": {},
   "source": [
    "❓ Predict `y_pred_baseline` from the Kaggle `test.csv` dataset you stored in the `data` folder."
   ]
  },
  {
   "cell_type": "code",
   "execution_count": 102,
   "metadata": {
    "tags": [
     "challengify"
    ]
   },
   "outputs": [
    {
     "data": {
      "text/html": [
       "<div>\n",
       "<style scoped>\n",
       "    .dataframe tbody tr th:only-of-type {\n",
       "        vertical-align: middle;\n",
       "    }\n",
       "\n",
       "    .dataframe tbody tr th {\n",
       "        vertical-align: top;\n",
       "    }\n",
       "\n",
       "    .dataframe thead th {\n",
       "        text-align: right;\n",
       "    }\n",
       "</style>\n",
       "<table border=\"1\" class=\"dataframe\">\n",
       "  <thead>\n",
       "    <tr style=\"text-align: right;\">\n",
       "      <th></th>\n",
       "      <th>Id</th>\n",
       "      <th>MSSubClass</th>\n",
       "      <th>MSZoning</th>\n",
       "      <th>LotFrontage</th>\n",
       "      <th>LotArea</th>\n",
       "      <th>Street</th>\n",
       "      <th>Alley</th>\n",
       "      <th>LotShape</th>\n",
       "      <th>LandContour</th>\n",
       "      <th>Utilities</th>\n",
       "      <th>...</th>\n",
       "      <th>ScreenPorch</th>\n",
       "      <th>PoolArea</th>\n",
       "      <th>PoolQC</th>\n",
       "      <th>Fence</th>\n",
       "      <th>MiscFeature</th>\n",
       "      <th>MiscVal</th>\n",
       "      <th>MoSold</th>\n",
       "      <th>YrSold</th>\n",
       "      <th>SaleType</th>\n",
       "      <th>SaleCondition</th>\n",
       "    </tr>\n",
       "  </thead>\n",
       "  <tbody>\n",
       "    <tr>\n",
       "      <th>0</th>\n",
       "      <td>1461</td>\n",
       "      <td>20</td>\n",
       "      <td>RH</td>\n",
       "      <td>80.0</td>\n",
       "      <td>11622</td>\n",
       "      <td>Pave</td>\n",
       "      <td>NaN</td>\n",
       "      <td>Reg</td>\n",
       "      <td>Lvl</td>\n",
       "      <td>AllPub</td>\n",
       "      <td>...</td>\n",
       "      <td>120</td>\n",
       "      <td>0</td>\n",
       "      <td>NaN</td>\n",
       "      <td>MnPrv</td>\n",
       "      <td>NaN</td>\n",
       "      <td>0</td>\n",
       "      <td>6</td>\n",
       "      <td>2010</td>\n",
       "      <td>WD</td>\n",
       "      <td>Normal</td>\n",
       "    </tr>\n",
       "    <tr>\n",
       "      <th>1</th>\n",
       "      <td>1462</td>\n",
       "      <td>20</td>\n",
       "      <td>RL</td>\n",
       "      <td>81.0</td>\n",
       "      <td>14267</td>\n",
       "      <td>Pave</td>\n",
       "      <td>NaN</td>\n",
       "      <td>IR1</td>\n",
       "      <td>Lvl</td>\n",
       "      <td>AllPub</td>\n",
       "      <td>...</td>\n",
       "      <td>0</td>\n",
       "      <td>0</td>\n",
       "      <td>NaN</td>\n",
       "      <td>NaN</td>\n",
       "      <td>Gar2</td>\n",
       "      <td>12500</td>\n",
       "      <td>6</td>\n",
       "      <td>2010</td>\n",
       "      <td>WD</td>\n",
       "      <td>Normal</td>\n",
       "    </tr>\n",
       "    <tr>\n",
       "      <th>2</th>\n",
       "      <td>1463</td>\n",
       "      <td>60</td>\n",
       "      <td>RL</td>\n",
       "      <td>74.0</td>\n",
       "      <td>13830</td>\n",
       "      <td>Pave</td>\n",
       "      <td>NaN</td>\n",
       "      <td>IR1</td>\n",
       "      <td>Lvl</td>\n",
       "      <td>AllPub</td>\n",
       "      <td>...</td>\n",
       "      <td>0</td>\n",
       "      <td>0</td>\n",
       "      <td>NaN</td>\n",
       "      <td>MnPrv</td>\n",
       "      <td>NaN</td>\n",
       "      <td>0</td>\n",
       "      <td>3</td>\n",
       "      <td>2010</td>\n",
       "      <td>WD</td>\n",
       "      <td>Normal</td>\n",
       "    </tr>\n",
       "    <tr>\n",
       "      <th>3</th>\n",
       "      <td>1464</td>\n",
       "      <td>60</td>\n",
       "      <td>RL</td>\n",
       "      <td>78.0</td>\n",
       "      <td>9978</td>\n",
       "      <td>Pave</td>\n",
       "      <td>NaN</td>\n",
       "      <td>IR1</td>\n",
       "      <td>Lvl</td>\n",
       "      <td>AllPub</td>\n",
       "      <td>...</td>\n",
       "      <td>0</td>\n",
       "      <td>0</td>\n",
       "      <td>NaN</td>\n",
       "      <td>NaN</td>\n",
       "      <td>NaN</td>\n",
       "      <td>0</td>\n",
       "      <td>6</td>\n",
       "      <td>2010</td>\n",
       "      <td>WD</td>\n",
       "      <td>Normal</td>\n",
       "    </tr>\n",
       "    <tr>\n",
       "      <th>4</th>\n",
       "      <td>1465</td>\n",
       "      <td>120</td>\n",
       "      <td>RL</td>\n",
       "      <td>43.0</td>\n",
       "      <td>5005</td>\n",
       "      <td>Pave</td>\n",
       "      <td>NaN</td>\n",
       "      <td>IR1</td>\n",
       "      <td>HLS</td>\n",
       "      <td>AllPub</td>\n",
       "      <td>...</td>\n",
       "      <td>144</td>\n",
       "      <td>0</td>\n",
       "      <td>NaN</td>\n",
       "      <td>NaN</td>\n",
       "      <td>NaN</td>\n",
       "      <td>0</td>\n",
       "      <td>1</td>\n",
       "      <td>2010</td>\n",
       "      <td>WD</td>\n",
       "      <td>Normal</td>\n",
       "    </tr>\n",
       "  </tbody>\n",
       "</table>\n",
       "<p>5 rows × 80 columns</p>\n",
       "</div>"
      ],
      "text/plain": [
       "     Id  MSSubClass MSZoning  LotFrontage  LotArea Street Alley LotShape  \\\n",
       "0  1461          20       RH         80.0    11622   Pave   NaN      Reg   \n",
       "1  1462          20       RL         81.0    14267   Pave   NaN      IR1   \n",
       "2  1463          60       RL         74.0    13830   Pave   NaN      IR1   \n",
       "3  1464          60       RL         78.0     9978   Pave   NaN      IR1   \n",
       "4  1465         120       RL         43.0     5005   Pave   NaN      IR1   \n",
       "\n",
       "  LandContour Utilities  ... ScreenPorch PoolArea PoolQC  Fence MiscFeature  \\\n",
       "0         Lvl    AllPub  ...         120        0    NaN  MnPrv         NaN   \n",
       "1         Lvl    AllPub  ...           0        0    NaN    NaN        Gar2   \n",
       "2         Lvl    AllPub  ...           0        0    NaN  MnPrv         NaN   \n",
       "3         Lvl    AllPub  ...           0        0    NaN    NaN         NaN   \n",
       "4         HLS    AllPub  ...         144        0    NaN    NaN         NaN   \n",
       "\n",
       "  MiscVal MoSold  YrSold  SaleType  SaleCondition  \n",
       "0       0      6    2010        WD         Normal  \n",
       "1   12500      6    2010        WD         Normal  \n",
       "2       0      3    2010        WD         Normal  \n",
       "3       0      6    2010        WD         Normal  \n",
       "4       0      1    2010        WD         Normal  \n",
       "\n",
       "[5 rows x 80 columns]"
      ]
     },
     "execution_count": 102,
     "metadata": {},
     "output_type": "execute_result"
    }
   ],
   "source": [
    "data_test = pd.read_csv(\"data/test.csv\")\n",
    "data_test.head()"
   ]
  },
  {
   "cell_type": "code",
   "execution_count": 106,
   "metadata": {},
   "outputs": [
    {
     "data": {
      "text/plain": [
       "array([119154.315625  , 138382.26      , 181321.25700935, ...,\n",
       "       138382.26      , 119154.315625  , 211563.63636364])"
      ]
     },
     "execution_count": 106,
     "metadata": {},
     "output_type": "execute_result"
    }
   ],
   "source": [
    "pipe_baseline.fit(X,y)\n",
    "y_pred_baseline = pipe_baseline.predict(data_test)\n",
    "y_pred_baseline"
   ]
  },
  {
   "cell_type": "markdown",
   "metadata": {},
   "source": [
    "❓ Finally, store your CSV ready to be submitted as `submission_baseline.csv` in the `data` folder. Read carefully the Kaggle required format and test it below (you don't need to submit this baseline online for now)."
   ]
  },
  {
   "cell_type": "code",
   "execution_count": 116,
   "metadata": {
    "tags": [
     "challengify"
    ]
   },
   "outputs": [],
   "source": [
    "to_exp = pd.concat([data_test['Id'], pd.Series(y_pred_baseline, name = 'SalePrice')], axis = 1)\n",
    "to_exp.to_csv(\"data/submission_baseline.csv\", index = False)"
   ]
  },
  {
   "cell_type": "markdown",
   "metadata": {},
   "source": [
    "🧪 Test your code"
   ]
  },
  {
   "cell_type": "code",
   "execution_count": 117,
   "metadata": {},
   "outputs": [
    {
     "name": "stdout",
     "output_type": "stream",
     "text": [
      "\u001b[1m============================= test session starts ==============================\u001b[0m\n",
      "platform darwin -- Python 3.8.12, pytest-6.2.5, py-1.11.0, pluggy-1.0.0 -- /Users/humbert/.pyenv/versions/lewagon/bin/python3\n",
      "cachedir: .pytest_cache\n",
      "rootdir: /Users/humbert/code/HumbertMonnot/data-challenges/05-ML/07-Ensemble-Methods/01-Houses-Kaggle-Competition\n",
      "plugins: anyio-3.4.0, dash-2.0.0\n",
      "\u001b[1mcollecting ... \u001b[0mcollected 4 items\n",
      "\n",
      "tests/test_submission_baseline.py::TestSubmissionBaseline::test_score_baseline \u001b[32mPASSED\u001b[0m\u001b[32m [ 25%]\u001b[0m\n",
      "tests/test_submission_baseline.py::TestSubmissionBaseline::test_submission_columns \u001b[32mPASSED\u001b[0m\u001b[32m [ 50%]\u001b[0m\n",
      "tests/test_submission_baseline.py::TestSubmissionBaseline::test_submission_dtypes \u001b[32mPASSED\u001b[0m\u001b[32m [ 75%]\u001b[0m\n",
      "tests/test_submission_baseline.py::TestSubmissionBaseline::test_submission_shape \u001b[32mPASSED\u001b[0m\u001b[32m [100%]\u001b[0m\n",
      "\n",
      "\u001b[32m============================== \u001b[32m\u001b[1m4 passed\u001b[0m\u001b[32m in 0.10s\u001b[0m\u001b[32m ===============================\u001b[0m\n",
      "\n",
      "\n",
      "💯 You can commit your code:\n",
      "\n",
      "\u001b[1;32mgit\u001b[39m add tests/submission_baseline.pickle\n",
      "\n",
      "\u001b[32mgit\u001b[39m commit -m \u001b[33m'Completed submission_baseline step'\u001b[39m\n",
      "\n",
      "\u001b[32mgit\u001b[39m push origin master\n"
     ]
    }
   ],
   "source": [
    "from nbresult import ChallengeResult\n",
    "tmp = pd.read_csv(\"data/submission_baseline.csv\")\n",
    "result = ChallengeResult('submission_baseline',\n",
    "    score_baseline = score_baseline,\n",
    "    submission_shape = tmp.shape,\n",
    "    submission_columns = list(tmp.columns),\n",
    "    submission_dtypes = str(list(tmp.dtypes)),\n",
    ")\n",
    "result.write()\n",
    "print(result.check())"
   ]
  },
  {
   "cell_type": "markdown",
   "metadata": {},
   "source": [
    "# 🏋️‍♀️ 2. ITERATIONS "
   ]
  },
  {
   "cell_type": "markdown",
   "metadata": {},
   "source": [
    "🎉 🎉 Congratulation for having fully pipelined a basline model! You will see now how easier it is to iterate and improve performance 🚀\n",
    "\n",
    "- Your goal is to improve your prediction and submit it by **16h30 max online**\n",
    "- We suggested you some improvements below: **Pick up your fights** and **incrementally** improve your pipeline as you see fit"
   ]
  },
  {
   "cell_type": "markdown",
   "metadata": {},
   "source": [
    "**Estimators**\n",
    "\n",
    "- **Tree-based ensembles (must try today)**: Probably the best suited for many categorical-features problems\n",
    "- Stacking !\n",
    "- XGBoost !\n",
    "\n",
    "**Preprocessing** (once your first ensemble models works)\n",
    "\n",
    "- Ordinal Encoding of categorical features with a hidden notion of order in their values (e.g. \"bad\", \"average\", good\")\n",
    "- Statistical Feature Selection to remove useless features (avoid overfitting and reduce train time)\n",
    "- Predict log(SalePrice) instead?\n",
    "- ..."
   ]
  },
  {
   "cell_type": "markdown",
   "metadata": {},
   "source": [
    "## 2.1 Preprocessing Iteration ♲ \n",
    "(**⚠️ come back here only after you have iterated on your estimators on section 2.2)**\n",
    "\n",
    "⏩ Collapse me if you don't use me!"
   ]
  },
  {
   "cell_type": "markdown",
   "metadata": {},
   "source": [
    "### a) Ordinal Encoding (1h)"
   ]
  },
  {
   "cell_type": "markdown",
   "metadata": {},
   "source": [
    "❓ Look at the following feature below. Couldn't it be encoded numerically in a wise manner?\n",
    "```\n",
    "ExterQual: Evaluates the quality of the material on the exterior \n",
    "\t\t\n",
    "       Ex\tExcellent\n",
    "       Gd\tGood\n",
    "       TA\tAverage/Typical\n",
    "       Fa\tFair\n",
    "       Po\tPoor\n",
    "```"
   ]
  },
  {
   "cell_type": "markdown",
   "metadata": {},
   "source": [
    "💡 Luckily, the `OrdinalEncoder` and its argument `categories`  allows us to do just that. Check it out below and make sure to understand how this works"
   ]
  },
  {
   "cell_type": "code",
   "execution_count": 219,
   "metadata": {},
   "outputs": [
    {
     "data": {
      "text/plain": [
       "array([[2., 0.],\n",
       "       [0., 2.],\n",
       "       [1., 1.]])"
      ]
     },
     "execution_count": 219,
     "metadata": {},
     "output_type": "execute_result"
    }
   ],
   "source": [
    "from sklearn.preprocessing import OrdinalEncoder\n",
    "from sklearn.impute import SimpleImputer\n",
    "# Define specific order for features\n",
    "# Note: if you change this order, it will change the output for .transform()\n",
    "feature_A_sorted_values = ['bad', 'average', 'good'] \n",
    "feature_B_sorted_values = ['dirty', 'clean', 'new']\n",
    "\n",
    "encoder = OrdinalEncoder(\n",
    "    categories=[\n",
    "        feature_A_sorted_values,\n",
    "        feature_B_sorted_values\n",
    "    ],\n",
    "    handle_unknown=\"use_encoded_value\",\n",
    "    unknown_value=-1\n",
    ")\n",
    "\n",
    "# Just some random training data\n",
    "XX = [\n",
    "    ['good', 'dirty'],\n",
    "    ['bad', 'new'],\n",
    "    ['average', 'clean'],\n",
    "]\n",
    "\n",
    "encoder.fit_transform(XX)\n",
    "\n"
   ]
  },
  {
   "cell_type": "markdown",
   "metadata": {},
   "source": [
    "---\n",
    "❓ **Your turn**: split your categorical preprocessor into\n",
    "\n",
    "- `preproc_ordinal` to ordinally encode **some features** of your choice\n",
    "- `preproc_nominal` to one hot encode the other ones\n",
    "\n",
    "\n",
    "<details>\n",
    "    <summary>Hints</summary>\n",
    "\n",
    "- You won't be able to avoid hard-coding names and ordered values of features! Be tidy!\n",
    "- It's a good practice to sort alphabetically your features to avoid bad surprises\n",
    "</details>"
   ]
  },
  {
   "cell_type": "code",
   "execution_count": 209,
   "metadata": {},
   "outputs": [],
   "source": [
    "feat_cat_qual = ['HeatingQC','ExterCond','FireplaceQu','BsmtQual','BsmtCond','KitchenQual',\n",
    "                 'GarageQual','PoolQC']"
   ]
  },
  {
   "cell_type": "code",
   "execution_count": 459,
   "metadata": {},
   "outputs": [],
   "source": [
    "feat_ordinal_dict = {\n",
    "    # considers \"missing\" as \"neutral\"\n",
    "    \"BsmtExposure\": ['missing', 'No', 'Mn', 'Av', 'Gd'],\n",
    "    \"BsmtFinType1\": ['missing', 'Unf', 'LwQ', 'Rec', 'BLQ', 'ALQ', 'GLQ'],\n",
    "    \"BsmtFinType2\": ['missing', 'Unf', 'LwQ', 'Rec', 'BLQ', 'ALQ', 'GLQ'],\n",
    "    \"Electrical\": ['missing', 'Mix', 'FuseP', 'FuseF', 'FuseA', 'SBrkr'],\n",
    "    \"ExterQual\": ['missing', 'Fa', 'TA', 'Gd', 'Ex'],\n",
    "    \"Fence\": ['missing', 'MnWw', 'GdWo', 'MnPrv', 'GdPrv'],\n",
    "    \"Functional\": ['missing', 'Sev', 'Maj2', 'Maj1', 'Mod', 'Min2', 'Min1', 'Typ'],\n",
    "    \"GarageCond\": ['missing', 'Po', 'Fa', 'TA', 'Gd', 'Ex'],\n",
    "    \"GarageFinish\": ['missing', 'Unf', 'RFn', 'Fin'],\n",
    "    \"LandContour\": ['missing', 'Low', 'Bnk', 'HLS', 'Lvl'],\n",
    "    \"LandSlope\": ['missing', 'Sev', 'Mod', 'Gtl'],\n",
    "    \"LotShape\": ['missing', 'IR3', 'IR2', 'IR1', 'Reg'],\n",
    "    \"PavedDrive\": ['missing', 'N', 'P', 'Y'],\n",
    "}\n",
    "\n",
    "feat_ordinal = sorted(feat_ordinal_dict.keys()) # sort alphabetically\n",
    "feat_ordinal_values_sorted = [feat_ordinal_dict[i] for i in feat_ordinal]"
   ]
  },
  {
   "cell_type": "code",
   "execution_count": 460,
   "metadata": {},
   "outputs": [],
   "source": [
    "feat_cat_nonqual = list(set(feat_categorical_nunique)-set(feat_ordinal)-set(feat_cat_qual))"
   ]
  },
  {
   "cell_type": "code",
   "execution_count": 461,
   "metadata": {
    "collapsed": true
   },
   "outputs": [
    {
     "data": {
      "text/html": [
       "<style>#sk-b60af5ac-9458-4dbe-9a7f-c52e83c1c60b {color: black;background-color: white;}#sk-b60af5ac-9458-4dbe-9a7f-c52e83c1c60b pre{padding: 0;}#sk-b60af5ac-9458-4dbe-9a7f-c52e83c1c60b div.sk-toggleable {background-color: white;}#sk-b60af5ac-9458-4dbe-9a7f-c52e83c1c60b label.sk-toggleable__label {cursor: pointer;display: block;width: 100%;margin-bottom: 0;padding: 0.3em;box-sizing: border-box;text-align: center;}#sk-b60af5ac-9458-4dbe-9a7f-c52e83c1c60b label.sk-toggleable__label-arrow:before {content: \"▸\";float: left;margin-right: 0.25em;color: #696969;}#sk-b60af5ac-9458-4dbe-9a7f-c52e83c1c60b label.sk-toggleable__label-arrow:hover:before {color: black;}#sk-b60af5ac-9458-4dbe-9a7f-c52e83c1c60b div.sk-estimator:hover label.sk-toggleable__label-arrow:before {color: black;}#sk-b60af5ac-9458-4dbe-9a7f-c52e83c1c60b div.sk-toggleable__content {max-height: 0;max-width: 0;overflow: hidden;text-align: left;background-color: #f0f8ff;}#sk-b60af5ac-9458-4dbe-9a7f-c52e83c1c60b div.sk-toggleable__content pre {margin: 0.2em;color: black;border-radius: 0.25em;background-color: #f0f8ff;}#sk-b60af5ac-9458-4dbe-9a7f-c52e83c1c60b input.sk-toggleable__control:checked~div.sk-toggleable__content {max-height: 200px;max-width: 100%;overflow: auto;}#sk-b60af5ac-9458-4dbe-9a7f-c52e83c1c60b input.sk-toggleable__control:checked~label.sk-toggleable__label-arrow:before {content: \"▾\";}#sk-b60af5ac-9458-4dbe-9a7f-c52e83c1c60b div.sk-estimator input.sk-toggleable__control:checked~label.sk-toggleable__label {background-color: #d4ebff;}#sk-b60af5ac-9458-4dbe-9a7f-c52e83c1c60b div.sk-label input.sk-toggleable__control:checked~label.sk-toggleable__label {background-color: #d4ebff;}#sk-b60af5ac-9458-4dbe-9a7f-c52e83c1c60b input.sk-hidden--visually {border: 0;clip: rect(1px 1px 1px 1px);clip: rect(1px, 1px, 1px, 1px);height: 1px;margin: -1px;overflow: hidden;padding: 0;position: absolute;width: 1px;}#sk-b60af5ac-9458-4dbe-9a7f-c52e83c1c60b div.sk-estimator {font-family: monospace;background-color: #f0f8ff;border: 1px dotted black;border-radius: 0.25em;box-sizing: border-box;margin-bottom: 0.5em;}#sk-b60af5ac-9458-4dbe-9a7f-c52e83c1c60b div.sk-estimator:hover {background-color: #d4ebff;}#sk-b60af5ac-9458-4dbe-9a7f-c52e83c1c60b div.sk-parallel-item::after {content: \"\";width: 100%;border-bottom: 1px solid gray;flex-grow: 1;}#sk-b60af5ac-9458-4dbe-9a7f-c52e83c1c60b div.sk-label:hover label.sk-toggleable__label {background-color: #d4ebff;}#sk-b60af5ac-9458-4dbe-9a7f-c52e83c1c60b div.sk-serial::before {content: \"\";position: absolute;border-left: 1px solid gray;box-sizing: border-box;top: 2em;bottom: 0;left: 50%;}#sk-b60af5ac-9458-4dbe-9a7f-c52e83c1c60b div.sk-serial {display: flex;flex-direction: column;align-items: center;background-color: white;padding-right: 0.2em;padding-left: 0.2em;}#sk-b60af5ac-9458-4dbe-9a7f-c52e83c1c60b div.sk-item {z-index: 1;}#sk-b60af5ac-9458-4dbe-9a7f-c52e83c1c60b div.sk-parallel {display: flex;align-items: stretch;justify-content: center;background-color: white;}#sk-b60af5ac-9458-4dbe-9a7f-c52e83c1c60b div.sk-parallel::before {content: \"\";position: absolute;border-left: 1px solid gray;box-sizing: border-box;top: 2em;bottom: 0;left: 50%;}#sk-b60af5ac-9458-4dbe-9a7f-c52e83c1c60b div.sk-parallel-item {display: flex;flex-direction: column;position: relative;background-color: white;}#sk-b60af5ac-9458-4dbe-9a7f-c52e83c1c60b div.sk-parallel-item:first-child::after {align-self: flex-end;width: 50%;}#sk-b60af5ac-9458-4dbe-9a7f-c52e83c1c60b div.sk-parallel-item:last-child::after {align-self: flex-start;width: 50%;}#sk-b60af5ac-9458-4dbe-9a7f-c52e83c1c60b div.sk-parallel-item:only-child::after {width: 0;}#sk-b60af5ac-9458-4dbe-9a7f-c52e83c1c60b div.sk-dashed-wrapped {border: 1px dashed gray;margin: 0 0.4em 0.5em 0.4em;box-sizing: border-box;padding-bottom: 0.4em;background-color: white;position: relative;}#sk-b60af5ac-9458-4dbe-9a7f-c52e83c1c60b div.sk-label label {font-family: monospace;font-weight: bold;background-color: white;display: inline-block;line-height: 1.2em;}#sk-b60af5ac-9458-4dbe-9a7f-c52e83c1c60b div.sk-label-container {position: relative;z-index: 2;text-align: center;}#sk-b60af5ac-9458-4dbe-9a7f-c52e83c1c60b div.sk-container {/* jupyter's `normalize.less` sets `[hidden] { display: none; }` but bootstrap.min.css set `[hidden] { display: none !important; }` so we also need the `!important` here to be able to override the default hidden behavior on the sphinx rendered scikit-learn.org. See: https://github.com/scikit-learn/scikit-learn/issues/21755 */display: inline-block !important;position: relative;}#sk-b60af5ac-9458-4dbe-9a7f-c52e83c1c60b div.sk-text-repr-fallback {display: none;}</style><div id=\"sk-b60af5ac-9458-4dbe-9a7f-c52e83c1c60b\" class=\"sk-top-container\"><div class=\"sk-text-repr-fallback\"><pre>Pipeline(steps=[(&#x27;simpleimputer&#x27;,\n",
       "                 SimpleImputer(fill_value=&#x27;missing&#x27;, strategy=&#x27;constant&#x27;)),\n",
       "                (&#x27;ordinalencoder&#x27;,\n",
       "                 OrdinalEncoder(categories=[[&#x27;missing&#x27;, &#x27;No&#x27;, &#x27;Mn&#x27;, &#x27;Av&#x27;, &#x27;Gd&#x27;],\n",
       "                                            [&#x27;missing&#x27;, &#x27;Unf&#x27;, &#x27;LwQ&#x27;, &#x27;Rec&#x27;,\n",
       "                                             &#x27;BLQ&#x27;, &#x27;ALQ&#x27;, &#x27;GLQ&#x27;],\n",
       "                                            [&#x27;missing&#x27;, &#x27;Unf&#x27;, &#x27;LwQ&#x27;, &#x27;Rec&#x27;,\n",
       "                                             &#x27;BLQ&#x27;, &#x27;ALQ&#x27;, &#x27;GLQ&#x27;],\n",
       "                                            [&#x27;missing&#x27;, &#x27;Mix&#x27;, &#x27;FuseP&#x27;, &#x27;FuseF&#x27;,\n",
       "                                             &#x27;FuseA&#x27;, &#x27;SBrkr&#x27;],\n",
       "                                            [&#x27;missing&#x27;, &#x27;Fa&#x27;, &#x27;TA&#x27;, &#x27;Gd&#x27;, &#x27;Ex&#x27;],\n",
       "                                            [&#x27;mis...\n",
       "                                            [&#x27;missing&#x27;, &#x27;Sev&#x27;, &#x27;Maj2&#x27;, &#x27;Maj1&#x27;,\n",
       "                                             &#x27;Mod&#x27;, &#x27;Min2&#x27;, &#x27;Min1&#x27;, &#x27;Typ&#x27;],\n",
       "                                            [&#x27;missing&#x27;, &#x27;Po&#x27;, &#x27;Fa&#x27;, &#x27;TA&#x27;, &#x27;Gd&#x27;,\n",
       "                                             &#x27;Ex&#x27;],\n",
       "                                            [&#x27;missing&#x27;, &#x27;Unf&#x27;, &#x27;RFn&#x27;, &#x27;Fin&#x27;],\n",
       "                                            [&#x27;missing&#x27;, &#x27;Low&#x27;, &#x27;Bnk&#x27;, &#x27;HLS&#x27;,\n",
       "                                             &#x27;Lvl&#x27;],\n",
       "                                            [&#x27;missing&#x27;, &#x27;Sev&#x27;, &#x27;Mod&#x27;, &#x27;Gtl&#x27;],\n",
       "                                            [&#x27;missing&#x27;, &#x27;IR3&#x27;, &#x27;IR2&#x27;, &#x27;IR1&#x27;,\n",
       "                                             &#x27;Reg&#x27;],\n",
       "                                            [&#x27;missing&#x27;, &#x27;N&#x27;, &#x27;P&#x27;, &#x27;Y&#x27;]],\n",
       "                                dtype=&lt;class &#x27;numpy.int64&#x27;&gt;,\n",
       "                                handle_unknown=&#x27;use_encoded_value&#x27;,\n",
       "                                unknown_value=-1)),\n",
       "                (&#x27;minmaxscaler&#x27;, MinMaxScaler())])</pre><b>Please rerun this cell to show the HTML repr or trust the notebook.</b></div><div class=\"sk-container\" hidden><div class=\"sk-item sk-dashed-wrapped\"><div class=\"sk-label-container\"><div class=\"sk-label sk-toggleable\"><input class=\"sk-toggleable__control sk-hidden--visually\" id=\"acba0727-59a1-4611-8d72-02db238ba713\" type=\"checkbox\" ><label for=\"acba0727-59a1-4611-8d72-02db238ba713\" class=\"sk-toggleable__label sk-toggleable__label-arrow\">Pipeline</label><div class=\"sk-toggleable__content\"><pre>Pipeline(steps=[(&#x27;simpleimputer&#x27;,\n",
       "                 SimpleImputer(fill_value=&#x27;missing&#x27;, strategy=&#x27;constant&#x27;)),\n",
       "                (&#x27;ordinalencoder&#x27;,\n",
       "                 OrdinalEncoder(categories=[[&#x27;missing&#x27;, &#x27;No&#x27;, &#x27;Mn&#x27;, &#x27;Av&#x27;, &#x27;Gd&#x27;],\n",
       "                                            [&#x27;missing&#x27;, &#x27;Unf&#x27;, &#x27;LwQ&#x27;, &#x27;Rec&#x27;,\n",
       "                                             &#x27;BLQ&#x27;, &#x27;ALQ&#x27;, &#x27;GLQ&#x27;],\n",
       "                                            [&#x27;missing&#x27;, &#x27;Unf&#x27;, &#x27;LwQ&#x27;, &#x27;Rec&#x27;,\n",
       "                                             &#x27;BLQ&#x27;, &#x27;ALQ&#x27;, &#x27;GLQ&#x27;],\n",
       "                                            [&#x27;missing&#x27;, &#x27;Mix&#x27;, &#x27;FuseP&#x27;, &#x27;FuseF&#x27;,\n",
       "                                             &#x27;FuseA&#x27;, &#x27;SBrkr&#x27;],\n",
       "                                            [&#x27;missing&#x27;, &#x27;Fa&#x27;, &#x27;TA&#x27;, &#x27;Gd&#x27;, &#x27;Ex&#x27;],\n",
       "                                            [&#x27;mis...\n",
       "                                            [&#x27;missing&#x27;, &#x27;Sev&#x27;, &#x27;Maj2&#x27;, &#x27;Maj1&#x27;,\n",
       "                                             &#x27;Mod&#x27;, &#x27;Min2&#x27;, &#x27;Min1&#x27;, &#x27;Typ&#x27;],\n",
       "                                            [&#x27;missing&#x27;, &#x27;Po&#x27;, &#x27;Fa&#x27;, &#x27;TA&#x27;, &#x27;Gd&#x27;,\n",
       "                                             &#x27;Ex&#x27;],\n",
       "                                            [&#x27;missing&#x27;, &#x27;Unf&#x27;, &#x27;RFn&#x27;, &#x27;Fin&#x27;],\n",
       "                                            [&#x27;missing&#x27;, &#x27;Low&#x27;, &#x27;Bnk&#x27;, &#x27;HLS&#x27;,\n",
       "                                             &#x27;Lvl&#x27;],\n",
       "                                            [&#x27;missing&#x27;, &#x27;Sev&#x27;, &#x27;Mod&#x27;, &#x27;Gtl&#x27;],\n",
       "                                            [&#x27;missing&#x27;, &#x27;IR3&#x27;, &#x27;IR2&#x27;, &#x27;IR1&#x27;,\n",
       "                                             &#x27;Reg&#x27;],\n",
       "                                            [&#x27;missing&#x27;, &#x27;N&#x27;, &#x27;P&#x27;, &#x27;Y&#x27;]],\n",
       "                                dtype=&lt;class &#x27;numpy.int64&#x27;&gt;,\n",
       "                                handle_unknown=&#x27;use_encoded_value&#x27;,\n",
       "                                unknown_value=-1)),\n",
       "                (&#x27;minmaxscaler&#x27;, MinMaxScaler())])</pre></div></div></div><div class=\"sk-serial\"><div class=\"sk-item\"><div class=\"sk-estimator sk-toggleable\"><input class=\"sk-toggleable__control sk-hidden--visually\" id=\"f1c282bd-d497-480b-97f5-e0c80b1d490a\" type=\"checkbox\" ><label for=\"f1c282bd-d497-480b-97f5-e0c80b1d490a\" class=\"sk-toggleable__label sk-toggleable__label-arrow\">SimpleImputer</label><div class=\"sk-toggleable__content\"><pre>SimpleImputer(fill_value=&#x27;missing&#x27;, strategy=&#x27;constant&#x27;)</pre></div></div></div><div class=\"sk-item\"><div class=\"sk-estimator sk-toggleable\"><input class=\"sk-toggleable__control sk-hidden--visually\" id=\"031908e7-3802-4a96-9c25-cf658bcbb93e\" type=\"checkbox\" ><label for=\"031908e7-3802-4a96-9c25-cf658bcbb93e\" class=\"sk-toggleable__label sk-toggleable__label-arrow\">OrdinalEncoder</label><div class=\"sk-toggleable__content\"><pre>OrdinalEncoder(categories=[[&#x27;missing&#x27;, &#x27;No&#x27;, &#x27;Mn&#x27;, &#x27;Av&#x27;, &#x27;Gd&#x27;],\n",
       "                           [&#x27;missing&#x27;, &#x27;Unf&#x27;, &#x27;LwQ&#x27;, &#x27;Rec&#x27;, &#x27;BLQ&#x27;, &#x27;ALQ&#x27;,\n",
       "                            &#x27;GLQ&#x27;],\n",
       "                           [&#x27;missing&#x27;, &#x27;Unf&#x27;, &#x27;LwQ&#x27;, &#x27;Rec&#x27;, &#x27;BLQ&#x27;, &#x27;ALQ&#x27;,\n",
       "                            &#x27;GLQ&#x27;],\n",
       "                           [&#x27;missing&#x27;, &#x27;Mix&#x27;, &#x27;FuseP&#x27;, &#x27;FuseF&#x27;, &#x27;FuseA&#x27;,\n",
       "                            &#x27;SBrkr&#x27;],\n",
       "                           [&#x27;missing&#x27;, &#x27;Fa&#x27;, &#x27;TA&#x27;, &#x27;Gd&#x27;, &#x27;Ex&#x27;],\n",
       "                           [&#x27;missing&#x27;, &#x27;MnWw&#x27;, &#x27;GdWo&#x27;, &#x27;MnPrv&#x27;, &#x27;GdPrv&#x27;],\n",
       "                           [&#x27;missing&#x27;, &#x27;Sev&#x27;, &#x27;Maj2&#x27;, &#x27;Maj1&#x27;, &#x27;Mod&#x27;, &#x27;Min2&#x27;,\n",
       "                            &#x27;Min1&#x27;, &#x27;Typ&#x27;],\n",
       "                           [&#x27;missing&#x27;, &#x27;Po&#x27;, &#x27;Fa&#x27;, &#x27;TA&#x27;, &#x27;Gd&#x27;, &#x27;Ex&#x27;],\n",
       "                           [&#x27;missing&#x27;, &#x27;Unf&#x27;, &#x27;RFn&#x27;, &#x27;Fin&#x27;],\n",
       "                           [&#x27;missing&#x27;, &#x27;Low&#x27;, &#x27;Bnk&#x27;, &#x27;HLS&#x27;, &#x27;Lvl&#x27;],\n",
       "                           [&#x27;missing&#x27;, &#x27;Sev&#x27;, &#x27;Mod&#x27;, &#x27;Gtl&#x27;],\n",
       "                           [&#x27;missing&#x27;, &#x27;IR3&#x27;, &#x27;IR2&#x27;, &#x27;IR1&#x27;, &#x27;Reg&#x27;],\n",
       "                           [&#x27;missing&#x27;, &#x27;N&#x27;, &#x27;P&#x27;, &#x27;Y&#x27;]],\n",
       "               dtype=&lt;class &#x27;numpy.int64&#x27;&gt;, handle_unknown=&#x27;use_encoded_value&#x27;,\n",
       "               unknown_value=-1)</pre></div></div></div><div class=\"sk-item\"><div class=\"sk-estimator sk-toggleable\"><input class=\"sk-toggleable__control sk-hidden--visually\" id=\"5d1b4f59-cbf1-40c7-92b3-5b2015ca9362\" type=\"checkbox\" ><label for=\"5d1b4f59-cbf1-40c7-92b3-5b2015ca9362\" class=\"sk-toggleable__label sk-toggleable__label-arrow\">MinMaxScaler</label><div class=\"sk-toggleable__content\"><pre>MinMaxScaler()</pre></div></div></div></div></div></div></div>"
      ],
      "text/plain": [
       "Pipeline(steps=[('simpleimputer',\n",
       "                 SimpleImputer(fill_value='missing', strategy='constant')),\n",
       "                ('ordinalencoder',\n",
       "                 OrdinalEncoder(categories=[['missing', 'No', 'Mn', 'Av', 'Gd'],\n",
       "                                            ['missing', 'Unf', 'LwQ', 'Rec',\n",
       "                                             'BLQ', 'ALQ', 'GLQ'],\n",
       "                                            ['missing', 'Unf', 'LwQ', 'Rec',\n",
       "                                             'BLQ', 'ALQ', 'GLQ'],\n",
       "                                            ['missing', 'Mix', 'FuseP', 'FuseF',\n",
       "                                             'FuseA', 'SBrkr'],\n",
       "                                            ['missing', 'Fa', 'TA', 'Gd', 'Ex'],\n",
       "                                            ['mis...\n",
       "                                            ['missing', 'Sev', 'Maj2', 'Maj1',\n",
       "                                             'Mod', 'Min2', 'Min1', 'Typ'],\n",
       "                                            ['missing', 'Po', 'Fa', 'TA', 'Gd',\n",
       "                                             'Ex'],\n",
       "                                            ['missing', 'Unf', 'RFn', 'Fin'],\n",
       "                                            ['missing', 'Low', 'Bnk', 'HLS',\n",
       "                                             'Lvl'],\n",
       "                                            ['missing', 'Sev', 'Mod', 'Gtl'],\n",
       "                                            ['missing', 'IR3', 'IR2', 'IR1',\n",
       "                                             'Reg'],\n",
       "                                            ['missing', 'N', 'P', 'Y']],\n",
       "                                dtype=<class 'numpy.int64'>,\n",
       "                                handle_unknown='use_encoded_value',\n",
       "                                unknown_value=-1)),\n",
       "                ('minmaxscaler', MinMaxScaler())])"
      ]
     },
     "execution_count": 461,
     "metadata": {},
     "output_type": "execute_result"
    }
   ],
   "source": [
    "\n",
    "encoder_ordinal = OrdinalEncoder(\n",
    "    categories=feat_ordinal_values_sorted,\n",
    "    dtype= np.int64,\n",
    "    handle_unknown=\"use_encoded_value\",\n",
    "    unknown_value=-1 # Considers unknown values as worse than \"missing\"\n",
    ")\n",
    "\n",
    "preproc_ordinal = make_pipeline(\n",
    "    SimpleImputer(strategy=\"constant\", fill_value=\"missing\"),\n",
    "    encoder_ordinal,\n",
    "    MinMaxScaler()\n",
    ")\n",
    "\n",
    "preproc_ordinal"
   ]
  },
  {
   "cell_type": "code",
   "execution_count": 462,
   "metadata": {
    "collapsed": true
   },
   "outputs": [
    {
     "data": {
      "text/html": [
       "<div>\n",
       "<style scoped>\n",
       "    .dataframe tbody tr th:only-of-type {\n",
       "        vertical-align: middle;\n",
       "    }\n",
       "\n",
       "    .dataframe tbody tr th {\n",
       "        vertical-align: top;\n",
       "    }\n",
       "\n",
       "    .dataframe thead th {\n",
       "        text-align: right;\n",
       "    }\n",
       "</style>\n",
       "<table border=\"1\" class=\"dataframe\">\n",
       "  <thead>\n",
       "    <tr style=\"text-align: right;\">\n",
       "      <th></th>\n",
       "      <th>HeatingQC</th>\n",
       "      <th>ExterCond</th>\n",
       "      <th>FireplaceQu</th>\n",
       "      <th>BsmtQual</th>\n",
       "      <th>BsmtCond</th>\n",
       "      <th>KitchenQual</th>\n",
       "      <th>GarageQual</th>\n",
       "      <th>PoolQC</th>\n",
       "    </tr>\n",
       "  </thead>\n",
       "  <tbody>\n",
       "    <tr>\n",
       "      <th>0</th>\n",
       "      <td>Ex</td>\n",
       "      <td>TA</td>\n",
       "      <td>NaN</td>\n",
       "      <td>Gd</td>\n",
       "      <td>TA</td>\n",
       "      <td>Gd</td>\n",
       "      <td>TA</td>\n",
       "      <td>NaN</td>\n",
       "    </tr>\n",
       "    <tr>\n",
       "      <th>1</th>\n",
       "      <td>Ex</td>\n",
       "      <td>TA</td>\n",
       "      <td>TA</td>\n",
       "      <td>Gd</td>\n",
       "      <td>TA</td>\n",
       "      <td>TA</td>\n",
       "      <td>TA</td>\n",
       "      <td>NaN</td>\n",
       "    </tr>\n",
       "    <tr>\n",
       "      <th>2</th>\n",
       "      <td>Ex</td>\n",
       "      <td>TA</td>\n",
       "      <td>TA</td>\n",
       "      <td>Gd</td>\n",
       "      <td>TA</td>\n",
       "      <td>Gd</td>\n",
       "      <td>TA</td>\n",
       "      <td>NaN</td>\n",
       "    </tr>\n",
       "    <tr>\n",
       "      <th>3</th>\n",
       "      <td>Gd</td>\n",
       "      <td>TA</td>\n",
       "      <td>Gd</td>\n",
       "      <td>TA</td>\n",
       "      <td>Gd</td>\n",
       "      <td>Gd</td>\n",
       "      <td>TA</td>\n",
       "      <td>NaN</td>\n",
       "    </tr>\n",
       "    <tr>\n",
       "      <th>4</th>\n",
       "      <td>Ex</td>\n",
       "      <td>TA</td>\n",
       "      <td>TA</td>\n",
       "      <td>Gd</td>\n",
       "      <td>TA</td>\n",
       "      <td>Gd</td>\n",
       "      <td>TA</td>\n",
       "      <td>NaN</td>\n",
       "    </tr>\n",
       "    <tr>\n",
       "      <th>...</th>\n",
       "      <td>...</td>\n",
       "      <td>...</td>\n",
       "      <td>...</td>\n",
       "      <td>...</td>\n",
       "      <td>...</td>\n",
       "      <td>...</td>\n",
       "      <td>...</td>\n",
       "      <td>...</td>\n",
       "    </tr>\n",
       "    <tr>\n",
       "      <th>1455</th>\n",
       "      <td>Ex</td>\n",
       "      <td>TA</td>\n",
       "      <td>TA</td>\n",
       "      <td>Gd</td>\n",
       "      <td>TA</td>\n",
       "      <td>TA</td>\n",
       "      <td>TA</td>\n",
       "      <td>NaN</td>\n",
       "    </tr>\n",
       "    <tr>\n",
       "      <th>1456</th>\n",
       "      <td>TA</td>\n",
       "      <td>TA</td>\n",
       "      <td>TA</td>\n",
       "      <td>Gd</td>\n",
       "      <td>TA</td>\n",
       "      <td>TA</td>\n",
       "      <td>TA</td>\n",
       "      <td>NaN</td>\n",
       "    </tr>\n",
       "    <tr>\n",
       "      <th>1457</th>\n",
       "      <td>Ex</td>\n",
       "      <td>Gd</td>\n",
       "      <td>Gd</td>\n",
       "      <td>TA</td>\n",
       "      <td>Gd</td>\n",
       "      <td>Gd</td>\n",
       "      <td>TA</td>\n",
       "      <td>NaN</td>\n",
       "    </tr>\n",
       "    <tr>\n",
       "      <th>1458</th>\n",
       "      <td>Gd</td>\n",
       "      <td>TA</td>\n",
       "      <td>NaN</td>\n",
       "      <td>TA</td>\n",
       "      <td>TA</td>\n",
       "      <td>Gd</td>\n",
       "      <td>TA</td>\n",
       "      <td>NaN</td>\n",
       "    </tr>\n",
       "    <tr>\n",
       "      <th>1459</th>\n",
       "      <td>Gd</td>\n",
       "      <td>TA</td>\n",
       "      <td>NaN</td>\n",
       "      <td>TA</td>\n",
       "      <td>TA</td>\n",
       "      <td>TA</td>\n",
       "      <td>TA</td>\n",
       "      <td>NaN</td>\n",
       "    </tr>\n",
       "  </tbody>\n",
       "</table>\n",
       "<p>1460 rows × 8 columns</p>\n",
       "</div>"
      ],
      "text/plain": [
       "     HeatingQC ExterCond FireplaceQu BsmtQual BsmtCond KitchenQual GarageQual  \\\n",
       "0           Ex        TA         NaN       Gd       TA          Gd         TA   \n",
       "1           Ex        TA          TA       Gd       TA          TA         TA   \n",
       "2           Ex        TA          TA       Gd       TA          Gd         TA   \n",
       "3           Gd        TA          Gd       TA       Gd          Gd         TA   \n",
       "4           Ex        TA          TA       Gd       TA          Gd         TA   \n",
       "...        ...       ...         ...      ...      ...         ...        ...   \n",
       "1455        Ex        TA          TA       Gd       TA          TA         TA   \n",
       "1456        TA        TA          TA       Gd       TA          TA         TA   \n",
       "1457        Ex        Gd          Gd       TA       Gd          Gd         TA   \n",
       "1458        Gd        TA         NaN       TA       TA          Gd         TA   \n",
       "1459        Gd        TA         NaN       TA       TA          TA         TA   \n",
       "\n",
       "     PoolQC  \n",
       "0       NaN  \n",
       "1       NaN  \n",
       "2       NaN  \n",
       "3       NaN  \n",
       "4       NaN  \n",
       "...     ...  \n",
       "1455    NaN  \n",
       "1456    NaN  \n",
       "1457    NaN  \n",
       "1458    NaN  \n",
       "1459    NaN  \n",
       "\n",
       "[1460 rows x 8 columns]"
      ]
     },
     "execution_count": 462,
     "metadata": {},
     "output_type": "execute_result"
    }
   ],
   "source": [
    "feature_sorted_values = ['Po','Fa','TA','Gd','Ex']\n",
    "qual_encoder = OrdinalEncoder(\n",
    "    categories=[feature_sorted_values for _ in range(8)],\n",
    "    handle_unknown=\"use_encoded_value\",\n",
    "    unknown_value=-1)\n",
    "X[feat_cat_qual]"
   ]
  },
  {
   "cell_type": "code",
   "execution_count": 472,
   "metadata": {},
   "outputs": [],
   "source": [
    "cat_no_qual_pipe = make_pipeline(SimpleImputer(strategy='most_frequent'),\n",
    "                        OneHotEncoder(sparse=False, handle_unknown='ignore'))\n",
    "\n",
    "cat_qual_pipe = make_pipeline(qual_encoder,MinMaxScaler())\n",
    "\n",
    "num_pipe = make_pipeline(SimpleImputer(strategy='mean'),\n",
    "                        MinMaxScaler())\n",
    "\n",
    "preproc = ColumnTransformer([(\"cat_qual\",cat_qual_pipe,feat_cat_qual),\n",
    "                             (\"cat_ord\",preproc_ordinal,feat_ordinal),\n",
    "                            (\"num\",num_pipe, num_col),\n",
    "                            (\"cat_no_qual\",cat_no_qual_pipe,feat_cat_noqual),\n",
    "                            ],remainder=\"drop\")"
   ]
  },
  {
   "cell_type": "code",
   "execution_count": 474,
   "metadata": {},
   "outputs": [
    {
     "data": {
      "text/html": [
       "<div>\n",
       "<style scoped>\n",
       "    .dataframe tbody tr th:only-of-type {\n",
       "        vertical-align: middle;\n",
       "    }\n",
       "\n",
       "    .dataframe tbody tr th {\n",
       "        vertical-align: top;\n",
       "    }\n",
       "\n",
       "    .dataframe thead th {\n",
       "        text-align: right;\n",
       "    }\n",
       "</style>\n",
       "<table border=\"1\" class=\"dataframe\">\n",
       "  <thead>\n",
       "    <tr style=\"text-align: right;\">\n",
       "      <th></th>\n",
       "      <th>0</th>\n",
       "      <th>1</th>\n",
       "      <th>2</th>\n",
       "      <th>3</th>\n",
       "      <th>4</th>\n",
       "      <th>5</th>\n",
       "      <th>6</th>\n",
       "      <th>7</th>\n",
       "      <th>8</th>\n",
       "      <th>9</th>\n",
       "      <th>...</th>\n",
       "      <th>159</th>\n",
       "      <th>160</th>\n",
       "      <th>161</th>\n",
       "      <th>162</th>\n",
       "      <th>163</th>\n",
       "      <th>164</th>\n",
       "      <th>165</th>\n",
       "      <th>166</th>\n",
       "      <th>167</th>\n",
       "      <th>168</th>\n",
       "    </tr>\n",
       "  </thead>\n",
       "  <tbody>\n",
       "    <tr>\n",
       "      <th>0</th>\n",
       "      <td>1.00</td>\n",
       "      <td>0.5</td>\n",
       "      <td>0.0</td>\n",
       "      <td>0.8</td>\n",
       "      <td>0.75</td>\n",
       "      <td>0.666667</td>\n",
       "      <td>0.6</td>\n",
       "      <td>0.0</td>\n",
       "      <td>0.25</td>\n",
       "      <td>1.000000</td>\n",
       "      <td>...</td>\n",
       "      <td>1.0</td>\n",
       "      <td>0.0</td>\n",
       "      <td>0.0</td>\n",
       "      <td>0.0</td>\n",
       "      <td>0.0</td>\n",
       "      <td>0.0</td>\n",
       "      <td>0.0</td>\n",
       "      <td>0.0</td>\n",
       "      <td>0.0</td>\n",
       "      <td>1.0</td>\n",
       "    </tr>\n",
       "    <tr>\n",
       "      <th>1</th>\n",
       "      <td>1.00</td>\n",
       "      <td>0.5</td>\n",
       "      <td>0.6</td>\n",
       "      <td>0.8</td>\n",
       "      <td>0.75</td>\n",
       "      <td>0.333333</td>\n",
       "      <td>0.6</td>\n",
       "      <td>0.0</td>\n",
       "      <td>1.00</td>\n",
       "      <td>0.833333</td>\n",
       "      <td>...</td>\n",
       "      <td>1.0</td>\n",
       "      <td>0.0</td>\n",
       "      <td>0.0</td>\n",
       "      <td>0.0</td>\n",
       "      <td>0.0</td>\n",
       "      <td>0.0</td>\n",
       "      <td>0.0</td>\n",
       "      <td>0.0</td>\n",
       "      <td>0.0</td>\n",
       "      <td>1.0</td>\n",
       "    </tr>\n",
       "    <tr>\n",
       "      <th>2</th>\n",
       "      <td>1.00</td>\n",
       "      <td>0.5</td>\n",
       "      <td>0.6</td>\n",
       "      <td>0.8</td>\n",
       "      <td>0.75</td>\n",
       "      <td>0.666667</td>\n",
       "      <td>0.6</td>\n",
       "      <td>0.0</td>\n",
       "      <td>0.50</td>\n",
       "      <td>1.000000</td>\n",
       "      <td>...</td>\n",
       "      <td>1.0</td>\n",
       "      <td>0.0</td>\n",
       "      <td>0.0</td>\n",
       "      <td>0.0</td>\n",
       "      <td>0.0</td>\n",
       "      <td>0.0</td>\n",
       "      <td>0.0</td>\n",
       "      <td>0.0</td>\n",
       "      <td>0.0</td>\n",
       "      <td>1.0</td>\n",
       "    </tr>\n",
       "    <tr>\n",
       "      <th>3</th>\n",
       "      <td>0.75</td>\n",
       "      <td>0.5</td>\n",
       "      <td>0.8</td>\n",
       "      <td>0.6</td>\n",
       "      <td>1.00</td>\n",
       "      <td>0.666667</td>\n",
       "      <td>0.6</td>\n",
       "      <td>0.0</td>\n",
       "      <td>0.25</td>\n",
       "      <td>0.833333</td>\n",
       "      <td>...</td>\n",
       "      <td>1.0</td>\n",
       "      <td>0.0</td>\n",
       "      <td>0.0</td>\n",
       "      <td>0.0</td>\n",
       "      <td>0.0</td>\n",
       "      <td>0.0</td>\n",
       "      <td>0.0</td>\n",
       "      <td>0.0</td>\n",
       "      <td>0.0</td>\n",
       "      <td>1.0</td>\n",
       "    </tr>\n",
       "    <tr>\n",
       "      <th>4</th>\n",
       "      <td>1.00</td>\n",
       "      <td>0.5</td>\n",
       "      <td>0.6</td>\n",
       "      <td>0.8</td>\n",
       "      <td>0.75</td>\n",
       "      <td>0.666667</td>\n",
       "      <td>0.6</td>\n",
       "      <td>0.0</td>\n",
       "      <td>0.75</td>\n",
       "      <td>1.000000</td>\n",
       "      <td>...</td>\n",
       "      <td>1.0</td>\n",
       "      <td>0.0</td>\n",
       "      <td>0.0</td>\n",
       "      <td>0.0</td>\n",
       "      <td>0.0</td>\n",
       "      <td>0.0</td>\n",
       "      <td>0.0</td>\n",
       "      <td>0.0</td>\n",
       "      <td>0.0</td>\n",
       "      <td>1.0</td>\n",
       "    </tr>\n",
       "  </tbody>\n",
       "</table>\n",
       "<p>5 rows × 169 columns</p>\n",
       "</div>"
      ],
      "text/plain": [
       "    0    1    2    3     4         5    6    7     8         9    ...  159  \\\n",
       "0  1.00  0.5  0.0  0.8  0.75  0.666667  0.6  0.0  0.25  1.000000  ...  1.0   \n",
       "1  1.00  0.5  0.6  0.8  0.75  0.333333  0.6  0.0  1.00  0.833333  ...  1.0   \n",
       "2  1.00  0.5  0.6  0.8  0.75  0.666667  0.6  0.0  0.50  1.000000  ...  1.0   \n",
       "3  0.75  0.5  0.8  0.6  1.00  0.666667  0.6  0.0  0.25  0.833333  ...  1.0   \n",
       "4  1.00  0.5  0.6  0.8  0.75  0.666667  0.6  0.0  0.75  1.000000  ...  1.0   \n",
       "\n",
       "   160  161  162  163  164  165  166  167  168  \n",
       "0  0.0  0.0  0.0  0.0  0.0  0.0  0.0  0.0  1.0  \n",
       "1  0.0  0.0  0.0  0.0  0.0  0.0  0.0  0.0  1.0  \n",
       "2  0.0  0.0  0.0  0.0  0.0  0.0  0.0  0.0  1.0  \n",
       "3  0.0  0.0  0.0  0.0  0.0  0.0  0.0  0.0  1.0  \n",
       "4  0.0  0.0  0.0  0.0  0.0  0.0  0.0  0.0  1.0  \n",
       "\n",
       "[5 rows x 169 columns]"
      ]
     },
     "execution_count": 474,
     "metadata": {},
     "output_type": "execute_result"
    }
   ],
   "source": [
    "pd.DataFrame(preproc.fit_transform(X,y)).head()"
   ]
  },
  {
   "cell_type": "markdown",
   "metadata": {},
   "source": [
    "### b) Statistical Feature Selection (~30min)"
   ]
  },
  {
   "cell_type": "markdown",
   "metadata": {},
   "source": [
    "Our goal is to remove the least interesting features, to limit overfitting and shorten training time.  \n",
    "\n",
    "🔥 We will make use of sklearn's [feature selection](https://scikit-learn.org/stable/modules/classes.html#module-sklearn.feature_selection) transformers directly in your pipeline!\n",
    "\n",
    "❗️ We recommend you to **try only option 1 today to start with**. Option 2 and 3 will be corrected in Recap"
   ]
  },
  {
   "cell_type": "markdown",
   "metadata": {},
   "source": [
    "#### (option 1 - recommended) <font color=green>Univariate</font> feature selection based on their mutual information with target `y`"
   ]
  },
  {
   "cell_type": "markdown",
   "metadata": {},
   "source": [
    "- Feel free to add a `SelectPercentile` filter at the end of your `preproc` pipeline.\n",
    "- This will filter-out features that, - taken individually - least explain your target!\n",
    "- The statistical test we recommend to pass to SelectPercentile is the `mutual_info_regression`\n",
    "\n",
    "<details>\n",
    "    <summary markdown='span'>🤔 Mutual Information?</summary>\n",
    "\n",
    "- Mutual information is a *statistical* distance between two probability distributions.\n",
    "- Correlation is a *linear* distance between two random variables.\n",
    "- Mutual information is more general and measures the reduction of uncertainty in Y after observing X.\n",
    "- On the other hand, if you already know you are working with variables that are smooth (like continuous numerical variables), sometimes correlation may tell you more about them, for instance if their relationship is monotonic.\n",
    "\n",
    "See [animation](https://twitter.com/ari_seff/status/1409296508634152964)\n",
    "</details>"
   ]
  },
  {
   "cell_type": "code",
   "execution_count": 313,
   "metadata": {},
   "outputs": [],
   "source": [
    "from sklearn.feature_selection import SelectPercentile, chi2, f_regression"
   ]
  },
  {
   "cell_type": "code",
   "execution_count": 281,
   "metadata": {
    "tags": [
     "challengify"
    ]
   },
   "outputs": [],
   "source": [
    "feature_sorted_values = ['Po','Fa','TA','Gd','Ex']\n",
    "qual_encoder = OrdinalEncoder(\n",
    "    categories=[feature_sorted_values for _ in range(8)],\n",
    "    handle_unknown=\"use_encoded_value\",\n",
    "    unknown_value=-3)\n",
    "\n",
    "feat_cat_noqual = list(set(feat_categorical_small.index) - set(feat_cat_qual))\n",
    "\n",
    "cat_no_qual_pipe = make_pipeline(SimpleImputer(strategy='most_frequent'),\n",
    "                        OneHotEncoder(sparse=False, handle_unknown='ignore'))\n",
    "\n",
    "cat_qual_pipe = make_pipeline(qual_encoder)\n",
    "\n",
    "num_pipe = make_pipeline(SimpleImputer(strategy='mean'),\n",
    "                        MinMaxScaler())\n",
    "\n",
    "preproc = ColumnTransformer([(\"cat_qual\",cat_qual_pipe,feat_cat_qual),\n",
    "                            (\"num\",num_pipe, num_col),\n",
    "                            (\"cat_no_qual\",cat_no_qual_pipe,feat_cat_noqual)])\n",
    "\n",
    "\n"
   ]
  },
  {
   "cell_type": "code",
   "execution_count": 258,
   "metadata": {
    "collapsed": true
   },
   "outputs": [
    {
     "data": {
      "text/plain": [
       "{'memory': None,\n",
       " 'steps': [('columntransformer',\n",
       "   ColumnTransformer(transformers=[('cat_qual',\n",
       "                                    Pipeline(steps=[('ordinalencoder',\n",
       "                                                     OrdinalEncoder(categories=[['Po',\n",
       "                                                                                 'Fa',\n",
       "                                                                                 'TA',\n",
       "                                                                                 'Gd',\n",
       "                                                                                 'Ex'],\n",
       "                                                                                ['Po',\n",
       "                                                                                 'Fa',\n",
       "                                                                                 'TA',\n",
       "                                                                                 'Gd',\n",
       "                                                                                 'Ex'],\n",
       "                                                                                ['Po',\n",
       "                                                                                 'Fa',\n",
       "                                                                                 'TA',\n",
       "                                                                                 'Gd',\n",
       "                                                                                 'Ex'],\n",
       "                                                                                ['Po',\n",
       "                                                                                 'Fa',\n",
       "                                                                                 'TA',\n",
       "                                                                                 'Gd',\n",
       "                                                                                 'Ex'],\n",
       "                                                                                ['Po',\n",
       "                                                                                 'Fa',\n",
       "                                                                                 'TA',\n",
       "                                                                                 'Gd',\n",
       "                                                                                 'Ex'],\n",
       "                                                                                ['Po',\n",
       "                                                                                 'Fa',\n",
       "                                                                                 'TA',\n",
       "                                                                                 'Gd',\n",
       "                                                                                 'Ex'],\n",
       "                                                                                ['Po',\n",
       "                                                                                 'Fa',\n",
       "                                                                                 'TA',\n",
       "                                                                                 'Gd',\n",
       "                                                                                 'Ex'],\n",
       "                                                                                ['Po',\n",
       "                                                                                 'Fa',\n",
       "                                                                                 'TA',\n",
       "                                                                                 'Gd',\n",
       "                                                                                 'Ex']],\n",
       "                                                                    handle_unknown='use_encoded_...\n",
       "                                                     OneHotEncoder(handle_unknown='ignore',\n",
       "                                                                   sparse=False))]),\n",
       "                                    ['SaleCondition', 'GarageFinish', 'CentralAir',\n",
       "                                     'Alley', 'LandSlope', 'ExterQual',\n",
       "                                     'MiscFeature', 'Foundation', 'Electrical',\n",
       "                                     'GarageType', 'PavedDrive', 'Utilities',\n",
       "                                     'RoofStyle', 'Street', 'BldgType',\n",
       "                                     'BsmtFinType1', 'BsmtFinType2',\n",
       "                                     'BsmtExposure', 'MSZoning', 'LotConfig',\n",
       "                                     'LotShape', 'MasVnrType', 'LandContour',\n",
       "                                     'Fence', 'Heating', 'GarageCond'])])),\n",
       "  ('selectpercentile', SelectPercentile()),\n",
       "  ('randomforestregressor', RandomForestRegressor())],\n",
       " 'verbose': False,\n",
       " 'columntransformer': ColumnTransformer(transformers=[('cat_qual',\n",
       "                                  Pipeline(steps=[('ordinalencoder',\n",
       "                                                   OrdinalEncoder(categories=[['Po',\n",
       "                                                                               'Fa',\n",
       "                                                                               'TA',\n",
       "                                                                               'Gd',\n",
       "                                                                               'Ex'],\n",
       "                                                                              ['Po',\n",
       "                                                                               'Fa',\n",
       "                                                                               'TA',\n",
       "                                                                               'Gd',\n",
       "                                                                               'Ex'],\n",
       "                                                                              ['Po',\n",
       "                                                                               'Fa',\n",
       "                                                                               'TA',\n",
       "                                                                               'Gd',\n",
       "                                                                               'Ex'],\n",
       "                                                                              ['Po',\n",
       "                                                                               'Fa',\n",
       "                                                                               'TA',\n",
       "                                                                               'Gd',\n",
       "                                                                               'Ex'],\n",
       "                                                                              ['Po',\n",
       "                                                                               'Fa',\n",
       "                                                                               'TA',\n",
       "                                                                               'Gd',\n",
       "                                                                               'Ex'],\n",
       "                                                                              ['Po',\n",
       "                                                                               'Fa',\n",
       "                                                                               'TA',\n",
       "                                                                               'Gd',\n",
       "                                                                               'Ex'],\n",
       "                                                                              ['Po',\n",
       "                                                                               'Fa',\n",
       "                                                                               'TA',\n",
       "                                                                               'Gd',\n",
       "                                                                               'Ex'],\n",
       "                                                                              ['Po',\n",
       "                                                                               'Fa',\n",
       "                                                                               'TA',\n",
       "                                                                               'Gd',\n",
       "                                                                               'Ex']],\n",
       "                                                                  handle_unknown='use_encoded_...\n",
       "                                                   OneHotEncoder(handle_unknown='ignore',\n",
       "                                                                 sparse=False))]),\n",
       "                                  ['SaleCondition', 'GarageFinish', 'CentralAir',\n",
       "                                   'Alley', 'LandSlope', 'ExterQual',\n",
       "                                   'MiscFeature', 'Foundation', 'Electrical',\n",
       "                                   'GarageType', 'PavedDrive', 'Utilities',\n",
       "                                   'RoofStyle', 'Street', 'BldgType',\n",
       "                                   'BsmtFinType1', 'BsmtFinType2',\n",
       "                                   'BsmtExposure', 'MSZoning', 'LotConfig',\n",
       "                                   'LotShape', 'MasVnrType', 'LandContour',\n",
       "                                   'Fence', 'Heating', 'GarageCond'])]),\n",
       " 'selectpercentile': SelectPercentile(),\n",
       " 'randomforestregressor': RandomForestRegressor(),\n",
       " 'columntransformer__n_jobs': None,\n",
       " 'columntransformer__remainder': 'drop',\n",
       " 'columntransformer__sparse_threshold': 0.3,\n",
       " 'columntransformer__transformer_weights': None,\n",
       " 'columntransformer__transformers': [('cat_qual',\n",
       "   Pipeline(steps=[('ordinalencoder',\n",
       "                    OrdinalEncoder(categories=[['Po', 'Fa', 'TA', 'Gd', 'Ex'],\n",
       "                                               ['Po', 'Fa', 'TA', 'Gd', 'Ex'],\n",
       "                                               ['Po', 'Fa', 'TA', 'Gd', 'Ex'],\n",
       "                                               ['Po', 'Fa', 'TA', 'Gd', 'Ex'],\n",
       "                                               ['Po', 'Fa', 'TA', 'Gd', 'Ex'],\n",
       "                                               ['Po', 'Fa', 'TA', 'Gd', 'Ex'],\n",
       "                                               ['Po', 'Fa', 'TA', 'Gd', 'Ex'],\n",
       "                                               ['Po', 'Fa', 'TA', 'Gd', 'Ex']],\n",
       "                                   handle_unknown='use_encoded_value',\n",
       "                                   unknown_value=-1))]),\n",
       "   ['HeatingQC',\n",
       "    'ExterCond',\n",
       "    'FireplaceQu',\n",
       "    'BsmtQual',\n",
       "    'BsmtCond',\n",
       "    'KitchenQual',\n",
       "    'GarageQual',\n",
       "    'PoolQC']),\n",
       "  ('num',\n",
       "   Pipeline(steps=[('simpleimputer', SimpleImputer()),\n",
       "                   ('minmaxscaler', MinMaxScaler())]),\n",
       "   <sklearn.compose._column_transformer.make_column_selector at 0x14924bee0>),\n",
       "  ('cat_no_qual',\n",
       "   Pipeline(steps=[('simpleimputer', SimpleImputer(strategy='most_frequent')),\n",
       "                   ('onehotencoder',\n",
       "                    OneHotEncoder(handle_unknown='ignore', sparse=False))]),\n",
       "   ['SaleCondition',\n",
       "    'GarageFinish',\n",
       "    'CentralAir',\n",
       "    'Alley',\n",
       "    'LandSlope',\n",
       "    'ExterQual',\n",
       "    'MiscFeature',\n",
       "    'Foundation',\n",
       "    'Electrical',\n",
       "    'GarageType',\n",
       "    'PavedDrive',\n",
       "    'Utilities',\n",
       "    'RoofStyle',\n",
       "    'Street',\n",
       "    'BldgType',\n",
       "    'BsmtFinType1',\n",
       "    'BsmtFinType2',\n",
       "    'BsmtExposure',\n",
       "    'MSZoning',\n",
       "    'LotConfig',\n",
       "    'LotShape',\n",
       "    'MasVnrType',\n",
       "    'LandContour',\n",
       "    'Fence',\n",
       "    'Heating',\n",
       "    'GarageCond'])],\n",
       " 'columntransformer__verbose': False,\n",
       " 'columntransformer__verbose_feature_names_out': True,\n",
       " 'columntransformer__cat_qual': Pipeline(steps=[('ordinalencoder',\n",
       "                  OrdinalEncoder(categories=[['Po', 'Fa', 'TA', 'Gd', 'Ex'],\n",
       "                                             ['Po', 'Fa', 'TA', 'Gd', 'Ex'],\n",
       "                                             ['Po', 'Fa', 'TA', 'Gd', 'Ex'],\n",
       "                                             ['Po', 'Fa', 'TA', 'Gd', 'Ex'],\n",
       "                                             ['Po', 'Fa', 'TA', 'Gd', 'Ex'],\n",
       "                                             ['Po', 'Fa', 'TA', 'Gd', 'Ex'],\n",
       "                                             ['Po', 'Fa', 'TA', 'Gd', 'Ex'],\n",
       "                                             ['Po', 'Fa', 'TA', 'Gd', 'Ex']],\n",
       "                                 handle_unknown='use_encoded_value',\n",
       "                                 unknown_value=-1))]),\n",
       " 'columntransformer__num': Pipeline(steps=[('simpleimputer', SimpleImputer()),\n",
       "                 ('minmaxscaler', MinMaxScaler())]),\n",
       " 'columntransformer__cat_no_qual': Pipeline(steps=[('simpleimputer', SimpleImputer(strategy='most_frequent')),\n",
       "                 ('onehotencoder',\n",
       "                  OneHotEncoder(handle_unknown='ignore', sparse=False))]),\n",
       " 'columntransformer__cat_qual__memory': None,\n",
       " 'columntransformer__cat_qual__steps': [('ordinalencoder',\n",
       "   OrdinalEncoder(categories=[['Po', 'Fa', 'TA', 'Gd', 'Ex'],\n",
       "                              ['Po', 'Fa', 'TA', 'Gd', 'Ex'],\n",
       "                              ['Po', 'Fa', 'TA', 'Gd', 'Ex'],\n",
       "                              ['Po', 'Fa', 'TA', 'Gd', 'Ex'],\n",
       "                              ['Po', 'Fa', 'TA', 'Gd', 'Ex'],\n",
       "                              ['Po', 'Fa', 'TA', 'Gd', 'Ex'],\n",
       "                              ['Po', 'Fa', 'TA', 'Gd', 'Ex'],\n",
       "                              ['Po', 'Fa', 'TA', 'Gd', 'Ex']],\n",
       "                  handle_unknown='use_encoded_value', unknown_value=-1))],\n",
       " 'columntransformer__cat_qual__verbose': False,\n",
       " 'columntransformer__cat_qual__ordinalencoder': OrdinalEncoder(categories=[['Po', 'Fa', 'TA', 'Gd', 'Ex'],\n",
       "                            ['Po', 'Fa', 'TA', 'Gd', 'Ex'],\n",
       "                            ['Po', 'Fa', 'TA', 'Gd', 'Ex'],\n",
       "                            ['Po', 'Fa', 'TA', 'Gd', 'Ex'],\n",
       "                            ['Po', 'Fa', 'TA', 'Gd', 'Ex'],\n",
       "                            ['Po', 'Fa', 'TA', 'Gd', 'Ex'],\n",
       "                            ['Po', 'Fa', 'TA', 'Gd', 'Ex'],\n",
       "                            ['Po', 'Fa', 'TA', 'Gd', 'Ex']],\n",
       "                handle_unknown='use_encoded_value', unknown_value=-1),\n",
       " 'columntransformer__cat_qual__ordinalencoder__categories': [['Po',\n",
       "   'Fa',\n",
       "   'TA',\n",
       "   'Gd',\n",
       "   'Ex'],\n",
       "  ['Po', 'Fa', 'TA', 'Gd', 'Ex'],\n",
       "  ['Po', 'Fa', 'TA', 'Gd', 'Ex'],\n",
       "  ['Po', 'Fa', 'TA', 'Gd', 'Ex'],\n",
       "  ['Po', 'Fa', 'TA', 'Gd', 'Ex'],\n",
       "  ['Po', 'Fa', 'TA', 'Gd', 'Ex'],\n",
       "  ['Po', 'Fa', 'TA', 'Gd', 'Ex'],\n",
       "  ['Po', 'Fa', 'TA', 'Gd', 'Ex']],\n",
       " 'columntransformer__cat_qual__ordinalencoder__dtype': numpy.float64,\n",
       " 'columntransformer__cat_qual__ordinalencoder__handle_unknown': 'use_encoded_value',\n",
       " 'columntransformer__cat_qual__ordinalencoder__unknown_value': -1,\n",
       " 'columntransformer__num__memory': None,\n",
       " 'columntransformer__num__steps': [('simpleimputer', SimpleImputer()),\n",
       "  ('minmaxscaler', MinMaxScaler())],\n",
       " 'columntransformer__num__verbose': False,\n",
       " 'columntransformer__num__simpleimputer': SimpleImputer(),\n",
       " 'columntransformer__num__minmaxscaler': MinMaxScaler(),\n",
       " 'columntransformer__num__simpleimputer__add_indicator': False,\n",
       " 'columntransformer__num__simpleimputer__copy': True,\n",
       " 'columntransformer__num__simpleimputer__fill_value': None,\n",
       " 'columntransformer__num__simpleimputer__missing_values': nan,\n",
       " 'columntransformer__num__simpleimputer__strategy': 'mean',\n",
       " 'columntransformer__num__simpleimputer__verbose': 0,\n",
       " 'columntransformer__num__minmaxscaler__clip': False,\n",
       " 'columntransformer__num__minmaxscaler__copy': True,\n",
       " 'columntransformer__num__minmaxscaler__feature_range': (0, 1),\n",
       " 'columntransformer__cat_no_qual__memory': None,\n",
       " 'columntransformer__cat_no_qual__steps': [('simpleimputer',\n",
       "   SimpleImputer(strategy='most_frequent')),\n",
       "  ('onehotencoder', OneHotEncoder(handle_unknown='ignore', sparse=False))],\n",
       " 'columntransformer__cat_no_qual__verbose': False,\n",
       " 'columntransformer__cat_no_qual__simpleimputer': SimpleImputer(strategy='most_frequent'),\n",
       " 'columntransformer__cat_no_qual__onehotencoder': OneHotEncoder(handle_unknown='ignore', sparse=False),\n",
       " 'columntransformer__cat_no_qual__simpleimputer__add_indicator': False,\n",
       " 'columntransformer__cat_no_qual__simpleimputer__copy': True,\n",
       " 'columntransformer__cat_no_qual__simpleimputer__fill_value': None,\n",
       " 'columntransformer__cat_no_qual__simpleimputer__missing_values': nan,\n",
       " 'columntransformer__cat_no_qual__simpleimputer__strategy': 'most_frequent',\n",
       " 'columntransformer__cat_no_qual__simpleimputer__verbose': 0,\n",
       " 'columntransformer__cat_no_qual__onehotencoder__categories': 'auto',\n",
       " 'columntransformer__cat_no_qual__onehotencoder__drop': None,\n",
       " 'columntransformer__cat_no_qual__onehotencoder__dtype': numpy.float64,\n",
       " 'columntransformer__cat_no_qual__onehotencoder__handle_unknown': 'ignore',\n",
       " 'columntransformer__cat_no_qual__onehotencoder__sparse': False,\n",
       " 'selectpercentile__percentile': 10,\n",
       " 'selectpercentile__score_func': <function sklearn.feature_selection._univariate_selection.f_classif(X, y)>,\n",
       " 'randomforestregressor__bootstrap': True,\n",
       " 'randomforestregressor__ccp_alpha': 0.0,\n",
       " 'randomforestregressor__criterion': 'squared_error',\n",
       " 'randomforestregressor__max_depth': None,\n",
       " 'randomforestregressor__max_features': 'auto',\n",
       " 'randomforestregressor__max_leaf_nodes': None,\n",
       " 'randomforestregressor__max_samples': None,\n",
       " 'randomforestregressor__min_impurity_decrease': 0.0,\n",
       " 'randomforestregressor__min_samples_leaf': 1,\n",
       " 'randomforestregressor__min_samples_split': 2,\n",
       " 'randomforestregressor__min_weight_fraction_leaf': 0.0,\n",
       " 'randomforestregressor__n_estimators': 100,\n",
       " 'randomforestregressor__n_jobs': None,\n",
       " 'randomforestregressor__oob_score': False,\n",
       " 'randomforestregressor__random_state': None,\n",
       " 'randomforestregressor__verbose': 0,\n",
       " 'randomforestregressor__warm_start': False}"
      ]
     },
     "execution_count": 258,
     "metadata": {},
     "output_type": "execute_result"
    }
   ],
   "source": [
    "pipe.get_params()"
   ]
  },
  {
   "cell_type": "markdown",
   "metadata": {},
   "source": [
    "#### (option 2) <font color=green>Multivariate</font> feature selection based their combined relationship with target `y`"
   ]
  },
  {
   "cell_type": "markdown",
   "metadata": {},
   "source": [
    "🤔 We want to remove features that, when in combination with all the others, do not really help predict our target.\n",
    "\n",
    "1️⃣ To do so, remember that we can use feature [`permutation_importance`](https://scikit-learn.org/stable/modules/permutation_importance.html) importance in combination with an estimator! It train one pipe per feature, so as to estimate which feature make our performance score *decrease* the most when shuffling it randomly. These would be our most important feature not to remove. \n",
    "\n",
    "Cherry on the cake, scikit-learn allows you to integrate this methodology directly into your `preproc` pipeline thanks to the `SequentialFeatureSelector` transformer: This will recursively filter-out least important features according to `feature_permutation` importance!  \n",
    "\n",
    "However, such process can take extremely long to train when you have many features.\n",
    "\n",
    "2️⃣ Alternatively, a faster way would be to make use of models that already outputs some measure of feature_importance when fitting them. For instance, Trees with gini-based `feature_importance_`, or Lasso regressions with L1 `coef_`. Again here, scikit-learn has coded for you a [`SelectFromModel`](https://scikit-learn.org/stable/modules/generated/sklearn.feature_selection.SelectFromModel.html) transformer to do just that"
   ]
  },
  {
   "cell_type": "code",
   "execution_count": 0,
   "metadata": {
    "tags": [
     "challengify"
    ]
   },
   "outputs": [],
   "source": [
    "# YOUR CODE HERE"
   ]
  },
  {
   "cell_type": "markdown",
   "metadata": {},
   "source": [
    "#### (option 3) <font color=green>Unsupervised</font> selection: Filter based only on the properties of `X`? "
   ]
  },
  {
   "cell_type": "markdown",
   "metadata": {},
   "source": [
    "❓ A quick-win is to remove features with the lowest variance. Think about it: a feature which only takes one value is useless (and has a variance of 0).  \n",
    "- Feel free to add a `VarianceThreshold` to the end of your pipeline"
   ]
  },
  {
   "cell_type": "code",
   "execution_count": 0,
   "metadata": {
    "tags": [
     "challengify"
    ]
   },
   "outputs": [],
   "source": [
    "# YOUR CODE HERE"
   ]
  },
  {
   "cell_type": "markdown",
   "metadata": {},
   "source": [
    "❓ Additionally, we can check for correlation between our **numerical features** only\n",
    "\n",
    "- Use [Pearson's correlation](https://en.wikipedia.org/wiki/Pearson_correlation_coefficient) combined with a heatmap to check visually whether some **numerical** features almost entirely correlated with others. \n",
    "- Use statsmodels's `VIF` to check for feature that have the highest multicolionearity"
   ]
  },
  {
   "cell_type": "code",
   "execution_count": 0,
   "metadata": {
    "tags": [
     "challengify"
    ]
   },
   "outputs": [],
   "source": [
    "# YOUR CODE HERE"
   ]
  },
  {
   "cell_type": "markdown",
   "metadata": {},
   "source": [
    "❓ For **ordinal features**, we can use [Spearman's rank correlation](https://en.wikipedia.org/wiki/Spearman%27s_rank_correlation_coefficient) instead to check whether some **ordinally encoded** features are almost entirely \"ordered\" similarily than others. Feel free to plot a heatmap again"
   ]
  },
  {
   "cell_type": "code",
   "execution_count": 0,
   "metadata": {
    "tags": [
     "challengify"
    ]
   },
   "outputs": [],
   "source": [
    "# YOUR CODE HERE"
   ]
  },
  {
   "cell_type": "markdown",
   "metadata": {},
   "source": [
    "❓Now, feel free to create a \"filter\" in your pipeline that removes any feature you want beyond a given (spearman + peasron) correlation threshold. You'll need a custom transformer class"
   ]
  },
  {
   "cell_type": "code",
   "execution_count": 0,
   "metadata": {
    "tags": [
     "challengify"
    ]
   },
   "outputs": [],
   "source": [
    "# YOUR CODE HERE"
   ]
  },
  {
   "cell_type": "markdown",
   "metadata": {},
   "source": [
    "### c) Target engineering (15 min)"
   ]
  },
  {
   "cell_type": "markdown",
   "metadata": {},
   "source": [
    "❓ We are asked to minimize the RMS**L**E. Why don't we transform our target to directly predict its log?\n",
    "- Check-out the histogram of the target `y`.\n",
    "- Normally distributed variables should be easier to predict with linear or parametric models. \n",
    "- Create `y_log` and your new performance metrics\n",
    "- Don't forget at the end to take the exponential of your predictions!"
   ]
  },
  {
   "cell_type": "code",
   "execution_count": 416,
   "metadata": {
    "tags": [
     "challengify"
    ]
   },
   "outputs": [],
   "source": [
    "y_log = np.log(y)"
   ]
  },
  {
   "cell_type": "code",
   "execution_count": 417,
   "metadata": {},
   "outputs": [],
   "source": [
    "def rmsle_l(y_log,y_log_pred,**kwargs):\n",
    "    sigma = ((y_log-y_log_pred)**2).sum()\n",
    "    return math.sqrt(sigma/len(y_log))\n",
    "\n",
    "rmsle_log = make_scorer(rmsle_l)"
   ]
  },
  {
   "cell_type": "markdown",
   "metadata": {},
   "source": [
    "## 2.2 Models Iteration ♻"
   ]
  },
  {
   "cell_type": "code",
   "execution_count": 478,
   "metadata": {},
   "outputs": [],
   "source": [
    "from scipy import stats\n",
    "from sklearn.model_selection import RandomizedSearchCV,GridSearchCV\n",
    "from sklearn.impute import KNNImputer"
   ]
  },
  {
   "cell_type": "code",
   "execution_count": 479,
   "metadata": {},
   "outputs": [],
   "source": [
    "num_col = make_column_selector(dtype_include=['float64', 'int64'])\n",
    "\n",
    "cat_pipe = make_pipeline(SimpleImputer(strategy='most_frequent'),\n",
    "                        OneHotEncoder(sparse=False, handle_unknown='ignore'))\n",
    "num_pipe = make_pipeline(KNNImputer(),\n",
    "                        MinMaxScaler())\n",
    "preproc_baseline = ColumnTransformer([\n",
    "    (\"cat\",cat_pipe,feat_categorical_small.index),\n",
    "    (\"num\",num_pipe, num_col)\n",
    "])"
   ]
  },
  {
   "cell_type": "markdown",
   "metadata": {},
   "source": [
    "### RandomForestRegressor, "
   ]
  },
  {
   "cell_type": "markdown",
   "metadata": {},
   "source": [
    "model = RandomForestRegressor(max_depth=None, n_estimators=200), 0.14497730618352836\n",
    "\n",
    "model = RandomForestRegressor(max_depth=None, n_estimators=100), 0.1469525106478981"
   ]
  },
  {
   "cell_type": "code",
   "execution_count": 144,
   "metadata": {},
   "outputs": [],
   "source": [
    "from sklearn.ensemble import RandomForestRegressor"
   ]
  },
  {
   "cell_type": "code",
   "execution_count": 422,
   "metadata": {
    "collapsed": true
   },
   "outputs": [
    {
     "ename": "TypeError",
     "evalue": "All intermediate steps should be transformers and implement fit and transform or be the string 'passthrough' 'Pipeline(steps=[('pipeline',\n                 Pipeline(steps=[('columntransformer',\n                                  ColumnTransformer(transformers=[('cat_qual',\n                                                                   Pipeline(steps=[('ordinalencoder',\n                                                                                    OrdinalEncoder(categories=[['Po',\n                                                                                                                'Fa',\n                                                                                                                'TA',\n                                                                                                                'Gd',\n                                                                                                                'Ex'],\n                                                                                                               ['Po',\n                                                                                                                'Fa',\n                                                                                                                'TA',\n                                                                                                                'Gd',\n                                                                                                                'Ex'],\n                                                                                                               ['Po',\n                                                                                                                'Fa',\n                                                                                                                'TA',\n                                                                                                                'Gd',\n                                                                                                                'Ex'],\n                                                                                                               ['Po',\n                                                                                                                'Fa',\n                                                                                                                'TA',\n                                                                                                                'Gd',\n                                                                                                                'Ex'],\n                                                                                                               ['Po',\n                                                                                                                'Fa',\n                                                                                                                'TA',\n                                                                                                                'Gd',\n                                                                                                                'Ex'],\n                                                                                                               ['Po',\n                                                                                                                'Fa',\n                                                                                                                'TA',\n                                                                                                                'Gd',\n                                                                                                                'Ex'],\n                                                                                                               ['Po',\n                                                                                                                'Fa',\n                                                                                                                'TA',\n                                                                                                                'G...\n                              interaction_constraints=None, learning_rate=0.01,\n                              max_delta_step=None, max_depth=None,\n                              min_child_weight=None, missing=nan,\n                              monotone_constraints=None, n_estimators=1000,\n                              n_jobs=-1, num_parallel_tree=None, predictor=None,\n                              random_state=None, reg_alpha=None,\n                              reg_lambda=None, scale_pos_weight=None,\n                              subsample=None, tree_method=None,\n                              validate_parameters=None, verbosity=None))])' (type <class 'sklearn.pipeline.Pipeline'>) doesn't",
     "output_type": "error",
     "traceback": [
      "\u001b[0;31m---------------------------------------------------------------------------\u001b[0m",
      "\u001b[0;31mTypeError\u001b[0m                                 Traceback (most recent call last)",
      "\u001b[0;32m/var/folders/yf/53d25rm10gq_l7wdtlp_205w0000gn/T/ipykernel_32072/2386070842.py\u001b[0m in \u001b[0;36m<module>\u001b[0;34m\u001b[0m\n\u001b[1;32m      1\u001b[0m \u001b[0mmodel\u001b[0m \u001b[0;34m=\u001b[0m \u001b[0mRandomForestRegressor\u001b[0m\u001b[0;34m(\u001b[0m\u001b[0mmax_depth\u001b[0m\u001b[0;34m=\u001b[0m\u001b[0;32mNone\u001b[0m\u001b[0;34m,\u001b[0m \u001b[0mn_estimators\u001b[0m\u001b[0;34m=\u001b[0m\u001b[0;36m100\u001b[0m\u001b[0;34m)\u001b[0m\u001b[0;34m\u001b[0m\u001b[0;34m\u001b[0m\u001b[0m\n\u001b[1;32m      2\u001b[0m \u001b[0;34m\u001b[0m\u001b[0m\n\u001b[0;32m----> 3\u001b[0;31m \u001b[0mpipe_baseline\u001b[0m \u001b[0;34m=\u001b[0m \u001b[0mmake_pipeline\u001b[0m\u001b[0;34m(\u001b[0m\u001b[0mpipe_baseline\u001b[0m\u001b[0;34m,\u001b[0m \u001b[0mmodel\u001b[0m\u001b[0;34m)\u001b[0m\u001b[0;34m\u001b[0m\u001b[0;34m\u001b[0m\u001b[0m\n\u001b[0m\u001b[1;32m      4\u001b[0m \u001b[0;34m\u001b[0m\u001b[0m\n\u001b[1;32m      5\u001b[0m \u001b[0mscore_baseline\u001b[0m \u001b[0;34m=\u001b[0m \u001b[0mcross_val_score\u001b[0m\u001b[0;34m(\u001b[0m\u001b[0mpipe_baseline\u001b[0m\u001b[0;34m,\u001b[0m \u001b[0mX\u001b[0m\u001b[0;34m,\u001b[0m \u001b[0my\u001b[0m\u001b[0;34m,\u001b[0m \u001b[0mscoring\u001b[0m \u001b[0;34m=\u001b[0m \u001b[0mrmsle\u001b[0m\u001b[0;34m)\u001b[0m\u001b[0;34m.\u001b[0m\u001b[0mmean\u001b[0m\u001b[0;34m(\u001b[0m\u001b[0;34m)\u001b[0m\u001b[0;34m\u001b[0m\u001b[0;34m\u001b[0m\u001b[0m\n",
      "\u001b[0;32m~/.pyenv/versions/3.8.12/envs/lewagon/lib/python3.8/site-packages/sklearn/pipeline.py\u001b[0m in \u001b[0;36mmake_pipeline\u001b[0;34m(memory, verbose, *steps)\u001b[0m\n\u001b[1;32m    870\u001b[0m                     ('gaussiannb', GaussianNB())])\n\u001b[1;32m    871\u001b[0m     \"\"\"\n\u001b[0;32m--> 872\u001b[0;31m     \u001b[0;32mreturn\u001b[0m \u001b[0mPipeline\u001b[0m\u001b[0;34m(\u001b[0m\u001b[0m_name_estimators\u001b[0m\u001b[0;34m(\u001b[0m\u001b[0msteps\u001b[0m\u001b[0;34m)\u001b[0m\u001b[0;34m,\u001b[0m \u001b[0mmemory\u001b[0m\u001b[0;34m=\u001b[0m\u001b[0mmemory\u001b[0m\u001b[0;34m,\u001b[0m \u001b[0mverbose\u001b[0m\u001b[0;34m=\u001b[0m\u001b[0mverbose\u001b[0m\u001b[0;34m)\u001b[0m\u001b[0;34m\u001b[0m\u001b[0;34m\u001b[0m\u001b[0m\n\u001b[0m\u001b[1;32m    873\u001b[0m \u001b[0;34m\u001b[0m\u001b[0m\n\u001b[1;32m    874\u001b[0m \u001b[0;34m\u001b[0m\u001b[0m\n",
      "\u001b[0;32m~/.pyenv/versions/3.8.12/envs/lewagon/lib/python3.8/site-packages/sklearn/pipeline.py\u001b[0m in \u001b[0;36m__init__\u001b[0;34m(self, steps, memory, verbose)\u001b[0m\n\u001b[1;32m    146\u001b[0m         \u001b[0mself\u001b[0m\u001b[0;34m.\u001b[0m\u001b[0mmemory\u001b[0m \u001b[0;34m=\u001b[0m \u001b[0mmemory\u001b[0m\u001b[0;34m\u001b[0m\u001b[0;34m\u001b[0m\u001b[0m\n\u001b[1;32m    147\u001b[0m         \u001b[0mself\u001b[0m\u001b[0;34m.\u001b[0m\u001b[0mverbose\u001b[0m \u001b[0;34m=\u001b[0m \u001b[0mverbose\u001b[0m\u001b[0;34m\u001b[0m\u001b[0;34m\u001b[0m\u001b[0m\n\u001b[0;32m--> 148\u001b[0;31m         \u001b[0mself\u001b[0m\u001b[0;34m.\u001b[0m\u001b[0m_validate_steps\u001b[0m\u001b[0;34m(\u001b[0m\u001b[0;34m)\u001b[0m\u001b[0;34m\u001b[0m\u001b[0;34m\u001b[0m\u001b[0m\n\u001b[0m\u001b[1;32m    149\u001b[0m \u001b[0;34m\u001b[0m\u001b[0m\n\u001b[1;32m    150\u001b[0m     \u001b[0;32mdef\u001b[0m \u001b[0mget_params\u001b[0m\u001b[0;34m(\u001b[0m\u001b[0mself\u001b[0m\u001b[0;34m,\u001b[0m \u001b[0mdeep\u001b[0m\u001b[0;34m=\u001b[0m\u001b[0;32mTrue\u001b[0m\u001b[0;34m)\u001b[0m\u001b[0;34m:\u001b[0m\u001b[0;34m\u001b[0m\u001b[0;34m\u001b[0m\u001b[0m\n",
      "\u001b[0;32m~/.pyenv/versions/3.8.12/envs/lewagon/lib/python3.8/site-packages/sklearn/pipeline.py\u001b[0m in \u001b[0;36m_validate_steps\u001b[0;34m(self)\u001b[0m\n\u001b[1;32m    205\u001b[0m                 \u001b[0mt\u001b[0m\u001b[0;34m,\u001b[0m \u001b[0;34m\"transform\"\u001b[0m\u001b[0;34m\u001b[0m\u001b[0;34m\u001b[0m\u001b[0m\n\u001b[1;32m    206\u001b[0m             ):\n\u001b[0;32m--> 207\u001b[0;31m                 raise TypeError(\n\u001b[0m\u001b[1;32m    208\u001b[0m                     \u001b[0;34m\"All intermediate steps should be \"\u001b[0m\u001b[0;34m\u001b[0m\u001b[0;34m\u001b[0m\u001b[0m\n\u001b[1;32m    209\u001b[0m                     \u001b[0;34m\"transformers and implement fit and transform \"\u001b[0m\u001b[0;34m\u001b[0m\u001b[0;34m\u001b[0m\u001b[0m\n",
      "\u001b[0;31mTypeError\u001b[0m: All intermediate steps should be transformers and implement fit and transform or be the string 'passthrough' 'Pipeline(steps=[('pipeline',\n                 Pipeline(steps=[('columntransformer',\n                                  ColumnTransformer(transformers=[('cat_qual',\n                                                                   Pipeline(steps=[('ordinalencoder',\n                                                                                    OrdinalEncoder(categories=[['Po',\n                                                                                                                'Fa',\n                                                                                                                'TA',\n                                                                                                                'Gd',\n                                                                                                                'Ex'],\n                                                                                                               ['Po',\n                                                                                                                'Fa',\n                                                                                                                'TA',\n                                                                                                                'Gd',\n                                                                                                                'Ex'],\n                                                                                                               ['Po',\n                                                                                                                'Fa',\n                                                                                                                'TA',\n                                                                                                                'Gd',\n                                                                                                                'Ex'],\n                                                                                                               ['Po',\n                                                                                                                'Fa',\n                                                                                                                'TA',\n                                                                                                                'Gd',\n                                                                                                                'Ex'],\n                                                                                                               ['Po',\n                                                                                                                'Fa',\n                                                                                                                'TA',\n                                                                                                                'Gd',\n                                                                                                                'Ex'],\n                                                                                                               ['Po',\n                                                                                                                'Fa',\n                                                                                                                'TA',\n                                                                                                                'Gd',\n                                                                                                                'Ex'],\n                                                                                                               ['Po',\n                                                                                                                'Fa',\n                                                                                                                'TA',\n                                                                                                                'G...\n                              interaction_constraints=None, learning_rate=0.01,\n                              max_delta_step=None, max_depth=None,\n                              min_child_weight=None, missing=nan,\n                              monotone_constraints=None, n_estimators=1000,\n                              n_jobs=-1, num_parallel_tree=None, predictor=None,\n                              random_state=None, reg_alpha=None,\n                              reg_lambda=None, scale_pos_weight=None,\n                              subsample=None, tree_method=None,\n                              validate_parameters=None, verbosity=None))])' (type <class 'sklearn.pipeline.Pipeline'>) doesn't"
     ]
    }
   ],
   "source": [
    "model = RandomForestRegressor(max_depth=None, n_estimators=100)\n",
    "\n",
    "pipe_baseline = make_pipeline(pipe_baseline, model)\n",
    "\n",
    "score_rfr = cross_val_score(pipe_baseline, X, y, scoring = rmsle).mean()\n",
    "score_rfr"
   ]
  },
  {
   "cell_type": "code",
   "execution_count": 151,
   "metadata": {
    "collapsed": true
   },
   "outputs": [
    {
     "data": {
      "text/plain": [
       "{'memory': None,\n",
       " 'steps': [('columntransformer',\n",
       "   ColumnTransformer(transformers=[('cat',\n",
       "                                    Pipeline(steps=[('simpleimputer',\n",
       "                                                     SimpleImputer(strategy='most_frequent')),\n",
       "                                                    ('onehotencoder',\n",
       "                                                     OneHotEncoder(handle_unknown='ignore',\n",
       "                                                                   sparse=False))]),\n",
       "                                    Index(['MSZoning', 'Street', 'Alley', 'LotShape', 'LandContour', 'Utilities',\n",
       "          'LotConfig', 'LandSlope', 'BldgType', 'RoofStyle', 'MasVnrType',\n",
       "          'ExterQual', 'ExterCond', 'Foundati...\n",
       "          'CentralAir', 'Electrical', 'KitchenQual', 'FireplaceQu', 'GarageType',\n",
       "          'GarageFinish', 'GarageQual', 'GarageCond', 'PavedDrive', 'PoolQC',\n",
       "          'Fence', 'MiscFeature', 'SaleCondition'],\n",
       "         dtype='object')),\n",
       "                                   ('num',\n",
       "                                    Pipeline(steps=[('simpleimputer',\n",
       "                                                     SimpleImputer()),\n",
       "                                                    ('minmaxscaler',\n",
       "                                                     MinMaxScaler())]),\n",
       "                                    <sklearn.compose._column_transformer.make_column_selector object at 0x14924bee0>)])),\n",
       "  ('randomforestregressor', RandomForestRegressor())],\n",
       " 'verbose': False,\n",
       " 'columntransformer': ColumnTransformer(transformers=[('cat',\n",
       "                                  Pipeline(steps=[('simpleimputer',\n",
       "                                                   SimpleImputer(strategy='most_frequent')),\n",
       "                                                  ('onehotencoder',\n",
       "                                                   OneHotEncoder(handle_unknown='ignore',\n",
       "                                                                 sparse=False))]),\n",
       "                                  Index(['MSZoning', 'Street', 'Alley', 'LotShape', 'LandContour', 'Utilities',\n",
       "        'LotConfig', 'LandSlope', 'BldgType', 'RoofStyle', 'MasVnrType',\n",
       "        'ExterQual', 'ExterCond', 'Foundati...\n",
       "        'CentralAir', 'Electrical', 'KitchenQual', 'FireplaceQu', 'GarageType',\n",
       "        'GarageFinish', 'GarageQual', 'GarageCond', 'PavedDrive', 'PoolQC',\n",
       "        'Fence', 'MiscFeature', 'SaleCondition'],\n",
       "       dtype='object')),\n",
       "                                 ('num',\n",
       "                                  Pipeline(steps=[('simpleimputer',\n",
       "                                                   SimpleImputer()),\n",
       "                                                  ('minmaxscaler',\n",
       "                                                   MinMaxScaler())]),\n",
       "                                  <sklearn.compose._column_transformer.make_column_selector object at 0x14924bee0>)]),\n",
       " 'randomforestregressor': RandomForestRegressor(),\n",
       " 'columntransformer__n_jobs': None,\n",
       " 'columntransformer__remainder': 'drop',\n",
       " 'columntransformer__sparse_threshold': 0.3,\n",
       " 'columntransformer__transformer_weights': None,\n",
       " 'columntransformer__transformers': [('cat',\n",
       "   Pipeline(steps=[('simpleimputer', SimpleImputer(strategy='most_frequent')),\n",
       "                   ('onehotencoder',\n",
       "                    OneHotEncoder(handle_unknown='ignore', sparse=False))]),\n",
       "   Index(['MSZoning', 'Street', 'Alley', 'LotShape', 'LandContour', 'Utilities',\n",
       "          'LotConfig', 'LandSlope', 'BldgType', 'RoofStyle', 'MasVnrType',\n",
       "          'ExterQual', 'ExterCond', 'Foundation', 'BsmtQual', 'BsmtCond',\n",
       "          'BsmtExposure', 'BsmtFinType1', 'BsmtFinType2', 'Heating', 'HeatingQC',\n",
       "          'CentralAir', 'Electrical', 'KitchenQual', 'FireplaceQu', 'GarageType',\n",
       "          'GarageFinish', 'GarageQual', 'GarageCond', 'PavedDrive', 'PoolQC',\n",
       "          'Fence', 'MiscFeature', 'SaleCondition'],\n",
       "         dtype='object')),\n",
       "  ('num',\n",
       "   Pipeline(steps=[('simpleimputer', SimpleImputer()),\n",
       "                   ('minmaxscaler', MinMaxScaler())]),\n",
       "   <sklearn.compose._column_transformer.make_column_selector at 0x14924bee0>)],\n",
       " 'columntransformer__verbose': False,\n",
       " 'columntransformer__verbose_feature_names_out': True,\n",
       " 'columntransformer__cat': Pipeline(steps=[('simpleimputer', SimpleImputer(strategy='most_frequent')),\n",
       "                 ('onehotencoder',\n",
       "                  OneHotEncoder(handle_unknown='ignore', sparse=False))]),\n",
       " 'columntransformer__num': Pipeline(steps=[('simpleimputer', SimpleImputer()),\n",
       "                 ('minmaxscaler', MinMaxScaler())]),\n",
       " 'columntransformer__cat__memory': None,\n",
       " 'columntransformer__cat__steps': [('simpleimputer',\n",
       "   SimpleImputer(strategy='most_frequent')),\n",
       "  ('onehotencoder', OneHotEncoder(handle_unknown='ignore', sparse=False))],\n",
       " 'columntransformer__cat__verbose': False,\n",
       " 'columntransformer__cat__simpleimputer': SimpleImputer(strategy='most_frequent'),\n",
       " 'columntransformer__cat__onehotencoder': OneHotEncoder(handle_unknown='ignore', sparse=False),\n",
       " 'columntransformer__cat__simpleimputer__add_indicator': False,\n",
       " 'columntransformer__cat__simpleimputer__copy': True,\n",
       " 'columntransformer__cat__simpleimputer__fill_value': None,\n",
       " 'columntransformer__cat__simpleimputer__missing_values': nan,\n",
       " 'columntransformer__cat__simpleimputer__strategy': 'most_frequent',\n",
       " 'columntransformer__cat__simpleimputer__verbose': 0,\n",
       " 'columntransformer__cat__onehotencoder__categories': 'auto',\n",
       " 'columntransformer__cat__onehotencoder__drop': None,\n",
       " 'columntransformer__cat__onehotencoder__dtype': numpy.float64,\n",
       " 'columntransformer__cat__onehotencoder__handle_unknown': 'ignore',\n",
       " 'columntransformer__cat__onehotencoder__sparse': False,\n",
       " 'columntransformer__num__memory': None,\n",
       " 'columntransformer__num__steps': [('simpleimputer', SimpleImputer()),\n",
       "  ('minmaxscaler', MinMaxScaler())],\n",
       " 'columntransformer__num__verbose': False,\n",
       " 'columntransformer__num__simpleimputer': SimpleImputer(),\n",
       " 'columntransformer__num__minmaxscaler': MinMaxScaler(),\n",
       " 'columntransformer__num__simpleimputer__add_indicator': False,\n",
       " 'columntransformer__num__simpleimputer__copy': True,\n",
       " 'columntransformer__num__simpleimputer__fill_value': None,\n",
       " 'columntransformer__num__simpleimputer__missing_values': nan,\n",
       " 'columntransformer__num__simpleimputer__strategy': 'mean',\n",
       " 'columntransformer__num__simpleimputer__verbose': 0,\n",
       " 'columntransformer__num__minmaxscaler__clip': False,\n",
       " 'columntransformer__num__minmaxscaler__copy': True,\n",
       " 'columntransformer__num__minmaxscaler__feature_range': (0, 1),\n",
       " 'randomforestregressor__bootstrap': True,\n",
       " 'randomforestregressor__ccp_alpha': 0.0,\n",
       " 'randomforestregressor__criterion': 'squared_error',\n",
       " 'randomforestregressor__max_depth': None,\n",
       " 'randomforestregressor__max_features': 'auto',\n",
       " 'randomforestregressor__max_leaf_nodes': None,\n",
       " 'randomforestregressor__max_samples': None,\n",
       " 'randomforestregressor__min_impurity_decrease': 0.0,\n",
       " 'randomforestregressor__min_samples_leaf': 1,\n",
       " 'randomforestregressor__min_samples_split': 2,\n",
       " 'randomforestregressor__min_weight_fraction_leaf': 0.0,\n",
       " 'randomforestregressor__n_estimators': 100,\n",
       " 'randomforestregressor__n_jobs': None,\n",
       " 'randomforestregressor__oob_score': False,\n",
       " 'randomforestregressor__random_state': None,\n",
       " 'randomforestregressor__verbose': 0,\n",
       " 'randomforestregressor__warm_start': False}"
      ]
     },
     "execution_count": 151,
     "metadata": {},
     "output_type": "execute_result"
    }
   ],
   "source": [
    "pipe_baseline.get_params()"
   ]
  },
  {
   "cell_type": "code",
   "execution_count": 152,
   "metadata": {
    "collapsed": true
   },
   "outputs": [
    {
     "ename": "KeyboardInterrupt",
     "evalue": "",
     "output_type": "error",
     "traceback": [
      "\u001b[0;31m---------------------------------------------------------------------------\u001b[0m",
      "\u001b[0;31mKeyboardInterrupt\u001b[0m                         Traceback (most recent call last)",
      "\u001b[0;32m/var/folders/yf/53d25rm10gq_l7wdtlp_205w0000gn/T/ipykernel_32072/3479456868.py\u001b[0m in \u001b[0;36m<module>\u001b[0;34m\u001b[0m\n\u001b[1;32m      7\u001b[0m                            n_jobs=-1)\n\u001b[1;32m      8\u001b[0m \u001b[0;34m\u001b[0m\u001b[0m\n\u001b[0;32m----> 9\u001b[0;31m \u001b[0msearch\u001b[0m\u001b[0;34m.\u001b[0m\u001b[0mfit\u001b[0m\u001b[0;34m(\u001b[0m\u001b[0mX\u001b[0m\u001b[0;34m,\u001b[0m\u001b[0my\u001b[0m\u001b[0;34m)\u001b[0m\u001b[0;34m\u001b[0m\u001b[0;34m\u001b[0m\u001b[0m\n\u001b[0m\u001b[1;32m     10\u001b[0m \u001b[0msearch\u001b[0m\u001b[0;34m.\u001b[0m\u001b[0mbest_score_\u001b[0m\u001b[0;34m\u001b[0m\u001b[0;34m\u001b[0m\u001b[0m\n",
      "\u001b[0;32m~/.pyenv/versions/3.8.12/envs/lewagon/lib/python3.8/site-packages/sklearn/model_selection/_search.py\u001b[0m in \u001b[0;36mfit\u001b[0;34m(self, X, y, groups, **fit_params)\u001b[0m\n\u001b[1;32m    889\u001b[0m                 \u001b[0;32mreturn\u001b[0m \u001b[0mresults\u001b[0m\u001b[0;34m\u001b[0m\u001b[0;34m\u001b[0m\u001b[0m\n\u001b[1;32m    890\u001b[0m \u001b[0;34m\u001b[0m\u001b[0m\n\u001b[0;32m--> 891\u001b[0;31m             \u001b[0mself\u001b[0m\u001b[0;34m.\u001b[0m\u001b[0m_run_search\u001b[0m\u001b[0;34m(\u001b[0m\u001b[0mevaluate_candidates\u001b[0m\u001b[0;34m)\u001b[0m\u001b[0;34m\u001b[0m\u001b[0;34m\u001b[0m\u001b[0m\n\u001b[0m\u001b[1;32m    892\u001b[0m \u001b[0;34m\u001b[0m\u001b[0m\n\u001b[1;32m    893\u001b[0m             \u001b[0;31m# multimetric is determined here because in the case of a callable\u001b[0m\u001b[0;34m\u001b[0m\u001b[0;34m\u001b[0m\u001b[0;34m\u001b[0m\u001b[0m\n",
      "\u001b[0;32m~/.pyenv/versions/3.8.12/envs/lewagon/lib/python3.8/site-packages/sklearn/model_selection/_search.py\u001b[0m in \u001b[0;36m_run_search\u001b[0;34m(self, evaluate_candidates)\u001b[0m\n\u001b[1;32m   1764\u001b[0m     \u001b[0;32mdef\u001b[0m \u001b[0m_run_search\u001b[0m\u001b[0;34m(\u001b[0m\u001b[0mself\u001b[0m\u001b[0;34m,\u001b[0m \u001b[0mevaluate_candidates\u001b[0m\u001b[0;34m)\u001b[0m\u001b[0;34m:\u001b[0m\u001b[0;34m\u001b[0m\u001b[0;34m\u001b[0m\u001b[0m\n\u001b[1;32m   1765\u001b[0m         \u001b[0;34m\"\"\"Search n_iter candidates from param_distributions\"\"\"\u001b[0m\u001b[0;34m\u001b[0m\u001b[0;34m\u001b[0m\u001b[0m\n\u001b[0;32m-> 1766\u001b[0;31m         evaluate_candidates(\n\u001b[0m\u001b[1;32m   1767\u001b[0m             ParameterSampler(\n\u001b[1;32m   1768\u001b[0m                 \u001b[0mself\u001b[0m\u001b[0;34m.\u001b[0m\u001b[0mparam_distributions\u001b[0m\u001b[0;34m,\u001b[0m \u001b[0mself\u001b[0m\u001b[0;34m.\u001b[0m\u001b[0mn_iter\u001b[0m\u001b[0;34m,\u001b[0m \u001b[0mrandom_state\u001b[0m\u001b[0;34m=\u001b[0m\u001b[0mself\u001b[0m\u001b[0;34m.\u001b[0m\u001b[0mrandom_state\u001b[0m\u001b[0;34m\u001b[0m\u001b[0;34m\u001b[0m\u001b[0m\n",
      "\u001b[0;32m~/.pyenv/versions/3.8.12/envs/lewagon/lib/python3.8/site-packages/sklearn/model_selection/_search.py\u001b[0m in \u001b[0;36mevaluate_candidates\u001b[0;34m(candidate_params, cv, more_results)\u001b[0m\n\u001b[1;32m    836\u001b[0m                     )\n\u001b[1;32m    837\u001b[0m \u001b[0;34m\u001b[0m\u001b[0m\n\u001b[0;32m--> 838\u001b[0;31m                 out = parallel(\n\u001b[0m\u001b[1;32m    839\u001b[0m                     delayed(_fit_and_score)(\n\u001b[1;32m    840\u001b[0m                         \u001b[0mclone\u001b[0m\u001b[0;34m(\u001b[0m\u001b[0mbase_estimator\u001b[0m\u001b[0;34m)\u001b[0m\u001b[0;34m,\u001b[0m\u001b[0;34m\u001b[0m\u001b[0;34m\u001b[0m\u001b[0m\n",
      "\u001b[0;32m~/.pyenv/versions/3.8.12/envs/lewagon/lib/python3.8/site-packages/joblib/parallel.py\u001b[0m in \u001b[0;36m__call__\u001b[0;34m(self, iterable)\u001b[0m\n\u001b[1;32m   1052\u001b[0m \u001b[0;34m\u001b[0m\u001b[0m\n\u001b[1;32m   1053\u001b[0m             \u001b[0;32mwith\u001b[0m \u001b[0mself\u001b[0m\u001b[0;34m.\u001b[0m\u001b[0m_backend\u001b[0m\u001b[0;34m.\u001b[0m\u001b[0mretrieval_context\u001b[0m\u001b[0;34m(\u001b[0m\u001b[0;34m)\u001b[0m\u001b[0;34m:\u001b[0m\u001b[0;34m\u001b[0m\u001b[0;34m\u001b[0m\u001b[0m\n\u001b[0;32m-> 1054\u001b[0;31m                 \u001b[0mself\u001b[0m\u001b[0;34m.\u001b[0m\u001b[0mretrieve\u001b[0m\u001b[0;34m(\u001b[0m\u001b[0;34m)\u001b[0m\u001b[0;34m\u001b[0m\u001b[0;34m\u001b[0m\u001b[0m\n\u001b[0m\u001b[1;32m   1055\u001b[0m             \u001b[0;31m# Make sure that we get a last message telling us we are done\u001b[0m\u001b[0;34m\u001b[0m\u001b[0;34m\u001b[0m\u001b[0;34m\u001b[0m\u001b[0m\n\u001b[1;32m   1056\u001b[0m             \u001b[0melapsed_time\u001b[0m \u001b[0;34m=\u001b[0m \u001b[0mtime\u001b[0m\u001b[0;34m.\u001b[0m\u001b[0mtime\u001b[0m\u001b[0;34m(\u001b[0m\u001b[0;34m)\u001b[0m \u001b[0;34m-\u001b[0m \u001b[0mself\u001b[0m\u001b[0;34m.\u001b[0m\u001b[0m_start_time\u001b[0m\u001b[0;34m\u001b[0m\u001b[0;34m\u001b[0m\u001b[0m\n",
      "\u001b[0;32m~/.pyenv/versions/3.8.12/envs/lewagon/lib/python3.8/site-packages/joblib/parallel.py\u001b[0m in \u001b[0;36mretrieve\u001b[0;34m(self)\u001b[0m\n\u001b[1;32m    931\u001b[0m             \u001b[0;32mtry\u001b[0m\u001b[0;34m:\u001b[0m\u001b[0;34m\u001b[0m\u001b[0;34m\u001b[0m\u001b[0m\n\u001b[1;32m    932\u001b[0m                 \u001b[0;32mif\u001b[0m \u001b[0mgetattr\u001b[0m\u001b[0;34m(\u001b[0m\u001b[0mself\u001b[0m\u001b[0;34m.\u001b[0m\u001b[0m_backend\u001b[0m\u001b[0;34m,\u001b[0m \u001b[0;34m'supports_timeout'\u001b[0m\u001b[0;34m,\u001b[0m \u001b[0;32mFalse\u001b[0m\u001b[0;34m)\u001b[0m\u001b[0;34m:\u001b[0m\u001b[0;34m\u001b[0m\u001b[0;34m\u001b[0m\u001b[0m\n\u001b[0;32m--> 933\u001b[0;31m                     \u001b[0mself\u001b[0m\u001b[0;34m.\u001b[0m\u001b[0m_output\u001b[0m\u001b[0;34m.\u001b[0m\u001b[0mextend\u001b[0m\u001b[0;34m(\u001b[0m\u001b[0mjob\u001b[0m\u001b[0;34m.\u001b[0m\u001b[0mget\u001b[0m\u001b[0;34m(\u001b[0m\u001b[0mtimeout\u001b[0m\u001b[0;34m=\u001b[0m\u001b[0mself\u001b[0m\u001b[0;34m.\u001b[0m\u001b[0mtimeout\u001b[0m\u001b[0;34m)\u001b[0m\u001b[0;34m)\u001b[0m\u001b[0;34m\u001b[0m\u001b[0;34m\u001b[0m\u001b[0m\n\u001b[0m\u001b[1;32m    934\u001b[0m                 \u001b[0;32melse\u001b[0m\u001b[0;34m:\u001b[0m\u001b[0;34m\u001b[0m\u001b[0;34m\u001b[0m\u001b[0m\n\u001b[1;32m    935\u001b[0m                     \u001b[0mself\u001b[0m\u001b[0;34m.\u001b[0m\u001b[0m_output\u001b[0m\u001b[0;34m.\u001b[0m\u001b[0mextend\u001b[0m\u001b[0;34m(\u001b[0m\u001b[0mjob\u001b[0m\u001b[0;34m.\u001b[0m\u001b[0mget\u001b[0m\u001b[0;34m(\u001b[0m\u001b[0;34m)\u001b[0m\u001b[0;34m)\u001b[0m\u001b[0;34m\u001b[0m\u001b[0;34m\u001b[0m\u001b[0m\n",
      "\u001b[0;32m~/.pyenv/versions/3.8.12/envs/lewagon/lib/python3.8/site-packages/joblib/_parallel_backends.py\u001b[0m in \u001b[0;36mwrap_future_result\u001b[0;34m(future, timeout)\u001b[0m\n\u001b[1;32m    540\u001b[0m         AsyncResults.get from multiprocessing.\"\"\"\n\u001b[1;32m    541\u001b[0m         \u001b[0;32mtry\u001b[0m\u001b[0;34m:\u001b[0m\u001b[0;34m\u001b[0m\u001b[0;34m\u001b[0m\u001b[0m\n\u001b[0;32m--> 542\u001b[0;31m             \u001b[0;32mreturn\u001b[0m \u001b[0mfuture\u001b[0m\u001b[0;34m.\u001b[0m\u001b[0mresult\u001b[0m\u001b[0;34m(\u001b[0m\u001b[0mtimeout\u001b[0m\u001b[0;34m=\u001b[0m\u001b[0mtimeout\u001b[0m\u001b[0;34m)\u001b[0m\u001b[0;34m\u001b[0m\u001b[0;34m\u001b[0m\u001b[0m\n\u001b[0m\u001b[1;32m    543\u001b[0m         \u001b[0;32mexcept\u001b[0m \u001b[0mCfTimeoutError\u001b[0m \u001b[0;32mas\u001b[0m \u001b[0me\u001b[0m\u001b[0;34m:\u001b[0m\u001b[0;34m\u001b[0m\u001b[0;34m\u001b[0m\u001b[0m\n\u001b[1;32m    544\u001b[0m             \u001b[0;32mraise\u001b[0m \u001b[0mTimeoutError\u001b[0m \u001b[0;32mfrom\u001b[0m \u001b[0me\u001b[0m\u001b[0;34m\u001b[0m\u001b[0;34m\u001b[0m\u001b[0m\n",
      "\u001b[0;32m~/.pyenv/versions/3.8.12/lib/python3.8/concurrent/futures/_base.py\u001b[0m in \u001b[0;36mresult\u001b[0;34m(self, timeout)\u001b[0m\n\u001b[1;32m    437\u001b[0m                     \u001b[0;32mreturn\u001b[0m \u001b[0mself\u001b[0m\u001b[0;34m.\u001b[0m\u001b[0m__get_result\u001b[0m\u001b[0;34m(\u001b[0m\u001b[0;34m)\u001b[0m\u001b[0;34m\u001b[0m\u001b[0;34m\u001b[0m\u001b[0m\n\u001b[1;32m    438\u001b[0m \u001b[0;34m\u001b[0m\u001b[0m\n\u001b[0;32m--> 439\u001b[0;31m                 \u001b[0mself\u001b[0m\u001b[0;34m.\u001b[0m\u001b[0m_condition\u001b[0m\u001b[0;34m.\u001b[0m\u001b[0mwait\u001b[0m\u001b[0;34m(\u001b[0m\u001b[0mtimeout\u001b[0m\u001b[0;34m)\u001b[0m\u001b[0;34m\u001b[0m\u001b[0;34m\u001b[0m\u001b[0m\n\u001b[0m\u001b[1;32m    440\u001b[0m \u001b[0;34m\u001b[0m\u001b[0m\n\u001b[1;32m    441\u001b[0m                 \u001b[0;32mif\u001b[0m \u001b[0mself\u001b[0m\u001b[0;34m.\u001b[0m\u001b[0m_state\u001b[0m \u001b[0;32min\u001b[0m \u001b[0;34m[\u001b[0m\u001b[0mCANCELLED\u001b[0m\u001b[0;34m,\u001b[0m \u001b[0mCANCELLED_AND_NOTIFIED\u001b[0m\u001b[0;34m]\u001b[0m\u001b[0;34m:\u001b[0m\u001b[0;34m\u001b[0m\u001b[0;34m\u001b[0m\u001b[0m\n",
      "\u001b[0;32m~/.pyenv/versions/3.8.12/lib/python3.8/threading.py\u001b[0m in \u001b[0;36mwait\u001b[0;34m(self, timeout)\u001b[0m\n\u001b[1;32m    300\u001b[0m         \u001b[0;32mtry\u001b[0m\u001b[0;34m:\u001b[0m    \u001b[0;31m# restore state no matter what (e.g., KeyboardInterrupt)\u001b[0m\u001b[0;34m\u001b[0m\u001b[0;34m\u001b[0m\u001b[0m\n\u001b[1;32m    301\u001b[0m             \u001b[0;32mif\u001b[0m \u001b[0mtimeout\u001b[0m \u001b[0;32mis\u001b[0m \u001b[0;32mNone\u001b[0m\u001b[0;34m:\u001b[0m\u001b[0;34m\u001b[0m\u001b[0;34m\u001b[0m\u001b[0m\n\u001b[0;32m--> 302\u001b[0;31m                 \u001b[0mwaiter\u001b[0m\u001b[0;34m.\u001b[0m\u001b[0macquire\u001b[0m\u001b[0;34m(\u001b[0m\u001b[0;34m)\u001b[0m\u001b[0;34m\u001b[0m\u001b[0;34m\u001b[0m\u001b[0m\n\u001b[0m\u001b[1;32m    303\u001b[0m                 \u001b[0mgotit\u001b[0m \u001b[0;34m=\u001b[0m \u001b[0;32mTrue\u001b[0m\u001b[0;34m\u001b[0m\u001b[0;34m\u001b[0m\u001b[0m\n\u001b[1;32m    304\u001b[0m             \u001b[0;32melse\u001b[0m\u001b[0;34m:\u001b[0m\u001b[0;34m\u001b[0m\u001b[0;34m\u001b[0m\u001b[0m\n",
      "\u001b[0;31mKeyboardInterrupt\u001b[0m: "
     ]
    }
   ],
   "source": [
    "grid = {'randomforestregressor__max_depth': stats.randint(1,100), \n",
    "        'randomforestregressor__n_estimators':[50,100,200]}\n",
    "\n",
    "search = RandomizedSearchCV(pipe_baseline, ,\n",
    "                           scoring = rmsle_neg,\n",
    "                        \n",
    "                           n_iter = 200,\n",
    "                           n_jobs=-1)\n",
    "\n",
    "search.fit(X,y)\n",
    "search.best_score_"
   ]
  },
  {
   "cell_type": "markdown",
   "metadata": {
    "heading_collapsed": true
   },
   "source": [
    "### Stacking"
   ]
  },
  {
   "cell_type": "code",
   "execution_count": 161,
   "metadata": {
    "hidden": true
   },
   "outputs": [],
   "source": [
    "from sklearn.linear_model import LinearRegression, SGDRegressor, ElasticNet, Lasso"
   ]
  },
  {
   "cell_type": "code",
   "execution_count": 160,
   "metadata": {
    "hidden": true
   },
   "outputs": [],
   "source": [
    "from sklearn.ensemble import StackingClassifier, StackingRegressor\n",
    "from sklearn.neighbors import KNeighborsClassifier, KNeighborsRegressor"
   ]
  },
  {
   "cell_type": "code",
   "execution_count": 200,
   "metadata": {
    "hidden": true
   },
   "outputs": [
    {
     "name": "stdout",
     "output_type": "stream",
     "text": [
      "[CV 1/5] END .xgbregressor__learning_rate=0.001;, score=2.381 total time=   2.9s\n",
      "[CV 1/5] END xgbregressor__learning_rate=0.001;, score=-2.381 total time=   3.1s\n",
      "[CV 3/5] END ....xgbregressor__learning_rate=1;, score=-0.217 total time=   2.8s\n",
      "[CV 3/5] END xgbregressor__learning_rate=0.001;, score=-2.368 total time=   2.8s\n",
      "[CV 2/5] END ....xgbregressor__learning_rate=1;, score=-0.230 total time=   3.1s\n",
      "[CV 1/5] END .xgbregressor__learning_rate=0.01;, score=-0.121 total time=  40.2s\n",
      "[CV 1/2] END .xgbregressor__learning_rate=0.001;, score=2.363 total time=   1.4s\n",
      "[CV 1/5] END ..xgbregressor__learning_rate=0.01;, score=0.479 total time=   3.4s\n",
      "[CV 3/5] END .....xgbregressor__learning_rate=1;, score=0.217 total time=   2.9s\n",
      "[CV 2/5] END xgbregressor__learning_rate=0.001;, score=-2.341 total time=   2.8s\n",
      "[CV 4/5] END .xgbregressor__learning_rate=0.01;, score=-0.452 total time=   2.5s\n",
      "[CV 1/5] END .xgbregressor__learning_rate=0.01;, score=-0.479 total time=   3.6s\n",
      "[CV 1/5] END xgbregressor__learning_rate=0.001;, score=-0.481 total time=  33.7s\n",
      "[CV 1/5] END ....xgbregressor__learning_rate=1;, score=-0.233 total time=  13.3s\n",
      "[CV 1/2] END ..xgbregressor__learning_rate=0.01;, score=0.485 total time=   1.6s\n",
      "[CV 4/5] END .xgbregressor__learning_rate=0.001;, score=2.328 total time=   3.0s\n",
      "[CV 1/5] END .....xgbregressor__learning_rate=1;, score=0.233 total time=   3.3s\n",
      "[CV 2/5] END .xgbregressor__learning_rate=0.01;, score=-0.475 total time=   3.2s\n",
      "[CV 4/5] END ....xgbregressor__learning_rate=1;, score=-0.193 total time=   2.6s\n",
      "[CV 2/5] END xgbregressor__learning_rate=0.001;, score=-2.341 total time=   3.0s\n",
      "[CV 3/5] END ....xgbregressor__learning_rate=1;, score=-0.217 total time=   2.9s\n",
      "[CV 5/5] END xgbregressor__learning_rate=0.001;, score=-0.488 total time=  34.4s\n",
      "[CV 3/5] END ....xgbregressor__learning_rate=1;, score=-0.217 total time=  12.9s\n",
      "[CV 2/5] END .xgbregressor__learning_rate=0.001;, score=2.341 total time=   2.8s\n",
      "[CV 5/5] END .....xgbregressor__learning_rate=1;, score=0.195 total time=   2.5s\n",
      "[CV 5/5] END xgbregressor__learning_rate=0.001;, score=-2.381 total time=   2.9s\n",
      "[CV 2/5] END ....xgbregressor__learning_rate=1;, score=-0.230 total time=   3.0s\n",
      "[CV 5/5] END xgbregressor__learning_rate=0.001;, score=-2.381 total time=   2.7s\n",
      "[CV 5/5] END .xgbregressor__learning_rate=0.01;, score=-0.485 total time=   2.8s\n",
      "[CV 3/5] END xgbregressor__learning_rate=0.001;, score=-0.485 total time=  34.1s\n",
      "[CV 2/5] END ....xgbregressor__learning_rate=1;, score=-0.230 total time=  13.5s\n",
      "[CV 2/2] END .....xgbregressor__learning_rate=1;, score=0.212 total time=   1.7s\n",
      "[CV 2/5] END ..xgbregressor__learning_rate=0.01;, score=0.475 total time=   3.4s\n",
      "[CV 2/5] END .....xgbregressor__learning_rate=1;, score=0.230 total time=   3.0s\n",
      "[CV 1/5] END .xgbregressor__learning_rate=0.01;, score=-0.479 total time=   3.5s\n",
      "[CV 1/5] END xgbregressor__learning_rate=0.001;, score=-2.381 total time=   2.7s\n",
      "[CV 4/5] END .xgbregressor__learning_rate=0.01;, score=-0.452 total time=   2.4s\n",
      "[CV 3/5] END .xgbregressor__learning_rate=0.01;, score=-0.132 total time=  36.5s\n",
      "[CV 4/5] END ....xgbregressor__learning_rate=1;, score=-0.193 total time=  12.2s\n",
      "[CV 2/2] END ..xgbregressor__learning_rate=0.01;, score=0.480 total time=   1.6s\n",
      "[CV 5/5] END .xgbregressor__learning_rate=0.001;, score=2.381 total time=   2.8s\n",
      "[CV 4/5] END ..xgbregressor__learning_rate=0.01;, score=0.452 total time=   2.8s\n",
      "[CV 3/5] END xgbregressor__learning_rate=0.001;, score=-2.368 total time=   2.9s\n",
      "[CV 1/5] END ....xgbregressor__learning_rate=1;, score=-0.233 total time=   3.0s\n",
      "[CV 3/5] END .xgbregressor__learning_rate=0.01;, score=-0.483 total time=   3.6s\n",
      "[CV 5/5] END ....xgbregressor__learning_rate=1;, score=-0.196 total time=   2.4s\n",
      "[CV 2/5] END .xgbregressor__learning_rate=0.01;, score=-0.149 total time=  40.0s\n",
      "[CV 5/5] END ....xgbregressor__learning_rate=1;, score=-0.196 total time=  10.3s\n",
      "[CV 2/2] END .xgbregressor__learning_rate=0.001;, score=2.360 total time=   1.3s\n",
      "[CV 3/5] END .xgbregressor__learning_rate=0.001;, score=2.368 total time=   2.8s\n",
      "[CV 5/5] END ..xgbregressor__learning_rate=0.01;, score=0.485 total time=   2.9s\n",
      "[CV 4/5] END xgbregressor__learning_rate=0.001;, score=-2.328 total time=   2.9s\n",
      "[CV 5/5] END .xgbregressor__learning_rate=0.01;, score=-0.485 total time=   2.5s\n",
      "[CV 4/5] END xgbregressor__learning_rate=0.001;, score=-2.328 total time=   2.8s\n",
      "[CV 1/5] END ....xgbregressor__learning_rate=1;, score=-0.233 total time=   2.9s\n",
      "[CV 4/5] END xgbregressor__learning_rate=0.001;, score=-0.455 total time=  33.2s\n",
      "[CV 5/5] END .xgbregressor__learning_rate=0.01;, score=-0.135 total time=  20.0s\n",
      "[CV 1/2] END .....xgbregressor__learning_rate=1;, score=0.257 total time=   1.8s\n",
      "[CV 3/5] END ..xgbregressor__learning_rate=0.01;, score=0.483 total time=   3.7s\n",
      "[CV 4/5] END .....xgbregressor__learning_rate=1;, score=0.193 total time=   2.6s\n",
      "[CV 3/5] END .xgbregressor__learning_rate=0.01;, score=-0.483 total time=   3.3s\n",
      "[CV 5/5] END ....xgbregressor__learning_rate=1;, score=-0.195 total time=   2.6s\n",
      "[CV 2/5] END .xgbregressor__learning_rate=0.01;, score=-0.475 total time=   3.2s\n",
      "[CV 4/5] END ....xgbregressor__learning_rate=1;, score=-0.193 total time=   2.6s\n",
      "[CV 2/5] END xgbregressor__learning_rate=0.001;, score=-0.477 total time=  33.1s\n",
      "[CV 4/5] END .xgbregressor__learning_rate=0.01;, score=-0.119 total time=  20.4s\n"
     ]
    },
    {
     "data": {
      "text/plain": [
       "0.1344529642739872"
      ]
     },
     "execution_count": 200,
     "metadata": {},
     "output_type": "execute_result"
    }
   ],
   "source": [
    "ensemble = StackingRegressor(\n",
    "    estimators = [(\"rf\", RandomForestRegressor(max_depth=5)),\n",
    "                  (\"knn\", KNeighborsRegressor(n_neighbors=1)),\n",
    "                  (\"sgd\", XGBRegressor(base_score=-0.14, n_jobs = -1, n_estimators = 300, learning_rate=0.01)),\n",
    "                  (\"EN\", ElasticNet())],\n",
    "    final_estimator = LinearRegression(n_jobs=-1))\n",
    "\n",
    "pipe_baseline = make_pipeline(preproc_baseline, ensemble)\n",
    "\n",
    "score_baseline = cross_val_score(pipe_baseline, X, y, scoring = rmsle).mean()\n",
    "score_baseline\n"
   ]
  },
  {
   "cell_type": "code",
   "execution_count": 177,
   "metadata": {
    "collapsed": true,
    "hidden": true
   },
   "outputs": [
    {
     "ename": "ValueError",
     "evalue": "Invalid parameter pipe for estimator Pipeline(steps=[('columntransformer',\n                 ColumnTransformer(transformers=[('cat',\n                                                  Pipeline(steps=[('simpleimputer',\n                                                                   SimpleImputer(strategy='most_frequent')),\n                                                                  ('onehotencoder',\n                                                                   OneHotEncoder(handle_unknown='ignore',\n                                                                                 sparse=False))]),\n                                                  Index(['MSZoning', 'Street', 'Alley', 'LotShape', 'LandContour', 'Utilities',\n       'LotConfig', 'LandSlope', 'BldgType', 'RoofStyle', 'MasVnrTy...\n                                                  Pipeline(steps=[('simpleimputer',\n                                                                   SimpleImputer()),\n                                                                  ('minmaxscaler',\n                                                                   MinMaxScaler())]),\n                                                  <sklearn.compose._column_transformer.make_column_selector object at 0x11353d9a0>)])),\n                ('stackingregressor',\n                 StackingRegressor(estimators=[('rf',\n                                                RandomForestRegressor(max_depth=5)),\n                                               ('knn', KNeighborsRegressor()),\n                                               ('sgd', SGDRegressor()),\n                                               ('EN', ElasticNet())],\n                                   final_estimator=LinearRegression(n_jobs=-1)))]). Check the list of available parameters with `estimator.get_params().keys()`.",
     "output_type": "error",
     "traceback": [
      "\u001b[0;31m---------------------------------------------------------------------------\u001b[0m",
      "\u001b[0;31m_RemoteTraceback\u001b[0m                          Traceback (most recent call last)",
      "\u001b[0;31m_RemoteTraceback\u001b[0m: \n\"\"\"\nTraceback (most recent call last):\n  File \"/Users/humbert/.pyenv/versions/3.8.12/envs/lewagon/lib/python3.8/site-packages/joblib/externals/loky/process_executor.py\", line 431, in _process_worker\n    r = call_item()\n  File \"/Users/humbert/.pyenv/versions/3.8.12/envs/lewagon/lib/python3.8/site-packages/joblib/externals/loky/process_executor.py\", line 285, in __call__\n    return self.fn(*self.args, **self.kwargs)\n  File \"/Users/humbert/.pyenv/versions/3.8.12/envs/lewagon/lib/python3.8/site-packages/joblib/_parallel_backends.py\", line 595, in __call__\n    return self.func(*args, **kwargs)\n  File \"/Users/humbert/.pyenv/versions/3.8.12/envs/lewagon/lib/python3.8/site-packages/joblib/parallel.py\", line 262, in __call__\n    return [func(*args, **kwargs)\n  File \"/Users/humbert/.pyenv/versions/3.8.12/envs/lewagon/lib/python3.8/site-packages/joblib/parallel.py\", line 262, in <listcomp>\n    return [func(*args, **kwargs)\n  File \"/Users/humbert/.pyenv/versions/3.8.12/envs/lewagon/lib/python3.8/site-packages/sklearn/utils/fixes.py\", line 216, in __call__\n    return self.function(*args, **kwargs)\n  File \"/Users/humbert/.pyenv/versions/3.8.12/envs/lewagon/lib/python3.8/site-packages/sklearn/model_selection/_validation.py\", line 668, in _fit_and_score\n    estimator = estimator.set_params(**cloned_parameters)\n  File \"/Users/humbert/.pyenv/versions/3.8.12/envs/lewagon/lib/python3.8/site-packages/sklearn/pipeline.py\", line 188, in set_params\n    self._set_params(\"steps\", **kwargs)\n  File \"/Users/humbert/.pyenv/versions/3.8.12/envs/lewagon/lib/python3.8/site-packages/sklearn/utils/metaestimators.py\", line 54, in _set_params\n    super().set_params(**params)\n  File \"/Users/humbert/.pyenv/versions/3.8.12/envs/lewagon/lib/python3.8/site-packages/sklearn/base.py\", line 245, in set_params\n    raise ValueError(\nValueError: Invalid parameter pipe for estimator Pipeline(steps=[('columntransformer',\n                 ColumnTransformer(transformers=[('cat',\n                                                  Pipeline(steps=[('simpleimputer',\n                                                                   SimpleImputer(strategy='most_frequent')),\n                                                                  ('onehotencoder',\n                                                                   OneHotEncoder(handle_unknown='ignore',\n                                                                                 sparse=False))]),\n                                                  Index(['MSZoning', 'Street', 'Alley', 'LotShape', 'LandContour', 'Utilities',\n       'LotConfig', 'LandSlope', 'BldgType', 'RoofStyle', 'MasVnrTy...\n                                                  Pipeline(steps=[('simpleimputer',\n                                                                   SimpleImputer()),\n                                                                  ('minmaxscaler',\n                                                                   MinMaxScaler())]),\n                                                  <sklearn.compose._column_transformer.make_column_selector object at 0x11353d9a0>)])),\n                ('stackingregressor',\n                 StackingRegressor(estimators=[('rf',\n                                                RandomForestRegressor(max_depth=5)),\n                                               ('knn', KNeighborsRegressor()),\n                                               ('sgd', SGDRegressor()),\n                                               ('EN', ElasticNet())],\n                                   final_estimator=LinearRegression(n_jobs=-1)))]). Check the list of available parameters with `estimator.get_params().keys()`.\n\"\"\"",
      "\nThe above exception was the direct cause of the following exception:\n",
      "\u001b[0;31mValueError\u001b[0m                                Traceback (most recent call last)",
      "\u001b[0;32m/var/folders/yf/53d25rm10gq_l7wdtlp_205w0000gn/T/ipykernel_32072/3192433279.py\u001b[0m in \u001b[0;36m<module>\u001b[0;34m\u001b[0m\n\u001b[1;32m      7\u001b[0m                            cv=4)\n\u001b[1;32m      8\u001b[0m \u001b[0;34m\u001b[0m\u001b[0m\n\u001b[0;32m----> 9\u001b[0;31m \u001b[0msearch\u001b[0m\u001b[0;34m.\u001b[0m\u001b[0mfit\u001b[0m\u001b[0;34m(\u001b[0m\u001b[0mX\u001b[0m\u001b[0;34m,\u001b[0m\u001b[0my\u001b[0m\u001b[0;34m)\u001b[0m\u001b[0;34m\u001b[0m\u001b[0;34m\u001b[0m\u001b[0m\n\u001b[0m\u001b[1;32m     10\u001b[0m \u001b[0msearch\u001b[0m\u001b[0;34m.\u001b[0m\u001b[0mbest_score_\u001b[0m\u001b[0;34m\u001b[0m\u001b[0;34m\u001b[0m\u001b[0m\n",
      "\u001b[0;32m~/.pyenv/versions/3.8.12/envs/lewagon/lib/python3.8/site-packages/sklearn/model_selection/_search.py\u001b[0m in \u001b[0;36mfit\u001b[0;34m(self, X, y, groups, **fit_params)\u001b[0m\n\u001b[1;32m    889\u001b[0m                 \u001b[0;32mreturn\u001b[0m \u001b[0mresults\u001b[0m\u001b[0;34m\u001b[0m\u001b[0;34m\u001b[0m\u001b[0m\n\u001b[1;32m    890\u001b[0m \u001b[0;34m\u001b[0m\u001b[0m\n\u001b[0;32m--> 891\u001b[0;31m             \u001b[0mself\u001b[0m\u001b[0;34m.\u001b[0m\u001b[0m_run_search\u001b[0m\u001b[0;34m(\u001b[0m\u001b[0mevaluate_candidates\u001b[0m\u001b[0;34m)\u001b[0m\u001b[0;34m\u001b[0m\u001b[0;34m\u001b[0m\u001b[0m\n\u001b[0m\u001b[1;32m    892\u001b[0m \u001b[0;34m\u001b[0m\u001b[0m\n\u001b[1;32m    893\u001b[0m             \u001b[0;31m# multimetric is determined here because in the case of a callable\u001b[0m\u001b[0;34m\u001b[0m\u001b[0;34m\u001b[0m\u001b[0;34m\u001b[0m\u001b[0m\n",
      "\u001b[0;32m~/.pyenv/versions/3.8.12/envs/lewagon/lib/python3.8/site-packages/sklearn/model_selection/_search.py\u001b[0m in \u001b[0;36m_run_search\u001b[0;34m(self, evaluate_candidates)\u001b[0m\n\u001b[1;32m   1390\u001b[0m     \u001b[0;32mdef\u001b[0m \u001b[0m_run_search\u001b[0m\u001b[0;34m(\u001b[0m\u001b[0mself\u001b[0m\u001b[0;34m,\u001b[0m \u001b[0mevaluate_candidates\u001b[0m\u001b[0;34m)\u001b[0m\u001b[0;34m:\u001b[0m\u001b[0;34m\u001b[0m\u001b[0;34m\u001b[0m\u001b[0m\n\u001b[1;32m   1391\u001b[0m         \u001b[0;34m\"\"\"Search all candidates in param_grid\"\"\"\u001b[0m\u001b[0;34m\u001b[0m\u001b[0;34m\u001b[0m\u001b[0m\n\u001b[0;32m-> 1392\u001b[0;31m         \u001b[0mevaluate_candidates\u001b[0m\u001b[0;34m(\u001b[0m\u001b[0mParameterGrid\u001b[0m\u001b[0;34m(\u001b[0m\u001b[0mself\u001b[0m\u001b[0;34m.\u001b[0m\u001b[0mparam_grid\u001b[0m\u001b[0;34m)\u001b[0m\u001b[0;34m)\u001b[0m\u001b[0;34m\u001b[0m\u001b[0;34m\u001b[0m\u001b[0m\n\u001b[0m\u001b[1;32m   1393\u001b[0m \u001b[0;34m\u001b[0m\u001b[0m\n\u001b[1;32m   1394\u001b[0m \u001b[0;34m\u001b[0m\u001b[0m\n",
      "\u001b[0;32m~/.pyenv/versions/3.8.12/envs/lewagon/lib/python3.8/site-packages/sklearn/model_selection/_search.py\u001b[0m in \u001b[0;36mevaluate_candidates\u001b[0;34m(candidate_params, cv, more_results)\u001b[0m\n\u001b[1;32m    836\u001b[0m                     )\n\u001b[1;32m    837\u001b[0m \u001b[0;34m\u001b[0m\u001b[0m\n\u001b[0;32m--> 838\u001b[0;31m                 out = parallel(\n\u001b[0m\u001b[1;32m    839\u001b[0m                     delayed(_fit_and_score)(\n\u001b[1;32m    840\u001b[0m                         \u001b[0mclone\u001b[0m\u001b[0;34m(\u001b[0m\u001b[0mbase_estimator\u001b[0m\u001b[0;34m)\u001b[0m\u001b[0;34m,\u001b[0m\u001b[0;34m\u001b[0m\u001b[0;34m\u001b[0m\u001b[0m\n",
      "\u001b[0;32m~/.pyenv/versions/3.8.12/envs/lewagon/lib/python3.8/site-packages/joblib/parallel.py\u001b[0m in \u001b[0;36m__call__\u001b[0;34m(self, iterable)\u001b[0m\n\u001b[1;32m   1052\u001b[0m \u001b[0;34m\u001b[0m\u001b[0m\n\u001b[1;32m   1053\u001b[0m             \u001b[0;32mwith\u001b[0m \u001b[0mself\u001b[0m\u001b[0;34m.\u001b[0m\u001b[0m_backend\u001b[0m\u001b[0;34m.\u001b[0m\u001b[0mretrieval_context\u001b[0m\u001b[0;34m(\u001b[0m\u001b[0;34m)\u001b[0m\u001b[0;34m:\u001b[0m\u001b[0;34m\u001b[0m\u001b[0;34m\u001b[0m\u001b[0m\n\u001b[0;32m-> 1054\u001b[0;31m                 \u001b[0mself\u001b[0m\u001b[0;34m.\u001b[0m\u001b[0mretrieve\u001b[0m\u001b[0;34m(\u001b[0m\u001b[0;34m)\u001b[0m\u001b[0;34m\u001b[0m\u001b[0;34m\u001b[0m\u001b[0m\n\u001b[0m\u001b[1;32m   1055\u001b[0m             \u001b[0;31m# Make sure that we get a last message telling us we are done\u001b[0m\u001b[0;34m\u001b[0m\u001b[0;34m\u001b[0m\u001b[0;34m\u001b[0m\u001b[0m\n\u001b[1;32m   1056\u001b[0m             \u001b[0melapsed_time\u001b[0m \u001b[0;34m=\u001b[0m \u001b[0mtime\u001b[0m\u001b[0;34m.\u001b[0m\u001b[0mtime\u001b[0m\u001b[0;34m(\u001b[0m\u001b[0;34m)\u001b[0m \u001b[0;34m-\u001b[0m \u001b[0mself\u001b[0m\u001b[0;34m.\u001b[0m\u001b[0m_start_time\u001b[0m\u001b[0;34m\u001b[0m\u001b[0;34m\u001b[0m\u001b[0m\n",
      "\u001b[0;32m~/.pyenv/versions/3.8.12/envs/lewagon/lib/python3.8/site-packages/joblib/parallel.py\u001b[0m in \u001b[0;36mretrieve\u001b[0;34m(self)\u001b[0m\n\u001b[1;32m    931\u001b[0m             \u001b[0;32mtry\u001b[0m\u001b[0;34m:\u001b[0m\u001b[0;34m\u001b[0m\u001b[0;34m\u001b[0m\u001b[0m\n\u001b[1;32m    932\u001b[0m                 \u001b[0;32mif\u001b[0m \u001b[0mgetattr\u001b[0m\u001b[0;34m(\u001b[0m\u001b[0mself\u001b[0m\u001b[0;34m.\u001b[0m\u001b[0m_backend\u001b[0m\u001b[0;34m,\u001b[0m \u001b[0;34m'supports_timeout'\u001b[0m\u001b[0;34m,\u001b[0m \u001b[0;32mFalse\u001b[0m\u001b[0;34m)\u001b[0m\u001b[0;34m:\u001b[0m\u001b[0;34m\u001b[0m\u001b[0;34m\u001b[0m\u001b[0m\n\u001b[0;32m--> 933\u001b[0;31m                     \u001b[0mself\u001b[0m\u001b[0;34m.\u001b[0m\u001b[0m_output\u001b[0m\u001b[0;34m.\u001b[0m\u001b[0mextend\u001b[0m\u001b[0;34m(\u001b[0m\u001b[0mjob\u001b[0m\u001b[0;34m.\u001b[0m\u001b[0mget\u001b[0m\u001b[0;34m(\u001b[0m\u001b[0mtimeout\u001b[0m\u001b[0;34m=\u001b[0m\u001b[0mself\u001b[0m\u001b[0;34m.\u001b[0m\u001b[0mtimeout\u001b[0m\u001b[0;34m)\u001b[0m\u001b[0;34m)\u001b[0m\u001b[0;34m\u001b[0m\u001b[0;34m\u001b[0m\u001b[0m\n\u001b[0m\u001b[1;32m    934\u001b[0m                 \u001b[0;32melse\u001b[0m\u001b[0;34m:\u001b[0m\u001b[0;34m\u001b[0m\u001b[0;34m\u001b[0m\u001b[0m\n\u001b[1;32m    935\u001b[0m                     \u001b[0mself\u001b[0m\u001b[0;34m.\u001b[0m\u001b[0m_output\u001b[0m\u001b[0;34m.\u001b[0m\u001b[0mextend\u001b[0m\u001b[0;34m(\u001b[0m\u001b[0mjob\u001b[0m\u001b[0;34m.\u001b[0m\u001b[0mget\u001b[0m\u001b[0;34m(\u001b[0m\u001b[0;34m)\u001b[0m\u001b[0;34m)\u001b[0m\u001b[0;34m\u001b[0m\u001b[0;34m\u001b[0m\u001b[0m\n",
      "\u001b[0;32m~/.pyenv/versions/3.8.12/envs/lewagon/lib/python3.8/site-packages/joblib/_parallel_backends.py\u001b[0m in \u001b[0;36mwrap_future_result\u001b[0;34m(future, timeout)\u001b[0m\n\u001b[1;32m    540\u001b[0m         AsyncResults.get from multiprocessing.\"\"\"\n\u001b[1;32m    541\u001b[0m         \u001b[0;32mtry\u001b[0m\u001b[0;34m:\u001b[0m\u001b[0;34m\u001b[0m\u001b[0;34m\u001b[0m\u001b[0m\n\u001b[0;32m--> 542\u001b[0;31m             \u001b[0;32mreturn\u001b[0m \u001b[0mfuture\u001b[0m\u001b[0;34m.\u001b[0m\u001b[0mresult\u001b[0m\u001b[0;34m(\u001b[0m\u001b[0mtimeout\u001b[0m\u001b[0;34m=\u001b[0m\u001b[0mtimeout\u001b[0m\u001b[0;34m)\u001b[0m\u001b[0;34m\u001b[0m\u001b[0;34m\u001b[0m\u001b[0m\n\u001b[0m\u001b[1;32m    543\u001b[0m         \u001b[0;32mexcept\u001b[0m \u001b[0mCfTimeoutError\u001b[0m \u001b[0;32mas\u001b[0m \u001b[0me\u001b[0m\u001b[0;34m:\u001b[0m\u001b[0;34m\u001b[0m\u001b[0;34m\u001b[0m\u001b[0m\n\u001b[1;32m    544\u001b[0m             \u001b[0;32mraise\u001b[0m \u001b[0mTimeoutError\u001b[0m \u001b[0;32mfrom\u001b[0m \u001b[0me\u001b[0m\u001b[0;34m\u001b[0m\u001b[0;34m\u001b[0m\u001b[0m\n",
      "\u001b[0;32m~/.pyenv/versions/3.8.12/lib/python3.8/concurrent/futures/_base.py\u001b[0m in \u001b[0;36mresult\u001b[0;34m(self, timeout)\u001b[0m\n\u001b[1;32m    442\u001b[0m                     \u001b[0;32mraise\u001b[0m \u001b[0mCancelledError\u001b[0m\u001b[0;34m(\u001b[0m\u001b[0;34m)\u001b[0m\u001b[0;34m\u001b[0m\u001b[0;34m\u001b[0m\u001b[0m\n\u001b[1;32m    443\u001b[0m                 \u001b[0;32melif\u001b[0m \u001b[0mself\u001b[0m\u001b[0;34m.\u001b[0m\u001b[0m_state\u001b[0m \u001b[0;34m==\u001b[0m \u001b[0mFINISHED\u001b[0m\u001b[0;34m:\u001b[0m\u001b[0;34m\u001b[0m\u001b[0;34m\u001b[0m\u001b[0m\n\u001b[0;32m--> 444\u001b[0;31m                     \u001b[0;32mreturn\u001b[0m \u001b[0mself\u001b[0m\u001b[0;34m.\u001b[0m\u001b[0m__get_result\u001b[0m\u001b[0;34m(\u001b[0m\u001b[0;34m)\u001b[0m\u001b[0;34m\u001b[0m\u001b[0;34m\u001b[0m\u001b[0m\n\u001b[0m\u001b[1;32m    445\u001b[0m                 \u001b[0;32melse\u001b[0m\u001b[0;34m:\u001b[0m\u001b[0;34m\u001b[0m\u001b[0;34m\u001b[0m\u001b[0m\n\u001b[1;32m    446\u001b[0m                     \u001b[0;32mraise\u001b[0m \u001b[0mTimeoutError\u001b[0m\u001b[0;34m(\u001b[0m\u001b[0;34m)\u001b[0m\u001b[0;34m\u001b[0m\u001b[0;34m\u001b[0m\u001b[0m\n",
      "\u001b[0;32m~/.pyenv/versions/3.8.12/lib/python3.8/concurrent/futures/_base.py\u001b[0m in \u001b[0;36m__get_result\u001b[0;34m(self)\u001b[0m\n\u001b[1;32m    387\u001b[0m         \u001b[0;32mif\u001b[0m \u001b[0mself\u001b[0m\u001b[0;34m.\u001b[0m\u001b[0m_exception\u001b[0m\u001b[0;34m:\u001b[0m\u001b[0;34m\u001b[0m\u001b[0;34m\u001b[0m\u001b[0m\n\u001b[1;32m    388\u001b[0m             \u001b[0;32mtry\u001b[0m\u001b[0;34m:\u001b[0m\u001b[0;34m\u001b[0m\u001b[0;34m\u001b[0m\u001b[0m\n\u001b[0;32m--> 389\u001b[0;31m                 \u001b[0;32mraise\u001b[0m \u001b[0mself\u001b[0m\u001b[0;34m.\u001b[0m\u001b[0m_exception\u001b[0m\u001b[0;34m\u001b[0m\u001b[0;34m\u001b[0m\u001b[0m\n\u001b[0m\u001b[1;32m    390\u001b[0m             \u001b[0;32mfinally\u001b[0m\u001b[0;34m:\u001b[0m\u001b[0;34m\u001b[0m\u001b[0;34m\u001b[0m\u001b[0m\n\u001b[1;32m    391\u001b[0m                 \u001b[0;31m# Break a reference cycle with the exception in self._exception\u001b[0m\u001b[0;34m\u001b[0m\u001b[0;34m\u001b[0m\u001b[0;34m\u001b[0m\u001b[0m\n",
      "\u001b[0;31mValueError\u001b[0m: Invalid parameter pipe for estimator Pipeline(steps=[('columntransformer',\n                 ColumnTransformer(transformers=[('cat',\n                                                  Pipeline(steps=[('simpleimputer',\n                                                                   SimpleImputer(strategy='most_frequent')),\n                                                                  ('onehotencoder',\n                                                                   OneHotEncoder(handle_unknown='ignore',\n                                                                                 sparse=False))]),\n                                                  Index(['MSZoning', 'Street', 'Alley', 'LotShape', 'LandContour', 'Utilities',\n       'LotConfig', 'LandSlope', 'BldgType', 'RoofStyle', 'MasVnrTy...\n                                                  Pipeline(steps=[('simpleimputer',\n                                                                   SimpleImputer()),\n                                                                  ('minmaxscaler',\n                                                                   MinMaxScaler())]),\n                                                  <sklearn.compose._column_transformer.make_column_selector object at 0x11353d9a0>)])),\n                ('stackingregressor',\n                 StackingRegressor(estimators=[('rf',\n                                                RandomForestRegressor(max_depth=5)),\n                                               ('knn', KNeighborsRegressor()),\n                                               ('sgd', SGDRegressor()),\n                                               ('EN', ElasticNet())],\n                                   final_estimator=LinearRegression(n_jobs=-1)))]). Check the list of available parameters with `estimator.get_params().keys()`."
     ]
    }
   ],
   "source": [
    "search = GridSearchCV(pipe_baseline, \n",
    "                            param_grid={\n",
    "                                'pipe__knn__n_neighbors': [5,7,9,11,13,15], \n",
    "                                'pipe__sgd__alpha':[0.001,0.1,10]},\n",
    "                           scoring = rmsle,\n",
    "                           n_jobs=-1,\n",
    "                           cv=4)\n",
    "\n",
    "search.fit(X,y)\n",
    "search.best_score_"
   ]
  },
  {
   "cell_type": "markdown",
   "metadata": {},
   "source": [
    "### XGBoost"
   ]
  },
  {
   "cell_type": "markdown",
   "metadata": {},
   "source": [
    "XGBRegressor(max_depth=None, n_estimators=100, learning_rate=0.1) -> 0.1328192108196274\n",
    "\n",
    "'xgbregressor__learning_rate': 0.01 -> 0.13127761703785965"
   ]
  },
  {
   "cell_type": "code",
   "execution_count": 475,
   "metadata": {},
   "outputs": [],
   "source": []
  },
  {
   "cell_type": "code",
   "execution_count": 318,
   "metadata": {},
   "outputs": [],
   "source": [
    "from xgboost import XGBRegressor\n",
    "from sklearn.feature_selection import SelectPercentile, chi2, f_regression, SelectKBest, mutual_info_regression"
   ]
  },
  {
   "cell_type": "code",
   "execution_count": 496,
   "metadata": {},
   "outputs": [],
   "source": [
    "cat_no_qual_pipe = make_pipeline(SimpleImputer(strategy='most_frequent'),\n",
    "                        OneHotEncoder(sparse=False, handle_unknown='ignore'))\n",
    "\n",
    "cat_qual_pipe = make_pipeline(qual_encoder,MinMaxScaler())\n",
    "\n",
    "num_pipe = make_pipeline(SimpleImputer(strategy='mean'),\n",
    "                        MinMaxScaler())\n",
    "\n",
    "preproc = ColumnTransformer([(\"cat_qual\",cat_qual_pipe,feat_cat_qual),\n",
    "                             (\"cat_ord\",preproc_ordinal,feat_ordinal),\n",
    "                            (\"num\",num_pipe, num_col),\n",
    "                            (\"cat_no_qual\",cat_no_qual_pipe,feat_cat_noqual),\n",
    "                            ],remainder=\"drop\")\n",
    "\n",
    "pipe = make_pipeline(preproc, SelectPercentile(mutual_info_regression, percentile = 50))"
   ]
  },
  {
   "cell_type": "code",
   "execution_count": 490,
   "metadata": {},
   "outputs": [
    {
     "data": {
      "text/plain": [
       "34"
      ]
     },
     "execution_count": 490,
     "metadata": {},
     "output_type": "execute_result"
    }
   ],
   "source": [
    "len(feat_cat_noqual)+len(feat_cat_qual)"
   ]
  },
  {
   "cell_type": "code",
   "execution_count": 493,
   "metadata": {},
   "outputs": [
    {
     "data": {
      "text/plain": [
       "0.13357981336476907"
      ]
     },
     "execution_count": 493,
     "metadata": {},
     "output_type": "execute_result"
    }
   ],
   "source": [
    "xgb_reg = XGBRegressor(base_score = 0.131, n_jobs = -1, n_estimators = 1000, learning_rate = 0.01,)\n",
    "\n",
    "pipe_baseline = make_pipeline(pipe, xgb_reg)\n",
    "\n",
    "score = cross_val_score(pipe_baseline, X, y_log, scoring = rmsle_log).mean()\n",
    "score"
   ]
  },
  {
   "cell_type": "code",
   "execution_count": 486,
   "metadata": {},
   "outputs": [
    {
     "data": {
      "text/html": [
       "<style>#sk-f67f5f48-7b3f-4265-9ac8-ab1f7ac960cf {color: black;background-color: white;}#sk-f67f5f48-7b3f-4265-9ac8-ab1f7ac960cf pre{padding: 0;}#sk-f67f5f48-7b3f-4265-9ac8-ab1f7ac960cf div.sk-toggleable {background-color: white;}#sk-f67f5f48-7b3f-4265-9ac8-ab1f7ac960cf label.sk-toggleable__label {cursor: pointer;display: block;width: 100%;margin-bottom: 0;padding: 0.3em;box-sizing: border-box;text-align: center;}#sk-f67f5f48-7b3f-4265-9ac8-ab1f7ac960cf label.sk-toggleable__label-arrow:before {content: \"▸\";float: left;margin-right: 0.25em;color: #696969;}#sk-f67f5f48-7b3f-4265-9ac8-ab1f7ac960cf label.sk-toggleable__label-arrow:hover:before {color: black;}#sk-f67f5f48-7b3f-4265-9ac8-ab1f7ac960cf div.sk-estimator:hover label.sk-toggleable__label-arrow:before {color: black;}#sk-f67f5f48-7b3f-4265-9ac8-ab1f7ac960cf div.sk-toggleable__content {max-height: 0;max-width: 0;overflow: hidden;text-align: left;background-color: #f0f8ff;}#sk-f67f5f48-7b3f-4265-9ac8-ab1f7ac960cf div.sk-toggleable__content pre {margin: 0.2em;color: black;border-radius: 0.25em;background-color: #f0f8ff;}#sk-f67f5f48-7b3f-4265-9ac8-ab1f7ac960cf input.sk-toggleable__control:checked~div.sk-toggleable__content {max-height: 200px;max-width: 100%;overflow: auto;}#sk-f67f5f48-7b3f-4265-9ac8-ab1f7ac960cf input.sk-toggleable__control:checked~label.sk-toggleable__label-arrow:before {content: \"▾\";}#sk-f67f5f48-7b3f-4265-9ac8-ab1f7ac960cf div.sk-estimator input.sk-toggleable__control:checked~label.sk-toggleable__label {background-color: #d4ebff;}#sk-f67f5f48-7b3f-4265-9ac8-ab1f7ac960cf div.sk-label input.sk-toggleable__control:checked~label.sk-toggleable__label {background-color: #d4ebff;}#sk-f67f5f48-7b3f-4265-9ac8-ab1f7ac960cf input.sk-hidden--visually {border: 0;clip: rect(1px 1px 1px 1px);clip: rect(1px, 1px, 1px, 1px);height: 1px;margin: -1px;overflow: hidden;padding: 0;position: absolute;width: 1px;}#sk-f67f5f48-7b3f-4265-9ac8-ab1f7ac960cf div.sk-estimator {font-family: monospace;background-color: #f0f8ff;border: 1px dotted black;border-radius: 0.25em;box-sizing: border-box;margin-bottom: 0.5em;}#sk-f67f5f48-7b3f-4265-9ac8-ab1f7ac960cf div.sk-estimator:hover {background-color: #d4ebff;}#sk-f67f5f48-7b3f-4265-9ac8-ab1f7ac960cf div.sk-parallel-item::after {content: \"\";width: 100%;border-bottom: 1px solid gray;flex-grow: 1;}#sk-f67f5f48-7b3f-4265-9ac8-ab1f7ac960cf div.sk-label:hover label.sk-toggleable__label {background-color: #d4ebff;}#sk-f67f5f48-7b3f-4265-9ac8-ab1f7ac960cf div.sk-serial::before {content: \"\";position: absolute;border-left: 1px solid gray;box-sizing: border-box;top: 2em;bottom: 0;left: 50%;}#sk-f67f5f48-7b3f-4265-9ac8-ab1f7ac960cf div.sk-serial {display: flex;flex-direction: column;align-items: center;background-color: white;padding-right: 0.2em;padding-left: 0.2em;}#sk-f67f5f48-7b3f-4265-9ac8-ab1f7ac960cf div.sk-item {z-index: 1;}#sk-f67f5f48-7b3f-4265-9ac8-ab1f7ac960cf div.sk-parallel {display: flex;align-items: stretch;justify-content: center;background-color: white;}#sk-f67f5f48-7b3f-4265-9ac8-ab1f7ac960cf div.sk-parallel::before {content: \"\";position: absolute;border-left: 1px solid gray;box-sizing: border-box;top: 2em;bottom: 0;left: 50%;}#sk-f67f5f48-7b3f-4265-9ac8-ab1f7ac960cf div.sk-parallel-item {display: flex;flex-direction: column;position: relative;background-color: white;}#sk-f67f5f48-7b3f-4265-9ac8-ab1f7ac960cf div.sk-parallel-item:first-child::after {align-self: flex-end;width: 50%;}#sk-f67f5f48-7b3f-4265-9ac8-ab1f7ac960cf div.sk-parallel-item:last-child::after {align-self: flex-start;width: 50%;}#sk-f67f5f48-7b3f-4265-9ac8-ab1f7ac960cf div.sk-parallel-item:only-child::after {width: 0;}#sk-f67f5f48-7b3f-4265-9ac8-ab1f7ac960cf div.sk-dashed-wrapped {border: 1px dashed gray;margin: 0 0.4em 0.5em 0.4em;box-sizing: border-box;padding-bottom: 0.4em;background-color: white;position: relative;}#sk-f67f5f48-7b3f-4265-9ac8-ab1f7ac960cf div.sk-label label {font-family: monospace;font-weight: bold;background-color: white;display: inline-block;line-height: 1.2em;}#sk-f67f5f48-7b3f-4265-9ac8-ab1f7ac960cf div.sk-label-container {position: relative;z-index: 2;text-align: center;}#sk-f67f5f48-7b3f-4265-9ac8-ab1f7ac960cf div.sk-container {/* jupyter's `normalize.less` sets `[hidden] { display: none; }` but bootstrap.min.css set `[hidden] { display: none !important; }` so we also need the `!important` here to be able to override the default hidden behavior on the sphinx rendered scikit-learn.org. See: https://github.com/scikit-learn/scikit-learn/issues/21755 */display: inline-block !important;position: relative;}#sk-f67f5f48-7b3f-4265-9ac8-ab1f7ac960cf div.sk-text-repr-fallback {display: none;}</style><div id=\"sk-f67f5f48-7b3f-4265-9ac8-ab1f7ac960cf\" class=\"sk-top-container\"><div class=\"sk-text-repr-fallback\"><pre>Pipeline(steps=[(&#x27;columntransformer&#x27;,\n",
       "                 ColumnTransformer(transformers=[(&#x27;cat_qual&#x27;,\n",
       "                                                  Pipeline(steps=[(&#x27;simpleimputer&#x27;,\n",
       "                                                                   SimpleImputer(fill_value=&#x27;missing&#x27;,\n",
       "                                                                                 strategy=&#x27;constant&#x27;)),\n",
       "                                                                  (&#x27;ordinalencoder&#x27;,\n",
       "                                                                   OrdinalEncoder(categories=[[&#x27;Po&#x27;,\n",
       "                                                                                               &#x27;Fa&#x27;,\n",
       "                                                                                               &#x27;TA&#x27;,\n",
       "                                                                                               &#x27;Gd&#x27;,\n",
       "                                                                                               &#x27;Ex&#x27;],\n",
       "                                                                                              [&#x27;Po&#x27;,\n",
       "                                                                                               &#x27;Fa&#x27;,\n",
       "                                                                                               &#x27;TA&#x27;,\n",
       "                                                                                               &#x27;Gd&#x27;,\n",
       "                                                                                               &#x27;Ex&#x27;],\n",
       "                                                                                              [&#x27;Po&#x27;,\n",
       "                                                                                               &#x27;Fa&#x27;,\n",
       "                                                                                               &#x27;TA&#x27;,\n",
       "                                                                                               &#x27;Gd&#x27;,\n",
       "                                                                                               &#x27;Ex&#x27;],\n",
       "                                                                                              [&#x27;Po&#x27;,\n",
       "                                                                                               &#x27;Fa&#x27;,\n",
       "                                                                                               &#x27;TA&#x27;,\n",
       "                                                                                               &#x27;Gd&#x27;,\n",
       "                                                                                               &#x27;Ex&#x27;],\n",
       "                                                                                              [&#x27;Po&#x27;,\n",
       "                                                                                               &#x27;Fa&#x27;,\n",
       "                                                                                               &#x27;TA&#x27;,\n",
       "                                                                                               &#x27;Gd&#x27;,\n",
       "                                                                                               &#x27;Ex&#x27;]...\n",
       "                                                   &#x27;ExterQual&#x27;, &#x27;MiscFeature&#x27;,\n",
       "                                                   &#x27;Foundation&#x27;, &#x27;Electrical&#x27;,\n",
       "                                                   &#x27;GarageType&#x27;, &#x27;PavedDrive&#x27;,\n",
       "                                                   &#x27;Utilities&#x27;, &#x27;RoofStyle&#x27;,\n",
       "                                                   &#x27;Street&#x27;, &#x27;BldgType&#x27;,\n",
       "                                                   &#x27;BsmtFinType1&#x27;,\n",
       "                                                   &#x27;BsmtFinType2&#x27;,\n",
       "                                                   &#x27;BsmtExposure&#x27;, &#x27;MSZoning&#x27;,\n",
       "                                                   &#x27;LotConfig&#x27;, &#x27;LotShape&#x27;,\n",
       "                                                   &#x27;MasVnrType&#x27;, &#x27;LandContour&#x27;,\n",
       "                                                   &#x27;Fence&#x27;, &#x27;Heating&#x27;,\n",
       "                                                   &#x27;GarageCond&#x27;])])),\n",
       "                (&#x27;selectpercentile&#x27;,\n",
       "                 SelectPercentile(percentile=40,\n",
       "                                  score_func=&lt;function mutual_info_regression at 0x14ea84160&gt;))])</pre><b>Please rerun this cell to show the HTML repr or trust the notebook.</b></div><div class=\"sk-container\" hidden><div class=\"sk-item sk-dashed-wrapped\"><div class=\"sk-label-container\"><div class=\"sk-label sk-toggleable\"><input class=\"sk-toggleable__control sk-hidden--visually\" id=\"7b711f90-e4df-47be-860e-caebb21d9c73\" type=\"checkbox\" ><label for=\"7b711f90-e4df-47be-860e-caebb21d9c73\" class=\"sk-toggleable__label sk-toggleable__label-arrow\">Pipeline</label><div class=\"sk-toggleable__content\"><pre>Pipeline(steps=[(&#x27;columntransformer&#x27;,\n",
       "                 ColumnTransformer(transformers=[(&#x27;cat_qual&#x27;,\n",
       "                                                  Pipeline(steps=[(&#x27;simpleimputer&#x27;,\n",
       "                                                                   SimpleImputer(fill_value=&#x27;missing&#x27;,\n",
       "                                                                                 strategy=&#x27;constant&#x27;)),\n",
       "                                                                  (&#x27;ordinalencoder&#x27;,\n",
       "                                                                   OrdinalEncoder(categories=[[&#x27;Po&#x27;,\n",
       "                                                                                               &#x27;Fa&#x27;,\n",
       "                                                                                               &#x27;TA&#x27;,\n",
       "                                                                                               &#x27;Gd&#x27;,\n",
       "                                                                                               &#x27;Ex&#x27;],\n",
       "                                                                                              [&#x27;Po&#x27;,\n",
       "                                                                                               &#x27;Fa&#x27;,\n",
       "                                                                                               &#x27;TA&#x27;,\n",
       "                                                                                               &#x27;Gd&#x27;,\n",
       "                                                                                               &#x27;Ex&#x27;],\n",
       "                                                                                              [&#x27;Po&#x27;,\n",
       "                                                                                               &#x27;Fa&#x27;,\n",
       "                                                                                               &#x27;TA&#x27;,\n",
       "                                                                                               &#x27;Gd&#x27;,\n",
       "                                                                                               &#x27;Ex&#x27;],\n",
       "                                                                                              [&#x27;Po&#x27;,\n",
       "                                                                                               &#x27;Fa&#x27;,\n",
       "                                                                                               &#x27;TA&#x27;,\n",
       "                                                                                               &#x27;Gd&#x27;,\n",
       "                                                                                               &#x27;Ex&#x27;],\n",
       "                                                                                              [&#x27;Po&#x27;,\n",
       "                                                                                               &#x27;Fa&#x27;,\n",
       "                                                                                               &#x27;TA&#x27;,\n",
       "                                                                                               &#x27;Gd&#x27;,\n",
       "                                                                                               &#x27;Ex&#x27;]...\n",
       "                                                   &#x27;ExterQual&#x27;, &#x27;MiscFeature&#x27;,\n",
       "                                                   &#x27;Foundation&#x27;, &#x27;Electrical&#x27;,\n",
       "                                                   &#x27;GarageType&#x27;, &#x27;PavedDrive&#x27;,\n",
       "                                                   &#x27;Utilities&#x27;, &#x27;RoofStyle&#x27;,\n",
       "                                                   &#x27;Street&#x27;, &#x27;BldgType&#x27;,\n",
       "                                                   &#x27;BsmtFinType1&#x27;,\n",
       "                                                   &#x27;BsmtFinType2&#x27;,\n",
       "                                                   &#x27;BsmtExposure&#x27;, &#x27;MSZoning&#x27;,\n",
       "                                                   &#x27;LotConfig&#x27;, &#x27;LotShape&#x27;,\n",
       "                                                   &#x27;MasVnrType&#x27;, &#x27;LandContour&#x27;,\n",
       "                                                   &#x27;Fence&#x27;, &#x27;Heating&#x27;,\n",
       "                                                   &#x27;GarageCond&#x27;])])),\n",
       "                (&#x27;selectpercentile&#x27;,\n",
       "                 SelectPercentile(percentile=40,\n",
       "                                  score_func=&lt;function mutual_info_regression at 0x14ea84160&gt;))])</pre></div></div></div><div class=\"sk-serial\"><div class=\"sk-item sk-dashed-wrapped\"><div class=\"sk-label-container\"><div class=\"sk-label sk-toggleable\"><input class=\"sk-toggleable__control sk-hidden--visually\" id=\"d43661e1-951b-4fce-8329-5daf66f237e4\" type=\"checkbox\" ><label for=\"d43661e1-951b-4fce-8329-5daf66f237e4\" class=\"sk-toggleable__label sk-toggleable__label-arrow\">columntransformer: ColumnTransformer</label><div class=\"sk-toggleable__content\"><pre>ColumnTransformer(transformers=[(&#x27;cat_qual&#x27;,\n",
       "                                 Pipeline(steps=[(&#x27;simpleimputer&#x27;,\n",
       "                                                  SimpleImputer(fill_value=&#x27;missing&#x27;,\n",
       "                                                                strategy=&#x27;constant&#x27;)),\n",
       "                                                 (&#x27;ordinalencoder&#x27;,\n",
       "                                                  OrdinalEncoder(categories=[[&#x27;Po&#x27;,\n",
       "                                                                              &#x27;Fa&#x27;,\n",
       "                                                                              &#x27;TA&#x27;,\n",
       "                                                                              &#x27;Gd&#x27;,\n",
       "                                                                              &#x27;Ex&#x27;],\n",
       "                                                                             [&#x27;Po&#x27;,\n",
       "                                                                              &#x27;Fa&#x27;,\n",
       "                                                                              &#x27;TA&#x27;,\n",
       "                                                                              &#x27;Gd&#x27;,\n",
       "                                                                              &#x27;Ex&#x27;],\n",
       "                                                                             [&#x27;Po&#x27;,\n",
       "                                                                              &#x27;Fa&#x27;,\n",
       "                                                                              &#x27;TA&#x27;,\n",
       "                                                                              &#x27;Gd&#x27;,\n",
       "                                                                              &#x27;Ex&#x27;],\n",
       "                                                                             [&#x27;Po&#x27;,\n",
       "                                                                              &#x27;Fa&#x27;,\n",
       "                                                                              &#x27;TA&#x27;,\n",
       "                                                                              &#x27;Gd&#x27;,\n",
       "                                                                              &#x27;Ex&#x27;],\n",
       "                                                                             [&#x27;Po&#x27;,\n",
       "                                                                              &#x27;Fa&#x27;,\n",
       "                                                                              &#x27;TA&#x27;,\n",
       "                                                                              &#x27;Gd&#x27;,\n",
       "                                                                              &#x27;Ex&#x27;],\n",
       "                                                                             [&#x27;Po&#x27;,\n",
       "                                                                              &#x27;Fa&#x27;,\n",
       "                                                                              &#x27;TA&#x27;,\n",
       "                                                                              &#x27;Gd&#x27;,\n",
       "                                                                              &#x27;Ex&#x27;],\n",
       "                                                                             [&#x27;Po&#x27;,\n",
       "                                                                              &#x27;Fa...\n",
       "                                                  OneHotEncoder(handle_unknown=&#x27;ignore&#x27;,\n",
       "                                                                sparse=False))]),\n",
       "                                 [&#x27;SaleCondition&#x27;, &#x27;GarageFinish&#x27;, &#x27;CentralAir&#x27;,\n",
       "                                  &#x27;Alley&#x27;, &#x27;LandSlope&#x27;, &#x27;ExterQual&#x27;,\n",
       "                                  &#x27;MiscFeature&#x27;, &#x27;Foundation&#x27;, &#x27;Electrical&#x27;,\n",
       "                                  &#x27;GarageType&#x27;, &#x27;PavedDrive&#x27;, &#x27;Utilities&#x27;,\n",
       "                                  &#x27;RoofStyle&#x27;, &#x27;Street&#x27;, &#x27;BldgType&#x27;,\n",
       "                                  &#x27;BsmtFinType1&#x27;, &#x27;BsmtFinType2&#x27;,\n",
       "                                  &#x27;BsmtExposure&#x27;, &#x27;MSZoning&#x27;, &#x27;LotConfig&#x27;,\n",
       "                                  &#x27;LotShape&#x27;, &#x27;MasVnrType&#x27;, &#x27;LandContour&#x27;,\n",
       "                                  &#x27;Fence&#x27;, &#x27;Heating&#x27;, &#x27;GarageCond&#x27;])])</pre></div></div></div><div class=\"sk-parallel\"><div class=\"sk-parallel-item\"><div class=\"sk-item\"><div class=\"sk-label-container\"><div class=\"sk-label sk-toggleable\"><input class=\"sk-toggleable__control sk-hidden--visually\" id=\"855a252f-c221-4ba9-b805-57950cc50e3f\" type=\"checkbox\" ><label for=\"855a252f-c221-4ba9-b805-57950cc50e3f\" class=\"sk-toggleable__label sk-toggleable__label-arrow\">cat_qual</label><div class=\"sk-toggleable__content\"><pre>[&#x27;HeatingQC&#x27;, &#x27;ExterCond&#x27;, &#x27;FireplaceQu&#x27;, &#x27;BsmtQual&#x27;, &#x27;BsmtCond&#x27;, &#x27;KitchenQual&#x27;, &#x27;GarageQual&#x27;, &#x27;PoolQC&#x27;]</pre></div></div></div><div class=\"sk-serial\"><div class=\"sk-item\"><div class=\"sk-serial\"><div class=\"sk-item\"><div class=\"sk-estimator sk-toggleable\"><input class=\"sk-toggleable__control sk-hidden--visually\" id=\"4f2633e4-8258-48cc-bffe-db7bb8a159f8\" type=\"checkbox\" ><label for=\"4f2633e4-8258-48cc-bffe-db7bb8a159f8\" class=\"sk-toggleable__label sk-toggleable__label-arrow\">SimpleImputer</label><div class=\"sk-toggleable__content\"><pre>SimpleImputer(fill_value=&#x27;missing&#x27;, strategy=&#x27;constant&#x27;)</pre></div></div></div><div class=\"sk-item\"><div class=\"sk-estimator sk-toggleable\"><input class=\"sk-toggleable__control sk-hidden--visually\" id=\"6c5defd6-5e66-48c4-a14f-d43268e63501\" type=\"checkbox\" ><label for=\"6c5defd6-5e66-48c4-a14f-d43268e63501\" class=\"sk-toggleable__label sk-toggleable__label-arrow\">OrdinalEncoder</label><div class=\"sk-toggleable__content\"><pre>OrdinalEncoder(categories=[[&#x27;Po&#x27;, &#x27;Fa&#x27;, &#x27;TA&#x27;, &#x27;Gd&#x27;, &#x27;Ex&#x27;],\n",
       "                           [&#x27;Po&#x27;, &#x27;Fa&#x27;, &#x27;TA&#x27;, &#x27;Gd&#x27;, &#x27;Ex&#x27;],\n",
       "                           [&#x27;Po&#x27;, &#x27;Fa&#x27;, &#x27;TA&#x27;, &#x27;Gd&#x27;, &#x27;Ex&#x27;],\n",
       "                           [&#x27;Po&#x27;, &#x27;Fa&#x27;, &#x27;TA&#x27;, &#x27;Gd&#x27;, &#x27;Ex&#x27;],\n",
       "                           [&#x27;Po&#x27;, &#x27;Fa&#x27;, &#x27;TA&#x27;, &#x27;Gd&#x27;, &#x27;Ex&#x27;],\n",
       "                           [&#x27;Po&#x27;, &#x27;Fa&#x27;, &#x27;TA&#x27;, &#x27;Gd&#x27;, &#x27;Ex&#x27;],\n",
       "                           [&#x27;Po&#x27;, &#x27;Fa&#x27;, &#x27;TA&#x27;, &#x27;Gd&#x27;, &#x27;Ex&#x27;],\n",
       "                           [&#x27;Po&#x27;, &#x27;Fa&#x27;, &#x27;TA&#x27;, &#x27;Gd&#x27;, &#x27;Ex&#x27;]],\n",
       "               handle_unknown=&#x27;use_encoded_value&#x27;, unknown_value=-1)</pre></div></div></div><div class=\"sk-item\"><div class=\"sk-estimator sk-toggleable\"><input class=\"sk-toggleable__control sk-hidden--visually\" id=\"9123cf74-19ec-46c9-a65a-3cbd4b1f90bf\" type=\"checkbox\" ><label for=\"9123cf74-19ec-46c9-a65a-3cbd4b1f90bf\" class=\"sk-toggleable__label sk-toggleable__label-arrow\">MinMaxScaler</label><div class=\"sk-toggleable__content\"><pre>MinMaxScaler()</pre></div></div></div></div></div></div></div></div><div class=\"sk-parallel-item\"><div class=\"sk-item\"><div class=\"sk-label-container\"><div class=\"sk-label sk-toggleable\"><input class=\"sk-toggleable__control sk-hidden--visually\" id=\"c68b276a-bf07-4909-a17e-f5311f1a8cf4\" type=\"checkbox\" ><label for=\"c68b276a-bf07-4909-a17e-f5311f1a8cf4\" class=\"sk-toggleable__label sk-toggleable__label-arrow\">num</label><div class=\"sk-toggleable__content\"><pre>&lt;sklearn.compose._column_transformer.make_column_selector object at 0x1515ac940&gt;</pre></div></div></div><div class=\"sk-serial\"><div class=\"sk-item\"><div class=\"sk-serial\"><div class=\"sk-item\"><div class=\"sk-estimator sk-toggleable\"><input class=\"sk-toggleable__control sk-hidden--visually\" id=\"07fd3d04-204b-4631-b764-13464cbc923b\" type=\"checkbox\" ><label for=\"07fd3d04-204b-4631-b764-13464cbc923b\" class=\"sk-toggleable__label sk-toggleable__label-arrow\">KNNImputer</label><div class=\"sk-toggleable__content\"><pre>KNNImputer()</pre></div></div></div><div class=\"sk-item\"><div class=\"sk-estimator sk-toggleable\"><input class=\"sk-toggleable__control sk-hidden--visually\" id=\"1e2d5c9a-c93f-410f-a09e-48ddc5759b14\" type=\"checkbox\" ><label for=\"1e2d5c9a-c93f-410f-a09e-48ddc5759b14\" class=\"sk-toggleable__label sk-toggleable__label-arrow\">MinMaxScaler</label><div class=\"sk-toggleable__content\"><pre>MinMaxScaler()</pre></div></div></div></div></div></div></div></div><div class=\"sk-parallel-item\"><div class=\"sk-item\"><div class=\"sk-label-container\"><div class=\"sk-label sk-toggleable\"><input class=\"sk-toggleable__control sk-hidden--visually\" id=\"fe703877-fea2-4cdf-9b4e-1dfb51673eaa\" type=\"checkbox\" ><label for=\"fe703877-fea2-4cdf-9b4e-1dfb51673eaa\" class=\"sk-toggleable__label sk-toggleable__label-arrow\">cat_no_qual</label><div class=\"sk-toggleable__content\"><pre>[&#x27;SaleCondition&#x27;, &#x27;GarageFinish&#x27;, &#x27;CentralAir&#x27;, &#x27;Alley&#x27;, &#x27;LandSlope&#x27;, &#x27;ExterQual&#x27;, &#x27;MiscFeature&#x27;, &#x27;Foundation&#x27;, &#x27;Electrical&#x27;, &#x27;GarageType&#x27;, &#x27;PavedDrive&#x27;, &#x27;Utilities&#x27;, &#x27;RoofStyle&#x27;, &#x27;Street&#x27;, &#x27;BldgType&#x27;, &#x27;BsmtFinType1&#x27;, &#x27;BsmtFinType2&#x27;, &#x27;BsmtExposure&#x27;, &#x27;MSZoning&#x27;, &#x27;LotConfig&#x27;, &#x27;LotShape&#x27;, &#x27;MasVnrType&#x27;, &#x27;LandContour&#x27;, &#x27;Fence&#x27;, &#x27;Heating&#x27;, &#x27;GarageCond&#x27;]</pre></div></div></div><div class=\"sk-serial\"><div class=\"sk-item\"><div class=\"sk-serial\"><div class=\"sk-item\"><div class=\"sk-estimator sk-toggleable\"><input class=\"sk-toggleable__control sk-hidden--visually\" id=\"54b4f58f-89f7-430c-87ae-c30fbc625795\" type=\"checkbox\" ><label for=\"54b4f58f-89f7-430c-87ae-c30fbc625795\" class=\"sk-toggleable__label sk-toggleable__label-arrow\">SimpleImputer</label><div class=\"sk-toggleable__content\"><pre>SimpleImputer(strategy=&#x27;most_frequent&#x27;)</pre></div></div></div><div class=\"sk-item\"><div class=\"sk-estimator sk-toggleable\"><input class=\"sk-toggleable__control sk-hidden--visually\" id=\"354cdea9-15ca-4e29-a28b-5dd79059208d\" type=\"checkbox\" ><label for=\"354cdea9-15ca-4e29-a28b-5dd79059208d\" class=\"sk-toggleable__label sk-toggleable__label-arrow\">OneHotEncoder</label><div class=\"sk-toggleable__content\"><pre>OneHotEncoder(handle_unknown=&#x27;ignore&#x27;, sparse=False)</pre></div></div></div></div></div></div></div></div></div></div><div class=\"sk-item\"><div class=\"sk-estimator sk-toggleable\"><input class=\"sk-toggleable__control sk-hidden--visually\" id=\"c9ca8c42-4739-4717-8c85-83f968691fd0\" type=\"checkbox\" ><label for=\"c9ca8c42-4739-4717-8c85-83f968691fd0\" class=\"sk-toggleable__label sk-toggleable__label-arrow\">SelectPercentile</label><div class=\"sk-toggleable__content\"><pre>SelectPercentile(percentile=40,\n",
       "                 score_func=&lt;function mutual_info_regression at 0x14ea84160&gt;)</pre></div></div></div></div></div></div></div>"
      ],
      "text/plain": [
       "Pipeline(steps=[('columntransformer',\n",
       "                 ColumnTransformer(transformers=[('cat_qual',\n",
       "                                                  Pipeline(steps=[('simpleimputer',\n",
       "                                                                   SimpleImputer(fill_value='missing',\n",
       "                                                                                 strategy='constant')),\n",
       "                                                                  ('ordinalencoder',\n",
       "                                                                   OrdinalEncoder(categories=[['Po',\n",
       "                                                                                               'Fa',\n",
       "                                                                                               'TA',\n",
       "                                                                                               'Gd',\n",
       "                                                                                               'Ex'],\n",
       "                                                                                              ['Po',\n",
       "                                                                                               'Fa',\n",
       "                                                                                               'TA',\n",
       "                                                                                               'Gd',\n",
       "                                                                                               'Ex'],\n",
       "                                                                                              ['Po',\n",
       "                                                                                               'Fa',\n",
       "                                                                                               'TA',\n",
       "                                                                                               'Gd',\n",
       "                                                                                               'Ex'],\n",
       "                                                                                              ['Po',\n",
       "                                                                                               'Fa',\n",
       "                                                                                               'TA',\n",
       "                                                                                               'Gd',\n",
       "                                                                                               'Ex'],\n",
       "                                                                                              ['Po',\n",
       "                                                                                               'Fa',\n",
       "                                                                                               'TA',\n",
       "                                                                                               'Gd',\n",
       "                                                                                               'Ex']...\n",
       "                                                   'ExterQual', 'MiscFeature',\n",
       "                                                   'Foundation', 'Electrical',\n",
       "                                                   'GarageType', 'PavedDrive',\n",
       "                                                   'Utilities', 'RoofStyle',\n",
       "                                                   'Street', 'BldgType',\n",
       "                                                   'BsmtFinType1',\n",
       "                                                   'BsmtFinType2',\n",
       "                                                   'BsmtExposure', 'MSZoning',\n",
       "                                                   'LotConfig', 'LotShape',\n",
       "                                                   'MasVnrType', 'LandContour',\n",
       "                                                   'Fence', 'Heating',\n",
       "                                                   'GarageCond'])])),\n",
       "                ('selectpercentile',\n",
       "                 SelectPercentile(percentile=40,\n",
       "                                  score_func=<function mutual_info_regression at 0x14ea84160>))])"
      ]
     },
     "execution_count": 486,
     "metadata": {},
     "output_type": "execute_result"
    }
   ],
   "source": [
    "pipe"
   ]
  },
  {
   "cell_type": "code",
   "execution_count": 426,
   "metadata": {},
   "outputs": [
    {
     "data": {
      "text/plain": [
       "0.1415343392016279"
      ]
     },
     "execution_count": 426,
     "metadata": {},
     "output_type": "execute_result"
    }
   ],
   "source": [
    "model = RandomForestRegressor(max_depth=None, n_estimators=300)\n",
    "\n",
    "pipe_baseline = make_pipeline(pipe, model)\n",
    "\n",
    "score_rfr = cross_val_score(pipe_baseline, X, y_log, scoring = rmsle_log).mean()\n",
    "score_rfr"
   ]
  },
  {
   "cell_type": "code",
   "execution_count": 503,
   "metadata": {},
   "outputs": [
    {
     "data": {
      "text/plain": [
       "0.13449389137560291"
      ]
     },
     "execution_count": 503,
     "metadata": {},
     "output_type": "execute_result"
    }
   ],
   "source": [
    "model_en = ElasticNet(alpha=0.75)\n",
    "\n",
    "pipe_baseline_en = make_pipeline(pipe, model_en)\n",
    "\n",
    "score_en = cross_val_score(pipe_baseline, X, y_log, scoring = rmsle_log).mean()\n",
    "score_en"
   ]
  },
  {
   "cell_type": "code",
   "execution_count": 502,
   "metadata": {},
   "outputs": [
    {
     "data": {
      "text/plain": [
       "0.13460848048558782"
      ]
     },
     "execution_count": 502,
     "metadata": {},
     "output_type": "execute_result"
    }
   ],
   "source": [
    "model_svr = SVR(C=1)\n",
    "\n",
    "pipe_baseline_en = make_pipeline(pipe, model_svr)\n",
    "\n",
    "score_svr = cross_val_score(pipe_baseline, X, y_log, scoring = rmsle_log).mean()\n",
    "score_svr"
   ]
  },
  {
   "cell_type": "code",
   "execution_count": 501,
   "metadata": {},
   "outputs": [
    {
     "data": {
      "text/plain": [
       "0.1344680089063974"
      ]
     },
     "execution_count": 501,
     "metadata": {},
     "output_type": "execute_result"
    }
   ],
   "source": [
    "model_sg = SGDRegressor()\n",
    "\n",
    "pipe_baseline_sg = make_pipeline(pipe, model_sg)\n",
    "\n",
    "score_sg = cross_val_score(pipe_baseline, X, y_log, scoring = rmsle_log).mean()\n",
    "score_sg"
   ]
  },
  {
   "cell_type": "code",
   "execution_count": 500,
   "metadata": {},
   "outputs": [
    {
     "data": {
      "text/plain": [
       "0.12874838408726005"
      ]
     },
     "execution_count": 500,
     "metadata": {},
     "output_type": "execute_result"
    }
   ],
   "source": [
    "from sklearn.ensemble import GradientBoostingRegressor\n",
    "\n",
    "gboost = GradientBoostingRegressor(n_estimators=100)\n",
    "\n",
    "pipe_gb = make_pipeline(pipe, gboost)\n",
    "\n",
    "score_gb = cross_val_score(pipe_gb, X, y_log, scoring = rmsle_log).mean()\n",
    "score_gb"
   ]
  },
  {
   "cell_type": "code",
   "execution_count": 495,
   "metadata": {},
   "outputs": [
    {
     "data": {
      "text/html": [
       "<style>#sk-4fa77556-ce8b-4589-b36f-c53b09cc894c {color: black;background-color: white;}#sk-4fa77556-ce8b-4589-b36f-c53b09cc894c pre{padding: 0;}#sk-4fa77556-ce8b-4589-b36f-c53b09cc894c div.sk-toggleable {background-color: white;}#sk-4fa77556-ce8b-4589-b36f-c53b09cc894c label.sk-toggleable__label {cursor: pointer;display: block;width: 100%;margin-bottom: 0;padding: 0.3em;box-sizing: border-box;text-align: center;}#sk-4fa77556-ce8b-4589-b36f-c53b09cc894c label.sk-toggleable__label-arrow:before {content: \"▸\";float: left;margin-right: 0.25em;color: #696969;}#sk-4fa77556-ce8b-4589-b36f-c53b09cc894c label.sk-toggleable__label-arrow:hover:before {color: black;}#sk-4fa77556-ce8b-4589-b36f-c53b09cc894c div.sk-estimator:hover label.sk-toggleable__label-arrow:before {color: black;}#sk-4fa77556-ce8b-4589-b36f-c53b09cc894c div.sk-toggleable__content {max-height: 0;max-width: 0;overflow: hidden;text-align: left;background-color: #f0f8ff;}#sk-4fa77556-ce8b-4589-b36f-c53b09cc894c div.sk-toggleable__content pre {margin: 0.2em;color: black;border-radius: 0.25em;background-color: #f0f8ff;}#sk-4fa77556-ce8b-4589-b36f-c53b09cc894c input.sk-toggleable__control:checked~div.sk-toggleable__content {max-height: 200px;max-width: 100%;overflow: auto;}#sk-4fa77556-ce8b-4589-b36f-c53b09cc894c input.sk-toggleable__control:checked~label.sk-toggleable__label-arrow:before {content: \"▾\";}#sk-4fa77556-ce8b-4589-b36f-c53b09cc894c div.sk-estimator input.sk-toggleable__control:checked~label.sk-toggleable__label {background-color: #d4ebff;}#sk-4fa77556-ce8b-4589-b36f-c53b09cc894c div.sk-label input.sk-toggleable__control:checked~label.sk-toggleable__label {background-color: #d4ebff;}#sk-4fa77556-ce8b-4589-b36f-c53b09cc894c input.sk-hidden--visually {border: 0;clip: rect(1px 1px 1px 1px);clip: rect(1px, 1px, 1px, 1px);height: 1px;margin: -1px;overflow: hidden;padding: 0;position: absolute;width: 1px;}#sk-4fa77556-ce8b-4589-b36f-c53b09cc894c div.sk-estimator {font-family: monospace;background-color: #f0f8ff;border: 1px dotted black;border-radius: 0.25em;box-sizing: border-box;margin-bottom: 0.5em;}#sk-4fa77556-ce8b-4589-b36f-c53b09cc894c div.sk-estimator:hover {background-color: #d4ebff;}#sk-4fa77556-ce8b-4589-b36f-c53b09cc894c div.sk-parallel-item::after {content: \"\";width: 100%;border-bottom: 1px solid gray;flex-grow: 1;}#sk-4fa77556-ce8b-4589-b36f-c53b09cc894c div.sk-label:hover label.sk-toggleable__label {background-color: #d4ebff;}#sk-4fa77556-ce8b-4589-b36f-c53b09cc894c div.sk-serial::before {content: \"\";position: absolute;border-left: 1px solid gray;box-sizing: border-box;top: 2em;bottom: 0;left: 50%;}#sk-4fa77556-ce8b-4589-b36f-c53b09cc894c div.sk-serial {display: flex;flex-direction: column;align-items: center;background-color: white;padding-right: 0.2em;padding-left: 0.2em;}#sk-4fa77556-ce8b-4589-b36f-c53b09cc894c div.sk-item {z-index: 1;}#sk-4fa77556-ce8b-4589-b36f-c53b09cc894c div.sk-parallel {display: flex;align-items: stretch;justify-content: center;background-color: white;}#sk-4fa77556-ce8b-4589-b36f-c53b09cc894c div.sk-parallel::before {content: \"\";position: absolute;border-left: 1px solid gray;box-sizing: border-box;top: 2em;bottom: 0;left: 50%;}#sk-4fa77556-ce8b-4589-b36f-c53b09cc894c div.sk-parallel-item {display: flex;flex-direction: column;position: relative;background-color: white;}#sk-4fa77556-ce8b-4589-b36f-c53b09cc894c div.sk-parallel-item:first-child::after {align-self: flex-end;width: 50%;}#sk-4fa77556-ce8b-4589-b36f-c53b09cc894c div.sk-parallel-item:last-child::after {align-self: flex-start;width: 50%;}#sk-4fa77556-ce8b-4589-b36f-c53b09cc894c div.sk-parallel-item:only-child::after {width: 0;}#sk-4fa77556-ce8b-4589-b36f-c53b09cc894c div.sk-dashed-wrapped {border: 1px dashed gray;margin: 0 0.4em 0.5em 0.4em;box-sizing: border-box;padding-bottom: 0.4em;background-color: white;position: relative;}#sk-4fa77556-ce8b-4589-b36f-c53b09cc894c div.sk-label label {font-family: monospace;font-weight: bold;background-color: white;display: inline-block;line-height: 1.2em;}#sk-4fa77556-ce8b-4589-b36f-c53b09cc894c div.sk-label-container {position: relative;z-index: 2;text-align: center;}#sk-4fa77556-ce8b-4589-b36f-c53b09cc894c div.sk-container {/* jupyter's `normalize.less` sets `[hidden] { display: none; }` but bootstrap.min.css set `[hidden] { display: none !important; }` so we also need the `!important` here to be able to override the default hidden behavior on the sphinx rendered scikit-learn.org. See: https://github.com/scikit-learn/scikit-learn/issues/21755 */display: inline-block !important;position: relative;}#sk-4fa77556-ce8b-4589-b36f-c53b09cc894c div.sk-text-repr-fallback {display: none;}</style><div id=\"sk-4fa77556-ce8b-4589-b36f-c53b09cc894c\" class=\"sk-top-container\"><div class=\"sk-text-repr-fallback\"><pre>Pipeline(steps=[(&#x27;pipeline&#x27;,\n",
       "                 Pipeline(steps=[(&#x27;columntransformer&#x27;,\n",
       "                                  ColumnTransformer(transformers=[(&#x27;cat_qual&#x27;,\n",
       "                                                                   Pipeline(steps=[(&#x27;ordinalencoder&#x27;,\n",
       "                                                                                    OrdinalEncoder(categories=[[&#x27;Po&#x27;,\n",
       "                                                                                                                &#x27;Fa&#x27;,\n",
       "                                                                                                                &#x27;TA&#x27;,\n",
       "                                                                                                                &#x27;Gd&#x27;,\n",
       "                                                                                                                &#x27;Ex&#x27;],\n",
       "                                                                                                               [&#x27;Po&#x27;,\n",
       "                                                                                                                &#x27;Fa&#x27;,\n",
       "                                                                                                                &#x27;TA&#x27;,\n",
       "                                                                                                                &#x27;Gd&#x27;,\n",
       "                                                                                                                &#x27;Ex&#x27;],\n",
       "                                                                                                               [&#x27;Po&#x27;,\n",
       "                                                                                                                &#x27;Fa&#x27;,\n",
       "                                                                                                                &#x27;TA&#x27;,\n",
       "                                                                                                                &#x27;Gd&#x27;,\n",
       "                                                                                                                &#x27;Ex&#x27;],\n",
       "                                                                                                               [&#x27;Po&#x27;,\n",
       "                                                                                                                &#x27;Fa&#x27;,\n",
       "                                                                                                                &#x27;TA&#x27;,\n",
       "                                                                                                                &#x27;Gd&#x27;,\n",
       "                                                                                                                &#x27;Ex&#x27;],\n",
       "                                                                                                               [&#x27;Po&#x27;,\n",
       "                                                                                                                &#x27;Fa&#x27;,\n",
       "                                                                                                                &#x27;TA&#x27;,\n",
       "                                                                                                                &#x27;Gd&#x27;,\n",
       "                                                                                                                &#x27;Ex&#x27;],\n",
       "                                                                                                               [&#x27;Po&#x27;,\n",
       "                                                                                                                &#x27;Fa&#x27;,\n",
       "                                                                                                                &#x27;TA&#x27;,\n",
       "                                                                                                                &#x27;Gd&#x27;,\n",
       "                                                                                                                &#x27;Ex&#x27;],\n",
       "                                                                                                               [&#x27;Po&#x27;,\n",
       "                                                                                                                &#x27;Fa&#x27;,\n",
       "                                                                                                                &#x27;TA&#x27;,\n",
       "                                                                                                                &#x27;G...\n",
       "                                                                    &#x27;Utilities&#x27;,\n",
       "                                                                    &#x27;RoofStyle&#x27;,\n",
       "                                                                    &#x27;Street&#x27;,\n",
       "                                                                    &#x27;BldgType&#x27;,\n",
       "                                                                    &#x27;BsmtFinType1&#x27;,\n",
       "                                                                    &#x27;BsmtFinType2&#x27;,\n",
       "                                                                    &#x27;BsmtExposure&#x27;,\n",
       "                                                                    &#x27;MSZoning&#x27;,\n",
       "                                                                    &#x27;LotConfig&#x27;,\n",
       "                                                                    &#x27;LotShape&#x27;,\n",
       "                                                                    &#x27;MasVnrType&#x27;,\n",
       "                                                                    &#x27;LandContour&#x27;,\n",
       "                                                                    &#x27;Fence&#x27;,\n",
       "                                                                    &#x27;Heating&#x27;,\n",
       "                                                                    &#x27;GarageCond&#x27;])])),\n",
       "                                 (&#x27;selectpercentile&#x27;,\n",
       "                                  SelectPercentile(percentile=40,\n",
       "                                                   score_func=&lt;function mutual_info_regression at 0x14ea84160&gt;))])),\n",
       "                (&#x27;gradientboostingregressor&#x27;, GradientBoostingRegressor())])</pre><b>Please rerun this cell to show the HTML repr or trust the notebook.</b></div><div class=\"sk-container\" hidden><div class=\"sk-item sk-dashed-wrapped\"><div class=\"sk-label-container\"><div class=\"sk-label sk-toggleable\"><input class=\"sk-toggleable__control sk-hidden--visually\" id=\"11ca4da8-23cf-4ff8-8acf-76770ffa3254\" type=\"checkbox\" ><label for=\"11ca4da8-23cf-4ff8-8acf-76770ffa3254\" class=\"sk-toggleable__label sk-toggleable__label-arrow\">Pipeline</label><div class=\"sk-toggleable__content\"><pre>Pipeline(steps=[(&#x27;pipeline&#x27;,\n",
       "                 Pipeline(steps=[(&#x27;columntransformer&#x27;,\n",
       "                                  ColumnTransformer(transformers=[(&#x27;cat_qual&#x27;,\n",
       "                                                                   Pipeline(steps=[(&#x27;ordinalencoder&#x27;,\n",
       "                                                                                    OrdinalEncoder(categories=[[&#x27;Po&#x27;,\n",
       "                                                                                                                &#x27;Fa&#x27;,\n",
       "                                                                                                                &#x27;TA&#x27;,\n",
       "                                                                                                                &#x27;Gd&#x27;,\n",
       "                                                                                                                &#x27;Ex&#x27;],\n",
       "                                                                                                               [&#x27;Po&#x27;,\n",
       "                                                                                                                &#x27;Fa&#x27;,\n",
       "                                                                                                                &#x27;TA&#x27;,\n",
       "                                                                                                                &#x27;Gd&#x27;,\n",
       "                                                                                                                &#x27;Ex&#x27;],\n",
       "                                                                                                               [&#x27;Po&#x27;,\n",
       "                                                                                                                &#x27;Fa&#x27;,\n",
       "                                                                                                                &#x27;TA&#x27;,\n",
       "                                                                                                                &#x27;Gd&#x27;,\n",
       "                                                                                                                &#x27;Ex&#x27;],\n",
       "                                                                                                               [&#x27;Po&#x27;,\n",
       "                                                                                                                &#x27;Fa&#x27;,\n",
       "                                                                                                                &#x27;TA&#x27;,\n",
       "                                                                                                                &#x27;Gd&#x27;,\n",
       "                                                                                                                &#x27;Ex&#x27;],\n",
       "                                                                                                               [&#x27;Po&#x27;,\n",
       "                                                                                                                &#x27;Fa&#x27;,\n",
       "                                                                                                                &#x27;TA&#x27;,\n",
       "                                                                                                                &#x27;Gd&#x27;,\n",
       "                                                                                                                &#x27;Ex&#x27;],\n",
       "                                                                                                               [&#x27;Po&#x27;,\n",
       "                                                                                                                &#x27;Fa&#x27;,\n",
       "                                                                                                                &#x27;TA&#x27;,\n",
       "                                                                                                                &#x27;Gd&#x27;,\n",
       "                                                                                                                &#x27;Ex&#x27;],\n",
       "                                                                                                               [&#x27;Po&#x27;,\n",
       "                                                                                                                &#x27;Fa&#x27;,\n",
       "                                                                                                                &#x27;TA&#x27;,\n",
       "                                                                                                                &#x27;G...\n",
       "                                                                    &#x27;Utilities&#x27;,\n",
       "                                                                    &#x27;RoofStyle&#x27;,\n",
       "                                                                    &#x27;Street&#x27;,\n",
       "                                                                    &#x27;BldgType&#x27;,\n",
       "                                                                    &#x27;BsmtFinType1&#x27;,\n",
       "                                                                    &#x27;BsmtFinType2&#x27;,\n",
       "                                                                    &#x27;BsmtExposure&#x27;,\n",
       "                                                                    &#x27;MSZoning&#x27;,\n",
       "                                                                    &#x27;LotConfig&#x27;,\n",
       "                                                                    &#x27;LotShape&#x27;,\n",
       "                                                                    &#x27;MasVnrType&#x27;,\n",
       "                                                                    &#x27;LandContour&#x27;,\n",
       "                                                                    &#x27;Fence&#x27;,\n",
       "                                                                    &#x27;Heating&#x27;,\n",
       "                                                                    &#x27;GarageCond&#x27;])])),\n",
       "                                 (&#x27;selectpercentile&#x27;,\n",
       "                                  SelectPercentile(percentile=40,\n",
       "                                                   score_func=&lt;function mutual_info_regression at 0x14ea84160&gt;))])),\n",
       "                (&#x27;gradientboostingregressor&#x27;, GradientBoostingRegressor())])</pre></div></div></div><div class=\"sk-serial\"><div class=\"sk-item\"><div class=\"sk-label-container\"><div class=\"sk-label sk-toggleable\"><input class=\"sk-toggleable__control sk-hidden--visually\" id=\"616f8277-2fd7-4c9d-a8f8-353ed8693627\" type=\"checkbox\" ><label for=\"616f8277-2fd7-4c9d-a8f8-353ed8693627\" class=\"sk-toggleable__label sk-toggleable__label-arrow\">pipeline: Pipeline</label><div class=\"sk-toggleable__content\"><pre>Pipeline(steps=[(&#x27;columntransformer&#x27;,\n",
       "                 ColumnTransformer(transformers=[(&#x27;cat_qual&#x27;,\n",
       "                                                  Pipeline(steps=[(&#x27;ordinalencoder&#x27;,\n",
       "                                                                   OrdinalEncoder(categories=[[&#x27;Po&#x27;,\n",
       "                                                                                               &#x27;Fa&#x27;,\n",
       "                                                                                               &#x27;TA&#x27;,\n",
       "                                                                                               &#x27;Gd&#x27;,\n",
       "                                                                                               &#x27;Ex&#x27;],\n",
       "                                                                                              [&#x27;Po&#x27;,\n",
       "                                                                                               &#x27;Fa&#x27;,\n",
       "                                                                                               &#x27;TA&#x27;,\n",
       "                                                                                               &#x27;Gd&#x27;,\n",
       "                                                                                               &#x27;Ex&#x27;],\n",
       "                                                                                              [&#x27;Po&#x27;,\n",
       "                                                                                               &#x27;Fa&#x27;,\n",
       "                                                                                               &#x27;TA&#x27;,\n",
       "                                                                                               &#x27;Gd&#x27;,\n",
       "                                                                                               &#x27;Ex&#x27;],\n",
       "                                                                                              [&#x27;Po&#x27;,\n",
       "                                                                                               &#x27;Fa&#x27;,\n",
       "                                                                                               &#x27;TA&#x27;,\n",
       "                                                                                               &#x27;Gd&#x27;,\n",
       "                                                                                               &#x27;Ex&#x27;],\n",
       "                                                                                              [&#x27;Po&#x27;,\n",
       "                                                                                               &#x27;Fa&#x27;,\n",
       "                                                                                               &#x27;TA&#x27;,\n",
       "                                                                                               &#x27;Gd&#x27;,\n",
       "                                                                                               &#x27;Ex&#x27;],\n",
       "                                                                                              [&#x27;Po&#x27;,\n",
       "                                                                                               &#x27;Fa&#x27;,\n",
       "                                                                                               &#x27;TA&#x27;,\n",
       "                                                                                               &#x27;Gd&#x27;,\n",
       "                                                                                               &#x27;Ex&#x27;],\n",
       "                                                                                              [&#x27;Po&#x27;,\n",
       "                                                                                               &#x27;Fa&#x27;,\n",
       "                                                                                               &#x27;TA&#x27;,\n",
       "                                                                                               &#x27;Gd&#x27;,\n",
       "                                                                                               &#x27;Ex&#x27;],\n",
       "                                                                                              [&#x27;Po&#x27;,\n",
       "                                                                                               &#x27;Fa&#x27;,\n",
       "                                                                                               &#x27;TA&#x27;,\n",
       "                                                                                               &#x27;Gd...\n",
       "                                                   &#x27;ExterQual&#x27;, &#x27;MiscFeature&#x27;,\n",
       "                                                   &#x27;Foundation&#x27;, &#x27;Electrical&#x27;,\n",
       "                                                   &#x27;GarageType&#x27;, &#x27;PavedDrive&#x27;,\n",
       "                                                   &#x27;Utilities&#x27;, &#x27;RoofStyle&#x27;,\n",
       "                                                   &#x27;Street&#x27;, &#x27;BldgType&#x27;,\n",
       "                                                   &#x27;BsmtFinType1&#x27;,\n",
       "                                                   &#x27;BsmtFinType2&#x27;,\n",
       "                                                   &#x27;BsmtExposure&#x27;, &#x27;MSZoning&#x27;,\n",
       "                                                   &#x27;LotConfig&#x27;, &#x27;LotShape&#x27;,\n",
       "                                                   &#x27;MasVnrType&#x27;, &#x27;LandContour&#x27;,\n",
       "                                                   &#x27;Fence&#x27;, &#x27;Heating&#x27;,\n",
       "                                                   &#x27;GarageCond&#x27;])])),\n",
       "                (&#x27;selectpercentile&#x27;,\n",
       "                 SelectPercentile(percentile=40,\n",
       "                                  score_func=&lt;function mutual_info_regression at 0x14ea84160&gt;))])</pre></div></div></div><div class=\"sk-serial\"><div class=\"sk-item sk-dashed-wrapped\"><div class=\"sk-label-container\"><div class=\"sk-label sk-toggleable\"><input class=\"sk-toggleable__control sk-hidden--visually\" id=\"d8a792bf-b85f-457d-bf7f-4e29b220994f\" type=\"checkbox\" ><label for=\"d8a792bf-b85f-457d-bf7f-4e29b220994f\" class=\"sk-toggleable__label sk-toggleable__label-arrow\">columntransformer: ColumnTransformer</label><div class=\"sk-toggleable__content\"><pre>ColumnTransformer(transformers=[(&#x27;cat_qual&#x27;,\n",
       "                                 Pipeline(steps=[(&#x27;ordinalencoder&#x27;,\n",
       "                                                  OrdinalEncoder(categories=[[&#x27;Po&#x27;,\n",
       "                                                                              &#x27;Fa&#x27;,\n",
       "                                                                              &#x27;TA&#x27;,\n",
       "                                                                              &#x27;Gd&#x27;,\n",
       "                                                                              &#x27;Ex&#x27;],\n",
       "                                                                             [&#x27;Po&#x27;,\n",
       "                                                                              &#x27;Fa&#x27;,\n",
       "                                                                              &#x27;TA&#x27;,\n",
       "                                                                              &#x27;Gd&#x27;,\n",
       "                                                                              &#x27;Ex&#x27;],\n",
       "                                                                             [&#x27;Po&#x27;,\n",
       "                                                                              &#x27;Fa&#x27;,\n",
       "                                                                              &#x27;TA&#x27;,\n",
       "                                                                              &#x27;Gd&#x27;,\n",
       "                                                                              &#x27;Ex&#x27;],\n",
       "                                                                             [&#x27;Po&#x27;,\n",
       "                                                                              &#x27;Fa&#x27;,\n",
       "                                                                              &#x27;TA&#x27;,\n",
       "                                                                              &#x27;Gd&#x27;,\n",
       "                                                                              &#x27;Ex&#x27;],\n",
       "                                                                             [&#x27;Po&#x27;,\n",
       "                                                                              &#x27;Fa&#x27;,\n",
       "                                                                              &#x27;TA&#x27;,\n",
       "                                                                              &#x27;Gd&#x27;,\n",
       "                                                                              &#x27;Ex&#x27;],\n",
       "                                                                             [&#x27;Po&#x27;,\n",
       "                                                                              &#x27;Fa&#x27;,\n",
       "                                                                              &#x27;TA&#x27;,\n",
       "                                                                              &#x27;Gd&#x27;,\n",
       "                                                                              &#x27;Ex&#x27;],\n",
       "                                                                             [&#x27;Po&#x27;,\n",
       "                                                                              &#x27;Fa&#x27;,\n",
       "                                                                              &#x27;TA&#x27;,\n",
       "                                                                              &#x27;Gd&#x27;,\n",
       "                                                                              &#x27;Ex&#x27;],\n",
       "                                                                             [&#x27;Po&#x27;,\n",
       "                                                                              &#x27;Fa&#x27;,\n",
       "                                                                              &#x27;TA&#x27;,\n",
       "                                                                              &#x27;Gd&#x27;,\n",
       "                                                                              &#x27;Ex&#x27;]],\n",
       "                                                                 handle_unknown=&#x27;use_encoded_...\n",
       "                                                  OneHotEncoder(handle_unknown=&#x27;ignore&#x27;,\n",
       "                                                                sparse=False))]),\n",
       "                                 [&#x27;SaleCondition&#x27;, &#x27;GarageFinish&#x27;, &#x27;CentralAir&#x27;,\n",
       "                                  &#x27;Alley&#x27;, &#x27;LandSlope&#x27;, &#x27;ExterQual&#x27;,\n",
       "                                  &#x27;MiscFeature&#x27;, &#x27;Foundation&#x27;, &#x27;Electrical&#x27;,\n",
       "                                  &#x27;GarageType&#x27;, &#x27;PavedDrive&#x27;, &#x27;Utilities&#x27;,\n",
       "                                  &#x27;RoofStyle&#x27;, &#x27;Street&#x27;, &#x27;BldgType&#x27;,\n",
       "                                  &#x27;BsmtFinType1&#x27;, &#x27;BsmtFinType2&#x27;,\n",
       "                                  &#x27;BsmtExposure&#x27;, &#x27;MSZoning&#x27;, &#x27;LotConfig&#x27;,\n",
       "                                  &#x27;LotShape&#x27;, &#x27;MasVnrType&#x27;, &#x27;LandContour&#x27;,\n",
       "                                  &#x27;Fence&#x27;, &#x27;Heating&#x27;, &#x27;GarageCond&#x27;])])</pre></div></div></div><div class=\"sk-parallel\"><div class=\"sk-parallel-item\"><div class=\"sk-item\"><div class=\"sk-label-container\"><div class=\"sk-label sk-toggleable\"><input class=\"sk-toggleable__control sk-hidden--visually\" id=\"81d01579-c536-43e3-bd41-b35a639bfac6\" type=\"checkbox\" ><label for=\"81d01579-c536-43e3-bd41-b35a639bfac6\" class=\"sk-toggleable__label sk-toggleable__label-arrow\">cat_qual</label><div class=\"sk-toggleable__content\"><pre>[&#x27;HeatingQC&#x27;, &#x27;ExterCond&#x27;, &#x27;FireplaceQu&#x27;, &#x27;BsmtQual&#x27;, &#x27;BsmtCond&#x27;, &#x27;KitchenQual&#x27;, &#x27;GarageQual&#x27;, &#x27;PoolQC&#x27;]</pre></div></div></div><div class=\"sk-serial\"><div class=\"sk-item\"><div class=\"sk-serial\"><div class=\"sk-item\"><div class=\"sk-estimator sk-toggleable\"><input class=\"sk-toggleable__control sk-hidden--visually\" id=\"a54d6d5b-5849-4fc2-86ea-f447f65eb422\" type=\"checkbox\" ><label for=\"a54d6d5b-5849-4fc2-86ea-f447f65eb422\" class=\"sk-toggleable__label sk-toggleable__label-arrow\">OrdinalEncoder</label><div class=\"sk-toggleable__content\"><pre>OrdinalEncoder(categories=[[&#x27;Po&#x27;, &#x27;Fa&#x27;, &#x27;TA&#x27;, &#x27;Gd&#x27;, &#x27;Ex&#x27;],\n",
       "                           [&#x27;Po&#x27;, &#x27;Fa&#x27;, &#x27;TA&#x27;, &#x27;Gd&#x27;, &#x27;Ex&#x27;],\n",
       "                           [&#x27;Po&#x27;, &#x27;Fa&#x27;, &#x27;TA&#x27;, &#x27;Gd&#x27;, &#x27;Ex&#x27;],\n",
       "                           [&#x27;Po&#x27;, &#x27;Fa&#x27;, &#x27;TA&#x27;, &#x27;Gd&#x27;, &#x27;Ex&#x27;],\n",
       "                           [&#x27;Po&#x27;, &#x27;Fa&#x27;, &#x27;TA&#x27;, &#x27;Gd&#x27;, &#x27;Ex&#x27;],\n",
       "                           [&#x27;Po&#x27;, &#x27;Fa&#x27;, &#x27;TA&#x27;, &#x27;Gd&#x27;, &#x27;Ex&#x27;],\n",
       "                           [&#x27;Po&#x27;, &#x27;Fa&#x27;, &#x27;TA&#x27;, &#x27;Gd&#x27;, &#x27;Ex&#x27;],\n",
       "                           [&#x27;Po&#x27;, &#x27;Fa&#x27;, &#x27;TA&#x27;, &#x27;Gd&#x27;, &#x27;Ex&#x27;]],\n",
       "               handle_unknown=&#x27;use_encoded_value&#x27;, unknown_value=-1)</pre></div></div></div><div class=\"sk-item\"><div class=\"sk-estimator sk-toggleable\"><input class=\"sk-toggleable__control sk-hidden--visually\" id=\"b7e0c828-365e-4895-9b3c-8ea19c327bb0\" type=\"checkbox\" ><label for=\"b7e0c828-365e-4895-9b3c-8ea19c327bb0\" class=\"sk-toggleable__label sk-toggleable__label-arrow\">MinMaxScaler</label><div class=\"sk-toggleable__content\"><pre>MinMaxScaler()</pre></div></div></div></div></div></div></div></div><div class=\"sk-parallel-item\"><div class=\"sk-item\"><div class=\"sk-label-container\"><div class=\"sk-label sk-toggleable\"><input class=\"sk-toggleable__control sk-hidden--visually\" id=\"8cb7eaef-275c-41ca-b7f4-83525fa31759\" type=\"checkbox\" ><label for=\"8cb7eaef-275c-41ca-b7f4-83525fa31759\" class=\"sk-toggleable__label sk-toggleable__label-arrow\">cat_ord</label><div class=\"sk-toggleable__content\"><pre>[&#x27;BsmtExposure&#x27;, &#x27;BsmtFinType1&#x27;, &#x27;BsmtFinType2&#x27;, &#x27;Electrical&#x27;, &#x27;ExterQual&#x27;, &#x27;Fence&#x27;, &#x27;Functional&#x27;, &#x27;GarageCond&#x27;, &#x27;GarageFinish&#x27;, &#x27;LandContour&#x27;, &#x27;LandSlope&#x27;, &#x27;LotShape&#x27;, &#x27;PavedDrive&#x27;]</pre></div></div></div><div class=\"sk-serial\"><div class=\"sk-item\"><div class=\"sk-serial\"><div class=\"sk-item\"><div class=\"sk-estimator sk-toggleable\"><input class=\"sk-toggleable__control sk-hidden--visually\" id=\"33db6a56-f0ac-4f99-9f02-532cd9e0db3d\" type=\"checkbox\" ><label for=\"33db6a56-f0ac-4f99-9f02-532cd9e0db3d\" class=\"sk-toggleable__label sk-toggleable__label-arrow\">SimpleImputer</label><div class=\"sk-toggleable__content\"><pre>SimpleImputer(fill_value=&#x27;missing&#x27;, strategy=&#x27;constant&#x27;)</pre></div></div></div><div class=\"sk-item\"><div class=\"sk-estimator sk-toggleable\"><input class=\"sk-toggleable__control sk-hidden--visually\" id=\"68a6b9c5-bb5b-450c-9361-7b249e33caad\" type=\"checkbox\" ><label for=\"68a6b9c5-bb5b-450c-9361-7b249e33caad\" class=\"sk-toggleable__label sk-toggleable__label-arrow\">OrdinalEncoder</label><div class=\"sk-toggleable__content\"><pre>OrdinalEncoder(categories=[[&#x27;missing&#x27;, &#x27;No&#x27;, &#x27;Mn&#x27;, &#x27;Av&#x27;, &#x27;Gd&#x27;],\n",
       "                           [&#x27;missing&#x27;, &#x27;Unf&#x27;, &#x27;LwQ&#x27;, &#x27;Rec&#x27;, &#x27;BLQ&#x27;, &#x27;ALQ&#x27;,\n",
       "                            &#x27;GLQ&#x27;],\n",
       "                           [&#x27;missing&#x27;, &#x27;Unf&#x27;, &#x27;LwQ&#x27;, &#x27;Rec&#x27;, &#x27;BLQ&#x27;, &#x27;ALQ&#x27;,\n",
       "                            &#x27;GLQ&#x27;],\n",
       "                           [&#x27;missing&#x27;, &#x27;Mix&#x27;, &#x27;FuseP&#x27;, &#x27;FuseF&#x27;, &#x27;FuseA&#x27;,\n",
       "                            &#x27;SBrkr&#x27;],\n",
       "                           [&#x27;missing&#x27;, &#x27;Fa&#x27;, &#x27;TA&#x27;, &#x27;Gd&#x27;, &#x27;Ex&#x27;],\n",
       "                           [&#x27;missing&#x27;, &#x27;MnWw&#x27;, &#x27;GdWo&#x27;, &#x27;MnPrv&#x27;, &#x27;GdPrv&#x27;],\n",
       "                           [&#x27;missing&#x27;, &#x27;Sev&#x27;, &#x27;Maj2&#x27;, &#x27;Maj1&#x27;, &#x27;Mod&#x27;, &#x27;Min2&#x27;,\n",
       "                            &#x27;Min1&#x27;, &#x27;Typ&#x27;],\n",
       "                           [&#x27;missing&#x27;, &#x27;Po&#x27;, &#x27;Fa&#x27;, &#x27;TA&#x27;, &#x27;Gd&#x27;, &#x27;Ex&#x27;],\n",
       "                           [&#x27;missing&#x27;, &#x27;Unf&#x27;, &#x27;RFn&#x27;, &#x27;Fin&#x27;],\n",
       "                           [&#x27;missing&#x27;, &#x27;Low&#x27;, &#x27;Bnk&#x27;, &#x27;HLS&#x27;, &#x27;Lvl&#x27;],\n",
       "                           [&#x27;missing&#x27;, &#x27;Sev&#x27;, &#x27;Mod&#x27;, &#x27;Gtl&#x27;],\n",
       "                           [&#x27;missing&#x27;, &#x27;IR3&#x27;, &#x27;IR2&#x27;, &#x27;IR1&#x27;, &#x27;Reg&#x27;],\n",
       "                           [&#x27;missing&#x27;, &#x27;N&#x27;, &#x27;P&#x27;, &#x27;Y&#x27;]],\n",
       "               dtype=&lt;class &#x27;numpy.int64&#x27;&gt;, handle_unknown=&#x27;use_encoded_value&#x27;,\n",
       "               unknown_value=-1)</pre></div></div></div><div class=\"sk-item\"><div class=\"sk-estimator sk-toggleable\"><input class=\"sk-toggleable__control sk-hidden--visually\" id=\"dcccd277-72e4-4508-af00-00ddda659998\" type=\"checkbox\" ><label for=\"dcccd277-72e4-4508-af00-00ddda659998\" class=\"sk-toggleable__label sk-toggleable__label-arrow\">MinMaxScaler</label><div class=\"sk-toggleable__content\"><pre>MinMaxScaler()</pre></div></div></div></div></div></div></div></div><div class=\"sk-parallel-item\"><div class=\"sk-item\"><div class=\"sk-label-container\"><div class=\"sk-label sk-toggleable\"><input class=\"sk-toggleable__control sk-hidden--visually\" id=\"b2a09774-cc49-4f8b-9089-b8ceb8d52571\" type=\"checkbox\" ><label for=\"b2a09774-cc49-4f8b-9089-b8ceb8d52571\" class=\"sk-toggleable__label sk-toggleable__label-arrow\">num</label><div class=\"sk-toggleable__content\"><pre>&lt;sklearn.compose._column_transformer.make_column_selector object at 0x1515ac940&gt;</pre></div></div></div><div class=\"sk-serial\"><div class=\"sk-item\"><div class=\"sk-serial\"><div class=\"sk-item\"><div class=\"sk-estimator sk-toggleable\"><input class=\"sk-toggleable__control sk-hidden--visually\" id=\"b94048d3-4b0a-4f06-9be3-ccff22120be6\" type=\"checkbox\" ><label for=\"b94048d3-4b0a-4f06-9be3-ccff22120be6\" class=\"sk-toggleable__label sk-toggleable__label-arrow\">SimpleImputer</label><div class=\"sk-toggleable__content\"><pre>SimpleImputer()</pre></div></div></div><div class=\"sk-item\"><div class=\"sk-estimator sk-toggleable\"><input class=\"sk-toggleable__control sk-hidden--visually\" id=\"3c809f10-19f3-4e2e-875e-31c6ae8447da\" type=\"checkbox\" ><label for=\"3c809f10-19f3-4e2e-875e-31c6ae8447da\" class=\"sk-toggleable__label sk-toggleable__label-arrow\">MinMaxScaler</label><div class=\"sk-toggleable__content\"><pre>MinMaxScaler()</pre></div></div></div></div></div></div></div></div><div class=\"sk-parallel-item\"><div class=\"sk-item\"><div class=\"sk-label-container\"><div class=\"sk-label sk-toggleable\"><input class=\"sk-toggleable__control sk-hidden--visually\" id=\"aefb501a-7c24-419b-bc39-ae99c940e035\" type=\"checkbox\" ><label for=\"aefb501a-7c24-419b-bc39-ae99c940e035\" class=\"sk-toggleable__label sk-toggleable__label-arrow\">cat_no_qual</label><div class=\"sk-toggleable__content\"><pre>[&#x27;SaleCondition&#x27;, &#x27;GarageFinish&#x27;, &#x27;CentralAir&#x27;, &#x27;Alley&#x27;, &#x27;LandSlope&#x27;, &#x27;ExterQual&#x27;, &#x27;MiscFeature&#x27;, &#x27;Foundation&#x27;, &#x27;Electrical&#x27;, &#x27;GarageType&#x27;, &#x27;PavedDrive&#x27;, &#x27;Utilities&#x27;, &#x27;RoofStyle&#x27;, &#x27;Street&#x27;, &#x27;BldgType&#x27;, &#x27;BsmtFinType1&#x27;, &#x27;BsmtFinType2&#x27;, &#x27;BsmtExposure&#x27;, &#x27;MSZoning&#x27;, &#x27;LotConfig&#x27;, &#x27;LotShape&#x27;, &#x27;MasVnrType&#x27;, &#x27;LandContour&#x27;, &#x27;Fence&#x27;, &#x27;Heating&#x27;, &#x27;GarageCond&#x27;]</pre></div></div></div><div class=\"sk-serial\"><div class=\"sk-item\"><div class=\"sk-serial\"><div class=\"sk-item\"><div class=\"sk-estimator sk-toggleable\"><input class=\"sk-toggleable__control sk-hidden--visually\" id=\"38f7bb01-57e3-4a29-9cbe-65d37bca9632\" type=\"checkbox\" ><label for=\"38f7bb01-57e3-4a29-9cbe-65d37bca9632\" class=\"sk-toggleable__label sk-toggleable__label-arrow\">SimpleImputer</label><div class=\"sk-toggleable__content\"><pre>SimpleImputer(strategy=&#x27;most_frequent&#x27;)</pre></div></div></div><div class=\"sk-item\"><div class=\"sk-estimator sk-toggleable\"><input class=\"sk-toggleable__control sk-hidden--visually\" id=\"33fd0312-1640-49c8-a221-474ac67b2f00\" type=\"checkbox\" ><label for=\"33fd0312-1640-49c8-a221-474ac67b2f00\" class=\"sk-toggleable__label sk-toggleable__label-arrow\">OneHotEncoder</label><div class=\"sk-toggleable__content\"><pre>OneHotEncoder(handle_unknown=&#x27;ignore&#x27;, sparse=False)</pre></div></div></div></div></div></div></div></div></div></div><div class=\"sk-item\"><div class=\"sk-estimator sk-toggleable\"><input class=\"sk-toggleable__control sk-hidden--visually\" id=\"3c181fc9-a75f-4011-b7b1-81a66c8c16ab\" type=\"checkbox\" ><label for=\"3c181fc9-a75f-4011-b7b1-81a66c8c16ab\" class=\"sk-toggleable__label sk-toggleable__label-arrow\">SelectPercentile</label><div class=\"sk-toggleable__content\"><pre>SelectPercentile(percentile=40,\n",
       "                 score_func=&lt;function mutual_info_regression at 0x14ea84160&gt;)</pre></div></div></div></div></div><div class=\"sk-item\"><div class=\"sk-estimator sk-toggleable\"><input class=\"sk-toggleable__control sk-hidden--visually\" id=\"6a0fff5c-4471-485c-9ab9-274cc835dd4c\" type=\"checkbox\" ><label for=\"6a0fff5c-4471-485c-9ab9-274cc835dd4c\" class=\"sk-toggleable__label sk-toggleable__label-arrow\">GradientBoostingRegressor</label><div class=\"sk-toggleable__content\"><pre>GradientBoostingRegressor()</pre></div></div></div></div></div></div></div>"
      ],
      "text/plain": [
       "Pipeline(steps=[('pipeline',\n",
       "                 Pipeline(steps=[('columntransformer',\n",
       "                                  ColumnTransformer(transformers=[('cat_qual',\n",
       "                                                                   Pipeline(steps=[('ordinalencoder',\n",
       "                                                                                    OrdinalEncoder(categories=[['Po',\n",
       "                                                                                                                'Fa',\n",
       "                                                                                                                'TA',\n",
       "                                                                                                                'Gd',\n",
       "                                                                                                                'Ex'],\n",
       "                                                                                                               ['Po',\n",
       "                                                                                                                'Fa',\n",
       "                                                                                                                'TA',\n",
       "                                                                                                                'Gd',\n",
       "                                                                                                                'Ex'],\n",
       "                                                                                                               ['Po',\n",
       "                                                                                                                'Fa',\n",
       "                                                                                                                'TA',\n",
       "                                                                                                                'Gd',\n",
       "                                                                                                                'Ex'],\n",
       "                                                                                                               ['Po',\n",
       "                                                                                                                'Fa',\n",
       "                                                                                                                'TA',\n",
       "                                                                                                                'Gd',\n",
       "                                                                                                                'Ex'],\n",
       "                                                                                                               ['Po',\n",
       "                                                                                                                'Fa',\n",
       "                                                                                                                'TA',\n",
       "                                                                                                                'Gd',\n",
       "                                                                                                                'Ex'],\n",
       "                                                                                                               ['Po',\n",
       "                                                                                                                'Fa',\n",
       "                                                                                                                'TA',\n",
       "                                                                                                                'Gd',\n",
       "                                                                                                                'Ex'],\n",
       "                                                                                                               ['Po',\n",
       "                                                                                                                'Fa',\n",
       "                                                                                                                'TA',\n",
       "                                                                                                                'G...\n",
       "                                                                    'Utilities',\n",
       "                                                                    'RoofStyle',\n",
       "                                                                    'Street',\n",
       "                                                                    'BldgType',\n",
       "                                                                    'BsmtFinType1',\n",
       "                                                                    'BsmtFinType2',\n",
       "                                                                    'BsmtExposure',\n",
       "                                                                    'MSZoning',\n",
       "                                                                    'LotConfig',\n",
       "                                                                    'LotShape',\n",
       "                                                                    'MasVnrType',\n",
       "                                                                    'LandContour',\n",
       "                                                                    'Fence',\n",
       "                                                                    'Heating',\n",
       "                                                                    'GarageCond'])])),\n",
       "                                 ('selectpercentile',\n",
       "                                  SelectPercentile(percentile=40,\n",
       "                                                   score_func=<function mutual_info_regression at 0x14ea84160>))])),\n",
       "                ('gradientboostingregressor', GradientBoostingRegressor())])"
      ]
     },
     "execution_count": 495,
     "metadata": {},
     "output_type": "execute_result"
    }
   ],
   "source": [
    "pipe_gb"
   ]
  },
  {
   "cell_type": "code",
   "execution_count": null,
   "metadata": {},
   "outputs": [],
   "source": [
    "from sklearn.ensemble import AdaBoostRegressor\n",
    "\n",
    "adaboost = AdaBoostRegressor(\n",
    "    DecisionTreeRegressor(max_depth=3),\n",
    "    n_estimators=50)\n",
    "\n",
    "cv_results = cross_validate(adaboost, X, y, scoring = \"r2\", cv=5)\n",
    "\n",
    "plot_histogram_cv_results(cv_results)"
   ]
  },
  {
   "cell_type": "code",
   "execution_count": 499,
   "metadata": {},
   "outputs": [
    {
     "data": {
      "text/plain": [
       "0.13399080039369507"
      ]
     },
     "execution_count": 499,
     "metadata": {},
     "output_type": "execute_result"
    }
   ],
   "source": [
    "sgboost = GradientBoostingRegressor(\n",
    "    n_estimators=100\n",
    ")\n",
    "\n",
    "ensemble = StackingClassifier(\n",
    "    estimators = [(\"xgb\", XGBRegressor(base_score = 0.131, n_jobs = -1, n_estimators = 1000,\n",
    "                                      learning_rate = 0.01,)),\n",
    "                  (\"svr\", model_svr),\n",
    "                  (\"sg\",model_sg),\n",
    "                  (\"gb\", gboost)\n",
    "                   ],\n",
    "    final_estimator = KNeighborsRegressor(n_neighbors=15))\n",
    "\n",
    "pipe_baseline_sg = make_pipeline(pipe, ensemble)\n",
    "\n",
    "score_st = cross_val_score(pipe_baseline, X, y_log, scoring = rmsle_log).mean()\n",
    "score_st"
   ]
  },
  {
   "cell_type": "markdown",
   "metadata": {},
   "source": [
    "### a ) Final version of the preproc pipeline\n",
    "❓ We advise you to start with a fresh definition below so you can quickly update it as need be."
   ]
  },
  {
   "cell_type": "code",
   "execution_count": 393,
   "metadata": {},
   "outputs": [
    {
     "data": {
      "text/html": [
       "<div>\n",
       "<style scoped>\n",
       "    .dataframe tbody tr th:only-of-type {\n",
       "        vertical-align: middle;\n",
       "    }\n",
       "\n",
       "    .dataframe tbody tr th {\n",
       "        vertical-align: top;\n",
       "    }\n",
       "\n",
       "    .dataframe thead th {\n",
       "        text-align: right;\n",
       "    }\n",
       "</style>\n",
       "<table border=\"1\" class=\"dataframe\">\n",
       "  <thead>\n",
       "    <tr style=\"text-align: right;\">\n",
       "      <th></th>\n",
       "      <th>Id</th>\n",
       "      <th>MSSubClass</th>\n",
       "      <th>MSZoning</th>\n",
       "      <th>LotFrontage</th>\n",
       "      <th>LotArea</th>\n",
       "      <th>Street</th>\n",
       "      <th>Alley</th>\n",
       "      <th>LotShape</th>\n",
       "      <th>LandContour</th>\n",
       "      <th>Utilities</th>\n",
       "      <th>...</th>\n",
       "      <th>ScreenPorch</th>\n",
       "      <th>PoolArea</th>\n",
       "      <th>PoolQC</th>\n",
       "      <th>Fence</th>\n",
       "      <th>MiscFeature</th>\n",
       "      <th>MiscVal</th>\n",
       "      <th>MoSold</th>\n",
       "      <th>YrSold</th>\n",
       "      <th>SaleType</th>\n",
       "      <th>SaleCondition</th>\n",
       "    </tr>\n",
       "  </thead>\n",
       "  <tbody>\n",
       "    <tr>\n",
       "      <th>0</th>\n",
       "      <td>1461</td>\n",
       "      <td>20</td>\n",
       "      <td>RH</td>\n",
       "      <td>80.0</td>\n",
       "      <td>11622</td>\n",
       "      <td>Pave</td>\n",
       "      <td>NaN</td>\n",
       "      <td>Reg</td>\n",
       "      <td>Lvl</td>\n",
       "      <td>AllPub</td>\n",
       "      <td>...</td>\n",
       "      <td>120</td>\n",
       "      <td>0</td>\n",
       "      <td>NaN</td>\n",
       "      <td>MnPrv</td>\n",
       "      <td>NaN</td>\n",
       "      <td>0</td>\n",
       "      <td>6</td>\n",
       "      <td>2010</td>\n",
       "      <td>WD</td>\n",
       "      <td>Normal</td>\n",
       "    </tr>\n",
       "    <tr>\n",
       "      <th>1</th>\n",
       "      <td>1462</td>\n",
       "      <td>20</td>\n",
       "      <td>RL</td>\n",
       "      <td>81.0</td>\n",
       "      <td>14267</td>\n",
       "      <td>Pave</td>\n",
       "      <td>NaN</td>\n",
       "      <td>IR1</td>\n",
       "      <td>Lvl</td>\n",
       "      <td>AllPub</td>\n",
       "      <td>...</td>\n",
       "      <td>0</td>\n",
       "      <td>0</td>\n",
       "      <td>NaN</td>\n",
       "      <td>NaN</td>\n",
       "      <td>Gar2</td>\n",
       "      <td>12500</td>\n",
       "      <td>6</td>\n",
       "      <td>2010</td>\n",
       "      <td>WD</td>\n",
       "      <td>Normal</td>\n",
       "    </tr>\n",
       "    <tr>\n",
       "      <th>2</th>\n",
       "      <td>1463</td>\n",
       "      <td>60</td>\n",
       "      <td>RL</td>\n",
       "      <td>74.0</td>\n",
       "      <td>13830</td>\n",
       "      <td>Pave</td>\n",
       "      <td>NaN</td>\n",
       "      <td>IR1</td>\n",
       "      <td>Lvl</td>\n",
       "      <td>AllPub</td>\n",
       "      <td>...</td>\n",
       "      <td>0</td>\n",
       "      <td>0</td>\n",
       "      <td>NaN</td>\n",
       "      <td>MnPrv</td>\n",
       "      <td>NaN</td>\n",
       "      <td>0</td>\n",
       "      <td>3</td>\n",
       "      <td>2010</td>\n",
       "      <td>WD</td>\n",
       "      <td>Normal</td>\n",
       "    </tr>\n",
       "    <tr>\n",
       "      <th>3</th>\n",
       "      <td>1464</td>\n",
       "      <td>60</td>\n",
       "      <td>RL</td>\n",
       "      <td>78.0</td>\n",
       "      <td>9978</td>\n",
       "      <td>Pave</td>\n",
       "      <td>NaN</td>\n",
       "      <td>IR1</td>\n",
       "      <td>Lvl</td>\n",
       "      <td>AllPub</td>\n",
       "      <td>...</td>\n",
       "      <td>0</td>\n",
       "      <td>0</td>\n",
       "      <td>NaN</td>\n",
       "      <td>NaN</td>\n",
       "      <td>NaN</td>\n",
       "      <td>0</td>\n",
       "      <td>6</td>\n",
       "      <td>2010</td>\n",
       "      <td>WD</td>\n",
       "      <td>Normal</td>\n",
       "    </tr>\n",
       "    <tr>\n",
       "      <th>4</th>\n",
       "      <td>1465</td>\n",
       "      <td>120</td>\n",
       "      <td>RL</td>\n",
       "      <td>43.0</td>\n",
       "      <td>5005</td>\n",
       "      <td>Pave</td>\n",
       "      <td>NaN</td>\n",
       "      <td>IR1</td>\n",
       "      <td>HLS</td>\n",
       "      <td>AllPub</td>\n",
       "      <td>...</td>\n",
       "      <td>144</td>\n",
       "      <td>0</td>\n",
       "      <td>NaN</td>\n",
       "      <td>NaN</td>\n",
       "      <td>NaN</td>\n",
       "      <td>0</td>\n",
       "      <td>1</td>\n",
       "      <td>2010</td>\n",
       "      <td>WD</td>\n",
       "      <td>Normal</td>\n",
       "    </tr>\n",
       "  </tbody>\n",
       "</table>\n",
       "<p>5 rows × 80 columns</p>\n",
       "</div>"
      ],
      "text/plain": [
       "     Id  MSSubClass MSZoning  LotFrontage  LotArea Street Alley LotShape  \\\n",
       "0  1461          20       RH         80.0    11622   Pave   NaN      Reg   \n",
       "1  1462          20       RL         81.0    14267   Pave   NaN      IR1   \n",
       "2  1463          60       RL         74.0    13830   Pave   NaN      IR1   \n",
       "3  1464          60       RL         78.0     9978   Pave   NaN      IR1   \n",
       "4  1465         120       RL         43.0     5005   Pave   NaN      IR1   \n",
       "\n",
       "  LandContour Utilities  ... ScreenPorch PoolArea PoolQC  Fence MiscFeature  \\\n",
       "0         Lvl    AllPub  ...         120        0    NaN  MnPrv         NaN   \n",
       "1         Lvl    AllPub  ...           0        0    NaN    NaN        Gar2   \n",
       "2         Lvl    AllPub  ...           0        0    NaN  MnPrv         NaN   \n",
       "3         Lvl    AllPub  ...           0        0    NaN    NaN         NaN   \n",
       "4         HLS    AllPub  ...         144        0    NaN    NaN         NaN   \n",
       "\n",
       "  MiscVal MoSold  YrSold  SaleType  SaleCondition  \n",
       "0       0      6    2010        WD         Normal  \n",
       "1   12500      6    2010        WD         Normal  \n",
       "2       0      3    2010        WD         Normal  \n",
       "3       0      6    2010        WD         Normal  \n",
       "4       0      1    2010        WD         Normal  \n",
       "\n",
       "[5 rows x 80 columns]"
      ]
     },
     "execution_count": 393,
     "metadata": {},
     "output_type": "execute_result"
    }
   ],
   "source": [
    "data_test.head()"
   ]
  },
  {
   "cell_type": "code",
   "execution_count": 449,
   "metadata": {},
   "outputs": [
    {
     "data": {
      "text/plain": [
       "array([120735.47 , 162502.08 , 188213.94 , ..., 151083.47 , 116482.555,\n",
       "       226242.19 ], dtype=float32)"
      ]
     },
     "execution_count": 449,
     "metadata": {},
     "output_type": "execute_result"
    }
   ],
   "source": [
    "y_pred = np.exp(pipe_baseline.fit(X,y_log).predict(data_test))-1\n",
    "y_pred"
   ]
  },
  {
   "cell_type": "code",
   "execution_count": 406,
   "metadata": {},
   "outputs": [
    {
     "data": {
      "text/plain": [
       "1459"
      ]
     },
     "execution_count": 406,
     "metadata": {},
     "output_type": "execute_result"
    }
   ],
   "source": [
    "len(data_test)"
   ]
  },
  {
   "cell_type": "code",
   "execution_count": 407,
   "metadata": {},
   "outputs": [
    {
     "data": {
      "text/plain": [
       "1459"
      ]
     },
     "execution_count": 407,
     "metadata": {},
     "output_type": "execute_result"
    }
   ],
   "source": [
    "len(y_pred)"
   ]
  },
  {
   "cell_type": "code",
   "execution_count": 450,
   "metadata": {},
   "outputs": [],
   "source": [
    "id_ = data_test['Id'] # need for final submission to kaggle\n",
    "y_pred_boost = pd.DataFrame({ 'Id' : id_, 'SalePrice' : y_pred} )\n",
    "y_pred_boost = y_pred_boost.set_index('Id')\n",
    "y_pred_boost.to_csv('data/submission_boost.csv')#, index=False)"
   ]
  },
  {
   "cell_type": "code",
   "execution_count": 451,
   "metadata": {},
   "outputs": [],
   "source": [
    "to_exp = pd.concat([data_test[['Id']], pd.Series(y_pred, name = 'SalePrice')], axis = 1)\n",
    "to_exp.to_csv(\"data/submission_baseline3.csv\", index = False)"
   ]
  },
  {
   "cell_type": "markdown",
   "metadata": {},
   "source": [
    "# 🏅FINAL SUBMISSION (submit at least 30 min before Recap)"
   ]
  },
  {
   "cell_type": "markdown",
   "metadata": {},
   "source": [
    "Discover your real test score by submitting on Kaggle! \n",
    "\n",
    "👉 Write down your test score on the [result spreadsheet here](https://docs.google.com/spreadsheets/d/1ZEBKwa_k1Ytb0WCOh-Nopq3eaezwBNu1SAqKXEXRguc/edit#gid=0) (pick the correct batch!)"
   ]
  },
  {
   "cell_type": "code",
   "execution_count": 0,
   "metadata": {
    "tags": [
     "challengify"
    ]
   },
   "outputs": [],
   "source": [
    "# YOUR CODE HERE"
   ]
  }
 ],
 "metadata": {
  "kernelspec": {
   "display_name": "Python 3 (ipykernel)",
   "language": "python",
   "name": "python3"
  },
  "language_info": {
   "codemirror_mode": {
    "name": "ipython",
    "version": 3
   },
   "file_extension": ".py",
   "mimetype": "text/x-python",
   "name": "python",
   "nbconvert_exporter": "python",
   "pygments_lexer": "ipython3",
   "version": "3.8.12"
  },
  "toc": {
   "base_numbering": 1,
   "nav_menu": {},
   "number_sections": true,
   "sideBar": true,
   "skip_h1_title": false,
   "title_cell": "Table of Contents",
   "title_sidebar": "Contents",
   "toc_cell": false,
   "toc_position": {
    "height": "calc(100% - 180px)",
    "left": "10px",
    "top": "150px",
    "width": "288px"
   },
   "toc_section_display": true,
   "toc_window_display": true
  }
 },
 "nbformat": 4,
 "nbformat_minor": 4
}
