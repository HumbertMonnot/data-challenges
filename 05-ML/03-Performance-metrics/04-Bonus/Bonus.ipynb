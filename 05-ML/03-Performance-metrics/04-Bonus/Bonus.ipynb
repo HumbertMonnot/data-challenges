{
 "cells": [
  {
   "cell_type": "markdown",
   "metadata": {},
   "source": [
    "# Bonus"
   ]
  },
  {
   "cell_type": "markdown",
   "metadata": {},
   "source": [
    "🎯 You are a Data Scientist for a bank. You are asked to develop a model that is able to detect at least 90% of fraudlent transactions. Go!"
   ]
  },
  {
   "cell_type": "markdown",
   "metadata": {},
   "source": [
    "👇 Load the player `creditcard.csv` dataset and display its first 5 rows."
   ]
  },
  {
   "cell_type": "code",
   "execution_count": 4,
   "metadata": {},
   "outputs": [
    {
     "data": {
      "text/html": [
       "<div>\n",
       "<style scoped>\n",
       "    .dataframe tbody tr th:only-of-type {\n",
       "        vertical-align: middle;\n",
       "    }\n",
       "\n",
       "    .dataframe tbody tr th {\n",
       "        vertical-align: top;\n",
       "    }\n",
       "\n",
       "    .dataframe thead th {\n",
       "        text-align: right;\n",
       "    }\n",
       "</style>\n",
       "<table border=\"1\" class=\"dataframe\">\n",
       "  <thead>\n",
       "    <tr style=\"text-align: right;\">\n",
       "      <th></th>\n",
       "      <th>V1</th>\n",
       "      <th>V2</th>\n",
       "      <th>V3</th>\n",
       "      <th>V4</th>\n",
       "      <th>V5</th>\n",
       "      <th>V6</th>\n",
       "      <th>V7</th>\n",
       "      <th>V8</th>\n",
       "      <th>V9</th>\n",
       "      <th>V10</th>\n",
       "      <th>...</th>\n",
       "      <th>V21</th>\n",
       "      <th>V22</th>\n",
       "      <th>V23</th>\n",
       "      <th>V24</th>\n",
       "      <th>V25</th>\n",
       "      <th>V26</th>\n",
       "      <th>V27</th>\n",
       "      <th>V28</th>\n",
       "      <th>Amount</th>\n",
       "      <th>Class</th>\n",
       "    </tr>\n",
       "  </thead>\n",
       "  <tbody>\n",
       "    <tr>\n",
       "      <th>686</th>\n",
       "      <td>-0.458352</td>\n",
       "      <td>-0.358400</td>\n",
       "      <td>1.070412</td>\n",
       "      <td>-2.337933</td>\n",
       "      <td>-0.243453</td>\n",
       "      <td>-1.471496</td>\n",
       "      <td>0.182482</td>\n",
       "      <td>-0.313823</td>\n",
       "      <td>-2.759820</td>\n",
       "      <td>0.830098</td>\n",
       "      <td>...</td>\n",
       "      <td>-0.064310</td>\n",
       "      <td>0.048805</td>\n",
       "      <td>-0.205327</td>\n",
       "      <td>0.324924</td>\n",
       "      <td>0.314862</td>\n",
       "      <td>-0.224625</td>\n",
       "      <td>0.054299</td>\n",
       "      <td>0.098412</td>\n",
       "      <td>15.00</td>\n",
       "      <td>0</td>\n",
       "    </tr>\n",
       "    <tr>\n",
       "      <th>22925</th>\n",
       "      <td>-4.460076</td>\n",
       "      <td>-4.786844</td>\n",
       "      <td>1.293340</td>\n",
       "      <td>-1.560531</td>\n",
       "      <td>1.474213</td>\n",
       "      <td>-1.569017</td>\n",
       "      <td>-1.764973</td>\n",
       "      <td>0.524336</td>\n",
       "      <td>-1.474864</td>\n",
       "      <td>1.148590</td>\n",
       "      <td>...</td>\n",
       "      <td>-0.373745</td>\n",
       "      <td>0.398534</td>\n",
       "      <td>3.086143</td>\n",
       "      <td>-0.904276</td>\n",
       "      <td>1.246212</td>\n",
       "      <td>0.027264</td>\n",
       "      <td>0.409119</td>\n",
       "      <td>-0.578668</td>\n",
       "      <td>18.00</td>\n",
       "      <td>0</td>\n",
       "    </tr>\n",
       "    <tr>\n",
       "      <th>15391</th>\n",
       "      <td>-0.989308</td>\n",
       "      <td>1.249124</td>\n",
       "      <td>1.533433</td>\n",
       "      <td>1.036101</td>\n",
       "      <td>0.394908</td>\n",
       "      <td>0.096425</td>\n",
       "      <td>1.164196</td>\n",
       "      <td>-0.527983</td>\n",
       "      <td>0.902511</td>\n",
       "      <td>1.591126</td>\n",
       "      <td>...</td>\n",
       "      <td>-0.292850</td>\n",
       "      <td>0.229932</td>\n",
       "      <td>-0.193181</td>\n",
       "      <td>0.069090</td>\n",
       "      <td>-0.037756</td>\n",
       "      <td>-0.302932</td>\n",
       "      <td>0.117071</td>\n",
       "      <td>-0.244300</td>\n",
       "      <td>17.95</td>\n",
       "      <td>0</td>\n",
       "    </tr>\n",
       "    <tr>\n",
       "      <th>14246</th>\n",
       "      <td>-1.856074</td>\n",
       "      <td>1.661711</td>\n",
       "      <td>-2.229579</td>\n",
       "      <td>-0.209997</td>\n",
       "      <td>3.000181</td>\n",
       "      <td>3.882295</td>\n",
       "      <td>-0.702753</td>\n",
       "      <td>-1.655826</td>\n",
       "      <td>-1.303062</td>\n",
       "      <td>-0.269038</td>\n",
       "      <td>...</td>\n",
       "      <td>-1.057132</td>\n",
       "      <td>0.688611</td>\n",
       "      <td>-0.005392</td>\n",
       "      <td>0.687208</td>\n",
       "      <td>0.015625</td>\n",
       "      <td>-0.507456</td>\n",
       "      <td>-0.648173</td>\n",
       "      <td>0.200531</td>\n",
       "      <td>21.00</td>\n",
       "      <td>0</td>\n",
       "    </tr>\n",
       "    <tr>\n",
       "      <th>13766</th>\n",
       "      <td>1.041702</td>\n",
       "      <td>0.116258</td>\n",
       "      <td>0.335771</td>\n",
       "      <td>1.186276</td>\n",
       "      <td>-0.341690</td>\n",
       "      <td>-0.876273</td>\n",
       "      <td>0.378113</td>\n",
       "      <td>-0.281082</td>\n",
       "      <td>-0.143126</td>\n",
       "      <td>-0.086754</td>\n",
       "      <td>...</td>\n",
       "      <td>-0.103916</td>\n",
       "      <td>-0.469856</td>\n",
       "      <td>-0.054624</td>\n",
       "      <td>0.373814</td>\n",
       "      <td>0.467501</td>\n",
       "      <td>-0.565289</td>\n",
       "      <td>0.006127</td>\n",
       "      <td>0.045505</td>\n",
       "      <td>104.64</td>\n",
       "      <td>0</td>\n",
       "    </tr>\n",
       "  </tbody>\n",
       "</table>\n",
       "<p>5 rows × 30 columns</p>\n",
       "</div>"
      ],
      "text/plain": [
       "             V1        V2        V3        V4        V5        V6        V7  \\\n",
       "686   -0.458352 -0.358400  1.070412 -2.337933 -0.243453 -1.471496  0.182482   \n",
       "22925 -4.460076 -4.786844  1.293340 -1.560531  1.474213 -1.569017 -1.764973   \n",
       "15391 -0.989308  1.249124  1.533433  1.036101  0.394908  0.096425  1.164196   \n",
       "14246 -1.856074  1.661711 -2.229579 -0.209997  3.000181  3.882295 -0.702753   \n",
       "13766  1.041702  0.116258  0.335771  1.186276 -0.341690 -0.876273  0.378113   \n",
       "\n",
       "             V8        V9       V10  ...       V21       V22       V23  \\\n",
       "686   -0.313823 -2.759820  0.830098  ... -0.064310  0.048805 -0.205327   \n",
       "22925  0.524336 -1.474864  1.148590  ... -0.373745  0.398534  3.086143   \n",
       "15391 -0.527983  0.902511  1.591126  ... -0.292850  0.229932 -0.193181   \n",
       "14246 -1.655826 -1.303062 -0.269038  ... -1.057132  0.688611 -0.005392   \n",
       "13766 -0.281082 -0.143126 -0.086754  ... -0.103916 -0.469856 -0.054624   \n",
       "\n",
       "            V24       V25       V26       V27       V28  Amount  Class  \n",
       "686    0.324924  0.314862 -0.224625  0.054299  0.098412   15.00      0  \n",
       "22925 -0.904276  1.246212  0.027264  0.409119 -0.578668   18.00      0  \n",
       "15391  0.069090 -0.037756 -0.302932  0.117071 -0.244300   17.95      0  \n",
       "14246  0.687208  0.015625 -0.507456 -0.648173  0.200531   21.00      0  \n",
       "13766  0.373814  0.467501 -0.565289  0.006127  0.045505  104.64      0  \n",
       "\n",
       "[5 rows x 30 columns]"
      ]
     },
     "execution_count": 4,
     "metadata": {},
     "output_type": "execute_result"
    }
   ],
   "source": [
    "import pandas as pd\n",
    "\n",
    "data = pd.read_csv(\"data/creditcard.csv\")\n",
    "\n",
    "data.head()\n",
    "data = data.sample(frac=1)\n",
    "data.head()"
   ]
  },
  {
   "cell_type": "markdown",
   "metadata": {},
   "source": [
    "ℹ️ Due to confidentiality issues, the original features have been preprocessed and renamed `V1` to `V28`. There is only one features which has not been transformed, `Amount` which is the transaction Amount. `Class` is the target and it takes value 1 in case of fraud and 0 otherwise."
   ]
  },
  {
   "cell_type": "code",
   "execution_count": 5,
   "metadata": {},
   "outputs": [
    {
     "data": {
      "text/plain": [
       "0.0017204452090867595"
      ]
     },
     "execution_count": 5,
     "metadata": {},
     "output_type": "execute_result"
    }
   ],
   "source": [
    "data['Class'].sum()/len(data)"
   ]
  },
  {
   "cell_type": "code",
   "execution_count": 6,
   "metadata": {},
   "outputs": [],
   "source": [
    "import matplotlib.pyplot as plt"
   ]
  },
  {
   "cell_type": "code",
   "execution_count": 7,
   "metadata": {},
   "outputs": [],
   "source": [
    "from sklearn.preprocessing import MinMaxScaler\n",
    "\n",
    "mms = MinMaxScaler()\n",
    "mms.fit(data[['Amount']])\n",
    "data['Amount'] = mms.transform(data[['Amount']])\n",
    "\n",
    "target = 'Class'\n",
    "features = list(data.columns)\n",
    "features.remove(target)\n",
    "\n",
    "X = data[features]\n",
    "y = data[target]"
   ]
  },
  {
   "cell_type": "code",
   "execution_count": 15,
   "metadata": {},
   "outputs": [
    {
     "data": {
      "text/plain": [
       "array([[9.99996732e-01, 3.26792219e-06],\n",
       "       [9.99999687e-01, 3.13452797e-07],\n",
       "       [9.99999783e-01, 2.17461239e-07],\n",
       "       ...,\n",
       "       [9.99974838e-01, 2.51621573e-05],\n",
       "       [9.99999854e-01, 1.45895678e-07],\n",
       "       [9.99999987e-01, 1.34540024e-08]])"
      ]
     },
     "execution_count": 15,
     "metadata": {},
     "output_type": "execute_result"
    }
   ],
   "source": [
    "from sklearn.metrics import recall_score\n",
    "from sklearn.model_selection import cross_validate\n",
    "from sklearn.model_selection import cross_val_predict\n",
    "from sklearn.metrics import precision_recall_curve\n",
    "from sklearn.linear_model import LogisticRegression\n",
    "\n",
    "model = LogisticRegression(max_iter=1000, class_weight='balanced')\n",
    "\n",
    "cross_val_predict(model, X, y, method = \"predict_proba\")"
   ]
  },
  {
   "cell_type": "code",
   "execution_count": 16,
   "metadata": {},
   "outputs": [],
   "source": [
    "data['prob_ok'], data['prob_fraud'] = cross_val_predict(model,\n",
    "                                                       X,\n",
    "                                                       y,\n",
    "                                                       method = \"predict_proba\").T\n",
    "\n",
    "precision, recall, thresold = precision_recall_curve(y, data['prob_fraud'])"
   ]
  },
  {
   "cell_type": "code",
   "execution_count": 17,
   "metadata": {},
   "outputs": [
    {
     "data": {
      "text/html": [
       "<div>\n",
       "<style scoped>\n",
       "    .dataframe tbody tr th:only-of-type {\n",
       "        vertical-align: middle;\n",
       "    }\n",
       "\n",
       "    .dataframe tbody tr th {\n",
       "        vertical-align: top;\n",
       "    }\n",
       "\n",
       "    .dataframe thead th {\n",
       "        text-align: right;\n",
       "    }\n",
       "</style>\n",
       "<table border=\"1\" class=\"dataframe\">\n",
       "  <thead>\n",
       "    <tr style=\"text-align: right;\">\n",
       "      <th></th>\n",
       "      <th>thresold</th>\n",
       "      <th>precision</th>\n",
       "      <th>recall</th>\n",
       "    </tr>\n",
       "  </thead>\n",
       "  <tbody>\n",
       "    <tr>\n",
       "      <th>0</th>\n",
       "      <td>1.147423e-17</td>\n",
       "      <td>0.001739</td>\n",
       "      <td>1.000000</td>\n",
       "    </tr>\n",
       "    <tr>\n",
       "      <th>1</th>\n",
       "      <td>1.181522e-17</td>\n",
       "      <td>0.001704</td>\n",
       "      <td>0.979592</td>\n",
       "    </tr>\n",
       "    <tr>\n",
       "      <th>2</th>\n",
       "      <td>1.181976e-17</td>\n",
       "      <td>0.001704</td>\n",
       "      <td>0.979592</td>\n",
       "    </tr>\n",
       "    <tr>\n",
       "      <th>3</th>\n",
       "      <td>1.184043e-17</td>\n",
       "      <td>0.001704</td>\n",
       "      <td>0.979592</td>\n",
       "    </tr>\n",
       "    <tr>\n",
       "      <th>4</th>\n",
       "      <td>1.188821e-17</td>\n",
       "      <td>0.001704</td>\n",
       "      <td>0.979592</td>\n",
       "    </tr>\n",
       "    <tr>\n",
       "      <th>...</th>\n",
       "      <td>...</td>\n",
       "      <td>...</td>\n",
       "      <td>...</td>\n",
       "    </tr>\n",
       "    <tr>\n",
       "      <th>28102</th>\n",
       "      <td>1.000000e+00</td>\n",
       "      <td>0.764706</td>\n",
       "      <td>0.265306</td>\n",
       "    </tr>\n",
       "    <tr>\n",
       "      <th>28103</th>\n",
       "      <td>1.000000e+00</td>\n",
       "      <td>0.750000</td>\n",
       "      <td>0.244898</td>\n",
       "    </tr>\n",
       "    <tr>\n",
       "      <th>28104</th>\n",
       "      <td>1.000000e+00</td>\n",
       "      <td>0.800000</td>\n",
       "      <td>0.244898</td>\n",
       "    </tr>\n",
       "    <tr>\n",
       "      <th>28105</th>\n",
       "      <td>1.000000e+00</td>\n",
       "      <td>0.785714</td>\n",
       "      <td>0.224490</td>\n",
       "    </tr>\n",
       "    <tr>\n",
       "      <th>28106</th>\n",
       "      <td>1.000000e+00</td>\n",
       "      <td>0.769231</td>\n",
       "      <td>0.204082</td>\n",
       "    </tr>\n",
       "  </tbody>\n",
       "</table>\n",
       "<p>28107 rows × 3 columns</p>\n",
       "</div>"
      ],
      "text/plain": [
       "           thresold  precision    recall\n",
       "0      1.147423e-17   0.001739  1.000000\n",
       "1      1.181522e-17   0.001704  0.979592\n",
       "2      1.181976e-17   0.001704  0.979592\n",
       "3      1.184043e-17   0.001704  0.979592\n",
       "4      1.188821e-17   0.001704  0.979592\n",
       "...             ...        ...       ...\n",
       "28102  1.000000e+00   0.764706  0.265306\n",
       "28103  1.000000e+00   0.750000  0.244898\n",
       "28104  1.000000e+00   0.800000  0.244898\n",
       "28105  1.000000e+00   0.785714  0.224490\n",
       "28106  1.000000e+00   0.769231  0.204082\n",
       "\n",
       "[28107 rows x 3 columns]"
      ]
     },
     "execution_count": 17,
     "metadata": {},
     "output_type": "execute_result"
    }
   ],
   "source": [
    "scores = pd.DataFrame({\"thresold\":thresold,\n",
    "                       \"precision\":precision[:-1],\n",
    "                       \"recall\":recall[:-1]})\n",
    "\n",
    "scores"
   ]
  },
  {
   "cell_type": "code",
   "execution_count": 18,
   "metadata": {
    "scrolled": true
   },
   "outputs": [
    {
     "data": {
      "text/plain": [
       "[<matplotlib.lines.Line2D at 0x145a9adc0>]"
      ]
     },
     "execution_count": 18,
     "metadata": {},
     "output_type": "execute_result"
    },
    {
     "data": {
      "image/png": "[encoded data removed]",
      "text/plain": [
       "<Figure size 432x288 with 1 Axes>"
      ]
     },
     "metadata": {
      "needs_background": "light"
     },
     "output_type": "display_data"
    }
   ],
   "source": [
    "plt.plot(scores['thresold'],scores['recall'])"
   ]
  },
  {
   "cell_type": "code",
   "execution_count": 19,
   "metadata": {},
   "outputs": [
    {
     "data": {
      "text/plain": [
       "[<matplotlib.lines.Line2D at 0x1462ae1c0>]"
      ]
     },
     "execution_count": 19,
     "metadata": {},
     "output_type": "execute_result"
    },
    {
     "data": {
      "image/png": "[encoded data removed]",
      "text/plain": [
       "<Figure size 432x288 with 1 Axes>"
      ]
     },
     "metadata": {
      "needs_background": "light"
     },
     "output_type": "display_data"
    }
   ],
   "source": [
    "plt.plot(scores['recall'],scores['precision'])"
   ]
  },
  {
   "cell_type": "code",
   "execution_count": 23,
   "metadata": {},
   "outputs": [
    {
     "data": {
      "text/plain": [
       "0.47347863927297634"
      ]
     },
     "execution_count": 23,
     "metadata": {},
     "output_type": "execute_result"
    }
   ],
   "source": [
    "new_threshold = scores[scores['recall'] >= 0.88].thresold.max()\n",
    "new_threshold"
   ]
  },
  {
   "cell_type": "code",
   "execution_count": null,
   "metadata": {},
   "outputs": [],
   "source": []
  }
 ],
 "metadata": {
  "kernelspec": {
   "display_name": "Python 3 (ipykernel)",
   "language": "python",
   "name": "python3"
  },
  "language_info": {
   "codemirror_mode": {
    "name": "ipython",
    "version": 3
   },
   "file_extension": ".py",
   "mimetype": "text/x-python",
   "name": "python",
   "nbconvert_exporter": "python",
   "pygments_lexer": "ipython3",
   "version": "3.8.12"
  },
  "toc": {
   "base_numbering": 1,
   "nav_menu": {},
   "number_sections": true,
   "sideBar": true,
   "skip_h1_title": false,
   "title_cell": "Table of Contents",
   "title_sidebar": "Contents",
   "toc_cell": false,
   "toc_position": {},
   "toc_section_display": true,
   "toc_window_display": false
  }
 },
 "nbformat": 4,
 "nbformat_minor": 4
}
