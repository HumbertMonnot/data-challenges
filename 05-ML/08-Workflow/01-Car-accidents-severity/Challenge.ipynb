{
 "cells": [
  {
   "cell_type": "markdown",
   "metadata": {},
   "source": [
    "# Instructions\n",
    "\n",
    "### Introduction\n",
    "\n",
    "In this challenge, you'll try to predict the severity of car accidents. You'll have multiple `.csv` files at your disposition. You can load them, extract the features you think would be relevant and build a data pipeline. Then, you'll iterate on the different phase and try to get the best model! \n",
    "\n",
    "There are two folders containing data files: `data_training` that you must use to train your algorithms, and `data_validation` used to do the prediction once your model is ready. You'll send us these predictions and we'll evaluate the score (there is no target column in `data_validation`).\n",
    "\n",
    "Start by having a look at the datasets available in the folder `data`. You're free to use any data from these dataset to create the best classifier possible.\n",
    "\n",
    "You can find the variables description in the file `challenge_variable.md`.\n",
    "\n",
    "### The approach\n",
    "\n",
    "We'll provide you a few guidelines to help you, but feel free to be creative and try different things. However, try to not get lost in one step:\n",
    "\n",
    "🔥🔥🔥\n",
    "\n",
    "We recommend having the following approach: build a first version of the end-to-end pipeline with all the building blocks you need. Even if it is not perfect, the goal is to have a first baseline as soon of possible. Then you will be able to iterate and increase your model performance, playing with the steps from preprocessing to modeling.\n",
    "\n",
    "🔥🔥🔥\n",
    "\n",
    "### The goal\n",
    "\n",
    "The goal of the model you'll build is to predict the severity of car accidents. The target variable is called `grav` (for 'gravity') in the file `users.csv`. This variable has four levels, but in this challenge, we'll convert it to a binary variable. To do that, you need to convert the values 1 (`Unscathed`) and 4 (`Light injury`) to 0, and the values 2 (`Killed`) and 3 (`Hospitalized wounded`) to 1.\n",
    "\n",
    "For instance:\n",
    "\n",
    "```python\n",
    "data['grav_binary'] = data['grav'].replace({1: 0, 4: 0, 2: 1, 3: 1})\n",
    "```\n",
    "\n",
    "The goal is thus to do a binary classification.\n",
    "\n",
    "### Get the Data\n",
    "\n",
    "You can download the data [here](https://wagon-public-datasets.s3.amazonaws.com/04-ML_08-workflow_datasets.zip). For instance:\n",
    "\n",
    "```\n",
    "cd ~/code/$GITHUB_NICKNAME/data-challenges/05-ML/08-Workflow/01-Car-accidents-severity\n",
    "curl https://wagon-public-datasets.s3.amazonaws.com/car_acccidents_datasets.zip > data.zip\n",
    "unzip data.zip -d data\n",
    "rm -rf data.zip\n",
    "```"
   ]
  },
  {
   "cell_type": "markdown",
   "metadata": {},
   "source": [
    "# Data sourcing\n",
    "\n",
    "Let's get started! Load the data you want to use from the `csv` files in `/data/data_training` and explore the different variables. Create one single dataset by merging the data from the different files. Each row of the resulting merged dataset should represent a `user` in a car. You should find `1209362` rows.\n",
    "\n",
    "You might use the following encoding to load the data:\n",
    "\n",
    "```python\n",
    "encoding=\"ISO-8859-1\"\n",
    "```"
   ]
  },
  {
   "cell_type": "markdown",
   "metadata": {},
   "source": [
    "## Loading data"
   ]
  },
  {
   "cell_type": "code",
   "execution_count": null,
   "metadata": {},
   "outputs": [],
   "source": [
    "# Your code here"
   ]
  },
  {
   "cell_type": "code",
   "execution_count": null,
   "metadata": {},
   "outputs": [],
   "source": []
  },
  {
   "cell_type": "code",
   "execution_count": null,
   "metadata": {},
   "outputs": [],
   "source": []
  },
  {
   "cell_type": "markdown",
   "metadata": {},
   "source": [
    "## Merge datasets"
   ]
  },
  {
   "cell_type": "code",
   "execution_count": 1,
   "metadata": {},
   "outputs": [],
   "source": [
    "# Your code here"
   ]
  },
  {
   "cell_type": "code",
   "execution_count": null,
   "metadata": {},
   "outputs": [],
   "source": []
  },
  {
   "cell_type": "code",
   "execution_count": null,
   "metadata": {},
   "outputs": [],
   "source": []
  },
  {
   "cell_type": "markdown",
   "metadata": {},
   "source": [
    "# Data Vizualization\n"
   ]
  },
  {
   "cell_type": "code",
   "execution_count": null,
   "metadata": {},
   "outputs": [],
   "source": [
    "# Your plots here"
   ]
  },
  {
   "cell_type": "code",
   "execution_count": null,
   "metadata": {},
   "outputs": [],
   "source": []
  },
  {
   "cell_type": "code",
   "execution_count": null,
   "metadata": {},
   "outputs": [],
   "source": []
  },
  {
   "cell_type": "markdown",
   "metadata": {},
   "source": [
    "# Preprocessing\n",
    "\n",
    "Apply some preprocessing methods like standardization or missing values removal or imputing."
   ]
  },
  {
   "cell_type": "markdown",
   "metadata": {},
   "source": [
    "## Clean Dataset"
   ]
  },
  {
   "cell_type": "code",
   "execution_count": null,
   "metadata": {},
   "outputs": [],
   "source": [
    "# Your code here"
   ]
  },
  {
   "cell_type": "code",
   "execution_count": null,
   "metadata": {},
   "outputs": [],
   "source": []
  },
  {
   "cell_type": "code",
   "execution_count": null,
   "metadata": {},
   "outputs": [],
   "source": []
  },
  {
   "cell_type": "markdown",
   "metadata": {},
   "source": [
    "## Prepare features and target"
   ]
  },
  {
   "cell_type": "code",
   "execution_count": null,
   "metadata": {},
   "outputs": [],
   "source": [
    "# Your code here"
   ]
  },
  {
   "cell_type": "code",
   "execution_count": null,
   "metadata": {},
   "outputs": [],
   "source": []
  },
  {
   "cell_type": "code",
   "execution_count": null,
   "metadata": {},
   "outputs": [],
   "source": []
  },
  {
   "cell_type": "markdown",
   "metadata": {},
   "source": [
    "## Split Dataset\n",
    "\n",
    "Don't forget to split your dataset in training set and test set.\n"
   ]
  },
  {
   "cell_type": "code",
   "execution_count": 15,
   "metadata": {},
   "outputs": [],
   "source": [
    "# Your code here"
   ]
  },
  {
   "cell_type": "code",
   "execution_count": null,
   "metadata": {},
   "outputs": [],
   "source": []
  },
  {
   "cell_type": "code",
   "execution_count": null,
   "metadata": {},
   "outputs": [],
   "source": []
  },
  {
   "cell_type": "markdown",
   "metadata": {},
   "source": [
    "# Modeling\n",
    "\n",
    "Create a model to classify the severity of the accidents. Start simple and iterate to improve the performance. Don't forget to fit on your training set and evaluate the score on your test set."
   ]
  },
  {
   "cell_type": "code",
   "execution_count": 30,
   "metadata": {},
   "outputs": [],
   "source": [
    "# Your code here"
   ]
  },
  {
   "cell_type": "code",
   "execution_count": null,
   "metadata": {},
   "outputs": [],
   "source": []
  },
  {
   "cell_type": "code",
   "execution_count": null,
   "metadata": {},
   "outputs": [],
   "source": []
  },
  {
   "cell_type": "markdown",
   "metadata": {},
   "source": [
    "# Optimization\n",
    "\n",
    "You can try to hyper-optimize your model with a grid search for instance."
   ]
  },
  {
   "cell_type": "code",
   "execution_count": null,
   "metadata": {},
   "outputs": [],
   "source": [
    "# Your code here"
   ]
  },
  {
   "cell_type": "code",
   "execution_count": null,
   "metadata": {},
   "outputs": [],
   "source": []
  },
  {
   "cell_type": "code",
   "execution_count": null,
   "metadata": {},
   "outputs": [],
   "source": []
  }
 ],
 "metadata": {
  "kernelspec": {
   "display_name": "Python 3",
   "language": "python",
   "name": "python3"
  },
  "language_info": {
   "codemirror_mode": {
    "name": "ipython",
    "version": 3
   },
   "file_extension": ".py",
   "mimetype": "text/x-python",
   "name": "python",
   "nbconvert_exporter": "python",
   "pygments_lexer": "ipython3",
   "version": "3.7.7"
  },
  "toc": {
   "base_numbering": 1,
   "nav_menu": {},
   "number_sections": false,
   "sideBar": true,
   "skip_h1_title": false,
   "title_cell": "Table of Contents",
   "title_sidebar": "Contents",
   "toc_cell": false,
   "toc_position": {},
   "toc_section_display": true,
   "toc_window_display": false
  }
 },
 "nbformat": 4,
 "nbformat_minor": 4
}
