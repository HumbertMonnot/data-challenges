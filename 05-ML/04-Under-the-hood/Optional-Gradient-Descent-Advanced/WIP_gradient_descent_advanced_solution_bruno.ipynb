{
 "cells": [
  {
   "cell_type": "code",
   "execution_count": 842,
   "metadata": {},
   "outputs": [],
   "source": [
    "# # # This one overfits a little\n",
    "\n",
    "# from sklearn.datasets import make_regression\n",
    "\n",
    "# # This creates a dummy dataset (look at sklearn docs to undestand it) \n",
    "# X, y = make_regression(\n",
    "#     n_samples=300,\n",
    "#     n_features= 30,\n",
    "#     n_informative= 3,\n",
    "#     n_targets=1,\n",
    "#     bias = 0,\n",
    "#     noise= 20,\n",
    "#     random_state = 0)\n",
    "\n",
    "# # Add (n*p) feature which are their polynomial exponents X1**2, X1**3...X1**p, X2**2, ...Xn**p\n",
    "# p = X.shape[1]\n",
    "# n = X.shape[0]\n",
    "# max_degree = 30\n",
    "# for j in range(p):\n",
    "#     for exponent in range(2,max_degree+1):\n",
    "#         # create new features that are exponent of the existing ones\n",
    "#         X = np.append(X, (X[:,j]**exponent).reshape(n,1), axis=1)"
   ]
  },
  {
   "cell_type": "code",
   "execution_count": 3,
   "metadata": {
    "scrolled": true
   },
   "outputs": [
    {
     "name": "stdout",
     "output_type": "stream",
     "text": [
      "(442, 10)\n",
      "(442,)\n"
     ]
    }
   ],
   "source": [
    "# from sklearn import datasets\n",
    "# X,y = datasets.load_diabetes(return_X_y=True, as_frame=False)\n",
    "# print(X.shape)\n",
    "# print(y.shape)"
   ]
  },
  {
   "cell_type": "code",
   "execution_count": 1,
   "metadata": {},
   "outputs": [],
   "source": [
    "import pandas as pd\n",
    "import numpy as np\n",
    "import matplotlib.pyplot as plt\n",
    "import seaborn as sns"
   ]
  },
  {
   "cell_type": "code",
   "execution_count": 2,
   "metadata": {},
   "outputs": [],
   "source": [
    "from sklearn.linear_model import LinearRegression, SGDRegressor\n",
    "from sklearn.model_selection import train_test_split\n",
    "from sklearn.metrics import mean_squared_error, r2_score\n",
    "from sklearn.preprocessing import StandardScaler"
   ]
  },
  {
   "cell_type": "markdown",
   "metadata": {},
   "source": [
    "# Gradient Descent (Advanced)"
   ]
  },
  {
   "cell_type": "markdown",
   "metadata": {},
   "source": [
    "In this exercice, we will\n",
    "\n",
    "- code our own gradient descent in vectorized form for a high-dimension loss function\n",
    "- Investigate early stopping criteria to avoid overfitting"
   ]
  },
  {
   "cell_type": "markdown",
   "metadata": {},
   "source": [
    "## Our dataset"
   ]
  },
  {
   "cell_type": "code",
   "execution_count": 434,
   "metadata": {},
   "outputs": [
    {
     "name": "stdout",
     "output_type": "stream",
     "text": [
      "(100, 1)\n"
     ]
    },
    {
     "data": {
      "image/png": "[encoded data removed]",
      "text/plain": [
       "<Figure size 432x288 with 1 Axes>"
      ]
     },
     "metadata": {
      "needs_background": "light"
     },
     "output_type": "display_data"
    }
   ],
   "source": [
    "from sklearn.datasets import make_regression\n",
    "\n",
    "# This creates a dummy dataset (look at sklearn docs to undestand it) \n",
    "X, y = make_regression(\n",
    "    n_samples=100,\n",
    "    n_features= 1,\n",
    "    n_informative= 1,\n",
    "    n_targets=1,\n",
    "    bias = 100,\n",
    "    noise= 20,\n",
    "    tail_strength = 0.99,\n",
    "    random_state = 42)\n",
    "print(X.shape)\n",
    "plt.scatter(X,y);"
   ]
  },
  {
   "cell_type": "code",
   "execution_count": 342,
   "metadata": {},
   "outputs": [
    {
     "data": {
      "text/plain": [
       "<matplotlib.collections.PathCollection at 0x12604d890>"
      ]
     },
     "execution_count": 342,
     "metadata": {},
     "output_type": "execute_result"
    },
    {
     "data": {
      "image/png": "[encoded data removed]",
      "text/plain": [
       "<Figure size 432x288 with 1 Axes>"
      ]
     },
     "metadata": {
      "needs_background": "light"
     },
     "output_type": "display_data"
    }
   ],
   "source": [
    "# # Give the scatter plot some curvature \n",
    "# X_range = X.max() - X.min()\n",
    "# y_range = y.max() - y.min()\n",
    "# f = (X_range / y_range)/3\n",
    "# y = np.sin(np.pi * f * y)\n",
    "# plt.scatter(X,y)"
   ]
  },
  {
   "cell_type": "code",
   "execution_count": 426,
   "metadata": {
    "scrolled": false
   },
   "outputs": [
    {
     "data": {
      "image/png": "[encoded data removed]",
      "text/plain": [
       "<Figure size 432x288 with 1 Axes>"
      ]
     },
     "metadata": {
      "needs_background": "light"
     },
     "output_type": "display_data"
    }
   ],
   "source": [
    "# np.random.seed(42)\n",
    "# x = np.sort(np.random.rand(120))\n",
    "# X = x.reshape((len(x), 1))\n",
    "\n",
    "# y = np.sin(1.2 * x * np.pi) + 0.2 * np.random.randn(len(x))\n",
    "# plt.scatter(X,y);"
   ]
  },
  {
   "cell_type": "code",
   "execution_count": 435,
   "metadata": {},
   "outputs": [
    {
     "data": {
      "text/plain": [
       "(100, 1)"
      ]
     },
     "execution_count": 435,
     "metadata": {},
     "output_type": "execute_result"
    }
   ],
   "source": [
    "X.shape"
   ]
  },
  {
   "cell_type": "code",
   "execution_count": 466,
   "metadata": {
    "collapsed": true
   },
   "outputs": [
    {
     "name": "stdout",
     "output_type": "stream",
     "text": [
      "-8.708177371954938e+16\n"
     ]
    },
    {
     "ename": "ValueError",
     "evalue": "x and y must be the same size",
     "output_type": "error",
     "traceback": [
      "\u001b[0;31m---------------------------------------------------------------------------\u001b[0m",
      "\u001b[0;31mValueError\u001b[0m                                Traceback (most recent call last)",
      "\u001b[0;32m<ipython-input-466-c9e50695b7d2>\u001b[0m in \u001b[0;36m<module>\u001b[0;34m\u001b[0m\n\u001b[1;32m      4\u001b[0m \u001b[0;34m\u001b[0m\u001b[0m\n\u001b[1;32m      5\u001b[0m \u001b[0mprint\u001b[0m\u001b[0;34m(\u001b[0m\u001b[0mr2_score\u001b[0m\u001b[0;34m(\u001b[0m\u001b[0my_test\u001b[0m\u001b[0;34m,\u001b[0m \u001b[0my_pred_linreg\u001b[0m\u001b[0;34m)\u001b[0m\u001b[0;34m)\u001b[0m\u001b[0;34m\u001b[0m\u001b[0;34m\u001b[0m\u001b[0m\n\u001b[0;32m----> 6\u001b[0;31m \u001b[0mplt\u001b[0m\u001b[0;34m.\u001b[0m\u001b[0mscatter\u001b[0m\u001b[0;34m(\u001b[0m\u001b[0mX_test\u001b[0m\u001b[0;34m,\u001b[0m \u001b[0my_test\u001b[0m\u001b[0;34m,\u001b[0m  \u001b[0mcolor\u001b[0m\u001b[0;34m=\u001b[0m\u001b[0;34m'black'\u001b[0m\u001b[0;34m)\u001b[0m\u001b[0;34m\u001b[0m\u001b[0;34m\u001b[0m\u001b[0m\n\u001b[0m\u001b[1;32m      7\u001b[0m \u001b[0mplt\u001b[0m\u001b[0;34m.\u001b[0m\u001b[0mplot\u001b[0m\u001b[0;34m(\u001b[0m\u001b[0mX_test\u001b[0m\u001b[0;34m,\u001b[0m \u001b[0my_pred_linreg\u001b[0m\u001b[0;34m,\u001b[0m \u001b[0mcolor\u001b[0m\u001b[0;34m=\u001b[0m\u001b[0;34m'#FFC90E'\u001b[0m\u001b[0;34m,\u001b[0m \u001b[0mlinewidth\u001b[0m\u001b[0;34m=\u001b[0m\u001b[0;36m3\u001b[0m\u001b[0;34m)\u001b[0m\u001b[0;34m\u001b[0m\u001b[0;34m\u001b[0m\u001b[0m\n",
      "\u001b[0;32m~/.pyenv/versions/3.7.7/envs/lewagon414/lib/python3.7/site-packages/matplotlib/pyplot.py\u001b[0m in \u001b[0;36mscatter\u001b[0;34m(x, y, s, c, marker, cmap, norm, vmin, vmax, alpha, linewidths, verts, edgecolors, plotnonfinite, data, **kwargs)\u001b[0m\n\u001b[1;32m   2814\u001b[0m         \u001b[0mverts\u001b[0m\u001b[0;34m=\u001b[0m\u001b[0mverts\u001b[0m\u001b[0;34m,\u001b[0m \u001b[0medgecolors\u001b[0m\u001b[0;34m=\u001b[0m\u001b[0medgecolors\u001b[0m\u001b[0;34m,\u001b[0m\u001b[0;34m\u001b[0m\u001b[0;34m\u001b[0m\u001b[0m\n\u001b[1;32m   2815\u001b[0m         plotnonfinite=plotnonfinite, **({\"data\": data} if data is not\n\u001b[0;32m-> 2816\u001b[0;31m         None else {}), **kwargs)\n\u001b[0m\u001b[1;32m   2817\u001b[0m     \u001b[0msci\u001b[0m\u001b[0;34m(\u001b[0m\u001b[0m__ret\u001b[0m\u001b[0;34m)\u001b[0m\u001b[0;34m\u001b[0m\u001b[0;34m\u001b[0m\u001b[0m\n\u001b[1;32m   2818\u001b[0m     \u001b[0;32mreturn\u001b[0m \u001b[0m__ret\u001b[0m\u001b[0;34m\u001b[0m\u001b[0;34m\u001b[0m\u001b[0m\n",
      "\u001b[0;32m~/.pyenv/versions/3.7.7/envs/lewagon414/lib/python3.7/site-packages/matplotlib/__init__.py\u001b[0m in \u001b[0;36minner\u001b[0;34m(ax, data, *args, **kwargs)\u001b[0m\n\u001b[1;32m   1563\u001b[0m     \u001b[0;32mdef\u001b[0m \u001b[0minner\u001b[0m\u001b[0;34m(\u001b[0m\u001b[0max\u001b[0m\u001b[0;34m,\u001b[0m \u001b[0;34m*\u001b[0m\u001b[0margs\u001b[0m\u001b[0;34m,\u001b[0m \u001b[0mdata\u001b[0m\u001b[0;34m=\u001b[0m\u001b[0;32mNone\u001b[0m\u001b[0;34m,\u001b[0m \u001b[0;34m**\u001b[0m\u001b[0mkwargs\u001b[0m\u001b[0;34m)\u001b[0m\u001b[0;34m:\u001b[0m\u001b[0;34m\u001b[0m\u001b[0;34m\u001b[0m\u001b[0m\n\u001b[1;32m   1564\u001b[0m         \u001b[0;32mif\u001b[0m \u001b[0mdata\u001b[0m \u001b[0;32mis\u001b[0m \u001b[0;32mNone\u001b[0m\u001b[0;34m:\u001b[0m\u001b[0;34m\u001b[0m\u001b[0;34m\u001b[0m\u001b[0m\n\u001b[0;32m-> 1565\u001b[0;31m             \u001b[0;32mreturn\u001b[0m \u001b[0mfunc\u001b[0m\u001b[0;34m(\u001b[0m\u001b[0max\u001b[0m\u001b[0;34m,\u001b[0m \u001b[0;34m*\u001b[0m\u001b[0mmap\u001b[0m\u001b[0;34m(\u001b[0m\u001b[0msanitize_sequence\u001b[0m\u001b[0;34m,\u001b[0m \u001b[0margs\u001b[0m\u001b[0;34m)\u001b[0m\u001b[0;34m,\u001b[0m \u001b[0;34m**\u001b[0m\u001b[0mkwargs\u001b[0m\u001b[0;34m)\u001b[0m\u001b[0;34m\u001b[0m\u001b[0;34m\u001b[0m\u001b[0m\n\u001b[0m\u001b[1;32m   1566\u001b[0m \u001b[0;34m\u001b[0m\u001b[0m\n\u001b[1;32m   1567\u001b[0m         \u001b[0mbound\u001b[0m \u001b[0;34m=\u001b[0m \u001b[0mnew_sig\u001b[0m\u001b[0;34m.\u001b[0m\u001b[0mbind\u001b[0m\u001b[0;34m(\u001b[0m\u001b[0max\u001b[0m\u001b[0;34m,\u001b[0m \u001b[0;34m*\u001b[0m\u001b[0margs\u001b[0m\u001b[0;34m,\u001b[0m \u001b[0;34m**\u001b[0m\u001b[0mkwargs\u001b[0m\u001b[0;34m)\u001b[0m\u001b[0;34m\u001b[0m\u001b[0;34m\u001b[0m\u001b[0m\n",
      "\u001b[0;32m~/.pyenv/versions/3.7.7/envs/lewagon414/lib/python3.7/site-packages/matplotlib/cbook/deprecation.py\u001b[0m in \u001b[0;36mwrapper\u001b[0;34m(*args, **kwargs)\u001b[0m\n\u001b[1;32m    356\u001b[0m                 \u001b[0;34mf\"%(removal)s.  If any parameter follows {name!r}, they \"\u001b[0m\u001b[0;34m\u001b[0m\u001b[0;34m\u001b[0m\u001b[0m\n\u001b[1;32m    357\u001b[0m                 f\"should be pass as keyword, not positionally.\")\n\u001b[0;32m--> 358\u001b[0;31m         \u001b[0;32mreturn\u001b[0m \u001b[0mfunc\u001b[0m\u001b[0;34m(\u001b[0m\u001b[0;34m*\u001b[0m\u001b[0margs\u001b[0m\u001b[0;34m,\u001b[0m \u001b[0;34m**\u001b[0m\u001b[0mkwargs\u001b[0m\u001b[0;34m)\u001b[0m\u001b[0;34m\u001b[0m\u001b[0;34m\u001b[0m\u001b[0m\n\u001b[0m\u001b[1;32m    359\u001b[0m \u001b[0;34m\u001b[0m\u001b[0m\n\u001b[1;32m    360\u001b[0m     \u001b[0;32mreturn\u001b[0m \u001b[0mwrapper\u001b[0m\u001b[0;34m\u001b[0m\u001b[0;34m\u001b[0m\u001b[0m\n",
      "\u001b[0;32m~/.pyenv/versions/3.7.7/envs/lewagon414/lib/python3.7/site-packages/matplotlib/axes/_axes.py\u001b[0m in \u001b[0;36mscatter\u001b[0;34m(self, x, y, s, c, marker, cmap, norm, vmin, vmax, alpha, linewidths, verts, edgecolors, plotnonfinite, **kwargs)\u001b[0m\n\u001b[1;32m   4378\u001b[0m         \u001b[0my\u001b[0m \u001b[0;34m=\u001b[0m \u001b[0mnp\u001b[0m\u001b[0;34m.\u001b[0m\u001b[0mma\u001b[0m\u001b[0;34m.\u001b[0m\u001b[0mravel\u001b[0m\u001b[0;34m(\u001b[0m\u001b[0my\u001b[0m\u001b[0;34m)\u001b[0m\u001b[0;34m\u001b[0m\u001b[0;34m\u001b[0m\u001b[0m\n\u001b[1;32m   4379\u001b[0m         \u001b[0;32mif\u001b[0m \u001b[0mx\u001b[0m\u001b[0;34m.\u001b[0m\u001b[0msize\u001b[0m \u001b[0;34m!=\u001b[0m \u001b[0my\u001b[0m\u001b[0;34m.\u001b[0m\u001b[0msize\u001b[0m\u001b[0;34m:\u001b[0m\u001b[0;34m\u001b[0m\u001b[0;34m\u001b[0m\u001b[0m\n\u001b[0;32m-> 4380\u001b[0;31m             \u001b[0;32mraise\u001b[0m \u001b[0mValueError\u001b[0m\u001b[0;34m(\u001b[0m\u001b[0;34m\"x and y must be the same size\"\u001b[0m\u001b[0;34m)\u001b[0m\u001b[0;34m\u001b[0m\u001b[0;34m\u001b[0m\u001b[0m\n\u001b[0m\u001b[1;32m   4381\u001b[0m \u001b[0;34m\u001b[0m\u001b[0m\n\u001b[1;32m   4382\u001b[0m         \u001b[0;32mif\u001b[0m \u001b[0ms\u001b[0m \u001b[0;32mis\u001b[0m \u001b[0;32mNone\u001b[0m\u001b[0;34m:\u001b[0m\u001b[0;34m\u001b[0m\u001b[0;34m\u001b[0m\u001b[0m\n",
      "\u001b[0;31mValueError\u001b[0m: x and y must be the same size"
     ]
    },
    {
     "data": {
      "image/png": "[encoded data removed]",
      "text/plain": [
       "<Figure size 432x288 with 1 Axes>"
      ]
     },
     "metadata": {
      "needs_background": "light"
     },
     "output_type": "display_data"
    }
   ],
   "source": [
    "X_train, X_test, y_train, y_test = train_test_split(X, y, test_size=0.30, random_state=4)\n",
    "linreg = LinearRegression().fit(X_train,y_train)\n",
    "y_pred_linreg = linreg.predict(X_test)\n",
    "\n",
    "print(r2_score(y_test, y_pred_linreg))\n",
    "plt.scatter(X_test, y_test,  color='black')\n",
    "plt.plot(X_test, y_pred_linreg, color='#FFC90E', linewidth=3)"
   ]
  },
  {
   "cell_type": "code",
   "execution_count": 450,
   "metadata": {},
   "outputs": [],
   "source": [
    "# Create all polynomial transforms\n",
    "from sklearn.preprocessing import PolynomialFeatures\n",
    "interaction = PolynomialFeatures(degree=25, include_bias=False, interaction_only=False)\n",
    "X = interaction.fit_transform(X)"
   ]
  },
  {
   "cell_type": "code",
   "execution_count": 395,
   "metadata": {},
   "outputs": [],
   "source": [
    "# Add (n*p) feature which are their polynomial exponents X1**2, X1**3...X1**p, X2**2, ...Xn**p\n",
    "p = X.shape[1]\n",
    "n = X.shape[0]\n",
    "max_degree = 30\n",
    "for j in range(p):\n",
    "    for exponent in range(2,max_degree+1):\n",
    "        # create new features that are exponent of the existing ones\n",
    "        X = np.append(X, (X[:,j]**exponent).reshape(n,1), axis=1)"
   ]
  },
  {
   "cell_type": "code",
   "execution_count": 457,
   "metadata": {},
   "outputs": [],
   "source": [
    "from sklearn.preprocessing import MinMaxScaler\n",
    "scaler = MinMaxScaler()\n",
    "X = scaler.fit_transform(X)"
   ]
  },
  {
   "cell_type": "code",
   "execution_count": 458,
   "metadata": {
    "scrolled": true
   },
   "outputs": [
    {
     "data": {
      "text/html": [
       "<div>\n",
       "<style scoped>\n",
       "    .dataframe tbody tr th:only-of-type {\n",
       "        vertical-align: middle;\n",
       "    }\n",
       "\n",
       "    .dataframe tbody tr th {\n",
       "        vertical-align: top;\n",
       "    }\n",
       "\n",
       "    .dataframe thead th {\n",
       "        text-align: right;\n",
       "    }\n",
       "</style>\n",
       "<table border=\"1\" class=\"dataframe\">\n",
       "  <thead>\n",
       "    <tr style=\"text-align: right;\">\n",
       "      <th></th>\n",
       "      <th>0</th>\n",
       "      <th>1</th>\n",
       "      <th>2</th>\n",
       "      <th>3</th>\n",
       "      <th>4</th>\n",
       "      <th>5</th>\n",
       "      <th>6</th>\n",
       "      <th>7</th>\n",
       "      <th>8</th>\n",
       "      <th>9</th>\n",
       "      <th>...</th>\n",
       "      <th>16</th>\n",
       "      <th>17</th>\n",
       "      <th>18</th>\n",
       "      <th>19</th>\n",
       "      <th>20</th>\n",
       "      <th>21</th>\n",
       "      <th>22</th>\n",
       "      <th>23</th>\n",
       "      <th>24</th>\n",
       "      <th>25</th>\n",
       "    </tr>\n",
       "  </thead>\n",
       "  <tbody>\n",
       "    <tr>\n",
       "      <th>0</th>\n",
       "      <td>0.794053</td>\n",
       "      <td>0.126366</td>\n",
       "      <td>0.772037</td>\n",
       "      <td>0.015969</td>\n",
       "      <td>0.854659</td>\n",
       "      <td>2.018031e-03</td>\n",
       "      <td>0.919494</td>\n",
       "      <td>2.550177e-04</td>\n",
       "      <td>0.957795</td>\n",
       "      <td>3.222649e-05</td>\n",
       "      <td>...</td>\n",
       "      <td>0.997250</td>\n",
       "      <td>8.218325e-09</td>\n",
       "      <td>0.998623</td>\n",
       "      <td>1.038546e-09</td>\n",
       "      <td>0.999311</td>\n",
       "      <td>1.312407e-10</td>\n",
       "      <td>0.999656</td>\n",
       "      <td>1.658483e-11</td>\n",
       "      <td>0.999828</td>\n",
       "      <td>0.0</td>\n",
       "    </tr>\n",
       "    <tr>\n",
       "      <th>1</th>\n",
       "      <td>0.605272</td>\n",
       "      <td>0.001100</td>\n",
       "      <td>0.738874</td>\n",
       "      <td>0.000001</td>\n",
       "      <td>0.849835</td>\n",
       "      <td>1.345769e-09</td>\n",
       "      <td>0.918835</td>\n",
       "      <td>1.485802e-12</td>\n",
       "      <td>0.957708</td>\n",
       "      <td>1.640405e-15</td>\n",
       "      <td>...</td>\n",
       "      <td>0.997250</td>\n",
       "      <td>2.437317e-27</td>\n",
       "      <td>0.998623</td>\n",
       "      <td>2.690929e-30</td>\n",
       "      <td>0.999311</td>\n",
       "      <td>2.970930e-33</td>\n",
       "      <td>0.999656</td>\n",
       "      <td>3.280067e-36</td>\n",
       "      <td>0.999828</td>\n",
       "      <td>0.0</td>\n",
       "    </tr>\n",
       "    <tr>\n",
       "      <th>2</th>\n",
       "      <td>0.349290</td>\n",
       "      <td>0.163007</td>\n",
       "      <td>0.690219</td>\n",
       "      <td>0.026572</td>\n",
       "      <td>0.840717</td>\n",
       "      <td>4.331594e-03</td>\n",
       "      <td>0.917228</td>\n",
       "      <td>7.060958e-04</td>\n",
       "      <td>0.957435</td>\n",
       "      <td>1.151011e-04</td>\n",
       "      <td>...</td>\n",
       "      <td>0.997249</td>\n",
       "      <td>8.127242e-08</td>\n",
       "      <td>0.998623</td>\n",
       "      <td>1.324827e-08</td>\n",
       "      <td>0.999311</td>\n",
       "      <td>2.159608e-09</td>\n",
       "      <td>0.999656</td>\n",
       "      <td>3.520391e-10</td>\n",
       "      <td>0.999828</td>\n",
       "      <td>0.0</td>\n",
       "    </tr>\n",
       "    <tr>\n",
       "      <th>3</th>\n",
       "      <td>0.656077</td>\n",
       "      <td>0.014385</td>\n",
       "      <td>0.740122</td>\n",
       "      <td>0.000207</td>\n",
       "      <td>0.849856</td>\n",
       "      <td>2.979033e-06</td>\n",
       "      <td>0.918836</td>\n",
       "      <td>4.286477e-08</td>\n",
       "      <td>0.957708</td>\n",
       "      <td>6.167734e-10</td>\n",
       "      <td>...</td>\n",
       "      <td>0.997250</td>\n",
       "      <td>2.643785e-17</td>\n",
       "      <td>0.998623</td>\n",
       "      <td>3.804094e-19</td>\n",
       "      <td>0.999311</td>\n",
       "      <td>5.473642e-21</td>\n",
       "      <td>0.999656</td>\n",
       "      <td>7.875924e-23</td>\n",
       "      <td>0.999828</td>\n",
       "      <td>0.0</td>\n",
       "    </tr>\n",
       "    <tr>\n",
       "      <th>4</th>\n",
       "      <td>0.478658</td>\n",
       "      <td>0.033452</td>\n",
       "      <td>0.734325</td>\n",
       "      <td>0.001119</td>\n",
       "      <td>0.849660</td>\n",
       "      <td>3.744610e-05</td>\n",
       "      <td>0.918829</td>\n",
       "      <td>1.252782e-06</td>\n",
       "      <td>0.957708</td>\n",
       "      <td>4.191256e-08</td>\n",
       "      <td>...</td>\n",
       "      <td>0.997250</td>\n",
       "      <td>5.250729e-14</td>\n",
       "      <td>0.998623</td>\n",
       "      <td>1.756663e-15</td>\n",
       "      <td>0.999311</td>\n",
       "      <td>5.877022e-17</td>\n",
       "      <td>0.999656</td>\n",
       "      <td>1.966193e-18</td>\n",
       "      <td>0.999828</td>\n",
       "      <td>0.0</td>\n",
       "    </tr>\n",
       "  </tbody>\n",
       "</table>\n",
       "<p>5 rows × 26 columns</p>\n",
       "</div>"
      ],
      "text/plain": [
       "         0         1         2         3         4             5         6   \\\n",
       "0  0.794053  0.126366  0.772037  0.015969  0.854659  2.018031e-03  0.919494   \n",
       "1  0.605272  0.001100  0.738874  0.000001  0.849835  1.345769e-09  0.918835   \n",
       "2  0.349290  0.163007  0.690219  0.026572  0.840717  4.331594e-03  0.917228   \n",
       "3  0.656077  0.014385  0.740122  0.000207  0.849856  2.979033e-06  0.918836   \n",
       "4  0.478658  0.033452  0.734325  0.001119  0.849660  3.744610e-05  0.918829   \n",
       "\n",
       "             7         8             9   ...        16            17  \\\n",
       "0  2.550177e-04  0.957795  3.222649e-05  ...  0.997250  8.218325e-09   \n",
       "1  1.485802e-12  0.957708  1.640405e-15  ...  0.997250  2.437317e-27   \n",
       "2  7.060958e-04  0.957435  1.151011e-04  ...  0.997249  8.127242e-08   \n",
       "3  4.286477e-08  0.957708  6.167734e-10  ...  0.997250  2.643785e-17   \n",
       "4  1.252782e-06  0.957708  4.191256e-08  ...  0.997250  5.250729e-14   \n",
       "\n",
       "         18            19        20            21        22            23  \\\n",
       "0  0.998623  1.038546e-09  0.999311  1.312407e-10  0.999656  1.658483e-11   \n",
       "1  0.998623  2.690929e-30  0.999311  2.970930e-33  0.999656  3.280067e-36   \n",
       "2  0.998623  1.324827e-08  0.999311  2.159608e-09  0.999656  3.520391e-10   \n",
       "3  0.998623  3.804094e-19  0.999311  5.473642e-21  0.999656  7.875924e-23   \n",
       "4  0.998623  1.756663e-15  0.999311  5.877022e-17  0.999656  1.966193e-18   \n",
       "\n",
       "         24   25  \n",
       "0  0.999828  0.0  \n",
       "1  0.999828  0.0  \n",
       "2  0.999828  0.0  \n",
       "3  0.999828  0.0  \n",
       "4  0.999828  0.0  \n",
       "\n",
       "[5 rows x 26 columns]"
      ]
     },
     "execution_count": 458,
     "metadata": {},
     "output_type": "execute_result"
    }
   ],
   "source": [
    "pd.DataFrame(X).head()"
   ]
  },
  {
   "cell_type": "markdown",
   "metadata": {},
   "source": [
    "❓ Standardize all your features, and (only) then add an \"constant\" $X_0$ to your dataset so that your OLS will be centered around the mean"
   ]
  },
  {
   "cell_type": "code",
   "execution_count": 459,
   "metadata": {},
   "outputs": [],
   "source": [
    "X = np.hstack((X, np.ones((X.shape[0],1))))"
   ]
  },
  {
   "cell_type": "code",
   "execution_count": 460,
   "metadata": {},
   "outputs": [
    {
     "data": {
      "text/plain": [
       "(100, 27)"
      ]
     },
     "execution_count": 460,
     "metadata": {},
     "output_type": "execute_result"
    }
   ],
   "source": [
    "X.shape"
   ]
  },
  {
   "cell_type": "code",
   "execution_count": 461,
   "metadata": {},
   "outputs": [],
   "source": [
    "#sns.heatmap(pd.DataFrame(X).corr(), cmap='coolwarm')"
   ]
  },
  {
   "cell_type": "markdown",
   "metadata": {},
   "source": [
    "❓Create a train test split"
   ]
  },
  {
   "cell_type": "code",
   "execution_count": 462,
   "metadata": {},
   "outputs": [],
   "source": [
    "# Train Test Split\n",
    "X_train, X_test, y_train, y_test = train_test_split(X, y, test_size=0.3, random_state=414)"
   ]
  },
  {
   "cell_type": "code",
   "execution_count": 465,
   "metadata": {},
   "outputs": [
    {
     "data": {
      "text/plain": [
       "<matplotlib.collections.PathCollection at 0x127aab5d0>"
      ]
     },
     "execution_count": 465,
     "metadata": {},
     "output_type": "execute_result"
    },
    {
     "data": {
      "image/png": "[encoded data removed]",
      "text/plain": [
       "<Figure size 432x288 with 1 Axes>"
      ]
     },
     "metadata": {
      "needs_background": "light"
     },
     "output_type": "display_data"
    }
   ],
   "source": [
    "plt.scatter(X_train[:,0], y_train)\n",
    "plt.scatter(X_test[:,0], y_test)"
   ]
  },
  {
   "cell_type": "code",
   "execution_count": 467,
   "metadata": {
    "scrolled": true
   },
   "outputs": [
    {
     "data": {
      "text/html": [
       "<div>\n",
       "<style scoped>\n",
       "    .dataframe tbody tr th:only-of-type {\n",
       "        vertical-align: middle;\n",
       "    }\n",
       "\n",
       "    .dataframe tbody tr th {\n",
       "        vertical-align: top;\n",
       "    }\n",
       "\n",
       "    .dataframe thead th {\n",
       "        text-align: right;\n",
       "    }\n",
       "</style>\n",
       "<table border=\"1\" class=\"dataframe\">\n",
       "  <thead>\n",
       "    <tr style=\"text-align: right;\">\n",
       "      <th></th>\n",
       "      <th>0</th>\n",
       "      <th>1</th>\n",
       "      <th>2</th>\n",
       "      <th>3</th>\n",
       "      <th>4</th>\n",
       "      <th>5</th>\n",
       "      <th>6</th>\n",
       "      <th>7</th>\n",
       "      <th>8</th>\n",
       "      <th>9</th>\n",
       "      <th>...</th>\n",
       "      <th>17</th>\n",
       "      <th>18</th>\n",
       "      <th>19</th>\n",
       "      <th>20</th>\n",
       "      <th>21</th>\n",
       "      <th>22</th>\n",
       "      <th>23</th>\n",
       "      <th>24</th>\n",
       "      <th>25</th>\n",
       "      <th>26</th>\n",
       "    </tr>\n",
       "  </thead>\n",
       "  <tbody>\n",
       "    <tr>\n",
       "      <th>0</th>\n",
       "      <td>0.802409</td>\n",
       "      <td>0.136710</td>\n",
       "      <td>0.776195</td>\n",
       "      <td>1.869056e-02</td>\n",
       "      <td>0.855708</td>\n",
       "      <td>2.555251e-03</td>\n",
       "      <td>0.919703</td>\n",
       "      <td>3.493372e-04</td>\n",
       "      <td>0.957832</td>\n",
       "      <td>4.775908e-05</td>\n",
       "      <td>...</td>\n",
       "      <td>1.668402e-08</td>\n",
       "      <td>0.998623</td>\n",
       "      <td>2.280930e-09</td>\n",
       "      <td>0.999311</td>\n",
       "      <td>3.118338e-10</td>\n",
       "      <td>0.999656</td>\n",
       "      <td>4.263187e-11</td>\n",
       "      <td>0.999828</td>\n",
       "      <td>0.0</td>\n",
       "      <td>1.0</td>\n",
       "    </tr>\n",
       "    <tr>\n",
       "      <th>1</th>\n",
       "      <td>0.338417</td>\n",
       "      <td>0.178340</td>\n",
       "      <td>0.683200</td>\n",
       "      <td>3.180610e-02</td>\n",
       "      <td>0.838420</td>\n",
       "      <td>5.672384e-03</td>\n",
       "      <td>0.916634</td>\n",
       "      <td>1.011628e-03</td>\n",
       "      <td>0.957299</td>\n",
       "      <td>1.804164e-04</td>\n",
       "      <td>...</td>\n",
       "      <td>1.825143e-07</td>\n",
       "      <td>0.998623</td>\n",
       "      <td>3.255008e-08</td>\n",
       "      <td>0.999311</td>\n",
       "      <td>5.805068e-09</td>\n",
       "      <td>0.999656</td>\n",
       "      <td>1.035291e-09</td>\n",
       "      <td>0.999828</td>\n",
       "      <td>0.0</td>\n",
       "      <td>1.0</td>\n",
       "    </tr>\n",
       "    <tr>\n",
       "      <th>2</th>\n",
       "      <td>0.577796</td>\n",
       "      <td>0.000183</td>\n",
       "      <td>0.738845</td>\n",
       "      <td>3.496059e-08</td>\n",
       "      <td>0.849834</td>\n",
       "      <td>6.540860e-12</td>\n",
       "      <td>0.918835</td>\n",
       "      <td>1.223258e-15</td>\n",
       "      <td>0.957708</td>\n",
       "      <td>2.287692e-19</td>\n",
       "      <td>...</td>\n",
       "      <td>2.798438e-34</td>\n",
       "      <td>0.998623</td>\n",
       "      <td>5.233535e-38</td>\n",
       "      <td>0.999311</td>\n",
       "      <td>9.787566e-42</td>\n",
       "      <td>0.999656</td>\n",
       "      <td>1.830435e-45</td>\n",
       "      <td>0.999828</td>\n",
       "      <td>0.0</td>\n",
       "      <td>1.0</td>\n",
       "    </tr>\n",
       "    <tr>\n",
       "      <th>3</th>\n",
       "      <td>0.938939</td>\n",
       "      <td>0.363379</td>\n",
       "      <td>0.900691</td>\n",
       "      <td>1.320464e-01</td>\n",
       "      <td>0.917481</td>\n",
       "      <td>4.798326e-02</td>\n",
       "      <td>0.945412</td>\n",
       "      <td>1.743625e-02</td>\n",
       "      <td>0.967774</td>\n",
       "      <td>6.336015e-03</td>\n",
       "      <td>...</td>\n",
       "      <td>1.104763e-04</td>\n",
       "      <td>0.998690</td>\n",
       "      <td>4.014509e-05</td>\n",
       "      <td>0.999335</td>\n",
       "      <td>1.458800e-05</td>\n",
       "      <td>0.999664</td>\n",
       "      <td>5.301014e-06</td>\n",
       "      <td>0.999831</td>\n",
       "      <td>0.0</td>\n",
       "      <td>1.0</td>\n",
       "    </tr>\n",
       "    <tr>\n",
       "      <th>4</th>\n",
       "      <td>0.535321</td>\n",
       "      <td>0.007424</td>\n",
       "      <td>0.738374</td>\n",
       "      <td>5.516672e-05</td>\n",
       "      <td>0.849830</td>\n",
       "      <td>4.097471e-07</td>\n",
       "      <td>0.918835</td>\n",
       "      <td>3.043368e-09</td>\n",
       "      <td>0.957708</td>\n",
       "      <td>2.260441e-11</td>\n",
       "      <td>...</td>\n",
       "      <td>6.879354e-20</td>\n",
       "      <td>0.998623</td>\n",
       "      <td>5.109593e-22</td>\n",
       "      <td>0.999311</td>\n",
       "      <td>3.795115e-24</td>\n",
       "      <td>0.999656</td>\n",
       "      <td>2.818795e-26</td>\n",
       "      <td>0.999828</td>\n",
       "      <td>0.0</td>\n",
       "      <td>1.0</td>\n",
       "    </tr>\n",
       "  </tbody>\n",
       "</table>\n",
       "<p>5 rows × 27 columns</p>\n",
       "</div>"
      ],
      "text/plain": [
       "         0         1         2             3         4             5   \\\n",
       "0  0.802409  0.136710  0.776195  1.869056e-02  0.855708  2.555251e-03   \n",
       "1  0.338417  0.178340  0.683200  3.180610e-02  0.838420  5.672384e-03   \n",
       "2  0.577796  0.000183  0.738845  3.496059e-08  0.849834  6.540860e-12   \n",
       "3  0.938939  0.363379  0.900691  1.320464e-01  0.917481  4.798326e-02   \n",
       "4  0.535321  0.007424  0.738374  5.516672e-05  0.849830  4.097471e-07   \n",
       "\n",
       "         6             7         8             9   ...            17  \\\n",
       "0  0.919703  3.493372e-04  0.957832  4.775908e-05  ...  1.668402e-08   \n",
       "1  0.916634  1.011628e-03  0.957299  1.804164e-04  ...  1.825143e-07   \n",
       "2  0.918835  1.223258e-15  0.957708  2.287692e-19  ...  2.798438e-34   \n",
       "3  0.945412  1.743625e-02  0.967774  6.336015e-03  ...  1.104763e-04   \n",
       "4  0.918835  3.043368e-09  0.957708  2.260441e-11  ...  6.879354e-20   \n",
       "\n",
       "         18            19        20            21        22            23  \\\n",
       "0  0.998623  2.280930e-09  0.999311  3.118338e-10  0.999656  4.263187e-11   \n",
       "1  0.998623  3.255008e-08  0.999311  5.805068e-09  0.999656  1.035291e-09   \n",
       "2  0.998623  5.233535e-38  0.999311  9.787566e-42  0.999656  1.830435e-45   \n",
       "3  0.998690  4.014509e-05  0.999335  1.458800e-05  0.999664  5.301014e-06   \n",
       "4  0.998623  5.109593e-22  0.999311  3.795115e-24  0.999656  2.818795e-26   \n",
       "\n",
       "         24   25   26  \n",
       "0  0.999828  0.0  1.0  \n",
       "1  0.999828  0.0  1.0  \n",
       "2  0.999828  0.0  1.0  \n",
       "3  0.999831  0.0  1.0  \n",
       "4  0.999828  0.0  1.0  \n",
       "\n",
       "[5 rows x 27 columns]"
      ]
     },
     "execution_count": 467,
     "metadata": {},
     "output_type": "execute_result"
    }
   ],
   "source": [
    "pd.DataFrame(X_train).head()"
   ]
  },
  {
   "cell_type": "markdown",
   "metadata": {},
   "source": [
    "## Code your vectorial gradient descent"
   ]
  },
  {
   "cell_type": "markdown",
   "metadata": {},
   "source": [
    "We're modelling a linear regression $\\hat{y} = X\\beta$\n",
    "\n",
    "Let's recall the definition of the gradient descent algorithm\n",
    "\n",
    "$$\\text{Gradient descent - vector formula}$$\n",
    "$$\\beta^{\\color {red}{(k+1)}} = \\beta^{\\color {red}{(k)}} - \\eta \\ \\nabla L(\\beta^{\\color{red}{(k)}})$$\n",
    "\n",
    "The MSE Loss for an OLS regression is\n",
    "\n",
    "$$L(\\beta) = \\frac{1}{n}\\|X \\beta - y\\|^2 = \\frac{1}{n}(X \\beta - y)^T(X \\beta - y)$$\n",
    "\n",
    "and its gradient is\n",
    "$${\\displaystyle \\nabla L(\\beta)=\n",
    "{\\begin{bmatrix}{\\frac {\\partial L}{\\partial \\beta_{0}}}(\\beta)\\\\\\vdots \\\\{\\frac {\\partial L}{\\partial \\beta_{p}}}(\\beta)\\end{bmatrix}} = \\frac{2}{n} X^T (X\\beta - y) \n",
    "}$$"
   ]
  },
  {
   "cell_type": "markdown",
   "metadata": {},
   "source": [
    "Let's store below our main problem parameters"
   ]
  },
  {
   "cell_type": "code",
   "execution_count": 468,
   "metadata": {},
   "outputs": [],
   "source": [
    "eta = 0.01 # learning rate\n",
    "n_epochs = 5000 # number of epochs in our gradient descent\n",
    "n = X.shape[0] # n observations\n",
    "n_train = X_train.shape[0]\n",
    "n_test = X_test.shape[0]\n",
    "p = X.shape[1] # p features"
   ]
  },
  {
   "cell_type": "markdown",
   "metadata": {},
   "source": [
    "___\n",
    "❓ Initialize a $\\beta$ vector as an ndarray of the right shape for our problem with the values of your choice (zeros, for instance)"
   ]
  },
  {
   "cell_type": "code",
   "execution_count": 469,
   "metadata": {
    "scrolled": true
   },
   "outputs": [
    {
     "data": {
      "text/plain": [
       "(27,)"
      ]
     },
     "execution_count": 469,
     "metadata": {},
     "output_type": "execute_result"
    }
   ],
   "source": [
    "beta = np.zeros(p)\n",
    "beta.shape"
   ]
  },
  {
   "cell_type": "markdown",
   "metadata": {},
   "source": [
    "❓ Using the vectorized formula given above, create a gradient descent that loops over `n_epochs` to find the best $\\beta$ of an OLS using the `train` set\n",
    "- make use of numpy's matrix operations and broadcasting capabilities (convert your X to numpy's\n",
    "- this shouldn't take more than 4 lines of code!\n",
    "- use `%%time` to keep track of computation time, and and [`tqdm`](https://pypi.org/project/tqdm/) to display the progress bar"
   ]
  },
  {
   "cell_type": "code",
   "execution_count": 470,
   "metadata": {},
   "outputs": [],
   "source": [
    "# convert X,y to numpy ND array, it's much faster than pandas to make matrix products\n",
    "X_train = np.array(X_train)\n",
    "X_test = np.array(X_test)\n",
    "y_train = np.array(y_train)\n",
    "y_test = np.array(y_test)"
   ]
  },
  {
   "cell_type": "code",
   "execution_count": 471,
   "metadata": {
    "scrolled": false
   },
   "outputs": [
    {
     "name": "stderr",
     "output_type": "stream",
     "text": [
      "100%|██████████| 5000/5000 [00:00<00:00, 145938.58it/s]"
     ]
    },
    {
     "name": "stdout",
     "output_type": "stream",
     "text": [
      "CPU times: user 34.2 ms, sys: 5.18 ms, total: 39.4 ms\n",
      "Wall time: 36.7 ms\n"
     ]
    },
    {
     "name": "stderr",
     "output_type": "stream",
     "text": [
      "\n"
     ]
    }
   ],
   "source": [
    "%%time\n",
    "from tqdm import tqdm\n",
    "\n",
    "for epoch in tqdm(range(n_epochs)):\n",
    "    gradients = 2/n_train * X_train.T.dot(X_train.dot(beta) - y_train) \n",
    "    beta = beta - eta * gradients"
   ]
  },
  {
   "cell_type": "code",
   "execution_count": 472,
   "metadata": {
    "scrolled": true
   },
   "outputs": [
    {
     "data": {
      "text/plain": [
       "array([ 1.74482915e+02,  1.02483158e+00,  4.72442936e+01, -6.35266661e+00,\n",
       "        1.49989741e+01, -5.06876563e+00,  3.07502517e+00, -3.13344226e+00,\n",
       "       -1.85238212e+00, -1.79580200e+00, -4.00961326e+00, -9.98725590e-01,\n",
       "       -5.00023098e+00, -5.48523165e-01, -5.47477656e+00, -2.99974606e-01,\n",
       "       -5.71032404e+00, -1.64029854e-01, -5.83058895e+00, -8.98696847e-02,\n",
       "       -5.89333635e+00, -4.93819004e-02, -5.92661301e+00, -2.72226631e-02,\n",
       "       -5.94447908e+00,  0.00000000e+00, -5.96595616e+00])"
      ]
     },
     "execution_count": 472,
     "metadata": {},
     "output_type": "execute_result"
    }
   ],
   "source": [
    "beta"
   ]
  },
  {
   "cell_type": "markdown",
   "metadata": {},
   "source": [
    "## Compare results with sklearn models"
   ]
  },
  {
   "cell_type": "markdown",
   "metadata": {},
   "source": [
    "❓Compute your `mse_test` metrics, and compare your results (mse and computation time) with\n",
    "- a Sklearn LinearRegression()\n",
    "- SGDRegressor, with similar epochs and learning_rate, adding 'penalty'= None to remove regularization that we will see in ML-05-Model-Tuning)\n",
    "- (optional) cross_validate all your metrics to be sure of your scores\n",
    "\n",
    "Are you better? Faster? "
   ]
  },
  {
   "cell_type": "code",
   "execution_count": 473,
   "metadata": {},
   "outputs": [],
   "source": [
    "## TODO CROSS VALIDATE ALL THESE METRICS"
   ]
  },
  {
   "cell_type": "code",
   "execution_count": 474,
   "metadata": {},
   "outputs": [
    {
     "name": "stdout",
     "output_type": "stream",
     "text": [
      "447.4045013064743\n",
      "0.7993640924884384\n"
     ]
    }
   ],
   "source": [
    "y_pred = X_test.dot(beta)\n",
    "print(mean_squared_error(y_pred, y_test))\n",
    "print(r2_score(y_pred, y_test))"
   ]
  },
  {
   "cell_type": "code",
   "execution_count": 475,
   "metadata": {},
   "outputs": [
    {
     "name": "stdout",
     "output_type": "stream",
     "text": [
      "CPU times: user 1.08 ms, sys: 306 µs, total: 1.39 ms\n",
      "Wall time: 1.09 ms\n"
     ]
    }
   ],
   "source": [
    "%%time\n",
    "linreg = LinearRegression().fit(X_train,y_train)"
   ]
  },
  {
   "cell_type": "code",
   "execution_count": 476,
   "metadata": {},
   "outputs": [
    {
     "name": "stdout",
     "output_type": "stream",
     "text": [
      "2.8074295616126734e+20\n",
      "-0.034483500061780914\n"
     ]
    }
   ],
   "source": [
    "print(mean_squared_error(linreg.predict(X_test), y_test))\n",
    "print(r2_score(linreg.predict(X_test), y_test))"
   ]
  },
  {
   "cell_type": "code",
   "execution_count": 477,
   "metadata": {},
   "outputs": [
    {
     "name": "stdout",
     "output_type": "stream",
     "text": [
      "CPU times: user 2.32 ms, sys: 1.14 ms, total: 3.47 ms\n",
      "Wall time: 1.97 ms\n"
     ]
    }
   ],
   "source": [
    "%%time\n",
    "from sklearn.linear_model import SGDRegressor\n",
    "sgd = SGDRegressor(max_iter=n_epochs, eta0=eta, penalty=None, learning_rate = 'constant')\n",
    "sgd = sgd.fit(X_train,y_train)"
   ]
  },
  {
   "cell_type": "code",
   "execution_count": 478,
   "metadata": {},
   "outputs": [
    {
     "name": "stdout",
     "output_type": "stream",
     "text": [
      "523.1727314026751\n",
      "0.745621462382004\n"
     ]
    }
   ],
   "source": [
    "print(mean_squared_error(sgd.predict(X_test), y_test))\n",
    "print(r2_score(sgd.predict(X_test), y_test))"
   ]
  },
  {
   "cell_type": "markdown",
   "metadata": {},
   "source": [
    "❓ Wrap this logic into a function `gradient_descent`, which takes any (X_train, y_train, X_test, y_test, eta, n_epoch) as input, and returns \n",
    "- the final value for $\\beta$ fitted on the train set\n",
    "- the values of the `loss_train` at each epoch as a list `loss_train_history`\n",
    "- the values of the `loss_test` at each epoch as a list `loss_test_history`\n",
    "- (optional) make the fonction robust to call with only a train_set"
   ]
  },
  {
   "cell_type": "code",
   "execution_count": 479,
   "metadata": {
    "scrolled": true
   },
   "outputs": [],
   "source": [
    "def gradient_descent(X_train, y_train, X_test, y_test, eta=eta, n_epochs=n_epochs):\n",
    "    n_train = X_train.shape[0]\n",
    "    n_test = X_test.shape[0]\n",
    "    p = X_train.shape[1]\n",
    "    \n",
    "    loss_train_history = []\n",
    "    loss_test_history = []\n",
    "    \n",
    "    beta = np.zeros(p)\n",
    "    \n",
    "    for epoch in range(n_epochs):\n",
    "        # update beta\n",
    "        gradient = 2/n_train * X_train.T.dot(X_train.dot(beta) - y_train)\n",
    "        beta = beta - eta * gradient\n",
    "        \n",
    "        # compute loss\n",
    "        y_pred_train = X_train.dot(beta)\n",
    "        y_pred_test = X_test.dot(beta)\n",
    "        loss_train = 1/n_train*(y_train - y_pred_train).T.dot(y_train - y_pred_train)\n",
    "        loss_test = 1/n_test*(y_test - y_pred_test).T.dot(y_test - y_pred_test)\n",
    "        \n",
    "        loss_test_history.append(loss_test)\n",
    "        loss_train_history.append(loss_train)\n",
    "        \n",
    "    return beta, loss_train_history, loss_test_history"
   ]
  },
  {
   "cell_type": "markdown",
   "metadata": {},
   "source": [
    "## Early stopping criteria?"
   ]
  },
  {
   "cell_type": "markdown",
   "metadata": {},
   "source": [
    "❓Plot the loss as a function of epochs, on your train dataset. \n",
    "- Try it with `n_epochs=50000` and `eta=0.1` as per initially set\n",
    "- What can you conclude? Should you always descent gradient down to the absolute minimum?"
   ]
  },
  {
   "cell_type": "code",
   "execution_count": 484,
   "metadata": {
    "scrolled": false
   },
   "outputs": [
    {
     "data": {
      "text/plain": [
       "<matplotlib.legend.Legend at 0x126f7c650>"
      ]
     },
     "execution_count": 484,
     "metadata": {},
     "output_type": "execute_result"
    },
    {
     "data": {
      "image/png": "[encoded data removed]",
      "text/plain": [
       "<Figure size 432x288 with 1 Axes>"
      ]
     },
     "metadata": {
      "needs_background": "light"
     },
     "output_type": "display_data"
    }
   ],
   "source": [
    "beta, loss_train_history, loss_test_history =\\\n",
    "gradient_descent(X_train, y_train, X_test, y_test, n_epochs=10000, eta=0.01)\n",
    "\n",
    "plt.plot(loss_train_history, label='train loss')\n",
    "plt.plot(loss_test_history, label='test loss')\n",
    "plt.title('Loss')\n",
    "plt.ylabel('MSE Loss')\n",
    "plt.xlabel('epochs')\n",
    "plt.legend()"
   ]
  },
  {
   "cell_type": "code",
   "execution_count": 485,
   "metadata": {},
   "outputs": [
    {
     "data": {
      "text/plain": [
       "<matplotlib.collections.PathCollection at 0x127916790>"
      ]
     },
     "execution_count": 485,
     "metadata": {},
     "output_type": "execute_result"
    },
    {
     "data": {
      "image/png": "[encoded data removed]",
      "text/plain": [
       "<Figure size 432x288 with 1 Axes>"
      ]
     },
     "metadata": {
      "needs_background": "light"
     },
     "output_type": "display_data"
    }
   ],
   "source": [
    "y_pred = X_test.dot(beta)\n",
    "plt.scatter(X_test[:,0], y_test,  color='black')\n",
    "plt.scatter(X_test[:,0], y_pred, color='orange', linewidth=2, marker=\"_\")\n",
    "#plt.plot(X_test[:,0], linreg.predict(X_test), color='black', linewidth=3)"
   ]
  },
  {
   "cell_type": "markdown",
   "metadata": {},
   "source": [
    "❓ Try to improve your own model MSE by coding an **early stopping criteria** where you would stop descending gradient as soon as `loss_test` increases again"
   ]
  },
  {
   "cell_type": "code",
   "execution_count": 18,
   "metadata": {},
   "outputs": [],
   "source": [
    "# TODO"
   ]
  },
  {
   "cell_type": "markdown",
   "metadata": {},
   "source": [
    "❓ Did you notice...you have just done a data-leak! Can you guess why? Think about a solution to this problem!\n",
    "\n",
    "<details>\n",
    "    <summary>Hint</summary>\n",
    "\n",
    "- You have used your test set to decide when to stop descending gradient\n",
    "- You should never use your test set to optimize your model `hyperparameters`\n",
    "- Create a train/test split **within** your current training set and optmize your early stopping based on the loss on this new test set only. This one is called a \"validation set\"\n",
    "</details>"
   ]
  },
  {
   "cell_type": "code",
   "execution_count": 19,
   "metadata": {},
   "outputs": [],
   "source": [
    "X_train_train, X_train_val, y_train_train, y_train_val = train_test_split(X_train, y_train, test_size=0.1, random_state=0)"
   ]
  },
  {
   "cell_type": "code",
   "execution_count": 20,
   "metadata": {
    "scrolled": true
   },
   "outputs": [
    {
     "data": {
      "image/png": "[encoded data removed]",
      "text/plain": [
       "<Figure size 432x288 with 1 Axes>"
      ]
     },
     "metadata": {
      "needs_background": "light"
     },
     "output_type": "display_data"
    }
   ],
   "source": [
    "beta, loss_train_history, loss_test_history = gradient_descent(X_train_train, y_train_train, X_train_val, y_train_val, n_epochs=n_epochs, eta=eta)\n",
    "\n",
    "plt.plot(loss_train_history, label='loss_train')\n",
    "plt.plot(loss_test_history, label='loss_val')\n",
    "plt.title('Loss');plt.ylabel('MSE Loss'); plt.xlabel('epochs'); plt.legend();"
   ]
  },
  {
   "cell_type": "markdown",
   "metadata": {},
   "source": [
    "## Code your own MiniBatch Gradient Descent"
   ]
  },
  {
   "cell_type": "markdown",
   "metadata": {},
   "source": [
    "❓Modify your `gradient_descent` function into a `minibatch_gradient_descent` one."
   ]
  },
  {
   "cell_type": "code",
   "execution_count": 21,
   "metadata": {},
   "outputs": [],
   "source": [
    "def minibatch_gradient_descent(X_train, y_train, X_test=None, y_test=None, batch_size=16, eta=eta, n_epochs=n_epochs):\n",
    "\n",
    "    # if no test set is provided, set them equal to the train set\n",
    "    if not (isinstance(X_test, np.ndarray) and isinstance(y_test, np.ndarray)):\n",
    "        X_test = X_train\n",
    "        y_test = y_train\n",
    "        \n",
    "    n_train = X_train.shape[0]\n",
    "    n_test = X_test.shape[0]\n",
    "    p = X_train.shape[1]\n",
    "    beta = np.zeros(p)\n",
    "    loss_train_history = []\n",
    "    loss_test_history = []\n",
    "    \n",
    "    for epoch in range(n_epochs):\n",
    "        # select a random subset of X_train\n",
    "        indices = np.random.permutation(n_train)\n",
    "        X_train = X[indices]\n",
    "        y_train = y[indices]\n",
    "        \n",
    "        # pass batch-per-batch over all datapoints to update beta\n",
    "        for i in range(0,n_train,batch_size):\n",
    "            X_mini = X_train[i:i+batch_size]\n",
    "            y_mini = y_train[i:i+batch_size]\n",
    "            y_pred_mini = X_mini.dot(beta)\n",
    "            gradients = 2/batch_size * X_mini.T.dot(X_mini.dot(beta) - y_mini) \n",
    "            beta = beta - eta * gradients\n",
    "        \n",
    "        # keep track of loss histories per epoch\n",
    "        y_pred_train = X_train.dot(beta) - y_train\n",
    "        y_pred_test = X_test.dot(beta) - y_test\n",
    "        loss_test_history.append(1/n_test*(y_test - y_pred_test).T.dot(y_test - y_pred_test))\n",
    "        loss_train_history.append(1/n_train*(y_train - y_pred_train).T.dot(y_train - y_pred_train))\n",
    "        \n",
    "    return beta, loss_train_history, loss_test_history"
   ]
  },
  {
   "cell_type": "markdown",
   "metadata": {},
   "source": [
    "👇 Plot the evolution of your train and val losses per epoch. What if you choosed minibatch = 1?"
   ]
  },
  {
   "cell_type": "code",
   "execution_count": 22,
   "metadata": {},
   "outputs": [],
   "source": [
    "beta, loss_train_history, loss_test_history = minibatch_gradient_descent(\n",
    "    X_train, y_train, X_test, y_test, batch_size=1, n_epochs=1000)"
   ]
  },
  {
   "cell_type": "code",
   "execution_count": 23,
   "metadata": {},
   "outputs": [
    {
     "data": {
      "text/plain": [
       "Text(0.5, 1.0, 'Minibatch loss history')"
      ]
     },
     "execution_count": 23,
     "metadata": {},
     "output_type": "execute_result"
    },
    {
     "data": {
      "image/png": "[encoded data removed]",
      "text/plain": [
       "<Figure size 432x288 with 1 Axes>"
      ]
     },
     "metadata": {
      "needs_background": "light"
     },
     "output_type": "display_data"
    }
   ],
   "source": [
    "plt.plot(loss_train_history, label='loss_train')\n",
    "plt.plot(loss_test_history, label='loss_test')\n",
    "plt.title('Minibatch loss history')"
   ]
  },
  {
   "cell_type": "markdown",
   "metadata": {},
   "source": [
    "## (Optional) finetuning"
   ]
  },
  {
   "cell_type": "markdown",
   "metadata": {},
   "source": [
    "Try to narrow performance gap between your self-made model and SKLearn by\n",
    "- changing initial learning_rate `eta`\n",
    "- gradually reduce learning_rate in your `minibatch_gradient_descent` function\n",
    "- optimize your minibatch code so as to paralellize it better"
   ]
  },
  {
   "cell_type": "markdown",
   "metadata": {},
   "source": [
    "### ⚠️ Please, push your exercice when you are done 🙃"
   ]
  },
  {
   "cell_type": "markdown",
   "metadata": {},
   "source": [
    "# 🏁"
   ]
  }
 ],
 "metadata": {
  "kernelspec": {
   "display_name": "Python 3",
   "language": "python",
   "name": "python3"
  },
  "language_info": {
   "codemirror_mode": {
    "name": "ipython",
    "version": 3
   },
   "file_extension": ".py",
   "mimetype": "text/x-python",
   "name": "python",
   "nbconvert_exporter": "python",
   "pygments_lexer": "ipython3",
   "version": "3.7.7"
  },
  "toc": {
   "base_numbering": 1,
   "nav_menu": {},
   "number_sections": false,
   "sideBar": true,
   "skip_h1_title": false,
   "title_cell": "Table of Contents",
   "title_sidebar": "Contents",
   "toc_cell": false,
   "toc_position": {
    "height": "calc(100% - 180px)",
    "left": "10px",
    "top": "150px",
    "width": "261px"
   },
   "toc_section_display": true,
   "toc_window_display": true
  },
  "varInspector": {
   "cols": {
    "lenName": 16,
    "lenType": 16,
    "lenVar": 40
   },
   "kernels_config": {
    "python": {
     "delete_cmd_postfix": "",
     "delete_cmd_prefix": "del ",
     "library": "var_list.py",
     "varRefreshCmd": "print(var_dic_list())"
    },
    "r": {
     "delete_cmd_postfix": ") ",
     "delete_cmd_prefix": "rm(",
     "library": "var_list.r",
     "varRefreshCmd": "cat(var_dic_list()) "
    }
   },
   "types_to_exclude": [
    "module",
    "function",
    "builtin_function_or_method",
    "instance",
    "_Feature"
   ],
   "window_display": false
  }
 },
 "nbformat": 4,
 "nbformat_minor": 4
}
