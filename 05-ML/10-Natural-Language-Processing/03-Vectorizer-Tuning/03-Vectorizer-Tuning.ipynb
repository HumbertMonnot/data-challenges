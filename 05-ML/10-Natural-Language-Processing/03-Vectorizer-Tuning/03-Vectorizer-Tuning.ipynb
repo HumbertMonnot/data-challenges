{
 "cells": [
  {
   "cell_type": "markdown",
   "metadata": {},
   "source": [
    "# Vectorizer Tuning"
   ]
  },
  {
   "cell_type": "code",
   "execution_count": 1,
   "metadata": {},
   "outputs": [
    {
     "data": {
      "text/html": [
       "<div>\n",
       "<style scoped>\n",
       "    .dataframe tbody tr th:only-of-type {\n",
       "        vertical-align: middle;\n",
       "    }\n",
       "\n",
       "    .dataframe tbody tr th {\n",
       "        vertical-align: top;\n",
       "    }\n",
       "\n",
       "    .dataframe thead th {\n",
       "        text-align: right;\n",
       "    }\n",
       "</style>\n",
       "<table border=\"1\" class=\"dataframe\">\n",
       "  <thead>\n",
       "    <tr style=\"text-align: right;\">\n",
       "      <th></th>\n",
       "      <th>target</th>\n",
       "      <th>reviews</th>\n",
       "    </tr>\n",
       "  </thead>\n",
       "  <tbody>\n",
       "    <tr>\n",
       "      <th>0</th>\n",
       "      <td>neg</td>\n",
       "      <td>plot : two teen couples go to a church party ,...</td>\n",
       "    </tr>\n",
       "    <tr>\n",
       "      <th>1</th>\n",
       "      <td>neg</td>\n",
       "      <td>the happy bastard's quick movie review \\ndamn ...</td>\n",
       "    </tr>\n",
       "    <tr>\n",
       "      <th>2</th>\n",
       "      <td>neg</td>\n",
       "      <td>it is movies like these that make a jaded movi...</td>\n",
       "    </tr>\n",
       "    <tr>\n",
       "      <th>3</th>\n",
       "      <td>neg</td>\n",
       "      <td>\" quest for camelot \" is warner bros . ' firs...</td>\n",
       "    </tr>\n",
       "    <tr>\n",
       "      <th>4</th>\n",
       "      <td>neg</td>\n",
       "      <td>synopsis : a mentally unstable man undergoing ...</td>\n",
       "    </tr>\n",
       "  </tbody>\n",
       "</table>\n",
       "</div>"
      ],
      "text/plain": [
       "  target                                            reviews\n",
       "0    neg  plot : two teen couples go to a church party ,...\n",
       "1    neg  the happy bastard's quick movie review \\ndamn ...\n",
       "2    neg  it is movies like these that make a jaded movi...\n",
       "3    neg   \" quest for camelot \" is warner bros . ' firs...\n",
       "4    neg  synopsis : a mentally unstable man undergoing ..."
      ]
     },
     "execution_count": 1,
     "metadata": {},
     "output_type": "execute_result"
    }
   ],
   "source": [
    "import pandas as pd\n",
    "\n",
    "data = pd.read_csv(\"reviews.csv\")\n",
    "\n",
    "data.head()"
   ]
  },
  {
   "cell_type": "markdown",
   "metadata": {},
   "source": [
    "The dataset is made up of positive and negative movie reviews."
   ]
  },
  {
   "cell_type": "markdown",
   "metadata": {},
   "source": [
    "## Preprocessing\n",
    "\n",
    "👇 Remove punctuation and lower case the text."
   ]
  },
  {
   "cell_type": "code",
   "execution_count": 2,
   "metadata": {},
   "outputs": [
    {
     "data": {
      "text/html": [
       "<div>\n",
       "<style scoped>\n",
       "    .dataframe tbody tr th:only-of-type {\n",
       "        vertical-align: middle;\n",
       "    }\n",
       "\n",
       "    .dataframe tbody tr th {\n",
       "        vertical-align: top;\n",
       "    }\n",
       "\n",
       "    .dataframe thead th {\n",
       "        text-align: right;\n",
       "    }\n",
       "</style>\n",
       "<table border=\"1\" class=\"dataframe\">\n",
       "  <thead>\n",
       "    <tr style=\"text-align: right;\">\n",
       "      <th></th>\n",
       "      <th>target</th>\n",
       "      <th>reviews</th>\n",
       "    </tr>\n",
       "  </thead>\n",
       "  <tbody>\n",
       "    <tr>\n",
       "      <th>0</th>\n",
       "      <td>0</td>\n",
       "      <td>plot  two teen couples go to a church party  d...</td>\n",
       "    </tr>\n",
       "    <tr>\n",
       "      <th>1</th>\n",
       "      <td>0</td>\n",
       "      <td>the happy bastards quick movie review \\ndamn t...</td>\n",
       "    </tr>\n",
       "    <tr>\n",
       "      <th>2</th>\n",
       "      <td>0</td>\n",
       "      <td>it is movies like these that make a jaded movi...</td>\n",
       "    </tr>\n",
       "    <tr>\n",
       "      <th>3</th>\n",
       "      <td>0</td>\n",
       "      <td>quest for camelot  is warner bros   first fe...</td>\n",
       "    </tr>\n",
       "    <tr>\n",
       "      <th>4</th>\n",
       "      <td>0</td>\n",
       "      <td>synopsis  a mentally unstable man undergoing p...</td>\n",
       "    </tr>\n",
       "    <tr>\n",
       "      <th>...</th>\n",
       "      <td>...</td>\n",
       "      <td>...</td>\n",
       "    </tr>\n",
       "    <tr>\n",
       "      <th>1995</th>\n",
       "      <td>1</td>\n",
       "      <td>wow  what a movie  \\nits everything a movie ca...</td>\n",
       "    </tr>\n",
       "    <tr>\n",
       "      <th>1996</th>\n",
       "      <td>1</td>\n",
       "      <td>richard gere can be a commanding actor  but he...</td>\n",
       "    </tr>\n",
       "    <tr>\n",
       "      <th>1997</th>\n",
       "      <td>1</td>\n",
       "      <td>glorystarring matthew broderick  denzel washin...</td>\n",
       "    </tr>\n",
       "    <tr>\n",
       "      <th>1998</th>\n",
       "      <td>1</td>\n",
       "      <td>steven spielbergs second epic film on world wa...</td>\n",
       "    </tr>\n",
       "    <tr>\n",
       "      <th>1999</th>\n",
       "      <td>1</td>\n",
       "      <td>truman   trueman   burbank is the perfect name...</td>\n",
       "    </tr>\n",
       "  </tbody>\n",
       "</table>\n",
       "<p>2000 rows × 2 columns</p>\n",
       "</div>"
      ],
      "text/plain": [
       "      target                                            reviews\n",
       "0          0  plot  two teen couples go to a church party  d...\n",
       "1          0  the happy bastards quick movie review \\ndamn t...\n",
       "2          0  it is movies like these that make a jaded movi...\n",
       "3          0    quest for camelot  is warner bros   first fe...\n",
       "4          0  synopsis  a mentally unstable man undergoing p...\n",
       "...      ...                                                ...\n",
       "1995       1  wow  what a movie  \\nits everything a movie ca...\n",
       "1996       1  richard gere can be a commanding actor  but he...\n",
       "1997       1  glorystarring matthew broderick  denzel washin...\n",
       "1998       1  steven spielbergs second epic film on world wa...\n",
       "1999       1  truman   trueman   burbank is the perfect name...\n",
       "\n",
       "[2000 rows x 2 columns]"
      ]
     },
     "execution_count": 2,
     "metadata": {},
     "output_type": "execute_result"
    }
   ],
   "source": [
    "import string \n",
    "\n",
    "def remove_punct(df_to_treat):\n",
    "    dataf = df_to_treat.copy()\n",
    "    for col in dataf:\n",
    "        if dataf[col].dtype == 'O':\n",
    "            for punct in string.punctuation:\n",
    "                dataf[col] = [text.replace(punct, '') for text in dataf[col]]\n",
    "    return dataf\n",
    "\n",
    "def lower_func(df_to_treat):\n",
    "    dataf = df_to_treat.copy()\n",
    "    for col in dataf:\n",
    "        if dataf[col].dtype == 'O':\n",
    "            for punct in string.punctuation:\n",
    "                dataf[col] = [text.lower() for text in dataf[col]]\n",
    "    return dataf\n",
    "\n",
    "clean_data = lower_func(remove_punct(data))\n",
    "clean_data['target'] = [0 if k=='neg' else 1 for k in clean_data['target']]\n",
    "clean_data"
   ]
  },
  {
   "cell_type": "markdown",
   "metadata": {},
   "source": [
    "## Tuning"
   ]
  },
  {
   "cell_type": "markdown",
   "metadata": {},
   "source": [
    "👇 Tune a vectorizer of your choice (or try both!) and a MultinomialNB model simultaneously."
   ]
  },
  {
   "cell_type": "code",
   "execution_count": 14,
   "metadata": {},
   "outputs": [
    {
     "data": {
      "text/plain": [
       "(2000, 2000)"
      ]
     },
     "execution_count": 14,
     "metadata": {},
     "output_type": "execute_result"
    }
   ],
   "source": [
    "len(X), len(y)"
   ]
  },
  {
   "cell_type": "code",
   "execution_count": 38,
   "metadata": {},
   "outputs": [
    {
     "data": {
      "text/plain": [
       "GridSearchCV(estimator=Pipeline(steps=[('tfidf', TfidfVectorizer()),\n",
       "                                       ('nb', MultinomialNB())]),\n",
       "             n_jobs=-1,\n",
       "             param_grid={'tfidf__max_df': [0.2, 0.5, 0.8, 0.9],\n",
       "                         'tfidf__ngram_range': [(1, 1), (1, 2), (2, 2)],\n",
       "                         'tfidf__stop_words': [None, {'english'}]})"
      ]
     },
     "execution_count": 38,
     "metadata": {},
     "output_type": "execute_result"
    }
   ],
   "source": [
    "from sklearn.pipeline import make_pipeline, Pipeline\n",
    "from sklearn.compose import ColumnTransformer, make_column_transformer\n",
    "from sklearn.feature_extraction.text import TfidfVectorizer\n",
    "from sklearn.naive_bayes import MultinomialNB\n",
    "from sklearn.model_selection import cross_val_score\n",
    "from sklearn.model_selection import GridSearchCV\n",
    "\n",
    "X = clean_data.reviews\n",
    "y = clean_data.target\n",
    "\n",
    "vectorizer_tfidf = TfidfVectorizer()\n",
    "mnb = MultinomialNB()\n",
    "\n",
    "# Create Pipeline\n",
    "#pipe = make_pipeline([vectorizer_tfidf, mnb])\n",
    "\n",
    "pipe = Pipeline([\n",
    "    ('tfidf', TfidfVectorizer()),\n",
    "    ('nb', MultinomialNB()),\n",
    "])\n",
    "\n",
    "# Set parameters to search (model and vectorizer)\n",
    "grid = {'tfidf__ngram_range':[(1,1),(1,2),(2,2)],\n",
    "       'tfidf__stop_words':[None, {'english'}],\n",
    "       'tfidf__max_df':[0.2,0.5,0.8,0.9],}\n",
    "\n",
    "# Perform grid search on pipeline\n",
    "search = GridSearchCV(pipe, \n",
    "                      param_grid = grid, \n",
    "                      n_jobs = -1,\n",
    "                     refit=True)\n",
    "search.fit(X,y)"
   ]
  },
  {
   "cell_type": "code",
   "execution_count": 42,
   "metadata": {},
   "outputs": [
    {
     "data": {
      "text/plain": [
       "(0.842,\n",
       " Pipeline(steps=[('tfidf',\n",
       "                  TfidfVectorizer(max_df=0.8, ngram_range=(1, 2),\n",
       "                                  stop_words={'english'})),\n",
       "                 ('nb', MultinomialNB())]))"
      ]
     },
     "execution_count": 42,
     "metadata": {},
     "output_type": "execute_result"
    }
   ],
   "source": [
    "search.best_score_, search.best_estimator_"
   ]
  },
  {
   "cell_type": "code",
   "execution_count": 43,
   "metadata": {},
   "outputs": [
    {
     "data": {
      "text/plain": [
       "GridSearchCV(estimator=Pipeline(steps=[('tfidf', CountVectorizer()),\n",
       "                                       ('nb', MultinomialNB())]),\n",
       "             n_jobs=-1,\n",
       "             param_grid={'tfidf__max_df': [0.2, 0.5, 0.8, 0.9],\n",
       "                         'tfidf__ngram_range': [(1, 1), (1, 2), (2, 2)],\n",
       "                         'tfidf__stop_words': [None, {'english'}]})"
      ]
     },
     "execution_count": 43,
     "metadata": {},
     "output_type": "execute_result"
    }
   ],
   "source": [
    "from sklearn.feature_extraction.text import CountVectorizer\n",
    "\n",
    "X = clean_data.reviews\n",
    "y = clean_data.target\n",
    "\n",
    "vectorizer_tfidf = TfidfVectorizer()\n",
    "mnb = MultinomialNB()\n",
    "\n",
    "# Create Pipeline\n",
    "#pipe = make_pipeline([vectorizer_tfidf, mnb])\n",
    "\n",
    "pipe2 = Pipeline([\n",
    "    ('tfidf', CountVectorizer()),\n",
    "    ('nb', MultinomialNB()),\n",
    "])\n",
    "\n",
    "# Set parameters to search (model and vectorizer)\n",
    "grid = {'tfidf__ngram_range':[(1,1),(1,2),(2,2)],\n",
    "       'tfidf__stop_words':[None, {'english'}],\n",
    "       'tfidf__max_df':[0.2,0.5,0.8,0.9],}\n",
    "\n",
    "# Perform grid search on pipeline\n",
    "search = GridSearchCV(pipe2, \n",
    "                      param_grid = grid, \n",
    "                      n_jobs = -1,\n",
    "                     refit=True)\n",
    "search.fit(X,y)"
   ]
  },
  {
   "cell_type": "code",
   "execution_count": 44,
   "metadata": {},
   "outputs": [
    {
     "data": {
      "text/plain": [
       "(0.8375,\n",
       " Pipeline(steps=[('tfidf',\n",
       "                  CountVectorizer(max_df=0.2, ngram_range=(2, 2),\n",
       "                                  stop_words={'english'})),\n",
       "                 ('nb', MultinomialNB())]))"
      ]
     },
     "execution_count": 44,
     "metadata": {},
     "output_type": "execute_result"
    }
   ],
   "source": [
    "search.best_score_, search.best_estimator_"
   ]
  },
  {
   "cell_type": "markdown",
   "metadata": {},
   "source": [
    "⚠️ Please push the exercise once you are done 🙃\n",
    "\n",
    "## 🏁 "
   ]
  }
 ],
 "metadata": {
  "kernelspec": {
   "display_name": "Python 3 (ipykernel)",
   "language": "python",
   "name": "python3"
  },
  "language_info": {
   "codemirror_mode": {
    "name": "ipython",
    "version": 3
   },
   "file_extension": ".py",
   "mimetype": "text/x-python",
   "name": "python",
   "nbconvert_exporter": "python",
   "pygments_lexer": "ipython3",
   "version": "3.8.12"
  },
  "toc": {
   "base_numbering": 1,
   "nav_menu": {},
   "number_sections": true,
   "sideBar": true,
   "skip_h1_title": false,
   "title_cell": "Table of Contents",
   "title_sidebar": "Contents",
   "toc_cell": false,
   "toc_position": {},
   "toc_section_display": true,
   "toc_window_display": false
  }
 },
 "nbformat": 4,
 "nbformat_minor": 4
}
