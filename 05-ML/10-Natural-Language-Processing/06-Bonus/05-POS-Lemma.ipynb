{
 "cells": [
  {
   "cell_type": "markdown",
   "metadata": {},
   "source": [
    "## Bonus"
   ]
  },
  {
   "cell_type": "code",
   "execution_count": null,
   "metadata": {},
   "outputs": [],
   "source": [
    "text = \"Bonj\""
   ]
  },
  {
   "cell_type": "code",
   "execution_count": 8,
   "metadata": {},
   "outputs": [
    {
     "name": "stdout",
     "output_type": "stream",
     "text": [
      "Version: ImageMagick 7.1.0-19 Q16-HDRI x86_64 2021-12-22 https://imagemagick.org\r\n",
      "Copyright: (C) 1999-2021 ImageMagick Studio LLC\r\n",
      "License: https://imagemagick.org/script/license.php\r\n",
      "Features: Cipher DPC HDRI Modules OpenMP(5.0) \r\n",
      "Delegates (built-in): bzlib fontconfig freetype gslib heic jng jp2 jpeg lcms lqr ltdl lzma openexr png ps tiff webp xml zlib\r\n",
      "Compiler: gcc (4.2)\r\n",
      "Usage: import [options ...] [ file ]\r\n",
      "\r\n",
      "Image Settings:\r\n",
      "  -adjoin              join images into a single multi-image file\r\n",
      "  -border              include window border in the output image\r\n",
      "  -channel type        apply option to select image channels\r\n",
      "  -colorspace type     alternate image colorspace\r\n",
      "  -comment string      annotate image with comment\r\n",
      "  -compress type       type of pixel compression when writing the image\r\n",
      "  -define format:option\r\n",
      "                       define one or more image format options\r\n",
      "  -density geometry    horizontal and vertical density of the image\r\n",
      "  -depth value         image depth\r\n",
      "  -descend             obtain image by descending window hierarchy\r\n",
      "  -display server      X server to contact\r\n",
      "  -dispose method      layer disposal method\r\n",
      "  -dither method       apply error diffusion to image\r\n",
      "  -delay value         display the next image after pausing\r\n",
      "  -encipher filename   convert plain pixels to cipher pixels\r\n",
      "  -endian type         endianness (MSB or LSB) of the image\r\n",
      "  -encoding type       text encoding type\r\n",
      "  -filter type         use this filter when resizing an image\r\n",
      "  -format \"string\"     output formatted image characteristics\r\n",
      "  -frame               include window manager frame\r\n",
      "  -gravity direction   which direction to gravitate towards\r\n",
      "  -identify            identify the format and characteristics of the image\r\n",
      "  -interlace type      None, Line, Plane, or Partition\r\n",
      "  -interpolate method  pixel color interpolation method\r\n",
      "  -label string        assign a label to an image\r\n",
      "  -limit type value    Area, Disk, Map, or Memory resource limit\r\n",
      "  -monitor             monitor progress\r\n",
      "  -page geometry       size and location of an image canvas\r\n",
      "  -pause seconds       seconds delay between snapshots\r\n",
      "  -pointsize value     font point size\r\n",
      "  -quality value       JPEG/MIFF/PNG compression level\r\n",
      "  -quiet               suppress all warning messages\r\n",
      "  -regard-warnings     pay attention to warning messages\r\n",
      "  -repage geometry     size and location of an image canvas\r\n",
      "  -respect-parentheses settings remain in effect until parenthesis boundary\r\n",
      "  -sampling-factor geometry\r\n",
      "                       horizontal and vertical sampling factor\r\n",
      "  -scene value         image scene number\r\n",
      "  -screen              select image from root window\r\n",
      "  -seed value          seed a new sequence of pseudo-random numbers\r\n",
      "  -set property value  set an image property\r\n",
      "  -silent              operate silently, i.e. don't ring any bells \r\n",
      "  -snaps value         number of screen snapshots\r\n",
      "  -support factor      resize support: > 1.0 is blurry, < 1.0 is sharp\r\n",
      "  -synchronize         synchronize image to storage device\r\n",
      "  -taint               declare the image as modified\r\n",
      "  -transparent-color color\r\n",
      "                       transparent color\r\n",
      "  -treedepth value     color tree depth\r\n",
      "  -verbose             print detailed information about the image\r\n",
      "  -virtual-pixel method\r\n",
      "                       Constant, Edge, Mirror, or Tile\r\n",
      "  -window id           select window with this id or name\r\n",
      "                       root selects whole screen\r\n",
      "\r\n",
      "Image Operators:\r\n",
      "  -annotate geometry text\r\n",
      "                       annotate the image with text\r\n",
      "  -colors value        preferred number of colors in the image\r\n",
      "  -crop geometry       preferred size and location of the cropped image\r\n",
      "  -encipher filename   convert plain pixels to cipher pixels\r\n",
      "  -extent geometry     set the image size\r\n",
      "  -geometry geometry   preferred size or location of the image\r\n",
      "  -help                print program options\r\n",
      "  -monochrome          transform image to black and white\r\n",
      "  -negate              replace every pixel with its complementary color \r\n",
      "  -quantize colorspace reduce colors in this colorspace\r\n",
      "  -resize geometry     resize the image\r\n",
      "  -rotate degrees      apply Paeth rotation to the image\r\n",
      "  -strip               strip image of all profiles and comments\r\n",
      "  -thumbnail geometry  create a thumbnail of the image\r\n",
      "  -transparent color   make this color transparent within the image\r\n",
      "  -trim                trim image edges\r\n",
      "  -type type           image type\r\n",
      "\r\n",
      "Miscellaneous Options:\r\n",
      "  -debug events        display copious debugging information\r\n",
      "  -help                print program options\r\n",
      "  -list type           print a list of supported option arguments\r\n",
      "  -log format          format of debugging information\r\n",
      "  -version             print version information\r\n",
      "\r\n",
      "By default, 'file' is written in the MIFF image format.  To\r\n",
      "specify a particular image format, precede the filename with an image\r\n",
      "format name and a colon (i.e. ps:image) or specify the image type as\r\n",
      "the filename suffix (i.e. image.ps).  Specify 'file' as '-' for\r\n",
      "standard input or output.\r\n",
      "import: delegate library support not built-in '' (X11) @ error/import.c/ImportImageCommand/1297.\r\n"
     ]
    },
    {
     "name": "stderr",
     "output_type": "stream",
     "text": [
      "[nltk_data] Downloading package averaged_perceptron_tagger to\n",
      "[nltk_data]     /Users/humbert/nltk_data...\n",
      "[nltk_data]   Unzipping taggers/averaged_perceptron_tagger.zip.\n"
     ]
    },
    {
     "data": {
      "text/plain": [
       "True"
      ]
     },
     "execution_count": 8,
     "metadata": {},
     "output_type": "execute_result"
    }
   ],
   "source": [
    "!import nltk\n",
    "nltk.download('averaged_perceptron_tagger')"
   ]
  },
  {
   "cell_type": "markdown",
   "metadata": {},
   "source": [
    "Specifying the Part-of-Speech (POS) of a word to the WordNetLemmatizer makes it more efficient. Run the code below to see the difference."
   ]
  },
  {
   "cell_type": "code",
   "execution_count": 3,
   "metadata": {},
   "outputs": [
    {
     "name": "stdout",
     "output_type": "stream",
     "text": [
      "Without POS tag : loving\n",
      "With POS tag : love\n"
     ]
    }
   ],
   "source": [
    "from nltk.stem import WordNetLemmatizer\n",
    "from nltk.corpus import wordnet\n",
    "\n",
    "lemmatizer = WordNetLemmatizer()\n",
    "\n",
    "print(\"Without POS tag %s %s\" % (\":\", lemmatizer.lemmatize(\"loving\")))\n",
    "\n",
    "print(\"With POS tag %s %s\" % (\":\", lemmatizer.lemmatize(\"loving\", pos = wordnet.VERB)))"
   ]
  },
  {
   "cell_type": "markdown",
   "metadata": {},
   "source": [
    "Your Bonus Challenge is to create a function that lemmatizes your text, taking into account the associated POS tags. \n",
    "\n",
    "Hint: The WordNetLemmatizer needs the POS tags to be in a certain form, different from the tags outputed by `nltk.pos_tag`. You will need to map them to the correct form."
   ]
  },
  {
   "cell_type": "code",
   "execution_count": 34,
   "metadata": {},
   "outputs": [
    {
     "data": {
      "text/plain": [
       "'I love the building'"
      ]
     },
     "execution_count": 34,
     "metadata": {},
     "output_type": "execute_result"
    }
   ],
   "source": [
    "lemmatizer.lemmatize(\"I love the building\")"
   ]
  },
  {
   "cell_type": "code",
   "execution_count": 35,
   "metadata": {},
   "outputs": [
    {
     "data": {
      "text/plain": [
       "[('I', 'PRP'), ('love', 'VBP'), ('the', 'DT'), ('building', 'NN')]"
      ]
     },
     "execution_count": 35,
     "metadata": {},
     "output_type": "execute_result"
    }
   ],
   "source": [
    "nltk.pos_tag(nltk.word_tokenize(\"I love the building\"))"
   ]
  },
  {
   "cell_type": "code",
   "execution_count": 12,
   "metadata": {},
   "outputs": [
    {
     "data": {
      "text/plain": [
       "'love'"
      ]
     },
     "execution_count": 12,
     "metadata": {},
     "output_type": "execute_result"
    }
   ],
   "source": [
    "lemmatizer.lemmatize(\"loving\", pos = wordnet.VERB).tagged_words(tagset='universal')"
   ]
  },
  {
   "cell_type": "code",
   "execution_count": 15,
   "metadata": {},
   "outputs": [
    {
     "data": {
      "text/plain": [
       "<function nltk.tag.pos_tag(tokens, tagset=None, lang='eng')>"
      ]
     },
     "execution_count": 15,
     "metadata": {},
     "output_type": "execute_result"
    }
   ],
   "source": [
    "nltk.pos_tag"
   ]
  },
  {
   "cell_type": "code",
   "execution_count": 81,
   "metadata": {},
   "outputs": [],
   "source": [
    "def change_tag(tag):\n",
    "\n",
    "    if tag.startswith('J'):\n",
    "        return wordnet.ADJ\n",
    "    elif tag.startswith('V'):\n",
    "        return wordnet.VERB\n",
    "    elif tag.startswith('N'):\n",
    "        return wordnet.NOUN\n",
    "    elif tag.startswith('R'):\n",
    "        return wordnet.ADV\n",
    "    else:\n",
    "        return 'n'\n",
    "\n",
    "def new_word(word):\n",
    "    if word==' 'or word=='':\n",
    "        return ''\n",
    "    return lemmatizer.lemmatize(word, pos = change_tag(nltk.pos_tag(nltk.word_tokenize(word))[0][1]))\n",
    "\n",
    "def new_lemmatize(text):\n",
    "    words = []\n",
    "    for word in word_tokenize(text):\n",
    "        words.append(new_word(word))\n",
    "    return \" \".join(words)\n",
    "        "
   ]
  },
  {
   "cell_type": "code",
   "execution_count": 82,
   "metadata": {},
   "outputs": [
    {
     "data": {
      "text/plain": [
       "['I', 'loving']"
      ]
     },
     "execution_count": 82,
     "metadata": {},
     "output_type": "execute_result"
    }
   ],
   "source": [
    "from nltk.tokenize import word_tokenize\n",
    "\n",
    "word_tokenize('I loving')"
   ]
  },
  {
   "cell_type": "code",
   "execution_count": 84,
   "metadata": {},
   "outputs": [
    {
     "data": {
      "text/plain": [
       "'He be in love with Rachel !'"
      ]
     },
     "execution_count": 84,
     "metadata": {},
     "output_type": "execute_result"
    }
   ],
   "source": [
    "new_lemmatize(\"He is in love with Rachel !\")"
   ]
  },
  {
   "cell_type": "code",
   "execution_count": null,
   "metadata": {},
   "outputs": [],
   "source": []
  }
 ],
 "metadata": {
  "kernelspec": {
   "display_name": "Python 3 (ipykernel)",
   "language": "python",
   "name": "python3"
  },
  "language_info": {
   "codemirror_mode": {
    "name": "ipython",
    "version": 3
   },
   "file_extension": ".py",
   "mimetype": "text/x-python",
   "name": "python",
   "nbconvert_exporter": "python",
   "pygments_lexer": "ipython3",
   "version": "3.8.12"
  },
  "toc": {
   "base_numbering": 1,
   "nav_menu": {},
   "number_sections": true,
   "sideBar": true,
   "skip_h1_title": false,
   "title_cell": "Table of Contents",
   "title_sidebar": "Contents",
   "toc_cell": false,
   "toc_position": {},
   "toc_section_display": true,
   "toc_window_display": false
  }
 },
 "nbformat": 4,
 "nbformat_minor": 4
}
