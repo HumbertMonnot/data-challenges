{
 "cells": [
  {
   "cell_type": "markdown",
   "metadata": {},
   "source": [
    "# Fraud Detection"
   ]
  },
  {
   "cell_type": "markdown",
   "metadata": {},
   "source": [
    "For this exercice, you are meant to perform fraud detection on banking activity and uncover the signals of a potential fraudulent movement. You are free to use the algorithm or ensemble strategy of your choice.\n",
    "\n",
    "- The dataset is available for download [here](https://wagon-public-datasets.s3.amazonaws.com/fraud_data.csv)\n",
    "- Each observation represents an account movement\n",
    "- Feature `step` represents the elapsed time in hours since the first observation of the dataset\n",
    "- Think about preprocessing and feature engineering, there are many opportunities for it here 😉\n",
    "- Look into Sklearn's Isolation Forest tool ([documentation](https://scikit-learn.org/stable/modules/generated/sklearn.ensemble.IsolationForest.html#sklearn.ensemble.IsolationForest)), it could come in handy"
   ]
  },
  {
   "cell_type": "code",
   "execution_count": 42,
   "metadata": {},
   "outputs": [],
   "source": [
    "# GO!"
   ]
  }
 ],
 "metadata": {
  "kernelspec": {
   "display_name": "Python 3",
   "language": "python",
   "name": "python3"
  },
  "language_info": {
   "codemirror_mode": {
    "name": "ipython",
    "version": 3
   },
   "file_extension": ".py",
   "mimetype": "text/x-python",
   "name": "python",
   "nbconvert_exporter": "python",
   "pygments_lexer": "ipython3",
   "version": "3.7.7"
  }
 },
 "nbformat": 4,
 "nbformat_minor": 4
}
