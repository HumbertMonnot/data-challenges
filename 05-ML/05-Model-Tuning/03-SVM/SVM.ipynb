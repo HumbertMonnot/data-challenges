{
 "cells": [
  {
   "cell_type": "markdown",
   "metadata": {},
   "source": [
    "# SVM Classifier for non-linearly separable data"
   ]
  },
  {
   "cell_type": "code",
   "execution_count": null,
   "metadata": {
    "ExecuteTime": {
     "end_time": "2020-08-05T16:18:27.321539Z",
     "start_time": "2020-08-05T16:18:26.681553Z"
    },
    "colab": {},
    "colab_type": "code",
    "id": "mP6nNNTVNGhz"
   },
   "outputs": [],
   "source": [
    "# Import packages to visualize the classifer\n",
    "import matplotlib\n",
    "import matplotlib.pyplot as plt\n",
    "from matplotlib.colors import ListedColormap\n",
    "import warnings"
   ]
  },
  {
   "cell_type": "code",
   "execution_count": null,
   "metadata": {},
   "outputs": [],
   "source": [
    "# Make all figures tiny so as to not get lost\n",
    "matplotlib.rcParams['figure.figsize'] = (5,3)"
   ]
  },
  {
   "cell_type": "code",
   "execution_count": null,
   "metadata": {},
   "outputs": [],
   "source": [
    "# Import other libraries\n",
    "import numpy as np"
   ]
  },
  {
   "cell_type": "markdown",
   "metadata": {},
   "source": [
    "## Utils"
   ]
  },
  {
   "cell_type": "markdown",
   "metadata": {},
   "source": [
    "In this notebook, we give your the following function to plot the decision regions of your classifier"
   ]
  },
  {
   "cell_type": "code",
   "execution_count": null,
   "metadata": {
    "colab": {},
    "colab_type": "code",
    "id": "xHZroysZNLd_"
   },
   "outputs": [],
   "source": [
    "def plot_decision_regions(X, y, classifier, test_idx=None, resolution=0.02):\n",
    "\n",
    "    # setup marker generator and color map up for up to 5 classes\n",
    "    markers = ('s', 'x', 'o', '^', 'v')\n",
    "    colors = ('red', 'blue', 'lightgreen', 'gray', 'cyan')\n",
    "    cmap = ListedColormap(colors[:len(np.unique(y))])\n",
    "\n",
    "    # plot the decision surface\n",
    "    x1_min, x1_max = X[:, 0].min() - 1, X[:, 0].max() + 1\n",
    "    x2_min, x2_max = X[:, 1].min() - 1, X[:, 1].max() + 1\n",
    "    xx1, xx2 = np.meshgrid(np.arange(x1_min, x1_max, resolution),\n",
    "                           np.arange(x2_min, x2_max, resolution))\n",
    "    Z = classifier.predict(np.array([xx1.ravel(), xx2.ravel()]).T)\n",
    "    Z = Z.reshape(xx1.shape)\n",
    "    plt.contourf(xx1, xx2, Z, alpha=0.4, cmap=cmap)\n",
    "    plt.xlim(xx1.min(), xx1.max())\n",
    "    plt.ylim(xx2.min(), xx2.max())\n",
    "\n",
    "    # Plot samples\n",
    "    for idx, cl in enumerate(np.unique(y)):\n",
    "        plt.scatter(x=X[y == cl, 0], y=X[y == cl, 1],\n",
    "                    alpha=0.8, color=cmap(idx),\n",
    "                    marker='x', label=cl)\n",
    "\n",
    "    # Plot test samples if they exist\n",
    "    if not test_idx is None:\n",
    "        X_test, y_test = X[test_idx, :], y[test_idx]\n",
    "        for idx, cl in enumerate(np.unique(y_test)):\n",
    "            plt.scatter(x=X_test[y_test == cl, 0], y=X_test[y_test == cl, 1],\n",
    "                        alpha=1, color=cmap(idx),\n",
    "                        linewidths=1, marker='o', s=55, label=f'test {cl}')\n",
    "    plt.legend()"
   ]
  },
  {
   "cell_type": "markdown",
   "metadata": {},
   "source": [
    "## XOR dataset"
   ]
  },
  {
   "cell_type": "markdown",
   "metadata": {},
   "source": [
    "We will create a 2D dataset that is non-linearly separable, using [logical XOR gates](https://en.wikipedia.org/wiki/XOR_gate)\n",
    "\n",
    "Try to understand how this work by playing with `np.logical_xor` in the cells below:"
   ]
  },
  {
   "cell_type": "code",
   "execution_count": null,
   "metadata": {},
   "outputs": [],
   "source": [
    "print(np.logical_xor(True, True))\n",
    "print(np.logical_xor(True, False))\n",
    "print(np.logical_xor(False, False))"
   ]
  },
  {
   "cell_type": "code",
   "execution_count": null,
   "metadata": {},
   "outputs": [],
   "source": [
    "np.logical_xor([True, True, False, False], [True, False, True, False])"
   ]
  },
  {
   "cell_type": "markdown",
   "metadata": {},
   "source": [
    "Let's now create a own synthetic 2D dataset where y=1 if and only if (X1>0 **xor** X2>0)\n",
    "\n",
    "Make sure to understand the logic coded for you below"
   ]
  },
  {
   "cell_type": "code",
   "execution_count": null,
   "metadata": {},
   "outputs": [],
   "source": [
    "# Number of datapoints\n",
    "n = 500\n",
    "noise = 0.2"
   ]
  },
  {
   "cell_type": "code",
   "execution_count": null,
   "metadata": {
    "scrolled": true
   },
   "outputs": [],
   "source": [
    "# Build our X randomly from gaussian distributions\n",
    "np.random.seed(0)\n",
    "X = np.random.randn(n, 2)\n",
    "plt.scatter(X[:,0], X[:,1]);"
   ]
  },
  {
   "cell_type": "code",
   "execution_count": null,
   "metadata": {
    "scrolled": true
   },
   "outputs": [],
   "source": [
    "# Build our y wisely\n",
    "epsilon = noise * np.random.randn(n, )\n",
    "x1 = X[:, 0]\n",
    "x2 = X[:, 1]\n",
    "\n",
    "y_bool = np.logical_xor(\n",
    "    x1 > epsilon, \n",
    "    x2 > epsilon\n",
    "    )\n",
    "y = np.where(y_bool, 1,0)"
   ]
  },
  {
   "cell_type": "code",
   "execution_count": null,
   "metadata": {},
   "outputs": [],
   "source": [
    "plt.scatter(X[:, 0], X[:, 1], c=y)"
   ]
  },
  {
   "cell_type": "markdown",
   "metadata": {},
   "source": [
    "### Linear SVM"
   ]
  },
  {
   "cell_type": "markdown",
   "metadata": {},
   "source": [
    "Find a vector $w$ (and intercept b) such that\n",
    "\n",
    "$$\n",
    "\\hat{y} = 0 \\text{ if}\\ w^Tx + b < 0 \\\\\n",
    "\\hat{y} = 1 \\text{ if}\\ w^Tx + b ≥ 0\n",
    "$$\n",
    "\n",
    "In this formula, we have to evaluate the scalar product (i.e \"cosine distance\") between two points: $ K(x_1,x_2) = {x_1}^Tx_2$ is called the linear kernel.\n",
    "\n",
    "When applied to the vector $w$ defining the hyperplane margin, $K(w,x)$ is the perpendicular distance to the decision boudary hyperplane 👇\n"
   ]
  },
  {
   "attachments": {},
   "cell_type": "markdown",
   "metadata": {},
   "source": [
    "<img src=\"https://github.com/lewagon/data-images/blob/master/ML/svm_kernel.jpg?raw=true\" width=500 >"
   ]
  },
  {
   "cell_type": "markdown",
   "metadata": {},
   "source": [
    "❓ Fit a **linear** SVC classifier on the whole dataset with the value C = 1. Think of `C` as the \"cost associated with the wrong classification\".  A strict margin classifier has `C` = $+ \\infty$"
   ]
  },
  {
   "cell_type": "code",
   "execution_count": null,
   "metadata": {
    "colab": {
     "base_uri": "https://localhost:8080/",
     "height": 783
    },
    "colab_type": "code",
    "id": "01tws6QLNLo4",
    "outputId": "d4a81201-7391-4d94-dff8-e7e85b92e658"
   },
   "outputs": [],
   "source": []
  },
  {
   "cell_type": "markdown",
   "metadata": {},
   "source": [
    "❓ Visualize the decision boundaries using the `plot_decision_regions` utils coded for you above. Before you plot it:\n",
    "\n",
    "- What do you think the delimiter margin will look like?\n",
    "- Do you think the value of `C` has any importance in this case?"
   ]
  },
  {
   "cell_type": "code",
   "execution_count": null,
   "metadata": {
    "colab": {
     "base_uri": "https://localhost:8080/",
     "height": 783
    },
    "colab_type": "code",
    "id": "01tws6QLNLo4",
    "outputId": "d4a81201-7391-4d94-dff8-e7e85b92e658"
   },
   "outputs": [],
   "source": []
  },
  {
   "cell_type": "markdown",
   "metadata": {},
   "source": [
    "☝️ A Linear SVM will never be able to classify correctly the data, whathever the cost applied to wrongly classified datapoints. We are _structurally_ trying to fit the wrong type of model to the dataset. \n",
    "\n",
    "❓ Do you think a Logistic Regression would perform better? Feel free to try."
   ]
  },
  {
   "cell_type": "code",
   "execution_count": null,
   "metadata": {},
   "outputs": [],
   "source": []
  },
  {
   "cell_type": "markdown",
   "metadata": {},
   "source": [
    "### Polynomial Kernels"
   ]
  },
  {
   "cell_type": "markdown",
   "metadata": {},
   "source": [
    "A polynomial kernel of degree 2 is equivalent to creating the new quadratic features as below \n",
    "\n",
    "$K(x_1,x_2) = (x_1^Tx_2 + c )^2 \\rightarrow \\phi(x) = \\begin{bmatrix} x_1^2 \\\\ x_1 x_2 \\\\ x_2 x_1 \\\\ x_2^2 \\\\  \\sqrt{2c} \\ x_1 \\\\ \\sqrt{2c} \\ x_2\\end{bmatrix}$\n",
    "\n"
   ]
  },
  {
   "cell_type": "markdown",
   "metadata": {},
   "source": [
    "❓ Intuitively speaking, what's the minimum number of kernel \"degrees\" do you think we need to best fit our XOR dataset? \n",
    "\n",
    "Try it below using large C values to keep fitting \"maximum maring classifiers\""
   ]
  },
  {
   "cell_type": "code",
   "execution_count": null,
   "metadata": {
    "scrolled": true
   },
   "outputs": [],
   "source": []
  },
  {
   "cell_type": "markdown",
   "metadata": {},
   "source": [
    "<details>\n",
    "    <summary>☝️ Answer</summary>\n",
    "\n",
    "Degree 2 should be enough because the XOR can be computed from the product feature $x1x2$: class = 1 if product is negatif, class = 0 esle! \n",
    "</details>\n"
   ]
  },
  {
   "cell_type": "markdown",
   "metadata": {},
   "source": [
    "## Make Moon dataset"
   ]
  },
  {
   "cell_type": "markdown",
   "metadata": {},
   "source": [
    "Let's now try with a harder dataset to classifiy!"
   ]
  },
  {
   "cell_type": "code",
   "execution_count": null,
   "metadata": {},
   "outputs": [],
   "source": [
    "n=200"
   ]
  },
  {
   "cell_type": "code",
   "execution_count": null,
   "metadata": {},
   "outputs": [],
   "source": [
    "from sklearn.datasets import make_moons\n",
    "X,y = make_moons(n_samples=n, noise=0.25, random_state=0)\n",
    "plt.scatter(X[:,0], X[:,1], c=y)"
   ]
  },
  {
   "cell_type": "markdown",
   "metadata": {},
   "source": [
    "❓ Can you fit a polynomial kernel to such data? Try it out below! (`pip install ipywidget` if you haven't done it already)"
   ]
  },
  {
   "cell_type": "code",
   "execution_count": null,
   "metadata": {
    "scrolled": true
   },
   "outputs": [],
   "source": [
    "from ipywidgets import interact\n",
    "\n",
    "@interact(C=[1, 10, 1000, 10000, 100000], degree=3)\n",
    "def svc(C, degree):\n",
    "    svm = SVC(kernel='poly', C=C, degree=degree)\n",
    "    svm.fit(X, y)\n",
    "    plot_decision_regions(X, y, classifier=svm)"
   ]
  },
  {
   "cell_type": "markdown",
   "metadata": {},
   "source": [
    "### RBF (gaussian) Kernel"
   ]
  },
  {
   "cell_type": "markdown",
   "metadata": {},
   "source": [
    "Here comes the RBF Kernel! \n",
    "Pretty much the go-to kernel for SVM (and default one in sklearn).  \n",
    "It proves very robust to variety of problems, but requires gridsearching its hyper-parameter $\\lambda$"
   ]
  },
  {
   "cell_type": "markdown",
   "metadata": {},
   "source": [
    "$K(x_1,x_2) = \\exp[ \\left( - \\gamma ||x_1-x_2||^2\\right)$"
   ]
  },
  {
   "cell_type": "code",
   "execution_count": 182,
   "metadata": {},
   "outputs": [
    {
     "data": {
      "text/plain": [
       "<matplotlib.legend.Legend at 0x1231d7f40>"
      ]
     },
     "execution_count": 182,
     "metadata": {},
     "output_type": "execute_result"
    },
    {
     "data": {
      "image/png": "[encoded data removed]",
      "text/plain": [
       "<Figure size 360x216 with 1 Axes>"
      ]
     },
     "metadata": {
      "needs_background": "light"
     },
     "output_type": "display_data"
    }
   ],
   "source": [
    "x = np.linspace(0,3,100)\n",
    "for gamma in np.linspace(0.1, 1, 4):\n",
    "    plt.plot(x,np.exp(-gamma*x**2), label=f'gamma = {gamma}');\n",
    "plt.ylim(0,); plt.title('RBF Kernel'); plt.xlabel('euclidian distance between points'); plt.legend()"
   ]
  },
  {
   "cell_type": "markdown",
   "metadata": {},
   "source": [
    "- The larger the euclidian distance between two points $||x_1-x_2||^2$, the closer the kernel function is to zero. This means that two points far away are more likely to be different.\n",
    "\n",
    "- $\\gamma$ reduces each instance’s range of influence on the others (myopia). If your model overfits, increase it, it should smooth out irregularities and reduce variance\n",
    "\n",
    "- $C$ still controls the \"hardness\" of the margin. Stronger values will make your model overfits."
   ]
  },
  {
   "cell_type": "markdown",
   "metadata": {},
   "source": [
    "❓ Test and visualize an SVM classifier with an RBF kernel.  \n",
    "Start with a model with very low variance (ex: $\\gamma=0.05$ and $C=0.1$), and coarse-grain increase gamma until you overfit"
   ]
  },
  {
   "cell_type": "code",
   "execution_count": null,
   "metadata": {},
   "outputs": [],
   "source": []
  },
  {
   "cell_type": "markdown",
   "metadata": {},
   "source": [
    "❓ Now, lets start back from your best estimated value of gamma, and increase `C` until you overfit\n"
   ]
  },
  {
   "cell_type": "code",
   "execution_count": null,
   "metadata": {},
   "outputs": [],
   "source": []
  },
  {
   "cell_type": "markdown",
   "metadata": {},
   "source": [
    "☝️ Feel free to create your own interactive plot with @interact"
   ]
  },
  {
   "cell_type": "markdown",
   "metadata": {},
   "source": [
    "### Sigmoid kernel"
   ]
  },
  {
   "cell_type": "markdown",
   "metadata": {},
   "source": [
    "$K(x_1,x_2) = tanh(\\gamma x_1^T x_2 +r)$"
   ]
  },
  {
   "cell_type": "code",
   "execution_count": 186,
   "metadata": {},
   "outputs": [
    {
     "data": {
      "image/png": "[encoded data removed]",
      "text/plain": [
       "<Figure size 360x216 with 1 Axes>"
      ]
     },
     "metadata": {
      "needs_background": "light"
     },
     "output_type": "display_data"
    }
   ],
   "source": [
    "# The \"tangent hyperbolic\" function ressembles sigmoid but can take negative values\n",
    "x = np.linspace(-3,3,100)\n",
    "plt.plot(x, np.tanh(x))\n",
    "plt.xlabel('cosine distance'); plt.title('Sigmoid Kernel');"
   ]
  },
  {
   "cell_type": "markdown",
   "metadata": {},
   "source": [
    "☝️ The Sigmoid kernel compresses the cosine distance used in the linear kernel into a [-$\\gamma$,+$\\gamma$] interval. A similar kernel is used in Neural Network. "
   ]
  },
  {
   "cell_type": "code",
   "execution_count": null,
   "metadata": {},
   "outputs": [],
   "source": [
    "@interact(C=[0.1, 1, 10, 100, 1000, 10000], gamma = [0.001, 0.01, 0.1, 1, 10])\n",
    "def svc(C=1000, gamma=0.1):\n",
    "    svm = SVC(kernel='sigmoid', gamma=gamma, C=C)\n",
    "    svm.fit(X, y)\n",
    "    plot_decision_regions(X, y, classifier=svm)"
   ]
  },
  {
   "cell_type": "markdown",
   "metadata": {},
   "source": [
    "☝️  Not easy to make it work visually, right? Besides, another hyper-parameter $r$ in the Kernel formula has not been tested (`coef0` in sklearn)\n",
    "\n",
    "Time for a grid-search!"
   ]
  },
  {
   "cell_type": "markdown",
   "metadata": {},
   "source": [
    "### GridSearch the best `sigmoid` kernel ?"
   ]
  },
  {
   "cell_type": "markdown",
   "metadata": {},
   "source": [
    "❓ We need to gridsearch to find the best hyperparams for the `sigmoid` kernel\n",
    "- Using your visual intuitions above, define plausible range of values for `gamma`, `C` and `coef0` to try out\n",
    "- Gridsearch them using `RandomizedSearchCV`\n",
    "- Plot your best model and cross-validated its score\n",
    "\n",
    "Remeber to coarse grain your search first, and refine later"
   ]
  },
  {
   "cell_type": "code",
   "execution_count": null,
   "metadata": {
    "scrolled": true
   },
   "outputs": [],
   "source": []
  },
  {
   "cell_type": "markdown",
   "metadata": {
    "colab": {},
    "colab_type": "code",
    "id": "YeRSiecQayiP"
   },
   "source": [
    "### What about the kNN Classifier?"
   ]
  },
  {
   "cell_type": "markdown",
   "metadata": {},
   "source": [
    "Such problem could also well fit a kNN classifier. Try to find visually the best `k` and visually compare its behavior to the SVM."
   ]
  },
  {
   "cell_type": "code",
   "execution_count": null,
   "metadata": {},
   "outputs": [],
   "source": [
    "from sklearn.neighbors import KNeighborsClassifier\n",
    "@interact(k=5)\n",
    "def knn(k):\n",
    "    pass"
   ]
  },
  {
   "cell_type": "markdown",
   "metadata": {},
   "source": [
    "## Generalization"
   ]
  },
  {
   "cell_type": "markdown",
   "metadata": {},
   "source": [
    "Suppose your model is in production, receive a new test dataset that has never been seen before"
   ]
  },
  {
   "cell_type": "code",
   "execution_count": null,
   "metadata": {},
   "outputs": [],
   "source": [
    "# We generate for you a test set\n",
    "n_test = 100\n",
    "X_test, y_test = make_moons(n_samples=n, noise=0.2, random_state=1)\n",
    "\n",
    "X_full = np.vstack((X, X_test))\n",
    "y_full = np.append(y, values = y_test)\n",
    "test_idx = np.arange(n,n+n_test)"
   ]
  },
  {
   "cell_type": "markdown",
   "metadata": {},
   "source": [
    "❓ Plot the decision regions for what you think is your best svm model already trained before!\n",
    "\n",
    "🔥 You only have **one** trial! Too late to change your hyper-parameters now that you've seen the test set :))))\n",
    "\n",
    "Includes the test indexes to `plot_decision_regions` and count how many misclassified test samples you get!"
   ]
  },
  {
   "cell_type": "code",
   "execution_count": null,
   "metadata": {
    "scrolled": false
   },
   "outputs": [],
   "source": []
  },
  {
   "cell_type": "markdown",
   "metadata": {},
   "source": [
    "❓ print your `classification_report` to finish"
   ]
  },
  {
   "cell_type": "code",
   "execution_count": null,
   "metadata": {},
   "outputs": [],
   "source": []
  },
  {
   "cell_type": "markdown",
   "metadata": {},
   "source": [
    "🏁 Congratulation! Dont forget to **commit** and **push** your notebook"
   ]
  }
 ],
 "metadata": {
  "colab": {
   "collapsed_sections": [],
   "name": "SVM-Separate-XOR.ipynb",
   "provenance": []
  },
  "kernelspec": {
   "display_name": "Python 3",
   "language": "python",
   "name": "python3"
  },
  "language_info": {
   "codemirror_mode": {
    "name": "ipython",
    "version": 3
   },
   "file_extension": ".py",
   "mimetype": "text/x-python",
   "name": "python",
   "nbconvert_exporter": "python",
   "pygments_lexer": "ipython3",
   "version": "3.8.5"
  },
  "latex_envs": {
   "LaTeX_envs_menu_present": true,
   "autoclose": false,
   "autocomplete": true,
   "bibliofile": "biblio.bib",
   "cite_by": "apalike",
   "current_citInitial": 1,
   "eqLabelWithNumbers": true,
   "eqNumInitial": 1,
   "hotkeys": {
    "equation": "Ctrl-E",
    "itemize": "Ctrl-I"
   },
   "labels_anchors": false,
   "latex_user_defs": false,
   "report_style_numbering": false,
   "user_envs_cfg": false
  },
  "toc": {
   "base_numbering": 1,
   "nav_menu": {},
   "number_sections": true,
   "sideBar": true,
   "skip_h1_title": true,
   "title_cell": "Table of Contents",
   "title_sidebar": "Contents",
   "toc_cell": false,
   "toc_position": {},
   "toc_section_display": true,
   "toc_window_display": true
  },
  "varInspector": {
   "cols": {
    "lenName": 16,
    "lenType": 16,
    "lenVar": 40
   },
   "kernels_config": {
    "python": {
     "delete_cmd_postfix": "",
     "delete_cmd_prefix": "del ",
     "library": "var_list.py",
     "varRefreshCmd": "print(var_dic_list())"
    },
    "r": {
     "delete_cmd_postfix": ") ",
     "delete_cmd_prefix": "rm(",
     "library": "var_list.r",
     "varRefreshCmd": "cat(var_dic_list()) "
    }
   },
   "types_to_exclude": [
    "module",
    "function",
    "builtin_function_or_method",
    "instance",
    "_Feature"
   ],
   "window_display": false
  },
  "widgets": {
   "application/vnd.jupyter.widget-state+json": {
    "3ca6720467454a3b819324c7428930c8": {
     "model_module": "@jupyter-widgets/controls",
     "model_name": "DescriptionStyleModel",
     "state": {
      "_model_module": "@jupyter-widgets/controls",
      "_model_module_version": "1.5.0",
      "_model_name": "DescriptionStyleModel",
      "_view_count": null,
      "_view_module": "@jupyter-widgets/base",
      "_view_module_version": "1.2.0",
      "_view_name": "StyleView",
      "description_width": ""
     }
    },
    "5d4516d80e3b4a90b7411e8a81df6d89": {
     "model_module": "@jupyter-widgets/base",
     "model_name": "LayoutModel",
     "state": {
      "_model_module": "@jupyter-widgets/base",
      "_model_module_version": "1.2.0",
      "_model_name": "LayoutModel",
      "_view_count": null,
      "_view_module": "@jupyter-widgets/base",
      "_view_module_version": "1.2.0",
      "_view_name": "LayoutView",
      "align_content": null,
      "align_items": null,
      "align_self": null,
      "border": null,
      "bottom": null,
      "display": null,
      "flex": null,
      "flex_flow": null,
      "grid_area": null,
      "grid_auto_columns": null,
      "grid_auto_flow": null,
      "grid_auto_rows": null,
      "grid_column": null,
      "grid_gap": null,
      "grid_row": null,
      "grid_template_areas": null,
      "grid_template_columns": null,
      "grid_template_rows": null,
      "height": null,
      "justify_content": null,
      "justify_items": null,
      "left": null,
      "margin": null,
      "max_height": null,
      "max_width": null,
      "min_height": null,
      "min_width": null,
      "object_fit": null,
      "object_position": null,
      "order": null,
      "overflow": null,
      "overflow_x": null,
      "overflow_y": null,
      "padding": null,
      "right": null,
      "top": null,
      "visibility": null,
      "width": null
     }
    },
    "7aabc06a42704880afe3437daf35ac5a": {
     "model_module": "@jupyter-widgets/base",
     "model_name": "LayoutModel",
     "state": {
      "_model_module": "@jupyter-widgets/base",
      "_model_module_version": "1.2.0",
      "_model_name": "LayoutModel",
      "_view_count": null,
      "_view_module": "@jupyter-widgets/base",
      "_view_module_version": "1.2.0",
      "_view_name": "LayoutView",
      "align_content": null,
      "align_items": null,
      "align_self": null,
      "border": null,
      "bottom": null,
      "display": null,
      "flex": null,
      "flex_flow": null,
      "grid_area": null,
      "grid_auto_columns": null,
      "grid_auto_flow": null,
      "grid_auto_rows": null,
      "grid_column": null,
      "grid_gap": null,
      "grid_row": null,
      "grid_template_areas": null,
      "grid_template_columns": null,
      "grid_template_rows": null,
      "height": null,
      "justify_content": null,
      "justify_items": null,
      "left": null,
      "margin": null,
      "max_height": null,
      "max_width": null,
      "min_height": null,
      "min_width": null,
      "object_fit": null,
      "object_position": null,
      "order": null,
      "overflow": null,
      "overflow_x": null,
      "overflow_y": null,
      "padding": null,
      "right": null,
      "top": null,
      "visibility": null,
      "width": null
     }
    },
    "b275f8e448e44caf9a86919d0f3102d8": {
     "model_module": "@jupyter-widgets/base",
     "model_name": "LayoutModel",
     "state": {
      "_model_module": "@jupyter-widgets/base",
      "_model_module_version": "1.2.0",
      "_model_name": "LayoutModel",
      "_view_count": null,
      "_view_module": "@jupyter-widgets/base",
      "_view_module_version": "1.2.0",
      "_view_name": "LayoutView",
      "align_content": null,
      "align_items": null,
      "align_self": null,
      "border": null,
      "bottom": null,
      "display": null,
      "flex": null,
      "flex_flow": null,
      "grid_area": null,
      "grid_auto_columns": null,
      "grid_auto_flow": null,
      "grid_auto_rows": null,
      "grid_column": null,
      "grid_gap": null,
      "grid_row": null,
      "grid_template_areas": null,
      "grid_template_columns": null,
      "grid_template_rows": null,
      "height": null,
      "justify_content": null,
      "justify_items": null,
      "left": null,
      "margin": null,
      "max_height": null,
      "max_width": null,
      "min_height": null,
      "min_width": null,
      "object_fit": null,
      "object_position": null,
      "order": null,
      "overflow": null,
      "overflow_x": null,
      "overflow_y": null,
      "padding": null,
      "right": null,
      "top": null,
      "visibility": null,
      "width": null
     }
    },
    "b60b33ead3e045918812744e23f2dac2": {
     "model_module": "@jupyter-widgets/controls",
     "model_name": "VBoxModel",
     "state": {
      "_dom_classes": [
       "widget-interact"
      ],
      "_model_module": "@jupyter-widgets/controls",
      "_model_module_version": "1.5.0",
      "_model_name": "VBoxModel",
      "_view_count": null,
      "_view_module": "@jupyter-widgets/controls",
      "_view_module_version": "1.5.0",
      "_view_name": "VBoxView",
      "box_style": "",
      "children": [
       "IPY_MODEL_d0bb503cf16c463abe504958f9afd476",
       "IPY_MODEL_fac58c96897347929b40dcbf4089d867"
      ],
      "layout": "IPY_MODEL_5d4516d80e3b4a90b7411e8a81df6d89"
     }
    },
    "d0bb503cf16c463abe504958f9afd476": {
     "model_module": "@jupyter-widgets/controls",
     "model_name": "DropdownModel",
     "state": {
      "_dom_classes": [],
      "_model_module": "@jupyter-widgets/controls",
      "_model_module_version": "1.5.0",
      "_model_name": "DropdownModel",
      "_options_labels": [
       "1",
       "10",
       "1000",
       "10000",
       "100000"
      ],
      "_view_count": null,
      "_view_module": "@jupyter-widgets/controls",
      "_view_module_version": "1.5.0",
      "_view_name": "DropdownView",
      "description": "x",
      "description_tooltip": null,
      "disabled": false,
      "index": 0,
      "layout": "IPY_MODEL_7aabc06a42704880afe3437daf35ac5a",
      "style": "IPY_MODEL_3ca6720467454a3b819324c7428930c8"
     }
    },
    "fac58c96897347929b40dcbf4089d867": {
     "model_module": "@jupyter-widgets/output",
     "model_name": "OutputModel",
     "state": {
      "_dom_classes": [],
      "_model_module": "@jupyter-widgets/output",
      "_model_module_version": "1.0.0",
      "_model_name": "OutputModel",
      "_view_count": null,
      "_view_module": "@jupyter-widgets/output",
      "_view_module_version": "1.0.0",
      "_view_name": "OutputView",
      "layout": "IPY_MODEL_b275f8e448e44caf9a86919d0f3102d8",
      "msg_id": "",
      "outputs": [
       {
        "metadata": {
         "tags": []
        },
        "output_type": "stream",
        "stream": "stderr",
        "text": "'c' argument looks like a single numeric RGB or RGBA sequence, which should be avoided as value-mapping will have precedence in case its length matches with 'x' & 'y'.  Please use a 2-D array with a single row if you really want to specify the same RGB or RGBA value for all points.\n"
       },
       {
        "metadata": {
         "tags": []
        },
        "output_type": "stream",
        "stream": "stderr",
        "text": "'c' argument looks like a single numeric RGB or RGBA sequence, which should be avoided as value-mapping will have precedence in case its length matches with 'x' & 'y'.  Please use a 2-D array with a single row if you really want to specify the same RGB or RGBA value for all points.\n"
       },
       {
        "image/png": "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\n",
        "metadata": {
         "needs_background": "light",
         "tags": []
        },
        "output_type": "display_data",
        "text/plain": "<Figure size 720x720 with 1 Axes>"
       }
      ]
     }
    }
   }
  }
 },
 "nbformat": 4,
 "nbformat_minor": 1
}
