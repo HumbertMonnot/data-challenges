{
 "cells": [
  {
   "cell_type": "markdown",
   "metadata": {},
   "source": [
    "# Learning Curves"
   ]
  },
  {
   "cell_type": "markdown",
   "metadata": {},
   "source": [
    "👇 Load the data in folder into a  dataframe."
   ]
  },
  {
   "cell_type": "code",
   "execution_count": null,
   "metadata": {
    "scrolled": true
   },
   "outputs": [],
   "source": [
    "# Import data\n",
    "\n",
    "# Display first rows\n"
   ]
  },
  {
   "cell_type": "markdown",
   "metadata": {},
   "source": [
    "## 1. Modelling"
   ]
  },
  {
   "cell_type": "markdown",
   "metadata": {},
   "source": [
    "👇 Train a linear regression model using **bmi, age, children and smoker** to predict the **charges**, and score your model.\n",
    "- Don't worry about preprocessing, use raw features\n",
    "\n",
    "\n",
    "[Sklearn LinearRegression documentation](https://scikit-learn.org/stable/modules/generated/sklearn.linear_model.LinearRegression.html)"
   ]
  },
  {
   "cell_type": "code",
   "execution_count": null,
   "metadata": {},
   "outputs": [],
   "source": [
    "# Prepare X and y\n",
    "\n",
    "# Split into Train/Test\n",
    "\n",
    "# Instanciate the model\n",
    "\n",
    "# Train the model on the Training data\n",
    "\n",
    "# Score the model on the Testing data\n"
   ]
  },
  {
   "cell_type": "markdown",
   "metadata": {},
   "source": [
    "You should be getting a decent score!! Let's visualize the Learning Curves to assess the model performance."
   ]
  },
  {
   "cell_type": "markdown",
   "metadata": {},
   "source": [
    "## 2. Plotting the Learning Curves"
   ]
  },
  {
   "cell_type": "markdown",
   "metadata": {},
   "source": [
    "👇 Plot the Learning Curves of your model! Following the steps shown during the lecture.\n",
    "\n",
    "1. Construct a dataframe skeleton for train sizes, train scores, test scores\n",
    "\n",
    "\n",
    "2. Loop over the following train_sizes:\n",
    "    - [25, 50,100,200,300,400,500,600,700,800,900]\n",
    "    \n",
    "    \n",
    "    \n",
    "3. Within the loop:\n",
    "    - Split intro train and test\n",
    "    - Sample the training set according to the train size\n",
    "    - Train a model from sample\n",
    "    - Score on train (sample) and test (fixed)\n",
    "    - Append train size, train score, and test score to dataframe\n",
    "    \n",
    "\n",
    "4. Plot the curves!"
   ]
  },
  {
   "cell_type": "code",
   "execution_count": null,
   "metadata": {},
   "outputs": [],
   "source": [
    "# YOUR CODE HERE \n"
   ]
  },
  {
   "cell_type": "code",
   "execution_count": null,
   "metadata": {},
   "outputs": [],
   "source": [
    "# YOUR PLOT HERE\n"
   ]
  },
  {
   "cell_type": "markdown",
   "metadata": {},
   "source": [
    "What do you deduce from your learning curves?\n",
    "\n",
    "Notice how train and test score curves are inverted? It is because the error score of the model, the R2, needs to be maximized for optimal performance. Unlike an RMSE, which needs to be minimized for optimal performance."
   ]
  },
  {
   "cell_type": "markdown",
   "metadata": {},
   "source": [
    "# 🏁"
   ]
  }
 ],
 "metadata": {
  "kernelspec": {
   "display_name": "Python 3",
   "language": "python",
   "name": "python3"
  },
  "language_info": {
   "codemirror_mode": {
    "name": "ipython",
    "version": 3
   },
   "file_extension": ".py",
   "mimetype": "text/x-python",
   "name": "python",
   "nbconvert_exporter": "python",
   "pygments_lexer": "ipython3",
   "version": "3.7.6"
  }
 },
 "nbformat": 4,
 "nbformat_minor": 2
}
