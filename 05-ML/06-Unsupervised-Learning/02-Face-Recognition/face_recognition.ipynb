{
 "cells": [
  {
   "cell_type": "markdown",
   "metadata": {},
   "source": [
    "# PCA : Face Recognition\n",
    "\n"
   ]
  },
  {
   "cell_type": "markdown",
   "metadata": {},
   "source": [
    "In this challenge, we will use PCA in combination with a dataset of multiple black & white image**s**\n",
    "\n",
    "This time then:\n",
    "- each image is an observation (sample)\n",
    "- each pixel's luminosity level is a feature (lots of features!!)\n",
    "\n",
    "We will use PCA to compress the picture by reducing the number of feature used to describe it."
   ]
  },
  {
   "cell_type": "markdown",
   "metadata": {},
   "source": [
    "## Load dataset\n",
    "\n",
    "Using PCA for dimensionality reduction involves zeroing out one or more of the smallest principal components, resulting in a **lower-dimensional projection** of the data that preserves the maximal data variance.\n",
    "\n",
    "We can then use those new representations as features to feed any model we want. It can be very useful since you often have lots of features, and you want to transform and keep a packed number of features that are the most representative of what you want to model.\n",
    "\n",
    "__Lets load a face image dataset and apply PCA.__"
   ]
  },
  {
   "cell_type": "code",
   "execution_count": 1,
   "metadata": {},
   "outputs": [],
   "source": [
    "# Load data\n",
    "from sklearn.datasets import fetch_lfw_people\n",
    "faces = fetch_lfw_people(min_faces_per_person=70, resize=0.4)"
   ]
  },
  {
   "cell_type": "markdown",
   "metadata": {},
   "source": [
    "You have access to\n",
    "- `faces.images` which are the matrix of __50 x 37 pixels__ you can plot \n",
    "- `faces.data` for the the flattened version in  of size __1850 x 1__ (because 50 x 37 = 1850). \n",
    "- `faces.target` which is annotation of every face to the corresponding person (as a number index)"
   ]
  },
  {
   "cell_type": "code",
   "execution_count": 4,
   "metadata": {
    "collapsed": true
   },
   "outputs": [
    {
     "data": {
      "text/plain": [
       "array([[[254.      , 254.      , 251.66667 , ...,  65.333336,\n",
       "          50.666668,  40.333332],\n",
       "        [253.33333 , 251.33333 , 247.33333 , ...,  66.666664,\n",
       "          52.      ,  42.666668],\n",
       "        [240.66667 , 231.66667 , 211.66667 , ...,  62.      ,\n",
       "          49.      ,  42.      ],\n",
       "        ...,\n",
       "        [ 74.333336,  54.      ,  31.666666, ...,  97.666664,\n",
       "          93.      ,  90.      ],\n",
       "        [ 65.333336,  47.      ,  30.333334, ...,  91.666664,\n",
       "          92.      ,  86.333336],\n",
       "        [ 59.333332,  44.333332,  32.333332, ...,  87.333336,\n",
       "          88.666664,  86.666664]],\n",
       "\n",
       "       [[ 39.666668,  50.333332,  47.      , ...,  61.333332,\n",
       "          51.      ,  38.666668],\n",
       "        [ 47.666668,  63.      ,  65.333336, ...,  57.666668,\n",
       "          55.      ,  44.666668],\n",
       "        [ 55.333332,  76.666664,  86.333336, ...,  71.      ,\n",
       "          48.333332,  43.666668],\n",
       "        ...,\n",
       "        [ 73.666664,  75.666664,  75.333336, ..., 125.666664,\n",
       "         119.666664, 115.333336],\n",
       "        [ 75.333336,  76.333336,  77.      , ..., 124.      ,\n",
       "         116.      , 116.333336],\n",
       "        [ 77.333336,  76.333336,  75.666664, ..., 117.666664,\n",
       "         115.      , 133.66667 ]],\n",
       "\n",
       "       [[ 89.333336, 104.      , 126.      , ..., 150.      ,\n",
       "         150.33333 , 149.      ],\n",
       "        [100.      , 128.      , 143.66667 , ..., 159.33333 ,\n",
       "         151.33333 , 147.33333 ],\n",
       "        [123.666664, 142.66667 , 146.66667 , ..., 161.      ,\n",
       "         152.66667 , 147.33333 ],\n",
       "        ...,\n",
       "        [ 75.666664,  73.666664,  74.      , ..., 123.      ,\n",
       "         168.66667 , 179.      ],\n",
       "        [ 73.      ,  68.666664,  69.333336, ..., 150.      ,\n",
       "         182.      , 181.33333 ],\n",
       "        [ 78.666664,  66.      ,  65.666664, ..., 175.33333 ,\n",
       "         183.33333 , 183.      ]],\n",
       "\n",
       "       ...,\n",
       "\n",
       "       [[ 86.      ,  80.333336,  74.666664, ...,  35.      ,\n",
       "          35.      ,  39.333332],\n",
       "        [ 84.666664,  75.      ,  79.666664, ...,  37.      ,\n",
       "          35.      ,  37.      ],\n",
       "        [ 71.666664,  65.666664,  94.666664, ...,  41.333332,\n",
       "          37.      ,  36.666668],\n",
       "        ...,\n",
       "        [ 92.      ,  88.333336,  87.333336, ...,  66.666664,\n",
       "          79.333336,  94.      ],\n",
       "        [ 86.333336,  86.      ,  88.666664, ...,  46.666668,\n",
       "          58.666668,  64.333336],\n",
       "        [ 77.333336,  78.666664,  81.333336, ...,  44.      ,\n",
       "          49.666668,  44.666668]],\n",
       "\n",
       "       [[ 50.333332,  65.666664,  88.      , ..., 159.      ,\n",
       "         158.66667 , 152.      ],\n",
       "        [ 59.666668,  83.      ,  99.333336, ..., 157.66667 ,\n",
       "         150.66667 , 149.66667 ],\n",
       "        [ 62.      ,  90.666664,  94.333336, ..., 157.33333 ,\n",
       "         145.      , 144.      ],\n",
       "        ...,\n",
       "        [ 59.666668,  60.666668,  62.      , ..., 151.66667 ,\n",
       "         166.66667 , 164.66667 ],\n",
       "        [ 60.333332,  61.333332,  63.      , ..., 187.33333 ,\n",
       "         176.33333 , 167.      ],\n",
       "        [ 61.333332,  61.333332,  62.333332, ..., 197.      ,\n",
       "         179.33333 , 166.33333 ]],\n",
       "\n",
       "       [[ 30.      ,  27.      ,  32.666668, ...,  89.666664,\n",
       "          53.333332,  46.666668],\n",
       "        [ 31.333334,  32.      ,  37.333332, ..., 104.      ,\n",
       "          56.333332,  42.666668],\n",
       "        [ 33.666668,  33.666668,  39.      , ..., 122.666664,\n",
       "          71.333336,  52.      ],\n",
       "        ...,\n",
       "        [ 45.666668,  44.      ,  43.333332, ...,  23.333334,\n",
       "          20.      ,  34.333332],\n",
       "        [ 42.333332,  42.      ,  44.333332, ...,  24.333334,\n",
       "          27.      ,  44.      ],\n",
       "        [ 45.666668,  49.333332,  51.333332, ...,  35.      ,\n",
       "          35.333332,  61.      ]]], dtype=float32)"
      ]
     },
     "execution_count": 4,
     "metadata": {},
     "output_type": "execute_result"
    }
   ],
   "source": [
    "faces.images"
   ]
  },
  {
   "cell_type": "code",
   "execution_count": 2,
   "metadata": {},
   "outputs": [
    {
     "data": {
      "text/plain": [
       "(1288, 50, 37)"
      ]
     },
     "execution_count": 2,
     "metadata": {},
     "output_type": "execute_result"
    }
   ],
   "source": [
    "# 1288 images\n",
    "faces.images.shape"
   ]
  },
  {
   "cell_type": "code",
   "execution_count": 5,
   "metadata": {},
   "outputs": [
    {
     "data": {
      "text/plain": [
       "(1288, 1850)"
      ]
     },
     "execution_count": 5,
     "metadata": {},
     "output_type": "execute_result"
    }
   ],
   "source": [
    "# 1288 images flattened, equivalent to to faces.images.reshape(1288,1850)\n",
    "faces.data.shape"
   ]
  },
  {
   "cell_type": "code",
   "execution_count": 6,
   "metadata": {},
   "outputs": [
    {
     "data": {
      "text/plain": [
       "array([5, 6, 3, ..., 5, 3, 5])"
      ]
     },
     "execution_count": 6,
     "metadata": {},
     "output_type": "execute_result"
    }
   ],
   "source": [
    "faces.target"
   ]
  },
  {
   "cell_type": "code",
   "execution_count": 7,
   "metadata": {},
   "outputs": [
    {
     "data": {
      "image/png": "[encoded data removed]",
      "text/plain": [
       "<Figure size 504x720 with 15 Axes>"
      ]
     },
     "metadata": {},
     "output_type": "display_data"
    }
   ],
   "source": [
    "# Let’s visualize some faces.\n",
    "import matplotlib.pyplot as plt\n",
    "fig = plt.figure(figsize=(7,10))\n",
    "for i in range(15):\n",
    "    plt.subplot(5, 5, i + 1)\n",
    "    plt.title(faces.target_names[faces.target[i]], size=12)\n",
    "    plt.imshow(faces.images[i], cmap=plt.cm.gray)\n",
    "    plt.xticks(())\n",
    "    plt.yticks(())"
   ]
  },
  {
   "cell_type": "markdown",
   "metadata": {},
   "source": [
    "## Compress images with PCA"
   ]
  },
  {
   "cell_type": "markdown",
   "metadata": {},
   "source": [
    "In this scikit dataset we have 50 × 37 pixel images (1850 dimensions!). Often, so many dimensions is a lot to train algorithms we studied in the previous exercises (for example SVM). \n",
    "\n",
    "That's why we use PCA to reduce these features to a more manageable size, while maintaining most of the information of the dataset.\n",
    "\n",
    "__👉 Apply PCA to the dataset (both fit and transform), to reduce dimensions to 150, by setting `n_components=150`__. Put your transformation into a variable named `data_projected`"
   ]
  },
  {
   "cell_type": "code",
   "execution_count": 8,
   "metadata": {
    "tags": [
     "challengify"
    ]
   },
   "outputs": [],
   "source": [
    "from sklearn.decomposition import PCA"
   ]
  },
  {
   "cell_type": "code",
   "execution_count": 11,
   "metadata": {},
   "outputs": [
    {
     "data": {
      "text/plain": [
       "(1288, 150)"
      ]
     },
     "execution_count": 11,
     "metadata": {},
     "output_type": "execute_result"
    }
   ],
   "source": [
    "pca = PCA(n_components=150)\n",
    "data_projected = pca.fit_transform(faces.data)\n",
    "data_projected.shape"
   ]
  },
  {
   "cell_type": "markdown",
   "metadata": {},
   "source": [
    "The face dataset was projected onto only the first 150 principal components! Again, what we call components are directions of most variance of the dataset. \n",
    "\n",
    "It means that now, we don't need 1850 pixels anymore to describe each images but just 150 values. A gain by factor 12.\n",
    "\n",
    "__How is that possible?__\n",
    "\n",
    "- The pca has found to be the most representative directions of what distinguishes faces between each other with just 150 values for every image. \n",
    "\n",
    "- They are the directions of most variance. \n",
    "\n",
    "- You can access them in `pca.components_`\n",
    "\n",
    "👉  Look at the first component of this array of components, and its shape"
   ]
  },
  {
   "cell_type": "code",
   "execution_count": 13,
   "metadata": {
    "tags": [
     "challengify"
    ]
   },
   "outputs": [
    {
     "data": {
      "text/plain": [
       "(1850,)"
      ]
     },
     "execution_count": 13,
     "metadata": {},
     "output_type": "execute_result"
    }
   ],
   "source": [
    "pca.components_[0].shape"
   ]
  },
  {
   "cell_type": "markdown",
   "metadata": {},
   "source": [
    "As you can see, it's a vector of 1850 values. We have now 150 components of 1850 values each.\n",
    "\n",
    "One face is now described as a combination (sum) of those components.\n",
    "\n",
    "Let's reconstruct one image from its reduced representation to see how it works.\n",
    "\n",
    "👉 Use `inverse_transform` on your `data_projected` to reconstruct a `data_reconstructed` dataset"
   ]
  },
  {
   "cell_type": "code",
   "execution_count": 25,
   "metadata": {
    "tags": [
     "challengify"
    ]
   },
   "outputs": [
    {
     "data": {
      "image/png": "[encoded data removed]",
      "text/plain": [
       "<Figure size 432x288 with 1 Axes>"
      ]
     },
     "metadata": {
      "needs_background": "light"
     },
     "output_type": "display_data"
    }
   ],
   "source": [
    "data_reconstructed = pca.inverse_transform(data_projected)\n",
    "plt.imshow(data_reconstructed[12].reshape(50,37), cmap=plt.cm.gray)\n",
    "\n",
    "plt.show()"
   ]
  },
  {
   "cell_type": "markdown",
   "metadata": {},
   "source": [
    "👉 Plot the 13th picture (Gearge W Bush) of the reconstructed dataset, and compare it with the original one. \n",
    "\n",
    "<details>\n",
    "    <summary>💡Hint</summary>\n",
    "\n",
    "You'll have to reshape the flattened data into an \"image\" of dimension 2\n",
    "</details>"
   ]
  },
  {
   "cell_type": "code",
   "execution_count": 23,
   "metadata": {
    "tags": [
     "challengify"
    ]
   },
   "outputs": [
    {
     "data": {
      "text/plain": [
       "<matplotlib.image.AxesImage at 0x144a34c10>"
      ]
     },
     "execution_count": 23,
     "metadata": {},
     "output_type": "execute_result"
    },
    {
     "data": {
      "image/png": "[encoded data removed]",
      "text/plain": [
       "<Figure size 432x288 with 1 Axes>"
      ]
     },
     "metadata": {
      "needs_background": "light"
     },
     "output_type": "display_data"
    }
   ],
   "source": [
    "plt.imshow(faces.data[12].reshape(50,37), cmap=plt.cm.gray)"
   ]
  },
  {
   "cell_type": "markdown",
   "metadata": {},
   "source": [
    "### 🧪 Test your code"
   ]
  },
  {
   "cell_type": "code",
   "execution_count": 21,
   "metadata": {},
   "outputs": [
    {
     "name": "stdout",
     "output_type": "stream",
     "text": [
      "\u001b[1m============================= test session starts ==============================\u001b[0m\n",
      "platform darwin -- Python 3.8.12, pytest-6.2.5, py-1.11.0, pluggy-1.0.0 -- /Users/humbert/.pyenv/versions/lewagon/bin/python3\n",
      "cachedir: .pytest_cache\n",
      "rootdir: /Users/humbert/code/HumbertMonnot/data-challenges/05-ML/06-Unsupervised-Learning/02-Face-Recognition\n",
      "plugins: anyio-3.4.0, dash-2.0.0\n",
      "\u001b[1mcollecting ... \u001b[0mcollected 1 item\n",
      "\n",
      "tests/test_projection.py::TestProjection::test_shape \u001b[32mPASSED\u001b[0m\u001b[32m              [100%]\u001b[0m\n",
      "\n",
      "\u001b[32m============================== \u001b[32m\u001b[1m1 passed\u001b[0m\u001b[32m in 0.02s\u001b[0m\u001b[32m ===============================\u001b[0m\n",
      "\n",
      "\n",
      "💯 You can commit your code:\n",
      "\n",
      "\u001b[1;32mgit\u001b[39m add tests/projection.pickle\n",
      "\n",
      "\u001b[32mgit\u001b[39m commit -m \u001b[33m'Completed projection step'\u001b[39m\n",
      "\n",
      "\u001b[32mgit\u001b[39m push origin master\n"
     ]
    }
   ],
   "source": [
    "from nbresult import ChallengeResult\n",
    "\n",
    "result = ChallengeResult('projection', shape=data_projected.shape)\n",
    "result.write()\n",
    "print(result.check())"
   ]
  },
  {
   "cell_type": "markdown",
   "metadata": {},
   "source": [
    "👉 (Optional) study the code below which reconstruct the image step by step without `inverse_transform`. \n",
    "\n",
    "Instead, we do manually the multiplication $X_{reconstructed} = X_{projected} W$ with $W$ being the `pca.components_` matrix of 150 PC in rows expressed as linear combination of 1850 pixels in columns\n"
   ]
  },
  {
   "cell_type": "code",
   "execution_count": 22,
   "metadata": {},
   "outputs": [
    {
     "data": {
      "image/png": "[encoded data removed]",
      "text/plain": [
       "<Figure size 360x360 with 2 Axes>"
      ]
     },
     "metadata": {
      "needs_background": "light"
     },
     "output_type": "display_data"
    }
   ],
   "source": [
    "num_dimensions = 150\n",
    "\n",
    "# We do our reconstruction over the 13th image\n",
    "image_original = faces.images[12];\n",
    "image_compressed = data_projected[12];\n",
    "\n",
    "# we start the reconstruction from the mean over all images (feel free to print mean face to check!)\n",
    "image_reconstructed = pca.mean_.copy(); \n",
    "\n",
    "# Then, reconstruct the image by doing the sum of every 150 entry of its compressed representation,\n",
    "# weighted by the corresponding principal components\n",
    "for i in range(num_dimensions):\n",
    "    image_reconstructed += pca.components_[i] * image_compressed[i]\n",
    "    \n",
    "# Plot the original and the compressed image.\n",
    "fig, ax = plt.subplots(1, 2, figsize = (5,5))\n",
    "ax[0].imshow(image_original, cmap=plt.cm.gray)\n",
    "ax[0].set_title('Original Image')\n",
    "ax[1].imshow(image_reconstructed.reshape(faces.images[0].shape), cmap=plt.cm.gray)\n",
    "ax[1].set_title('Compressed reconstructed Image')\n",
    "for ax in fig.axes:\n",
    "    ax.axis('off')\n",
    "plt.tight_layout()"
   ]
  },
  {
   "cell_type": "markdown",
   "metadata": {},
   "source": [
    "## Investigate your Principal Components"
   ]
  },
  {
   "cell_type": "markdown",
   "metadata": {},
   "source": [
    "👉 Image-plot the \"mean\" face of the dataset\n",
    "\n",
    "<details>\n",
    "    <summary>💡Hint</summary>\n",
    "\n",
    "\n",
    "You can use `pca.mean_` or `faces.data.mean(axis=0)`\n",
    "</details>\n"
   ]
  },
  {
   "cell_type": "code",
   "execution_count": 32,
   "metadata": {
    "tags": [
     "challengify"
    ]
   },
   "outputs": [
    {
     "data": {
      "text/plain": [
       "<matplotlib.image.AxesImage at 0x144aa7df0>"
      ]
     },
     "execution_count": 32,
     "metadata": {},
     "output_type": "execute_result"
    },
    {
     "data": {
      "image/png": "[encoded data removed]",
      "text/plain": [
       "<Figure size 432x288 with 1 Axes>"
      ]
     },
     "metadata": {
      "needs_background": "light"
     },
     "output_type": "display_data"
    }
   ],
   "source": [
    "mean_face = (faces.data).mean(axis=0)\n",
    "plt.imshow(mean_face.reshape((50,37)), cmap=plt.cm.gray)"
   ]
  },
  {
   "cell_type": "markdown",
   "metadata": {},
   "source": [
    "👉 Access your first PC. What's its shape? Print it as pd.Series or NDarray. What does each values represents?"
   ]
  },
  {
   "cell_type": "code",
   "execution_count": 35,
   "metadata": {
    "tags": [
     "challengify"
    ]
   },
   "outputs": [
    {
     "data": {
      "text/plain": [
       "array([-0.00681687, -0.00736351, -0.00855025, ..., -0.01404507,\n",
       "       -0.011956  , -0.00964077], dtype=float32)"
      ]
     },
     "execution_count": 35,
     "metadata": {},
     "output_type": "execute_result"
    }
   ],
   "source": [
    "pca.components_[0]"
   ]
  },
  {
   "cell_type": "markdown",
   "metadata": {},
   "source": [
    "Each PC is a flatten \"image\" of 1850 pixels\n",
    "\n",
    "- Your first PC are the most important \"directions\" on of your 1850-dimension dataset.\n",
    "\n",
    "- They are the most important \"linear combination of your 1850 pixels\".\n",
    "\n",
    "- The ones which preserves the most \"variance\" when your dataset of pictures is projected onto it.\n",
    "\n",
    "- The first few PCs are the regions of the 2D pixel grid that bear the most differences between your 1288 images"
   ]
  },
  {
   "cell_type": "markdown",
   "metadata": {},
   "source": [
    "👉 Image-Plot the **5 first** principal components, as well as the **last** one.\n",
    "Do you see more intuitively what PC are? "
   ]
  },
  {
   "cell_type": "code",
   "execution_count": 54,
   "metadata": {
    "tags": [
     "challengify"
    ]
   },
   "outputs": [
    {
     "data": {
      "text/plain": [
       "<matplotlib.image.AxesImage at 0x140692910>"
      ]
     },
     "execution_count": 54,
     "metadata": {},
     "output_type": "execute_result"
    },
    {
     "data": {
      "image/png": "[encoded data removed]",
      "text/plain": [
       "<Figure size 2160x2160 with 6 Axes>"
      ]
     },
     "metadata": {
      "needs_background": "light"
     },
     "output_type": "display_data"
    }
   ],
   "source": [
    "fig, ax = plt.subplots(1, 6, figsize = (30,30))\n",
    "\n",
    "\n",
    "for k in range(5):\n",
    "    ax[k].imshow(pca.components_[k].reshape(50,37), cmap=plt.cm.gray)\n",
    "    ax[k].set_title(f'PC{k+1}')\n",
    "\n",
    "ax[5].imshow(pca.components_[-1].reshape(50,37),cmap=plt.cm.gray)\n",
    "#ax[1].imshow(image_reconstructed.reshape(faces.images[0].shape), cmap=plt.cm.gray)\n",
    "#ax[1].set_title('Compressed reconstructed Image')\n",
    "#for ax in fig.axes:\n",
    "#    ax.axis('off')\n",
    "#plt.tight_layout()"
   ]
  },
  {
   "cell_type": "code",
   "execution_count": 58,
   "metadata": {
    "tags": [
     "challengify"
    ]
   },
   "outputs": [],
   "source": [
    "import numpy as np"
   ]
  },
  {
   "cell_type": "markdown",
   "metadata": {},
   "source": [
    "Every image can be represented by the \"mean face\" plus a linear combination of the 150 \"PC faces\"."
   ]
  },
  {
   "cell_type": "markdown",
   "metadata": {},
   "source": [
    "## How to Choose the Number of Components?\n",
    "\n",
    "In practice, it is very important to find how many components are needed to describe the data without losing too much information. This can be determined visually by plotting the cumulative sum of `explained_variance_ratio_` as a function of the number of components.\n",
    " \n",
    "👉 Plot it below for the first 150 components"
   ]
  },
  {
   "cell_type": "code",
   "execution_count": 59,
   "metadata": {
    "tags": [
     "challengify"
    ]
   },
   "outputs": [
    {
     "data": {
      "text/plain": [
       "[<matplotlib.lines.Line2D at 0x1453c7520>]"
      ]
     },
     "execution_count": 59,
     "metadata": {},
     "output_type": "execute_result"
    },
    {
     "data": {
      "image/png": "[encoded data removed]",
      "text/plain": [
       "<Figure size 432x288 with 1 Axes>"
      ]
     },
     "metadata": {
      "needs_background": "light"
     },
     "output_type": "display_data"
    }
   ],
   "source": [
    "cum_ex_var_ratio = np.cumsum(pca.explained_variance_ratio_)\n",
    "plt.plot(range(1,151),cum_ex_var_ratio)"
   ]
  },
  {
   "cell_type": "markdown",
   "metadata": {},
   "source": [
    "This curve quantifies how much of the total variance is contained within the first components. For example:\n",
    "- The first 20 components contain more than 75% of the variance,\n",
    "- while we need about only 70 components to describe 90% of the variance!"
   ]
  },
  {
   "cell_type": "markdown",
   "metadata": {},
   "source": [
    "**❓ What is the minimal number of components you need to keep to get _at least_ 80% of the variance?  Assign the value to a variable called `minimal_pc_count`**  "
   ]
  },
  {
   "cell_type": "code",
   "execution_count": 64,
   "metadata": {},
   "outputs": [
    {
     "name": "stdout",
     "output_type": "stream",
     "text": [
      "28 0.79769737\n",
      "29 0.80193424\n",
      "30 0.8058234\n",
      "31 0.80953795\n"
     ]
    }
   ],
   "source": [
    "for k, i in zip(range(28,32),cum_ex_var_ratio[28:32]):\n",
    "    print(k, i)"
   ]
  },
  {
   "cell_type": "code",
   "execution_count": 65,
   "metadata": {},
   "outputs": [
    {
     "data": {
      "text/plain": [
       "0.8019342604093254"
      ]
     },
     "execution_count": 65,
     "metadata": {},
     "output_type": "execute_result"
    }
   ],
   "source": [
    "sum(pca.explained_variance_ratio_[:30])"
   ]
  },
  {
   "cell_type": "code",
   "execution_count": 67,
   "metadata": {
    "tags": [
     "challengify"
    ]
   },
   "outputs": [],
   "source": [
    "minimal_pc_count = 30"
   ]
  },
  {
   "cell_type": "markdown",
   "metadata": {},
   "source": [
    "### 🧪 Test your code"
   ]
  },
  {
   "cell_type": "code",
   "execution_count": 68,
   "metadata": {},
   "outputs": [
    {
     "name": "stdout",
     "output_type": "stream",
     "text": [
      "\u001b[1m============================= test session starts ==============================\u001b[0m\n",
      "platform darwin -- Python 3.8.12, pytest-6.2.5, py-1.11.0, pluggy-1.0.0 -- /Users/humbert/.pyenv/versions/lewagon/bin/python3\n",
      "cachedir: .pytest_cache\n",
      "rootdir: /Users/humbert/code/HumbertMonnot/data-challenges/05-ML/06-Unsupervised-Learning/02-Face-Recognition\n",
      "plugins: anyio-3.4.0, dash-2.0.0\n",
      "\u001b[1mcollecting ... \u001b[0mcollected 1 item\n",
      "\n",
      "tests/test_components.py::TestComponents::test_minimal_pc \u001b[32mPASSED\u001b[0m\u001b[32m         [100%]\u001b[0m\n",
      "\n",
      "\u001b[32m============================== \u001b[32m\u001b[1m1 passed\u001b[0m\u001b[32m in 0.01s\u001b[0m\u001b[32m ===============================\u001b[0m\n",
      "\n",
      "\n",
      "💯 You can commit your code:\n",
      "\n",
      "\u001b[1;32mgit\u001b[39m add tests/components.pickle\n",
      "\n",
      "\u001b[32mgit\u001b[39m commit -m \u001b[33m'Completed components step'\u001b[39m\n",
      "\n",
      "\u001b[32mgit\u001b[39m push origin master\n"
     ]
    }
   ],
   "source": [
    "from nbresult import ChallengeResult\n",
    "\n",
    "result = ChallengeResult('components', min_pc = minimal_pc_count)\n",
    "result.write()\n",
    "print(result.check())"
   ]
  },
  {
   "cell_type": "markdown",
   "metadata": {},
   "source": [
    "## Classify images (PCA as feature engineering)\n",
    "\n",
    "You have this dataset of faces and you want to build a face recognition engine to predict `faces.target` which is annotation of every face to the corresponding person (as a number index)\n",
    "\n",
    "You can now use this low-dimensional new transformation you just created, that is still representative of the faces to train your supervised algorithm!"
   ]
  },
  {
   "cell_type": "markdown",
   "metadata": {},
   "source": [
    "### Train test split the face dataset\n",
    "\n",
    "👉 Use the train test split function from scikit to separate __the original faces dataset__ into training and testing set, `X_train`, `X_test`, `y_train`, `y_test`"
   ]
  },
  {
   "cell_type": "code",
   "execution_count": 70,
   "metadata": {
    "tags": [
     "challengify"
    ]
   },
   "outputs": [],
   "source": [
    "from sklearn.model_selection import train_test_split\n",
    "\n",
    "X_train, X_test, y_train, y_test = train_test_split(faces.data, faces.target, test_size=0.3)"
   ]
  },
  {
   "cell_type": "markdown",
   "metadata": {},
   "source": [
    "### Transform your training set to reduce the number of dimensions / features"
   ]
  },
  {
   "cell_type": "markdown",
   "metadata": {},
   "source": [
    "👉 Fit a PCA __over the training data only__ and transform your training data into the reduced dimension (150 features for example)."
   ]
  },
  {
   "cell_type": "code",
   "execution_count": 71,
   "metadata": {
    "tags": [
     "challengify"
    ]
   },
   "outputs": [
    {
     "data": {
      "text/plain": [
       "PCA(n_components=150)"
      ]
     },
     "execution_count": 71,
     "metadata": {},
     "output_type": "execute_result"
    }
   ],
   "source": [
    "pca = PCA(n_components=150)\n",
    "pca.fit(X_train)"
   ]
  },
  {
   "cell_type": "markdown",
   "metadata": {},
   "source": [
    "👉 Using this same PCA (only trained on the training set) transform your testing set as well"
   ]
  },
  {
   "cell_type": "code",
   "execution_count": 72,
   "metadata": {
    "tags": [
     "challengify"
    ]
   },
   "outputs": [
    {
     "data": {
      "text/plain": [
       "array([[-678.5631  ,  706.0305  ,  443.25244 , ...,   18.690767,\n",
       "         -16.77766 ,   17.428436],\n",
       "       [-203.03482 ,   -9.436584,  -83.67801 , ...,  -29.351006,\n",
       "         -18.25771 ,  -20.299728],\n",
       "       [ 270.60037 ,  226.86531 ,  286.7008  , ...,   36.84371 ,\n",
       "          43.915745,    7.691926],\n",
       "       ...,\n",
       "       [ -59.163517, -189.10597 ,  470.67413 , ...,  -21.14841 ,\n",
       "         -38.52356 ,  -26.329433],\n",
       "       [ 476.62524 , -338.3421  , -166.70512 , ...,   14.862846,\n",
       "         -21.471546,   11.414829],\n",
       "       [-429.15686 , -550.45905 ,  327.11957 , ...,   39.708298,\n",
       "          32.14438 ,   58.903206]], dtype=float32)"
      ]
     },
     "execution_count": 72,
     "metadata": {},
     "output_type": "execute_result"
    }
   ],
   "source": [
    "pca.transform(X_train)"
   ]
  },
  {
   "cell_type": "markdown",
   "metadata": {},
   "source": [
    "### Cross validate your choice of best hyperparameters"
   ]
  },
  {
   "cell_type": "markdown",
   "metadata": {},
   "source": [
    "👉 Call a cross validated grid search for an SVM, where you loop over all combinations of\n",
    "\n",
    "- kernels\n",
    "- \"C between 10 and 10000\n",
    "- \"gamma\" between 0.0001 and 0.1\n",
    "\n",
    "👉 Use `n_jobs=-1` to make use of all your core CPUs\n",
    "\n",
    "👉 Use `f1_weighted` as the performance metric"
   ]
  },
  {
   "cell_type": "markdown",
   "metadata": {},
   "source": [
    "<details>\n",
    "    <summary>🔎 Hint </summary>\n",
    "    Remember the task at hand calls for classification, have a look at the <a src=https://scikit-learn.org/stable/modules/generated/sklearn.svm.SVC.html#sklearn.svm.SVC>Support Vector Classification </a> class.\n",
    "</details>"
   ]
  },
  {
   "cell_type": "code",
   "execution_count": 77,
   "metadata": {},
   "outputs": [],
   "source": [
    "svc = SVC()"
   ]
  },
  {
   "cell_type": "code",
   "execution_count": 79,
   "metadata": {},
   "outputs": [
    {
     "data": {
      "text/plain": [
       "{'C': 1.0,\n",
       " 'break_ties': False,\n",
       " 'cache_size': 200,\n",
       " 'class_weight': None,\n",
       " 'coef0': 0.0,\n",
       " 'decision_function_shape': 'ovr',\n",
       " 'degree': 3,\n",
       " 'gamma': 'scale',\n",
       " 'kernel': 'rbf',\n",
       " 'max_iter': -1,\n",
       " 'probability': False,\n",
       " 'random_state': None,\n",
       " 'shrinking': True,\n",
       " 'tol': 0.001,\n",
       " 'verbose': False}"
      ]
     },
     "execution_count": 79,
     "metadata": {},
     "output_type": "execute_result"
    }
   ],
   "source": [
    "svc.get_params()"
   ]
  },
  {
   "cell_type": "code",
   "execution_count": 87,
   "metadata": {},
   "outputs": [],
   "source": [
    "from sklearn.metrics import f1_score, classification_report\n",
    "from sklearn.pipeline import make_pipeline"
   ]
  },
  {
   "cell_type": "code",
   "execution_count": null,
   "metadata": {},
   "outputs": [],
   "source": [
    "search.best_score_"
   ]
  },
  {
   "cell_type": "markdown",
   "metadata": {},
   "source": [
    "👉 Train that cross validation grid search over our newly transformed training set. (Long computation)"
   ]
  },
  {
   "cell_type": "code",
   "execution_count": 161,
   "metadata": {
    "tags": [
     "challengify"
    ]
   },
   "outputs": [
    {
     "data": {
      "text/plain": [
       "GridSearchCV(estimator=SVC(), n_jobs=-1,\n",
       "             param_grid={'C': [10, 100, 1000, 10000],\n",
       "                         'gamma': [0.0001, 0.001, 0.01, 0.1],\n",
       "                         'kernel': ['rbf', 'linear', 'poly']},\n",
       "             scoring='f1_weighted')"
      ]
     },
     "execution_count": 161,
     "metadata": {},
     "output_type": "execute_result"
    }
   ],
   "source": [
    "from sklearn.svm import SVC\n",
    "from sklearn.model_selection import GridSearchCV\n",
    "from sklearn.metrics import f1_score\n",
    "\n",
    "pca = PCA(n_components=150)\n",
    "pca.fit(X_train)\n",
    "\n",
    "grid = {\"kernel\":['rbf','linear','poly'],\n",
    "       \"C\":[10,100,1000,10000],\n",
    "       \"gamma\":[0.0001,0.001,0.01,0.1]}\n",
    "\n",
    "search = GridSearchCV(SVC(),\n",
    "                     grid,\n",
    "                     n_jobs=-1,\n",
    "                     scoring='f1_weighted')\n",
    "\n",
    "search.fit(pca.transform(X_train),y_train)"
   ]
  },
  {
   "cell_type": "code",
   "execution_count": 162,
   "metadata": {},
   "outputs": [
    {
     "data": {
      "text/plain": [
       "SVC(C=10, gamma=0.0001, kernel='linear')"
      ]
     },
     "execution_count": 162,
     "metadata": {},
     "output_type": "execute_result"
    }
   ],
   "source": [
    "new_svc = search.best_estimator_\n",
    "search.best_estimator_"
   ]
  },
  {
   "cell_type": "markdown",
   "metadata": {},
   "source": [
    "👉 Print the [classification report](https://scikit-learn.org/stable/modules/generated/sklearn.metrics.classification_report.html#sklearn.metrics.classification_report) of your best model over the testing set "
   ]
  },
  {
   "cell_type": "code",
   "execution_count": 145,
   "metadata": {},
   "outputs": [
    {
     "name": "stdout",
     "output_type": "stream",
     "text": [
      "              precision    recall  f1-score   support\n",
      "\n",
      "           0       0.65      0.52      0.58        21\n",
      "           1       0.68      0.77      0.72        79\n",
      "           2       0.52      0.46      0.48        35\n",
      "           3       0.74      0.83      0.78       158\n",
      "           4       0.37      0.24      0.29        29\n",
      "           5       0.65      0.69      0.67        16\n",
      "           6       0.72      0.53      0.61        49\n",
      "\n",
      "    accuracy                           0.68       387\n",
      "   macro avg       0.62      0.58      0.59       387\n",
      "weighted avg       0.67      0.68      0.67       387\n",
      "\n"
     ]
    }
   ],
   "source": [
    "print(classification_report(y_test, new_svc.fit(pca.transform(X_train),y_train).predict(pca.transform(X_test))))"
   ]
  },
  {
   "cell_type": "markdown",
   "metadata": {},
   "source": [
    "👉 Try to improve this score with the best choice of PCA components"
   ]
  },
  {
   "cell_type": "markdown",
   "metadata": {},
   "source": [
    "<details>\n",
    "    <summary>💡 Hint</summary>\n",
    "    \n",
    "- Try to pipeline your preprocessing (PCA) and your modelling (SVC)\n",
    "- A pipeline is an instance of Scikit-Learn `Estimator` which hyperparameters can be grid searched\n",
    "- Consider `n_components` as an hyperparameter of your pipeline!\n",
    "    \n",
    "</details>"
   ]
  },
  {
   "cell_type": "code",
   "execution_count": 164,
   "metadata": {
    "tags": [
     "challengify"
    ]
   },
   "outputs": [],
   "source": [
    "pca = PCA()\n",
    "pipe = make_pipeline(pca, new_svc)"
   ]
  },
  {
   "cell_type": "markdown",
   "metadata": {},
   "source": [
    "**❓ How many components give the best score?  Assign the value to a variable called `best_n_components`**"
   ]
  },
  {
   "cell_type": "code",
   "execution_count": 165,
   "metadata": {
    "tags": [
     "challengify"
    ]
   },
   "outputs": [
    {
     "data": {
      "text/plain": [
       "({'pca__n_components': 300}, 0.8094156389943704)"
      ]
     },
     "execution_count": 165,
     "metadata": {},
     "output_type": "execute_result"
    }
   ],
   "source": [
    "#'pca__n_components'\n",
    "\n",
    "comp_search = GridSearchCV(pipe, param_grid={\"pca__n_components\":[79,100,125,150,175,200,225,300]},\n",
    "                           n_jobs=-1,\n",
    "                     scoring='f1_weighted')\n",
    "\n",
    "comp_search.fit(X_train,y_train)\n",
    "comp_search.best_params_, comp_search.best_score_"
   ]
  },
  {
   "cell_type": "code",
   "execution_count": 155,
   "metadata": {},
   "outputs": [
    {
     "name": "stdout",
     "output_type": "stream",
     "text": [
      "{'mean_fit_time': array([0.27997499, 0.25238099, 0.26220789, 0.29683366, 0.35280786,\n",
      "       0.37819223, 0.38505731, 0.41397448]), 'std_fit_time': array([0.00284539, 0.02376436, 0.00270414, 0.01446676, 0.0080424 ,\n",
      "       0.01444162, 0.00455118, 0.01506091]), 'mean_score_time': array([0.01219831, 0.01306915, 0.01629829, 0.01821308, 0.0251008 ,\n",
      "       0.02009854, 0.01819301, 0.01389117]), 'std_score_time': array([0.00054459, 0.00082849, 0.00037575, 0.00312943, 0.00607897,\n",
      "       0.0017095 , 0.00284174, 0.00138417]), 'param_pca__n_components': masked_array(data=[79, 100, 125, 150, 175, 200, 225, 300],\n",
      "             mask=[False, False, False, False, False, False, False, False],\n",
      "       fill_value='?',\n",
      "            dtype=object), 'params': [{'pca__n_components': 79}, {'pca__n_components': 100}, {'pca__n_components': 125}, {'pca__n_components': 150}, {'pca__n_components': 175}, {'pca__n_components': 200}, {'pca__n_components': 225}, {'pca__n_components': 300}], 'split0_test_score': array([0.65655126, 0.66400591, 0.65721147, 0.66699918, 0.67728236,\n",
      "       0.67021431, 0.65564784, 0.64780227]), 'split1_test_score': array([0.64394249, 0.64221063, 0.64209435, 0.65190304, 0.64958718,\n",
      "       0.63983471, 0.63983471, 0.63223817]), 'split2_test_score': array([0.61310124, 0.62758599, 0.62760118, 0.62571618, 0.62447443,\n",
      "       0.62345638, 0.61854052, 0.60664459]), 'split3_test_score': array([0.66610157, 0.6807795 , 0.64804772, 0.65743633, 0.64136533,\n",
      "       0.62689775, 0.61948045, 0.62377145]), 'split4_test_score': array([0.64029717, 0.63395677, 0.62270843, 0.62169305, 0.62186301,\n",
      "       0.60804888, 0.60804888, 0.60970647]), 'mean_test_score': array([0.64399875, 0.64970776, 0.63953263, 0.64474956, 0.64291446,\n",
      "       0.63369041, 0.62831048, 0.62403259]), 'std_test_score': array([0.0179692 , 0.01981698, 0.01278299, 0.01789438, 0.0200563 ,\n",
      "       0.02088115, 0.01711194, 0.01509952]), 'rank_test_score': array([3, 1, 5, 2, 4, 6, 7, 8], dtype=int32)}\n"
     ]
    }
   ],
   "source": [
    "print(comp_search.cv_results_)"
   ]
  },
  {
   "cell_type": "markdown",
   "metadata": {},
   "source": [
    "### 🧪 Test your code"
   ]
  },
  {
   "cell_type": "code",
   "execution_count": 133,
   "metadata": {},
   "outputs": [
    {
     "name": "stdout",
     "output_type": "stream",
     "text": [
      "\u001b[1m============================= test session starts ==============================\u001b[0m\n",
      "platform darwin -- Python 3.8.12, pytest-6.2.5, py-1.11.0, pluggy-1.0.0 -- /Users/humbert/.pyenv/versions/lewagon/bin/python3\n",
      "cachedir: .pytest_cache\n",
      "rootdir: /Users/humbert/code/HumbertMonnot/data-challenges/05-ML/06-Unsupervised-Learning/02-Face-Recognition\n",
      "plugins: anyio-3.4.0, dash-2.0.0\n",
      "\u001b[1mcollecting ... \u001b[0mcollected 1 item\n",
      "\n",
      "tests/test_classification.py::TestClassification::test_best_pc_number \u001b[31mFAILED\u001b[0m\u001b[31m [100%]\u001b[0m\n",
      "\n",
      "=================================== FAILURES ===================================\n",
      "\u001b[31m\u001b[1m____________________ TestClassification.test_best_pc_number ____________________\u001b[0m\n",
      "\n",
      "self = <tests.test_classification.TestClassification testMethod=test_best_pc_number>\n",
      "\n",
      "    \u001b[94mdef\u001b[39;49;00m \u001b[92mtest_best_pc_number\u001b[39;49;00m(\u001b[96mself\u001b[39;49;00m):\n",
      ">       \u001b[96mself\u001b[39;49;00m.assertGreater(\u001b[96mself\u001b[39;49;00m.result.best_pc, \u001b[94m200\u001b[39;49;00m)\n",
      "\u001b[1m\u001b[31mE       AssertionError: 100 not greater than 200\u001b[0m\n",
      "\n",
      "\u001b[1m\u001b[31mtests/test_classification.py\u001b[0m:6: AssertionError\n",
      "=========================== short test summary info ============================\n",
      "FAILED tests/test_classification.py::TestClassification::test_best_pc_number\n",
      "\u001b[31m============================== \u001b[31m\u001b[1m1 failed\u001b[0m\u001b[31m in 0.20s\u001b[0m\u001b[31m ===============================\u001b[0m\n",
      "\n"
     ]
    }
   ],
   "source": [
    "from nbresult import ChallengeResult\n",
    "\n",
    "result = ChallengeResult('classification', best_pc=best_n_components)\n",
    "result.write()\n",
    "print(result.check())"
   ]
  },
  {
   "cell_type": "markdown",
   "metadata": {},
   "source": [
    "🏁 **Congratulation! Don't forget to commit and push your notebook**"
   ]
  }
 ],
 "metadata": {
  "kernelspec": {
   "display_name": "Python 3 (ipykernel)",
   "language": "python",
   "name": "python3"
  },
  "language_info": {
   "codemirror_mode": {
    "name": "ipython",
    "version": 3
   },
   "file_extension": ".py",
   "mimetype": "text/x-python",
   "name": "python",
   "nbconvert_exporter": "python",
   "pygments_lexer": "ipython3",
   "version": "3.8.12"
  },
  "toc": {
   "base_numbering": 1,
   "nav_menu": {},
   "number_sections": true,
   "sideBar": true,
   "skip_h1_title": false,
   "title_cell": "Table of Contents",
   "title_sidebar": "Contents",
   "toc_cell": false,
   "toc_position": {},
   "toc_section_display": true,
   "toc_window_display": false
  }
 },
 "nbformat": 4,
 "nbformat_minor": 2
}
